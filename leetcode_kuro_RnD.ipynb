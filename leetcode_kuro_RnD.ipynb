{
  "cells": [
    {
      "cell_type": "markdown",
      "metadata": {
        "colab_type": "text",
        "id": "view-in-github"
      },
      "source": [
        "<a href=\"https://colab.research.google.com/github/SouvikDcoder/Leetcode-Solutions/blob/main/leetcode_kuro_RnD.ipynb\" target=\"_parent\"><img src=\"https://colab.research.google.com/assets/colab-badge.svg\" alt=\"Open In Colab\"/></a>"
      ]
    },
    {
      "cell_type": "code",
      "execution_count": null,
      "metadata": {
        "colab": {
          "base_uri": "https://localhost:8080/"
        },
        "id": "aHf-peBvEVYn",
        "outputId": "3b5c8281-7ce0-4896-fef1-4a93589ce1fa"
      },
      "outputs": [
        {
          "name": "stdout",
          "output_type": "stream",
          "text": [
            "[-2, 1]\n",
            "-1\n",
            "less\n",
            "[-2]\n",
            "-2\n",
            "[-2]\n",
            "[-2, 1]\n",
            "-1\n"
          ]
        }
      ],
      "source": [
        "#nums = [-2,1,-3,4,-1,2,1,-5,4]\n",
        "nums = [-2,1]\n",
        "print(nums)\n",
        "print(sum(nums))\n",
        "all_sum = sum(nums)\n",
        "sum_val = 0\n",
        "new_nums_1 = []\n",
        "sum_list = []\n",
        "if sum(nums)<0:\n",
        "  print('less')\n",
        "  for i in range(0,len(nums)):\n",
        "      sum_val += nums[i]\n",
        "      new_nums_1.append(nums[i])\n",
        "      print(new_nums_1)\n",
        "      print(sum_val)\n",
        "      if sum_val<all_sum :\n",
        "          sum_list.append(sum_val)\n",
        "          print(sum_list)\n",
        "          continue\n",
        "      elif sum_val<max(nums):\n",
        "          sum_val = 0\n",
        "          new_nums_1 = []\n",
        "      else :\n",
        "          sum_val = 0\n",
        "          new_nums_1 = []"
      ]
    },
    {
      "cell_type": "code",
      "execution_count": null,
      "metadata": {
        "colab": {
          "base_uri": "https://localhost:8080/"
        },
        "id": "2M9CNizFIPcn",
        "outputId": "451339fc-843b-4fda-c690-33e4034d37bb"
      },
      "outputs": [
        {
          "name": "stdout",
          "output_type": "stream",
          "text": [
            "[-2, 1]\n",
            "-1\n",
            "Less than 0 condition\n",
            "[-2]\n",
            "-2\n",
            "Less than 0 condition\n",
            "[-2]\n"
          ]
        }
      ],
      "source": [
        "#nums = [-2,1,-3,4,-1,2,1,-5,4]\n",
        "nums = [-2,1]\n",
        "print(nums)\n",
        "print(sum(nums))\n",
        "all_sum = sum(nums)\n",
        "sum_val = 0\n",
        "new_nums_temp = []\n",
        "sum_list = []\n",
        "for i in range(0,len(nums)):\n",
        "  #print(nums[i])\n",
        "  sum_val+=nums[i]\n",
        "  new_nums_temp.append(nums[i])\n",
        "  if sum(nums)>0:\n",
        "    if sum_val>sum(nums):\n",
        "      print(new_nums_temp)\n",
        "      print(sum(new_nums_temp))\n",
        "      sum_list.append(sum(new_nums_temp))\n",
        "      continue\n",
        "    else:\n",
        "      sum_val = 0\n",
        "      new_nums_temp = []\n",
        "  elif sum(nums)<0:\n",
        "    print(\"Less than 0 condition\")\n",
        "    if sum_val<sum(nums):\n",
        "      print(new_nums_temp)\n",
        "      print(sum(new_nums_temp))\n",
        "      sum_list.append(sum(new_nums_temp))\n",
        "      continue\n",
        "    else:\n",
        "      sum_val = 0\n",
        "      new_nums_temp = []\n",
        "\n",
        "print(sum_list)"
      ]
    },
    {
      "cell_type": "code",
      "execution_count": null,
      "metadata": {
        "id": "45UOu-M2DTPT"
      },
      "outputs": [],
      "source": [
        "nums = [0,1,0,3,12]\n",
        "print(nums)\n",
        "zero_cnt = nums.count(0)\n",
        "while(zero_cnt>0):\n",
        "  print(\"While loop\")\n",
        "  for val in nums:\n",
        "    while (val==0):\n",
        "      for i in range(1,len(nums)):\n",
        "        val1 = nums[i-1]\n",
        "        nums[i-1]=nums[i]\n",
        "        nums[i]=val1\n",
        "      print(nums)\n",
        "  zero_cnt-=1"
      ]
    },
    {
      "cell_type": "code",
      "execution_count": null,
      "metadata": {
        "colab": {
          "base_uri": "https://localhost:8080/"
        },
        "id": "yYv5TBxXHTZy",
        "outputId": "94d21430-c4d8-4864-ca2d-5b182f98aaec"
      },
      "outputs": [
        {
          "name": "stdout",
          "output_type": "stream",
          "text": [
            "[0, 1, 0, 3, 12]\n",
            "[1, 3, 12, 0, 0]\n"
          ]
        }
      ],
      "source": [
        "nums = [0,1,0,3,12]\n",
        "print(nums)\n",
        "for val in nums:\n",
        "  if val == 0 :\n",
        "    nums.append(0)\n",
        "    nums.pop(nums.index(val))\n",
        "print(nums)"
      ]
    },
    {
      "cell_type": "code",
      "execution_count": null,
      "metadata": {
        "id": "cVjCyewcKEKO"
      },
      "outputs": [],
      "source": [
        "#prices = [7,6,4,3,1]\n",
        "prices = [7,1,5,3,6,4]\n",
        "total_profit = 0\n",
        "print(prices)\n",
        "min_index_prices = prices.index(min(prices))\n",
        "print(min_index_prices)\n",
        "print(prices[min_index_prices:])\n",
        "min2 = prices.index(min(prices[min_index_prices+1:]))\n",
        "print(min2)\n",
        "for i in range(min_index_prices,min2-1):\n",
        "  print(prices[i])\n",
        "  total_profit+=prices[i+1] - prices[i]\n",
        "\n",
        "print(total_profit)\n",
        "# for i in range(prices[min_index_prices:]):\n",
        "#   min_price="
      ]
    },
    {
      "cell_type": "code",
      "execution_count": null,
      "metadata": {
        "colab": {
          "base_uri": "https://localhost:8080/"
        },
        "id": "WZsi-ESGpPUE",
        "outputId": "ce06f9b5-14a5-4971-cc81-c771ef6f8bbf"
      },
      "outputs": [
        {
          "name": "stdout",
          "output_type": "stream",
          "text": [
            "[7, 1, 5, 3, 6, 4]\n",
            "There is a chance of profit\n",
            "1\n",
            "5\n",
            "3\n",
            "6\n",
            "4\n"
          ]
        }
      ],
      "source": [
        "prices = [7,1,5,3,6,4]\n",
        "print(prices)\n",
        "min_index_prices = prices.index(min(prices))\n",
        "if min_index_prices<len(prices):\n",
        "  print(\"There is a chance of profit\")\n",
        "  for i in range (min_index_prices,len(prices)-1):\n",
        "    print(prices[i])\n",
        "    "
      ]
    },
    {
      "cell_type": "code",
      "execution_count": null,
      "metadata": {
        "colab": {
          "base_uri": "https://localhost:8080/"
        },
        "id": "tP9IRaqbv4v4",
        "outputId": "a2dac122-b950-462a-cff3-865dd1228b4f"
      },
      "outputs": [
        {
          "name": "stdout",
          "output_type": "stream",
          "text": [
            "[1, 2, 3, 4, 5, 6, 7]\n",
            "[1, 2, 3]\n",
            "[5, 6, 7, 1, 2, 3, 4]\n"
          ]
        }
      ],
      "source": [
        "nums= [1,2,3,4,5,6,7]\n",
        "#nums = [-1,-100,3,99]\n",
        "print(nums)\n",
        "k = 3\n",
        "print(nums[:k])\n",
        "# for i in range(0,k+1):\n",
        "#   nums.append(nums[i])\n",
        "#   #nums.pop(nums.index(nums[i]))\n",
        "for val in nums[:k+1]:\n",
        "  nums.append(val)\n",
        "  nums.pop(nums.index(val))\n",
        "\n",
        "print(nums)\n"
      ]
    },
    {
      "cell_type": "code",
      "execution_count": null,
      "metadata": {
        "colab": {
          "base_uri": "https://localhost:8080/"
        },
        "id": "n7yLi8hby0vG",
        "outputId": "5c3290f9-8c93-4da1-8ed2-4f33dc83edb2"
      },
      "outputs": [
        {
          "name": "stdout",
          "output_type": "stream",
          "text": [
            "[1, 1, 1, 3, 3, 4, 3, 2, 4, 2]\n",
            "[1, 1, 1, 3, 3, 4, 3, 2, 4, 2]\n",
            "Value is there\n",
            "[1, 1, 3, 3, 4, 3, 2, 4, 2]\n",
            "Value is there\n",
            "[1, 3, 3, 4, 3, 2, 4, 2]\n",
            "Value is there\n",
            "[3, 3, 4, 3, 2, 4, 2]\n",
            "Value is there\n",
            "[3, 4, 3, 2, 4, 2]\n",
            "Value is there\n",
            "[4, 3, 2, 4, 2]\n",
            "Value is there\n",
            "[3, 2, 4, 2]\n",
            "Value is there\n",
            "[2, 4, 2]\n",
            "Value is there\n",
            "[4, 2]\n",
            "Value is there\n",
            "[2]\n",
            "Value is there\n"
          ]
        }
      ],
      "source": [
        "nums = [1,1,1,3,3,4,3,2,4,2]\n",
        "print(nums)\n",
        "for i in range(0,len(nums)):\n",
        "  print(nums[i:])\n",
        "  if nums[i] in nums[i:]:\n",
        "    print(\"Value is there\")\n",
        "    #return True\n",
        "  else:\n",
        "    print(\"Value is not there\")\n",
        "    #return False"
      ]
    },
    {
      "cell_type": "code",
      "execution_count": null,
      "metadata": {
        "colab": {
          "base_uri": "https://localhost:8080/"
        },
        "id": "vt1MTw8u07of",
        "outputId": "1c0afe7b-5dd6-445f-c736-a75b26f4a764"
      },
      "outputs": [
        {
          "name": "stdout",
          "output_type": "stream",
          "text": [
            "[2, 14, 18, 22, 22]\n",
            "[14, 18, 22, 22]\n",
            "Value is not there\n",
            "[18, 22, 22]\n",
            "Value is not there\n",
            "[22, 22]\n",
            "Value is not there\n",
            "[22]\n",
            "Value is there\n",
            "[]\n",
            "Value is not there\n"
          ]
        }
      ],
      "source": [
        "nums = [2,14,18,22,22]\n",
        "print(nums)\n",
        "for i in range(0,len(nums)):\n",
        "  print(nums[i+1:])\n",
        "  if nums[i] in nums[i+1:]:\n",
        "    print(\"Value is there\")\n",
        "    #return True\n",
        "  else:\n",
        "    print(\"Value is not there\")\n",
        "    #return False"
      ]
    },
    {
      "cell_type": "code",
      "execution_count": null,
      "metadata": {
        "colab": {
          "base_uri": "https://localhost:8080/"
        },
        "id": "9aCeJEILqpN9",
        "outputId": "c481bfaf-7fb1-4936-87ff-2740d3e91c68"
      },
      "outputs": [
        {
          "name": "stdout",
          "output_type": "stream",
          "text": [
            "['eat', 'tea', 'tan', 'ate', 'nat', 'bat']\n",
            "['eat', 'tea', 'ate', 'tan', 'nat']\n",
            "[]\n"
          ]
        }
      ],
      "source": [
        "strs = [\"eat\",\"tea\",\"tan\",\"ate\",\"nat\",\"bat\"]\n",
        "print(strs)\n",
        "final_ana_arr = []\n",
        "temp_ana_arr = []\n",
        "for i in range(len(strs)) :\n",
        "  #print(\"*********************\")\n",
        "  # if temp_ana_arr != []:\n",
        "  #   final_ana_arr.append(temp_ana_arr)\n",
        "  #   temp_ana_arr=[]\n",
        "  for val in strs[i+1:]:\n",
        "    #print(val)\n",
        "    if strs[i] not in temp_ana_arr:\n",
        "      temp_ana_arr.append(strs[i])\n",
        "    if strs[i]!=val and sorted(val)==sorted(strs[i]):\n",
        "      #print(\"anagram\")\n",
        "      if val not in temp_ana_arr:\n",
        "        temp_ana_arr.append(val)\n",
        "      # if strs[i] not in temp_ana_arr:\n",
        "      #   temp_ana_arr.append(strs[i])\n",
        "      # elif val not in temp_ana_arr:\n",
        "      #     temp_ana_arr.append(val)\n",
        "    else:\n",
        "      continue\n",
        "      print(\"*********************\")\n",
        "      print(\"not anagram\")\n",
        "      final_ana_arr.append(temp_ana_arr)\n",
        "      temp_ana_arr=[]\n",
        "\n",
        "print(temp_ana_arr)\n",
        "print(final_ana_arr)\n",
        "\n",
        "  # if strs[i][::-1] in  strs[i+1:]:\n",
        "  #   temp_ana_arr.append(strs[i])\n",
        "  #   temp_ana_arr.append(strs[i][::-1])\n",
        "  # else:\n",
        "  #   if temp_ana_arr!=[]:\n",
        "  #     final_ana_arr.append(temp_ana_arr)\n",
        "  #     temp_ana_arr = []\n",
        "\n",
        "#print(final_ana_arr)"
      ]
    },
    {
      "cell_type": "code",
      "execution_count": null,
      "metadata": {
        "id": "U8FLwp9_pnm2"
      },
      "outputs": [],
      "source": [
        "strs = [\"eat\",\"tea\",\"tan\",\"ate\",\"nat\",\"bat\"]\n",
        "print(strs)\n",
        "final_ana_arr = []\n",
        "temp_ana_arr = []\n",
        "for i in range(len(strs)) :\n",
        "  #print(\"*********************\")\n",
        "  # if temp_ana_arr != []:\n",
        "  #   final_ana_arr.append(temp_ana_arr)\n",
        "  #   temp_ana_arr=[]\n",
        "  for val in strs[i+1:]:\n",
        "    #print(val)\n",
        "    if strs[i] not in temp_ana_arr:\n",
        "      temp_ana_arr.append(strs[i])\n",
        "    if strs[i]!=val and sorted(val)==sorted(strs[i]):\n",
        "      #print(\"anagram\")\n",
        "      if val not in temp_ana_arr:\n",
        "        temp_ana_arr.append(val)\n",
        "      # if strs[i] not in temp_ana_arr:\n",
        "      #   temp_ana_arr.append(strs[i])\n",
        "      # elif val not in temp_ana_arr:\n",
        "      #     temp_ana_arr.append(val)\n",
        "    else:\n",
        "      continue\n",
        "      print(\"*********************\")\n",
        "      print(\"not anagram\")\n",
        "      final_ana_arr.append(temp_ana_arr)\n",
        "      temp_ana_arr=[]\n",
        "\n",
        "print(temp_ana_arr)\n",
        "print(final_ana_arr)\n",
        "\n",
        "  # if strs[i][::-1] in  strs[i+1:]:\n",
        "  #   temp_ana_arr.append(strs[i])\n",
        "  #   temp_ana_arr.append(strs[i][::-1])\n",
        "  # else:\n",
        "  #   if temp_ana_arr!=[]:\n",
        "  #     final_ana_arr.append(temp_ana_arr)\n",
        "  #     temp_ana_arr = []\n",
        "\n",
        "#print(final_ana_arr)"
      ]
    },
    {
      "cell_type": "code",
      "execution_count": null,
      "metadata": {
        "colab": {
          "base_uri": "https://localhost:8080/"
        },
        "id": "Tjf2p9pIrXTS",
        "outputId": "0ce49007-6d47-4a41-8a6e-0b595fc17f66"
      },
      "outputs": [
        {
          "name": "stdout",
          "output_type": "stream",
          "text": [
            "['tea', 'tan', 'ate', 'nat', 'bat']\n"
          ]
        }
      ],
      "source": [
        "strs = [\"eat\",\"tea\",\"tan\",\"ate\",\"nat\",\"bat\"]\n",
        "print(strs[1:])"
      ]
    },
    {
      "cell_type": "code",
      "execution_count": null,
      "metadata": {
        "colab": {
          "base_uri": "https://localhost:8080/"
        },
        "id": "_jxI7Esitai2",
        "outputId": "c2b83e35-e1f7-4722-b1e0-54d65c125407"
      },
      "outputs": [
        {
          "name": "stdout",
          "output_type": "stream",
          "text": [
            "['eat', 'tea', 'tan', 'ate', 'nat', 'bat']\n",
            "[['eat'], ['eat', 'eat'], ['eat', 'eat'], ['eat'], ['tea', 'tea'], ['tea'], ['tea', 'tea'], ['tea'], ['tan'], ['tan'], ['tan'], ['tan'], ['tan', 'tan'], ['ate', 'ate', 'ate'], ['ate'], ['ate'], ['ate'], ['nat'], ['nat'], ['nat', 'nat'], ['nat'], ['nat'], ['bat'], ['bat'], ['bat'], ['bat'], ['bat'], ['bat']]\n"
          ]
        }
      ],
      "source": [
        "strs = [\"eat\",\"tea\",\"tan\",\"ate\",\"nat\",\"bat\"]\n",
        "print(strs)\n",
        "final_ana_arr = []\n",
        "temp_ana_arr = []\n",
        "for word_1 in strs: \n",
        "    for word_2 in strs: \n",
        "        if word_1 != word_2 and (sorted(word_1)==sorted(word_2)):\n",
        "            temp_ana_arr.append(word_1)\n",
        "        else:\n",
        "            temp_ana_arr.append(word_1)\n",
        "            final_ana_arr.append(temp_ana_arr)\n",
        "            temp_ana_arr=[]\n",
        "print(final_ana_arr)"
      ]
    },
    {
      "cell_type": "code",
      "execution_count": null,
      "metadata": {
        "colab": {
          "base_uri": "https://localhost:8080/"
        },
        "id": "HaQalQnGptEq",
        "outputId": "97033857-40d1-4372-83eb-7a34f3734f06"
      },
      "outputs": [
        {
          "name": "stdout",
          "output_type": "stream",
          "text": [
            "['eat', 'tea', 'tan', 'ate', 'nat', 'bat']\n",
            "eat\n",
            "*********************\n",
            "[]\n",
            "[['eat', 'tea', 'ate']]\n",
            "['eat', 'tea', 'ate']\n",
            "*********************\n",
            "[]\n",
            "[['eat', 'tea', 'ate']]\n",
            "['eat', 'tea', 'ate']\n",
            "tan\n",
            "*********************\n",
            "[]\n",
            "[['eat', 'tea', 'ate'], ['tan', 'nat']]\n",
            "['tan', 'nat']\n",
            "ate\n",
            "*********************\n",
            "[]\n",
            "[['eat', 'tea', 'ate'], ['tan', 'nat'], ['ate']]\n",
            "['ate']\n",
            "nat\n",
            "*********************\n",
            "[]\n",
            "[['eat', 'tea', 'ate'], ['tan', 'nat'], ['ate'], ['nat']]\n",
            "['nat']\n",
            "bat\n",
            "*********************\n",
            "[]\n",
            "[['eat', 'tea', 'ate'], ['tan', 'nat'], ['ate'], ['nat'], []]\n",
            "[]\n"
          ]
        }
      ],
      "source": [
        "strs = [\"eat\",\"tea\",\"tan\",\"ate\",\"nat\",\"bat\"]\n",
        "print(strs)\n",
        "final_ana_arr = []\n",
        "temp_ana_arr = []\n",
        "checked_vals = []\n",
        "for i in range(len(strs)) :\n",
        "  #print(\"*********************\")\n",
        "  # if temp_ana_arr != []:\n",
        "  #   final_ana_arr.append(temp_ana_arr)\n",
        "  #   temp_ana_arr=[]\n",
        "  # print(strs[i+1:])\n",
        "  # print(temp_ana_arr)\n",
        "  # print(final_ana_arr)\n",
        "  if strs[i] not in checked_vals:\n",
        "    print(strs[i])\n",
        "    for val in strs[i+1:]:\n",
        "      #print(val)\n",
        "      if strs[i] not in temp_ana_arr:\n",
        "        temp_ana_arr.append(strs[i])\n",
        "      if strs[i]!=val and sorted(val)==sorted(strs[i]):\n",
        "        #print(\"anagram\")\n",
        "        if val not in temp_ana_arr:\n",
        "          temp_ana_arr.append(val)\n",
        "        # if strs[i] not in temp_ana_arr:\n",
        "        #   temp_ana_arr.append(strs[i])\n",
        "        # elif val not in temp_ana_arr:\n",
        "        #     temp_ana_arr.append(val)\n",
        "      else:\n",
        "        \n",
        "        continue\n",
        "        print(\"*********************\")\n",
        "        print(\"not anagram\")\n",
        "        final_ana_arr.append(temp_ana_arr)\n",
        "        temp_ana_arr=[]\n",
        "    final_ana_arr.append(temp_ana_arr)\n",
        "    checked_vals = temp_ana_arr\n",
        "    temp_ana_arr=[]\n",
        "  \n",
        "\n",
        "  print(\"*********************\")\n",
        "  print(temp_ana_arr)\n",
        "  print(final_ana_arr)\n",
        "  print(checked_vals)\n",
        "\n",
        "def check_if_element_present(self,val1,temp_ana_arr):\n",
        "  if val1 in temp_ana_arr:\n",
        "    return True\n",
        "  else:\n",
        "    return False\n",
        "\n"
      ]
    },
    {
      "cell_type": "code",
      "execution_count": null,
      "metadata": {
        "colab": {
          "base_uri": "https://localhost:8080/"
        },
        "id": "bqhFqKlocERR",
        "outputId": "45a8f99e-d2f3-447f-9a7a-b557c498bf3d"
      },
      "outputs": [
        {
          "name": "stdout",
          "output_type": "stream",
          "text": [
            "['eat', 'tea', 'tan', 'ate', 'nat', 'bat']\n",
            "*******\n",
            "tea\n",
            "anagram\n",
            "not anagram\n",
            "ate\n",
            "anagram\n",
            "not anagram\n",
            "not anagram\n",
            "[]\n",
            "['eat', 'tea', 'ate']\n",
            "[['eat', 'tea', 'ate']]\n",
            "*******\n",
            "*******\n",
            "not anagram\n",
            "nat\n",
            "anagram\n",
            "not anagram\n",
            "[]\n",
            "['eat', 'tea', 'ate', 'tan', 'nat']\n",
            "[['eat', 'tea', 'ate'], ['tan', 'nat']]\n",
            "*******\n",
            "*******\n",
            "*******\n",
            "[]\n",
            "['eat', 'tea', 'ate', 'tan', 'nat', 'bat']\n",
            "[['eat', 'tea', 'ate'], ['tan', 'nat'], ['bat']]\n"
          ]
        }
      ],
      "source": [
        "#strs=[\"\",\"\"]\n",
        "#strs=[\"\"]\n",
        "strs = [\"eat\",\"tea\",\"tan\",\"ate\",\"nat\",\"bat\"]\n",
        "print(strs)\n",
        "final_ana_arr = []\n",
        "temp_ana_arr = []\n",
        "checked_vals = []\n",
        "for i in range(len(strs)) :\n",
        "  print(\"*******\")\n",
        "  if strs[i] not in checked_vals:\n",
        "    temp_ana_arr.append(strs[i])\n",
        "    checked_vals.append(strs[i])\n",
        "    for val in strs[i+1:]:\n",
        "      if strs[i]==val:\n",
        "        print(val)\n",
        "        print(\"anagram\")\n",
        "        temp_ana_arr.append(val)\n",
        "        checked_vals.append(val)\n",
        "      elif strs[i]!=val and sorted(val)==sorted(strs[i]):\n",
        "        print(val)\n",
        "        print(\"anagram\")\n",
        "        temp_ana_arr.append(val)\n",
        "        checked_vals.append(val)\n",
        "      else:\n",
        "        print(\"not anagram\")\n",
        "    if temp_ana_arr!=[]:\n",
        "      final_ana_arr.append(temp_ana_arr)\n",
        "      temp_ana_arr=[]\n",
        "    print(temp_ana_arr)\n",
        "    print(checked_vals)\n",
        "    print(final_ana_arr)"
      ]
    },
    {
      "cell_type": "code",
      "execution_count": null,
      "metadata": {
        "colab": {
          "base_uri": "https://localhost:8080/",
          "height": 249
        },
        "id": "cm1UeUeRkzDs",
        "outputId": "1b860d09-c8f7-4350-c9f2-e893cd24958e"
      },
      "outputs": [
        {
          "name": "stdout",
          "output_type": "stream",
          "text": [
            "[3, 3]\n"
          ]
        },
        {
          "ename": "IndexError",
          "evalue": "ignored",
          "output_type": "error",
          "traceback": [
            "\u001b[0;31m---------------------------------------------------------------------------\u001b[0m",
            "\u001b[0;31mIndexError\u001b[0m                                Traceback (most recent call last)",
            "\u001b[0;32m<ipython-input-16-f97f9eaf011f>\u001b[0m in \u001b[0;36m<module>\u001b[0;34m()\u001b[0m\n\u001b[1;32m      6\u001b[0m \u001b[0;34m\u001b[0m\u001b[0m\n\u001b[1;32m      7\u001b[0m \u001b[0;32mfor\u001b[0m \u001b[0mi\u001b[0m \u001b[0;32min\u001b[0m \u001b[0mnums\u001b[0m\u001b[0;34m:\u001b[0m\u001b[0;34m\u001b[0m\u001b[0;34m\u001b[0m\u001b[0m\n\u001b[0;32m----> 8\u001b[0;31m   \u001b[0;32mif\u001b[0m \u001b[0mnums\u001b[0m\u001b[0;34m[\u001b[0m\u001b[0mi\u001b[0m\u001b[0;34m]\u001b[0m\u001b[0;34m>\u001b[0m\u001b[0;36m1\u001b[0m\u001b[0;34m:\u001b[0m\u001b[0;34m\u001b[0m\u001b[0;34m\u001b[0m\u001b[0m\n\u001b[0m\u001b[1;32m      9\u001b[0m     \u001b[0mduplicate_present\u001b[0m \u001b[0;34m=\u001b[0m \u001b[0;32mTrue\u001b[0m\u001b[0;34m\u001b[0m\u001b[0;34m\u001b[0m\u001b[0m\n\u001b[1;32m     10\u001b[0m   \u001b[0;32melse\u001b[0m\u001b[0;34m:\u001b[0m\u001b[0;34m\u001b[0m\u001b[0;34m\u001b[0m\u001b[0m\n",
            "\u001b[0;31mIndexError\u001b[0m: list index out of range"
          ]
        }
      ],
      "source": [
        "#nums = [1,1,1,3,3,4,3,2,4,2]\n",
        "nums=[3,3]\n",
        "print(nums)\n",
        "duplicate_present = False\n",
        "#return True for i in nums if nums[i]>1\n",
        "\n",
        "for i in nums:\n",
        "  if nums[i]>1:\n",
        "    duplicate_present = True\n",
        "  else:\n",
        "    continue\n",
        "    duplicate_present = False\n",
        "\n",
        "\n",
        "print(duplicate_present)\n"
      ]
    },
    {
      "cell_type": "code",
      "execution_count": null,
      "metadata": {
        "colab": {
          "base_uri": "https://localhost:8080/"
        },
        "id": "009m7CyZoTdj",
        "outputId": "c9a9d7d4-67aa-44bb-e552-44aff6ef1ac9"
      },
      "outputs": [
        {
          "name": "stdout",
          "output_type": "stream",
          "text": [
            "[3, 3]\n",
            "True\n"
          ]
        }
      ],
      "source": [
        "#nums = [1,1,1,3,3,4,3,2,4,2]\n",
        "nums = [3,3]\n",
        "nums.sort()\n",
        "print(nums)\n",
        "duplicate_present = False\n",
        "for i in range(len(nums)-1):\n",
        "  if nums[i]==nums[i+1]:\n",
        "    duplicate_present = True\n",
        "  else:\n",
        "    continue\n",
        "\n",
        "print(duplicate_present)"
      ]
    },
    {
      "cell_type": "code",
      "execution_count": null,
      "metadata": {
        "colab": {
          "base_uri": "https://localhost:8080/"
        },
        "id": "Mi4HOxHHpbYY",
        "outputId": "b0f769c7-053e-4ba2-94fb-9cd8b9cf08d6"
      },
      "outputs": [
        {
          "name": "stdout",
          "output_type": "stream",
          "text": [
            "[1, 1, 2, 2, 4]\n",
            "[2, 4]\n"
          ]
        }
      ],
      "source": [
        "nums=[4,1,2,1,2]\n",
        "nums.sort()\n",
        "print(nums)\n",
        "dupli_arr = []\n",
        "for i in range(len(nums)-1):\n",
        "  if nums[i]!=nums[i+1]:\n",
        "    dupli_arr.append(nums[i+1])\n",
        "    #duplicate_present = True\n",
        "  else:\n",
        "    continue \n",
        "\n",
        "print(dupli_arr)"
      ]
    },
    {
      "cell_type": "code",
      "execution_count": null,
      "metadata": {
        "colab": {
          "base_uri": "https://localhost:8080/"
        },
        "id": "rcjYPxYqIZ33",
        "outputId": "da463264-234a-4b1f-be8d-d8ee815bf035"
      },
      "outputs": [
        {
          "name": "stdout",
          "output_type": "stream",
          "text": [
            "3\n",
            "[1, 2, 2, 3]\n",
            "While 1\n",
            "if 1\n",
            "While 1\n",
            "if 1\n",
            "While 2\n",
            "2\n",
            "While 1\n",
            "2\n"
          ]
        }
      ],
      "source": [
        "#nums= [3,2,1,7,6,9,8]\n",
        "nums =  [2,2,3,1]\n",
        "nums.sort()\n",
        "max_val = max(nums)\n",
        "print(max_val)\n",
        "print(nums)\n",
        "third_val = False\n",
        "max_cnt = 1\n",
        "while(third_val == False):\n",
        "  print(\"While 1\")\n",
        "  if max_cnt<3:\n",
        "    print(\"if 1\")\n",
        "    if nums.count(max(nums))>1:\n",
        "      while(nums.count(max(nums))>1):\n",
        "        print(\"While 2\")\n",
        "        print(max(nums))\n",
        "        nums.remove(max(nums))\n",
        "    else: \n",
        "      nums.remove(max(nums))\n",
        "    max_cnt+=1\n",
        "  elif max_cnt>2:\n",
        "    third_val = True\n",
        "    #return max(nums)\n",
        "print(max(nums))"
      ]
    },
    {
      "cell_type": "code",
      "execution_count": null,
      "metadata": {
        "colab": {
          "base_uri": "https://localhost:8080/"
        },
        "id": "CbYMUIbU93o7",
        "outputId": "8f9c67f8-d094-47e2-b950-573e587f9be6"
      },
      "outputs": [
        {
          "name": "stdout",
          "output_type": "stream",
          "text": [
            "3\n",
            "[1, 2, 2, 3]\n",
            "While 1\n",
            "[1, 2, 2, 3]\n",
            "if 1\n",
            "2 condition\n",
            "While 1\n",
            "[1, 2, 2]\n",
            "if 1\n",
            "While 2\n",
            "[1, 2, 2]\n",
            "2\n",
            "While 1\n",
            "[1, 2]\n",
            "2\n"
          ]
        }
      ],
      "source": [
        "#nums= [1,2]\n",
        "#nums= [3,2,1,7,6,9,8]\n",
        "nums =  [2,2,3,1]\n",
        "#nums = [1, 1, 1]\n",
        "nums.sort()\n",
        "max_val = max(nums)\n",
        "print(max_val)\n",
        "print(nums)\n",
        "third_val = False\n",
        "max_cnt = 1\n",
        "prev_max = 0\n",
        "discarded_max = []\n",
        "while(third_val == False):\n",
        "  print(\"While 1\")\n",
        "  print(nums)\n",
        "  if max_cnt<3:\n",
        "    print(\"if 1\")\n",
        "    if nums.count(max(nums))>1:\n",
        "      # for i in range(nums.count(max(nums))):\n",
        "      #   discarded_max.append(max(nums))\n",
        "      #   nums.remove(max(nums))\n",
        "      while(nums.count(max(nums))>1):\n",
        "        print(\"While 2\")\n",
        "        print(nums)\n",
        "        print(max(nums))\n",
        "        #prev_max = max(nums)\n",
        "        discarded_max.append(max(nums))\n",
        "        nums.remove(max(nums))\n",
        "\n",
        "    else: \n",
        "      print(\"2 condition\")\n",
        "      #prev_max = max(nums)\n",
        "      discarded_max.append(max(nums))\n",
        "      nums.remove(max(nums))\n",
        "    max_cnt+=1\n",
        "  elif max_cnt>2:\n",
        "    third_val = True\n",
        "    #return max(nums)\n",
        "if nums==[]:\n",
        "  print(max(discarded_max))\n",
        "else:\n",
        "  print(max(nums))\n",
        "#print(max(nums))"
      ]
    },
    {
      "cell_type": "code",
      "execution_count": null,
      "metadata": {
        "colab": {
          "base_uri": "https://localhost:8080/",
          "height": 300
        },
        "id": "NNjz6M4YGobF",
        "outputId": "028098d5-38d4-4c27-ab56-31ade2821829"
      },
      "outputs": [
        {
          "name": "stdout",
          "output_type": "stream",
          "text": [
            "[1, 1, 1]\n",
            "{1}\n",
            "While 1\n",
            "While 1\n"
          ]
        },
        {
          "ename": "ValueError",
          "evalue": "ignored",
          "output_type": "error",
          "traceback": [
            "\u001b[0;31m---------------------------------------------------------------------------\u001b[0m",
            "\u001b[0;31mValueError\u001b[0m                                Traceback (most recent call last)",
            "\u001b[0;32m<ipython-input-1-02cf3c6fd6a0>\u001b[0m in \u001b[0;36m<module>\u001b[0;34m()\u001b[0m\n\u001b[1;32m     16\u001b[0m   \u001b[0mprint\u001b[0m\u001b[0;34m(\u001b[0m\u001b[0;34m\"While 1\"\u001b[0m\u001b[0;34m)\u001b[0m\u001b[0;34m\u001b[0m\u001b[0;34m\u001b[0m\u001b[0m\n\u001b[1;32m     17\u001b[0m   \u001b[0;32mif\u001b[0m \u001b[0mmax_cnt\u001b[0m\u001b[0;34m<\u001b[0m\u001b[0;36m3\u001b[0m\u001b[0;34m:\u001b[0m\u001b[0;34m\u001b[0m\u001b[0;34m\u001b[0m\u001b[0m\n\u001b[0;32m---> 18\u001b[0;31m     \u001b[0mdiscarded_max\u001b[0m\u001b[0;34m.\u001b[0m\u001b[0mappend\u001b[0m\u001b[0;34m(\u001b[0m\u001b[0mmax\u001b[0m\u001b[0;34m(\u001b[0m\u001b[0munique_nums\u001b[0m\u001b[0;34m)\u001b[0m\u001b[0;34m)\u001b[0m\u001b[0;34m\u001b[0m\u001b[0;34m\u001b[0m\u001b[0m\n\u001b[0m\u001b[1;32m     19\u001b[0m     \u001b[0munique_nums\u001b[0m\u001b[0;34m.\u001b[0m\u001b[0mdiscard\u001b[0m\u001b[0;34m(\u001b[0m\u001b[0mmax\u001b[0m\u001b[0;34m(\u001b[0m\u001b[0munique_nums\u001b[0m\u001b[0;34m)\u001b[0m\u001b[0;34m)\u001b[0m\u001b[0;34m\u001b[0m\u001b[0;34m\u001b[0m\u001b[0m\n\u001b[1;32m     20\u001b[0m     \u001b[0mmax_cnt\u001b[0m\u001b[0;34m+=\u001b[0m\u001b[0;36m1\u001b[0m\u001b[0;34m\u001b[0m\u001b[0;34m\u001b[0m\u001b[0m\n",
            "\u001b[0;31mValueError\u001b[0m: max() arg is an empty sequence"
          ]
        }
      ],
      "source": [
        "#nums= [1,2]\n",
        "#nums= [3,2,1,7,6,9,8]\n",
        "#nums =  [2,2,3,1]\n",
        "nums = [1,1,1]\n",
        "nums.sort()\n",
        "nums.reverse()\n",
        "print(nums)\n",
        "unique_nums = set()\n",
        "for val in nums:\n",
        "  unique_nums.add(val)\n",
        "print(unique_nums)\n",
        "third_val = False\n",
        "max_cnt = 1\n",
        "discarded_max = []\n",
        "while(third_val == False):\n",
        "  print(\"While 1\")\n",
        "  if max_cnt<3:\n",
        "    discarded_max.append(max(unique_nums))\n",
        "    unique_nums.discard(max(unique_nums))\n",
        "    max_cnt+=1\n",
        "  else: \n",
        "    third_val = True\n",
        "print(discarded_max)\n",
        "print(unique_nums)\n",
        "if unique_nums==set():\n",
        "  print(max(discarded_max))\n",
        "else:\n",
        "  print(max(unique_nums))"
      ]
    },
    {
      "cell_type": "code",
      "execution_count": null,
      "metadata": {
        "colab": {
          "base_uri": "https://localhost:8080/"
        },
        "id": "1TpdYk5Y7KCI",
        "outputId": "e9248dd4-602b-4c5d-9eef-1a15db525060"
      },
      "outputs": [
        {
          "name": "stdout",
          "output_type": "stream",
          "text": [
            "[9, 8, 7, 6, 3, 2, 1]\n",
            "[9, 8, 7, 6, 3, 2, 1]\n",
            "9\n",
            "[8, 7, 6, 3, 2, 1]\n",
            "8\n",
            "[7, 6, 3, 2, 1]\n",
            "7\n",
            "[6, 3, 2, 1]\n",
            "6\n",
            "[3, 2, 1]\n",
            "3\n",
            "[2, 1]\n",
            "2\n",
            "[1]\n",
            "1\n"
          ]
        }
      ],
      "source": [
        "#nums = [1,1,1]\n",
        "nums= [3,2,1,7,6,9,8]\n",
        "nums.sort()\n",
        "nums.reverse()\n",
        "print(nums)\n",
        "third_val = False\n",
        "for i in range(len(nums)):\n",
        "  print(nums[i:])\n",
        "  print(max(nums[i:]))\n",
        "  "
      ]
    },
    {
      "cell_type": "code",
      "execution_count": null,
      "metadata": {
        "colab": {
          "base_uri": "https://localhost:8080/"
        },
        "id": "JXgWqDlhDwU-",
        "outputId": "9868f8a0-4c79-41ef-9053-ce75a721208f"
      },
      "outputs": [
        {
          "name": "stdout",
          "output_type": "stream",
          "text": [
            "[1, 2, 3, 6, 7, 8, 9, 17]\n"
          ]
        }
      ],
      "source": [
        "nums= [9, 8, 7, 6, 3, 2, 1]\n",
        "nums.sort()\n",
        "nums.append(17)\n",
        "print(nums)"
      ]
    },
    {
      "cell_type": "code",
      "execution_count": null,
      "metadata": {
        "id": "5b6urj5y733Y"
      },
      "outputs": [],
      "source": []
    },
    {
      "cell_type": "code",
      "execution_count": null,
      "metadata": {
        "colab": {
          "base_uri": "https://localhost:8080/"
        },
        "id": "JTXK-wpO74a4",
        "outputId": "7f145785-f530-4b8b-9374-32057093a0c2"
      },
      "outputs": [
        {
          "name": "stdout",
          "output_type": "stream",
          "text": [
            "['eat', 'tea', 'tan', 'ate', 'nat', 'bat']\n",
            "*******\n",
            "tea\n",
            "anagram\n",
            "not anagram\n",
            "ate\n",
            "anagram\n",
            "not anagram\n",
            "not anagram\n",
            "[]\n",
            "['eat', 'tea', 'ate']\n",
            "[['eat', 'tea', 'ate']]\n",
            "*******\n",
            "*******\n",
            "not anagram\n",
            "nat\n",
            "anagram\n",
            "not anagram\n",
            "[]\n",
            "['eat', 'tea', 'ate', 'tan', 'nat']\n",
            "[['eat', 'tea', 'ate'], ['tan', 'nat']]\n",
            "*******\n",
            "*******\n",
            "*******\n",
            "[]\n",
            "['eat', 'tea', 'ate', 'tan', 'nat', 'bat']\n",
            "[['eat', 'tea', 'ate'], ['tan', 'nat'], ['bat']]\n"
          ]
        }
      ],
      "source": [
        "#strs=[\"\",\"\"]\n",
        "#strs=[\"\"]\n",
        "strs = [\"eat\",\"tea\",\"tan\",\"ate\",\"nat\",\"bat\"]\n",
        "print(strs)\n",
        "final_ana_arr = []\n",
        "temp_ana_arr = []\n",
        "checked_vals = []\n",
        "for i in range(len(strs)) :\n",
        "  print(\"*******\")\n",
        "  if strs[i] not in checked_vals:\n",
        "    temp_ana_arr.append(strs[i])\n",
        "    checked_vals.append(strs[i])\n",
        "    for val in strs[i+1:]:\n",
        "      if strs[i]==val:\n",
        "        print(val)\n",
        "        print(\"anagram\")\n",
        "        temp_ana_arr.append(val)\n",
        "        checked_vals.append(val)\n",
        "      elif strs[i]!=val and sorted(val)==sorted(strs[i]):\n",
        "        print(val)\n",
        "        print(\"anagram\")\n",
        "        temp_ana_arr.append(val)\n",
        "        checked_vals.append(val)\n",
        "      else:\n",
        "        print(\"not anagram\")\n",
        "    if temp_ana_arr!=[]:\n",
        "      final_ana_arr.append(temp_ana_arr)\n",
        "      temp_ana_arr=[]\n",
        "    print(temp_ana_arr)\n",
        "    print(checked_vals)\n",
        "    print(final_ana_arr)"
      ]
    },
    {
      "cell_type": "code",
      "execution_count": null,
      "metadata": {
        "id": "gcFApKqM7_qs"
      },
      "outputs": [],
      "source": [
        "strs = [\"eat\",\"tea\",\"tan\",\"ate\",\"nat\",\"bat\"]\n",
        "print(strs)\n",
        "final_ana_arr = []\n",
        "temp_ana_arr = []\n",
        "checked_vals = []\n",
        "check_val = strs[0]\n",
        "for i in range(1,len(strs)):\n",
        "  if check_val != strs[i] or sorted(check_val)==sorted(strs[i]):\n",
        "    temp_ana_arr.append(check_val)\n",
        "  if "
      ]
    },
    {
      "cell_type": "code",
      "execution_count": null,
      "metadata": {
        "colab": {
          "base_uri": "https://localhost:8080/"
        },
        "id": "SJ0Yq8k49ARY",
        "outputId": "2be1ec67-9c2c-461f-e9b5-9f517339a665"
      },
      "outputs": [
        {
          "name": "stdout",
          "output_type": "stream",
          "text": [
            "['eat', 'tea', 'tan', 'ate', 'nat', 'bat']\n",
            "tea\n",
            "tan\n",
            "ate\n",
            "nat\n",
            "bat\n",
            "tan\n",
            "ate\n",
            "nat\n",
            "bat\n",
            "ate\n",
            "nat\n",
            "bat\n",
            "nat\n",
            "bat\n",
            "bat\n",
            "[['eat', 'tea', 'tan', 'ate', 'nat', 'bat'], ['tea', 'tan', 'ate', 'nat', 'bat'], ['tan', 'ate', 'nat', 'bat'], ['ate', 'nat', 'bat'], ['nat', 'bat'], ['bat']]\n"
          ]
        }
      ],
      "source": [
        "strs = [\"eat\",\"tea\",\"tan\",\"ate\",\"nat\",\"bat\"]\n",
        "print(strs)\n",
        "final_ana_arr = []\n",
        "temp_ana_arr = []\n",
        "checked_vals = []\n",
        "for i in range(len(strs)):\n",
        "  check_val = strs[i]\n",
        "  if check_val not in final_ana_arr: temp_ana_arr.append(check_val)\n",
        "  for val in strs[i+1:]:\n",
        "    print(val)\n",
        "    if check_val != val or sorted(check_val)==sorted(val):\n",
        "      if val not in final_ana_arr: temp_ana_arr.append(val)\n",
        "  if temp_ana_arr!=[]:\n",
        "    final_ana_arr.append(temp_ana_arr)\n",
        "    temp_ana_arr = []\n",
        "print(final_ana_arr)"
      ]
    },
    {
      "cell_type": "code",
      "execution_count": null,
      "metadata": {
        "colab": {
          "base_uri": "https://localhost:8080/"
        },
        "id": "aFzCqOaNA55b",
        "outputId": "e82d92e1-f1b6-4f5d-8541-37ded4b3ed37"
      },
      "outputs": [
        {
          "name": "stdout",
          "output_type": "stream",
          "text": [
            "[4, 1, 2, 1, 2]\n",
            "[1, 1, 2, 2, 4]\n"
          ]
        }
      ],
      "source": [
        "nums = [4,1,2,1,2]\n",
        "print(nums)\n",
        "nums.sort()\n",
        "print(nums)\n",
        "for val in nums:\n",
        "  if nums.count(val) > 1:\n",
        "    return val\n",
        "  else:\n",
        "    continue"
      ]
    },
    {
      "cell_type": "code",
      "execution_count": null,
      "metadata": {
        "colab": {
          "base_uri": "https://localhost:8080/"
        },
        "id": "YxcAlL4nDLbu",
        "outputId": "b682ecb3-28f7-4c6d-f970-29cb5f687b29"
      },
      "outputs": [
        {
          "name": "stdout",
          "output_type": "stream",
          "text": [
            "[1, 2, 2, 1]\n",
            "[2, 2]\n"
          ]
        }
      ],
      "source": [
        "nums1 = [1,2,2,1]\n",
        "nums2 = [2,2]\n",
        "print(nums1)\n",
        "print(nums2)\n"
      ]
    },
    {
      "cell_type": "code",
      "execution_count": null,
      "metadata": {
        "colab": {
          "base_uri": "https://localhost:8080/"
        },
        "id": "RZhT3mv9RY_z",
        "outputId": "56c97af2-6824-49e2-ec52-a12d6d9163c3"
      },
      "outputs": [
        {
          "name": "stdout",
          "output_type": "stream",
          "text": [
            "['eat', 'tea', 'tan', 'ate', 'nat', 'bat']\n",
            "eat\n",
            "[]\n",
            "[['eat', 'tea', 'ate']]\n",
            "{'eat', 'tea', 'ate'}\n",
            "tea\n",
            "[]\n",
            "[['eat', 'tea', 'ate'], ['ate']]\n",
            "{'eat', 'tea', 'ate'}\n",
            "tan\n",
            "[]\n",
            "[['eat', 'tea', 'ate'], ['ate'], ['tan', 'nat']]\n",
            "{'ate', 'tan', 'nat', 'tea', 'eat'}\n",
            "ate\n",
            "[]\n",
            "[['eat', 'tea', 'ate'], ['ate'], ['tan', 'nat']]\n",
            "{'ate', 'tan', 'nat', 'tea', 'eat'}\n",
            "nat\n",
            "[]\n",
            "[['eat', 'tea', 'ate'], ['ate'], ['tan', 'nat']]\n",
            "{'ate', 'tan', 'nat', 'tea', 'eat'}\n",
            "bat\n",
            "[]\n",
            "[['eat', 'tea', 'ate'], ['ate'], ['tan', 'nat'], ['bat']]\n",
            "{'bat', 'ate', 'tan', 'nat', 'tea', 'eat'}\n",
            "[['eat', 'tea', 'ate'], ['ate'], ['tan', 'nat'], ['bat']]\n"
          ]
        }
      ],
      "source": [
        "strs = [\"eat\",\"tea\",\"tan\",\"ate\",\"nat\",\"bat\"]\n",
        "#strs = [\"\",\"\"]\n",
        "print(strs)\n",
        "final_ana_arr = []\n",
        "temp_ana_arr = []\n",
        "checked_vals = set()\n",
        "for i in range(len(strs)):\n",
        "  check_val = strs[i]\n",
        "  print(check_val)\n",
        "  # if check_val in checked_vals:\n",
        "  #   #continue\n",
        "  #   print('inside cond')\n",
        "  # else:\n",
        "  for val in strs[i+1:]:\n",
        "      #print(val)\n",
        "      if check_val != val and sorted(check_val)==sorted(val):\n",
        "        if check_val not in temp_ana_arr and check_val not in checked_vals : temp_ana_arr.append(check_val)\n",
        "        temp_ana_arr.append(val)\n",
        "        checked_vals.add(check_val)\n",
        "        checked_vals.add(val)\n",
        "      elif check_val == val:\n",
        "        if check_val not in temp_ana_arr and check_val not in checked_vals : temp_ana_arr.append(check_val)\n",
        "        if val not in temp_ana_arr and val not in checked_vals : temp_ana_arr.append(val)\n",
        "        checked_vals.add(check_val)\n",
        "        checked_vals.add(val)\n",
        "  if temp_ana_arr !=[]:\n",
        "      final_ana_arr.append(temp_ana_arr)\n",
        "      temp_ana_arr = []\n",
        "  elif   check_val not in checked_vals:\n",
        "      temp_ana_arr.append(check_val)\n",
        "      checked_vals.add(check_val)\n",
        "      final_ana_arr.append(temp_ana_arr)\n",
        "      temp_ana_arr = []\n",
        "\n",
        "  print(temp_ana_arr)\n",
        "  print(final_ana_arr)\n",
        "  print(checked_vals)\n",
        "\n",
        "print(final_ana_arr)"
      ]
    },
    {
      "cell_type": "code",
      "execution_count": null,
      "metadata": {
        "id": "uTFAZvWWZp_2"
      },
      "outputs": [],
      "source": [
        "  # print(strs)\n",
        "  #       final_ana_arr = []\n",
        "  #       temp_ana_arr = []\n",
        "  #       checked_vals = set()\n",
        "  #       for i in range(len(strs)):\n",
        "  #         check_val = strs[i]\n",
        "  #         print(check_val)\n",
        "  #         if check_val in checked_vals:\n",
        "  #           continue\n",
        "  #         else:\n",
        "  #           for val in strs[i+1:]:\n",
        "  #             #print(val)\n",
        "  #             if check_val != val and sorted(check_val)==sorted(val):\n",
        "  #               if check_val not in temp_ana_arr and check_val not in checked_vals : temp_ana_arr.append(check_val)\n",
        "  #               temp_ana_arr.append(val)\n",
        "  #               checked_vals.add(check_val)\n",
        "  #               checked_vals.add(val)\n",
        "  #           if temp_ana_arr !=[]:\n",
        "  #             final_ana_arr.append(temp_ana_arr)\n",
        "  #             temp_ana_arr = []\n",
        "  #           elif   check_val not in checked_vals:\n",
        "  #             temp_ana_arr.append(check_val)\n",
        "  #             checked_vals.add(check_val)\n",
        "  #             final_ana_arr.append(temp_ana_arr)\n",
        "  #             temp_ana_arr = []\n",
        "\n",
        "  #           print(temp_ana_arr)\n",
        "  #           print(final_ana_arr)\n",
        "  #           print(checked_vals)\n",
        "\n",
        "  #       print(final_ana_arr)\n",
        "  #       return final_ana_arr\n",
        "        \n",
        "        "
      ]
    },
    {
      "cell_type": "code",
      "execution_count": null,
      "metadata": {
        "colab": {
          "base_uri": "https://localhost:8080/"
        },
        "id": "g61NvXauGnni",
        "outputId": "09abbd51-64d8-4ed1-f2a0-0d0129391759"
      },
      "outputs": [
        {
          "name": "stdout",
          "output_type": "stream",
          "text": [
            "[0, 1]\n"
          ]
        }
      ],
      "source": [
        "#\n",
        "# https://leetcode.com/problems/two-sum/\n",
        "#\n",
        "\n",
        "nums = [2,7,11,15]\n",
        "target = 9\n",
        "index_arr = []\n",
        "for i in range (len(nums)):\n",
        "  val1 = target - nums[i]\n",
        "  if val1 in nums[i+1:] :  \n",
        "    index_arr.append(i)\n",
        "    index_arr.append(nums.index(val1))\n",
        "\n",
        "print(index_arr)"
      ]
    },
    {
      "cell_type": "code",
      "execution_count": null,
      "metadata": {
        "colab": {
          "base_uri": "https://localhost:8080/"
        },
        "id": "ZFH9FK0PL5zE",
        "outputId": "a6ade716-8b89-4802-ebf5-dd2a68e9204f"
      },
      "outputs": [
        {
          "name": "stdout",
          "output_type": "stream",
          "text": [
            "[1, 2, 3]\n",
            "1\n",
            "even\n",
            "2\n",
            "2.00000\n"
          ]
        }
      ],
      "source": [
        "# nums1 = [1,2]\n",
        "# nums2 = [3,4]\n",
        "# nums1 = [0,0]\n",
        "# nums2 = [0,0]\n",
        "# nums1 = []\n",
        "# nums2 = [1]\n",
        "# nums1 = [2]\n",
        "# nums2 = []\n",
        "nums1 = [1,3]\n",
        "nums2 = [2]\n",
        "\n",
        "\n",
        "unified_nums = []\n",
        "unified_nums.extend(nums1)\n",
        "unified_nums.extend(nums2)\n",
        "unified_nums.sort()\n",
        "print(unified_nums)\n",
        "median_index = int(len(unified_nums)/2)\n",
        "print(median_index)\n",
        "if median_index > 1 or len(unified_nums) > 1:\n",
        "  if len(unified_nums) % 2 == 0 : \n",
        "    print('odd')\n",
        "    val1 = unified_nums[median_index-1]\n",
        "    val2 = unified_nums[median_index]\n",
        "    median_val = (val1+val2)/2\n",
        "  else: \n",
        "    print('even')\n",
        "    val1 = unified_nums[median_index]\n",
        "    median_val = val1\n",
        "else:\n",
        "  val1 = unified_nums[median_index-1]\n",
        "  median_val = val1\n",
        "\n",
        "print(median_val)\n",
        "print('{0:.5f}'.format(median_val))"
      ]
    },
    {
      "cell_type": "code",
      "execution_count": null,
      "metadata": {
        "colab": {
          "base_uri": "https://localhost:8080/"
        },
        "id": "2hQ3Q_bvuN4i",
        "outputId": "c7e69787-fd11-427a-8b2e-1b91afd660b0"
      },
      "outputs": [
        {
          "name": "stdout",
          "output_type": "stream",
          "text": [
            "[7, 0, 8]\n"
          ]
        }
      ],
      "source": [
        "l1 = [2,4,3]\n",
        "l2 = [5,6,4]\n",
        "l1.reverse()\n",
        "l2.reverse()\n",
        "str_l1 = ''\n",
        "str_l2 = ''\n",
        "result_arr = []\n",
        "for val in l1:\n",
        "  str_l1+=str(val)\n",
        "for val in l2:\n",
        "  str_l2+=str(val)\n",
        "\n",
        "str_sum = int(str_l1)+int(str_l2)\n",
        "\n",
        "for val in str(str_sum):\n",
        "  result_arr.insert(0,int(val))\n",
        "\n",
        "print(result_arr)\n"
      ]
    },
    {
      "cell_type": "code",
      "execution_count": null,
      "metadata": {
        "id": "0mUt_Mwiwe9C"
      },
      "outputs": [],
      "source": [
        "TypeError: 'ListNode' object is not iterable\n",
        "    list(l1).reverse()\n",
        "Line 8 in addTwoNumbers (Solution.py)\n",
        "    ret = Solution().addTwoNumbers(param_1, param_2)\n",
        "Line 48 in _driver (Solution.py)\n",
        "    _driver()\n",
        "Line 59 in <module> (Solution.py)"
      ]
    },
    {
      "cell_type": "code",
      "execution_count": null,
      "metadata": {
        "id": "-i8DksFJ63K8"
      },
      "outputs": [],
      "source": [
        "# import re\n",
        "# verbose_item_pattern = re.compile(r\"\"\"\n",
        "#     $            # end of line boundary\n",
        "#     \\s{1,2}      # 1-or-2 whitespace character, including the newline\n",
        "#     I            # a capital I\n",
        "#     [tT][eE][mM] # one character from each of the three sets this allows for unknown case\n",
        "#     \\s+          # 1-or-more whitespaces INCLUDING newline\n",
        "#     \\d{1,2}      # 1-or-2 digits\n",
        "#     [.]?         # 0-or-1 literal .\n",
        "#     \\(?          # 0-or-1 literal open paren\n",
        "#     [a-e]?       # 0-or-1 letter in the range a-e\n",
        "#     \\)?          # 0-or-1 closing paren\n",
        "#     .*           # any number of unknown characters so we can have words and punctuation\n",
        "#     [^0-9]       # anything but [0-9]\n",
        "#     $            # end of line boundary\n",
        "#     \"\"\", re.VERBOSE|re.MULTILINE)\n",
        "\n",
        "# x = verbose_item_pattern.search(\"\"\"\n",
        "#  Item 1.0(a) foo bar\n",
        "# \"\"\")\n",
        "\n",
        "# print(x)"
      ]
    },
    {
      "cell_type": "code",
      "execution_count": null,
      "metadata": {
        "colab": {
          "base_uri": "https://localhost:8080/"
        },
        "id": "OMGDW9AkwgZo",
        "outputId": "451ea87f-13f6-439b-ce1d-5aca38288807"
      },
      "outputs": [
        {
          "name": "stdout",
          "output_type": "stream",
          "text": [
            "mississippi\n",
            "mis*is*p*.\n",
            "m\n",
            "i\n",
            "only symbol\n",
            "True\n",
            "i\n",
            "s\n",
            "only symbol\n",
            "False\n",
            "s\n",
            "*\n",
            "only symbol\n",
            "False\n",
            "*\n",
            "i\n",
            "only symbol\n",
            "False\n",
            "i\n",
            "s\n",
            "only symbol\n",
            "False\n",
            "s\n",
            "*\n",
            "only symbol\n",
            "False\n",
            "*\n",
            "p\n",
            "only symbol\n",
            "False\n",
            "p\n",
            "*\n",
            "only symbol\n",
            "False\n",
            "*\n",
            ".\n",
            "only symbol\n",
            "False\n"
          ]
        }
      ],
      "source": [
        "#\n",
        "# https://leetcode.com/problems/regular-expression-matching/\n",
        "#\n",
        "\n",
        "s = \"mississippi\"\n",
        "p = \"mis*is*p*.\"\n",
        "import re\n",
        "# s = 'aa'\n",
        "# p = 'a*'\n",
        "\n",
        "print(s)\n",
        "print(p)\n",
        "\n",
        "# validator_status = re.compile(p)\n",
        "# print(validator_status)\n",
        "# validator_status_result = validator_status.search(s)\n",
        "# print(validator_status_result)\n",
        "\n",
        "if '*' not in p and '.' not in p :\n",
        "  if s == p : print(\"true\")\n",
        "  else : print('False')\n",
        "else:\n",
        "  j = 0\n",
        "  for i in range(len(p)-1):\n",
        "    print(p[i])\n",
        "    print(p[i+1])\n",
        "    #j = i\n",
        "    if (p[i]!='*' or p[i]!='.') and (p[i+1]!='*' or p[i+1]!='.') :\n",
        "      print(\"only symbol\")\n",
        "      if p[i] == s[j] : print(\"True\")\n",
        "      else : print(\"False\")\n",
        "    else:\n",
        "    #elif (p[i]!='*' or p[i]!='.') and (p[i+1]=='*' or p[i+1]=='.'):\n",
        "      print(\"First Char and second symbol\")\n",
        "      temp_flag = True\n",
        "      while(temp_flag):\n",
        "        if p[i] == s[j] : \n",
        "          print(\"True\")\n",
        "          j+=1\n",
        "        else:\n",
        "          temp_flag = False\n",
        "\n",
        "      \n",
        "        \n",
        "\n"
      ]
    },
    {
      "cell_type": "code",
      "execution_count": null,
      "metadata": {
        "colab": {
          "base_uri": "https://localhost:8080/"
        },
        "id": "g1jZ4AqoSM3D",
        "outputId": "c9d92c75-5383-4b91-8f06-f0948e8d5415"
      },
      "outputs": [
        {
          "name": "stdout",
          "output_type": "stream",
          "text": [
            "aab\n",
            "\n",
            "a\n",
            "a\n",
            "\n",
            "aa\n",
            "\n",
            "aab\n",
            "['aab']\n",
            "['aab']\n",
            "3\n"
          ]
        }
      ],
      "source": [
        "#s = \"pwwkew\"\n",
        "#s = \"bbbbb\"\n",
        "#s = \"abcabcbb\"\n",
        "#s = \"\"\n",
        "s = \"aab\"\n",
        "print(s)\n",
        "longtest_substr = ''\n",
        "substr_arr = []\n",
        "for i in range(len(s)):\n",
        "  print(s[:i])\n",
        "  print(s[i:1:])\n",
        "  if s[i] not in longtest_substr : longtest_substr+=s[i]\n",
        "  elif s[i] in longtest_substr and s[i] not in s[i:0:] : longtest_substr+=s[i]\n",
        "  else : \n",
        "    substr_arr.append(longtest_substr)\n",
        "    longtest_substr = ''\n",
        "if longtest_substr!='' and longtest_substr not in substr_arr : substr_arr.append(longtest_substr)\n",
        "print(longtest_substr)\n",
        "print(substr_arr)\n",
        "substr_arr.sort()\n",
        "print(substr_arr)\n",
        "if substr_arr == []:\n",
        "  print(0)\n",
        "else:\n",
        "  print(len(substr_arr[0]))"
      ]
    },
    {
      "cell_type": "code",
      "execution_count": null,
      "metadata": {
        "id": "9--1zsc1pstj"
      },
      "outputs": [],
      "source": [
        "s = \"aab\"\n",
        "print(s)\n",
        "longtest_substr = ''\n",
        "substr_arr = []\n"
      ]
    },
    {
      "cell_type": "code",
      "execution_count": null,
      "metadata": {
        "colab": {
          "base_uri": "https://localhost:8080/"
        },
        "id": "S7Fj8riaqzn4",
        "outputId": "18e19927-e7b7-445d-830f-fa61167db6fa"
      },
      "outputs": [
        {
          "name": "stdout",
          "output_type": "stream",
          "text": [
            "([)]\n"
          ]
        }
      ],
      "source": [
        " s = \"([)]\"\n",
        " print(s)\n",
        " open_b ='({['\n",
        " close_b = ')}]'\n",
        " return_flag = False\n",
        " for i in range(len(s)):\n",
        "   if s[i] in open_b: \n",
        "     index_val = open_b.index(s[i])\n",
        "     if close_b[index_val] in s[i+1:]:\n",
        "       "
      ]
    },
    {
      "cell_type": "code",
      "execution_count": null,
      "metadata": {
        "colab": {
          "base_uri": "https://localhost:8080/"
        },
        "id": "E0CNf_W4s_2i",
        "outputId": "ce8a9626-92c7-48ad-eea6-d2d1446ab7fa"
      },
      "outputs": [
        {
          "name": "stdout",
          "output_type": "stream",
          "text": [
            "{[]}\n",
            "}\n",
            "8888\n",
            "{[]}\n",
            "Wrong\n"
          ]
        }
      ],
      "source": [
        "s = \"([)]\"\n",
        "s = \"()[]{}\"\n",
        "s = \"{[]}\"\n",
        "print(s)\n",
        "close_b = ')}]'\n",
        "rev_order = ''\n",
        "mid_index = 0\n",
        "#  for val in s: \n",
        "#    if val == '(': rev_order=')'+rev_order\n",
        "#    elif val == '{': rev_order='}'+rev_order\n",
        "#    elif val == '[': rev_order=']'+rev_order\n",
        "#    elif val in close_b : print(\"Wrong pattern\")\n",
        "#    mid_index = s.index(val)\n",
        "for i in range(len(s)):\n",
        "  if s[i]=='(':     \n",
        "    if s[i+1]!=')': rev_order=')'+rev_order\n",
        "  elif s[i]=='{':     \n",
        "    if s[i+1]!='}': rev_order='}'+rev_order\n",
        "  elif s[i]=='[':     \n",
        "    if s[i+1]!=']': rev_order=']'+rev_order\n",
        "\n",
        "print(rev_order)\n",
        "print(\"8888\")\n",
        "print(s[mid_index:])\n",
        "if rev_order != '' :\n",
        "  if rev_order == s[mid_index:]:\n",
        "    print(\"Correct\")\n",
        "  else:\n",
        "    print(\"Wrong\")\n",
        "else:\n",
        "  print(\"Correct\")\n",
        "\n"
      ]
    },
    {
      "cell_type": "code",
      "execution_count": null,
      "metadata": {
        "id": "yg_5FI94wPw-"
      },
      "outputs": [],
      "source": [
        "s = ')'\n",
        "s.insert(0,']')\n",
        "print(s)"
      ]
    },
    {
      "cell_type": "code",
      "execution_count": null,
      "metadata": {
        "colab": {
          "base_uri": "https://localhost:8080/"
        },
        "id": "k1EPh8oNBp1g",
        "outputId": "020b0f17-30cf-476c-d26d-a7d8a942665f"
      },
      "outputs": [
        {
          "name": "stdout",
          "output_type": "stream",
          "text": [
            "\n",
            "Balanced\n"
          ]
        }
      ],
      "source": [
        "s = \"([)]\"\n",
        "s = \"()[]{}\"\n",
        "s = \"{[]}\"\n",
        "brackets = ['()', '{}', '[]'] \n",
        "#print(x in s for x in brackets)\n",
        "while any(x in s for x in brackets):\n",
        "  #print(x)\n",
        "  for br in brackets:\n",
        "    s = s.replace(br,'')\n",
        "print(s)\n",
        "if s == '' : print(\"Balanced\")\n",
        "else: print(\"Unbalanced\")\n"
      ]
    },
    {
      "cell_type": "code",
      "execution_count": null,
      "metadata": {
        "colab": {
          "base_uri": "https://localhost:8080/"
        },
        "id": "nmL3S_vnEpa4",
        "outputId": "da9ccc57-c146-4851-9a00-bae09f2bf1d1"
      },
      "outputs": [
        {
          "name": "stdout",
          "output_type": "stream",
          "text": [
            "[1, 1, 2, 3, 4, 4]\n"
          ]
        }
      ],
      "source": [
        "l1 = [1,2,4]\n",
        "l2 = [1,3,4]\n",
        "merged_l3 = []\n",
        "merged_l3.extend(l1)\n",
        "merged_l3.extend(l2)\n",
        "print(sorted(merged_l3))"
      ]
    },
    {
      "cell_type": "code",
      "execution_count": null,
      "metadata": {
        "id": "Hu_M7eQ8KrWQ"
      },
      "outputs": [],
      "source": [
        "n = 3 \n"
      ]
    },
    {
      "cell_type": "markdown",
      "metadata": {
        "id": "dhlFZ5FxEpSZ"
      },
      "source": []
    },
    {
      "cell_type": "code",
      "execution_count": null,
      "metadata": {
        "colab": {
          "base_uri": "https://localhost:8080/"
        },
        "id": "O_n-RXEJ3U7W",
        "outputId": "ded67eda-5d0c-4cd7-81f9-f2cb67b6db31"
      },
      "outputs": [
        {
          "name": "stdout",
          "output_type": "stream",
          "text": [
            "0\n",
            "0\n"
          ]
        }
      ],
      "source": [
        "haystack = \"hello\"\n",
        "needle = \"ll\"\n",
        "\n",
        "haystack = \"aaaaa\"\n",
        "needle = \"bba\"\n",
        "\n",
        "haystack = \"\"\n",
        "needle = \"\"\n",
        "\n",
        "\n",
        "try : \n",
        "  val = haystack.index(needle)\n",
        "  print(val)\n",
        "except:\n",
        "  val = -1\n",
        "\n",
        "print(val)"
      ]
    },
    {
      "cell_type": "markdown",
      "metadata": {
        "id": "S49C3blk3ttq"
      },
      "source": []
    },
    {
      "cell_type": "code",
      "execution_count": null,
      "metadata": {
        "colab": {
          "base_uri": "https://localhost:8080/"
        },
        "id": "uKY3GUb13raL",
        "outputId": "5a1ae5a9-2c4b-41ee-a5de-25588c1bc786"
      },
      "outputs": [
        {
          "name": "stdout",
          "output_type": "stream",
          "text": [
            ")()())\n"
          ]
        }
      ],
      "source": [
        "#\n",
        "# https://leetcode.com/problems/longest-valid-parentheses/\n",
        "#\n",
        "\n",
        "\n",
        "s = \")()())\"\n",
        "print(s)\n"
      ]
    },
    {
      "cell_type": "code",
      "execution_count": null,
      "metadata": {
        "colab": {
          "base_uri": "https://localhost:8080/"
        },
        "id": "sFwHXEsitrnt",
        "outputId": "2ec073d1-09cb-477f-a74f-f6d73ebc7ff4"
      },
      "outputs": [
        {
          "name": "stdout",
          "output_type": "stream",
          "text": [
            "aacecaaa\n"
          ]
        }
      ],
      "source": [
        "s = \"aacecaaa\"\n",
        "print(s)\n"
      ]
    },
    {
      "cell_type": "code",
      "execution_count": null,
      "metadata": {
        "colab": {
          "base_uri": "https://localhost:8080/"
        },
        "id": "MdWPvfJavRa-",
        "outputId": "895e5bba-d922-4bae-eb91-a4b778a75792"
      },
      "outputs": [
        {
          "name": "stdout",
          "output_type": "stream",
          "text": [
            "9.0\n",
            "[1, 2, 3, 5, 6, 7]\n",
            "[1]\n",
            "8\n",
            "[1, 2]\n",
            "6\n",
            "[1, 2, 3]\n",
            "3\n",
            "[1, 2, 3, 5]\n",
            "[1, 2, 3, 5, 6]\n",
            "[1, 2, 3, 5, 6, 7]\n",
            "[]\n",
            "[[1, 1, 1, 1, 1, 1, 1, 1, 1], [1, 2, 1, 1, 1, 1, 1, 1], [2, 2, 2], [3, 3, 3], [1, 2, 3, 1, 1, 1], [], [3]]\n"
          ]
        }
      ],
      "source": [
        "#\n",
        "# https://leetcode.com/problems/combination-sum/\n",
        "#\n",
        "\n",
        "candidates = [2,3,5]\n",
        "target = 8\n",
        "\n",
        "candidates = [2]\n",
        "target = 1\n",
        "\n",
        "candidates = [1]\n",
        "target = 1\n",
        "\n",
        "candidates = [2,7,6,3,5,1]\n",
        "target = 9\n",
        "\n",
        "temp_combo = []\n",
        "total_combo = []\n",
        "candidates.sort()\n",
        "\n",
        "print(target/candidates[0])\n",
        "print(candidates)\n",
        "\n",
        "for i in range(len(candidates)):\n",
        "  print(candidates[:i+1])\n",
        "  for j in range(len(candidates[:i+1])):\n",
        "    #print(candidates[:i+1][j])\n",
        "    if target%candidates[:i+1][j] == 0 :\n",
        "      var1 = int(target/candidates[:i+1][j])\n",
        "      for temp_var1 in range(var1):\n",
        "        temp_combo.append(candidates[:i+1][j])\n",
        "      if temp_combo not in total_combo : total_combo.append(temp_combo)\n",
        "      temp_combo = []\n",
        "  if sum(candidates[:i+1]) < target : \n",
        "    val1 = target - sum(candidates[:i+1])\n",
        "    print(val1)\n",
        "    for val2 in candidates[:i+1]:\n",
        "      temp_combo.append(val2)\n",
        "    \n",
        "    for val3 in candidates[:i+1]:\n",
        "      if val1%val3 == 0 :\n",
        "        val4 = int(val1/val3)\n",
        "        for val5 in range(val4):\n",
        "          temp_combo.append(val3)\n",
        "      if temp_combo not in total_combo : total_combo.append(temp_combo)\n",
        "      temp_combo = []\n",
        "\n",
        "# for i in range(len(candidates)):\n",
        "#   print(candidates[i])\n",
        "#   if target%candidates[i] == 0 : \n",
        "#     var1 = int(target/candidates[i])\n",
        "#     for temp_var1 in range(var1):\n",
        "#       temp_combo.append(candidates[i])\n",
        "#     if temp_combo != []:\n",
        "#       total_combo.append(temp_combo)\n",
        "#       temp_combo = []\n",
        "#   if i != len(candidates)-1 : \n",
        "#       print('here')\n",
        "#       val1 = target - (candidates[i]+candidates[i+1])\n",
        "#       print(val1)\n",
        "#       if val1 in candidates: \n",
        "#         temp_combo.append(candidates[i])\n",
        "#         temp_combo.append(candidates[i+1])\n",
        "#         temp_combo.append(val1)\n",
        "#         total_combo.append(temp_combo)\n",
        "#         temp_combo = []\n",
        "#   #else: \n",
        "#   val = target - candidates[i]\n",
        "#   print(val)\n",
        "#   if val in candidates[i+1:] : \n",
        "#     temp_combo.append(candidates[i])\n",
        "#     temp_combo.append(val)\n",
        "#     total_combo.append(temp_combo)\n",
        "#     temp_combo = []\n",
        "    \n",
        "\n",
        "\n",
        "print(temp_combo)\n",
        "print(total_combo)"
      ]
    },
    {
      "cell_type": "markdown",
      "metadata": {
        "id": "2zZIB_q61o-_"
      },
      "source": [
        "[[1,1,1,1,1,1,1,1,1],[1,1,1,1,1,1,1,2],[1,1,1,1,1,1,3],[1,1,1,1,1,2,2],[1,1,1,1,2,3],[1,1,1,1,5],[1,1,1,2,2,2],[1,1,1,3,3],[1,1,1,6],[1,1,2,2,3],[1,1,2,5],[1,1,7],[1,2,2,2,2],[1,2,3,3],[1,2,6],[1,3,5],[2,2,2,3],[2,2,5],[2,7],[3,3,3],[3,6]]"
      ]
    },
    {
      "cell_type": "code",
      "execution_count": null,
      "metadata": {
        "colab": {
          "base_uri": "https://localhost:8080/"
        },
        "id": "uQzN3GNlBo2Q",
        "outputId": "8f19f3a7-7256-466a-ab49-106f0d03d2b9"
      },
      "outputs": [
        {
          "name": "stdout",
          "output_type": "stream",
          "text": [
            "[1, 2, 3, 5, 6, 7]\n",
            "1\n",
            "divisible\n",
            "9\n",
            "2\n",
            "4\n",
            "1\n",
            "3\n",
            "divisible\n",
            "3\n",
            "5\n",
            "1\n",
            "4\n",
            "6\n",
            "1\n",
            "3\n",
            "7\n",
            "1\n",
            "2\n",
            "[]\n",
            "[[1, 1, 1, 1, 1, 1, 1, 1, 1], [1, 2, 2, 2, 2], [3, 3, 3], [5], [3, 6], [2, 7]]\n"
          ]
        }
      ],
      "source": [
        "candidates = [2,7,6,3,5,1]\n",
        "target = 9\n",
        "\n",
        "temp_combo = []\n",
        "total_combo = []\n",
        "temp_rem_Arr = []\n",
        "candidates.sort()\n",
        "\n",
        "print(candidates)\n",
        "\n",
        "for i in range(len(candidates)):\n",
        "  print(candidates[i])\n",
        "  if target%candidates[i] == 0 : \n",
        "    print('divisible')\n",
        "    print(int(target/candidates[i]))\n",
        "    for j in range(int(target/candidates[i])):\n",
        "      temp_combo.append(candidates[i])\n",
        "    if temp_combo!=[]and temp_combo not in total_combo : total_combo.append(temp_combo)\n",
        "    temp_combo = []\n",
        "\n",
        "  # [1, 2, 3, 5, 6, 7]\n",
        "  else :\n",
        "    var1 =  int(target/candidates[i])\n",
        "    print(var1)\n",
        "    remainder = target - var1*candidates[i]\n",
        "    print(remainder)\n",
        "    if remainder in candidates:\n",
        "      temp_combo.append(remainder)\n",
        "    for var2 in range(var1):\n",
        "      temp_combo.append(candidates[i]) \n",
        "    if temp_combo!=[]and temp_combo not in total_combo : total_combo.append(temp_combo)\n",
        "    temp_combo = []\n",
        "\n",
        "\n",
        "print(temp_combo)\n",
        "print(total_combo)"
      ]
    },
    {
      "cell_type": "code",
      "execution_count": null,
      "metadata": {
        "colab": {
          "base_uri": "https://localhost:8080/"
        },
        "id": "ZzOuFP6Irw9N",
        "outputId": "67eb64ba-8da4-4bbc-fa4b-f4ce97c31a3d"
      },
      "outputs": [
        {
          "name": "stdout",
          "output_type": "stream",
          "text": [
            "2\n",
            "()\n",
            "('(',)\n",
            "(')',)\n",
            "('(', ')')\n"
          ]
        }
      ],
      "source": [
        "from itertools import chain, combinations\n",
        "def all_subsets(ss):\n",
        "    return chain(*map(lambda x: combinations(ss, x), range(0, len(ss)+1)))\n",
        "\n",
        "stuff = '()'\n",
        "print(len(stuff))\n",
        "\n",
        "for subset in all_subsets(stuff):\n",
        "    print(subset)"
      ]
    },
    {
      "cell_type": "code",
      "execution_count": null,
      "metadata": {
        "colab": {
          "base_uri": "https://localhost:8080/"
        },
        "id": "Y2QJdulCyvat",
        "outputId": "0d192dcb-db32-4e50-f734-f75b53d822ba"
      },
      "outputs": [
        {
          "name": "stdout",
          "output_type": "stream",
          "text": [
            "121-\n",
            "False\n"
          ]
        }
      ],
      "source": [
        "x = -121\n",
        "print(str(x)[::-1])\n",
        "rev_x = str(x)[::-1]\n",
        "if str(x) == str(rev_x):\n",
        "  print(\"True\")\n",
        "else:\n",
        "  print(\"False\")"
      ]
    },
    {
      "cell_type": "code",
      "execution_count": null,
      "metadata": {
        "colab": {
          "base_uri": "https://localhost:8080/"
        },
        "id": "sCB216fo01xI",
        "outputId": "2a87d603-8d90-42f2-811d-4e1815013406"
      },
      "outputs": [
        {
          "name": "stdout",
          "output_type": "stream",
          "text": [
            "255[.]100[.]50[.]0\n",
            "255.100.50.0\n",
            " this is good\n"
          ]
        }
      ],
      "source": [
        "address = \"255.100.50.0\"\n",
        "print(address.replace(\".\",\"[.]\"))\n",
        "\n",
        "print(address)\n",
        "\n",
        "str1 = \" this is good\"\n",
        "str1.replace('this', 'that')\n",
        "print(str1)"
      ]
    },
    {
      "cell_type": "code",
      "execution_count": null,
      "metadata": {
        "colab": {
          "base_uri": "https://localhost:8080/",
          "height": 283
        },
        "id": "IZv166Vh4oJh",
        "outputId": "19241332-2b70-413c-93af-59fb66c5fa1d"
      },
      "outputs": [
        {
          "name": "stdout",
          "output_type": "stream",
          "text": [
            "[1, 8, 6, 2, 5, 4, 8, 3, 7]\n",
            "1\n",
            "[6, 2, 5, 4, 8, 3, 7]\n"
          ]
        },
        {
          "ename": "TypeError",
          "evalue": "ignored",
          "output_type": "error",
          "traceback": [
            "\u001b[0;31m---------------------------------------------------------------------------\u001b[0m",
            "\u001b[0;31mTypeError\u001b[0m                                 Traceback (most recent call last)",
            "\u001b[0;32m<ipython-input-3-b247d0c211a9>\u001b[0m in \u001b[0;36m<module>\u001b[0;34m()\u001b[0m\n\u001b[1;32m      8\u001b[0m \u001b[0mprint\u001b[0m\u001b[0;34m(\u001b[0m\u001b[0mheight\u001b[0m\u001b[0;34m[\u001b[0m\u001b[0mmax_index\u001b[0m\u001b[0;34m+\u001b[0m\u001b[0;36m1\u001b[0m\u001b[0;34m:\u001b[0m\u001b[0;34m]\u001b[0m\u001b[0;34m)\u001b[0m\u001b[0;34m\u001b[0m\u001b[0;34m\u001b[0m\u001b[0m\n\u001b[1;32m      9\u001b[0m \u001b[0msub_arr\u001b[0m \u001b[0;34m=\u001b[0m \u001b[0mheight\u001b[0m\u001b[0;34m[\u001b[0m\u001b[0mmax_index\u001b[0m\u001b[0;34m+\u001b[0m\u001b[0;36m1\u001b[0m\u001b[0;34m:\u001b[0m\u001b[0;34m]\u001b[0m\u001b[0;34m\u001b[0m\u001b[0;34m\u001b[0m\u001b[0m\n\u001b[0;32m---> 10\u001b[0;31m \u001b[0mprint\u001b[0m\u001b[0;34m(\u001b[0m\u001b[0mlist\u001b[0m\u001b[0;34m(\u001b[0m\u001b[0msub_arr\u001b[0m\u001b[0;34m)\u001b[0m\u001b[0;34m.\u001b[0m\u001b[0mindex\u001b[0m\u001b[0;34m(\u001b[0m\u001b[0mmax\u001b[0m\u001b[0;34m(\u001b[0m\u001b[0mheight\u001b[0m\u001b[0;34m[\u001b[0m\u001b[0mmax_index\u001b[0m\u001b[0;34m+\u001b[0m\u001b[0;36m1\u001b[0m\u001b[0;34m]\u001b[0m\u001b[0;34m)\u001b[0m\u001b[0;34m)\u001b[0m\u001b[0;34m)\u001b[0m\u001b[0;34m\u001b[0m\u001b[0;34m\u001b[0m\u001b[0m\n\u001b[0m\u001b[1;32m     11\u001b[0m \u001b[0;34m\u001b[0m\u001b[0m\n\u001b[1;32m     12\u001b[0m \u001b[0;34m\u001b[0m\u001b[0m\n",
            "\u001b[0;31mTypeError\u001b[0m: 'int' object is not iterable"
          ]
        }
      ],
      "source": [
        "height = [1,8,6,2,5,4,8,3,7]\n",
        "print(height)\n",
        "max_area_arr =[]\n",
        "\n",
        "max_index = height.index(max(height))\n",
        "print(max_index)\n",
        "\n",
        "print(height[max_index+1:])\n",
        "sub_arr = height[max_index+1:]\n",
        "print(list(sub_arr).index((height[max_index+1])))\n",
        "\n",
        "\n",
        "\n",
        "# sub_max_index = height[max_index+1:].index(max(height[max_index+1]))\n",
        "# print(sub_max_index)\n",
        "\n",
        "# for val in height[max_index+1]:\n",
        "#   if val<\n",
        "\n",
        "# for i in range(len(height)):\n",
        "#   temp_arr = []\n",
        "#   for val in height[i+1:]:\n",
        "#     temp_arr.append(val*height[i])\n",
        "#   max_area_arr.append(max(temp_arr))\n",
        "\n",
        "\n",
        "\n",
        "\n",
        "\n",
        "  # for j in range(len(height)):\n",
        "  #   val = height[i]*height[j]\n",
        "  #   print(val)\n",
        "  #   if val not in max_area_arr : max_area_arr.append(val)\n",
        "\n",
        "  # print(temp_arr)\n",
        "  # print(max_area_arr)\n",
        "  # print(max(max_area_arr))\n"
      ]
    },
    {
      "cell_type": "code",
      "execution_count": null,
      "metadata": {
        "colab": {
          "base_uri": "https://localhost:8080/"
        },
        "id": "WXu6KlJp8yPz",
        "outputId": "e95af034-7bcd-440e-f729-0fa34d66b45b"
      },
      "outputs": [
        {
          "name": "stdout",
          "output_type": "stream",
          "text": [
            "[1, 4, 2, 5, 3, 4, 7]\n",
            "[1, 3, 5, 7]\n",
            "0\n",
            "[1]\n",
            "2\n",
            "[4]\n",
            "3\n",
            "[2]\n",
            "4\n",
            "[5]\n",
            "5\n",
            "[3]\n",
            "6\n",
            "[4]\n",
            "7\n",
            "[7]\n",
            "8\n",
            "[1, 4, 2]\n",
            "4\n",
            "[4, 2, 5]\n",
            "5\n",
            "[2, 5, 3]\n",
            "6\n",
            "[5, 3, 4]\n",
            "7\n",
            "[3, 4, 7]\n",
            "8\n",
            "[1, 4, 2, 5, 3]\n",
            "6\n",
            "[4, 2, 5, 3, 4]\n",
            "7\n",
            "[2, 5, 3, 4, 7]\n",
            "8\n",
            "[1, 4, 2, 5, 3, 4, 7]\n",
            "8\n",
            "160\n"
          ]
        }
      ],
      "source": [
        "arr = [1,4,2,5,3,4,7]\n",
        "print(arr)\n",
        "odd_sum = 0\n",
        "len_arr = len(arr)\n",
        "len_arr_arr = list(range(1,len_arr+1,2))\n",
        "print(len_arr_arr)\n",
        "# odd_sum+=sum(arr)\n",
        "print(odd_sum)\n",
        "odd_flag = False\n",
        "if len_arr > 2 : odd_cnt = 3\n",
        "start_index = 0 \n",
        "\n",
        "for (i,val) in enumerate(len_arr_arr): \n",
        "  odd_cnt = val \n",
        "  start_index = 0\n",
        "  while odd_cnt <= len_arr : \n",
        "    #print('here - while loop')\n",
        "    print(arr[start_index:odd_cnt])\n",
        "    odd_sum+=sum(arr[start_index:odd_cnt])\n",
        "    odd_cnt+=1\n",
        "    start_index+=1\n",
        "    #print(odd_sum)\n",
        "    print(odd_cnt)\n",
        "print(odd_sum)\n",
        "\n",
        "# while odd_flag!=True:\n",
        "#   print('here 1')\n",
        "#   if odd_cnt<=len_arr: \n",
        "#     print('here')\n",
        "#     odd_sum+=sum(arr[start_index:odd_cnt])\n",
        "#     start_index+=1\n",
        "#     odd_cnt+=2\n",
        "#   if odd_cnt == len_arr : \n",
        "#     start_index = 0\n",
        "#     odd_cnt = 5\n",
        "#     odd_flag = True\n",
        "\n",
        "\n",
        "# print(odd_sum)"
      ]
    },
    {
      "cell_type": "code",
      "execution_count": null,
      "metadata": {
        "colab": {
          "base_uri": "https://localhost:8080/"
        },
        "id": "5J2lnPny-1h8",
        "outputId": "1e64e3b3-f402-4114-9adc-91beafe52700"
      },
      "outputs": [
        {
          "name": "stdout",
          "output_type": "stream",
          "text": [
            "[1, 4, 2]\n"
          ]
        }
      ],
      "source": [
        "arr = [1,4,2,5,3]\n",
        "print(arr[0:3])"
      ]
    },
    {
      "cell_type": "code",
      "execution_count": null,
      "metadata": {
        "colab": {
          "base_uri": "https://localhost:8080/"
        },
        "id": "PhDlRP3Vapb3",
        "outputId": "9998d912-f55d-44d6-a3ba-9fe87312ba71"
      },
      "outputs": [
        {
          "name": "stdout",
          "output_type": "stream",
          "text": [
            "[True, True, True, False, True]\n"
          ]
        }
      ],
      "source": [
        "candies = [2,3,5,1,3]\n",
        "extraCandies = 3\n",
        "result_arr = []\n",
        "max_candies = max(candies)\n",
        "\n",
        "for (i,val) in enumerate(candies):\n",
        "  if max_candies-val <= extraCandies : result_arr.append(True)\n",
        "  else: result_arr.append(False)\n",
        "\n",
        "print(result_arr)"
      ]
    },
    {
      "cell_type": "code",
      "execution_count": null,
      "metadata": {
        "colab": {
          "base_uri": "https://localhost:8080/"
        },
        "id": "I_QXQ1WYhrQj",
        "outputId": "113880b3-7d14-4524-a908-b795a82f440b"
      },
      "outputs": [
        {
          "name": "stdout",
          "output_type": "stream",
          "text": [
            "[1, 2, 3, 4]\n",
            "[4, 3, 2, 1]\n",
            "[1, 4, 2, 3, 3, 2, 4, 1]\n"
          ]
        }
      ],
      "source": [
        "nums = [1,2,3,4,4,3,2,1]\n",
        "n = 4\n",
        "print(nums[:n])\n",
        "print(nums[n:])\n",
        "new_nums = []\n",
        "for i in range(n):\n",
        "  new_nums.append(nums[:n][i])\n",
        "  new_nums.append(nums[n:][i])\n",
        "\n",
        "print(new_nums)"
      ]
    },
    {
      "cell_type": "code",
      "execution_count": null,
      "metadata": {
        "colab": {
          "base_uri": "https://localhost:8080/"
        },
        "id": "qGUD2MAtm46o",
        "outputId": "ca139fc1-1b74-4050-9519-26a186d592ce"
      },
      "outputs": [
        {
          "name": "stdout",
          "output_type": "stream",
          "text": [
            "[6, 10, 8]\n",
            "10\n"
          ]
        }
      ],
      "source": [
        "accounts = [[1,5],[7,3],[3,5]]\n",
        "sum_accounts = []\n",
        "for val in accounts:\n",
        "  sum_accounts.append(sum(val))\n",
        "\n",
        "print(sum_accounts)\n",
        "print(max(sum_accounts))"
      ]
    },
    {
      "cell_type": "code",
      "execution_count": null,
      "metadata": {
        "colab": {
          "base_uri": "https://localhost:8080/"
        },
        "id": "OabIUojIu8f9",
        "outputId": "c5a7b75b-b036-4875-8dd3-f3027225af46"
      },
      "outputs": [
        {
          "name": "stdout",
          "output_type": "stream",
          "text": [
            "[3, 5, 2, 6]\n",
            "[[], [3], [5], [3, 5], [2], [3, 2], [5, 2], [3, 5, 2], [6], [3, 6], [5, 6], [3, 5, 6], [2, 6], [3, 2, 6], [5, 2, 6], [3, 5, 2, 6]]\n",
            "[2, 6]\n"
          ]
        }
      ],
      "source": [
        "# nums = [2,4,3,3,5,4,9,6]\n",
        "# k = 4\n",
        "\n",
        "nums = [3,5,2,6]\n",
        "k = 2\n",
        "\n",
        "# permutations = list((nums[j:][0:k] for j in range(len(nums) - k + 1)))\n",
        "# print(permutations)\n",
        "\n",
        "#https://leetcode.com/problems/find-the-most-competitive-subsequence/\n",
        "\n",
        "print(nums[:])\n",
        "\n",
        "base = []   \n",
        "lists = [base] \n",
        "for i in range(len(nums)): \n",
        "    orig = lists[:] \n",
        "    #print(orig)\n",
        "    new = nums[i] \n",
        "    #print(new)\n",
        "    for j in range(len(lists)): \n",
        "        lists[j] = lists[j] + [new] \n",
        "        #print(lists[j])\n",
        "    lists = orig + lists \n",
        "    #print(lists)\n",
        "\n",
        "print(lists)\n",
        "lists_n = []\n",
        "for val in lists:\n",
        "  #print(len(val))\n",
        "  if len(val) == k : \n",
        "    # print(len(val))\n",
        "    # print(val)\n",
        "    lists_n+=[val]\n",
        "print(sorted(lists_n)[0])\n",
        "\n",
        "# temp_arr = []\n",
        "# for val in lists_n:\n",
        "#   #print(val[:3])\n",
        "#   for val2 in lists_n:\n",
        "#     #print(val[:3][:] in val2[:])\n",
        "#     print(val[:3][:])\n",
        "#     print(val2[:])\n",
        "#     if val[:3] in val2: temp_arr.append(val2)\n",
        "#     print(temp_arr)\n"
      ]
    },
    {
      "cell_type": "code",
      "execution_count": null,
      "metadata": {
        "colab": {
          "base_uri": "https://localhost:8080/",
          "height": 35
        },
        "id": "BaV2QLHrmxNH",
        "outputId": "2dbd9ff0-4037-467d-b0c2-a1d38ef81872"
      },
      "outputs": [
        {
          "data": {
            "application/vnd.google.colaboratory.intrinsic+json": {
              "type": "string"
            },
            "text/plain": [
              "'/content'"
            ]
          },
          "execution_count": 21,
          "metadata": {
            "tags": []
          },
          "output_type": "execute_result"
        }
      ],
      "source": [
        "%pwd"
      ]
    },
    {
      "cell_type": "code",
      "execution_count": null,
      "metadata": {
        "colab": {
          "base_uri": "https://localhost:8080/"
        },
        "id": "nAc1uQfom1O-",
        "outputId": "268873c5-9180-448e-b853-ff632a60a70e"
      },
      "outputs": [
        {
          "name": "stdout",
          "output_type": "stream",
          "text": [
            "/\n"
          ]
        }
      ],
      "source": [
        "cd .. "
      ]
    },
    {
      "cell_type": "code",
      "execution_count": null,
      "metadata": {
        "id": "8x05LB7nnyn4"
      },
      "outputs": [],
      "source": [
        "from google.colab import drive\n",
        "drive.mount('/content/drive')"
      ]
    },
    {
      "cell_type": "code",
      "execution_count": null,
      "metadata": {
        "colab": {
          "base_uri": "https://localhost:8080/"
        },
        "id": "--QtRxgD1A9p",
        "outputId": "d23b24fe-c358-458b-fc3f-367b09ae9609"
      },
      "outputs": [
        {
          "name": "stdout",
          "output_type": "stream",
          "text": [
            "1\n",
            "1\n",
            "1\n",
            "1.1\n",
            "1\n",
            "1\n",
            "1\n",
            "1.1\n",
            "1\n",
            "1\n",
            "1.1\n",
            "[2, 3, 3, 4]\n"
          ]
        }
      ],
      "source": [
        "\n",
        "nums = [3,5,2,6]\n",
        "k = 2\n",
        "\n",
        "nums = [2,4,3,3,5,4,9,6]\n",
        "k = 4\n",
        "\n",
        "#https://leetcode.com/problems/find-the-most-competitive-subsequence/\n",
        "\n",
        "\n",
        "attempts = len(nums) - k\n",
        "stack = []\n",
        "for num in nums:\n",
        "  print('1')\n",
        "  while stack and num < stack[-1] and attempts > 0:\n",
        "       print('1.1')\n",
        "       stack.pop()\n",
        "       attempts -= 1\n",
        "  stack.append(num)\n",
        "        \n",
        "print(stack[:k])"
      ]
    },
    {
      "cell_type": "code",
      "execution_count": null,
      "metadata": {
        "id": "x_atk7u23YwX"
      },
      "outputs": [],
      "source": [
        "# https://leetcode.com/DBabichev/\n",
        "\n",
        "X = 3\n",
        "Y = 10\n",
        "\n",
        "X = 1\n",
        "Y = 1000000000\n",
        "\n",
        "print(X)\n",
        "print(Y)\n",
        "\n",
        "\n",
        "temp_arr = 0\n",
        "step_cnt = []\n",
        "\n",
        "while X!=Y : \n",
        "  if X==Y : break\n",
        "  if X<=(Y//2) or Y-X >= X: \n",
        "    X*=2\n",
        "    temp_arr+=1\n",
        "  elif X*2>Y and X*2-Y==1:\n",
        "    X*=2\n",
        "    temp_arr+=1\n",
        "  else : \n",
        "    X-=1\n",
        "    temp_arr+=1\n",
        "  print(X)\n",
        "#step_cnt+=[temp_arr]\n",
        "\n",
        "#print(step_cnt)\n",
        "print(temp_arr)\n",
        "\n",
        "\n",
        "# if Y%2 == 0 :  \n",
        "#   var = Y//2 \n",
        "#   print(var)\n",
        "\n"
      ]
    },
    {
      "cell_type": "code",
      "execution_count": null,
      "metadata": {
        "colab": {
          "base_uri": "https://localhost:8080/",
          "height": 130
        },
        "id": "ZCdG61DKCL1S",
        "outputId": "78c1de95-746a-4551-c59f-0457d08947c7"
      },
      "outputs": [
        {
          "ename": "SyntaxError",
          "evalue": "ignored",
          "output_type": "error",
          "traceback": [
            "\u001b[0;36m  File \u001b[0;32m\"<ipython-input-1-279f7a019b7a>\"\u001b[0;36m, line \u001b[0;32m5\u001b[0m\n\u001b[0;31m    if X > Y: return X - Y\u001b[0m\n\u001b[0m             ^\u001b[0m\n\u001b[0;31mSyntaxError\u001b[0m\u001b[0;31m:\u001b[0m 'return' outside function\n"
          ]
        }
      ],
      "source": [
        "X = 1\n",
        "Y = 1000000000\n",
        "\n",
        "\n",
        "if X > Y: \n",
        "  return X - Y\n",
        "if X == Y: \n",
        "  return 0\n",
        "if Y % 2 == 0:\n",
        "  return self.brokenCalc(X, Y//2) + 1\n",
        "else:\n",
        "  return self.brokenCalc(X, Y + 1) + 1"
      ]
    },
    {
      "cell_type": "code",
      "execution_count": null,
      "metadata": {
        "id": "P92otGhCDfva"
      },
      "outputs": [],
      "source": [
        "nums = [1,2,3,1,1,3]\n",
        "\n",
        "print(nums)\n",
        "stack = []\n",
        "temp_index = []\n",
        "good_pairs_list = []\n",
        "for (i,val) in enumerate(nums): \n",
        "  temp_index.append(i)\n",
        "  stack.append(nums[i])\n",
        "  print(nums[i:])\n",
        "  for (j,val2) in enumerate(nums[i+1:]):\n",
        "    if val2 == stack[-1] : \n",
        "      temp_index.append(j+i+1)\n",
        "    print(good_pairs_list)\n",
        "    # print(temp_index)\n",
        "    # print(stack)\n",
        "    if len(temp_index)==2: \n",
        "      good_pairs_list.append(temp_index)\n",
        "      temp_index.append(i)\n",
        "  stack = []\n",
        "# print(good_pairs_list)\n",
        "# print(temp_index)\n",
        "# print(stack)"
      ]
    },
    {
      "cell_type": "code",
      "execution_count": null,
      "metadata": {
        "id": "yXCiZB6Bxjv5"
      },
      "outputs": [],
      "source": [
        "nums = [1,2,3,1,1,3]\n",
        "\n",
        "print(nums)\n",
        "#stack = []\n",
        "temp_index = []\n",
        "good_pairs_list = []\n",
        "for (i,val) in enumerate(nums): \n",
        "  #stack.append(nums[i])\n",
        "  temp_index.append(i)\n",
        "  for (j,val2) in enumerate(nums[i+1:]):\n",
        "    print(val2) \n",
        "    #temp_index.append(i)\n",
        "    if val2 == nums[i] : \n",
        "      print('match')\n",
        "      temp_index.append(j+i+1)\n",
        "    if len(temp_index)==2: \n",
        "      good_pairs_list.append(temp_index)\n",
        "      temp_index.remove(temp_index[-1])\n",
        "    print(good_pairs_list)\n",
        "    print(temp_index)\n",
        "    print('***')\n",
        "  if temp_index!=[]: temp_index = []\n",
        "\n"
      ]
    },
    {
      "cell_type": "code",
      "execution_count": null,
      "metadata": {
        "id": "ov1FL1ed1LvI"
      },
      "outputs": [],
      "source": [
        "nums = [1,2,3,1,1,3]\n",
        "\n",
        "print(nums)\n",
        "temp_index = []\n",
        "good_pairs_list = []\n",
        "\n",
        "for i,val in enumerate(nums): \n",
        "  temp_index.append(i)\n",
        "  for j,val2 in enumerate(nums[i+1:]):\n",
        "    if val2 == nums[i] : temp_index.append(j+i+1)\n",
        "    if len(temp_index) == 2 : \n",
        "      print('match')\n",
        "      good_pairs_list.append(temp_index)\n",
        "      temp_index.remove(temp_index[-1])\n",
        "    print(good_pairs_list)\n",
        "    print('***')\n",
        "\n"
      ]
    },
    {
      "cell_type": "code",
      "execution_count": null,
      "metadata": {
        "colab": {
          "base_uri": "https://localhost:8080/"
        },
        "id": "5yBJf0wBGat4",
        "outputId": "a4a230b4-2507-4430-b4f0-dcbcec7e27f3"
      },
      "outputs": [
        {
          "name": "stdout",
          "output_type": "stream",
          "text": [
            "[1, 2, 3]\n",
            "[]\n",
            "0\n",
            "***\n",
            "[]\n",
            "0\n",
            "***\n",
            "[]\n",
            "0\n",
            "***\n"
          ]
        }
      ],
      "source": [
        "nums = [1,2,3,1,1,3]\n",
        "nums = [1,1,1,1]\n",
        "nums = [1,2,3]\n",
        "\n",
        "print(nums)\n",
        "temp_index = []\n",
        "good_pairs_list = []\n",
        "\n",
        "good_pairs_cnt = 0 \n",
        "\n",
        "for i,val in enumerate(nums): \n",
        "  for j,val2 in enumerate(nums[i+1:]):\n",
        "    if val2 == nums[i] : good_pairs_cnt+=1\n",
        "      # temp_index.append(i)\n",
        "      # temp_index.append(j+i+1)\n",
        "      # if len(temp_index) == 2 : \n",
        "      #   #print('match')\n",
        "      #   good_pairs_list.append(temp_index)\n",
        "      #   temp_index.remove(temp_index[-1])\n",
        "    print(good_pairs_list)\n",
        "    print(good_pairs_cnt)\n",
        "    print('***')\n"
      ]
    },
    {
      "cell_type": "code",
      "execution_count": null,
      "metadata": {
        "colab": {
          "base_uri": "https://localhost:8080/"
        },
        "id": "JWUKjp-EH7Ar",
        "outputId": "62990111-506a-4ba1-8c40-f6bfa8aee635"
      },
      "outputs": [
        {
          "name": "stdout",
          "output_type": "stream",
          "text": [
            "{1: 3, 2: 1, 3: 2}\n",
            "4\n"
          ]
        }
      ],
      "source": [
        "nums = [1,2,3,1,1,3]\n",
        "\n",
        "ans = 0\n",
        "d = dict()\n",
        "for n in nums:\n",
        "  if n in d:\n",
        "    d[n] += 1\n",
        "  else:\n",
        "    d[n] = 1\n",
        "print(d)\n",
        "for n in d:\n",
        "  # Number of pairs from n numbers is n*(n-1)/2\n",
        "  ans += d[n] * (d[n] - 1) // 2   \n",
        "print(ans)\n",
        "#return ans"
      ]
    },
    {
      "cell_type": "code",
      "execution_count": null,
      "metadata": {
        "colab": {
          "base_uri": "https://localhost:8080/"
        },
        "id": "1JacfONDIm5-",
        "outputId": "69bc4fa2-f123-4113-d2e9-b7216d54b29f"
      },
      "outputs": [
        {
          "name": "stdout",
          "output_type": "stream",
          "text": [
            "3\n",
            "3\n"
          ]
        }
      ],
      "source": [
        "#https://leetcode.com/problems/jewels-and-stones/\n",
        "\n",
        "jewels = \"aA\"\n",
        "stones = \"aAAbbbb\"\n",
        "\n",
        "print(sum(stones.count(jewels[x]) for x in range(len(jewels))))\n",
        "\n",
        "result_cnt = 0 \n",
        "\n",
        "for stone in stones : \n",
        "  if stone in jewels: \n",
        "    result_cnt+=1\n",
        "\n",
        "print(result_cnt)\n",
        "\n"
      ]
    },
    {
      "cell_type": "code",
      "execution_count": null,
      "metadata": {
        "id": "7ejWfc5zKulf"
      },
      "outputs": [],
      "source": [
        "#https://leetcode.com/problems/design-parking-system\n",
        "\n",
        "SyntaxError: invalid syntax\n",
        "          ^\n",
        "    global.big = big\n",
        "Line 4  (Solution.py)"
      ]
    },
    {
      "cell_type": "code",
      "execution_count": null,
      "metadata": {
        "colab": {
          "base_uri": "https://localhost:8080/"
        },
        "id": "nw02Z-Ymwlv6",
        "outputId": "d231817a-4f0d-4279-d1b1-80180f01f181"
      },
      "outputs": [
        {
          "name": "stdout",
          "output_type": "stream",
          "text": [
            "[2, 1, 0, 3]\n"
          ]
        }
      ],
      "source": [
        "\n",
        "nums = [8,1,2,2,3]\n",
        "nums = [7,7,7,7]\n",
        "nums = [6,5,4,8]\n",
        "temp_cnt = []\n",
        "for val in nums : \n",
        "  #filtered = filter (lambda x: x < val , nums)\n",
        "  temp_cnt.append(len(list(filter (lambda x: x < val , nums))))\n",
        "print(temp_cnt)"
      ]
    },
    {
      "cell_type": "code",
      "execution_count": null,
      "metadata": {
        "colab": {
          "base_uri": "https://localhost:8080/"
        },
        "id": "-pciKFQyxPlb",
        "outputId": "f9126b59-4cb9-440f-ab50-f4b3618cb610"
      },
      "outputs": [
        {
          "name": "stdout",
          "output_type": "stream",
          "text": [
            "[1, 2, 2, 3]\n"
          ]
        }
      ],
      "source": [
        "#from  itertools import takewhile\n",
        "nums = [8,1,2,2,3]\n",
        "filtered = filter (lambda x: x < 8 , nums)\n",
        "#filtered = map (lambda x: x < 8 , nums)\n",
        "#filtered = lambda x: x < 8 , nums\n",
        "print(list(filtered)) \n",
        "#print(list(takewhile(lambda x: x<8 for x in nums)))"
      ]
    },
    {
      "cell_type": "code",
      "execution_count": null,
      "metadata": {
        "colab": {
          "base_uri": "https://localhost:8080/"
        },
        "id": "AMpR9cye014v",
        "outputId": "c45e4adc-36f4-4db6-a821-6edaa1056ebe"
      },
      "outputs": [
        {
          "name": "stdout",
          "output_type": "stream",
          "text": [
            "[<generator object <genexpr> at 0x7f06deeada98>]\n"
          ]
        }
      ],
      "source": [
        "print([(lambda nums: x < 8 for x in nums)])"
      ]
    },
    {
      "cell_type": "code",
      "execution_count": null,
      "metadata": {
        "colab": {
          "base_uri": "https://localhost:8080/"
        },
        "id": "eibOLnOV5HFa",
        "outputId": "2fa9d726-9c86-4e83-d67a-8d8820951711"
      },
      "outputs": [
        {
          "name": "stdout",
          "output_type": "stream",
          "text": [
            "123\n",
            "0\n",
            "12\n"
          ]
        }
      ],
      "source": [
        "num = 123\n",
        "\n",
        "print(num)\n",
        "step_cnt = 0 \n",
        "while num!=0 : \n",
        "  if num%2 == 0 : \n",
        "    num = num//2 \n",
        "    step_cnt+=1\n",
        "    #break\n",
        "  else: \n",
        "    num-=1 \n",
        "    step_cnt+=1\n",
        "\n",
        "print(num)\n",
        "print(step_cnt)"
      ]
    },
    {
      "cell_type": "code",
      "execution_count": null,
      "metadata": {
        "colab": {
          "base_uri": "https://localhost:8080/"
        },
        "id": "e5VO1rOFejj4",
        "outputId": "21e8a05c-8b1a-402d-e14d-6fd52a915015"
      },
      "outputs": [
        {
          "name": "stdout",
          "output_type": "stream",
          "text": [
            "['c', 'o', 'd', 'e', 'l', 'e', 'e', 't']\n",
            "leetcode\n"
          ]
        }
      ],
      "source": [
        "s = \"codeleet\"\n",
        "indices = [4,5,6,7,0,2,1,3]\n",
        "\n",
        "#s_arr = list(map(str,s))\n",
        "result_arr = ''\n",
        "print(s_arr)\n",
        "\n",
        "# for i,val in enumerate(s) : \n",
        "#   result[indices[i]]\n",
        "\n",
        "for i in range(len(s)): result_arr+=(s[indices.index(i)])\n",
        "\n",
        "print(result_arr)\n"
      ]
    },
    {
      "cell_type": "code",
      "execution_count": null,
      "metadata": {
        "colab": {
          "base_uri": "https://localhost:8080/"
        },
        "id": "uqQWkVMDgcu8",
        "outputId": "c1f84c8d-a8ff-4f5f-a909-bc6eccbb7f87"
      },
      "outputs": [
        {
          "name": "stdout",
          "output_type": "stream",
          "text": [
            "4\n",
            "5\n",
            "6\n",
            "7\n",
            "0\n",
            "2\n",
            "1\n",
            "3\n",
            "leetcdoe\n"
          ]
        }
      ],
      "source": [
        " out_str = \"\"\n",
        " for idx in indices:\n",
        "   print(idx)\n",
        "   for i,elem in enumerate(s):\n",
        "     if idx == i:\n",
        "       out_str+=s[idx]\n",
        "\n",
        "print(out_str)"
      ]
    },
    {
      "cell_type": "code",
      "execution_count": null,
      "metadata": {
        "id": "flfLNYfkNHLx"
      },
      "outputs": [],
      "source": [
        "nums = [1,2,3,1,1,3]\n",
        "\n",
        "print(nums)\n",
        "temp_index = []\n",
        "good_pairs_list = []\n",
        "\n",
        "for i,val in enumerate(nums): \n",
        "  temp_index.append(i)\n",
        "  for j,val2 in enumerate(nums[i+1:]):\n",
        "    if val2 == nums[i] : temp_index.append(j+i+1)\n",
        "    if len(temp_index) == 2 : \n",
        "      print('match')\n",
        "      good_pairs_list.append(temp_index)\n",
        "      temp_index.remove(temp_index[-1])\n",
        "    print(good_pairs_list)\n",
        "    print('***')\n"
      ]
    },
    {
      "cell_type": "code",
      "execution_count": null,
      "metadata": {
        "colab": {
          "base_uri": "https://localhost:8080/"
        },
        "id": "C96CtuEGdHm7",
        "outputId": "6c311be3-ab0e-4941-e7c5-fde5864f0ac7"
      },
      "outputs": [
        {
          "name": "stdout",
          "output_type": "stream",
          "text": [
            "[2, 3, 4]\n",
            "15\n"
          ]
        }
      ],
      "source": [
        "import numpy as np\n",
        "\n",
        "\n",
        "n = 234\n",
        "\n",
        "n_arr = list(map(int,str(n)))\n",
        "print(n_arr)\n",
        "\n",
        "# prod_val = 1\n",
        "# prod2 = (lambda prod_val: prod_val * n1 for n1 in n_arr)\n",
        "# print(prod2)\n",
        "\n",
        "result = np.prod(n_arr) - sum(n_arr)\n",
        "print(result)"
      ]
    },
    {
      "cell_type": "code",
      "execution_count": null,
      "metadata": {
        "colab": {
          "base_uri": "https://localhost:8080/"
        },
        "id": "cK230vvqqJKK",
        "outputId": "15967d29-9f9e-4eee-9cad-8bbee5a7672f"
      },
      "outputs": [
        {
          "name": "stdout",
          "output_type": "stream",
          "text": [
            "3\n",
            "101\n",
            "101\n",
            "10\n",
            "1\n",
            "3\n"
          ]
        }
      ],
      "source": [
        "target = \"101\"\n",
        "\n",
        "print(len(target))\n",
        "print(int(target))\n",
        "step_cnt = 0\n",
        "\n",
        "while True : \n",
        "  if int(target) == 0 : break\n",
        "  target = target.lstrip('0')\n",
        "  print(target) \n",
        "  inverse_s = ''.join(['1' if i == '0' else '0' \n",
        "                     for i in target]) \n",
        "  #print(inverse_s)\n",
        "  #print(inverse_s.lstrip('0'))\n",
        "  target = inverse_s.lstrip('0')\n",
        "  step_cnt+=1\n",
        "  if target == '' : break\n",
        "print(step_cnt)\n",
        "# print(target)"
      ]
    },
    {
      "cell_type": "code",
      "execution_count": null,
      "metadata": {
        "colab": {
          "base_uri": "https://localhost:8080/"
        },
        "id": "zldvFuM_dKRU",
        "outputId": "f549c7b2-d268-44ff-ac7e-92f9fbfef615"
      },
      "outputs": [
        {
          "name": "stdout",
          "output_type": "stream",
          "text": [
            "4\n",
            "5\n"
          ]
        }
      ],
      "source": [
        "target = \"001011101\"\n",
        "\n",
        "c= 2 * target.count('10')\n",
        "print(c)\n",
        "print(c+ 1 if target[-1] == '1' else c)\n",
        "# return  c+ 1 if target[-1] == '1' else c"
      ]
    },
    {
      "cell_type": "code",
      "execution_count": null,
      "metadata": {
        "colab": {
          "base_uri": "https://localhost:8080/"
        },
        "id": "Z5v76c0Z_m4B",
        "outputId": "6ef120af-b0e7-4fcd-8e4e-56490795c923"
      },
      "outputs": [
        {
          "name": "stdout",
          "output_type": "stream",
          "text": [
            "(al)G(al)()()G\n",
            "alGalooG\n"
          ]
        }
      ],
      "source": [
        "command = \"G()(al)\"\n",
        "command = \"G()()()()(al)\"\n",
        "command = \"(al)G(al)()()G\"\n",
        "print(command)\n",
        "command = command.replace('()', 'o')\n",
        "command = command.replace('(al)','al')\n",
        "\n",
        "print(command)\n",
        "\n"
      ]
    },
    {
      "cell_type": "code",
      "execution_count": null,
      "metadata": {
        "colab": {
          "base_uri": "https://localhost:8080/"
        },
        "id": "g5HgGODpA1fG",
        "outputId": "c183d256-19bd-492b-96fd-776809332f76"
      },
      "outputs": [
        {
          "name": "stdout",
          "output_type": "stream",
          "text": [
            "Keep calm and code on\n",
            "['Keep', 'calm', 'and', 'code', 'on']\n",
            "['on', 'code', 'calm', 'and', 'Keep']\n"
          ]
        }
      ],
      "source": [
        "text = \"Leetcode is cool\"\n",
        "text = \"Keep calm and code on\"\n",
        "print(text)\n",
        "text_arr = text.split(' ')\n",
        "print(text_arr)\n",
        "text_arr.sort()\n",
        "text_arr.reverse()\n",
        "#reversed(text_arr)\n",
        "print(text_arr)\n",
        "# result_arr = []\n",
        "# for val in text_arr: \n"
      ]
    },
    {
      "cell_type": "code",
      "execution_count": null,
      "metadata": {
        "colab": {
          "base_uri": "https://localhost:8080/"
        },
        "id": "QLWHVZFb2lix",
        "outputId": "ece158d1-94be-4831-ebe7-2e3845358c81"
      },
      "outputs": [
        {
          "name": "stdout",
          "output_type": "stream",
          "text": [
            "[1, 1, 2, 3]\n",
            "1\n",
            "2\n",
            "[1, 3, 3]\n"
          ]
        }
      ],
      "source": [
        "nums = [1,2,3,4]\n",
        "\n",
        "nums = [1,1,2,3]\n",
        "\n",
        "print(nums)\n",
        "\n",
        "v1,v2 = 0,0 \n",
        "result_str = []\n",
        "\n",
        "for i in range(0,len(nums),2): \n",
        "  print(nums[i])\n",
        "  v1,v2 = nums[i], nums[i+1]\n",
        "  for j in range(v1) : result_str.append(v2)\n",
        "\n",
        "print(result_str)"
      ]
    },
    {
      "cell_type": "code",
      "execution_count": null,
      "metadata": {
        "colab": {
          "base_uri": "https://localhost:8080/"
        },
        "id": "5wonSTjn4gWJ",
        "outputId": "0bbf83d3-995f-468e-cd0d-25821a42adb6"
      },
      "outputs": [
        {
          "name": "stdout",
          "output_type": "stream",
          "text": [
            "['a', 'b', 'b', 'b', 'b', 'b', 'b', 'b', 'b', 'b', 'b', 'b', 'b']\n",
            "a\n",
            "ab\n",
            "12\n",
            "12\n",
            "12\n",
            "12\n",
            "12\n",
            "12\n",
            "12\n",
            "12\n",
            "12\n",
            "12\n",
            "12\n",
            "ab12\n",
            "4\n"
          ]
        }
      ],
      "source": [
        "# https://leetcode.com/problems/string-compression/\n",
        "\n",
        "chars = [\"a\",\"a\",\"b\",\"b\",\"c\",\"c\",\"c\"]\n",
        "chars = [\"a\"]\n",
        "chars = [\"a\",\"b\",\"b\",\"b\",\"b\",\"b\",\"b\",\"b\",\"b\",\"b\",\"b\",\"b\",\"b\"]\n",
        "print(chars)\n",
        "# s = []\n",
        "s = ''\n",
        "for val in chars: \n",
        "  if val not in s : \n",
        "    #s.append(val)\n",
        "    s+=val\n",
        "    print(s)\n",
        "  else : \n",
        "    temp_cnt = chars.count(val)\n",
        "    print(temp_cnt)\n",
        "    if s[-1] == val : \n",
        "      #s.append(str(temp_cnt))\n",
        "      s+=str(temp_cnt)\n",
        "\n",
        "print(s)\n",
        "print(len(s))"
      ]
    },
    {
      "cell_type": "code",
      "execution_count": null,
      "metadata": {
        "id": "H-MKKX-27VYJ"
      },
      "outputs": [],
      "source": [
        "# [\"a\",\"a\",\"b\",\"b\",\"c\",\"c\",\"c\"]\n",
        "# [\"a\"]\n",
        "# [\"a\",\"b\",\"b\",\"b\",\"b\",\"b\",\"b\",\"b\",\"b\",\"b\",\"b\",\"b\",\"b\"]\n",
        "# [\"a\",\"a\",\"a\",\"b\",\"b\",\"a\",\"a\"]\n",
        "\n",
        "chars = [\"a\",\"b\",\"b\",\"b\",\"b\",\"b\",\"b\",\"b\",\"b\",\"b\",\"b\",\"b\",\"b\"]\n",
        "chars = [\"a\",\"a\",\"a\",\"b\",\"b\",\"a\",\"a\"]\n",
        "print(chars)\n",
        "s = []\n",
        "# s = ''\n",
        "prev_char = ''\n",
        "temp_cnt = 1\n",
        "for val in chars: \n",
        "  if val != prev_char :\n",
        "    if temp_cnt > 1 : \n",
        "      print('here')\n",
        "      for val2 in list(map(str,str(temp_cnt))) : s.append(val2)\n",
        "      temp_cnt = 1 \n",
        "    s.append(val)     \n",
        "  else : \n",
        "    temp_cnt += 1   #chars.count(val)\n",
        "     \n",
        "  prev_char = val\n",
        "  print(prev_char)\n",
        "  print(temp_cnt)\n",
        "chars = s\n",
        "print(chars)\n",
        "print(len(chars))\n"
      ]
    },
    {
      "cell_type": "code",
      "execution_count": null,
      "metadata": {
        "colab": {
          "base_uri": "https://localhost:8080/"
        },
        "id": "vZe5jbsG-e6o",
        "outputId": "36229ae6-f68a-4ea0-c327-6ed7302cb981"
      },
      "outputs": [
        {
          "name": "stdout",
          "output_type": "stream",
          "text": [
            "['a', 'b', 'b', 'b', 'b', 'b', 'b', 'b', 'b', 'b', 'b', 'b', 'b']\n",
            "here\n",
            "here\n",
            "['a', 'b', '1', '2']\n",
            "4\n",
            "<class 'list'>\n",
            "<class 'list'>\n"
          ]
        }
      ],
      "source": [
        "chars = [\"a\",\"a\",\"a\",\"b\",\"b\",\"a\",\"a\"]\n",
        "chars = [\"a\",\"b\",\"b\",\"b\",\"b\",\"b\",\"b\",\"b\",\"b\",\"b\",\"b\",\"b\",\"b\"]\n",
        "\n",
        "print(chars)\n",
        "s = []\n",
        "prev_char = ''\n",
        "temp_cnt = 1\n",
        "for val in chars : \n",
        "  if val != prev_char : \n",
        "    print('here')\n",
        "    if temp_cnt > 1 and s[-1] == prev_char : \n",
        "      for val2 in list(map(str,str(temp_cnt))) : s.append(val2) \n",
        "      temp_cnt = 1\n",
        "    s.append(val)\n",
        "  else : \n",
        "    temp_cnt+=1\n",
        "  prev_char = val\n",
        "if temp_cnt > 1 and s[-1] == prev_char : \n",
        "      for val2 in list(map(str,str(temp_cnt))) : s.append(val2) \n",
        "chars = s\n",
        "print(chars)\n",
        "print(len(chars))\n",
        "\n",
        "print(type(s))\n",
        "print(type(chars))\n"
      ]
    },
    {
      "cell_type": "code",
      "execution_count": null,
      "metadata": {
        "id": "5y7L79pbE6AC"
      },
      "outputs": [],
      "source": [
        "        prev, cnt, pos = None, 0, 0\n",
        "        \n",
        "        def addCount(cnt, pos):\n",
        "            if cnt <= 1: return 0\n",
        "            cnt_str = str(cnt)\n",
        "            for ic in cnt_str:\n",
        "                chars[pos] = ic\n",
        "                pos += 1\n",
        "            return len(cnt_str)\n",
        "                \n",
        "        for c in chars:\n",
        "            if c != prev:\n",
        "                pos += addCount(cnt, pos)\n",
        "                chars[pos] = c\n",
        "                pos += 1\n",
        "                prev, cnt = c, 1\n",
        "            else:\n",
        "                cnt += 1\n",
        "        pos += addCount(cnt, pos)"
      ]
    },
    {
      "cell_type": "code",
      "execution_count": null,
      "metadata": {
        "id": "6a2VQi2dFmvq"
      },
      "outputs": [],
      "source": [
        "# https://leetcode.com/problems/count-and-say/\n"
      ]
    },
    {
      "cell_type": "code",
      "execution_count": null,
      "metadata": {
        "colab": {
          "base_uri": "https://localhost:8080/"
        },
        "id": "EAU5bJB3kMjt",
        "outputId": "29aee3e9-7fb2-4688-dd22-317d1c925aa1"
      },
      "outputs": [
        {
          "name": "stdout",
          "output_type": "stream",
          "text": [
            "[0, 1, 2, 3, 4]\n"
          ]
        }
      ],
      "source": [
        "nums = [0,1,2,3,4]\n",
        "index = [0,1,2,2,1]\n",
        "\n",
        "nums = [1,2,3,4,0]\n",
        "index = [0,1,2,3,0]\n",
        "\n",
        "output_arr = []\n",
        "\n",
        "for i,val in enumerate(nums) : \n",
        "  output_arr.insert(index[i],val)\n",
        "\n",
        "print(output_arr)"
      ]
    },
    {
      "cell_type": "code",
      "execution_count": null,
      "metadata": {
        "colab": {
          "base_uri": "https://localhost:8080/"
        },
        "id": "PQ7pofkbRc9v",
        "outputId": "3efcf44c-39e3-4b5c-bea4-07634409e219"
      },
      "outputs": [
        {
          "name": "stdout",
          "output_type": "stream",
          "text": [
            "\n",
            "2\n"
          ]
        }
      ],
      "source": [
        "s = \"RLRRLLRLRL\"\n",
        "s = \"RLLLLRRRLR\"\n",
        "s = \"LLLLRRRR\"\n",
        "s = \"RLRRRLLRLL\"\n",
        "\n",
        "temp_str = ''\n",
        "balanced_cnt = 0\n",
        "for val in s : \n",
        "  # print(val)\n",
        "  temp_str+=val\n",
        "  if temp_str.count('L') == temp_str.count('R') : \n",
        "    balanced_cnt+=1\n",
        "    temp_str = ''\n",
        "\n",
        "print(temp_str)\n",
        "print(balanced_cnt)\n"
      ]
    },
    {
      "cell_type": "code",
      "execution_count": null,
      "metadata": {
        "colab": {
          "base_uri": "https://localhost:8080/"
        },
        "id": "qcOeFSHHVhV3",
        "outputId": "d871233c-e532-4078-b3df-12892655563f"
      },
      "outputs": [
        {
          "name": "stdout",
          "output_type": "stream",
          "text": [
            "[]\n",
            "4\n"
          ]
        }
      ],
      "source": [
        "s = \"RLRRLLRLRL\"\n",
        "\n",
        "st,count = [],0\n",
        "d = {\"R\":\"L\",\"L\":\"R\"}\n",
        "for c in s:\n",
        "  if not st or d[c]!=st[-1]: st.append(c)\n",
        "  elif d[c]==st[-1]: \n",
        "    st.pop()\n",
        "    if not st: count+=1\n",
        "\n",
        "print(st)\n",
        "print(count)"
      ]
    },
    {
      "cell_type": "code",
      "execution_count": null,
      "metadata": {
        "colab": {
          "base_uri": "https://localhost:8080/"
        },
        "id": "E9wrGHE8iwFL",
        "outputId": "a2dbb688-b4db-49fe-f541-13e55693d4da"
      },
      "outputs": [
        {
          "name": "stdout",
          "output_type": "stream",
          "text": [
            "['ab', 'c']\n",
            "['a', 'bc']\n",
            "abc\n",
            "abc\n",
            "True\n"
          ]
        }
      ],
      "source": [
        "import itertools\n",
        "word1 = [\"ab\", \"c\"]\n",
        "word2 = [\"a\", \"bc\"]\n",
        "\n",
        "print(word1)\n",
        "print(word2)\n",
        "w1,w2 = '',''\n",
        "\n",
        "w1 = list(itertools.accumulate(word1))\n",
        "print(w1[-1])\n",
        "w2 = list(itertools.accumulate(word2))\n",
        "print(w1[-1])\n",
        "\n",
        "if w1[-1] == w2[-1] : \n",
        "  print('True')\n",
        "else:\n",
        "  print('False')\n"
      ]
    },
    {
      "cell_type": "code",
      "execution_count": null,
      "metadata": {
        "colab": {
          "base_uri": "https://localhost:8080/"
        },
        "id": "thEKOtvi58xB",
        "outputId": "63ed0a82-68aa-47f1-f9e0-60c7d44fe678"
      },
      "outputs": [
        {
          "name": "stdout",
          "output_type": "stream",
          "text": [
            "(1+(2*3)+((8)/4))+1\n",
            "here\n",
            "here\n",
            "here\n",
            "[]\n",
            "(()(()))\n"
          ]
        }
      ],
      "source": [
        "s = \"(1+(2*3)+((8)/4))+1\" \n",
        "print(s)\n",
        "\n",
        "temp_stack = []\n",
        "\n",
        "d = {'(' : ')', \n",
        "     ')':'('}\n",
        "depth_cnt = 0\n",
        "for val in s : \n",
        "  if val not in '()' : s = s.replace(val,'')\n",
        "\n",
        "# for i,val in enumerate(s) : \n",
        "#   print(d[val])\n",
        "#   print(s[i-1])\n",
        "#   print('***')\n",
        "#   if d[val] == s[i-1] : \n",
        "#     print('here')\n",
        "#     s = s.replace(val,'')\n",
        "result_str = [s[0]]\n",
        "for val in s[1:] :  \n",
        "  if d[val] != result_str[-1] : \n",
        "    print('here')\n",
        "    result_str.append(val)\n",
        "  else: \n",
        "    result_str.pop()\n",
        "\n",
        "print(result_str)\n",
        "print(s)"
      ]
    },
    {
      "cell_type": "code",
      "execution_count": null,
      "metadata": {
        "colab": {
          "base_uri": "https://localhost:8080/"
        },
        "id": "xwyc93Z4aemU",
        "outputId": "54611eec-3c52-4af6-ca26-aa71bc18afc7"
      },
      "outputs": [
        {
          "name": "stdout",
          "output_type": "stream",
          "text": [
            "8*((1*(5+6))*(8/6))\n",
            "((())())\n",
            "((())())\n",
            "2\n"
          ]
        }
      ],
      "source": [
        "s = \"(1+(2*3)+((8)/4))+1\" \n",
        "\n",
        "#s = \"1+(2*3)/(2-1)\"\n",
        "\n",
        "s = \"(1)+((2))+(((3)))\"\n",
        "s = \"8*((1*(5+6))*(8/6))\"\n",
        "#s = \"1\"\n",
        "\n",
        "print(s)\n",
        "\n",
        "\n",
        "d = {'(' : ')', \n",
        "     ')':'('}\n",
        "depth_cnt = 0\n",
        "for val in s : \n",
        "  if val not in '()' : s = s.replace(val,'')\n",
        "print(s)\n",
        "if s == '' : print(\"here\")\n",
        "\n",
        "final_str = [s[0]]\n",
        "count = 0 \n",
        "for val in s[1:] :  \n",
        "  if final_str == [] : final_str.append(val)\n",
        "  if val == '(' : \n",
        "    if final_str[-1] == ')' : \n",
        "      final_str.pop()\n",
        "      count+=1\n",
        "    else: \n",
        "      final_str.append(val)\n",
        "      count = 0\n",
        "  elif val == ')' : \n",
        "    if final_str[-1] == '(' : \n",
        "      final_str.pop()\n",
        "      count+=1\n",
        "    else: \n",
        "      final_str.append(val)\n",
        "      count = 0\n",
        "print(s)\n",
        "print(count)"
      ]
    },
    {
      "cell_type": "code",
      "execution_count": null,
      "metadata": {
        "colab": {
          "base_uri": "https://localhost:8080/"
        },
        "id": "Mv3Kdo4HVnoM",
        "outputId": "c4057c10-62ce-4d32-8aa7-02d83a4213cb"
      },
      "outputs": [
        {
          "name": "stdout",
          "output_type": "stream",
          "text": [
            "8*((1*(5+6))*(8/6))\n",
            "((())())\n",
            "0\n"
          ]
        }
      ],
      "source": [
        "s = \"8*((1*(5+6))*(8/6))\"\n",
        "#s = \"1\"\n",
        "\n",
        "print(s)\n",
        "\n",
        "\n",
        "d = {'(' : ')', \n",
        "     ')':'('}\n",
        "depth_cnt = 0\n",
        "for val in s : \n",
        "  if val not in '()' : s = s.replace(val,'')\n",
        "print(s)\n",
        "if s == '' : print(\"here\")\n",
        "\n",
        "depth_cnt = 0\n",
        "\n",
        "for val in s: \n",
        "  if val == '(' : depth_cnt+=1\n",
        "  if val == ')' : depth_cnt-=1\n",
        "\n",
        "\n",
        "print(depth_cnt)"
      ]
    },
    {
      "cell_type": "code",
      "execution_count": null,
      "metadata": {
        "colab": {
          "base_uri": "https://localhost:8080/",
          "height": 130
        },
        "id": "se46blVNVnZN",
        "outputId": "f929a933-d3b4-4aea-a8c1-5e4e8c9f3096"
      },
      "outputs": [
        {
          "ename": "SyntaxError",
          "evalue": "ignored",
          "output_type": "error",
          "traceback": [
            "\u001b[0;36m  File \u001b[0;32m\"<ipython-input-8-3c39caff045d>\"\u001b[0;36m, line \u001b[0;32m15\u001b[0m\n\u001b[0;31m    is_consistent = False if i not in allowed_arr for i in val else True\u001b[0m\n\u001b[0m                                                    ^\u001b[0m\n\u001b[0;31mSyntaxError\u001b[0m\u001b[0;31m:\u001b[0m invalid syntax\n"
          ]
        }
      ],
      "source": [
        "allowed = \"abc\"\n",
        "words = [\"a\",\"b\",\"c\",\"ab\",\"ac\",\"bc\",\"abc\"]\n",
        "\n",
        "print(allowed)\n",
        "print(words)\n",
        "\n",
        "allowed_arr = list(map(str,allowed))\n",
        "print(allowed_arr)\n",
        "\n",
        "consistent_cnt = 0\n",
        "\n",
        "is_consistent = False\n",
        "\n",
        "for val in words: \n",
        "  is_consistent = False if i not in allowed_arr for i in val else True\n",
        "  print(is_consistent)\n"
      ]
    },
    {
      "cell_type": "code",
      "execution_count": null,
      "metadata": {
        "colab": {
          "base_uri": "https://localhost:8080/"
        },
        "id": "c8yzKGSkwuiv",
        "outputId": "5b7b07f3-60d0-430d-845f-d4d7af2d777a"
      },
      "outputs": [
        {
          "name": "stdout",
          "output_type": "stream",
          "text": [
            "ab\n",
            "['ad', 'bd', 'aaab', 'baa', 'badab']\n",
            "['a', 'b']\n",
            "False\n",
            "False\n",
            "True\n",
            "True\n",
            "False\n",
            "2\n"
          ]
        }
      ],
      "source": [
        "words = [\"a\",\"b\",\"c\",\"ab\",\"ac\",\"bc\",\"abc\"]\n",
        "\n",
        "allowed = \"cad\"\n",
        "words = [\"cc\",\"acd\",\"b\",\"ba\",\"bac\",\"bad\",\"ac\",\"d\"]\n",
        "\n",
        "allowed = \"ab\"\n",
        "words = [\"ad\",\"bd\",\"aaab\",\"baa\",\"badab\"]\n",
        "\n",
        "print(allowed)\n",
        "print(words)\n",
        "\n",
        "allowed_arr = list(map(str,allowed))\n",
        "print(allowed_arr)\n",
        "\n",
        "consistent_cnt = 0\n",
        "is_consistent = False\n",
        "\n",
        "for val in words:\n",
        "  # is_consistent = False for i in val if i not in allowed_arr else True\n",
        "  is_consistent = False\n",
        "  for i in val : \n",
        "    # print(i)\n",
        "    if i in allowed_arr : \n",
        "      is_consistent = True\n",
        "    else: \n",
        "      is_consistent = False\n",
        "      break\n",
        "  print(is_consistent)\n",
        "  if is_consistent == True : \n",
        "    consistent_cnt+=1 \n",
        "    is_consistent = False\n",
        "\n",
        "\n",
        "\n",
        "print(consistent_cnt)"
      ]
    },
    {
      "cell_type": "code",
      "execution_count": null,
      "metadata": {
        "colab": {
          "base_uri": "https://localhost:8080/"
        },
        "id": "QCpZ91xQIuqD",
        "outputId": "3a7ac4ef-173f-4340-9ae4-d16bfba72154"
      },
      "outputs": [
        {
          "name": "stdout",
          "output_type": "stream",
          "text": [
            "[-4, -7, -9, -10, -6, -3, -1]\n",
            "[0, -4, -7, -9, -10, -6, -3, -1]\n",
            "0\n"
          ]
        }
      ],
      "source": [
        "import itertools\n",
        "gain = [-5,1,5,0,-7]\n",
        "gain = [-4,-3,-2,-1,4,3,2]\n",
        "# gain2  = [0]\n",
        "gain2 = list(itertools.accumulate(gain))\n",
        "print(gain2)\n",
        "gain2.insert(0,0)\n",
        "print(gain2)\n",
        "print(max(gain2))\n"
      ]
    },
    {
      "cell_type": "code",
      "execution_count": null,
      "metadata": {
        "colab": {
          "base_uri": "https://localhost:8080/"
        },
        "id": "HuqrYMU94lnr",
        "outputId": "fc829722-b1e9-4cb3-9daa-04d149443898"
      },
      "outputs": [
        {
          "name": "stdout",
          "output_type": "stream",
          "text": [
            "[(3, 0, 1), (3, 0, 1), (3, 0, 9), (3, 0, 7), (3, 1, 0), (3, 1, 1), (3, 1, 9), (3, 1, 7), (3, 1, 0), (3, 1, 1), (3, 1, 9), (3, 1, 7), (3, 9, 0), (3, 9, 1), (3, 9, 1), (3, 9, 7), (3, 7, 0), (3, 7, 1), (3, 7, 1), (3, 7, 9), (0, 3, 1), (0, 3, 1), (0, 3, 9), (0, 3, 7), (0, 1, 3), (0, 1, 1), (0, 1, 9), (0, 1, 7), (0, 1, 3), (0, 1, 1), (0, 1, 9), (0, 1, 7), (0, 9, 3), (0, 9, 1), (0, 9, 1), (0, 9, 7), (0, 7, 3), (0, 7, 1), (0, 7, 1), (0, 7, 9), (1, 3, 0), (1, 3, 1), (1, 3, 9), (1, 3, 7), (1, 0, 3), (1, 0, 1), (1, 0, 9), (1, 0, 7), (1, 1, 3), (1, 1, 0), (1, 1, 9), (1, 1, 7), (1, 9, 3), (1, 9, 0), (1, 9, 1), (1, 9, 7), (1, 7, 3), (1, 7, 0), (1, 7, 1), (1, 7, 9), (1, 3, 0), (1, 3, 1), (1, 3, 9), (1, 3, 7), (1, 0, 3), (1, 0, 1), (1, 0, 9), (1, 0, 7), (1, 1, 3), (1, 1, 0), (1, 1, 9), (1, 1, 7), (1, 9, 3), (1, 9, 0), (1, 9, 1), (1, 9, 7), (1, 7, 3), (1, 7, 0), (1, 7, 1), (1, 7, 9), (9, 3, 0), (9, 3, 1), (9, 3, 1), (9, 3, 7), (9, 0, 3), (9, 0, 1), (9, 0, 1), (9, 0, 7), (9, 1, 3), (9, 1, 0), (9, 1, 1), (9, 1, 7), (9, 1, 3), (9, 1, 0), (9, 1, 1), (9, 1, 7), (9, 7, 3), (9, 7, 0), (9, 7, 1), (9, 7, 1), (7, 3, 0), (7, 3, 1), (7, 3, 1), (7, 3, 9), (7, 0, 3), (7, 0, 1), (7, 0, 1), (7, 0, 9), (7, 1, 3), (7, 1, 0), (7, 1, 1), (7, 1, 9), (7, 1, 3), (7, 1, 0), (7, 1, 1), (7, 1, 9), (7, 9, 3), (7, 9, 0), (7, 9, 1), (7, 9, 1)]\n",
            "20\n",
            "[(3, 0, 1), (3, 0, 1), (3, 1, 0), (3, 1, 1), (3, 1, 0), (3, 1, 1), (0, 3, 1), (0, 3, 1), (0, 1, 3), (0, 1, 1), (0, 1, 3), (0, 1, 1), (1, 3, 1), (1, 0, 1), (1, 1, 3), (1, 1, 0), (1, 3, 1), (1, 0, 1), (1, 1, 3), (1, 1, 0)]\n"
          ]
        }
      ],
      "source": [
        "import itertools\n",
        "\n",
        "arr = [3,0,1,1,9,7]\n",
        "a = 7\n",
        "b = 2\n",
        "c = 3\n",
        "\n",
        "# temp_arr = list(itertools.islice(arr,0,3))\n",
        "# print(temp_arr)\n",
        "triplet_arr = list(itertools.permutations(arr,3))\n",
        "\n",
        "# for i in range(len(arr)-2) : \n",
        "#   triplet_arr.append(arr[i:i+3])\n",
        "\n",
        "print(triplet_arr)\n",
        "test_flag = True\n",
        "\n",
        "triplet_arr_result = []\n",
        "\n",
        "for val in triplet_arr: \n",
        "  # test_flag = True\n",
        "  if abs(val[0]-val[1]) <= a and abs(val[1] - val[2]) <= b and abs(val[0] - val[2]) <= c:\n",
        "    triplet_arr_result.append(val)\n",
        "\n",
        "  # if abs(val[0]-val[1]) <= a : \n",
        "  #   test_flag = False\n",
        "  #   # triplet_arr.remove(val)\n",
        "  #   # break \n",
        "  # if abs(val[1] - val[2]) <= b:\n",
        "  #   test_flag = False\n",
        "  #   # triplet_arr.remove(val)\n",
        "  #   # break\n",
        "  # if abs(val[0] - val[2]) <= c:\n",
        "  #   test_flag = False\n",
        "  #   # triplet_arr.remove(val)\n",
        "  #   # break\n",
        "  # if test_flag == True : triplet_arr_result.append(val)\n",
        "\n",
        "print(len(triplet_arr_result))\n",
        "print(triplet_arr_result)\n",
        "\n",
        "\n",
        "\n"
      ]
    },
    {
      "cell_type": "code",
      "execution_count": null,
      "metadata": {
        "colab": {
          "base_uri": "https://localhost:8080/"
        },
        "id": "F3hWqawISv7a",
        "outputId": "3324d383-bf3d-46a3-acf5-98ce8e352482"
      },
      "outputs": [
        {
          "name": "stdout",
          "output_type": "stream",
          "text": [
            "0\n",
            "[]\n"
          ]
        }
      ],
      "source": [
        "import itertools\n",
        "\n",
        "arr = [3,0,1,1,9,7]\n",
        "a = 7\n",
        "b = 2\n",
        "c = 3\n",
        "\n",
        "arr = [1,1,2,2,3]\n",
        "a = 0\n",
        "b = 0\n",
        "c = 1\n",
        "\n",
        "triplet_arr = list(itertools.permutations(arr,3))\n",
        "\n",
        "#print(triplet_arr)\n",
        "\n",
        "triplet_arr_result = []\n",
        "\n",
        "for val in triplet_arr: \n",
        "  if abs(val[0]-val[1]) <= a and abs(val[1] - val[2]) <= b and abs(val[0] - val[2]) <= c:\n",
        "    print(val)\n",
        "    triplet_arr_result.append(val)\n",
        "\n",
        "print(len(triplet_arr_result))\n",
        "print(triplet_arr_result)\n",
        "\n"
      ]
    },
    {
      "cell_type": "code",
      "execution_count": null,
      "metadata": {
        "id": "rJceFaBtUTSc"
      },
      "outputs": [],
      "source": [
        "for (i,j,k) in combinations(arr, 3):\n",
        "            if abs(i-j)<=a and abs(j-k)<=b and abs(i-k)<=c:\n",
        "                summ+=1\n",
        "        \n",
        "        return summ"
      ]
    },
    {
      "cell_type": "code",
      "execution_count": null,
      "metadata": {
        "colab": {
          "base_uri": "https://localhost:8080/"
        },
        "id": "WW6OitGiVCeh",
        "outputId": "95243294-2351-4498-b2c5-bb9dfe80acda"
      },
      "outputs": [
        {
          "name": "stdout",
          "output_type": "stream",
          "text": [
            "[[0, 0, 0], [0, 0, 0]]\n",
            "**\n",
            "[[1, 1, 1], [0, 0, 0]]\n",
            "**\n",
            "here\n",
            "0\n",
            "here\n",
            "1\n",
            "***\n",
            "[[1, 2, 1], [0, 1, 0]]\n",
            "***\n",
            "**\n",
            "[[1, 2, 1], [1, 2, 1]]\n",
            "**\n",
            "here\n",
            "0\n",
            "here\n",
            "1\n",
            "***\n",
            "[[1, 3, 1], [1, 3, 1]]\n",
            "***\n",
            "6\n"
          ]
        }
      ],
      "source": [
        "n = 2\n",
        "m = 3\n",
        "indices = [[0,1],[1,1]]\n",
        "\n",
        "# n = 2\n",
        "# m = 2\n",
        "# indices = [[1,1],[0,0]]\n",
        "\n",
        "matrix=[ [ 0 ]*m ] * n\n",
        "print(matrix)\n",
        "\n",
        "for val in indices :\n",
        "  row = 1 \n",
        "  if row == 1:\n",
        "    #for i in matrix[val[0]]:\n",
        "    matrix[val[0]] = [x+1 for x in matrix[val[0]]]\n",
        "    row+=1\n",
        "    print('**')\n",
        "    print(matrix)\n",
        "    print('**')\n",
        "  if row ==2:\n",
        "    for j in range(n):\n",
        "      print('here')\n",
        "      print(j)\n",
        "      matrix[j][val[1]] = matrix[j][val[1]]+1\n",
        "    print('***')           \n",
        "    print(matrix)\n",
        "    print('***') \n",
        "\n",
        "odd_cnt = 0 \n",
        "\n",
        "for val in matrix:\n",
        "  for val1 in val : \n",
        "    if val1 % 2 != 0 : odd_cnt+=1\n",
        "\n",
        "print(odd_cnt)"
      ]
    },
    {
      "cell_type": "code",
      "execution_count": null,
      "metadata": {
        "colab": {
          "base_uri": "https://localhost:8080/"
        },
        "id": "gZ60aHE7fHTD",
        "outputId": "ba2c2aff-56f1-4fdd-82ef-810002fb618f"
      },
      "outputs": [
        {
          "name": "stdout",
          "output_type": "stream",
          "text": [
            "[[0, 0, 0, 0, 0, 0, 0, 0, 0, 0, 0, 0, 0, 0, 0, 0, 0, 0, 0, 0, 0, 0, 0, 0, 0, 0, 0, 0, 0, 0, 0, 0, 0, 0, 0, 0, 0, 0], [0, 0, 0, 0, 0, 0, 0, 0, 0, 0, 0, 0, 0, 0, 0, 0, 0, 0, 0, 0, 0, 0, 0, 0, 0, 0, 0, 0, 0, 0, 0, 0, 0, 0, 0, 0, 0, 0], [0, 0, 0, 0, 0, 0, 0, 0, 0, 0, 0, 0, 0, 0, 0, 0, 0, 0, 0, 0, 0, 0, 0, 0, 0, 0, 0, 0, 0, 0, 0, 0, 0, 0, 0, 0, 0, 0], [0, 0, 0, 0, 0, 0, 0, 0, 0, 0, 0, 0, 0, 0, 0, 0, 0, 0, 0, 0, 0, 0, 0, 0, 0, 0, 0, 0, 0, 0, 0, 0, 0, 0, 0, 0, 0, 0], [0, 0, 0, 0, 0, 0, 0, 0, 0, 0, 0, 0, 0, 0, 0, 0, 0, 0, 0, 0, 0, 0, 0, 0, 0, 0, 0, 0, 0, 0, 0, 0, 0, 0, 0, 0, 0, 0], [0, 0, 0, 0, 0, 0, 0, 0, 0, 0, 0, 0, 0, 0, 0, 0, 0, 0, 0, 0, 0, 0, 0, 0, 0, 0, 0, 0, 0, 0, 0, 0, 0, 0, 0, 0, 0, 0], [0, 0, 0, 0, 0, 0, 0, 0, 0, 0, 0, 0, 0, 0, 0, 0, 0, 0, 0, 0, 0, 0, 0, 0, 0, 0, 0, 0, 0, 0, 0, 0, 0, 0, 0, 0, 0, 0], [0, 0, 0, 0, 0, 0, 0, 0, 0, 0, 0, 0, 0, 0, 0, 0, 0, 0, 0, 0, 0, 0, 0, 0, 0, 0, 0, 0, 0, 0, 0, 0, 0, 0, 0, 0, 0, 0], [0, 0, 0, 0, 0, 0, 0, 0, 0, 0, 0, 0, 0, 0, 0, 0, 0, 0, 0, 0, 0, 0, 0, 0, 0, 0, 0, 0, 0, 0, 0, 0, 0, 0, 0, 0, 0, 0], [0, 0, 0, 0, 0, 0, 0, 0, 0, 0, 0, 0, 0, 0, 0, 0, 0, 0, 0, 0, 0, 0, 0, 0, 0, 0, 0, 0, 0, 0, 0, 0, 0, 0, 0, 0, 0, 0], [0, 0, 0, 0, 0, 0, 0, 0, 0, 0, 0, 0, 0, 0, 0, 0, 0, 0, 0, 0, 0, 0, 0, 0, 0, 0, 0, 0, 0, 0, 0, 0, 0, 0, 0, 0, 0, 0], [0, 0, 0, 0, 0, 0, 0, 0, 0, 0, 0, 0, 0, 0, 0, 0, 0, 0, 0, 0, 0, 0, 0, 0, 0, 0, 0, 0, 0, 0, 0, 0, 0, 0, 0, 0, 0, 0], [0, 0, 0, 0, 0, 0, 0, 0, 0, 0, 0, 0, 0, 0, 0, 0, 0, 0, 0, 0, 0, 0, 0, 0, 0, 0, 0, 0, 0, 0, 0, 0, 0, 0, 0, 0, 0, 0], [0, 0, 0, 0, 0, 0, 0, 0, 0, 0, 0, 0, 0, 0, 0, 0, 0, 0, 0, 0, 0, 0, 0, 0, 0, 0, 0, 0, 0, 0, 0, 0, 0, 0, 0, 0, 0, 0], [0, 0, 0, 0, 0, 0, 0, 0, 0, 0, 0, 0, 0, 0, 0, 0, 0, 0, 0, 0, 0, 0, 0, 0, 0, 0, 0, 0, 0, 0, 0, 0, 0, 0, 0, 0, 0, 0], [0, 0, 0, 0, 0, 0, 0, 0, 0, 0, 0, 0, 0, 0, 0, 0, 0, 0, 0, 0, 0, 0, 0, 0, 0, 0, 0, 0, 0, 0, 0, 0, 0, 0, 0, 0, 0, 0], [0, 0, 0, 0, 0, 0, 0, 0, 0, 0, 0, 0, 0, 0, 0, 0, 0, 0, 0, 0, 0, 0, 0, 0, 0, 0, 0, 0, 0, 0, 0, 0, 0, 0, 0, 0, 0, 0], [0, 0, 0, 0, 0, 0, 0, 0, 0, 0, 0, 0, 0, 0, 0, 0, 0, 0, 0, 0, 0, 0, 0, 0, 0, 0, 0, 0, 0, 0, 0, 0, 0, 0, 0, 0, 0, 0], [0, 0, 0, 0, 0, 0, 0, 0, 0, 0, 0, 0, 0, 0, 0, 0, 0, 0, 0, 0, 0, 0, 0, 0, 0, 0, 0, 0, 0, 0, 0, 0, 0, 0, 0, 0, 0, 0], [0, 0, 0, 0, 0, 0, 0, 0, 0, 0, 0, 0, 0, 0, 0, 0, 0, 0, 0, 0, 0, 0, 0, 0, 0, 0, 0, 0, 0, 0, 0, 0, 0, 0, 0, 0, 0, 0], [0, 0, 0, 0, 0, 0, 0, 0, 0, 0, 0, 0, 0, 0, 0, 0, 0, 0, 0, 0, 0, 0, 0, 0, 0, 0, 0, 0, 0, 0, 0, 0, 0, 0, 0, 0, 0, 0], [0, 0, 0, 0, 0, 0, 0, 0, 0, 0, 0, 0, 0, 0, 0, 0, 0, 0, 0, 0, 0, 0, 0, 0, 0, 0, 0, 0, 0, 0, 0, 0, 0, 0, 0, 0, 0, 0], [0, 0, 0, 0, 0, 0, 0, 0, 0, 0, 0, 0, 0, 0, 0, 0, 0, 0, 0, 0, 0, 0, 0, 0, 0, 0, 0, 0, 0, 0, 0, 0, 0, 0, 0, 0, 0, 0], [0, 0, 0, 0, 0, 0, 0, 0, 0, 0, 0, 0, 0, 0, 0, 0, 0, 0, 0, 0, 0, 0, 0, 0, 0, 0, 0, 0, 0, 0, 0, 0, 0, 0, 0, 0, 0, 0], [0, 0, 0, 0, 0, 0, 0, 0, 0, 0, 0, 0, 0, 0, 0, 0, 0, 0, 0, 0, 0, 0, 0, 0, 0, 0, 0, 0, 0, 0, 0, 0, 0, 0, 0, 0, 0, 0], [0, 0, 0, 0, 0, 0, 0, 0, 0, 0, 0, 0, 0, 0, 0, 0, 0, 0, 0, 0, 0, 0, 0, 0, 0, 0, 0, 0, 0, 0, 0, 0, 0, 0, 0, 0, 0, 0], [0, 0, 0, 0, 0, 0, 0, 0, 0, 0, 0, 0, 0, 0, 0, 0, 0, 0, 0, 0, 0, 0, 0, 0, 0, 0, 0, 0, 0, 0, 0, 0, 0, 0, 0, 0, 0, 0], [0, 0, 0, 0, 0, 0, 0, 0, 0, 0, 0, 0, 0, 0, 0, 0, 0, 0, 0, 0, 0, 0, 0, 0, 0, 0, 0, 0, 0, 0, 0, 0, 0, 0, 0, 0, 0, 0]]\n",
            "406\n"
          ]
        }
      ],
      "source": [
        "n = 28\n",
        "m = 38\n",
        "indices = [[17,16],[26,31],[19,12],[22,24],[17,28],[23,21],[27,32],[23,27],[23,33],[18,7],[4,20],[0,31],[25,33],[5,22]]\n",
        "\n",
        "\n",
        "matrix=[ [ 0 ]*m ] * n\n",
        "print(matrix)\n",
        "\n",
        "for val in indices :\n",
        "  row = 1 \n",
        "  if row == 1:\n",
        "    matrix[val[0]] = [x+1 for x in matrix[val[0]]]\n",
        "    row+=1\n",
        "  if row ==2:\n",
        "    for j in range(n):\n",
        "      matrix[j][val[1]] = matrix[j][val[1]]+1\n",
        "    \n",
        "odd_cnt = 0 \n",
        "\n",
        "for val in matrix:\n",
        "  for val1 in val : \n",
        "    if val1 % 2 != 0 : odd_cnt+=1\n",
        "\n",
        "print(odd_cnt)\n",
        "\n"
      ]
    },
    {
      "cell_type": "code",
      "execution_count": null,
      "metadata": {
        "colab": {
          "base_uri": "https://localhost:8080/",
          "height": 215
        },
        "id": "mc9vG5GiiKRb",
        "outputId": "644cff5b-ef12-4e71-f7c9-23cff3bb0cba"
      },
      "outputs": [
        {
          "ename": "TypeError",
          "evalue": "ignored",
          "output_type": "error",
          "traceback": [
            "\u001b[0;31m---------------------------------------------------------------------------\u001b[0m",
            "\u001b[0;31mTypeError\u001b[0m                                 Traceback (most recent call last)",
            "\u001b[0;32m<ipython-input-60-505762f886e9>\u001b[0m in \u001b[0;36m<module>\u001b[0;34m()\u001b[0m\n\u001b[1;32m      3\u001b[0m \u001b[0ms\u001b[0m \u001b[0;34m=\u001b[0m \u001b[0;34m\"babad\"\u001b[0m\u001b[0;34m\u001b[0m\u001b[0;34m\u001b[0m\u001b[0m\n\u001b[1;32m      4\u001b[0m \u001b[0;34m\u001b[0m\u001b[0m\n\u001b[0;32m----> 5\u001b[0;31m \u001b[0ms_combo\u001b[0m \u001b[0;34m=\u001b[0m \u001b[0mitertools\u001b[0m\u001b[0;34m.\u001b[0m\u001b[0mcombinations\u001b[0m\u001b[0;34m(\u001b[0m\u001b[0ms\u001b[0m\u001b[0;34m)\u001b[0m\u001b[0;34m\u001b[0m\u001b[0;34m\u001b[0m\u001b[0m\n\u001b[0m\u001b[1;32m      6\u001b[0m \u001b[0mprint\u001b[0m\u001b[0;34m(\u001b[0m\u001b[0ms_combo\u001b[0m\u001b[0;34m)\u001b[0m\u001b[0;34m\u001b[0m\u001b[0;34m\u001b[0m\u001b[0m\n",
            "\u001b[0;31mTypeError\u001b[0m: combinations() missing required argument 'r' (pos 2)"
          ]
        }
      ],
      "source": [
        "import itertools\n",
        "\n",
        "s = \"babad\"\n",
        "\n",
        "s_combo = itertools.combinations(s)\n",
        "print(s_combo)"
      ]
    },
    {
      "cell_type": "code",
      "execution_count": null,
      "metadata": {
        "colab": {
          "base_uri": "https://localhost:8080/"
        },
        "id": "6DhxzMfYV1fx",
        "outputId": "c106c65e-2ecf-4946-c945-3ff609e510ba"
      },
      "outputs": [
        {
          "name": "stdout",
          "output_type": "stream",
          "text": [
            "To be or not to be\n",
            "['to', 'be', 'or', 'not', 'to', 'be']\n",
            "[2, 3]\n",
            "To be or to be not\n"
          ]
        }
      ],
      "source": [
        "text = \"Leetcode is cool\"\n",
        "text = \"Keep calm and code on\"\n",
        "text = \"To be or not to be\"\n",
        "print(text)\n",
        "text_arr = text.lower().split(' ')\n",
        "print(text_arr)\n",
        "text_dict = {}\n",
        "for val in text_arr: \n",
        "  #text_dict[len(val)].append(val)\n",
        "  text_dict.setdefault(len(val),[]).append(val)\n",
        "\n",
        "print(sorted(text_dict))\n",
        "reordered_text = ''\n",
        "for val in sorted(text_dict):\n",
        "  for val1 in text_dict[val]:\n",
        "    if reordered_text != '' : reordered_text+=' '\n",
        "    reordered_text+=val1\n",
        "    # reordered_text+=' '\n",
        "# reordered_text = reordered_text.capitalize()\n",
        "print(reordered_text.capitalize())\n",
        "\n",
        "# text_arr.sort()\n",
        "# text_arr.reverse()\n",
        "# #reversed(text_arr)\n",
        "# print(text_arr)\n",
        "# # result_arr = []\n",
        "# # for val in text_arr: \n",
        "# To be or to be not\n",
        "# To be or to be not"
      ]
    },
    {
      "cell_type": "code",
      "execution_count": null,
      "metadata": {
        "colab": {
          "base_uri": "https://localhost:8080/"
        },
        "id": "KkND38UvbsPK",
        "outputId": "730b07ba-01d5-4237-c8c5-49c6b77b4381"
      },
      "outputs": [
        {
          "name": "stdout",
          "output_type": "stream",
          "text": [
            "To be or to be not\n"
          ]
        }
      ],
      "source": [
        "words = text.lower().split(\" \")\n",
        "words.sort(key = lambda k: len(k))\n",
        "words[0] = words[0][0].upper() + words[0][1:]\n",
        "print(\" \".join(words))"
      ]
    },
    {
      "cell_type": "code",
      "execution_count": null,
      "metadata": {
        "colab": {
          "base_uri": "https://localhost:8080/",
          "height": 129
        },
        "id": "_5N7Z2v4pLZ-",
        "outputId": "2df42aef-d56d-47f4-a294-a9fcbbc9435c"
      },
      "outputs": [
        {
          "ename": "SyntaxError",
          "evalue": "ignored",
          "output_type": "error",
          "traceback": [
            "\u001b[0;36m  File \u001b[0;32m\"<ipython-input-27-d2518ed817e2>\"\u001b[0;36m, line \u001b[0;32m7\u001b[0m\n\u001b[0;31m    candyType_distinct.add(val) for val in candyType\u001b[0m\n\u001b[0m                                  ^\u001b[0m\n\u001b[0;31mSyntaxError\u001b[0m\u001b[0;31m:\u001b[0m invalid syntax\n"
          ]
        }
      ],
      "source": [
        "import itertools\n",
        "candyType = [1,1,2,2,3,3]\n",
        "candyType = [6,6,6,6]\n",
        "candyType = [1,1,2,3]\n",
        "\n",
        "candyType_distinct = set()\n",
        "\n",
        "for val in candyType: \n",
        "  candyType_distinct.add(val)\n",
        "candy_can_have = len(candyType)//2\n",
        "\n",
        "if len(candyType_distinct)<candy_can_have:  print(len(candyType_distinct))\n",
        "else :   print(candy_can_have)\n",
        "\n",
        "# print(len(candyType_distinct))\n",
        "# print(list(itertools.combinations(candyType,2)))"
      ]
    },
    {
      "cell_type": "code",
      "execution_count": null,
      "metadata": {
        "colab": {
          "base_uri": "https://localhost:8080/"
        },
        "id": "bTnGoyKUsqny",
        "outputId": "f1e58732-336f-4e75-eb3f-21974395512a"
      },
      "outputs": [
        {
          "name": "stdout",
          "output_type": "stream",
          "text": [
            "[1, 3, 12, 0, 0]\n"
          ]
        }
      ],
      "source": [
        "nums = [0,1,0,3,12]\n",
        "\n",
        "nums.sort(key = lambda val : val==0)\n",
        "# nums.reverse()\n",
        "print(nums)"
      ]
    },
    {
      "cell_type": "code",
      "execution_count": null,
      "metadata": {
        "colab": {
          "base_uri": "https://localhost:8080/"
        },
        "id": "iR8pmAApBh1a",
        "outputId": "1aa6b691-064f-43bc-cca4-cb9940ef655b"
      },
      "outputs": [
        {
          "name": "stdout",
          "output_type": "stream",
          "text": [
            "[1, 0, 0, 3, 12]\n",
            "[1, 3, 0, 0, 12]\n",
            "[1, 3, 12, 0, 0]\n"
          ]
        }
      ],
      "source": [
        "nums = [0,1,0,3,12]\n",
        "pos = 0\n",
        "        \n",
        "for i in range(len(nums)):\n",
        "  el = nums[i]\n",
        "  if el != 0:\n",
        "    nums[pos], nums[i] = nums[i], nums[pos]\n",
        "    pos += 1\n",
        "    print(nums)"
      ]
    },
    {
      "cell_type": "code",
      "execution_count": null,
      "metadata": {
        "id": "q6XJhswhFSbs"
      },
      "outputs": [],
      "source": [
        " for val in nums:\n",
        "          if val == 0 :\n",
        "            nums.append(0)\n",
        "            nums.pop(nums.index(val))\n",
        "        print(nums)"
      ]
    },
    {
      "cell_type": "code",
      "execution_count": null,
      "metadata": {
        "colab": {
          "base_uri": "https://localhost:8080/"
        },
        "id": "wSP9lsgJEz6e",
        "outputId": "30170401-2300-4bcd-f75b-3e36f20d8336"
      },
      "outputs": [
        {
          "name": "stdout",
          "output_type": "stream",
          "text": [
            "[3, 1, 2, 4]\n",
            "2\n",
            "here\n",
            "[1, 2, 4, 3]\n",
            "here\n",
            "[2, 4, 3, 1]\n",
            "[2, 4, 3, 1]\n"
          ]
        }
      ],
      "source": [
        "A = [3,1,2,4]\n",
        "# A = [0,1,2]\n",
        "\n",
        "#A.sort(key = lambda val: val%2 != 0)\n",
        "print(A)\n",
        "temp_arr = []\n",
        "odd_cnt = 0 \n",
        "for val in A: \n",
        "  if val%2!=0 : \n",
        "    odd_cnt+=1\n",
        "print(odd_cnt)\n",
        "\n",
        "while odd_cnt!=0:\n",
        "  for val in A:\n",
        "    if val%2!=0 :\n",
        "      print('here')\n",
        "      A.append(val)\n",
        "      A.pop(A.index(val))\n",
        "      print(A)\n",
        "      break\n",
        "  odd_cnt-=1\n",
        "\n",
        "# for val in A:\n",
        "#   print(val)\n",
        "#   if val%2!=0 :\n",
        "#     A.append(val)\n",
        "#     A.pop(A.index(val))\n",
        "#     print(A)\n",
        "    \n",
        "print(A)\n"
      ]
    },
    {
      "cell_type": "code",
      "execution_count": null,
      "metadata": {
        "colab": {
          "base_uri": "https://localhost:8080/"
        },
        "id": "mCeZIqeB1u05",
        "outputId": "60e84a66-04d4-4752-949e-caf94b9de2b5"
      },
      "outputs": [
        {
          "name": "stdout",
          "output_type": "stream",
          "text": [
            "2\n",
            "3\n",
            "[1, 2, 3]\n",
            "1\n"
          ]
        }
      ],
      "source": [
        "nums = [3,2,1]\n",
        "# nums = [1,2]\n",
        "\n",
        "largest_order = [sorted(nums)[0]]\n",
        "for val in sorted(nums)[1:]:\n",
        "  print(val)\n",
        "  if val>largest_order[-1]  : \n",
        "    #largest_order.insert(0,val)\n",
        "    largest_order.append(val)\n",
        "    if len(largest_order) == 3 : break\n",
        "print(largest_order)\n",
        "if len(largest_order)<3 : \n",
        "  print(largest_order[-1])\n",
        "  # return largest_order[-1]\n",
        "else: \n",
        "  print(largest_order[0])\n",
        "  # return largest_order[0]"
      ]
    },
    {
      "cell_type": "code",
      "execution_count": null,
      "metadata": {
        "id": "hB28xhrMx7N6"
      },
      "outputs": [],
      "source": [
        "import itertools\n",
        "nums = [4,3,2,7,8,2,3,1]\n",
        "nums.sort()\n",
        "result_arr =[]\n",
        "temp_val,i = 0,0\n",
        "entry_present = False\n",
        "# for val in sorted(nums):\n",
        "#   print(val)\n",
        "\n",
        "while i <= len(nums) : \n",
        "  print('first if')\n",
        "  print(i)\n",
        "  print(len(nums))\n",
        "  print(result_arr)\n",
        "  if i < len(nums):\n",
        "    temp_val = nums[i]\n",
        "    if temp_val+1 in nums : \n",
        "      print('present cond')\n",
        "      i = nums.index(temp_val+1)\n",
        "      # i+=1\n",
        "    else: \n",
        "      #print(temp_val+1)\n",
        "      while entry_present == False:\n",
        "        print('here')\n",
        "        if temp_val+1 not in nums :\n",
        "          result_arr.append(temp_val+1)\n",
        "          temp_val+=1\n",
        "        else: \n",
        "          print('here false')\n",
        "          entry_present = True\n",
        "          i = nums.index(temp_val+1)\n",
        "          #if entry_present == True : break\n",
        "\n",
        "        print(result_arr)\n",
        "    # break\n",
        "  else: \n",
        "    print('final else')\n",
        "\n",
        "  \n",
        "\n",
        "\n",
        "\n",
        "\n"
      ]
    },
    {
      "cell_type": "code",
      "execution_count": null,
      "metadata": {
        "id": "vTLj5QHYFbtT"
      },
      "outputs": [],
      "source": [
        "nums = [4,3,2,7,8,2,3,1]\n",
        "\n",
        "result_arr =[]\n",
        "\n"
      ]
    },
    {
      "cell_type": "code",
      "execution_count": null,
      "metadata": {
        "colab": {
          "base_uri": "https://localhost:8080/"
        },
        "id": "ZjkS6BBsuTp3",
        "outputId": "2d47ad0b-39ab-41fa-a4a1-d0cb73e2e3b1"
      },
      "outputs": [
        {
          "name": "stdout",
          "output_type": "stream",
          "text": [
            "1\n"
          ]
        }
      ],
      "source": [
        "import itertools\n",
        "\n",
        "tiles = \"AAB\"\n",
        "tiles = \"AAABBC\"\n",
        "tiles = \"V\"\n",
        "\n",
        "result_arr =[]\n",
        "\n",
        "result_arr = list(itertools.permutations(tiles,3))\n",
        "\n",
        "for i in range(1,len(tiles)+1): \n",
        "  result_arr += list(itertools.permutations(tiles,i))\n",
        "\n",
        "print(len(set(result_arr)))"
      ]
    },
    {
      "cell_type": "code",
      "execution_count": null,
      "metadata": {
        "colab": {
          "base_uri": "https://localhost:8080/"
        },
        "id": "sPUga_AO2ddP",
        "outputId": "5ce9ba1a-e74b-4098-bd1a-0f43c7778136"
      },
      "outputs": [
        {
          "name": "stdout",
          "output_type": "stream",
          "text": [
            "similar\n",
            "[3]\n"
          ]
        }
      ],
      "source": [
        "nums = [1,2,2,4]\n",
        "nums = [3,2,2]\n",
        "nums = [2,3,2]\n",
        "nums = [3,2,3,4,6,5]\n",
        "nums.sort()\n",
        "return_arr =[]\n",
        "for i in range(1,len(nums)) : \n",
        "  temp_val = nums[i] - nums[i-1]\n",
        "  if temp_val == 0 : \n",
        "    print('similar')\n",
        "    return_arr.append(nums[i])\n",
        "    if nums[i] == len(nums) : \n",
        "      if nums[i]-1 not in nums: return_arr.append(nums[i]-1)\n",
        "      elif nums[i]+1 not in nums: return_arr.append(nums[i]+1)\n",
        "    else: \n",
        "      if nums[i]-1 not in nums: return_arr.append(nums[i]-1)\n",
        "      elif nums[i]+1 not in nums: return_arr.append(nums[i]+1)\n",
        "\n",
        "print(return_arr)"
      ]
    },
    {
      "cell_type": "code",
      "execution_count": null,
      "metadata": {
        "colab": {
          "base_uri": "https://localhost:8080/"
        },
        "id": "4-_cE-FHFvbQ",
        "outputId": "233ac8c2-286a-4d32-8268-1fbc02f8c053"
      },
      "outputs": [
        {
          "name": "stdout",
          "output_type": "stream",
          "text": [
            "{2, 3}\n",
            "[1]\n",
            "2\n",
            "[2, 1]\n"
          ]
        }
      ],
      "source": [
        "nums = [1,2,2,4]\n",
        "nums = [3,2,2]\n",
        "nums = [2,3,2]\n",
        "# nums = [3,2,3,4,6,5]\n",
        "\n",
        "y = set(nums)\n",
        "print(y)\n",
        "result_arr = []\n",
        "result_arr = list(set(map(lambda x: x*(x not in y) , range(len(nums)+1))))[1:]\n",
        "print(result_arr)\n",
        "for val in nums: \n",
        "  if nums.count(val) > 1 : \n",
        "    print(val)\n",
        "    result_arr.insert(0,val)\n",
        "    break\n",
        "print(result_arr)"
      ]
    },
    {
      "cell_type": "code",
      "execution_count": null,
      "metadata": {
        "colab": {
          "base_uri": "https://localhost:8080/"
        },
        "id": "SGh96mvNEjx9",
        "outputId": "039194df-9d39-4b5d-ab95-94d7eb63ab62"
      },
      "outputs": [
        {
          "name": "stdout",
          "output_type": "stream",
          "text": [
            "[0]\n"
          ]
        }
      ],
      "source": [
        "nums = [9,6,4,2,3,5,7,0,1]\n",
        "nums = [0,1]\n",
        "nums = [1]\n",
        "\n",
        "result_arr = []\n",
        "result_arr = list(set(map(lambda x: x*(x not in nums) , range(0,len(nums)+1))))\n",
        "\n",
        "print(result_arr)"
      ]
    },
    {
      "cell_type": "code",
      "execution_count": null,
      "metadata": {
        "colab": {
          "base_uri": "https://localhost:8080/"
        },
        "id": "7Zm5URJELcfX",
        "outputId": "db04295f-1669-46d5-8af8-b28ca77d7cf7"
      },
      "outputs": [
        {
          "name": "stdout",
          "output_type": "stream",
          "text": [
            "0\n"
          ]
        }
      ],
      "source": [
        "print(0*(0 not in nums))"
      ]
    },
    {
      "cell_type": "code",
      "execution_count": null,
      "metadata": {
        "colab": {
          "base_uri": "https://localhost:8080/"
        },
        "id": "tkLK6HhfMxiN",
        "outputId": "bd95c148-12af-4f59-889f-b12082eaebae"
      },
      "outputs": [
        {
          "name": "stdout",
          "output_type": "stream",
          "text": [
            "8\n"
          ]
        }
      ],
      "source": [
        "nums = [1]\n",
        "nums = [9,6,4,2,3,5,7,0,1]\n",
        "\n",
        "\n",
        "for val in range(len(nums)+1):\n",
        "  if val not in nums : \n",
        "    print(val)\n"
      ]
    },
    {
      "cell_type": "code",
      "execution_count": null,
      "metadata": {
        "id": "8WX5ocPJNhEc"
      },
      "outputs": [],
      "source": [
        "\n",
        "\n",
        "expected = len(nums)*(len(nums)+1)/2\n",
        "actual= sum(nums)\n",
        "return int(expected - actual)"
      ]
    },
    {
      "cell_type": "code",
      "execution_count": null,
      "metadata": {
        "id": "OwcudRY3OKyi"
      },
      "outputs": [],
      "source": [
        "#https://leetcode.com/problems/average-of-levels-in-binary-tree/\n",
        "\n",
        "\n",
        "\n",
        "from collections import defaultdict\n",
        "\n",
        "class Solution:\n",
        "    def averageOfLevels(self, root):\n",
        "        if root is None:\n",
        "            return []\n",
        "        levels = defaultdict(list)\n",
        "        queue = [(root, 1)]\n",
        "        level = 0\n",
        "        while queue:\n",
        "            node, level = queue.pop(0)\n",
        "            levels[level].append(node.val)\n",
        "            if node.left is not None:\n",
        "                queue.append((node.left, level + 1))\n",
        "            if node.right is not None:\n",
        "                queue.append((node.right, level + 1))\n",
        "        return [sum(levels[i]) / len(levels[i]) for i in range(1, level + 1)]"
      ]
    },
    {
      "cell_type": "code",
      "execution_count": null,
      "metadata": {
        "colab": {
          "base_uri": "https://localhost:8080/"
        },
        "id": "xn4RJSl7OQVN",
        "outputId": "54c0bd51-f614-4d9a-eee0-95a09fc366ae"
      },
      "outputs": [
        {
          "name": "stdout",
          "output_type": "stream",
          "text": [
            "[('a', 'a', 'a', 'a', 'a'), ('a', 'a', 'a', 'a', 'e'), ('a', 'a', 'a', 'a', 'i'), ('a', 'a', 'a', 'a', 'o'), ('a', 'a', 'a', 'a', 'u'), ('a', 'a', 'a', 'e', 'a'), ('a', 'a', 'a', 'e', 'e'), ('a', 'a', 'a', 'e', 'i'), ('a', 'a', 'a', 'e', 'o'), ('a', 'a', 'a', 'e', 'u'), ('a', 'a', 'a', 'i', 'a'), ('a', 'a', 'a', 'i', 'e'), ('a', 'a', 'a', 'i', 'i'), ('a', 'a', 'a', 'i', 'o'), ('a', 'a', 'a', 'i', 'u'), ('a', 'a', 'a', 'o', 'a'), ('a', 'a', 'a', 'o', 'e'), ('a', 'a', 'a', 'o', 'i'), ('a', 'a', 'a', 'o', 'o'), ('a', 'a', 'a', 'o', 'u'), ('a', 'a', 'a', 'u', 'a'), ('a', 'a', 'a', 'u', 'e'), ('a', 'a', 'a', 'u', 'i'), ('a', 'a', 'a', 'u', 'o'), ('a', 'a', 'a', 'u', 'u'), ('a', 'a', 'e', 'a', 'a'), ('a', 'a', 'e', 'a', 'e'), ('a', 'a', 'e', 'a', 'i'), ('a', 'a', 'e', 'a', 'o'), ('a', 'a', 'e', 'a', 'u'), ('a', 'a', 'e', 'e', 'a'), ('a', 'a', 'e', 'e', 'e'), ('a', 'a', 'e', 'e', 'i'), ('a', 'a', 'e', 'e', 'o'), ('a', 'a', 'e', 'e', 'u'), ('a', 'a', 'e', 'i', 'a'), ('a', 'a', 'e', 'i', 'e'), ('a', 'a', 'e', 'i', 'i'), ('a', 'a', 'e', 'i', 'o'), ('a', 'a', 'e', 'i', 'u'), ('a', 'a', 'e', 'o', 'a'), ('a', 'a', 'e', 'o', 'e'), ('a', 'a', 'e', 'o', 'i'), ('a', 'a', 'e', 'o', 'o'), ('a', 'a', 'e', 'o', 'u'), ('a', 'a', 'e', 'u', 'a'), ('a', 'a', 'e', 'u', 'e'), ('a', 'a', 'e', 'u', 'i'), ('a', 'a', 'e', 'u', 'o'), ('a', 'a', 'e', 'u', 'u'), ('a', 'a', 'i', 'a', 'a'), ('a', 'a', 'i', 'a', 'e'), ('a', 'a', 'i', 'a', 'i'), ('a', 'a', 'i', 'a', 'o'), ('a', 'a', 'i', 'a', 'u'), ('a', 'a', 'i', 'e', 'a'), ('a', 'a', 'i', 'e', 'e'), ('a', 'a', 'i', 'e', 'i'), ('a', 'a', 'i', 'e', 'o'), ('a', 'a', 'i', 'e', 'u'), ('a', 'a', 'i', 'i', 'a'), ('a', 'a', 'i', 'i', 'e'), ('a', 'a', 'i', 'i', 'i'), ('a', 'a', 'i', 'i', 'o'), ('a', 'a', 'i', 'i', 'u'), ('a', 'a', 'i', 'o', 'a'), ('a', 'a', 'i', 'o', 'e'), ('a', 'a', 'i', 'o', 'i'), ('a', 'a', 'i', 'o', 'o'), ('a', 'a', 'i', 'o', 'u'), ('a', 'a', 'i', 'u', 'a'), ('a', 'a', 'i', 'u', 'e'), ('a', 'a', 'i', 'u', 'i'), ('a', 'a', 'i', 'u', 'o'), ('a', 'a', 'i', 'u', 'u'), ('a', 'a', 'o', 'a', 'a'), ('a', 'a', 'o', 'a', 'e'), ('a', 'a', 'o', 'a', 'i'), ('a', 'a', 'o', 'a', 'o'), ('a', 'a', 'o', 'a', 'u'), ('a', 'a', 'o', 'e', 'a'), ('a', 'a', 'o', 'e', 'e'), ('a', 'a', 'o', 'e', 'i'), ('a', 'a', 'o', 'e', 'o'), ('a', 'a', 'o', 'e', 'u'), ('a', 'a', 'o', 'i', 'a'), ('a', 'a', 'o', 'i', 'e'), ('a', 'a', 'o', 'i', 'i'), ('a', 'a', 'o', 'i', 'o'), ('a', 'a', 'o', 'i', 'u'), ('a', 'a', 'o', 'o', 'a'), ('a', 'a', 'o', 'o', 'e'), ('a', 'a', 'o', 'o', 'i'), ('a', 'a', 'o', 'o', 'o'), ('a', 'a', 'o', 'o', 'u'), ('a', 'a', 'o', 'u', 'a'), ('a', 'a', 'o', 'u', 'e'), ('a', 'a', 'o', 'u', 'i'), ('a', 'a', 'o', 'u', 'o'), ('a', 'a', 'o', 'u', 'u'), ('a', 'a', 'u', 'a', 'a'), ('a', 'a', 'u', 'a', 'e'), ('a', 'a', 'u', 'a', 'i'), ('a', 'a', 'u', 'a', 'o'), ('a', 'a', 'u', 'a', 'u'), ('a', 'a', 'u', 'e', 'a'), ('a', 'a', 'u', 'e', 'e'), ('a', 'a', 'u', 'e', 'i'), ('a', 'a', 'u', 'e', 'o'), ('a', 'a', 'u', 'e', 'u'), ('a', 'a', 'u', 'i', 'a'), ('a', 'a', 'u', 'i', 'e'), ('a', 'a', 'u', 'i', 'i'), ('a', 'a', 'u', 'i', 'o'), ('a', 'a', 'u', 'i', 'u'), ('a', 'a', 'u', 'o', 'a'), ('a', 'a', 'u', 'o', 'e'), ('a', 'a', 'u', 'o', 'i'), ('a', 'a', 'u', 'o', 'o'), ('a', 'a', 'u', 'o', 'u'), ('a', 'a', 'u', 'u', 'a'), ('a', 'a', 'u', 'u', 'e'), ('a', 'a', 'u', 'u', 'i'), ('a', 'a', 'u', 'u', 'o'), ('a', 'a', 'u', 'u', 'u'), ('a', 'e', 'a', 'a', 'a'), ('a', 'e', 'a', 'a', 'e'), ('a', 'e', 'a', 'a', 'i'), ('a', 'e', 'a', 'a', 'o'), ('a', 'e', 'a', 'a', 'u'), ('a', 'e', 'a', 'e', 'a'), ('a', 'e', 'a', 'e', 'e'), ('a', 'e', 'a', 'e', 'i'), ('a', 'e', 'a', 'e', 'o'), ('a', 'e', 'a', 'e', 'u'), ('a', 'e', 'a', 'i', 'a'), ('a', 'e', 'a', 'i', 'e'), ('a', 'e', 'a', 'i', 'i'), ('a', 'e', 'a', 'i', 'o'), ('a', 'e', 'a', 'i', 'u'), ('a', 'e', 'a', 'o', 'a'), ('a', 'e', 'a', 'o', 'e'), ('a', 'e', 'a', 'o', 'i'), ('a', 'e', 'a', 'o', 'o'), ('a', 'e', 'a', 'o', 'u'), ('a', 'e', 'a', 'u', 'a'), ('a', 'e', 'a', 'u', 'e'), ('a', 'e', 'a', 'u', 'i'), ('a', 'e', 'a', 'u', 'o'), ('a', 'e', 'a', 'u', 'u'), ('a', 'e', 'e', 'a', 'a'), ('a', 'e', 'e', 'a', 'e'), ('a', 'e', 'e', 'a', 'i'), ('a', 'e', 'e', 'a', 'o'), ('a', 'e', 'e', 'a', 'u'), ('a', 'e', 'e', 'e', 'a'), ('a', 'e', 'e', 'e', 'e'), ('a', 'e', 'e', 'e', 'i'), ('a', 'e', 'e', 'e', 'o'), ('a', 'e', 'e', 'e', 'u'), ('a', 'e', 'e', 'i', 'a'), ('a', 'e', 'e', 'i', 'e'), ('a', 'e', 'e', 'i', 'i'), ('a', 'e', 'e', 'i', 'o'), ('a', 'e', 'e', 'i', 'u'), ('a', 'e', 'e', 'o', 'a'), ('a', 'e', 'e', 'o', 'e'), ('a', 'e', 'e', 'o', 'i'), ('a', 'e', 'e', 'o', 'o'), ('a', 'e', 'e', 'o', 'u'), ('a', 'e', 'e', 'u', 'a'), ('a', 'e', 'e', 'u', 'e'), ('a', 'e', 'e', 'u', 'i'), ('a', 'e', 'e', 'u', 'o'), ('a', 'e', 'e', 'u', 'u'), ('a', 'e', 'i', 'a', 'a'), ('a', 'e', 'i', 'a', 'e'), ('a', 'e', 'i', 'a', 'i'), ('a', 'e', 'i', 'a', 'o'), ('a', 'e', 'i', 'a', 'u'), ('a', 'e', 'i', 'e', 'a'), ('a', 'e', 'i', 'e', 'e'), ('a', 'e', 'i', 'e', 'i'), ('a', 'e', 'i', 'e', 'o'), ('a', 'e', 'i', 'e', 'u'), ('a', 'e', 'i', 'i', 'a'), ('a', 'e', 'i', 'i', 'e'), ('a', 'e', 'i', 'i', 'i'), ('a', 'e', 'i', 'i', 'o'), ('a', 'e', 'i', 'i', 'u'), ('a', 'e', 'i', 'o', 'a'), ('a', 'e', 'i', 'o', 'e'), ('a', 'e', 'i', 'o', 'i'), ('a', 'e', 'i', 'o', 'o'), ('a', 'e', 'i', 'o', 'u'), ('a', 'e', 'i', 'u', 'a'), ('a', 'e', 'i', 'u', 'e'), ('a', 'e', 'i', 'u', 'i'), ('a', 'e', 'i', 'u', 'o'), ('a', 'e', 'i', 'u', 'u'), ('a', 'e', 'o', 'a', 'a'), ('a', 'e', 'o', 'a', 'e'), ('a', 'e', 'o', 'a', 'i'), ('a', 'e', 'o', 'a', 'o'), ('a', 'e', 'o', 'a', 'u'), ('a', 'e', 'o', 'e', 'a'), ('a', 'e', 'o', 'e', 'e'), ('a', 'e', 'o', 'e', 'i'), ('a', 'e', 'o', 'e', 'o'), ('a', 'e', 'o', 'e', 'u'), ('a', 'e', 'o', 'i', 'a'), ('a', 'e', 'o', 'i', 'e'), ('a', 'e', 'o', 'i', 'i'), ('a', 'e', 'o', 'i', 'o'), ('a', 'e', 'o', 'i', 'u'), ('a', 'e', 'o', 'o', 'a'), ('a', 'e', 'o', 'o', 'e'), ('a', 'e', 'o', 'o', 'i'), ('a', 'e', 'o', 'o', 'o'), ('a', 'e', 'o', 'o', 'u'), ('a', 'e', 'o', 'u', 'a'), ('a', 'e', 'o', 'u', 'e'), ('a', 'e', 'o', 'u', 'i'), ('a', 'e', 'o', 'u', 'o'), ('a', 'e', 'o', 'u', 'u'), ('a', 'e', 'u', 'a', 'a'), ('a', 'e', 'u', 'a', 'e'), ('a', 'e', 'u', 'a', 'i'), ('a', 'e', 'u', 'a', 'o'), ('a', 'e', 'u', 'a', 'u'), ('a', 'e', 'u', 'e', 'a'), ('a', 'e', 'u', 'e', 'e'), ('a', 'e', 'u', 'e', 'i'), ('a', 'e', 'u', 'e', 'o'), ('a', 'e', 'u', 'e', 'u'), ('a', 'e', 'u', 'i', 'a'), ('a', 'e', 'u', 'i', 'e'), ('a', 'e', 'u', 'i', 'i'), ('a', 'e', 'u', 'i', 'o'), ('a', 'e', 'u', 'i', 'u'), ('a', 'e', 'u', 'o', 'a'), ('a', 'e', 'u', 'o', 'e'), ('a', 'e', 'u', 'o', 'i'), ('a', 'e', 'u', 'o', 'o'), ('a', 'e', 'u', 'o', 'u'), ('a', 'e', 'u', 'u', 'a'), ('a', 'e', 'u', 'u', 'e'), ('a', 'e', 'u', 'u', 'i'), ('a', 'e', 'u', 'u', 'o'), ('a', 'e', 'u', 'u', 'u'), ('a', 'i', 'a', 'a', 'a'), ('a', 'i', 'a', 'a', 'e'), ('a', 'i', 'a', 'a', 'i'), ('a', 'i', 'a', 'a', 'o'), ('a', 'i', 'a', 'a', 'u'), ('a', 'i', 'a', 'e', 'a'), ('a', 'i', 'a', 'e', 'e'), ('a', 'i', 'a', 'e', 'i'), ('a', 'i', 'a', 'e', 'o'), ('a', 'i', 'a', 'e', 'u'), ('a', 'i', 'a', 'i', 'a'), ('a', 'i', 'a', 'i', 'e'), ('a', 'i', 'a', 'i', 'i'), ('a', 'i', 'a', 'i', 'o'), ('a', 'i', 'a', 'i', 'u'), ('a', 'i', 'a', 'o', 'a'), ('a', 'i', 'a', 'o', 'e'), ('a', 'i', 'a', 'o', 'i'), ('a', 'i', 'a', 'o', 'o'), ('a', 'i', 'a', 'o', 'u'), ('a', 'i', 'a', 'u', 'a'), ('a', 'i', 'a', 'u', 'e'), ('a', 'i', 'a', 'u', 'i'), ('a', 'i', 'a', 'u', 'o'), ('a', 'i', 'a', 'u', 'u'), ('a', 'i', 'e', 'a', 'a'), ('a', 'i', 'e', 'a', 'e'), ('a', 'i', 'e', 'a', 'i'), ('a', 'i', 'e', 'a', 'o'), ('a', 'i', 'e', 'a', 'u'), ('a', 'i', 'e', 'e', 'a'), ('a', 'i', 'e', 'e', 'e'), ('a', 'i', 'e', 'e', 'i'), ('a', 'i', 'e', 'e', 'o'), ('a', 'i', 'e', 'e', 'u'), ('a', 'i', 'e', 'i', 'a'), ('a', 'i', 'e', 'i', 'e'), ('a', 'i', 'e', 'i', 'i'), ('a', 'i', 'e', 'i', 'o'), ('a', 'i', 'e', 'i', 'u'), ('a', 'i', 'e', 'o', 'a'), ('a', 'i', 'e', 'o', 'e'), ('a', 'i', 'e', 'o', 'i'), ('a', 'i', 'e', 'o', 'o'), ('a', 'i', 'e', 'o', 'u'), ('a', 'i', 'e', 'u', 'a'), ('a', 'i', 'e', 'u', 'e'), ('a', 'i', 'e', 'u', 'i'), ('a', 'i', 'e', 'u', 'o'), ('a', 'i', 'e', 'u', 'u'), ('a', 'i', 'i', 'a', 'a'), ('a', 'i', 'i', 'a', 'e'), ('a', 'i', 'i', 'a', 'i'), ('a', 'i', 'i', 'a', 'o'), ('a', 'i', 'i', 'a', 'u'), ('a', 'i', 'i', 'e', 'a'), ('a', 'i', 'i', 'e', 'e'), ('a', 'i', 'i', 'e', 'i'), ('a', 'i', 'i', 'e', 'o'), ('a', 'i', 'i', 'e', 'u'), ('a', 'i', 'i', 'i', 'a'), ('a', 'i', 'i', 'i', 'e'), ('a', 'i', 'i', 'i', 'i'), ('a', 'i', 'i', 'i', 'o'), ('a', 'i', 'i', 'i', 'u'), ('a', 'i', 'i', 'o', 'a'), ('a', 'i', 'i', 'o', 'e'), ('a', 'i', 'i', 'o', 'i'), ('a', 'i', 'i', 'o', 'o'), ('a', 'i', 'i', 'o', 'u'), ('a', 'i', 'i', 'u', 'a'), ('a', 'i', 'i', 'u', 'e'), ('a', 'i', 'i', 'u', 'i'), ('a', 'i', 'i', 'u', 'o'), ('a', 'i', 'i', 'u', 'u'), ('a', 'i', 'o', 'a', 'a'), ('a', 'i', 'o', 'a', 'e'), ('a', 'i', 'o', 'a', 'i'), ('a', 'i', 'o', 'a', 'o'), ('a', 'i', 'o', 'a', 'u'), ('a', 'i', 'o', 'e', 'a'), ('a', 'i', 'o', 'e', 'e'), ('a', 'i', 'o', 'e', 'i'), ('a', 'i', 'o', 'e', 'o'), ('a', 'i', 'o', 'e', 'u'), ('a', 'i', 'o', 'i', 'a'), ('a', 'i', 'o', 'i', 'e'), ('a', 'i', 'o', 'i', 'i'), ('a', 'i', 'o', 'i', 'o'), ('a', 'i', 'o', 'i', 'u'), ('a', 'i', 'o', 'o', 'a'), ('a', 'i', 'o', 'o', 'e'), ('a', 'i', 'o', 'o', 'i'), ('a', 'i', 'o', 'o', 'o'), ('a', 'i', 'o', 'o', 'u'), ('a', 'i', 'o', 'u', 'a'), ('a', 'i', 'o', 'u', 'e'), ('a', 'i', 'o', 'u', 'i'), ('a', 'i', 'o', 'u', 'o'), ('a', 'i', 'o', 'u', 'u'), ('a', 'i', 'u', 'a', 'a'), ('a', 'i', 'u', 'a', 'e'), ('a', 'i', 'u', 'a', 'i'), ('a', 'i', 'u', 'a', 'o'), ('a', 'i', 'u', 'a', 'u'), ('a', 'i', 'u', 'e', 'a'), ('a', 'i', 'u', 'e', 'e'), ('a', 'i', 'u', 'e', 'i'), ('a', 'i', 'u', 'e', 'o'), ('a', 'i', 'u', 'e', 'u'), ('a', 'i', 'u', 'i', 'a'), ('a', 'i', 'u', 'i', 'e'), ('a', 'i', 'u', 'i', 'i'), ('a', 'i', 'u', 'i', 'o'), ('a', 'i', 'u', 'i', 'u'), ('a', 'i', 'u', 'o', 'a'), ('a', 'i', 'u', 'o', 'e'), ('a', 'i', 'u', 'o', 'i'), ('a', 'i', 'u', 'o', 'o'), ('a', 'i', 'u', 'o', 'u'), ('a', 'i', 'u', 'u', 'a'), ('a', 'i', 'u', 'u', 'e'), ('a', 'i', 'u', 'u', 'i'), ('a', 'i', 'u', 'u', 'o'), ('a', 'i', 'u', 'u', 'u'), ('a', 'o', 'a', 'a', 'a'), ('a', 'o', 'a', 'a', 'e'), ('a', 'o', 'a', 'a', 'i'), ('a', 'o', 'a', 'a', 'o'), ('a', 'o', 'a', 'a', 'u'), ('a', 'o', 'a', 'e', 'a'), ('a', 'o', 'a', 'e', 'e'), ('a', 'o', 'a', 'e', 'i'), ('a', 'o', 'a', 'e', 'o'), ('a', 'o', 'a', 'e', 'u'), ('a', 'o', 'a', 'i', 'a'), ('a', 'o', 'a', 'i', 'e'), ('a', 'o', 'a', 'i', 'i'), ('a', 'o', 'a', 'i', 'o'), ('a', 'o', 'a', 'i', 'u'), ('a', 'o', 'a', 'o', 'a'), ('a', 'o', 'a', 'o', 'e'), ('a', 'o', 'a', 'o', 'i'), ('a', 'o', 'a', 'o', 'o'), ('a', 'o', 'a', 'o', 'u'), ('a', 'o', 'a', 'u', 'a'), ('a', 'o', 'a', 'u', 'e'), ('a', 'o', 'a', 'u', 'i'), ('a', 'o', 'a', 'u', 'o'), ('a', 'o', 'a', 'u', 'u'), ('a', 'o', 'e', 'a', 'a'), ('a', 'o', 'e', 'a', 'e'), ('a', 'o', 'e', 'a', 'i'), ('a', 'o', 'e', 'a', 'o'), ('a', 'o', 'e', 'a', 'u'), ('a', 'o', 'e', 'e', 'a'), ('a', 'o', 'e', 'e', 'e'), ('a', 'o', 'e', 'e', 'i'), ('a', 'o', 'e', 'e', 'o'), ('a', 'o', 'e', 'e', 'u'), ('a', 'o', 'e', 'i', 'a'), ('a', 'o', 'e', 'i', 'e'), ('a', 'o', 'e', 'i', 'i'), ('a', 'o', 'e', 'i', 'o'), ('a', 'o', 'e', 'i', 'u'), ('a', 'o', 'e', 'o', 'a'), ('a', 'o', 'e', 'o', 'e'), ('a', 'o', 'e', 'o', 'i'), ('a', 'o', 'e', 'o', 'o'), ('a', 'o', 'e', 'o', 'u'), ('a', 'o', 'e', 'u', 'a'), ('a', 'o', 'e', 'u', 'e'), ('a', 'o', 'e', 'u', 'i'), ('a', 'o', 'e', 'u', 'o'), ('a', 'o', 'e', 'u', 'u'), ('a', 'o', 'i', 'a', 'a'), ('a', 'o', 'i', 'a', 'e'), ('a', 'o', 'i', 'a', 'i'), ('a', 'o', 'i', 'a', 'o'), ('a', 'o', 'i', 'a', 'u'), ('a', 'o', 'i', 'e', 'a'), ('a', 'o', 'i', 'e', 'e'), ('a', 'o', 'i', 'e', 'i'), ('a', 'o', 'i', 'e', 'o'), ('a', 'o', 'i', 'e', 'u'), ('a', 'o', 'i', 'i', 'a'), ('a', 'o', 'i', 'i', 'e'), ('a', 'o', 'i', 'i', 'i'), ('a', 'o', 'i', 'i', 'o'), ('a', 'o', 'i', 'i', 'u'), ('a', 'o', 'i', 'o', 'a'), ('a', 'o', 'i', 'o', 'e'), ('a', 'o', 'i', 'o', 'i'), ('a', 'o', 'i', 'o', 'o'), ('a', 'o', 'i', 'o', 'u'), ('a', 'o', 'i', 'u', 'a'), ('a', 'o', 'i', 'u', 'e'), ('a', 'o', 'i', 'u', 'i'), ('a', 'o', 'i', 'u', 'o'), ('a', 'o', 'i', 'u', 'u'), ('a', 'o', 'o', 'a', 'a'), ('a', 'o', 'o', 'a', 'e'), ('a', 'o', 'o', 'a', 'i'), ('a', 'o', 'o', 'a', 'o'), ('a', 'o', 'o', 'a', 'u'), ('a', 'o', 'o', 'e', 'a'), ('a', 'o', 'o', 'e', 'e'), ('a', 'o', 'o', 'e', 'i'), ('a', 'o', 'o', 'e', 'o'), ('a', 'o', 'o', 'e', 'u'), ('a', 'o', 'o', 'i', 'a'), ('a', 'o', 'o', 'i', 'e'), ('a', 'o', 'o', 'i', 'i'), ('a', 'o', 'o', 'i', 'o'), ('a', 'o', 'o', 'i', 'u'), ('a', 'o', 'o', 'o', 'a'), ('a', 'o', 'o', 'o', 'e'), ('a', 'o', 'o', 'o', 'i'), ('a', 'o', 'o', 'o', 'o'), ('a', 'o', 'o', 'o', 'u'), ('a', 'o', 'o', 'u', 'a'), ('a', 'o', 'o', 'u', 'e'), ('a', 'o', 'o', 'u', 'i'), ('a', 'o', 'o', 'u', 'o'), ('a', 'o', 'o', 'u', 'u'), ('a', 'o', 'u', 'a', 'a'), ('a', 'o', 'u', 'a', 'e'), ('a', 'o', 'u', 'a', 'i'), ('a', 'o', 'u', 'a', 'o'), ('a', 'o', 'u', 'a', 'u'), ('a', 'o', 'u', 'e', 'a'), ('a', 'o', 'u', 'e', 'e'), ('a', 'o', 'u', 'e', 'i'), ('a', 'o', 'u', 'e', 'o'), ('a', 'o', 'u', 'e', 'u'), ('a', 'o', 'u', 'i', 'a'), ('a', 'o', 'u', 'i', 'e'), ('a', 'o', 'u', 'i', 'i'), ('a', 'o', 'u', 'i', 'o'), ('a', 'o', 'u', 'i', 'u'), ('a', 'o', 'u', 'o', 'a'), ('a', 'o', 'u', 'o', 'e'), ('a', 'o', 'u', 'o', 'i'), ('a', 'o', 'u', 'o', 'o'), ('a', 'o', 'u', 'o', 'u'), ('a', 'o', 'u', 'u', 'a'), ('a', 'o', 'u', 'u', 'e'), ('a', 'o', 'u', 'u', 'i'), ('a', 'o', 'u', 'u', 'o'), ('a', 'o', 'u', 'u', 'u'), ('a', 'u', 'a', 'a', 'a'), ('a', 'u', 'a', 'a', 'e'), ('a', 'u', 'a', 'a', 'i'), ('a', 'u', 'a', 'a', 'o'), ('a', 'u', 'a', 'a', 'u'), ('a', 'u', 'a', 'e', 'a'), ('a', 'u', 'a', 'e', 'e'), ('a', 'u', 'a', 'e', 'i'), ('a', 'u', 'a', 'e', 'o'), ('a', 'u', 'a', 'e', 'u'), ('a', 'u', 'a', 'i', 'a'), ('a', 'u', 'a', 'i', 'e'), ('a', 'u', 'a', 'i', 'i'), ('a', 'u', 'a', 'i', 'o'), ('a', 'u', 'a', 'i', 'u'), ('a', 'u', 'a', 'o', 'a'), ('a', 'u', 'a', 'o', 'e'), ('a', 'u', 'a', 'o', 'i'), ('a', 'u', 'a', 'o', 'o'), ('a', 'u', 'a', 'o', 'u'), ('a', 'u', 'a', 'u', 'a'), ('a', 'u', 'a', 'u', 'e'), ('a', 'u', 'a', 'u', 'i'), ('a', 'u', 'a', 'u', 'o'), ('a', 'u', 'a', 'u', 'u'), ('a', 'u', 'e', 'a', 'a'), ('a', 'u', 'e', 'a', 'e'), ('a', 'u', 'e', 'a', 'i'), ('a', 'u', 'e', 'a', 'o'), ('a', 'u', 'e', 'a', 'u'), ('a', 'u', 'e', 'e', 'a'), ('a', 'u', 'e', 'e', 'e'), ('a', 'u', 'e', 'e', 'i'), ('a', 'u', 'e', 'e', 'o'), ('a', 'u', 'e', 'e', 'u'), ('a', 'u', 'e', 'i', 'a'), ('a', 'u', 'e', 'i', 'e'), ('a', 'u', 'e', 'i', 'i'), ('a', 'u', 'e', 'i', 'o'), ('a', 'u', 'e', 'i', 'u'), ('a', 'u', 'e', 'o', 'a'), ('a', 'u', 'e', 'o', 'e'), ('a', 'u', 'e', 'o', 'i'), ('a', 'u', 'e', 'o', 'o'), ('a', 'u', 'e', 'o', 'u'), ('a', 'u', 'e', 'u', 'a'), ('a', 'u', 'e', 'u', 'e'), ('a', 'u', 'e', 'u', 'i'), ('a', 'u', 'e', 'u', 'o'), ('a', 'u', 'e', 'u', 'u'), ('a', 'u', 'i', 'a', 'a'), ('a', 'u', 'i', 'a', 'e'), ('a', 'u', 'i', 'a', 'i'), ('a', 'u', 'i', 'a', 'o'), ('a', 'u', 'i', 'a', 'u'), ('a', 'u', 'i', 'e', 'a'), ('a', 'u', 'i', 'e', 'e'), ('a', 'u', 'i', 'e', 'i'), ('a', 'u', 'i', 'e', 'o'), ('a', 'u', 'i', 'e', 'u'), ('a', 'u', 'i', 'i', 'a'), ('a', 'u', 'i', 'i', 'e'), ('a', 'u', 'i', 'i', 'i'), ('a', 'u', 'i', 'i', 'o'), ('a', 'u', 'i', 'i', 'u'), ('a', 'u', 'i', 'o', 'a'), ('a', 'u', 'i', 'o', 'e'), ('a', 'u', 'i', 'o', 'i'), ('a', 'u', 'i', 'o', 'o'), ('a', 'u', 'i', 'o', 'u'), ('a', 'u', 'i', 'u', 'a'), ('a', 'u', 'i', 'u', 'e'), ('a', 'u', 'i', 'u', 'i'), ('a', 'u', 'i', 'u', 'o'), ('a', 'u', 'i', 'u', 'u'), ('a', 'u', 'o', 'a', 'a'), ('a', 'u', 'o', 'a', 'e'), ('a', 'u', 'o', 'a', 'i'), ('a', 'u', 'o', 'a', 'o'), ('a', 'u', 'o', 'a', 'u'), ('a', 'u', 'o', 'e', 'a'), ('a', 'u', 'o', 'e', 'e'), ('a', 'u', 'o', 'e', 'i'), ('a', 'u', 'o', 'e', 'o'), ('a', 'u', 'o', 'e', 'u'), ('a', 'u', 'o', 'i', 'a'), ('a', 'u', 'o', 'i', 'e'), ('a', 'u', 'o', 'i', 'i'), ('a', 'u', 'o', 'i', 'o'), ('a', 'u', 'o', 'i', 'u'), ('a', 'u', 'o', 'o', 'a'), ('a', 'u', 'o', 'o', 'e'), ('a', 'u', 'o', 'o', 'i'), ('a', 'u', 'o', 'o', 'o'), ('a', 'u', 'o', 'o', 'u'), ('a', 'u', 'o', 'u', 'a'), ('a', 'u', 'o', 'u', 'e'), ('a', 'u', 'o', 'u', 'i'), ('a', 'u', 'o', 'u', 'o'), ('a', 'u', 'o', 'u', 'u'), ('a', 'u', 'u', 'a', 'a'), ('a', 'u', 'u', 'a', 'e'), ('a', 'u', 'u', 'a', 'i'), ('a', 'u', 'u', 'a', 'o'), ('a', 'u', 'u', 'a', 'u'), ('a', 'u', 'u', 'e', 'a'), ('a', 'u', 'u', 'e', 'e'), ('a', 'u', 'u', 'e', 'i'), ('a', 'u', 'u', 'e', 'o'), ('a', 'u', 'u', 'e', 'u'), ('a', 'u', 'u', 'i', 'a'), ('a', 'u', 'u', 'i', 'e'), ('a', 'u', 'u', 'i', 'i'), ('a', 'u', 'u', 'i', 'o'), ('a', 'u', 'u', 'i', 'u'), ('a', 'u', 'u', 'o', 'a'), ('a', 'u', 'u', 'o', 'e'), ('a', 'u', 'u', 'o', 'i'), ('a', 'u', 'u', 'o', 'o'), ('a', 'u', 'u', 'o', 'u'), ('a', 'u', 'u', 'u', 'a'), ('a', 'u', 'u', 'u', 'e'), ('a', 'u', 'u', 'u', 'i'), ('a', 'u', 'u', 'u', 'o'), ('a', 'u', 'u', 'u', 'u'), ('e', 'a', 'a', 'a', 'a'), ('e', 'a', 'a', 'a', 'e'), ('e', 'a', 'a', 'a', 'i'), ('e', 'a', 'a', 'a', 'o'), ('e', 'a', 'a', 'a', 'u'), ('e', 'a', 'a', 'e', 'a'), ('e', 'a', 'a', 'e', 'e'), ('e', 'a', 'a', 'e', 'i'), ('e', 'a', 'a', 'e', 'o'), ('e', 'a', 'a', 'e', 'u'), ('e', 'a', 'a', 'i', 'a'), ('e', 'a', 'a', 'i', 'e'), ('e', 'a', 'a', 'i', 'i'), ('e', 'a', 'a', 'i', 'o'), ('e', 'a', 'a', 'i', 'u'), ('e', 'a', 'a', 'o', 'a'), ('e', 'a', 'a', 'o', 'e'), ('e', 'a', 'a', 'o', 'i'), ('e', 'a', 'a', 'o', 'o'), ('e', 'a', 'a', 'o', 'u'), ('e', 'a', 'a', 'u', 'a'), ('e', 'a', 'a', 'u', 'e'), ('e', 'a', 'a', 'u', 'i'), ('e', 'a', 'a', 'u', 'o'), ('e', 'a', 'a', 'u', 'u'), ('e', 'a', 'e', 'a', 'a'), ('e', 'a', 'e', 'a', 'e'), ('e', 'a', 'e', 'a', 'i'), ('e', 'a', 'e', 'a', 'o'), ('e', 'a', 'e', 'a', 'u'), ('e', 'a', 'e', 'e', 'a'), ('e', 'a', 'e', 'e', 'e'), ('e', 'a', 'e', 'e', 'i'), ('e', 'a', 'e', 'e', 'o'), ('e', 'a', 'e', 'e', 'u'), ('e', 'a', 'e', 'i', 'a'), ('e', 'a', 'e', 'i', 'e'), ('e', 'a', 'e', 'i', 'i'), ('e', 'a', 'e', 'i', 'o'), ('e', 'a', 'e', 'i', 'u'), ('e', 'a', 'e', 'o', 'a'), ('e', 'a', 'e', 'o', 'e'), ('e', 'a', 'e', 'o', 'i'), ('e', 'a', 'e', 'o', 'o'), ('e', 'a', 'e', 'o', 'u'), ('e', 'a', 'e', 'u', 'a'), ('e', 'a', 'e', 'u', 'e'), ('e', 'a', 'e', 'u', 'i'), ('e', 'a', 'e', 'u', 'o'), ('e', 'a', 'e', 'u', 'u'), ('e', 'a', 'i', 'a', 'a'), ('e', 'a', 'i', 'a', 'e'), ('e', 'a', 'i', 'a', 'i'), ('e', 'a', 'i', 'a', 'o'), ('e', 'a', 'i', 'a', 'u'), ('e', 'a', 'i', 'e', 'a'), ('e', 'a', 'i', 'e', 'e'), ('e', 'a', 'i', 'e', 'i'), ('e', 'a', 'i', 'e', 'o'), ('e', 'a', 'i', 'e', 'u'), ('e', 'a', 'i', 'i', 'a'), ('e', 'a', 'i', 'i', 'e'), ('e', 'a', 'i', 'i', 'i'), ('e', 'a', 'i', 'i', 'o'), ('e', 'a', 'i', 'i', 'u'), ('e', 'a', 'i', 'o', 'a'), ('e', 'a', 'i', 'o', 'e'), ('e', 'a', 'i', 'o', 'i'), ('e', 'a', 'i', 'o', 'o'), ('e', 'a', 'i', 'o', 'u'), ('e', 'a', 'i', 'u', 'a'), ('e', 'a', 'i', 'u', 'e'), ('e', 'a', 'i', 'u', 'i'), ('e', 'a', 'i', 'u', 'o'), ('e', 'a', 'i', 'u', 'u'), ('e', 'a', 'o', 'a', 'a'), ('e', 'a', 'o', 'a', 'e'), ('e', 'a', 'o', 'a', 'i'), ('e', 'a', 'o', 'a', 'o'), ('e', 'a', 'o', 'a', 'u'), ('e', 'a', 'o', 'e', 'a'), ('e', 'a', 'o', 'e', 'e'), ('e', 'a', 'o', 'e', 'i'), ('e', 'a', 'o', 'e', 'o'), ('e', 'a', 'o', 'e', 'u'), ('e', 'a', 'o', 'i', 'a'), ('e', 'a', 'o', 'i', 'e'), ('e', 'a', 'o', 'i', 'i'), ('e', 'a', 'o', 'i', 'o'), ('e', 'a', 'o', 'i', 'u'), ('e', 'a', 'o', 'o', 'a'), ('e', 'a', 'o', 'o', 'e'), ('e', 'a', 'o', 'o', 'i'), ('e', 'a', 'o', 'o', 'o'), ('e', 'a', 'o', 'o', 'u'), ('e', 'a', 'o', 'u', 'a'), ('e', 'a', 'o', 'u', 'e'), ('e', 'a', 'o', 'u', 'i'), ('e', 'a', 'o', 'u', 'o'), ('e', 'a', 'o', 'u', 'u'), ('e', 'a', 'u', 'a', 'a'), ('e', 'a', 'u', 'a', 'e'), ('e', 'a', 'u', 'a', 'i'), ('e', 'a', 'u', 'a', 'o'), ('e', 'a', 'u', 'a', 'u'), ('e', 'a', 'u', 'e', 'a'), ('e', 'a', 'u', 'e', 'e'), ('e', 'a', 'u', 'e', 'i'), ('e', 'a', 'u', 'e', 'o'), ('e', 'a', 'u', 'e', 'u'), ('e', 'a', 'u', 'i', 'a'), ('e', 'a', 'u', 'i', 'e'), ('e', 'a', 'u', 'i', 'i'), ('e', 'a', 'u', 'i', 'o'), ('e', 'a', 'u', 'i', 'u'), ('e', 'a', 'u', 'o', 'a'), ('e', 'a', 'u', 'o', 'e'), ('e', 'a', 'u', 'o', 'i'), ('e', 'a', 'u', 'o', 'o'), ('e', 'a', 'u', 'o', 'u'), ('e', 'a', 'u', 'u', 'a'), ('e', 'a', 'u', 'u', 'e'), ('e', 'a', 'u', 'u', 'i'), ('e', 'a', 'u', 'u', 'o'), ('e', 'a', 'u', 'u', 'u'), ('e', 'e', 'a', 'a', 'a'), ('e', 'e', 'a', 'a', 'e'), ('e', 'e', 'a', 'a', 'i'), ('e', 'e', 'a', 'a', 'o'), ('e', 'e', 'a', 'a', 'u'), ('e', 'e', 'a', 'e', 'a'), ('e', 'e', 'a', 'e', 'e'), ('e', 'e', 'a', 'e', 'i'), ('e', 'e', 'a', 'e', 'o'), ('e', 'e', 'a', 'e', 'u'), ('e', 'e', 'a', 'i', 'a'), ('e', 'e', 'a', 'i', 'e'), ('e', 'e', 'a', 'i', 'i'), ('e', 'e', 'a', 'i', 'o'), ('e', 'e', 'a', 'i', 'u'), ('e', 'e', 'a', 'o', 'a'), ('e', 'e', 'a', 'o', 'e'), ('e', 'e', 'a', 'o', 'i'), ('e', 'e', 'a', 'o', 'o'), ('e', 'e', 'a', 'o', 'u'), ('e', 'e', 'a', 'u', 'a'), ('e', 'e', 'a', 'u', 'e'), ('e', 'e', 'a', 'u', 'i'), ('e', 'e', 'a', 'u', 'o'), ('e', 'e', 'a', 'u', 'u'), ('e', 'e', 'e', 'a', 'a'), ('e', 'e', 'e', 'a', 'e'), ('e', 'e', 'e', 'a', 'i'), ('e', 'e', 'e', 'a', 'o'), ('e', 'e', 'e', 'a', 'u'), ('e', 'e', 'e', 'e', 'a'), ('e', 'e', 'e', 'e', 'e'), ('e', 'e', 'e', 'e', 'i'), ('e', 'e', 'e', 'e', 'o'), ('e', 'e', 'e', 'e', 'u'), ('e', 'e', 'e', 'i', 'a'), ('e', 'e', 'e', 'i', 'e'), ('e', 'e', 'e', 'i', 'i'), ('e', 'e', 'e', 'i', 'o'), ('e', 'e', 'e', 'i', 'u'), ('e', 'e', 'e', 'o', 'a'), ('e', 'e', 'e', 'o', 'e'), ('e', 'e', 'e', 'o', 'i'), ('e', 'e', 'e', 'o', 'o'), ('e', 'e', 'e', 'o', 'u'), ('e', 'e', 'e', 'u', 'a'), ('e', 'e', 'e', 'u', 'e'), ('e', 'e', 'e', 'u', 'i'), ('e', 'e', 'e', 'u', 'o'), ('e', 'e', 'e', 'u', 'u'), ('e', 'e', 'i', 'a', 'a'), ('e', 'e', 'i', 'a', 'e'), ('e', 'e', 'i', 'a', 'i'), ('e', 'e', 'i', 'a', 'o'), ('e', 'e', 'i', 'a', 'u'), ('e', 'e', 'i', 'e', 'a'), ('e', 'e', 'i', 'e', 'e'), ('e', 'e', 'i', 'e', 'i'), ('e', 'e', 'i', 'e', 'o'), ('e', 'e', 'i', 'e', 'u'), ('e', 'e', 'i', 'i', 'a'), ('e', 'e', 'i', 'i', 'e'), ('e', 'e', 'i', 'i', 'i'), ('e', 'e', 'i', 'i', 'o'), ('e', 'e', 'i', 'i', 'u'), ('e', 'e', 'i', 'o', 'a'), ('e', 'e', 'i', 'o', 'e'), ('e', 'e', 'i', 'o', 'i'), ('e', 'e', 'i', 'o', 'o'), ('e', 'e', 'i', 'o', 'u'), ('e', 'e', 'i', 'u', 'a'), ('e', 'e', 'i', 'u', 'e'), ('e', 'e', 'i', 'u', 'i'), ('e', 'e', 'i', 'u', 'o'), ('e', 'e', 'i', 'u', 'u'), ('e', 'e', 'o', 'a', 'a'), ('e', 'e', 'o', 'a', 'e'), ('e', 'e', 'o', 'a', 'i'), ('e', 'e', 'o', 'a', 'o'), ('e', 'e', 'o', 'a', 'u'), ('e', 'e', 'o', 'e', 'a'), ('e', 'e', 'o', 'e', 'e'), ('e', 'e', 'o', 'e', 'i'), ('e', 'e', 'o', 'e', 'o'), ('e', 'e', 'o', 'e', 'u'), ('e', 'e', 'o', 'i', 'a'), ('e', 'e', 'o', 'i', 'e'), ('e', 'e', 'o', 'i', 'i'), ('e', 'e', 'o', 'i', 'o'), ('e', 'e', 'o', 'i', 'u'), ('e', 'e', 'o', 'o', 'a'), ('e', 'e', 'o', 'o', 'e'), ('e', 'e', 'o', 'o', 'i'), ('e', 'e', 'o', 'o', 'o'), ('e', 'e', 'o', 'o', 'u'), ('e', 'e', 'o', 'u', 'a'), ('e', 'e', 'o', 'u', 'e'), ('e', 'e', 'o', 'u', 'i'), ('e', 'e', 'o', 'u', 'o'), ('e', 'e', 'o', 'u', 'u'), ('e', 'e', 'u', 'a', 'a'), ('e', 'e', 'u', 'a', 'e'), ('e', 'e', 'u', 'a', 'i'), ('e', 'e', 'u', 'a', 'o'), ('e', 'e', 'u', 'a', 'u'), ('e', 'e', 'u', 'e', 'a'), ('e', 'e', 'u', 'e', 'e'), ('e', 'e', 'u', 'e', 'i'), ('e', 'e', 'u', 'e', 'o'), ('e', 'e', 'u', 'e', 'u'), ('e', 'e', 'u', 'i', 'a'), ('e', 'e', 'u', 'i', 'e'), ('e', 'e', 'u', 'i', 'i'), ('e', 'e', 'u', 'i', 'o'), ('e', 'e', 'u', 'i', 'u'), ('e', 'e', 'u', 'o', 'a'), ('e', 'e', 'u', 'o', 'e'), ('e', 'e', 'u', 'o', 'i'), ('e', 'e', 'u', 'o', 'o'), ('e', 'e', 'u', 'o', 'u'), ('e', 'e', 'u', 'u', 'a'), ('e', 'e', 'u', 'u', 'e'), ('e', 'e', 'u', 'u', 'i'), ('e', 'e', 'u', 'u', 'o'), ('e', 'e', 'u', 'u', 'u'), ('e', 'i', 'a', 'a', 'a'), ('e', 'i', 'a', 'a', 'e'), ('e', 'i', 'a', 'a', 'i'), ('e', 'i', 'a', 'a', 'o'), ('e', 'i', 'a', 'a', 'u'), ('e', 'i', 'a', 'e', 'a'), ('e', 'i', 'a', 'e', 'e'), ('e', 'i', 'a', 'e', 'i'), ('e', 'i', 'a', 'e', 'o'), ('e', 'i', 'a', 'e', 'u'), ('e', 'i', 'a', 'i', 'a'), ('e', 'i', 'a', 'i', 'e'), ('e', 'i', 'a', 'i', 'i'), ('e', 'i', 'a', 'i', 'o'), ('e', 'i', 'a', 'i', 'u'), ('e', 'i', 'a', 'o', 'a'), ('e', 'i', 'a', 'o', 'e'), ('e', 'i', 'a', 'o', 'i'), ('e', 'i', 'a', 'o', 'o'), ('e', 'i', 'a', 'o', 'u'), ('e', 'i', 'a', 'u', 'a'), ('e', 'i', 'a', 'u', 'e'), ('e', 'i', 'a', 'u', 'i'), ('e', 'i', 'a', 'u', 'o'), ('e', 'i', 'a', 'u', 'u'), ('e', 'i', 'e', 'a', 'a'), ('e', 'i', 'e', 'a', 'e'), ('e', 'i', 'e', 'a', 'i'), ('e', 'i', 'e', 'a', 'o'), ('e', 'i', 'e', 'a', 'u'), ('e', 'i', 'e', 'e', 'a'), ('e', 'i', 'e', 'e', 'e'), ('e', 'i', 'e', 'e', 'i'), ('e', 'i', 'e', 'e', 'o'), ('e', 'i', 'e', 'e', 'u'), ('e', 'i', 'e', 'i', 'a'), ('e', 'i', 'e', 'i', 'e'), ('e', 'i', 'e', 'i', 'i'), ('e', 'i', 'e', 'i', 'o'), ('e', 'i', 'e', 'i', 'u'), ('e', 'i', 'e', 'o', 'a'), ('e', 'i', 'e', 'o', 'e'), ('e', 'i', 'e', 'o', 'i'), ('e', 'i', 'e', 'o', 'o'), ('e', 'i', 'e', 'o', 'u'), ('e', 'i', 'e', 'u', 'a'), ('e', 'i', 'e', 'u', 'e'), ('e', 'i', 'e', 'u', 'i'), ('e', 'i', 'e', 'u', 'o'), ('e', 'i', 'e', 'u', 'u'), ('e', 'i', 'i', 'a', 'a'), ('e', 'i', 'i', 'a', 'e'), ('e', 'i', 'i', 'a', 'i'), ('e', 'i', 'i', 'a', 'o'), ('e', 'i', 'i', 'a', 'u'), ('e', 'i', 'i', 'e', 'a'), ('e', 'i', 'i', 'e', 'e'), ('e', 'i', 'i', 'e', 'i'), ('e', 'i', 'i', 'e', 'o'), ('e', 'i', 'i', 'e', 'u'), ('e', 'i', 'i', 'i', 'a'), ('e', 'i', 'i', 'i', 'e'), ('e', 'i', 'i', 'i', 'i'), ('e', 'i', 'i', 'i', 'o'), ('e', 'i', 'i', 'i', 'u'), ('e', 'i', 'i', 'o', 'a'), ('e', 'i', 'i', 'o', 'e'), ('e', 'i', 'i', 'o', 'i'), ('e', 'i', 'i', 'o', 'o'), ('e', 'i', 'i', 'o', 'u'), ('e', 'i', 'i', 'u', 'a'), ('e', 'i', 'i', 'u', 'e'), ('e', 'i', 'i', 'u', 'i'), ('e', 'i', 'i', 'u', 'o'), ('e', 'i', 'i', 'u', 'u'), ('e', 'i', 'o', 'a', 'a'), ('e', 'i', 'o', 'a', 'e'), ('e', 'i', 'o', 'a', 'i'), ('e', 'i', 'o', 'a', 'o'), ('e', 'i', 'o', 'a', 'u'), ('e', 'i', 'o', 'e', 'a'), ('e', 'i', 'o', 'e', 'e'), ('e', 'i', 'o', 'e', 'i'), ('e', 'i', 'o', 'e', 'o'), ('e', 'i', 'o', 'e', 'u'), ('e', 'i', 'o', 'i', 'a'), ('e', 'i', 'o', 'i', 'e'), ('e', 'i', 'o', 'i', 'i'), ('e', 'i', 'o', 'i', 'o'), ('e', 'i', 'o', 'i', 'u'), ('e', 'i', 'o', 'o', 'a'), ('e', 'i', 'o', 'o', 'e'), ('e', 'i', 'o', 'o', 'i'), ('e', 'i', 'o', 'o', 'o'), ('e', 'i', 'o', 'o', 'u'), ('e', 'i', 'o', 'u', 'a'), ('e', 'i', 'o', 'u', 'e'), ('e', 'i', 'o', 'u', 'i'), ('e', 'i', 'o', 'u', 'o'), ('e', 'i', 'o', 'u', 'u'), ('e', 'i', 'u', 'a', 'a'), ('e', 'i', 'u', 'a', 'e'), ('e', 'i', 'u', 'a', 'i'), ('e', 'i', 'u', 'a', 'o'), ('e', 'i', 'u', 'a', 'u'), ('e', 'i', 'u', 'e', 'a'), ('e', 'i', 'u', 'e', 'e'), ('e', 'i', 'u', 'e', 'i'), ('e', 'i', 'u', 'e', 'o'), ('e', 'i', 'u', 'e', 'u'), ('e', 'i', 'u', 'i', 'a'), ('e', 'i', 'u', 'i', 'e'), ('e', 'i', 'u', 'i', 'i'), ('e', 'i', 'u', 'i', 'o'), ('e', 'i', 'u', 'i', 'u'), ('e', 'i', 'u', 'o', 'a'), ('e', 'i', 'u', 'o', 'e'), ('e', 'i', 'u', 'o', 'i'), ('e', 'i', 'u', 'o', 'o'), ('e', 'i', 'u', 'o', 'u'), ('e', 'i', 'u', 'u', 'a'), ('e', 'i', 'u', 'u', 'e'), ('e', 'i', 'u', 'u', 'i'), ('e', 'i', 'u', 'u', 'o'), ('e', 'i', 'u', 'u', 'u'), ('e', 'o', 'a', 'a', 'a'), ('e', 'o', 'a', 'a', 'e'), ('e', 'o', 'a', 'a', 'i'), ('e', 'o', 'a', 'a', 'o'), ('e', 'o', 'a', 'a', 'u'), ('e', 'o', 'a', 'e', 'a'), ('e', 'o', 'a', 'e', 'e'), ('e', 'o', 'a', 'e', 'i'), ('e', 'o', 'a', 'e', 'o'), ('e', 'o', 'a', 'e', 'u'), ('e', 'o', 'a', 'i', 'a'), ('e', 'o', 'a', 'i', 'e'), ('e', 'o', 'a', 'i', 'i'), ('e', 'o', 'a', 'i', 'o'), ('e', 'o', 'a', 'i', 'u'), ('e', 'o', 'a', 'o', 'a'), ('e', 'o', 'a', 'o', 'e'), ('e', 'o', 'a', 'o', 'i'), ('e', 'o', 'a', 'o', 'o'), ('e', 'o', 'a', 'o', 'u'), ('e', 'o', 'a', 'u', 'a'), ('e', 'o', 'a', 'u', 'e'), ('e', 'o', 'a', 'u', 'i'), ('e', 'o', 'a', 'u', 'o'), ('e', 'o', 'a', 'u', 'u'), ('e', 'o', 'e', 'a', 'a'), ('e', 'o', 'e', 'a', 'e'), ('e', 'o', 'e', 'a', 'i'), ('e', 'o', 'e', 'a', 'o'), ('e', 'o', 'e', 'a', 'u'), ('e', 'o', 'e', 'e', 'a'), ('e', 'o', 'e', 'e', 'e'), ('e', 'o', 'e', 'e', 'i'), ('e', 'o', 'e', 'e', 'o'), ('e', 'o', 'e', 'e', 'u'), ('e', 'o', 'e', 'i', 'a'), ('e', 'o', 'e', 'i', 'e'), ('e', 'o', 'e', 'i', 'i'), ('e', 'o', 'e', 'i', 'o'), ('e', 'o', 'e', 'i', 'u'), ('e', 'o', 'e', 'o', 'a'), ('e', 'o', 'e', 'o', 'e'), ('e', 'o', 'e', 'o', 'i'), ('e', 'o', 'e', 'o', 'o'), ('e', 'o', 'e', 'o', 'u'), ('e', 'o', 'e', 'u', 'a'), ('e', 'o', 'e', 'u', 'e'), ('e', 'o', 'e', 'u', 'i'), ('e', 'o', 'e', 'u', 'o'), ('e', 'o', 'e', 'u', 'u'), ('e', 'o', 'i', 'a', 'a'), ('e', 'o', 'i', 'a', 'e'), ('e', 'o', 'i', 'a', 'i'), ('e', 'o', 'i', 'a', 'o'), ('e', 'o', 'i', 'a', 'u'), ('e', 'o', 'i', 'e', 'a'), ('e', 'o', 'i', 'e', 'e'), ('e', 'o', 'i', 'e', 'i'), ('e', 'o', 'i', 'e', 'o'), ('e', 'o', 'i', 'e', 'u'), ('e', 'o', 'i', 'i', 'a'), ('e', 'o', 'i', 'i', 'e'), ('e', 'o', 'i', 'i', 'i'), ('e', 'o', 'i', 'i', 'o'), ('e', 'o', 'i', 'i', 'u'), ('e', 'o', 'i', 'o', 'a'), ('e', 'o', 'i', 'o', 'e'), ('e', 'o', 'i', 'o', 'i'), ('e', 'o', 'i', 'o', 'o'), ('e', 'o', 'i', 'o', 'u'), ('e', 'o', 'i', 'u', 'a'), ('e', 'o', 'i', 'u', 'e'), ('e', 'o', 'i', 'u', 'i'), ('e', 'o', 'i', 'u', 'o'), ('e', 'o', 'i', 'u', 'u'), ('e', 'o', 'o', 'a', 'a'), ('e', 'o', 'o', 'a', 'e'), ('e', 'o', 'o', 'a', 'i'), ('e', 'o', 'o', 'a', 'o'), ('e', 'o', 'o', 'a', 'u'), ('e', 'o', 'o', 'e', 'a'), ('e', 'o', 'o', 'e', 'e'), ('e', 'o', 'o', 'e', 'i'), ('e', 'o', 'o', 'e', 'o'), ('e', 'o', 'o', 'e', 'u'), ('e', 'o', 'o', 'i', 'a'), ('e', 'o', 'o', 'i', 'e'), ('e', 'o', 'o', 'i', 'i'), ('e', 'o', 'o', 'i', 'o'), ('e', 'o', 'o', 'i', 'u'), ('e', 'o', 'o', 'o', 'a'), ('e', 'o', 'o', 'o', 'e'), ('e', 'o', 'o', 'o', 'i'), ('e', 'o', 'o', 'o', 'o'), ('e', 'o', 'o', 'o', 'u'), ('e', 'o', 'o', 'u', 'a'), ('e', 'o', 'o', 'u', 'e'), ('e', 'o', 'o', 'u', 'i'), ('e', 'o', 'o', 'u', 'o'), ('e', 'o', 'o', 'u', 'u'), ('e', 'o', 'u', 'a', 'a'), ('e', 'o', 'u', 'a', 'e'), ('e', 'o', 'u', 'a', 'i'), ('e', 'o', 'u', 'a', 'o'), ('e', 'o', 'u', 'a', 'u'), ('e', 'o', 'u', 'e', 'a'), ('e', 'o', 'u', 'e', 'e'), ('e', 'o', 'u', 'e', 'i'), ('e', 'o', 'u', 'e', 'o'), ('e', 'o', 'u', 'e', 'u'), ('e', 'o', 'u', 'i', 'a'), ('e', 'o', 'u', 'i', 'e'), ('e', 'o', 'u', 'i', 'i'), ('e', 'o', 'u', 'i', 'o'), ('e', 'o', 'u', 'i', 'u'), ('e', 'o', 'u', 'o', 'a'), ('e', 'o', 'u', 'o', 'e'), ('e', 'o', 'u', 'o', 'i'), ('e', 'o', 'u', 'o', 'o'), ('e', 'o', 'u', 'o', 'u'), ('e', 'o', 'u', 'u', 'a'), ('e', 'o', 'u', 'u', 'e'), ('e', 'o', 'u', 'u', 'i'), ('e', 'o', 'u', 'u', 'o'), ('e', 'o', 'u', 'u', 'u'), ('e', 'u', 'a', 'a', 'a'), ('e', 'u', 'a', 'a', 'e'), ('e', 'u', 'a', 'a', 'i'), ('e', 'u', 'a', 'a', 'o'), ('e', 'u', 'a', 'a', 'u'), ('e', 'u', 'a', 'e', 'a'), ('e', 'u', 'a', 'e', 'e'), ('e', 'u', 'a', 'e', 'i'), ('e', 'u', 'a', 'e', 'o'), ('e', 'u', 'a', 'e', 'u'), ('e', 'u', 'a', 'i', 'a'), ('e', 'u', 'a', 'i', 'e'), ('e', 'u', 'a', 'i', 'i'), ('e', 'u', 'a', 'i', 'o'), ('e', 'u', 'a', 'i', 'u'), ('e', 'u', 'a', 'o', 'a'), ('e', 'u', 'a', 'o', 'e'), ('e', 'u', 'a', 'o', 'i'), ('e', 'u', 'a', 'o', 'o'), ('e', 'u', 'a', 'o', 'u'), ('e', 'u', 'a', 'u', 'a'), ('e', 'u', 'a', 'u', 'e'), ('e', 'u', 'a', 'u', 'i'), ('e', 'u', 'a', 'u', 'o'), ('e', 'u', 'a', 'u', 'u'), ('e', 'u', 'e', 'a', 'a'), ('e', 'u', 'e', 'a', 'e'), ('e', 'u', 'e', 'a', 'i'), ('e', 'u', 'e', 'a', 'o'), ('e', 'u', 'e', 'a', 'u'), ('e', 'u', 'e', 'e', 'a'), ('e', 'u', 'e', 'e', 'e'), ('e', 'u', 'e', 'e', 'i'), ('e', 'u', 'e', 'e', 'o'), ('e', 'u', 'e', 'e', 'u'), ('e', 'u', 'e', 'i', 'a'), ('e', 'u', 'e', 'i', 'e'), ('e', 'u', 'e', 'i', 'i'), ('e', 'u', 'e', 'i', 'o'), ('e', 'u', 'e', 'i', 'u'), ('e', 'u', 'e', 'o', 'a'), ('e', 'u', 'e', 'o', 'e'), ('e', 'u', 'e', 'o', 'i'), ('e', 'u', 'e', 'o', 'o'), ('e', 'u', 'e', 'o', 'u'), ('e', 'u', 'e', 'u', 'a'), ('e', 'u', 'e', 'u', 'e'), ('e', 'u', 'e', 'u', 'i'), ('e', 'u', 'e', 'u', 'o'), ('e', 'u', 'e', 'u', 'u'), ('e', 'u', 'i', 'a', 'a'), ('e', 'u', 'i', 'a', 'e'), ('e', 'u', 'i', 'a', 'i'), ('e', 'u', 'i', 'a', 'o'), ('e', 'u', 'i', 'a', 'u'), ('e', 'u', 'i', 'e', 'a'), ('e', 'u', 'i', 'e', 'e'), ('e', 'u', 'i', 'e', 'i'), ('e', 'u', 'i', 'e', 'o'), ('e', 'u', 'i', 'e', 'u'), ('e', 'u', 'i', 'i', 'a'), ('e', 'u', 'i', 'i', 'e'), ('e', 'u', 'i', 'i', 'i'), ('e', 'u', 'i', 'i', 'o'), ('e', 'u', 'i', 'i', 'u'), ('e', 'u', 'i', 'o', 'a'), ('e', 'u', 'i', 'o', 'e'), ('e', 'u', 'i', 'o', 'i'), ('e', 'u', 'i', 'o', 'o'), ('e', 'u', 'i', 'o', 'u'), ('e', 'u', 'i', 'u', 'a'), ('e', 'u', 'i', 'u', 'e'), ('e', 'u', 'i', 'u', 'i'), ('e', 'u', 'i', 'u', 'o'), ('e', 'u', 'i', 'u', 'u'), ('e', 'u', 'o', 'a', 'a'), ('e', 'u', 'o', 'a', 'e'), ('e', 'u', 'o', 'a', 'i'), ('e', 'u', 'o', 'a', 'o'), ('e', 'u', 'o', 'a', 'u'), ('e', 'u', 'o', 'e', 'a'), ('e', 'u', 'o', 'e', 'e'), ('e', 'u', 'o', 'e', 'i'), ('e', 'u', 'o', 'e', 'o'), ('e', 'u', 'o', 'e', 'u'), ('e', 'u', 'o', 'i', 'a'), ('e', 'u', 'o', 'i', 'e'), ('e', 'u', 'o', 'i', 'i'), ('e', 'u', 'o', 'i', 'o'), ('e', 'u', 'o', 'i', 'u'), ('e', 'u', 'o', 'o', 'a'), ('e', 'u', 'o', 'o', 'e'), ('e', 'u', 'o', 'o', 'i'), ('e', 'u', 'o', 'o', 'o'), ('e', 'u', 'o', 'o', 'u'), ('e', 'u', 'o', 'u', 'a'), ('e', 'u', 'o', 'u', 'e'), ('e', 'u', 'o', 'u', 'i'), ('e', 'u', 'o', 'u', 'o'), ('e', 'u', 'o', 'u', 'u'), ('e', 'u', 'u', 'a', 'a'), ('e', 'u', 'u', 'a', 'e'), ('e', 'u', 'u', 'a', 'i'), ('e', 'u', 'u', 'a', 'o'), ('e', 'u', 'u', 'a', 'u'), ('e', 'u', 'u', 'e', 'a'), ('e', 'u', 'u', 'e', 'e'), ('e', 'u', 'u', 'e', 'i'), ('e', 'u', 'u', 'e', 'o'), ('e', 'u', 'u', 'e', 'u'), ('e', 'u', 'u', 'i', 'a'), ('e', 'u', 'u', 'i', 'e'), ('e', 'u', 'u', 'i', 'i'), ('e', 'u', 'u', 'i', 'o'), ('e', 'u', 'u', 'i', 'u'), ('e', 'u', 'u', 'o', 'a'), ('e', 'u', 'u', 'o', 'e'), ('e', 'u', 'u', 'o', 'i'), ('e', 'u', 'u', 'o', 'o'), ('e', 'u', 'u', 'o', 'u'), ('e', 'u', 'u', 'u', 'a'), ('e', 'u', 'u', 'u', 'e'), ('e', 'u', 'u', 'u', 'i'), ('e', 'u', 'u', 'u', 'o'), ('e', 'u', 'u', 'u', 'u'), ('i', 'a', 'a', 'a', 'a'), ('i', 'a', 'a', 'a', 'e'), ('i', 'a', 'a', 'a', 'i'), ('i', 'a', 'a', 'a', 'o'), ('i', 'a', 'a', 'a', 'u'), ('i', 'a', 'a', 'e', 'a'), ('i', 'a', 'a', 'e', 'e'), ('i', 'a', 'a', 'e', 'i'), ('i', 'a', 'a', 'e', 'o'), ('i', 'a', 'a', 'e', 'u'), ('i', 'a', 'a', 'i', 'a'), ('i', 'a', 'a', 'i', 'e'), ('i', 'a', 'a', 'i', 'i'), ('i', 'a', 'a', 'i', 'o'), ('i', 'a', 'a', 'i', 'u'), ('i', 'a', 'a', 'o', 'a'), ('i', 'a', 'a', 'o', 'e'), ('i', 'a', 'a', 'o', 'i'), ('i', 'a', 'a', 'o', 'o'), ('i', 'a', 'a', 'o', 'u'), ('i', 'a', 'a', 'u', 'a'), ('i', 'a', 'a', 'u', 'e'), ('i', 'a', 'a', 'u', 'i'), ('i', 'a', 'a', 'u', 'o'), ('i', 'a', 'a', 'u', 'u'), ('i', 'a', 'e', 'a', 'a'), ('i', 'a', 'e', 'a', 'e'), ('i', 'a', 'e', 'a', 'i'), ('i', 'a', 'e', 'a', 'o'), ('i', 'a', 'e', 'a', 'u'), ('i', 'a', 'e', 'e', 'a'), ('i', 'a', 'e', 'e', 'e'), ('i', 'a', 'e', 'e', 'i'), ('i', 'a', 'e', 'e', 'o'), ('i', 'a', 'e', 'e', 'u'), ('i', 'a', 'e', 'i', 'a'), ('i', 'a', 'e', 'i', 'e'), ('i', 'a', 'e', 'i', 'i'), ('i', 'a', 'e', 'i', 'o'), ('i', 'a', 'e', 'i', 'u'), ('i', 'a', 'e', 'o', 'a'), ('i', 'a', 'e', 'o', 'e'), ('i', 'a', 'e', 'o', 'i'), ('i', 'a', 'e', 'o', 'o'), ('i', 'a', 'e', 'o', 'u'), ('i', 'a', 'e', 'u', 'a'), ('i', 'a', 'e', 'u', 'e'), ('i', 'a', 'e', 'u', 'i'), ('i', 'a', 'e', 'u', 'o'), ('i', 'a', 'e', 'u', 'u'), ('i', 'a', 'i', 'a', 'a'), ('i', 'a', 'i', 'a', 'e'), ('i', 'a', 'i', 'a', 'i'), ('i', 'a', 'i', 'a', 'o'), ('i', 'a', 'i', 'a', 'u'), ('i', 'a', 'i', 'e', 'a'), ('i', 'a', 'i', 'e', 'e'), ('i', 'a', 'i', 'e', 'i'), ('i', 'a', 'i', 'e', 'o'), ('i', 'a', 'i', 'e', 'u'), ('i', 'a', 'i', 'i', 'a'), ('i', 'a', 'i', 'i', 'e'), ('i', 'a', 'i', 'i', 'i'), ('i', 'a', 'i', 'i', 'o'), ('i', 'a', 'i', 'i', 'u'), ('i', 'a', 'i', 'o', 'a'), ('i', 'a', 'i', 'o', 'e'), ('i', 'a', 'i', 'o', 'i'), ('i', 'a', 'i', 'o', 'o'), ('i', 'a', 'i', 'o', 'u'), ('i', 'a', 'i', 'u', 'a'), ('i', 'a', 'i', 'u', 'e'), ('i', 'a', 'i', 'u', 'i'), ('i', 'a', 'i', 'u', 'o'), ('i', 'a', 'i', 'u', 'u'), ('i', 'a', 'o', 'a', 'a'), ('i', 'a', 'o', 'a', 'e'), ('i', 'a', 'o', 'a', 'i'), ('i', 'a', 'o', 'a', 'o'), ('i', 'a', 'o', 'a', 'u'), ('i', 'a', 'o', 'e', 'a'), ('i', 'a', 'o', 'e', 'e'), ('i', 'a', 'o', 'e', 'i'), ('i', 'a', 'o', 'e', 'o'), ('i', 'a', 'o', 'e', 'u'), ('i', 'a', 'o', 'i', 'a'), ('i', 'a', 'o', 'i', 'e'), ('i', 'a', 'o', 'i', 'i'), ('i', 'a', 'o', 'i', 'o'), ('i', 'a', 'o', 'i', 'u'), ('i', 'a', 'o', 'o', 'a'), ('i', 'a', 'o', 'o', 'e'), ('i', 'a', 'o', 'o', 'i'), ('i', 'a', 'o', 'o', 'o'), ('i', 'a', 'o', 'o', 'u'), ('i', 'a', 'o', 'u', 'a'), ('i', 'a', 'o', 'u', 'e'), ('i', 'a', 'o', 'u', 'i'), ('i', 'a', 'o', 'u', 'o'), ('i', 'a', 'o', 'u', 'u'), ('i', 'a', 'u', 'a', 'a'), ('i', 'a', 'u', 'a', 'e'), ('i', 'a', 'u', 'a', 'i'), ('i', 'a', 'u', 'a', 'o'), ('i', 'a', 'u', 'a', 'u'), ('i', 'a', 'u', 'e', 'a'), ('i', 'a', 'u', 'e', 'e'), ('i', 'a', 'u', 'e', 'i'), ('i', 'a', 'u', 'e', 'o'), ('i', 'a', 'u', 'e', 'u'), ('i', 'a', 'u', 'i', 'a'), ('i', 'a', 'u', 'i', 'e'), ('i', 'a', 'u', 'i', 'i'), ('i', 'a', 'u', 'i', 'o'), ('i', 'a', 'u', 'i', 'u'), ('i', 'a', 'u', 'o', 'a'), ('i', 'a', 'u', 'o', 'e'), ('i', 'a', 'u', 'o', 'i'), ('i', 'a', 'u', 'o', 'o'), ('i', 'a', 'u', 'o', 'u'), ('i', 'a', 'u', 'u', 'a'), ('i', 'a', 'u', 'u', 'e'), ('i', 'a', 'u', 'u', 'i'), ('i', 'a', 'u', 'u', 'o'), ('i', 'a', 'u', 'u', 'u'), ('i', 'e', 'a', 'a', 'a'), ('i', 'e', 'a', 'a', 'e'), ('i', 'e', 'a', 'a', 'i'), ('i', 'e', 'a', 'a', 'o'), ('i', 'e', 'a', 'a', 'u'), ('i', 'e', 'a', 'e', 'a'), ('i', 'e', 'a', 'e', 'e'), ('i', 'e', 'a', 'e', 'i'), ('i', 'e', 'a', 'e', 'o'), ('i', 'e', 'a', 'e', 'u'), ('i', 'e', 'a', 'i', 'a'), ('i', 'e', 'a', 'i', 'e'), ('i', 'e', 'a', 'i', 'i'), ('i', 'e', 'a', 'i', 'o'), ('i', 'e', 'a', 'i', 'u'), ('i', 'e', 'a', 'o', 'a'), ('i', 'e', 'a', 'o', 'e'), ('i', 'e', 'a', 'o', 'i'), ('i', 'e', 'a', 'o', 'o'), ('i', 'e', 'a', 'o', 'u'), ('i', 'e', 'a', 'u', 'a'), ('i', 'e', 'a', 'u', 'e'), ('i', 'e', 'a', 'u', 'i'), ('i', 'e', 'a', 'u', 'o'), ('i', 'e', 'a', 'u', 'u'), ('i', 'e', 'e', 'a', 'a'), ('i', 'e', 'e', 'a', 'e'), ('i', 'e', 'e', 'a', 'i'), ('i', 'e', 'e', 'a', 'o'), ('i', 'e', 'e', 'a', 'u'), ('i', 'e', 'e', 'e', 'a'), ('i', 'e', 'e', 'e', 'e'), ('i', 'e', 'e', 'e', 'i'), ('i', 'e', 'e', 'e', 'o'), ('i', 'e', 'e', 'e', 'u'), ('i', 'e', 'e', 'i', 'a'), ('i', 'e', 'e', 'i', 'e'), ('i', 'e', 'e', 'i', 'i'), ('i', 'e', 'e', 'i', 'o'), ('i', 'e', 'e', 'i', 'u'), ('i', 'e', 'e', 'o', 'a'), ('i', 'e', 'e', 'o', 'e'), ('i', 'e', 'e', 'o', 'i'), ('i', 'e', 'e', 'o', 'o'), ('i', 'e', 'e', 'o', 'u'), ('i', 'e', 'e', 'u', 'a'), ('i', 'e', 'e', 'u', 'e'), ('i', 'e', 'e', 'u', 'i'), ('i', 'e', 'e', 'u', 'o'), ('i', 'e', 'e', 'u', 'u'), ('i', 'e', 'i', 'a', 'a'), ('i', 'e', 'i', 'a', 'e'), ('i', 'e', 'i', 'a', 'i'), ('i', 'e', 'i', 'a', 'o'), ('i', 'e', 'i', 'a', 'u'), ('i', 'e', 'i', 'e', 'a'), ('i', 'e', 'i', 'e', 'e'), ('i', 'e', 'i', 'e', 'i'), ('i', 'e', 'i', 'e', 'o'), ('i', 'e', 'i', 'e', 'u'), ('i', 'e', 'i', 'i', 'a'), ('i', 'e', 'i', 'i', 'e'), ('i', 'e', 'i', 'i', 'i'), ('i', 'e', 'i', 'i', 'o'), ('i', 'e', 'i', 'i', 'u'), ('i', 'e', 'i', 'o', 'a'), ('i', 'e', 'i', 'o', 'e'), ('i', 'e', 'i', 'o', 'i'), ('i', 'e', 'i', 'o', 'o'), ('i', 'e', 'i', 'o', 'u'), ('i', 'e', 'i', 'u', 'a'), ('i', 'e', 'i', 'u', 'e'), ('i', 'e', 'i', 'u', 'i'), ('i', 'e', 'i', 'u', 'o'), ('i', 'e', 'i', 'u', 'u'), ('i', 'e', 'o', 'a', 'a'), ('i', 'e', 'o', 'a', 'e'), ('i', 'e', 'o', 'a', 'i'), ('i', 'e', 'o', 'a', 'o'), ('i', 'e', 'o', 'a', 'u'), ('i', 'e', 'o', 'e', 'a'), ('i', 'e', 'o', 'e', 'e'), ('i', 'e', 'o', 'e', 'i'), ('i', 'e', 'o', 'e', 'o'), ('i', 'e', 'o', 'e', 'u'), ('i', 'e', 'o', 'i', 'a'), ('i', 'e', 'o', 'i', 'e'), ('i', 'e', 'o', 'i', 'i'), ('i', 'e', 'o', 'i', 'o'), ('i', 'e', 'o', 'i', 'u'), ('i', 'e', 'o', 'o', 'a'), ('i', 'e', 'o', 'o', 'e'), ('i', 'e', 'o', 'o', 'i'), ('i', 'e', 'o', 'o', 'o'), ('i', 'e', 'o', 'o', 'u'), ('i', 'e', 'o', 'u', 'a'), ('i', 'e', 'o', 'u', 'e'), ('i', 'e', 'o', 'u', 'i'), ('i', 'e', 'o', 'u', 'o'), ('i', 'e', 'o', 'u', 'u'), ('i', 'e', 'u', 'a', 'a'), ('i', 'e', 'u', 'a', 'e'), ('i', 'e', 'u', 'a', 'i'), ('i', 'e', 'u', 'a', 'o'), ('i', 'e', 'u', 'a', 'u'), ('i', 'e', 'u', 'e', 'a'), ('i', 'e', 'u', 'e', 'e'), ('i', 'e', 'u', 'e', 'i'), ('i', 'e', 'u', 'e', 'o'), ('i', 'e', 'u', 'e', 'u'), ('i', 'e', 'u', 'i', 'a'), ('i', 'e', 'u', 'i', 'e'), ('i', 'e', 'u', 'i', 'i'), ('i', 'e', 'u', 'i', 'o'), ('i', 'e', 'u', 'i', 'u'), ('i', 'e', 'u', 'o', 'a'), ('i', 'e', 'u', 'o', 'e'), ('i', 'e', 'u', 'o', 'i'), ('i', 'e', 'u', 'o', 'o'), ('i', 'e', 'u', 'o', 'u'), ('i', 'e', 'u', 'u', 'a'), ('i', 'e', 'u', 'u', 'e'), ('i', 'e', 'u', 'u', 'i'), ('i', 'e', 'u', 'u', 'o'), ('i', 'e', 'u', 'u', 'u'), ('i', 'i', 'a', 'a', 'a'), ('i', 'i', 'a', 'a', 'e'), ('i', 'i', 'a', 'a', 'i'), ('i', 'i', 'a', 'a', 'o'), ('i', 'i', 'a', 'a', 'u'), ('i', 'i', 'a', 'e', 'a'), ('i', 'i', 'a', 'e', 'e'), ('i', 'i', 'a', 'e', 'i'), ('i', 'i', 'a', 'e', 'o'), ('i', 'i', 'a', 'e', 'u'), ('i', 'i', 'a', 'i', 'a'), ('i', 'i', 'a', 'i', 'e'), ('i', 'i', 'a', 'i', 'i'), ('i', 'i', 'a', 'i', 'o'), ('i', 'i', 'a', 'i', 'u'), ('i', 'i', 'a', 'o', 'a'), ('i', 'i', 'a', 'o', 'e'), ('i', 'i', 'a', 'o', 'i'), ('i', 'i', 'a', 'o', 'o'), ('i', 'i', 'a', 'o', 'u'), ('i', 'i', 'a', 'u', 'a'), ('i', 'i', 'a', 'u', 'e'), ('i', 'i', 'a', 'u', 'i'), ('i', 'i', 'a', 'u', 'o'), ('i', 'i', 'a', 'u', 'u'), ('i', 'i', 'e', 'a', 'a'), ('i', 'i', 'e', 'a', 'e'), ('i', 'i', 'e', 'a', 'i'), ('i', 'i', 'e', 'a', 'o'), ('i', 'i', 'e', 'a', 'u'), ('i', 'i', 'e', 'e', 'a'), ('i', 'i', 'e', 'e', 'e'), ('i', 'i', 'e', 'e', 'i'), ('i', 'i', 'e', 'e', 'o'), ('i', 'i', 'e', 'e', 'u'), ('i', 'i', 'e', 'i', 'a'), ('i', 'i', 'e', 'i', 'e'), ('i', 'i', 'e', 'i', 'i'), ('i', 'i', 'e', 'i', 'o'), ('i', 'i', 'e', 'i', 'u'), ('i', 'i', 'e', 'o', 'a'), ('i', 'i', 'e', 'o', 'e'), ('i', 'i', 'e', 'o', 'i'), ('i', 'i', 'e', 'o', 'o'), ('i', 'i', 'e', 'o', 'u'), ('i', 'i', 'e', 'u', 'a'), ('i', 'i', 'e', 'u', 'e'), ('i', 'i', 'e', 'u', 'i'), ('i', 'i', 'e', 'u', 'o'), ('i', 'i', 'e', 'u', 'u'), ('i', 'i', 'i', 'a', 'a'), ('i', 'i', 'i', 'a', 'e'), ('i', 'i', 'i', 'a', 'i'), ('i', 'i', 'i', 'a', 'o'), ('i', 'i', 'i', 'a', 'u'), ('i', 'i', 'i', 'e', 'a'), ('i', 'i', 'i', 'e', 'e'), ('i', 'i', 'i', 'e', 'i'), ('i', 'i', 'i', 'e', 'o'), ('i', 'i', 'i', 'e', 'u'), ('i', 'i', 'i', 'i', 'a'), ('i', 'i', 'i', 'i', 'e'), ('i', 'i', 'i', 'i', 'i'), ('i', 'i', 'i', 'i', 'o'), ('i', 'i', 'i', 'i', 'u'), ('i', 'i', 'i', 'o', 'a'), ('i', 'i', 'i', 'o', 'e'), ('i', 'i', 'i', 'o', 'i'), ('i', 'i', 'i', 'o', 'o'), ('i', 'i', 'i', 'o', 'u'), ('i', 'i', 'i', 'u', 'a'), ('i', 'i', 'i', 'u', 'e'), ('i', 'i', 'i', 'u', 'i'), ('i', 'i', 'i', 'u', 'o'), ('i', 'i', 'i', 'u', 'u'), ('i', 'i', 'o', 'a', 'a'), ('i', 'i', 'o', 'a', 'e'), ('i', 'i', 'o', 'a', 'i'), ('i', 'i', 'o', 'a', 'o'), ('i', 'i', 'o', 'a', 'u'), ('i', 'i', 'o', 'e', 'a'), ('i', 'i', 'o', 'e', 'e'), ('i', 'i', 'o', 'e', 'i'), ('i', 'i', 'o', 'e', 'o'), ('i', 'i', 'o', 'e', 'u'), ('i', 'i', 'o', 'i', 'a'), ('i', 'i', 'o', 'i', 'e'), ('i', 'i', 'o', 'i', 'i'), ('i', 'i', 'o', 'i', 'o'), ('i', 'i', 'o', 'i', 'u'), ('i', 'i', 'o', 'o', 'a'), ('i', 'i', 'o', 'o', 'e'), ('i', 'i', 'o', 'o', 'i'), ('i', 'i', 'o', 'o', 'o'), ('i', 'i', 'o', 'o', 'u'), ('i', 'i', 'o', 'u', 'a'), ('i', 'i', 'o', 'u', 'e'), ('i', 'i', 'o', 'u', 'i'), ('i', 'i', 'o', 'u', 'o'), ('i', 'i', 'o', 'u', 'u'), ('i', 'i', 'u', 'a', 'a'), ('i', 'i', 'u', 'a', 'e'), ('i', 'i', 'u', 'a', 'i'), ('i', 'i', 'u', 'a', 'o'), ('i', 'i', 'u', 'a', 'u'), ('i', 'i', 'u', 'e', 'a'), ('i', 'i', 'u', 'e', 'e'), ('i', 'i', 'u', 'e', 'i'), ('i', 'i', 'u', 'e', 'o'), ('i', 'i', 'u', 'e', 'u'), ('i', 'i', 'u', 'i', 'a'), ('i', 'i', 'u', 'i', 'e'), ('i', 'i', 'u', 'i', 'i'), ('i', 'i', 'u', 'i', 'o'), ('i', 'i', 'u', 'i', 'u'), ('i', 'i', 'u', 'o', 'a'), ('i', 'i', 'u', 'o', 'e'), ('i', 'i', 'u', 'o', 'i'), ('i', 'i', 'u', 'o', 'o'), ('i', 'i', 'u', 'o', 'u'), ('i', 'i', 'u', 'u', 'a'), ('i', 'i', 'u', 'u', 'e'), ('i', 'i', 'u', 'u', 'i'), ('i', 'i', 'u', 'u', 'o'), ('i', 'i', 'u', 'u', 'u'), ('i', 'o', 'a', 'a', 'a'), ('i', 'o', 'a', 'a', 'e'), ('i', 'o', 'a', 'a', 'i'), ('i', 'o', 'a', 'a', 'o'), ('i', 'o', 'a', 'a', 'u'), ('i', 'o', 'a', 'e', 'a'), ('i', 'o', 'a', 'e', 'e'), ('i', 'o', 'a', 'e', 'i'), ('i', 'o', 'a', 'e', 'o'), ('i', 'o', 'a', 'e', 'u'), ('i', 'o', 'a', 'i', 'a'), ('i', 'o', 'a', 'i', 'e'), ('i', 'o', 'a', 'i', 'i'), ('i', 'o', 'a', 'i', 'o'), ('i', 'o', 'a', 'i', 'u'), ('i', 'o', 'a', 'o', 'a'), ('i', 'o', 'a', 'o', 'e'), ('i', 'o', 'a', 'o', 'i'), ('i', 'o', 'a', 'o', 'o'), ('i', 'o', 'a', 'o', 'u'), ('i', 'o', 'a', 'u', 'a'), ('i', 'o', 'a', 'u', 'e'), ('i', 'o', 'a', 'u', 'i'), ('i', 'o', 'a', 'u', 'o'), ('i', 'o', 'a', 'u', 'u'), ('i', 'o', 'e', 'a', 'a'), ('i', 'o', 'e', 'a', 'e'), ('i', 'o', 'e', 'a', 'i'), ('i', 'o', 'e', 'a', 'o'), ('i', 'o', 'e', 'a', 'u'), ('i', 'o', 'e', 'e', 'a'), ('i', 'o', 'e', 'e', 'e'), ('i', 'o', 'e', 'e', 'i'), ('i', 'o', 'e', 'e', 'o'), ('i', 'o', 'e', 'e', 'u'), ('i', 'o', 'e', 'i', 'a'), ('i', 'o', 'e', 'i', 'e'), ('i', 'o', 'e', 'i', 'i'), ('i', 'o', 'e', 'i', 'o'), ('i', 'o', 'e', 'i', 'u'), ('i', 'o', 'e', 'o', 'a'), ('i', 'o', 'e', 'o', 'e'), ('i', 'o', 'e', 'o', 'i'), ('i', 'o', 'e', 'o', 'o'), ('i', 'o', 'e', 'o', 'u'), ('i', 'o', 'e', 'u', 'a'), ('i', 'o', 'e', 'u', 'e'), ('i', 'o', 'e', 'u', 'i'), ('i', 'o', 'e', 'u', 'o'), ('i', 'o', 'e', 'u', 'u'), ('i', 'o', 'i', 'a', 'a'), ('i', 'o', 'i', 'a', 'e'), ('i', 'o', 'i', 'a', 'i'), ('i', 'o', 'i', 'a', 'o'), ('i', 'o', 'i', 'a', 'u'), ('i', 'o', 'i', 'e', 'a'), ('i', 'o', 'i', 'e', 'e'), ('i', 'o', 'i', 'e', 'i'), ('i', 'o', 'i', 'e', 'o'), ('i', 'o', 'i', 'e', 'u'), ('i', 'o', 'i', 'i', 'a'), ('i', 'o', 'i', 'i', 'e'), ('i', 'o', 'i', 'i', 'i'), ('i', 'o', 'i', 'i', 'o'), ('i', 'o', 'i', 'i', 'u'), ('i', 'o', 'i', 'o', 'a'), ('i', 'o', 'i', 'o', 'e'), ('i', 'o', 'i', 'o', 'i'), ('i', 'o', 'i', 'o', 'o'), ('i', 'o', 'i', 'o', 'u'), ('i', 'o', 'i', 'u', 'a'), ('i', 'o', 'i', 'u', 'e'), ('i', 'o', 'i', 'u', 'i'), ('i', 'o', 'i', 'u', 'o'), ('i', 'o', 'i', 'u', 'u'), ('i', 'o', 'o', 'a', 'a'), ('i', 'o', 'o', 'a', 'e'), ('i', 'o', 'o', 'a', 'i'), ('i', 'o', 'o', 'a', 'o'), ('i', 'o', 'o', 'a', 'u'), ('i', 'o', 'o', 'e', 'a'), ('i', 'o', 'o', 'e', 'e'), ('i', 'o', 'o', 'e', 'i'), ('i', 'o', 'o', 'e', 'o'), ('i', 'o', 'o', 'e', 'u'), ('i', 'o', 'o', 'i', 'a'), ('i', 'o', 'o', 'i', 'e'), ('i', 'o', 'o', 'i', 'i'), ('i', 'o', 'o', 'i', 'o'), ('i', 'o', 'o', 'i', 'u'), ('i', 'o', 'o', 'o', 'a'), ('i', 'o', 'o', 'o', 'e'), ('i', 'o', 'o', 'o', 'i'), ('i', 'o', 'o', 'o', 'o'), ('i', 'o', 'o', 'o', 'u'), ('i', 'o', 'o', 'u', 'a'), ('i', 'o', 'o', 'u', 'e'), ('i', 'o', 'o', 'u', 'i'), ('i', 'o', 'o', 'u', 'o'), ('i', 'o', 'o', 'u', 'u'), ('i', 'o', 'u', 'a', 'a'), ('i', 'o', 'u', 'a', 'e'), ('i', 'o', 'u', 'a', 'i'), ('i', 'o', 'u', 'a', 'o'), ('i', 'o', 'u', 'a', 'u'), ('i', 'o', 'u', 'e', 'a'), ('i', 'o', 'u', 'e', 'e'), ('i', 'o', 'u', 'e', 'i'), ('i', 'o', 'u', 'e', 'o'), ('i', 'o', 'u', 'e', 'u'), ('i', 'o', 'u', 'i', 'a'), ('i', 'o', 'u', 'i', 'e'), ('i', 'o', 'u', 'i', 'i'), ('i', 'o', 'u', 'i', 'o'), ('i', 'o', 'u', 'i', 'u'), ('i', 'o', 'u', 'o', 'a'), ('i', 'o', 'u', 'o', 'e'), ('i', 'o', 'u', 'o', 'i'), ('i', 'o', 'u', 'o', 'o'), ('i', 'o', 'u', 'o', 'u'), ('i', 'o', 'u', 'u', 'a'), ('i', 'o', 'u', 'u', 'e'), ('i', 'o', 'u', 'u', 'i'), ('i', 'o', 'u', 'u', 'o'), ('i', 'o', 'u', 'u', 'u'), ('i', 'u', 'a', 'a', 'a'), ('i', 'u', 'a', 'a', 'e'), ('i', 'u', 'a', 'a', 'i'), ('i', 'u', 'a', 'a', 'o'), ('i', 'u', 'a', 'a', 'u'), ('i', 'u', 'a', 'e', 'a'), ('i', 'u', 'a', 'e', 'e'), ('i', 'u', 'a', 'e', 'i'), ('i', 'u', 'a', 'e', 'o'), ('i', 'u', 'a', 'e', 'u'), ('i', 'u', 'a', 'i', 'a'), ('i', 'u', 'a', 'i', 'e'), ('i', 'u', 'a', 'i', 'i'), ('i', 'u', 'a', 'i', 'o'), ('i', 'u', 'a', 'i', 'u'), ('i', 'u', 'a', 'o', 'a'), ('i', 'u', 'a', 'o', 'e'), ('i', 'u', 'a', 'o', 'i'), ('i', 'u', 'a', 'o', 'o'), ('i', 'u', 'a', 'o', 'u'), ('i', 'u', 'a', 'u', 'a'), ('i', 'u', 'a', 'u', 'e'), ('i', 'u', 'a', 'u', 'i'), ('i', 'u', 'a', 'u', 'o'), ('i', 'u', 'a', 'u', 'u'), ('i', 'u', 'e', 'a', 'a'), ('i', 'u', 'e', 'a', 'e'), ('i', 'u', 'e', 'a', 'i'), ('i', 'u', 'e', 'a', 'o'), ('i', 'u', 'e', 'a', 'u'), ('i', 'u', 'e', 'e', 'a'), ('i', 'u', 'e', 'e', 'e'), ('i', 'u', 'e', 'e', 'i'), ('i', 'u', 'e', 'e', 'o'), ('i', 'u', 'e', 'e', 'u'), ('i', 'u', 'e', 'i', 'a'), ('i', 'u', 'e', 'i', 'e'), ('i', 'u', 'e', 'i', 'i'), ('i', 'u', 'e', 'i', 'o'), ('i', 'u', 'e', 'i', 'u'), ('i', 'u', 'e', 'o', 'a'), ('i', 'u', 'e', 'o', 'e'), ('i', 'u', 'e', 'o', 'i'), ('i', 'u', 'e', 'o', 'o'), ('i', 'u', 'e', 'o', 'u'), ('i', 'u', 'e', 'u', 'a'), ('i', 'u', 'e', 'u', 'e'), ('i', 'u', 'e', 'u', 'i'), ('i', 'u', 'e', 'u', 'o'), ('i', 'u', 'e', 'u', 'u'), ('i', 'u', 'i', 'a', 'a'), ('i', 'u', 'i', 'a', 'e'), ('i', 'u', 'i', 'a', 'i'), ('i', 'u', 'i', 'a', 'o'), ('i', 'u', 'i', 'a', 'u'), ('i', 'u', 'i', 'e', 'a'), ('i', 'u', 'i', 'e', 'e'), ('i', 'u', 'i', 'e', 'i'), ('i', 'u', 'i', 'e', 'o'), ('i', 'u', 'i', 'e', 'u'), ('i', 'u', 'i', 'i', 'a'), ('i', 'u', 'i', 'i', 'e'), ('i', 'u', 'i', 'i', 'i'), ('i', 'u', 'i', 'i', 'o'), ('i', 'u', 'i', 'i', 'u'), ('i', 'u', 'i', 'o', 'a'), ('i', 'u', 'i', 'o', 'e'), ('i', 'u', 'i', 'o', 'i'), ('i', 'u', 'i', 'o', 'o'), ('i', 'u', 'i', 'o', 'u'), ('i', 'u', 'i', 'u', 'a'), ('i', 'u', 'i', 'u', 'e'), ('i', 'u', 'i', 'u', 'i'), ('i', 'u', 'i', 'u', 'o'), ('i', 'u', 'i', 'u', 'u'), ('i', 'u', 'o', 'a', 'a'), ('i', 'u', 'o', 'a', 'e'), ('i', 'u', 'o', 'a', 'i'), ('i', 'u', 'o', 'a', 'o'), ('i', 'u', 'o', 'a', 'u'), ('i', 'u', 'o', 'e', 'a'), ('i', 'u', 'o', 'e', 'e'), ('i', 'u', 'o', 'e', 'i'), ('i', 'u', 'o', 'e', 'o'), ('i', 'u', 'o', 'e', 'u'), ('i', 'u', 'o', 'i', 'a'), ('i', 'u', 'o', 'i', 'e'), ('i', 'u', 'o', 'i', 'i'), ('i', 'u', 'o', 'i', 'o'), ('i', 'u', 'o', 'i', 'u'), ('i', 'u', 'o', 'o', 'a'), ('i', 'u', 'o', 'o', 'e'), ('i', 'u', 'o', 'o', 'i'), ('i', 'u', 'o', 'o', 'o'), ('i', 'u', 'o', 'o', 'u'), ('i', 'u', 'o', 'u', 'a'), ('i', 'u', 'o', 'u', 'e'), ('i', 'u', 'o', 'u', 'i'), ('i', 'u', 'o', 'u', 'o'), ('i', 'u', 'o', 'u', 'u'), ('i', 'u', 'u', 'a', 'a'), ('i', 'u', 'u', 'a', 'e'), ('i', 'u', 'u', 'a', 'i'), ('i', 'u', 'u', 'a', 'o'), ('i', 'u', 'u', 'a', 'u'), ('i', 'u', 'u', 'e', 'a'), ('i', 'u', 'u', 'e', 'e'), ('i', 'u', 'u', 'e', 'i'), ('i', 'u', 'u', 'e', 'o'), ('i', 'u', 'u', 'e', 'u'), ('i', 'u', 'u', 'i', 'a'), ('i', 'u', 'u', 'i', 'e'), ('i', 'u', 'u', 'i', 'i'), ('i', 'u', 'u', 'i', 'o'), ('i', 'u', 'u', 'i', 'u'), ('i', 'u', 'u', 'o', 'a'), ('i', 'u', 'u', 'o', 'e'), ('i', 'u', 'u', 'o', 'i'), ('i', 'u', 'u', 'o', 'o'), ('i', 'u', 'u', 'o', 'u'), ('i', 'u', 'u', 'u', 'a'), ('i', 'u', 'u', 'u', 'e'), ('i', 'u', 'u', 'u', 'i'), ('i', 'u', 'u', 'u', 'o'), ('i', 'u', 'u', 'u', 'u'), ('o', 'a', 'a', 'a', 'a'), ('o', 'a', 'a', 'a', 'e'), ('o', 'a', 'a', 'a', 'i'), ('o', 'a', 'a', 'a', 'o'), ('o', 'a', 'a', 'a', 'u'), ('o', 'a', 'a', 'e', 'a'), ('o', 'a', 'a', 'e', 'e'), ('o', 'a', 'a', 'e', 'i'), ('o', 'a', 'a', 'e', 'o'), ('o', 'a', 'a', 'e', 'u'), ('o', 'a', 'a', 'i', 'a'), ('o', 'a', 'a', 'i', 'e'), ('o', 'a', 'a', 'i', 'i'), ('o', 'a', 'a', 'i', 'o'), ('o', 'a', 'a', 'i', 'u'), ('o', 'a', 'a', 'o', 'a'), ('o', 'a', 'a', 'o', 'e'), ('o', 'a', 'a', 'o', 'i'), ('o', 'a', 'a', 'o', 'o'), ('o', 'a', 'a', 'o', 'u'), ('o', 'a', 'a', 'u', 'a'), ('o', 'a', 'a', 'u', 'e'), ('o', 'a', 'a', 'u', 'i'), ('o', 'a', 'a', 'u', 'o'), ('o', 'a', 'a', 'u', 'u'), ('o', 'a', 'e', 'a', 'a'), ('o', 'a', 'e', 'a', 'e'), ('o', 'a', 'e', 'a', 'i'), ('o', 'a', 'e', 'a', 'o'), ('o', 'a', 'e', 'a', 'u'), ('o', 'a', 'e', 'e', 'a'), ('o', 'a', 'e', 'e', 'e'), ('o', 'a', 'e', 'e', 'i'), ('o', 'a', 'e', 'e', 'o'), ('o', 'a', 'e', 'e', 'u'), ('o', 'a', 'e', 'i', 'a'), ('o', 'a', 'e', 'i', 'e'), ('o', 'a', 'e', 'i', 'i'), ('o', 'a', 'e', 'i', 'o'), ('o', 'a', 'e', 'i', 'u'), ('o', 'a', 'e', 'o', 'a'), ('o', 'a', 'e', 'o', 'e'), ('o', 'a', 'e', 'o', 'i'), ('o', 'a', 'e', 'o', 'o'), ('o', 'a', 'e', 'o', 'u'), ('o', 'a', 'e', 'u', 'a'), ('o', 'a', 'e', 'u', 'e'), ('o', 'a', 'e', 'u', 'i'), ('o', 'a', 'e', 'u', 'o'), ('o', 'a', 'e', 'u', 'u'), ('o', 'a', 'i', 'a', 'a'), ('o', 'a', 'i', 'a', 'e'), ('o', 'a', 'i', 'a', 'i'), ('o', 'a', 'i', 'a', 'o'), ('o', 'a', 'i', 'a', 'u'), ('o', 'a', 'i', 'e', 'a'), ('o', 'a', 'i', 'e', 'e'), ('o', 'a', 'i', 'e', 'i'), ('o', 'a', 'i', 'e', 'o'), ('o', 'a', 'i', 'e', 'u'), ('o', 'a', 'i', 'i', 'a'), ('o', 'a', 'i', 'i', 'e'), ('o', 'a', 'i', 'i', 'i'), ('o', 'a', 'i', 'i', 'o'), ('o', 'a', 'i', 'i', 'u'), ('o', 'a', 'i', 'o', 'a'), ('o', 'a', 'i', 'o', 'e'), ('o', 'a', 'i', 'o', 'i'), ('o', 'a', 'i', 'o', 'o'), ('o', 'a', 'i', 'o', 'u'), ('o', 'a', 'i', 'u', 'a'), ('o', 'a', 'i', 'u', 'e'), ('o', 'a', 'i', 'u', 'i'), ('o', 'a', 'i', 'u', 'o'), ('o', 'a', 'i', 'u', 'u'), ('o', 'a', 'o', 'a', 'a'), ('o', 'a', 'o', 'a', 'e'), ('o', 'a', 'o', 'a', 'i'), ('o', 'a', 'o', 'a', 'o'), ('o', 'a', 'o', 'a', 'u'), ('o', 'a', 'o', 'e', 'a'), ('o', 'a', 'o', 'e', 'e'), ('o', 'a', 'o', 'e', 'i'), ('o', 'a', 'o', 'e', 'o'), ('o', 'a', 'o', 'e', 'u'), ('o', 'a', 'o', 'i', 'a'), ('o', 'a', 'o', 'i', 'e'), ('o', 'a', 'o', 'i', 'i'), ('o', 'a', 'o', 'i', 'o'), ('o', 'a', 'o', 'i', 'u'), ('o', 'a', 'o', 'o', 'a'), ('o', 'a', 'o', 'o', 'e'), ('o', 'a', 'o', 'o', 'i'), ('o', 'a', 'o', 'o', 'o'), ('o', 'a', 'o', 'o', 'u'), ('o', 'a', 'o', 'u', 'a'), ('o', 'a', 'o', 'u', 'e'), ('o', 'a', 'o', 'u', 'i'), ('o', 'a', 'o', 'u', 'o'), ('o', 'a', 'o', 'u', 'u'), ('o', 'a', 'u', 'a', 'a'), ('o', 'a', 'u', 'a', 'e'), ('o', 'a', 'u', 'a', 'i'), ('o', 'a', 'u', 'a', 'o'), ('o', 'a', 'u', 'a', 'u'), ('o', 'a', 'u', 'e', 'a'), ('o', 'a', 'u', 'e', 'e'), ('o', 'a', 'u', 'e', 'i'), ('o', 'a', 'u', 'e', 'o'), ('o', 'a', 'u', 'e', 'u'), ('o', 'a', 'u', 'i', 'a'), ('o', 'a', 'u', 'i', 'e'), ('o', 'a', 'u', 'i', 'i'), ('o', 'a', 'u', 'i', 'o'), ('o', 'a', 'u', 'i', 'u'), ('o', 'a', 'u', 'o', 'a'), ('o', 'a', 'u', 'o', 'e'), ('o', 'a', 'u', 'o', 'i'), ('o', 'a', 'u', 'o', 'o'), ('o', 'a', 'u', 'o', 'u'), ('o', 'a', 'u', 'u', 'a'), ('o', 'a', 'u', 'u', 'e'), ('o', 'a', 'u', 'u', 'i'), ('o', 'a', 'u', 'u', 'o'), ('o', 'a', 'u', 'u', 'u'), ('o', 'e', 'a', 'a', 'a'), ('o', 'e', 'a', 'a', 'e'), ('o', 'e', 'a', 'a', 'i'), ('o', 'e', 'a', 'a', 'o'), ('o', 'e', 'a', 'a', 'u'), ('o', 'e', 'a', 'e', 'a'), ('o', 'e', 'a', 'e', 'e'), ('o', 'e', 'a', 'e', 'i'), ('o', 'e', 'a', 'e', 'o'), ('o', 'e', 'a', 'e', 'u'), ('o', 'e', 'a', 'i', 'a'), ('o', 'e', 'a', 'i', 'e'), ('o', 'e', 'a', 'i', 'i'), ('o', 'e', 'a', 'i', 'o'), ('o', 'e', 'a', 'i', 'u'), ('o', 'e', 'a', 'o', 'a'), ('o', 'e', 'a', 'o', 'e'), ('o', 'e', 'a', 'o', 'i'), ('o', 'e', 'a', 'o', 'o'), ('o', 'e', 'a', 'o', 'u'), ('o', 'e', 'a', 'u', 'a'), ('o', 'e', 'a', 'u', 'e'), ('o', 'e', 'a', 'u', 'i'), ('o', 'e', 'a', 'u', 'o'), ('o', 'e', 'a', 'u', 'u'), ('o', 'e', 'e', 'a', 'a'), ('o', 'e', 'e', 'a', 'e'), ('o', 'e', 'e', 'a', 'i'), ('o', 'e', 'e', 'a', 'o'), ('o', 'e', 'e', 'a', 'u'), ('o', 'e', 'e', 'e', 'a'), ('o', 'e', 'e', 'e', 'e'), ('o', 'e', 'e', 'e', 'i'), ('o', 'e', 'e', 'e', 'o'), ('o', 'e', 'e', 'e', 'u'), ('o', 'e', 'e', 'i', 'a'), ('o', 'e', 'e', 'i', 'e'), ('o', 'e', 'e', 'i', 'i'), ('o', 'e', 'e', 'i', 'o'), ('o', 'e', 'e', 'i', 'u'), ('o', 'e', 'e', 'o', 'a'), ('o', 'e', 'e', 'o', 'e'), ('o', 'e', 'e', 'o', 'i'), ('o', 'e', 'e', 'o', 'o'), ('o', 'e', 'e', 'o', 'u'), ('o', 'e', 'e', 'u', 'a'), ('o', 'e', 'e', 'u', 'e'), ('o', 'e', 'e', 'u', 'i'), ('o', 'e', 'e', 'u', 'o'), ('o', 'e', 'e', 'u', 'u'), ('o', 'e', 'i', 'a', 'a'), ('o', 'e', 'i', 'a', 'e'), ('o', 'e', 'i', 'a', 'i'), ('o', 'e', 'i', 'a', 'o'), ('o', 'e', 'i', 'a', 'u'), ('o', 'e', 'i', 'e', 'a'), ('o', 'e', 'i', 'e', 'e'), ('o', 'e', 'i', 'e', 'i'), ('o', 'e', 'i', 'e', 'o'), ('o', 'e', 'i', 'e', 'u'), ('o', 'e', 'i', 'i', 'a'), ('o', 'e', 'i', 'i', 'e'), ('o', 'e', 'i', 'i', 'i'), ('o', 'e', 'i', 'i', 'o'), ('o', 'e', 'i', 'i', 'u'), ('o', 'e', 'i', 'o', 'a'), ('o', 'e', 'i', 'o', 'e'), ('o', 'e', 'i', 'o', 'i'), ('o', 'e', 'i', 'o', 'o'), ('o', 'e', 'i', 'o', 'u'), ('o', 'e', 'i', 'u', 'a'), ('o', 'e', 'i', 'u', 'e'), ('o', 'e', 'i', 'u', 'i'), ('o', 'e', 'i', 'u', 'o'), ('o', 'e', 'i', 'u', 'u'), ('o', 'e', 'o', 'a', 'a'), ('o', 'e', 'o', 'a', 'e'), ('o', 'e', 'o', 'a', 'i'), ('o', 'e', 'o', 'a', 'o'), ('o', 'e', 'o', 'a', 'u'), ('o', 'e', 'o', 'e', 'a'), ('o', 'e', 'o', 'e', 'e'), ('o', 'e', 'o', 'e', 'i'), ('o', 'e', 'o', 'e', 'o'), ('o', 'e', 'o', 'e', 'u'), ('o', 'e', 'o', 'i', 'a'), ('o', 'e', 'o', 'i', 'e'), ('o', 'e', 'o', 'i', 'i'), ('o', 'e', 'o', 'i', 'o'), ('o', 'e', 'o', 'i', 'u'), ('o', 'e', 'o', 'o', 'a'), ('o', 'e', 'o', 'o', 'e'), ('o', 'e', 'o', 'o', 'i'), ('o', 'e', 'o', 'o', 'o'), ('o', 'e', 'o', 'o', 'u'), ('o', 'e', 'o', 'u', 'a'), ('o', 'e', 'o', 'u', 'e'), ('o', 'e', 'o', 'u', 'i'), ('o', 'e', 'o', 'u', 'o'), ('o', 'e', 'o', 'u', 'u'), ('o', 'e', 'u', 'a', 'a'), ('o', 'e', 'u', 'a', 'e'), ('o', 'e', 'u', 'a', 'i'), ('o', 'e', 'u', 'a', 'o'), ('o', 'e', 'u', 'a', 'u'), ('o', 'e', 'u', 'e', 'a'), ('o', 'e', 'u', 'e', 'e'), ('o', 'e', 'u', 'e', 'i'), ('o', 'e', 'u', 'e', 'o'), ('o', 'e', 'u', 'e', 'u'), ('o', 'e', 'u', 'i', 'a'), ('o', 'e', 'u', 'i', 'e'), ('o', 'e', 'u', 'i', 'i'), ('o', 'e', 'u', 'i', 'o'), ('o', 'e', 'u', 'i', 'u'), ('o', 'e', 'u', 'o', 'a'), ('o', 'e', 'u', 'o', 'e'), ('o', 'e', 'u', 'o', 'i'), ('o', 'e', 'u', 'o', 'o'), ('o', 'e', 'u', 'o', 'u'), ('o', 'e', 'u', 'u', 'a'), ('o', 'e', 'u', 'u', 'e'), ('o', 'e', 'u', 'u', 'i'), ('o', 'e', 'u', 'u', 'o'), ('o', 'e', 'u', 'u', 'u'), ('o', 'i', 'a', 'a', 'a'), ('o', 'i', 'a', 'a', 'e'), ('o', 'i', 'a', 'a', 'i'), ('o', 'i', 'a', 'a', 'o'), ('o', 'i', 'a', 'a', 'u'), ('o', 'i', 'a', 'e', 'a'), ('o', 'i', 'a', 'e', 'e'), ('o', 'i', 'a', 'e', 'i'), ('o', 'i', 'a', 'e', 'o'), ('o', 'i', 'a', 'e', 'u'), ('o', 'i', 'a', 'i', 'a'), ('o', 'i', 'a', 'i', 'e'), ('o', 'i', 'a', 'i', 'i'), ('o', 'i', 'a', 'i', 'o'), ('o', 'i', 'a', 'i', 'u'), ('o', 'i', 'a', 'o', 'a'), ('o', 'i', 'a', 'o', 'e'), ('o', 'i', 'a', 'o', 'i'), ('o', 'i', 'a', 'o', 'o'), ('o', 'i', 'a', 'o', 'u'), ('o', 'i', 'a', 'u', 'a'), ('o', 'i', 'a', 'u', 'e'), ('o', 'i', 'a', 'u', 'i'), ('o', 'i', 'a', 'u', 'o'), ('o', 'i', 'a', 'u', 'u'), ('o', 'i', 'e', 'a', 'a'), ('o', 'i', 'e', 'a', 'e'), ('o', 'i', 'e', 'a', 'i'), ('o', 'i', 'e', 'a', 'o'), ('o', 'i', 'e', 'a', 'u'), ('o', 'i', 'e', 'e', 'a'), ('o', 'i', 'e', 'e', 'e'), ('o', 'i', 'e', 'e', 'i'), ('o', 'i', 'e', 'e', 'o'), ('o', 'i', 'e', 'e', 'u'), ('o', 'i', 'e', 'i', 'a'), ('o', 'i', 'e', 'i', 'e'), ('o', 'i', 'e', 'i', 'i'), ('o', 'i', 'e', 'i', 'o'), ('o', 'i', 'e', 'i', 'u'), ('o', 'i', 'e', 'o', 'a'), ('o', 'i', 'e', 'o', 'e'), ('o', 'i', 'e', 'o', 'i'), ('o', 'i', 'e', 'o', 'o'), ('o', 'i', 'e', 'o', 'u'), ('o', 'i', 'e', 'u', 'a'), ('o', 'i', 'e', 'u', 'e'), ('o', 'i', 'e', 'u', 'i'), ('o', 'i', 'e', 'u', 'o'), ('o', 'i', 'e', 'u', 'u'), ('o', 'i', 'i', 'a', 'a'), ('o', 'i', 'i', 'a', 'e'), ('o', 'i', 'i', 'a', 'i'), ('o', 'i', 'i', 'a', 'o'), ('o', 'i', 'i', 'a', 'u'), ('o', 'i', 'i', 'e', 'a'), ('o', 'i', 'i', 'e', 'e'), ('o', 'i', 'i', 'e', 'i'), ('o', 'i', 'i', 'e', 'o'), ('o', 'i', 'i', 'e', 'u'), ('o', 'i', 'i', 'i', 'a'), ('o', 'i', 'i', 'i', 'e'), ('o', 'i', 'i', 'i', 'i'), ('o', 'i', 'i', 'i', 'o'), ('o', 'i', 'i', 'i', 'u'), ('o', 'i', 'i', 'o', 'a'), ('o', 'i', 'i', 'o', 'e'), ('o', 'i', 'i', 'o', 'i'), ('o', 'i', 'i', 'o', 'o'), ('o', 'i', 'i', 'o', 'u'), ('o', 'i', 'i', 'u', 'a'), ('o', 'i', 'i', 'u', 'e'), ('o', 'i', 'i', 'u', 'i'), ('o', 'i', 'i', 'u', 'o'), ('o', 'i', 'i', 'u', 'u'), ('o', 'i', 'o', 'a', 'a'), ('o', 'i', 'o', 'a', 'e'), ('o', 'i', 'o', 'a', 'i'), ('o', 'i', 'o', 'a', 'o'), ('o', 'i', 'o', 'a', 'u'), ('o', 'i', 'o', 'e', 'a'), ('o', 'i', 'o', 'e', 'e'), ('o', 'i', 'o', 'e', 'i'), ('o', 'i', 'o', 'e', 'o'), ('o', 'i', 'o', 'e', 'u'), ('o', 'i', 'o', 'i', 'a'), ('o', 'i', 'o', 'i', 'e'), ('o', 'i', 'o', 'i', 'i'), ('o', 'i', 'o', 'i', 'o'), ('o', 'i', 'o', 'i', 'u'), ('o', 'i', 'o', 'o', 'a'), ('o', 'i', 'o', 'o', 'e'), ('o', 'i', 'o', 'o', 'i'), ('o', 'i', 'o', 'o', 'o'), ('o', 'i', 'o', 'o', 'u'), ('o', 'i', 'o', 'u', 'a'), ('o', 'i', 'o', 'u', 'e'), ('o', 'i', 'o', 'u', 'i'), ('o', 'i', 'o', 'u', 'o'), ('o', 'i', 'o', 'u', 'u'), ('o', 'i', 'u', 'a', 'a'), ('o', 'i', 'u', 'a', 'e'), ('o', 'i', 'u', 'a', 'i'), ('o', 'i', 'u', 'a', 'o'), ('o', 'i', 'u', 'a', 'u'), ('o', 'i', 'u', 'e', 'a'), ('o', 'i', 'u', 'e', 'e'), ('o', 'i', 'u', 'e', 'i'), ('o', 'i', 'u', 'e', 'o'), ('o', 'i', 'u', 'e', 'u'), ('o', 'i', 'u', 'i', 'a'), ('o', 'i', 'u', 'i', 'e'), ('o', 'i', 'u', 'i', 'i'), ('o', 'i', 'u', 'i', 'o'), ('o', 'i', 'u', 'i', 'u'), ('o', 'i', 'u', 'o', 'a'), ('o', 'i', 'u', 'o', 'e'), ('o', 'i', 'u', 'o', 'i'), ('o', 'i', 'u', 'o', 'o'), ('o', 'i', 'u', 'o', 'u'), ('o', 'i', 'u', 'u', 'a'), ('o', 'i', 'u', 'u', 'e'), ('o', 'i', 'u', 'u', 'i'), ('o', 'i', 'u', 'u', 'o'), ('o', 'i', 'u', 'u', 'u'), ('o', 'o', 'a', 'a', 'a'), ('o', 'o', 'a', 'a', 'e'), ('o', 'o', 'a', 'a', 'i'), ('o', 'o', 'a', 'a', 'o'), ('o', 'o', 'a', 'a', 'u'), ('o', 'o', 'a', 'e', 'a'), ('o', 'o', 'a', 'e', 'e'), ('o', 'o', 'a', 'e', 'i'), ('o', 'o', 'a', 'e', 'o'), ('o', 'o', 'a', 'e', 'u'), ('o', 'o', 'a', 'i', 'a'), ('o', 'o', 'a', 'i', 'e'), ('o', 'o', 'a', 'i', 'i'), ('o', 'o', 'a', 'i', 'o'), ('o', 'o', 'a', 'i', 'u'), ('o', 'o', 'a', 'o', 'a'), ('o', 'o', 'a', 'o', 'e'), ('o', 'o', 'a', 'o', 'i'), ('o', 'o', 'a', 'o', 'o'), ('o', 'o', 'a', 'o', 'u'), ('o', 'o', 'a', 'u', 'a'), ('o', 'o', 'a', 'u', 'e'), ('o', 'o', 'a', 'u', 'i'), ('o', 'o', 'a', 'u', 'o'), ('o', 'o', 'a', 'u', 'u'), ('o', 'o', 'e', 'a', 'a'), ('o', 'o', 'e', 'a', 'e'), ('o', 'o', 'e', 'a', 'i'), ('o', 'o', 'e', 'a', 'o'), ('o', 'o', 'e', 'a', 'u'), ('o', 'o', 'e', 'e', 'a'), ('o', 'o', 'e', 'e', 'e'), ('o', 'o', 'e', 'e', 'i'), ('o', 'o', 'e', 'e', 'o'), ('o', 'o', 'e', 'e', 'u'), ('o', 'o', 'e', 'i', 'a'), ('o', 'o', 'e', 'i', 'e'), ('o', 'o', 'e', 'i', 'i'), ('o', 'o', 'e', 'i', 'o'), ('o', 'o', 'e', 'i', 'u'), ('o', 'o', 'e', 'o', 'a'), ('o', 'o', 'e', 'o', 'e'), ('o', 'o', 'e', 'o', 'i'), ('o', 'o', 'e', 'o', 'o'), ('o', 'o', 'e', 'o', 'u'), ('o', 'o', 'e', 'u', 'a'), ('o', 'o', 'e', 'u', 'e'), ('o', 'o', 'e', 'u', 'i'), ('o', 'o', 'e', 'u', 'o'), ('o', 'o', 'e', 'u', 'u'), ('o', 'o', 'i', 'a', 'a'), ('o', 'o', 'i', 'a', 'e'), ('o', 'o', 'i', 'a', 'i'), ('o', 'o', 'i', 'a', 'o'), ('o', 'o', 'i', 'a', 'u'), ('o', 'o', 'i', 'e', 'a'), ('o', 'o', 'i', 'e', 'e'), ('o', 'o', 'i', 'e', 'i'), ('o', 'o', 'i', 'e', 'o'), ('o', 'o', 'i', 'e', 'u'), ('o', 'o', 'i', 'i', 'a'), ('o', 'o', 'i', 'i', 'e'), ('o', 'o', 'i', 'i', 'i'), ('o', 'o', 'i', 'i', 'o'), ('o', 'o', 'i', 'i', 'u'), ('o', 'o', 'i', 'o', 'a'), ('o', 'o', 'i', 'o', 'e'), ('o', 'o', 'i', 'o', 'i'), ('o', 'o', 'i', 'o', 'o'), ('o', 'o', 'i', 'o', 'u'), ('o', 'o', 'i', 'u', 'a'), ('o', 'o', 'i', 'u', 'e'), ('o', 'o', 'i', 'u', 'i'), ('o', 'o', 'i', 'u', 'o'), ('o', 'o', 'i', 'u', 'u'), ('o', 'o', 'o', 'a', 'a'), ('o', 'o', 'o', 'a', 'e'), ('o', 'o', 'o', 'a', 'i'), ('o', 'o', 'o', 'a', 'o'), ('o', 'o', 'o', 'a', 'u'), ('o', 'o', 'o', 'e', 'a'), ('o', 'o', 'o', 'e', 'e'), ('o', 'o', 'o', 'e', 'i'), ('o', 'o', 'o', 'e', 'o'), ('o', 'o', 'o', 'e', 'u'), ('o', 'o', 'o', 'i', 'a'), ('o', 'o', 'o', 'i', 'e'), ('o', 'o', 'o', 'i', 'i'), ('o', 'o', 'o', 'i', 'o'), ('o', 'o', 'o', 'i', 'u'), ('o', 'o', 'o', 'o', 'a'), ('o', 'o', 'o', 'o', 'e'), ('o', 'o', 'o', 'o', 'i'), ('o', 'o', 'o', 'o', 'o'), ('o', 'o', 'o', 'o', 'u'), ('o', 'o', 'o', 'u', 'a'), ('o', 'o', 'o', 'u', 'e'), ('o', 'o', 'o', 'u', 'i'), ('o', 'o', 'o', 'u', 'o'), ('o', 'o', 'o', 'u', 'u'), ('o', 'o', 'u', 'a', 'a'), ('o', 'o', 'u', 'a', 'e'), ('o', 'o', 'u', 'a', 'i'), ('o', 'o', 'u', 'a', 'o'), ('o', 'o', 'u', 'a', 'u'), ('o', 'o', 'u', 'e', 'a'), ('o', 'o', 'u', 'e', 'e'), ('o', 'o', 'u', 'e', 'i'), ('o', 'o', 'u', 'e', 'o'), ('o', 'o', 'u', 'e', 'u'), ('o', 'o', 'u', 'i', 'a'), ('o', 'o', 'u', 'i', 'e'), ('o', 'o', 'u', 'i', 'i'), ('o', 'o', 'u', 'i', 'o'), ('o', 'o', 'u', 'i', 'u'), ('o', 'o', 'u', 'o', 'a'), ('o', 'o', 'u', 'o', 'e'), ('o', 'o', 'u', 'o', 'i'), ('o', 'o', 'u', 'o', 'o'), ('o', 'o', 'u', 'o', 'u'), ('o', 'o', 'u', 'u', 'a'), ('o', 'o', 'u', 'u', 'e'), ('o', 'o', 'u', 'u', 'i'), ('o', 'o', 'u', 'u', 'o'), ('o', 'o', 'u', 'u', 'u'), ('o', 'u', 'a', 'a', 'a'), ('o', 'u', 'a', 'a', 'e'), ('o', 'u', 'a', 'a', 'i'), ('o', 'u', 'a', 'a', 'o'), ('o', 'u', 'a', 'a', 'u'), ('o', 'u', 'a', 'e', 'a'), ('o', 'u', 'a', 'e', 'e'), ('o', 'u', 'a', 'e', 'i'), ('o', 'u', 'a', 'e', 'o'), ('o', 'u', 'a', 'e', 'u'), ('o', 'u', 'a', 'i', 'a'), ('o', 'u', 'a', 'i', 'e'), ('o', 'u', 'a', 'i', 'i'), ('o', 'u', 'a', 'i', 'o'), ('o', 'u', 'a', 'i', 'u'), ('o', 'u', 'a', 'o', 'a'), ('o', 'u', 'a', 'o', 'e'), ('o', 'u', 'a', 'o', 'i'), ('o', 'u', 'a', 'o', 'o'), ('o', 'u', 'a', 'o', 'u'), ('o', 'u', 'a', 'u', 'a'), ('o', 'u', 'a', 'u', 'e'), ('o', 'u', 'a', 'u', 'i'), ('o', 'u', 'a', 'u', 'o'), ('o', 'u', 'a', 'u', 'u'), ('o', 'u', 'e', 'a', 'a'), ('o', 'u', 'e', 'a', 'e'), ('o', 'u', 'e', 'a', 'i'), ('o', 'u', 'e', 'a', 'o'), ('o', 'u', 'e', 'a', 'u'), ('o', 'u', 'e', 'e', 'a'), ('o', 'u', 'e', 'e', 'e'), ('o', 'u', 'e', 'e', 'i'), ('o', 'u', 'e', 'e', 'o'), ('o', 'u', 'e', 'e', 'u'), ('o', 'u', 'e', 'i', 'a'), ('o', 'u', 'e', 'i', 'e'), ('o', 'u', 'e', 'i', 'i'), ('o', 'u', 'e', 'i', 'o'), ('o', 'u', 'e', 'i', 'u'), ('o', 'u', 'e', 'o', 'a'), ('o', 'u', 'e', 'o', 'e'), ('o', 'u', 'e', 'o', 'i'), ('o', 'u', 'e', 'o', 'o'), ('o', 'u', 'e', 'o', 'u'), ('o', 'u', 'e', 'u', 'a'), ('o', 'u', 'e', 'u', 'e'), ('o', 'u', 'e', 'u', 'i'), ('o', 'u', 'e', 'u', 'o'), ('o', 'u', 'e', 'u', 'u'), ('o', 'u', 'i', 'a', 'a'), ('o', 'u', 'i', 'a', 'e'), ('o', 'u', 'i', 'a', 'i'), ('o', 'u', 'i', 'a', 'o'), ('o', 'u', 'i', 'a', 'u'), ('o', 'u', 'i', 'e', 'a'), ('o', 'u', 'i', 'e', 'e'), ('o', 'u', 'i', 'e', 'i'), ('o', 'u', 'i', 'e', 'o'), ('o', 'u', 'i', 'e', 'u'), ('o', 'u', 'i', 'i', 'a'), ('o', 'u', 'i', 'i', 'e'), ('o', 'u', 'i', 'i', 'i'), ('o', 'u', 'i', 'i', 'o'), ('o', 'u', 'i', 'i', 'u'), ('o', 'u', 'i', 'o', 'a'), ('o', 'u', 'i', 'o', 'e'), ('o', 'u', 'i', 'o', 'i'), ('o', 'u', 'i', 'o', 'o'), ('o', 'u', 'i', 'o', 'u'), ('o', 'u', 'i', 'u', 'a'), ('o', 'u', 'i', 'u', 'e'), ('o', 'u', 'i', 'u', 'i'), ('o', 'u', 'i', 'u', 'o'), ('o', 'u', 'i', 'u', 'u'), ('o', 'u', 'o', 'a', 'a'), ('o', 'u', 'o', 'a', 'e'), ('o', 'u', 'o', 'a', 'i'), ('o', 'u', 'o', 'a', 'o'), ('o', 'u', 'o', 'a', 'u'), ('o', 'u', 'o', 'e', 'a'), ('o', 'u', 'o', 'e', 'e'), ('o', 'u', 'o', 'e', 'i'), ('o', 'u', 'o', 'e', 'o'), ('o', 'u', 'o', 'e', 'u'), ('o', 'u', 'o', 'i', 'a'), ('o', 'u', 'o', 'i', 'e'), ('o', 'u', 'o', 'i', 'i'), ('o', 'u', 'o', 'i', 'o'), ('o', 'u', 'o', 'i', 'u'), ('o', 'u', 'o', 'o', 'a'), ('o', 'u', 'o', 'o', 'e'), ('o', 'u', 'o', 'o', 'i'), ('o', 'u', 'o', 'o', 'o'), ('o', 'u', 'o', 'o', 'u'), ('o', 'u', 'o', 'u', 'a'), ('o', 'u', 'o', 'u', 'e'), ('o', 'u', 'o', 'u', 'i'), ('o', 'u', 'o', 'u', 'o'), ('o', 'u', 'o', 'u', 'u'), ('o', 'u', 'u', 'a', 'a'), ('o', 'u', 'u', 'a', 'e'), ('o', 'u', 'u', 'a', 'i'), ('o', 'u', 'u', 'a', 'o'), ('o', 'u', 'u', 'a', 'u'), ('o', 'u', 'u', 'e', 'a'), ('o', 'u', 'u', 'e', 'e'), ('o', 'u', 'u', 'e', 'i'), ('o', 'u', 'u', 'e', 'o'), ('o', 'u', 'u', 'e', 'u'), ('o', 'u', 'u', 'i', 'a'), ('o', 'u', 'u', 'i', 'e'), ('o', 'u', 'u', 'i', 'i'), ('o', 'u', 'u', 'i', 'o'), ('o', 'u', 'u', 'i', 'u'), ('o', 'u', 'u', 'o', 'a'), ('o', 'u', 'u', 'o', 'e'), ('o', 'u', 'u', 'o', 'i'), ('o', 'u', 'u', 'o', 'o'), ('o', 'u', 'u', 'o', 'u'), ('o', 'u', 'u', 'u', 'a'), ('o', 'u', 'u', 'u', 'e'), ('o', 'u', 'u', 'u', 'i'), ('o', 'u', 'u', 'u', 'o'), ('o', 'u', 'u', 'u', 'u'), ('u', 'a', 'a', 'a', 'a'), ('u', 'a', 'a', 'a', 'e'), ('u', 'a', 'a', 'a', 'i'), ('u', 'a', 'a', 'a', 'o'), ('u', 'a', 'a', 'a', 'u'), ('u', 'a', 'a', 'e', 'a'), ('u', 'a', 'a', 'e', 'e'), ('u', 'a', 'a', 'e', 'i'), ('u', 'a', 'a', 'e', 'o'), ('u', 'a', 'a', 'e', 'u'), ('u', 'a', 'a', 'i', 'a'), ('u', 'a', 'a', 'i', 'e'), ('u', 'a', 'a', 'i', 'i'), ('u', 'a', 'a', 'i', 'o'), ('u', 'a', 'a', 'i', 'u'), ('u', 'a', 'a', 'o', 'a'), ('u', 'a', 'a', 'o', 'e'), ('u', 'a', 'a', 'o', 'i'), ('u', 'a', 'a', 'o', 'o'), ('u', 'a', 'a', 'o', 'u'), ('u', 'a', 'a', 'u', 'a'), ('u', 'a', 'a', 'u', 'e'), ('u', 'a', 'a', 'u', 'i'), ('u', 'a', 'a', 'u', 'o'), ('u', 'a', 'a', 'u', 'u'), ('u', 'a', 'e', 'a', 'a'), ('u', 'a', 'e', 'a', 'e'), ('u', 'a', 'e', 'a', 'i'), ('u', 'a', 'e', 'a', 'o'), ('u', 'a', 'e', 'a', 'u'), ('u', 'a', 'e', 'e', 'a'), ('u', 'a', 'e', 'e', 'e'), ('u', 'a', 'e', 'e', 'i'), ('u', 'a', 'e', 'e', 'o'), ('u', 'a', 'e', 'e', 'u'), ('u', 'a', 'e', 'i', 'a'), ('u', 'a', 'e', 'i', 'e'), ('u', 'a', 'e', 'i', 'i'), ('u', 'a', 'e', 'i', 'o'), ('u', 'a', 'e', 'i', 'u'), ('u', 'a', 'e', 'o', 'a'), ('u', 'a', 'e', 'o', 'e'), ('u', 'a', 'e', 'o', 'i'), ('u', 'a', 'e', 'o', 'o'), ('u', 'a', 'e', 'o', 'u'), ('u', 'a', 'e', 'u', 'a'), ('u', 'a', 'e', 'u', 'e'), ('u', 'a', 'e', 'u', 'i'), ('u', 'a', 'e', 'u', 'o'), ('u', 'a', 'e', 'u', 'u'), ('u', 'a', 'i', 'a', 'a'), ('u', 'a', 'i', 'a', 'e'), ('u', 'a', 'i', 'a', 'i'), ('u', 'a', 'i', 'a', 'o'), ('u', 'a', 'i', 'a', 'u'), ('u', 'a', 'i', 'e', 'a'), ('u', 'a', 'i', 'e', 'e'), ('u', 'a', 'i', 'e', 'i'), ('u', 'a', 'i', 'e', 'o'), ('u', 'a', 'i', 'e', 'u'), ('u', 'a', 'i', 'i', 'a'), ('u', 'a', 'i', 'i', 'e'), ('u', 'a', 'i', 'i', 'i'), ('u', 'a', 'i', 'i', 'o'), ('u', 'a', 'i', 'i', 'u'), ('u', 'a', 'i', 'o', 'a'), ('u', 'a', 'i', 'o', 'e'), ('u', 'a', 'i', 'o', 'i'), ('u', 'a', 'i', 'o', 'o'), ('u', 'a', 'i', 'o', 'u'), ('u', 'a', 'i', 'u', 'a'), ('u', 'a', 'i', 'u', 'e'), ('u', 'a', 'i', 'u', 'i'), ('u', 'a', 'i', 'u', 'o'), ('u', 'a', 'i', 'u', 'u'), ('u', 'a', 'o', 'a', 'a'), ('u', 'a', 'o', 'a', 'e'), ('u', 'a', 'o', 'a', 'i'), ('u', 'a', 'o', 'a', 'o'), ('u', 'a', 'o', 'a', 'u'), ('u', 'a', 'o', 'e', 'a'), ('u', 'a', 'o', 'e', 'e'), ('u', 'a', 'o', 'e', 'i'), ('u', 'a', 'o', 'e', 'o'), ('u', 'a', 'o', 'e', 'u'), ('u', 'a', 'o', 'i', 'a'), ('u', 'a', 'o', 'i', 'e'), ('u', 'a', 'o', 'i', 'i'), ('u', 'a', 'o', 'i', 'o'), ('u', 'a', 'o', 'i', 'u'), ('u', 'a', 'o', 'o', 'a'), ('u', 'a', 'o', 'o', 'e'), ('u', 'a', 'o', 'o', 'i'), ('u', 'a', 'o', 'o', 'o'), ('u', 'a', 'o', 'o', 'u'), ('u', 'a', 'o', 'u', 'a'), ('u', 'a', 'o', 'u', 'e'), ('u', 'a', 'o', 'u', 'i'), ('u', 'a', 'o', 'u', 'o'), ('u', 'a', 'o', 'u', 'u'), ('u', 'a', 'u', 'a', 'a'), ('u', 'a', 'u', 'a', 'e'), ('u', 'a', 'u', 'a', 'i'), ('u', 'a', 'u', 'a', 'o'), ('u', 'a', 'u', 'a', 'u'), ('u', 'a', 'u', 'e', 'a'), ('u', 'a', 'u', 'e', 'e'), ('u', 'a', 'u', 'e', 'i'), ('u', 'a', 'u', 'e', 'o'), ('u', 'a', 'u', 'e', 'u'), ('u', 'a', 'u', 'i', 'a'), ('u', 'a', 'u', 'i', 'e'), ('u', 'a', 'u', 'i', 'i'), ('u', 'a', 'u', 'i', 'o'), ('u', 'a', 'u', 'i', 'u'), ('u', 'a', 'u', 'o', 'a'), ('u', 'a', 'u', 'o', 'e'), ('u', 'a', 'u', 'o', 'i'), ('u', 'a', 'u', 'o', 'o'), ('u', 'a', 'u', 'o', 'u'), ('u', 'a', 'u', 'u', 'a'), ('u', 'a', 'u', 'u', 'e'), ('u', 'a', 'u', 'u', 'i'), ('u', 'a', 'u', 'u', 'o'), ('u', 'a', 'u', 'u', 'u'), ('u', 'e', 'a', 'a', 'a'), ('u', 'e', 'a', 'a', 'e'), ('u', 'e', 'a', 'a', 'i'), ('u', 'e', 'a', 'a', 'o'), ('u', 'e', 'a', 'a', 'u'), ('u', 'e', 'a', 'e', 'a'), ('u', 'e', 'a', 'e', 'e'), ('u', 'e', 'a', 'e', 'i'), ('u', 'e', 'a', 'e', 'o'), ('u', 'e', 'a', 'e', 'u'), ('u', 'e', 'a', 'i', 'a'), ('u', 'e', 'a', 'i', 'e'), ('u', 'e', 'a', 'i', 'i'), ('u', 'e', 'a', 'i', 'o'), ('u', 'e', 'a', 'i', 'u'), ('u', 'e', 'a', 'o', 'a'), ('u', 'e', 'a', 'o', 'e'), ('u', 'e', 'a', 'o', 'i'), ('u', 'e', 'a', 'o', 'o'), ('u', 'e', 'a', 'o', 'u'), ('u', 'e', 'a', 'u', 'a'), ('u', 'e', 'a', 'u', 'e'), ('u', 'e', 'a', 'u', 'i'), ('u', 'e', 'a', 'u', 'o'), ('u', 'e', 'a', 'u', 'u'), ('u', 'e', 'e', 'a', 'a'), ('u', 'e', 'e', 'a', 'e'), ('u', 'e', 'e', 'a', 'i'), ('u', 'e', 'e', 'a', 'o'), ('u', 'e', 'e', 'a', 'u'), ('u', 'e', 'e', 'e', 'a'), ('u', 'e', 'e', 'e', 'e'), ('u', 'e', 'e', 'e', 'i'), ('u', 'e', 'e', 'e', 'o'), ('u', 'e', 'e', 'e', 'u'), ('u', 'e', 'e', 'i', 'a'), ('u', 'e', 'e', 'i', 'e'), ('u', 'e', 'e', 'i', 'i'), ('u', 'e', 'e', 'i', 'o'), ('u', 'e', 'e', 'i', 'u'), ('u', 'e', 'e', 'o', 'a'), ('u', 'e', 'e', 'o', 'e'), ('u', 'e', 'e', 'o', 'i'), ('u', 'e', 'e', 'o', 'o'), ('u', 'e', 'e', 'o', 'u'), ('u', 'e', 'e', 'u', 'a'), ('u', 'e', 'e', 'u', 'e'), ('u', 'e', 'e', 'u', 'i'), ('u', 'e', 'e', 'u', 'o'), ('u', 'e', 'e', 'u', 'u'), ('u', 'e', 'i', 'a', 'a'), ('u', 'e', 'i', 'a', 'e'), ('u', 'e', 'i', 'a', 'i'), ('u', 'e', 'i', 'a', 'o'), ('u', 'e', 'i', 'a', 'u'), ('u', 'e', 'i', 'e', 'a'), ('u', 'e', 'i', 'e', 'e'), ('u', 'e', 'i', 'e', 'i'), ('u', 'e', 'i', 'e', 'o'), ('u', 'e', 'i', 'e', 'u'), ('u', 'e', 'i', 'i', 'a'), ('u', 'e', 'i', 'i', 'e'), ('u', 'e', 'i', 'i', 'i'), ('u', 'e', 'i', 'i', 'o'), ('u', 'e', 'i', 'i', 'u'), ('u', 'e', 'i', 'o', 'a'), ('u', 'e', 'i', 'o', 'e'), ('u', 'e', 'i', 'o', 'i'), ('u', 'e', 'i', 'o', 'o'), ('u', 'e', 'i', 'o', 'u'), ('u', 'e', 'i', 'u', 'a'), ('u', 'e', 'i', 'u', 'e'), ('u', 'e', 'i', 'u', 'i'), ('u', 'e', 'i', 'u', 'o'), ('u', 'e', 'i', 'u', 'u'), ('u', 'e', 'o', 'a', 'a'), ('u', 'e', 'o', 'a', 'e'), ('u', 'e', 'o', 'a', 'i'), ('u', 'e', 'o', 'a', 'o'), ('u', 'e', 'o', 'a', 'u'), ('u', 'e', 'o', 'e', 'a'), ('u', 'e', 'o', 'e', 'e'), ('u', 'e', 'o', 'e', 'i'), ('u', 'e', 'o', 'e', 'o'), ('u', 'e', 'o', 'e', 'u'), ('u', 'e', 'o', 'i', 'a'), ('u', 'e', 'o', 'i', 'e'), ('u', 'e', 'o', 'i', 'i'), ('u', 'e', 'o', 'i', 'o'), ('u', 'e', 'o', 'i', 'u'), ('u', 'e', 'o', 'o', 'a'), ('u', 'e', 'o', 'o', 'e'), ('u', 'e', 'o', 'o', 'i'), ('u', 'e', 'o', 'o', 'o'), ('u', 'e', 'o', 'o', 'u'), ('u', 'e', 'o', 'u', 'a'), ('u', 'e', 'o', 'u', 'e'), ('u', 'e', 'o', 'u', 'i'), ('u', 'e', 'o', 'u', 'o'), ('u', 'e', 'o', 'u', 'u'), ('u', 'e', 'u', 'a', 'a'), ('u', 'e', 'u', 'a', 'e'), ('u', 'e', 'u', 'a', 'i'), ('u', 'e', 'u', 'a', 'o'), ('u', 'e', 'u', 'a', 'u'), ('u', 'e', 'u', 'e', 'a'), ('u', 'e', 'u', 'e', 'e'), ('u', 'e', 'u', 'e', 'i'), ('u', 'e', 'u', 'e', 'o'), ('u', 'e', 'u', 'e', 'u'), ('u', 'e', 'u', 'i', 'a'), ('u', 'e', 'u', 'i', 'e'), ('u', 'e', 'u', 'i', 'i'), ('u', 'e', 'u', 'i', 'o'), ('u', 'e', 'u', 'i', 'u'), ('u', 'e', 'u', 'o', 'a'), ('u', 'e', 'u', 'o', 'e'), ('u', 'e', 'u', 'o', 'i'), ('u', 'e', 'u', 'o', 'o'), ('u', 'e', 'u', 'o', 'u'), ('u', 'e', 'u', 'u', 'a'), ('u', 'e', 'u', 'u', 'e'), ('u', 'e', 'u', 'u', 'i'), ('u', 'e', 'u', 'u', 'o'), ('u', 'e', 'u', 'u', 'u'), ('u', 'i', 'a', 'a', 'a'), ('u', 'i', 'a', 'a', 'e'), ('u', 'i', 'a', 'a', 'i'), ('u', 'i', 'a', 'a', 'o'), ('u', 'i', 'a', 'a', 'u'), ('u', 'i', 'a', 'e', 'a'), ('u', 'i', 'a', 'e', 'e'), ('u', 'i', 'a', 'e', 'i'), ('u', 'i', 'a', 'e', 'o'), ('u', 'i', 'a', 'e', 'u'), ('u', 'i', 'a', 'i', 'a'), ('u', 'i', 'a', 'i', 'e'), ('u', 'i', 'a', 'i', 'i'), ('u', 'i', 'a', 'i', 'o'), ('u', 'i', 'a', 'i', 'u'), ('u', 'i', 'a', 'o', 'a'), ('u', 'i', 'a', 'o', 'e'), ('u', 'i', 'a', 'o', 'i'), ('u', 'i', 'a', 'o', 'o'), ('u', 'i', 'a', 'o', 'u'), ('u', 'i', 'a', 'u', 'a'), ('u', 'i', 'a', 'u', 'e'), ('u', 'i', 'a', 'u', 'i'), ('u', 'i', 'a', 'u', 'o'), ('u', 'i', 'a', 'u', 'u'), ('u', 'i', 'e', 'a', 'a'), ('u', 'i', 'e', 'a', 'e'), ('u', 'i', 'e', 'a', 'i'), ('u', 'i', 'e', 'a', 'o'), ('u', 'i', 'e', 'a', 'u'), ('u', 'i', 'e', 'e', 'a'), ('u', 'i', 'e', 'e', 'e'), ('u', 'i', 'e', 'e', 'i'), ('u', 'i', 'e', 'e', 'o'), ('u', 'i', 'e', 'e', 'u'), ('u', 'i', 'e', 'i', 'a'), ('u', 'i', 'e', 'i', 'e'), ('u', 'i', 'e', 'i', 'i'), ('u', 'i', 'e', 'i', 'o'), ('u', 'i', 'e', 'i', 'u'), ('u', 'i', 'e', 'o', 'a'), ('u', 'i', 'e', 'o', 'e'), ('u', 'i', 'e', 'o', 'i'), ('u', 'i', 'e', 'o', 'o'), ('u', 'i', 'e', 'o', 'u'), ('u', 'i', 'e', 'u', 'a'), ('u', 'i', 'e', 'u', 'e'), ('u', 'i', 'e', 'u', 'i'), ('u', 'i', 'e', 'u', 'o'), ('u', 'i', 'e', 'u', 'u'), ('u', 'i', 'i', 'a', 'a'), ('u', 'i', 'i', 'a', 'e'), ('u', 'i', 'i', 'a', 'i'), ('u', 'i', 'i', 'a', 'o'), ('u', 'i', 'i', 'a', 'u'), ('u', 'i', 'i', 'e', 'a'), ('u', 'i', 'i', 'e', 'e'), ('u', 'i', 'i', 'e', 'i'), ('u', 'i', 'i', 'e', 'o'), ('u', 'i', 'i', 'e', 'u'), ('u', 'i', 'i', 'i', 'a'), ('u', 'i', 'i', 'i', 'e'), ('u', 'i', 'i', 'i', 'i'), ('u', 'i', 'i', 'i', 'o'), ('u', 'i', 'i', 'i', 'u'), ('u', 'i', 'i', 'o', 'a'), ('u', 'i', 'i', 'o', 'e'), ('u', 'i', 'i', 'o', 'i'), ('u', 'i', 'i', 'o', 'o'), ('u', 'i', 'i', 'o', 'u'), ('u', 'i', 'i', 'u', 'a'), ('u', 'i', 'i', 'u', 'e'), ('u', 'i', 'i', 'u', 'i'), ('u', 'i', 'i', 'u', 'o'), ('u', 'i', 'i', 'u', 'u'), ('u', 'i', 'o', 'a', 'a'), ('u', 'i', 'o', 'a', 'e'), ('u', 'i', 'o', 'a', 'i'), ('u', 'i', 'o', 'a', 'o'), ('u', 'i', 'o', 'a', 'u'), ('u', 'i', 'o', 'e', 'a'), ('u', 'i', 'o', 'e', 'e'), ('u', 'i', 'o', 'e', 'i'), ('u', 'i', 'o', 'e', 'o'), ('u', 'i', 'o', 'e', 'u'), ('u', 'i', 'o', 'i', 'a'), ('u', 'i', 'o', 'i', 'e'), ('u', 'i', 'o', 'i', 'i'), ('u', 'i', 'o', 'i', 'o'), ('u', 'i', 'o', 'i', 'u'), ('u', 'i', 'o', 'o', 'a'), ('u', 'i', 'o', 'o', 'e'), ('u', 'i', 'o', 'o', 'i'), ('u', 'i', 'o', 'o', 'o'), ('u', 'i', 'o', 'o', 'u'), ('u', 'i', 'o', 'u', 'a'), ('u', 'i', 'o', 'u', 'e'), ('u', 'i', 'o', 'u', 'i'), ('u', 'i', 'o', 'u', 'o'), ('u', 'i', 'o', 'u', 'u'), ('u', 'i', 'u', 'a', 'a'), ('u', 'i', 'u', 'a', 'e'), ('u', 'i', 'u', 'a', 'i'), ('u', 'i', 'u', 'a', 'o'), ('u', 'i', 'u', 'a', 'u'), ('u', 'i', 'u', 'e', 'a'), ('u', 'i', 'u', 'e', 'e'), ('u', 'i', 'u', 'e', 'i'), ('u', 'i', 'u', 'e', 'o'), ('u', 'i', 'u', 'e', 'u'), ('u', 'i', 'u', 'i', 'a'), ('u', 'i', 'u', 'i', 'e'), ('u', 'i', 'u', 'i', 'i'), ('u', 'i', 'u', 'i', 'o'), ('u', 'i', 'u', 'i', 'u'), ('u', 'i', 'u', 'o', 'a'), ('u', 'i', 'u', 'o', 'e'), ('u', 'i', 'u', 'o', 'i'), ('u', 'i', 'u', 'o', 'o'), ('u', 'i', 'u', 'o', 'u'), ('u', 'i', 'u', 'u', 'a'), ('u', 'i', 'u', 'u', 'e'), ('u', 'i', 'u', 'u', 'i'), ('u', 'i', 'u', 'u', 'o'), ('u', 'i', 'u', 'u', 'u'), ('u', 'o', 'a', 'a', 'a'), ('u', 'o', 'a', 'a', 'e'), ('u', 'o', 'a', 'a', 'i'), ('u', 'o', 'a', 'a', 'o'), ('u', 'o', 'a', 'a', 'u'), ('u', 'o', 'a', 'e', 'a'), ('u', 'o', 'a', 'e', 'e'), ('u', 'o', 'a', 'e', 'i'), ('u', 'o', 'a', 'e', 'o'), ('u', 'o', 'a', 'e', 'u'), ('u', 'o', 'a', 'i', 'a'), ('u', 'o', 'a', 'i', 'e'), ('u', 'o', 'a', 'i', 'i'), ('u', 'o', 'a', 'i', 'o'), ('u', 'o', 'a', 'i', 'u'), ('u', 'o', 'a', 'o', 'a'), ('u', 'o', 'a', 'o', 'e'), ('u', 'o', 'a', 'o', 'i'), ('u', 'o', 'a', 'o', 'o'), ('u', 'o', 'a', 'o', 'u'), ('u', 'o', 'a', 'u', 'a'), ('u', 'o', 'a', 'u', 'e'), ('u', 'o', 'a', 'u', 'i'), ('u', 'o', 'a', 'u', 'o'), ('u', 'o', 'a', 'u', 'u'), ('u', 'o', 'e', 'a', 'a'), ('u', 'o', 'e', 'a', 'e'), ('u', 'o', 'e', 'a', 'i'), ('u', 'o', 'e', 'a', 'o'), ('u', 'o', 'e', 'a', 'u'), ('u', 'o', 'e', 'e', 'a'), ('u', 'o', 'e', 'e', 'e'), ('u', 'o', 'e', 'e', 'i'), ('u', 'o', 'e', 'e', 'o'), ('u', 'o', 'e', 'e', 'u'), ('u', 'o', 'e', 'i', 'a'), ('u', 'o', 'e', 'i', 'e'), ('u', 'o', 'e', 'i', 'i'), ('u', 'o', 'e', 'i', 'o'), ('u', 'o', 'e', 'i', 'u'), ('u', 'o', 'e', 'o', 'a'), ('u', 'o', 'e', 'o', 'e'), ('u', 'o', 'e', 'o', 'i'), ('u', 'o', 'e', 'o', 'o'), ('u', 'o', 'e', 'o', 'u'), ('u', 'o', 'e', 'u', 'a'), ('u', 'o', 'e', 'u', 'e'), ('u', 'o', 'e', 'u', 'i'), ('u', 'o', 'e', 'u', 'o'), ('u', 'o', 'e', 'u', 'u'), ('u', 'o', 'i', 'a', 'a'), ('u', 'o', 'i', 'a', 'e'), ('u', 'o', 'i', 'a', 'i'), ('u', 'o', 'i', 'a', 'o'), ('u', 'o', 'i', 'a', 'u'), ('u', 'o', 'i', 'e', 'a'), ('u', 'o', 'i', 'e', 'e'), ('u', 'o', 'i', 'e', 'i'), ('u', 'o', 'i', 'e', 'o'), ('u', 'o', 'i', 'e', 'u'), ('u', 'o', 'i', 'i', 'a'), ('u', 'o', 'i', 'i', 'e'), ('u', 'o', 'i', 'i', 'i'), ('u', 'o', 'i', 'i', 'o'), ('u', 'o', 'i', 'i', 'u'), ('u', 'o', 'i', 'o', 'a'), ('u', 'o', 'i', 'o', 'e'), ('u', 'o', 'i', 'o', 'i'), ('u', 'o', 'i', 'o', 'o'), ('u', 'o', 'i', 'o', 'u'), ('u', 'o', 'i', 'u', 'a'), ('u', 'o', 'i', 'u', 'e'), ('u', 'o', 'i', 'u', 'i'), ('u', 'o', 'i', 'u', 'o'), ('u', 'o', 'i', 'u', 'u'), ('u', 'o', 'o', 'a', 'a'), ('u', 'o', 'o', 'a', 'e'), ('u', 'o', 'o', 'a', 'i'), ('u', 'o', 'o', 'a', 'o'), ('u', 'o', 'o', 'a', 'u'), ('u', 'o', 'o', 'e', 'a'), ('u', 'o', 'o', 'e', 'e'), ('u', 'o', 'o', 'e', 'i'), ('u', 'o', 'o', 'e', 'o'), ('u', 'o', 'o', 'e', 'u'), ('u', 'o', 'o', 'i', 'a'), ('u', 'o', 'o', 'i', 'e'), ('u', 'o', 'o', 'i', 'i'), ('u', 'o', 'o', 'i', 'o'), ('u', 'o', 'o', 'i', 'u'), ('u', 'o', 'o', 'o', 'a'), ('u', 'o', 'o', 'o', 'e'), ('u', 'o', 'o', 'o', 'i'), ('u', 'o', 'o', 'o', 'o'), ('u', 'o', 'o', 'o', 'u'), ('u', 'o', 'o', 'u', 'a'), ('u', 'o', 'o', 'u', 'e'), ('u', 'o', 'o', 'u', 'i'), ('u', 'o', 'o', 'u', 'o'), ('u', 'o', 'o', 'u', 'u'), ('u', 'o', 'u', 'a', 'a'), ('u', 'o', 'u', 'a', 'e'), ('u', 'o', 'u', 'a', 'i'), ('u', 'o', 'u', 'a', 'o'), ('u', 'o', 'u', 'a', 'u'), ('u', 'o', 'u', 'e', 'a'), ('u', 'o', 'u', 'e', 'e'), ('u', 'o', 'u', 'e', 'i'), ('u', 'o', 'u', 'e', 'o'), ('u', 'o', 'u', 'e', 'u'), ('u', 'o', 'u', 'i', 'a'), ('u', 'o', 'u', 'i', 'e'), ('u', 'o', 'u', 'i', 'i'), ('u', 'o', 'u', 'i', 'o'), ('u', 'o', 'u', 'i', 'u'), ('u', 'o', 'u', 'o', 'a'), ('u', 'o', 'u', 'o', 'e'), ('u', 'o', 'u', 'o', 'i'), ('u', 'o', 'u', 'o', 'o'), ('u', 'o', 'u', 'o', 'u'), ('u', 'o', 'u', 'u', 'a'), ('u', 'o', 'u', 'u', 'e'), ('u', 'o', 'u', 'u', 'i'), ('u', 'o', 'u', 'u', 'o'), ('u', 'o', 'u', 'u', 'u'), ('u', 'u', 'a', 'a', 'a'), ('u', 'u', 'a', 'a', 'e'), ('u', 'u', 'a', 'a', 'i'), ('u', 'u', 'a', 'a', 'o'), ('u', 'u', 'a', 'a', 'u'), ('u', 'u', 'a', 'e', 'a'), ('u', 'u', 'a', 'e', 'e'), ('u', 'u', 'a', 'e', 'i'), ('u', 'u', 'a', 'e', 'o'), ('u', 'u', 'a', 'e', 'u'), ('u', 'u', 'a', 'i', 'a'), ('u', 'u', 'a', 'i', 'e'), ('u', 'u', 'a', 'i', 'i'), ('u', 'u', 'a', 'i', 'o'), ('u', 'u', 'a', 'i', 'u'), ('u', 'u', 'a', 'o', 'a'), ('u', 'u', 'a', 'o', 'e'), ('u', 'u', 'a', 'o', 'i'), ('u', 'u', 'a', 'o', 'o'), ('u', 'u', 'a', 'o', 'u'), ('u', 'u', 'a', 'u', 'a'), ('u', 'u', 'a', 'u', 'e'), ('u', 'u', 'a', 'u', 'i'), ('u', 'u', 'a', 'u', 'o'), ('u', 'u', 'a', 'u', 'u'), ('u', 'u', 'e', 'a', 'a'), ('u', 'u', 'e', 'a', 'e'), ('u', 'u', 'e', 'a', 'i'), ('u', 'u', 'e', 'a', 'o'), ('u', 'u', 'e', 'a', 'u'), ('u', 'u', 'e', 'e', 'a'), ('u', 'u', 'e', 'e', 'e'), ('u', 'u', 'e', 'e', 'i'), ('u', 'u', 'e', 'e', 'o'), ('u', 'u', 'e', 'e', 'u'), ('u', 'u', 'e', 'i', 'a'), ('u', 'u', 'e', 'i', 'e'), ('u', 'u', 'e', 'i', 'i'), ('u', 'u', 'e', 'i', 'o'), ('u', 'u', 'e', 'i', 'u'), ('u', 'u', 'e', 'o', 'a'), ('u', 'u', 'e', 'o', 'e'), ('u', 'u', 'e', 'o', 'i'), ('u', 'u', 'e', 'o', 'o'), ('u', 'u', 'e', 'o', 'u'), ('u', 'u', 'e', 'u', 'a'), ('u', 'u', 'e', 'u', 'e'), ('u', 'u', 'e', 'u', 'i'), ('u', 'u', 'e', 'u', 'o'), ('u', 'u', 'e', 'u', 'u'), ('u', 'u', 'i', 'a', 'a'), ('u', 'u', 'i', 'a', 'e'), ('u', 'u', 'i', 'a', 'i'), ('u', 'u', 'i', 'a', 'o'), ('u', 'u', 'i', 'a', 'u'), ('u', 'u', 'i', 'e', 'a'), ('u', 'u', 'i', 'e', 'e'), ('u', 'u', 'i', 'e', 'i'), ('u', 'u', 'i', 'e', 'o'), ('u', 'u', 'i', 'e', 'u'), ('u', 'u', 'i', 'i', 'a'), ('u', 'u', 'i', 'i', 'e'), ('u', 'u', 'i', 'i', 'i'), ('u', 'u', 'i', 'i', 'o'), ('u', 'u', 'i', 'i', 'u'), ('u', 'u', 'i', 'o', 'a'), ('u', 'u', 'i', 'o', 'e'), ('u', 'u', 'i', 'o', 'i'), ('u', 'u', 'i', 'o', 'o'), ('u', 'u', 'i', 'o', 'u'), ('u', 'u', 'i', 'u', 'a'), ('u', 'u', 'i', 'u', 'e'), ('u', 'u', 'i', 'u', 'i'), ('u', 'u', 'i', 'u', 'o'), ('u', 'u', 'i', 'u', 'u'), ('u', 'u', 'o', 'a', 'a'), ('u', 'u', 'o', 'a', 'e'), ('u', 'u', 'o', 'a', 'i'), ('u', 'u', 'o', 'a', 'o'), ('u', 'u', 'o', 'a', 'u'), ('u', 'u', 'o', 'e', 'a'), ('u', 'u', 'o', 'e', 'e'), ('u', 'u', 'o', 'e', 'i'), ('u', 'u', 'o', 'e', 'o'), ('u', 'u', 'o', 'e', 'u'), ('u', 'u', 'o', 'i', 'a'), ('u', 'u', 'o', 'i', 'e'), ('u', 'u', 'o', 'i', 'i'), ('u', 'u', 'o', 'i', 'o'), ('u', 'u', 'o', 'i', 'u'), ('u', 'u', 'o', 'o', 'a'), ('u', 'u', 'o', 'o', 'e'), ('u', 'u', 'o', 'o', 'i'), ('u', 'u', 'o', 'o', 'o'), ('u', 'u', 'o', 'o', 'u'), ('u', 'u', 'o', 'u', 'a'), ('u', 'u', 'o', 'u', 'e'), ('u', 'u', 'o', 'u', 'i'), ('u', 'u', 'o', 'u', 'o'), ('u', 'u', 'o', 'u', 'u'), ('u', 'u', 'u', 'a', 'a'), ('u', 'u', 'u', 'a', 'e'), ('u', 'u', 'u', 'a', 'i'), ('u', 'u', 'u', 'a', 'o'), ('u', 'u', 'u', 'a', 'u'), ('u', 'u', 'u', 'e', 'a'), ('u', 'u', 'u', 'e', 'e'), ('u', 'u', 'u', 'e', 'i'), ('u', 'u', 'u', 'e', 'o'), ('u', 'u', 'u', 'e', 'u'), ('u', 'u', 'u', 'i', 'a'), ('u', 'u', 'u', 'i', 'e'), ('u', 'u', 'u', 'i', 'i'), ('u', 'u', 'u', 'i', 'o'), ('u', 'u', 'u', 'i', 'u'), ('u', 'u', 'u', 'o', 'a'), ('u', 'u', 'u', 'o', 'e'), ('u', 'u', 'u', 'o', 'i'), ('u', 'u', 'u', 'o', 'o'), ('u', 'u', 'u', 'o', 'u'), ('u', 'u', 'u', 'u', 'a'), ('u', 'u', 'u', 'u', 'e'), ('u', 'u', 'u', 'u', 'i'), ('u', 'u', 'u', 'u', 'o'), ('u', 'u', 'u', 'u', 'u')]\n",
            "3125\n",
            "('e', 'a', 'a', 'a', 'a')\n",
            "('e', 'a', 'a', 'a', 'i')\n",
            "('e', 'a', 'a', 'a', 'u')\n",
            "('e', 'a', 'a', 'e', 'e')\n",
            "('e', 'a', 'a', 'e', 'o')\n",
            "('e', 'a', 'a', 'i', 'a')\n",
            "('e', 'a', 'a', 'i', 'i')\n",
            "('e', 'a', 'a', 'i', 'u')\n",
            "('e', 'a', 'a', 'o', 'e')\n",
            "('e', 'a', 'a', 'o', 'o')\n",
            "('e', 'a', 'a', 'u', 'a')\n",
            "('e', 'a', 'a', 'u', 'i')\n",
            "('e', 'a', 'a', 'u', 'u')\n",
            "('e', 'a', 'e', 'a', 'e')\n",
            "('e', 'a', 'e', 'a', 'o')\n",
            "('e', 'a', 'e', 'e', 'a')\n",
            "('e', 'a', 'e', 'e', 'i')\n",
            "('e', 'a', 'e', 'e', 'u')\n",
            "('e', 'a', 'e', 'i', 'e')\n",
            "('e', 'a', 'e', 'i', 'o')\n",
            "('e', 'a', 'e', 'o', 'a')\n",
            "('e', 'a', 'e', 'o', 'i')\n",
            "('e', 'a', 'e', 'o', 'u')\n",
            "('e', 'a', 'e', 'u', 'e')\n",
            "('e', 'a', 'e', 'u', 'o')\n",
            "('e', 'a', 'i', 'a', 'a')\n",
            "('e', 'a', 'i', 'a', 'i')\n",
            "('e', 'a', 'i', 'a', 'u')\n",
            "('e', 'a', 'i', 'e', 'e')\n",
            "('e', 'a', 'i', 'e', 'o')\n",
            "('e', 'a', 'i', 'i', 'a')\n",
            "('e', 'a', 'i', 'i', 'i')\n",
            "('e', 'a', 'i', 'i', 'u')\n",
            "('e', 'a', 'i', 'o', 'e')\n",
            "('e', 'a', 'i', 'o', 'o')\n",
            "('e', 'a', 'i', 'u', 'a')\n",
            "('e', 'a', 'i', 'u', 'i')\n",
            "('e', 'a', 'i', 'u', 'u')\n",
            "('e', 'a', 'o', 'a', 'e')\n",
            "('e', 'a', 'o', 'a', 'o')\n",
            "('e', 'a', 'o', 'e', 'a')\n",
            "('e', 'a', 'o', 'e', 'i')\n",
            "('e', 'a', 'o', 'e', 'u')\n",
            "('e', 'a', 'o', 'i', 'e')\n",
            "('e', 'a', 'o', 'i', 'o')\n",
            "('e', 'a', 'o', 'o', 'a')\n",
            "('e', 'a', 'o', 'o', 'i')\n",
            "('e', 'a', 'o', 'o', 'u')\n",
            "('e', 'a', 'o', 'u', 'e')\n",
            "('e', 'a', 'o', 'u', 'o')\n",
            "('e', 'a', 'u', 'a', 'a')\n",
            "('e', 'a', 'u', 'a', 'i')\n",
            "('e', 'a', 'u', 'a', 'u')\n",
            "('e', 'a', 'u', 'e', 'e')\n",
            "('e', 'a', 'u', 'e', 'o')\n",
            "('e', 'a', 'u', 'i', 'a')\n",
            "('e', 'a', 'u', 'i', 'i')\n",
            "('e', 'a', 'u', 'i', 'u')\n",
            "('e', 'a', 'u', 'o', 'e')\n",
            "('e', 'a', 'u', 'o', 'o')\n",
            "('e', 'a', 'u', 'u', 'a')\n",
            "('e', 'a', 'u', 'u', 'i')\n",
            "('e', 'a', 'u', 'u', 'u')\n",
            "('i', 'a', 'a', 'a', 'a')\n",
            "('i', 'a', 'a', 'a', 'i')\n",
            "('i', 'a', 'a', 'a', 'u')\n",
            "('i', 'a', 'a', 'e', 'e')\n",
            "('i', 'a', 'a', 'e', 'o')\n",
            "('i', 'a', 'a', 'i', 'a')\n",
            "('i', 'a', 'a', 'i', 'i')\n",
            "('i', 'a', 'a', 'i', 'u')\n",
            "('i', 'a', 'a', 'o', 'e')\n",
            "('i', 'a', 'a', 'o', 'o')\n",
            "('i', 'a', 'a', 'u', 'a')\n",
            "('i', 'a', 'a', 'u', 'i')\n",
            "('i', 'a', 'a', 'u', 'u')\n",
            "('i', 'a', 'e', 'a', 'e')\n",
            "('i', 'a', 'e', 'a', 'o')\n",
            "('i', 'a', 'e', 'e', 'a')\n",
            "('i', 'a', 'e', 'e', 'i')\n",
            "('i', 'a', 'e', 'e', 'u')\n",
            "('i', 'a', 'e', 'i', 'e')\n",
            "('i', 'a', 'e', 'i', 'o')\n",
            "('i', 'a', 'e', 'o', 'a')\n",
            "('i', 'a', 'e', 'o', 'i')\n",
            "('i', 'a', 'e', 'o', 'u')\n",
            "('i', 'a', 'e', 'u', 'e')\n",
            "('i', 'a', 'e', 'u', 'o')\n",
            "('i', 'a', 'i', 'a', 'a')\n",
            "('i', 'a', 'i', 'a', 'i')\n",
            "('i', 'a', 'i', 'a', 'u')\n",
            "('i', 'a', 'i', 'e', 'e')\n",
            "('i', 'a', 'i', 'e', 'o')\n",
            "('i', 'a', 'i', 'i', 'a')\n",
            "('i', 'a', 'i', 'i', 'i')\n",
            "('i', 'a', 'i', 'i', 'u')\n",
            "('i', 'a', 'i', 'o', 'e')\n",
            "('i', 'a', 'i', 'o', 'o')\n",
            "('i', 'a', 'i', 'u', 'a')\n",
            "('i', 'a', 'i', 'u', 'i')\n",
            "('i', 'a', 'i', 'u', 'u')\n",
            "('i', 'a', 'o', 'a', 'e')\n",
            "('i', 'a', 'o', 'a', 'o')\n",
            "('i', 'a', 'o', 'e', 'a')\n",
            "('i', 'a', 'o', 'e', 'i')\n",
            "('i', 'a', 'o', 'e', 'u')\n",
            "('i', 'a', 'o', 'i', 'e')\n",
            "('i', 'a', 'o', 'i', 'o')\n",
            "('i', 'a', 'o', 'o', 'a')\n",
            "('i', 'a', 'o', 'o', 'i')\n",
            "('i', 'a', 'o', 'o', 'u')\n",
            "('i', 'a', 'o', 'u', 'e')\n",
            "('i', 'a', 'o', 'u', 'o')\n",
            "('i', 'a', 'u', 'a', 'a')\n",
            "('i', 'a', 'u', 'a', 'i')\n",
            "('i', 'a', 'u', 'a', 'u')\n",
            "('i', 'a', 'u', 'e', 'e')\n",
            "('i', 'a', 'u', 'e', 'o')\n",
            "('i', 'a', 'u', 'i', 'a')\n",
            "('i', 'a', 'u', 'i', 'i')\n",
            "('i', 'a', 'u', 'i', 'u')\n",
            "('i', 'a', 'u', 'o', 'e')\n",
            "('i', 'a', 'u', 'o', 'o')\n",
            "('i', 'a', 'u', 'u', 'a')\n",
            "('i', 'a', 'u', 'u', 'i')\n",
            "('i', 'a', 'u', 'u', 'u')\n",
            "('i', 'e', 'a', 'a', 'e')\n",
            "('i', 'e', 'a', 'a', 'o')\n",
            "('i', 'e', 'a', 'e', 'a')\n",
            "('i', 'e', 'a', 'e', 'i')\n",
            "('i', 'e', 'a', 'e', 'u')\n",
            "('i', 'e', 'a', 'i', 'e')\n",
            "('i', 'e', 'a', 'i', 'o')\n",
            "('i', 'e', 'a', 'o', 'a')\n",
            "('i', 'e', 'a', 'o', 'i')\n",
            "('i', 'e', 'a', 'o', 'u')\n",
            "('i', 'e', 'a', 'u', 'e')\n",
            "('i', 'e', 'a', 'u', 'o')\n",
            "('i', 'e', 'e', 'a', 'a')\n",
            "('i', 'e', 'e', 'a', 'i')\n",
            "('i', 'e', 'e', 'a', 'u')\n",
            "('i', 'e', 'e', 'e', 'e')\n",
            "('i', 'e', 'e', 'e', 'o')\n",
            "('i', 'e', 'e', 'i', 'a')\n",
            "('i', 'e', 'e', 'i', 'i')\n",
            "('i', 'e', 'e', 'i', 'u')\n",
            "('i', 'e', 'e', 'o', 'e')\n",
            "('i', 'e', 'e', 'o', 'o')\n",
            "('i', 'e', 'e', 'u', 'a')\n",
            "('i', 'e', 'e', 'u', 'i')\n",
            "('i', 'e', 'e', 'u', 'u')\n",
            "('i', 'e', 'i', 'a', 'e')\n",
            "('i', 'e', 'i', 'a', 'o')\n",
            "('i', 'e', 'i', 'e', 'a')\n",
            "('i', 'e', 'i', 'e', 'i')\n",
            "('i', 'e', 'i', 'e', 'u')\n",
            "('i', 'e', 'i', 'i', 'e')\n",
            "('i', 'e', 'i', 'i', 'o')\n",
            "('i', 'e', 'i', 'o', 'a')\n",
            "('i', 'e', 'i', 'o', 'i')\n",
            "('i', 'e', 'i', 'o', 'u')\n",
            "('i', 'e', 'i', 'u', 'e')\n",
            "('i', 'e', 'i', 'u', 'o')\n",
            "('i', 'e', 'o', 'a', 'a')\n",
            "('i', 'e', 'o', 'a', 'i')\n",
            "('i', 'e', 'o', 'a', 'u')\n",
            "('i', 'e', 'o', 'e', 'e')\n",
            "('i', 'e', 'o', 'e', 'o')\n",
            "('i', 'e', 'o', 'i', 'a')\n",
            "('i', 'e', 'o', 'i', 'i')\n",
            "('i', 'e', 'o', 'i', 'u')\n",
            "('i', 'e', 'o', 'o', 'e')\n",
            "('i', 'e', 'o', 'o', 'o')\n",
            "('i', 'e', 'o', 'u', 'a')\n",
            "('i', 'e', 'o', 'u', 'i')\n",
            "('i', 'e', 'o', 'u', 'u')\n",
            "('i', 'e', 'u', 'a', 'e')\n",
            "('i', 'e', 'u', 'a', 'o')\n",
            "('i', 'e', 'u', 'e', 'a')\n",
            "('i', 'e', 'u', 'e', 'i')\n",
            "('i', 'e', 'u', 'e', 'u')\n",
            "('i', 'e', 'u', 'i', 'e')\n",
            "('i', 'e', 'u', 'i', 'o')\n",
            "('i', 'e', 'u', 'o', 'a')\n",
            "('i', 'e', 'u', 'o', 'i')\n",
            "('i', 'e', 'u', 'o', 'u')\n",
            "('i', 'e', 'u', 'u', 'e')\n",
            "('i', 'e', 'u', 'u', 'o')\n",
            "('o', 'a', 'a', 'a', 'a')\n",
            "('o', 'a', 'a', 'a', 'i')\n",
            "('o', 'a', 'a', 'a', 'u')\n",
            "('o', 'a', 'a', 'e', 'e')\n",
            "('o', 'a', 'a', 'e', 'o')\n",
            "('o', 'a', 'a', 'i', 'a')\n",
            "('o', 'a', 'a', 'i', 'i')\n",
            "('o', 'a', 'a', 'i', 'u')\n",
            "('o', 'a', 'a', 'o', 'e')\n",
            "('o', 'a', 'a', 'o', 'o')\n",
            "('o', 'a', 'a', 'u', 'a')\n",
            "('o', 'a', 'a', 'u', 'i')\n",
            "('o', 'a', 'a', 'u', 'u')\n",
            "('o', 'a', 'e', 'a', 'e')\n",
            "('o', 'a', 'e', 'a', 'o')\n",
            "('o', 'a', 'e', 'e', 'a')\n",
            "('o', 'a', 'e', 'e', 'i')\n",
            "('o', 'a', 'e', 'e', 'u')\n",
            "('o', 'a', 'e', 'i', 'e')\n",
            "('o', 'a', 'e', 'i', 'o')\n",
            "('o', 'a', 'e', 'o', 'a')\n",
            "('o', 'a', 'e', 'o', 'i')\n",
            "('o', 'a', 'e', 'o', 'u')\n",
            "('o', 'a', 'e', 'u', 'e')\n",
            "('o', 'a', 'e', 'u', 'o')\n",
            "('o', 'a', 'i', 'a', 'a')\n",
            "('o', 'a', 'i', 'a', 'i')\n",
            "('o', 'a', 'i', 'a', 'u')\n",
            "('o', 'a', 'i', 'e', 'e')\n",
            "('o', 'a', 'i', 'e', 'o')\n",
            "('o', 'a', 'i', 'i', 'a')\n",
            "('o', 'a', 'i', 'i', 'i')\n",
            "('o', 'a', 'i', 'i', 'u')\n",
            "('o', 'a', 'i', 'o', 'e')\n",
            "('o', 'a', 'i', 'o', 'o')\n",
            "('o', 'a', 'i', 'u', 'a')\n",
            "('o', 'a', 'i', 'u', 'i')\n",
            "('o', 'a', 'i', 'u', 'u')\n",
            "('o', 'a', 'o', 'a', 'e')\n",
            "('o', 'a', 'o', 'a', 'o')\n",
            "('o', 'a', 'o', 'e', 'a')\n",
            "('o', 'a', 'o', 'e', 'i')\n",
            "('o', 'a', 'o', 'e', 'u')\n",
            "('o', 'a', 'o', 'i', 'e')\n",
            "('o', 'a', 'o', 'i', 'o')\n",
            "('o', 'a', 'o', 'o', 'a')\n",
            "('o', 'a', 'o', 'o', 'i')\n",
            "('o', 'a', 'o', 'o', 'u')\n",
            "('o', 'a', 'o', 'u', 'e')\n",
            "('o', 'a', 'o', 'u', 'o')\n",
            "('o', 'a', 'u', 'a', 'a')\n",
            "('o', 'a', 'u', 'a', 'i')\n",
            "('o', 'a', 'u', 'a', 'u')\n",
            "('o', 'a', 'u', 'e', 'e')\n",
            "('o', 'a', 'u', 'e', 'o')\n",
            "('o', 'a', 'u', 'i', 'a')\n",
            "('o', 'a', 'u', 'i', 'i')\n",
            "('o', 'a', 'u', 'i', 'u')\n",
            "('o', 'a', 'u', 'o', 'e')\n",
            "('o', 'a', 'u', 'o', 'o')\n",
            "('o', 'a', 'u', 'u', 'a')\n",
            "('o', 'a', 'u', 'u', 'i')\n",
            "('o', 'a', 'u', 'u', 'u')\n",
            "('o', 'e', 'a', 'a', 'e')\n",
            "('o', 'e', 'a', 'a', 'o')\n",
            "('o', 'e', 'a', 'e', 'a')\n",
            "('o', 'e', 'a', 'e', 'i')\n",
            "('o', 'e', 'a', 'e', 'u')\n",
            "('o', 'e', 'a', 'i', 'e')\n",
            "('o', 'e', 'a', 'i', 'o')\n",
            "('o', 'e', 'a', 'o', 'a')\n",
            "('o', 'e', 'a', 'o', 'i')\n",
            "('o', 'e', 'a', 'o', 'u')\n",
            "('o', 'e', 'a', 'u', 'e')\n",
            "('o', 'e', 'a', 'u', 'o')\n",
            "('o', 'e', 'e', 'a', 'a')\n",
            "('o', 'e', 'e', 'a', 'i')\n",
            "('o', 'e', 'e', 'a', 'u')\n",
            "('o', 'e', 'e', 'e', 'e')\n",
            "('o', 'e', 'e', 'e', 'o')\n",
            "('o', 'e', 'e', 'i', 'a')\n",
            "('o', 'e', 'e', 'i', 'i')\n",
            "('o', 'e', 'e', 'i', 'u')\n",
            "('o', 'e', 'e', 'o', 'e')\n",
            "('o', 'e', 'e', 'o', 'o')\n",
            "('o', 'e', 'e', 'u', 'a')\n",
            "('o', 'e', 'e', 'u', 'i')\n",
            "('o', 'e', 'e', 'u', 'u')\n",
            "('o', 'e', 'i', 'a', 'e')\n",
            "('o', 'e', 'i', 'a', 'o')\n",
            "('o', 'e', 'i', 'e', 'a')\n",
            "('o', 'e', 'i', 'e', 'i')\n",
            "('o', 'e', 'i', 'e', 'u')\n",
            "('o', 'e', 'i', 'i', 'e')\n",
            "('o', 'e', 'i', 'i', 'o')\n",
            "('o', 'e', 'i', 'o', 'a')\n",
            "('o', 'e', 'i', 'o', 'i')\n",
            "('o', 'e', 'i', 'o', 'u')\n",
            "('o', 'e', 'i', 'u', 'e')\n",
            "('o', 'e', 'i', 'u', 'o')\n",
            "('o', 'e', 'o', 'a', 'a')\n",
            "('o', 'e', 'o', 'a', 'i')\n",
            "('o', 'e', 'o', 'a', 'u')\n",
            "('o', 'e', 'o', 'e', 'e')\n",
            "('o', 'e', 'o', 'e', 'o')\n",
            "('o', 'e', 'o', 'i', 'a')\n",
            "('o', 'e', 'o', 'i', 'i')\n",
            "('o', 'e', 'o', 'i', 'u')\n",
            "('o', 'e', 'o', 'o', 'e')\n",
            "('o', 'e', 'o', 'o', 'o')\n",
            "('o', 'e', 'o', 'u', 'a')\n",
            "('o', 'e', 'o', 'u', 'i')\n",
            "('o', 'e', 'o', 'u', 'u')\n",
            "('o', 'e', 'u', 'a', 'e')\n",
            "('o', 'e', 'u', 'a', 'o')\n",
            "('o', 'e', 'u', 'e', 'a')\n",
            "('o', 'e', 'u', 'e', 'i')\n",
            "('o', 'e', 'u', 'e', 'u')\n",
            "('o', 'e', 'u', 'i', 'e')\n",
            "('o', 'e', 'u', 'i', 'o')\n",
            "('o', 'e', 'u', 'o', 'a')\n",
            "('o', 'e', 'u', 'o', 'i')\n",
            "('o', 'e', 'u', 'o', 'u')\n",
            "('o', 'e', 'u', 'u', 'e')\n",
            "('o', 'e', 'u', 'u', 'o')\n",
            "('o', 'i', 'a', 'a', 'a')\n",
            "('o', 'i', 'a', 'a', 'i')\n",
            "('o', 'i', 'a', 'a', 'u')\n",
            "('o', 'i', 'a', 'e', 'e')\n",
            "('o', 'i', 'a', 'e', 'o')\n",
            "('o', 'i', 'a', 'i', 'a')\n",
            "('o', 'i', 'a', 'i', 'i')\n",
            "('o', 'i', 'a', 'i', 'u')\n",
            "('o', 'i', 'a', 'o', 'e')\n",
            "('o', 'i', 'a', 'o', 'o')\n",
            "('o', 'i', 'a', 'u', 'a')\n",
            "('o', 'i', 'a', 'u', 'i')\n",
            "('o', 'i', 'a', 'u', 'u')\n",
            "('o', 'i', 'e', 'a', 'e')\n",
            "('o', 'i', 'e', 'a', 'o')\n",
            "('o', 'i', 'e', 'e', 'a')\n",
            "('o', 'i', 'e', 'e', 'i')\n",
            "('o', 'i', 'e', 'e', 'u')\n",
            "('o', 'i', 'e', 'i', 'e')\n",
            "('o', 'i', 'e', 'i', 'o')\n",
            "('o', 'i', 'e', 'o', 'a')\n",
            "('o', 'i', 'e', 'o', 'i')\n",
            "('o', 'i', 'e', 'o', 'u')\n",
            "('o', 'i', 'e', 'u', 'e')\n",
            "('o', 'i', 'e', 'u', 'o')\n",
            "('o', 'i', 'i', 'a', 'a')\n",
            "('o', 'i', 'i', 'a', 'i')\n",
            "('o', 'i', 'i', 'a', 'u')\n",
            "('o', 'i', 'i', 'e', 'e')\n",
            "('o', 'i', 'i', 'e', 'o')\n",
            "('o', 'i', 'i', 'i', 'a')\n",
            "('o', 'i', 'i', 'i', 'i')\n",
            "('o', 'i', 'i', 'i', 'u')\n",
            "('o', 'i', 'i', 'o', 'e')\n",
            "('o', 'i', 'i', 'o', 'o')\n",
            "('o', 'i', 'i', 'u', 'a')\n",
            "('o', 'i', 'i', 'u', 'i')\n",
            "('o', 'i', 'i', 'u', 'u')\n",
            "('o', 'i', 'o', 'a', 'e')\n",
            "('o', 'i', 'o', 'a', 'o')\n",
            "('o', 'i', 'o', 'e', 'a')\n",
            "('o', 'i', 'o', 'e', 'i')\n",
            "('o', 'i', 'o', 'e', 'u')\n",
            "('o', 'i', 'o', 'i', 'e')\n",
            "('o', 'i', 'o', 'i', 'o')\n",
            "('o', 'i', 'o', 'o', 'a')\n",
            "('o', 'i', 'o', 'o', 'i')\n",
            "('o', 'i', 'o', 'o', 'u')\n",
            "('o', 'i', 'o', 'u', 'e')\n",
            "('o', 'i', 'o', 'u', 'o')\n",
            "('o', 'i', 'u', 'a', 'a')\n",
            "('o', 'i', 'u', 'a', 'i')\n",
            "('o', 'i', 'u', 'a', 'u')\n",
            "('o', 'i', 'u', 'e', 'e')\n",
            "('o', 'i', 'u', 'e', 'o')\n",
            "('o', 'i', 'u', 'i', 'a')\n",
            "('o', 'i', 'u', 'i', 'i')\n",
            "('o', 'i', 'u', 'i', 'u')\n",
            "('o', 'i', 'u', 'o', 'e')\n",
            "('o', 'i', 'u', 'o', 'o')\n",
            "('o', 'i', 'u', 'u', 'a')\n",
            "('o', 'i', 'u', 'u', 'i')\n",
            "('o', 'i', 'u', 'u', 'u')\n",
            "('u', 'a', 'a', 'a', 'a')\n",
            "('u', 'a', 'a', 'a', 'i')\n",
            "('u', 'a', 'a', 'a', 'u')\n",
            "('u', 'a', 'a', 'e', 'e')\n",
            "('u', 'a', 'a', 'e', 'o')\n",
            "('u', 'a', 'a', 'i', 'a')\n",
            "('u', 'a', 'a', 'i', 'i')\n",
            "('u', 'a', 'a', 'i', 'u')\n",
            "('u', 'a', 'a', 'o', 'e')\n",
            "('u', 'a', 'a', 'o', 'o')\n",
            "('u', 'a', 'a', 'u', 'a')\n",
            "('u', 'a', 'a', 'u', 'i')\n",
            "('u', 'a', 'a', 'u', 'u')\n",
            "('u', 'a', 'e', 'a', 'e')\n",
            "('u', 'a', 'e', 'a', 'o')\n",
            "('u', 'a', 'e', 'e', 'a')\n",
            "('u', 'a', 'e', 'e', 'i')\n",
            "('u', 'a', 'e', 'e', 'u')\n",
            "('u', 'a', 'e', 'i', 'e')\n",
            "('u', 'a', 'e', 'i', 'o')\n",
            "('u', 'a', 'e', 'o', 'a')\n",
            "('u', 'a', 'e', 'o', 'i')\n",
            "('u', 'a', 'e', 'o', 'u')\n",
            "('u', 'a', 'e', 'u', 'e')\n",
            "('u', 'a', 'e', 'u', 'o')\n",
            "('u', 'a', 'i', 'a', 'a')\n",
            "('u', 'a', 'i', 'a', 'i')\n",
            "('u', 'a', 'i', 'a', 'u')\n",
            "('u', 'a', 'i', 'e', 'e')\n",
            "('u', 'a', 'i', 'e', 'o')\n",
            "('u', 'a', 'i', 'i', 'a')\n",
            "('u', 'a', 'i', 'i', 'i')\n",
            "('u', 'a', 'i', 'i', 'u')\n",
            "('u', 'a', 'i', 'o', 'e')\n",
            "('u', 'a', 'i', 'o', 'o')\n",
            "('u', 'a', 'i', 'u', 'a')\n",
            "('u', 'a', 'i', 'u', 'i')\n",
            "('u', 'a', 'i', 'u', 'u')\n",
            "('u', 'a', 'o', 'a', 'e')\n",
            "('u', 'a', 'o', 'a', 'o')\n",
            "('u', 'a', 'o', 'e', 'a')\n",
            "('u', 'a', 'o', 'e', 'i')\n",
            "('u', 'a', 'o', 'e', 'u')\n",
            "('u', 'a', 'o', 'i', 'e')\n",
            "('u', 'a', 'o', 'i', 'o')\n",
            "('u', 'a', 'o', 'o', 'a')\n",
            "('u', 'a', 'o', 'o', 'i')\n",
            "('u', 'a', 'o', 'o', 'u')\n",
            "('u', 'a', 'o', 'u', 'e')\n",
            "('u', 'a', 'o', 'u', 'o')\n",
            "('u', 'a', 'u', 'a', 'a')\n",
            "('u', 'a', 'u', 'a', 'i')\n",
            "('u', 'a', 'u', 'a', 'u')\n",
            "('u', 'a', 'u', 'e', 'e')\n",
            "('u', 'a', 'u', 'e', 'o')\n",
            "('u', 'a', 'u', 'i', 'a')\n",
            "('u', 'a', 'u', 'i', 'i')\n",
            "('u', 'a', 'u', 'i', 'u')\n",
            "('u', 'a', 'u', 'o', 'e')\n",
            "('u', 'a', 'u', 'o', 'o')\n",
            "('u', 'a', 'u', 'u', 'a')\n",
            "('u', 'a', 'u', 'u', 'i')\n",
            "('u', 'a', 'u', 'u', 'u')\n",
            "('u', 'e', 'a', 'a', 'e')\n",
            "('u', 'e', 'a', 'a', 'o')\n",
            "('u', 'e', 'a', 'e', 'a')\n",
            "('u', 'e', 'a', 'e', 'i')\n",
            "('u', 'e', 'a', 'e', 'u')\n",
            "('u', 'e', 'a', 'i', 'e')\n",
            "('u', 'e', 'a', 'i', 'o')\n",
            "('u', 'e', 'a', 'o', 'a')\n",
            "('u', 'e', 'a', 'o', 'i')\n",
            "('u', 'e', 'a', 'o', 'u')\n",
            "('u', 'e', 'a', 'u', 'e')\n",
            "('u', 'e', 'a', 'u', 'o')\n",
            "('u', 'e', 'e', 'a', 'a')\n",
            "('u', 'e', 'e', 'a', 'i')\n",
            "('u', 'e', 'e', 'a', 'u')\n",
            "('u', 'e', 'e', 'e', 'e')\n",
            "('u', 'e', 'e', 'e', 'o')\n",
            "('u', 'e', 'e', 'i', 'a')\n",
            "('u', 'e', 'e', 'i', 'i')\n",
            "('u', 'e', 'e', 'i', 'u')\n",
            "('u', 'e', 'e', 'o', 'e')\n",
            "('u', 'e', 'e', 'o', 'o')\n",
            "('u', 'e', 'e', 'u', 'a')\n",
            "('u', 'e', 'e', 'u', 'i')\n",
            "('u', 'e', 'e', 'u', 'u')\n",
            "('u', 'e', 'i', 'a', 'e')\n",
            "('u', 'e', 'i', 'a', 'o')\n",
            "('u', 'e', 'i', 'e', 'a')\n",
            "('u', 'e', 'i', 'e', 'i')\n",
            "('u', 'e', 'i', 'e', 'u')\n",
            "('u', 'e', 'i', 'i', 'e')\n",
            "('u', 'e', 'i', 'i', 'o')\n",
            "('u', 'e', 'i', 'o', 'a')\n",
            "('u', 'e', 'i', 'o', 'i')\n",
            "('u', 'e', 'i', 'o', 'u')\n",
            "('u', 'e', 'i', 'u', 'e')\n",
            "('u', 'e', 'i', 'u', 'o')\n",
            "('u', 'e', 'o', 'a', 'a')\n",
            "('u', 'e', 'o', 'a', 'i')\n",
            "('u', 'e', 'o', 'a', 'u')\n",
            "('u', 'e', 'o', 'e', 'e')\n",
            "('u', 'e', 'o', 'e', 'o')\n",
            "('u', 'e', 'o', 'i', 'a')\n",
            "('u', 'e', 'o', 'i', 'i')\n",
            "('u', 'e', 'o', 'i', 'u')\n",
            "('u', 'e', 'o', 'o', 'e')\n",
            "('u', 'e', 'o', 'o', 'o')\n",
            "('u', 'e', 'o', 'u', 'a')\n",
            "('u', 'e', 'o', 'u', 'i')\n",
            "('u', 'e', 'o', 'u', 'u')\n",
            "('u', 'e', 'u', 'a', 'e')\n",
            "('u', 'e', 'u', 'a', 'o')\n",
            "('u', 'e', 'u', 'e', 'a')\n",
            "('u', 'e', 'u', 'e', 'i')\n",
            "('u', 'e', 'u', 'e', 'u')\n",
            "('u', 'e', 'u', 'i', 'e')\n",
            "('u', 'e', 'u', 'i', 'o')\n",
            "('u', 'e', 'u', 'o', 'a')\n",
            "('u', 'e', 'u', 'o', 'i')\n",
            "('u', 'e', 'u', 'o', 'u')\n",
            "('u', 'e', 'u', 'u', 'e')\n",
            "('u', 'e', 'u', 'u', 'o')\n",
            "('u', 'i', 'a', 'a', 'a')\n",
            "('u', 'i', 'a', 'a', 'i')\n",
            "('u', 'i', 'a', 'a', 'u')\n",
            "('u', 'i', 'a', 'e', 'e')\n",
            "('u', 'i', 'a', 'e', 'o')\n",
            "('u', 'i', 'a', 'i', 'a')\n",
            "('u', 'i', 'a', 'i', 'i')\n",
            "('u', 'i', 'a', 'i', 'u')\n",
            "('u', 'i', 'a', 'o', 'e')\n",
            "('u', 'i', 'a', 'o', 'o')\n",
            "('u', 'i', 'a', 'u', 'a')\n",
            "('u', 'i', 'a', 'u', 'i')\n",
            "('u', 'i', 'a', 'u', 'u')\n",
            "('u', 'i', 'e', 'a', 'e')\n",
            "('u', 'i', 'e', 'a', 'o')\n",
            "('u', 'i', 'e', 'e', 'a')\n",
            "('u', 'i', 'e', 'e', 'i')\n",
            "('u', 'i', 'e', 'e', 'u')\n",
            "('u', 'i', 'e', 'i', 'e')\n",
            "('u', 'i', 'e', 'i', 'o')\n",
            "('u', 'i', 'e', 'o', 'a')\n",
            "('u', 'i', 'e', 'o', 'i')\n",
            "('u', 'i', 'e', 'o', 'u')\n",
            "('u', 'i', 'e', 'u', 'e')\n",
            "('u', 'i', 'e', 'u', 'o')\n",
            "('u', 'i', 'i', 'a', 'a')\n",
            "('u', 'i', 'i', 'a', 'i')\n",
            "('u', 'i', 'i', 'a', 'u')\n",
            "('u', 'i', 'i', 'e', 'e')\n",
            "('u', 'i', 'i', 'e', 'o')\n",
            "('u', 'i', 'i', 'i', 'a')\n",
            "('u', 'i', 'i', 'i', 'i')\n",
            "('u', 'i', 'i', 'i', 'u')\n",
            "('u', 'i', 'i', 'o', 'e')\n",
            "('u', 'i', 'i', 'o', 'o')\n",
            "('u', 'i', 'i', 'u', 'a')\n",
            "('u', 'i', 'i', 'u', 'i')\n",
            "('u', 'i', 'i', 'u', 'u')\n",
            "('u', 'i', 'o', 'a', 'e')\n",
            "('u', 'i', 'o', 'a', 'o')\n",
            "('u', 'i', 'o', 'e', 'a')\n",
            "('u', 'i', 'o', 'e', 'i')\n",
            "('u', 'i', 'o', 'e', 'u')\n",
            "('u', 'i', 'o', 'i', 'e')\n",
            "('u', 'i', 'o', 'i', 'o')\n",
            "('u', 'i', 'o', 'o', 'a')\n",
            "('u', 'i', 'o', 'o', 'i')\n",
            "('u', 'i', 'o', 'o', 'u')\n",
            "('u', 'i', 'o', 'u', 'e')\n",
            "('u', 'i', 'o', 'u', 'o')\n",
            "('u', 'i', 'u', 'a', 'a')\n",
            "('u', 'i', 'u', 'a', 'i')\n",
            "('u', 'i', 'u', 'a', 'u')\n",
            "('u', 'i', 'u', 'e', 'e')\n",
            "('u', 'i', 'u', 'e', 'o')\n",
            "('u', 'i', 'u', 'i', 'a')\n",
            "('u', 'i', 'u', 'i', 'i')\n",
            "('u', 'i', 'u', 'i', 'u')\n",
            "('u', 'i', 'u', 'o', 'e')\n",
            "('u', 'i', 'u', 'o', 'o')\n",
            "('u', 'i', 'u', 'u', 'a')\n",
            "('u', 'i', 'u', 'u', 'i')\n",
            "('u', 'i', 'u', 'u', 'u')\n",
            "('u', 'o', 'a', 'a', 'e')\n",
            "('u', 'o', 'a', 'a', 'o')\n",
            "('u', 'o', 'a', 'e', 'a')\n",
            "('u', 'o', 'a', 'e', 'i')\n",
            "('u', 'o', 'a', 'e', 'u')\n",
            "('u', 'o', 'a', 'i', 'e')\n",
            "('u', 'o', 'a', 'i', 'o')\n",
            "('u', 'o', 'a', 'o', 'a')\n",
            "('u', 'o', 'a', 'o', 'i')\n",
            "('u', 'o', 'a', 'o', 'u')\n",
            "('u', 'o', 'a', 'u', 'e')\n",
            "('u', 'o', 'a', 'u', 'o')\n",
            "('u', 'o', 'e', 'a', 'a')\n",
            "('u', 'o', 'e', 'a', 'i')\n",
            "('u', 'o', 'e', 'a', 'u')\n",
            "('u', 'o', 'e', 'e', 'e')\n",
            "('u', 'o', 'e', 'e', 'o')\n",
            "('u', 'o', 'e', 'i', 'a')\n",
            "('u', 'o', 'e', 'i', 'i')\n",
            "('u', 'o', 'e', 'i', 'u')\n",
            "('u', 'o', 'e', 'o', 'e')\n",
            "('u', 'o', 'e', 'o', 'o')\n",
            "('u', 'o', 'e', 'u', 'a')\n",
            "('u', 'o', 'e', 'u', 'i')\n",
            "('u', 'o', 'e', 'u', 'u')\n",
            "('u', 'o', 'i', 'a', 'e')\n",
            "('u', 'o', 'i', 'a', 'o')\n",
            "('u', 'o', 'i', 'e', 'a')\n",
            "('u', 'o', 'i', 'e', 'i')\n",
            "('u', 'o', 'i', 'e', 'u')\n",
            "('u', 'o', 'i', 'i', 'e')\n",
            "('u', 'o', 'i', 'i', 'o')\n",
            "('u', 'o', 'i', 'o', 'a')\n",
            "('u', 'o', 'i', 'o', 'i')\n",
            "('u', 'o', 'i', 'o', 'u')\n",
            "('u', 'o', 'i', 'u', 'e')\n",
            "('u', 'o', 'i', 'u', 'o')\n",
            "('u', 'o', 'o', 'a', 'a')\n",
            "('u', 'o', 'o', 'a', 'i')\n",
            "('u', 'o', 'o', 'a', 'u')\n",
            "('u', 'o', 'o', 'e', 'e')\n",
            "('u', 'o', 'o', 'e', 'o')\n",
            "('u', 'o', 'o', 'i', 'a')\n",
            "('u', 'o', 'o', 'i', 'i')\n",
            "('u', 'o', 'o', 'i', 'u')\n",
            "('u', 'o', 'o', 'o', 'e')\n",
            "('u', 'o', 'o', 'o', 'o')\n",
            "('u', 'o', 'o', 'u', 'a')\n",
            "('u', 'o', 'o', 'u', 'i')\n",
            "('u', 'o', 'o', 'u', 'u')\n",
            "('u', 'o', 'u', 'a', 'e')\n",
            "('u', 'o', 'u', 'a', 'o')\n",
            "('u', 'o', 'u', 'e', 'a')\n",
            "('u', 'o', 'u', 'e', 'i')\n",
            "('u', 'o', 'u', 'e', 'u')\n",
            "('u', 'o', 'u', 'i', 'e')\n",
            "('u', 'o', 'u', 'i', 'o')\n",
            "('u', 'o', 'u', 'o', 'a')\n",
            "('u', 'o', 'u', 'o', 'i')\n",
            "('u', 'o', 'u', 'o', 'u')\n",
            "('u', 'o', 'u', 'u', 'e')\n",
            "('u', 'o', 'u', 'u', 'o')\n",
            "('e', 'a', 'a', 'a', 'e')\n",
            "('e', 'a', 'a', 'e', 'a')\n",
            "('e', 'a', 'a', 'e', 'u')\n",
            "('e', 'a', 'a', 'i', 'o')\n",
            "('e', 'a', 'a', 'o', 'i')\n",
            "('e', 'a', 'a', 'u', 'e')\n",
            "('e', 'a', 'e', 'a', 'a')\n",
            "('e', 'a', 'e', 'a', 'u')\n",
            "('e', 'a', 'e', 'e', 'o')\n",
            "('e', 'a', 'e', 'i', 'i')\n",
            "('e', 'a', 'e', 'o', 'e')\n",
            "('e', 'a', 'e', 'u', 'a')\n",
            "('e', 'a', 'e', 'u', 'u')\n",
            "('e', 'a', 'i', 'a', 'o')\n",
            "('e', 'a', 'i', 'e', 'i')\n",
            "('e', 'a', 'i', 'i', 'e')\n",
            "('e', 'a', 'i', 'o', 'a')\n",
            "('e', 'a', 'i', 'o', 'u')\n",
            "('e', 'a', 'i', 'u', 'o')\n",
            "('e', 'a', 'o', 'a', 'i')\n",
            "('e', 'a', 'o', 'e', 'e')\n",
            "('e', 'a', 'o', 'i', 'a')\n",
            "('e', 'a', 'o', 'i', 'u')\n",
            "('e', 'a', 'o', 'o', 'o')\n",
            "('e', 'a', 'o', 'u', 'i')\n",
            "('e', 'a', 'u', 'a', 'e')\n",
            "('e', 'a', 'u', 'e', 'a')\n",
            "('e', 'a', 'u', 'e', 'u')\n",
            "('e', 'a', 'u', 'i', 'o')\n",
            "('e', 'a', 'u', 'o', 'i')\n",
            "('e', 'a', 'u', 'u', 'e')\n",
            "('i', 'a', 'a', 'a', 'e')\n",
            "('i', 'a', 'a', 'e', 'a')\n",
            "('i', 'a', 'a', 'e', 'u')\n",
            "('i', 'a', 'a', 'i', 'o')\n",
            "('i', 'a', 'a', 'o', 'i')\n",
            "('i', 'a', 'a', 'u', 'e')\n",
            "('i', 'a', 'e', 'a', 'a')\n",
            "('i', 'a', 'e', 'a', 'u')\n",
            "('i', 'a', 'e', 'e', 'o')\n",
            "('i', 'a', 'e', 'i', 'i')\n",
            "('i', 'a', 'e', 'o', 'e')\n",
            "('i', 'a', 'e', 'u', 'a')\n",
            "('i', 'a', 'e', 'u', 'u')\n",
            "('i', 'a', 'i', 'a', 'o')\n",
            "('i', 'a', 'i', 'e', 'i')\n",
            "('i', 'a', 'i', 'i', 'e')\n",
            "('i', 'a', 'i', 'o', 'a')\n",
            "('i', 'a', 'i', 'o', 'u')\n",
            "('i', 'a', 'i', 'u', 'o')\n",
            "('i', 'a', 'o', 'a', 'i')\n",
            "('i', 'a', 'o', 'e', 'e')\n",
            "('i', 'a', 'o', 'i', 'a')\n",
            "('i', 'a', 'o', 'i', 'u')\n",
            "('i', 'a', 'o', 'o', 'o')\n",
            "('i', 'a', 'o', 'u', 'i')\n",
            "('i', 'a', 'u', 'a', 'e')\n",
            "('i', 'a', 'u', 'e', 'a')\n",
            "('i', 'a', 'u', 'e', 'u')\n",
            "('i', 'a', 'u', 'i', 'o')\n",
            "('i', 'a', 'u', 'o', 'i')\n",
            "('i', 'a', 'u', 'u', 'e')\n",
            "('i', 'e', 'a', 'a', 'a')\n",
            "('i', 'e', 'a', 'a', 'u')\n",
            "('i', 'e', 'a', 'e', 'o')\n",
            "('i', 'e', 'a', 'i', 'i')\n",
            "('i', 'e', 'a', 'o', 'e')\n",
            "('i', 'e', 'a', 'u', 'a')\n",
            "('i', 'e', 'a', 'u', 'u')\n",
            "('i', 'e', 'e', 'a', 'o')\n",
            "('i', 'e', 'e', 'e', 'i')\n",
            "('i', 'e', 'e', 'i', 'e')\n",
            "('i', 'e', 'e', 'o', 'a')\n",
            "('i', 'e', 'e', 'o', 'u')\n",
            "('i', 'e', 'e', 'u', 'o')\n",
            "('i', 'e', 'i', 'a', 'i')\n",
            "('i', 'e', 'i', 'e', 'e')\n",
            "('i', 'e', 'i', 'i', 'a')\n",
            "('i', 'e', 'i', 'i', 'u')\n",
            "('i', 'e', 'i', 'o', 'o')\n",
            "('i', 'e', 'i', 'u', 'i')\n",
            "('i', 'e', 'o', 'a', 'e')\n",
            "('i', 'e', 'o', 'e', 'a')\n",
            "('i', 'e', 'o', 'e', 'u')\n",
            "('i', 'e', 'o', 'i', 'o')\n",
            "('i', 'e', 'o', 'o', 'i')\n",
            "('i', 'e', 'o', 'u', 'e')\n",
            "('i', 'e', 'u', 'a', 'a')\n",
            "('i', 'e', 'u', 'a', 'u')\n",
            "('i', 'e', 'u', 'e', 'o')\n",
            "('i', 'e', 'u', 'i', 'i')\n",
            "('i', 'e', 'u', 'o', 'e')\n",
            "('i', 'e', 'u', 'u', 'a')\n",
            "('i', 'e', 'u', 'u', 'u')\n",
            "('o', 'a', 'a', 'a', 'e')\n",
            "('o', 'a', 'a', 'e', 'a')\n",
            "('o', 'a', 'a', 'e', 'u')\n",
            "('o', 'a', 'a', 'i', 'o')\n",
            "('o', 'a', 'a', 'o', 'i')\n",
            "('o', 'a', 'a', 'u', 'e')\n",
            "('o', 'a', 'e', 'a', 'a')\n",
            "('o', 'a', 'e', 'a', 'u')\n",
            "('o', 'a', 'e', 'e', 'o')\n",
            "('o', 'a', 'e', 'i', 'i')\n",
            "('o', 'a', 'e', 'o', 'e')\n",
            "('o', 'a', 'e', 'u', 'a')\n",
            "('o', 'a', 'e', 'u', 'u')\n",
            "('o', 'a', 'i', 'a', 'o')\n",
            "('o', 'a', 'i', 'e', 'i')\n",
            "('o', 'a', 'i', 'i', 'e')\n",
            "('o', 'a', 'i', 'o', 'a')\n",
            "('o', 'a', 'i', 'o', 'u')\n",
            "('o', 'a', 'i', 'u', 'o')\n",
            "('o', 'a', 'o', 'a', 'i')\n",
            "('o', 'a', 'o', 'e', 'e')\n",
            "('o', 'a', 'o', 'i', 'a')\n",
            "('o', 'a', 'o', 'i', 'u')\n",
            "('o', 'a', 'o', 'o', 'o')\n",
            "('o', 'a', 'o', 'u', 'i')\n",
            "('o', 'a', 'u', 'a', 'e')\n",
            "('o', 'a', 'u', 'e', 'a')\n",
            "('o', 'a', 'u', 'e', 'u')\n",
            "('o', 'a', 'u', 'i', 'o')\n",
            "('o', 'a', 'u', 'o', 'i')\n",
            "('o', 'a', 'u', 'u', 'e')\n",
            "('o', 'e', 'a', 'a', 'a')\n",
            "('o', 'e', 'a', 'a', 'u')\n",
            "('o', 'e', 'a', 'e', 'o')\n",
            "('o', 'e', 'a', 'i', 'i')\n",
            "('o', 'e', 'a', 'o', 'e')\n",
            "('o', 'e', 'a', 'u', 'a')\n",
            "('o', 'e', 'a', 'u', 'u')\n",
            "('o', 'e', 'e', 'a', 'o')\n",
            "('o', 'e', 'e', 'e', 'i')\n",
            "('o', 'e', 'e', 'i', 'e')\n",
            "('o', 'e', 'e', 'o', 'a')\n",
            "('o', 'e', 'e', 'o', 'u')\n",
            "('o', 'e', 'e', 'u', 'o')\n",
            "('o', 'e', 'i', 'a', 'i')\n",
            "('o', 'e', 'i', 'e', 'e')\n",
            "('o', 'e', 'i', 'i', 'a')\n",
            "('o', 'e', 'i', 'i', 'u')\n",
            "('o', 'e', 'i', 'o', 'o')\n",
            "('o', 'e', 'i', 'u', 'i')\n",
            "('o', 'e', 'o', 'a', 'e')\n",
            "('o', 'e', 'o', 'e', 'a')\n",
            "('o', 'e', 'o', 'e', 'u')\n",
            "('o', 'e', 'o', 'i', 'o')\n",
            "('o', 'e', 'o', 'o', 'i')\n",
            "('o', 'e', 'o', 'u', 'e')\n",
            "('o', 'e', 'u', 'a', 'a')\n",
            "('o', 'e', 'u', 'a', 'u')\n",
            "('o', 'e', 'u', 'e', 'o')\n",
            "('o', 'e', 'u', 'i', 'i')\n",
            "('o', 'e', 'u', 'o', 'e')\n",
            "('o', 'e', 'u', 'u', 'a')\n",
            "('o', 'e', 'u', 'u', 'u')\n",
            "('o', 'i', 'a', 'a', 'o')\n",
            "('o', 'i', 'a', 'e', 'i')\n",
            "('o', 'i', 'a', 'i', 'e')\n",
            "('o', 'i', 'a', 'o', 'a')\n",
            "('o', 'i', 'a', 'o', 'u')\n",
            "('o', 'i', 'a', 'u', 'o')\n",
            "('o', 'i', 'e', 'a', 'i')\n",
            "('o', 'i', 'e', 'e', 'e')\n",
            "('o', 'i', 'e', 'i', 'a')\n",
            "('o', 'i', 'e', 'i', 'u')\n",
            "('o', 'i', 'e', 'o', 'o')\n",
            "('o', 'i', 'e', 'u', 'i')\n",
            "('o', 'i', 'i', 'a', 'e')\n",
            "('o', 'i', 'i', 'e', 'a')\n",
            "('o', 'i', 'i', 'e', 'u')\n",
            "('o', 'i', 'i', 'i', 'o')\n",
            "('o', 'i', 'i', 'o', 'i')\n",
            "('o', 'i', 'i', 'u', 'e')\n",
            "('o', 'i', 'o', 'a', 'a')\n",
            "('o', 'i', 'o', 'a', 'u')\n",
            "('o', 'i', 'o', 'e', 'o')\n",
            "('o', 'i', 'o', 'i', 'i')\n",
            "('o', 'i', 'o', 'o', 'e')\n",
            "('o', 'i', 'o', 'u', 'a')\n",
            "('o', 'i', 'o', 'u', 'u')\n",
            "('o', 'i', 'u', 'a', 'o')\n",
            "('o', 'i', 'u', 'e', 'i')\n",
            "('o', 'i', 'u', 'i', 'e')\n",
            "('o', 'i', 'u', 'o', 'a')\n",
            "('o', 'i', 'u', 'o', 'u')\n",
            "('o', 'i', 'u', 'u', 'o')\n",
            "('u', 'a', 'a', 'a', 'e')\n",
            "('u', 'a', 'a', 'e', 'a')\n",
            "('u', 'a', 'a', 'e', 'u')\n",
            "('u', 'a', 'a', 'i', 'o')\n",
            "('u', 'a', 'a', 'o', 'i')\n",
            "('u', 'a', 'a', 'u', 'e')\n",
            "('u', 'a', 'e', 'a', 'a')\n",
            "('u', 'a', 'e', 'a', 'u')\n",
            "('u', 'a', 'e', 'e', 'o')\n",
            "('u', 'a', 'e', 'i', 'i')\n",
            "('u', 'a', 'e', 'o', 'e')\n",
            "('u', 'a', 'e', 'u', 'a')\n",
            "('u', 'a', 'e', 'u', 'u')\n",
            "('u', 'a', 'i', 'a', 'o')\n",
            "('u', 'a', 'i', 'e', 'i')\n",
            "('u', 'a', 'i', 'i', 'e')\n",
            "('u', 'a', 'i', 'o', 'a')\n",
            "('u', 'a', 'i', 'o', 'u')\n",
            "('u', 'a', 'i', 'u', 'o')\n",
            "('u', 'a', 'o', 'a', 'i')\n",
            "('u', 'a', 'o', 'e', 'e')\n",
            "('u', 'a', 'o', 'i', 'a')\n",
            "('u', 'a', 'o', 'i', 'u')\n",
            "('u', 'a', 'o', 'o', 'o')\n",
            "('u', 'a', 'o', 'u', 'i')\n",
            "('u', 'a', 'u', 'a', 'e')\n",
            "('u', 'a', 'u', 'e', 'a')\n",
            "('u', 'a', 'u', 'e', 'u')\n",
            "('u', 'a', 'u', 'i', 'o')\n",
            "('u', 'a', 'u', 'o', 'i')\n",
            "('u', 'a', 'u', 'u', 'e')\n",
            "('u', 'e', 'a', 'a', 'a')\n",
            "('u', 'e', 'a', 'a', 'u')\n",
            "('u', 'e', 'a', 'e', 'o')\n",
            "('u', 'e', 'a', 'i', 'i')\n",
            "('u', 'e', 'a', 'o', 'e')\n",
            "('u', 'e', 'a', 'u', 'a')\n",
            "('u', 'e', 'a', 'u', 'u')\n",
            "('u', 'e', 'e', 'a', 'o')\n",
            "('u', 'e', 'e', 'e', 'i')\n",
            "('u', 'e', 'e', 'i', 'e')\n",
            "('u', 'e', 'e', 'o', 'a')\n",
            "('u', 'e', 'e', 'o', 'u')\n",
            "('u', 'e', 'e', 'u', 'o')\n",
            "('u', 'e', 'i', 'a', 'i')\n",
            "('u', 'e', 'i', 'e', 'e')\n",
            "('u', 'e', 'i', 'i', 'a')\n",
            "('u', 'e', 'i', 'i', 'u')\n",
            "('u', 'e', 'i', 'o', 'o')\n",
            "('u', 'e', 'i', 'u', 'i')\n",
            "('u', 'e', 'o', 'a', 'e')\n",
            "('u', 'e', 'o', 'e', 'a')\n",
            "('u', 'e', 'o', 'e', 'u')\n",
            "('u', 'e', 'o', 'i', 'o')\n",
            "('u', 'e', 'o', 'o', 'i')\n",
            "('u', 'e', 'o', 'u', 'e')\n",
            "('u', 'e', 'u', 'a', 'a')\n",
            "('u', 'e', 'u', 'a', 'u')\n",
            "('u', 'e', 'u', 'e', 'o')\n",
            "('u', 'e', 'u', 'i', 'i')\n",
            "('u', 'e', 'u', 'o', 'e')\n",
            "('u', 'e', 'u', 'u', 'a')\n",
            "('u', 'e', 'u', 'u', 'u')\n",
            "('u', 'i', 'a', 'a', 'o')\n",
            "('u', 'i', 'a', 'e', 'i')\n",
            "('u', 'i', 'a', 'i', 'e')\n",
            "('u', 'i', 'a', 'o', 'a')\n",
            "('u', 'i', 'a', 'o', 'u')\n",
            "('u', 'i', 'a', 'u', 'o')\n",
            "('u', 'i', 'e', 'a', 'i')\n",
            "('u', 'i', 'e', 'e', 'e')\n",
            "('u', 'i', 'e', 'i', 'a')\n",
            "('u', 'i', 'e', 'i', 'u')\n",
            "('u', 'i', 'e', 'o', 'o')\n",
            "('u', 'i', 'e', 'u', 'i')\n",
            "('u', 'i', 'i', 'a', 'e')\n",
            "('u', 'i', 'i', 'e', 'a')\n",
            "('u', 'i', 'i', 'e', 'u')\n",
            "('u', 'i', 'i', 'i', 'o')\n",
            "('u', 'i', 'i', 'o', 'i')\n",
            "('u', 'i', 'i', 'u', 'e')\n",
            "('u', 'i', 'o', 'a', 'a')\n",
            "('u', 'i', 'o', 'a', 'u')\n",
            "('u', 'i', 'o', 'e', 'o')\n",
            "('u', 'i', 'o', 'i', 'i')\n",
            "('u', 'i', 'o', 'o', 'e')\n",
            "('u', 'i', 'o', 'u', 'a')\n",
            "('u', 'i', 'o', 'u', 'u')\n",
            "('u', 'i', 'u', 'a', 'o')\n",
            "('u', 'i', 'u', 'e', 'i')\n",
            "('u', 'i', 'u', 'i', 'e')\n",
            "('u', 'i', 'u', 'o', 'a')\n",
            "('u', 'i', 'u', 'o', 'u')\n",
            "('u', 'i', 'u', 'u', 'o')\n",
            "('u', 'o', 'a', 'a', 'i')\n",
            "('u', 'o', 'a', 'e', 'e')\n",
            "('u', 'o', 'a', 'i', 'a')\n",
            "('u', 'o', 'a', 'i', 'u')\n",
            "('u', 'o', 'a', 'o', 'o')\n",
            "('u', 'o', 'a', 'u', 'i')\n",
            "('u', 'o', 'e', 'a', 'e')\n",
            "('u', 'o', 'e', 'e', 'a')\n",
            "('u', 'o', 'e', 'e', 'u')\n",
            "('u', 'o', 'e', 'i', 'o')\n",
            "('u', 'o', 'e', 'o', 'i')\n",
            "('u', 'o', 'e', 'u', 'e')\n",
            "('u', 'o', 'i', 'a', 'a')\n",
            "('u', 'o', 'i', 'a', 'u')\n",
            "('u', 'o', 'i', 'e', 'o')\n",
            "('u', 'o', 'i', 'i', 'i')\n",
            "('u', 'o', 'i', 'o', 'e')\n",
            "('u', 'o', 'i', 'u', 'a')\n",
            "('u', 'o', 'i', 'u', 'u')\n",
            "('u', 'o', 'o', 'a', 'o')\n",
            "('u', 'o', 'o', 'e', 'i')\n",
            "('u', 'o', 'o', 'i', 'e')\n",
            "('u', 'o', 'o', 'o', 'a')\n",
            "('u', 'o', 'o', 'o', 'u')\n",
            "('u', 'o', 'o', 'u', 'o')\n",
            "('u', 'o', 'u', 'a', 'i')\n",
            "('u', 'o', 'u', 'e', 'e')\n",
            "('u', 'o', 'u', 'i', 'a')\n",
            "('u', 'o', 'u', 'i', 'u')\n",
            "('u', 'o', 'u', 'o', 'o')\n",
            "('u', 'o', 'u', 'u', 'i')\n",
            "('e', 'a', 'a', 'a', 'o')\n",
            "('e', 'a', 'a', 'i', 'e')\n",
            "('e', 'a', 'a', 'o', 'u')\n",
            "('e', 'a', 'e', 'a', 'i')\n",
            "('e', 'a', 'e', 'i', 'a')\n",
            "('e', 'a', 'e', 'o', 'o')\n",
            "('e', 'a', 'i', 'a', 'e')\n",
            "('e', 'a', 'i', 'e', 'u')\n",
            "('e', 'a', 'i', 'o', 'i')\n",
            "('e', 'a', 'o', 'a', 'a')\n",
            "('e', 'a', 'o', 'e', 'o')\n",
            "('e', 'a', 'o', 'o', 'e')\n",
            "('e', 'a', 'o', 'u', 'u')\n",
            "('e', 'a', 'u', 'e', 'i')\n",
            "('e', 'a', 'u', 'o', 'a')\n",
            "('e', 'a', 'u', 'u', 'o')\n",
            "('i', 'a', 'a', 'a', 'o')\n",
            "('i', 'a', 'a', 'i', 'e')\n",
            "('i', 'a', 'a', 'o', 'u')\n",
            "('i', 'a', 'e', 'a', 'i')\n",
            "('i', 'a', 'e', 'i', 'a')\n",
            "('i', 'a', 'e', 'o', 'o')\n",
            "('i', 'a', 'i', 'a', 'e')\n",
            "('i', 'a', 'i', 'e', 'u')\n",
            "('i', 'a', 'i', 'o', 'i')\n",
            "('i', 'a', 'o', 'a', 'a')\n",
            "('i', 'a', 'o', 'e', 'o')\n",
            "('i', 'a', 'o', 'o', 'e')\n",
            "('i', 'a', 'o', 'u', 'u')\n",
            "('i', 'a', 'u', 'e', 'i')\n",
            "('i', 'a', 'u', 'o', 'a')\n",
            "('i', 'a', 'u', 'u', 'o')\n",
            "('i', 'e', 'a', 'e', 'e')\n",
            "('i', 'e', 'a', 'i', 'u')\n",
            "('i', 'e', 'a', 'u', 'i')\n",
            "('i', 'e', 'e', 'e', 'a')\n",
            "('i', 'e', 'e', 'i', 'o')\n",
            "('i', 'e', 'e', 'u', 'e')\n",
            "('i', 'e', 'i', 'a', 'u')\n",
            "('i', 'e', 'i', 'i', 'i')\n",
            "('i', 'e', 'i', 'u', 'a')\n",
            "('i', 'e', 'o', 'a', 'o')\n",
            "('i', 'e', 'o', 'i', 'e')\n",
            "('i', 'e', 'o', 'o', 'u')\n",
            "('i', 'e', 'u', 'a', 'i')\n",
            "('i', 'e', 'u', 'i', 'a')\n",
            "('i', 'e', 'u', 'o', 'o')\n",
            "('o', 'a', 'a', 'a', 'o')\n",
            "('o', 'a', 'a', 'i', 'e')\n",
            "('o', 'a', 'a', 'o', 'u')\n",
            "('o', 'a', 'e', 'a', 'i')\n",
            "('o', 'a', 'e', 'i', 'a')\n",
            "('o', 'a', 'e', 'o', 'o')\n",
            "('o', 'a', 'i', 'a', 'e')\n",
            "('o', 'a', 'i', 'e', 'u')\n",
            "('o', 'a', 'i', 'o', 'i')\n",
            "('o', 'a', 'o', 'a', 'a')\n",
            "('o', 'a', 'o', 'e', 'o')\n",
            "('o', 'a', 'o', 'o', 'e')\n",
            "('o', 'a', 'o', 'u', 'u')\n",
            "('o', 'a', 'u', 'e', 'i')\n",
            "('o', 'a', 'u', 'o', 'a')\n",
            "('o', 'a', 'u', 'u', 'o')\n",
            "('o', 'e', 'a', 'e', 'e')\n",
            "('o', 'e', 'a', 'i', 'u')\n",
            "('o', 'e', 'a', 'u', 'i')\n",
            "('o', 'e', 'e', 'e', 'a')\n",
            "('o', 'e', 'e', 'i', 'o')\n",
            "('o', 'e', 'e', 'u', 'e')\n",
            "('o', 'e', 'i', 'a', 'u')\n",
            "('o', 'e', 'i', 'i', 'i')\n",
            "('o', 'e', 'i', 'u', 'a')\n",
            "('o', 'e', 'o', 'a', 'o')\n",
            "('o', 'e', 'o', 'i', 'e')\n",
            "('o', 'e', 'o', 'o', 'u')\n",
            "('o', 'e', 'u', 'a', 'i')\n",
            "('o', 'e', 'u', 'i', 'a')\n",
            "('o', 'e', 'u', 'o', 'o')\n",
            "('o', 'i', 'a', 'a', 'e')\n",
            "('o', 'i', 'a', 'e', 'u')\n",
            "('o', 'i', 'a', 'o', 'i')\n",
            "('o', 'i', 'e', 'a', 'a')\n",
            "('o', 'i', 'e', 'e', 'o')\n",
            "('o', 'i', 'e', 'o', 'e')\n",
            "('o', 'i', 'e', 'u', 'u')\n",
            "('o', 'i', 'i', 'e', 'i')\n",
            "('o', 'i', 'i', 'o', 'a')\n",
            "('o', 'i', 'i', 'u', 'o')\n",
            "('o', 'i', 'o', 'e', 'e')\n",
            "('o', 'i', 'o', 'i', 'u')\n",
            "('o', 'i', 'o', 'u', 'i')\n",
            "('o', 'i', 'u', 'e', 'a')\n",
            "('o', 'i', 'u', 'i', 'o')\n",
            "('o', 'i', 'u', 'u', 'e')\n",
            "('u', 'a', 'a', 'a', 'o')\n",
            "('u', 'a', 'a', 'i', 'e')\n",
            "('u', 'a', 'a', 'o', 'u')\n",
            "('u', 'a', 'e', 'a', 'i')\n",
            "('u', 'a', 'e', 'i', 'a')\n",
            "('u', 'a', 'e', 'o', 'o')\n",
            "('u', 'a', 'i', 'a', 'e')\n",
            "('u', 'a', 'i', 'e', 'u')\n",
            "('u', 'a', 'i', 'o', 'i')\n",
            "('u', 'a', 'o', 'a', 'a')\n",
            "('u', 'a', 'o', 'e', 'o')\n",
            "('u', 'a', 'o', 'o', 'e')\n",
            "('u', 'a', 'o', 'u', 'u')\n",
            "('u', 'a', 'u', 'e', 'i')\n",
            "('u', 'a', 'u', 'o', 'a')\n",
            "('u', 'a', 'u', 'u', 'o')\n",
            "('u', 'e', 'a', 'e', 'e')\n",
            "('u', 'e', 'a', 'i', 'u')\n",
            "('u', 'e', 'a', 'u', 'i')\n",
            "('u', 'e', 'e', 'e', 'a')\n",
            "('u', 'e', 'e', 'i', 'o')\n",
            "('u', 'e', 'e', 'u', 'e')\n",
            "('u', 'e', 'i', 'a', 'u')\n",
            "('u', 'e', 'i', 'i', 'i')\n",
            "('u', 'e', 'i', 'u', 'a')\n",
            "('u', 'e', 'o', 'a', 'o')\n",
            "('u', 'e', 'o', 'i', 'e')\n",
            "('u', 'e', 'o', 'o', 'u')\n",
            "('u', 'e', 'u', 'a', 'i')\n",
            "('u', 'e', 'u', 'i', 'a')\n",
            "('u', 'e', 'u', 'o', 'o')\n",
            "('u', 'i', 'a', 'a', 'e')\n",
            "('u', 'i', 'a', 'e', 'u')\n",
            "('u', 'i', 'a', 'o', 'i')\n",
            "('u', 'i', 'e', 'a', 'a')\n",
            "('u', 'i', 'e', 'e', 'o')\n",
            "('u', 'i', 'e', 'o', 'e')\n",
            "('u', 'i', 'e', 'u', 'u')\n",
            "('u', 'i', 'i', 'e', 'i')\n",
            "('u', 'i', 'i', 'o', 'a')\n",
            "('u', 'i', 'i', 'u', 'o')\n",
            "('u', 'i', 'o', 'e', 'e')\n",
            "('u', 'i', 'o', 'i', 'u')\n",
            "('u', 'i', 'o', 'u', 'i')\n",
            "('u', 'i', 'u', 'e', 'a')\n",
            "('u', 'i', 'u', 'i', 'o')\n",
            "('u', 'i', 'u', 'u', 'e')\n",
            "('u', 'o', 'a', 'a', 'u')\n",
            "('u', 'o', 'a', 'i', 'i')\n",
            "('u', 'o', 'a', 'u', 'a')\n",
            "('u', 'o', 'e', 'a', 'o')\n",
            "('u', 'o', 'e', 'i', 'e')\n",
            "('u', 'o', 'e', 'o', 'u')\n",
            "('u', 'o', 'i', 'a', 'i')\n",
            "('u', 'o', 'i', 'i', 'a')\n",
            "('u', 'o', 'i', 'o', 'o')\n",
            "('u', 'o', 'o', 'a', 'e')\n",
            "('u', 'o', 'o', 'e', 'u')\n",
            "('u', 'o', 'o', 'o', 'i')\n",
            "('u', 'o', 'u', 'a', 'a')\n",
            "('u', 'o', 'u', 'e', 'o')\n",
            "('u', 'o', 'u', 'o', 'e')\n",
            "('u', 'o', 'u', 'u', 'u')\n",
            "('e', 'a', 'a', 'e', 'i')\n",
            "('e', 'a', 'a', 'u', 'o')\n",
            "('e', 'a', 'e', 'i', 'u')\n",
            "('e', 'a', 'i', 'e', 'a')\n",
            "('e', 'a', 'i', 'u', 'e')\n",
            "('e', 'a', 'o', 'i', 'i')\n",
            "('e', 'a', 'u', 'a', 'o')\n",
            "('e', 'a', 'u', 'o', 'u')\n",
            "('i', 'a', 'a', 'e', 'i')\n",
            "('i', 'a', 'a', 'u', 'o')\n",
            "('i', 'a', 'e', 'i', 'u')\n",
            "('i', 'a', 'i', 'e', 'a')\n",
            "('i', 'a', 'i', 'u', 'e')\n",
            "('i', 'a', 'o', 'i', 'i')\n",
            "('i', 'a', 'u', 'a', 'o')\n",
            "('i', 'a', 'u', 'o', 'u')\n",
            "('i', 'e', 'a', 'i', 'a')\n",
            "('i', 'e', 'e', 'a', 'e')\n",
            "('i', 'e', 'e', 'o', 'i')\n",
            "('i', 'e', 'i', 'e', 'o')\n",
            "('i', 'e', 'i', 'u', 'u')\n",
            "('i', 'e', 'o', 'o', 'a')\n",
            "('i', 'e', 'u', 'e', 'e')\n",
            "('i', 'e', 'u', 'u', 'i')\n",
            "('o', 'a', 'a', 'e', 'i')\n",
            "('o', 'a', 'a', 'u', 'o')\n",
            "('o', 'a', 'e', 'i', 'u')\n",
            "('o', 'a', 'i', 'e', 'a')\n",
            "('o', 'a', 'i', 'u', 'e')\n",
            "('o', 'a', 'o', 'i', 'i')\n",
            "('o', 'a', 'u', 'a', 'o')\n",
            "('o', 'a', 'u', 'o', 'u')\n",
            "('o', 'e', 'a', 'i', 'a')\n",
            "('o', 'e', 'e', 'a', 'e')\n",
            "('o', 'e', 'e', 'o', 'i')\n",
            "('o', 'e', 'i', 'e', 'o')\n",
            "('o', 'e', 'i', 'u', 'u')\n",
            "('o', 'e', 'o', 'o', 'a')\n",
            "('o', 'e', 'u', 'e', 'e')\n",
            "('o', 'e', 'u', 'u', 'i')\n",
            "('o', 'i', 'a', 'i', 'o')\n",
            "('o', 'i', 'e', 'a', 'u')\n",
            "('o', 'i', 'e', 'u', 'a')\n",
            "('o', 'i', 'i', 'i', 'e')\n",
            "('o', 'i', 'o', 'a', 'i')\n",
            "('o', 'i', 'o', 'o', 'o')\n",
            "('o', 'i', 'u', 'e', 'u')\n",
            "('u', 'a', 'a', 'e', 'i')\n",
            "('u', 'a', 'a', 'u', 'o')\n",
            "('u', 'a', 'e', 'i', 'u')\n",
            "('u', 'a', 'i', 'e', 'a')\n",
            "('u', 'a', 'i', 'u', 'e')\n",
            "('u', 'a', 'o', 'i', 'i')\n",
            "('u', 'a', 'u', 'a', 'o')\n",
            "('u', 'a', 'u', 'o', 'u')\n",
            "('u', 'e', 'a', 'i', 'a')\n",
            "('u', 'e', 'e', 'a', 'e')\n",
            "('u', 'e', 'e', 'o', 'i')\n",
            "('u', 'e', 'i', 'e', 'o')\n",
            "('u', 'e', 'i', 'u', 'u')\n",
            "('u', 'e', 'o', 'o', 'a')\n",
            "('u', 'e', 'u', 'e', 'e')\n",
            "('u', 'e', 'u', 'u', 'i')\n",
            "('u', 'i', 'a', 'i', 'o')\n",
            "('u', 'i', 'e', 'a', 'u')\n",
            "('u', 'i', 'e', 'u', 'a')\n",
            "('u', 'i', 'i', 'i', 'e')\n",
            "('u', 'i', 'o', 'a', 'i')\n",
            "('u', 'i', 'o', 'o', 'o')\n",
            "('u', 'i', 'u', 'e', 'u')\n",
            "('u', 'o', 'a', 'a', 'a')\n",
            "('u', 'o', 'a', 'o', 'e')\n",
            "('u', 'o', 'e', 'e', 'i')\n",
            "('u', 'o', 'e', 'u', 'o')\n",
            "('u', 'o', 'i', 'i', 'u')\n",
            "('u', 'o', 'o', 'e', 'a')\n",
            "('u', 'o', 'o', 'u', 'e')\n",
            "('u', 'o', 'u', 'i', 'i')\n",
            "('e', 'a', 'a', 'o', 'a')\n",
            "('e', 'a', 'e', 'u', 'i')\n",
            "('e', 'a', 'o', 'a', 'u')\n",
            "('e', 'a', 'u', 'i', 'e')\n",
            "('i', 'a', 'a', 'o', 'a')\n",
            "('i', 'a', 'e', 'u', 'i')\n",
            "('i', 'a', 'o', 'a', 'u')\n",
            "('i', 'a', 'u', 'i', 'e')\n",
            "('i', 'e', 'a', 'o', 'o')\n",
            "('i', 'e', 'i', 'a', 'a')\n",
            "('i', 'e', 'o', 'e', 'i')\n",
            "('i', 'e', 'u', 'i', 'u')\n",
            "('o', 'a', 'a', 'o', 'a')\n",
            "('o', 'a', 'e', 'u', 'i')\n",
            "('o', 'a', 'o', 'a', 'u')\n",
            "('o', 'a', 'u', 'i', 'e')\n",
            "('o', 'e', 'a', 'o', 'o')\n",
            "('o', 'e', 'i', 'a', 'a')\n",
            "('o', 'e', 'o', 'e', 'i')\n",
            "('o', 'e', 'u', 'i', 'u')\n",
            "('o', 'i', 'a', 'u', 'e')\n",
            "('o', 'i', 'i', 'a', 'o')\n",
            "('o', 'i', 'o', 'i', 'a')\n",
            "('o', 'i', 'u', 'o', 'i')\n",
            "('u', 'a', 'a', 'o', 'a')\n",
            "('u', 'a', 'e', 'u', 'i')\n",
            "('u', 'a', 'o', 'a', 'u')\n",
            "('u', 'a', 'u', 'i', 'e')\n",
            "('u', 'e', 'a', 'o', 'o')\n",
            "('u', 'e', 'i', 'a', 'a')\n",
            "('u', 'e', 'o', 'e', 'i')\n",
            "('u', 'e', 'u', 'i', 'u')\n",
            "('u', 'i', 'a', 'u', 'e')\n",
            "('u', 'i', 'i', 'a', 'o')\n",
            "('u', 'i', 'o', 'i', 'a')\n",
            "('u', 'i', 'u', 'o', 'i')\n",
            "('u', 'o', 'a', 'u', 'u')\n",
            "('u', 'o', 'i', 'e', 'e')\n",
            "('u', 'o', 'o', 'i', 'o')\n",
            "('u', 'o', 'u', 'u', 'a')\n",
            "('e', 'a', 'e', 'e', 'e')\n",
            "('e', 'a', 'o', 'u', 'a')\n",
            "('i', 'a', 'e', 'e', 'e')\n",
            "('i', 'a', 'o', 'u', 'a')\n",
            "('i', 'e', 'e', 'e', 'u')\n",
            "('i', 'e', 'o', 'u', 'o')\n",
            "('o', 'a', 'e', 'e', 'e')\n",
            "('o', 'a', 'o', 'u', 'a')\n",
            "('o', 'e', 'e', 'e', 'u')\n",
            "('o', 'e', 'o', 'u', 'o')\n",
            "('o', 'i', 'e', 'i', 'i')\n",
            "('o', 'i', 'u', 'a', 'e')\n",
            "('u', 'a', 'e', 'e', 'e')\n",
            "('u', 'a', 'o', 'u', 'a')\n",
            "('u', 'e', 'e', 'e', 'u')\n",
            "('u', 'e', 'o', 'u', 'o')\n",
            "('u', 'i', 'e', 'i', 'i')\n",
            "('u', 'i', 'u', 'a', 'e')\n",
            "('u', 'o', 'e', 'o', 'a')\n",
            "('u', 'o', 'u', 'a', 'u')\n",
            "('e', 'a', 'i', 'i', 'o')\n",
            "('i', 'a', 'i', 'i', 'o')\n",
            "('i', 'e', 'i', 'o', 'e')\n",
            "('o', 'a', 'i', 'i', 'o')\n",
            "('o', 'e', 'i', 'o', 'e')\n",
            "('o', 'i', 'i', 'o', 'u')\n",
            "('u', 'a', 'i', 'i', 'o')\n",
            "('u', 'e', 'i', 'o', 'e')\n",
            "('u', 'i', 'i', 'o', 'u')\n",
            "('u', 'o', 'i', 'u', 'i')\n",
            "('i', 'e', 'a', 'a', 'i')\n",
            "('o', 'e', 'a', 'a', 'i')\n",
            "('u', 'e', 'a', 'a', 'i')\n",
            "('u', 'o', 'a', 'e', 'o')\n",
            "('o', 'i', 'a', 'e', 'a')\n",
            "('u', 'i', 'a', 'e', 'a')\n",
            "[('a', 'a', 'a', 'a', 'a'), ('a', 'a', 'a', 'a', 'e'), ('a', 'a', 'a', 'a', 'i'), ('a', 'a', 'a', 'a', 'o'), ('a', 'a', 'a', 'a', 'u'), ('a', 'a', 'a', 'e', 'a'), ('a', 'a', 'a', 'e', 'e'), ('a', 'a', 'a', 'e', 'i'), ('a', 'a', 'a', 'e', 'o'), ('a', 'a', 'a', 'e', 'u'), ('a', 'a', 'a', 'i', 'a'), ('a', 'a', 'a', 'i', 'e'), ('a', 'a', 'a', 'i', 'i'), ('a', 'a', 'a', 'i', 'o'), ('a', 'a', 'a', 'i', 'u'), ('a', 'a', 'a', 'o', 'a'), ('a', 'a', 'a', 'o', 'e'), ('a', 'a', 'a', 'o', 'i'), ('a', 'a', 'a', 'o', 'o'), ('a', 'a', 'a', 'o', 'u'), ('a', 'a', 'a', 'u', 'a'), ('a', 'a', 'a', 'u', 'e'), ('a', 'a', 'a', 'u', 'i'), ('a', 'a', 'a', 'u', 'o'), ('a', 'a', 'a', 'u', 'u'), ('a', 'a', 'e', 'a', 'a'), ('a', 'a', 'e', 'a', 'e'), ('a', 'a', 'e', 'a', 'i'), ('a', 'a', 'e', 'a', 'o'), ('a', 'a', 'e', 'a', 'u'), ('a', 'a', 'e', 'e', 'a'), ('a', 'a', 'e', 'e', 'e'), ('a', 'a', 'e', 'e', 'i'), ('a', 'a', 'e', 'e', 'o'), ('a', 'a', 'e', 'e', 'u'), ('a', 'a', 'e', 'i', 'a'), ('a', 'a', 'e', 'i', 'e'), ('a', 'a', 'e', 'i', 'i'), ('a', 'a', 'e', 'i', 'o'), ('a', 'a', 'e', 'i', 'u'), ('a', 'a', 'e', 'o', 'a'), ('a', 'a', 'e', 'o', 'e'), ('a', 'a', 'e', 'o', 'i'), ('a', 'a', 'e', 'o', 'o'), ('a', 'a', 'e', 'o', 'u'), ('a', 'a', 'e', 'u', 'a'), ('a', 'a', 'e', 'u', 'e'), ('a', 'a', 'e', 'u', 'i'), ('a', 'a', 'e', 'u', 'o'), ('a', 'a', 'e', 'u', 'u'), ('a', 'a', 'i', 'a', 'a'), ('a', 'a', 'i', 'a', 'e'), ('a', 'a', 'i', 'a', 'i'), ('a', 'a', 'i', 'a', 'o'), ('a', 'a', 'i', 'a', 'u'), ('a', 'a', 'i', 'e', 'a'), ('a', 'a', 'i', 'e', 'e'), ('a', 'a', 'i', 'e', 'i'), ('a', 'a', 'i', 'e', 'o'), ('a', 'a', 'i', 'e', 'u'), ('a', 'a', 'i', 'i', 'a'), ('a', 'a', 'i', 'i', 'e'), ('a', 'a', 'i', 'i', 'i'), ('a', 'a', 'i', 'i', 'o'), ('a', 'a', 'i', 'i', 'u'), ('a', 'a', 'i', 'o', 'a'), ('a', 'a', 'i', 'o', 'e'), ('a', 'a', 'i', 'o', 'i'), ('a', 'a', 'i', 'o', 'o'), ('a', 'a', 'i', 'o', 'u'), ('a', 'a', 'i', 'u', 'a'), ('a', 'a', 'i', 'u', 'e'), ('a', 'a', 'i', 'u', 'i'), ('a', 'a', 'i', 'u', 'o'), ('a', 'a', 'i', 'u', 'u'), ('a', 'a', 'o', 'a', 'a'), ('a', 'a', 'o', 'a', 'e'), ('a', 'a', 'o', 'a', 'i'), ('a', 'a', 'o', 'a', 'o'), ('a', 'a', 'o', 'a', 'u'), ('a', 'a', 'o', 'e', 'a'), ('a', 'a', 'o', 'e', 'e'), ('a', 'a', 'o', 'e', 'i'), ('a', 'a', 'o', 'e', 'o'), ('a', 'a', 'o', 'e', 'u'), ('a', 'a', 'o', 'i', 'a'), ('a', 'a', 'o', 'i', 'e'), ('a', 'a', 'o', 'i', 'i'), ('a', 'a', 'o', 'i', 'o'), ('a', 'a', 'o', 'i', 'u'), ('a', 'a', 'o', 'o', 'a'), ('a', 'a', 'o', 'o', 'e'), ('a', 'a', 'o', 'o', 'i'), ('a', 'a', 'o', 'o', 'o'), ('a', 'a', 'o', 'o', 'u'), ('a', 'a', 'o', 'u', 'a'), ('a', 'a', 'o', 'u', 'e'), ('a', 'a', 'o', 'u', 'i'), ('a', 'a', 'o', 'u', 'o'), ('a', 'a', 'o', 'u', 'u'), ('a', 'a', 'u', 'a', 'a'), ('a', 'a', 'u', 'a', 'e'), ('a', 'a', 'u', 'a', 'i'), ('a', 'a', 'u', 'a', 'o'), ('a', 'a', 'u', 'a', 'u'), ('a', 'a', 'u', 'e', 'a'), ('a', 'a', 'u', 'e', 'e'), ('a', 'a', 'u', 'e', 'i'), ('a', 'a', 'u', 'e', 'o'), ('a', 'a', 'u', 'e', 'u'), ('a', 'a', 'u', 'i', 'a'), ('a', 'a', 'u', 'i', 'e'), ('a', 'a', 'u', 'i', 'i'), ('a', 'a', 'u', 'i', 'o'), ('a', 'a', 'u', 'i', 'u'), ('a', 'a', 'u', 'o', 'a'), ('a', 'a', 'u', 'o', 'e'), ('a', 'a', 'u', 'o', 'i'), ('a', 'a', 'u', 'o', 'o'), ('a', 'a', 'u', 'o', 'u'), ('a', 'a', 'u', 'u', 'a'), ('a', 'a', 'u', 'u', 'e'), ('a', 'a', 'u', 'u', 'i'), ('a', 'a', 'u', 'u', 'o'), ('a', 'a', 'u', 'u', 'u'), ('a', 'e', 'a', 'a', 'a'), ('a', 'e', 'a', 'a', 'e'), ('a', 'e', 'a', 'a', 'i'), ('a', 'e', 'a', 'a', 'o'), ('a', 'e', 'a', 'a', 'u'), ('a', 'e', 'a', 'e', 'a'), ('a', 'e', 'a', 'e', 'e'), ('a', 'e', 'a', 'e', 'i'), ('a', 'e', 'a', 'e', 'o'), ('a', 'e', 'a', 'e', 'u'), ('a', 'e', 'a', 'i', 'a'), ('a', 'e', 'a', 'i', 'e'), ('a', 'e', 'a', 'i', 'i'), ('a', 'e', 'a', 'i', 'o'), ('a', 'e', 'a', 'i', 'u'), ('a', 'e', 'a', 'o', 'a'), ('a', 'e', 'a', 'o', 'e'), ('a', 'e', 'a', 'o', 'i'), ('a', 'e', 'a', 'o', 'o'), ('a', 'e', 'a', 'o', 'u'), ('a', 'e', 'a', 'u', 'a'), ('a', 'e', 'a', 'u', 'e'), ('a', 'e', 'a', 'u', 'i'), ('a', 'e', 'a', 'u', 'o'), ('a', 'e', 'a', 'u', 'u'), ('a', 'e', 'e', 'a', 'a'), ('a', 'e', 'e', 'a', 'e'), ('a', 'e', 'e', 'a', 'i'), ('a', 'e', 'e', 'a', 'o'), ('a', 'e', 'e', 'a', 'u'), ('a', 'e', 'e', 'e', 'a'), ('a', 'e', 'e', 'e', 'e'), ('a', 'e', 'e', 'e', 'i'), ('a', 'e', 'e', 'e', 'o'), ('a', 'e', 'e', 'e', 'u'), ('a', 'e', 'e', 'i', 'a'), ('a', 'e', 'e', 'i', 'e'), ('a', 'e', 'e', 'i', 'i'), ('a', 'e', 'e', 'i', 'o'), ('a', 'e', 'e', 'i', 'u'), ('a', 'e', 'e', 'o', 'a'), ('a', 'e', 'e', 'o', 'e'), ('a', 'e', 'e', 'o', 'i'), ('a', 'e', 'e', 'o', 'o'), ('a', 'e', 'e', 'o', 'u'), ('a', 'e', 'e', 'u', 'a'), ('a', 'e', 'e', 'u', 'e'), ('a', 'e', 'e', 'u', 'i'), ('a', 'e', 'e', 'u', 'o'), ('a', 'e', 'e', 'u', 'u'), ('a', 'e', 'i', 'a', 'a'), ('a', 'e', 'i', 'a', 'e'), ('a', 'e', 'i', 'a', 'i'), ('a', 'e', 'i', 'a', 'o'), ('a', 'e', 'i', 'a', 'u'), ('a', 'e', 'i', 'e', 'a'), ('a', 'e', 'i', 'e', 'e'), ('a', 'e', 'i', 'e', 'i'), ('a', 'e', 'i', 'e', 'o'), ('a', 'e', 'i', 'e', 'u'), ('a', 'e', 'i', 'i', 'a'), ('a', 'e', 'i', 'i', 'e'), ('a', 'e', 'i', 'i', 'i'), ('a', 'e', 'i', 'i', 'o'), ('a', 'e', 'i', 'i', 'u'), ('a', 'e', 'i', 'o', 'a'), ('a', 'e', 'i', 'o', 'e'), ('a', 'e', 'i', 'o', 'i'), ('a', 'e', 'i', 'o', 'o'), ('a', 'e', 'i', 'o', 'u'), ('a', 'e', 'i', 'u', 'a'), ('a', 'e', 'i', 'u', 'e'), ('a', 'e', 'i', 'u', 'i'), ('a', 'e', 'i', 'u', 'o'), ('a', 'e', 'i', 'u', 'u'), ('a', 'e', 'o', 'a', 'a'), ('a', 'e', 'o', 'a', 'e'), ('a', 'e', 'o', 'a', 'i'), ('a', 'e', 'o', 'a', 'o'), ('a', 'e', 'o', 'a', 'u'), ('a', 'e', 'o', 'e', 'a'), ('a', 'e', 'o', 'e', 'e'), ('a', 'e', 'o', 'e', 'i'), ('a', 'e', 'o', 'e', 'o'), ('a', 'e', 'o', 'e', 'u'), ('a', 'e', 'o', 'i', 'a'), ('a', 'e', 'o', 'i', 'e'), ('a', 'e', 'o', 'i', 'i'), ('a', 'e', 'o', 'i', 'o'), ('a', 'e', 'o', 'i', 'u'), ('a', 'e', 'o', 'o', 'a'), ('a', 'e', 'o', 'o', 'e'), ('a', 'e', 'o', 'o', 'i'), ('a', 'e', 'o', 'o', 'o'), ('a', 'e', 'o', 'o', 'u'), ('a', 'e', 'o', 'u', 'a'), ('a', 'e', 'o', 'u', 'e'), ('a', 'e', 'o', 'u', 'i'), ('a', 'e', 'o', 'u', 'o'), ('a', 'e', 'o', 'u', 'u'), ('a', 'e', 'u', 'a', 'a'), ('a', 'e', 'u', 'a', 'e'), ('a', 'e', 'u', 'a', 'i'), ('a', 'e', 'u', 'a', 'o'), ('a', 'e', 'u', 'a', 'u'), ('a', 'e', 'u', 'e', 'a'), ('a', 'e', 'u', 'e', 'e'), ('a', 'e', 'u', 'e', 'i'), ('a', 'e', 'u', 'e', 'o'), ('a', 'e', 'u', 'e', 'u'), ('a', 'e', 'u', 'i', 'a'), ('a', 'e', 'u', 'i', 'e'), ('a', 'e', 'u', 'i', 'i'), ('a', 'e', 'u', 'i', 'o'), ('a', 'e', 'u', 'i', 'u'), ('a', 'e', 'u', 'o', 'a'), ('a', 'e', 'u', 'o', 'e'), ('a', 'e', 'u', 'o', 'i'), ('a', 'e', 'u', 'o', 'o'), ('a', 'e', 'u', 'o', 'u'), ('a', 'e', 'u', 'u', 'a'), ('a', 'e', 'u', 'u', 'e'), ('a', 'e', 'u', 'u', 'i'), ('a', 'e', 'u', 'u', 'o'), ('a', 'e', 'u', 'u', 'u'), ('a', 'i', 'a', 'a', 'a'), ('a', 'i', 'a', 'a', 'e'), ('a', 'i', 'a', 'a', 'i'), ('a', 'i', 'a', 'a', 'o'), ('a', 'i', 'a', 'a', 'u'), ('a', 'i', 'a', 'e', 'a'), ('a', 'i', 'a', 'e', 'e'), ('a', 'i', 'a', 'e', 'i'), ('a', 'i', 'a', 'e', 'o'), ('a', 'i', 'a', 'e', 'u'), ('a', 'i', 'a', 'i', 'a'), ('a', 'i', 'a', 'i', 'e'), ('a', 'i', 'a', 'i', 'i'), ('a', 'i', 'a', 'i', 'o'), ('a', 'i', 'a', 'i', 'u'), ('a', 'i', 'a', 'o', 'a'), ('a', 'i', 'a', 'o', 'e'), ('a', 'i', 'a', 'o', 'i'), ('a', 'i', 'a', 'o', 'o'), ('a', 'i', 'a', 'o', 'u'), ('a', 'i', 'a', 'u', 'a'), ('a', 'i', 'a', 'u', 'e'), ('a', 'i', 'a', 'u', 'i'), ('a', 'i', 'a', 'u', 'o'), ('a', 'i', 'a', 'u', 'u'), ('a', 'i', 'e', 'a', 'a'), ('a', 'i', 'e', 'a', 'e'), ('a', 'i', 'e', 'a', 'i'), ('a', 'i', 'e', 'a', 'o'), ('a', 'i', 'e', 'a', 'u'), ('a', 'i', 'e', 'e', 'a'), ('a', 'i', 'e', 'e', 'e'), ('a', 'i', 'e', 'e', 'i'), ('a', 'i', 'e', 'e', 'o'), ('a', 'i', 'e', 'e', 'u'), ('a', 'i', 'e', 'i', 'a'), ('a', 'i', 'e', 'i', 'e'), ('a', 'i', 'e', 'i', 'i'), ('a', 'i', 'e', 'i', 'o'), ('a', 'i', 'e', 'i', 'u'), ('a', 'i', 'e', 'o', 'a'), ('a', 'i', 'e', 'o', 'e'), ('a', 'i', 'e', 'o', 'i'), ('a', 'i', 'e', 'o', 'o'), ('a', 'i', 'e', 'o', 'u'), ('a', 'i', 'e', 'u', 'a'), ('a', 'i', 'e', 'u', 'e'), ('a', 'i', 'e', 'u', 'i'), ('a', 'i', 'e', 'u', 'o'), ('a', 'i', 'e', 'u', 'u'), ('a', 'i', 'i', 'a', 'a'), ('a', 'i', 'i', 'a', 'e'), ('a', 'i', 'i', 'a', 'i'), ('a', 'i', 'i', 'a', 'o'), ('a', 'i', 'i', 'a', 'u'), ('a', 'i', 'i', 'e', 'a'), ('a', 'i', 'i', 'e', 'e'), ('a', 'i', 'i', 'e', 'i'), ('a', 'i', 'i', 'e', 'o'), ('a', 'i', 'i', 'e', 'u'), ('a', 'i', 'i', 'i', 'a'), ('a', 'i', 'i', 'i', 'e'), ('a', 'i', 'i', 'i', 'i'), ('a', 'i', 'i', 'i', 'o'), ('a', 'i', 'i', 'i', 'u'), ('a', 'i', 'i', 'o', 'a'), ('a', 'i', 'i', 'o', 'e'), ('a', 'i', 'i', 'o', 'i'), ('a', 'i', 'i', 'o', 'o'), ('a', 'i', 'i', 'o', 'u'), ('a', 'i', 'i', 'u', 'a'), ('a', 'i', 'i', 'u', 'e'), ('a', 'i', 'i', 'u', 'i'), ('a', 'i', 'i', 'u', 'o'), ('a', 'i', 'i', 'u', 'u'), ('a', 'i', 'o', 'a', 'a'), ('a', 'i', 'o', 'a', 'e'), ('a', 'i', 'o', 'a', 'i'), ('a', 'i', 'o', 'a', 'o'), ('a', 'i', 'o', 'a', 'u'), ('a', 'i', 'o', 'e', 'a'), ('a', 'i', 'o', 'e', 'e'), ('a', 'i', 'o', 'e', 'i'), ('a', 'i', 'o', 'e', 'o'), ('a', 'i', 'o', 'e', 'u'), ('a', 'i', 'o', 'i', 'a'), ('a', 'i', 'o', 'i', 'e'), ('a', 'i', 'o', 'i', 'i'), ('a', 'i', 'o', 'i', 'o'), ('a', 'i', 'o', 'i', 'u'), ('a', 'i', 'o', 'o', 'a'), ('a', 'i', 'o', 'o', 'e'), ('a', 'i', 'o', 'o', 'i'), ('a', 'i', 'o', 'o', 'o'), ('a', 'i', 'o', 'o', 'u'), ('a', 'i', 'o', 'u', 'a'), ('a', 'i', 'o', 'u', 'e'), ('a', 'i', 'o', 'u', 'i'), ('a', 'i', 'o', 'u', 'o'), ('a', 'i', 'o', 'u', 'u'), ('a', 'i', 'u', 'a', 'a'), ('a', 'i', 'u', 'a', 'e'), ('a', 'i', 'u', 'a', 'i'), ('a', 'i', 'u', 'a', 'o'), ('a', 'i', 'u', 'a', 'u'), ('a', 'i', 'u', 'e', 'a'), ('a', 'i', 'u', 'e', 'e'), ('a', 'i', 'u', 'e', 'i'), ('a', 'i', 'u', 'e', 'o'), ('a', 'i', 'u', 'e', 'u'), ('a', 'i', 'u', 'i', 'a'), ('a', 'i', 'u', 'i', 'e'), ('a', 'i', 'u', 'i', 'i'), ('a', 'i', 'u', 'i', 'o'), ('a', 'i', 'u', 'i', 'u'), ('a', 'i', 'u', 'o', 'a'), ('a', 'i', 'u', 'o', 'e'), ('a', 'i', 'u', 'o', 'i'), ('a', 'i', 'u', 'o', 'o'), ('a', 'i', 'u', 'o', 'u'), ('a', 'i', 'u', 'u', 'a'), ('a', 'i', 'u', 'u', 'e'), ('a', 'i', 'u', 'u', 'i'), ('a', 'i', 'u', 'u', 'o'), ('a', 'i', 'u', 'u', 'u'), ('a', 'o', 'a', 'a', 'a'), ('a', 'o', 'a', 'a', 'e'), ('a', 'o', 'a', 'a', 'i'), ('a', 'o', 'a', 'a', 'o'), ('a', 'o', 'a', 'a', 'u'), ('a', 'o', 'a', 'e', 'a'), ('a', 'o', 'a', 'e', 'e'), ('a', 'o', 'a', 'e', 'i'), ('a', 'o', 'a', 'e', 'o'), ('a', 'o', 'a', 'e', 'u'), ('a', 'o', 'a', 'i', 'a'), ('a', 'o', 'a', 'i', 'e'), ('a', 'o', 'a', 'i', 'i'), ('a', 'o', 'a', 'i', 'o'), ('a', 'o', 'a', 'i', 'u'), ('a', 'o', 'a', 'o', 'a'), ('a', 'o', 'a', 'o', 'e'), ('a', 'o', 'a', 'o', 'i'), ('a', 'o', 'a', 'o', 'o'), ('a', 'o', 'a', 'o', 'u'), ('a', 'o', 'a', 'u', 'a'), ('a', 'o', 'a', 'u', 'e'), ('a', 'o', 'a', 'u', 'i'), ('a', 'o', 'a', 'u', 'o'), ('a', 'o', 'a', 'u', 'u'), ('a', 'o', 'e', 'a', 'a'), ('a', 'o', 'e', 'a', 'e'), ('a', 'o', 'e', 'a', 'i'), ('a', 'o', 'e', 'a', 'o'), ('a', 'o', 'e', 'a', 'u'), ('a', 'o', 'e', 'e', 'a'), ('a', 'o', 'e', 'e', 'e'), ('a', 'o', 'e', 'e', 'i'), ('a', 'o', 'e', 'e', 'o'), ('a', 'o', 'e', 'e', 'u'), ('a', 'o', 'e', 'i', 'a'), ('a', 'o', 'e', 'i', 'e'), ('a', 'o', 'e', 'i', 'i'), ('a', 'o', 'e', 'i', 'o'), ('a', 'o', 'e', 'i', 'u'), ('a', 'o', 'e', 'o', 'a'), ('a', 'o', 'e', 'o', 'e'), ('a', 'o', 'e', 'o', 'i'), ('a', 'o', 'e', 'o', 'o'), ('a', 'o', 'e', 'o', 'u'), ('a', 'o', 'e', 'u', 'a'), ('a', 'o', 'e', 'u', 'e'), ('a', 'o', 'e', 'u', 'i'), ('a', 'o', 'e', 'u', 'o'), ('a', 'o', 'e', 'u', 'u'), ('a', 'o', 'i', 'a', 'a'), ('a', 'o', 'i', 'a', 'e'), ('a', 'o', 'i', 'a', 'i'), ('a', 'o', 'i', 'a', 'o'), ('a', 'o', 'i', 'a', 'u'), ('a', 'o', 'i', 'e', 'a'), ('a', 'o', 'i', 'e', 'e'), ('a', 'o', 'i', 'e', 'i'), ('a', 'o', 'i', 'e', 'o'), ('a', 'o', 'i', 'e', 'u'), ('a', 'o', 'i', 'i', 'a'), ('a', 'o', 'i', 'i', 'e'), ('a', 'o', 'i', 'i', 'i'), ('a', 'o', 'i', 'i', 'o'), ('a', 'o', 'i', 'i', 'u'), ('a', 'o', 'i', 'o', 'a'), ('a', 'o', 'i', 'o', 'e'), ('a', 'o', 'i', 'o', 'i'), ('a', 'o', 'i', 'o', 'o'), ('a', 'o', 'i', 'o', 'u'), ('a', 'o', 'i', 'u', 'a'), ('a', 'o', 'i', 'u', 'e'), ('a', 'o', 'i', 'u', 'i'), ('a', 'o', 'i', 'u', 'o'), ('a', 'o', 'i', 'u', 'u'), ('a', 'o', 'o', 'a', 'a'), ('a', 'o', 'o', 'a', 'e'), ('a', 'o', 'o', 'a', 'i'), ('a', 'o', 'o', 'a', 'o'), ('a', 'o', 'o', 'a', 'u'), ('a', 'o', 'o', 'e', 'a'), ('a', 'o', 'o', 'e', 'e'), ('a', 'o', 'o', 'e', 'i'), ('a', 'o', 'o', 'e', 'o'), ('a', 'o', 'o', 'e', 'u'), ('a', 'o', 'o', 'i', 'a'), ('a', 'o', 'o', 'i', 'e'), ('a', 'o', 'o', 'i', 'i'), ('a', 'o', 'o', 'i', 'o'), ('a', 'o', 'o', 'i', 'u'), ('a', 'o', 'o', 'o', 'a'), ('a', 'o', 'o', 'o', 'e'), ('a', 'o', 'o', 'o', 'i'), ('a', 'o', 'o', 'o', 'o'), ('a', 'o', 'o', 'o', 'u'), ('a', 'o', 'o', 'u', 'a'), ('a', 'o', 'o', 'u', 'e'), ('a', 'o', 'o', 'u', 'i'), ('a', 'o', 'o', 'u', 'o'), ('a', 'o', 'o', 'u', 'u'), ('a', 'o', 'u', 'a', 'a'), ('a', 'o', 'u', 'a', 'e'), ('a', 'o', 'u', 'a', 'i'), ('a', 'o', 'u', 'a', 'o'), ('a', 'o', 'u', 'a', 'u'), ('a', 'o', 'u', 'e', 'a'), ('a', 'o', 'u', 'e', 'e'), ('a', 'o', 'u', 'e', 'i'), ('a', 'o', 'u', 'e', 'o'), ('a', 'o', 'u', 'e', 'u'), ('a', 'o', 'u', 'i', 'a'), ('a', 'o', 'u', 'i', 'e'), ('a', 'o', 'u', 'i', 'i'), ('a', 'o', 'u', 'i', 'o'), ('a', 'o', 'u', 'i', 'u'), ('a', 'o', 'u', 'o', 'a'), ('a', 'o', 'u', 'o', 'e'), ('a', 'o', 'u', 'o', 'i'), ('a', 'o', 'u', 'o', 'o'), ('a', 'o', 'u', 'o', 'u'), ('a', 'o', 'u', 'u', 'a'), ('a', 'o', 'u', 'u', 'e'), ('a', 'o', 'u', 'u', 'i'), ('a', 'o', 'u', 'u', 'o'), ('a', 'o', 'u', 'u', 'u'), ('a', 'u', 'a', 'a', 'a'), ('a', 'u', 'a', 'a', 'e'), ('a', 'u', 'a', 'a', 'i'), ('a', 'u', 'a', 'a', 'o'), ('a', 'u', 'a', 'a', 'u'), ('a', 'u', 'a', 'e', 'a'), ('a', 'u', 'a', 'e', 'e'), ('a', 'u', 'a', 'e', 'i'), ('a', 'u', 'a', 'e', 'o'), ('a', 'u', 'a', 'e', 'u'), ('a', 'u', 'a', 'i', 'a'), ('a', 'u', 'a', 'i', 'e'), ('a', 'u', 'a', 'i', 'i'), ('a', 'u', 'a', 'i', 'o'), ('a', 'u', 'a', 'i', 'u'), ('a', 'u', 'a', 'o', 'a'), ('a', 'u', 'a', 'o', 'e'), ('a', 'u', 'a', 'o', 'i'), ('a', 'u', 'a', 'o', 'o'), ('a', 'u', 'a', 'o', 'u'), ('a', 'u', 'a', 'u', 'a'), ('a', 'u', 'a', 'u', 'e'), ('a', 'u', 'a', 'u', 'i'), ('a', 'u', 'a', 'u', 'o'), ('a', 'u', 'a', 'u', 'u'), ('a', 'u', 'e', 'a', 'a'), ('a', 'u', 'e', 'a', 'e'), ('a', 'u', 'e', 'a', 'i'), ('a', 'u', 'e', 'a', 'o'), ('a', 'u', 'e', 'a', 'u'), ('a', 'u', 'e', 'e', 'a'), ('a', 'u', 'e', 'e', 'e'), ('a', 'u', 'e', 'e', 'i'), ('a', 'u', 'e', 'e', 'o'), ('a', 'u', 'e', 'e', 'u'), ('a', 'u', 'e', 'i', 'a'), ('a', 'u', 'e', 'i', 'e'), ('a', 'u', 'e', 'i', 'i'), ('a', 'u', 'e', 'i', 'o'), ('a', 'u', 'e', 'i', 'u'), ('a', 'u', 'e', 'o', 'a'), ('a', 'u', 'e', 'o', 'e'), ('a', 'u', 'e', 'o', 'i'), ('a', 'u', 'e', 'o', 'o'), ('a', 'u', 'e', 'o', 'u'), ('a', 'u', 'e', 'u', 'a'), ('a', 'u', 'e', 'u', 'e'), ('a', 'u', 'e', 'u', 'i'), ('a', 'u', 'e', 'u', 'o'), ('a', 'u', 'e', 'u', 'u'), ('a', 'u', 'i', 'a', 'a'), ('a', 'u', 'i', 'a', 'e'), ('a', 'u', 'i', 'a', 'i'), ('a', 'u', 'i', 'a', 'o'), ('a', 'u', 'i', 'a', 'u'), ('a', 'u', 'i', 'e', 'a'), ('a', 'u', 'i', 'e', 'e'), ('a', 'u', 'i', 'e', 'i'), ('a', 'u', 'i', 'e', 'o'), ('a', 'u', 'i', 'e', 'u'), ('a', 'u', 'i', 'i', 'a'), ('a', 'u', 'i', 'i', 'e'), ('a', 'u', 'i', 'i', 'i'), ('a', 'u', 'i', 'i', 'o'), ('a', 'u', 'i', 'i', 'u'), ('a', 'u', 'i', 'o', 'a'), ('a', 'u', 'i', 'o', 'e'), ('a', 'u', 'i', 'o', 'i'), ('a', 'u', 'i', 'o', 'o'), ('a', 'u', 'i', 'o', 'u'), ('a', 'u', 'i', 'u', 'a'), ('a', 'u', 'i', 'u', 'e'), ('a', 'u', 'i', 'u', 'i'), ('a', 'u', 'i', 'u', 'o'), ('a', 'u', 'i', 'u', 'u'), ('a', 'u', 'o', 'a', 'a'), ('a', 'u', 'o', 'a', 'e'), ('a', 'u', 'o', 'a', 'i'), ('a', 'u', 'o', 'a', 'o'), ('a', 'u', 'o', 'a', 'u'), ('a', 'u', 'o', 'e', 'a'), ('a', 'u', 'o', 'e', 'e'), ('a', 'u', 'o', 'e', 'i'), ('a', 'u', 'o', 'e', 'o'), ('a', 'u', 'o', 'e', 'u'), ('a', 'u', 'o', 'i', 'a'), ('a', 'u', 'o', 'i', 'e'), ('a', 'u', 'o', 'i', 'i'), ('a', 'u', 'o', 'i', 'o'), ('a', 'u', 'o', 'i', 'u'), ('a', 'u', 'o', 'o', 'a'), ('a', 'u', 'o', 'o', 'e'), ('a', 'u', 'o', 'o', 'i'), ('a', 'u', 'o', 'o', 'o'), ('a', 'u', 'o', 'o', 'u'), ('a', 'u', 'o', 'u', 'a'), ('a', 'u', 'o', 'u', 'e'), ('a', 'u', 'o', 'u', 'i'), ('a', 'u', 'o', 'u', 'o'), ('a', 'u', 'o', 'u', 'u'), ('a', 'u', 'u', 'a', 'a'), ('a', 'u', 'u', 'a', 'e'), ('a', 'u', 'u', 'a', 'i'), ('a', 'u', 'u', 'a', 'o'), ('a', 'u', 'u', 'a', 'u'), ('a', 'u', 'u', 'e', 'a'), ('a', 'u', 'u', 'e', 'e'), ('a', 'u', 'u', 'e', 'i'), ('a', 'u', 'u', 'e', 'o'), ('a', 'u', 'u', 'e', 'u'), ('a', 'u', 'u', 'i', 'a'), ('a', 'u', 'u', 'i', 'e'), ('a', 'u', 'u', 'i', 'i'), ('a', 'u', 'u', 'i', 'o'), ('a', 'u', 'u', 'i', 'u'), ('a', 'u', 'u', 'o', 'a'), ('a', 'u', 'u', 'o', 'e'), ('a', 'u', 'u', 'o', 'i'), ('a', 'u', 'u', 'o', 'o'), ('a', 'u', 'u', 'o', 'u'), ('a', 'u', 'u', 'u', 'a'), ('a', 'u', 'u', 'u', 'e'), ('a', 'u', 'u', 'u', 'i'), ('a', 'u', 'u', 'u', 'o'), ('a', 'u', 'u', 'u', 'u'), ('e', 'e', 'a', 'a', 'a'), ('e', 'e', 'a', 'a', 'e'), ('e', 'e', 'a', 'a', 'i'), ('e', 'e', 'a', 'a', 'o'), ('e', 'e', 'a', 'a', 'u'), ('e', 'e', 'a', 'e', 'a'), ('e', 'e', 'a', 'e', 'e'), ('e', 'e', 'a', 'e', 'i'), ('e', 'e', 'a', 'e', 'o'), ('e', 'e', 'a', 'e', 'u'), ('e', 'e', 'a', 'i', 'a'), ('e', 'e', 'a', 'i', 'e'), ('e', 'e', 'a', 'i', 'i'), ('e', 'e', 'a', 'i', 'o'), ('e', 'e', 'a', 'i', 'u'), ('e', 'e', 'a', 'o', 'a'), ('e', 'e', 'a', 'o', 'e'), ('e', 'e', 'a', 'o', 'i'), ('e', 'e', 'a', 'o', 'o'), ('e', 'e', 'a', 'o', 'u'), ('e', 'e', 'a', 'u', 'a'), ('e', 'e', 'a', 'u', 'e'), ('e', 'e', 'a', 'u', 'i'), ('e', 'e', 'a', 'u', 'o'), ('e', 'e', 'a', 'u', 'u'), ('e', 'e', 'e', 'a', 'a'), ('e', 'e', 'e', 'a', 'e'), ('e', 'e', 'e', 'a', 'i'), ('e', 'e', 'e', 'a', 'o'), ('e', 'e', 'e', 'a', 'u'), ('e', 'e', 'e', 'e', 'a'), ('e', 'e', 'e', 'e', 'e'), ('e', 'e', 'e', 'e', 'i'), ('e', 'e', 'e', 'e', 'o'), ('e', 'e', 'e', 'e', 'u'), ('e', 'e', 'e', 'i', 'a'), ('e', 'e', 'e', 'i', 'e'), ('e', 'e', 'e', 'i', 'i'), ('e', 'e', 'e', 'i', 'o'), ('e', 'e', 'e', 'i', 'u'), ('e', 'e', 'e', 'o', 'a'), ('e', 'e', 'e', 'o', 'e'), ('e', 'e', 'e', 'o', 'i'), ('e', 'e', 'e', 'o', 'o'), ('e', 'e', 'e', 'o', 'u'), ('e', 'e', 'e', 'u', 'a'), ('e', 'e', 'e', 'u', 'e'), ('e', 'e', 'e', 'u', 'i'), ('e', 'e', 'e', 'u', 'o'), ('e', 'e', 'e', 'u', 'u'), ('e', 'e', 'i', 'a', 'a'), ('e', 'e', 'i', 'a', 'e'), ('e', 'e', 'i', 'a', 'i'), ('e', 'e', 'i', 'a', 'o'), ('e', 'e', 'i', 'a', 'u'), ('e', 'e', 'i', 'e', 'a'), ('e', 'e', 'i', 'e', 'e'), ('e', 'e', 'i', 'e', 'i'), ('e', 'e', 'i', 'e', 'o'), ('e', 'e', 'i', 'e', 'u'), ('e', 'e', 'i', 'i', 'a'), ('e', 'e', 'i', 'i', 'e'), ('e', 'e', 'i', 'i', 'i'), ('e', 'e', 'i', 'i', 'o'), ('e', 'e', 'i', 'i', 'u'), ('e', 'e', 'i', 'o', 'a'), ('e', 'e', 'i', 'o', 'e'), ('e', 'e', 'i', 'o', 'i'), ('e', 'e', 'i', 'o', 'o'), ('e', 'e', 'i', 'o', 'u'), ('e', 'e', 'i', 'u', 'a'), ('e', 'e', 'i', 'u', 'e'), ('e', 'e', 'i', 'u', 'i'), ('e', 'e', 'i', 'u', 'o'), ('e', 'e', 'i', 'u', 'u'), ('e', 'e', 'o', 'a', 'a'), ('e', 'e', 'o', 'a', 'e'), ('e', 'e', 'o', 'a', 'i'), ('e', 'e', 'o', 'a', 'o'), ('e', 'e', 'o', 'a', 'u'), ('e', 'e', 'o', 'e', 'a'), ('e', 'e', 'o', 'e', 'e'), ('e', 'e', 'o', 'e', 'i'), ('e', 'e', 'o', 'e', 'o'), ('e', 'e', 'o', 'e', 'u'), ('e', 'e', 'o', 'i', 'a'), ('e', 'e', 'o', 'i', 'e'), ('e', 'e', 'o', 'i', 'i'), ('e', 'e', 'o', 'i', 'o'), ('e', 'e', 'o', 'i', 'u'), ('e', 'e', 'o', 'o', 'a'), ('e', 'e', 'o', 'o', 'e'), ('e', 'e', 'o', 'o', 'i'), ('e', 'e', 'o', 'o', 'o'), ('e', 'e', 'o', 'o', 'u'), ('e', 'e', 'o', 'u', 'a'), ('e', 'e', 'o', 'u', 'e'), ('e', 'e', 'o', 'u', 'i'), ('e', 'e', 'o', 'u', 'o'), ('e', 'e', 'o', 'u', 'u'), ('e', 'e', 'u', 'a', 'a'), ('e', 'e', 'u', 'a', 'e'), ('e', 'e', 'u', 'a', 'i'), ('e', 'e', 'u', 'a', 'o'), ('e', 'e', 'u', 'a', 'u'), ('e', 'e', 'u', 'e', 'a'), ('e', 'e', 'u', 'e', 'e'), ('e', 'e', 'u', 'e', 'i'), ('e', 'e', 'u', 'e', 'o'), ('e', 'e', 'u', 'e', 'u'), ('e', 'e', 'u', 'i', 'a'), ('e', 'e', 'u', 'i', 'e'), ('e', 'e', 'u', 'i', 'i'), ('e', 'e', 'u', 'i', 'o'), ('e', 'e', 'u', 'i', 'u'), ('e', 'e', 'u', 'o', 'a'), ('e', 'e', 'u', 'o', 'e'), ('e', 'e', 'u', 'o', 'i'), ('e', 'e', 'u', 'o', 'o'), ('e', 'e', 'u', 'o', 'u'), ('e', 'e', 'u', 'u', 'a'), ('e', 'e', 'u', 'u', 'e'), ('e', 'e', 'u', 'u', 'i'), ('e', 'e', 'u', 'u', 'o'), ('e', 'e', 'u', 'u', 'u'), ('e', 'i', 'a', 'a', 'a'), ('e', 'i', 'a', 'a', 'e'), ('e', 'i', 'a', 'a', 'i'), ('e', 'i', 'a', 'a', 'o'), ('e', 'i', 'a', 'a', 'u'), ('e', 'i', 'a', 'e', 'a'), ('e', 'i', 'a', 'e', 'e'), ('e', 'i', 'a', 'e', 'i'), ('e', 'i', 'a', 'e', 'o'), ('e', 'i', 'a', 'e', 'u'), ('e', 'i', 'a', 'i', 'a'), ('e', 'i', 'a', 'i', 'e'), ('e', 'i', 'a', 'i', 'i'), ('e', 'i', 'a', 'i', 'o'), ('e', 'i', 'a', 'i', 'u'), ('e', 'i', 'a', 'o', 'a'), ('e', 'i', 'a', 'o', 'e'), ('e', 'i', 'a', 'o', 'i'), ('e', 'i', 'a', 'o', 'o'), ('e', 'i', 'a', 'o', 'u'), ('e', 'i', 'a', 'u', 'a'), ('e', 'i', 'a', 'u', 'e'), ('e', 'i', 'a', 'u', 'i'), ('e', 'i', 'a', 'u', 'o'), ('e', 'i', 'a', 'u', 'u'), ('e', 'i', 'e', 'a', 'a'), ('e', 'i', 'e', 'a', 'e'), ('e', 'i', 'e', 'a', 'i'), ('e', 'i', 'e', 'a', 'o'), ('e', 'i', 'e', 'a', 'u'), ('e', 'i', 'e', 'e', 'a'), ('e', 'i', 'e', 'e', 'e'), ('e', 'i', 'e', 'e', 'i'), ('e', 'i', 'e', 'e', 'o'), ('e', 'i', 'e', 'e', 'u'), ('e', 'i', 'e', 'i', 'a'), ('e', 'i', 'e', 'i', 'e'), ('e', 'i', 'e', 'i', 'i'), ('e', 'i', 'e', 'i', 'o'), ('e', 'i', 'e', 'i', 'u'), ('e', 'i', 'e', 'o', 'a'), ('e', 'i', 'e', 'o', 'e'), ('e', 'i', 'e', 'o', 'i'), ('e', 'i', 'e', 'o', 'o'), ('e', 'i', 'e', 'o', 'u'), ('e', 'i', 'e', 'u', 'a'), ('e', 'i', 'e', 'u', 'e'), ('e', 'i', 'e', 'u', 'i'), ('e', 'i', 'e', 'u', 'o'), ('e', 'i', 'e', 'u', 'u'), ('e', 'i', 'i', 'a', 'a'), ('e', 'i', 'i', 'a', 'e'), ('e', 'i', 'i', 'a', 'i'), ('e', 'i', 'i', 'a', 'o'), ('e', 'i', 'i', 'a', 'u'), ('e', 'i', 'i', 'e', 'a'), ('e', 'i', 'i', 'e', 'e'), ('e', 'i', 'i', 'e', 'i'), ('e', 'i', 'i', 'e', 'o'), ('e', 'i', 'i', 'e', 'u'), ('e', 'i', 'i', 'i', 'a'), ('e', 'i', 'i', 'i', 'e'), ('e', 'i', 'i', 'i', 'i'), ('e', 'i', 'i', 'i', 'o'), ('e', 'i', 'i', 'i', 'u'), ('e', 'i', 'i', 'o', 'a'), ('e', 'i', 'i', 'o', 'e'), ('e', 'i', 'i', 'o', 'i'), ('e', 'i', 'i', 'o', 'o'), ('e', 'i', 'i', 'o', 'u'), ('e', 'i', 'i', 'u', 'a'), ('e', 'i', 'i', 'u', 'e'), ('e', 'i', 'i', 'u', 'i'), ('e', 'i', 'i', 'u', 'o'), ('e', 'i', 'i', 'u', 'u'), ('e', 'i', 'o', 'a', 'a'), ('e', 'i', 'o', 'a', 'e'), ('e', 'i', 'o', 'a', 'i'), ('e', 'i', 'o', 'a', 'o'), ('e', 'i', 'o', 'a', 'u'), ('e', 'i', 'o', 'e', 'a'), ('e', 'i', 'o', 'e', 'e'), ('e', 'i', 'o', 'e', 'i'), ('e', 'i', 'o', 'e', 'o'), ('e', 'i', 'o', 'e', 'u'), ('e', 'i', 'o', 'i', 'a'), ('e', 'i', 'o', 'i', 'e'), ('e', 'i', 'o', 'i', 'i'), ('e', 'i', 'o', 'i', 'o'), ('e', 'i', 'o', 'i', 'u'), ('e', 'i', 'o', 'o', 'a'), ('e', 'i', 'o', 'o', 'e'), ('e', 'i', 'o', 'o', 'i'), ('e', 'i', 'o', 'o', 'o'), ('e', 'i', 'o', 'o', 'u'), ('e', 'i', 'o', 'u', 'a'), ('e', 'i', 'o', 'u', 'e'), ('e', 'i', 'o', 'u', 'i'), ('e', 'i', 'o', 'u', 'o'), ('e', 'i', 'o', 'u', 'u'), ('e', 'i', 'u', 'a', 'a'), ('e', 'i', 'u', 'a', 'e'), ('e', 'i', 'u', 'a', 'i'), ('e', 'i', 'u', 'a', 'o'), ('e', 'i', 'u', 'a', 'u'), ('e', 'i', 'u', 'e', 'a'), ('e', 'i', 'u', 'e', 'e'), ('e', 'i', 'u', 'e', 'i'), ('e', 'i', 'u', 'e', 'o'), ('e', 'i', 'u', 'e', 'u'), ('e', 'i', 'u', 'i', 'a'), ('e', 'i', 'u', 'i', 'e'), ('e', 'i', 'u', 'i', 'i'), ('e', 'i', 'u', 'i', 'o'), ('e', 'i', 'u', 'i', 'u'), ('e', 'i', 'u', 'o', 'a'), ('e', 'i', 'u', 'o', 'e'), ('e', 'i', 'u', 'o', 'i'), ('e', 'i', 'u', 'o', 'o'), ('e', 'i', 'u', 'o', 'u'), ('e', 'i', 'u', 'u', 'a'), ('e', 'i', 'u', 'u', 'e'), ('e', 'i', 'u', 'u', 'i'), ('e', 'i', 'u', 'u', 'o'), ('e', 'i', 'u', 'u', 'u'), ('e', 'o', 'a', 'a', 'a'), ('e', 'o', 'a', 'a', 'e'), ('e', 'o', 'a', 'a', 'i'), ('e', 'o', 'a', 'a', 'o'), ('e', 'o', 'a', 'a', 'u'), ('e', 'o', 'a', 'e', 'a'), ('e', 'o', 'a', 'e', 'e'), ('e', 'o', 'a', 'e', 'i'), ('e', 'o', 'a', 'e', 'o'), ('e', 'o', 'a', 'e', 'u'), ('e', 'o', 'a', 'i', 'a'), ('e', 'o', 'a', 'i', 'e'), ('e', 'o', 'a', 'i', 'i'), ('e', 'o', 'a', 'i', 'o'), ('e', 'o', 'a', 'i', 'u'), ('e', 'o', 'a', 'o', 'a'), ('e', 'o', 'a', 'o', 'e'), ('e', 'o', 'a', 'o', 'i'), ('e', 'o', 'a', 'o', 'o'), ('e', 'o', 'a', 'o', 'u'), ('e', 'o', 'a', 'u', 'a'), ('e', 'o', 'a', 'u', 'e'), ('e', 'o', 'a', 'u', 'i'), ('e', 'o', 'a', 'u', 'o'), ('e', 'o', 'a', 'u', 'u'), ('e', 'o', 'e', 'a', 'a'), ('e', 'o', 'e', 'a', 'e'), ('e', 'o', 'e', 'a', 'i'), ('e', 'o', 'e', 'a', 'o'), ('e', 'o', 'e', 'a', 'u'), ('e', 'o', 'e', 'e', 'a'), ('e', 'o', 'e', 'e', 'e'), ('e', 'o', 'e', 'e', 'i'), ('e', 'o', 'e', 'e', 'o'), ('e', 'o', 'e', 'e', 'u'), ('e', 'o', 'e', 'i', 'a'), ('e', 'o', 'e', 'i', 'e'), ('e', 'o', 'e', 'i', 'i'), ('e', 'o', 'e', 'i', 'o'), ('e', 'o', 'e', 'i', 'u'), ('e', 'o', 'e', 'o', 'a'), ('e', 'o', 'e', 'o', 'e'), ('e', 'o', 'e', 'o', 'i'), ('e', 'o', 'e', 'o', 'o'), ('e', 'o', 'e', 'o', 'u'), ('e', 'o', 'e', 'u', 'a'), ('e', 'o', 'e', 'u', 'e'), ('e', 'o', 'e', 'u', 'i'), ('e', 'o', 'e', 'u', 'o'), ('e', 'o', 'e', 'u', 'u'), ('e', 'o', 'i', 'a', 'a'), ('e', 'o', 'i', 'a', 'e'), ('e', 'o', 'i', 'a', 'i'), ('e', 'o', 'i', 'a', 'o'), ('e', 'o', 'i', 'a', 'u'), ('e', 'o', 'i', 'e', 'a'), ('e', 'o', 'i', 'e', 'e'), ('e', 'o', 'i', 'e', 'i'), ('e', 'o', 'i', 'e', 'o'), ('e', 'o', 'i', 'e', 'u'), ('e', 'o', 'i', 'i', 'a'), ('e', 'o', 'i', 'i', 'e'), ('e', 'o', 'i', 'i', 'i'), ('e', 'o', 'i', 'i', 'o'), ('e', 'o', 'i', 'i', 'u'), ('e', 'o', 'i', 'o', 'a'), ('e', 'o', 'i', 'o', 'e'), ('e', 'o', 'i', 'o', 'i'), ('e', 'o', 'i', 'o', 'o'), ('e', 'o', 'i', 'o', 'u'), ('e', 'o', 'i', 'u', 'a'), ('e', 'o', 'i', 'u', 'e'), ('e', 'o', 'i', 'u', 'i'), ('e', 'o', 'i', 'u', 'o'), ('e', 'o', 'i', 'u', 'u'), ('e', 'o', 'o', 'a', 'a'), ('e', 'o', 'o', 'a', 'e'), ('e', 'o', 'o', 'a', 'i'), ('e', 'o', 'o', 'a', 'o'), ('e', 'o', 'o', 'a', 'u'), ('e', 'o', 'o', 'e', 'a'), ('e', 'o', 'o', 'e', 'e'), ('e', 'o', 'o', 'e', 'i'), ('e', 'o', 'o', 'e', 'o'), ('e', 'o', 'o', 'e', 'u'), ('e', 'o', 'o', 'i', 'a'), ('e', 'o', 'o', 'i', 'e'), ('e', 'o', 'o', 'i', 'i'), ('e', 'o', 'o', 'i', 'o'), ('e', 'o', 'o', 'i', 'u'), ('e', 'o', 'o', 'o', 'a'), ('e', 'o', 'o', 'o', 'e'), ('e', 'o', 'o', 'o', 'i'), ('e', 'o', 'o', 'o', 'o'), ('e', 'o', 'o', 'o', 'u'), ('e', 'o', 'o', 'u', 'a'), ('e', 'o', 'o', 'u', 'e'), ('e', 'o', 'o', 'u', 'i'), ('e', 'o', 'o', 'u', 'o'), ('e', 'o', 'o', 'u', 'u'), ('e', 'o', 'u', 'a', 'a'), ('e', 'o', 'u', 'a', 'e'), ('e', 'o', 'u', 'a', 'i'), ('e', 'o', 'u', 'a', 'o'), ('e', 'o', 'u', 'a', 'u'), ('e', 'o', 'u', 'e', 'a'), ('e', 'o', 'u', 'e', 'e'), ('e', 'o', 'u', 'e', 'i'), ('e', 'o', 'u', 'e', 'o'), ('e', 'o', 'u', 'e', 'u'), ('e', 'o', 'u', 'i', 'a'), ('e', 'o', 'u', 'i', 'e'), ('e', 'o', 'u', 'i', 'i'), ('e', 'o', 'u', 'i', 'o'), ('e', 'o', 'u', 'i', 'u'), ('e', 'o', 'u', 'o', 'a'), ('e', 'o', 'u', 'o', 'e'), ('e', 'o', 'u', 'o', 'i'), ('e', 'o', 'u', 'o', 'o'), ('e', 'o', 'u', 'o', 'u'), ('e', 'o', 'u', 'u', 'a'), ('e', 'o', 'u', 'u', 'e'), ('e', 'o', 'u', 'u', 'i'), ('e', 'o', 'u', 'u', 'o'), ('e', 'o', 'u', 'u', 'u'), ('e', 'u', 'a', 'a', 'a'), ('e', 'u', 'a', 'a', 'e'), ('e', 'u', 'a', 'a', 'i'), ('e', 'u', 'a', 'a', 'o'), ('e', 'u', 'a', 'a', 'u'), ('e', 'u', 'a', 'e', 'a'), ('e', 'u', 'a', 'e', 'e'), ('e', 'u', 'a', 'e', 'i'), ('e', 'u', 'a', 'e', 'o'), ('e', 'u', 'a', 'e', 'u'), ('e', 'u', 'a', 'i', 'a'), ('e', 'u', 'a', 'i', 'e'), ('e', 'u', 'a', 'i', 'i'), ('e', 'u', 'a', 'i', 'o'), ('e', 'u', 'a', 'i', 'u'), ('e', 'u', 'a', 'o', 'a'), ('e', 'u', 'a', 'o', 'e'), ('e', 'u', 'a', 'o', 'i'), ('e', 'u', 'a', 'o', 'o'), ('e', 'u', 'a', 'o', 'u'), ('e', 'u', 'a', 'u', 'a'), ('e', 'u', 'a', 'u', 'e'), ('e', 'u', 'a', 'u', 'i'), ('e', 'u', 'a', 'u', 'o'), ('e', 'u', 'a', 'u', 'u'), ('e', 'u', 'e', 'a', 'a'), ('e', 'u', 'e', 'a', 'e'), ('e', 'u', 'e', 'a', 'i'), ('e', 'u', 'e', 'a', 'o'), ('e', 'u', 'e', 'a', 'u'), ('e', 'u', 'e', 'e', 'a'), ('e', 'u', 'e', 'e', 'e'), ('e', 'u', 'e', 'e', 'i'), ('e', 'u', 'e', 'e', 'o'), ('e', 'u', 'e', 'e', 'u'), ('e', 'u', 'e', 'i', 'a'), ('e', 'u', 'e', 'i', 'e'), ('e', 'u', 'e', 'i', 'i'), ('e', 'u', 'e', 'i', 'o'), ('e', 'u', 'e', 'i', 'u'), ('e', 'u', 'e', 'o', 'a'), ('e', 'u', 'e', 'o', 'e'), ('e', 'u', 'e', 'o', 'i'), ('e', 'u', 'e', 'o', 'o'), ('e', 'u', 'e', 'o', 'u'), ('e', 'u', 'e', 'u', 'a'), ('e', 'u', 'e', 'u', 'e'), ('e', 'u', 'e', 'u', 'i'), ('e', 'u', 'e', 'u', 'o'), ('e', 'u', 'e', 'u', 'u'), ('e', 'u', 'i', 'a', 'a'), ('e', 'u', 'i', 'a', 'e'), ('e', 'u', 'i', 'a', 'i'), ('e', 'u', 'i', 'a', 'o'), ('e', 'u', 'i', 'a', 'u'), ('e', 'u', 'i', 'e', 'a'), ('e', 'u', 'i', 'e', 'e'), ('e', 'u', 'i', 'e', 'i'), ('e', 'u', 'i', 'e', 'o'), ('e', 'u', 'i', 'e', 'u'), ('e', 'u', 'i', 'i', 'a'), ('e', 'u', 'i', 'i', 'e'), ('e', 'u', 'i', 'i', 'i'), ('e', 'u', 'i', 'i', 'o'), ('e', 'u', 'i', 'i', 'u'), ('e', 'u', 'i', 'o', 'a'), ('e', 'u', 'i', 'o', 'e'), ('e', 'u', 'i', 'o', 'i'), ('e', 'u', 'i', 'o', 'o'), ('e', 'u', 'i', 'o', 'u'), ('e', 'u', 'i', 'u', 'a'), ('e', 'u', 'i', 'u', 'e'), ('e', 'u', 'i', 'u', 'i'), ('e', 'u', 'i', 'u', 'o'), ('e', 'u', 'i', 'u', 'u'), ('e', 'u', 'o', 'a', 'a'), ('e', 'u', 'o', 'a', 'e'), ('e', 'u', 'o', 'a', 'i'), ('e', 'u', 'o', 'a', 'o'), ('e', 'u', 'o', 'a', 'u'), ('e', 'u', 'o', 'e', 'a'), ('e', 'u', 'o', 'e', 'e'), ('e', 'u', 'o', 'e', 'i'), ('e', 'u', 'o', 'e', 'o'), ('e', 'u', 'o', 'e', 'u'), ('e', 'u', 'o', 'i', 'a'), ('e', 'u', 'o', 'i', 'e'), ('e', 'u', 'o', 'i', 'i'), ('e', 'u', 'o', 'i', 'o'), ('e', 'u', 'o', 'i', 'u'), ('e', 'u', 'o', 'o', 'a'), ('e', 'u', 'o', 'o', 'e'), ('e', 'u', 'o', 'o', 'i'), ('e', 'u', 'o', 'o', 'o'), ('e', 'u', 'o', 'o', 'u'), ('e', 'u', 'o', 'u', 'a'), ('e', 'u', 'o', 'u', 'e'), ('e', 'u', 'o', 'u', 'i'), ('e', 'u', 'o', 'u', 'o'), ('e', 'u', 'o', 'u', 'u'), ('e', 'u', 'u', 'a', 'a'), ('e', 'u', 'u', 'a', 'e'), ('e', 'u', 'u', 'a', 'i'), ('e', 'u', 'u', 'a', 'o'), ('e', 'u', 'u', 'a', 'u'), ('e', 'u', 'u', 'e', 'a'), ('e', 'u', 'u', 'e', 'e'), ('e', 'u', 'u', 'e', 'i'), ('e', 'u', 'u', 'e', 'o'), ('e', 'u', 'u', 'e', 'u'), ('e', 'u', 'u', 'i', 'a'), ('e', 'u', 'u', 'i', 'e'), ('e', 'u', 'u', 'i', 'i'), ('e', 'u', 'u', 'i', 'o'), ('e', 'u', 'u', 'i', 'u'), ('e', 'u', 'u', 'o', 'a'), ('e', 'u', 'u', 'o', 'e'), ('e', 'u', 'u', 'o', 'i'), ('e', 'u', 'u', 'o', 'o'), ('e', 'u', 'u', 'o', 'u'), ('e', 'u', 'u', 'u', 'a'), ('e', 'u', 'u', 'u', 'e'), ('e', 'u', 'u', 'u', 'i'), ('e', 'u', 'u', 'u', 'o'), ('e', 'u', 'u', 'u', 'u'), ('i', 'i', 'a', 'a', 'a'), ('i', 'i', 'a', 'a', 'e'), ('i', 'i', 'a', 'a', 'i'), ('i', 'i', 'a', 'a', 'o'), ('i', 'i', 'a', 'a', 'u'), ('i', 'i', 'a', 'e', 'a'), ('i', 'i', 'a', 'e', 'e'), ('i', 'i', 'a', 'e', 'i'), ('i', 'i', 'a', 'e', 'o'), ('i', 'i', 'a', 'e', 'u'), ('i', 'i', 'a', 'i', 'a'), ('i', 'i', 'a', 'i', 'e'), ('i', 'i', 'a', 'i', 'i'), ('i', 'i', 'a', 'i', 'o'), ('i', 'i', 'a', 'i', 'u'), ('i', 'i', 'a', 'o', 'a'), ('i', 'i', 'a', 'o', 'e'), ('i', 'i', 'a', 'o', 'i'), ('i', 'i', 'a', 'o', 'o'), ('i', 'i', 'a', 'o', 'u'), ('i', 'i', 'a', 'u', 'a'), ('i', 'i', 'a', 'u', 'e'), ('i', 'i', 'a', 'u', 'i'), ('i', 'i', 'a', 'u', 'o'), ('i', 'i', 'a', 'u', 'u'), ('i', 'i', 'e', 'a', 'a'), ('i', 'i', 'e', 'a', 'e'), ('i', 'i', 'e', 'a', 'i'), ('i', 'i', 'e', 'a', 'o'), ('i', 'i', 'e', 'a', 'u'), ('i', 'i', 'e', 'e', 'a'), ('i', 'i', 'e', 'e', 'e'), ('i', 'i', 'e', 'e', 'i'), ('i', 'i', 'e', 'e', 'o'), ('i', 'i', 'e', 'e', 'u'), ('i', 'i', 'e', 'i', 'a'), ('i', 'i', 'e', 'i', 'e'), ('i', 'i', 'e', 'i', 'i'), ('i', 'i', 'e', 'i', 'o'), ('i', 'i', 'e', 'i', 'u'), ('i', 'i', 'e', 'o', 'a'), ('i', 'i', 'e', 'o', 'e'), ('i', 'i', 'e', 'o', 'i'), ('i', 'i', 'e', 'o', 'o'), ('i', 'i', 'e', 'o', 'u'), ('i', 'i', 'e', 'u', 'a'), ('i', 'i', 'e', 'u', 'e'), ('i', 'i', 'e', 'u', 'i'), ('i', 'i', 'e', 'u', 'o'), ('i', 'i', 'e', 'u', 'u'), ('i', 'i', 'i', 'a', 'a'), ('i', 'i', 'i', 'a', 'e'), ('i', 'i', 'i', 'a', 'i'), ('i', 'i', 'i', 'a', 'o'), ('i', 'i', 'i', 'a', 'u'), ('i', 'i', 'i', 'e', 'a'), ('i', 'i', 'i', 'e', 'e'), ('i', 'i', 'i', 'e', 'i'), ('i', 'i', 'i', 'e', 'o'), ('i', 'i', 'i', 'e', 'u'), ('i', 'i', 'i', 'i', 'a'), ('i', 'i', 'i', 'i', 'e'), ('i', 'i', 'i', 'i', 'i'), ('i', 'i', 'i', 'i', 'o'), ('i', 'i', 'i', 'i', 'u'), ('i', 'i', 'i', 'o', 'a'), ('i', 'i', 'i', 'o', 'e'), ('i', 'i', 'i', 'o', 'i'), ('i', 'i', 'i', 'o', 'o'), ('i', 'i', 'i', 'o', 'u'), ('i', 'i', 'i', 'u', 'a'), ('i', 'i', 'i', 'u', 'e'), ('i', 'i', 'i', 'u', 'i'), ('i', 'i', 'i', 'u', 'o'), ('i', 'i', 'i', 'u', 'u'), ('i', 'i', 'o', 'a', 'a'), ('i', 'i', 'o', 'a', 'e'), ('i', 'i', 'o', 'a', 'i'), ('i', 'i', 'o', 'a', 'o'), ('i', 'i', 'o', 'a', 'u'), ('i', 'i', 'o', 'e', 'a'), ('i', 'i', 'o', 'e', 'e'), ('i', 'i', 'o', 'e', 'i'), ('i', 'i', 'o', 'e', 'o'), ('i', 'i', 'o', 'e', 'u'), ('i', 'i', 'o', 'i', 'a'), ('i', 'i', 'o', 'i', 'e'), ('i', 'i', 'o', 'i', 'i'), ('i', 'i', 'o', 'i', 'o'), ('i', 'i', 'o', 'i', 'u'), ('i', 'i', 'o', 'o', 'a'), ('i', 'i', 'o', 'o', 'e'), ('i', 'i', 'o', 'o', 'i'), ('i', 'i', 'o', 'o', 'o'), ('i', 'i', 'o', 'o', 'u'), ('i', 'i', 'o', 'u', 'a'), ('i', 'i', 'o', 'u', 'e'), ('i', 'i', 'o', 'u', 'i'), ('i', 'i', 'o', 'u', 'o'), ('i', 'i', 'o', 'u', 'u'), ('i', 'i', 'u', 'a', 'a'), ('i', 'i', 'u', 'a', 'e'), ('i', 'i', 'u', 'a', 'i'), ('i', 'i', 'u', 'a', 'o'), ('i', 'i', 'u', 'a', 'u'), ('i', 'i', 'u', 'e', 'a'), ('i', 'i', 'u', 'e', 'e'), ('i', 'i', 'u', 'e', 'i'), ('i', 'i', 'u', 'e', 'o'), ('i', 'i', 'u', 'e', 'u'), ('i', 'i', 'u', 'i', 'a'), ('i', 'i', 'u', 'i', 'e'), ('i', 'i', 'u', 'i', 'i'), ('i', 'i', 'u', 'i', 'o'), ('i', 'i', 'u', 'i', 'u'), ('i', 'i', 'u', 'o', 'a'), ('i', 'i', 'u', 'o', 'e'), ('i', 'i', 'u', 'o', 'i'), ('i', 'i', 'u', 'o', 'o'), ('i', 'i', 'u', 'o', 'u'), ('i', 'i', 'u', 'u', 'a'), ('i', 'i', 'u', 'u', 'e'), ('i', 'i', 'u', 'u', 'i'), ('i', 'i', 'u', 'u', 'o'), ('i', 'i', 'u', 'u', 'u'), ('i', 'o', 'a', 'a', 'a'), ('i', 'o', 'a', 'a', 'e'), ('i', 'o', 'a', 'a', 'i'), ('i', 'o', 'a', 'a', 'o'), ('i', 'o', 'a', 'a', 'u'), ('i', 'o', 'a', 'e', 'a'), ('i', 'o', 'a', 'e', 'e'), ('i', 'o', 'a', 'e', 'i'), ('i', 'o', 'a', 'e', 'o'), ('i', 'o', 'a', 'e', 'u'), ('i', 'o', 'a', 'i', 'a'), ('i', 'o', 'a', 'i', 'e'), ('i', 'o', 'a', 'i', 'i'), ('i', 'o', 'a', 'i', 'o'), ('i', 'o', 'a', 'i', 'u'), ('i', 'o', 'a', 'o', 'a'), ('i', 'o', 'a', 'o', 'e'), ('i', 'o', 'a', 'o', 'i'), ('i', 'o', 'a', 'o', 'o'), ('i', 'o', 'a', 'o', 'u'), ('i', 'o', 'a', 'u', 'a'), ('i', 'o', 'a', 'u', 'e'), ('i', 'o', 'a', 'u', 'i'), ('i', 'o', 'a', 'u', 'o'), ('i', 'o', 'a', 'u', 'u'), ('i', 'o', 'e', 'a', 'a'), ('i', 'o', 'e', 'a', 'e'), ('i', 'o', 'e', 'a', 'i'), ('i', 'o', 'e', 'a', 'o'), ('i', 'o', 'e', 'a', 'u'), ('i', 'o', 'e', 'e', 'a'), ('i', 'o', 'e', 'e', 'e'), ('i', 'o', 'e', 'e', 'i'), ('i', 'o', 'e', 'e', 'o'), ('i', 'o', 'e', 'e', 'u'), ('i', 'o', 'e', 'i', 'a'), ('i', 'o', 'e', 'i', 'e'), ('i', 'o', 'e', 'i', 'i'), ('i', 'o', 'e', 'i', 'o'), ('i', 'o', 'e', 'i', 'u'), ('i', 'o', 'e', 'o', 'a'), ('i', 'o', 'e', 'o', 'e'), ('i', 'o', 'e', 'o', 'i'), ('i', 'o', 'e', 'o', 'o'), ('i', 'o', 'e', 'o', 'u'), ('i', 'o', 'e', 'u', 'a'), ('i', 'o', 'e', 'u', 'e'), ('i', 'o', 'e', 'u', 'i'), ('i', 'o', 'e', 'u', 'o'), ('i', 'o', 'e', 'u', 'u'), ('i', 'o', 'i', 'a', 'a'), ('i', 'o', 'i', 'a', 'e'), ('i', 'o', 'i', 'a', 'i'), ('i', 'o', 'i', 'a', 'o'), ('i', 'o', 'i', 'a', 'u'), ('i', 'o', 'i', 'e', 'a'), ('i', 'o', 'i', 'e', 'e'), ('i', 'o', 'i', 'e', 'i'), ('i', 'o', 'i', 'e', 'o'), ('i', 'o', 'i', 'e', 'u'), ('i', 'o', 'i', 'i', 'a'), ('i', 'o', 'i', 'i', 'e'), ('i', 'o', 'i', 'i', 'i'), ('i', 'o', 'i', 'i', 'o'), ('i', 'o', 'i', 'i', 'u'), ('i', 'o', 'i', 'o', 'a'), ('i', 'o', 'i', 'o', 'e'), ('i', 'o', 'i', 'o', 'i'), ('i', 'o', 'i', 'o', 'o'), ('i', 'o', 'i', 'o', 'u'), ('i', 'o', 'i', 'u', 'a'), ('i', 'o', 'i', 'u', 'e'), ('i', 'o', 'i', 'u', 'i'), ('i', 'o', 'i', 'u', 'o'), ('i', 'o', 'i', 'u', 'u'), ('i', 'o', 'o', 'a', 'a'), ('i', 'o', 'o', 'a', 'e'), ('i', 'o', 'o', 'a', 'i'), ('i', 'o', 'o', 'a', 'o'), ('i', 'o', 'o', 'a', 'u'), ('i', 'o', 'o', 'e', 'a'), ('i', 'o', 'o', 'e', 'e'), ('i', 'o', 'o', 'e', 'i'), ('i', 'o', 'o', 'e', 'o'), ('i', 'o', 'o', 'e', 'u'), ('i', 'o', 'o', 'i', 'a'), ('i', 'o', 'o', 'i', 'e'), ('i', 'o', 'o', 'i', 'i'), ('i', 'o', 'o', 'i', 'o'), ('i', 'o', 'o', 'i', 'u'), ('i', 'o', 'o', 'o', 'a'), ('i', 'o', 'o', 'o', 'e'), ('i', 'o', 'o', 'o', 'i'), ('i', 'o', 'o', 'o', 'o'), ('i', 'o', 'o', 'o', 'u'), ('i', 'o', 'o', 'u', 'a'), ('i', 'o', 'o', 'u', 'e'), ('i', 'o', 'o', 'u', 'i'), ('i', 'o', 'o', 'u', 'o'), ('i', 'o', 'o', 'u', 'u'), ('i', 'o', 'u', 'a', 'a'), ('i', 'o', 'u', 'a', 'e'), ('i', 'o', 'u', 'a', 'i'), ('i', 'o', 'u', 'a', 'o'), ('i', 'o', 'u', 'a', 'u'), ('i', 'o', 'u', 'e', 'a'), ('i', 'o', 'u', 'e', 'e'), ('i', 'o', 'u', 'e', 'i'), ('i', 'o', 'u', 'e', 'o'), ('i', 'o', 'u', 'e', 'u'), ('i', 'o', 'u', 'i', 'a'), ('i', 'o', 'u', 'i', 'e'), ('i', 'o', 'u', 'i', 'i'), ('i', 'o', 'u', 'i', 'o'), ('i', 'o', 'u', 'i', 'u'), ('i', 'o', 'u', 'o', 'a'), ('i', 'o', 'u', 'o', 'e'), ('i', 'o', 'u', 'o', 'i'), ('i', 'o', 'u', 'o', 'o'), ('i', 'o', 'u', 'o', 'u'), ('i', 'o', 'u', 'u', 'a'), ('i', 'o', 'u', 'u', 'e'), ('i', 'o', 'u', 'u', 'i'), ('i', 'o', 'u', 'u', 'o'), ('i', 'o', 'u', 'u', 'u'), ('i', 'u', 'a', 'a', 'a'), ('i', 'u', 'a', 'a', 'e'), ('i', 'u', 'a', 'a', 'i'), ('i', 'u', 'a', 'a', 'o'), ('i', 'u', 'a', 'a', 'u'), ('i', 'u', 'a', 'e', 'a'), ('i', 'u', 'a', 'e', 'e'), ('i', 'u', 'a', 'e', 'i'), ('i', 'u', 'a', 'e', 'o'), ('i', 'u', 'a', 'e', 'u'), ('i', 'u', 'a', 'i', 'a'), ('i', 'u', 'a', 'i', 'e'), ('i', 'u', 'a', 'i', 'i'), ('i', 'u', 'a', 'i', 'o'), ('i', 'u', 'a', 'i', 'u'), ('i', 'u', 'a', 'o', 'a'), ('i', 'u', 'a', 'o', 'e'), ('i', 'u', 'a', 'o', 'i'), ('i', 'u', 'a', 'o', 'o'), ('i', 'u', 'a', 'o', 'u'), ('i', 'u', 'a', 'u', 'a'), ('i', 'u', 'a', 'u', 'e'), ('i', 'u', 'a', 'u', 'i'), ('i', 'u', 'a', 'u', 'o'), ('i', 'u', 'a', 'u', 'u'), ('i', 'u', 'e', 'a', 'a'), ('i', 'u', 'e', 'a', 'e'), ('i', 'u', 'e', 'a', 'i'), ('i', 'u', 'e', 'a', 'o'), ('i', 'u', 'e', 'a', 'u'), ('i', 'u', 'e', 'e', 'a'), ('i', 'u', 'e', 'e', 'e'), ('i', 'u', 'e', 'e', 'i'), ('i', 'u', 'e', 'e', 'o'), ('i', 'u', 'e', 'e', 'u'), ('i', 'u', 'e', 'i', 'a'), ('i', 'u', 'e', 'i', 'e'), ('i', 'u', 'e', 'i', 'i'), ('i', 'u', 'e', 'i', 'o'), ('i', 'u', 'e', 'i', 'u'), ('i', 'u', 'e', 'o', 'a'), ('i', 'u', 'e', 'o', 'e'), ('i', 'u', 'e', 'o', 'i'), ('i', 'u', 'e', 'o', 'o'), ('i', 'u', 'e', 'o', 'u'), ('i', 'u', 'e', 'u', 'a'), ('i', 'u', 'e', 'u', 'e'), ('i', 'u', 'e', 'u', 'i'), ('i', 'u', 'e', 'u', 'o'), ('i', 'u', 'e', 'u', 'u'), ('i', 'u', 'i', 'a', 'a'), ('i', 'u', 'i', 'a', 'e'), ('i', 'u', 'i', 'a', 'i'), ('i', 'u', 'i', 'a', 'o'), ('i', 'u', 'i', 'a', 'u'), ('i', 'u', 'i', 'e', 'a'), ('i', 'u', 'i', 'e', 'e'), ('i', 'u', 'i', 'e', 'i'), ('i', 'u', 'i', 'e', 'o'), ('i', 'u', 'i', 'e', 'u'), ('i', 'u', 'i', 'i', 'a'), ('i', 'u', 'i', 'i', 'e'), ('i', 'u', 'i', 'i', 'i'), ('i', 'u', 'i', 'i', 'o'), ('i', 'u', 'i', 'i', 'u'), ('i', 'u', 'i', 'o', 'a'), ('i', 'u', 'i', 'o', 'e'), ('i', 'u', 'i', 'o', 'i'), ('i', 'u', 'i', 'o', 'o'), ('i', 'u', 'i', 'o', 'u'), ('i', 'u', 'i', 'u', 'a'), ('i', 'u', 'i', 'u', 'e'), ('i', 'u', 'i', 'u', 'i'), ('i', 'u', 'i', 'u', 'o'), ('i', 'u', 'i', 'u', 'u'), ('i', 'u', 'o', 'a', 'a'), ('i', 'u', 'o', 'a', 'e'), ('i', 'u', 'o', 'a', 'i'), ('i', 'u', 'o', 'a', 'o'), ('i', 'u', 'o', 'a', 'u'), ('i', 'u', 'o', 'e', 'a'), ('i', 'u', 'o', 'e', 'e'), ('i', 'u', 'o', 'e', 'i'), ('i', 'u', 'o', 'e', 'o'), ('i', 'u', 'o', 'e', 'u'), ('i', 'u', 'o', 'i', 'a'), ('i', 'u', 'o', 'i', 'e'), ('i', 'u', 'o', 'i', 'i'), ('i', 'u', 'o', 'i', 'o'), ('i', 'u', 'o', 'i', 'u'), ('i', 'u', 'o', 'o', 'a'), ('i', 'u', 'o', 'o', 'e'), ('i', 'u', 'o', 'o', 'i'), ('i', 'u', 'o', 'o', 'o'), ('i', 'u', 'o', 'o', 'u'), ('i', 'u', 'o', 'u', 'a'), ('i', 'u', 'o', 'u', 'e'), ('i', 'u', 'o', 'u', 'i'), ('i', 'u', 'o', 'u', 'o'), ('i', 'u', 'o', 'u', 'u'), ('i', 'u', 'u', 'a', 'a'), ('i', 'u', 'u', 'a', 'e'), ('i', 'u', 'u', 'a', 'i'), ('i', 'u', 'u', 'a', 'o'), ('i', 'u', 'u', 'a', 'u'), ('i', 'u', 'u', 'e', 'a'), ('i', 'u', 'u', 'e', 'e'), ('i', 'u', 'u', 'e', 'i'), ('i', 'u', 'u', 'e', 'o'), ('i', 'u', 'u', 'e', 'u'), ('i', 'u', 'u', 'i', 'a'), ('i', 'u', 'u', 'i', 'e'), ('i', 'u', 'u', 'i', 'i'), ('i', 'u', 'u', 'i', 'o'), ('i', 'u', 'u', 'i', 'u'), ('i', 'u', 'u', 'o', 'a'), ('i', 'u', 'u', 'o', 'e'), ('i', 'u', 'u', 'o', 'i'), ('i', 'u', 'u', 'o', 'o'), ('i', 'u', 'u', 'o', 'u'), ('i', 'u', 'u', 'u', 'a'), ('i', 'u', 'u', 'u', 'e'), ('i', 'u', 'u', 'u', 'i'), ('i', 'u', 'u', 'u', 'o'), ('i', 'u', 'u', 'u', 'u'), ('o', 'o', 'a', 'a', 'a'), ('o', 'o', 'a', 'a', 'e'), ('o', 'o', 'a', 'a', 'i'), ('o', 'o', 'a', 'a', 'o'), ('o', 'o', 'a', 'a', 'u'), ('o', 'o', 'a', 'e', 'a'), ('o', 'o', 'a', 'e', 'e'), ('o', 'o', 'a', 'e', 'i'), ('o', 'o', 'a', 'e', 'o'), ('o', 'o', 'a', 'e', 'u'), ('o', 'o', 'a', 'i', 'a'), ('o', 'o', 'a', 'i', 'e'), ('o', 'o', 'a', 'i', 'i'), ('o', 'o', 'a', 'i', 'o'), ('o', 'o', 'a', 'i', 'u'), ('o', 'o', 'a', 'o', 'a'), ('o', 'o', 'a', 'o', 'e'), ('o', 'o', 'a', 'o', 'i'), ('o', 'o', 'a', 'o', 'o'), ('o', 'o', 'a', 'o', 'u'), ('o', 'o', 'a', 'u', 'a'), ('o', 'o', 'a', 'u', 'e'), ('o', 'o', 'a', 'u', 'i'), ('o', 'o', 'a', 'u', 'o'), ('o', 'o', 'a', 'u', 'u'), ('o', 'o', 'e', 'a', 'a'), ('o', 'o', 'e', 'a', 'e'), ('o', 'o', 'e', 'a', 'i'), ('o', 'o', 'e', 'a', 'o'), ('o', 'o', 'e', 'a', 'u'), ('o', 'o', 'e', 'e', 'a'), ('o', 'o', 'e', 'e', 'e'), ('o', 'o', 'e', 'e', 'i'), ('o', 'o', 'e', 'e', 'o'), ('o', 'o', 'e', 'e', 'u'), ('o', 'o', 'e', 'i', 'a'), ('o', 'o', 'e', 'i', 'e'), ('o', 'o', 'e', 'i', 'i'), ('o', 'o', 'e', 'i', 'o'), ('o', 'o', 'e', 'i', 'u'), ('o', 'o', 'e', 'o', 'a'), ('o', 'o', 'e', 'o', 'e'), ('o', 'o', 'e', 'o', 'i'), ('o', 'o', 'e', 'o', 'o'), ('o', 'o', 'e', 'o', 'u'), ('o', 'o', 'e', 'u', 'a'), ('o', 'o', 'e', 'u', 'e'), ('o', 'o', 'e', 'u', 'i'), ('o', 'o', 'e', 'u', 'o'), ('o', 'o', 'e', 'u', 'u'), ('o', 'o', 'i', 'a', 'a'), ('o', 'o', 'i', 'a', 'e'), ('o', 'o', 'i', 'a', 'i'), ('o', 'o', 'i', 'a', 'o'), ('o', 'o', 'i', 'a', 'u'), ('o', 'o', 'i', 'e', 'a'), ('o', 'o', 'i', 'e', 'e'), ('o', 'o', 'i', 'e', 'i'), ('o', 'o', 'i', 'e', 'o'), ('o', 'o', 'i', 'e', 'u'), ('o', 'o', 'i', 'i', 'a'), ('o', 'o', 'i', 'i', 'e'), ('o', 'o', 'i', 'i', 'i'), ('o', 'o', 'i', 'i', 'o'), ('o', 'o', 'i', 'i', 'u'), ('o', 'o', 'i', 'o', 'a'), ('o', 'o', 'i', 'o', 'e'), ('o', 'o', 'i', 'o', 'i'), ('o', 'o', 'i', 'o', 'o'), ('o', 'o', 'i', 'o', 'u'), ('o', 'o', 'i', 'u', 'a'), ('o', 'o', 'i', 'u', 'e'), ('o', 'o', 'i', 'u', 'i'), ('o', 'o', 'i', 'u', 'o'), ('o', 'o', 'i', 'u', 'u'), ('o', 'o', 'o', 'a', 'a'), ('o', 'o', 'o', 'a', 'e'), ('o', 'o', 'o', 'a', 'i'), ('o', 'o', 'o', 'a', 'o'), ('o', 'o', 'o', 'a', 'u'), ('o', 'o', 'o', 'e', 'a'), ('o', 'o', 'o', 'e', 'e'), ('o', 'o', 'o', 'e', 'i'), ('o', 'o', 'o', 'e', 'o'), ('o', 'o', 'o', 'e', 'u'), ('o', 'o', 'o', 'i', 'a'), ('o', 'o', 'o', 'i', 'e'), ('o', 'o', 'o', 'i', 'i'), ('o', 'o', 'o', 'i', 'o'), ('o', 'o', 'o', 'i', 'u'), ('o', 'o', 'o', 'o', 'a'), ('o', 'o', 'o', 'o', 'e'), ('o', 'o', 'o', 'o', 'i'), ('o', 'o', 'o', 'o', 'o'), ('o', 'o', 'o', 'o', 'u'), ('o', 'o', 'o', 'u', 'a'), ('o', 'o', 'o', 'u', 'e'), ('o', 'o', 'o', 'u', 'i'), ('o', 'o', 'o', 'u', 'o'), ('o', 'o', 'o', 'u', 'u'), ('o', 'o', 'u', 'a', 'a'), ('o', 'o', 'u', 'a', 'e'), ('o', 'o', 'u', 'a', 'i'), ('o', 'o', 'u', 'a', 'o'), ('o', 'o', 'u', 'a', 'u'), ('o', 'o', 'u', 'e', 'a'), ('o', 'o', 'u', 'e', 'e'), ('o', 'o', 'u', 'e', 'i'), ('o', 'o', 'u', 'e', 'o'), ('o', 'o', 'u', 'e', 'u'), ('o', 'o', 'u', 'i', 'a'), ('o', 'o', 'u', 'i', 'e'), ('o', 'o', 'u', 'i', 'i'), ('o', 'o', 'u', 'i', 'o'), ('o', 'o', 'u', 'i', 'u'), ('o', 'o', 'u', 'o', 'a'), ('o', 'o', 'u', 'o', 'e'), ('o', 'o', 'u', 'o', 'i'), ('o', 'o', 'u', 'o', 'o'), ('o', 'o', 'u', 'o', 'u'), ('o', 'o', 'u', 'u', 'a'), ('o', 'o', 'u', 'u', 'e'), ('o', 'o', 'u', 'u', 'i'), ('o', 'o', 'u', 'u', 'o'), ('o', 'o', 'u', 'u', 'u'), ('o', 'u', 'a', 'a', 'a'), ('o', 'u', 'a', 'a', 'e'), ('o', 'u', 'a', 'a', 'i'), ('o', 'u', 'a', 'a', 'o'), ('o', 'u', 'a', 'a', 'u'), ('o', 'u', 'a', 'e', 'a'), ('o', 'u', 'a', 'e', 'e'), ('o', 'u', 'a', 'e', 'i'), ('o', 'u', 'a', 'e', 'o'), ('o', 'u', 'a', 'e', 'u'), ('o', 'u', 'a', 'i', 'a'), ('o', 'u', 'a', 'i', 'e'), ('o', 'u', 'a', 'i', 'i'), ('o', 'u', 'a', 'i', 'o'), ('o', 'u', 'a', 'i', 'u'), ('o', 'u', 'a', 'o', 'a'), ('o', 'u', 'a', 'o', 'e'), ('o', 'u', 'a', 'o', 'i'), ('o', 'u', 'a', 'o', 'o'), ('o', 'u', 'a', 'o', 'u'), ('o', 'u', 'a', 'u', 'a'), ('o', 'u', 'a', 'u', 'e'), ('o', 'u', 'a', 'u', 'i'), ('o', 'u', 'a', 'u', 'o'), ('o', 'u', 'a', 'u', 'u'), ('o', 'u', 'e', 'a', 'a'), ('o', 'u', 'e', 'a', 'e'), ('o', 'u', 'e', 'a', 'i'), ('o', 'u', 'e', 'a', 'o'), ('o', 'u', 'e', 'a', 'u'), ('o', 'u', 'e', 'e', 'a'), ('o', 'u', 'e', 'e', 'e'), ('o', 'u', 'e', 'e', 'i'), ('o', 'u', 'e', 'e', 'o'), ('o', 'u', 'e', 'e', 'u'), ('o', 'u', 'e', 'i', 'a'), ('o', 'u', 'e', 'i', 'e'), ('o', 'u', 'e', 'i', 'i'), ('o', 'u', 'e', 'i', 'o'), ('o', 'u', 'e', 'i', 'u'), ('o', 'u', 'e', 'o', 'a'), ('o', 'u', 'e', 'o', 'e'), ('o', 'u', 'e', 'o', 'i'), ('o', 'u', 'e', 'o', 'o'), ('o', 'u', 'e', 'o', 'u'), ('o', 'u', 'e', 'u', 'a'), ('o', 'u', 'e', 'u', 'e'), ('o', 'u', 'e', 'u', 'i'), ('o', 'u', 'e', 'u', 'o'), ('o', 'u', 'e', 'u', 'u'), ('o', 'u', 'i', 'a', 'a'), ('o', 'u', 'i', 'a', 'e'), ('o', 'u', 'i', 'a', 'i'), ('o', 'u', 'i', 'a', 'o'), ('o', 'u', 'i', 'a', 'u'), ('o', 'u', 'i', 'e', 'a'), ('o', 'u', 'i', 'e', 'e'), ('o', 'u', 'i', 'e', 'i'), ('o', 'u', 'i', 'e', 'o'), ('o', 'u', 'i', 'e', 'u'), ('o', 'u', 'i', 'i', 'a'), ('o', 'u', 'i', 'i', 'e'), ('o', 'u', 'i', 'i', 'i'), ('o', 'u', 'i', 'i', 'o'), ('o', 'u', 'i', 'i', 'u'), ('o', 'u', 'i', 'o', 'a'), ('o', 'u', 'i', 'o', 'e'), ('o', 'u', 'i', 'o', 'i'), ('o', 'u', 'i', 'o', 'o'), ('o', 'u', 'i', 'o', 'u'), ('o', 'u', 'i', 'u', 'a'), ('o', 'u', 'i', 'u', 'e'), ('o', 'u', 'i', 'u', 'i'), ('o', 'u', 'i', 'u', 'o'), ('o', 'u', 'i', 'u', 'u'), ('o', 'u', 'o', 'a', 'a'), ('o', 'u', 'o', 'a', 'e'), ('o', 'u', 'o', 'a', 'i'), ('o', 'u', 'o', 'a', 'o'), ('o', 'u', 'o', 'a', 'u'), ('o', 'u', 'o', 'e', 'a'), ('o', 'u', 'o', 'e', 'e'), ('o', 'u', 'o', 'e', 'i'), ('o', 'u', 'o', 'e', 'o'), ('o', 'u', 'o', 'e', 'u'), ('o', 'u', 'o', 'i', 'a'), ('o', 'u', 'o', 'i', 'e'), ('o', 'u', 'o', 'i', 'i'), ('o', 'u', 'o', 'i', 'o'), ('o', 'u', 'o', 'i', 'u'), ('o', 'u', 'o', 'o', 'a'), ('o', 'u', 'o', 'o', 'e'), ('o', 'u', 'o', 'o', 'i'), ('o', 'u', 'o', 'o', 'o'), ('o', 'u', 'o', 'o', 'u'), ('o', 'u', 'o', 'u', 'a'), ('o', 'u', 'o', 'u', 'e'), ('o', 'u', 'o', 'u', 'i'), ('o', 'u', 'o', 'u', 'o'), ('o', 'u', 'o', 'u', 'u'), ('o', 'u', 'u', 'a', 'a'), ('o', 'u', 'u', 'a', 'e'), ('o', 'u', 'u', 'a', 'i'), ('o', 'u', 'u', 'a', 'o'), ('o', 'u', 'u', 'a', 'u'), ('o', 'u', 'u', 'e', 'a'), ('o', 'u', 'u', 'e', 'e'), ('o', 'u', 'u', 'e', 'i'), ('o', 'u', 'u', 'e', 'o'), ('o', 'u', 'u', 'e', 'u'), ('o', 'u', 'u', 'i', 'a'), ('o', 'u', 'u', 'i', 'e'), ('o', 'u', 'u', 'i', 'i'), ('o', 'u', 'u', 'i', 'o'), ('o', 'u', 'u', 'i', 'u'), ('o', 'u', 'u', 'o', 'a'), ('o', 'u', 'u', 'o', 'e'), ('o', 'u', 'u', 'o', 'i'), ('o', 'u', 'u', 'o', 'o'), ('o', 'u', 'u', 'o', 'u'), ('o', 'u', 'u', 'u', 'a'), ('o', 'u', 'u', 'u', 'e'), ('o', 'u', 'u', 'u', 'i'), ('o', 'u', 'u', 'u', 'o'), ('o', 'u', 'u', 'u', 'u'), ('u', 'u', 'a', 'a', 'a'), ('u', 'u', 'a', 'a', 'e'), ('u', 'u', 'a', 'a', 'i'), ('u', 'u', 'a', 'a', 'o'), ('u', 'u', 'a', 'a', 'u'), ('u', 'u', 'a', 'e', 'a'), ('u', 'u', 'a', 'e', 'e'), ('u', 'u', 'a', 'e', 'i'), ('u', 'u', 'a', 'e', 'o'), ('u', 'u', 'a', 'e', 'u'), ('u', 'u', 'a', 'i', 'a'), ('u', 'u', 'a', 'i', 'e'), ('u', 'u', 'a', 'i', 'i'), ('u', 'u', 'a', 'i', 'o'), ('u', 'u', 'a', 'i', 'u'), ('u', 'u', 'a', 'o', 'a'), ('u', 'u', 'a', 'o', 'e'), ('u', 'u', 'a', 'o', 'i'), ('u', 'u', 'a', 'o', 'o'), ('u', 'u', 'a', 'o', 'u'), ('u', 'u', 'a', 'u', 'a'), ('u', 'u', 'a', 'u', 'e'), ('u', 'u', 'a', 'u', 'i'), ('u', 'u', 'a', 'u', 'o'), ('u', 'u', 'a', 'u', 'u'), ('u', 'u', 'e', 'a', 'a'), ('u', 'u', 'e', 'a', 'e'), ('u', 'u', 'e', 'a', 'i'), ('u', 'u', 'e', 'a', 'o'), ('u', 'u', 'e', 'a', 'u'), ('u', 'u', 'e', 'e', 'a'), ('u', 'u', 'e', 'e', 'e'), ('u', 'u', 'e', 'e', 'i'), ('u', 'u', 'e', 'e', 'o'), ('u', 'u', 'e', 'e', 'u'), ('u', 'u', 'e', 'i', 'a'), ('u', 'u', 'e', 'i', 'e'), ('u', 'u', 'e', 'i', 'i'), ('u', 'u', 'e', 'i', 'o'), ('u', 'u', 'e', 'i', 'u'), ('u', 'u', 'e', 'o', 'a'), ('u', 'u', 'e', 'o', 'e'), ('u', 'u', 'e', 'o', 'i'), ('u', 'u', 'e', 'o', 'o'), ('u', 'u', 'e', 'o', 'u'), ('u', 'u', 'e', 'u', 'a'), ('u', 'u', 'e', 'u', 'e'), ('u', 'u', 'e', 'u', 'i'), ('u', 'u', 'e', 'u', 'o'), ('u', 'u', 'e', 'u', 'u'), ('u', 'u', 'i', 'a', 'a'), ('u', 'u', 'i', 'a', 'e'), ('u', 'u', 'i', 'a', 'i'), ('u', 'u', 'i', 'a', 'o'), ('u', 'u', 'i', 'a', 'u'), ('u', 'u', 'i', 'e', 'a'), ('u', 'u', 'i', 'e', 'e'), ('u', 'u', 'i', 'e', 'i'), ('u', 'u', 'i', 'e', 'o'), ('u', 'u', 'i', 'e', 'u'), ('u', 'u', 'i', 'i', 'a'), ('u', 'u', 'i', 'i', 'e'), ('u', 'u', 'i', 'i', 'i'), ('u', 'u', 'i', 'i', 'o'), ('u', 'u', 'i', 'i', 'u'), ('u', 'u', 'i', 'o', 'a'), ('u', 'u', 'i', 'o', 'e'), ('u', 'u', 'i', 'o', 'i'), ('u', 'u', 'i', 'o', 'o'), ('u', 'u', 'i', 'o', 'u'), ('u', 'u', 'i', 'u', 'a'), ('u', 'u', 'i', 'u', 'e'), ('u', 'u', 'i', 'u', 'i'), ('u', 'u', 'i', 'u', 'o'), ('u', 'u', 'i', 'u', 'u'), ('u', 'u', 'o', 'a', 'a'), ('u', 'u', 'o', 'a', 'e'), ('u', 'u', 'o', 'a', 'i'), ('u', 'u', 'o', 'a', 'o'), ('u', 'u', 'o', 'a', 'u'), ('u', 'u', 'o', 'e', 'a'), ('u', 'u', 'o', 'e', 'e'), ('u', 'u', 'o', 'e', 'i'), ('u', 'u', 'o', 'e', 'o'), ('u', 'u', 'o', 'e', 'u'), ('u', 'u', 'o', 'i', 'a'), ('u', 'u', 'o', 'i', 'e'), ('u', 'u', 'o', 'i', 'i'), ('u', 'u', 'o', 'i', 'o'), ('u', 'u', 'o', 'i', 'u'), ('u', 'u', 'o', 'o', 'a'), ('u', 'u', 'o', 'o', 'e'), ('u', 'u', 'o', 'o', 'i'), ('u', 'u', 'o', 'o', 'o'), ('u', 'u', 'o', 'o', 'u'), ('u', 'u', 'o', 'u', 'a'), ('u', 'u', 'o', 'u', 'e'), ('u', 'u', 'o', 'u', 'i'), ('u', 'u', 'o', 'u', 'o'), ('u', 'u', 'o', 'u', 'u'), ('u', 'u', 'u', 'a', 'a'), ('u', 'u', 'u', 'a', 'e'), ('u', 'u', 'u', 'a', 'i'), ('u', 'u', 'u', 'a', 'o'), ('u', 'u', 'u', 'a', 'u'), ('u', 'u', 'u', 'e', 'a'), ('u', 'u', 'u', 'e', 'e'), ('u', 'u', 'u', 'e', 'i'), ('u', 'u', 'u', 'e', 'o'), ('u', 'u', 'u', 'e', 'u'), ('u', 'u', 'u', 'i', 'a'), ('u', 'u', 'u', 'i', 'e'), ('u', 'u', 'u', 'i', 'i'), ('u', 'u', 'u', 'i', 'o'), ('u', 'u', 'u', 'i', 'u'), ('u', 'u', 'u', 'o', 'a'), ('u', 'u', 'u', 'o', 'e'), ('u', 'u', 'u', 'o', 'i'), ('u', 'u', 'u', 'o', 'o'), ('u', 'u', 'u', 'o', 'u'), ('u', 'u', 'u', 'u', 'a'), ('u', 'u', 'u', 'u', 'e'), ('u', 'u', 'u', 'u', 'i'), ('u', 'u', 'u', 'u', 'o'), ('u', 'u', 'u', 'u', 'u')]\n",
            "1875\n"
          ]
        }
      ],
      "source": [
        "# https://leetcode.com/problems/count-sorted-vowel-strings/\n",
        "\n",
        "import itertools\n",
        "\n",
        "n = 5\n",
        "vowels = 'aeiou'\n",
        "result_arr = list(itertools.product(vowels, repeat=n))\n",
        "\n",
        "print(result_arr)\n",
        "print(len(result_arr))\n",
        "\n",
        "# for val in result_arr: \n",
        "#   if vowels.index(val[0]) > vowels.index(val[1]) : \n",
        "#     print(val)\n",
        "#     result_arr.remove(val)\n",
        "\n",
        "i = 0 \n",
        "while i <= len(result_arr):\n",
        "  for val in result_arr: \n",
        "    if vowels.index(val[0]) > vowels.index(val[1]) : \n",
        "      print(val)\n",
        "      result_arr.remove(val)\n",
        "  i+=1\n",
        "\n",
        "\n",
        "print(result_arr)\n",
        "print(len(result_arr))"
      ]
    },
    {
      "cell_type": "code",
      "execution_count": null,
      "metadata": {
        "colab": {
          "base_uri": "https://localhost:8080/"
        },
        "id": "ro28W139nr6b",
        "outputId": "b258b8fe-6ef6-44f2-86cd-2cce597b4110"
      },
      "outputs": [
        {
          "name": "stdout",
          "output_type": "stream",
          "text": [
            "here\n",
            "here\n",
            "here\n",
            "55\n",
            "here\n",
            "here\n",
            "4\n",
            "5\n",
            "[4, 5, 6]\n"
          ]
        }
      ],
      "source": [
        "\n",
        "arr = [3,7,5,55,56,22,4,5,6]\n",
        "# arr.sort()\n",
        "temp_arr = []\n",
        "\n",
        "result_arr = []\n",
        "\n",
        "for i in range(1,len(arr)):\n",
        "  #print(arr[i])\n",
        "  if arr[i-1]+1==arr[i] : \n",
        "    print(arr[i-1])\n",
        "    if arr[i-1] not in temp_arr: temp_arr.append(arr[i-1])\n",
        "    if arr[i] not in temp_arr: temp_arr.append(arr[i])\n",
        "  else:   \n",
        "    print('here')\n",
        "    if len(temp_arr) < 3 : \n",
        "      temp_arr = []\n",
        "    elif len(temp_arr) == 3 :\n",
        "      result_arr.append(temp_arr)\n",
        "      temp_arr = []\n",
        "\n",
        "print(temp_arr)\n"
      ]
    },
    {
      "cell_type": "code",
      "execution_count": null,
      "metadata": {
        "id": "28JIz6tUq74i"
      },
      "outputs": [],
      "source": [
        "Input:ARP\n",
        "Out: ARP\n",
        "APR\n",
        "PAR\n",
        "PRA\n",
        "RAP\n",
        "RPA\n"
      ]
    },
    {
      "cell_type": "code",
      "execution_count": null,
      "metadata": {
        "colab": {
          "base_uri": "https://localhost:8080/"
        },
        "id": "qgY2fSHRq__Q",
        "outputId": "baeb86a4-daa3-4a4c-9701-4c79a198a086"
      },
      "outputs": [
        {
          "name": "stdout",
          "output_type": "stream",
          "text": [
            "['A', 'R', 'P']\n"
          ]
        }
      ],
      "source": [
        "input = 'ARP'\n",
        "\n",
        "input_arr = list(map(str,input))\n",
        "print(input_arr)\n",
        "\n",
        "temp_str = ''\n",
        "\n",
        "for val in input_arr: \n",
        "  temp_str+\n"
      ]
    },
    {
      "cell_type": "code",
      "execution_count": null,
      "metadata": {
        "colab": {
          "base_uri": "https://localhost:8080/",
          "height": 214
        },
        "id": "HzVKz9q7s75b",
        "outputId": "3f0b137f-a225-40c0-d6e3-e23df4c32766"
      },
      "outputs": [
        {
          "name": "stdout",
          "output_type": "stream",
          "text": [
            "['5', '3', '2', '3', '5']\n"
          ]
        },
        {
          "ename": "IndexError",
          "evalue": "ignored",
          "output_type": "error",
          "traceback": [
            "\u001b[0;31m---------------------------------------------------------------------------\u001b[0m",
            "\u001b[0;31mIndexError\u001b[0m                                Traceback (most recent call last)",
            "\u001b[0;32m<ipython-input-17-9e22d86e8299>\u001b[0m in \u001b[0;36m<module>\u001b[0;34m()\u001b[0m\n\u001b[1;32m      5\u001b[0m \u001b[0;34m\u001b[0m\u001b[0m\n\u001b[1;32m      6\u001b[0m \u001b[0;32mfor\u001b[0m \u001b[0mi\u001b[0m \u001b[0;32min\u001b[0m \u001b[0mrange\u001b[0m\u001b[0;34m(\u001b[0m\u001b[0mlen\u001b[0m\u001b[0;34m(\u001b[0m\u001b[0minput1_str\u001b[0m\u001b[0;34m)\u001b[0m\u001b[0;34m+\u001b[0m\u001b[0;36m1\u001b[0m\u001b[0;34m,\u001b[0m\u001b[0;36m0\u001b[0m\u001b[0;34m,\u001b[0m\u001b[0;34m-\u001b[0m\u001b[0;36m1\u001b[0m\u001b[0;34m)\u001b[0m\u001b[0;34m:\u001b[0m\u001b[0;34m\u001b[0m\u001b[0;34m\u001b[0m\u001b[0m\n\u001b[0;32m----> 7\u001b[0;31m   \u001b[0mprint\u001b[0m\u001b[0;34m(\u001b[0m\u001b[0minput1_str\u001b[0m\u001b[0;34m[\u001b[0m\u001b[0mi\u001b[0m\u001b[0;34m]\u001b[0m\u001b[0;34m)\u001b[0m\u001b[0;34m\u001b[0m\u001b[0;34m\u001b[0m\u001b[0m\n\u001b[0m",
            "\u001b[0;31mIndexError\u001b[0m: list index out of range"
          ]
        }
      ],
      "source": [
        "input1 = 53235\n",
        "\n",
        "input1_str = list(map(str,str(input1)))\n",
        "print(input1_str)\n",
        "\n",
        "# for i in range(len(input1_str)+1,0,-1):\n",
        "#   print(input1_str[i])\n",
        "temp_str = ''\n",
        "\n",
        "for val in input1_str:\n",
        "  temp_str[0] = val\n",
        "\n",
        "def NavigateTo(**Kargs)\n",
        "\n",
        "  for val in kargs : \n",
        "    temp_webele = //a[contains(text(),'val')]\n",
        "    "
      ]
    },
    {
      "cell_type": "code",
      "execution_count": null,
      "metadata": {
        "id": "oZmYkrc-cxQL"
      },
      "outputs": [],
      "source": [
        "import itertools\n",
        "\n",
        "n = 33\n",
        "vowels = 'aeiou'\n",
        "result_arr = list(itertools.product(vowels, repeat=n))\n",
        "print(result_arr)\n",
        "print(len(result_arr))"
      ]
    },
    {
      "cell_type": "code",
      "execution_count": null,
      "metadata": {
        "colab": {
          "base_uri": "https://localhost:8080/"
        },
        "id": "fN3X_uk7PQPM",
        "outputId": "17223d44-b7a1-4d07-a65a-3f4b1e23597e"
      },
      "outputs": [
        {
          "name": "stdout",
          "output_type": "stream",
          "text": [
            "[{'a': 0, 'e': 0, 'i': 0, 'o': 0, 'u': 0}, {'a': 0, 'e': 0, 'i': 0, 'o': 0, 'u': 0}, {'a': 0, 'e': 0, 'i': 0, 'o': 0, 'u': 0}, {'a': 0, 'e': 0, 'i': 0, 'o': 0, 'u': 0}, {'a': 0, 'e': 0, 'i': 0, 'o': 0, 'u': 0}, {'a': 0, 'e': 0, 'i': 0, 'o': 0, 'u': 0}]\n",
            "[{'a': 0, 'e': 0, 'i': 0, 'o': 0, 'u': 0}, {'a': 1, 'e': 1, 'i': 1, 'o': 1, 'u': 1}, {'a': 0, 'e': 0, 'i': 0, 'o': 0, 'u': 0}, {'a': 0, 'e': 0, 'i': 0, 'o': 0, 'u': 0}, {'a': 0, 'e': 0, 'i': 0, 'o': 0, 'u': 0}, {'a': 0, 'e': 0, 'i': 0, 'o': 0, 'u': 0}]\n",
            "[{'a': 0, 'e': 0, 'i': 0, 'o': 0, 'u': 0}, {'a': 1, 'e': 1, 'i': 1, 'o': 1, 'u': 1}, {'a': 1, 'e': 2, 'i': 3, 'o': 4, 'u': 5}, {'a': 1, 'e': 3, 'i': 6, 'o': 10, 'u': 15}, {'a': 1, 'e': 4, 'i': 10, 'o': 20, 'u': 35}, {'a': 1, 'e': 5, 'i': 15, 'o': 35, 'u': 70}]\n",
            "126\n"
          ]
        }
      ],
      "source": [
        "n = 5\n",
        "# Basic Values of DP\n",
        "dp = [{'a': 0, 'e': 0, 'i': 0, 'o': 0, 'u': 0} for x in range(n+1)]\n",
        "print(dp)\n",
        "dp[1]['a'] = 1 #a\n",
        "dp[1]['e'] = 1 #e\n",
        "dp[1]['i'] = 1 #i\n",
        "dp[1]['o'] = 1 #o\n",
        "dp[1]['u'] = 1 #u\n",
        "\n",
        "print(dp)\n",
        "\n",
        "# Update DP\n",
        "for i in range(2, n+1):\n",
        "\t\tdp[i]['a'] = dp[i-1]['a']\n",
        "\t\tdp[i]['e'] = dp[i-1]['a'] + dp[i-1]['e']\n",
        "\t\tdp[i]['i'] = dp[i-1]['a'] + dp[i-1]['e'] + dp[i-1]['i']\n",
        "\t\tdp[i]['o'] = dp[i-1]['a'] + dp[i-1]['e'] + dp[i-1]['i'] + dp[i-1]['o']\n",
        "\t\tdp[i]['u'] = dp[i-1]['a'] + dp[i-1]['e'] + dp[i-1]['i'] + dp[i-1]['o'] + dp[i-1]['u']\n",
        "\n",
        "print(dp)\n",
        "print(sum(dp[n].values()))\n",
        "\n",
        "\n",
        "# return sum(dp[n].values())"
      ]
    },
    {
      "cell_type": "code",
      "execution_count": null,
      "metadata": {
        "colab": {
          "base_uri": "https://localhost:8080/"
        },
        "id": "X-eJJtp4iPEu",
        "outputId": "adcf7883-d376-4299-fd9f-e0f11e683254"
      },
      "outputs": [
        {
          "name": "stdout",
          "output_type": "stream",
          "text": [
            "[[3, 2], [-2, 2]]\n",
            "[-2, 2]\n",
            "5\n"
          ]
        }
      ],
      "source": [
        "# https://leetcode.com/problems/minimum-time-visiting-all-points/\n",
        "\n",
        "points = [[1,1],[3,4],[-1,0]]\n",
        "points = [[3,2],[-2,2]]\n",
        "# points.sort()\n",
        "print(points)\n",
        "first_val = points[0]\n",
        "total_distance = 0\n",
        "for val in points[1:]:\n",
        "  print(val)\n",
        "  bigger_distance = lambda first_val,val : max([abs(first_val[0]-val[0]),abs(first_val[1]-val[1])])\n",
        "  total_distance+=bigger_distance(first_val,val)\n",
        "  first_val = val\n",
        "print(total_distance)\n"
      ]
    },
    {
      "cell_type": "code",
      "execution_count": null,
      "metadata": {
        "colab": {
          "base_uri": "https://localhost:8080/"
        },
        "id": "A686YZ02_s5A",
        "outputId": "98741660-e4d0-4d00-eee1-ae1447b3eb69"
      },
      "outputs": [
        {
          "name": "stdout",
          "output_type": "stream",
          "text": [
            "(()())(())\n",
            "(\n",
            "(\n",
            ")\n",
            "(\n",
            ")\n",
            ")\n",
            "(\n",
            "(\n",
            ")\n",
            ")\n"
          ]
        }
      ],
      "source": [
        "s =\"(()())(())\"\n",
        "print(s)\n",
        "\n",
        "for val in s : \n",
        "  print(val)\n",
        "  \n"
      ]
    },
    {
      "cell_type": "code",
      "execution_count": null,
      "metadata": {
        "colab": {
          "base_uri": "https://localhost:8080/"
        },
        "id": "Q76L6Ro6Nvqf",
        "outputId": "0ddf82df-d604-421a-9677-5de50929bf10"
      },
      "outputs": [
        {
          "name": "stdout",
          "output_type": "stream",
          "text": [
            "9669\n",
            "['9', '6', '6', '9']\n",
            "9969\n"
          ]
        }
      ],
      "source": [
        "num = 9669\n",
        "\n",
        "num_str = list(map(str,str(num)))\n",
        "print(num)\n",
        "print(num_str)\n",
        "result_str = ''\n",
        "turn_flag = True\n",
        "for val in num_str : \n",
        "  if val == '6' and turn_flag == True: \n",
        "    result_str+='9'\n",
        "    turn_flag = False\n",
        "  else: result_str+=val\n",
        "print(result_str)"
      ]
    },
    {
      "cell_type": "code",
      "execution_count": null,
      "metadata": {
        "colab": {
          "base_uri": "https://localhost:8080/"
        },
        "id": "NNE5r94FuGzV",
        "outputId": "068bdc08-2236-4930-ee51-3cd2614ed844"
      },
      "outputs": [
        {
          "name": "stdout",
          "output_type": "stream",
          "text": [
            "mississippi\n",
            "mis*is*p*.\n"
          ]
        }
      ],
      "source": [
        "s = \"mississippi\"\n",
        "p = \"mis*is*p*.\"\n",
        "\n",
        "print(s)\n",
        "print(p)\n",
        "\n"
      ]
    },
    {
      "cell_type": "code",
      "execution_count": null,
      "metadata": {
        "colab": {
          "base_uri": "https://localhost:8080/"
        },
        "id": "QtRHOOLXEtU4",
        "outputId": "734f99bf-0dc8-4ce1-ae6c-aa1afa0e124b"
      },
      "outputs": [
        {
          "name": "stdout",
          "output_type": "stream",
          "text": [
            "[[1, 1, 1, 1], [1, 1, 1, 1], [1, 1, 1, 1], [1, 1, 1, 1]]\n"
          ]
        }
      ],
      "source": [
        "mat = [[1,1,1,1],\n",
        "              [1,1,1,1],\n",
        "              [1,1,1,1],\n",
        "              [1,1,1,1]]\n",
        "\n",
        "print(mat) "
      ]
    },
    {
      "cell_type": "code",
      "execution_count": null,
      "metadata": {
        "colab": {
          "base_uri": "https://localhost:8080/"
        },
        "id": "CrtUHBaEAwTH",
        "outputId": "fb9ca24d-5165-4d1f-9575-869f98077cc8"
      },
      "outputs": [
        {
          "name": "stdout",
          "output_type": "stream",
          "text": [
            "cbbd\n",
            "['c', 'b', 'b', 'd']\n",
            "c\n",
            "cb\n",
            "cbb\n",
            "cbbd\n",
            "c\n"
          ]
        }
      ],
      "source": [
        "#https://leetcode.com/problems/longest-palindromic-substring/\n",
        "\n",
        "s = \"babad\"\n",
        "s = \"cbbd\"\n",
        "\n",
        "print(s)\n",
        "\n",
        "s_arr = list(map(str,s))\n",
        "print(s_arr)\n",
        "s_pal = ''\n",
        "\n",
        "s_pal_largest = ''\n",
        "\n",
        "for val in s_arr: \n",
        "  s_pal+=val\n",
        "  print(s_pal)\n",
        "  if s_pal == s_pal[::-1] : \n",
        "    if len(s_pal) > len(s_pal_largest) : s_pal_largest = s_pal\n",
        "  # else: \n",
        "  #   s_pal=s_pal[1:]\n",
        "    # if s_pal == s_pal[::-1] : \n",
        "    #   if len(s_pal) > len(s_pal_largest) : s_pal_largest = s_pal\n",
        "\n",
        "print(s_pal_largest)\n"
      ]
    },
    {
      "cell_type": "code",
      "execution_count": null,
      "metadata": {
        "colab": {
          "base_uri": "https://localhost:8080/"
        },
        "id": "yGd2cdZHsUS6",
        "outputId": "73c3674c-5640-45db-b560-498c6f07fcad"
      },
      "outputs": [
        {
          "name": "stdout",
          "output_type": "stream",
          "text": [
            "bcd\n"
          ]
        }
      ],
      "source": [
        "s = 'abcd'\n",
        "s = s[1:]\n",
        "print(s)"
      ]
    },
    {
      "cell_type": "code",
      "execution_count": null,
      "metadata": {
        "colab": {
          "base_uri": "https://localhost:8080/",
          "height": 128
        },
        "id": "790ltf9gySRS",
        "outputId": "134abb90-405f-4c56-dc2c-93dc2a89f41a"
      },
      "outputs": [
        {
          "ename": "IndentationError",
          "evalue": "ignored",
          "output_type": "error",
          "traceback": [
            "\u001b[0;36m  File \u001b[0;32m\"<ipython-input-20-af7d8173321a>\"\u001b[0;36m, line \u001b[0;32m10\u001b[0m\n\u001b[0;31m    print(j)\u001b[0m\n\u001b[0m            ^\u001b[0m\n\u001b[0;31mIndentationError\u001b[0m\u001b[0;31m:\u001b[0m unindent does not match any outer indentation level\n"
          ]
        }
      ],
      "source": [
        "\n",
        "\n",
        "\n",
        "temp = ''\n",
        "maxp = ''\n",
        "\n",
        "for i in range(len(s)):\n",
        "\n",
        "\ttemp += s[i]\n",
        "\n",
        "\tfor j in range(len(temp)):\n",
        "   \n",
        "   print(j)\n",
        "\t if temp[j] == s[i] and s[j:i+1] == s[j:i+1][::-1] and len(s[j:i+1]) > len(maxp):\n",
        "\t\tmaxp = s[j:i+1]\n",
        "\t\tbreak\n",
        "\n",
        "print(maxp) "
      ]
    },
    {
      "cell_type": "code",
      "execution_count": null,
      "metadata": {
        "colab": {
          "base_uri": "https://localhost:8080/"
        },
        "id": "o1QMmz3O0G_X",
        "outputId": "75703bb2-bd06-4e28-a389-d84b7a364f6e"
      },
      "outputs": [
        {
          "name": "stdout",
          "output_type": "stream",
          "text": [
            "cbbd\n",
            "bb\n"
          ]
        }
      ],
      "source": [
        "s = \"cbbd\"\n",
        "\n",
        "print(s)\n",
        "\n",
        "temp = ''\n",
        "maxp = ''\n",
        "\n",
        "for i in range(len(s)):\n",
        "  temp+=s[i]\n",
        "  #print(temp)\n",
        "  for j in range(len(temp)):\n",
        "    #print(temp[j])\n",
        "    #print(s[j:i+1])\n",
        "    if temp[j]==s[i] and s[j:i+1] == s[j:i+1][::-1] and len(s[j:i+1]) > len(maxp):\n",
        "      maxp = s[j:i+1]\n",
        "\n",
        "print(maxp)"
      ]
    },
    {
      "cell_type": "code",
      "execution_count": null,
      "metadata": {
        "id": "ErKAueS05tI4"
      },
      "outputs": [],
      "source": [
        "s = \"PAYPALISHIRING\"\n",
        "numRows = 3\n",
        "\n"
      ]
    },
    {
      "cell_type": "code",
      "execution_count": null,
      "metadata": {
        "id": "VsBCfNW05CCA"
      },
      "outputs": [],
      "source": [
        "#url : https://leetcode.com/problems/longest-substring-without-repeating-characters/\n",
        "\n",
        "s = \"abcabcbb\"\n",
        "\n",
        "\n",
        "\n"
      ]
    },
    {
      "cell_type": "code",
      "execution_count": null,
      "metadata": {
        "colab": {
          "base_uri": "https://localhost:8080/"
        },
        "id": "UIkhPue9_Cnh",
        "outputId": "af49da50-bb6a-432f-e5e9-43bd0139d08e"
      },
      "outputs": [
        {
          "name": "stdout",
          "output_type": "stream",
          "text": [
            "True\n"
          ]
        }
      ],
      "source": [
        "# https://leetcode.com/problems/contains-duplicate/\n",
        "\n",
        "\n",
        "nums = [1,2,3,1]\n",
        "\n",
        "unique_len = len(set(nums))\n",
        "\n",
        "if unique_len == len(nums):\n",
        "  print('False')\n",
        "else:\n",
        "  print('True')"
      ]
    },
    {
      "cell_type": "code",
      "execution_count": null,
      "metadata": {
        "id": "xMexkapvAI3S"
      },
      "outputs": [],
      "source": [
        "# https://leetcode.com/problems/contains-duplicate-iii/\n",
        "\n"
      ]
    },
    {
      "cell_type": "code",
      "execution_count": null,
      "metadata": {
        "colab": {
          "base_uri": "https://localhost:8080/"
        },
        "id": "Sx4QRjEuVnP4",
        "outputId": "ccdd00a6-2076-483b-f5c2-685dc78bde48"
      },
      "outputs": [
        {
          "name": "stdout",
          "output_type": "stream",
          "text": [
            "False\n"
          ]
        }
      ],
      "source": [
        "val = True and False\n",
        "print(val)"
      ]
    },
    {
      "cell_type": "code",
      "execution_count": null,
      "metadata": {
        "colab": {
          "base_uri": "https://localhost:8080/"
        },
        "id": "LWXfHGaHV5aF",
        "outputId": "5ca734a4-882d-407d-d644-cdc543cbcda6"
      },
      "outputs": [
        {
          "data": {
            "text/plain": [
              "{'a': 1, 'b': 1}"
            ]
          },
          "execution_count": 2,
          "metadata": {},
          "output_type": "execute_result"
        }
      ],
      "source": [
        "dict(**{'a': 1}, **{'b': 1})"
      ]
    },
    {
      "cell_type": "code",
      "execution_count": null,
      "metadata": {
        "colab": {
          "base_uri": "https://localhost:8080/"
        },
        "id": "CDqzhyZ0V-SC",
        "outputId": "e7d90511-f247-43e3-ada6-44389be2216d"
      },
      "outputs": [
        {
          "data": {
            "text/plain": [
              "{'a': 1, 'b': 1}"
            ]
          },
          "execution_count": 3,
          "metadata": {},
          "output_type": "execute_result"
        }
      ],
      "source": [
        "dict({'a': 1}, **{'b': 1})"
      ]
    },
    {
      "cell_type": "code",
      "execution_count": null,
      "metadata": {
        "colab": {
          "base_uri": "https://localhost:8080/",
          "height": 165
        },
        "id": "UMreB69OWCbM",
        "outputId": "7fd707e2-d5d8-4953-bf17-c3f3f677f7a1"
      },
      "outputs": [
        {
          "ename": "TypeError",
          "evalue": "ignored",
          "output_type": "error",
          "traceback": [
            "\u001b[0;31m---------------------------------------------------------------------------\u001b[0m",
            "\u001b[0;31mTypeError\u001b[0m                                 Traceback (most recent call last)",
            "\u001b[0;32m<ipython-input-4-7ebcf5c0c2ae>\u001b[0m in \u001b[0;36m<module>\u001b[0;34m()\u001b[0m\n\u001b[0;32m----> 1\u001b[0;31m \u001b[0;34m{\u001b[0m\u001b[0;34m'a'\u001b[0m\u001b[0;34m:\u001b[0m \u001b[0;36m1\u001b[0m\u001b[0;34m}\u001b[0m \u001b[0;34m+\u001b[0m \u001b[0;34m{\u001b[0m\u001b[0;34m'b'\u001b[0m\u001b[0;34m:\u001b[0m \u001b[0;36m1\u001b[0m\u001b[0;34m}\u001b[0m\u001b[0;34m\u001b[0m\u001b[0;34m\u001b[0m\u001b[0m\n\u001b[0m",
            "\u001b[0;31mTypeError\u001b[0m: unsupported operand type(s) for +: 'dict' and 'dict'"
          ]
        }
      ],
      "source": [
        "{'a': 1} + {'b': 1}"
      ]
    },
    {
      "cell_type": "code",
      "execution_count": null,
      "metadata": {
        "colab": {
          "base_uri": "https://localhost:8080/",
          "height": 165
        },
        "id": "iM8fiAjtWGBk",
        "outputId": "4e543b0e-32b1-406d-a256-667c127e67fd"
      },
      "outputs": [
        {
          "ename": "TypeError",
          "evalue": "ignored",
          "output_type": "error",
          "traceback": [
            "\u001b[0;31m---------------------------------------------------------------------------\u001b[0m",
            "\u001b[0;31mTypeError\u001b[0m                                 Traceback (most recent call last)",
            "\u001b[0;32m<ipython-input-5-8d59ae8efad2>\u001b[0m in \u001b[0;36m<module>\u001b[0;34m()\u001b[0m\n\u001b[0;32m----> 1\u001b[0;31m \u001b[0;34m{\u001b[0m\u001b[0;34m'a'\u001b[0m\u001b[0;34m:\u001b[0m \u001b[0;36m1\u001b[0m\u001b[0;34m}\u001b[0m \u001b[0;34m|\u001b[0m \u001b[0;34m{\u001b[0m\u001b[0;34m'b'\u001b[0m\u001b[0;34m:\u001b[0m \u001b[0;36m1\u001b[0m\u001b[0;34m}\u001b[0m\u001b[0;34m\u001b[0m\u001b[0;34m\u001b[0m\u001b[0m\n\u001b[0m",
            "\u001b[0;31mTypeError\u001b[0m: unsupported operand type(s) for |: 'dict' and 'dict'"
          ]
        }
      ],
      "source": [
        "{'a': 1} | {'b': 1}"
      ]
    },
    {
      "cell_type": "code",
      "execution_count": null,
      "metadata": {
        "colab": {
          "base_uri": "https://localhost:8080/",
          "height": 165
        },
        "id": "pgRXsZB-WPT_",
        "outputId": "00e5414c-c282-4e5c-a5aa-785bedf5a12e"
      },
      "outputs": [
        {
          "ename": "NameError",
          "evalue": "ignored",
          "output_type": "error",
          "traceback": [
            "\u001b[0;31m---------------------------------------------------------------------------\u001b[0m",
            "\u001b[0;31mNameError\u001b[0m                                 Traceback (most recent call last)",
            "\u001b[0;32m<ipython-input-6-a15459cb706a>\u001b[0m in \u001b[0;36m<module>\u001b[0;34m()\u001b[0m\n\u001b[0;32m----> 1\u001b[0;31m \u001b[0mjoin\u001b[0m\u001b[0;34m(\u001b[0m\u001b[0;34m[\u001b[0m\u001b[0;34m'alex'\u001b[0m\u001b[0;34m,\u001b[0m \u001b[0;34m'mike'\u001b[0m\u001b[0;34m,\u001b[0m \u001b[0;34m'nina'\u001b[0m\u001b[0;34m]\u001b[0m\u001b[0;34m,\u001b[0m \u001b[0;34m', '\u001b[0m\u001b[0;34m)\u001b[0m\u001b[0;34m\u001b[0m\u001b[0;34m\u001b[0m\u001b[0m\n\u001b[0m",
            "\u001b[0;31mNameError\u001b[0m: name 'join' is not defined"
          ]
        }
      ],
      "source": [
        "join(['alex', 'mike', 'nina'], ', ')"
      ]
    },
    {
      "cell_type": "code",
      "execution_count": null,
      "metadata": {
        "colab": {
          "base_uri": "https://localhost:8080/",
          "height": 165
        },
        "id": "SRLo5gAPWSyc",
        "outputId": "db531ac1-69be-46f5-937e-13349eee0ff0"
      },
      "outputs": [
        {
          "ename": "AttributeError",
          "evalue": "ignored",
          "output_type": "error",
          "traceback": [
            "\u001b[0;31m---------------------------------------------------------------------------\u001b[0m",
            "\u001b[0;31mAttributeError\u001b[0m                            Traceback (most recent call last)",
            "\u001b[0;32m<ipython-input-7-7f22c37eeada>\u001b[0m in \u001b[0;36m<module>\u001b[0;34m()\u001b[0m\n\u001b[0;32m----> 1\u001b[0;31m \u001b[0;34m[\u001b[0m\u001b[0;34m'alex'\u001b[0m\u001b[0;34m,\u001b[0m \u001b[0;34m'mike'\u001b[0m\u001b[0;34m,\u001b[0m \u001b[0;34m'nina'\u001b[0m\u001b[0;34m]\u001b[0m\u001b[0;34m.\u001b[0m\u001b[0mjoin\u001b[0m\u001b[0;34m(\u001b[0m\u001b[0;34m', '\u001b[0m\u001b[0;34m)\u001b[0m\u001b[0;34m\u001b[0m\u001b[0;34m\u001b[0m\u001b[0m\n\u001b[0m",
            "\u001b[0;31mAttributeError\u001b[0m: 'list' object has no attribute 'join'"
          ]
        }
      ],
      "source": [
        "['alex', 'mike', 'nina'].join(', ')"
      ]
    },
    {
      "cell_type": "code",
      "execution_count": null,
      "metadata": {
        "colab": {
          "base_uri": "https://localhost:8080/",
          "height": 35
        },
        "id": "r2W_wUPUWTx-",
        "outputId": "407e823d-ec62-46d5-ee5f-bac5b4a77ad1"
      },
      "outputs": [
        {
          "data": {
            "application/vnd.google.colaboratory.intrinsic+json": {
              "type": "string"
            },
            "text/plain": [
              "'alex, mike, nina'"
            ]
          },
          "execution_count": 8,
          "metadata": {},
          "output_type": "execute_result"
        }
      ],
      "source": [
        "', '.join(['alex', 'mike', 'nina'])"
      ]
    },
    {
      "cell_type": "code",
      "execution_count": null,
      "metadata": {
        "colab": {
          "base_uri": "https://localhost:8080/"
        },
        "id": "skSa9lDEWhKO",
        "outputId": "f8915433-2aee-4548-9396-ca9fb5e61737"
      },
      "outputs": [
        {
          "name": "stdout",
          "output_type": "stream",
          "text": [
            "16\n"
          ]
        }
      ],
      "source": [
        "x = 4\n",
        "y = 2\n",
        "\n",
        "print(x**y)"
      ]
    },
    {
      "cell_type": "code",
      "execution_count": null,
      "metadata": {
        "colab": {
          "background_save": true
        },
        "id": "nJkhInrcWwrq",
        "outputId": "60a9f97c-8314-483f-8da1-f3c7ffcbe960"
      },
      "outputs": [
        {
          "ename": "TypeError",
          "evalue": "ignored",
          "output_type": "error",
          "traceback": [
            "\u001b[0;31m---------------------------------------------------------------------------\u001b[0m",
            "\u001b[0;31mTypeError\u001b[0m                                 Traceback (most recent call last)",
            "\u001b[0;32m<ipython-input-11-12f965020ab4>\u001b[0m in \u001b[0;36m<module>\u001b[0;34m()\u001b[0m\n\u001b[1;32m      1\u001b[0m \u001b[0;31m####a == ? (Python 3)\u001b[0m\u001b[0;34m\u001b[0m\u001b[0;34m\u001b[0m\u001b[0;34m\u001b[0m\u001b[0m\n\u001b[1;32m      2\u001b[0m \u001b[0;34m\u001b[0m\u001b[0m\n\u001b[0;32m----> 3\u001b[0;31m \u001b[0ma\u001b[0m \u001b[0;34m=\u001b[0m \u001b[0;34m{\u001b[0m\u001b[0;36m1\u001b[0m\u001b[0;34m:\u001b[0m\u001b[0;36m2\u001b[0m\u001b[0;34m,\u001b[0m\u001b[0;36m2\u001b[0m\u001b[0;34m:\u001b[0m\u001b[0;36m3\u001b[0m\u001b[0;34m,\u001b[0m\u001b[0;36m3\u001b[0m\u001b[0;34m:\u001b[0m\u001b[0;36m4\u001b[0m\u001b[0;34m}\u001b[0m\u001b[0;34m<\u001b[0m\u001b[0;34m{\u001b[0m\u001b[0;36m2\u001b[0m\u001b[0;34m:\u001b[0m\u001b[0;36m5\u001b[0m\u001b[0;34m,\u001b[0m\u001b[0;36m3\u001b[0m\u001b[0;34m:\u001b[0m\u001b[0;36m6\u001b[0m\u001b[0;34m,\u001b[0m\u001b[0;36m4\u001b[0m\u001b[0;34m:\u001b[0m\u001b[0;36m7\u001b[0m\u001b[0;34m,\u001b[0m\u001b[0;36m5\u001b[0m\u001b[0;34m:\u001b[0m\u001b[0;36m8\u001b[0m\u001b[0;34m}\u001b[0m\u001b[0;34m\u001b[0m\u001b[0;34m\u001b[0m\u001b[0m\n\u001b[0m",
            "\u001b[0;31mTypeError\u001b[0m: '<' not supported between instances of 'dict' and 'dict'"
          ]
        }
      ],
      "source": [
        "a == ? (Python 3)\n",
        "\n",
        "a = {1:2,2:3,3:4}<{2:5,3:6,4:7,5:8}"
      ]
    },
    {
      "cell_type": "code",
      "execution_count": null,
      "metadata": {
        "id": "wvKp9h0mBNKa"
      },
      "outputs": [],
      "source": []
    },
    {
      "cell_type": "code",
      "execution_count": null,
      "metadata": {
        "colab": {
          "base_uri": "https://localhost:8080/"
        },
        "id": "8xEUyU3aebJt",
        "outputId": "906dfe8e-0c52-4ce8-af0d-152c7b2fcd69"
      },
      "outputs": [
        {
          "name": "stdout",
          "output_type": "stream",
          "text": [
            "[1, 5]\n",
            "[10, 4]\n",
            "[4, 3]\n",
            "0\n"
          ]
        }
      ],
      "source": [
        "properties = [[1,5],[10,4],[4,3]]\n",
        "#properties = [[5,5],[6,3],[3,6]]\n",
        "#properties = [[2,2],[3,3]]\n",
        "\n",
        "prev_val = None\n",
        "weak_count = 0\n",
        "for val in properties:\n",
        "  print(val)\n",
        "  if prev_val == None: prev_val = val\n",
        "  else: \n",
        "    if val[0] > prev_val[0] and val[1] > prev_val[1]: \n",
        "      weak_count += 1 \n",
        "      prev_val = val\n",
        "print(weak_count)\n",
        "\n",
        "# attack_list, defence_list = [],[]\n",
        "\n",
        "# for val in properties:\n",
        "#   attack_list.append(val[0])\n",
        "#   defence_list.append(val[1])\n",
        "\n",
        "# print(attack_list)\n",
        "# print(defence_list)\n"
      ]
    },
    {
      "cell_type": "code",
      "execution_count": null,
      "metadata": {
        "id": "BO5pSWocFVuB"
      },
      "outputs": [],
      "source": [
        "properties = [[1,5],[10,4],[4,3]]\n",
        "\n"
      ]
    },
    {
      "cell_type": "code",
      "execution_count": null,
      "metadata": {
        "id": "e1QD_egv1ze-"
      },
      "outputs": [],
      "source": []
    },
    {
      "cell_type": "code",
      "execution_count": null,
      "metadata": {
        "id": "uo3rtfxp10s1"
      },
      "outputs": [],
      "source": []
    },
    {
      "cell_type": "code",
      "execution_count": null,
      "metadata": {
        "colab": {
          "base_uri": "https://localhost:8080/"
        },
        "id": "3BRFhUpT10Yk",
        "outputId": "16ac338c-0394-407d-87d2-1bd7ff4928c5"
      },
      "outputs": [
        {
          "name": "stdout",
          "output_type": "stream",
          "text": [
            "['samsung,', 'samsung,']\n",
            "['samsung,', 'samsung,', 'OEM Samsung Washing Machine Pulsator Washplate Cap Shipped With WA48J7700AW, WA48J7700AW/A2, WA48J7700AW/AA']\n",
            "['samsung,', 'samsung,', 'OEM Samsung Washing Machine Pulsator Washplate Cap Shipped With WA48J7700AW, WA48J7700AW/A2, WA48J7700AW/AA']\n",
            "['samsung,', 'samsung,', 'OEM Samsung Washing Machine Pulsator Washplate Cap Shipped With WA48J7700AW, WA48J7700AW/A2, WA48J7700AW/AA', 'OEM Samsung Chrome Washing Machine Washplate Pulsator Cap Shipped With WA52M7750AV, WA52M7750AV/A4, WA52M7750AW, WA52M7750AW/A4']\n",
            "['samsung,', 'samsung,', 'OEM Samsung Washing Machine Pulsator Washplate Cap Shipped With WA48J7700AW, WA48J7700AW/A2, WA48J7700AW/AA', 'OEM Samsung Chrome Washing Machine Washplate Pulsator Cap Shipped With WA52M7750AV, WA52M7750AV/A4, WA52M7750AW, WA52M7750AW/A4']\n",
            "['samsung,', 'samsung,', 'OEM Samsung Washing Machine Pulsator Washplate Cap Shipped With WA48J7700AW, WA48J7700AW/A2, WA48J7700AW/AA', 'OEM Samsung Chrome Washing Machine Washplate Pulsator Cap Shipped With WA52M7750AV, WA52M7750AV/A4, WA52M7750AW, WA52M7750AW/A4', 'SAMSUNG Washing Machine Spring Hanger, DC61-01257M']\n",
            "['samsung,', 'samsung,', 'OEM Samsung Washing Machine Pulsator Washplate Cap Shipped With WA48J7700AW, WA48J7700AW/A2, WA48J7700AW/AA', 'OEM Samsung Chrome Washing Machine Washplate Pulsator Cap Shipped With WA52M7750AV, WA52M7750AV/A4, WA52M7750AW, WA52M7750AW/A4', 'SAMSUNG Washing Machine Spring Hanger, DC61-01257M']\n",
            "['samsung,', 'samsung,', 'OEM Samsung Washing Machine Pulsator Washplate Cap Shipped With WA48J7700AW, WA48J7700AW/A2, WA48J7700AW/AA', 'OEM Samsung Chrome Washing Machine Washplate Pulsator Cap Shipped With WA52M7750AV, WA52M7750AV/A4, WA52M7750AW, WA52M7750AW/A4', 'SAMSUNG Washing Machine Spring Hanger, DC61-01257M', 'Samsung DC97-17022B Assy Detergent']\n",
            "['samsung,', 'samsung,', 'OEM Samsung Washing Machine Pulsator Washplate Cap Shipped With WA48J7700AW, WA48J7700AW/A2, WA48J7700AW/AA', 'OEM Samsung Chrome Washing Machine Washplate Pulsator Cap Shipped With WA52M7750AV, WA52M7750AV/A4, WA52M7750AW, WA52M7750AW/A4', 'SAMSUNG Washing Machine Spring Hanger, DC61-01257M', 'Samsung DC97-17022B Assy Detergent']\n",
            "['samsung,', 'samsung,', 'OEM Samsung Washing Machine Pulsator Washplate Cap Shipped With WA48J7700AW, WA48J7700AW/A2, WA48J7700AW/AA', 'OEM Samsung Chrome Washing Machine Washplate Pulsator Cap Shipped With WA52M7750AV, WA52M7750AV/A4, WA52M7750AW, WA52M7750AW/A4', 'SAMSUNG Washing Machine Spring Hanger, DC61-01257M', 'Samsung DC97-17022B Assy Detergent', 'Samsung DC66-00470A DAMPER SHOCK']\n",
            "['samsung,', 'samsung,', 'OEM Samsung Washing Machine Pulsator Washplate Cap Shipped With WA48J7700AW, WA48J7700AW/A2, WA48J7700AW/AA', 'OEM Samsung Chrome Washing Machine Washplate Pulsator Cap Shipped With WA52M7750AV, WA52M7750AV/A4, WA52M7750AW, WA52M7750AW/A4', 'SAMSUNG Washing Machine Spring Hanger, DC61-01257M', 'Samsung DC97-17022B Assy Detergent', 'Samsung DC66-00470A DAMPER SHOCK']\n",
            "['samsung,', 'samsung,', 'OEM Samsung Washing Machine Pulsator Washplate Cap Shipped With WA48J7700AW, WA48J7700AW/A2, WA48J7700AW/AA', 'OEM Samsung Chrome Washing Machine Washplate Pulsator Cap Shipped With WA52M7750AV, WA52M7750AV/A4, WA52M7750AW, WA52M7750AW/A4', 'SAMSUNG Washing Machine Spring Hanger, DC61-01257M', 'Samsung DC97-17022B Assy Detergent', 'Samsung DC66-00470A DAMPER SHOCK', 'DC64-00519D Samsung Washing Machine Door Lock Washer Dryer Dishwashe -MP#GH4498 349Y49HBRG9109150']\n",
            "['samsung,', 'samsung,', 'OEM Samsung Washing Machine Pulsator Washplate Cap Shipped With WA48J7700AW, WA48J7700AW/A2, WA48J7700AW/AA', 'OEM Samsung Chrome Washing Machine Washplate Pulsator Cap Shipped With WA52M7750AV, WA52M7750AV/A4, WA52M7750AW, WA52M7750AW/A4', 'SAMSUNG Washing Machine Spring Hanger, DC61-01257M', 'Samsung DC97-17022B Assy Detergent', 'Samsung DC66-00470A DAMPER SHOCK', 'DC64-00519D Samsung Washing Machine Door Lock Washer Dryer Dishwashe -MP#GH4498 349Y49HBRG9109150']\n",
            "['samsung,', 'samsung,', 'OEM Samsung Washing Machine Pulsator Washplate Cap Shipped With WA48J7700AW, WA48J7700AW/A2, WA48J7700AW/AA', 'OEM Samsung Chrome Washing Machine Washplate Pulsator Cap Shipped With WA52M7750AV, WA52M7750AV/A4, WA52M7750AW, WA52M7750AW/A4', 'SAMSUNG Washing Machine Spring Hanger, DC61-01257M', 'Samsung DC97-17022B Assy Detergent', 'Samsung DC66-00470A DAMPER SHOCK', 'DC64-00519D Samsung Washing Machine Door Lock Washer Dryer Dishwashe -MP#GH4498 349Y49HBRG9109150', 'Samsung DC97-16991A Assembly Filter']\n",
            "['samsung,', 'samsung,', 'OEM Samsung Washing Machine Pulsator Washplate Cap Shipped With WA48J7700AW, WA48J7700AW/A2, WA48J7700AW/AA', 'OEM Samsung Chrome Washing Machine Washplate Pulsator Cap Shipped With WA52M7750AV, WA52M7750AV/A4, WA52M7750AW, WA52M7750AW/A4', 'SAMSUNG Washing Machine Spring Hanger, DC61-01257M', 'Samsung DC97-17022B Assy Detergent', 'Samsung DC66-00470A DAMPER SHOCK', 'DC64-00519D Samsung Washing Machine Door Lock Washer Dryer Dishwashe -MP#GH4498 349Y49HBRG9109150', 'Samsung DC97-16991A Assembly Filter']\n"
          ]
        }
      ],
      "source": [
        "var = \"samsung,'OEM Samsung Washing Machine Pulsator Washplate Cap Shipped With WA48J7700AW, WA48J7700AW/A2, WA48J7700AW/AA',20916,samsung,'OEM Samsung Chrome Washing Machine Washplate Pulsator Cap Shipped With WA52M7750AV, WA52M7750AV/A4, WA52M7750AW, WA52M7750AW/A4',91995,samsung, 'SAMSUNG Washing Machine Spring Hanger, DC61-01257M', 22970,samsung,'Samsung DC97-17022B Assy Detergent',32959,samsung,'Samsung DC66-00470A DAMPER SHOCK',29981,samsung,'DC64-00519D Samsung Washing Machine Door Lock Washer Dryer Dishwashe -MP#GH4498 349Y49HBRG9109150',52000,samsung,'Samsung DC97-16991A Assembly Filter',13000\"\n",
        "\n",
        "a1 = var.split(\",'\")\n",
        "#print(a1)\n",
        "\n",
        "a2 = []  #collection [[a1]]\n",
        "a3 = [] #samsung,'Samsung DC97-16991A Assembly Filter',13000\n",
        "for val in a1:\n",
        "  #print(val)\n",
        "  if a1.index(val) == 0 : a3.append(val)\n",
        "  if a1.index(val) % 2 == 0 and a1.index(val) != 0 : \n",
        "    #print(val) \n",
        "    val = val.replace(',',' ')\n",
        "    #print(val)\n",
        "    a4 = val.split(\" \")\n",
        "    a4.remove(\"\")\n",
        "    #print(a4)\n",
        "    if len(a3) == 2: \n",
        "      a3.append(a4[1])\n",
        "      a2.extend(a3)\n",
        "      a3 = []\n",
        "      a3.append(a4[2])\n",
        "    #print(a4)\n",
        "  else:\n",
        "    a3.append(val)\n",
        "  print(a3)\n",
        "\n",
        "#print(a3)\n",
        "#print(a2)\n",
        "\n",
        " \n"
      ]
    },
    {
      "cell_type": "code",
      "execution_count": null,
      "metadata": {
        "colab": {
          "base_uri": "https://localhost:8080/"
        },
        "id": "ev7THMj7FprC",
        "outputId": "ff97a9da-7f42-40d5-f6d9-3366447bd7b6"
      },
      "outputs": [
        {
          "name": "stdout",
          "output_type": "stream",
          "text": [
            "['samsung', 'Samsung DC97-16991A Assembly Filter', '13000']\n",
            "['samsung', 'OEM Samsung Washing Machine Pulsator Washplate Cap Shipped With WA48J7700AW, WA48J7700AW/A2, WA48J7700AW/AA', '20916']\n",
            "['samsung', 'SAMSUNG Washing Machine Spring Hanger, DC61-01257M', ' 22970']\n",
            "['samsung', 'Samsung DC66-00470A DAMPER SHOCK', '29981']\n",
            "['samsung', 'Samsung DC97-17022B Assy Detergent', '32959']\n",
            "['samsung', 'DC64-00519D Samsung Washing Machine Door Lock Washer Dryer Dishwashe -MP#GH4498 349Y49HBRG9109150', '52000']\n",
            "['samsung', 'OEM Samsung Chrome Washing Machine Washplate Pulsator Cap Shipped With WA52M7750AV, WA52M7750AV/A4, WA52M7750AW, WA52M7750AW/A4', '91995']\n"
          ]
        }
      ],
      "source": [
        "var = \"samsung,'OEM Samsung Washing Machine Pulsator Washplate Cap Shipped With WA48J7700AW, WA48J7700AW/A2, WA48J7700AW/AA',20916,samsung,'OEM Samsung Chrome Washing Machine Washplate Pulsator Cap Shipped With WA52M7750AV, WA52M7750AV/A4, WA52M7750AW, WA52M7750AW/A4',91995,samsung,'SAMSUNG Washing Machine Spring Hanger, DC61-01257M', 22970,samsung,'Samsung DC97-17022B Assy Detergent',32959,samsung,'Samsung DC66-00470A DAMPER SHOCK',29981,samsung,'DC64-00519D Samsung Washing Machine Door Lock Washer Dryer Dishwashe -MP#GH4498 349Y49HBRG9109150',52000,samsung,'Samsung DC97-16991A Assembly Filter',13000\"\n",
        "\n",
        "a1 = var.split(\",'\")\n",
        "#print(a1)\n",
        "\n",
        "a2 = []\n",
        "a3 = []\n",
        "for val in a1:\n",
        "  if a1.index(val) == 0 : a3.append(val)\n",
        "  #if val == a1[-1]  :  a3.append(val)\n",
        "  if \"',\" in val :\n",
        "    val = val.split(\"',\")\n",
        "    #print(val)\n",
        "    if len(a3) !=3 : \n",
        "      a3.append(val[0])\n",
        "      #print(a3)\n",
        "      if ',' in val[1]:\n",
        "        a4 = val[1].split(',')\n",
        "        #print(a4)\n",
        "        a3.append(a4[0])\n",
        "        a2.append(a3)\n",
        "        a3 = []\n",
        "        a3.append(a4[1])\n",
        "      else:\n",
        "        #print(val[1])\n",
        "        a3.append(val[1])\n",
        "        a2.append(a3)\n",
        "        a3 = []\n",
        "\n",
        "    \n",
        "    #print(val)\n",
        "\n",
        "a5 = {}\n",
        "for val in a2: \n",
        "  #print(val)\n",
        "  #a5.append(int(val[2]))\n",
        "  a5[a2.index(val)] = int(val[2])\n",
        "\n",
        "a5 = sorted(a5.items(), key=lambda kv: kv[1])\n",
        "#print(dict(a5))\n",
        "a6 = dict(a5).keys()\n",
        "#print(a6)\n",
        "\n",
        "for val in a6:\n",
        "  print(a2[val])\n",
        "\n",
        "\n"
      ]
    },
    {
      "cell_type": "code",
      "execution_count": null,
      "metadata": {
        "colab": {
          "base_uri": "https://localhost:8080/"
        },
        "id": "1E2aMfle1eP7",
        "outputId": "a58db0ea-a6b4-4307-de1d-e6370013ad8f"
      },
      "outputs": [
        {
          "name": "stdout",
          "output_type": "stream",
          "text": [
            "0 0 3 2 1\n",
            "00321\n"
          ]
        }
      ],
      "source": [
        "s = ['1', '2', '3', '0', '0']\n",
        "\n",
        "s.reverse()\n",
        "print(*s)\n",
        "\n",
        "a1 = ''\n",
        "print(a1.join(s))"
      ]
    },
    {
      "cell_type": "code",
      "execution_count": null,
      "metadata": {
        "colab": {
          "base_uri": "https://localhost:8080/"
        },
        "id": "KkotgTPyW5dh",
        "outputId": "37f260d9-5b4c-4a5a-e5bf-22392c7ed772"
      },
      "outputs": [
        {
          "name": "stdout",
          "output_type": "stream",
          "text": [
            "[17, 19, 23, 29, 31, 37, 41, 43, 47, 53, 59, 61, 67, 71, 73, 79, 83, 89]\n"
          ]
        }
      ],
      "source": [
        "# primes_list = int[(j for j in range(2,i)) for i in range(1,10) if i>1]\n",
        "\n",
        "# print(primes_list)\n",
        "\n",
        "primes_list = set()\n",
        "for i in range(17,97):\n",
        "  if i > 1:\n",
        "    for j in range(2,i):\n",
        "      if (i % j) == 0:\n",
        "        break\n",
        "    else: \n",
        "      primes_list.add(j+1)\n",
        "          #primes_list.append(j)\n",
        "      \n",
        "print(sorted(primes_list))"
      ]
    },
    {
      "cell_type": "code",
      "execution_count": null,
      "metadata": {
        "id": "Lh5zGnFzX4HE"
      },
      "outputs": [],
      "source": [
        "# https://www.youtube.com/watch?v=3Q_oYDQ2whs&t=592s\n",
        "\n",
        "[['9:00', '10:30'], ['12:00', '13:00’], ['16:00', '18:00']]\n",
        "\n",
        "['9:00', '20:00']\n",
        "\n",
        "[['10:00', '11:30'], ['12:Bo’, 14:30], ['14:30', '15:00'], ['16:00', '17:00']]\n",
        "['10:00','18:30] 1\n",
        "\n",
        "30\n",
        "\n",
        "Sample output: [['11:30', '12:00'], ['15:00', '16:00’], ['18:00', '18:30']]"
      ]
    },
    {
      "cell_type": "code",
      "execution_count": 56,
      "metadata": {
        "colab": {
          "base_uri": "https://localhost:8080/"
        },
        "id": "aja0oDg5VlHY",
        "outputId": "1c4cd46e-5ec0-457f-d5e2-20d245e639bd"
      },
      "outputs": [
        {
          "name": "stdout",
          "output_type": "stream",
          "text": [
            "P   I   N\n",
            "A L S I G\n",
            "YA  HR \n",
            "P   I  \n"
          ]
        }
      ],
      "source": [
        "# -*- coding: utf-8 -*-\n",
        "\"\"\"\n",
        "Created on Sat Oct  8 15:02:26 2022\n",
        "\n",
        "@author: souvik.dey\n",
        "\"\"\"\n",
        "\n",
        "# https://leetcode.com/problems/zigzag-conversion/\n",
        "# ---- Work In Progress -----\n",
        "\n",
        "\n",
        "s = 'PAYPALISHIRING'\n",
        "numRows = 4\n",
        "split_cnt = numRows//2\n",
        "numRows_init = numRows\n",
        "\n",
        "s = list(s)\n",
        "#print(s)\n",
        "\n",
        "def zigzag_conversion(s, numRows): \n",
        "  if numRows == 1:\n",
        "    #return s\n",
        "    print(s)\n",
        "\n",
        "  else:\n",
        "    direction = 'down'\n",
        "    arr=['' for x in range(numRows)]\n",
        "    # print(arr)\n",
        "    count = 0\n",
        "    #for val in s:\n",
        "    while count < len(s):\n",
        "      #print(val)\n",
        "      if direction == 'down':\n",
        "        # print('-----------down-----------')\n",
        "        for i in range(numRows):\n",
        "          if count == len(s): break\n",
        "          if arr[i] != '':\n",
        "              arr[i] += ' '+s[count]\n",
        "          else: \n",
        "              arr[i] += s[count]\n",
        "          count += 1\n",
        "          # print(i)\n",
        "        direction = 'diagonal'\n",
        "        numRows -= 1\n",
        "      if direction == 'diagonal':\n",
        "        # print('-----------diagonal-----------')\n",
        "        # print(numRows)\n",
        "        for i in range(numRows_init):\n",
        "          if count == len(s): break\n",
        "          if i != numRows-1:\n",
        "            arr[i] += ' '\n",
        "          else:\n",
        "            arr[i] += s[count]\n",
        "            count += 1\n",
        "        if numRows > split_cnt:\n",
        "          # print('---remains')\n",
        "          direction = 'diagonal'\n",
        "          numRows -= 1\n",
        "        else: \n",
        "          # print('---updated')\n",
        "          direction = 'down'\n",
        "          numRows = numRows_init\n",
        "\n",
        "    for i in range(numRows_init):\n",
        "      print(arr[i], end = \"\\n\")\n",
        "    #print(arr)\n",
        "\n",
        "\n",
        "zigzag_conversion(s, numRows)\n"
      ]
    },
    {
      "cell_type": "code",
      "execution_count": 50,
      "metadata": {
        "colab": {
          "base_uri": "https://localhost:8080/"
        },
        "id": "x9UttcXT7klc",
        "outputId": "391d3633-0681-4b53-9260-8c0d2c439831"
      },
      "outputs": [
        {
          "name": "stdout",
          "output_type": "stream",
          "text": [
            "[0, 1, 2, 3]\n"
          ]
        }
      ],
      "source": [
        "print([x for x in range(numRows)])\n",
        "  "
      ]
    },
    {
      "cell_type": "code",
      "execution_count": null,
      "metadata": {
        "id": "SNWpSw99fBLU"
      },
      "outputs": [],
      "source": [
        "class Solution(object):\n",
        "    def convert(self, s, numRows):\n",
        "        if numRows == 1 or numRows >= len(s):\n",
        "            return s\n",
        "        # This is a vague sentence for python beginers\n",
        "        L = [''] * numRows\n",
        "        # it can be replaced by the following:\n",
        "        # L = []\n",
        "        # for i in range(0, numRows):\n",
        "        #     L.append('')\n",
        "        # so if numRows = 3, L = ['', '', '']\n",
        "        index, step = 0, 1\n",
        "\n",
        "        for x in s:\n",
        "            L[index] += x\n",
        "            # start #\n",
        "            if index == 0:\n",
        "                step = 1\n",
        "            elif index == numRows -1:\n",
        "                step = -1\n",
        "            #1 end  #\n",
        "            # I like to explain the part above\n",
        "            # take the str \"PAYPALISHIRING\" for example:\n",
        "            # We start with variable index with the value 0, step with the value 1\n",
        "            # Each row added with the next char\n",
        "            # If we reach the bottommost row, we need to turn to the next above row, so we change the step value to -1\n",
        "            # we keep the step value until we reach topmost row. DON'T CHANGE IT!\n",
        "            # Again, if we reach the topmost row, we need to reset the step value to 1\n",
        "            # What we need to remember is:\n",
        "            # the zigzag pattern is just a pictorial image for us to have a better understanding\n",
        "            # What the trick of algorithm is actually add the next char of the given string to different rows.\n",
        "            # Don't really think how to move the cursor in the matrix.\n",
        "            # It's really misleading way you think of this. Even it works, it's not efficient.\n",
        "            index += step\n",
        "\n",
        "        return ''.join(L)"
      ]
    },
    {
      "cell_type": "code",
      "execution_count": 20,
      "metadata": {
        "id": "_4jRNOl7hicL"
      },
      "outputs": [
        {
          "name": "stdout",
          "output_type": "stream",
          "text": [
            "<class 'int'>\n",
            "[[0, 0, 0]]\n",
            "0 0 0\n"
          ]
        }
      ],
      "source": [
        "# https://leetcode.com/problems/3sum-closest/\n",
        "\n",
        "# initial commit comment for a new branch in an jupiter notebook\n",
        "from itertools import chain, combinations\n",
        "\n",
        "nums = [0,0,0] \n",
        "target = 1\n",
        "\n",
        "# nums = [-1,2,1,-4]\n",
        "# target = 1\n",
        "\n",
        "target_l = [target-1, target, target+1]\n",
        "\n",
        "print(type(target_l[2]))\n",
        "\n",
        "\n",
        "def all_subsets_size3(ss):\n",
        "    if len(ss) > 3:\n",
        "        return combinations(ss, 3)\n",
        "    else:\n",
        "        return (ss)\n",
        "    \n",
        "subset_list_nums = []\n",
        "\n",
        "for subset in all_subsets_size3(nums):\n",
        "    subset_list_nums.append(subset)\n",
        "    #print(subset)\n",
        "\n",
        "print(subset_list_nums)\n",
        "threesum_val = []\n",
        "for val in subset_list_nums:\n",
        "    if sum(val) in target_l and len(val) == 3: \n",
        "        #print(val) \n",
        "        threesum_val = val\n",
        "\n",
        "print(*threesum_val)"
      ]
    },
    {
      "cell_type": "code",
      "execution_count": 23,
      "metadata": {},
      "outputs": [
        {
          "name": "stdout",
          "output_type": "stream",
          "text": [
            "0\n"
          ]
        }
      ],
      "source": [
        "# . another solution \n",
        "\n",
        "nums = [0,0,0]\n",
        "target = 1\n",
        "\n",
        "nums.sort()\n",
        "summ = nums[0] + nums[1] + nums[-1]\n",
        "        \n",
        "for i in range(len(nums)-2):\n",
        "            \n",
        "    start, end = i+1, len(nums)-1\n",
        "            \n",
        "    while start < end:\n",
        "                \n",
        "        cur_sum = nums[i] + nums[start] + nums[end]\n",
        "                \n",
        "        if cur_sum > target:\n",
        "            end -= 1\n",
        "        elif cur_sum < target:\n",
        "            start += 1\n",
        "        else:\n",
        "            print(cur_sum)\n",
        "                \n",
        "        if abs(cur_sum - target) < abs(summ - target):\n",
        "            summ = cur_sum\n",
        "\n",
        "print(summ)"
      ]
    },
    {
      "cell_type": "code",
      "execution_count": 27,
      "metadata": {},
      "outputs": [
        {
          "name": "stdout",
          "output_type": "stream",
          "text": [
            "CDXLIII\n",
            "if\n",
            "if\n",
            "else\n",
            "else\n",
            "else\n",
            "443\n"
          ]
        }
      ],
      "source": [
        "# https://leetcode.com/problems/two-sum-iv-input-is-a-bst/\n",
        "\n",
        "s = \"III\"\n",
        "s = 'CDXLIII'\n",
        "print(s)\n",
        "\n",
        "roman = {'I':1,'V':5,'X':10,'L':50,'C':100,'D':500,'M':1000,'IV':4,'IX':9,'XL':40,'XC':90,'CD':400,'CM':900}\n",
        "i = 0\n",
        "num = 0 \n",
        "\n",
        "while i < len(s):\n",
        "    if i+1<len(s) and s[i:i+2] in roman:\n",
        "        print('if')\n",
        "        num+=roman[s[i:i+2]]\n",
        "        i+=2\n",
        "    else:\n",
        "        print('else')\n",
        "        num+=roman[s[i]]\n",
        "        i+=1\n",
        "\n",
        "print(num)"
      ]
    },
    {
      "cell_type": "code",
      "execution_count": 14,
      "metadata": {},
      "outputs": [
        {
          "name": "stdout",
          "output_type": "stream",
          "text": [
            "['flight', 'flow', 'flower']\n",
            "['f']\n",
            "true cond\n",
            "['f']\n",
            "true cond\n",
            "['f']\n",
            "true cond\n",
            "['f']\n",
            "true cond\n",
            "['f']\n",
            "true cond\n",
            "['f']\n"
          ]
        }
      ],
      "source": [
        "# https://leetcode.com/problems/longest-common-prefix/\n",
        "from collections import deque\n",
        " \n",
        "\n",
        "strs = [\"flower\",\"flow\",\"flight\"]\n",
        "\n",
        "\n",
        "\n",
        "strs.sort()\n",
        "\n",
        "print(strs)\n",
        "\n",
        "# stack \n",
        "max_prefix = []\n",
        "# max_prefix = deque()\n",
        "\n",
        "count = 0\n",
        "#for val in strs:\n",
        "for i in range(len(max(strs))):\n",
        "    if max_prefix != []:\n",
        "        print('true cond')\n",
        "        if max_prefix[-1] != val[count] and count > 1: \n",
        "            print('true cond - false')\n",
        "            break\n",
        "        elif count == len(max_prefix) and max_prefix[-1] == val[count-1]: \n",
        "            print('true cond - true')\n",
        "            max_prefix.append(val[count])\n",
        "            count+=1\n",
        "    elif max_prefix == []:\n",
        "        max_prefix.append(val[count])\n",
        "    # else: \n",
        "    #     if max_prefix[-1] != val[count] and count > 1: \n",
        "    #         break\n",
        "    #     elif count == len(max_prefix) and max_prefix[-1] == val[count-1]: \n",
        "    #         max_prefix.append(val[count])\n",
        "\n",
        "    print(max_prefix)\n"
      ]
    },
    {
      "cell_type": "code",
      "execution_count": 17,
      "metadata": {},
      "outputs": [
        {
          "name": "stdout",
          "output_type": "stream",
          "text": [
            "flow\n",
            "[(0, 'f'), (1, 'l'), (2, 'o'), (3, 'w')]\n",
            "fl\n",
            "flo\n",
            "flow\n"
          ]
        }
      ],
      "source": [
        "\n",
        "strs = [\"flower\",\"flow\",\"flight\"]\n",
        "\n",
        "\n",
        "\n",
        "if not strs:\n",
        "    #return \"\"\n",
        "    print('')\n",
        "shortest = min(strs,key=len)\n",
        "print(shortest)\n",
        "print(list(enumerate(shortest)))\n",
        "for i, ch in enumerate(shortest):\n",
        "    for other in strs:\n",
        "        if other[i] != ch:\n",
        "            print(shortest[:i])\n",
        "            #return shortest[:i]\n",
        "print(shortest)\n",
        "#return shortest "
      ]
    },
    {
      "cell_type": "code",
      "execution_count": 38,
      "metadata": {},
      "outputs": [
        {
          "name": "stdout",
          "output_type": "stream",
          "text": [
            "dvdf\n",
            "dv\n",
            "df\n",
            "df\n",
            "['dv', 'df']\n",
            "2\n"
          ]
        }
      ],
      "source": [
        "# https://leetcode.com/problems/longest-substring-without-repeating-characters/\n",
        "\n",
        "\n",
        "# s = \"abcabcbb\"\n",
        "# s = \"pwwkew\"\n",
        "# s = \"bbbbb\"\n",
        "# s = \"\"\n",
        "# s = ' '\n",
        "# s = 'aab'\n",
        "s = 'dvdf'\n",
        "\n",
        "print(s)\n",
        "if not s:\n",
        "    print(0)\n",
        "# if s == \" \" or len(s) == 1:\n",
        "#     print(1)\n",
        "max_sub_str = s[0]\n",
        "max_arr = []\n",
        "\n",
        "for i in range(1,len(s)):\n",
        "    if max_sub_str[-1] != s[i] and s[i] not in max_sub_str:\n",
        "        max_sub_str+=s[i]\n",
        "        print(max_sub_str)\n",
        "    else: \n",
        "        max_arr.append(max_sub_str)\n",
        "        max_sub_str = s[i]\n",
        "if max_arr == [] or max_sub_str not in max_arr:\n",
        "    max_arr.append(max_sub_str)\n",
        "\n",
        "print(max_sub_str)\n",
        "print(max_arr)\n",
        "print(len(max(max_arr, key=len)))\n",
        "\n"
      ]
    },
    {
      "cell_type": "code",
      "execution_count": 28,
      "metadata": {},
      "outputs": [
        {
          "name": "stdout",
          "output_type": "stream",
          "text": [
            "here\n"
          ]
        }
      ],
      "source": [
        "s = \"\"\n",
        "\n",
        "if not s:\n",
        "    print('here')"
      ]
    },
    {
      "cell_type": "code",
      "execution_count": 45,
      "metadata": {},
      "outputs": [
        {
          "name": "stdout",
          "output_type": "stream",
          "text": [
            "anviaj\n",
            "an\n",
            "anv\n",
            "anvi\n",
            "iaj\n",
            "iaj\n",
            "['anvi', 'iaj']\n",
            "4\n"
          ]
        }
      ],
      "source": [
        "# https://leetcode.com/problems/longest-substring-without-repeating-characters/\n",
        "\n",
        "\n",
        "# s = \"abcabcbb\"\n",
        "# s = \"pwwkew\"\n",
        "# s = \"bbbbb\"\n",
        "# s = \"\"\n",
        "# s = ' '\n",
        "# s = 'aab'\n",
        "# s = 'dvdf'\n",
        "s = 'anviaj'\n",
        "\n",
        "print(s)\n",
        "\n",
        "\n",
        "max_sub_str = s[0]\n",
        "max_arr = []\n",
        "\n",
        "for i in range(1,len(s)):\n",
        "    if max_sub_str[-1] != s[i] and s[i] not in max_sub_str:\n",
        "        max_sub_str+=s[i]\n",
        "        print(max_sub_str)\n",
        "    else: \n",
        "        max_arr.append(max_sub_str)\n",
        "        if max_sub_str[-1]!=s[i] : \n",
        "            max_sub_str = max_sub_str[-1]+s[i]\n",
        "        else:\n",
        "            max_sub_str = s[i]\n",
        "if max_arr == [] or max_sub_str not in max_arr:\n",
        "    max_arr.append(max_sub_str)\n",
        "\n",
        "print(max_sub_str)\n",
        "print(max_arr)\n",
        "print(len(max(max_arr, key=len)))\n",
        "\n",
        "\n",
        "# current condition : not working \n"
      ]
    },
    {
      "cell_type": "code",
      "execution_count": 47,
      "metadata": {},
      "outputs": [
        {
          "name": "stdout",
          "output_type": "stream",
          "text": [
            "pwwkew\n",
            "pw\n",
            "wk\n",
            "wke\n",
            "wkew\n",
            "wkew\n",
            "['pw', 'wkew']\n",
            "4\n"
          ]
        }
      ],
      "source": [
        "s = 'anviaj'\n",
        "s = \"pwwkew\"\n",
        "\n",
        "print(s)\n",
        "\n",
        "\n",
        "max_sub_str = s[0]\n",
        "max_arr = []\n",
        "\n",
        "for i in range(1,len(s)):\n",
        "    if max_sub_str[-1] != s[i] :    #and s[i] not in max_sub_str\n",
        "        max_sub_str+=s[i]\n",
        "        print(max_sub_str)\n",
        "    else: \n",
        "        max_arr.append(max_sub_str)\n",
        "        if max_sub_str[-1]!=s[i] : \n",
        "            max_sub_str = max_sub_str[-1]+s[i]\n",
        "        else:\n",
        "            max_sub_str = s[i]\n",
        "if max_arr == [] or max_sub_str not in max_arr:\n",
        "    max_arr.append(max_sub_str)\n",
        "\n",
        "print(max_sub_str)\n",
        "print(max_arr)\n",
        "print(len(max(max_arr, key=len)))\n"
      ]
    },
    {
      "cell_type": "code",
      "execution_count": 50,
      "metadata": {},
      "outputs": [
        {
          "name": "stdout",
          "output_type": "stream",
          "text": [
            "[6, 7, 8]\n",
            "3\n"
          ]
        }
      ],
      "source": [
        "# https://leetcode.com/problems/search-insert-position/\n",
        "\n",
        "nums = [1,3,5,6]\n",
        "target = 5\n",
        "\n",
        "nums = [1,3,5,6]\n",
        "target = 7\n",
        "\n",
        "target_list = [target-1, target, target+1]\n",
        "print(target_list)\n",
        "\n",
        "if target in nums:\n",
        "    print(nums.index(target))\n",
        "else:\n",
        "    for val in target_list:\n",
        "        if val in nums :\n",
        "            print(nums.index(val))\n",
        "            if val > target : print(nums.index(val)+1)\n",
        "            else : "
      ]
    },
    {
      "cell_type": "code",
      "execution_count": 55,
      "metadata": {},
      "outputs": [
        {
          "name": "stdout",
          "output_type": "stream",
          "text": [
            "here\n",
            "not present\n"
          ]
        }
      ],
      "source": [
        "# https://leetcode.com/problems/search-insert-position/\n",
        "\n",
        "# nums = [1,3,5,6]\n",
        "# target = 5\n",
        "\n",
        "# nums = [1,3,5,6]\n",
        "# target = 7\n",
        "\n",
        "nums = [1,3,5,6]\n",
        "target = 4\n",
        "\n",
        "\n",
        "\n",
        "if target > max(nums) : \n",
        "    print(len(nums))\n",
        "elif target < min(nums) : \n",
        "    print('0')\n",
        "else: \n",
        "    print('here')\n",
        "    if target in nums: print(nums.index(target))\n",
        "    else : \n",
        "        print('not present') \n"
      ]
    },
    {
      "cell_type": "code",
      "execution_count": 59,
      "metadata": {},
      "outputs": [
        {
          "name": "stdout",
          "output_type": "stream",
          "text": [
            "5\n",
            "2\n"
          ]
        }
      ],
      "source": [
        "nums = [1,3,5,6]\n",
        "target = 5\n",
        "\n",
        "\n",
        "result = min(nums, key=lambda x:abs(x-target))\n",
        "print(result)\n",
        "\n",
        "if result < target: \n",
        "    print(nums.index(result)+1)\n",
        "elif result == target :\n",
        "    print(nums.index(result)) \n",
        "elif result > target : \n",
        "    print(nums.index(result)-1)\n",
        "\n",
        "\n"
      ]
    },
    {
      "cell_type": "code",
      "execution_count": 66,
      "metadata": {},
      "outputs": [
        {
          "name": "stdout",
          "output_type": "stream",
          "text": [
            "1\n"
          ]
        }
      ],
      "source": [
        "result =  max(nums, key=lambda x:abs(x-target))\n",
        "print(result)"
      ]
    },
    {
      "cell_type": "code",
      "execution_count": 67,
      "metadata": {},
      "outputs": [],
      "source": [
        "from bisect import bisect_left\n",
        "\n",
        "def take_closest(myList, myNumber):\n",
        "    \"\"\"\n",
        "    Assumes myList is sorted. Returns closest value to myNumber.\n",
        "\n",
        "    If two numbers are equally close, return the smallest number.\n",
        "    \"\"\"\n",
        "    pos = bisect_left(myList, myNumber)\n",
        "    if pos == 0:\n",
        "        return myList[0]\n",
        "    if pos == len(myList):\n",
        "        return myList[-1]\n",
        "    before = myList[pos - 1]\n",
        "    after = myList[pos]\n",
        "    if after - myNumber < myNumber - before:\n",
        "        return after\n",
        "    else:\n",
        "        return before"
      ]
    },
    {
      "cell_type": "code",
      "execution_count": 69,
      "metadata": {},
      "outputs": [
        {
          "name": "stdout",
          "output_type": "stream",
          "text": [
            "6\n"
          ]
        }
      ],
      "source": [
        "nums = [1,3,5,6]\n",
        "target = 7\n",
        "\n",
        "print(take_closest(nums, target))"
      ]
    },
    {
      "cell_type": "code",
      "execution_count": 71,
      "metadata": {},
      "outputs": [
        {
          "name": "stdout",
          "output_type": "stream",
          "text": [
            "luffy is still joyboy\n",
            "joyboy\n",
            "6\n"
          ]
        }
      ],
      "source": [
        "# https://leetcode.com/problems/length-of-last-word/\n",
        "\n",
        "s = \"luffy is still joyboy    \"\n",
        "\n",
        "s = s.strip()\n",
        "\n",
        "print(s)\n",
        "\n",
        "print(list(s.split(' '))[-1])\n",
        "print(len(list(s.split(' '))[-1]))"
      ]
    },
    {
      "cell_type": "code",
      "execution_count": 78,
      "metadata": {},
      "outputs": [
        {
          "name": "stdout",
          "output_type": "stream",
          "text": [
            "10\n",
            "[1, 0]\n"
          ]
        }
      ],
      "source": [
        "# https://leetcode.com/problems/largest-palindromic-number/\n",
        "\n",
        "\n",
        "digits = [4,3,2,1]\n",
        "digits = [9]\n",
        "\n",
        "a1 = int(\"\".join(map(str, digits)))\n",
        "a1 += 1 \n",
        "\n",
        "print(a1)\n",
        "print(list(map(int,(str(a1)))))"
      ]
    },
    {
      "cell_type": "code",
      "execution_count": 81,
      "metadata": {},
      "outputs": [
        {
          "name": "stdout",
          "output_type": "stream",
          "text": [
            "10101\n"
          ]
        }
      ],
      "source": [
        "# https://leetcode.com/problems/add-binary/\n",
        "\n",
        "a = \"1010\"\n",
        "b = \"1011\"\n",
        "\n",
        "c = int(a,2)+int(b,2)\n",
        "\n",
        "print(bin(c).replace(\"0b\",\"\"))\n",
        "\n",
        "\n",
        "# --- comments solution : \n",
        "\n",
        "# class Solution:\n",
        "#     def addBinary(self, a: str, b: str) -> str:\n",
        "#         carry = 0\n",
        "#         result = ''\n",
        "\n",
        "#         a = list(a)\n",
        "#         b = list(b)\n",
        "\n",
        "#         while a or b or carry:\n",
        "#             if a:\n",
        "#                 carry += int(a.pop())\n",
        "#             if b:\n",
        "#                 carry += int(b.pop())\n",
        "\n",
        "#             result += str(carry %2)\n",
        "#             carry //= 2\n",
        "\n",
        "#         return result[::-1]\n",
        "\n"
      ]
    },
    {
      "cell_type": "code",
      "execution_count": null,
      "metadata": {},
      "outputs": [],
      "source": [
        "# -- another solution \n",
        "\n",
        "# I think it would be better if you initialize result as [] and append str(carry %2) at each iteration. At the end use ''.join(ret)[::-1] to create the final result string. Since adding two string needs to copy all characters in the two strings, which is not O(1).\n",
        "\n",
        "def int_to_bin()"
      ]
    },
    {
      "cell_type": "code",
      "execution_count": 83,
      "metadata": {},
      "outputs": [
        {
          "name": "stdout",
          "output_type": "stream",
          "text": [
            "2\n"
          ]
        }
      ],
      "source": [
        "# https://leetcode.com/problems/sqrtx/\n",
        "\n",
        "x = 7\n",
        "\n",
        "print(int(x**0.5))"
      ]
    },
    {
      "cell_type": "code",
      "execution_count": 6,
      "metadata": {},
      "outputs": [],
      "source": [
        "# https://leetcode.com/problems/climbing-stairs/\n",
        "\n",
        "# n = 5 \n",
        "\n",
        "def climbStairs(n):\n",
        "    a, b = 1, 1\n",
        "    for i in range(n):\n",
        "        a, b = b, a + b\n",
        "    return a"
      ]
    },
    {
      "cell_type": "code",
      "execution_count": 15,
      "metadata": {},
      "outputs": [
        {
          "name": "stdout",
          "output_type": "stream",
          "text": [
            "377\n"
          ]
        }
      ],
      "source": [
        "print(climbStairs(13))\n"
      ]
    },
    {
      "cell_type": "code",
      "execution_count": 20,
      "metadata": {},
      "outputs": [],
      "source": [
        "nums = [1,1,1,1,1,1,1,1,1,1,1,1,1,1,1,1,1,1,1,1,1,1,1,1,1,1,1,1,1,1,1,1,1,1,1,1,1,1,1,1,1,1,1,1,1,1,1,1,1,1,1,1,1,1,1,1,1,1,1,1,1,1,1,1,1,1,1,1,1,1,1,1,1,1,1,1,1,1,1,1,1,1,1,1,1,1,1,1,1,1,1,1,1,1,1,1,1,1,1,1,1,1,1,1,1,1,1,1,1,1,1,1,1,1,1,1,1,1,1,1,1,1,1,1,1,1,1,1,1,1,1,1,1,1,1,1,1,1,1,1,1,1,1,1,1,1,1,1,1,1,1,1,1,1,1,1,1,1,1,1,1,1,1,1,1,1,1,1,1,1,1,1,1,1,1,1,1,1,1,1,1,1,1,1,1,1,1,1,1,1,1,1,1,1,1,1,1,1,1,1,1,1,1,1,1,1,1,1,1,1,1,1,1,1,1,1,1,1,1,1,1,1,1,1,1,1,1,1,1,1,1,1,1,1,1,1,1,1,1,1,1,1,1,1,1,1,1,1,1,1,1,1,1,1,1,1,1,1,1,1,1,1,1,1,1,1,1,1,1,1,1,1,1,1,1,1,1,1,1,1,1,1,1,1,1,1,1,1,1,1,1,1,1,1,1,1,1,1,1,1,1,1,1,1,1,1,1,1,1,1,1,1,1,1,1,1,1,1,1,1,1,1,1,1,1,1,1,1,1,1,1,1,1,1,1,1,1,1,1,1,1,1,1,1,1,1,1,1,1,1,1,1,1,1,1,1,1,1,1,1,1,1,1,1,1,1,1,1,1,1,1,1,1,1,1,1,1,1,1,1,1,1,1,1,1,1,1,1,1,1,1,1,1,1,1,1,1,1,1,1,1,1,1,1,1,1,1,1,1,1,1,1,1,1,1,1,1,1,1,1,1,1,1,1,1,1,1,1,1,1,1,1,1,1,1,1,1,1,1,1,1,1,1,1,1,1,1,1,1,1,1,1,1,1,1,1,1,1,1,1,1,1,1,1,1,1,1,1,1,1,1,1,1,1,1,1,1,1,1,1,1,1,1,1,1,1,1,1,1,1,1,1,1,1,1,1,1,1,1,1,1,1,1,1,1,1,1,1,1,1,1,1,1,1,1,1,1,1,1,1,1,1,1,1,1,1,1,1,1,1,1,1,1,1,1,1,1,1,1,1,1,1,1,1,1,1,1,1,1,1,1,1,1,1,1,1,1,1,1,1,1,1,1,1,1,1,1,1,1,1,1,1,1,1,1,1,1,1,1,1,1,1,1,1,1,1,1,1,1,1,1,1,1,1,1,1,1,1,1,1,1,1,1,1,1,1,1,1,1,1,1,1,1,1,1,1,1,1,1,1,1,1,1,1,1,1,1,1,1,1,1,1,1,1,1,1,1,1,1,1,1,1,1,1,1,1,1,1,1,1,1,1,1,1,1,1,1,1,1,1,1,1,1,1,1,1,1,1,1,1,1,1,1,1,1,1,1,1,1,1,1,1,1,1,1,1,1,1,1,1,1,1,1,1,1,1,1,1,1,1,1,1,1,1,1,1,1,1,1,1,1,1,1,1,1,1,1,1,1,1,1,1,1,1,1,1,1,1,1,1,1,1,1,1,1,1,1,1,1,1,1,1,1,1,1,1,1,1,1,1,1,1,1,1,1,1,1,1,1,1,1,1,1,1,1,1,1,1,1,1,1,1,1,1,1,1,1,1,1,1,1,1,1,1,1,1,1,1,1,1,1,1,1,1,1,1,1,1,1,1,1,1,1,1,1,1,1,1,1,1,1,1,1,1,1,1,1,1,1,1,1,1,1,1,1,1,1,1,1,1,1,1,1,1,1,1,1,1,1,1,1,1,1,1,1,1,1,1,1,1,1,1,1,1,1,1,1,1,1,1,1,1,1,1,1,1,1,1,1,1,1,1,1,1,1,1,1,1,1,1,1,1,1,1,1,1,1,1,1,1,1,1,1,1,1,1,1,1,1,1,1,1,1,1,1,1,1,1,1,1,1,1,1,1,1,1,1,1,1,1,1,1,1,1,1,1,1,1,1,1,1,1,1,1,1,1,1,1,1,1,1,1,1,1,1,1,1,1,1,1,1,1,1,1,1,1,1,1,1,1,1,1,1,1,1,1,1,1,1,1,1,1,1,1,1,1,1,1,1,1,1,1,1,1,1,1,1,1,1,1,1,1,1,1,1,1,1,1,1,1,1,1,1,1,1,1,1,1,1,1,1,1,1,1,1,1,1,1,1,1,1,1,1,1,1,1,1,1,1,1,1,1,1,1,1,1,1,1,1,1,1,1,1,1,1,1,1,1,1,1,1,1,1,1,1,1,1,1,1,1,1,1,1,1,1,1,1,1,1,1,1,1,1,1,1,1,1,1,1,1,1,1,1,1,1,1,1,1,1,1,1,1,1,1,1,1,1,1,1,1,1,1,1,1,1,1,1,1,1,1,1,1,1,1,1,1,1,1,1,1,1,1,1,1,1,1,1,1,1,1,1,1,1,1,1,1,1,1,1,1,1,1,1,1,1,1,1,1,1,1,1,1,1,1,1,1,1,1,1,1,1,1,1,1,1,1,1,1,1,1,1,1,1,1,1,1,1,1,1,1,1,1,1,1,1,1,1,1,1,1,1,1,1,1,1,1,1,1,1,1,1,1,1,1,1,1,1,1,1,1,1,1,1,1,1,1,1,1,1,1,1,1,1,1,1,1,1,1,1,1,1,1,1,1,1,1,1,1,1,1,1,1,1,1,1,1,1,1,1,1,1,1,1,1,1,1,1,1,1,1,1,1,1,1,1,1,1,1,1,1,1,1,1,1,1,1,1,1,1,1,1,1,1,1,1,1,1,1,1,1,1,1,1,1,1,1,1,1,1,1,1,1,1,1,1,1,1,1,1,1,1,1,1,1,1,1,1,1,1,1,1,1,1,1,1,1,1,1,1,1,1,1,1,1,1,1,1,1,1,1,1,1,1,1,1,1,1,1,1,1,1,1,1,1,1,1,1,1,1,1,1,1,1,1,1,1,1,1,1,1,1,1,1,1,1,1,1,1,1,1,1,1,1,1,1,1,1,1,1,1,1,1,1,1,1,1,1,1,1,1,1,1,1,1,1,1,1,1,1,1,1,1,1,1,1,1,1,1,1,1,1,1,1,1,1,1,1,1,1,1,1,1,1,1,1,1,1,1,1,1,1,1,1,1,1,1,1,1,1,1,1,1,1,1,1,1,1,1,1,1,1,1,1,1,1,1,1,1,1,1,1,1,1,1,1,1,1,1,1,1,1,1,1,1,1,1,1,1,1,1,1,1,1,1,1,1,1,1,1,1,1,1,1,1,1,1,1,1,1,1,1,1,1,1,1,1,1,1,1,1,1,1,1,1,1,1,1,1,1,1,1,1,1,1,1,1,1,1,1,1,1,1,1,1,1,1,1,1,1,1,1,1,1,1,1,1,1,1,1,1,1,1,1,1,1,1,1,1,1,1,1,1,1,1,1,1,1,1,1,1,1,1,1,1,1,1,1,1,1,1,1,1,1,1,1,1,1,1,1,1,1,1,1,1,1,1,1,1,1,1,1,1,1,1,1,1,1,1,1,1,1,1,1,1,1,1,1,1,1,1,1,1,1,1,1,1,1,1,1,1,1,1,1,1,1,1,1,1,1,1,1,1,1,1,1,1,1,1,1,1,1,1,1,1,1,1,1,1,1,1,1,1,1,1,1,1,1,1,1,1,1,1,1,1,1,1,1,1,1,1,1,1,1,1,1,1,1,1,1,1,1,1,1,1,1,1,1,1,1,1,1,1,1,1,1,1,1,1,1,1,1,1,1,1,1,1,1,1,1,1,1,1,1,1,1,1,1,1,1,1,1,1,1,1,1,1,1,1,1,1,1,1,1,1,1,1,1,1,1,1,1,1,1,1,1,1,1,1,1,1,1,1,1,1,1,1,1,1,1,1,1,1,1,1,1,1,1,1,1,1,1,1,1,1,1,1,1,1,1,1,1,1,1,1,1,1,1,1,1,1,1,1,1,1,1,1,1,1,1,1,1,1,1,1,1,1,1,1,1,1,1,1,1,1,1,1,1,1,1,1,1,1,1,1,1,1,1,1,1,1,1,1,1,1,1,1,1,1,1,1,1,1,1,1,1,1,1,1,1,1,1,1,1,1,1,1,1,1,1,1,1,1,1,1,1,1,1,1,1,1,1,1,1,1,1,1,1,1,1,1,1,1,1,1,1,1,1,1,1,1,1,1,1,1,1,1,1,1,1,1,1,1,1,1,1,1,1,1,1,1,1,1,1,1,1,1,1,1,1,1,1,1,1,1,1,1,1,1,1,1,1,1,1,1,1,1,1,1,1,1,1,1,1,1,1,1,1,1,1,1,1,1,1,1,1,1,1,1,1,1,1,1,1,1,1,1,1,1,1,1,1,1,1,1,1,1,1,1,1,1,1,1,1,1,1,1,1,1,1,1,1,1,1,1,1,1,1,1,1,1,1,1,1,1,1,1,1,1,1,1,1,1,1,1,1,1,1,1,1,1,1,1,1,1,1,1,1,1,1,1,1,1,1,1,1,1,1,1,1,1,1,1,1,1,1,1,1,1,1,1,1,1,1,1,1,1,1,1,1,1,1,1,1,1,1,1,1,1,1,1,1,1,1,1,1,1,1,1,1,1,1,1,1,1,1,1,1,1,1,1,1,1,1,1,1,1,1,1,1,1,1,1,1,1,1,1,1,1,1,1,1,1,1,1,1,1,1,1,1,1,1,1,1,1,1,1,1,1,1,1,1,1,1,1,1,1,1,1,1,1,1,1,1,1,1,1,1,1,1,1,1,1,1,1,1,1,1,1,1,1,1,1,1,1,1,1,1,1,1,1,1,1,1,1,1,1,1,1,1,1,1,1,1,1,1,1,1,1,1,1,1,1,1,1,1,1,1,1,1,1,1,1,1,1,1,1,1,1,1,1,1,1,1,1,1,1,1,1,1,1,1,1,1,1,1,1,1,1,1,1,1,1,1,1,1,1,1,1,1,1,1,1,1,1,1,1,1,1,1,1,1,1,1,1,1,1,1,1,1,1,1,1,1,1,1,1,1,1,1,1,1,1,1,1,1,1,1,1,1,1,1,1,1,1,1,1,1,1,1,1,1,1,1,1,1,1,1,1,1,1,1,1,1,1,1,1,1,1,1,1,1,1,1,1,1,1,1,1,1,1,1,1,1,1,1,1,1,1,1,1,1,1,1,1,1,1,1,1,1,1,1,1,1,1,1,1,1,1,1,1,1,1,1,1,1,1,1,1,1,1,1,1,1,1,1,1,1,1,1,1,1,1,1,1,1,1,1,1,1,1,1,1,1,1,1,1,1,1,1,1,1,1,1,1,1,1,1,1,1,1,1,1,1,1,1,1,1,1,1,1,1,1,1,1,1,1,1,1,1,1,1,1,1,1,1,1,1,1,1,1,1,1,1,1,1,1,1,1,1,1,1,1,1,1,1,1,1,1,1,1,1,1,1,1,1,1,1,1,1,1,1,1,1,1,1,1,1,1,1,1,1,1,1,1,1,1,1,1,1,1,1,1,1,1,1,1,1,1,1,1,1,1,1,1,1,1,1,1,1,1,1,1,1,1,1,1,1,1,1,1,1,1,1,1,1,1,1,1,1,1,1,1,1,1,1,1,1,1,1,1,1,1,1,1,1,1,1,1,1,1,1,1,1,1,1,1,1,1,1,1,1,1,1,1,1,1,1,1,1,1,1,1,1,1,1,1,1,1,1,1,1,1,1,1,1,1,1,1,1,1,1,1,1,1,1,1,1,1,1,1,1,1,1,1,1,1,1,1,1,1,1,1,1,1,1,1,1,1,1,1,1,1,1,1,1,1,1,1,1,1,1,1,1,1,1,1,1,1,1,1,1,1,1,1,1,1,1,1,1,1,1,1,1,1,1,1,1,1,1,1,1,1,1,1,1,1,1,1,1,1,1,1,1,1,1,1,1,1,1,1,1,1,1,1,1,1,1,1,1,1,1,1,1,1,1,1,1,1,1,1,1,1,1,1,1,1,1,1,1,1,1,1,1,1,1,1,1,1,1,1,1,1,1,1,1,1,1,1,1,1,1,1,1,1,1,1,1,1,1,1,1,1,1,1,1,1,1,1,1,1,1,1,1,1,1,1,1,1,1,1,1,1,1,1,1,1,1,1,1,1,1,1,1,1,1,1,1,1,1,1,1,1,1,1,1,1,1,1,1,1,1,1,1,1,1,1,1,1,1,1,1,1,1,1,1,1,1,1,1,1,1,1,1,1,1,1,1,1,1,1,1,1,1,1,1,1,1,1,1,1,1,1,1,1,1,1,1,1,1,1,1,1,1,1,1,1,1,1,1,1,1,1,1,1,1,1,1,1,1,1,1,1,1,1,1,1,1,1,1,1,1,1,1,1,1,1,1,1,1,1,1,1,1,1,1,1,1,1,1,1,1,1,1,1,1,1,1,1,1,1,1,1,1,1,1,1,1,1,1,1,1,1,1,1,1,1,1,1,1,1,1,1,1,1,1,1,1,1,1,1,1,1,1,1,1,1,1,1,1,1,1,1,1,1,1,1,1,1,1,1,1,1,1,1,1,1,1,1,1,1,1,1,1,1,1,1,1,1,1,1,1,1,1,1,1,1,1,1,1,1,1,1,1,1,1,1,1,1,1,1,1,1,1,1,1,1,1,1,1,1,1,1,1,1,1,1,1,1,1,1,1,1,1,1,1,1,1,1,1,1,1,1,1,1,1,1,1,1,1,1,1,1,1,1,1,1,1,1,1,1,1,1,1,1,1,1,1,1,1,1,1,1,1,1,1,1,1,1,1,1,1,1,1,1,1,1,1,1,1,1,1,1,1,1,1,1,1,1,1,1,1,1,1,1,1,1,1,1,1,1,1,1,1,1,1,1,1,1,1,1,1,1,1,1,1,1,1,1,1,1,1,1,1,1,1,1,1,1,1,1,1,1,1,1,1,1,1,1,1,1,1,1,1,1,1,1,1,1,1,1,1,1,1,1,1,1,1,1,1,1,1,1,1,1,1,1,1,1,1,1,1,1,1,1,1,1,1,1,1,1,1,1,1,1,1,1,1,1,1,1,1,1,1,1,1,1,1,1,1,1,1,1,1,1,1,1,1,1,1,1,1,1,1,1,1,1,1,1,1,1,1,1,1,1,1,1,1,1,1,1,1,1,1,1,1,1,1,1,1,1,1,1,1,1,1,1,1,1,1,1,1,1,1,1,1,1,1,1,1,1,1,1,1,1,1,1,1,1,1,1,1,1,1,1,1,1,1,1,1,1,1,1,1,1,1,1,1,1,1,1,1,1,1,1,1,1,1,1,1,1,1,1,1,1,1,1,1,1,1,1,1,1,1,1,1,1,1,1,1,1,1,1,1,1,1,1,1,1,1,1,1,1,1,1,1,1,1,1,1,1,1,1,1,1,1,1,1,1,1,1,1,1,1,1,1,1,1,1,1,1,1,1,1,1,1,1,1,1,1,1,1,1,1,1,1,1,1,1,1,1,1,1,1,1,1,1,1,1,1,1,1,1,1,1,1,1,1,1,1,1,1,1,1,1,1,1,1,1,1,1,1,1,1,1,1,1,1,1,1,1,1,1,1,1,1,1,1,1,1,1,1,1,1,1,1,1,1,1,1,1,1,1,1,1,1,1,1,1,1,1,1,1,1,1,1,1,1,1,1,1,1,1,1,1,1,1,1,1,1,1,1,1,1,1,1,1,1,1,1,1,1,1,1,1,1,1,1,1,1,1,1,1,1,1,1,1,1,1,1,1,1,1,1,1,1,1,1,1,1,1,1,1,1,1,1,1,1,1,1,1,1,1,1,1,1,1,1,1,1,1,1,1,1,1,1,1,1,1,1,1,1,1,1,1,1,1,1,1,1,1,1,1,1,1,1,1,1,1,1,1,1,1,1,1,1,1,1,1,1,1,1,1,1,1,1,1,1,1,1,1,1,1,1,1,1,1,1,1,1,1,1,1,1,1,1,1,1,1,1,1,1,1,1,1,1,1,1,1,1,1,1,1,1,1,1,1,1,1,1,1,1,1,1,1,1,1,1,1,1,1,1,1,1,1,1,1,1,1,1,1,1,1,1,1,1,1,1,1,1,1,1,1,1,1,1,1,1,1,1,1,1,1,1,1,1,1,1,1,1,1,1,1,1,1,1,1,1,1,1,1,1,1,1,1,1,1,1,1,1,1,1,1,1,1,1,1,1,1,1,1,1,1,1,1,1,1,1,1,1,1,1,1,1,1,1,1,1,1,1,1,1,1,1,1,1,1,1,1,1,1,1,1,1,1,1,1,1,1,1,1,1,1,1,1,1,1,1,1,1,1,1,1,1,1,1,1,1,1,1,1,1,1,1,1,1,1,1,1,1,1,1,1,1,1,1,1,1,1,1,1,1,1,1,1,1,1,1,1,1,1,1,1,1,1,1,1,1,1,1,1,1,1,1,1,1,1,1,1,1,1,1,1,1,1,1,1,1,1,1,1,1,1,1,1,1,1,1,1,1,1,1,1,1,1,1,1,1,1,1,1,1,1,1,1,1,1,1,1,1,1,1,1,1,1,1,1,1,1,1,1,1,1,1,1,1,1,1,1,1,1,1,1,1,1,1,1,1,1,1,1,1,1,1,1,1,1,1,1,1,1,1,1,1,1,1,1,1,1,1,1,1,1,1,1,1,1,1,1,1,1,1,1,1,1,1,1,1,1,1,1,1,1,1,1,1,1,1,1,1,1,1,1,1,1,1,1,1,1,1,1,1,1,1,1,1,1,1,1,1,1,1,1,1,1,1,1,1,1,1,1,1,1,1,1,1,1,1,1,1,1,1,1,1,1,1,1,1,1,1,1,1,1,1,1,1,1,1,1,1,1,1,1,1,1,1,1,1,1,1,1,1,1,1,1,1,1,1,1,1,1,1,1,1,1,1,1,1,1,1,1,1,1,1,1,1,1,1,1,1,1,1,1,1,1,1,1,1,1,1,1,1,1,1,1,1,1,1,1,1,1,1,1,1,1,1,1,1,1,1,1,1,1,1,1,1,1,1,1,1,1,1,1,1,1,1,1,1,1,1,1,1,1,1,1,1,1,1,1,1,1,1,1,1,1,1,1,1,1,1,1,1,1,1,1,1,1,1,1,1,1,1,1,1,1,1,1,1,1,1,1,1,1,1,1,1,1,1,1,1,1,1,1,1,1,1,1,1,1,1,1,1,1,1,1,1,1,1,1,1,1,1,1,1,1,1,1,1,1,1,1,1,1,1,1,1,1,1,1,1,1,1,1,1,1,1,1,1,1,1,1,1,1,1,1,1,1,1,1,1,1,1,1,1,1,1,1,1,1,1,1,1,1,1,1,1,1,1,1,1,1,1,1,1,1,1,1,1,1,1,1,1,1,1,1,1,1,1,1,1,1,1,1,1,1,1,1,1,1,1,1,1,1,1,1,1,1,1,1,1,1,1,1,1,1,1,1,1,1,1,1,1,1,1,1,1,1,1,1,1,1,1,1,1,1,1,1,1,1,1,1,1,1,1,1,1,1,1,1,1,1,1,1,1,1,1,1,1,1,1,1,1,1,1,1,1,1,1,1,1,1,1,1,1,1,1,1,1,1,1,1,1,1,1,1,1,1,1,1,1,1,1,1,1,1,1,1,1,1,1,1,1,1,1,1,1,1,1,1,1,1,1,1,1,1,1,1,1,1,1,1,1,1,1,1,1,1,1,1,1,1,1,1,1,1,1,1,1,1,1,1,1,1,1,1,1,1,1,1,1,1,1,1,1,1,1,1,1,1,1,1,1,1,1,1,1,1,1,1,1,1,1,1,1,1,1,1,1,1,1,1,1,1,1,1,1,1,1,1,1,1,1,1,1,1,1,1,1,1,1,1,1,1,1,1,1,1,1,1,1,1,1,1,1,1,1,1,1,1,1,1,1,1,1,1,1,1,1,1,1,1,1,1,1,1,1,1,1,1,1,1,1,1,1,1,1,1,1,1,1,1,1,1,1,1,1,1,1,1,1,1,1,1,1,1,1,1,1,1,1,1,1,1,1,1,1,1,1,1,1,1,1,1,1,1,1,1,1,1,1,1,1,1,1,1,1,1,1,1,1,1,1,1,1,1,1,1,1,1,1,1,1,1,1,1,1,1,1,1,1,1,1,1,1,1,1,1,1,1,1,1,1,1,1,1,1,1,1,1,1,1,1,1,1,1,1,1,1,1,1,1,1,1,1,1,1,1,1,1,1,1,1,1,1,1,1,1,1,1,1,1,1,1,1,1,1,1,1,1,1,1,1,1,1,1,1,1,1,1,1,1,1,1,1,1,1,1,1,1,1,1,1,1,1,1,1,1,1,1,1,1,1,1,1,1,1,1,1,1,1,1,1,1,1,1,1,1,1,1,1,1,1,1,1,1,1,1,1,1,1,1,1,1,1,1,1,1,1,1,1,1,1,1,1,1,1,1,1,1,1,1,1,1,1,1,1,1,1,1,1,1,1,1,1,1,1,1,1,1,1,1,1,1,1,1,1,1,1,1,1,1,1,1,1,1,1,1,1,1,1,1,1,1,1,1,1,1,1,1,1,1,1,1,1,1,1,1,1,1,1,1,1,1,1,1,1,1,1,1,1,1,1,1,1,1,1,1,1,1,1,1,1,1,1,1,1,1,1,1,1,1,1,1,1,1,1,1,1,1,1,1,1,1,1,1,1,1,1,1,1,1,1,1,1,1,1,1,1,1,1,1,1,1,1,1,1,1,1,1,1,1,1,1,1,1,1,1,1,1,1,1,1,1,1,1,1,1,1,1,1,1,1,1,1,1,1,1,1,1,1,1,1,1,1,1,1,1,1,1,1,1,1,1,1,1,1,1,1,1,1,1,1,1,1,1,1,1,1,1,1,1,1,1,1,1,1,1,1,1,1,1,1,1,1,1,1,1,1,1,1,1,1,1,1,1,1,1,1,1,1,1,1,1,1,1,1,1,1,1,1,1,1,1,1,1,1,1,1,1,1,1,1,1,1,1,1,1,1,1,1,1,1,1,1,1,1,1,1,1,1,1,1,1,1,1,1,1,1,1,1,1,1,1,1,1,1,1,1,1,1,1,1,1,1,1,1,1,1,1,1,1,1,1,1,1,1,1,1,1,1,1,1,1,1,1,1,1,1,1,1,1,1,1,1,1,1,1,1,1,1,1,1,1,1,1,1,1,1,1,1,1,1,1,1,1,1,1,1,1,1,1,1,1,1,1,1,1,1,1,1,1,1,1,1,1,1,1,1,1,1,1,1,1,1,1,1,1,1,1,1,1,1,1,1,1,1,1,1,1,1,1,1,1,1,1,1,1,1,1,1,1,1,1,1,1,1,1,1,1,1,1,1,1,1,1,1,1,1,1,1,1,1,1,1,1,1,1,1,1,1,1,1,1,1,1,1,1,1,1,1,1,1,1,1,1,1,1,1,1,1,1,1,1,1,1,1,1,1,1,1,1,1,1,1,1,1,1,1,1,1,1,1,1,1,1,1,1,1,1,1,1,1,1,1,1,1,1,1,1,1,1,1,1,1,1,1,1,1,1,1,1,1,1,1,1,1,1,1,1,1,1,1,1,1,1,1,1,1,1,1,1,1,1,1,1,1,1,1,1,1,1,1,1,1,1,1,1,1,1,1,1,1,1,1,1,1,1,1,1,1,1,1,1,1,1,1,1,1,1,1,1,1,1,1,1,1,1,1,1,1,1,1,1,1,1,1,1,1,1,1,1,1,1,1,1,1,1,1,1,1,1,1,1,1,1,1,1,1,1,1,1,1,1,1,1,1,1,1,1,1,1,1,1,1,1,1,1,1,1,1,1,1,1,1,1,1,1,1,1,1,1,1,1,1,1,1,1,1,1,1,1,1,1,1,1,1,1,1,1,1,1,1,1,1,1,1,1,1,1,1,1,1,1,1,1,1,1,1,1,1,1,1,1,1,1,1,1,1,1,1,1,1,1,1,1,1,1,1,1,1,1,1,1,1,1,1,1,1,1,1,1,1,1,1,1,1,1,1,1,1,1,1,1,1,1,1,1,1,1,1,1,1,1,1,1,1,1,1,1,1,1,1,1,1,1,1,1,1,1,1,1,1,1,1,1,1,1,1,1,1,1,1,1,1,1,1,1,1,1,1,1,1,1,1,1,1,1,1,1,1,1,1,1,1,1,1,1,1,1,1,1,1,1,1,1,1,1,1,1,1,1,1,1,1,1,1,1,1,1,1,1,1,1,1,1,1,1,1,1,1,1,1,1,1,1,1,1,1,1,1,1,1,1,1,1,1,1,1,1,1,1,1,1,1,1,1,1,1,1,1,1,1,1,1,1,1,1,1,1,1,1,1,1,1,1,1,1,1,1,1,1,1,1,1,1,1,1,1,1,1,1,1,1,1,1,1,1,1,1,1,1,1,1,1,1,1,1,1,1,1,1,1,1,1,1,1,1,1,1,1,1,1,1,1,1,1,1,1,1,1,1,1,1,1,1,1,1,1,1,1,1,1,1,1,1,1,1,1,1,1,1,1,1,1,1,1,1,1,1,1,1,1,1,1,1,1,1,1,1,1,1,1,1,1,1,1,1,1,1,1,1,1,1,1,1,1,1,1,1,1,1,1,1,1,1,1,1,1,1,1,1,1,1,1,1,1,1,1,1,1,1,1,1,1,1,1,1,1,1,1,1,1,1,1,1,1,1,1,1,1,1,1,1,1,1,1,1,1,1,1,1,1,1,1,1,1,1,1,1,1,1,1,1,1,1,1,1,1,1,1,1,1,1,1,1,1,1,1,1,1,1,1,1,1,1,1,1,1,1,1,1,1,1,1,1,1,1,1,1,1,1,1,1,1,1,1,1,1,1,1,1,1,1,1,1,1,1,1,1,1,1,1,1,1,1,1,1,1,1,1,1,1,1,1,1,1,1,1,1,1,1,1,1,1,1,1,1,1,1,1,1,1,1,1,1,1,1,1,1,1,1,1,1,1,1,1,1,1,1,1,1,1,1,1,1,1,1,1,1,1,1,1,1,1,1,1,1,1,1,1,1,1,1,1,1,1,1,1,1,1,1,1,1,1,1,1,1,1,1,1,1,1,1,1,1,1,1,1,1,1,1,1,1,1,1,1,1,1,1,1,1,1,1,1,1,1,1,1,1,1,1,1,1,1,1,1,1,1,1,1,1,1,1,1,1,1,1,1,1,1,1,1,1,1,1,1,1,1,1,1,1,1,1,1,1,1,1,1,1,1,1,1,1,1,1,1,1,1,1,1,1,1,1,1,1,1,1,1,1,1,1,1,1,1,1,1,1,1,1,1,1,1,1,1,1,1,1,1,1,1,1,1,1,1,1,1,1,1,1,1,1,1,1,1,1,1,1,1,1,1,1,1,1,1,1,1,1,1,1,1,1,1,1,1,1,1,1,1,1,1,1,1,1,1,1,1,1,1,1,1,1,1,1,1,1,1,1,1,1,1,1,1,1,1,1,1,1,1,1,1,1,1,1,1,1,1,1,1,1,1,1,1,1,1,1,1,1,1,1,1,1,1,1,1,1,1,1,1,1,1,1,1,1,1,1,1,1,1,1,1,1,1,1,1,1,1,1,1,1,1,1,1,1,1,1,1,1,1,1,1,1,1,1,1,1,1,1,1,1,1,1,1,1,1,1,1,1,1,1,1,1,1,1,1,1,1,1,1,1,1,1,1,1,1,1,1,1,1,1,1,1,1,1,1,1,1,1,1,1,1,1,1,1,1,1,1,1,1,1,1,1,1,1,1,1,1,1,1,1,1,1,1,1,1,1,1,1,1,1,1,1,1,1,1,1,1,1,1,1,1,1,1,1,1,1,1,1,1,1,1,1,1,1,1,1,1,1,1,1,1,1,1,1,1,1,1,1,1,1,1,1,1,1,1,1,1,1,1,1,1,1,1,1,1,1,1,1,1,1,1,1,1,1,1,1,1,1,1,1,1,1,1,1,1,1,1,1,1,1,1,1,1,1,1,1,1,1,1,1,1,1,1,1,1,1,1,1,1,1,1,1,1,1,1,1,1,1,1,1,1,1,1,1,1,1,1,1,1,1,1,1,1,1,1,1,1,1,1,1,1,1,1,1,1,1,1,1,1,1,1,1,1,1,1,1,1,1,1,1,1,1,1,1,1,1,1,1,1,1,1,1,1,1,1,1,1,1,1,1,1,1,1,1,1,1,1,1,1,1,1,1,1,1,1,1,1,1,1,1,1,1,1,1,1,1,1,1,1,1,1,1,1,1,1,1,1,1,1,1,1,1,1,1,1,1,1,1,1,1,1,1,1,1,1,1,1,1,1,1,1,1,1,1,1,1,1,1,1,1,1,1,1,1,1,1,1,1,1,1,1,1,1,1,1,1,1,1,1,1,1,1,1,1,1,1,1,1,1,1,1,1,1,1,1,1,1,1,1,1,1,1,1,1,1,1,1,1,1,1,1,1,1,1,1,1,1,1,1,1,1,1,1,1,1,1,1,1,1,1,1,1,1,1,1,1,1,1,1,1,1,1,1,1,1,1,1,1,1,1,1,1,1,1,1,1,1,1,1,1,1,1,1,1,1,1,1,1,1,1,1,1,1,1,1,1,1,1,1,1,1,1,1,1,1,1,1,1,1,1,1,1,1,1,1,1,1,1,1,1,1,1,1,1,1,1,1,1,1,1,1,1,1,1,1,1,1,1,1,1,1,1,1,1,1,1,1,1,1,1,1,1,1,1,1,1,1,1,1,1,1,1,1,1,1,1,1,1,1,1,1,1,1,1,1,1,1,1,1,1,1,1,1,1,1,1,1,1,1,1,1,1,1,1,1,1,1,1,1,1,1,1,1,1,1,1,1,1,1,1,1,1,1,1,1,1,1,1,1,1,1,1,1,1,1,1,1,1,1,1,1,1,1,1,1,1,1,1,1,1,1,1,1,1,1,1,1,1,1,1,1,1,1,1,1,1,1,1,1,1,1,1,1,1,1,1,1,1,1,1,1,1,1,1,1,1,1,1,1,1,1,1,1,1,1,1,1,1,1,1,1,1,1,1,1,1,1,1,1,1,1,1,1,1,1,1,1,1,1,1,1,1,1,1,1,1,1,1,1,1,1,1,1,1,1,1,1,1,1,1,1,1,1,1,1,1,1,1,1,1,1,1,1,1,1,1,1,1,1,1,1,1,1,1,1,1,1,1,1,1,1,1,1,1,1,1,1,1,1,1,1,1,1,1,1,1,1,1,1,1,1,1,1,1,1,1,1,1,1,1,1,1,1,1,1,1,1,1,1,1,1,1,1,1,1,1,1,1,1,1,1,1,1,1,1,1,1,1,1,1,1,1,1,1,1,1,1,1,1,1,1,1,1,1,1,1,1,1,1,1,1,1,1,1,1,1,1,1,1,1,1,1,1,1,1,1,1,1,1,1,1,1,1,1,1,1,1,1,1,1,1,1,1,1,1,1,1,1,1,1,1,1,1,1,1,1,1,1,1,1,1,1,1,1,1,1,1,1,1,1,1,1,1,1,1,1,1,1,1,1,1,1,1,1,1,1,1,1,1,1,1,1,1,1,1,1,1,1,1,1,1,1,1,1,1,1,1,1,1,1,1,1,1,1,1,1,1,1,1,1,1,1,1,1,1,1,1,1,1,1,1,1,1,1,1,1,1,1,1,1,1,1,1,1,1,1,1,1,1,1,1,1,1,1,1,1,1,1,1,1,1,1,1,1,1,1,1,1,1,1,1,1,1,1,1,1,1,1,1,1,1,1,1,1,1,1,1,1,1,1,1,1,1,1,1,1,1,1,1,1,1,1,1,1,1,1,1,1,1,1,1,1,1,1,1,1,1,1,1,1,1,1,1,1,1,1,1,1,1,1,1,1,1,1,1,1,1,1,1,1,1,1,1,1,1,1,1,1,1,1,1,1,1,1,1,1,1,1,1,1,1,1,1,1,1,1,1,1,1,1,1,1,1,1,1,1,1,1,1,1,1,1,1,1,1,1,1,1,1,1,1,1,1,1,1,1,1,1,1,1,1,1,1,1,1,1,1,1,1,1,1,1,1,1,1,1,1,1,1,1,1,1,1,1,1,1,1,1,1,1,1,1,1,1,1,1,1,1,1,1,1,1,1,1,1,1,1,1,1,1,1,1,1,1,1,1,1,1,1,1,1,1,1,1,1,1,1,1,1,1,1,1,1,1,1,1,1,1,1,1,1,1,1,1,1,1,1,1,1,1,1,1,1,1,1,1,1,1,1,1,1,1,1,1,1,1,1,1,1,1,1,1,1,1,1,1,1,1,1,1,1,1,1,1,1,1,1,1,1,1,1,1,1,1,1,1,1,1,1,1,1,1,1,1,1,1,1,1,1,1,1,1,1,1,1,1,1,1,1,1,1,1,1,1,1,1,1,1,1,1,1,1,1,1,1,1,1,1,1,1,1,1,1,1,1,1,1,1,1,1,1,1,1,1,1,1,1,1,1,1,1,1,1,1,1,1,1,1,1,1,1,1,1,1,1,1,1,1,1,1,1,1,1,1,1,1,1,1,1,1,1,1,1,1,1,1,1,1,1,1,1,1,1,1,1,1,1,1,1,1,1,1,1,1,1,1,1,1,1,1,1,1,1,1,1,1,1,1,1,1,1,1,1,1,1,1,1,1,1,1,1,1,1,1,1,1,1,1,1,1,1,1,1,1,1,1,1,1,1,1,1,1,1,1,1,1,1,1,1,1,1,1,1,1,1,1,1,1,1,1,1,1,1,1,1,1,1,1,1,1,1,1,1,1,1,1,1,1,1,1,1,1,1,1,1,1,1,1,1,1,1,1,1,1,1,1,1,1,1,1,1,1,1,1,1,1,1,1,1,1,1,1,1,1,1,1,1,1,1,1,1,1,1,1,1,1,1,1,1,1,1,1,1,1,1,1,1,1,1,1,1,1,1,1,1,1,1,1,1,1,1,1,1,1,1,1,1,1,1,1,1,1,1,1,1,1,1,1,1,1,1,1,1,1,1,1,1,1,1,1,1,1,1,1,1,1,1,1,1,1,1,1,1,1,1,1,1,1,1,1,1,1,1,1,1,1,1,1,1,1,1,1,1,1,1,1,1,1,1,1,1,1,1,1,1,1,1,1,1,1,1,1,1,1,1,1,1,1,1,1,1,1,1,1,1,1,1,1,1,1,1,1,1,1,1,1,1,1,1,1,1,1,1,1,1,1,1,1,1,1,1,1,1,1,1,1,1,1,1,1,1,1,1,1,1,1,1,1,1,1,1,1,1,1,1,1,1,1,1,1,1,1,1,1,1,1,1,1,1,1,1,1,1,1,1,1,1,1,1,1,1,1,1,1,1,1,1,1,1,1,1,1,1,1,1,1,1,1,1,1,1,1,1,1,1,1,1,1,1,1,1,1,1,1,1,1,1,1,1,1,1,1,1,1,1,1,1,1,1,1,1,1,1,1,1,1,1,1,1,1,1,1,1,1,1,1,1,1,1,1,1,1,1,1,1,1,1,1,1,1,1,1,1,1,1,1,1,1,1,1,1,1,1,1,1,1,1,1,1,1,1,1,1,1,1,1,1,1,1,1,1,1,1,1,1,1,1,1,1,1,1,1,1,1,1,1,1,1,1,1,1,1,1,1,1,1,1,1,1,1,1,1,1,1,1,1,1,1,1,1,1,1,1,1,1,1,1,1,1,1,1,1,1,1,1,1,1,1,1,1,1,1,1,1,1,1,1,1,1,1,1,1,1,1,1,1,1,1,1,1,1,1,1,1,1,1,1,1,1,1,1,1,1,1,1,1,1,1,1,1,1,1,1,1,1,1,1,1,1,1,1,1,1,1,1,1,1,1,1,1,1,1,1,1,1,1,1,1,1,1,1,1,1,1,1,1,1,1,1,1,1,1,1,1,1,1,1,1,1,1,1,1,1,1,1,1,1,1,1,1,1,1,1,1,1,1,1,1,1,1,1,1,1,1,1,1,1,1,1,1,1,1,1,1,1,1,1,1,1,1,1,1,1,1,1,1,1,1,1,1,1,1,1,1,1,1,1,1,1,1,1,1,1,1,1,1,1,1,1,1,1,1,1,1,1,1,1,1,1,1,1,1,1,1,1,1,1,1,1,1,1,1,1,1,1,1,1,1,1,1,1,1,1,1,1,1,1,1,1,1,1,1,1,1,1,1,1,1,1,1,1,1,1,1,1,1,1,1,1,1,1,1,1,1,1,1,1,1,1,1,1,1,1,1,1,1,1,1,1,1,1,1,1,1,1,1,1,1,1,1,1,1,1,1,1,1,1,1,1,1,1,1,1,1,1,1,1,1,1,1,1,1,1,1,1,1,1,1,1,1,1,1,1,1,1,1,1,1,1,1,1,1,1,1,1,1,1,1,1,1,1,1,1,1,1,1,1,1,1,1,1,1,1,1,1,1,1,1,1,1,1,1,1,1,1,1,1,1,1,1,1,1,1,1,1,1,1,1,1,1,1,1,1,1,1,1,1,1,1,1,1,1,1,1,1,1,1,1,1,1,1,1,1,1,1,1,1,1,1,1,1,1,1,1,1,1,1,1,1,1,1,1,1,1,1,1,1,1,1,1,1,1,1,1,1,1,1,1,1,1,1,1,1,1,1,1,1,1,1,1,1,1,1,1,1,1,1,1,1,1,1,1,1,1,1,1,1,1,1,1,1,1,1,1,1,1,1,1,1,1,1,1,1,1,1,1,1,1,1,1,1,1,1,1,1,1,1,1,1,1,1,1,1,1,1,1,1,1,1,1,1,1,1,1,1,1,1,1,1,1,1,1,1,1,1,1,1,1,1,1,1,1,1,1,1,1,1,1,1,1,1,1,1,1,1,1,1,1,1,1,1,1,1,1,1,1,1,1,1,1,1,1,1,1,1,1,1,1,1,1,1,1,1,1,1,1,1,1,1,1,1,1,1,1,1,1,1,1,1,1,1,1,1,1,1,1,1,1,1,1,1,1,1,1,1,1,1,1,1,1,1,1,1,1,1,1,1,1,1,1,1,1,1,1,1,1,1,1,1,1,1,1,1,1,1,1,1,1,1,1,1,1,1,1,1,1,1,1,1,1,1,1,1,1,1,1,1,1,1,1,1,1,1,1,1,1,1,1,1,1,1,1,1,1,1,1,1,1,1,1,1,1,1,1,1,1,1,1,1,1,1,1,1,1,1,1,1,1,1,1,1,1,1,1,1,1,1,1,1,1,1,1,1,1,1,1,1,1,1,1,1,1,1,1,1,1,1,1,1,1,1,1,1,1,1,1,1,1,1,1,1,1,1,1,1,1,1,1,1,1,1,1,1,1,1,1,1,1,1,1,1,1,1,1,1,1,1,1,1,1,1,1,1,1,1,1,1,1,1,1,1,1,1,1,1,1,1,1,1,1,1,1,1,1,1,1,1,1,1,1,1,1,1,1,1,1,1,1,1,1,1,1,1,1,1,1,1,1,1,1,1,1,1,1,1,1,1,1,1,1,1,1,1,1,1,1,1,1,1,1,1,1,1,1,1,1,1,1,1,1,1,1,1,1,1,1,1,1,1,1,1,1,1,1,1,1,1,1,1,1,1,1,1,1,1,1,1,1,1,1,1,1,1,1,1,1,1,1,1,1,1,1,1,1,1,1,1,1,1,1,1,1,1,1,1,1,1,1,1,1,1,1,1,1,1,1,1,1,1,1,1,1,1,1,1,1,1,1,1,1,1,1,1,1,1,1,1,1,1,1,1,1,1,1,1,1,1,1,1,1,1,1,1,1,1,1,1,1,1,1,1,1,1,1,1,1,1,1,1,1,1,1,1,1,1,1,1,1,1,1,1,1,1,1,1,1,1,1,1,1,1,1,1,1,1,1,1,1,1,1,1,1,1,1,1,1,1,1,1,1,1,1,1,1,1,1,1,1,1,1,1,1,1,1,1,1,1,1,1,1,1,1,1,1,1,1,1,1,1,1,1,1,1,1,1,1,1,1,1,1,1,1,1,1,1,1,1,1,1,1,1,1,1,1,1,1,1,1,1,1,1,1,1,1,1,1,1,1,1,1,1,1,1,1,1,1,1,1,1,1,1,1,1,1,1,1,1,1,1,1,1,1,1,1,1,1,1,1,1,1,1,1,1,1,1,1,1,1,1,1,1,1,1,1,1,1,1,1,1,1,1,1,1,1,1,1,1,1,1,1,1,1,1,1,1,1,1,1,1,1,1,1,1,1,1,1,1,1,1,1,1,1,1,1,1,1,1,1,1,1,1,1,1,1,1,1,1,1,1,1,1,1,1,1,1,1,1,1,1,1,1,1,1,1,1,1,1,1,1,1,1,1,1,1,1,1,1,1,1,1,1,1,1,1,1,1,1,1,1,1,1,1,1,1,1,1,1,1,1,1,1,1,1,1,1,1,1,1,1,1,1,1,1,1,1,1,1,1,1,1,1,1,1,1,1,1,1,1,1,1,1,1,1,1,1,1,1,1,1,1,1,1,1,1,1,1,1,1,1,1,1,1,1,1,1,1,1,1,1,1,1,1,1,1,1,1,1,1,1,1,1,1,1,1,1,1,1,1,1,1,1,1,1,1,1,1,1,1,1,1,1,1,1,1,1,1,1,1,1,1,1,1,1,1,1,1,1,1,1,1,1,1,1,1,1,1,1,1,1,1,1,1,1,1,1,1,1,1,1,1,1,1,1,1,1,1,1,1,1,1,1,1,1,1,1,1,1,1,1,1,1,1,1,1,1,1,1,1,1,1,1,1,1,1,1,1,1,1,1,1,1,1,1,1,1,1,1,1,1,1,1,1,1,1,1,1,1,1,1,1,1,1,1,1,1,1,1,1,1,1,1,1,1,1,1,1,1,1,1,1,1,1,1,1,1,1,1,1,1,1,1,1,1,1,1,1,1,1,1,1,1,1,1,1,1,1,1,1,1,1,1,1,1,1,1,1,1,1,1,1,1,1,1,1,1,1,1,1,1,1,1,1,1,1,1,1,1,1,1,1,1,1,1,1,1,1,1,1,1,1,1,1,1,1,1,1,1,1,1,1,1,1,1,1,1,1,1,1,1,1,1,1,1,1,1,1,1,1,1,1,1,1,1,1,1,1,1,1,1,1,1,1,1,1,1,1,1,1,1,1,1,1,1,1,1,1,1,1,1,1,1,1,1,1,1,1,1,1,1,1,1,1,1,1,1,1,1,1,1,1,1,1,1,1,1,1,1,1,1,1,1,1,1,1,1,1,1,1,1,1,1,1,1,1,1,1,1,1,1,1,1,1,1,1,1,1,1,1,1,1,1,1,1,1,1,1,1,1,1,1,1,1,1,1,1,1,1,1,1,1,1,1,1,1,1,1,1,1,1,1,1,1,1,1,1,1,1,1,1,1,1,1,1,1,1,1,1,1,1,1,1,1,1,1,1,1,1,1,1,1,1,1,1,1,1,1,1,1,1,1,1,1,1,1,1,1,1,1,1,1,1,1,1,1,1,1,1,1,1,1,1,1,1,1,1,1,1,1,1,1,1,1,1,1,1,1,1,1,1,1,1,1,1,1,1,1,1,1,1,1,1,1,1,1,1,1,1,1,1,1,1,1,1,1,1,1,1,1,1,1,1,1,1,1,1,1,1,1,1,1,1,1,1,1,1,1,1,1,1,1,1,1,1,1,1,1,1,1,1,1,1,1,1,1,1,1,1,1,1,1,1,1,1,1,1,1,1,1,1,1,1,1,1,1,1,1,1,1,1,1,1,1,1,1,1,1,1,1,1,1,1,1,1,1,1,1,1,1,1,1,1,1,1,1,1,1,1,1,1,1,1,1,1,1,1,1,1,1,1,1,1,1,1,1,1,1,1,1,1,1,1,1,1,1,1,1,1,1,1,1,1,1,1,1,1,1,1,1,1,1,1,1,1,1,1,1,1,1,1,1,1,1,1,1,1,1,1,1,1,1,1,1,1,1,1,1,1,1,1,1,1,1,1,1,1,1,1,1,1,1,1,1,1,1,1,1,1,1,1,1,1,1,1,1,1,1,1,1,1,1,1,1,1,1,1,1,1,1,1,1,1,1,1,1,1,1,1,1,1,1,1,1,1,1,1,1,1,1,1,1,1,1,1,1,1,1,1,1,1,1,1,1,1,1,1,1,1,1,1,1,1,1,1,1,1,1,1,1,1,1,1,1,1,1,1,1,1,1,1,1,1,1,1,1,1,1,1,1,1,1,1,1,1,1,1,1,1,1,1,1,1,1,1,1,1,1,1,1,1,1,1,1,1,1,1,1,1,1,1,1,1,1,1,1,1,1,1,1,1,1,1,1,1,1,1,1,1,1,1,1,1,1,1,1,1,1,1,1,1,1,1,1,1,1,1,1,1,1,1,1,1,1,1,1,1,1,1,1,1,1,1,1,1,1,1,1,1,1,1,1,1,1,1,1,1,1,1,1,1,1,1,1,1,1,1,1,1,1,1,1,1,1,1,1,1,1,1,1,1,1,1,1,1,1,1,1,1,1,1,1,1,1,1,1,1,1,1,1,1,1,1,1,1,1,1,1,1,1,1,1,1,1,1,1,1,1,1,1,1,1,1,1,1,1,1,1,1,1,1,1,1,1,1,1,1,1,1,1,1,1,1,1,1,1,1,1,1,1,1,1,1,1,1,1,1,1,1,1,1,1,1,1,1,1,1,1,1,1,1,1,1,1,1,1,1,1,1,1,1,1,1,1,1,1,1,1,1,1,1,1,1,1,1,1,1,1,1,1,1,1,1,1,1,1,1,1,1,1,1,1,1,1,1,1,1,1,1,1,1,1,1,1,1,1,1,1,1,1,1,1,1,1,1,1,1,1,1,1,1,1,1,1,1,1,1,1,1,1,1,1,1,1,1,1,1,1,1,1,1,1,1,1,1,1,1,1,1,1,1,1,1,1,1,1,1,1,1,1,1,1,1,1,1,1,1,1,1,1,1,1,1,1,1,1,1,1,1,1,1,1,1,1,1,1,1,1,1,1,1,1,1,1,1,1,1,1,1,1,1,1,1,1,1,1,1,1,1,1,1,1,1,1,1,1,1,1,1,1,1,1,1,1,1,1,1,1,1,1,1,1,1,1,1,1,1,1,1,1,1,1,1,1,1,1,1,1,1,1,1,1,1,1,1,1,1,1,1,1,1,1,1,1,1,1,1,1,1,1,1,1,1,1,1,1,1,1,1,1,1,1,1,1,1,1,1,1,1,1,1,1,1,1,1,1,1,1,1,1,1,1,1,1,1,1,1,1,1,1,1,1,1,1,1,1,1,1,1,1,1,1,1,1,1,1,1,1,1,1,1,1,1,1,1,1,1,1,1,1,1,1,1,1,1,1,1,1,1,1,1,1,1,1,1,1,1,1,1,1,1,1,1,1,1,1,1,1,1,1,1,1,1,1,1,1,1,1,1,1,1,1,1,1,1,1,1,1,1,1,1,1,1,1,1,1,1,1,1,1,1,1,1,1,1,1,1,1,1,1,1,1,1,1,1,1,1,1,1,1,1,1,1,1,1,1,1,1,1,1,1,1,1,1,1,1,1,1,1,1,1,1,1,1,1,1,1,1,1,1,1,1,1,1,1,1,1,1,1,1,1,1,1,1,1,1,1,1,1,1,1,1,1,1,1,1,1,1,1,1,1,1,1,1,1,1,1,1,1,1,1,1,1,1,1,1,1,1,1,1,1,1,1,1,1,1,1,1,1,1,1,1,1,1,1,1,1,1,1,1,1,1,1,1,1,1,1,1,1,1,1,1,1,1,1,1,1,1,1,1,1,1,1,1,1,1,1,1,1,1,1,1,1,1,1,1,1,1,1,1,1,1,1,1,1,1,1,1,1,1,1,1,1,1,1,1,1,1,1,1,1,1,1,1,1,1,1,1,1,1,1,1,1,1,1,1,1,1,1,1,1,1,1,1,1,1,1,1,1,1,1,1,1,1,1,1,1,1,1,1,1,1,1,1,1,1,1,1,1,1,1,1,1,1,1,1,1,1,1,1,1,1,1,1,1,1,1,1,1,1,1,1,1,1,1,1,1,1,1,1,1,1,1,1,1,1,1,1,1,1,1,1,1,1,1,1,1,1,1,1,1,1,1,1,1,1,1,1,1,1,1,1,1,1,1,1,1,1,1,1,1,1,1,1,1,1,1,1,1,1,1,1,1,1,1,1,1,1,1,1,1,1,1,1,1,1,1,1,1,1,1,1,1,1,1,1,1,1,1,1,1,1,1,1,1,1,1,1,1,1,1,1,1,1,1,1,1,1,1,1,1,1,1,1,1,1,1,1,1,1,1,1,1,1,1,1,1,1,1,1,1,1,1,1,1,1,1,1,1,1,1,1,1,1,1,1,1,1,1,1,1,1,1,1,1,1,1,1,1,1,1,1,1,1,1,1,1,1,1,1,1,1,1,1,1,1,1,1,1,1,1,1,1,1,1,1,1,1,1,1,1,1,1,1,1,1,1,1,1,1,1,1,1,1,1,1,1,1,1,1,1,1,1,1,1,1,1,1,1,1,1,1,1,1,1,1,1,1,1,1,1,1,1,1,1,1,1,1,1,1,1,1,1,1,1,1,1,1,1,1,1,1,1,1,1,1,1,1,1,1,1,1,1,1,1,1,1,1,1,1,1,1,1,1,1,1,1,1,1,1,1,1,1,1,1,1,1,1,1,1,1,1,1,1,1,1,1,1,1,1,1,1,1,1,1,1,1,1,1,1,1,1,1,1,1,1,1,1,1,1,1,1,1,1,1,1,1,1,1,1,1,1,1,1,1,1,1,1,1,1,1,1,1,1,1,1,1,1,1,1,1,1,1,1,1,1,1,1,1,1,1,1,1,1,1,1,1,1,1,1,1,1,1,1,1,1,1,1,1,1,1,1,1,1,1,1,1,1,1,1,1,1,1,1,1,1,1,1,1,1,1,1,1,1,1,1,1,1,1,1,1,1,1,1,1,1,1,1,1,1,1,1,1,1,1,1,1,1,1,1,1,1,1,1,1,1,1,1,1,1,1,1,1,1,1,1,1,1,1,1,1,1,1,1,1,1,1,1,1,1,1,1,1,1,1,1,1,1,1,1,1,1,1,1,1,1,1,1,1,1,1,1,1,1,1,1,1,1,1,1,1,1,1,1,1,1,1,1,1,1,1,1,1,1,1,1,1,1,1,1,1,1,1,1,1,1,1,1,1,1,1,1,1,1,1,1,1,1,1,1,1,1,1,1,1,1,1,1,1,1,1,1,1,1,1,1,1,1,1,1,1,1,1,1,1,1,1,1,1,1,1,1,1,1,1,1,1,1,1,1,1,1,1,1,1,1,1,1,1,1,1,1,1,1,1,1,1,1,1,1,1,1,1,1,1,1,1,1,1,1,1,1,1,1,1,1,1,1,1,1,1,1,1,1,1,1,1,1,1,1,1,1,1,1,1,1,1,1,1,1,1,1,1,1,1,1,1,1,1,1,1,1,1,1,1,1,1,1,1,1,1,1,1,1,1,1,1,1,1,1,1,1,1,1,1,1,1,1,1,1,1,1,1,1,1,1,1,1,1,1,1,1,1,1,1,1,1,1,1,1,1,1,1,1,1,1,1,1,1,1,1,1,1,1,1,1,1,1,1,1,1,1,1,1,1,1,1,1,1,1,1,1,1,1,1,1,1,1,1,1,1,1,1,1,1,1,1,1,1,1,1,1,1,1,1,1,1,1,1,1,1,1,1,1,1,1,1,1,1,1,1,1,1,1,1,1,1,1,1,1,1,1,1,1,1,1,1,1,1,1,1,1,1,1,1,1,1,1,1,1,1,1,1,1,1,1,1,1,1,1,1,1,1,1,1,1,1,1,1,1,1,1,1,1,1,1,1,1,1,1,1,1,1,1,1,1,1,1,1,1,1,1,1,1,1,1,1,1,1,1,1,1,1,1,1,1,1,1,1,1,1,1,1,1,1,1,1,1,1,1,1,1,1,1,1,1,1,1,1,1,1,1,1,1,1,1,1,1,1,1,1,1,1,1,1,1,1,1,1,1,1,1,1,1,1,1,1,1,1,1,1,1,1,1,1,1,1,1,1,1,1,1,1,1,1,1,1,1,1,1,1,1,1,1,1,1,1,1,1,1,1,1,1,1,1,1,1,1,1,1,1,1,1,1,1,1,1,1,1,1,1,1,1,1,1,1,1,1,1,1,1,1,1,1,1,1,1,1,1,1,1,1,1,1,1,1,1,1,1,1,1,1,1,1,1,1,1,1,1,1,1,1,1,1,1,1,1,1,1,1,1,1,1,1,1,1,1,1,1,1,1,1,1,1,1,1,1,1,1,1,1,1,1,1,1,1,1,1,1,1,1,1,1,1,1,1,1,1,1,1,1,1,1,1,1,1,1,1,1,1,1,1,1,1,1,1,1,1,1,1,1,1,1,1,1,1,1,1,1,1,1,1,1,1,1,1,1,1,1,1,1,1,1,1,1,1,1,1,1,1,1,1,1,1,1,1,1,1,1,1,1,1,1,1,1,1,1,1,1,1,1,1,1,1,1,1,1,1,1,1,1,1,1,1,1,1,1,1,1,1,1,1,1,1,1,1,1,1,1,1,1,1,1,1,1,1,1,1,1,1,1,1,1,1,1,1,1,1,1,1,1,1,1,1,1,1,1,1,1,1,1,1,1,1,1,1,1,1,1,1,1,1,1,1,1,1,1,1,1,1,1,1,1,1,1,1,1,1,1,1,1,1,1,1,1,1,1,1,1,1,1,1,1,1,1,1,1,1,1,1,1,1,1,1,1,1,1,1,1,1,1,1,1,1,1,1,1,1,1,1,1,1,1,1,1,1,1,1,1,1,1,1,1,1,1,1,1,1,1,1,1,1,1,1,1,1,1,1,1,1,1,1,1,1,1,1,1,1,1,1,1,1,1,1,1,1,1,1,1,1,1,1,1,1,1,1,1,1,1,1,1,1,1,1,1,1,1,1,1,1,1,1,1,1,1,1,1,1,1,1,1,1,1,1,1,1,1,1,1,1,1,1,1,1,1,1,1,1,1,1,1,1,1,1,1,1,1,1,1,1,1,1,1,1,1,1,1,1,1,1,1,1,1,1,1,1,1,1,1,1,1,1,1,1,1,1,1,1,1,1,1,1,1,1,1,1,1,1,1,1,1,1,1,1,1,1,1,1,1,1,1,1,1,1,1,1,1,1,1,1,1,1,1,1,1,1,1,1,1,1,1,1,1,1,1,1,1,1,1,1,1,1,1,1,1,1,1,1,1,1,1,1,1,1,1,1,1,1,1,1,1,1,1,1,1,1,1,1,1,1,1,1,1,1,1,1,1,1,1,1,1,1,1,1,1,1,1,1,1,1,1,1,1,1,1,1,1,1,1,1,1,1,1,1,1,1,1,1,1,1,1,1,1,1,1,1,1,1,1,1,1,1,1,1,1,1,1,1,1,1,1,1,1,1,1,1,1,1,1,1,1,1,1,1,1,1,1,1,1,1,1,1,1,1,1,1,1,1,1,1,1,1,1,1,1,1,1,1,1,1,1,1,1,1,1,1,1,1,1,1,1,1,1,1,1,1,1,1,1,1,1,1,1,1,1,1,1,1,1,1,1,1,1,1,1,1,1,1,1,1,1,1,1,1,1,1,1,1,1,1,1,1,1,1,1,1,1,1,1,1,1,1,1,1,1,1,1,1,1,1,1,1,1,1,1,1,1,1,1,1,1,1,1,1,1,1,1,1,1,1,1,1,1,1,1,1,1,1,1,1,1,1,1,1,1,1,1,1,1,1,1,1,1,1,1,1,1,1,1,1,1,1,1,1,1,1,1,1,1,1,1,1,1,1,1,1,1,1,1,1,1,1,1,1,1,1,1,1,1,1,1,1,1,1,1,1,1,1,1,1,1,1,1,1,1,1,1,1,1,1,1,1,1,1,1,1,1,1,1,1,1,1,1,1,1,1,1,1,1,1,1,1,1,1,1,1,1,1,1,1,1,1,1,1,1,1,1,1,1,1,1,1,1,1,1,1,1,1,1,1,1,1,1,1,1,1,1,1,1,1,1,1,1,1,1,1,1,1,1,1,1,1,1,1,1,1,1,1,1,1,1,1,1,1,1,1,1,1,1,1,1,1,1,1,1,1,1,1,1,1,1,1,1,1,1,1,1,1,1,1,1,1,1,1,1,1,1,1,1,1,1,1,1,1,1,1,1,1,1,1,1,1,1,1,1,1,1,1,1,1,1,1,1,1,1,1,1,1,1,1,1,1,1,1,1,1,1,1,1,1,1,1,1,1,1,1,1,1,1,1,1,1,1,1,1,1,1,1,1,1,1,1,1,1,1,1,1,1,1,1,1,1,1,1,1,1,1,1,1,1,1,1,1,1,1,1,1,1,1,1,1,1,1,1,1,1,1,1,1,1,1,1,1,1,1,1,1,1,1,1,1,1,1,1,1,1,1,1,1,1,1,1,1,1,1,1,1,1,1,1,1,1,1,1,1,1,1,1,1,1,1,1,1,1,1,1,1,1,1,1,1,1,1,1,1,1,1,1,1,1,1,1,1,1,1,1,1,1,1,1,1,1,1,1,1,1,1,1,1,1,1,1,1,1,1,1,1,1,1,1,1,1,1,1,1,1,1,1,1,1,1,1,1,1,1,1,1,1,1,1,1,1,1,1,1,1,1,1,1,1,1,1,1,1,1,1,1,1,1,1,1,1,1,1,1,1,1,1,1,1,1,1,1,1,1,1,1,1,1,1,1,1,1,1,1,1,1,1,1,1,1,1,1,1,1,1,1,1,1,1,1,1,1,1,1,1,1,1,1,1,1,1,1,1,1,1,1,1,1,1,1,1,1,1,1,1,1,1,1,1,1,1,1,1,1,1,1,1,1,1,1,1,1,1,1,1,1,1,1,1,1,1,1,1,1,1,1,1,1,1,1,1,1,1,1,1,1,1,1,1,1,1,1,1,1,1,1,1,1,1,1,1,1,1,1,1,1,1,1,1,1,1,1,1,1,1,1,1,1,1,1,1,1,1,1,1,1,1,1,1,1,1,1,1,1,1,1,1,1,1,1,1,1,1,1,1,1,1,1,1,1,1,1,1,1,1,1,1,1,1,1,1,1,1,1,1,1,1,1,1,1,1,1,1,1,1,1,1,1,1,1,1,1,1,1,1,1,1,1,1,1,1,1,1,1,1,1,1,1,1,1,1,1,1,1,1,1,1,1,1,1,1,1,1,1,1,1,1,1,1,1,1,1,1,1,1,1,1,1,1,1,1,1,1,1,1,1,1,1,1,1,1,1,1,1,1,1,1,1,1,1,1,1,1,1,1,1,1,1,1,1,1,1,1,1,1,1,1,1,1,1,1,1,1,1,1,1,1,1,1,1,1,1,1,1,1,1,1,1,1,1,1,1,1,1,1,1,1,1,1,1,1,1,1,1,1,1,1,1,1,1,1,1,1,1,1,1,1,1,1,1,1,1,1,1,1,1,1,1,1,1,1,1,1,1,1,1,1,1,1,1,1,1,1,1,1,1,1,1,1,1,1,1,1,1,1,1,1,1,1,1,1,1,1,1,1,1,1,1,1,1,1,1,1,1,1,1,1,1,1,1,1,1,1,1,1,1,1,1,1,1,1,1,1,1,1,1,1,1,1,1,1,1,1,1,1,1,1,1,1,1,1,1,1,1,1,1,1,1,1,1,1,1,1,1,1,1,1,1,1,1,1,1,1,1,1,1,1,1,1,1,1,1,1,1,1,1,1,1,1,1,1,1,1,1,1,1,1,1,1,1,1,1,1,1,1,1,1,1,1,1,1,1,1,1,1,1,1,1,1,1,1,1,1,1,1,1,1,1,1,1,1,1,1,1,1,1,1,1,1,1,1,1,1,1,1,1,1,1,1,1,1,1,1,1,1,1,1,1,1,1,1,1,1,1,1,1,1,1,1,1,1,1,1,1,1,1,1,1,1,1,1,1,1,1,1,1,1,1,1,1,1,1,1,1,1,1,1,1,1,1,1,1,1,1,1,1,1,1,1,1,1,1,1,1,1,1,1,1,1,1,1,1,1,1,1,1,1,1,1,1,1,1,1,1,1,1,1,1,1,1,1,1,1,1,1,1,1,1,1,1,1,1,1,1,1,1,1,1,1,1,1,1,1,1,1,1,1,1,1,1,1,1,1,1,1,1,1,1,1,1,1,1,1,1,1,1,1,1,1,1,1,1,1,1,1,1,1,1,1,1,1,1,1,1,1,1,1,1,1,1,1,1,1,1,1,1,1,1,1,1,1,1,1,1,1,1,1,1,1,1,1,1,1,1,1,1,1,1,1,1,1,1,1,1,1,1,1,1,1,1,1,1,1,1,1,1,1,1,1,1,1,1,1,1,1,1,1,1,1,1,1,1,1,1,1,1,1,1,1,1,1,1,1,1,1,1,1,1,1,1,1,1,1,1,1,1,1,1,1,1,1,1,1,1,1,1,1,1,1,1,1,1,1,1,1,1,1,1,1,1,1,1,1,1,1,1,1,1,1,1,1,1,1,1,1,1,1,1,1,1,1,1,1,1,1,1,1,1,1,1,1,1,1,1,1,1,1,1,1,1,1,1,1,1,1,1,1,1,1,1,1,1,1,1,1,1,1,1,1,1,1,1,1,1,1,1,1,1,1,1,1,1,1,1,1,1,1,1,1,1,1,1,1,1,1,1,1,1,1,1,1,1,1,1,1,1,1,1,1,1,1,1,1,1,1,1,1,1,1,1,1,1,1,1,1,1,1,1,1,1,1,1,1,1,1,1,1,1,1,1,1,1,1,1,1,1,1,1,1,1,1,1,1,1,1,1,1,1,1,1,1,1,1,1,1,1,1,1,1,1,1,1,1,1,1,1,1,1,1,1,1,1,1,1,1,1,1,1,1,1,1,1,1,1,1,1,1,1,1,1,1,1,1,1,1,1,1,1,1,1,1,1,1,1,1,1,1,1,1,1,1,1,1,1,1,1,1,1,1,1,1,1,1,1,1,1,1,1,1,1,1,1,1,1,1,1,1,1,1,1,1,1,1,1,1,1,1,1,1,1,1,1,1,1,1,1,1,1,1,1,1,1,1,1,1,1,1,1,1,1,1,1,1,1,1,1,1,1,1,1,1,1,1,1,1,1,1,1,1,1,1,1,1,1,1,1,1,1,1,1,1,1,1,1,1,1,1,1,1,1,1,1,1,1,1,1,1,1,1,1,1,1,1,1,1,1,1,1,1,1,1,1,1,1,1,1,1,1,1,1,1,1,1,1,1,1,1,1,1,1,1,1,1,1,1,1,1,1,1,1,1,1,1,1,1,1,1,1,1,1,1,1,1,1,1,1,1,1,1,1,1,1,1,1,1,1,1,1,1,1,1,1,1,1,1,1,1,1,1,1,1,1,1,1,1,1,1,1,1,1,1,1,1,1,1,1,1,1,1,1,1,1,1,1,1,1,1,1,1,1,1,1,1,1,1,1,1,1,1,1,1,1,1,1,1,1,1,1,1,1,1,1,1,1,1,1,1,1,1,1,1,1,1,1,1,1,1,1,1,1,1,1,1,1,1,1,1,1,1,1,1,1,1,1,1,1,1,1,1,1,1,1,1,1,1,1,1,1,1,1,1,1,1,1,1,1,1,1,1,1,1,1,1,1,1,1,1,1,1,1,1,1,1,1,1,1,1,1,1,1,1,1,1,1,1,1,1,1,1,1,1,1,1,1,1,1,1,1,1,1,1,1,1,1,1,1,1,1,1,1,1,1,1,1,1,1,1,1,1,1,1,1,1,1,1,1,1,1,1,1,1,1,1,1,1,1,1,1,1,1,1,1,1,1,1,1,1,1,1,1,1,1,1,1,1,1,1,1,1,1,1,1,1,1,1,1,1,1,1,1,1,1,1,1,1,1,1,1,1,1,1,1,1,1,1,1,1,1,1,1,1,1,1,1,1,1,1,1,1,1,1,1,1,1,1,1,1,1,1,1,1,1,1,1,1,1,1,1,1,1,1,1,1,1,1,1,1,1,1,1,1,1,1,1,1,1,1,1,1,1,1,1,1,1,1,1,1,1,1,1,1,1,1,1,1,1,1,1,1,1,1,1,1,1,1,1,1,1,1,1,1,1,1,1,1,1,1,1,1,1,1,1,1,1,1,1,1,1,1,1,1,1,1,1,1,1,1,1,1,1,1,1,1,1,1,1,1,1,1,1,1,1,1,1,1,1,1,1,1,1,1,1,1,1,1,1,1,1,1,1,1,1,1,1,1,1,1,1,1,1,1,1,1,1,1,1,1,1,1,1,1,1,1,1,1,1,1,1,1,1,1,1,1,1,1,1,1,1,1,1,1,1,1,1,1,1,1,1,1,1,1,1,1,1,1,1,1,1,1,1,1,1,1,1,1,1,1,1,1,1,1,1,1,1,1,1,1,1,1,1,1,1,1,1,1,1,1,1,1,1,1,1,1,1,1,1,1,1,1,1,1,1,1,1,1,1,1,1,1,1,1,1,1,1,1,1,1,1,1,1,1,1,1,1,1,1,1,1,1,1,1,1,1,1,1,1,1,1,1,1,1,1,1,1,1,1,1,1,1,1,1,1,1,1,1,1,1,1,1,1,1,1,1,1,1,1,1,1,1,1,1,1,1,1,1,1,1,1,1,1,1,1,1,1,1,1,1,1,1,1,1,1,1,1,1,1,1,1,1,1,1,1,1,1,1,1,1,1,1,1,1,1,1,1,1,1,1,1,1,1,1,1,1,1,1,1,1,1,1,1,1,1,1,1,1,1,1,1,1,1,1,1,1,1,1,1,1,1,1,1,1,1,1,1,1,1,1,1,1,1,1,1,1,1,1,1,1,1,1,1,1,1,1,1,1,1,1,1,1,1,1,1,1,1,1,1,1,1,1,1,1,1,1,1,1,1,1,1,1,1,1,1,1,1,1,1,1,1,1,1,1,1,1,1,1,1,1,1,1,1,1,1,1,1,1,1,1,1,1,1,1,1,1,1,1,1,1,1,1,1,1,1,1,1,1,1,1,1,1,1,1,1,1,1,1,1,1,1,1,1,1,1,1,1,1,1,1,1,1,1,1,1,1,1,1,1,1,1,1,1,1,1,1,1,1,1,1,1,1,1,1,1,1,1,1,1,1,1,1,1,1,1,1,1,1,1,1,1,1,1,1,1,1,1,1,1,1,1,1,1,1,1,1,1,1,1,1,1,1,1,1,1,1,1,1,1,1,1,1,1,1,1,1,1,1,1,1,1,1,1,1,1,1,1,1,1,1,1,1,1,1,1,1,1,1,1,1,1,1,1,1,1,1,1,1,1,1,1,1,1,1,1,1,1,1,1,1,1,1,1,1,1,1,1,1,1,1,1,1,1,1,1,1,1,1,1,1,1,1,1,1,1,1,1,1,1,1,1,1,1,1,1,1,1,1,1,1,1,1,1,1,1,1,1,1,1,1,1,1,1,1,1,1,1,1,1,1,1,1,1,1,1,1,1,1,1,1,1,1,1,1,1,1,1,1,1,1,1,1,1,1,1,1,1,1,1,1,1,1,1,1,1,1,1,1,1,1,1,1,1,1,1,1,1,1,1,1,1,1,1,1,1,1,1,1,1,1,1,1,1,1,1,1,1,1,1,1,1,1,1,1,1,1,1,1,1,1,1,1,1,1,1,1,1,1,1,1,1,1,1,1,1,1,1,1,1,1,1,1,1,1,1,1,1,1,1,1,1,1,1,1,1,1,1,1,1,1,1,1,1,1,1,1,1,1,1,1,1,1,1,1,1,1,1,1,1,1,1,1,1,1,1,1,1,1,1,1,1,1,1,1,1,1,1,1,1,1,1,1,1,1,1,1,1,1,1,1,1,1,1,1,1,1,1,1,1,1,1,1,1,1,1,1,1,1,1,1,1,1,1,1,1,1,1,1,1,1,1,1,1,1,1,1,1,1,1,1,1,1,1,1,1,1,1,1,1,1,1,1,1,1,1,1,1,1,1,1,1,1,1,1,1,1,1,1,1,1,1,1,1,1,1,1,1,1,1,1,1,1,1,1,1,1,1,1,1,1,1,1,1,1,1,1,1,1,1,1,1,1,1,1,1,1,1,1,1,1,1,1,1,1,1,1,1,1,1,1,1,1,1,1,1,1,1,1,1,1,1,1,1,1,1,1,1,1,1,1,1,1,1,1,1,1,1,1,1,1,1,1,1,1,1,1,1,1,1,1,1,1,1,1,1,1,1,1,1,1,1,1,1,1,1,1,1,1,1,1,1,1,1,1,1,1,1,1,1,1,1,1,1,1,1,1,1,1,1,1,1,1,1,1,1,1,1,1,1,1,1,1,1,1,1,1,1,1,1,1,1,1,1,1,1,1,1,1,1,1,1,1,1,1,1,1,1,1,1,1,1,1,1,1,1,1,1,1,1,1,1,1,1,1,1,1,1,1,1,1,1,1,1,1,1,1,1,1,1,1,1,1,1,1,1,1,1,1,1,1,1,1,1,1,1,1,1,1,1,1,1,1,1,1,1,1,1,1,1,1,1,1,1,1,1,1,1,1,1,1,1,1,1,1,1,1,1,1,1,1,1,1,1,1,1,1,1,1,1,1,1,1,1,1,1,1,1,1,1,1,1,1,1,1,1,1,1,1,1,1,1,1,1,1,1,1,1,1,1,1,1,1,1,1,1,1,1,1,1,1,1,1,1,1,1,1,1,1,1,1,1,1,1,1,1,1,1,1,1,1,1,1,1,1,1,1,1,1,1,1,1,1,1,1,1,1,1,1,1,1,1,1,1,1,1,1,1,1,1,1,1,1,1,1,1,1,1,1,1,1,1,1,1,1,1,1,1,1,1,1,1,1,1,1,1,1,1,1,1,1,1,1,1,1,1,1,1,1,1,1,1,1,1,1,1,1,1,1,1,1,1,1,1,1,1,1,1,1,1,1,1,1,1,1,1,1,1,1,1,1,1,1,1,1,1,1,1,1,1,1,1,1,1,1,1,1,1,1,1,1,1,1,1,1,1,1,1,1,1,1,1,1,1,1,1,1,1,1,1,1,1,1,1,1,1,1,1,1,1,1,1,1,1,1,1,1,1,1,1,1,1,1,1,1,1,1,1,1,1,1,1,1,1,1,1,1,1,1,1,1,1,1,1,1,1,1,1,1,1,1,1,1,1,1,1,1,1,1,1,1,1,1,1,1,1,1,1,1,1,1,1,1,1,1,1,1,1,1,1,1,1,1,1,1,1,1,1,1,1,1,1,1,1,1,1,1,1,1,1,1,1,1,1,1,1,1,1,1,1,1,1,1,1,1,1,1,1,1,1,1,1,1,1,1,1,1,1,1,1,1,1,1,1,1,1,1,1,1,1,1,1,1,1,1,1,1,1,1,1,1,1,1,1,1,1,1,1,1,1,1,1,1,1,1,1,1,1,1,1,1,1,1,1,1,1,1,1,1,1,1,1,1,1,1,1,1,1,1,1,1,1,1,1,1,1,1,1,1,1,1,1,1,1,1,1,1,1,1,1,1,1,1,1,1,1,1,1,1,1,1,1,1,1,1,1,1,1,1,1,1,1,1,1,1,1,1,1,1,1,1,1,1,1,1,1,1,1,1,1,1,1,1,1,1,1,1,1,1,1,1,1,1,1,1,1,1,1,1,1,1,1,1,1,1,1,1,1,1,1,1,1,1,1,1,1,1,1,1,1,1,1,1,1,1,1,1,1,1,1,1,1,1,1,1,1,1,1,1,1,1,1,1,1,1,1,1,1,1,1,1,1,1,1,1,1,1,1,1,1,1,1,1,1,1,1,1,1,1,1,1,1,1,1,1,1,1,1,1,1,1,1,1,1,1,1,1,1,1,1,1,1,1,1,1,1,1,1,1,1,1,1,1,1,1,1,1,1,1,1,1,1,1,1,1,1,1,1,1,1,1,1,1,1,1,1,1,1,1,1,1,1,1,1,1,1,1,1,1,1,1,1,1,1,1,1,1,1,1,1,1,1,1,1,1,1,1,1,1,1,1,1,1,1,1,1,1,1,1,1,1,1,1,1,1,1,1,1,1,1,1,1,1,1,1,1,1,1,1,1,1,1,1,1,1,1,1,1,1,1,1,1,1,1,1,1,1,1,1,1,1,1,1,1,1,1,1,1,1,1,1,1,1,1,1,1,1,1,1,1,1,1,1,1,1,1,1,1,1,1,1,1,1,1,1,1,1,1,1,1,1,1,1,1,1,1,1,1,1,1,1,1,1,1,1,1,1,1,1,1,1,1,1,1,1,1,1,1,1,1,1,1,1,1,1,1,1,1,1,1,1,1,1,1,1,1,1,1,1,1,1,1,1,1,1,1,1,1,1,1,1,1,1,1,1,1,1,1,1,1,1,1,1,1,1,1,1,1,1,1,1,1,1,1,1,1,1,1,1,1,1,1,1,1,1,1,1,1,1,1,1,1,1,1,1,1,1,1,1,1,1,1,1,1,1,1,1,1,1,1,1,1,1,1,1,1,1,1,1,1,1,1,1,1,1,1,1,1,1,1,1,1,1,1,1,1,1,1,1,1,1,1,1,1,1,1,1,1,1,1,1,1,1,1,1,1,1,1,1,1,1,1,1,1,1,1,1,1,1,1,1,1,1,1,1,1,1,1,1,1,1,1,1,1,1,1,1,1,1,1,1,1,1,1,1,1,1,1,1,1,1,1,1,1,1,1,1,1,1,1,1,1,1,1,1,1,1,1,1,1,1,1,1,1,1,1,1,1,1,1,1,1,1,1,1,1,1,1,1,1,1,1,1,1,1,1,1,1,1,1,1,1,1,1,1,1,1,1,1,1,1,1,1,1,1,1,1,1,1,1,1,1,1,1,1,1,1,1,1,1,1,1,1,1,1,1,1,1,1,1,1,1,1,1,1,1,1,1,1,1,1,1,1,1,1,1,1,1,1,1,1,1,1,1,1,1,1,1,1,1,1,1,1,1,1,1,1,1,1,1,1,1,1,1,1,1,1,1,1,1,1,1,1,1,1,1,1,1,1,1,1,1,1,1,1,1,1,1,1,1,1,1,1,1,1,1,1,1,1,1,1,1,1,1,1,1,1,1,1,1,1,1,1,1,1,1,1,1,1,1,1,1,1,1,1,1,1,1,1,1,1,1,1,1,1,1,1,1,1,1,1,1,1,1,1,1,1,1,1,1,1,1,1,1,1,1,1,1,1,1,1,1,1,1,1,1,1,1,1,1,1,1,1,1,1,1,1,1,1,1,1,1,1,1,1,1,1,1,1,1,1,1,1,1,1,1,1,1,1,1,1,1,1,1,1,1,1,1,1,1,1,1,1,1,1,1,1,1,1,1,1,1,1,1,1,1,1,1,1,1,1,1,1,1,1,1,1,1,1,1,1,1,1,1,1,1,1,1,1,1,1,1,1,1,1,1,1,1,1,1,1,1,1,1,1,1,1,1,1,1,1,1,1,1,1,1,1,1,1,1,1,1,1,1,1,1,1,1,1,1,1,1,1,1,1,1,1,1,1,1,1,1,1,1,1,1,1,1,1,1,1,1,1,1,1,1,1,1,1,1,1,1,1,1,1,1,1,1,1,1,1,1,1,1,1,1,1,1,1,1,1,1,1,1,1,1,1,1,1,1,1,1,1,1,1,1,1,1,1,1,1,1,1,1,1,1,1,1,1,1,1,1,1,1,1,1,1,1,1,1,1,1,1,1,1,1,1,1,1,1,1,1,1,1,1,1,1,1,1,1,1,1,1,1,1,1,1,1,1,1,1,1,1,1,1,1,1,1,1,1,1,1,1,1,1,1,1,1,1,1,1,1,1,1,1,1,1,1,1,1,1,1,1,1,1,1,1,1,1,1,1,1,1,1,1,1,1,1,1,1,1,1,1,1,1,1,1,1,1,1,1,1,1,1,1,1,1,1,1,1,1,1,1,1,1,1,1,1,1,1,1,1,1,1,1,1,1,1,1,1,1,1,1,1,1,1,1,1,1,1,1,1,1,1,1,1,1,1,1,1,1,1,1,1,1,1,1,1,1,1,1,1,1,1,1,1,1,1,1,1,1,1,1,1,1,1,1,1,1,1,1,1,1,1,1,1,1,1,1,1,1,1,1,1,1,1,1,1,1,1,1,1,1,1,1,1,1,1,1,1,1,1,1,1,1,1,1,1,1,1,1,1,1,1,1,1,1,1,1,1,1,1,1,1,1,1,1,1,1,1,1,1,1,1,1,1,1,1,1,1,1,1,1,1,1,1,1,1,1,1,1,1,1,1,1,1,1,1,1,1,1,1,1,1,1,1,1,1,1,1,1,1,1,1,1,1,1,1,1,1,1,1,1,1,1,1,1,1,1,1,1,1,1,1,1,1,1,1,1,1,1,1,1,1,1,1,1,1,1,1,1,1,1,1,1,1,1,1,1,1,1,1,1,1,1,1,1,1,1,1,1,1,1,1,1,1,1,1,1,1,1,1,1,1,1,1,1,1,1,1,1,1,1,1,1,1,1,1,1,1,1,1,1,1,1,1,1,1,1,1,1,1,1,1,1,1,1,1,1,1,1,1,1,1,1,1,1,1,1,1,1,1,1,1,1,1,1,1,1,1,1,1,1,1,1,1,1,1,1,1,1,1,1,1,1,1,1,1,1,1,1,1,1,1,1,1,1,1,1,1,1,1,1,1,1,1,1,1,1,1,1,1,1,1,1,1,1,1,1,1,1,1,1,1,1,1,1,1,1,1,1,1,1,1,1,1,1,1,1,1,1,1,1,1,1,1,1,1,1,1,1,1,1,1,1,1,1,1,1,1,1,1,1,1,1,1,1,1,1,1,1,1,1,1,1,1,1,1,1,1,1,1,1,1,1,1,1,1,1,1,1,1,1,1,1,1,1,1,1,1,1,1,1,1,1,1,1,1,1,1,1,1,1,1,1,1,1,1,1,1,1,1,1,1,1,1,1,1,1,1,1,1,1,1,1,1,1,1,1,1,1,1,1,1,1,1,1,1,1,1,1,1,1,1,1,1,1,1,1,1,1,1,1,1,1,1,1,1,1,1,1,1,1,1,1,1,1,1,1,1,1,1,1,1,1,1,1,1,1,1,1,1,1,1,1,1,1,1,1,1,1,1,1,1,1,1,1,1,1,1,1,1,1,1,1,1,1,1,1,1,1,1,1,1,1,1,1,1,1,1,1,1,1,1,1,1,1,1,1,1,1,1,1,1,1,1,1,1,1,1,1,1,1,1,1,1,1,1,1,1,1,1,1,1,1,1,1,1,1,1,1,1,1,1,1,1,1,1,1,1,1,1,1,1,1,1,1,1,1,1,1,1,1,1,1,1,1,1,1,1,1,1,1,1,1,1,1,1,1,1,1,1,1,1,1,1,1,1,1,1,1,1,1,1,1,1,1,1,1,1,1,1,1,1,1,1,1,1,1,1,1,1,1,1,1,1,1,1,1,1,1,1,1,1,1,1,1,1,1,1,1,1,1,1,1,1,1,1,1,1,1,1,1,1,1,1,1,1,1,1,1,1,1,1,1,1,1,1,1,1,1,1,1,1,1,1,1,1,1,1,1,1,1,1,1,1,1,1,1,1,1,1,1,1,1,1,1,1,1,1,1,1,1,1,1,1,1,1,1,1,1,1,1,1,1,1,1,1,1,1,1,1,1,1,1,1,1,1,1,1,1,1,1,1,1,1,1,1,1,1,1,1,1,1,1,1,1,1,1,1,1,1,1,1,1,1,1,1,1,1,1,1,1,1,1,1,1,1,1,1,1,1,1,1,1,1,1,1,1,1,1,1,1,1,1,1,1,1,1,1,1,1,1,1,1,1,1,1,1,1,1,1,1,1,1,1,1,1,1,1,1,1,1,1,1,1,1,1,1,1,1,1,1,1,1,1,1,1,1,1,1,1,1,1,1,1,1,1,1,1,1,1,1,1,1,1,1,1,1,1,1,1,1,1,1,1,1,1,1,1,1,1,1,1,1,1,1,1,1,1,1,1,1,1,1,1,1,1,1,1,1,1,1,1,1,1,1,1,1,1,1,1,1,1,1,1,1,1,1,1,1,1,1,1,1,1,1,1,1,1,1,1,1,1,1,1,1,1,1,1,1,1,1,1,1,1,1,1,1,1,1,1,1,1,1,1,1,1,1,1,1,1,1,1,1,1,1,1,1,1,1,1,1,1,1,1,1,1,1,1,1,1,1,1,1,1,1,1,1,1,1,1,1,1,1,1,1,1,1,1,1,1,1,1,1,1,1,1,1,1,1,1,1,1,1,1,1,1,1,1,1,1,1,1,1,1,1,1,1,1,1,1,1,1,1,1,1,1,1,1,1,1,1,1,1,1,1,1,1,1,1,1,1,1,1,1,1,1,1,1,1,1,1,1,1,1,1,1,1,1,1,1,1,1,1,1,1,1,1,1,1,1,1,1,1,1,1,1,1,1,1,1,1,1,1,1,1,1,1,1,1,1,1,1,1,1,1,1,1,1,1,1,1,1,1,1,1,1,1,1,1,1,1,1,1,1,1,1,1,1,1,1,1,1,1,1,1,1,1,1,1,1,1,1,1,1,1,1,1,1,1,1,1,1,1,1,1,1,1,1,1,1,1,1,1,1,1,1,1,1,1,1,1,1,1,1,1,1,1,1,1,1,1,1,1,1,1,1,1,1,1,1,1,1,1,1,1,1,1,1,1,1,1,1,1,1,1,1,1,1,1,1,1,1,1,1,1,1,1,1,1,1,1,1,1,1,1,1,1,1,1,1,1,1,1,1,1,1,1,1,1,1,1,1,1,1,1,1,1,1,1,1,1,1,1,1,1,1,1,1,1,1,1,1,1,1,1,1,1,1,1,1,1,1,1,1,1,1,1,1,1,1,1,1,1,1,1,1,1,1,1,1,1,1,1,1,1,1,1,1,1,1,1,1,1,1,1,1,1,1,1,1,1,1,1,1,1,1,1,1,1,1,1,1,1,1,1,1,1,1,1,1,1,1,1,1,1,1,1,1,1,1,1,1,1,1,1,1,1,1,1,1,1,1,1,1,1,1,1,1,1,1,1,1,1,1,1,1,1,1,1,1,1,1,1,1,1,1,1,1,1,1,1,1,1,1,1,1,1,1,1,1,1,1,1,1,1,1,1,1,1,1,1,1,1,1,1,1,1,1,1,1,1,1,1,1,1,1,1,1,1,1,1,1,1,1,1,1,1,1,1,1,1,1,1,1,1,1,1,1,1,1,1,1,1,1,1,1,1,1,1,1,1,1,1,1,1,1,1,1,1,1,1,1,1,1,1,1,1,1,1,1,1,1,1,1,1,1,1,1,1,1,1,1,1,1,1,1,1,1,1,1,1,1,1,1,1,1,1,1,1,1,1,1,1,1,1,1,1,1,1,1,1,1,1,1,1,1,1,1,1,1,1,1,1,1,1,1,1,1,1,1,1,1,1,1,1,1,1,1,1,1,1,1,1,1,1,1,1,1,1,1,1,1,1,1,1,1,1,1,1,1,1,1,1,1,1,1,1,1,1,1,1,1,1,1,1,1,1,1,1,1,1,1,1,1,1,1,1,1,1,1,1,1,1,1,1,1,1,1,1,1,1,1,1,1,1,1,1,1,1,1,1,1,1,1,1,1,1,1,1,1,1,1,1,1,1,1,1,1,1,1,1,1,1,1,1,1,1,1,1,1,1,1,1,1,1,1,1,1,1,1,1,1,1,1,1,1,1,1,1,1,1,1,1,1,1,1,1,1,1,1,1,1,1,1,1,1,1,1,1,1,1,1,1,1,1,1,1,1,1,1,1,1,1,1,1,1,1,1,1,1,1,1,1,1,1,1,1,1,1,1,1,1,1,1,1,1,1,1,1,1,1,1,1,1,1,1,1,1,1,1,1,1,1,1,1,1,1,1,1,1,1,1,1,1,1,1,1,1,1,1,1,1,1,1,1,1,1,1,1,1,1,1,1,1,1,1,1,1,1,1,1,1,1,1,1,1,1,1,1,1,1,1,1,1,1,1,1,1,1,1,1,1,1,1,1,1,1,1,1,1,1,1,1,1,1,1,1,1,1,1,1,1,1,1,1,1,1,1,1,1,1,1,1,1,1,1,1,1,1,1,1,1,1,1,1,1,1,1,1,1,1,1,1,1,1,1,1,1,1,1,1,1,1,1,1,1,1,1,1,1,1,1,1,1,1,1,1,1,1,1,1,1,1,1,1,1,1,1,1,1,1,1,1,1,1,1,1,1,1,1,1,1,1,1,1,1,1,1,1,1,1,1,1,1,1,1,1,1,1,1,1,1,1,1,1,1,1,1,1,1,1,1,1,1,1,1,1,1,1,1,1,1,1,1,1,1,1,1,1,1,1,1,1,1,1,1,1,1,1,1,1,1,1,1,1,1,1,1,1,1,1,1,1,1,1,1,1,1,1,1,1,1,1,1,1,1,1,1,1,1,1,1,1,1,1,1,1,1,1,1,1,1,1,1,1,1,1,1,1,1,1,1,1,1,1,1,1,1,1,1,1,1,1,1,1,1,1,1,1,1,1,1,1,1,1,1,1,1,1,1,1,1,1,1,1,1,1,1,1,1,1,1,1,1,1,1,1,1,1,1,1,1,1,1,1,1,1,1,1,1,1,1,1,1,1,1,1,1,1,1,1,1,1,1,1,1,1,1,1,1,1,1,1,1,1,1,1,1,1,1,1,1,1,1,1,1,1,1,1,1,1,1,1,1,1,1,1,1,1,1,1,1,1,1,1,1,1,1,1,1,1,1,1,1,1,1,1,1,1,1,1,1,1,1,1,1,1,1,1,1,1,1,1,1,1,1,1,1,1,1,1,1,1,1,1,1,1,1,1,1,1,1,1,1,1,1,1,1,1,1,1,1,1,1,1,1,1,1,1,1,1,1,1,1,1,1,1,1,1,1,1,1,1,1,1,1,1,1,1,1,1,1,1,1,1,1,1,1,1,1,1,1,1,1,1,1,1,1,1,1,1,1,1,1,1,1,1,1,1,1,1,1,1,1,1,1,1,1,1,1,1,1,1,1,1,1,1,1,1,1,1,1,1,1,1,1,1,1,1,1,1,1,1,1,1,1,1,1,1,1,1,1,1,1,1,1,1,1,1,1,1,1,1,1,1,1,1,1,1,1,1,1,1,1,1,1,1,1,1,1,1,1,1,1,1,1,1,1,1,1,1,1,1,1,1,1,1,1,1,1,1,1,1,1,1,1,1,1,1,1,1,1,1,1,1,1,1,1,1,1,1,1,1,1,1,1,1,1,1,1,1,1,1,1,1,1,1,1,1,1,1,1,1,1,1,1,1,1,1,1,1,1,1,1,1,1,1,1,1,1,1,1,1,1,1,1,1,1,1,1,1,1,1,1,1,1,1,1,1,1,1,1,1,1,1,1,1,1,1,1,1,1,1,1,1,1,1,1,1,1,1,1,1,1,1,1,1,1,1,1,1,1,1,1,1,1,1,1,1,1,1,1,1,1,1,1,1,1,1,1,1,1,1,1,1,1,1,1,1,1,1,1,1,1,1,1,1,1,1,1,1,1,1,1,1,1,1,1,1,1,1,1,1,1,1,1,1,1,1,1,1,1,1,1,1,1,1,1,1,1,1,1,1,1,1,1,1,1,1,1,1,1,1,1,1,1,1,1,1,1,1,1,1,1,1,1,1,1,1,1,1,1,1,1,1,1,1,1,1,1,1,1,1,1,1,1,1,1,1,1,1,1,1,1,1,1,1,1,1,1,1,1,1,1,1,1,1,1,1,1,1,1,1,1,1,1,1,1,1,1,1,1,1,1,1,1,1,1,1,1,1,1,1,1,1,1,1,1,1,1,1,1,1,1,1,1,1,1,1,1,1,1,1,1,1,1,1,1,1,1,1,1,1,1,1,1,1,1,1,1,1,1,1,1,1,1,1,1,1,1,1,1,1,1,1,1,1,1,1,1,1,1,1,1,1,1,1,1,1,1,1,1,1,1,1,1,1,1,1,1,1,1,1,1,1,1,1,1,1,1,1,1,1,1,1,1,1,1,1,1,1,1,1,1,1,1,1,1,1,1,1,1,1,1,1,1,1,1,1,1,1,1,1,1,1,1,1,1,1,1,1,1,1,1,1,1,1,1,1,1,1,1,1,1,1,1,1,1,1,1,1,1,1,1,1,1,1,1,1,1,1,1,1,1,1,1,1,1,1,1,1,1,1,1,1,1,1,1,1,1,1,1,1,1,1,1,1,1,1,1,1,1,1,1,1,1,1,1,1,1,1,1,1,1,1,1,1,1,1,1,1,1,1,1,1,1,1,1,1,1,1,1,1,1,1,1,1,1,1,1,1,1,1,1,1,1,1,1,1,1,1,1,1,1,1,1,1,1,1,1,1,1,1,1,1,1,1,1,1,1,1,1,1,1,1,1,1,1,1,1,1,1,1,1,1,1,1,1,1,1,1,1,1,1,1,1,1,1,1,1,1,1,1,1,1,1,1,1,1,1,1,1,1,1,1,1,1,1,1,1,1,1,1,1,1,1,1,1,1,1,1,1,1,1,1,1,1,1,1,1,1,1,1,1,1,1,1,1,1,1,1,1,1,1,1,1,1,1,1,1,1,1,1,1,1,1,1,1,1,1,1,1,1,1,1,1,1,1,1,1,1,1,1,1,1,1,1,1,1,1,1,1,1,1,1,1,1,1,1,1,1,1,1,1,1,1,1,1,1,1,1,1,1,1,1,1,1,1,1,1,1,1,1,1,1,1,1,1,1,1,1,1,1,1,1,1,1,1,1,1,1,1,1,1,1,1,1,1,1,1,1,1,1,1,1,1,1,1,1,1,1,1,1,1,1,1,1,1,1,1,1,1,1,1,1,1,1,1,1,1,1,1,1,1,1,1,1,1,1,1,1,1,1,1,1,1,1,1,1,1,1,1,1,1,1,1,1,1,1,1,1,1,1,1,1,1,1,1,1,1,1,1,1,1,1,1,1,1,1,1,1,1,1,1,1,1,1,1,1,1,1,1,1,1,1,1,1,1,1,1,1,1,1,1,1,1,1,1,1,1,1,1,1,1,1,1,1,1,1,1,1,1,1,1,1,1,1,1,1,1,1,1,1,1,1,1,1,1,1,1,1,1,1,1,1,1,1,1,1,1,1,1,1,1,1,1,1,1,1,1,1,1,1,1,1,1,1,1,1,1,1,1,1,1,1,1,1,1,1,1,1,1,1,1,1,1,1,1,1,1,1,1,1,1,1,1,1,1,1,1,1,1,1,1,1,1,1,1,1,1,1,1,1,1,1,1,1,1,1,1,1,1,1,1,1,1,1,1,1,1,1,1,1,1,1,1,1,1,1,1,1,1,1,1,1,1,1,1,1,1,1,1,1,1,1,1,1,1,1,1,1,1,1,1,1,1,1,1,1,1,1,1,1,1,1,1,1,1,1,1,1,1,1,1,1,1,1,1,1,1,1,1,1,1,1,1,1,1,1,1,1,1,1,1,1,1,1,1,1,1,1,1,1,1,1,1,1,1,1,1,1,1,1,1,1,1,1,1,1,1,1,1,1,1,1,1,1,1,1,1,1,1,1,1,1,1,1,1,1,1,1,1,1,1,1,1,1,1,1,1,1,1,1,1,1,1,1,1,1,1,1,1,1,1,1,1,1,1,1,1,1,1,1,1,1,1,1,1,1,1,1,1,1,1,1,1,1,1,1,1,1,1,1,1,1,1,1,1,1,1,1,1,1,1,1,1,1,1,1,1,1,1,1,1,1,1,1,1,1,1,1,1,1,1,1,1,1,1,1,1,1,1,1,1,1,1,1,1,1,1,1,1,1,1,1,1,1,1,1,1,1,1,1,1,1,1,1,1,1,1,1,1,1,1,1,1,1,1,1,1,1,1,1,1,1,1,1,1,1,1,1,1,1,1,1,1,1,1,1,1,1,1,1,1,1,1,1,1,1,1,1,1,1,1,1,1,1,1,1,1,1,1,1,1,1,1,1,1,1,1,1,1,1,1,1,1,1,1,1,1,1,1,1,1,1,1,1,1,1,1,1,1,1,1,1,1,1,1,1,1,1,1,1,1,1,1,1,1,1,1,1,1,1,1,1,1,1,1,1,1,1,1,1,1,1,1,1,1,1,1,1,1,1,1,1,1,1,1,1,1,1,1,1,1,1,1,1,1,1,1,1,1,1,1,1,1,1,1,1,1,1,1,1,1,1,1,1,1,1,1,1,1,1,1,1,1,1,1,1,1,1,1,1,1,1,1,1,1,1,1,1,1,1,1,1,1,1,1,1,1,1,1,1,1,1,1,1,1,1,1,1,1,1,1,1,1,1,1,1,1,1,1,1,1,1,1,1,1,1,1,1,1,1,1,1,1,1,1,1,1,1,1,1,1,1,1,1,1,1,1,1,1,1,1,1,1,1,1,1,1,1,1,1,1,1,1,1,1,1,1,1,1,1,1,1,1,1,1,1,1,1,1,1,1,1,1,1,1,1,1,1,1,1,1,1,1,1,1,1,1,1,1,1,1,1,1,1,1,1,1,1,1,1,1,1,1,1,1,1,1,1,1,1,1,1,1,1,1,1,1,1,1,1,1,1,1,1,1,1,1,1,1,1,1,1,1,1,1,1,1,1,1,1,1,1,1,1,1,1,1,1,1,1,1,1,1,1,1,1,1,1,1,1,1,1,1,1,1,1,1,1,1,1,1,1,1,1,1,1,1,1,1,1,1,1,1,1,1,1,1,1,1,1,1,1,1,1,1,1,1,1,1,1,1,1,1,1,1,1,1,1,1,1,1,1,1,1,1,1,1,1,1,1,1,1,1,1,1,1,1,1,1,1,1,1,1,1,1,1,1,1,1,1,1,1,1,1,1,1,1,1,1,1,1,1,1,1,1,1,1,1,1,1,1,1,1,1,1,1,1,1,1,1,1,1,1,1,1,1,1,1,1,1,1,1,1,1,1,1,1,1,1,1,1,1,1,1,1,1,1,1,1,1,1,1,1,1,1,1,1,1,1,1,1,1,1,1,1,1,1,1,1,1,1,1,1,1,1,1,1,1,1,1,1,1,1,1,1,1,1,1,1,1,1,1,1,1,1,1,1,1,1,1,1,1,1,1,1,1,1,1,1,1,1,1,1,1,1,1,1,1,1,1,1,1,1,1,1,1,1,1,1,1,1,1,1,1,1,1,1,1,1,1,1,1,1,1,1,1,1,1,1,1,1,1,1,1,1,1,1,1,1,1,1,1,1,1,1,1,1,1,1,1,1,1,1,1,1,1,1,1,1,1,1,1,1,1,1,1,1,1,1,1,1,1,1,1,1,1,1,1,1,1,1,1,1,1,1,1,1,1,1,1,1,1,1,1,1,1,1,1,1,1,1,1,1,1,1,1,1,1,1,1,1,1,1,1,1,1,1,1,1,1,1,1,1,1,1,1,1,1,1,1,1,1,1,1,1,1,1,1,1,1,1,1,1,1,1,1,1,1,1,1,1,1,1,1,1,1,1,1,1,1,1,1,1,1,1,1,1,1,1,1,1,1,1,1,1,1,1,1,1,1,1,1,1,1,1,1,1,1,1,1,1,1,1,1,1,1,1,1,1,1,1,1,1,1,1,1,1,1,1,1,1,1,1,1,1,1,1,1,1,1,1,1,1,1,1,1,1,1,1,1,1,1,1,1,1,1,1,1,1,1,1,1,1,1,1,1,1,1,1,1,1,1,1,1,1,1,1,1,1,1,1,1,1,1,1,1,1,1,1,1,1,1,1,1,1,1,1,1,1,1,1,1,1,1,1,1,1,1,1,1,1,1,1,1,1,1,1,1,1,1,1,1,1,1,1,1,1,1,1,1,1,1,1,1,1,1,1,1,1,1,1,1,1,1,1,1,1,1,1,1,1,1,1,1,1,1,1,1,1,1,1,1,1,1,1,1,1,1,1,1,1,1,1,1,1,1,1,1,1,1,1,1,1,1,1,1,1,1,1,1,1,1,1,1,1,1,1,1,1,1,1,1,1,1,1,1,1,1,1,1,1,1,1,1,1,1,1,1,1,1,1,1,1,1,1,1,1,1,1,1,1,1,1,1,1,1,1,1,1,1,1,1,1,1,1,1,1,1,1,1,1,1,1,1,1,1,1,1,1,1,1,1,1,1,1,1,1,1,1,1,1,1,1,1,1,1,1,1,1,1,1,1,1,1,1,1,1,1,1,1,1,1,1,1,1,1,1,1,1,1,1,1,1,1,1,1,1,1,1,1,1,1,1,1,1,1,1,1,1,1,1,1,1,1,1,1,1,1,1,1,1,1,1,1,1,1,1,1,1,1,1,1,1,1,1,1,1,1,1,1,1,1,1,1,1,1,1,1,1,1,1,1,1,1,1,1,1,1,1,1,1,1,1,1,1,1,1,1,1,1,1,1,1,1,1,1,1,1,1,1,1,1,1,1,1,1,1,1,1,1,1,1,1,1,1,1,1,1,1,1,1,1,1,1,1,1,1,1,1,1,1,1,1,1,1,1,1,1,1,1,1,1,1,1,1,1,1,1,1,1,1,1,1,1,1,1,1,1,1,1,1,1,1,1,1,1,1,1,1,1,1,1,1,1,1,1,1,1,1,1,1,1,1,1,1,1,1,1,1,1,1,1,1,1,1,1,1,1,1,1,1,1,1,1,1,1,1,1,1,1,1,1,1,1,1,1,1,1,1,1,1,1,1,1,1,1,1,1,1,1,1,1,1,1,1,1,1,1,1,1,1,1,1,1,1,1,1,1,1,1,1,1,1,1,1,1,1,1,1,1,1,1,1,1,1,1,1,1,1,1,1,1,1,1,1,1,1,1,1,1,1,1,1,1,1,1,1,1,1,1,1,1,1,1,1,1,1,1,1,1,1,1,1,1,1,1,1,1,1,1,1,1,1,1,1,1,1,1,1,1,1,1,1,1,1,1,1,1,1,1,1,1,1,1,1,1,1,1,1,1,1,1,1,1,1,1,1,1,1,1,1,1,1,1,1,1,1,1,1,1,1,1,1,1,1,1,1,1,1,1,1,1,1,1,1,1,1,1,1,1,1,1,1,1,1,1,1,1,1,1,1,1,1,1,1,1,1,1,1,1,1,1,1,1,1,1,1,1,1,1,1,1,1,1,1,1,1,1,1,1,1,1,1,1,1,1,1,1,1,1,1,1,1,1,1,1,1,1,1,1,1,1,1,1,1,1,1,1,1,1,1,1,1,1,1,1,1,1,1,1,1,1,1,1,1,1,1,1,1,1,1,1,1,1,1,1,1,1,1,1,1,1,1,1,1,1,1,1,1,1,1,1,1,1,1,1,1,1,1,1,1,1,1,1,1,1,1,1,1,1,1,1,1,1,1,1,1,1,1,1,1,1,1,1,1,1,1,1,1,1,1,1,1,1,1,1,1,1,1,1,1,1,1,1,1,1,1,1,1,1,1,1,1,1,1,1,1,1,1,1,1,1,1,1,1,1,1,1,1,1,1,1,1,1,1,1,1,1,1,1,1,1,1,1,1,1,1,1,1,1,1,1,1,1,1,1,1,1,1,1,1,1,1,1,1,1,1,1,1,1,1,1,1,1,1,1,1,1,1,1,1,1,1,1,1,1,1,1,1,1,1,1,1,1,1,1,1,1,1,1,1,1,1,1,1,1,1,1,1,1,1,1,1,1,1,1,1,1,1,1,1,1,1,1,1,1,1,1,1,1,1,1,1,1,1,1,1,1,1,1,1,1,1,1,1,1,1,1,1,1,1,1,1,1,1,1,1,1,1,1,1,1,1,1,1,1,1,1,1,1,1,1,1,1,1,1,1,1,1,1,1,1,1,1,1,1,1,1,1,1,1,1,1,1,1,1,1,1,1,1,1,1,1,1,1,1,1,1,1,1,1,1,1,1,1,1,1,1,1,1,1,1,1,1,1,1,1,1,1,1,1,1,1,1,1,1,1,1,1,1,1,1,1,1,1,1,1,1,1,1,1,1,1,1,1,1,1,1,1,1,1,1,1,1,1,1,1,1,1,1,1,1,1,1,1,1,1,1,1,1,1,1,1,1,1,1,1,1,1,1,1,1,1,1,1,1,1,1,1,1,1,1,1,1,1,1,1,1,1,1,1,1,1,1,1,1,1,1,1,1,1,1,1,1,1,1,1,1,1,1,1,1,1,1,1,1,1,1,1,1,1,1,1,1,1,1,1,1,1,1,1,1,1,1,1,1,1,1,1,1,1,1,1,1,1,1,1,1,1,1,1,1,1,1,1,1,1,1,1,1,1,1,1,1,1,1,1,1,1,1,1,1,1,1,1,1,1,1,1,1,1,1,1,1,1,1,1,1,1,1,1,1,1,1,1,1,1,1,1,1,1,1,1,1,1,1,1,1,1,1,1,1,1,1,1,1,1,1,1,1,1,1,1,1,1,1,1,1,1,1,1,1,1,1,1,1,1,1,1,1,1,1,1,1,1,1,1,1,1,1,1,1,1,1,1,1,1,1,1,1,1,1,1,1,1,1,1,1,1,1,1,1,1,1,1,1,1,1,1,1,1,1,1,1,1,1,1,1,1,1,1,1,1,1,1,1,1,1,1,1,1,1,1,1,1,1,1,1,1,1,1,1,1,1,1,1,1,1,1,1,1,1,1,1,1,1,1,1,1,1,1,1,1,1,1,1,1,1,1,1,1,1,1,1,1,1,1,1,1,1,1,1,1,1,1,1,1,1,1,1,1,1,1,1,1,1,1,1,1,1,1,1,1,1,1,1,1,1,1,1,1,1,1,1,1,1,1,1,1,1,1,1,1,1,1,1,1,1,1,1,1,1,1,1,1,1,1,1,1,1,1,1,1,1,1,1,1,1,1,1,1,1,1,1,1,1,1,1,1,1,1,1,1,1,1,1,1,1,1,1,1,1,1,1,1,1,1,1,1,1,1,1,1,1,1,1,1,1,1,1,1,1,1,1,1,1,1,1,1,1,1,1,1,1,1,1,1,1,1,1,1,1,1,1,1,1,1,1,1,1,1,1,1,1,1,1,1,1,1,1,1,1,1,1,1,1,1,1,1,1,1,1,1,1,1,1,1,1,1,1,1,1,1,1,1,1,1,1,1,1,1,1,1,1,1,1,1,1,1,1,1,1,1,1,1,1,1,1,1,1,1,1,1,1,1,1,1,1,1,1,1,1,1,1,1,1,1,1,1,1,1,1,1,1,1,1,1,1,1,1,1,1,1,1,1,1,1,1,1,1,1,1,1,1,1,1,1,1,1,1,1,1,1,1,1,1,1,1,1,1,1,1,1,1,1,1,1,1,1,1,1,1,1,1,1,1,1,1,1,1,1,1,1,1,1,1,1,1,1,1,1,1,1,1,1,1,1,1,1,1,1,1,1,1,1,1,1,1,1,1,1,1,1,1,1,1,1,1,1,1,1,1,1,1,1,1,1,1,1,1,1,1,1,1,1,1,1,1,1,1,1,1,1,1,1,1,1,1,1,1,1,1,1,1,1,1,1,1,1,1,1,1,1,1,1,1,1,1,1,1,1,1,1,1,1,1,1,1,1,1,1,1,1,1,1,1,1,1,1,1,1,1,1,1,1,1,1,1,1,1,1,1,1,1,1,1,1,1,1,1,1,1,1,1,1,1,1,1,1,1,1,1,1,1,1,1,1,1,1,1,1,1,1,1,1,1,1,1,1,1,1,1,1,1,1,1,1,1,1,1,1,1,1,1,1,1,1,1,1,1,1,1,1,1,1,1,1,1,1,1,1,1,1,1,1,1,1,1,1,1,1,1,1,1,1,1,1,1,1,1,1,1,1,1,1,1,1,1,1,1,1,1,1,1,1,1,1,1,1,1,1,1,1,1,1,1,1,1,1,1,1,1,1,1,1,1,1,1,1,1,1,1,1,1,1,1,1,1,1,1,1,1,1,1,1,1,1,1,1,1,1,1,1,1,1,1,1,1,1,1,1,1,1,1,1,1,1,1,1,1,1,1,1,1,1,1,1,1,1,1,1,1,1,1,1,1,1,1,1,1,1,1,1,1,1,1,1,1,1,1,1,1,1,1,1,1,1,1,1,1,1,1,1,1,1,1,1,1,1,1,1,1,1,1,1,1,1,1,1,1,1,1,1,1,1,1,1,1,1,1,1,1,1,1,1,1,1,1,1,1,1,1,1,1,1,1,1,1,1,1,1,1,1,1,1,1,1,1,1,1,1,1,1,1,1,1,1,1,1,1,1,1,1,1,1,1,1,1,1,1,1,1,1,1,1,1,1,1,1,1,1,1,1,1,1,1,1,1,1,1,1,1,1,1,1,1,1,1,1,1,1,1,1,1,1,1,1,1,1,1,1,1,1,1,1,1,1,1,1,1,1,1,1,1,1,1,1,1,1,1,1,1,1,1,1,1,1,1,1,1,1,1,1,1,1,1,1,1,1,1,1,1,1,1,1,1,1,1,1,1,1,1,1,1,1,1,1,1,1,1,1,1,1,1,1,1,1,1,1,1,1,1,1,1,1,1,1,1,1,1,1,1,1,1,1,1,1,1,1,1,1,1,1,1,1,1,1,1,1,1,1,1,1,1,1,1,1,1,1,1,1,1,1,1,1,1,1,1,1,1,1,1,1,1,1,1,1,1,1,1,1,1,1,1,1,1,1,1,1,1,1,1,1,1,1,1,1,1,1,1,1,1,1,1,1,1,1,1,1,1,1,1,1,1,1,1,1,1,1,1,1,1,1,1,1,1,1,1,1,1,1,1,1,1,1,1,1,1,1,1,1,1,1,1,1,1,1,1,1,1,1,1,1,1,1,1,1,1,1,1,1,1,1,1,1,1,1,1,1,1,1,1,1,1,1,1,1,1,1,1,1,1,1,1,1,1,1,1,1,1,1,1,1,1,1,1,1,1,1,1,1,1,1,1,1,1,1,1,1,1,1,1,1,1,1,1,1,1,1,1,1,1,1,1,1,1,1,1,1,1,1,1,1,1,1,1,1,1,1,1,1,1,1,1,1,1,1,1,1,1,1,1,1,1,1,1,1,1,1,1,1,1,1,1,1,1,1,1,1,1,1,1,1,1,1,1,1,1,1,1,1,1,1,1,1,1,1,1,1,1,1,1,1,1,1,1,1,1,1,1,1,1,1,1,1,1,1,1,1,1,1,1,1,1,1,1,1,1,1,1,1,1,1,1,1,1,1,1,1,1,1,1,1,1,1,1,1,1,1,1,1,1,1,1,1,1,1,1,1,1,1,1,1,1,1,1,1,1,1,1,1,1,1,1,1,1,1,1,1,1,1,1,1,1,1,1,1,1,1,1,1,1,1,1,1,1,1,1,1,1,1,1,1,1,1,1,1,1,1,1,1,1,1,1,1,1,1,1,1,1,1,1,1,1,1,1,1,1,1,1,1,1,1,1,1,1,1,1,1,1,1,1,1,1,1,1,1,1,1,1,1,1,1,1,1,1,1,1,1,1,1,1,1,1,1,1,1,1,1,1,1,1,1,1,1,1,1,1,1,1,1,1,1,1,1,1,1,1,1,1,1,1,1,1,1,1,1,1,1,1,1,1,1,1,1,1,1,1,1,1,1,1,1,1,1,1,1,1,1,1,1,1,1,1,1,1,1,1,1,1,1,1,1,1,1,1,1,1,1,1,1,1,1,1,1,1,1,1,1,1,1,1,1,1,1,1,1,1,1,1,1,1,1,1,1,1,1,1,1,1,1,1,1,1,1,1,1,1,1,1,1,1,1,1,1,1,1,1,1,1,1,1,1,1,1,1,1,1,1,1,1,1,1,1,1,1,1,1,1,1,1,1,1,1,1,1,1,1,1,1,1,1,1,1,1,1,1,1,1,1,1,1,1,1,1,1,1,1,1,1,1,1,1,1,1,1,1,1,1,1,1,1,1,1,1,1,1,1,1,1,1,1,1,1,1,1,1,1,1,1,1,1,1,1,1,1,1,1,1,1,1,1,1,1,1,1,1,1,1,1,1,1,1,1,1,1,1,1,1,1,1,1,1,1,1,1,1,1,1,1,1,1,1,1,1,1,1,1,1,1,1,1,1,1,1,1,1,1,1,1,1,1,1,1,1,1,1,1,1,1,1,1,1,1,1,1,1,1,1,1,1,1,1,1,1,1,1,1,1,1,1,1,1,1,1,1,1,1,1,1,1,1,1,1,1,1,1,1,1,1,1,1,1,1,1,1,1,1,1,1,1,1,1,1,1,1,1,1,1,1,1,1,1,1,1,1,1,1,1,1,1,1,1,1,1,1,1,1,1,1,1,1,1,1,1,1,1,1,1,1,1,1,1,1,1,1,1,1,1,1,1,1,1,1,1,1,1,1,1,1,1,1,1,1,1,1,1,1,1,1,1,1,1,1,1,1,1,1,1,1,1,1,1,1,1,1,1,1,1,1,1,1,1,1,1,1,1,1,1,1,1,1,1,1,1,1,1,1,1,1,1,1,1,1,1,1,1,1,1,1,1,1,1,1,1,1,1,1,1,1,1,1,1,1,1,1,1,1,1,1,1,1,1,1,1,1,1,1,1,1,1,1,1,1,1,1,1,1,1,1,1,1,1,1,1,1,1,1,1,1,1,1,1,1,1,1,1,1,1,1,1,1,1,1,1,1,1,1,1,1,1,1,1,1,1,1,1,1,1,1,1,1,1,1,1,1,1,1,1,1,1,1,1,1,1,1,1,1,1,1,1,1,1,1,1,1,1,1,1,1,1,1,1,1,1,1,1,1,1,1,1,1,1,1,1,1,1,1,1,1,1,1,1,1,1,1,1,1,1,1,1,1,1,1,1,1,1,1,1,1,1,1,1,1,1,1,1,1,1,1,1,1,1,1,1,1,1,1,1,1,1,1,1,1,1,1,1,1,1,1,1,1,1,1,1,1,1,1,1,1,1,1,1,1,1,1,1,1,1,1,1,1,1,1,1,1,1,1,1,1,1,1,1,1,1,1,1,1,1,1,1,1,1,1,1,1,1,1,1,1,1,1,1,1,1,1,1,1,1,1,1,1,1,1,1,1,1,1,1,1,1,1,1,1,1,1,1,1,1,1,1,1,1,1,1,1,1,1,1,1,1,1,1,1,1,1,1,1,1,1,1,1,1,1,1,1,1,1,1,1,1,1,1,1,1,1,1,1,1,1,1,1,1,1,1,1,1,1,1,1,1,1,1,1,1,1,1,1,1,1,1,1,1,1,1,1,1,1,1,1,1,1,1,1,1,1,1,1,1,1,1,1,1,1,1,1,1,1,1,1,1,1,1,1,1,1,1,1,1,1,1,1,1,1,1,1,1,1,1,1,1,1,1,1,1,1,1,1,1,1,1,1,1,1,1,1,1,1,1,1,1,1,1,1,1,1,1,1,1,1,1,1,1,1,1,1,1,1,1,1,1,1,1,1,1,1,1,1,1,1,1,1,1,1,1,1,1,1,1,1,1,1,1,1,1,1,1,1,1,1,1,1,1,1,1,1,1,1,1,1,1,1,1,1,1,1,1,1,1,1,1,1,1,1,1,1,1,1,1,1,1,1,1,1,1,1,1,1,1,1,1,1,1,1,1,1,1,1,1,1,1,1,1,1,1,1,1,1,1,1,1,1,1,1,1,1,1,1,1,1,1,1,1,1,1,1,1,1,1,1,1,1,1,1,1,1,1,1,1,1,1,1,1,1,1,1,1,1,1,1,1,1,1,1,1,1,1,1,1,1,1,1,1,1,1,1,1,1,1,1,1,1,1,1,1,1,1,1,1,1,1,1,1,1,1,1,1,1,1,1,1,1,1,1,1,1,1,1,1,1,1,1,1,1,1,1,1,1,1,1,1,1,1,1,1,1,1,1,1,1,1,1,1,1,1,1,1,1,1,1,1,1,1,1,1,1,1,1,1,1,1,1,1,1,1,1,1,1,1,1,1,1,1,1,1,1,1,1,1,1,1,1,1,1,1,1,1,1,1,1,1,1,1,1,1,1,1,1,1,1,1,1,1,1,1,1,1,1,1,1,1,1,1,1,1,1,1,1,1,1,1,1,1,1,1,1,1,1,1,1,1,1,1,1,1,1,1,1,1,1,1,2,2,2,2,2,2,2,2,2,2,2,2,2,2,2,2,2,2,2,2,2,2,2,2,2,2,2,2,2,2,2,2,2,2,2,2,2,2,2,2,2,2,2,2,2,2,2,2,2,2,2,2,2,2,2,2,2,2,2,2,2,2,2,2,2,2,2,2,2,2,2,2,2,2,2,2,2,2,2,2,2,2,2,2,2,2,2,2,2,2,2,2,2,2,2,2,2,2,2,2,2,2,2,2,2,2,2,2,2,2,2,2,2,2,2,2,2,2,2,2,2,2,2,2,2,2,2,2,2,2,2,2,2,2,2,2,2,2,2,2,2,2,2,2,2,2,2,2,2,2,2,2,2,2,2,2,2,2,2,2,2,2,2,2,2,2,2,2,2,2,2,2,2,2,2,2,2,2,2,2,2,2,2,2,2,2,2,2,2,2,2,2,2,2,2,2,2,2,2,2,2,2,2,2,2,2,2,2,2,2,2,2,2,2,2,2,2,2,2,2,2,2,2,2,2,2,2,2,2,2,2,2,2,2,2,2,2,2,2,2,2,2,2,2,2,2,2,2,2,2,2,2,2,2,2,2,2,2,2,2,2,2,2,2,2,2,2,2,2,2,2,2,2,2,2,2,2,2,2,2,2,2,2,2,2,2,2,2,2,2,2,2,2,2,2,2,2,2,2,2,2,2,2,2,2,2,2,2,2,2,2,2,2,2,2,2,2,2,2,2,2,2,2,2,2,2,2,2,2,2,2,2,2,2,2,2,2,2,2,2,2,2,2,2,2,2,2,2,2,2,2,2,2,2,2,2,2,2,2,2,2,2,2,2,2,2,2,2,2,2,2,2,2,2,2,2,2,2,2,2,2,2,2,2,2,2,2,2,2,2,2,2,2,2,2,2,2,2,2,2,2,2,2,2,2,2,2,2,2,2,2,2,2,2,2,2,2,2,2,2,2,2,2,2,2,2,2,2,2,2,2,2,2,2,2,2,2,2,2,2,2,2,2,2,2,2,2,2,2,2,2,2,2,2,2,2,2,2,2,2,2,2,2,2,2,2,2,2,2,2,2,2,2,2,2,2,2,2,2,2,2,2,2,2,2,2,2,2,2,2,2,2,2,2,2,2,2,2,2,2,2,2,2,2,2,2,2,2,2,2,2,2,2,2,2,2,2,2,2,2,2,2,2,2,2,2,2,2,2,2,2,2,2,2,2,2,2,2,2,2,2,2,2,2,2,2,2,2,2,2,2,2,2,2,2,2,2,2,2,2,2,2,2,2,2,2,2,2,2,2,2,2,2,2,2,2,2,2,2,2,2,2,2,2,2,2,2,2,2,2,2,2,2,2,2,2,2,2,2,2,2,2,2,2,2,2,2,2,2,2,2,2,2,2,2,2,2,2,2,2,2,2,2,2,2,2,2,2,2,2,2,2,2,2,2,2,2,2,2,2,2,2,2,2,2,2,2,2,2,2,2,2,2,2,2,2,2,2,2,2,2,2,2,2,2,2,2,2,2,2,2,2,2,2,2,2,2,2,2,2,2,2,2,2,2,2,2,2,2,2,2,2,2,2,2,2,2,2,2,2,2,2,2,2,2,2,2,2,2,2,2,2,2,2,2,2,2,2,2,2,2,2,2,2,2,2,2,2,2,2,2,2,2,2,2,2,2,2,2,2,2,2,2,2,2,2,2,2,2,2,2,2,2,2,2,2,2,2,2,2,2,2,2,2,2,2,2,2,2,2,2,2,2,2,2,2,2,2,2,2,2,2,2,2,2,2,2,2,2,2,2,2,2,2,2,2,2,2,2,2,2,2,2,2,2,2,2,2,2,2,2,2,2,2,2,2,2,2,2,2,2,2,2,2,2,2,2,2,2,2,2,2,2,2,2,2,2,2,2,2,2,2,2,2,2,2,2,2,2,2,2,2,2,2,2,2,2,2,2,2,2,2,2,2,2,2,2,2,2,2,2,2,2,2,2,2,2,2,2,2,2,2,2,2,2,2,2,2,2,2,2,2,2,2,2,2,2,2,2,2,2,2,2,2,2,2,2,2,2,2,2,2,2,2,2,2,2,2,2,2,2,2,2,2,2,2,2,2,2,2,2,2,2,2,2,2,2,2,2,2,2,2,2,2,2,2,2,2,2,2,2,2,2,2,2,2,2,2,2,2,2,2,2,2,2,2,2,2,2,2,2,2,2,2,2,2,2,2,2,2,2,2,2,2,2,2,2,2,2,2,2,2,2,2,2,2,2,2,2,2,2,2,2,2,2,2,2,2,2,2,2,2,2,2,2,2,2,2,2,2,2,2,2,2,2,2,2,2,2,2,2,2,2,2,2,2,2,2,2,2,2,2,2,2,2,2,2,2,2,2,2,2,2,2,2,2,2,2,2,2,2,2,2,2,2,2,2,2,2,2,2,2,2,2,2,2,2,2,2,2,2,2,2,2,2,2,2,2,2,2,2,2,2,2,2,2,2,2,2,2,2,2,2,2,2,2,2,2,2,2,2,2,2,2,2,2,2,2,2,2,2,2,2,2,2,2,2,2,2,2,2,2,2,2,2,2,2,2,2,2,2,2,2,2,2,2,2,2,2,2,2,2,2,2,2,2,2,2,2,2,2,2,2,2,2,2,2,2,2,2,2,2,2,2,2,2,2,2,2,2,2,2,2,2,2,2,2,2,2,2,2,2,2,2,2,2,2,2,2,2,2,2,2,2,2,2,2,2,2,2,2,2,2,2,2,2,2,2,2,2,2,2,2,2,2,2,2,2,2,2,2,2,2,2,2,2,2,2,2,2,2,2,2,2,2,2,2,2,2,2,2,2,2,2,2,2,2,2,2,2,2,2,2,2,2,2,2,2,2,2,2,2,2,2,2,2,2,2,2,2,2,2,2,2,2,2,2,2,2,2,2,2,2,2,2,2,2,2,2,2,2,2,2,2,2,2,2,2,2,2,2,2,2,2,2,2,2,2,2,2,2,2,2,2,2,2,2,2,2,2,2,2,2,2,2,2,2,2,2,2,2,2,2,2,2,2,2,2,2,2,2,2,2,2,2,2,2,2,2,2,2,2,2,2,2,2,2,2,2,2,2,2,2,2,2,2,2,2,2,2,2,2,2,2,2,2,2,2,2,2,2,2,2,2,2,2,2,2,2,2,2,2,2,2,2,2,2,2,2,2,2,2,2,2,2,2,2,2,2,2,2,2,2,2,2,2,2,2,2,2,2,2,2,2,2,2,2,2,2,2,2,2,2,2,2,2,2,2,2,2,2,2,2,2,2,2,2,2,2,2,2,2,2,2,2,2,2,2,2,2,2,2,2,2,2,2,2,2,2,2,2,2,2,2,2,2,2,2,2,2,2,2,2,2,2,2,2,2,2,2,2,2,2,2,2,2,2,2,2,2,2,2,2,2,2,2,2,2,2,2,2,2,2,2,2,2,2,2,2,2,2,2,2,2,2,2,2,2,2,2,2,2,2,2,2,2,2,2,2,2,2,2,2,2,2,2,2,2,2,2,2,2,2,2,2,2,2,2,2,2,2,2,2,2,2,2,2,2,2,2,2,2,2,2,2,2,2,2,2,2,2,2,2,2,2,2,2,2,2,2,2,2,2,2,2,2,2,2,2,2,2,2,2,2,2,2,2,2,2,2,2,2,2,2,2,2,2,2,2,2,2,2,2,2,2,2,2,2,2,2,2,2,2,2,2,2,2,2,2,2,2,2,2,2,2,2,2,2,2,2,2,2,2,2,2,2,2,2,2,2,2,2,2,2,2,2,2,2,2,2,2,2,2,2,2,2,2,2,2,2,2,2,2,2,2,2,2,2,2,2,2,2,2,2,2,2,2,2,2,2,2,2,2,2,2,2,2,2,2,2,2,2,2,2,2,2,2,2,2,2,2,2,2,2,2,2,2,2,2,2,2,2,2,2,2,2,2,2,2,2,2,2,2,2,2,2,2,2,2,2,2,2,2,2,2,2,2,2,2,2,2,2,2,2,2,2,2,2,2,2,2,2,2,2,2,2,2,2,2,2,2,2,2,2,2,2,2,2,2,2,2,2,2,2,2,2,2,2,2,2,2,2,2,2,2,2,2,2,2,2,2,2,2,2,2,2,2,2,2,2,2,2,2,2,2,2,2,2,2,2,2,2,2,2,2,2,2,2,2,2,2,2,2,2,2,2,2,2,2,2,2,2,2,2,2,2,2,2,2,2,2,2,2,2,2,2,2,2,2,2,2,2,2,2,2,2,2,2,2,2,2,2,2,2,2,2,2,2,2,2,2,2,2,2,2,2,2,2,2,2,2,2,2,2,2,2,2,2,2,2,2,2,2,2,2,2,2,2,2,2,2,2,2,2,2,2,2,2,2,2,2,2,2,2,2,2,2,2,2,2,2,2,2,2,2,2,2,2,2,2,2,2,2,2,2,2,2,2,2,2,2,2,2,2,2,2,2,2,2,2,2,2,2,2,2,2,2,2,2,2,2,2,2,2,2,2,2,2,2,2,2,2,2,2,2,2,2,2,2,2,2,2,2,2,2,2,2,2,2,2,2,2,2,2,2,2,2,2,2,2,2,2,2,2,2,2,2,2,2,2,2,2,2,2,2,2,2,2,2,2,2,2,2,2,2,2,2,2,2,2,2,2,2,2,2,2,2,2,2,2,2,2,2,2,2,2,2,2,2,2,2,2,2,2,2,2,2,2,2,2,2,2,2,2,2,2,2,2,2,2,2,2,2,2,2,2,2,2,2,2,2,2,2,2,2,2,2,2,2,2,2,2,2,2,2,2,2,2,2,2,2,2,2,2,2,2,2,2,2,2,2,2,2,2,2,2,2,2,2,2,2,2,2,2,2,2,2,2,2,2,2,2,2,2,2,2,2,2,2,2,2,2,2,2,2,2,2,2,2,2,2,2,2,2,2,2,2,2,2,2,2,2,2,2,2,2,2,2,2,2,2,2,2,2,2,2,2,2,2,2,2,2,2,2,2,2,2,2,2,2,2,2,2,2,2,2,2,2,2,2,2,2,2,2,2,2,2,2,2,2,2,2,2,2,2,2,2,2,2,2,2,2,2,2,2,2,2,2,2,2,2,2,2,2,2,2,2,2,2,2,2,2,2,2,2,2,2,2,2,2,2,2,2,2,2,2,2,2,2,2,2,2,2,2,2,2,2,2,2,2,2,2,2,2,2,2,2,2,2,2,2,2,2,2,2,2,2,2,2,2,2,2,2,2,2,2,2,2,2,2,2,2,2,2,2,2,2,2,2,2,2,2,2,2,2,2,2,2,2,2,2,2,2,2,2,2,2,2,2,2,2,2,2,2,2,2,2,2,2,2,2,2,2,2,2,2,2,2,2,2,2,2,2,2,2,2,2,2,2,2,2,2,2,2,2,2,2,2,2,2,2,2,2,2,2,2,2,2,2,2,2,2,2,2,2,2,2,2,2,2,2,2,2,2,2,2,2,2,2,2,2,2,2,2,2,2,2,2,2,2,2,2,2,2,2,2,2,2,2,2,2,2,2,2,2,2,2,2,2,2,2,2,2,2,2,2,2,2,2,2,2,2,2,2,2,2,2,2,2,2,2,2,2,2,2,2,2,2,2,2,2,2,2,2,2,2,2,2,2,2,2,2,2,2,2,2,2,2,2,2,2,2,2,2,2,2,2,2,2,2,2,2,2,2,2,2,2,2,2,2,2,2,2,2,2,2,2,2,2,2,2,2,2,2,2,2,2,2,2,2,2,2,2,2,2,2,2,2,2,2,2,2,2,2,2,2,2,2,2,2,2,2,2,2,2,2,2,2,2,2,2,2,2,2,2,2,2,2,2,2,2,2,2,2,2,2,2,2,2,2,2,2,2,2,2,2,2,2,2,2,2,2,2,2,2,2,2,2,2,2,2,2,2,2,2,2,2,2,2,2,2,2,2,2,2,2,2,2,2,2,2,2,2,2,2,2,2,2,2,2,2,2,2,2,2,2,2,2,2,2,2,2,2,2,2,2,2,2,2,2,2,2,2,2,2,2,2,2,2,2,2,2,2,2,2,2,2,2,2,2,2,2,2,2,2,2,2,2,2,2,2,2,2,2,2,2,2,2,2,2,2,2,2,2,2,2,2,2,2,2,2,2,2,2,2,2,2,2,2,2,2,2,2,2,2,2,2,2,2,2,2,2,2,2,2,2,2,2,2,2,2,2,2,2,2,2,2,2,2,2,2,2,2,2,2,2,2,2,2,2,2,2,2,2,2,2,2,2,2,2,2,2,2,2,2,2,2,2,2,2,2,2,2,2,2,2,2,2,2,2,2,2,2,2,2,2,2,2,2,2,2,2,2,2,2,2,2,2,2,2,2,2,2,2,2,2,2,2,2,2,2,2,2,2,2,2,2,2,2,2,2,2,2,2,2,2,2,2,2,2,2,2,2,2,2,2,2,2,2,2,2,2,2,2,2,2,2,2,2,2,2,2,2,2,2,2,2,2,2,2,2,2,2,2,2,2,2,2,2,2,2,2,2,2,2,2,2,2,2,2,2,2,2,2,2,2,2,2,2,2,2,2,2,2,2,2,2,2,2,2,2,2,2,2,2,2,2,2,2,2,2,2,2,2,2,2,2,2,2,2,2,2,2,2,2,2,2,2,2,2,2,2,2,2,2,2,2,2,2,2,2,2,2,2,2,2,2,2,2,2,2,2,2,2,2,2,2,2,2,2,2,2,2,2,2,2,2,2,2,2,2,2,2,2,2,2,2,2,2,2,2,2,2,2,2,2,2,2,2,2,2,2,2,2,2,2,2,2,2,2,2,2,2,2,2,2,2,2,2,2,2,2,2,2,2,2,2,2,2,2,2,2,2,2,2,2,2,2,2,2,2,2,2,2,2,2,2,2,2,2,2,2,2,2,2,2,2,2,2,2,2,2,2,2,2,2,2,2,2,2,2,2,2,2,2,2,2,2,2,2,2,2,2,2,2,2,2,2,2,2,2,2,2,2,2,2,2,2,2,2,2,2,2,2,2,2,2,2,2,2,2,2,2,2,2,2,2,2,2,2,2,2,2,2,2,2,2,2,2,2,2,2,2,2,2,2,2,2,2,2,2,2,2,2,2,2,2,2,2,2,2,2,2,2,2,2,2,2,2,2,2,2,2,2,2,2,2,2,2,2,2,2,2,2,2,2,2,2,2,2,2,2,2,2,2,2,2,2,2,2,2,2,2,2,2,2,2,2,2,2,2,2,2,2,2,2,2,2,2,2,2,2,2,2,2,2,2,2,2,2,2,2,2,2,2,2,2,2,2,2,2,2,2,2,2,2,2,2,2,2,2,2,2,2,2,2,2,2,2,2,2,2,2,2,2,2,2,2,2,2,2,2,2,2,2,2,2,2,2,2,2,2,2,2,2,2,2,2,2,2,2,2,2,2,2,2,2,2,2,2,2,2,2,2,2,2,2,2,2,2,2,2,2,2,2,2,2,2,2,2,2,2,2,2,2,2,2,2,2,2,2,2,2,2,2,2,2,2,2,2,2,2,2,2,2,2,2,2,2,2,2,2,2,2,2,2,2,2,2,2,2,2,2,2,2,2,2,2,2,2,2,2,2,2,2,2,2,2,2,2,2,2,2,2,2,2,2,2,2,2,2,2,2,2,2,2,2,2,2,2,2,2,2,2,2,2,2,2,2,2,2,2,2,2,2,2,2,2,2,2,2,2,2,2,2,2,2,2,2,2,2,2,2,2,2,2,2,2,2,2,2,2,2,2,2,2,2,2,2,2,2,2,2,2,2,2,2,2,2,2,2,2,2,2,2,2,2,2,2,2,2,2,2,2,2,2,2,2,2,2,2,2,2,2,2,2,2,2,2,2,2,2,2,2,2,2,2,2,2,2,2,2,2,2,2,2,2,2,2,2,2,2,2,2,2,2,2,2,2,2,2,2,2,2,2,2,2,2,2,2,2,2,2,2,2,2,2,2,2,2,2,2,2,2,2,2,2,2,2,2,2,2,2,2,2,2,2,2,2,2,2,2,2,2,2,2,2,2,2,2,2,2,2,2,2,2,2,2,2,2,2,2,2,2,2,2,2,2,2,2,2,2,2,2,2,2,2,2,2,2,2,2,2,2,2,2,2,2,2,2,2,2,2,2,2,2,2,2,2,2,2,2,2,2,2,2,2,2,2,2,2,2,2,2,2,2,2,2,2,2,2,2,2,2,2,2,2,2,2,2,2,2,2,2,2,2,2,2,2,2,2,2,2,2,2,2,2,2,2,2,2,2,2,2,2,2,2,2,2,2,2,2,2,2,2,2,2,2,2,2,2,2,2,2,2,2,2,2,2,2,2,2,2,2,2,2,2,2,2,2,2,2,2,2,2,2,2,2,2,2,2,2,2,2,2,2,2,2,2,2,2,2,2,2,2,2,2,2,2,2,2,2,2,2,2,2,2,2,2,2,2,2,2,2,2,2,2,2,2,2,2,2,2,2,2,2,2,2,2,2,2,2,2,2,2,2,2,2,2,2,2,2,2,2,2,2,2,2,2,2,2,2,2,2,2,2,2,2,2,2,2,2,2,2,2,2,2,2,2,2,2,2,2,2,2,2,2,2,2,2,2,2,2,2,2,2,2,2,2,2,2,2,2,2,2,2,2,2,2,2,2,2,2,2,2,2,2,2,2,2,2,2,2,2,2,2,2,2,2,2,2,2,2,2,2,2,2,2,2,2,2,2,2,2,2,2,2,2,2,2,2,2,2,2,2,2,2,2,2,2,2,2,2,2,2,2,2,2,2,2,2,2,2,2,2,2,2,2,2,2,2,2,2,2,2,2,2,2,2,2,2,2,2,2,2,2,2,2,2,2,2,2,2,2,2,2,2,2,2,2,2,2,2,2,2,2,2,2,2,2,2,2,2,2,2,2,2,2,2,2,2,2,2,2,2,2,2,2,2,2,2,2,2,2,2,2,2,2,2,2,2,2,2,2,2,2,2,2,2,2,2,2,2,2,2,2,2,2,2,2,2,2,2,2,2,2,2,2,2,2,2,2,2,2,2,2,2,2,2,2,2,2,2,2,2,2,2,2,2,2,2,2,2,2,2,2,2,2,2,2,2,2,2,2,2,2,2,2,2,2,2,2,2,2,2,2,2,2,2,2,2,2,2,2,2,2,2,2,2,2,2,2,2,2,2,2,2,2,2,2,2,2,2,2,2,2,2,2,2,2,2,2,2,2,2,2,2,2,2,2,2,2,2,2,2,2,2,2,2,2,2,2,2,2,2,2,2,2,2,2,2,2,2,2,2,2,2,2,2,2,2,2,2,2,2,2,2,2,2,2,2,2,2,2,2,2,2,2,2,2,2,2,2,2,2,2,2,2,2,2,2,2,2,2,2,2,2,2,2,2,2,2,2,2,2,2,2,2,2,2,2,2,2,2,2,2,2,2,2,2,2,2,2,2,2,2,2,2,2,2,2,2,2,2,2,2,2,2,2,2,2,2,2,2,2,2,2,2,2,2,2,2,2,2,2,2,2,2,2,2,2,2,2,2,2,2,2,2,2,2,2,2,2,2,2,2,2,2,2,2,2,2,2,2,2,2,2,2,2,2,2,2,2,2,2,2,2,2,2,2,2,2,2,2,2,2,2,2,2,2,2,2,2,2,2,2,2,2,2,2,2,2,2,2,2,2,2,2,2,2,2,2,2,2,2,2,2,2,2,2,2,2,2,2,2,2,2,2,2,2,2,2,2,2,2,2,2,2,2,2,2,2,2,2,2,2,2,2,2,2,2,2,2,2,2,2,2,2,2,2,2,2,2,2,2,2,2,2,2,2,2,2,2,2,2,2,2,2,2,2,2,2,2,2,2,2,2,2,2,2,2,2,2,2,2,2,2,2,2,2,2,2,2,2,2,2,2,2,2,2,2,2,2,2,2,2,2,2,2,2,2,2,2,2,2,2,2,2,2,2,2,2,2,2,2,2,2,2,2,2,2,2,2,2,2,2,2,2,2,2,2,2,2,2,2,2,2,2,2,2,2,2,2,2,2,2,2,2,2,2,2,2,2,2,2,2,2,2,2,2,2,2,2,2,2,2,2,2,2,2,2,2,2,2,2,2,2,2,2,2,2,2,2,2,2,2,2,2,2,2,2,2,2,2,2,2,2,2,2,2,2,2,2,2,2,2,2,2,2,2,2,2,2,2,2,2,2,2,2,2,2,2,2,2,2,2,2,2,2,2,2,2,2,2,2,2,2,2,2,2,2,2,2,2,2,2,2,2,2,2,2,2,2,2,2,2,2,2,2,2,2,2,2,2,2,2,2,2,2,2,2,2,2,2,2,2,2,2,2,2,2,2,2,2,2,2,2,2,2,2,2,2,2,2,2,2,2,2,2,2,2,2,2,2,2,2,2,2,2,2,2,2,2,2,2,2,2,2,2,2,2,2,2,2,2,2,2,2,2,2,2,2,2,2,2,2,2,2,2,2,2,2,2,2,2,2,2,2,2,2,2,2,2,2,2,2,2,2,2,2,2,2,2,2,2,2,2,2,2,2,2,2,2,2,2,2,2,2,2,2,2,2,2,2,2,2,2,2,2,2,2,2,2,2,2,2,2,2,2,2,2,2,2,2,2,2,2,2,2,2,2,2,2,2,2,2,2,2,2,2,2,2,2,2,2,2,2,2,2,2,2,2,2,2,2,2,2,2,2,2,2,2,2,2,2,2,2,2,2,2,2,2,2,2,2,2,2,2,2,2,2,2,2,2,2,2,2,2,2,2,2,2,2,2,2,2,2,2,2,2,2,2,2,2,2,2,2,2,2,2,2,2,2,2,2,2,2,2,2,2,2,2,2,2,2,2,2,2,2,2,2,2,2,2,2,2,2,2,2,2,2,2,2,2,2,2,2,2,2,2,2,2,2,2,2,2,2,2,2,2,2,2,2,2,2,2,2,2,2,2,2,2,2,2,2,2,2,2,2,2,2,2,2,2,2,2,2,2,2,2,2,2,2,2,2,2,2,2,2,2,2,2,2,2,2,2,2,2,2,2,2,2,2,2,2,2,2,2,2,2,2,2,2,2,2,2,2,2,2,2,2,2,2,2,2,2,2,2,2,2,2,2,2,2,2,2,2,2,2,2,2,2,2,2,2,2,2,2,2,2,2,2,2,2,2,2,2,2,2,2,2,2,2,2,2,2,2,2,2,2,2,2,2,2,2,2,2,2,2,2,2,2,2,2,2,2,2,2,2,2,2,2,2,2,2,2,2,2,2,2,2,2,2,2,2,2,2,2,2,2,2,2,2,2,2,2,2,2,2,2,2,2,2,2,2,2,2,2,2,2,2,2,2,2,2,2,2,2,2,2,2,2,2,2,2,2,2,2,2,2,2,2,2,2,2,2,2,2,2,2,2,2,2,2,2,2,2,2,2,2,2,2,2,2,2,2,2,2,2,2,2,2,2,2,2,2,2,2,2,2,2,2,2,2,2,2,2,2,2,2,2,2,2,2,2,2,2,2,2,2,2,2,2,2,2,2,2,2,2,2,2,2,2,2,2,2,2,2,2,2,2,2,2,2,2,2,2,2,2,2,2,2,2,2,2,2,2,2,2,2,2,2,2,2,2,2,2,2,2,2,2,2,2,2,2,2,2,2,2,2,2,2,2,2,2,2,2,2,2,2,2,2,2,2,2,2,2,2,2,2,2,2,2,2,2,2,2,2,2,2,2,2,2,2,2,2,2,2,2,2,2,2,2,2,2,2,2,2,2,2,2,2,2,2,2,2,2,2,2,2,2,2,2,2,2,2,2,2,2,2,2,2,2,2,2,2,2,2,2,2,2,2,2,2,2,2,2,2,2,2,2,2,2,2,2,2,2,2,2,2,2,2,2,2,2,2,2,2,2,2,2,2,2,2,2,2,2,2,2,2,2,2,2,2,2,2,2,2,2,2,2,2,2,2,2,2,2,2,2,2,2,2,2,2,2,2,2,2,2,2,2,2,2,2,2,2,2,2,2,2,2,2,2,2,2,2,2,2,2,2,2,2,2,2,2,2,2,2,2,2,2,2,2,2,2,2,2,2,2,2,2,2,2,2,2,2,2,2,2,2,2,2,2,2,2,2,2,2,2,2,2,2,2,2,2,2,2,2,2,2,2,2,2,2,2,2,2,2,2,2,2,2,2,2,2,2,2,2,2,2,2,2,2,2,2,2,2,2,2,2,2,2,2,2,2,2,2,2,2,2,2,2,2,2,2,2,2,2,2,2,2,2,2,2,2,2,2,2,2,2,2,2,2,2,2,2,2,2,2,2,2,2,2,2,2,2,2,2,2,2,2,2,2,2,2,2,2,2,2,2,2,2,2,2,2,2,2,2,2,2,2,2,2,2,2,2,2,2,2,2,2,2,2,2,2,2,2,2,2,2,2,2,2,2,2,2,2,2,2,2,2,2,2,2,2,2,2,2,2,2,2,2,2,2,2,2,2,2,2,2,2,2,2,2,2,2,2,2,2,2,2,2,2,2,2,2,2,2,2,2,2,2,2,2,2,2,2,2,2,2,2,2,2,2,2,2,2,2,2,2,2,2,2,2,2,2,2,2,2,2,2,2,2,2,2,2,2,2,2,2,2,2,2,2,2,2,2,2,2,2,2,2,2,2,2,2,2,2,2,2,2,2,2,2,2,2,2,2,2,2,2,2,2,2,2,2,2,2,2,2,2,2,2,2,2,2,2,2,2,2,2,2,2,2,2,2,2,2,2,2,2,2,2,2,2,2,2,2,2,2,2,2,2,2,2,2,2,2,2,2,2,2,2,2,2,2,2,2,2,2,2,2,2,2,2,2,2,2,2,2,2,2,2,2,2,2,2,2,2,2,2,2,2,2,2,2,2,2,2,2,2,2,2,2,2,2,2,2,2,2,2,2,2,2,2,2,2,2,2,2,2,2,2,2,2,2,2,2,2,2,2,2,2,2,2,2,2,2,2,2,2,2,2,2,2,2,2,2,2,2,2,2,2,2,2,2,2,2,2,2,2,2,2,2,2,2,2,2,2,2,2,2,2,2,2,2,2,2,2,2,2,2,2,2,2,2,2,2,2,2,2,2,2,2,2,2,2,2,2,2,2,2,2,2,2,2,2,2,2,2,2,2,2,2,2,2,2,2,2,2,2,2,2,2,2,2,2,2,2,2,2,2,2,2,2,2,2,2,2,2,2,2,2,2,2,2,2,2,2,2,2,2,2,2,2,2,2,2,2,2,2,2,2,2,2,2,2,2,2,2,2,2,2,2,2,2,2,2,2,2,2,2,2,2,2,2,2,2,2,2,2,2,2,2,2,2,2,2,2,2,2,2,2,2,2,2,2,2,2,2,2,2,2,2,2,2,2,2,2,2,2,2,2,2,2,2,2,2,2,2,2,2,2,2,2,2,2,2,2,2,2,2,2,2,2,2,2,2,2,2,2,2,2,2,2,2,2,2,2,2,2,2,2,2,2,2,2,2,2,2,2,2,2,2,2,2,2,2,2,2,2,2,2,2,2,2,2,2,2,2,2,2,2,2,2,2,2,2,2,2,2,2,2,2,2,2,2,2,2,2,2,2,2,2,2,2,2,2,2,2,2,2,2,2,2,2,2,2,2,2,2,2,2,2,2,2,2,2,2,2,2,2,2,2,2,2,2,2,2,2,2,2,2,2,2,2,2,2,2,2,2,2,2,2,2,2,2,2,2,2,2,2,2,2,2,2,2,2,2,2,2,2,2,2,2,2,2,2,2,2,2,2,2,2,2,2,2,2,2,2,2,2,2,2,2,2,2,2,2,2,2,2,2,2,2,2,2,2,2,2,2,2,2,2,2,2,2,2,2,2,2,2,2,2,2,2,2,2,2,2,2,2,2,2,2,2,2,2,2,2,2,2,2,2,2,2,2,2,2,2,2,2,2,2,2,2,2,2,2,2,2,2,2,2,2,2,2,2,2,2,2,2,2,2,2,2,2,2,2,2,2,2,2,2,2,2,2,2,2,2,2,2,2,2,2,2,2,2,2,2,2,2,2,2,2,2,2,2,2,2,2,2,2,2,2,2,2,2,2,2,2,2,2,2,2,2,2,2,2,2,2,2,2,2,2,2,2,2,2,2,2,2,2,2,2,2,2,2,2,2,2,2,2,2,2,2,2,2,2,2,2,2,2,2,2,2,2,2,2,2,2,2,2,2,2,2,2,2,2,2,2,2,2,2,2,2,2,2,2,2,2,2,2,2,2,2,2,2,2,2,2,2,2,2,2,2,2,2,2,2,2,2,2,2,2,2,2,2,2,2,2,2,2,2,2,2,2,2,2,2,2,2,2,2,2,2,2,2,2,2,2,2,2,2,2,2,2,2,2,2,2,2,2,2,2,2,2,2,2,2,2,2,2,2,2,2,2,2,2,2,2,2,2,2,2,2,2,2,2,2,2,2,2,2,2,2,2,2,2,2,2,2,2,2,2,2,2,2,2,2,2,2,2,2,2,2,2,2,2,2,2,2,2,2,2,2,2,2,2,2,2,2,2,2,2,2,2,2,2,2,2,2,2,2,2,2,2,2,2,2,2,2,2,2,2,2,2,2,2,2,2,2,2,2,2,2,2,2,2,2,2,2,2,2,2,2,2,2,2,2,2,2,2,2,2,2,2,2,2,2,2,2,2,2,2,2,2,2,2,2,2,2,2,2,2,2,2,2,2,2,2,2,2,2,2,2,2,2,2,2,2,2,2,2,2,2,2,2,2,2,2,2,2,2,2,2,2,2,2,2,2,2,2,2,2,2,2,2,2,2,2,2,2,2,2,2,2,2,2,2,2,2,2,2,2,2,2,2,2,2,2,2,2,2,2,2,2,2,2,2,2,2,2,2,2,2,2,2,2,2,2,2,2,2,2,2,2,2,2,2,2,2,2,2,2,2,2,2,2,2,2,2,2,2,2,2,2,2,2,2,2,2,2,2,2,2,2,2,2,2,2,2,2,2,2,2,2,2,2,2,2,2,2,2,2,2,2,2,2,2,2,2,2,2,2,2,2,2,2,2,2,2,2,2,2,2,2,2,2,2,2,2,2,2,2,2,2,2,2,2,2,2,2,2,2,2,2,2,2,2,2,2,2,2,2,2,2,2,2,2,2,2,2,2,2,2,2,2,2,2,2,2,2,2,2,2,2,2,2,2,2,2,2,2,2,2,2,2,2,2,2,2,2,2,2,2,2,2,2,2,2,2,2,2,2,2,2,2,2,2,2,2,2,2,2,2,2,2,2,2,2,2,2,2,2,2,2,2,2,2,2,2,2,2,2,2,2,2,2,2,2,2,2,2,2,2,2,2,2,2,2,2,2,2,2,2,2,2,2,2,2,2,2,2,2,2,2,2,2,2,2,2,2,2,2,2,2,2,2,2,2,2,2,2,2,2,2,2,2,2,2,2,2,2,2,2,2,2,2,2,2,2,2,2,2,2,2,2,2,2,2,2,2,2,2,2,2,2,2,2,2,2,2,2,2,2,2,2,2,2,2,2,2,2,2,2,2,2,2,2,2,2,2,2,2,2,2,2,2,2,2,2,2,2,2,2,2,2,2,2,2,2,2,2,2,2,2,2,2,2,2,2,2,2,2,2,2,2,2,2,2,2,2,2,2,2,2,2,2,2,2,2,2,2,2,2,2,2,2,2,2,2,2,2,2,2,2,2,2,2,2,2,2,2,2,2,2,2,2,2,2,2,2,2,2,2,2,2,2,2,2,2,2,2,2,2,2,2,2,2,2,2,2,2,2,2,2,2,2,2,2,2,2,2,2,2,2,2,2,2,2,2,2,2,2,2,2,2,2,2,2,2,2,2,2,2,2,2,2,2,2,2,2,2,2,2,2,2,2,2,2,2,2,2,2,2,2,2,2,2,2,2,2,2,2,2,2,2,2,2,2,2,2,2,2,2,2,2,2,2,2,2,2,2,2,2,2,2,2,2,2,2,2,2,2,2,2,2,2,2,2,2,2,2,2,2,2,2,2,2,2,2,2,2,2,2,2,2,2,2,2,2,2,2,2,2,2,2,2,2,2,2,2,2,2,2,2,2,2,2,2,2,2,2,2,2,2,2,2,2,2,2,2,2,2,2,2,2,2,2,2,2,2,2,2,2,2,2,2,2,2,2,2,2,2,2,2,2,2,2,2,2,2,2,2,2,2,2,2,2,2,2,2,2,2,2,2,2,2,2,2,2,2,2,2,2,2,2,2,2,2,2,2,2,2,2,2,2,2,2,2,2,2,2,2,2,2,2,2,2,2,2,2,2,2,2,2,2,2,2,2,2,2,2,2,2,2,2,2,2,2,2,2,2,2,2,2,2,2,2,2,2,2,2,2,2,2,2,2,2,2,2,2,2,2,2,2,2,2,2,2,2,2,2,2,2,2,2,2,2,2,2,2,2,2,2,2,2,2,2,2,2,2,2,2,2,2,2,2,2,2,2,2,2,2,2,2,2,2,2,2,2,2,2,2,2,2,2,2,2,2,2,2,2,2,2,2,2,2,2,2,2,2,2,2,2,2,2,2,2,2,2,2,2,2,2,2,2,2,2,2,2,2,2,2,2,2,2,2,2,2,2,2,2,2,2,2,2,2,2,2,2,2,2,2,2,2,2,2,2,2,2,2,2,2,2,2,2,2,2,2,2,2,2,2,2,2,2,2,2,2,2,2,2,2,2,2,2,2,2,2,2,2,2,2,2,2,2,2,2,2,2,2,2,2,2,2,2,2,2,2,2,2,2,2,2,2,2,2,2,2,2,2,2,2,2,2,2,2,2,2,2,2,2,2,2,2,2,2,2,2,2,2,2,2,2,2,2,2,2,2,2,2,2,2,2,2,2,2,2,2,2,2,2,2,2,2,2,2,2,2,2,2,2,2,2,2,2,2,2,2,2,2,2,2,2,2,2,2,2,2,2,2,2,2,2,2,2,2,2,2,2,2,2,2,2,2,2,2,2,2,2,2,2,2,2,2,2,2,2,2,2,2,2,2,2,2,2,2,2,2,2,2,2,2,2,2,2,2,2,2,2,2,2,2,2,2,2,2,2,2,2,2,2,2,2,2,2,2,2,2,2,2,2,2,2,2,2,2,2,2,2,2,2,2,2,2,2,2,2,2,2,2,2,2,2,2,2,2,2,2,2,2,2,2,2,2,2,2,2,2,2,2,2,2,2,2,2,2,2,2,2,2,2,2,2,2,2,2,2,2,2,2,2,2,2,2,2,2,2,2,2,2,2,2,2,2,2,2,2,2,2,2,2,2,2,2,2,2,2,2,2,2,2,2,2,2,2,2,2,2,2,2,2,2,2,2,2,2,2,2,2,2,2,2,2,2,2,2,2,2,2,2,2,2,2,2,2,2,2,2,2,2,2,2,2,2,2,2,2,2,2,2,2,2,2,2,2,2,2,2,2,2,2,2,2,2,2,2,2,2,2,2,2,2,2,2,2,2,2,2,2,2,2,2,2,2,2,2,2,2,2,2,2,2,2,2,2,2,2,2,2,2,2,2,2,2,2,2,2,2,2,2,2,2,2,2,2,2,2,2,2,2,2,2,2,2,2,2,2,2,2,2,2,2,2,2,2,2,2,2,2,2,2,2,2,2,2,2,2,2,2,2,2,2,2,2,2,2,2,2,2,2,2,2,2,2,2,2,2,2,2,2,2,2,2,2,2,2,2,2,2,2,2,2,2,2,2,2,2,2,2,2,2,2,2,2,2,2,2,2,2,2,2,2,2,2,2,2,2,2,2,2,2,2,2,2,2,2,2,2,2,2,2,2,2,2,2,2,2,2,2,2,2,2,2,2,2,2,2,2,2,2,2,2,2,2,2,2,2,2,2,2,2,2,2,2,2,2,2,2,2,2,2,2,2,2,2,2,2,2,2,2,2,2,2,2,2,2,2,2,2,2,2,2,2,2,2,2,2,2,2,2,2,2,2,2,2,2,2,2,2,2,2,2,2,2,2,2,2,2,2,2,2,2,2,2,2,2,2,2,2,2,2,2,2,2,2,2,2,2,2,2,2,2,2,2,2,2,2,2,2,2,2,2,2,2,2,2,2,2,2,2,2,2,2,2,2,2,2,2,2,2,2,2,2,2,2,2,2,2,2,2,2,2,2,2,2,2,2,2,2,2,2,2,2,2,2,2,2,2,2,2,2,2,2,2,2,2,2,2,2,2,2,2,2,2,2,2,2,2,2,2,2,2,2,2,2,2,2,2,2,2,2,2,2,2,2,2,2,2,2,2,2,2,2,2,2,2,2,2,2,2,2,2,2,2,2,2,2,2,2,2,2,2,2,2,2,2,2,2,2,2,2,2,2,2,2,2,2,2,2,2,2,2,2,2,2,2,2,2,2,2,2,2,2,2,2,2,2,2,2,2,2,2,2,2,2,2,2,2,2,2,2,2,2,2,2,2,2,2,2,2,2,2,2,2,2,2,2,2,2,2,2,2,2,2,2,2,2,2,2,2,2,2,2,2,2,2,2,2,2,2,2,2,2,2,2,2,2,2,2,2,2,2,2,2,2,2,2,2,2,2,2,2,2,2,2,2,2,2,2,2,2,2,2,2,2,2,2,2,2,2,2,2,2,2,2,2,2,2,2,2,2,2,2,2,2,2,2,2,2,2,2,2,2,2,2,2,2,2,2,2,2,2,2,2,2,2,2,2,2,2,2,2,2,2,2,2,2,2,2,2,2,2,2,2,2,2,2,2,2,2,2,2,2,2,2,2,2,2,2,2,2,2,2,2,2,2,2,2,2,2,2,2,2,2,2,2,2,2,2,2,2,2,2,2,2,2,2,2,2,2,2,2,2,2,2,2,2,2,2,2,2,2,2,2,2,2,2,2,2,2,2,2,2,2,2,2,2,2,2,2,2,2,2,2,2,2,2,2,2,2,2,2,2,2,2,2,2,2,2,2,2,2,2,2,2,2,2,2,2,2,2,2,2,2,2,2,2,2,2,2,2,2,2,2,2,2,2,2,2,2,2,2,2,2,2,2,2,2,2,2,2,2,2,2,2,2,2,2,2,2,2,2,2,2,2,2,2,2,2,2,2,2,2,2,2,2,2,2,2,2,2,2,2,2,2,2,2,2,2,2,2,2,2,2,2,2,2,2,2,2,2,2,2,2,2,2,2,2,2,2,2,2,2,2,2,2,2,2,2,2,2,2,2,2,2,2,2,2,2,2,2,2,2,2,2,2,2,2,2,2,2,2,2,2,2,2,2,2,2,2,2,2,2,2,2,2,2,2,2,2,2,2,2,2,2,2,2,2,2,2,2,2,2,2,2,2,2,2,2,2,2,2,2,2,2,2,2,2,2,2,2,2,2,2,2,2,2,2,2,2,2,2,2,2,2,2,2,2,2,2,2,2,2,2,2,2,2,2,2,2,2,2,2,2,2,2,2,2,2,2,2,2,2,2,2,2,2,2,2,2,2,2,2,2,2,2,2,2,2,2,2,2,2,2,2,2,2,2,2,2,2,2,2,2,2,2,2,2,2,2,2,2,2,2,2,2,2,2,2,2,2,2,2,2,2,2,2,2,2,2,2,2,2,2,2,2,2,2,2,2,2,2,2,2,2,2,2,2,2,2,2,2,2,2,2,2,2,2,2,2,2,2,2,2,2,2,2,2,2,2,2,2,2,2,2,2,2,2,2,2,2,2,2,2,2,2,2,2,2,2,2,2,2,2,2,2,2,2,2,2,2,2,2,2,2,2,2,2,2,2,2,2,2,2,2,2,2,2,2,2,2,2,2,2,2,2,2,2,2,2,2,2,2,2,2,2,2,2,2,2,2,2,2,2,2,2,2,2,2,2,2,2,2,2,2,2,2,2,2,2,2,2,2,2,2,2,2,2,2,2,2,2,2,2,2,2,2,2,2,2,2,2,2,2,2,2,2,2,2,2,2,2,2,2,2,2,2,2,2,2,2,2,2,2,2,2,2,2,2,2,2,2,2,2,2,2,2,2,2,2,2,2,2,2,2,2,2,2,2,2,2,2,2,2,2,2,2,2,2,2,2,2,2,2,2,2,2,2,2,2,2,2,2,2,2,2,2,2,2,2,2,2,2,2,2,2,2,2,2,2,2,2,2,2,2,2,2,2,2,2,2,2,2,2,2,2,2,2,2,2,2,2,2,2,2,2,2,2,2,2,2,2,2,2,2,2,2,2,2,2,2,2,2,2,2,2,2,2,2,2,2,2,2,2,2,2,2,2,2,2,2,2,2,2,2,2,2,2,2,2,2,2,2,2,2,2,2,2,2,2,2,2,2,2,2,2,2,2,2,2,2,2,2,2,2,2,2,2,2,2,2,2,2,2,2,2,2,2,2,2,2,2,2,2,2,2,2,2,2,2,2,2,2,2,2,2,2,2,2,2,2,2,2,2,2,2,2,2,2,2,2,2,2,2,2,2,2,2,2,2,2,2,2,2,2,2,2,2,2,2,2,2,2,2,2,2,2,2,2,2,2,2,2,2,2,2,2,2,2,2,2,2,2,2,2,2,2,2,2,2,2,2,2,2,2,2,2,2,2,2,2,2,2,2,2,2,2,2,2,2,2,2,2,2,2,2,2,2,2,2,2,2,2,2,2,2,2,2,2,2,2,2,2,2,2,2,2,2,2,2,2,2,2,2,2,2,2,2,2,2,2,2,2,2,2,2,2,2,2,2,2,2,2,2,2,2,2,2,2,2,2,2,2,2,2,2,2,2,2,2,2,2,2,2,2,2,2,2,2,2,2,2,2,2,2,2,2,2,2,2,2,2,2,2,2,2,2,2,2,2,2,2,2,2,2,2,2,2,2,2,2,2,2,2,2,2,2,2,2,2,2,2,2,2,2,2,2,2,2,2,2,2,2,2,2,2,2,2,2,2,2,2,2,2,2,2,2,2,2,2,2,2,2,2,2,2,2,2,2,2,2,2,2,2,2,2,2,2,2,2,2,2,2,2,2,2,2,2,2,2,2,2,2,2,2,2,2,2,2,2,2,2,2,2,2,2,2,2,2,2,2,2,2,2,2,2,2,2,2,2,2,2,2,2,2,2,2,2,2,2,2,2,2,2,2,2,2,2,2,2,2,2,2,2,2,2,2,2,2,2,2,2,2,2,2,2,2,2,2,2,2,2,2,2,2,2,2,2,2,2,2,2,2,2,2,2,2,2,2,2,2,2,2,2,2,2,2,2,2,2,2,2,2,2,2,2,2,2,2,2,2,2,2,2,2,2,2,2,2,2,2,2,2,2,2,2,2,2,2,2,2,2,2,2,2,2,2,2,2,2,2,2,2,2,2,2,2,2,2,2,2,2,2,2,2,2,2,2,2,2,2,2,2,2,2,2,2,2,2,2,2,2,2,2,2,2,2,2,2,2,2,2,2,2,2,2,2,2,2,2,2,2,2,2,2,2,2,2,2,2,2,2,2,2,2,2,2,2,2,2,2,2,2,2,2,2,2,2,2,2,2,2,2,2,2,2,2,2,2,2,2,2,2,2,2,2,2,2,2,2,2,2,2,2,2,2,2,2,2,2,2,2,2,2,2,2,2,2,2,2,2,2,2,2,2,2,2,2,2,2,2,2,2,2,2,2,2,2,2,2,2,2,2,2,2,2,2,2,2,2,2,2,2,2,2,2,2,2,2,2,2,2,2,2,2,2,2,2,2,2,2,2,2,2,2,2,2,2,2,2,2,2,2,2,2,2,2,2,2,2,2,2,2,2,2,2,2,2,2,2,2,2,2,2,2,2,2,2,2,2,2,2,2,2,2,2,2,2,2,2,2,2,2,2,2,2,2,2,2,2,2,2,2,2,2,2,2,2,2,2,2,2,2,2,2,2,2,2,2,2,2,2,2,2,2,2,2,2,2,2,2,2,2,2,2,2,2,2,2,2,2,2,2,2,2,2,2,2,2,2,2,2,2,2,2,2,2,2,2,2,2,2,2,2,2,2,2,2,2,2,2,2,2,2,2,2,2,2,2,2,2,2,2,2,2,2,2,2,2,2,2,2,2,2,2,2,2,2,2,2,2,2,2,2,2,2,2,2,2,2,2,2,2,2,2,2,2,2,2,2,2,2,2,2,2,2,2,2,2,2,2,2,2,2,2,2,2,2,2,2,2,2,2,2,2,2,2,2,2,2,2,2,2,2,2,2,2,2,2,2,2,2,2,2,2,2,2,2,2,2,2,2,2,2,2,2,2,2,2,2,2,2,2,2,2,2,2,2,2,2,2,2,2,2,2,2,2,2,2,2,2,2,2,2,2,2,2,2,2,2,2,2,2,2,2,2,2,2,2,2,2,2,2,2,2,2,2,2,2,2,2,2,2,2,2,2,2,2,2,2,2,2,2,2,2,2,2,2,2,2,2,2,2,2,2,2,2,2,2,2,2,2,2,2,2,2,2,2,2,2,2,2,2,2,2,2,2,2,2,2,2,2,2,2,2,2,2,2,2,2,2,2,2,2,2,2,2,2,2,2,2,2,2,2,2,2,2,2,2,2,2,2,2,2,2,2,2,2,2,2,2,2,2,2,2,2,2,2,2,2,2,2,2,2,2,2,2,2,2,2,2,2,2,2,2,2,2,2,2,2,2,2,2,2,2,2,2,2,2,2,2,2,2,2,2,2,2,2,2,2,2,2,2,2,2,2,2,2,2,2,2,2,2,2,2,2,2,2,2,2,2,2,2,2,2,2,2,2,2,2,2,2,2,2,2,2,2,2,2,2,2,2,2,2,2,2,2,2,2,2,2,2,2,2,2,2,2,2,2,2,2,2,2,2,2,2,2,2,2,2,2,2,2,2,2,2,2,2,2,2,2,2,2,2,2,2,2,2,2,2,2,2,2,2,2,2,2,2,2,2,2,2,2,2,2,2,2,2,2,2,2,2,2,2,2,2,2,2,2,2,2,2,2,2,2,2,2,2,2,2,2,2,2,2,2,2,2,2,2,2,2,2,2,2,2,2,2,2,2,2,2,2,2,2,2,2,2,2,2,2,2,2,2,2,2,2,2,2,2,2,2,2,2,2,2,2,2,2,2,2,2,2,2,2,2,2,2,2,2,2,2,2,2,2,2,2,2,2,2,2,2,2,2,2,2,2,2,2,2,2,2,2,2,2,2,2,2,2,2,2,2,2,2,2,2,2,2,2,2,2,2,2,2,2,2,2,2,2,2,2,2,2,2,2,2,2,2,2,2,2,2,2,2,2,2,2,2,2,2,2,2,2,2,2,2,2,2,2,2,2,2,2,2,2,2,2,2,2,2,2,2,2,2,2,2,2,2,2,2,2,2,2,2,2,2,2,2,2,2,2,2,2,2,2,2,2,2,2,2,2,2,2,2,2,2,2,2,2,2,2,2,2,2,2,2,2,2,2,2,2,2,2,2,2,2,2,2,2,2,2,2,2,2,2,2,2,2,2,2,2,2,2,2,2,2,2,2,2,2,2,2,2,2,2,2,2,2,2,2,2,2,2,2,2,2,2,2,2,2,2,2,2,2,2,2,2,2,2,2,2,2,2,2,2,2,2,2,2,2,2,2,2,2,2,2,2,2,2,2,2,2,2,2,2,2,2,2,2,2,2,2,2,2,2,2,2,2,2,2,2,2,2,2,2,2,2,2,2,2,2,2,2,2,2,2,2,2,2,2,2,2,2,2,2,2,2,2,2,2,2,2,2,2,2,2,2,2,2,2,2,2,2,2,2,2,2,2,2,2,2,2,2,2,2,2,2,2,2,2,2,2,2,2,2,2,2,2,2,2,2,2,2,2,2,2,2,2,2,2,2,2,2,2,2,2,2,2,2,2,2,2,2,2,2,2,2,2,2,2,2,2,2,2,2,2,2,2,2,2,2,2,2,2,2,2,2,2,2,2,2,2,2,2,2,2,2,2,2,2,2,2,2,2,2,2,2,2,2,2,2,2,2,2,2,2,2,2,2,2,2,2,2,2,2,2,2,2,2,2,2,2,2,2,2,2,2,2,2,2,2,2,2,2,2,2,2,2,2,2,2,2,2,2,2,2,2,2,2,2,2,2,2,2,2,2,2,2,2,2,2,2,2,2,2,2,2,2,2,2,2,2,2,2,2,2,2,2,2,2,2,2,2,2,2,2,2,2,2,2,2,2,2,2,2,2,2,2,2,2,2,2,2,2,2,2,2,2,2,2,2,2,2,2,2,2,2,2,2,2,2,2,2,2,2,2,2,2,2,2,2,2,2,2,2,2,2,2,2,2,2,2,2,2,2,2,2,2,2,2,2,2,2,2,2,2,2,2,2,2,2,2,2,2,2,2,2,2,2,2,2,2,2,2,2,2,2,2,2,2,2,2,2,2,2,2,2,2,2,2,2,2,2,2,2,2,2,2,2,2,2,2,2,2,2,2,2,2,2,2,2,2,2,2,2,2,2,2,2,2,2,2,2,2,2,2,2,2,2,2,2,2,2,2,2,2,2,2,2,2,2,2,2,2,2,2,2,2,2,2,2,2,2,2,2,2,2,2,2,2,2,2,2,2,2,2,2,2,2,2,2,2,2,2,2,2,2,2,2,2,2,2,2,2,2,2,2,2,2,2,2,2,2,2,2,2,2,2,2,2,2,2,2,2,2,2,2,2,2,2,2,2,2,2,2,2,2,2,2,2,2,2,2,2,2,2,2,2,2,2,2,2,2,2,2,2,2,2,2,2,2,2,2,2,2,2,2,2,2,2,2,2,2,2,2,2,2,2,2,2,2,2,2,2,2,2,2,2,2,2,2,2,2,2,2,2,2,2,2,2,2,2,2,2,2,2,2,2,2,2,2,2,2,2,2,2,2,2,2,2,2,2,2,2,2,2,2,2,2,2,2,2,2,2,2,2,2,2,2,2,2,2,2,2,2,2,2,2,2,2,2,2,2,2,2,2,2,2,2,2,2,2,2,2,2,2,2,2,2,2,2,2,2,2,2,2,2,2,2,2,2,2,2,2,2,2,2,2,2,2,2,2,2,2,2,2,2,2,2,2,2,2,2,2,2,2,2,2,2,2,2,2,2,2,2,2,2,2,2,2,2,2,2,2,2,2,2,2,2,2,2,2,2,2,2,2,2,2,2,2,2,2,2,2,2,2,2,2,2,2,2,2,2,2,2,2,2,2,2,2,2,2,2,2,2,2,2,2,2,2,2,2,2,2,2,2,2,2,2,2,2,2,2,2,2,2,2,2,2,2,2,2,2,2,2,2,2,2,2,2,2,2,2,2,2,2,2,2,2,2,2,2,2,2,2,2,2,2,2,2,2,2,2,2,2,2,2,2,2,2,2,2,2,2,2,2,2,2,2,2,2,2,2,2,2,2,2,2,2,2,2,2,2,2,2,2,2,2,2,2,2,2,2,2,2,2,2,2,2,2,2,2,2,2,2,2,2,2,2,2,2,2,2,2,2,2,2,2,2,2,2,2,2,2,2,2,2,2,2,2,2,2,2,2,2,2,2,2,2,2,2,2,2,2,2,2,2,2,2,2,2,2,2,2,2,2,2,2,2,2,2,2,2,2,2,2,2,2,2,2,2,2,2,2,2,2,2,2,2,2,2,2,2,2,2,2,2,2,2,2,2,2,2,2,2,2,2,2,2,2,2,2,2,2,2,2,2,2,2,2,2,2,2,2,2,2,2,2,2,2,2,2,2,2,2,2,2,2,2,2,2,2,2,2,2,2,2,2,2,2,2,2,2,2,2,2,2,2,2,2,2,2,2,2,2,2,2,2,2,2,2,2,2,2,2,2,2,2,2,2,2,2,2,2,2,2,2,2,2,2,2,2,2,2,2,2,2,2,2,2,2,2,2,2,2,2,2,2,2,2,2,2,2,2,2,2,2,2,2,2,2,2,2,2,2,2,2,2,2,2,2,2,2,2,2,2,2,2,2,2,2,2,2,2,2,2,2,2,2,2,2,2,2,2,2,2,2,2,2,2,2,2,2,2,2,2,2,2,2,2,2,2,2,2,2,2,2,2,2,2,2,2,2,2,2,2,2,2,2,2,2,2,2,2,2,2,2,2,2,2,2,2,2,2,2,2,2,2,2,2,2,2,2,2,2,2,2,2,2,2,2,2,2,2,2,2,2,2,2,2,2,2,2,2,2,2,2,2,2,2,2,2,2,2,2,2,2,2,2,2,2,2,2,2,2,2,2,2,2,2,2,2,2,2,2,2,2,2,2,2,2,2,2,2,2,2,2,2,2,2,2,2,2,2,2,2,2,2,2,2,2,2,2,2,2,2,2,2,2,2,2,2,2,2,2,2,2,2,2,2,2,2,2,2,2,2,2,2,2,2,2,2,2,2,2,2,2,2,2,2,2,2,2,2,2,2,2,2,2,2,2,2,2,2,2,2,2,2,2,2,2,2,2,2,2,2,2,2,2,2,2,2,2,2,2,2,2,2,2,2,2,2,2,2,2,2,2,2,2,2,2,2,2,2,2,2,2,2,2,2,2,2,2,2,2,2,2,2,2,2,2,2,2,2,2,2,2,2,2,2,2,2,2,2,2,2,2,2,2,2,2,2,2,2,2,2,2,2,2,2,2,2,2,2,2,2,2,2,2,2,2,2,2,2,2,2,2,2,2,2,2,2,2,2,2,2,2,2,2,2,2,2,2,2,2,2,2,2,2,2,2,2,2,2,2,2,2,2,2,2,2,2,2,2,2,2,2,2,2,2,2,2,2,2,2,2,2,2,2,2,2,2,2,2,2,2,2,2,2,2,2,2,2,2,2,2,2,2,2,2,2,2,2,2,2,2,2,2,2,2,2,2,2,2,2,2,2,2,2,2,2,2,2,2,2,2,2,2,2,2,2,2,2,2,2,2,2,2,2,2,2,2,2,2,2,2,2,2,2,2,2,2,2,2,2,2,2,2,2,2,2,2,2,2,2,2,2,2,2,2,2,2,2,2,2,2,2,2,2,2,2,2,2,2,2,2,2,2,2,2,2,2,2,2,2,2,2,2,2,2,2,2,2,2,2,2,2,2,2,2,2,2,2,2,2,2,2,2,2,2,2,2,2,2,2,2,2,2,2,2,2,2,2,2,2,2,2,2,2,2,2,2,2,2,2,2,2,2,2,2,2,2,2,2,2,2,2,2,2,2,2,2,2,2,2,2,2,2,2,2,2,2,2,2,2,2,2,2,2,2,2,2,2,2,2,2,2,2,2,2,2,2,2,2,2,2,2,2,2,2,2,2,2,2,2,2,2,2,2,2,2,2,2,2,2,2,2,2,2,2,2,2,2,2,2,2,2,2,2,2,2,2,2,2,2,2,2,2,2,2,2,2,2,2,2,2,2,2,2,2,2,2,2,2,2,2,2,2,2,2,2,2,2,2,2,2,2,2,2,2,2,2,2,2,2,2,2,2,2,2,2,2,2,2,2,2,2,2,2,2,2,2,2,2,2,2,2,2,2,2,2,2,2,2,2,2,2,2,2,2,2,2,2,2,2,2,2,2,2,2,2,2,2,2,2,2,2,2,2,2,2,2,2,2,2,2,2,2,2,2,2,2,2,2,2,2,2,2,2,2,2,2,2,2,2,2,2,2,2,2,2,2,2,2,2,2,2,2,2,2,2,2,2,2,2,2,2,2,2,2,2,2,2,2,2,2,2,2,2,2,2,2,2,2,2,2,2,2,2,2,2,2,2,2,2,2,2,2,2,2,2,2,2,2,2,2,2,2,2,2,2,2,2,2,2,2,2,2,2,2,2,2,2,2,2,2,2,2,2,2,2,2,2,2,2,2,2,2,2,2,2,2,2,2,2,2,2,2,2,2,2,2,2,2,2,2,2,2,2,2,2,2,2,2,2,2,2,2,2,2,2,2,2,2,2,2,2,2,2,2,2,2,2,2,2,2,2,2,2,2,2,2,2,2,2,2,2,2,2,2,2,2,2,2,2,2,2,2,2,2,2,2,2,2,2,2,2,2,2,2,2,2,2,2,2,2,2,2,2,2,2,2,2,2,2,2,2,2,2,2,2,2,2,2,2,2,2,2,2,2,2,2,2,2,2,2,2,2,2,2,2,2,2,2,2,2,2,2,2,2,2,2,2,2,2,2,2,2,2,2,2,2,2,2,2,2,2,2,2,2,2,2,2,2,2,2,2,2,2,2,2,2,2,2,2,2,2,2,2,2,2,2,2,2,2,2,2,2,2,2,2,2,2,2,2,2,2,2,2,2,2,2,2,2,2,2,2,2,2,2,2,2,2,2,2,2,2,2,2,2,2,2,2,2,2,2,2,2,2,2,2,2,2,2,2,2,2,2,2,2,2,2,2,2,2,2,2,2,2,2,2,2,2,2,2,2,2,2,2,2,2,2,2,2,2,2,2,2,2,2,2,2,2,2,2,2,2,2,2,2,2,2,2,2,2,2,2,2,2,2,2,2,2,2,2,2,2,2,2,2,2,2,2,2,2,2,2,2,2,2,2,2,2,2,2,2,2,2,2,2,2,2,2,2,2,2,2,2,2,2,2,2,2,2,2,2,2,2,2,2,2,2,2,2,2,2,2,2,2,2,2,2,2,2,2,2,2,2,2,2,2,2,2,2,2,2,2,2,2,2,2,2,2,2,2,2,2,2,2,2,2,2,2,2,2,2,2,2,2,2,2,2,2,2,2,2,2,2,2,2,2,2,2,2,2,2,2,2,2,2,2,2,2,2,2,2,2,2,2,2,2,2,2,2,2,2,2,2,2,2,2,2,2,2,2,2,2,2,2,2,2,2,2,2,2,2,2,2,2,2,2,2,2,2,2,2,2,2,2,2,2,2,2,2,2,2,2,2,2,2,2,2,2,2,2,2,2,2,2,2,2,2,2,2,2,2,2,2,2,2,2,2,2,2,2,2,2,2,2,2,2,2,2,2,2,2,2,2,2,2,2,2,2,2,2,2,2,2,2,2,2,2,2,2,2,2,2,2,2,2,2,2,2,2,2,2,2,2,2,2,2,2,2,2,2,2,2,2,2,2,2,2,2,2,2,2,2,2,2,2,2,2,2,2,2,2,2,2,2,2,2,2,2,2,2,2,2,2,2,2,2,2,2,2,2,2,2,2,2,2,2,2,2,2,2,2,2,2,2,2,2,2,2,2,2,2,2,2,2,2,2,2,2,2,2,2,2,2,2,2,2,2,2,2,2,2,2,2,2,2,2,2,2,2,2,2,2,2,2,2,2,2,2,2,2,2,2,2,2,2,2,2,2,2,2,2,2,2,2,2,2,2,2,2,2,2,2,2,2,2,2,2,2,2,2,2,2,2,2,2,2,2,2,2,2,2,2,2,2,2,2,2,2,2,2,2,2,2,2,2,2,2,2,2,2,2,2,2,2,2,2,2,2,2,2,2,2,2,2,2,2,2,2,2,2,2,2,2,2,2,2,2,2,2,2,2,2,2,2,2,2,2,2,2,2,2,2,2,2,2,2,2,2,2,2,2,2,2,2,2,2,2,2,2,2,2,2,2,2,2,2,2,2,2,2,2,2,2,2,2,2,2,2,2,2,2,2,2,2,2,2,2,2,2,2,2,2,2,2,2,2,2,2,2,2,2,2,2,2,2,2,2,2,2,2,2,2,2,2,2,2,2,2,2,2,2,2,2,2,2,2,2,2,2,2,2,2,2,2,2,2,2,2,2,2,2,2,2,2,2,2,2,2,2,2,2,2,2,2,2,2,2,2,2,2,2,2,2,2,2,2,2,2,2,2,2,2,2,2,2,2,2,2,2,2,2,2,2,2,2,2,2,2,2,2,2,2,2,2,2,2,2,2,2,2,2,2,2,2,2,2,2,2,2,2,2,2,2,2,2,2,2,2,2,2,2,2,2,2,2,2,2,2,2,2,2,2,2,2,2,2,2,2,2,2,2,2,2,2,2,2,2,2,2,2,2,2,2,2,2,2,2,2,2,2,2,2,2,2,2,2,2,2,2,2,2,2,2,2,2,2,2,2,2,2,2,2,2,2,2,2,2,2,2,2,2,2,2,2,2,2,2,2,2,2,2,2,2,2,2,2,2,2,2,2,2,2,2,2,2,2,2,2,2,2,2,2,2,2,2,2,2,2,2,2,2,2,2,2,2,2,2,2,2,2,2,2,2,2,2,2,2,2,2,2,2,2,2,2,2,2,2,2,2,2,2,2,2,2,2,2,2,2,2,2,2,2,2,2,2,2,2,2,2,2,2,2,2,2,2,2,2,2,2,2,2,2,2,2,2,2,2,2,2,2,2,2,2,2,2,2,2,2,2,2,2,2,2,2,2,2,2,2,2,2,2,2,2,2,2,2,2,2,2,2,2,2,2,2,2,2,2,2,2,2,2,2,2,2,2,2,2,2,2,2,2,2,2,2,2,2,2,2,2,2,2,2,2,2,2,2,2,2,2,2,2,2,2,2,2,2,2,2,2,2,2,2,2,2,2,2,2,2,2,2,2,2,2,2,2,2,2,2,2,2,2,2,2,2,2,2,2,2,2,2,2,2,2,2,2,2,2,2,2,2,2,2,2,2,2,2,2,2,2,2,2,2,2,2,2,2,2,2,2,2,2,2,2,2,2,2,2,2,2,2,2,2,2,2,2,2,2,2,2,2,2,2,2,2,2,2,2,2,2,2,2,2,2,2,2,2,2,2,2,2,2,2,2,2,2,2,2,2,2,2,2,2,2,2,2,2,2,2,2,2,2,2,2,2,2,2,2,2,2,2,2,2,2,2,2,2,2,2,2,2,2,2,2,2,2,2,2,2,2,2,2,2,2,2,2,2,2,2,2,2,2,2,2,2,2,2,2,2,2,2,2,2,2,2,2,2,2,2,2,2,2,2,2,2,2,2,2,2,2,2,2,2,2,2,2,2,2,2,2,2,2,2,2,2,2,2,2,2,2,2,2,2,2,2,2,2,2,2,2,2,2,2,2,2,2,2,2,2,2,2,2,2,2,2,2,2,2,2,2,2,2,2,2,2,2,2,2,2,2,2,2,2,2,2,2,2,2,2,2,2,2,2,2,2,2,2,2,2,2,2,2,2,2,2,2,2,2,2,2,2,2,2,2,2,2,2,2,2,2,2,2,2,2,2,2,2,2,2,2,2,2,2,2,2,2,2,2,2,2,2,2,2,2,2,2,2,2,2,2,2,2,2,2,2,2,2,2,2,2,2,2,2,2,2,2,2,2,2,2,2,2,2,2,2,2,2,2,2,2,2,2,2,2,2,2,2,2,2,2,2,2,2,2,2,2,2,2,2,2,2,2,2,2,2,2,2,2,2,2,2,2,2,2,2,2,2,2,2,2,2,2,2,2,2,2,2,2,2,2,2,2,2,2,2,2,2,2,2,2,2,2,2,2,2,2,2,2,2,2,2,2,2,2,2,2,2,2,2,2,2,2,2,2,2,2,2,2,2,2,2,2,2,2,2,2,2,2,2,2,2,2,2,2,2,2,2,2,2,2,2,2,2,2,2,2,2,2,2,2,2,2,2,2,2,2,2,2,2,2,2,2,2,2,2,2,2,2,2,2,2,2,2,2,2,2,2,2,2,2,2,2,2,2,2,2,2,2,2,2,2,2,2,2,2,2,2,2,2,2,2,2,2,2,2,2,2,2,2,2,2,2,2,2,2,2,2,2,2,2,2,2,2,2,2,2,2,2,2,2,2,2,2,2,2,2,2,2,2,2,2,2,2,2,2,2,2,2,2,2,2,2,2,2,2,2,2,2,2,2,2,2,2,2,2,2,2,2,2,2,2,2,2,2,2,2,2,2,2,2,2,2,2,2,2,2,2,2,2,2,2,2,2,2,2,2,2,2,2,2,2,2,2,2,2,2,2,2,2,2,2,2,2,2,2,2,2,2,2,2,2,2,2,2,2,2,2,2,2,2,2,2,2,2,2,2,2,2,2,2,2,2,2,2,2,2,2,2,2,2,2,2,2,2,2,2,2,2,2,2,2,2,2,2,2,2,2,2,2,2,2,2,2,2,2,2,2,2,2,2,2,2,2,2,2,2,2,2,2,2,2,2,2,2,2,2,2,2,2,2,2,2,2,2,2,2,2,2,2,2,2,2,2,2,2,2,2,2,2,2,2,2,2,2,2,2,2,2,2,2,2,2,2,2,2,2,2,2,2,2,2,2,2,2,2,2,2,2,2,2,2,2,2,2,2,2,2,2,2,2,2,2,2,2,2,2,2,2,2,2,2,2,2,2,2,2,2,2,2,2,2,2,2,2,2,2,2,2,2,2,2,2,2,2,2,2,2,2,2,2,2,2,2,2,2,2,2,2,2,2,2,2,2,2,2,2,2,2,2,2,2,2,2,2,2,2,2,2,2,2,2,2,2,2,2,2,2,2,2,2,2,2,2,2,2,2,2,2,2,2,2,2,2,2,2,2,2,2,2,2,2,2,2,2,2,2,2,2,2,2,2,2,2,2,2,2,2,2,2,2,2,2,2,2,2,2,2,2,2,2,2,2,2,2,2,2,2,2,2,2,2,2,2,2,2,2,2,2,2,2,2,2,2,2,2,2,2,2,2,2,2,2,2,2,2,2,2,2,2,2,2,2,2,2,2,2,2,2,2,2,2,2,2,2,2,2,2,2,2,2,2,2,2,2,2,2,2,2,2,2,2,2,2,2,2,2,2,2,2,2,2,2,2,2,2,2,2,2,2,2,2,2,2,2,2,2,2,2,2,2,2,2,2,2,2,2,2,2,2,2,2,2,2,2,2,2,2,2,2,2,2,2,2,2,2,2,2,2,2,2,2,2,2,2,2,2,2,2,2,2,2,2,2,2,2,2,2,2,2,2,2,2,2,2,2,2,2,2,2,2,2,2,2,2,2,2,2,2,2,2,2,2,2,2,2,2,2,2,2,2,2,2,2,2,2,2,2,2,2,2,2,2,2,2,2,2,2,2,2,2,2,2,2,2,2,2,2,2,2,2,2,2,2,2,2,2,2,2,2,2,2,2,2,2,2,2,2,2,2,2,2,2,2,2,2,2,2,2,2,2,2,2,2,2,2,2,2,2,2,2,2,2,2,2,2,2,2,2,2,2,2,2,2,2,2,2,2,2,2,2,2,2,2,2,2,2,2,2,2,2,2,2,2,2,2,2,2,2,2,2,2,2,2,2,2,2,2,2,2,2,2,2,2,2,2,2,2,2,2,2,2,2,2,2,2,2,2,2,2,2,2,2,2,2,2,2,2,2,2,2,2,2,2,2,2,2,2,2,2,2,2,2,2,2,2,2,2,2,2,2,2,2,2,2,2,2,2,2,2,2,2,2,2,2,2,2,2,2,2,2,2,2,2,2,2,2,2,2,2,2,2,2,2,2,2,2,2,2,2,2,2,2,2,2,2,2,2,2,2,2,2,2,2,2,2,2,2,2,2,2,2,2,2,2,2,2,2,2,2,2,2,2,2,2,2,2,2,2,2,2,2,2,2,2,2,2,2,2,2,2,2,2,2,2,2,2,2,2,2,2,2,2,2,2,2,2,2,2,2,2,2,2,2,2,2,2,2,2,2,2,2,2,2,2,2,2,2,2,2,2,2,2,2,2,2,2,2,2,2,2,2,2,2,2,2,2,2,2,2,2,2,2,2,2,2,2,2,2,2,2,2,2,2,2,2,2,2,2,2,2,2,2,2,2,2,2,2,2,2,2,2,2,2,2,2,2,2,2,2,2,2,2,2,2,2,2,2,2,2,2,2,2,2,2,2,2,2,2,2,2,2,2,2,2,2,2,2,2,2,2,2,2,2,2,2,2,2,2,2,2,2,2,2,2,2,2,2,2,2,2,2,2,2,2,2,2,2,2,2,2,2,2,2,2,2,2,2,2,2,2,2,2,2,2,2,2,2,2,2,2,2,2,2,2,2,2,2,2,2,2,2,2,2,2,2,2,2,2,2,2,2,2,2,2,2,2,2,2,2,2,2,2,2,2,2,2,2,2,2,2,2,2,2,2,2,2,2,2,2,2,2,2,2,2,2,2,2,2,2,2,2,2,2,2,2,2,2,2,2,2,2,2,2,2,2,2,2,2,2,2,2,2,2,2,2,2,2,2,2,2,2,2,2,2,2,2,2,2,2,2,2,2,2,2,2,2,2,2,2,2,2,2,2,2,2,2,2,2,2,2,2,2,2,2,2,2,2,2,2,2,2,2,2,2,2,2,2,2,2,2,2,2,2,2,2,2,2,2,2,2,2,2,2,2,2,2,2,2,2,2,2,2,2,2,2,2,2,2,2,2,2,2,2,2,2,2,2,2,2,2,2,2,2,2,2,2,2,2,2,2,2,2,2,2,2,2,2,2,2,2,2,2,2,2,2,2,2,2,2,2,2,2,2,2,2,2,2,2,2,2,2,2,2,2,2,2,2,2,2,2,2,2,2,2,2,2,2,2,2,2,2,2,2,2,2,2,2,2,2,2,2,2,2,2,2,2,2,2,2,2,2,2,2,2,2,2,2,2,2,2,2,2,2,2,2,2,2,2,2,2,2,2,2,2,2,2,2,2,2,2,2,2,2,2,2,2,2,2,2,2,2,2,2,2,2,2,2,2,2,2,2,2,2,2,2,2,2,2,2,2,2,2,2,2,2,2,2,2,2,2,2,2,2,2,2,2,2,2,2,2,2,2,2,2,2,2,2,2,2,2,2,2,2,2,2,2,2,2,2,2,2,2,2,2,2,2,2,2,2,2,2,2,2,2,2,2,2,2,2,2,2,2,2,2,2,2,2,2,2,2,2,2,2,2,2,2,2,2,2,2,2,2,2,2,2,2,2,2,2,2,2,2,2,2,2,2,2,2,2,2,2,2,2,2,2,2,2,2,2,2,2,2,2,2,2,2,2,2,2,2,2,2,2,2,2,2,2,2,2,2,2,2,2,2,2,2,2,2,2,2,2,2,2,2,2,2,2,2,2,2,2,2,2,2,2,2,2,2,2,2,2,2,2,2,2,2,2,2,2,2,2,2,2,2,2,2,2,2,2,2,2,2,2,2,2,2,2,2,2,2,2,2,2,2,2,2,2,2,2,2,2,2,2,2,2,2,2,2,2,2,2,2,2,2,2,2,2,2,2,2,2,2,2,2,2,2,2,2,2,2,2,2,2,2,2,2,2,2,2,2,2,2,2,2,2,2,2,2,2,2,2,2,2,2,2,2,2,2,2,2,2,2,2,2,2,2,2,2,2,2,2,2,2,2,2,2,2,2,2,2,2,2,2,2,2,2,2,2,2,2,2,2,2,2,2,2,2,2,2,2,2,2,2,2,2,2,2,2,2,2,2,2,2,2,2,2,2,2,2,2,2,2,2,2,2,2,2,2,2,2,2,2,2,2,2,2,2,2,2,2,2,2,2,2,2,2,2,2,2,2,2,2,2,2,2,2,2,2,2,2,2,2,2,2,2,2,2,2,2,2,2,2,2,2,2,2,2,2,2,2,2,2,2,2,2,2,2,2,2,2,2,2,2,2,2,2,2,2,2,2,2,2,2,2,2,2,2,2,2,2,2,2,2,2,2,2,2,2,2,2,2,2,2,2,2,2,2,2,2,2,2,2,2,2,2,2,2,2,2,2,2,2,2,2,2,2,2,2,2,2,2,2,2,2,2,2,2,2,2,2,2,2,2,2,2,2,2,2,2,2,2,2,2,2,2,2,2,2,2,2,2,2,2,2,2,2,2,2,2,2,2,2,2,2,2,2,2,2,2,2,2,2,2,2,2,2,2,2,2,2,2,2,2,2,2,2,2,2,2,2,2,2,2,2,2,2,2,2,2,2,2,2,2,2,2,2,2,2,2,2,2,2,2,2,2,2,2,2,2,2,2,2,2,2,2,2,2,2,2,2,2,2,2,2,2,2,2,2,2,2,2,2,2,2,2,2,2,2,2,2,2,2,2,2,2,2,2,2,2,2,2,2,2,2,2,2,2,2,2,2,2,2,2,2,2,2,2,2,2,2,2,2,2,2,2,2,2,2,2,2,2,2,2,2,2,2,2,2,2,2,2,2,2,2,2,2,2,2,2,2,2,2,2,2,2,2,2,2,2,2,2,2,2,2,2,2,2,2,2,2,2,2,2,2,2,2,2,2,2,2,2,2,2,2,2,2,2,2,2,2,2,2,2,2,2,2,2,2,2,2,2,2,2,2,2,2,2,2,2,2,2,2,2,2,2,2,2,2,2,2,2,2,2,2,2,2,2,2,2,2,2,2,2,2,2,2,2,2,2,2,2,2,2,2,2,2,2,2,2,2,2,2,2,2,2,2,2,2,2,2,2,2,2,2,2,2,2,2,2,2,2,2,2,2,2,2,2,2,2,2,2,2,2,2,2,2,2,2,2,2,2,2,2,2,2,2,2,2,2,2,2,2,2,2,2,2,2,2,2,2,2,2,2,2,2,2,2,2,2,2,2,2,2,2,2,2,2,2,2,2,2,2,2,2,2,2,2,2,2,2,2,2,2,2,2,2,2,2,2,2,2,2,2,2,2,2,2,2,2,2,2,2,2,2,2,2,2,2,2,2,2,2,2,2,2,2,2,2,2,2,2,2,2,2,2,2,2,2,2,2,2,2,2,2,2,2,2,2,2,2,2,2,2,2,2,2,2,2,2,2,2,2,2,2,2,2,2,2,2,2,2,2,2,2,2,2,2,2,2,2,2,2,2,2,2,2,2,2,2,2,2,2,2,2,2,2,2,2,2,2,2,2,2,2,2,2,2,2,2,2,2,2,2,2,2,2,2,2,2,2,2,2,2,2,2,2,2,2,2,2,2,2,2,2,2,2,2,2,2,2,2,2,2,2,2,2,2,2,2,2,2,2,2,2,2,2,2,2,2,2,2,2,2,2,2,2,2,2,2,2,2,2,2,2,2,2,2,2,2,2,2,2,2,2,2,2,2,2,2,2,2,2,2,2,2,2,2,2,2,2,2,2,2,2,2,2,2,2,2,2,2,2,2,2,2,2,2,2,2,2,2,2,2,2,2,2,2,2,2,2,2,2,2,2,2,2,2,2,2,2,2,2,2,2,2,2,2,2,2,2,2,2,2,2,2,2,2,2,2,2,2,2,2,2,2,2,2,2,2,2,2,2,2,2,2,2,2,2,2,2,2,2,2,2,2,2,2,2,2,2,2,2,2,2,2,2,2,2,2,2,2,2,2,2,2,2,2,2,2,2,2,2,2,2,2,2,2,2,2,2,2,2,2,2,2,2,2,2,2,2,2,2,2,2,2,2,2,2,2,2,2,2,2,2,2,2,2,2,2,2,2,2,2,2,2,2,2,2,2,2,2,2,2,2,2,2,2,2,2,2,2,2,2,2,2,2,2,2,2,2,2,2,2,2,2,2,2,2,2,2,2,2,2,2,2,2,2,2,2,2,2,2,2,2,2,2,2,2,2,2,2,2,2,2,2,2,2,2,2,2,2,2,2,2,2,2,2,2,2,2,2,2,2,2,2,2,2,2,2,2,2,2,2,2,2,2,2,2,2,2,2,2,2,2,2,2,2,2,2,2,2,2,2,2,2,2,2,2,2,2,2,2,2,2,2,2,2,2,2,2,2,2,2,2,2,2,2,2,2,2,2,2,2,2,2,2,2,2,2,2,2,2,2,2,2,2,2,2,2,2,2,2,2,2,2,2,2,2,2,2,2,2,2,2,2,2,2,2,2,2,2,2,2,2,2,2,2,2,2,2,2,2,2,2,2,2,2,2,2,2,2,2,2,2,2,2,2,2,2,2,2,2,2,2,2,2,2,2,2,2,2,2,2,2,2,2,2,2,2,2,2,2,2,2,2,2,2,2,2,2,2,2,2,2,2,2,2,2,2,2,2,2,2,2,2,2,2,2,2,2,2,2,2,2,2,2,2,2,2,2,2,2,2,2,2,2,2,2,2,2,2,2,2,2,2,2,2,2,2,2,2,2,2,2,2,2,2,2,2,2,2,2,2,2,2,2,2,2,2,2,2,2,2,2,2,2,2,2,2,2,2,2,2,2,2,2,2,2,2,2,2,2,2,2,2,2,2,2,2,2,2,2,2,2,2,2,2,2,2,2,2,2,2,2,2,2,2,2,2,2,2,2,2,2,2,2,2,2,2,2,2,2,2,2,2,2,2,2,2,2,2,2,2,2,2,2,2,2,2,2,2,2,2,2,2,2,2,2,2,2,2,2,2,2,2,2,2,2,2,2,2,2,2,2,2,2,2,2,2,2,2,2,2,2,2,2,2,2,2,2,2,2,2,2,2,2,2,2,2,2,2,2,2,2,2,2,2,2,2,2,2,2,2,2,2,2,2,2,2,2,2,2,2,2,2,2,2,2,2,2,2,2,2,2,2,2,2,2,2,2,2,2,2,2,2,2,2,2,2,2,2,2,2,2,2,2,2,2,2,2,2,2,2,2,2,2,2,2,2,2,2,2,2,2,2,2,2,2,2,2,2,2,2,2,2,2,2,2,2,2,2,2,2,2,2,2,2,2,2,2,2,2,2,2,2,2,2,2,2,2,2,2,2,2,2,2,2,2,2,2,2,2,2,2,2,2,2,2,2,2,2,2,2,2,2,2,2,2,2,2,2,2,2,2,2,2,2,2,2,2,2,2,2,2,2,2,2,2,2,2,2,2,2,2,2,2,2,2,2,2,2,2,2,2,2,2,2,2,2,2,2,2,2,2,2,2,2,2,2,2,2,2,2,2,2,2,2,2,2,2,2,2,2,2,2,2,2,2,2,2,2,2,2,2,2,2,2,2,2,2,2,2,2,2,2,2,2,2,2,2,2,2,2,2,2,2,2,2,2,2,2,2,2,2,2,2,2,2,2,2,2,2,2,2,2,2,2,2,2,2,2,2,2,2,2,2,2,2,2,2,2,2,2,2,2,2,2,2,2,2,2,2,2,2,2,2,2,2,2,2,2,2,2,2,2,2,2,2,2,2,2,2,2,2,2,2,2,2,2,2,2,2,2,2,2,2,2,2,2,2,2,2,2,2,2,2,2,2,2,2,2,2,2,2,2,2,2,2,2,2,2,2,2,2,2,2,2,2,2,2,2,2,2,2,2,2,2,2,2,2,2,2,2,2,2,2,2,2,2,2,2,2,2,2,2,2,2,2,2,2,2,2,2,2,2,2,2,2,2,2,2,2,2,2,2,2,2,2,2,2,2,2,2,2,2,2,2,2,2,2,2,2,2,2,2,2,2,2,2,2,2,2,2,2,2,2,2,2,2,2,2,2,2,2,2,2,2,2,2,2,2,2,2,2,2,2,2,2,2,2,2,2,2,2,2,2,2,2,2,2,2,2,2,2,2,2,2,2,2,2,2,2,2,2,2,2,2,2,2,2,2,2,2,2,2,2,2,2,2,2,2,2,2,2,2,2,2,2,2,2,2,2,2,2,2,2,2,2,2,2,2,2,2,2,2,2,2,2,2,2,2,2,2,2,2,2,2,2,2,2,2,2,2,2,2,2,2,2,2,2,2,2,2,2,2,2,2,2,2,2,2,2,2,2,2,2,2,2,2,2,2,2,2,2,2,2,2,2,2,2,2,2,2,2,2,2,2,2,2,2,2,2,2,2,2,2,2,2,2,2,2,2,2,2,2,2,2,2,2,2,2,2,2,2,2,2,2,2,2,2,2,2,2,2,2,2,2,2,2,2,2,2,2,2,2,2,2,2,2,2,2,2,2,2,2,2,2,2,2,2,2,2,2,2,2,2,2,2,2,2,2,2,2,2,2,2,2,2,2,2,2,2,2,2,2,2,2,2,2,2,2,2,2,2,2,2,2,2,2,2,2,2,2,2,2,2,2,2,2,2,2,2,2,2,2,2,2,2,2,2,2,2,2,2,2,2,2,2,2,2,2,2,2,2,2,2,2,2,2,2,2,2,2,2,2,2,2,2,2,2,2,2,2,2,2,2,2,2,2,2,2,2,2,2,2,2,2,2,2,2,2,2,2,2,2,2,2,2,2,2,2,2,2,2,2,2,2,2,2,2,2,2,2,2,2,2,2,2,2,2,2,2,2,2,2,2,2,2,2,2,2,2,2,2,2,2,2,2,2,2,2,2,2,2,2,2,2,2,2,2,2,2,2,2,2,2,2,2,2,2,2,2,2,2,2,2,2,2,2,2,2,2,2,2,2,2,2,2,2,2,2,2,2,2,2,2,2,2,2,2,2,2,2,2,2,2,2,2,2,2,2,2,2,2,2,2,2,2,2,2,2,2,2,2,2,2,2,2,2,2,2,2,2,2,2,2,2,2,2,2,2,2,2,2,2,2,2,2,2,2,2,2,2,2,2,2,2,2,2,2,2,2,2,2,2,2,2,2,2,2,2,2,2,2,2,2,2,2,2,2,2,2,2,2,2,2,2,2,2,2,2,2,2,2,2,2,2,2,2,2,2,2,2,2,2,2,2,2,2,2,2,2,2,2,2,2,2,2,2,2,2,2,2,2,2,2,2,2,2,2,2,2,2,2,2,2,2,2,2,2,2,2,2,2,2,2,2,2,2,2,2,2,2,2,2,2,2,2,2,2,2,2,2,2,2,2,2,2,2,2,2,2,2,2,2,2,2,2,2,2,2,2,2,2,2,2,2,2,2,2,2,2,2,2,2,2,2,2,2,2,2,2,2,2,2,2,2,2,2,2,2,2,2,2,2,2,2,2,2,2,2,2,2,2,2,2,2,2,2,2,2,2,2,2,2,2,2,2,2,2,2,2,2,2,2,2,2,2,2,2,2,2,2,2,2,2,2,2,2,2,2,2,2,2,2,2,2,2,2,2,2,2,2,2,2,2,2,2,2,2,2,2,2,2,2,2,2,2,2,2,2,2,2,2,2,2,2,2,2,2,2,2,2,2,2,2,2,2,2,2,2,2,2,2,2,2,2,2,2,2,2,2,2,2,2,2,2,2,2,2,2,2,2,2,2,2,2,2,2,2,2,2,2,2,2,2,2,2,2,2,2,2,2,2,2,2,2,2,2,2,2,2,2,2,2,2,2,2,2,2,2,2,2,2,2,2,2,2,2,2,2,2,2,2,2,2,2,2,2,2,2,2,2,2,2,2,2,2,2,2,2,2,2,2,2,2,2,2,2,2,2,2,2,2,2,2,2,2,2,2,2,2,2,2,2,2,2,2,2,2,2,2,2,2,2,2,2,2,2,2,2,2,2,2,2,2,2,2,2,2,2,2,2,2,2,2,2,2,2,2,2,2,2,2,2,2,2,2,2,2,2,2,2,2,2,2,2,2,2,2,2,2,2,2,2,2,2,2,2,2,2,2,2,2,2,2,2,2,2,2,2,2,2,2,2,2,2,2,2,2,2,2,2,2,2,2,2,2,2,2,2,2,2,2,2,2,2,2,2,2,2,2,2,2,2,2,2,2,2,2,2,2,2,2,2,2,2,2,2,2,2,2,2,2,2,2,2,2,2,2,2,2,2,2,2,2,2,2,2,2,2,2,2,2,2,2,2,2,2,2,2,2,2,2,2,2,2,2,2,2,2,2,2,2,2,2,2,2,2,2,2,2,2,2,2,2,2,2,2,2,2,2,2,2,2,2,2,2,2,2,2,2,2,2,2,2,2,2,2,2,2,2,2,2,2,2,2,2,2,2,2,2,2,2,2,2,2,2,2,2,2,2,2,2,2,2,2,2,2,2,2,2,2,2,2,2,2,2,2,2,2,2,2,2,2,2,2,2,2,2,2,2,2,2,2,2,2,2,2,2,2,2,2,2,2,2,2,2,2,2,2,2,2,2,2,2,2,2,2,2,2,2,2,2,2,2,2,2,2,2,2,2,2,2,2,2,2,2,2,2,2,2,2,2,2,2,2,2,2,2,2,2,2,2,2,2,2,2,2,2,2,2,2,2,2,2,2,2,2,2,2,2,2,2,2,2,2,2,2,2,2,2,2,2,2,2,2,2,2,2,2,2,2,2,2,2,2,2,2,2,2,2,2,2,2,2,2,2,2,2,2,2,2,2,2,2,2,2,2,2,2,2,2,2,2,2,2,2,2,2,2,2,2,2,2,2,2,2,2,2,2,2,2,2,2,2,2,2,2,2,2,2,2,2,2,2,2,2,2,2,2,2,2,2,2,2,2,2,2,2,2,2,2,2,2,2,2,2,2,2,2,2,2,2,2,2,2,2,2,2,2,2,2,2,2,2,2,2,2,2,2,2,2,2,2,2,2,2,2,2,2,2,2,2,2,2,2,2,2,2,2,2,2,2,2,2,2,2,2,2,2,2,2,2,2,2,2,2,2,2,2,2,2,2,2,2,2,2,2,2,2,2,2,2,2,2,2,2,2,2,2,2,2,2,2,2,2,2,2,2,2,2,2,2,2,2,2,2,2,2,2,2,2,2,2,2,2,2,2,2,2,2,2,2,2,2,2,2,2,2,2,2,2,2,2,2,2,2,2,2,2,2,2,2,2,2,2,2,2,2,2,2,2,2,2,2,2,2,2,2,2,2,2,2,2,2,2,2,2,2,2,2,2,2,2,2,2,2,2,2,2,2,2,2,2,2,2,2,2,2,2,2,2,2,2,2,2,2,2,2,2,2,2,2,2,2,2,2,2,2,2,2,2,2,2,2,2,2,2,2,2,2,2,2,2,2,2,2,2,2,2,2,2,2,2,2,2,2,2,2,2,2,2,2,2,2,2,2,2,2,2,2,2,2,2,2,2,2,2,2,2,2,2,2,2,2,2,2,2,2,2,2,2,2,2,2,2,2,2,2,2,2,2,2,2,2,2,2,2,2,2,2,2,2,2,2,2,2,2,2,2,2,2,2,2,2,2,2,2,2,2,2,2,2,2,2,2,2,2,2,2,2,2,2,2,2,2,2,2,2,2,2,2,2,2,2,2,2,2,2,2,2,2,2,2,2,2,2,2,2,2,2,2,2,2,2,2,2,2,2,2,2,2,2,2,2,2,2,2,2,2,2,2,2,2,2,2,2,2,2,2,2,2,2,2,2,2,2,2,2,2,2,2,2,2,2,2,2,2,2,2,2,2,2,2,2,2,2,2,2,2,2,2,2,2,2,2,2,2,2,2,2,2,2,2,2,2,2,2,2,2,2,2,2,2,2,2,2,2,2,2,2,2,2,2,2,2,2,2,2,2,2,2,2,2,2,2,2,2,2,2,2,2,2,2,2,2,2,2,2,2,2,2,2,2,2,2,2,2,2,2,2,2,2,2,2,2,2,2,2,2,2,2,2,2,2,2,2,2,2,2,2,2,2,2,2,2,2,2,2,2,2,2,2,2,2,2,2,2,2,2,2,2,2,2,2,2,2,2,2,2,2,2,2,2,2,2,2,2,2,2,2,2,2,2,2,2,2,2,2,2,2,2,2,2,2,2,2,2,2,2,2,2,2,2,2,2,2,2,2,2,2,2,2,2,2,2,2,2,2,2,2,2,2,2,2,2,2,2,2,2,2,2,2,2,2,2,2,2,2,2,2,2,2,2,2,2,2,2,2,2,2,2,2,2,2,2,2,2,2,2,2,2,2,2,2,2,2,2,2,2,2,2,2,2,2,2,2,2,2,2,2,2,2,2,2,2,2,2,2,2,2,2,2,2,2,2,2,2,2,2,2,2,2,2,2,2,2,2,2,2,2,2,2,2,2,2,2,2,2,2,2,2,2,2,2,2,2,2,2,2,2,2,2,2,2,2,2,2,2,2,2,2,2,2,2,2,2,2,2,2,2,2,2,2,2,2,2,2,2,2,2,2,2,2,2,2,2,2,2,2,2,2,2,2,2,2,2,2,2,2,2,2,2,2,2,2,2,2,2,2,2,2,2,2,2,2,2,2,2,2,2,2,2,2,2,2,2,2,2,2,2,2,2,2,2,2,2,2,2,2,2,2,2,2,2,2,2,2,2,2,2,2,2,2,2,2,2,2,2,2,2,2,2,2,2,2,2,2,2,2,2,2,2,2,2,2,2,2,2,2,2,2,2,2,2,2,2,2,2,2,2,2,2,2,2,2,2,2,2,2,2,2,2,2,2,2,2,2,2,2,2,2,2,2,2,2,2,2,2,2,2,2,2,2,2,2,2,2,2,2,2,2,2,2,2,2,2,2,2,2,2,2,2,2,2,2,2,2,2,2,2,2,2,2,2,2,2,2,2,2,2,2,2,2,2,2,2,2,2,2,2,2,2,2,2,2,2,2,2,2,2,2,2,2,2,2,2,2,2,2,2,2,2,2,2,2,2,2,2,2,2,2,2,2,2,2,2,2,2,2,2,2,2,2,2,2,2,2,2,2,2,2,2,2,2,2,2,2,2,2,2,2,2,2,2,2,2,2,2,2,2,2,2,2,2,2,2,2,2,2,2,2,2,2,2,2,2,2,2,2,2,2,2,2,2,2,2,2,2,2,2,2,2,2,2,2,2,2,2,2,2,2,2,2,2,2,2,2,2,2,2,2,2,2,2,2,2,2,2,2,2,2,2,2,2,2,2,2,2,2,2,2,2,2,2,2,2,2,2,2,2,2,2,2,2,2,2,2,2,2,2,2,2,2,2,2,2,2,2,2,2,2,2,2,2,2,2,2,2,2,2,2,2,2,2,2,2,2,2,2,2,2,2,2,2,2,2,2,2,2,2,2,2,2,2,2,2,2,2,2,2,2,2,2,2,2,2,2,2,2,2,2,2,2,2,2,2,2,2,2,2,2,2,2,2,2,2,2,2,2,2,2,2,2,2,2,2,2,2,2,2,2,2,2,2,2,2,2,2,2,2,2,2,2,2,2,2,2,2,2,2,2,2,2,2,2,2,2,2,2,2,2,2,2,2,2,2,2,2,2,2,2,2,2,2,2,2,2,2,2,2,2,2,2,2,2,2,2,2,2,2,2,2,2,2,2,2,2,2,2,2,2,2,2,2,2,2,2,2,2,2,2,2,2,2,2,2,2,2,2,2,2,2,2,2,2,2,2,2,2,2,2,2,2,2,2,2,2,2,2,2,2,2,2,2,2,2,2,2,2,2,2,2,2,2,2,2,2,2,2,2,2,2,2,2,2,2,2,2,2,2,2,2,2,2,2,2,2,2,2,2,2,2,2,2,2,2,2,2,2,2,2,2,2,2,2,2,2,2,2,2,2,2,2,2,2,2,2,2,2,2,2,2,2,2,2,2,2,2,2,2,2,2,2,2,2,2,2,2,2,2,2,2,2,2,2,2,2,2,2,2,2,2,2,2,2,2,2,2,2,2,2,2,2,2,2,2,2,2,2,2,2,2,2,2,2,2,2,2,2,2,2,2,2,2,2,2,2,2,2,2,2,2,2,2,2,2,2,2,2,2,2,2,2,2,2,2,2,2,2,2,2,2,2,2,2,2,2,2,2,2,2,2,2,2,2,2,2,2,2,2,2,2,2,2,2,2,2,2,2,2,2,2,2,2,2,2,2,2,2,2,2,2,2,2,2,2,2,2,2,2,2,2,2,2,2,2,2,2,2,2,2,2,2,2,2,2,2,2,2,2,2,2,2,2,2,2,2,2,2,2,2,2,2,2,2,2,2,2,2,2,2,2,2,2,2,2,2,2,2,2,2,2,2,2,2,2,2,2,2,2,2,2,2,2,2,2,2,2,2,2,2,2,2,2,2,2,2,2,2,2,2,2,2,2,2,2,2,2,2,2,2,2,2,2,2,2,2,2,2,2,2,2,2,2,2,2,2,2,2,2,2,2,2,2,2,2,2,2,2,2,2,2,2,2,2,2,2,2,2,2,2,2,2,2,2,2,2,2,2,2,2,2,2,2,2,2,2,2,2,2,2,2,2,2,2,2,2,2,2,2,2,2,2,2,2,2,2,2,2,2,2,2,2,2,2,2,2,2,2,2,2,2,2,2,2,2,2,2,2,2,2,2,2,2,2,2,2,2,2,2,2,2,2,2,2,2,2,2,2,2,2,2,2,2,2,2,2,2,2,2,2,2,2,2,2,2,2,2,2,2,2,2,2,2,2,2,2,2,2,2,2,2,2,2,2,2,2,2,2,2,2,2,2,2,2,2,2,2,2,2,2,2,2,2,2,2,2,2,2,2,2,2,2,2,2,2,2,2,2,2,2,2,2,2,2,2,2,2,2,2,2,2,2,2,2,2,2,2,2,2,2,2,2,2,2,2,2,2,2,2,2,2,2,2,2,2,2,2,2,2,2,2,2,2,2,2,2,2,2,2,2,2,2,2,2,2,2,2,2,2,2,2,2,2,2,2,2,2,2,2,2,2,2,2,2,2,2,2,2,2,2,2,2,2,2,2,2,2,2,2,2,2,2,2,2,2,2,2,2,2,2,2,2,2,2,2,2,2,2,2,2,2,2,2,2,2,2,2,2,2,2,2,2,2,2,2,2,2,2,2,2,2,2,2,2,2,2,2,2,2,2,2,2,2,2,2,2,2,2,2,2,2,2,2,2,2,2,2,2,2,2,2,2,2,2,2,2,2,2,2,2,2,2,2,2,2,2,2,2,2,2,2,2,2,2,2,2,2,2,2,2,2,2,2,2,2,2,2,2,2,2,2,2,2,2,2,2,2,2,2,2,2,2,2,2,2,2,2,2,2,2,2,2,2,2,2,2,2,2,2,2,2,2,2,2,2,2,2,2,2,2,2,2,2,2,2,2,2,2,2,2,2,2,2,2,2,2,2,2,2,2,2,2,2,2,2,2,2,2,2,2,2,2,2,2,2,2,2,2,2,2,2,2,2,2,2,2,2,2,2,2,2,2,2,2,2,2,2,2,2,2,2,2,2,2,2,2,2,2,2,2,2,2,2,2,2,2,2,2,2,2,2,2,2,2,2,2,2,2,2,2,2,2,2,2,2,2,2,2,2,2,2,2,2,2,2,2,2,2,2,2,2,2,2,2,2,2,2,2,2,2,2,2,2,2,2,2,2,2,2,2,2,2,2,2,2,2,2,2,2,2,2,2,2,2,2,2,2,2,2,2,2,2,2,2,2,2,2,2,2,2,2,2,2,2,2,2,2,2,2,2,2,2,2,2,2,2,2,2,2,2,2,2,2,2,2,2,2,2,2,2,2,2,2,2,2,2,2,2,2,2,2,2,2,2,2,2,2,2,2,2,2,2,2,2,2,2,2,2,2,2,2,2,2,2,2,2,2,2,2,2,2,2,2,2,2,2,2,2,2,2,2,2,2,2,2,2,2,2,2,2,2,2,2,2,2,2,2,2,2,2,2,2,2,2,2,2,2,2,2,2,2,2,2,2,2,2,2,2,2,2,2,2,2,2,2,2,2,2,2,2,2,2,2,2,2,2,2,2,2,2,2,2,2,2,2,2,2,2,2,2,2,2,2,2,2,2,2,2,2,2,2,2,2,2,2,2,2,2,2,2,2,2,2,2,2,2,2,2,2,2,2,2,2,2,2,2,2,2,2,2,2,2,2,2,2,2,2,2,2,2,2,2,2,2,2,2,2,2,2,2,2,2,2,2,2,2,2,2,2,2,2,2,2,2,2,2,2,2,2,2,2,2,2,2,2,2,2,2,2,2,2,2,2,2,2,2,2,2,2,2,2,2,2,2,2,2,2,2,2,2,2,2,2,2,2,2,2,2,2,2,2,2,2,2,2,2,2,2,2,2,2,2,2,2,2,2,2,2,2,2,2,2,2,2,2,2,2,2,2,2,2,2,2,2,2,2,2,2,2,2,2,2,2,2,2,2,2,2,2,2,2,2,2,2,2,2,2,2,2,2,2,2,2,2,2,2,2,2,2,2,2,2,2,2,2,2,2,2,2,2,2,2,2,2,2,2,2,2,2,2,2,2,2,2,2,2,2,2,2,2,2,2,2,2,2,2,2,2,2,2,2,2,2,2,2,2,2,2,2,2,2,2,2,2,2,2,2,2,2,2,2,2,2,2,2,2,2,2,2,2,2,2,2,2,2,2,2,2,2,2,2,2,2,2,2,2,2,2,2,2,2,2,2,2,2,2,2,2,2,2,2,2,2,2,2,2,2,2,2,2,2,2,2,2,2,2,2,2,2,2,2,2,2,2,2,2,2,2,2,2,2,2,2,2,2,2,2,2,2,2,2,2,2,2,2,2,2,2,2,2,2,2,2,2,2,2,2,2,2,2,2,2,2,2,2,2,2,2,2,2,2,2,2,2,2,2,2,2,2,2,2,2,2,2,2,2,2,2,2,2,2,2,2,2,2,2,2,2,2,2,2,2,2,2,2,2,2,2,2,2,2,2,2,2,2,2,2,2,2,2,2,2,2,2,2,2,2,2,2,2,2,2,2,2,2,2,2,2,2,2,2,2,2,2,2,2,2,2,2,2,2,2,2,2,2,2,2,2,2,2,2,2,2,2,2,2,2,2,2,2,2,2,2,2,2,2,2,2,2,2,2,2,2,2,2,2,2,2,2,2,2,2,2,2,2,2,2,2,2,2,2,2,2,2,2,2,2,2,2,2,2,2,2,2,2,2,2,2,2,2,2,2,2,2,2,2,2,2,2,2,2,2,2,2,2,2,2,2,2,2,2,2,2,2,2,2,2,2,2,2,2,2,2,2,2,2,2,2,2,2,2,2,2,2,2,2,2,2,2,2,2,2,2,2,2,2,2,2,2,2,2,2,2,2,2,2,2,2,2,2,2,2,2,2,2,2,2,2,2,2,2,2,2,2,2,2,2,2,2,2,2,2,2,2,2,2,2,2,2,2,2,2,2,2,2,2,2,2,2,2,2,2,2,2,2,2,2,2,2,2,2,2,2,2,2,2,2,2,2,2,2,2,2,2,2,2,2,2,2,2,2,2,2,2,2,2,2,2,2,2,2,2,2,2,2,2,2,2,2,2,2,2,2,2,2,2,2,2,2,2,2,2,2,2,2,2,2,2,2,2,2,2,2,2,2,2,2,2,2,2,2,2,2,2,2,2,2,2,2,2,2,2,2,2,2,2,2,2,2,2,2,2,2,2,2,2,2,2,2,2,2,2,2,2,2,2,2,2,2,2,2,2,2,2,2,2,2,2,2,2,2,2,2,2,2,2,2,2,2,2,2,2,2,2,2,2,2,2,2,2,2,2,2,2,2,2,2,2,2,2,2,2,2,2,2,2,2,2,2,2,2,2,2,2,2,2,2,2,2,2,2,2,2,2,2,2,2,2,2,2,2,2,2,2,2,2,2,2,2,2,2,2,2,2,2,2,2,2,2,2,2,2,2,2,2,2,2,2,2,2,2,2,2,2,2,2,2,2,2,2,2,2,2,2,2,2,2,2,2,2,2,2,2,2,2,2,2,2,2,2,2,2,2,2,2,2,2,2,2,2,2,2,2,2,2,2,2,2,2,2,2,2,2,2,2,2,2,2,2,2,2,2,2,2,2,2,2,2,2,2,2,2,2,2,2,2,2,2,2,2,2,2,2,2,2,2,2,2,2,2,2,2,2,2,2,2,2,2,2,2,2,2,2,2,2,2,2,2,2,2,2,2,2,2,2,2,2,2,2,2,2,2,2,2,2,2,2,2,2,2,2,2,2,2,2,2,2,2,2,2,2,2,2,2,2,2,2,2,2,2,2,2,2,2,2,2,2,2,2,2,2,2,2,2,2,2,2,2,2,2,2,2,2,2,2,2,2,2,2,2,2,2,2,2,2,2,2,2,2,2,2,2,2,2,2,2,2,2,2,2,2,2,2,2,2,2,2,2,2,2,2,2,2,2,2,2,2,2,2,2,2,2,2,2,2,2,2,2,2,2,2,2,2,2,2,2,2,2,2,2,2,2,2,2,2,2,2,2,2,2,2,2,2,2,2,2,2,2,2,2,2,2,2,2,2,2,2,2,2,2,2,2,2,2,2,2,2,2,2,2,2,2,2,2,2,2,2,2,2,2,2,2,2,2,2,2,2,2,2,2,2,2,2,2,2,2,2,2,2,2,2,2,2,2,2,2,2,2,2,2,2,2,2,2,2,2,2,2,2,2,2,2,2,2,2,2,2,2,2,2,2,2,2,2,2,2,2,2,2,2,2,2,2,2,2,2,2,2,2,2,2,2,2,2,2,2,2,2,2,2,2,2,2,2,2,2,2,2,2,2,2,2,2,2,2,2,2,2,2,2,2,2,2,2,2,2,2,2,2,2,2,2,2,2,2,2,2,2,2,2,2,2,2,2,2,2,2,2,2,2,2,2,2,2,2,2,2,2,2,2,2,2,2,2,2,2,2,2,2,2,2,2,2,2,2,2,2,2,2,2,2,2,2,2,2,2,2,2,2,2,2,2,2,2,2,2,2,2,2,2,2,2,2,2,2,2,2,2,2,2,2,2,2,2,2,2,2,2,2,2,2,2,2,2,2,2,2,2,2,2,2,2,2,2,2,2,2,2,2,2,2,2,2,2,2,2,2,2,2,2,2,2,2,2,2,2,2,2,2,2,2,2,2,2,2,2,2,2,2,2,2,2,2,2,2,2,2,2,2,2,2,2,2,2,2,2,2,2,2,2,2,2,2,2,2,2,2,2,2,2,2,2,2,2,2,2,2,2,2,2,2,2,2,2,2,2,2,2,2,2,2,2,2,2,2,2,2,2,2,2,2,2,2,2,2,2,2,2,2,2,2,2,2,2,2,2,2,2,2,2,2,2,2,2,2,2,2,2,2,2,2,2,2,2,2,2,2,2,2,2,2,2,2,2,2,2,2,2,2,2,2,2,2,2,2,2,2,2,2,2,2,2,2,2,2,2,2,2,2,2,2,2,2,2,2,2,2,2,2,2,2,2,2,2,2,2,2,2,2,2,2,2,2,2,2,2,2,2,2,2,2,2,2,2,2,2,2,2,2,2,2,2,2,2,2,2,2,2,2,2,2,2,2,2,2,2,2,2,2,2,2,2,2,2,2,2,2,2,2,2,2,2,2,2,2,2,2,2,2,2,2,2,2,2,2,2,2,2,2,2,2,2,2,2,2,2,2,2,2,2,2,2,2,2,2,2,2,2,2,2,2,2,2,2,2,2,2,2,2,2,2,2,2,2,2,2,2,2,2,2,2,2,2,2,2,2,2,2,2,2,2,2,2,2,2,2,2,2,2,2,2,2,2,2,2,2,2,2,2,2,2,2,2,2,2,2,2,2,2,2,2,2,2,2,2,2,2,2,2,2,2,2,2,2,2,2,2,2,2,2,2,2,2,2,2,2,2,2,2,2,2,2,2,2,2,2,2,2,2,2,2,2,2,2,2,2,2,2,2,2,2,2,2,2,2,2,2,2,2,2,2,2,2,2,2,2,2,2,2,2,2,2,2,2,2,2,2,2,2,2,2,2,2,2,2,2,2,2,2,2,2,2,2,2,2,2,2,2,2,2,2,2,2,2,2,2,2,2,2,2,2,2,2,2,2,2,2,2,2,2,2,2,2,2,2,2,2,2,2,2,2,2,2,2,2,2,2,2,2,2,2,2,2,2,2,2,2,2,2,2,2,2,2,2,2,2,2,2,2,2,2,2,2,2,2,2,2,2,2,2,2,2,2,2,2,2,2,2,2,2,2,2,2,2,2,2,2,2,2,2,2,2,2,2,2,2,2,2,2,2,2,2,2,2,2,2,2,2,2,2,2,2,2,2,2,2,2,2,2,2,2,2,2,2,2,2,2,2,2,2,2,2,2,2,2,2,2,2,2,2,2,2,2,2,2,2,2,2,2,2,2,2,2,2,2,2,2,2,2,2,2,2,2,2,2,2,2,2,2,2,2,2,2,2,2,2,2,2,2,2,2,2,2,2,2,2,2,2,2,2,2,2,2,2,2,2,2,2,2,2,2,2,2,2,2,2,2,2,2,2,2,2,2,2,2,2,2,2,2,2,2,2,2,2,2,2,2,2,2,2,2,2,2,2,2,2,2,2,2,2,2,2,2,2,2,2,2,2,2,2,2,2,2,2,2,2,2,2,2,2,2,2,2,2,2,2,2,2,2,2,2,2,2,2,2,2,2,2,2,2,2,2,2,2,2,2,2,2,2,2,2,2,2,2,2,2,2,2,2,2,2,2,2,2,2,2,2,2,2,2,2,2,2,2,2,2,2,2,2,2,2,2,2,2,2,2,2,2,2,2,2,2,2,2,2,2,2,2,2,2,2,2,2,2,2,2,2,2,2,2,2,2,2,2,2,2,2,2,2,2,2,2,2,2,2,2,2,2,2,2,2,2,2,2,2,2,2,2,2,2,2,2,2,2,2,2,2,2,2,2,2,2,2,2,2,2,2,2,2,2,2,2,2,2,2,2,2,2,2,2,2,2,2,2,2,2,2,2,2,2,2,2,2,2,2,2,2,2,2,2,2,2,2,2,2,2,2,2,2,2,2,2,2,2,2,2,2,2,2,2,2,2,2,2,2,2,2,2,2,2,2,2,2,2,2,2,2,2,2,2,2,2,2,2,2,2,2,2,2,2,2,2,2,2,2,2,2,2,2,2,2,2,2,2,2,2,2,2,2,2,2,2,2,2,2,2,2,2,2,2,2,2,2,2,2,2,2,2,2,2,2,2,2,2,2,2,2,2,2,2,2,2,2,2,2,2,2,2,2,2,2,2,2,2,2,2,2,2,2,2,2,2,2,2,2,2,2,2,2,2,2,2,2,2,2,2,2,2,2,2,2,2,2,2,2,2,2,2,2,2,2,2,2,2,2,2,2,2,2,2,2,2,2,2,2,2,2,2,2,2,2,2,2,2,2,2,2,2,2,2,2,2,2,2,2,2,2,2,2,2,2,2,2,2,2,2,2,2,2,2,2,2,2,2,2,2,2,2,2,2,2,2,2,2,2,2,2,2,2,2,2,2,2,2,2,2,2,2,2,2,2,2,2,2,2,2,2,2,2,2,2,2,2,2,2,2,2,2,2,2,2,2,2,2,2,2,2,2,2,2,2,2,2,2,2,2,2,2,2,2,2,2,2,2,2,2,2,2,2,2,2,2,2,2,2,2,2,2,2,2,2,2,2,2,2,2,2,2,2,2,2,2,2,2,2,2,2,2,2,2,2,2,2,2,2,2,2,2,2,2,2,2,2,2,2,2,2,2,2,2,2,2,2,2,2,2,2,2,2,2,2,2,2,2,2,2,2,2,2,2,2,2,2,2,2,2,2,2,2,2,2,2,2,2,2,2,2,2,2,2,2,2,2,2,2,2,2,2,2,2,2,2,2,2,2,2,2,2,2,2,2,2,2,2,2,2,2,2,2,2,2,2,2,2,2,2,2,2,2,2,2,2,2,2,2,2,2,2,2,2,2,2,2,2,2,2,2,2,2,2,2,2,2,2,2,2,2,2,2,2,2,2,2,2,2,2,2,2,2,2,2,2,2,2,2,2,2,2,2,2,2,2,2,2,2,2,2,2,2,2,2,2,2,2,2,2,2,2,2,2,2,2,2,2,2,2,2,2,2,2,2,2,2,2,2,2,2,2,2,2,2,2,2,2,2,2,2,2,2,2,2,2,2,2,2,2,2,2,2,2,2,2,2,2,2,2,2,2,2,2,2,2,2,2,2,2,2,2,2,2,2,2,2,2,2,2,2,2,2,2,2,2,2,2,2,2,2,2,2,2,2,2,2,2,2,2,2,2,2,2,2,2,2,2,2,2,2,2,2,2,2,2,2,2,2,2,2,2,2,2,2,2,2,2,2,2,2,2,2,2,2,2,2,2,2,2,2,2,2,2,2,2,2,2,2,2,2,2,2,2,2,2,2,2,2,2,2,2,2,2,2,2,2,2,2,2,2,2,2,2,2,2,2,2,2,2,2,2,2,2,2,2,2,2,2,2,2,2,2,2,2,2,2,2,2,2,2,2,2,2,2,2,2,2,2,2,2,2,2,2,2,2,2,2,2,2,2,2,2,2,2,2,2,2,2,2,2,2,2,2,2,2,2,2,2,2,2,2,2,2,2,2,2,2,2,2,2,2,2,2,2,2,2,2,2,2,2,2,2,2,2,2,2,2,2,2,2,2,2,2,2,2,2,2,2,2,2,2,2,2,2,2,2,2,2,2,2,2,2,2,2,2,2,2,2,2,2,2,2,2,2,2,2,2,2,2,2,2,2,2,2,2,2,2,2,2,2,2,2,2,2,2,2,2,2,2,2,2,2,2,2,2,2,2,2,2,2,2,2,2,2,2,2,2,2,2,2,2,2,2,2,2,2,2,2,2,2,2,2,2,2,2,2,2,2,2,2,2,2,2,2,2,2,2,2,2,2,2,2,2,2,2,2,2,2,2,2,2,2,2,2,2,2,2,2,2,2,2,2,2,2,2,2,2,2,2,2,2,2,2,2,2,2,2,2,2,2,2,2,2,2,2,2,2,2,2,2,2,2,2,2,2,2,2,2,2,2,2,2,2,2,2,2,2,2,2,2,2,2,2,2,2,2,2,2,2,2,2,2,2,2,2,2,2,2,2,2,2,2,2,2,2,2,2,2,2,2,2,2,2,2,2,2,2,2,2,2,2,2,2,2,2,2,2,2,2,2,2,2,2,2,2,2,2,2,2,2,2,2,2,2,2,2,2,2,2,2,2,2,2,2,2,2,2,2,2,2,2,2,2,2,2,2,2,2,2,2,2,2,2,2,2,2,2,2,2,2,2,2,2,2,2,2,2,2,2,2,2,2,2,2,2,2,2,2,2,2,2,2,2,2,2,2,2,2,2,2,2,2,2,2,2,2,2,2,2,2,2,2,2,2,2,2,2,2,2,2,2,2,2,2,2,2,2,2,2,2,2,2,2,2,2,2,2,2,2,2,2,2,2,2,2,2,2,2,2,2,2,2,2,2,2,2,2,2,2,2,2,2,2,2,2,2,2,2,2,2,2,2,2,2,2,2,2,2,2,2,2,2,2,2,2,2,2,2,2,2,2,2,2,2,2,2,2,2,2,2,2,2,2,2,2,2,2,2,2,2,2,2,2,2,2,2,2,2,2,2,2,2,2,2,2,2,2,2,2,2,2,2,2,2,2,2,2,2,2,2,2,2,2,2,2,2,2,2,2,2,2,2,2,2,2,2,2,2,2,2,2,2,2,2,2,2,2,2,2,2,2,2,2,2,2,2,2,2,2,2,2,2,2,2,2,2,2,2,2,2,2,2,2,2,2,2,2,2,2,2,2,2,2,2,2,2,2,2,2,2,2,2,2,2,2,2,2,2,2,2,2,2,2,2,2,2,2,2,2,2,2,2,2,2,2,2,2,2,2,2,2,2,2,2,2,2,2,2,2,2,2,2,2,2,2,2,2,2,2,2,2,2,2,2,2,2,2,2,2,2,2,2,2,2,2,2,2,2,2,2,2,2,2,2,2,2,2,2,2,2,2,2,2,2,2,2,2,2,2,2,2,2,2,2,2,2,2,2,2,2,2,2,2,2,2,2,2,2,2,2,2,2,2,2,2,2,2,2,2,2,2,2,2,2,2,2,2,2,2,2,2,2,2,2,2,2,2,2,2,2,2,2,2,2,2,2,2,2,2,2,2,2,2,2,2,2,2,2,2,2,2,2,2,2,2,2,2,2,2,2,2,2,2,2,2,2,2,2,2,2,2,2,2,2,2,2,2,2,2,2,2,2,2,2,2,2,2,2,2,2,2,2,2,2,2,2,2,2,2,2,2,2,2,2,2,2,2,2,2,2,2,2,2,2,2,2,2,2,2,2,2,2,2,2,2,2,2,2,2,2,2,2,2,2,2,2,2,2,2,2,2,2,2,2,2,2,2,2,2,2,2,2,2,2,2,2,2,2,2,2,2,2,2,2,2,2,2,2,2,2,2,2,2,2,2,2,2,2,2,2,2,2,2,2,2,2,2,2,2,2,2,2,2,2,2,2,2,2,2,2,2,2,2,2,2,2,2,2,2,2,2,2,2,2,2,2,2,2,2,2,2,2,2,2,2,2,2,2,2,2,2,2,2,2,2,2,2,2,2,2,2,2,2,2,2,2,2,2,2,2,2,2,2,2,2,2,2,2,2,2,2,2,2,2,2,2,2,2,2,2,2,2,2,2,2,2,2,2,2,2,2,2,2,2,2,2,2,2,2,2,2,2,2,2,2,2,2,2,2,2,2,2,2,2,2,2,2,2,2,2,2,2,2,2,2,2,2,2,2,2,2,2,2,2,2,2,2,2,2,2,2,2,2,2,2,2,2,2,2,2,2,2,2,2,2,2,2,2,2,2,2,2,2,2,2,2,2,2,2,2,2,2,2,2,2,2,2,2,2,2,2,2,2,2,2,2,2,2,2,2,2,2,2,2,2,2,2,2,2,2,2,2,2,2,2,2,2,2,2,2,2,2,2,2,2]"
      ]
    },
    {
      "cell_type": "code",
      "execution_count": 22,
      "metadata": {},
      "outputs": [
        {
          "name": "stdout",
          "output_type": "stream",
          "text": [
            "2\n"
          ]
        }
      ],
      "source": [
        "# https://leetcode.com/problems/majority-element/\n",
        "\n",
        "# nums = [2,2,1,1,1,2,2]\n",
        "\n",
        "# val_cnt = dict()\n",
        "\n",
        "# for val in nums:\n",
        "#     val_cnt[val] = nums.count(val)\n",
        "\n",
        "# print(val_cnt)\n",
        "\n",
        "# recurr_val = 0\n",
        "# for keys in val_cnt:\n",
        "#     if val_cnt[keys] == max(val_cnt.values()):\n",
        "#         recurr_val = keys\n",
        "#         break\n",
        "\n",
        "# print(recurr_val)\n",
        "\n",
        "for i in set(nums):\n",
        "    if nums.count(i)>(len(nums)/2.0):\n",
        "        print(i)\n",
        "        \n",
        "        #return(i)"
      ]
    },
    {
      "cell_type": "code",
      "execution_count": 24,
      "metadata": {},
      "outputs": [
        {
          "name": "stdout",
          "output_type": "stream",
          "text": [
            "False\n"
          ]
        }
      ],
      "source": [
        "# https://leetcode.com/problems/valid-anagram/\n",
        "\n",
        "s = \"anagram\"\n",
        "t = \"nagaram\"\n",
        "\n",
        "s = \"rat\"\n",
        "t = \"car\"\n",
        "\n",
        "if s == t : \n",
        "    print('True')\n",
        "else: \n",
        "    if sorted(s) == sorted(t): \n",
        "        print('True')\n",
        "    else : \n",
        "        print('False') "
      ]
    },
    {
      "cell_type": "code",
      "execution_count": 34,
      "metadata": {},
      "outputs": [
        {
          "name": "stdout",
          "output_type": "stream",
          "text": [
            "(3, 2)\n",
            "(2, 1)\n",
            "[3]\n"
          ]
        }
      ],
      "source": [
        "# https://leetcode.com/problems/majority-element-ii/\n",
        "\n",
        "import collections\n",
        "from typing import Counter\n",
        "\n",
        "nums = [3,2,3]\n",
        "\n",
        "most_common_dict = Counter(nums).most_common()\n",
        "common_vals = []\n",
        "\n",
        "for val in most_common_dict: \n",
        "    print(val)\n",
        "    if val[1] > len(nums)//3 : \n",
        "        common_vals.append(val[0])\n",
        "    else:\n",
        "        continue\n",
        "\n",
        "print(common_vals)"
      ]
    },
    {
      "cell_type": "code",
      "execution_count": null,
      "metadata": {},
      "outputs": [],
      "source": [
        "# https://leetcode.com/problems/nearest-exit-from-entrance-in-maze/"
      ]
    },
    {
      "cell_type": "code",
      "execution_count": 29,
      "metadata": {},
      "outputs": [
        {
          "name": "stdout",
          "output_type": "stream",
          "text": [
            "[1, 2, 4]\n"
          ]
        }
      ],
      "source": [
        "# dailuy challange : 14 oct 2022 : https://leetcode.com/problems/delete-the-middle-node-of-a-linked-list/\n",
        "\n",
        "head = [1,3,4,7,1,2,6]\n",
        "head = [2,1]\n",
        "head = [1,2,3,4]\n",
        "\n",
        "mid = len(head)//2\n",
        "\n",
        "head.pop(mid)\n",
        "\n",
        "print(head)"
      ]
    },
    {
      "cell_type": "code",
      "execution_count": null,
      "metadata": {},
      "outputs": [],
      "source": [
        "# https://leetcode.com/problems/longest-substring-without-repeating-characters/\n",
        "\n"
      ]
    },
    {
      "cell_type": "code",
      "execution_count": 21,
      "metadata": {},
      "outputs": [
        {
          "name": "stdout",
          "output_type": "stream",
          "text": [
            "['h', 'a', 'n', 'n', 'a', 'H']\n"
          ]
        }
      ],
      "source": [
        "# 344 : https://leetcode.com/problems/reverse-string/\n",
        "\n",
        "s = [\"h\",\"e\",\"l\",\"l\",\"o\"]\n",
        "s = [\"H\",\"a\",\"n\",\"n\",\"a\",\"h\"]       # [\"h\",\"a\",\"n\",\"n\",\"a\",\"H\"]\n",
        "\n",
        "# for i in range(len(s)-1,-1,-1):\n",
        "#     s.insert(len(s)+1,s[i])\n",
        "#     s.remove(s[i])\n",
        "#     print(s)\n",
        "\n",
        "s[:] = s[::-1]\n",
        "print(s)"
      ]
    },
    {
      "cell_type": "code",
      "execution_count": 3,
      "metadata": {},
      "outputs": [
        {
          "name": "stdout",
          "output_type": "stream",
          "text": [
            "['h', 'e', 'l', 'l', 'o']\n",
            "['h', 'e', 'l', 'l', 'o', 'p']\n"
          ]
        }
      ],
      "source": [
        "s = [\"h\",\"l\",\"e\",\"l\",\"l\",\"o\"]\n",
        "\n",
        "s.remove(\"l\")\n",
        "print(s)\n",
        "s.insert(6,\"p\")\n",
        "print(s)"
      ]
    },
    {
      "cell_type": "code",
      "execution_count": 25,
      "metadata": {},
      "outputs": [
        {
          "name": "stdout",
          "output_type": "stream",
          "text": [
            "[[1, 2, 3], [1, 3, 2], [2, 1, 3], [2, 3, 1], [3, 1, 2], [3, 2, 1]]\n"
          ]
        }
      ],
      "source": [
        "#  46 : https://leetcode.com/problems/permutations/\n",
        "\n",
        "import itertools as it\n",
        "\n",
        "nums = [1,2,3]\n",
        "\n",
        "nums_iter = list(map(list, list(it.permutations(nums,len(nums)))))\n",
        "print(nums_iter)\n",
        "\n",
        "# for i,j in enumerate(nums_iter):\n",
        "#     j = list(j)\n",
        "\n",
        "# print(nums_iter)"
      ]
    },
    {
      "cell_type": "code",
      "execution_count": 35,
      "metadata": {},
      "outputs": [
        {
          "name": "stdout",
          "output_type": "stream",
          "text": [
            "[1, 3, 5, 7, 9, 11]\n",
            "6\n",
            "9\n"
          ]
        }
      ],
      "source": [
        "# https://leetcode.com/problems/minimum-operations-to-make-array-equal/\n",
        "\n",
        "# arr[i] = (2 * i) + 1\n",
        "\n",
        "n = 6 \n",
        "\n",
        "arr = [''] * n\n",
        "\n",
        "for i in range(n):\n",
        "    arr[i] = (2 * i) + 1\n",
        "\n",
        "print(arr)\n",
        "\n",
        "target = sum(arr)//n \n",
        "print(target)\n",
        "\n",
        "oper_cnt = set()\n",
        "\n",
        "for i, val in enumerate(arr): \n",
        "    oper_cnt.add(abs(val - target))\n",
        "\n",
        "print(sum(oper_cnt))\n",
        "\n",
        "\n",
        "# --------------------- From discuss solutions\n",
        "# https://leetcode.com/problems/minimum-operations-to-make-array-equal/discuss/1145020/JS-Python-Java-C%2B%2B-or-Easy-O(1)-1-Liner-Mathematical-Solutions-w-Explanation\n",
        "# simple math solution based on algebra"
      ]
    },
    {
      "cell_type": "code",
      "execution_count": 36,
      "metadata": {},
      "outputs": [
        {
          "name": "stdout",
          "output_type": "stream",
          "text": [
            "[3, 3] [3, 3]\n"
          ]
        }
      ],
      "source": [
        "i = j = [3]\n",
        "i += j\n",
        "print(i, j)"
      ]
    },
    {
      "cell_type": "code",
      "execution_count": 46,
      "metadata": {},
      "outputs": [
        {
          "name": "stdout",
          "output_type": "stream",
          "text": [
            "9999999\n",
            "9999\n",
            "8999000\n"
          ]
        }
      ],
      "source": [
        "# https://leetcode.com/problems/add-two-numbers/\n",
        "\n",
        "# l1 = [9,9,9,9,9,9,9]\n",
        "# l2 = [9,9,9,9]\n",
        "\n",
        "# Input: l1 = [2,4,3], l2 = [5,6,4]\n",
        "# Output: [7,0,8]\n",
        "# Explanation: 342 + 465 = 807.\n",
        "\n",
        "\n",
        "l1 = [2,4,3]\n",
        "l2 = [5,6,4]\n",
        "\n",
        "l1 = [9,9,9,9,9,9,9]\n",
        "l2 = [9,9,9,9]\n",
        "\n",
        "\n",
        "l1.reverse()\n",
        "l2.reverse()\n",
        "\n",
        "n1 = int(''.join(map(str,l1)))\n",
        "n2 = int(''.join(map(str,l2)))\n",
        "print(n1)\n",
        "print(n2)\n",
        "\n",
        "n3_sum = n1+n2\n",
        "\n",
        "n3_sum2 = str(n3_sum).reverse()\n",
        "\n",
        "\n",
        "#####################  Solution from discussions \n",
        "\n",
        "    carry = 0\n",
        "    root = n = ListNode(0)\n",
        "    while l1 or l2 or carry:\n",
        "        v1 = v2 = 0\n",
        "        if l1:\n",
        "            v1 = l1.val\n",
        "            l1 = l1.next\n",
        "        if l2:\n",
        "            v2 = l2.val\n",
        "            l2 = l2.next\n",
        "        carry, val = divmod(v1+v2+carry, 10)\n",
        "        n.next = ListNode(val)\n",
        "        n = n.next\n",
        "    return root.next\n"
      ]
    },
    {
      "cell_type": "code",
      "execution_count": 20,
      "metadata": {},
      "outputs": [
        {
          "ename": "ValueError",
          "evalue": "invalid literal for int() with base 10: '1 2 3 56'",
          "output_type": "error",
          "traceback": [
            "\u001b[1;31m---------------------------------------------------------------------------\u001b[0m",
            "\u001b[1;31mValueError\u001b[0m                                Traceback (most recent call last)",
            "Cell \u001b[1;32mIn [20], line 1\u001b[0m\n\u001b[1;32m----> 1\u001b[0m n \u001b[39m=\u001b[39m \u001b[39mint\u001b[39;49m(\u001b[39minput\u001b[39;49m(\u001b[39m\"\u001b[39;49m\u001b[39mEnter number of elements : \u001b[39;49m\u001b[39m\"\u001b[39;49m))\n\u001b[0;32m      3\u001b[0m list_1 \u001b[39m=\u001b[39m \u001b[39mlist\u001b[39m(\u001b[39mmap\u001b[39m(\u001b[39mint\u001b[39m, \u001b[39minput\u001b[39m(\u001b[39m\"\u001b[39m\u001b[39m\\n\u001b[39;00m\u001b[39mEnter the numbers : \u001b[39m\u001b[39m\"\u001b[39m)\u001b[39m.\u001b[39mstrip()\u001b[39m.\u001b[39msplit()))[:n]\n\u001b[0;32m      4\u001b[0m \u001b[39mprint\u001b[39m(\u001b[39m\"\u001b[39m\u001b[39m\\n\u001b[39;00m\u001b[39mList is - \u001b[39m\u001b[39m\"\u001b[39m, list_1)\n",
            "\u001b[1;31mValueError\u001b[0m: invalid literal for int() with base 10: '1 2 3 56'"
          ]
        }
      ],
      "source": [
        "n = int(input(\"Enter number of elements : \"))\n",
        "\n",
        "list_1 = list(map(int, input(\"\\nEnter the numbers : \").strip().split()))[:n]\n",
        "print(\"\\nList is - \", list_1)\n",
        "def absolute_value(num):\n",
        "    return abs(num)\n",
        "\n",
        "\n",
        "list_2 = list_1.sort(key = absolute_value)\n",
        "print(list_2)\n",
        "def length_of_list(list_2):\n",
        "    for i in list_2:\n",
        "        for j in list_2:\n",
        "            if abs(i) == abs(j) and i < j:\n",
        "                print('here')"
      ]
    },
    {
      "cell_type": "markdown",
      "metadata": {},
      "source": [
        "--------------------------- Weekly Contest LEETCODE ---------------------------"
      ]
    },
    {
      "cell_type": "code",
      "execution_count": 112,
      "metadata": {},
      "outputs": [
        {
          "name": "stdout",
          "output_type": "stream",
          "text": [
            "[3, 5, 9, 15]\n",
            "{0: 3, 1: 2, 2: 4, 3: 6}\n",
            "[3]\n",
            "[3]\n",
            "1\n"
          ]
        }
      ],
      "source": [
        "# --------------------------- Weekly Contest 314 ---------------------------\n",
        "# https://leetcode.com/discuss/general-discussion/2678783/weekly-contest-314\n",
        "\n",
        "# https://leetcode.com/problems/the-employee-that-worked-on-the-longest-task/\n",
        "\n",
        "n = 10\n",
        "logs = [[0,3],[2,5],[0,9],[1,15]]\n",
        "# n = 70 \n",
        "# logs = [[36,3],[1,5],[12,8],[25,9],[53,11],[29,12],[52,14]]\n",
        "\n",
        "# task_time = list(int(x, lambda x: x[1]) for x in logs)\n",
        "# result_arr = list(set(map(lambda x: x*(x not in y) , range(len(nums)+1))))[1:]\n",
        "task_time = list(map(lambda x: x[1], logs))\n",
        "print(task_time)\n",
        "\n",
        "map_dict = dict()\n",
        "\n",
        "for i,val in enumerate(task_time):\n",
        "    if i == 0 : map_dict[i] = val\n",
        "    else: \n",
        "        map_dict[i] = val - task_time[i-1]\n",
        "\n",
        "print(map_dict)\n",
        "# max_id = max(map_dict, key=map_dict.get)\n",
        "max_id = [max(map_dict, key=map_dict.get)]\n",
        "print(max_id)\n",
        "id_list = []\n",
        "for keys in map_dict:\n",
        "    if map_dict[keys] == max(map_dict.values()): \n",
        "        id_list.append(keys)\n",
        "\n",
        "print(id_list)\n",
        "print(min([logs[k][0] for k in id_list]))\n",
        "# print(logs[max_id][0])"
      ]
    },
    {
      "cell_type": "code",
      "execution_count": 106,
      "metadata": {},
      "outputs": [
        {
          "name": "stdout",
          "output_type": "stream",
          "text": [
            "{0: 3, 1: 2, 2: 3, 3: 1, 4: 2, 5: 1, 6: 2}\n",
            "[0, 2]\n"
          ]
        }
      ],
      "source": [
        "task_dict = {0: 3, 1: 2, 2: 3, 3: 1, 4: 2, 5: 1, 6: 2}\n",
        "print(task_dict)\n",
        "id_list = []\n",
        "for keys in task_dict:\n",
        "    if task_dict[keys] == 3: \n",
        "        id_list.append(keys)\n",
        "\n",
        "print(id_list)"
      ]
    },
    {
      "cell_type": "code",
      "execution_count": 49,
      "metadata": {},
      "outputs": [
        {
          "name": "stdout",
          "output_type": "stream",
          "text": [
            "999\n",
            "not Continuous\n"
          ]
        }
      ],
      "source": [
        "# https://leetcode.com/problems/minimum-number-of-operations-to-make-array-continuous/\n",
        "\n",
        "# --- HARD HARD HARD ---\n",
        "\n",
        "\n",
        "# print(\"i am offline and i have to wait till the internet connection is back!\")\n",
        "\n",
        "nums = [1,10,100,1000]\n",
        "# nums = [1,2,3,5,6]\n",
        "# nums = [4,2,5,3]\n",
        "\n",
        "nums.sort()\n",
        "\n",
        "max_diff = max(nums) - min(nums)\n",
        "\n",
        "print(max_diff)\n",
        "if max_diff == len(nums)-1 and len(nums) == len(set(nums)): \n",
        "    print('Continuous')\n",
        "else: \n",
        "    print('not Continuous')\n"
      ]
    },
    {
      "cell_type": "code",
      "execution_count": 50,
      "metadata": {},
      "outputs": [
        {
          "name": "stdout",
          "output_type": "stream",
          "text": [
            "[11, 25, 66, 1, 69, 7]\n",
            "[23, 55, 17, 45, 15, 52]\n",
            "[75, 31, 36, 44, 58, 8]\n",
            "[22, 27, 33, 25, 68, 4]\n",
            "[84, 28, 14, 11, 5, 50]\n"
          ]
        }
      ],
      "source": [
        "# 1329 : https://leetcode.com/problems/sort-the-matrix-diagonally/\n",
        "\n",
        "mat = [[11,25,66,1,69,7],[23,55,17,45,15,52],[75,31,36,44,58,8],[22,27,33,25,68,4],[84,28,14,11,5,50]]\n",
        "\n",
        "for val in mat: \n",
        "    print(val)"
      ]
    },
    {
      "cell_type": "code",
      "execution_count": 4,
      "metadata": {},
      "outputs": [
        {
          "name": "stdout",
          "output_type": "stream",
          "text": [
            "[5, 7, 2, 3, 2]\n"
          ]
        }
      ],
      "source": [
        "# https://leetcode.com/problems/find-the-original-array-of-prefix-xor/\n",
        "\n",
        "pref = [5,2,0,3,1]\n",
        "\n",
        "# c = int(a,2)+int(b,2)\n",
        "\n",
        "# print(bin(5).replace(\"0b\",\"\"))\n",
        "\n",
        "# pref_bin = [bin(i).replace(\"0b\",\"\") for i in pref]\n",
        "# print(pref_bin)\n",
        "\n",
        "for i in range(len(pref)-1,0,-1):\n",
        "    pref[i]^=pref[i-1]\n",
        "\n",
        "print(pref)"
      ]
    },
    {
      "cell_type": "code",
      "execution_count": 3,
      "metadata": {},
      "outputs": [
        {
          "name": "stdout",
          "output_type": "stream",
          "text": [
            "accht\n"
          ]
        }
      ],
      "source": [
        "# https://leetcode.com/problems/using-a-robot-to-print-the-lexicographically-smallest-string/\n",
        "\n",
        "# s = \"bdda\"\n",
        "# s = \"zza\"\n",
        "# s = \"bac\"\n",
        "s = \"catch\"\n",
        "\n",
        "\n",
        "stack = []\n",
        "result = []\n",
        "smallest_from_right = [\"\"] * len(s)\n",
        "smallest_from_right[-1] = s[-1]\n",
        "\n",
        "for i in range(len(smallest_from_right) - 2, -1, -1):\n",
        "    smallest_from_right[i] = min(s[i], smallest_from_right[i + 1])\n",
        "\n",
        "for i in range(len(s)):\n",
        "    while stack and stack[-1] <= smallest_from_right[i]:\n",
        "        result.append(stack.pop())\n",
        "    stack.append(s[i])\n",
        "\n",
        "while stack:\n",
        "    result.append(stack.pop())\n",
        "\n",
        "print(\"\".join(result))\n",
        "# return \"\".join(result)"
      ]
    },
    {
      "cell_type": "code",
      "execution_count": 9,
      "metadata": {},
      "outputs": [
        {
          "name": "stdout",
          "output_type": "stream",
          "text": [
            "2\n"
          ]
        }
      ],
      "source": [
        "# https://leetcode.com/problems/paths-in-matrix-whose-sum-is-divisible-by-k\n",
        "# solution : https://leetcode.com/problems/paths-in-matrix-whose-sum-is-divisible-by-k/discuss/2678950/Python-DP-solution\n",
        "import collections\n",
        "from typing import Counter\n",
        "\n",
        "A = [[5,2,4],[3,0,5],[0,7,2]]\n",
        "k = 3\n",
        "\n",
        "n, m, mod = len(A), len(A[0]), 10**9 + 7\n",
        "dp = [Counter() for j in range(m + 1)]\n",
        "dp[0][0] = 1\n",
        "for i, r in enumerate(A):\n",
        "    for j, a in enumerate(r):\n",
        "        dp[j] = Counter({(a + b) % k: c % mod for b, c in (dp[j] + dp[j-1]).items()})\n",
        "print(dp[m - 1][0])\n",
        "#return dp[m - 1][0]"
      ]
    },
    {
      "cell_type": "code",
      "execution_count": 27,
      "metadata": {},
      "outputs": [
        {
          "name": "stdout",
          "output_type": "stream",
          "text": [
            "here\n",
            "231\n",
            "here\n",
            "123\n",
            "1\n",
            "[231, 12]\n"
          ]
        }
      ],
      "source": [
        "# https://leetcode.com/discuss/general-discussion/1996198/weekly-contest-291\n",
        "\n",
        "# https://leetcode.com/problems/remove-digit-from-number-to-maximize-result/\n",
        "from itertools import permutations\n",
        "\n",
        "number = \"1231\"\n",
        "digit = \"1\"\n",
        "\n",
        "number_strip = []\n",
        "\n",
        "for i, val in enumerate(number):\n",
        "    if val == digit: \n",
        "        if i == 0: \n",
        "            print('here')\n",
        "            print(number[i+1:])\n",
        "            number_strip_var = number[i+1:]\n",
        "            number_strip.append(int(number_strip_var))\n",
        "            \n",
        "        else: \n",
        "            print('here')\n",
        "            print(number[0:i])\n",
        "            print(number[i:len(number)])\n",
        "            number_strip_var = number[0:i-1] + number[i+1:len(number)-1]\n",
        "            number_strip.append(int(number_strip_var))\n",
        "\n",
        "print(number_strip)\n",
        "\n",
        "# res = int(max((''.join(i) for i in permutations(str(i) for i in list(number_strip))), key = int))\n",
        "# print(res)"
      ]
    },
    {
      "cell_type": "code",
      "execution_count": 50,
      "metadata": {},
      "outputs": [
        {
          "name": "stdout",
          "output_type": "stream",
          "text": [
            "23\n",
            "['1', '2', '3', '1']\n",
            "['1', '3', '1']\n"
          ]
        }
      ],
      "source": [
        "s = '1231'\n",
        "\n",
        "print(s[1:len(s)-1])\n",
        "a1 = list(s)\n",
        "print(a1)\n",
        "a = a1.remove(a1[1])\n",
        "print(a1)"
      ]
    },
    {
      "cell_type": "code",
      "execution_count": 61,
      "metadata": {},
      "outputs": [
        {
          "name": "stdout",
          "output_type": "stream",
          "text": [
            "0\n",
            "same\n",
            "3\n",
            "same\n",
            "231\n"
          ]
        }
      ],
      "source": [
        "number = \"1231\"\n",
        "digit = \"1\"\n",
        "\n",
        "number_strip = []\n",
        "\n",
        "for i, val in enumerate(number):\n",
        "    if val == digit: \n",
        "        print(i)\n",
        "        print('same')\n",
        "        var1 = list(number)\n",
        "        del var1[i]\n",
        "        #var1.remove(var1[i])\n",
        "        number_strip.append(''.join(var1))\n",
        "\n",
        "print(max(number_strip))"
      ]
    },
    {
      "cell_type": "code",
      "execution_count": 90,
      "metadata": {},
      "outputs": [],
      "source": [
        "cards = [4901,9272,2244,1494,1455,3761,5039,3434,5983,578,6022,8219,2561,8548,733,6601,9344,5654,9043,1162,7252,7424,9467,8838,8618,2076,2538,7581,2199,9472,8911,3144,4465,3170,5740,4176,6738,7723,672,8888,4057,184,2527,5822,2505,3988,7975,4356,3531,830,7282,2372,5248,6336,6015,4468,5648,9591,3520,8296,4073,5909,99,3312,8006,8866,8582,7991,3110,2113,2956,5690,2475,3091,1459,751,659,1529,6332,3953,6225,1023,88,6025,3275,9317,6967,262,7622,4259,7618,7608,3276,9574,5608,2426,8762,7407,5443,9860,7245,1308,2897,7253,1377,2838,5789,2856,4881,593,6397,4138,2304,6342,6375,8014,6735,6189,880,6002,7056,8097,9094,8094,7652,4474,3801,9023,9409,2354,4588,7331,8348,1385,1291,8593,8127,1047,5113,763,8363,8179,7444,8627,5460,7913,5612,1629,7233,5240,238,1101,5249,4242,5816,9296,2417,1520,4650,8138,5750,4871,2013,4091,4821,8381,9054,2836,5663,9477,9272,4799,8557,4167,1138,4107,7942,5866,1466,5447,3617,1016,5379,1677,9575,4641,7699,9362,2493,3693,4058,7290,7835,4304,265,2220,3416,3698,4281,7460,1991,2228,4631,8181,1344,5306,6343,8577,620,3833,4494,2075,7304,728,3310,898,9899,9870,1684,4546,9979,9272,7953,2010,9144,8068,1880,3834,2536,5194,9137,2718,1251,3477,1743,5766,7713,5903,9492,6291,6821,6999,3833,3420,5891,9164,595,812,8929,5221,6599,5956,9882,9219,9549,6940,2869,476,7217,997,561,7402,7469,2978,4049,9521,7796,3348,3577,9131,9923,1996,7794,9242,8238,1789,7621,7434,6713,658,3946,8863,5808,9534,9365,9670,807,3909,4915,3180,4668,1346,2986,5756,2844,4182,1470,5380,9653,1057,5155,9986,8903,8577,790,2600,1448,7867,4942,7023,1721,2770,2521,9423,2104,2441,5255,9704,6958,213,9443,3359,7654,608,7041,9391,4340,6209,3258,3634,6617,1080,1268,5710,8562,6607,9267,8840,3387,8279,9961,3406,5466,6469,95,1707,3198,8168,1827,5993,9942,5614,6930,7698,8409,2277,6920,8733,2463,4418,6097,156,5564,4661,2635,6296,1283,3817,967,2554,7188,9721,1984,4326,5340,4453,1273,915,4923,3416,7925,8715,7924,4699,7105,6393,900,5517,712,3121,2068,3954,6012,7158,5339,2331,2234,2045,8489,1310,7827,507,1421,6215,405,6856,4787,212,783,5622,747,558,4297,4372,8853,2138,2183,5081,1687,224,4599,1712,3510,1854,3926,4433,6791,4879,2067,5307,5488,2685,7159,7086,1072,2671,3312,8594,2229,8348,3114,3312,379,7035,9404,2691,2295,8143,305,7747,8091,9256,5686,9292,1848,2790,3243,4834,8889,3743,3952,571,6429,5077,6277,5126,8225,8354,2047,1118,6446,2214,7425,9520,8843,7157,5922,115,3419,1790,8924,2486,1587,1608,3818,2409,7794,6274,1933,2345,9921,1790,8912,681,9884,1443,3850,4388,2323,4247,3444,656,472,7554,8644,2170,613,3241,6332,2786,7069,1478,4353,7458,7614,1809,5768,6613,4158,9199,221,5841,2134,5108,3777,7854,2604,7317,622,5653,7341,4256,4358,9921,2263,5268,8347,8462,3105,6895,7085,8391,700,9416,8788,4600,4472,3961,9975,7358,4311,6322,4996,3001,6695,1290,6182,340,1888,2275,1582,3286,1840,6458,7757,9546,8825,3776,2785,2901,440,9494,2302,676,5870,6487,6685,6372,9851,3472,2501,1268,5388,8058,4021,2343,5546,8874,8330,498,8285,5680,1840,2357,7252,9587,196,2692,3197,4757,4967,2873,8955,269,7540,8178,8924,9690,3492,6848,7242,4018,3237,2391,6145,9859,4361,8163,2310,7699,346,1788,123,8810,8305,9670,2997,4635,4772,3113,5413,2202,4716,9118,4713,5954,3254,9915,4413,7655,8523,6065,5216,2936,2286,459,7328,9102,7399,5229,4833,6907,8521,1904,8186,3081,1157,3847,2668,1093,12,1826,2510,6148,1583,3185,5900,4000,7244,293,8090,1831,3963,6785,8638,8550,2578,1652,3853,3877,4732,320,7970,3008,1361,4056,5885,9241,3594,3555,1704,6357,4418,3429,4242,1468,9634,5443,9073,8653,6893,1251,9655,8654,9372,7904,2420,5995,5987,3836,224,4721,9512,3180,3371,1688,2418,727,274,9291,4774,4669,9759,9033,8739,2997,848,2469,1355,6978,2458,5188,2881,9113,2339,549,9990,3398,9482,188,3235,2849,3145,8208,7929,5681,6520,2300,3438,9296,7247,788,9596,4152,4432,9859,6096,9158,883,9617,3770,3784,9454,8984,9511,7602,6274,6035,1917,3192,3670,1944,7587,7583,2043,506,145,7068,142,4011,5464,2581,2950,6424,6948,3784,7990,6425,6913,3866,2708,6245,5344,3894,5398,2728,8687,966,5813,769,5102,9353,1819,5149,6349,881,1369,3666,2565,5139,3476,299,2956,8878,9189,6067,8691,9931,1049,1481,5491,8031,6033,872,1487,3558,664,8607,5562,6002,151,9258,5521,5698,3875,243,1124,8364,5452,7220,8433,5421,5058,3194,9215,2220,9273,9745,1283,5347,8074,9980,3144,733,1400,7101,6176,1585,5663,7434,3935,7667,8592,8551,1275,5709,9421,6354,5988,7358,8581,5537,5322,2318,6755,6972,1413,8546,1188,4165,6629,1987,5022,8467,7882,3313,1581,4221,5220,5273,4679,4846,1120,4500,2602,9952,8897,5233,2721,5284,328,911,7427,2608,4413,5313,4826,6435,1706,6217,377,9474,4171,658,7115,3361,8888,1664,8961,3972,2765,5744,1923,3528,4653,1375,6774,5296,5911,2854,4135,3529,7198,2810,5718,4655,2566,1232,9702,3454,5832,9205,8094,3285,8624,8959,125,2559,568,2708,2154,9612,7111,8266,7994,2376,343,5154,8348,9599,6729,304,8433,8391,4716,7535,5504,115,4739,6459,567,2175,3690,6009,5175,3720,342,6105,4911,2948,7575,8808,3799,783,6366,2631,8063,4716,3449,8541,7189,2646,2156,7721,7450,4616,251,5824,9090,6342,6750,2647,374,5383,2815,3276,5037,6477,2225,6873,17,9672,9441,8470,9198,1632,8191,9157,834,2733,1358,5492,7786,9396,7729,8915,8489,179,4216,3775,508,2799,6588,8959,3521,4890,5201,4512,3630,282,6445,1237,1282,6873,3021,5405,5847,5133,5524,9846,1577,5455,4028,9518,9419,6723,8444,986,5275,3829,2694,2114,6534,1777,9255,5625,6892,6500,4836,5805,5130,2803,6212,2110,327,5974,5461,4712,4231,847,8039,2048,208,7094,3901,9942,4496,5196,4436,6293,1160,3344,513,7171,1538,104,4877,7643,429,5069,7929,1994,3200,7483,2492,7028,3232,646,9172,5668,4531,3757,3824,194,5271,9507,6821,2206,9451,3148,9366,744,7171,1324,2707,2610,7227,4359,3309,586,2047,8089,3592,807,9519,3774,1055,9872,9295,4026,9206,3083,4976,6501,3564,9460,3536,9266,7212,2350,2363,4117,4741,7282,689,8769,2083,7702,9193,5864,8223,9359,8654,4070,3700,1628,1479,7573,7740,6922,7985,9349,2383,5083,9686,5429,5688,6523,1830,4257,5611,6997,9009,3774,4331,3250,4145,3616,3775,4161,3988,1329,6962,6942,5521,2240,9899,8013,7102,9114,7842,5456,4533,7103,5627,2724,2712,5322,5628,4925,7713,8464,5792,4146,7599,9488,4286,9655,2724,9940,1215,2595,7641,6625,7790,7364,4717,4005,634,444,1762,4098,7298,7091,2071,8779,3292,9174,7020,6398,6484,6049,7641,4334,5235,4092,551,8452,1525,1991,2039,9730,463,7492,802,1521,7879,1569,8485,7893,3397,237,7394,2350,5890,3667,6475,7954,5087,1684,1947,2935,8931,4466,2026,9602,9019,42,8494,5909,6463,4593,1132,7346,7788,6753,1851,6823,4105,6332,9826,7879,2534,481,1958,1299,1403,4179,6978,2324,1821,5155,9866,1093,4375,8077,6852,6373,3774,8741,8475,2148,1351,5730,159,3559,5468,8616,6861,6779,770,5769,9758,4108,7674,7347,346,7772,5085,4505,6785,9275,3763,9812,1052,6476,2710,8073,8033,8816,5550,6391,4053,3802,7430,6263,3038,9477,3033,9085,7565,7018,1244,9574,6272,989,4401,9454,3710,1239,2424,9869,7316,9732,3959,4959,9020,3551,7927,5920,3481,8216,2065,9070,3454,5708,1403,8546,2848,5317,8631,9314,7023,9745,2227,1779,9201,5790,6196,3219,7582,4509,3327,4178,4867,6875,4742,4277,5261,9013,6939,8381,2249,6877,2043,4226,3930,8348,3265,5991,4375,4333,5792,3822,2723,7878,1192,8279,8622,3417,1256,2938,8415,3865,4628,2956,4705,1217,149,4764,7923,4622,2958,2713,4207,2143,6291,2879,3537,828,7471,2701,6950,682,7020,5074,6344,968,6381,359,1610,3307,4484,4296,3687,3344,2958,7002,5606,5184,4773,3484,7648,560,9564,584,4441,9430,7802,1440,6872,473,4437,3768,595,2034,6380,9583,7975,7684,838,1133,4637,3675,7783,5658,1868,4854,9646,2257,9927,5489,8471,5197,9964,3115,3942,301,2196,3854,9873,2098,7187,6315,2690,2426,8164,904,6544,9048,8653,6405,2963,4486,2389,6481,1445,6305,883,8725,8535,6420,6200,4271,2487,3054,1597,1515,6671,4579,3726,308,8830,1589,3103,8231,100,479,2164,6290,2919,9784,2490,3193,7585,3428,2443,9054,4349,9687,4962,6348,5218,8594,1327,648,5695,3813,1803,6448,943,1129,250,2509,2950,9880,8636,534,9418,2125,7907,7348,2691,8819,2850,2634,7664,883,4708,4425,8659,7217,6482,4562,6798,8696,8741,205,3745,62,5190,2959,5922,9962,3442,6899,8326,3856,4431,6873,9575,504,6419,4332,5906,2591,6685,7989,2331,1077,46,6219,858,616,1467,2559,4887,1197,6655,3950,6155,8557,5828,5165,8931,5608,5243,5150,6168,4007,3902,6940,3845,8926,345,8221,1596,5550,6047,1359,2707,3914,9084,9151,7223,460,5684,8424,9160,1075,4252,8244,5347,1818,8692,9805,7551,5120,4700,6172,3158,4137,6044,727,3979,971,1842,5285,9226,963,6644,50,7631,5335,8308,1815,8770,9100,6694,7558,9088,9523,3777,9785,1770,4783,9685,5001,2155,3528,3754,6472,4474,2044,6950,162,6468,3866,7281,8736,410,3149,7254,6772,1212,6734,8789,9585,2748,4826,4997,9073,4573,8120,8929,3736,7157,3828,4490,5420,61,2161,5862,4476,2700,7925,1395,9743,2492,4902,1937,4702,1241,5966,5747,8404,7505,2387,6662,5544,9306,2302,851,9434,1,4537,5418,3937,8650,30,1069,1131,4682,6726,4399,2930,9048,5678,1018,480,5469,1998,1796,7976,6483,5959,4086,7816,4725,6937,9431,2279,9101,4494,4773,5900,4324,2389,1649,3866,7733,3715,4073,145,9876,5190,8587,6378,3932,6860,2579,7832,6601,5997,5902,7462,6896,4772,885,1538,767,1845,285,9985,7792,9585,2311,9449,7097,8951,7581,6275,8409,820,3547,1695,9068,2130,7238,4104,4891,5999,7954,4319,1667,5340,6432,5562,4040,320,1661,1206,5805,5017,9197,6782,2917,8272,7310,8416,2887,1754,3083,6875,9335,4749,1589,4026,9566,7790,7267,2296,2728,1532,2571,6273,2539,1675,3307,6796,862,4668,5216,1923,4037,2313,8482,1009,4285,8077,1213,2398,4788,7353,143,9225,4489,6488,6972,3708,4124,7845,4021,613,1839,1121,6155,5131,9480,5281,6128,7091,335,7977,5680,7697,9946,2425,7405,7322,6592,5151,5187,6390,4961,4262,4263,8834,6559,110,3229,3926,1081,7527,2786,6869,9798,6165,5180,1869,3681,1363,6137,7098,768,4549,3336,6572,919,2600,8893,3581,2784,2822,8570,8847,6946,4629,359,4646,1691,7164,1859,4445,2853,1114,2125,2897,1098,7397,5492,3055,6620,841,2410,7270,9228,4225,3528,3260,1553,7547,660,7112,5511,5836,6249,3549,4165,3732,9947,4608,6694,8588,8962,3869,6076,1500,1337,7955,1591,4957,8771,8617,3562,8875,2489,8314,3668,2276,1809,4328,1864,2113,7281,7498,3794,4616,8724,6932,1760,7957,5781,6301,7828,2379,2215,6964,3083,9509,3935,3420,4014,9152,3595,7894,6207,7062,352,4504,9333,8651,9698,8093,3181,2249,2227,1749,6773,2368,5850,416,2876,8035,8730,5550,9850,6837,4951,3421,1468,8857,4152,2727,4407,2743,2302,8199,6490,761,5265,5343,8815,7227,9900,2403,9554,402,8684,400,7889,4570,8012,2801,827,4695,6559,5360,4071,1388,719,9152,1513,2381,2734,4833,9760,6942,8060,6265,5169,8955,5193,6053,1995,7669,3812,3194,4319,4682,3888,8653,5611,1275,521,2818,1169,9701,6703,402,7753,3922,997,2612,7424,7939,8914,8506,1800,9535,8762,3401,9614,8786,9205,4770,3730,3154,1995,151,6062,6924,252,4650,4720,8598,3483,4410,1128,9336,2343,242,778,2776,1436,7239,6067,6830,2128,1735,6396,1087,3649,5924,3319,7531,188,4594,5596,107,9492,326,7979,9433,5056,8940,5800,8260,9708,6218,4430,6766,7234,5870,2930,6065,7057,1305,8707,8094,8551,3163,8538,8717,6810,1176,7254,2996,3913,636,9660,8354,5755,2859,1495,1096,1546,9719,6310,6371,7786,5656,8660,7768,7407,9173,2025,416,6648,843,4039,8250,5622,1419,4849,8422,7116,8117,221,6296,372,8771,4540,665,2610,3507,7825,4019,6555,6014,6095,5838,5780,2934,8429,565,9691,7163,58,2297,4976,547,7629,886,1253,1810,9644,7403,1670,7406,2825,9351,4245,8168,2087,6892,2447,7954,9192,2159,9084,4612,883,2920,3493,950,8114,4560,791,7055,1889,7853,911,1960,3416,4528,1,3491,2312,5789,3757,6046,5079,6016,1818,6885,6902,8479,1436,6201,670,4066,245,8751,4764,6262,7040,1774,5042,5641,3522,3304,4202,4059,270,970,6382,6122,7150,1362,3332,8554,3442,1833,914,684,4647,1185,3835,4364,8655,515,2562,6633,9807,3050,8386,7406,7835,234,1021,9804,3410,1857,900,902,1490,8572,4093,3037,3956,9326,4178,9914,1470,1997,3838,6358,6496,3999,7484,1558,4505,1096,7508,5904,2525,4269,414,5844,9637,8231,6753,6977,6748,5067,7866,5170,3340,8171,2714,4512,9714,1738,7629,4949,4168,636,2150,284,5512,6166,6711,3067,2729,4451,290,5258,678,5485,7764,8014,4001,7672,7647,7338,3264,8587,1254,6800,3316,4434,1145,6221,3954,5786,4807,1361,7049,5519,1934,2626,8699,4069,1384,9200,595,649,6570,9780,8859,5929,1567,6480,9317,3731,2718,8788,7504,8292,9255,9573,9837,8867,3812,9745,3454,5264,278,4148,3434,7690,1666,8239,213,496,7543,5635,8446,7256,6015,6782,8175,8562,3607,8885,3420,5283,6613,2985,789,1164,4407,3126,3460,2693,4550,5664,6981,8787,9027,3052,1989,7832,1772,7842,2441,9965,7938,4439,3066,3888,106,4349,905,5378,9893,2996,4815,946,5164,7347,5185,8735,3965,9285,5204,5080,497,2825,2436,1984,2091,4001,1577,4462,1520,5044,2871,4592,1075,1511,5884,5818,9289,539,3094,7436,4973,3172,1380,5037,8210,6402,9776,7238,3032,3735,7545,4240,4596,1440,2726,8714,7857,5528,7698,66,6082,933,3323,1646,5579,5640,9938,8902,4623,8067,1444,8674,3848,6952,7597,4203,8381,3322,1588,5117,8964,1305,689,4436,785,7440,8610,8478,5909,6653,2801,4100,9829,1402,8759,1237,9881,9060,118,9204,8821,6303,6822,7059,2325,354,4459,392,7095,1963,8900,4704,7971,3549,6075,6634,62,6841,3246,4584,7770,2599,4346,1220,5786,1474,1416,4566,319,3476,2207,1745,2603,5023,8231,7939,6682,6531,4431,6566,7655,9125,9127,8221,6911,8073,718,8038,1724,7893,7252,8446,8366,8781,6700,1194,7758,5984,5406,1763,3243,6364,1087,6890,8617,7972,3608,5563,7857,5136,6876,3799,2728,5729,6056,84,1990,3167,5273,4367,2372,6548,6835,7156,1528,7122,1260,6768,957,5612,539,2443,9499,3256,4221,3763,6660,5314,5321,2361,2593,6603,8012,1295,124,3145,6146,4707,9894,3784,8643,5942,5870,9991,1497,8762,5407,5081,959,4277,4926,8668,7644,6427,9188,310,337,9881,1386,2366,1804,9799,6026,937,2254,834,8651,3523,6790,2382,8790,3682,360,8881,3341,2728,8371,1119,4488,3186,5625,7577,6376,2324,8318,4816,7468,2099,6043,4568,702,5269,9397,8343,1439,4970,8445,9539,8531,9682,5125,6112,4191,2209,2687,7643,6142,6280,8777,3871,2030,3682,239,1022,4719,7526,2896,975,4343,2504,6919,8092,8943,7836,5960,5189,9758,5256,5219,1680,8183,2849,3225,2536,3991,7955,8594,2977,882,5898,5580,1143,5351,5959,6938,4151,2735,9670,231,6028,7086,9024,9197,9210,1022,4593,5968,66,676,2848,9568,9046,7389,6368,6060,5902,4164,5738,5976,837,4451,584,3644,2344,7783,8744,5007,9519,7037,5761,1788,5181,7060,8617,2529,4779,7280,2553,7774,3679,2950,9506,1245,3631,3412,8610,1265,7011,4165,1436,297,421,6683,369,9095,1506,4783,6237,6295,7778,3985,6534,2031,415,1531,1019,3491,5814,8746,9889,8717,8783,9274,7494,6398,4975,8010,4072,6331,6535,8164,4918,4606,1108,1296,1244,7854,6774,9835,8569,7064,3512,4506,412,9595,4421,6943,8033,8252,9411,4756,6711,6760,897,5127,7253,8024,1018,8003,3818,4833,4364,5656,9984,3024,5882,4256,7857,3375,3430,2007,7405,7553,1800,9814,2788,1936,4205,5751,5833,2532,1264,2945,1678,4010,9293,8776,9139,882,533,9327,9311,6346,844,1072,8540,7573,3820,8962,4598,4360,4869,1288,7226,1508,6681,9079,2285,9534,4559,8629,4341,3175,6824,7606,4000,1353,7836,5404,3865,6371,6492,6002,6518,8926,9259,8845,3671,5497,3918,9471,610,4068,3794,175,517,3246,138,50,767,1051,7725,4646,6122,7763,2672,459,7641,8656,9813,4715,5091,5572,501,2784,7702,1463,6057,3066,8575,6658,9720,5454,2361,1272,923,2084,1100,2088,1361,1337,6218,9904,9951,7285,9693,1127,1386,6325,8632,5614,6417,1529,3247,9101,2729,8445,4403,7490,4645,960,335,6604,5976,2835,3433,287,4388,6528,703,8899,5665,1252,4546,7854,3208,1996,4403,3412,3917,6070,4886,7704,2797,7475,6891,6801,6812,4892,5217,9083,6258,4791,4680,2243,9056,6373,4258,1971,8787,60,4970,2982,286,1956,9981,6422,7210,8490,4376,7886,8260,7693,163,6039,2530,9097,8310,5487,9936,2595,1926,9008,11,5914,8542,9131,7698,8152,5454,95,8060,7587,1543,4586,9238,7810,1801,5410,3343,9317,5311,4194,5815,3104,709,6309,5501,3433,895,806,9570,4219,2904,7228,8747,5621,3552,7326,8278,3615,8493,4809,9676,2214,843,3607,5254,9914,9883,7437,5813,2303,3065,7122,9673,9709,8381,5687,7703,3606,9725,1306,3688,8631,5966,5197,5443,1710,7019,9903,4607,3943,1603,5434,4850,1485,7240,7059,7126,7918,1018,111,8207,3072,5698,9122,5897,797,561,6624,3894,361,9029,3580,8587,2559,8822,2639,1520,5138,1869,5274,8794,795,1895,2239,8311,2835,6853,8262,2646,9815,4705,9920,5861,2786,274,9480,9549,1004,3903,8032,6814,9099,2270,2989,6621,5535,5358,3353,7569,8156,7493,4400,1176,8405,4805,1584,9284,1037,3867,34,7411,2402,8116,2248,2981,8609,8781,1297,5726,551,5156,5904,5496,1513,974,3517,2754,465,2083,7259,9502,7848,9058,4893,7673,4666,5029,4690,8347,8984,383,8038,1994,4548,9350,375,17,866,5162,8764,7327,3770,6263,3425,960,8865,2181,4560,9285,1107,7942,962,8004,3153,4129,9276,2647,2661,8005,1889,9184,6004,8087,866,322,2028,5755,7614,5012,4567,1277,4925,4014,3251,7121,3718,7542,9258,1006,6633,1824,4092,7229,80,2152,8765,9994,4841,3613,5478,822,5933,946,718,6228,6405,4480,7301,2831,7606,894,3259,4565,3072,5951,2897,4712,4961,5900,6571,2218,3868,2781,3058,9069,7000,7559,2511,8327,2486,7197,4306,7708,4438,3302,4466,7230,4978,4046,1499,1832,4339,470,4024,9710,3211,4555,764,7282,4594,3993,8290,4644,7565,8977,174,4817,2896,8605,4520,1997,3813,1965,9645,9217,9995,2658,9513,6463,9579,958,650,2490,233,7083,4154,1599,9732,8012,2052,7815,2310,433,3595,9282,147,2077,5792,1285,8552,2349,7816,697,9456,4305,4580,7656,722,3618,2773,6905,7936,3009,1867,1464,3356,8542,876,7062,1642,6304,6001,5251,5431,4759,4507,6004,3370,4156,4728,7559,5979,8826,9503,8550,7410,5335,8799,4088,8998,9168,4987,163,2504,220,191,6500,6652,6672,3341,1079,5449,2870,1979,1090,1829,3132,3879,9593,1554,2105,5398,751,761,436,25,773,6163,1368,9780,5249,9078,9465,6814,6011,9436,5201,7214,5955,5073,4018,6272,1774,4216,2011,642,3009,2337,949,9338,5125,3033,2428,3176,4903,9445,2210,1378,5163,3166,3364,7079,3546,6155,8659,7488,2257,1948,2600,7275,5469,874,698,5976,6865,7775,3617,3577,5229,3369,5048,9457,8873,2900,4804,479,8888,4032,6015,1223,9660,5899,1935,6188,3425,1672,6289,8969,407,7871,8678,8066,5718,8199,9350,6023,8172,5466,9542,6956,9980,9868,1194,8239,7591,8296,7511,8556,968,9019,7175,4539,5715,9802,4308,7791,3969,4691,7851,5005,8646,3471,1780,9264,7871,2232,8706,1643,6731,7099,4343,6186,4830,6294,1712,8839,1032,7981,7445,9721,1375,5779,3523,1532,2483,7353,8011,8095,7001,9582,3944,8422,9288,3474,7926,8523,3458,1399,1031,9393,2555,3821,211,8539,945,1489,104,71,2575,1820,8025,2940,8940,411,1166,2292,2743,3030,110,8694,4606,7642,5953,1804,377,7586,2100,6183,8540,4819,1111,6867,4298,3583,1532,1263,4908,3188,5951,7922,3972,2506,1660,6198,7340,4272,4429,9852,8250,2135,9354,6002,7300,8110,9035,4922,9932,3853,5762,6951,4690,3344,9429,6634,5416,7128,4005,7182,1659,823,3937,5199,6261,1009,8462,7106,2358,3074,6737,7794,6821,5598,162,2683,4664,5312,2903,9012,275,6105,721,294,6638,9918,2117,5020,897,9615,7435,4081,1587,9052,6106,1222,9442,6904,9288,9388,1901,794,4523,2234,3127,3216,3298,5600,2818,48,8553,9439,5282,8589,1548,588,3872,9398,2743,398,8254,2379,8086,7657,1157,3761,9079,5525,962,5764,7853,7973,9545,7061,1906,7612,1056,6681,6409,809,5289,1419,3421,4161,9171,6377,1749,3346,2535,8219,7993,9654,7337,3675,37,4362,3163,4488,9767,4706,2663,6645,8956,7292,5170,4454,7372,5071,1609]\n",
        "\n",
        "# print(cards)"
      ]
    },
    {
      "cell_type": "code",
      "execution_count": 94,
      "metadata": {},
      "outputs": [
        {
          "name": "stdout",
          "output_type": "stream",
          "text": [
            "13\n"
          ]
        }
      ],
      "source": [
        "# https://leetcode.com/problems/minimum-consecutive-cards-to-pick-up/\n",
        "\n",
        "#cards = [3,4,2,3,4,7]\n",
        "# cards = [3,4,2,5,1,7,8,9,12,13,122,1222,12222,111,9]\n",
        "# cards = [1,0,5,3]\n",
        "# cards = [77,10,11,51,69,83,33,94,0,42,86,41,65,40,72,8,53,31,43,22,9,94,45,80,40,0,84,34,76,28,7,79,80,93,20,82,36,74,82,89,74,77,27,54,44,93,98,44,39,74,36,9,22,57,70,98,19,68,33,68,49,86,20,50,43]\n",
        "\n",
        "card_occur_dict  = {}\n",
        "\n",
        "for i, val in enumerate(cards):\n",
        "    card_occur_dict.setdefault(val,[]).append(i)\n",
        "\n",
        "cons_cards_list = []\n",
        "\n",
        "for val in card_occur_dict.values():\n",
        "    if len(val) > 1 : \n",
        "        cons_cards = (val[1] - val[0])+1\n",
        "        cons_cards_list.append(cons_cards)\n",
        "    # else: \n",
        "    #     print('-1')\n",
        "else: \n",
        "    if cons_cards_list == []: \n",
        "        print('-1')\n",
        "    else: \n",
        "        print(min(cons_cards_list))\n",
        "\n",
        "#print(sorted(cons_cards_list))       "
      ]
    },
    {
      "cell_type": "code",
      "execution_count": 93,
      "metadata": {},
      "outputs": [
        {
          "name": "stdout",
          "output_type": "stream",
          "text": [
            "defaultdict(<function <lambda> at 0x000001E9733BA160>, {})\n",
            "6\n"
          ]
        }
      ],
      "source": [
        "# from solution provided in discuss section : \n",
        "import math\n",
        "from collections import defaultdict \n",
        "\n",
        "ans = math.inf\n",
        "n = len(cards)\n",
        "pos = defaultdict(lambda: -1)\n",
        "for i in range(n):\n",
        "    if pos[cards[i]] != -1:\n",
        "        ans = min(i - pos[cards[i]] + 1, ans)\n",
        "    pos[cards[i]] = i\n",
        "\n",
        "print(ans if ans != math.inf else -1)\n",
        "#return ans if ans != math.inf else -1\n",
        "\n"
      ]
    }
  ],
  "metadata": {
    "colab": {
      "collapsed_sections": [],
      "include_colab_link": true,
      "provenance": []
    },
    "kernelspec": {
      "display_name": "Python 3.8.8 64-bit",
      "language": "python",
      "name": "python3"
    },
    "language_info": {
      "codemirror_mode": {
        "name": "ipython",
        "version": 3
      },
      "file_extension": ".py",
      "mimetype": "text/x-python",
      "name": "python",
      "nbconvert_exporter": "python",
      "pygments_lexer": "ipython3",
      "version": "3.8.8"
    },
    "vscode": {
      "interpreter": {
        "hash": "1e1440af1930366e232fa77fc98ece3fe6a6f74dfc660477ea8132b7c635d768"
      }
    }
  },
  "nbformat": 4,
  "nbformat_minor": 0
}
