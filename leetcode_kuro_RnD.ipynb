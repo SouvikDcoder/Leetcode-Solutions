{
  "cells": [
    {
      "cell_type": "markdown",
      "metadata": {
        "colab_type": "text",
        "id": "view-in-github"
      },
      "source": [
        "<a href=\"https://colab.research.google.com/github/SouvikDcoder/Leetcode-Solutions/blob/main/leetcode_kuro_RnD.ipynb\" target=\"_parent\"><img src=\"https://colab.research.google.com/assets/colab-badge.svg\" alt=\"Open In Colab\"/></a>"
      ]
    },
    {
      "cell_type": "code",
      "execution_count": null,
      "metadata": {
        "colab": {
          "base_uri": "https://localhost:8080/"
        },
        "id": "aHf-peBvEVYn",
        "outputId": "3b5c8281-7ce0-4896-fef1-4a93589ce1fa",
        "vscode": {
          "languageId": "python"
        }
      },
      "outputs": [
        {
          "name": "stdout",
          "output_type": "stream",
          "text": [
            "[-2, 1]\n",
            "-1\n",
            "less\n",
            "[-2]\n",
            "-2\n",
            "[-2]\n",
            "[-2, 1]\n",
            "-1\n"
          ]
        }
      ],
      "source": [
        "#nums = [-2,1,-3,4,-1,2,1,-5,4]\n",
        "nums = [-2,1]\n",
        "print(nums)\n",
        "print(sum(nums))\n",
        "all_sum = sum(nums)\n",
        "sum_val = 0\n",
        "new_nums_1 = []\n",
        "sum_list = []\n",
        "if sum(nums)<0:\n",
        "  print('less')\n",
        "  for i in range(0,len(nums)):\n",
        "      sum_val += nums[i]\n",
        "      new_nums_1.append(nums[i])\n",
        "      print(new_nums_1)\n",
        "      print(sum_val)\n",
        "      if sum_val<all_sum :\n",
        "          sum_list.append(sum_val)\n",
        "          print(sum_list)\n",
        "          continue\n",
        "      elif sum_val<max(nums):\n",
        "          sum_val = 0\n",
        "          new_nums_1 = []\n",
        "      else :\n",
        "          sum_val = 0\n",
        "          new_nums_1 = []"
      ]
    },
    {
      "cell_type": "code",
      "execution_count": null,
      "metadata": {
        "colab": {
          "base_uri": "https://localhost:8080/"
        },
        "id": "2M9CNizFIPcn",
        "outputId": "451339fc-843b-4fda-c690-33e4034d37bb",
        "vscode": {
          "languageId": "python"
        }
      },
      "outputs": [
        {
          "name": "stdout",
          "output_type": "stream",
          "text": [
            "[-2, 1]\n",
            "-1\n",
            "Less than 0 condition\n",
            "[-2]\n",
            "-2\n",
            "Less than 0 condition\n",
            "[-2]\n"
          ]
        }
      ],
      "source": [
        "#nums = [-2,1,-3,4,-1,2,1,-5,4]\n",
        "nums = [-2,1]\n",
        "print(nums)\n",
        "print(sum(nums))\n",
        "all_sum = sum(nums)\n",
        "sum_val = 0\n",
        "new_nums_temp = []\n",
        "sum_list = []\n",
        "for i in range(0,len(nums)):\n",
        "  #print(nums[i])\n",
        "  sum_val+=nums[i]\n",
        "  new_nums_temp.append(nums[i])\n",
        "  if sum(nums)>0:\n",
        "    if sum_val>sum(nums):\n",
        "      print(new_nums_temp)\n",
        "      print(sum(new_nums_temp))\n",
        "      sum_list.append(sum(new_nums_temp))\n",
        "      continue\n",
        "    else:\n",
        "      sum_val = 0\n",
        "      new_nums_temp = []\n",
        "  elif sum(nums)<0:\n",
        "    print(\"Less than 0 condition\")\n",
        "    if sum_val<sum(nums):\n",
        "      print(new_nums_temp)\n",
        "      print(sum(new_nums_temp))\n",
        "      sum_list.append(sum(new_nums_temp))\n",
        "      continue\n",
        "    else:\n",
        "      sum_val = 0\n",
        "      new_nums_temp = []\n",
        "\n",
        "print(sum_list)"
      ]
    },
    {
      "cell_type": "code",
      "execution_count": null,
      "metadata": {
        "id": "45UOu-M2DTPT",
        "vscode": {
          "languageId": "python"
        }
      },
      "outputs": [],
      "source": [
        "nums = [0,1,0,3,12]\n",
        "print(nums)\n",
        "zero_cnt = nums.count(0)\n",
        "while(zero_cnt>0):\n",
        "  print(\"While loop\")\n",
        "  for val in nums:\n",
        "    while (val==0):\n",
        "      for i in range(1,len(nums)):\n",
        "        val1 = nums[i-1]\n",
        "        nums[i-1]=nums[i]\n",
        "        nums[i]=val1\n",
        "      print(nums)\n",
        "  zero_cnt-=1"
      ]
    },
    {
      "cell_type": "code",
      "execution_count": null,
      "metadata": {
        "colab": {
          "base_uri": "https://localhost:8080/"
        },
        "id": "yYv5TBxXHTZy",
        "outputId": "94d21430-c4d8-4864-ca2d-5b182f98aaec",
        "vscode": {
          "languageId": "python"
        }
      },
      "outputs": [
        {
          "name": "stdout",
          "output_type": "stream",
          "text": [
            "[0, 1, 0, 3, 12]\n",
            "[1, 3, 12, 0, 0]\n"
          ]
        }
      ],
      "source": [
        "nums = [0,1,0,3,12]\n",
        "print(nums)\n",
        "for val in nums:\n",
        "  if val == 0 :\n",
        "    nums.append(0)\n",
        "    nums.pop(nums.index(val))\n",
        "print(nums)"
      ]
    },
    {
      "cell_type": "code",
      "execution_count": null,
      "metadata": {
        "id": "cVjCyewcKEKO",
        "vscode": {
          "languageId": "python"
        }
      },
      "outputs": [],
      "source": [
        "#prices = [7,6,4,3,1]\n",
        "prices = [7,1,5,3,6,4]\n",
        "total_profit = 0\n",
        "print(prices)\n",
        "min_index_prices = prices.index(min(prices))\n",
        "print(min_index_prices)\n",
        "print(prices[min_index_prices:])\n",
        "min2 = prices.index(min(prices[min_index_prices+1:]))\n",
        "print(min2)\n",
        "for i in range(min_index_prices,min2-1):\n",
        "  print(prices[i])\n",
        "  total_profit+=prices[i+1] - prices[i]\n",
        "\n",
        "print(total_profit)\n",
        "# for i in range(prices[min_index_prices:]):\n",
        "#   min_price="
      ]
    },
    {
      "cell_type": "code",
      "execution_count": null,
      "metadata": {
        "colab": {
          "base_uri": "https://localhost:8080/"
        },
        "id": "WZsi-ESGpPUE",
        "outputId": "ce06f9b5-14a5-4971-cc81-c771ef6f8bbf",
        "vscode": {
          "languageId": "python"
        }
      },
      "outputs": [
        {
          "name": "stdout",
          "output_type": "stream",
          "text": [
            "[7, 1, 5, 3, 6, 4]\n",
            "There is a chance of profit\n",
            "1\n",
            "5\n",
            "3\n",
            "6\n",
            "4\n"
          ]
        }
      ],
      "source": [
        "prices = [7,1,5,3,6,4]\n",
        "print(prices)\n",
        "min_index_prices = prices.index(min(prices))\n",
        "if min_index_prices<len(prices):\n",
        "  print(\"There is a chance of profit\")\n",
        "  for i in range (min_index_prices,len(prices)-1):\n",
        "    print(prices[i])\n",
        "    "
      ]
    },
    {
      "cell_type": "code",
      "execution_count": null,
      "metadata": {
        "colab": {
          "base_uri": "https://localhost:8080/"
        },
        "id": "tP9IRaqbv4v4",
        "outputId": "a2dac122-b950-462a-cff3-865dd1228b4f",
        "vscode": {
          "languageId": "python"
        }
      },
      "outputs": [
        {
          "name": "stdout",
          "output_type": "stream",
          "text": [
            "[1, 2, 3, 4, 5, 6, 7]\n",
            "[1, 2, 3]\n",
            "[5, 6, 7, 1, 2, 3, 4]\n"
          ]
        }
      ],
      "source": [
        "nums= [1,2,3,4,5,6,7]\n",
        "#nums = [-1,-100,3,99]\n",
        "print(nums)\n",
        "k = 3\n",
        "print(nums[:k])\n",
        "# for i in range(0,k+1):\n",
        "#   nums.append(nums[i])\n",
        "#   #nums.pop(nums.index(nums[i]))\n",
        "for val in nums[:k+1]:\n",
        "  nums.append(val)\n",
        "  nums.pop(nums.index(val))\n",
        "\n",
        "print(nums)\n"
      ]
    },
    {
      "cell_type": "code",
      "execution_count": null,
      "metadata": {
        "colab": {
          "base_uri": "https://localhost:8080/"
        },
        "id": "n7yLi8hby0vG",
        "outputId": "5c3290f9-8c93-4da1-8ed2-4f33dc83edb2",
        "vscode": {
          "languageId": "python"
        }
      },
      "outputs": [
        {
          "name": "stdout",
          "output_type": "stream",
          "text": [
            "[1, 1, 1, 3, 3, 4, 3, 2, 4, 2]\n",
            "[1, 1, 1, 3, 3, 4, 3, 2, 4, 2]\n",
            "Value is there\n",
            "[1, 1, 3, 3, 4, 3, 2, 4, 2]\n",
            "Value is there\n",
            "[1, 3, 3, 4, 3, 2, 4, 2]\n",
            "Value is there\n",
            "[3, 3, 4, 3, 2, 4, 2]\n",
            "Value is there\n",
            "[3, 4, 3, 2, 4, 2]\n",
            "Value is there\n",
            "[4, 3, 2, 4, 2]\n",
            "Value is there\n",
            "[3, 2, 4, 2]\n",
            "Value is there\n",
            "[2, 4, 2]\n",
            "Value is there\n",
            "[4, 2]\n",
            "Value is there\n",
            "[2]\n",
            "Value is there\n"
          ]
        }
      ],
      "source": [
        "nums = [1,1,1,3,3,4,3,2,4,2]\n",
        "print(nums)\n",
        "for i in range(0,len(nums)):\n",
        "  print(nums[i:])\n",
        "  if nums[i] in nums[i:]:\n",
        "    print(\"Value is there\")\n",
        "    #return True\n",
        "  else:\n",
        "    print(\"Value is not there\")\n",
        "    #return False"
      ]
    },
    {
      "cell_type": "code",
      "execution_count": null,
      "metadata": {
        "colab": {
          "base_uri": "https://localhost:8080/"
        },
        "id": "vt1MTw8u07of",
        "outputId": "1c0afe7b-5dd6-445f-c736-a75b26f4a764",
        "vscode": {
          "languageId": "python"
        }
      },
      "outputs": [
        {
          "name": "stdout",
          "output_type": "stream",
          "text": [
            "[2, 14, 18, 22, 22]\n",
            "[14, 18, 22, 22]\n",
            "Value is not there\n",
            "[18, 22, 22]\n",
            "Value is not there\n",
            "[22, 22]\n",
            "Value is not there\n",
            "[22]\n",
            "Value is there\n",
            "[]\n",
            "Value is not there\n"
          ]
        }
      ],
      "source": [
        "nums = [2,14,18,22,22]\n",
        "print(nums)\n",
        "for i in range(0,len(nums)):\n",
        "  print(nums[i+1:])\n",
        "  if nums[i] in nums[i+1:]:\n",
        "    print(\"Value is there\")\n",
        "    #return True\n",
        "  else:\n",
        "    print(\"Value is not there\")\n",
        "    #return False"
      ]
    },
    {
      "cell_type": "code",
      "execution_count": null,
      "metadata": {
        "colab": {
          "base_uri": "https://localhost:8080/"
        },
        "id": "9aCeJEILqpN9",
        "outputId": "c481bfaf-7fb1-4936-87ff-2740d3e91c68",
        "vscode": {
          "languageId": "python"
        }
      },
      "outputs": [
        {
          "name": "stdout",
          "output_type": "stream",
          "text": [
            "['eat', 'tea', 'tan', 'ate', 'nat', 'bat']\n",
            "['eat', 'tea', 'ate', 'tan', 'nat']\n",
            "[]\n"
          ]
        }
      ],
      "source": [
        "strs = [\"eat\",\"tea\",\"tan\",\"ate\",\"nat\",\"bat\"]\n",
        "print(strs)\n",
        "final_ana_arr = []\n",
        "temp_ana_arr = []\n",
        "for i in range(len(strs)) :\n",
        "  #print(\"*********************\")\n",
        "  # if temp_ana_arr != []:\n",
        "  #   final_ana_arr.append(temp_ana_arr)\n",
        "  #   temp_ana_arr=[]\n",
        "  for val in strs[i+1:]:\n",
        "    #print(val)\n",
        "    if strs[i] not in temp_ana_arr:\n",
        "      temp_ana_arr.append(strs[i])\n",
        "    if strs[i]!=val and sorted(val)==sorted(strs[i]):\n",
        "      #print(\"anagram\")\n",
        "      if val not in temp_ana_arr:\n",
        "        temp_ana_arr.append(val)\n",
        "      # if strs[i] not in temp_ana_arr:\n",
        "      #   temp_ana_arr.append(strs[i])\n",
        "      # elif val not in temp_ana_arr:\n",
        "      #     temp_ana_arr.append(val)\n",
        "    else:\n",
        "      continue\n",
        "      print(\"*********************\")\n",
        "      print(\"not anagram\")\n",
        "      final_ana_arr.append(temp_ana_arr)\n",
        "      temp_ana_arr=[]\n",
        "\n",
        "print(temp_ana_arr)\n",
        "print(final_ana_arr)\n",
        "\n",
        "  # if strs[i][::-1] in  strs[i+1:]:\n",
        "  #   temp_ana_arr.append(strs[i])\n",
        "  #   temp_ana_arr.append(strs[i][::-1])\n",
        "  # else:\n",
        "  #   if temp_ana_arr!=[]:\n",
        "  #     final_ana_arr.append(temp_ana_arr)\n",
        "  #     temp_ana_arr = []\n",
        "\n",
        "#print(final_ana_arr)"
      ]
    },
    {
      "cell_type": "code",
      "execution_count": null,
      "metadata": {
        "id": "U8FLwp9_pnm2",
        "vscode": {
          "languageId": "python"
        }
      },
      "outputs": [],
      "source": [
        "strs = [\"eat\",\"tea\",\"tan\",\"ate\",\"nat\",\"bat\"]\n",
        "print(strs)\n",
        "final_ana_arr = []\n",
        "temp_ana_arr = []\n",
        "for i in range(len(strs)) :\n",
        "  #print(\"*********************\")\n",
        "  # if temp_ana_arr != []:\n",
        "  #   final_ana_arr.append(temp_ana_arr)\n",
        "  #   temp_ana_arr=[]\n",
        "  for val in strs[i+1:]:\n",
        "    #print(val)\n",
        "    if strs[i] not in temp_ana_arr:\n",
        "      temp_ana_arr.append(strs[i])\n",
        "    if strs[i]!=val and sorted(val)==sorted(strs[i]):\n",
        "      #print(\"anagram\")\n",
        "      if val not in temp_ana_arr:\n",
        "        temp_ana_arr.append(val)\n",
        "      # if strs[i] not in temp_ana_arr:\n",
        "      #   temp_ana_arr.append(strs[i])\n",
        "      # elif val not in temp_ana_arr:\n",
        "      #     temp_ana_arr.append(val)\n",
        "    else:\n",
        "      continue\n",
        "      print(\"*********************\")\n",
        "      print(\"not anagram\")\n",
        "      final_ana_arr.append(temp_ana_arr)\n",
        "      temp_ana_arr=[]\n",
        "\n",
        "print(temp_ana_arr)\n",
        "print(final_ana_arr)\n",
        "\n",
        "  # if strs[i][::-1] in  strs[i+1:]:\n",
        "  #   temp_ana_arr.append(strs[i])\n",
        "  #   temp_ana_arr.append(strs[i][::-1])\n",
        "  # else:\n",
        "  #   if temp_ana_arr!=[]:\n",
        "  #     final_ana_arr.append(temp_ana_arr)\n",
        "  #     temp_ana_arr = []\n",
        "\n",
        "#print(final_ana_arr)"
      ]
    },
    {
      "cell_type": "code",
      "execution_count": null,
      "metadata": {
        "colab": {
          "base_uri": "https://localhost:8080/"
        },
        "id": "Tjf2p9pIrXTS",
        "outputId": "0ce49007-6d47-4a41-8a6e-0b595fc17f66",
        "vscode": {
          "languageId": "python"
        }
      },
      "outputs": [
        {
          "name": "stdout",
          "output_type": "stream",
          "text": [
            "['tea', 'tan', 'ate', 'nat', 'bat']\n"
          ]
        }
      ],
      "source": [
        "strs = [\"eat\",\"tea\",\"tan\",\"ate\",\"nat\",\"bat\"]\n",
        "print(strs[1:])"
      ]
    },
    {
      "cell_type": "code",
      "execution_count": null,
      "metadata": {
        "colab": {
          "base_uri": "https://localhost:8080/"
        },
        "id": "_jxI7Esitai2",
        "outputId": "c2b83e35-e1f7-4722-b1e0-54d65c125407",
        "vscode": {
          "languageId": "python"
        }
      },
      "outputs": [
        {
          "name": "stdout",
          "output_type": "stream",
          "text": [
            "['eat', 'tea', 'tan', 'ate', 'nat', 'bat']\n",
            "[['eat'], ['eat', 'eat'], ['eat', 'eat'], ['eat'], ['tea', 'tea'], ['tea'], ['tea', 'tea'], ['tea'], ['tan'], ['tan'], ['tan'], ['tan'], ['tan', 'tan'], ['ate', 'ate', 'ate'], ['ate'], ['ate'], ['ate'], ['nat'], ['nat'], ['nat', 'nat'], ['nat'], ['nat'], ['bat'], ['bat'], ['bat'], ['bat'], ['bat'], ['bat']]\n"
          ]
        }
      ],
      "source": [
        "strs = [\"eat\",\"tea\",\"tan\",\"ate\",\"nat\",\"bat\"]\n",
        "print(strs)\n",
        "final_ana_arr = []\n",
        "temp_ana_arr = []\n",
        "for word_1 in strs: \n",
        "    for word_2 in strs: \n",
        "        if word_1 != word_2 and (sorted(word_1)==sorted(word_2)):\n",
        "            temp_ana_arr.append(word_1)\n",
        "        else:\n",
        "            temp_ana_arr.append(word_1)\n",
        "            final_ana_arr.append(temp_ana_arr)\n",
        "            temp_ana_arr=[]\n",
        "print(final_ana_arr)"
      ]
    },
    {
      "cell_type": "code",
      "execution_count": null,
      "metadata": {
        "colab": {
          "base_uri": "https://localhost:8080/"
        },
        "id": "HaQalQnGptEq",
        "outputId": "97033857-40d1-4372-83eb-7a34f3734f06",
        "vscode": {
          "languageId": "python"
        }
      },
      "outputs": [
        {
          "name": "stdout",
          "output_type": "stream",
          "text": [
            "['eat', 'tea', 'tan', 'ate', 'nat', 'bat']\n",
            "eat\n",
            "*********************\n",
            "[]\n",
            "[['eat', 'tea', 'ate']]\n",
            "['eat', 'tea', 'ate']\n",
            "*********************\n",
            "[]\n",
            "[['eat', 'tea', 'ate']]\n",
            "['eat', 'tea', 'ate']\n",
            "tan\n",
            "*********************\n",
            "[]\n",
            "[['eat', 'tea', 'ate'], ['tan', 'nat']]\n",
            "['tan', 'nat']\n",
            "ate\n",
            "*********************\n",
            "[]\n",
            "[['eat', 'tea', 'ate'], ['tan', 'nat'], ['ate']]\n",
            "['ate']\n",
            "nat\n",
            "*********************\n",
            "[]\n",
            "[['eat', 'tea', 'ate'], ['tan', 'nat'], ['ate'], ['nat']]\n",
            "['nat']\n",
            "bat\n",
            "*********************\n",
            "[]\n",
            "[['eat', 'tea', 'ate'], ['tan', 'nat'], ['ate'], ['nat'], []]\n",
            "[]\n"
          ]
        }
      ],
      "source": [
        "strs = [\"eat\",\"tea\",\"tan\",\"ate\",\"nat\",\"bat\"]\n",
        "print(strs)\n",
        "final_ana_arr = []\n",
        "temp_ana_arr = []\n",
        "checked_vals = []\n",
        "for i in range(len(strs)) :\n",
        "  #print(\"*********************\")\n",
        "  # if temp_ana_arr != []:\n",
        "  #   final_ana_arr.append(temp_ana_arr)\n",
        "  #   temp_ana_arr=[]\n",
        "  # print(strs[i+1:])\n",
        "  # print(temp_ana_arr)\n",
        "  # print(final_ana_arr)\n",
        "  if strs[i] not in checked_vals:\n",
        "    print(strs[i])\n",
        "    for val in strs[i+1:]:\n",
        "      #print(val)\n",
        "      if strs[i] not in temp_ana_arr:\n",
        "        temp_ana_arr.append(strs[i])\n",
        "      if strs[i]!=val and sorted(val)==sorted(strs[i]):\n",
        "        #print(\"anagram\")\n",
        "        if val not in temp_ana_arr:\n",
        "          temp_ana_arr.append(val)\n",
        "        # if strs[i] not in temp_ana_arr:\n",
        "        #   temp_ana_arr.append(strs[i])\n",
        "        # elif val not in temp_ana_arr:\n",
        "        #     temp_ana_arr.append(val)\n",
        "      else:\n",
        "        \n",
        "        continue\n",
        "        print(\"*********************\")\n",
        "        print(\"not anagram\")\n",
        "        final_ana_arr.append(temp_ana_arr)\n",
        "        temp_ana_arr=[]\n",
        "    final_ana_arr.append(temp_ana_arr)\n",
        "    checked_vals = temp_ana_arr\n",
        "    temp_ana_arr=[]\n",
        "  \n",
        "\n",
        "  print(\"*********************\")\n",
        "  print(temp_ana_arr)\n",
        "  print(final_ana_arr)\n",
        "  print(checked_vals)\n",
        "\n",
        "def check_if_element_present(self,val1,temp_ana_arr):\n",
        "  if val1 in temp_ana_arr:\n",
        "    return True\n",
        "  else:\n",
        "    return False\n",
        "\n"
      ]
    },
    {
      "cell_type": "code",
      "execution_count": null,
      "metadata": {
        "colab": {
          "base_uri": "https://localhost:8080/"
        },
        "id": "bqhFqKlocERR",
        "outputId": "45a8f99e-d2f3-447f-9a7a-b557c498bf3d",
        "vscode": {
          "languageId": "python"
        }
      },
      "outputs": [
        {
          "name": "stdout",
          "output_type": "stream",
          "text": [
            "['eat', 'tea', 'tan', 'ate', 'nat', 'bat']\n",
            "*******\n",
            "tea\n",
            "anagram\n",
            "not anagram\n",
            "ate\n",
            "anagram\n",
            "not anagram\n",
            "not anagram\n",
            "[]\n",
            "['eat', 'tea', 'ate']\n",
            "[['eat', 'tea', 'ate']]\n",
            "*******\n",
            "*******\n",
            "not anagram\n",
            "nat\n",
            "anagram\n",
            "not anagram\n",
            "[]\n",
            "['eat', 'tea', 'ate', 'tan', 'nat']\n",
            "[['eat', 'tea', 'ate'], ['tan', 'nat']]\n",
            "*******\n",
            "*******\n",
            "*******\n",
            "[]\n",
            "['eat', 'tea', 'ate', 'tan', 'nat', 'bat']\n",
            "[['eat', 'tea', 'ate'], ['tan', 'nat'], ['bat']]\n"
          ]
        }
      ],
      "source": [
        "#strs=[\"\",\"\"]\n",
        "#strs=[\"\"]\n",
        "strs = [\"eat\",\"tea\",\"tan\",\"ate\",\"nat\",\"bat\"]\n",
        "print(strs)\n",
        "final_ana_arr = []\n",
        "temp_ana_arr = []\n",
        "checked_vals = []\n",
        "for i in range(len(strs)) :\n",
        "  print(\"*******\")\n",
        "  if strs[i] not in checked_vals:\n",
        "    temp_ana_arr.append(strs[i])\n",
        "    checked_vals.append(strs[i])\n",
        "    for val in strs[i+1:]:\n",
        "      if strs[i]==val:\n",
        "        print(val)\n",
        "        print(\"anagram\")\n",
        "        temp_ana_arr.append(val)\n",
        "        checked_vals.append(val)\n",
        "      elif strs[i]!=val and sorted(val)==sorted(strs[i]):\n",
        "        print(val)\n",
        "        print(\"anagram\")\n",
        "        temp_ana_arr.append(val)\n",
        "        checked_vals.append(val)\n",
        "      else:\n",
        "        print(\"not anagram\")\n",
        "    if temp_ana_arr!=[]:\n",
        "      final_ana_arr.append(temp_ana_arr)\n",
        "      temp_ana_arr=[]\n",
        "    print(temp_ana_arr)\n",
        "    print(checked_vals)\n",
        "    print(final_ana_arr)"
      ]
    },
    {
      "cell_type": "code",
      "execution_count": null,
      "metadata": {
        "colab": {
          "base_uri": "https://localhost:8080/",
          "height": 249
        },
        "id": "cm1UeUeRkzDs",
        "outputId": "1b860d09-c8f7-4350-c9f2-e893cd24958e",
        "vscode": {
          "languageId": "python"
        }
      },
      "outputs": [
        {
          "name": "stdout",
          "output_type": "stream",
          "text": [
            "[3, 3]\n"
          ]
        },
        {
          "ename": "IndexError",
          "evalue": "ignored",
          "output_type": "error",
          "traceback": [
            "\u001b[0;31m---------------------------------------------------------------------------\u001b[0m",
            "\u001b[0;31mIndexError\u001b[0m                                Traceback (most recent call last)",
            "\u001b[0;32m<ipython-input-16-f97f9eaf011f>\u001b[0m in \u001b[0;36m<module>\u001b[0;34m()\u001b[0m\n\u001b[1;32m      6\u001b[0m \u001b[0;34m\u001b[0m\u001b[0m\n\u001b[1;32m      7\u001b[0m \u001b[0;32mfor\u001b[0m \u001b[0mi\u001b[0m \u001b[0;32min\u001b[0m \u001b[0mnums\u001b[0m\u001b[0;34m:\u001b[0m\u001b[0;34m\u001b[0m\u001b[0;34m\u001b[0m\u001b[0m\n\u001b[0;32m----> 8\u001b[0;31m   \u001b[0;32mif\u001b[0m \u001b[0mnums\u001b[0m\u001b[0;34m[\u001b[0m\u001b[0mi\u001b[0m\u001b[0;34m]\u001b[0m\u001b[0;34m>\u001b[0m\u001b[0;36m1\u001b[0m\u001b[0;34m:\u001b[0m\u001b[0;34m\u001b[0m\u001b[0;34m\u001b[0m\u001b[0m\n\u001b[0m\u001b[1;32m      9\u001b[0m     \u001b[0mduplicate_present\u001b[0m \u001b[0;34m=\u001b[0m \u001b[0;32mTrue\u001b[0m\u001b[0;34m\u001b[0m\u001b[0;34m\u001b[0m\u001b[0m\n\u001b[1;32m     10\u001b[0m   \u001b[0;32melse\u001b[0m\u001b[0;34m:\u001b[0m\u001b[0;34m\u001b[0m\u001b[0;34m\u001b[0m\u001b[0m\n",
            "\u001b[0;31mIndexError\u001b[0m: list index out of range"
          ]
        }
      ],
      "source": [
        "#nums = [1,1,1,3,3,4,3,2,4,2]\n",
        "nums=[3,3]\n",
        "print(nums)\n",
        "duplicate_present = False\n",
        "#return True for i in nums if nums[i]>1\n",
        "\n",
        "for i in nums:\n",
        "  if nums[i]>1:\n",
        "    duplicate_present = True\n",
        "  else:\n",
        "    continue\n",
        "    duplicate_present = False\n",
        "\n",
        "\n",
        "print(duplicate_present)\n"
      ]
    },
    {
      "cell_type": "code",
      "execution_count": null,
      "metadata": {
        "colab": {
          "base_uri": "https://localhost:8080/"
        },
        "id": "009m7CyZoTdj",
        "outputId": "c9a9d7d4-67aa-44bb-e552-44aff6ef1ac9",
        "vscode": {
          "languageId": "python"
        }
      },
      "outputs": [
        {
          "name": "stdout",
          "output_type": "stream",
          "text": [
            "[3, 3]\n",
            "True\n"
          ]
        }
      ],
      "source": [
        "#nums = [1,1,1,3,3,4,3,2,4,2]\n",
        "nums = [3,3]\n",
        "nums.sort()\n",
        "print(nums)\n",
        "duplicate_present = False\n",
        "for i in range(len(nums)-1):\n",
        "  if nums[i]==nums[i+1]:\n",
        "    duplicate_present = True\n",
        "  else:\n",
        "    continue\n",
        "\n",
        "print(duplicate_present)"
      ]
    },
    {
      "cell_type": "code",
      "execution_count": null,
      "metadata": {
        "colab": {
          "base_uri": "https://localhost:8080/"
        },
        "id": "Mi4HOxHHpbYY",
        "outputId": "b0f769c7-053e-4ba2-94fb-9cd8b9cf08d6",
        "vscode": {
          "languageId": "python"
        }
      },
      "outputs": [
        {
          "name": "stdout",
          "output_type": "stream",
          "text": [
            "[1, 1, 2, 2, 4]\n",
            "[2, 4]\n"
          ]
        }
      ],
      "source": [
        "nums=[4,1,2,1,2]\n",
        "nums.sort()\n",
        "print(nums)\n",
        "dupli_arr = []\n",
        "for i in range(len(nums)-1):\n",
        "  if nums[i]!=nums[i+1]:\n",
        "    dupli_arr.append(nums[i+1])\n",
        "    #duplicate_present = True\n",
        "  else:\n",
        "    continue \n",
        "\n",
        "print(dupli_arr)"
      ]
    },
    {
      "cell_type": "code",
      "execution_count": null,
      "metadata": {
        "colab": {
          "base_uri": "https://localhost:8080/"
        },
        "id": "rcjYPxYqIZ33",
        "outputId": "da463264-234a-4b1f-be8d-d8ee815bf035",
        "vscode": {
          "languageId": "python"
        }
      },
      "outputs": [
        {
          "name": "stdout",
          "output_type": "stream",
          "text": [
            "3\n",
            "[1, 2, 2, 3]\n",
            "While 1\n",
            "if 1\n",
            "While 1\n",
            "if 1\n",
            "While 2\n",
            "2\n",
            "While 1\n",
            "2\n"
          ]
        }
      ],
      "source": [
        "#nums= [3,2,1,7,6,9,8]\n",
        "nums =  [2,2,3,1]\n",
        "nums.sort()\n",
        "max_val = max(nums)\n",
        "print(max_val)\n",
        "print(nums)\n",
        "third_val = False\n",
        "max_cnt = 1\n",
        "while(third_val == False):\n",
        "  print(\"While 1\")\n",
        "  if max_cnt<3:\n",
        "    print(\"if 1\")\n",
        "    if nums.count(max(nums))>1:\n",
        "      while(nums.count(max(nums))>1):\n",
        "        print(\"While 2\")\n",
        "        print(max(nums))\n",
        "        nums.remove(max(nums))\n",
        "    else: \n",
        "      nums.remove(max(nums))\n",
        "    max_cnt+=1\n",
        "  elif max_cnt>2:\n",
        "    third_val = True\n",
        "    #return max(nums)\n",
        "print(max(nums))"
      ]
    },
    {
      "cell_type": "code",
      "execution_count": null,
      "metadata": {
        "colab": {
          "base_uri": "https://localhost:8080/"
        },
        "id": "CbYMUIbU93o7",
        "outputId": "8f9c67f8-d094-47e2-b950-573e587f9be6",
        "vscode": {
          "languageId": "python"
        }
      },
      "outputs": [
        {
          "name": "stdout",
          "output_type": "stream",
          "text": [
            "3\n",
            "[1, 2, 2, 3]\n",
            "While 1\n",
            "[1, 2, 2, 3]\n",
            "if 1\n",
            "2 condition\n",
            "While 1\n",
            "[1, 2, 2]\n",
            "if 1\n",
            "While 2\n",
            "[1, 2, 2]\n",
            "2\n",
            "While 1\n",
            "[1, 2]\n",
            "2\n"
          ]
        }
      ],
      "source": [
        "#nums= [1,2]\n",
        "#nums= [3,2,1,7,6,9,8]\n",
        "nums =  [2,2,3,1]\n",
        "#nums = [1, 1, 1]\n",
        "nums.sort()\n",
        "max_val = max(nums)\n",
        "print(max_val)\n",
        "print(nums)\n",
        "third_val = False\n",
        "max_cnt = 1\n",
        "prev_max = 0\n",
        "discarded_max = []\n",
        "while(third_val == False):\n",
        "  print(\"While 1\")\n",
        "  print(nums)\n",
        "  if max_cnt<3:\n",
        "    print(\"if 1\")\n",
        "    if nums.count(max(nums))>1:\n",
        "      # for i in range(nums.count(max(nums))):\n",
        "      #   discarded_max.append(max(nums))\n",
        "      #   nums.remove(max(nums))\n",
        "      while(nums.count(max(nums))>1):\n",
        "        print(\"While 2\")\n",
        "        print(nums)\n",
        "        print(max(nums))\n",
        "        #prev_max = max(nums)\n",
        "        discarded_max.append(max(nums))\n",
        "        nums.remove(max(nums))\n",
        "\n",
        "    else: \n",
        "      print(\"2 condition\")\n",
        "      #prev_max = max(nums)\n",
        "      discarded_max.append(max(nums))\n",
        "      nums.remove(max(nums))\n",
        "    max_cnt+=1\n",
        "  elif max_cnt>2:\n",
        "    third_val = True\n",
        "    #return max(nums)\n",
        "if nums==[]:\n",
        "  print(max(discarded_max))\n",
        "else:\n",
        "  print(max(nums))\n",
        "#print(max(nums))"
      ]
    },
    {
      "cell_type": "code",
      "execution_count": null,
      "metadata": {
        "colab": {
          "base_uri": "https://localhost:8080/",
          "height": 300
        },
        "id": "NNjz6M4YGobF",
        "outputId": "028098d5-38d4-4c27-ab56-31ade2821829",
        "vscode": {
          "languageId": "python"
        }
      },
      "outputs": [
        {
          "name": "stdout",
          "output_type": "stream",
          "text": [
            "[1, 1, 1]\n",
            "{1}\n",
            "While 1\n",
            "While 1\n"
          ]
        },
        {
          "ename": "ValueError",
          "evalue": "ignored",
          "output_type": "error",
          "traceback": [
            "\u001b[0;31m---------------------------------------------------------------------------\u001b[0m",
            "\u001b[0;31mValueError\u001b[0m                                Traceback (most recent call last)",
            "\u001b[0;32m<ipython-input-1-02cf3c6fd6a0>\u001b[0m in \u001b[0;36m<module>\u001b[0;34m()\u001b[0m\n\u001b[1;32m     16\u001b[0m   \u001b[0mprint\u001b[0m\u001b[0;34m(\u001b[0m\u001b[0;34m\"While 1\"\u001b[0m\u001b[0;34m)\u001b[0m\u001b[0;34m\u001b[0m\u001b[0;34m\u001b[0m\u001b[0m\n\u001b[1;32m     17\u001b[0m   \u001b[0;32mif\u001b[0m \u001b[0mmax_cnt\u001b[0m\u001b[0;34m<\u001b[0m\u001b[0;36m3\u001b[0m\u001b[0;34m:\u001b[0m\u001b[0;34m\u001b[0m\u001b[0;34m\u001b[0m\u001b[0m\n\u001b[0;32m---> 18\u001b[0;31m     \u001b[0mdiscarded_max\u001b[0m\u001b[0;34m.\u001b[0m\u001b[0mappend\u001b[0m\u001b[0;34m(\u001b[0m\u001b[0mmax\u001b[0m\u001b[0;34m(\u001b[0m\u001b[0munique_nums\u001b[0m\u001b[0;34m)\u001b[0m\u001b[0;34m)\u001b[0m\u001b[0;34m\u001b[0m\u001b[0;34m\u001b[0m\u001b[0m\n\u001b[0m\u001b[1;32m     19\u001b[0m     \u001b[0munique_nums\u001b[0m\u001b[0;34m.\u001b[0m\u001b[0mdiscard\u001b[0m\u001b[0;34m(\u001b[0m\u001b[0mmax\u001b[0m\u001b[0;34m(\u001b[0m\u001b[0munique_nums\u001b[0m\u001b[0;34m)\u001b[0m\u001b[0;34m)\u001b[0m\u001b[0;34m\u001b[0m\u001b[0;34m\u001b[0m\u001b[0m\n\u001b[1;32m     20\u001b[0m     \u001b[0mmax_cnt\u001b[0m\u001b[0;34m+=\u001b[0m\u001b[0;36m1\u001b[0m\u001b[0;34m\u001b[0m\u001b[0;34m\u001b[0m\u001b[0m\n",
            "\u001b[0;31mValueError\u001b[0m: max() arg is an empty sequence"
          ]
        }
      ],
      "source": [
        "#nums= [1,2]\n",
        "#nums= [3,2,1,7,6,9,8]\n",
        "#nums =  [2,2,3,1]\n",
        "nums = [1,1,1]\n",
        "nums.sort()\n",
        "nums.reverse()\n",
        "print(nums)\n",
        "unique_nums = set()\n",
        "for val in nums:\n",
        "  unique_nums.add(val)\n",
        "print(unique_nums)\n",
        "third_val = False\n",
        "max_cnt = 1\n",
        "discarded_max = []\n",
        "while(third_val == False):\n",
        "  print(\"While 1\")\n",
        "  if max_cnt<3:\n",
        "    discarded_max.append(max(unique_nums))\n",
        "    unique_nums.discard(max(unique_nums))\n",
        "    max_cnt+=1\n",
        "  else: \n",
        "    third_val = True\n",
        "print(discarded_max)\n",
        "print(unique_nums)\n",
        "if unique_nums==set():\n",
        "  print(max(discarded_max))\n",
        "else:\n",
        "  print(max(unique_nums))"
      ]
    },
    {
      "cell_type": "code",
      "execution_count": null,
      "metadata": {
        "colab": {
          "base_uri": "https://localhost:8080/"
        },
        "id": "1TpdYk5Y7KCI",
        "outputId": "e9248dd4-602b-4c5d-9eef-1a15db525060",
        "vscode": {
          "languageId": "python"
        }
      },
      "outputs": [
        {
          "name": "stdout",
          "output_type": "stream",
          "text": [
            "[9, 8, 7, 6, 3, 2, 1]\n",
            "[9, 8, 7, 6, 3, 2, 1]\n",
            "9\n",
            "[8, 7, 6, 3, 2, 1]\n",
            "8\n",
            "[7, 6, 3, 2, 1]\n",
            "7\n",
            "[6, 3, 2, 1]\n",
            "6\n",
            "[3, 2, 1]\n",
            "3\n",
            "[2, 1]\n",
            "2\n",
            "[1]\n",
            "1\n"
          ]
        }
      ],
      "source": [
        "#nums = [1,1,1]\n",
        "nums= [3,2,1,7,6,9,8]\n",
        "nums.sort()\n",
        "nums.reverse()\n",
        "print(nums)\n",
        "third_val = False\n",
        "for i in range(len(nums)):\n",
        "  print(nums[i:])\n",
        "  print(max(nums[i:]))\n",
        "  "
      ]
    },
    {
      "cell_type": "code",
      "execution_count": null,
      "metadata": {
        "colab": {
          "base_uri": "https://localhost:8080/"
        },
        "id": "JXgWqDlhDwU-",
        "outputId": "9868f8a0-4c79-41ef-9053-ce75a721208f",
        "vscode": {
          "languageId": "python"
        }
      },
      "outputs": [
        {
          "name": "stdout",
          "output_type": "stream",
          "text": [
            "[1, 2, 3, 6, 7, 8, 9, 17]\n"
          ]
        }
      ],
      "source": [
        "nums= [9, 8, 7, 6, 3, 2, 1]\n",
        "nums.sort()\n",
        "nums.append(17)\n",
        "print(nums)"
      ]
    },
    {
      "cell_type": "code",
      "execution_count": null,
      "metadata": {
        "id": "5b6urj5y733Y",
        "vscode": {
          "languageId": "python"
        }
      },
      "outputs": [],
      "source": []
    },
    {
      "cell_type": "code",
      "execution_count": null,
      "metadata": {
        "colab": {
          "base_uri": "https://localhost:8080/"
        },
        "id": "JTXK-wpO74a4",
        "outputId": "7f145785-f530-4b8b-9374-32057093a0c2",
        "vscode": {
          "languageId": "python"
        }
      },
      "outputs": [
        {
          "name": "stdout",
          "output_type": "stream",
          "text": [
            "['eat', 'tea', 'tan', 'ate', 'nat', 'bat']\n",
            "*******\n",
            "tea\n",
            "anagram\n",
            "not anagram\n",
            "ate\n",
            "anagram\n",
            "not anagram\n",
            "not anagram\n",
            "[]\n",
            "['eat', 'tea', 'ate']\n",
            "[['eat', 'tea', 'ate']]\n",
            "*******\n",
            "*******\n",
            "not anagram\n",
            "nat\n",
            "anagram\n",
            "not anagram\n",
            "[]\n",
            "['eat', 'tea', 'ate', 'tan', 'nat']\n",
            "[['eat', 'tea', 'ate'], ['tan', 'nat']]\n",
            "*******\n",
            "*******\n",
            "*******\n",
            "[]\n",
            "['eat', 'tea', 'ate', 'tan', 'nat', 'bat']\n",
            "[['eat', 'tea', 'ate'], ['tan', 'nat'], ['bat']]\n"
          ]
        }
      ],
      "source": [
        "#strs=[\"\",\"\"]\n",
        "#strs=[\"\"]\n",
        "strs = [\"eat\",\"tea\",\"tan\",\"ate\",\"nat\",\"bat\"]\n",
        "print(strs)\n",
        "final_ana_arr = []\n",
        "temp_ana_arr = []\n",
        "checked_vals = []\n",
        "for i in range(len(strs)) :\n",
        "  print(\"*******\")\n",
        "  if strs[i] not in checked_vals:\n",
        "    temp_ana_arr.append(strs[i])\n",
        "    checked_vals.append(strs[i])\n",
        "    for val in strs[i+1:]:\n",
        "      if strs[i]==val:\n",
        "        print(val)\n",
        "        print(\"anagram\")\n",
        "        temp_ana_arr.append(val)\n",
        "        checked_vals.append(val)\n",
        "      elif strs[i]!=val and sorted(val)==sorted(strs[i]):\n",
        "        print(val)\n",
        "        print(\"anagram\")\n",
        "        temp_ana_arr.append(val)\n",
        "        checked_vals.append(val)\n",
        "      else:\n",
        "        print(\"not anagram\")\n",
        "    if temp_ana_arr!=[]:\n",
        "      final_ana_arr.append(temp_ana_arr)\n",
        "      temp_ana_arr=[]\n",
        "    print(temp_ana_arr)\n",
        "    print(checked_vals)\n",
        "    print(final_ana_arr)"
      ]
    },
    {
      "cell_type": "code",
      "execution_count": null,
      "metadata": {
        "id": "gcFApKqM7_qs",
        "vscode": {
          "languageId": "python"
        }
      },
      "outputs": [],
      "source": [
        "strs = [\"eat\",\"tea\",\"tan\",\"ate\",\"nat\",\"bat\"]\n",
        "print(strs)\n",
        "final_ana_arr = []\n",
        "temp_ana_arr = []\n",
        "checked_vals = []\n",
        "check_val = strs[0]\n",
        "for i in range(1,len(strs)):\n",
        "  if check_val != strs[i] or sorted(check_val)==sorted(strs[i]):\n",
        "    temp_ana_arr.append(check_val)\n",
        "  if "
      ]
    },
    {
      "cell_type": "code",
      "execution_count": null,
      "metadata": {
        "colab": {
          "base_uri": "https://localhost:8080/"
        },
        "id": "SJ0Yq8k49ARY",
        "outputId": "2be1ec67-9c2c-461f-e9b5-9f517339a665",
        "vscode": {
          "languageId": "python"
        }
      },
      "outputs": [
        {
          "name": "stdout",
          "output_type": "stream",
          "text": [
            "['eat', 'tea', 'tan', 'ate', 'nat', 'bat']\n",
            "tea\n",
            "tan\n",
            "ate\n",
            "nat\n",
            "bat\n",
            "tan\n",
            "ate\n",
            "nat\n",
            "bat\n",
            "ate\n",
            "nat\n",
            "bat\n",
            "nat\n",
            "bat\n",
            "bat\n",
            "[['eat', 'tea', 'tan', 'ate', 'nat', 'bat'], ['tea', 'tan', 'ate', 'nat', 'bat'], ['tan', 'ate', 'nat', 'bat'], ['ate', 'nat', 'bat'], ['nat', 'bat'], ['bat']]\n"
          ]
        }
      ],
      "source": [
        "strs = [\"eat\",\"tea\",\"tan\",\"ate\",\"nat\",\"bat\"]\n",
        "print(strs)\n",
        "final_ana_arr = []\n",
        "temp_ana_arr = []\n",
        "checked_vals = []\n",
        "for i in range(len(strs)):\n",
        "  check_val = strs[i]\n",
        "  if check_val not in final_ana_arr: temp_ana_arr.append(check_val)\n",
        "  for val in strs[i+1:]:\n",
        "    print(val)\n",
        "    if check_val != val or sorted(check_val)==sorted(val):\n",
        "      if val not in final_ana_arr: temp_ana_arr.append(val)\n",
        "  if temp_ana_arr!=[]:\n",
        "    final_ana_arr.append(temp_ana_arr)\n",
        "    temp_ana_arr = []\n",
        "print(final_ana_arr)"
      ]
    },
    {
      "cell_type": "code",
      "execution_count": null,
      "metadata": {
        "colab": {
          "base_uri": "https://localhost:8080/"
        },
        "id": "aFzCqOaNA55b",
        "outputId": "e82d92e1-f1b6-4f5d-8541-37ded4b3ed37",
        "vscode": {
          "languageId": "python"
        }
      },
      "outputs": [
        {
          "name": "stdout",
          "output_type": "stream",
          "text": [
            "[4, 1, 2, 1, 2]\n",
            "[1, 1, 2, 2, 4]\n"
          ]
        }
      ],
      "source": [
        "nums = [4,1,2,1,2]\n",
        "print(nums)\n",
        "nums.sort()\n",
        "print(nums)\n",
        "for val in nums:\n",
        "  if nums.count(val) > 1:\n",
        "    return val\n",
        "  else:\n",
        "    continue"
      ]
    },
    {
      "cell_type": "code",
      "execution_count": null,
      "metadata": {
        "colab": {
          "base_uri": "https://localhost:8080/"
        },
        "id": "YxcAlL4nDLbu",
        "outputId": "b682ecb3-28f7-4c6d-f970-29cb5f687b29",
        "vscode": {
          "languageId": "python"
        }
      },
      "outputs": [
        {
          "name": "stdout",
          "output_type": "stream",
          "text": [
            "[1, 2, 2, 1]\n",
            "[2, 2]\n"
          ]
        }
      ],
      "source": [
        "nums1 = [1,2,2,1]\n",
        "nums2 = [2,2]\n",
        "print(nums1)\n",
        "print(nums2)\n"
      ]
    },
    {
      "cell_type": "code",
      "execution_count": null,
      "metadata": {
        "colab": {
          "base_uri": "https://localhost:8080/"
        },
        "id": "RZhT3mv9RY_z",
        "outputId": "56c97af2-6824-49e2-ec52-a12d6d9163c3",
        "vscode": {
          "languageId": "python"
        }
      },
      "outputs": [
        {
          "name": "stdout",
          "output_type": "stream",
          "text": [
            "['eat', 'tea', 'tan', 'ate', 'nat', 'bat']\n",
            "eat\n",
            "[]\n",
            "[['eat', 'tea', 'ate']]\n",
            "{'eat', 'tea', 'ate'}\n",
            "tea\n",
            "[]\n",
            "[['eat', 'tea', 'ate'], ['ate']]\n",
            "{'eat', 'tea', 'ate'}\n",
            "tan\n",
            "[]\n",
            "[['eat', 'tea', 'ate'], ['ate'], ['tan', 'nat']]\n",
            "{'ate', 'tan', 'nat', 'tea', 'eat'}\n",
            "ate\n",
            "[]\n",
            "[['eat', 'tea', 'ate'], ['ate'], ['tan', 'nat']]\n",
            "{'ate', 'tan', 'nat', 'tea', 'eat'}\n",
            "nat\n",
            "[]\n",
            "[['eat', 'tea', 'ate'], ['ate'], ['tan', 'nat']]\n",
            "{'ate', 'tan', 'nat', 'tea', 'eat'}\n",
            "bat\n",
            "[]\n",
            "[['eat', 'tea', 'ate'], ['ate'], ['tan', 'nat'], ['bat']]\n",
            "{'bat', 'ate', 'tan', 'nat', 'tea', 'eat'}\n",
            "[['eat', 'tea', 'ate'], ['ate'], ['tan', 'nat'], ['bat']]\n"
          ]
        }
      ],
      "source": [
        "strs = [\"eat\",\"tea\",\"tan\",\"ate\",\"nat\",\"bat\"]\n",
        "#strs = [\"\",\"\"]\n",
        "print(strs)\n",
        "final_ana_arr = []\n",
        "temp_ana_arr = []\n",
        "checked_vals = set()\n",
        "for i in range(len(strs)):\n",
        "  check_val = strs[i]\n",
        "  print(check_val)\n",
        "  # if check_val in checked_vals:\n",
        "  #   #continue\n",
        "  #   print('inside cond')\n",
        "  # else:\n",
        "  for val in strs[i+1:]:\n",
        "      #print(val)\n",
        "      if check_val != val and sorted(check_val)==sorted(val):\n",
        "        if check_val not in temp_ana_arr and check_val not in checked_vals : temp_ana_arr.append(check_val)\n",
        "        temp_ana_arr.append(val)\n",
        "        checked_vals.add(check_val)\n",
        "        checked_vals.add(val)\n",
        "      elif check_val == val:\n",
        "        if check_val not in temp_ana_arr and check_val not in checked_vals : temp_ana_arr.append(check_val)\n",
        "        if val not in temp_ana_arr and val not in checked_vals : temp_ana_arr.append(val)\n",
        "        checked_vals.add(check_val)\n",
        "        checked_vals.add(val)\n",
        "  if temp_ana_arr !=[]:\n",
        "      final_ana_arr.append(temp_ana_arr)\n",
        "      temp_ana_arr = []\n",
        "  elif   check_val not in checked_vals:\n",
        "      temp_ana_arr.append(check_val)\n",
        "      checked_vals.add(check_val)\n",
        "      final_ana_arr.append(temp_ana_arr)\n",
        "      temp_ana_arr = []\n",
        "\n",
        "  print(temp_ana_arr)\n",
        "  print(final_ana_arr)\n",
        "  print(checked_vals)\n",
        "\n",
        "print(final_ana_arr)"
      ]
    },
    {
      "cell_type": "code",
      "execution_count": null,
      "metadata": {
        "id": "uTFAZvWWZp_2",
        "vscode": {
          "languageId": "python"
        }
      },
      "outputs": [],
      "source": [
        "  # print(strs)\n",
        "  #       final_ana_arr = []\n",
        "  #       temp_ana_arr = []\n",
        "  #       checked_vals = set()\n",
        "  #       for i in range(len(strs)):\n",
        "  #         check_val = strs[i]\n",
        "  #         print(check_val)\n",
        "  #         if check_val in checked_vals:\n",
        "  #           continue\n",
        "  #         else:\n",
        "  #           for val in strs[i+1:]:\n",
        "  #             #print(val)\n",
        "  #             if check_val != val and sorted(check_val)==sorted(val):\n",
        "  #               if check_val not in temp_ana_arr and check_val not in checked_vals : temp_ana_arr.append(check_val)\n",
        "  #               temp_ana_arr.append(val)\n",
        "  #               checked_vals.add(check_val)\n",
        "  #               checked_vals.add(val)\n",
        "  #           if temp_ana_arr !=[]:\n",
        "  #             final_ana_arr.append(temp_ana_arr)\n",
        "  #             temp_ana_arr = []\n",
        "  #           elif   check_val not in checked_vals:\n",
        "  #             temp_ana_arr.append(check_val)\n",
        "  #             checked_vals.add(check_val)\n",
        "  #             final_ana_arr.append(temp_ana_arr)\n",
        "  #             temp_ana_arr = []\n",
        "\n",
        "  #           print(temp_ana_arr)\n",
        "  #           print(final_ana_arr)\n",
        "  #           print(checked_vals)\n",
        "\n",
        "  #       print(final_ana_arr)\n",
        "  #       return final_ana_arr\n",
        "        \n",
        "        "
      ]
    },
    {
      "cell_type": "code",
      "execution_count": null,
      "metadata": {
        "colab": {
          "base_uri": "https://localhost:8080/"
        },
        "id": "g61NvXauGnni",
        "outputId": "09abbd51-64d8-4ed1-f2a0-0d0129391759",
        "vscode": {
          "languageId": "python"
        }
      },
      "outputs": [
        {
          "name": "stdout",
          "output_type": "stream",
          "text": [
            "[0, 1]\n"
          ]
        }
      ],
      "source": [
        "#\n",
        "# https://leetcode.com/problems/two-sum/\n",
        "#\n",
        "\n",
        "nums = [2,7,11,15]\n",
        "target = 9\n",
        "index_arr = []\n",
        "for i in range (len(nums)):\n",
        "  val1 = target - nums[i]\n",
        "  if val1 in nums[i+1:] :  \n",
        "    index_arr.append(i)\n",
        "    index_arr.append(nums.index(val1))\n",
        "\n",
        "print(index_arr)"
      ]
    },
    {
      "cell_type": "code",
      "execution_count": null,
      "metadata": {
        "colab": {
          "base_uri": "https://localhost:8080/"
        },
        "id": "ZFH9FK0PL5zE",
        "outputId": "a6ade716-8b89-4802-ebf5-dd2a68e9204f",
        "vscode": {
          "languageId": "python"
        }
      },
      "outputs": [
        {
          "name": "stdout",
          "output_type": "stream",
          "text": [
            "[1, 2, 3]\n",
            "1\n",
            "even\n",
            "2\n",
            "2.00000\n"
          ]
        }
      ],
      "source": [
        "# nums1 = [1,2]\n",
        "# nums2 = [3,4]\n",
        "# nums1 = [0,0]\n",
        "# nums2 = [0,0]\n",
        "# nums1 = []\n",
        "# nums2 = [1]\n",
        "# nums1 = [2]\n",
        "# nums2 = []\n",
        "nums1 = [1,3]\n",
        "nums2 = [2]\n",
        "\n",
        "\n",
        "unified_nums = []\n",
        "unified_nums.extend(nums1)\n",
        "unified_nums.extend(nums2)\n",
        "unified_nums.sort()\n",
        "print(unified_nums)\n",
        "median_index = int(len(unified_nums)/2)\n",
        "print(median_index)\n",
        "if median_index > 1 or len(unified_nums) > 1:\n",
        "  if len(unified_nums) % 2 == 0 : \n",
        "    print('odd')\n",
        "    val1 = unified_nums[median_index-1]\n",
        "    val2 = unified_nums[median_index]\n",
        "    median_val = (val1+val2)/2\n",
        "  else: \n",
        "    print('even')\n",
        "    val1 = unified_nums[median_index]\n",
        "    median_val = val1\n",
        "else:\n",
        "  val1 = unified_nums[median_index-1]\n",
        "  median_val = val1\n",
        "\n",
        "print(median_val)\n",
        "print('{0:.5f}'.format(median_val))"
      ]
    },
    {
      "cell_type": "code",
      "execution_count": null,
      "metadata": {
        "colab": {
          "base_uri": "https://localhost:8080/"
        },
        "id": "2hQ3Q_bvuN4i",
        "outputId": "c7e69787-fd11-427a-8b2e-1b91afd660b0",
        "vscode": {
          "languageId": "python"
        }
      },
      "outputs": [
        {
          "name": "stdout",
          "output_type": "stream",
          "text": [
            "[7, 0, 8]\n"
          ]
        }
      ],
      "source": [
        "l1 = [2,4,3]\n",
        "l2 = [5,6,4]\n",
        "l1.reverse()\n",
        "l2.reverse()\n",
        "str_l1 = ''\n",
        "str_l2 = ''\n",
        "result_arr = []\n",
        "for val in l1:\n",
        "  str_l1+=str(val)\n",
        "for val in l2:\n",
        "  str_l2+=str(val)\n",
        "\n",
        "str_sum = int(str_l1)+int(str_l2)\n",
        "\n",
        "for val in str(str_sum):\n",
        "  result_arr.insert(0,int(val))\n",
        "\n",
        "print(result_arr)\n"
      ]
    },
    {
      "cell_type": "code",
      "execution_count": null,
      "metadata": {
        "id": "0mUt_Mwiwe9C",
        "vscode": {
          "languageId": "python"
        }
      },
      "outputs": [],
      "source": [
        "TypeError: 'ListNode' object is not iterable\n",
        "    list(l1).reverse()\n",
        "Line 8 in addTwoNumbers (Solution.py)\n",
        "    ret = Solution().addTwoNumbers(param_1, param_2)\n",
        "Line 48 in _driver (Solution.py)\n",
        "    _driver()\n",
        "Line 59 in <module> (Solution.py)"
      ]
    },
    {
      "cell_type": "code",
      "execution_count": null,
      "metadata": {
        "id": "-i8DksFJ63K8",
        "vscode": {
          "languageId": "python"
        }
      },
      "outputs": [],
      "source": [
        "# import re\n",
        "# verbose_item_pattern = re.compile(r\"\"\"\n",
        "#     $            # end of line boundary\n",
        "#     \\s{1,2}      # 1-or-2 whitespace character, including the newline\n",
        "#     I            # a capital I\n",
        "#     [tT][eE][mM] # one character from each of the three sets this allows for unknown case\n",
        "#     \\s+          # 1-or-more whitespaces INCLUDING newline\n",
        "#     \\d{1,2}      # 1-or-2 digits\n",
        "#     [.]?         # 0-or-1 literal .\n",
        "#     \\(?          # 0-or-1 literal open paren\n",
        "#     [a-e]?       # 0-or-1 letter in the range a-e\n",
        "#     \\)?          # 0-or-1 closing paren\n",
        "#     .*           # any number of unknown characters so we can have words and punctuation\n",
        "#     [^0-9]       # anything but [0-9]\n",
        "#     $            # end of line boundary\n",
        "#     \"\"\", re.VERBOSE|re.MULTILINE)\n",
        "\n",
        "# x = verbose_item_pattern.search(\"\"\"\n",
        "#  Item 1.0(a) foo bar\n",
        "# \"\"\")\n",
        "\n",
        "# print(x)"
      ]
    },
    {
      "cell_type": "code",
      "execution_count": null,
      "metadata": {
        "colab": {
          "base_uri": "https://localhost:8080/"
        },
        "id": "OMGDW9AkwgZo",
        "outputId": "451ea87f-13f6-439b-ce1d-5aca38288807",
        "vscode": {
          "languageId": "python"
        }
      },
      "outputs": [
        {
          "name": "stdout",
          "output_type": "stream",
          "text": [
            "mississippi\n",
            "mis*is*p*.\n",
            "m\n",
            "i\n",
            "only symbol\n",
            "True\n",
            "i\n",
            "s\n",
            "only symbol\n",
            "False\n",
            "s\n",
            "*\n",
            "only symbol\n",
            "False\n",
            "*\n",
            "i\n",
            "only symbol\n",
            "False\n",
            "i\n",
            "s\n",
            "only symbol\n",
            "False\n",
            "s\n",
            "*\n",
            "only symbol\n",
            "False\n",
            "*\n",
            "p\n",
            "only symbol\n",
            "False\n",
            "p\n",
            "*\n",
            "only symbol\n",
            "False\n",
            "*\n",
            ".\n",
            "only symbol\n",
            "False\n"
          ]
        }
      ],
      "source": [
        "#\n",
        "# https://leetcode.com/problems/regular-expression-matching/\n",
        "#\n",
        "\n",
        "s = \"mississippi\"\n",
        "p = \"mis*is*p*.\"\n",
        "import re\n",
        "# s = 'aa'\n",
        "# p = 'a*'\n",
        "\n",
        "print(s)\n",
        "print(p)\n",
        "\n",
        "# validator_status = re.compile(p)\n",
        "# print(validator_status)\n",
        "# validator_status_result = validator_status.search(s)\n",
        "# print(validator_status_result)\n",
        "\n",
        "if '*' not in p and '.' not in p :\n",
        "  if s == p : print(\"true\")\n",
        "  else : print('False')\n",
        "else:\n",
        "  j = 0\n",
        "  for i in range(len(p)-1):\n",
        "    print(p[i])\n",
        "    print(p[i+1])\n",
        "    #j = i\n",
        "    if (p[i]!='*' or p[i]!='.') and (p[i+1]!='*' or p[i+1]!='.') :\n",
        "      print(\"only symbol\")\n",
        "      if p[i] == s[j] : print(\"True\")\n",
        "      else : print(\"False\")\n",
        "    else:\n",
        "    #elif (p[i]!='*' or p[i]!='.') and (p[i+1]=='*' or p[i+1]=='.'):\n",
        "      print(\"First Char and second symbol\")\n",
        "      temp_flag = True\n",
        "      while(temp_flag):\n",
        "        if p[i] == s[j] : \n",
        "          print(\"True\")\n",
        "          j+=1\n",
        "        else:\n",
        "          temp_flag = False\n",
        "\n",
        "      \n",
        "        \n",
        "\n"
      ]
    },
    {
      "cell_type": "code",
      "execution_count": null,
      "metadata": {
        "colab": {
          "base_uri": "https://localhost:8080/"
        },
        "id": "g1jZ4AqoSM3D",
        "outputId": "c9d92c75-5383-4b91-8f06-f0948e8d5415",
        "vscode": {
          "languageId": "python"
        }
      },
      "outputs": [
        {
          "name": "stdout",
          "output_type": "stream",
          "text": [
            "aab\n",
            "\n",
            "a\n",
            "a\n",
            "\n",
            "aa\n",
            "\n",
            "aab\n",
            "['aab']\n",
            "['aab']\n",
            "3\n"
          ]
        }
      ],
      "source": [
        "#s = \"pwwkew\"\n",
        "#s = \"bbbbb\"\n",
        "#s = \"abcabcbb\"\n",
        "#s = \"\"\n",
        "s = \"aab\"\n",
        "print(s)\n",
        "longtest_substr = ''\n",
        "substr_arr = []\n",
        "for i in range(len(s)):\n",
        "  print(s[:i])\n",
        "  print(s[i:1:])\n",
        "  if s[i] not in longtest_substr : longtest_substr+=s[i]\n",
        "  elif s[i] in longtest_substr and s[i] not in s[i:0:] : longtest_substr+=s[i]\n",
        "  else : \n",
        "    substr_arr.append(longtest_substr)\n",
        "    longtest_substr = ''\n",
        "if longtest_substr!='' and longtest_substr not in substr_arr : substr_arr.append(longtest_substr)\n",
        "print(longtest_substr)\n",
        "print(substr_arr)\n",
        "substr_arr.sort()\n",
        "print(substr_arr)\n",
        "if substr_arr == []:\n",
        "  print(0)\n",
        "else:\n",
        "  print(len(substr_arr[0]))"
      ]
    },
    {
      "cell_type": "code",
      "execution_count": null,
      "metadata": {
        "id": "9--1zsc1pstj",
        "vscode": {
          "languageId": "python"
        }
      },
      "outputs": [],
      "source": [
        "s = \"aab\"\n",
        "print(s)\n",
        "longtest_substr = ''\n",
        "substr_arr = []\n"
      ]
    },
    {
      "cell_type": "code",
      "execution_count": null,
      "metadata": {
        "colab": {
          "base_uri": "https://localhost:8080/"
        },
        "id": "S7Fj8riaqzn4",
        "outputId": "18e19927-e7b7-445d-830f-fa61167db6fa",
        "vscode": {
          "languageId": "python"
        }
      },
      "outputs": [
        {
          "name": "stdout",
          "output_type": "stream",
          "text": [
            "([)]\n"
          ]
        }
      ],
      "source": [
        " s = \"([)]\"\n",
        " print(s)\n",
        " open_b ='({['\n",
        " close_b = ')}]'\n",
        " return_flag = False\n",
        " for i in range(len(s)):\n",
        "   if s[i] in open_b: \n",
        "     index_val = open_b.index(s[i])\n",
        "     if close_b[index_val] in s[i+1:]:\n",
        "       "
      ]
    },
    {
      "cell_type": "code",
      "execution_count": null,
      "metadata": {
        "colab": {
          "base_uri": "https://localhost:8080/"
        },
        "id": "E0CNf_W4s_2i",
        "outputId": "ce8a9626-92c7-48ad-eea6-d2d1446ab7fa",
        "vscode": {
          "languageId": "python"
        }
      },
      "outputs": [
        {
          "name": "stdout",
          "output_type": "stream",
          "text": [
            "{[]}\n",
            "}\n",
            "8888\n",
            "{[]}\n",
            "Wrong\n"
          ]
        }
      ],
      "source": [
        "s = \"([)]\"\n",
        "s = \"()[]{}\"\n",
        "s = \"{[]}\"\n",
        "print(s)\n",
        "close_b = ')}]'\n",
        "rev_order = ''\n",
        "mid_index = 0\n",
        "#  for val in s: \n",
        "#    if val == '(': rev_order=')'+rev_order\n",
        "#    elif val == '{': rev_order='}'+rev_order\n",
        "#    elif val == '[': rev_order=']'+rev_order\n",
        "#    elif val in close_b : print(\"Wrong pattern\")\n",
        "#    mid_index = s.index(val)\n",
        "for i in range(len(s)):\n",
        "  if s[i]=='(':     \n",
        "    if s[i+1]!=')': rev_order=')'+rev_order\n",
        "  elif s[i]=='{':     \n",
        "    if s[i+1]!='}': rev_order='}'+rev_order\n",
        "  elif s[i]=='[':     \n",
        "    if s[i+1]!=']': rev_order=']'+rev_order\n",
        "\n",
        "print(rev_order)\n",
        "print(\"8888\")\n",
        "print(s[mid_index:])\n",
        "if rev_order != '' :\n",
        "  if rev_order == s[mid_index:]:\n",
        "    print(\"Correct\")\n",
        "  else:\n",
        "    print(\"Wrong\")\n",
        "else:\n",
        "  print(\"Correct\")\n",
        "\n"
      ]
    },
    {
      "cell_type": "code",
      "execution_count": null,
      "metadata": {
        "id": "yg_5FI94wPw-",
        "vscode": {
          "languageId": "python"
        }
      },
      "outputs": [],
      "source": [
        "s = ')'\n",
        "s.insert(0,']')\n",
        "print(s)"
      ]
    },
    {
      "cell_type": "code",
      "execution_count": null,
      "metadata": {
        "colab": {
          "base_uri": "https://localhost:8080/"
        },
        "id": "k1EPh8oNBp1g",
        "outputId": "020b0f17-30cf-476c-d26d-a7d8a942665f",
        "vscode": {
          "languageId": "python"
        }
      },
      "outputs": [
        {
          "name": "stdout",
          "output_type": "stream",
          "text": [
            "\n",
            "Balanced\n"
          ]
        }
      ],
      "source": [
        "s = \"([)]\"\n",
        "s = \"()[]{}\"\n",
        "s = \"{[]}\"\n",
        "brackets = ['()', '{}', '[]'] \n",
        "#print(x in s for x in brackets)\n",
        "while any(x in s for x in brackets):\n",
        "  #print(x)\n",
        "  for br in brackets:\n",
        "    s = s.replace(br,'')\n",
        "print(s)\n",
        "if s == '' : print(\"Balanced\")\n",
        "else: print(\"Unbalanced\")\n"
      ]
    },
    {
      "cell_type": "code",
      "execution_count": null,
      "metadata": {
        "colab": {
          "base_uri": "https://localhost:8080/"
        },
        "id": "nmL3S_vnEpa4",
        "outputId": "da9ccc57-c146-4851-9a00-bae09f2bf1d1",
        "vscode": {
          "languageId": "python"
        }
      },
      "outputs": [
        {
          "name": "stdout",
          "output_type": "stream",
          "text": [
            "[1, 1, 2, 3, 4, 4]\n"
          ]
        }
      ],
      "source": [
        "l1 = [1,2,4]\n",
        "l2 = [1,3,4]\n",
        "merged_l3 = []\n",
        "merged_l3.extend(l1)\n",
        "merged_l3.extend(l2)\n",
        "print(sorted(merged_l3))"
      ]
    },
    {
      "cell_type": "code",
      "execution_count": null,
      "metadata": {
        "id": "Hu_M7eQ8KrWQ",
        "vscode": {
          "languageId": "python"
        }
      },
      "outputs": [],
      "source": [
        "n = 3 \n"
      ]
    },
    {
      "cell_type": "markdown",
      "metadata": {
        "id": "dhlFZ5FxEpSZ"
      },
      "source": []
    },
    {
      "cell_type": "code",
      "execution_count": null,
      "metadata": {
        "colab": {
          "base_uri": "https://localhost:8080/"
        },
        "id": "O_n-RXEJ3U7W",
        "outputId": "ded67eda-5d0c-4cd7-81f9-f2cb67b6db31",
        "vscode": {
          "languageId": "python"
        }
      },
      "outputs": [
        {
          "name": "stdout",
          "output_type": "stream",
          "text": [
            "0\n",
            "0\n"
          ]
        }
      ],
      "source": [
        "haystack = \"hello\"\n",
        "needle = \"ll\"\n",
        "\n",
        "haystack = \"aaaaa\"\n",
        "needle = \"bba\"\n",
        "\n",
        "haystack = \"\"\n",
        "needle = \"\"\n",
        "\n",
        "\n",
        "try : \n",
        "  val = haystack.index(needle)\n",
        "  print(val)\n",
        "except:\n",
        "  val = -1\n",
        "\n",
        "print(val)"
      ]
    },
    {
      "cell_type": "markdown",
      "metadata": {
        "id": "S49C3blk3ttq"
      },
      "source": []
    },
    {
      "cell_type": "code",
      "execution_count": null,
      "metadata": {
        "colab": {
          "base_uri": "https://localhost:8080/"
        },
        "id": "uKY3GUb13raL",
        "outputId": "5a1ae5a9-2c4b-41ee-a5de-25588c1bc786",
        "vscode": {
          "languageId": "python"
        }
      },
      "outputs": [
        {
          "name": "stdout",
          "output_type": "stream",
          "text": [
            ")()())\n"
          ]
        }
      ],
      "source": [
        "#\n",
        "# https://leetcode.com/problems/longest-valid-parentheses/\n",
        "#\n",
        "\n",
        "\n",
        "s = \")()())\"\n",
        "print(s)\n"
      ]
    },
    {
      "cell_type": "code",
      "execution_count": null,
      "metadata": {
        "colab": {
          "base_uri": "https://localhost:8080/"
        },
        "id": "sFwHXEsitrnt",
        "outputId": "2ec073d1-09cb-477f-a74f-f6d73ebc7ff4",
        "vscode": {
          "languageId": "python"
        }
      },
      "outputs": [
        {
          "name": "stdout",
          "output_type": "stream",
          "text": [
            "aacecaaa\n"
          ]
        }
      ],
      "source": [
        "s = \"aacecaaa\"\n",
        "print(s)\n"
      ]
    },
    {
      "cell_type": "code",
      "execution_count": null,
      "metadata": {
        "colab": {
          "base_uri": "https://localhost:8080/"
        },
        "id": "MdWPvfJavRa-",
        "outputId": "895e5bba-d922-4bae-eb91-a4b778a75792",
        "vscode": {
          "languageId": "python"
        }
      },
      "outputs": [
        {
          "name": "stdout",
          "output_type": "stream",
          "text": [
            "9.0\n",
            "[1, 2, 3, 5, 6, 7]\n",
            "[1]\n",
            "8\n",
            "[1, 2]\n",
            "6\n",
            "[1, 2, 3]\n",
            "3\n",
            "[1, 2, 3, 5]\n",
            "[1, 2, 3, 5, 6]\n",
            "[1, 2, 3, 5, 6, 7]\n",
            "[]\n",
            "[[1, 1, 1, 1, 1, 1, 1, 1, 1], [1, 2, 1, 1, 1, 1, 1, 1], [2, 2, 2], [3, 3, 3], [1, 2, 3, 1, 1, 1], [], [3]]\n"
          ]
        }
      ],
      "source": [
        "#\n",
        "# https://leetcode.com/problems/combination-sum/\n",
        "#\n",
        "\n",
        "candidates = [2,3,5]\n",
        "target = 8\n",
        "\n",
        "candidates = [2]\n",
        "target = 1\n",
        "\n",
        "candidates = [1]\n",
        "target = 1\n",
        "\n",
        "candidates = [2,7,6,3,5,1]\n",
        "target = 9\n",
        "\n",
        "temp_combo = []\n",
        "total_combo = []\n",
        "candidates.sort()\n",
        "\n",
        "print(target/candidates[0])\n",
        "print(candidates)\n",
        "\n",
        "for i in range(len(candidates)):\n",
        "  print(candidates[:i+1])\n",
        "  for j in range(len(candidates[:i+1])):\n",
        "    #print(candidates[:i+1][j])\n",
        "    if target%candidates[:i+1][j] == 0 :\n",
        "      var1 = int(target/candidates[:i+1][j])\n",
        "      for temp_var1 in range(var1):\n",
        "        temp_combo.append(candidates[:i+1][j])\n",
        "      if temp_combo not in total_combo : total_combo.append(temp_combo)\n",
        "      temp_combo = []\n",
        "  if sum(candidates[:i+1]) < target : \n",
        "    val1 = target - sum(candidates[:i+1])\n",
        "    print(val1)\n",
        "    for val2 in candidates[:i+1]:\n",
        "      temp_combo.append(val2)\n",
        "    \n",
        "    for val3 in candidates[:i+1]:\n",
        "      if val1%val3 == 0 :\n",
        "        val4 = int(val1/val3)\n",
        "        for val5 in range(val4):\n",
        "          temp_combo.append(val3)\n",
        "      if temp_combo not in total_combo : total_combo.append(temp_combo)\n",
        "      temp_combo = []\n",
        "\n",
        "# for i in range(len(candidates)):\n",
        "#   print(candidates[i])\n",
        "#   if target%candidates[i] == 0 : \n",
        "#     var1 = int(target/candidates[i])\n",
        "#     for temp_var1 in range(var1):\n",
        "#       temp_combo.append(candidates[i])\n",
        "#     if temp_combo != []:\n",
        "#       total_combo.append(temp_combo)\n",
        "#       temp_combo = []\n",
        "#   if i != len(candidates)-1 : \n",
        "#       print('here')\n",
        "#       val1 = target - (candidates[i]+candidates[i+1])\n",
        "#       print(val1)\n",
        "#       if val1 in candidates: \n",
        "#         temp_combo.append(candidates[i])\n",
        "#         temp_combo.append(candidates[i+1])\n",
        "#         temp_combo.append(val1)\n",
        "#         total_combo.append(temp_combo)\n",
        "#         temp_combo = []\n",
        "#   #else: \n",
        "#   val = target - candidates[i]\n",
        "#   print(val)\n",
        "#   if val in candidates[i+1:] : \n",
        "#     temp_combo.append(candidates[i])\n",
        "#     temp_combo.append(val)\n",
        "#     total_combo.append(temp_combo)\n",
        "#     temp_combo = []\n",
        "    \n",
        "\n",
        "\n",
        "print(temp_combo)\n",
        "print(total_combo)"
      ]
    },
    {
      "cell_type": "markdown",
      "metadata": {
        "id": "2zZIB_q61o-_"
      },
      "source": [
        "[[1,1,1,1,1,1,1,1,1],[1,1,1,1,1,1,1,2],[1,1,1,1,1,1,3],[1,1,1,1,1,2,2],[1,1,1,1,2,3],[1,1,1,1,5],[1,1,1,2,2,2],[1,1,1,3,3],[1,1,1,6],[1,1,2,2,3],[1,1,2,5],[1,1,7],[1,2,2,2,2],[1,2,3,3],[1,2,6],[1,3,5],[2,2,2,3],[2,2,5],[2,7],[3,3,3],[3,6]]"
      ]
    },
    {
      "cell_type": "code",
      "execution_count": null,
      "metadata": {
        "colab": {
          "base_uri": "https://localhost:8080/"
        },
        "id": "uQzN3GNlBo2Q",
        "outputId": "8f19f3a7-7256-466a-ab49-106f0d03d2b9",
        "vscode": {
          "languageId": "python"
        }
      },
      "outputs": [
        {
          "name": "stdout",
          "output_type": "stream",
          "text": [
            "[1, 2, 3, 5, 6, 7]\n",
            "1\n",
            "divisible\n",
            "9\n",
            "2\n",
            "4\n",
            "1\n",
            "3\n",
            "divisible\n",
            "3\n",
            "5\n",
            "1\n",
            "4\n",
            "6\n",
            "1\n",
            "3\n",
            "7\n",
            "1\n",
            "2\n",
            "[]\n",
            "[[1, 1, 1, 1, 1, 1, 1, 1, 1], [1, 2, 2, 2, 2], [3, 3, 3], [5], [3, 6], [2, 7]]\n"
          ]
        }
      ],
      "source": [
        "candidates = [2,7,6,3,5,1]\n",
        "target = 9\n",
        "\n",
        "temp_combo = []\n",
        "total_combo = []\n",
        "temp_rem_Arr = []\n",
        "candidates.sort()\n",
        "\n",
        "print(candidates)\n",
        "\n",
        "for i in range(len(candidates)):\n",
        "  print(candidates[i])\n",
        "  if target%candidates[i] == 0 : \n",
        "    print('divisible')\n",
        "    print(int(target/candidates[i]))\n",
        "    for j in range(int(target/candidates[i])):\n",
        "      temp_combo.append(candidates[i])\n",
        "    if temp_combo!=[]and temp_combo not in total_combo : total_combo.append(temp_combo)\n",
        "    temp_combo = []\n",
        "\n",
        "  # [1, 2, 3, 5, 6, 7]\n",
        "  else :\n",
        "    var1 =  int(target/candidates[i])\n",
        "    print(var1)\n",
        "    remainder = target - var1*candidates[i]\n",
        "    print(remainder)\n",
        "    if remainder in candidates:\n",
        "      temp_combo.append(remainder)\n",
        "    for var2 in range(var1):\n",
        "      temp_combo.append(candidates[i]) \n",
        "    if temp_combo!=[]and temp_combo not in total_combo : total_combo.append(temp_combo)\n",
        "    temp_combo = []\n",
        "\n",
        "\n",
        "print(temp_combo)\n",
        "print(total_combo)"
      ]
    },
    {
      "cell_type": "code",
      "execution_count": null,
      "metadata": {
        "colab": {
          "base_uri": "https://localhost:8080/"
        },
        "id": "ZzOuFP6Irw9N",
        "outputId": "67eb64ba-8da4-4bbc-fa4b-f4ce97c31a3d",
        "vscode": {
          "languageId": "python"
        }
      },
      "outputs": [
        {
          "name": "stdout",
          "output_type": "stream",
          "text": [
            "2\n",
            "()\n",
            "('(',)\n",
            "(')',)\n",
            "('(', ')')\n"
          ]
        }
      ],
      "source": [
        "from itertools import chain, combinations\n",
        "def all_subsets(ss):\n",
        "    return chain(*map(lambda x: combinations(ss, x), range(0, len(ss)+1)))\n",
        "\n",
        "stuff = '()'\n",
        "print(len(stuff))\n",
        "\n",
        "for subset in all_subsets(stuff):\n",
        "    print(subset)"
      ]
    },
    {
      "cell_type": "code",
      "execution_count": null,
      "metadata": {
        "colab": {
          "base_uri": "https://localhost:8080/"
        },
        "id": "Y2QJdulCyvat",
        "outputId": "0d192dcb-db32-4e50-f734-f75b53d822ba",
        "vscode": {
          "languageId": "python"
        }
      },
      "outputs": [
        {
          "name": "stdout",
          "output_type": "stream",
          "text": [
            "121-\n",
            "False\n"
          ]
        }
      ],
      "source": [
        "x = -121\n",
        "print(str(x)[::-1])\n",
        "rev_x = str(x)[::-1]\n",
        "if str(x) == str(rev_x):\n",
        "  print(\"True\")\n",
        "else:\n",
        "  print(\"False\")"
      ]
    },
    {
      "cell_type": "code",
      "execution_count": null,
      "metadata": {
        "colab": {
          "base_uri": "https://localhost:8080/"
        },
        "id": "sCB216fo01xI",
        "outputId": "2a87d603-8d90-42f2-811d-4e1815013406",
        "vscode": {
          "languageId": "python"
        }
      },
      "outputs": [
        {
          "name": "stdout",
          "output_type": "stream",
          "text": [
            "255[.]100[.]50[.]0\n",
            "255.100.50.0\n",
            " this is good\n"
          ]
        }
      ],
      "source": [
        "address = \"255.100.50.0\"\n",
        "print(address.replace(\".\",\"[.]\"))\n",
        "\n",
        "print(address)\n",
        "\n",
        "str1 = \" this is good\"\n",
        "str1.replace('this', 'that')\n",
        "print(str1)"
      ]
    },
    {
      "cell_type": "code",
      "execution_count": null,
      "metadata": {
        "colab": {
          "base_uri": "https://localhost:8080/",
          "height": 283
        },
        "id": "IZv166Vh4oJh",
        "outputId": "19241332-2b70-413c-93af-59fb66c5fa1d",
        "vscode": {
          "languageId": "python"
        }
      },
      "outputs": [
        {
          "name": "stdout",
          "output_type": "stream",
          "text": [
            "[1, 8, 6, 2, 5, 4, 8, 3, 7]\n",
            "1\n",
            "[6, 2, 5, 4, 8, 3, 7]\n"
          ]
        },
        {
          "ename": "TypeError",
          "evalue": "ignored",
          "output_type": "error",
          "traceback": [
            "\u001b[0;31m---------------------------------------------------------------------------\u001b[0m",
            "\u001b[0;31mTypeError\u001b[0m                                 Traceback (most recent call last)",
            "\u001b[0;32m<ipython-input-3-b247d0c211a9>\u001b[0m in \u001b[0;36m<module>\u001b[0;34m()\u001b[0m\n\u001b[1;32m      8\u001b[0m \u001b[0mprint\u001b[0m\u001b[0;34m(\u001b[0m\u001b[0mheight\u001b[0m\u001b[0;34m[\u001b[0m\u001b[0mmax_index\u001b[0m\u001b[0;34m+\u001b[0m\u001b[0;36m1\u001b[0m\u001b[0;34m:\u001b[0m\u001b[0;34m]\u001b[0m\u001b[0;34m)\u001b[0m\u001b[0;34m\u001b[0m\u001b[0;34m\u001b[0m\u001b[0m\n\u001b[1;32m      9\u001b[0m \u001b[0msub_arr\u001b[0m \u001b[0;34m=\u001b[0m \u001b[0mheight\u001b[0m\u001b[0;34m[\u001b[0m\u001b[0mmax_index\u001b[0m\u001b[0;34m+\u001b[0m\u001b[0;36m1\u001b[0m\u001b[0;34m:\u001b[0m\u001b[0;34m]\u001b[0m\u001b[0;34m\u001b[0m\u001b[0;34m\u001b[0m\u001b[0m\n\u001b[0;32m---> 10\u001b[0;31m \u001b[0mprint\u001b[0m\u001b[0;34m(\u001b[0m\u001b[0mlist\u001b[0m\u001b[0;34m(\u001b[0m\u001b[0msub_arr\u001b[0m\u001b[0;34m)\u001b[0m\u001b[0;34m.\u001b[0m\u001b[0mindex\u001b[0m\u001b[0;34m(\u001b[0m\u001b[0mmax\u001b[0m\u001b[0;34m(\u001b[0m\u001b[0mheight\u001b[0m\u001b[0;34m[\u001b[0m\u001b[0mmax_index\u001b[0m\u001b[0;34m+\u001b[0m\u001b[0;36m1\u001b[0m\u001b[0;34m]\u001b[0m\u001b[0;34m)\u001b[0m\u001b[0;34m)\u001b[0m\u001b[0;34m)\u001b[0m\u001b[0;34m\u001b[0m\u001b[0;34m\u001b[0m\u001b[0m\n\u001b[0m\u001b[1;32m     11\u001b[0m \u001b[0;34m\u001b[0m\u001b[0m\n\u001b[1;32m     12\u001b[0m \u001b[0;34m\u001b[0m\u001b[0m\n",
            "\u001b[0;31mTypeError\u001b[0m: 'int' object is not iterable"
          ]
        }
      ],
      "source": [
        "height = [1,8,6,2,5,4,8,3,7]\n",
        "print(height)\n",
        "max_area_arr =[]\n",
        "\n",
        "max_index = height.index(max(height))\n",
        "print(max_index)\n",
        "\n",
        "print(height[max_index+1:])\n",
        "sub_arr = height[max_index+1:]\n",
        "print(list(sub_arr).index((height[max_index+1])))\n",
        "\n",
        "\n",
        "\n",
        "# sub_max_index = height[max_index+1:].index(max(height[max_index+1]))\n",
        "# print(sub_max_index)\n",
        "\n",
        "# for val in height[max_index+1]:\n",
        "#   if val<\n",
        "\n",
        "# for i in range(len(height)):\n",
        "#   temp_arr = []\n",
        "#   for val in height[i+1:]:\n",
        "#     temp_arr.append(val*height[i])\n",
        "#   max_area_arr.append(max(temp_arr))\n",
        "\n",
        "\n",
        "\n",
        "\n",
        "\n",
        "  # for j in range(len(height)):\n",
        "  #   val = height[i]*height[j]\n",
        "  #   print(val)\n",
        "  #   if val not in max_area_arr : max_area_arr.append(val)\n",
        "\n",
        "  # print(temp_arr)\n",
        "  # print(max_area_arr)\n",
        "  # print(max(max_area_arr))\n"
      ]
    },
    {
      "cell_type": "code",
      "execution_count": null,
      "metadata": {
        "colab": {
          "base_uri": "https://localhost:8080/"
        },
        "id": "WXu6KlJp8yPz",
        "outputId": "e95af034-7bcd-440e-f729-0fa34d66b45b",
        "vscode": {
          "languageId": "python"
        }
      },
      "outputs": [
        {
          "name": "stdout",
          "output_type": "stream",
          "text": [
            "[1, 4, 2, 5, 3, 4, 7]\n",
            "[1, 3, 5, 7]\n",
            "0\n",
            "[1]\n",
            "2\n",
            "[4]\n",
            "3\n",
            "[2]\n",
            "4\n",
            "[5]\n",
            "5\n",
            "[3]\n",
            "6\n",
            "[4]\n",
            "7\n",
            "[7]\n",
            "8\n",
            "[1, 4, 2]\n",
            "4\n",
            "[4, 2, 5]\n",
            "5\n",
            "[2, 5, 3]\n",
            "6\n",
            "[5, 3, 4]\n",
            "7\n",
            "[3, 4, 7]\n",
            "8\n",
            "[1, 4, 2, 5, 3]\n",
            "6\n",
            "[4, 2, 5, 3, 4]\n",
            "7\n",
            "[2, 5, 3, 4, 7]\n",
            "8\n",
            "[1, 4, 2, 5, 3, 4, 7]\n",
            "8\n",
            "160\n"
          ]
        }
      ],
      "source": [
        "arr = [1,4,2,5,3,4,7]\n",
        "print(arr)\n",
        "odd_sum = 0\n",
        "len_arr = len(arr)\n",
        "len_arr_arr = list(range(1,len_arr+1,2))\n",
        "print(len_arr_arr)\n",
        "# odd_sum+=sum(arr)\n",
        "print(odd_sum)\n",
        "odd_flag = False\n",
        "if len_arr > 2 : odd_cnt = 3\n",
        "start_index = 0 \n",
        "\n",
        "for (i,val) in enumerate(len_arr_arr): \n",
        "  odd_cnt = val \n",
        "  start_index = 0\n",
        "  while odd_cnt <= len_arr : \n",
        "    #print('here - while loop')\n",
        "    print(arr[start_index:odd_cnt])\n",
        "    odd_sum+=sum(arr[start_index:odd_cnt])\n",
        "    odd_cnt+=1\n",
        "    start_index+=1\n",
        "    #print(odd_sum)\n",
        "    print(odd_cnt)\n",
        "print(odd_sum)\n",
        "\n",
        "# while odd_flag!=True:\n",
        "#   print('here 1')\n",
        "#   if odd_cnt<=len_arr: \n",
        "#     print('here')\n",
        "#     odd_sum+=sum(arr[start_index:odd_cnt])\n",
        "#     start_index+=1\n",
        "#     odd_cnt+=2\n",
        "#   if odd_cnt == len_arr : \n",
        "#     start_index = 0\n",
        "#     odd_cnt = 5\n",
        "#     odd_flag = True\n",
        "\n",
        "\n",
        "# print(odd_sum)"
      ]
    },
    {
      "cell_type": "code",
      "execution_count": null,
      "metadata": {
        "colab": {
          "base_uri": "https://localhost:8080/"
        },
        "id": "5J2lnPny-1h8",
        "outputId": "1e64e3b3-f402-4114-9adc-91beafe52700",
        "vscode": {
          "languageId": "python"
        }
      },
      "outputs": [
        {
          "name": "stdout",
          "output_type": "stream",
          "text": [
            "[1, 4, 2]\n"
          ]
        }
      ],
      "source": [
        "arr = [1,4,2,5,3]\n",
        "print(arr[0:3])"
      ]
    },
    {
      "cell_type": "code",
      "execution_count": null,
      "metadata": {
        "colab": {
          "base_uri": "https://localhost:8080/"
        },
        "id": "PhDlRP3Vapb3",
        "outputId": "9998d912-f55d-44d6-a3ba-9fe87312ba71",
        "vscode": {
          "languageId": "python"
        }
      },
      "outputs": [
        {
          "name": "stdout",
          "output_type": "stream",
          "text": [
            "[True, True, True, False, True]\n"
          ]
        }
      ],
      "source": [
        "candies = [2,3,5,1,3]\n",
        "extraCandies = 3\n",
        "result_arr = []\n",
        "max_candies = max(candies)\n",
        "\n",
        "for (i,val) in enumerate(candies):\n",
        "  if max_candies-val <= extraCandies : result_arr.append(True)\n",
        "  else: result_arr.append(False)\n",
        "\n",
        "print(result_arr)"
      ]
    },
    {
      "cell_type": "code",
      "execution_count": null,
      "metadata": {
        "colab": {
          "base_uri": "https://localhost:8080/"
        },
        "id": "I_QXQ1WYhrQj",
        "outputId": "113880b3-7d14-4524-a908-b795a82f440b",
        "vscode": {
          "languageId": "python"
        }
      },
      "outputs": [
        {
          "name": "stdout",
          "output_type": "stream",
          "text": [
            "[1, 2, 3, 4]\n",
            "[4, 3, 2, 1]\n",
            "[1, 4, 2, 3, 3, 2, 4, 1]\n"
          ]
        }
      ],
      "source": [
        "nums = [1,2,3,4,4,3,2,1]\n",
        "n = 4\n",
        "print(nums[:n])\n",
        "print(nums[n:])\n",
        "new_nums = []\n",
        "for i in range(n):\n",
        "  new_nums.append(nums[:n][i])\n",
        "  new_nums.append(nums[n:][i])\n",
        "\n",
        "print(new_nums)"
      ]
    },
    {
      "cell_type": "code",
      "execution_count": null,
      "metadata": {
        "colab": {
          "base_uri": "https://localhost:8080/"
        },
        "id": "qGUD2MAtm46o",
        "outputId": "ca139fc1-1b74-4050-9519-26a186d592ce",
        "vscode": {
          "languageId": "python"
        }
      },
      "outputs": [
        {
          "name": "stdout",
          "output_type": "stream",
          "text": [
            "[6, 10, 8]\n",
            "10\n"
          ]
        }
      ],
      "source": [
        "accounts = [[1,5],[7,3],[3,5]]\n",
        "sum_accounts = []\n",
        "for val in accounts:\n",
        "  sum_accounts.append(sum(val))\n",
        "\n",
        "print(sum_accounts)\n",
        "print(max(sum_accounts))"
      ]
    },
    {
      "cell_type": "code",
      "execution_count": null,
      "metadata": {
        "colab": {
          "base_uri": "https://localhost:8080/"
        },
        "id": "OabIUojIu8f9",
        "outputId": "c5a7b75b-b036-4875-8dd3-f3027225af46",
        "vscode": {
          "languageId": "python"
        }
      },
      "outputs": [
        {
          "name": "stdout",
          "output_type": "stream",
          "text": [
            "[3, 5, 2, 6]\n",
            "[[], [3], [5], [3, 5], [2], [3, 2], [5, 2], [3, 5, 2], [6], [3, 6], [5, 6], [3, 5, 6], [2, 6], [3, 2, 6], [5, 2, 6], [3, 5, 2, 6]]\n",
            "[2, 6]\n"
          ]
        }
      ],
      "source": [
        "# nums = [2,4,3,3,5,4,9,6]\n",
        "# k = 4\n",
        "\n",
        "nums = [3,5,2,6]\n",
        "k = 2\n",
        "\n",
        "# permutations = list((nums[j:][0:k] for j in range(len(nums) - k + 1)))\n",
        "# print(permutations)\n",
        "\n",
        "#https://leetcode.com/problems/find-the-most-competitive-subsequence/\n",
        "\n",
        "print(nums[:])\n",
        "\n",
        "base = []   \n",
        "lists = [base] \n",
        "for i in range(len(nums)): \n",
        "    orig = lists[:] \n",
        "    #print(orig)\n",
        "    new = nums[i] \n",
        "    #print(new)\n",
        "    for j in range(len(lists)): \n",
        "        lists[j] = lists[j] + [new] \n",
        "        #print(lists[j])\n",
        "    lists = orig + lists \n",
        "    #print(lists)\n",
        "\n",
        "print(lists)\n",
        "lists_n = []\n",
        "for val in lists:\n",
        "  #print(len(val))\n",
        "  if len(val) == k : \n",
        "    # print(len(val))\n",
        "    # print(val)\n",
        "    lists_n+=[val]\n",
        "print(sorted(lists_n)[0])\n",
        "\n",
        "# temp_arr = []\n",
        "# for val in lists_n:\n",
        "#   #print(val[:3])\n",
        "#   for val2 in lists_n:\n",
        "#     #print(val[:3][:] in val2[:])\n",
        "#     print(val[:3][:])\n",
        "#     print(val2[:])\n",
        "#     if val[:3] in val2: temp_arr.append(val2)\n",
        "#     print(temp_arr)\n"
      ]
    },
    {
      "cell_type": "code",
      "execution_count": null,
      "metadata": {
        "colab": {
          "base_uri": "https://localhost:8080/",
          "height": 35
        },
        "id": "BaV2QLHrmxNH",
        "outputId": "2dbd9ff0-4037-467d-b0c2-a1d38ef81872",
        "vscode": {
          "languageId": "python"
        }
      },
      "outputs": [
        {
          "data": {
            "application/vnd.google.colaboratory.intrinsic+json": {
              "type": "string"
            },
            "text/plain": [
              "'/content'"
            ]
          },
          "execution_count": 21,
          "metadata": {
            "tags": []
          },
          "output_type": "execute_result"
        }
      ],
      "source": [
        "%pwd"
      ]
    },
    {
      "cell_type": "code",
      "execution_count": null,
      "metadata": {
        "colab": {
          "base_uri": "https://localhost:8080/"
        },
        "id": "nAc1uQfom1O-",
        "outputId": "268873c5-9180-448e-b853-ff632a60a70e",
        "vscode": {
          "languageId": "python"
        }
      },
      "outputs": [
        {
          "name": "stdout",
          "output_type": "stream",
          "text": [
            "/\n"
          ]
        }
      ],
      "source": [
        "cd .. "
      ]
    },
    {
      "cell_type": "code",
      "execution_count": null,
      "metadata": {
        "id": "8x05LB7nnyn4",
        "vscode": {
          "languageId": "python"
        }
      },
      "outputs": [],
      "source": [
        "from google.colab import drive\n",
        "drive.mount('/content/drive')"
      ]
    },
    {
      "cell_type": "code",
      "execution_count": null,
      "metadata": {
        "colab": {
          "base_uri": "https://localhost:8080/"
        },
        "id": "--QtRxgD1A9p",
        "outputId": "d23b24fe-c358-458b-fc3f-367b09ae9609",
        "vscode": {
          "languageId": "python"
        }
      },
      "outputs": [
        {
          "name": "stdout",
          "output_type": "stream",
          "text": [
            "1\n",
            "1\n",
            "1\n",
            "1.1\n",
            "1\n",
            "1\n",
            "1\n",
            "1.1\n",
            "1\n",
            "1\n",
            "1.1\n",
            "[2, 3, 3, 4]\n"
          ]
        }
      ],
      "source": [
        "\n",
        "nums = [3,5,2,6]\n",
        "k = 2\n",
        "\n",
        "nums = [2,4,3,3,5,4,9,6]\n",
        "k = 4\n",
        "\n",
        "#https://leetcode.com/problems/find-the-most-competitive-subsequence/\n",
        "\n",
        "\n",
        "attempts = len(nums) - k\n",
        "stack = []\n",
        "for num in nums:\n",
        "  print('1')\n",
        "  while stack and num < stack[-1] and attempts > 0:\n",
        "       print('1.1')\n",
        "       stack.pop()\n",
        "       attempts -= 1\n",
        "  stack.append(num)\n",
        "        \n",
        "print(stack[:k])"
      ]
    },
    {
      "cell_type": "code",
      "execution_count": null,
      "metadata": {
        "id": "x_atk7u23YwX",
        "vscode": {
          "languageId": "python"
        }
      },
      "outputs": [],
      "source": [
        "# https://leetcode.com/DBabichev/\n",
        "\n",
        "X = 3\n",
        "Y = 10\n",
        "\n",
        "X = 1\n",
        "Y = 1000000000\n",
        "\n",
        "print(X)\n",
        "print(Y)\n",
        "\n",
        "\n",
        "temp_arr = 0\n",
        "step_cnt = []\n",
        "\n",
        "while X!=Y : \n",
        "  if X==Y : break\n",
        "  if X<=(Y//2) or Y-X >= X: \n",
        "    X*=2\n",
        "    temp_arr+=1\n",
        "  elif X*2>Y and X*2-Y==1:\n",
        "    X*=2\n",
        "    temp_arr+=1\n",
        "  else : \n",
        "    X-=1\n",
        "    temp_arr+=1\n",
        "  print(X)\n",
        "#step_cnt+=[temp_arr]\n",
        "\n",
        "#print(step_cnt)\n",
        "print(temp_arr)\n",
        "\n",
        "\n",
        "# if Y%2 == 0 :  \n",
        "#   var = Y//2 \n",
        "#   print(var)\n",
        "\n"
      ]
    },
    {
      "cell_type": "code",
      "execution_count": null,
      "metadata": {
        "colab": {
          "base_uri": "https://localhost:8080/",
          "height": 130
        },
        "id": "ZCdG61DKCL1S",
        "outputId": "78c1de95-746a-4551-c59f-0457d08947c7",
        "vscode": {
          "languageId": "python"
        }
      },
      "outputs": [
        {
          "ename": "SyntaxError",
          "evalue": "ignored",
          "output_type": "error",
          "traceback": [
            "\u001b[0;36m  File \u001b[0;32m\"<ipython-input-1-279f7a019b7a>\"\u001b[0;36m, line \u001b[0;32m5\u001b[0m\n\u001b[0;31m    if X > Y: return X - Y\u001b[0m\n\u001b[0m             ^\u001b[0m\n\u001b[0;31mSyntaxError\u001b[0m\u001b[0;31m:\u001b[0m 'return' outside function\n"
          ]
        }
      ],
      "source": [
        "X = 1\n",
        "Y = 1000000000\n",
        "\n",
        "\n",
        "if X > Y: \n",
        "  return X - Y\n",
        "if X == Y: \n",
        "  return 0\n",
        "if Y % 2 == 0:\n",
        "  return self.brokenCalc(X, Y//2) + 1\n",
        "else:\n",
        "  return self.brokenCalc(X, Y + 1) + 1"
      ]
    },
    {
      "cell_type": "code",
      "execution_count": null,
      "metadata": {
        "id": "P92otGhCDfva",
        "vscode": {
          "languageId": "python"
        }
      },
      "outputs": [],
      "source": [
        "nums = [1,2,3,1,1,3]\n",
        "\n",
        "print(nums)\n",
        "stack = []\n",
        "temp_index = []\n",
        "good_pairs_list = []\n",
        "for (i,val) in enumerate(nums): \n",
        "  temp_index.append(i)\n",
        "  stack.append(nums[i])\n",
        "  print(nums[i:])\n",
        "  for (j,val2) in enumerate(nums[i+1:]):\n",
        "    if val2 == stack[-1] : \n",
        "      temp_index.append(j+i+1)\n",
        "    print(good_pairs_list)\n",
        "    # print(temp_index)\n",
        "    # print(stack)\n",
        "    if len(temp_index)==2: \n",
        "      good_pairs_list.append(temp_index)\n",
        "      temp_index.append(i)\n",
        "  stack = []\n",
        "# print(good_pairs_list)\n",
        "# print(temp_index)\n",
        "# print(stack)"
      ]
    },
    {
      "cell_type": "code",
      "execution_count": null,
      "metadata": {
        "id": "yXCiZB6Bxjv5",
        "vscode": {
          "languageId": "python"
        }
      },
      "outputs": [],
      "source": [
        "nums = [1,2,3,1,1,3]\n",
        "\n",
        "print(nums)\n",
        "#stack = []\n",
        "temp_index = []\n",
        "good_pairs_list = []\n",
        "for (i,val) in enumerate(nums): \n",
        "  #stack.append(nums[i])\n",
        "  temp_index.append(i)\n",
        "  for (j,val2) in enumerate(nums[i+1:]):\n",
        "    print(val2) \n",
        "    #temp_index.append(i)\n",
        "    if val2 == nums[i] : \n",
        "      print('match')\n",
        "      temp_index.append(j+i+1)\n",
        "    if len(temp_index)==2: \n",
        "      good_pairs_list.append(temp_index)\n",
        "      temp_index.remove(temp_index[-1])\n",
        "    print(good_pairs_list)\n",
        "    print(temp_index)\n",
        "    print('***')\n",
        "  if temp_index!=[]: temp_index = []\n",
        "\n"
      ]
    },
    {
      "cell_type": "code",
      "execution_count": null,
      "metadata": {
        "id": "ov1FL1ed1LvI",
        "vscode": {
          "languageId": "python"
        }
      },
      "outputs": [],
      "source": [
        "nums = [1,2,3,1,1,3]\n",
        "\n",
        "print(nums)\n",
        "temp_index = []\n",
        "good_pairs_list = []\n",
        "\n",
        "for i,val in enumerate(nums): \n",
        "  temp_index.append(i)\n",
        "  for j,val2 in enumerate(nums[i+1:]):\n",
        "    if val2 == nums[i] : temp_index.append(j+i+1)\n",
        "    if len(temp_index) == 2 : \n",
        "      print('match')\n",
        "      good_pairs_list.append(temp_index)\n",
        "      temp_index.remove(temp_index[-1])\n",
        "    print(good_pairs_list)\n",
        "    print('***')\n",
        "\n"
      ]
    },
    {
      "cell_type": "code",
      "execution_count": null,
      "metadata": {
        "colab": {
          "base_uri": "https://localhost:8080/"
        },
        "id": "5yBJf0wBGat4",
        "outputId": "a4a230b4-2507-4430-b4f0-dcbcec7e27f3",
        "vscode": {
          "languageId": "python"
        }
      },
      "outputs": [
        {
          "name": "stdout",
          "output_type": "stream",
          "text": [
            "[1, 2, 3]\n",
            "[]\n",
            "0\n",
            "***\n",
            "[]\n",
            "0\n",
            "***\n",
            "[]\n",
            "0\n",
            "***\n"
          ]
        }
      ],
      "source": [
        "nums = [1,2,3,1,1,3]\n",
        "nums = [1,1,1,1]\n",
        "nums = [1,2,3]\n",
        "\n",
        "print(nums)\n",
        "temp_index = []\n",
        "good_pairs_list = []\n",
        "\n",
        "good_pairs_cnt = 0 \n",
        "\n",
        "for i,val in enumerate(nums): \n",
        "  for j,val2 in enumerate(nums[i+1:]):\n",
        "    if val2 == nums[i] : good_pairs_cnt+=1\n",
        "      # temp_index.append(i)\n",
        "      # temp_index.append(j+i+1)\n",
        "      # if len(temp_index) == 2 : \n",
        "      #   #print('match')\n",
        "      #   good_pairs_list.append(temp_index)\n",
        "      #   temp_index.remove(temp_index[-1])\n",
        "    print(good_pairs_list)\n",
        "    print(good_pairs_cnt)\n",
        "    print('***')\n"
      ]
    },
    {
      "cell_type": "code",
      "execution_count": null,
      "metadata": {
        "colab": {
          "base_uri": "https://localhost:8080/"
        },
        "id": "JWUKjp-EH7Ar",
        "outputId": "62990111-506a-4ba1-8c40-f6bfa8aee635",
        "vscode": {
          "languageId": "python"
        }
      },
      "outputs": [
        {
          "name": "stdout",
          "output_type": "stream",
          "text": [
            "{1: 3, 2: 1, 3: 2}\n",
            "4\n"
          ]
        }
      ],
      "source": [
        "nums = [1,2,3,1,1,3]\n",
        "\n",
        "ans = 0\n",
        "d = dict()\n",
        "for n in nums:\n",
        "  if n in d:\n",
        "    d[n] += 1\n",
        "  else:\n",
        "    d[n] = 1\n",
        "print(d)\n",
        "for n in d:\n",
        "  # Number of pairs from n numbers is n*(n-1)/2\n",
        "  ans += d[n] * (d[n] - 1) // 2   \n",
        "print(ans)\n",
        "#return ans"
      ]
    },
    {
      "cell_type": "code",
      "execution_count": null,
      "metadata": {
        "colab": {
          "base_uri": "https://localhost:8080/"
        },
        "id": "1JacfONDIm5-",
        "outputId": "69bc4fa2-f123-4113-d2e9-b7216d54b29f",
        "vscode": {
          "languageId": "python"
        }
      },
      "outputs": [
        {
          "name": "stdout",
          "output_type": "stream",
          "text": [
            "3\n",
            "3\n"
          ]
        }
      ],
      "source": [
        "#https://leetcode.com/problems/jewels-and-stones/\n",
        "\n",
        "jewels = \"aA\"\n",
        "stones = \"aAAbbbb\"\n",
        "\n",
        "print(sum(stones.count(jewels[x]) for x in range(len(jewels))))\n",
        "\n",
        "result_cnt = 0 \n",
        "\n",
        "for stone in stones : \n",
        "  if stone in jewels: \n",
        "    result_cnt+=1\n",
        "\n",
        "print(result_cnt)\n",
        "\n"
      ]
    },
    {
      "cell_type": "code",
      "execution_count": null,
      "metadata": {
        "id": "7ejWfc5zKulf",
        "vscode": {
          "languageId": "python"
        }
      },
      "outputs": [],
      "source": [
        "#https://leetcode.com/problems/design-parking-system\n",
        "\n",
        "SyntaxError: invalid syntax\n",
        "          ^\n",
        "    global.big = big\n",
        "Line 4  (Solution.py)"
      ]
    },
    {
      "cell_type": "code",
      "execution_count": null,
      "metadata": {
        "colab": {
          "base_uri": "https://localhost:8080/"
        },
        "id": "nw02Z-Ymwlv6",
        "outputId": "d231817a-4f0d-4279-d1b1-80180f01f181",
        "vscode": {
          "languageId": "python"
        }
      },
      "outputs": [
        {
          "name": "stdout",
          "output_type": "stream",
          "text": [
            "[2, 1, 0, 3]\n"
          ]
        }
      ],
      "source": [
        "\n",
        "nums = [8,1,2,2,3]\n",
        "nums = [7,7,7,7]\n",
        "nums = [6,5,4,8]\n",
        "temp_cnt = []\n",
        "for val in nums : \n",
        "  #filtered = filter (lambda x: x < val , nums)\n",
        "  temp_cnt.append(len(list(filter (lambda x: x < val , nums))))\n",
        "print(temp_cnt)"
      ]
    },
    {
      "cell_type": "code",
      "execution_count": null,
      "metadata": {
        "colab": {
          "base_uri": "https://localhost:8080/"
        },
        "id": "-pciKFQyxPlb",
        "outputId": "f9126b59-4cb9-440f-ab50-f4b3618cb610",
        "vscode": {
          "languageId": "python"
        }
      },
      "outputs": [
        {
          "name": "stdout",
          "output_type": "stream",
          "text": [
            "[1, 2, 2, 3]\n"
          ]
        }
      ],
      "source": [
        "#from  itertools import takewhile\n",
        "nums = [8,1,2,2,3]\n",
        "filtered = filter (lambda x: x < 8 , nums)\n",
        "#filtered = map (lambda x: x < 8 , nums)\n",
        "#filtered = lambda x: x < 8 , nums\n",
        "print(list(filtered)) \n",
        "#print(list(takewhile(lambda x: x<8 for x in nums)))"
      ]
    },
    {
      "cell_type": "code",
      "execution_count": null,
      "metadata": {
        "colab": {
          "base_uri": "https://localhost:8080/"
        },
        "id": "AMpR9cye014v",
        "outputId": "c45e4adc-36f4-4db6-a821-6edaa1056ebe",
        "vscode": {
          "languageId": "python"
        }
      },
      "outputs": [
        {
          "name": "stdout",
          "output_type": "stream",
          "text": [
            "[<generator object <genexpr> at 0x7f06deeada98>]\n"
          ]
        }
      ],
      "source": [
        "print([(lambda nums: x < 8 for x in nums)])"
      ]
    },
    {
      "cell_type": "code",
      "execution_count": null,
      "metadata": {
        "colab": {
          "base_uri": "https://localhost:8080/"
        },
        "id": "eibOLnOV5HFa",
        "outputId": "2fa9d726-9c86-4e83-d67a-8d8820951711",
        "vscode": {
          "languageId": "python"
        }
      },
      "outputs": [
        {
          "name": "stdout",
          "output_type": "stream",
          "text": [
            "123\n",
            "0\n",
            "12\n"
          ]
        }
      ],
      "source": [
        "num = 123\n",
        "\n",
        "print(num)\n",
        "step_cnt = 0 \n",
        "while num!=0 : \n",
        "  if num%2 == 0 : \n",
        "    num = num//2 \n",
        "    step_cnt+=1\n",
        "    #break\n",
        "  else: \n",
        "    num-=1 \n",
        "    step_cnt+=1\n",
        "\n",
        "print(num)\n",
        "print(step_cnt)"
      ]
    },
    {
      "cell_type": "code",
      "execution_count": null,
      "metadata": {
        "colab": {
          "base_uri": "https://localhost:8080/"
        },
        "id": "e5VO1rOFejj4",
        "outputId": "21e8a05c-8b1a-402d-e14d-6fd52a915015",
        "vscode": {
          "languageId": "python"
        }
      },
      "outputs": [
        {
          "name": "stdout",
          "output_type": "stream",
          "text": [
            "['c', 'o', 'd', 'e', 'l', 'e', 'e', 't']\n",
            "leetcode\n"
          ]
        }
      ],
      "source": [
        "s = \"codeleet\"\n",
        "indices = [4,5,6,7,0,2,1,3]\n",
        "\n",
        "#s_arr = list(map(str,s))\n",
        "result_arr = ''\n",
        "print(s_arr)\n",
        "\n",
        "# for i,val in enumerate(s) : \n",
        "#   result[indices[i]]\n",
        "\n",
        "for i in range(len(s)): result_arr+=(s[indices.index(i)])\n",
        "\n",
        "print(result_arr)\n"
      ]
    },
    {
      "cell_type": "code",
      "execution_count": null,
      "metadata": {
        "colab": {
          "base_uri": "https://localhost:8080/"
        },
        "id": "uqQWkVMDgcu8",
        "outputId": "c1f84c8d-a8ff-4f5f-a909-bc6eccbb7f87",
        "vscode": {
          "languageId": "python"
        }
      },
      "outputs": [
        {
          "name": "stdout",
          "output_type": "stream",
          "text": [
            "4\n",
            "5\n",
            "6\n",
            "7\n",
            "0\n",
            "2\n",
            "1\n",
            "3\n",
            "leetcdoe\n"
          ]
        }
      ],
      "source": [
        " out_str = \"\"\n",
        " for idx in indices:\n",
        "   print(idx)\n",
        "   for i,elem in enumerate(s):\n",
        "     if idx == i:\n",
        "       out_str+=s[idx]\n",
        "\n",
        "print(out_str)"
      ]
    },
    {
      "cell_type": "code",
      "execution_count": null,
      "metadata": {
        "id": "flfLNYfkNHLx",
        "vscode": {
          "languageId": "python"
        }
      },
      "outputs": [],
      "source": [
        "nums = [1,2,3,1,1,3]\n",
        "\n",
        "print(nums)\n",
        "temp_index = []\n",
        "good_pairs_list = []\n",
        "\n",
        "for i,val in enumerate(nums): \n",
        "  temp_index.append(i)\n",
        "  for j,val2 in enumerate(nums[i+1:]):\n",
        "    if val2 == nums[i] : temp_index.append(j+i+1)\n",
        "    if len(temp_index) == 2 : \n",
        "      print('match')\n",
        "      good_pairs_list.append(temp_index)\n",
        "      temp_index.remove(temp_index[-1])\n",
        "    print(good_pairs_list)\n",
        "    print('***')\n"
      ]
    },
    {
      "cell_type": "code",
      "execution_count": null,
      "metadata": {
        "colab": {
          "base_uri": "https://localhost:8080/"
        },
        "id": "C96CtuEGdHm7",
        "outputId": "6c311be3-ab0e-4941-e7c5-fde5864f0ac7",
        "vscode": {
          "languageId": "python"
        }
      },
      "outputs": [
        {
          "name": "stdout",
          "output_type": "stream",
          "text": [
            "[2, 3, 4]\n",
            "15\n"
          ]
        }
      ],
      "source": [
        "import numpy as np\n",
        "\n",
        "\n",
        "n = 234\n",
        "\n",
        "n_arr = list(map(int,str(n)))\n",
        "print(n_arr)\n",
        "\n",
        "# prod_val = 1\n",
        "# prod2 = (lambda prod_val: prod_val * n1 for n1 in n_arr)\n",
        "# print(prod2)\n",
        "\n",
        "result = np.prod(n_arr) - sum(n_arr)\n",
        "print(result)"
      ]
    },
    {
      "cell_type": "code",
      "execution_count": null,
      "metadata": {
        "colab": {
          "base_uri": "https://localhost:8080/"
        },
        "id": "cK230vvqqJKK",
        "outputId": "15967d29-9f9e-4eee-9cad-8bbee5a7672f",
        "vscode": {
          "languageId": "python"
        }
      },
      "outputs": [
        {
          "name": "stdout",
          "output_type": "stream",
          "text": [
            "3\n",
            "101\n",
            "101\n",
            "10\n",
            "1\n",
            "3\n"
          ]
        }
      ],
      "source": [
        "target = \"101\"\n",
        "\n",
        "print(len(target))\n",
        "print(int(target))\n",
        "step_cnt = 0\n",
        "\n",
        "while True : \n",
        "  if int(target) == 0 : break\n",
        "  target = target.lstrip('0')\n",
        "  print(target) \n",
        "  inverse_s = ''.join(['1' if i == '0' else '0' \n",
        "                     for i in target]) \n",
        "  #print(inverse_s)\n",
        "  #print(inverse_s.lstrip('0'))\n",
        "  target = inverse_s.lstrip('0')\n",
        "  step_cnt+=1\n",
        "  if target == '' : break\n",
        "print(step_cnt)\n",
        "# print(target)"
      ]
    },
    {
      "cell_type": "code",
      "execution_count": null,
      "metadata": {
        "colab": {
          "base_uri": "https://localhost:8080/"
        },
        "id": "zldvFuM_dKRU",
        "outputId": "f549c7b2-d268-44ff-ac7e-92f9fbfef615",
        "vscode": {
          "languageId": "python"
        }
      },
      "outputs": [
        {
          "name": "stdout",
          "output_type": "stream",
          "text": [
            "4\n",
            "5\n"
          ]
        }
      ],
      "source": [
        "target = \"001011101\"\n",
        "\n",
        "c= 2 * target.count('10')\n",
        "print(c)\n",
        "print(c+ 1 if target[-1] == '1' else c)\n",
        "# return  c+ 1 if target[-1] == '1' else c"
      ]
    },
    {
      "cell_type": "code",
      "execution_count": null,
      "metadata": {
        "colab": {
          "base_uri": "https://localhost:8080/"
        },
        "id": "Z5v76c0Z_m4B",
        "outputId": "6ef120af-b0e7-4fcd-8e4e-56490795c923",
        "vscode": {
          "languageId": "python"
        }
      },
      "outputs": [
        {
          "name": "stdout",
          "output_type": "stream",
          "text": [
            "(al)G(al)()()G\n",
            "alGalooG\n"
          ]
        }
      ],
      "source": [
        "command = \"G()(al)\"\n",
        "command = \"G()()()()(al)\"\n",
        "command = \"(al)G(al)()()G\"\n",
        "print(command)\n",
        "command = command.replace('()', 'o')\n",
        "command = command.replace('(al)','al')\n",
        "\n",
        "print(command)\n",
        "\n"
      ]
    },
    {
      "cell_type": "code",
      "execution_count": null,
      "metadata": {
        "colab": {
          "base_uri": "https://localhost:8080/"
        },
        "id": "g5HgGODpA1fG",
        "outputId": "c183d256-19bd-492b-96fd-776809332f76",
        "vscode": {
          "languageId": "python"
        }
      },
      "outputs": [
        {
          "name": "stdout",
          "output_type": "stream",
          "text": [
            "Keep calm and code on\n",
            "['Keep', 'calm', 'and', 'code', 'on']\n",
            "['on', 'code', 'calm', 'and', 'Keep']\n"
          ]
        }
      ],
      "source": [
        "text = \"Leetcode is cool\"\n",
        "text = \"Keep calm and code on\"\n",
        "print(text)\n",
        "text_arr = text.split(' ')\n",
        "print(text_arr)\n",
        "text_arr.sort()\n",
        "text_arr.reverse()\n",
        "#reversed(text_arr)\n",
        "print(text_arr)\n",
        "# result_arr = []\n",
        "# for val in text_arr: \n"
      ]
    },
    {
      "cell_type": "code",
      "execution_count": null,
      "metadata": {
        "colab": {
          "base_uri": "https://localhost:8080/"
        },
        "id": "QLWHVZFb2lix",
        "outputId": "ece158d1-94be-4831-ebe7-2e3845358c81",
        "vscode": {
          "languageId": "python"
        }
      },
      "outputs": [
        {
          "name": "stdout",
          "output_type": "stream",
          "text": [
            "[1, 1, 2, 3]\n",
            "1\n",
            "2\n",
            "[1, 3, 3]\n"
          ]
        }
      ],
      "source": [
        "nums = [1,2,3,4]\n",
        "\n",
        "nums = [1,1,2,3]\n",
        "\n",
        "print(nums)\n",
        "\n",
        "v1,v2 = 0,0 \n",
        "result_str = []\n",
        "\n",
        "for i in range(0,len(nums),2): \n",
        "  print(nums[i])\n",
        "  v1,v2 = nums[i], nums[i+1]\n",
        "  for j in range(v1) : result_str.append(v2)\n",
        "\n",
        "print(result_str)"
      ]
    },
    {
      "cell_type": "code",
      "execution_count": null,
      "metadata": {
        "colab": {
          "base_uri": "https://localhost:8080/"
        },
        "id": "5wonSTjn4gWJ",
        "outputId": "0bbf83d3-995f-468e-cd0d-25821a42adb6",
        "vscode": {
          "languageId": "python"
        }
      },
      "outputs": [
        {
          "name": "stdout",
          "output_type": "stream",
          "text": [
            "['a', 'b', 'b', 'b', 'b', 'b', 'b', 'b', 'b', 'b', 'b', 'b', 'b']\n",
            "a\n",
            "ab\n",
            "12\n",
            "12\n",
            "12\n",
            "12\n",
            "12\n",
            "12\n",
            "12\n",
            "12\n",
            "12\n",
            "12\n",
            "12\n",
            "ab12\n",
            "4\n"
          ]
        }
      ],
      "source": [
        "# https://leetcode.com/problems/string-compression/\n",
        "\n",
        "chars = [\"a\",\"a\",\"b\",\"b\",\"c\",\"c\",\"c\"]\n",
        "chars = [\"a\"]\n",
        "chars = [\"a\",\"b\",\"b\",\"b\",\"b\",\"b\",\"b\",\"b\",\"b\",\"b\",\"b\",\"b\",\"b\"]\n",
        "print(chars)\n",
        "# s = []\n",
        "s = ''\n",
        "for val in chars: \n",
        "  if val not in s : \n",
        "    #s.append(val)\n",
        "    s+=val\n",
        "    print(s)\n",
        "  else : \n",
        "    temp_cnt = chars.count(val)\n",
        "    print(temp_cnt)\n",
        "    if s[-1] == val : \n",
        "      #s.append(str(temp_cnt))\n",
        "      s+=str(temp_cnt)\n",
        "\n",
        "print(s)\n",
        "print(len(s))"
      ]
    },
    {
      "cell_type": "code",
      "execution_count": null,
      "metadata": {
        "id": "H-MKKX-27VYJ",
        "vscode": {
          "languageId": "python"
        }
      },
      "outputs": [],
      "source": [
        "# [\"a\",\"a\",\"b\",\"b\",\"c\",\"c\",\"c\"]\n",
        "# [\"a\"]\n",
        "# [\"a\",\"b\",\"b\",\"b\",\"b\",\"b\",\"b\",\"b\",\"b\",\"b\",\"b\",\"b\",\"b\"]\n",
        "# [\"a\",\"a\",\"a\",\"b\",\"b\",\"a\",\"a\"]\n",
        "\n",
        "chars = [\"a\",\"b\",\"b\",\"b\",\"b\",\"b\",\"b\",\"b\",\"b\",\"b\",\"b\",\"b\",\"b\"]\n",
        "chars = [\"a\",\"a\",\"a\",\"b\",\"b\",\"a\",\"a\"]\n",
        "print(chars)\n",
        "s = []\n",
        "# s = ''\n",
        "prev_char = ''\n",
        "temp_cnt = 1\n",
        "for val in chars: \n",
        "  if val != prev_char :\n",
        "    if temp_cnt > 1 : \n",
        "      print('here')\n",
        "      for val2 in list(map(str,str(temp_cnt))) : s.append(val2)\n",
        "      temp_cnt = 1 \n",
        "    s.append(val)     \n",
        "  else : \n",
        "    temp_cnt += 1   #chars.count(val)\n",
        "     \n",
        "  prev_char = val\n",
        "  print(prev_char)\n",
        "  print(temp_cnt)\n",
        "chars = s\n",
        "print(chars)\n",
        "print(len(chars))\n"
      ]
    },
    {
      "cell_type": "code",
      "execution_count": null,
      "metadata": {
        "colab": {
          "base_uri": "https://localhost:8080/"
        },
        "id": "vZe5jbsG-e6o",
        "outputId": "36229ae6-f68a-4ea0-c327-6ed7302cb981",
        "vscode": {
          "languageId": "python"
        }
      },
      "outputs": [
        {
          "name": "stdout",
          "output_type": "stream",
          "text": [
            "['a', 'b', 'b', 'b', 'b', 'b', 'b', 'b', 'b', 'b', 'b', 'b', 'b']\n",
            "here\n",
            "here\n",
            "['a', 'b', '1', '2']\n",
            "4\n",
            "<class 'list'>\n",
            "<class 'list'>\n"
          ]
        }
      ],
      "source": [
        "chars = [\"a\",\"a\",\"a\",\"b\",\"b\",\"a\",\"a\"]\n",
        "chars = [\"a\",\"b\",\"b\",\"b\",\"b\",\"b\",\"b\",\"b\",\"b\",\"b\",\"b\",\"b\",\"b\"]\n",
        "\n",
        "print(chars)\n",
        "s = []\n",
        "prev_char = ''\n",
        "temp_cnt = 1\n",
        "for val in chars : \n",
        "  if val != prev_char : \n",
        "    print('here')\n",
        "    if temp_cnt > 1 and s[-1] == prev_char : \n",
        "      for val2 in list(map(str,str(temp_cnt))) : s.append(val2) \n",
        "      temp_cnt = 1\n",
        "    s.append(val)\n",
        "  else : \n",
        "    temp_cnt+=1\n",
        "  prev_char = val\n",
        "if temp_cnt > 1 and s[-1] == prev_char : \n",
        "      for val2 in list(map(str,str(temp_cnt))) : s.append(val2) \n",
        "chars = s\n",
        "print(chars)\n",
        "print(len(chars))\n",
        "\n",
        "print(type(s))\n",
        "print(type(chars))\n"
      ]
    },
    {
      "cell_type": "code",
      "execution_count": null,
      "metadata": {
        "id": "5y7L79pbE6AC",
        "vscode": {
          "languageId": "python"
        }
      },
      "outputs": [],
      "source": [
        "        prev, cnt, pos = None, 0, 0\n",
        "        \n",
        "        def addCount(cnt, pos):\n",
        "            if cnt <= 1: return 0\n",
        "            cnt_str = str(cnt)\n",
        "            for ic in cnt_str:\n",
        "                chars[pos] = ic\n",
        "                pos += 1\n",
        "            return len(cnt_str)\n",
        "                \n",
        "        for c in chars:\n",
        "            if c != prev:\n",
        "                pos += addCount(cnt, pos)\n",
        "                chars[pos] = c\n",
        "                pos += 1\n",
        "                prev, cnt = c, 1\n",
        "            else:\n",
        "                cnt += 1\n",
        "        pos += addCount(cnt, pos)"
      ]
    },
    {
      "cell_type": "code",
      "execution_count": null,
      "metadata": {
        "id": "6a2VQi2dFmvq",
        "vscode": {
          "languageId": "python"
        }
      },
      "outputs": [],
      "source": [
        "# https://leetcode.com/problems/count-and-say/\n"
      ]
    },
    {
      "cell_type": "code",
      "execution_count": null,
      "metadata": {
        "colab": {
          "base_uri": "https://localhost:8080/"
        },
        "id": "EAU5bJB3kMjt",
        "outputId": "29aee3e9-7fb2-4688-dd22-317d1c925aa1",
        "vscode": {
          "languageId": "python"
        }
      },
      "outputs": [
        {
          "name": "stdout",
          "output_type": "stream",
          "text": [
            "[0, 1, 2, 3, 4]\n"
          ]
        }
      ],
      "source": [
        "nums = [0,1,2,3,4]\n",
        "index = [0,1,2,2,1]\n",
        "\n",
        "nums = [1,2,3,4,0]\n",
        "index = [0,1,2,3,0]\n",
        "\n",
        "output_arr = []\n",
        "\n",
        "for i,val in enumerate(nums) : \n",
        "  output_arr.insert(index[i],val)\n",
        "\n",
        "print(output_arr)"
      ]
    },
    {
      "cell_type": "code",
      "execution_count": null,
      "metadata": {
        "colab": {
          "base_uri": "https://localhost:8080/"
        },
        "id": "PQ7pofkbRc9v",
        "outputId": "3efcf44c-39e3-4b5c-bea4-07634409e219",
        "vscode": {
          "languageId": "python"
        }
      },
      "outputs": [
        {
          "name": "stdout",
          "output_type": "stream",
          "text": [
            "\n",
            "2\n"
          ]
        }
      ],
      "source": [
        "s = \"RLRRLLRLRL\"\n",
        "s = \"RLLLLRRRLR\"\n",
        "s = \"LLLLRRRR\"\n",
        "s = \"RLRRRLLRLL\"\n",
        "\n",
        "temp_str = ''\n",
        "balanced_cnt = 0\n",
        "for val in s : \n",
        "  # print(val)\n",
        "  temp_str+=val\n",
        "  if temp_str.count('L') == temp_str.count('R') : \n",
        "    balanced_cnt+=1\n",
        "    temp_str = ''\n",
        "\n",
        "print(temp_str)\n",
        "print(balanced_cnt)\n"
      ]
    },
    {
      "cell_type": "code",
      "execution_count": null,
      "metadata": {
        "colab": {
          "base_uri": "https://localhost:8080/"
        },
        "id": "qcOeFSHHVhV3",
        "outputId": "d871233c-e532-4078-b3df-12892655563f",
        "vscode": {
          "languageId": "python"
        }
      },
      "outputs": [
        {
          "name": "stdout",
          "output_type": "stream",
          "text": [
            "[]\n",
            "4\n"
          ]
        }
      ],
      "source": [
        "s = \"RLRRLLRLRL\"\n",
        "\n",
        "st,count = [],0\n",
        "d = {\"R\":\"L\",\"L\":\"R\"}\n",
        "for c in s:\n",
        "  if not st or d[c]!=st[-1]: st.append(c)\n",
        "  elif d[c]==st[-1]: \n",
        "    st.pop()\n",
        "    if not st: count+=1\n",
        "\n",
        "print(st)\n",
        "print(count)"
      ]
    },
    {
      "cell_type": "code",
      "execution_count": null,
      "metadata": {
        "colab": {
          "base_uri": "https://localhost:8080/"
        },
        "id": "E9wrGHE8iwFL",
        "outputId": "a2dbb688-b4db-49fe-f541-13e55693d4da",
        "vscode": {
          "languageId": "python"
        }
      },
      "outputs": [
        {
          "name": "stdout",
          "output_type": "stream",
          "text": [
            "['ab', 'c']\n",
            "['a', 'bc']\n",
            "abc\n",
            "abc\n",
            "True\n"
          ]
        }
      ],
      "source": [
        "import itertools\n",
        "word1 = [\"ab\", \"c\"]\n",
        "word2 = [\"a\", \"bc\"]\n",
        "\n",
        "print(word1)\n",
        "print(word2)\n",
        "w1,w2 = '',''\n",
        "\n",
        "w1 = list(itertools.accumulate(word1))\n",
        "print(w1[-1])\n",
        "w2 = list(itertools.accumulate(word2))\n",
        "print(w1[-1])\n",
        "\n",
        "if w1[-1] == w2[-1] : \n",
        "  print('True')\n",
        "else:\n",
        "  print('False')\n"
      ]
    },
    {
      "cell_type": "code",
      "execution_count": null,
      "metadata": {
        "colab": {
          "base_uri": "https://localhost:8080/"
        },
        "id": "thEKOtvi58xB",
        "outputId": "63ed0a82-68aa-47f1-f9e0-60c7d44fe678",
        "vscode": {
          "languageId": "python"
        }
      },
      "outputs": [
        {
          "name": "stdout",
          "output_type": "stream",
          "text": [
            "(1+(2*3)+((8)/4))+1\n",
            "here\n",
            "here\n",
            "here\n",
            "[]\n",
            "(()(()))\n"
          ]
        }
      ],
      "source": [
        "s = \"(1+(2*3)+((8)/4))+1\" \n",
        "print(s)\n",
        "\n",
        "temp_stack = []\n",
        "\n",
        "d = {'(' : ')', \n",
        "     ')':'('}\n",
        "depth_cnt = 0\n",
        "for val in s : \n",
        "  if val not in '()' : s = s.replace(val,'')\n",
        "\n",
        "# for i,val in enumerate(s) : \n",
        "#   print(d[val])\n",
        "#   print(s[i-1])\n",
        "#   print('***')\n",
        "#   if d[val] == s[i-1] : \n",
        "#     print('here')\n",
        "#     s = s.replace(val,'')\n",
        "result_str = [s[0]]\n",
        "for val in s[1:] :  \n",
        "  if d[val] != result_str[-1] : \n",
        "    print('here')\n",
        "    result_str.append(val)\n",
        "  else: \n",
        "    result_str.pop()\n",
        "\n",
        "print(result_str)\n",
        "print(s)"
      ]
    },
    {
      "cell_type": "code",
      "execution_count": null,
      "metadata": {
        "colab": {
          "base_uri": "https://localhost:8080/"
        },
        "id": "xwyc93Z4aemU",
        "outputId": "54611eec-3c52-4af6-ca26-aa71bc18afc7",
        "vscode": {
          "languageId": "python"
        }
      },
      "outputs": [
        {
          "name": "stdout",
          "output_type": "stream",
          "text": [
            "8*((1*(5+6))*(8/6))\n",
            "((())())\n",
            "((())())\n",
            "2\n"
          ]
        }
      ],
      "source": [
        "s = \"(1+(2*3)+((8)/4))+1\" \n",
        "\n",
        "#s = \"1+(2*3)/(2-1)\"\n",
        "\n",
        "s = \"(1)+((2))+(((3)))\"\n",
        "s = \"8*((1*(5+6))*(8/6))\"\n",
        "#s = \"1\"\n",
        "\n",
        "print(s)\n",
        "\n",
        "\n",
        "d = {'(' : ')', \n",
        "     ')':'('}\n",
        "depth_cnt = 0\n",
        "for val in s : \n",
        "  if val not in '()' : s = s.replace(val,'')\n",
        "print(s)\n",
        "if s == '' : print(\"here\")\n",
        "\n",
        "final_str = [s[0]]\n",
        "count = 0 \n",
        "for val in s[1:] :  \n",
        "  if final_str == [] : final_str.append(val)\n",
        "  if val == '(' : \n",
        "    if final_str[-1] == ')' : \n",
        "      final_str.pop()\n",
        "      count+=1\n",
        "    else: \n",
        "      final_str.append(val)\n",
        "      count = 0\n",
        "  elif val == ')' : \n",
        "    if final_str[-1] == '(' : \n",
        "      final_str.pop()\n",
        "      count+=1\n",
        "    else: \n",
        "      final_str.append(val)\n",
        "      count = 0\n",
        "print(s)\n",
        "print(count)"
      ]
    },
    {
      "cell_type": "code",
      "execution_count": null,
      "metadata": {
        "colab": {
          "base_uri": "https://localhost:8080/"
        },
        "id": "Mv3Kdo4HVnoM",
        "outputId": "c4057c10-62ce-4d32-8aa7-02d83a4213cb",
        "vscode": {
          "languageId": "python"
        }
      },
      "outputs": [
        {
          "name": "stdout",
          "output_type": "stream",
          "text": [
            "8*((1*(5+6))*(8/6))\n",
            "((())())\n",
            "0\n"
          ]
        }
      ],
      "source": [
        "s = \"8*((1*(5+6))*(8/6))\"\n",
        "#s = \"1\"\n",
        "\n",
        "print(s)\n",
        "\n",
        "\n",
        "d = {'(' : ')', \n",
        "     ')':'('}\n",
        "depth_cnt = 0\n",
        "for val in s : \n",
        "  if val not in '()' : s = s.replace(val,'')\n",
        "print(s)\n",
        "if s == '' : print(\"here\")\n",
        "\n",
        "depth_cnt = 0\n",
        "\n",
        "for val in s: \n",
        "  if val == '(' : depth_cnt+=1\n",
        "  if val == ')' : depth_cnt-=1\n",
        "\n",
        "\n",
        "print(depth_cnt)"
      ]
    },
    {
      "cell_type": "code",
      "execution_count": null,
      "metadata": {
        "colab": {
          "base_uri": "https://localhost:8080/",
          "height": 130
        },
        "id": "se46blVNVnZN",
        "outputId": "f929a933-d3b4-4aea-a8c1-5e4e8c9f3096",
        "vscode": {
          "languageId": "python"
        }
      },
      "outputs": [
        {
          "ename": "SyntaxError",
          "evalue": "ignored",
          "output_type": "error",
          "traceback": [
            "\u001b[0;36m  File \u001b[0;32m\"<ipython-input-8-3c39caff045d>\"\u001b[0;36m, line \u001b[0;32m15\u001b[0m\n\u001b[0;31m    is_consistent = False if i not in allowed_arr for i in val else True\u001b[0m\n\u001b[0m                                                    ^\u001b[0m\n\u001b[0;31mSyntaxError\u001b[0m\u001b[0;31m:\u001b[0m invalid syntax\n"
          ]
        }
      ],
      "source": [
        "allowed = \"abc\"\n",
        "words = [\"a\",\"b\",\"c\",\"ab\",\"ac\",\"bc\",\"abc\"]\n",
        "\n",
        "print(allowed)\n",
        "print(words)\n",
        "\n",
        "allowed_arr = list(map(str,allowed))\n",
        "print(allowed_arr)\n",
        "\n",
        "consistent_cnt = 0\n",
        "\n",
        "is_consistent = False\n",
        "\n",
        "for val in words: \n",
        "  is_consistent = False if i not in allowed_arr for i in val else True\n",
        "  print(is_consistent)\n"
      ]
    },
    {
      "cell_type": "code",
      "execution_count": null,
      "metadata": {
        "colab": {
          "base_uri": "https://localhost:8080/"
        },
        "id": "c8yzKGSkwuiv",
        "outputId": "5b7b07f3-60d0-430d-845f-d4d7af2d777a",
        "vscode": {
          "languageId": "python"
        }
      },
      "outputs": [
        {
          "name": "stdout",
          "output_type": "stream",
          "text": [
            "ab\n",
            "['ad', 'bd', 'aaab', 'baa', 'badab']\n",
            "['a', 'b']\n",
            "False\n",
            "False\n",
            "True\n",
            "True\n",
            "False\n",
            "2\n"
          ]
        }
      ],
      "source": [
        "words = [\"a\",\"b\",\"c\",\"ab\",\"ac\",\"bc\",\"abc\"]\n",
        "\n",
        "allowed = \"cad\"\n",
        "words = [\"cc\",\"acd\",\"b\",\"ba\",\"bac\",\"bad\",\"ac\",\"d\"]\n",
        "\n",
        "allowed = \"ab\"\n",
        "words = [\"ad\",\"bd\",\"aaab\",\"baa\",\"badab\"]\n",
        "\n",
        "print(allowed)\n",
        "print(words)\n",
        "\n",
        "allowed_arr = list(map(str,allowed))\n",
        "print(allowed_arr)\n",
        "\n",
        "consistent_cnt = 0\n",
        "is_consistent = False\n",
        "\n",
        "for val in words:\n",
        "  # is_consistent = False for i in val if i not in allowed_arr else True\n",
        "  is_consistent = False\n",
        "  for i in val : \n",
        "    # print(i)\n",
        "    if i in allowed_arr : \n",
        "      is_consistent = True\n",
        "    else: \n",
        "      is_consistent = False\n",
        "      break\n",
        "  print(is_consistent)\n",
        "  if is_consistent == True : \n",
        "    consistent_cnt+=1 \n",
        "    is_consistent = False\n",
        "\n",
        "\n",
        "\n",
        "print(consistent_cnt)"
      ]
    },
    {
      "cell_type": "code",
      "execution_count": null,
      "metadata": {
        "colab": {
          "base_uri": "https://localhost:8080/"
        },
        "id": "QCpZ91xQIuqD",
        "outputId": "3a7ac4ef-173f-4340-9ae4-d16bfba72154",
        "vscode": {
          "languageId": "python"
        }
      },
      "outputs": [
        {
          "name": "stdout",
          "output_type": "stream",
          "text": [
            "[-4, -7, -9, -10, -6, -3, -1]\n",
            "[0, -4, -7, -9, -10, -6, -3, -1]\n",
            "0\n"
          ]
        }
      ],
      "source": [
        "import itertools\n",
        "gain = [-5,1,5,0,-7]\n",
        "gain = [-4,-3,-2,-1,4,3,2]\n",
        "# gain2  = [0]\n",
        "gain2 = list(itertools.accumulate(gain))\n",
        "print(gain2)\n",
        "gain2.insert(0,0)\n",
        "print(gain2)\n",
        "print(max(gain2))\n"
      ]
    },
    {
      "cell_type": "code",
      "execution_count": null,
      "metadata": {
        "colab": {
          "base_uri": "https://localhost:8080/"
        },
        "id": "HuqrYMU94lnr",
        "outputId": "fc829722-b1e9-4cb3-9daa-04d149443898",
        "vscode": {
          "languageId": "python"
        }
      },
      "outputs": [
        {
          "name": "stdout",
          "output_type": "stream",
          "text": [
            "[(3, 0, 1), (3, 0, 1), (3, 0, 9), (3, 0, 7), (3, 1, 0), (3, 1, 1), (3, 1, 9), (3, 1, 7), (3, 1, 0), (3, 1, 1), (3, 1, 9), (3, 1, 7), (3, 9, 0), (3, 9, 1), (3, 9, 1), (3, 9, 7), (3, 7, 0), (3, 7, 1), (3, 7, 1), (3, 7, 9), (0, 3, 1), (0, 3, 1), (0, 3, 9), (0, 3, 7), (0, 1, 3), (0, 1, 1), (0, 1, 9), (0, 1, 7), (0, 1, 3), (0, 1, 1), (0, 1, 9), (0, 1, 7), (0, 9, 3), (0, 9, 1), (0, 9, 1), (0, 9, 7), (0, 7, 3), (0, 7, 1), (0, 7, 1), (0, 7, 9), (1, 3, 0), (1, 3, 1), (1, 3, 9), (1, 3, 7), (1, 0, 3), (1, 0, 1), (1, 0, 9), (1, 0, 7), (1, 1, 3), (1, 1, 0), (1, 1, 9), (1, 1, 7), (1, 9, 3), (1, 9, 0), (1, 9, 1), (1, 9, 7), (1, 7, 3), (1, 7, 0), (1, 7, 1), (1, 7, 9), (1, 3, 0), (1, 3, 1), (1, 3, 9), (1, 3, 7), (1, 0, 3), (1, 0, 1), (1, 0, 9), (1, 0, 7), (1, 1, 3), (1, 1, 0), (1, 1, 9), (1, 1, 7), (1, 9, 3), (1, 9, 0), (1, 9, 1), (1, 9, 7), (1, 7, 3), (1, 7, 0), (1, 7, 1), (1, 7, 9), (9, 3, 0), (9, 3, 1), (9, 3, 1), (9, 3, 7), (9, 0, 3), (9, 0, 1), (9, 0, 1), (9, 0, 7), (9, 1, 3), (9, 1, 0), (9, 1, 1), (9, 1, 7), (9, 1, 3), (9, 1, 0), (9, 1, 1), (9, 1, 7), (9, 7, 3), (9, 7, 0), (9, 7, 1), (9, 7, 1), (7, 3, 0), (7, 3, 1), (7, 3, 1), (7, 3, 9), (7, 0, 3), (7, 0, 1), (7, 0, 1), (7, 0, 9), (7, 1, 3), (7, 1, 0), (7, 1, 1), (7, 1, 9), (7, 1, 3), (7, 1, 0), (7, 1, 1), (7, 1, 9), (7, 9, 3), (7, 9, 0), (7, 9, 1), (7, 9, 1)]\n",
            "20\n",
            "[(3, 0, 1), (3, 0, 1), (3, 1, 0), (3, 1, 1), (3, 1, 0), (3, 1, 1), (0, 3, 1), (0, 3, 1), (0, 1, 3), (0, 1, 1), (0, 1, 3), (0, 1, 1), (1, 3, 1), (1, 0, 1), (1, 1, 3), (1, 1, 0), (1, 3, 1), (1, 0, 1), (1, 1, 3), (1, 1, 0)]\n"
          ]
        }
      ],
      "source": [
        "import itertools\n",
        "\n",
        "arr = [3,0,1,1,9,7]\n",
        "a = 7\n",
        "b = 2\n",
        "c = 3\n",
        "\n",
        "# temp_arr = list(itertools.islice(arr,0,3))\n",
        "# print(temp_arr)\n",
        "triplet_arr = list(itertools.permutations(arr,3))\n",
        "\n",
        "# for i in range(len(arr)-2) : \n",
        "#   triplet_arr.append(arr[i:i+3])\n",
        "\n",
        "print(triplet_arr)\n",
        "test_flag = True\n",
        "\n",
        "triplet_arr_result = []\n",
        "\n",
        "for val in triplet_arr: \n",
        "  # test_flag = True\n",
        "  if abs(val[0]-val[1]) <= a and abs(val[1] - val[2]) <= b and abs(val[0] - val[2]) <= c:\n",
        "    triplet_arr_result.append(val)\n",
        "\n",
        "  # if abs(val[0]-val[1]) <= a : \n",
        "  #   test_flag = False\n",
        "  #   # triplet_arr.remove(val)\n",
        "  #   # break \n",
        "  # if abs(val[1] - val[2]) <= b:\n",
        "  #   test_flag = False\n",
        "  #   # triplet_arr.remove(val)\n",
        "  #   # break\n",
        "  # if abs(val[0] - val[2]) <= c:\n",
        "  #   test_flag = False\n",
        "  #   # triplet_arr.remove(val)\n",
        "  #   # break\n",
        "  # if test_flag == True : triplet_arr_result.append(val)\n",
        "\n",
        "print(len(triplet_arr_result))\n",
        "print(triplet_arr_result)\n",
        "\n",
        "\n",
        "\n"
      ]
    },
    {
      "cell_type": "code",
      "execution_count": null,
      "metadata": {
        "colab": {
          "base_uri": "https://localhost:8080/"
        },
        "id": "F3hWqawISv7a",
        "outputId": "3324d383-bf3d-46a3-acf5-98ce8e352482",
        "vscode": {
          "languageId": "python"
        }
      },
      "outputs": [
        {
          "name": "stdout",
          "output_type": "stream",
          "text": [
            "0\n",
            "[]\n"
          ]
        }
      ],
      "source": [
        "import itertools\n",
        "\n",
        "arr = [3,0,1,1,9,7]\n",
        "a = 7\n",
        "b = 2\n",
        "c = 3\n",
        "\n",
        "arr = [1,1,2,2,3]\n",
        "a = 0\n",
        "b = 0\n",
        "c = 1\n",
        "\n",
        "triplet_arr = list(itertools.permutations(arr,3))\n",
        "\n",
        "#print(triplet_arr)\n",
        "\n",
        "triplet_arr_result = []\n",
        "\n",
        "for val in triplet_arr: \n",
        "  if abs(val[0]-val[1]) <= a and abs(val[1] - val[2]) <= b and abs(val[0] - val[2]) <= c:\n",
        "    print(val)\n",
        "    triplet_arr_result.append(val)\n",
        "\n",
        "print(len(triplet_arr_result))\n",
        "print(triplet_arr_result)\n",
        "\n"
      ]
    },
    {
      "cell_type": "code",
      "execution_count": null,
      "metadata": {
        "id": "rJceFaBtUTSc",
        "vscode": {
          "languageId": "python"
        }
      },
      "outputs": [],
      "source": [
        "for (i,j,k) in combinations(arr, 3):\n",
        "            if abs(i-j)<=a and abs(j-k)<=b and abs(i-k)<=c:\n",
        "                summ+=1\n",
        "        \n",
        "        return summ"
      ]
    },
    {
      "cell_type": "code",
      "execution_count": null,
      "metadata": {
        "colab": {
          "base_uri": "https://localhost:8080/"
        },
        "id": "WW6OitGiVCeh",
        "outputId": "95243294-2351-4498-b2c5-bb9dfe80acda",
        "vscode": {
          "languageId": "python"
        }
      },
      "outputs": [
        {
          "name": "stdout",
          "output_type": "stream",
          "text": [
            "[[0, 0, 0], [0, 0, 0]]\n",
            "**\n",
            "[[1, 1, 1], [0, 0, 0]]\n",
            "**\n",
            "here\n",
            "0\n",
            "here\n",
            "1\n",
            "***\n",
            "[[1, 2, 1], [0, 1, 0]]\n",
            "***\n",
            "**\n",
            "[[1, 2, 1], [1, 2, 1]]\n",
            "**\n",
            "here\n",
            "0\n",
            "here\n",
            "1\n",
            "***\n",
            "[[1, 3, 1], [1, 3, 1]]\n",
            "***\n",
            "6\n"
          ]
        }
      ],
      "source": [
        "n = 2\n",
        "m = 3\n",
        "indices = [[0,1],[1,1]]\n",
        "\n",
        "# n = 2\n",
        "# m = 2\n",
        "# indices = [[1,1],[0,0]]\n",
        "\n",
        "matrix=[ [ 0 ]*m ] * n\n",
        "print(matrix)\n",
        "\n",
        "for val in indices :\n",
        "  row = 1 \n",
        "  if row == 1:\n",
        "    #for i in matrix[val[0]]:\n",
        "    matrix[val[0]] = [x+1 for x in matrix[val[0]]]\n",
        "    row+=1\n",
        "    print('**')\n",
        "    print(matrix)\n",
        "    print('**')\n",
        "  if row ==2:\n",
        "    for j in range(n):\n",
        "      print('here')\n",
        "      print(j)\n",
        "      matrix[j][val[1]] = matrix[j][val[1]]+1\n",
        "    print('***')           \n",
        "    print(matrix)\n",
        "    print('***') \n",
        "\n",
        "odd_cnt = 0 \n",
        "\n",
        "for val in matrix:\n",
        "  for val1 in val : \n",
        "    if val1 % 2 != 0 : odd_cnt+=1\n",
        "\n",
        "print(odd_cnt)"
      ]
    },
    {
      "cell_type": "code",
      "execution_count": null,
      "metadata": {
        "colab": {
          "base_uri": "https://localhost:8080/"
        },
        "id": "gZ60aHE7fHTD",
        "outputId": "ba2c2aff-56f1-4fdd-82ef-810002fb618f",
        "vscode": {
          "languageId": "python"
        }
      },
      "outputs": [
        {
          "name": "stdout",
          "output_type": "stream",
          "text": [
            "[[0, 0, 0, 0, 0, 0, 0, 0, 0, 0, 0, 0, 0, 0, 0, 0, 0, 0, 0, 0, 0, 0, 0, 0, 0, 0, 0, 0, 0, 0, 0, 0, 0, 0, 0, 0, 0, 0], [0, 0, 0, 0, 0, 0, 0, 0, 0, 0, 0, 0, 0, 0, 0, 0, 0, 0, 0, 0, 0, 0, 0, 0, 0, 0, 0, 0, 0, 0, 0, 0, 0, 0, 0, 0, 0, 0], [0, 0, 0, 0, 0, 0, 0, 0, 0, 0, 0, 0, 0, 0, 0, 0, 0, 0, 0, 0, 0, 0, 0, 0, 0, 0, 0, 0, 0, 0, 0, 0, 0, 0, 0, 0, 0, 0], [0, 0, 0, 0, 0, 0, 0, 0, 0, 0, 0, 0, 0, 0, 0, 0, 0, 0, 0, 0, 0, 0, 0, 0, 0, 0, 0, 0, 0, 0, 0, 0, 0, 0, 0, 0, 0, 0], [0, 0, 0, 0, 0, 0, 0, 0, 0, 0, 0, 0, 0, 0, 0, 0, 0, 0, 0, 0, 0, 0, 0, 0, 0, 0, 0, 0, 0, 0, 0, 0, 0, 0, 0, 0, 0, 0], [0, 0, 0, 0, 0, 0, 0, 0, 0, 0, 0, 0, 0, 0, 0, 0, 0, 0, 0, 0, 0, 0, 0, 0, 0, 0, 0, 0, 0, 0, 0, 0, 0, 0, 0, 0, 0, 0], [0, 0, 0, 0, 0, 0, 0, 0, 0, 0, 0, 0, 0, 0, 0, 0, 0, 0, 0, 0, 0, 0, 0, 0, 0, 0, 0, 0, 0, 0, 0, 0, 0, 0, 0, 0, 0, 0], [0, 0, 0, 0, 0, 0, 0, 0, 0, 0, 0, 0, 0, 0, 0, 0, 0, 0, 0, 0, 0, 0, 0, 0, 0, 0, 0, 0, 0, 0, 0, 0, 0, 0, 0, 0, 0, 0], [0, 0, 0, 0, 0, 0, 0, 0, 0, 0, 0, 0, 0, 0, 0, 0, 0, 0, 0, 0, 0, 0, 0, 0, 0, 0, 0, 0, 0, 0, 0, 0, 0, 0, 0, 0, 0, 0], [0, 0, 0, 0, 0, 0, 0, 0, 0, 0, 0, 0, 0, 0, 0, 0, 0, 0, 0, 0, 0, 0, 0, 0, 0, 0, 0, 0, 0, 0, 0, 0, 0, 0, 0, 0, 0, 0], [0, 0, 0, 0, 0, 0, 0, 0, 0, 0, 0, 0, 0, 0, 0, 0, 0, 0, 0, 0, 0, 0, 0, 0, 0, 0, 0, 0, 0, 0, 0, 0, 0, 0, 0, 0, 0, 0], [0, 0, 0, 0, 0, 0, 0, 0, 0, 0, 0, 0, 0, 0, 0, 0, 0, 0, 0, 0, 0, 0, 0, 0, 0, 0, 0, 0, 0, 0, 0, 0, 0, 0, 0, 0, 0, 0], [0, 0, 0, 0, 0, 0, 0, 0, 0, 0, 0, 0, 0, 0, 0, 0, 0, 0, 0, 0, 0, 0, 0, 0, 0, 0, 0, 0, 0, 0, 0, 0, 0, 0, 0, 0, 0, 0], [0, 0, 0, 0, 0, 0, 0, 0, 0, 0, 0, 0, 0, 0, 0, 0, 0, 0, 0, 0, 0, 0, 0, 0, 0, 0, 0, 0, 0, 0, 0, 0, 0, 0, 0, 0, 0, 0], [0, 0, 0, 0, 0, 0, 0, 0, 0, 0, 0, 0, 0, 0, 0, 0, 0, 0, 0, 0, 0, 0, 0, 0, 0, 0, 0, 0, 0, 0, 0, 0, 0, 0, 0, 0, 0, 0], [0, 0, 0, 0, 0, 0, 0, 0, 0, 0, 0, 0, 0, 0, 0, 0, 0, 0, 0, 0, 0, 0, 0, 0, 0, 0, 0, 0, 0, 0, 0, 0, 0, 0, 0, 0, 0, 0], [0, 0, 0, 0, 0, 0, 0, 0, 0, 0, 0, 0, 0, 0, 0, 0, 0, 0, 0, 0, 0, 0, 0, 0, 0, 0, 0, 0, 0, 0, 0, 0, 0, 0, 0, 0, 0, 0], [0, 0, 0, 0, 0, 0, 0, 0, 0, 0, 0, 0, 0, 0, 0, 0, 0, 0, 0, 0, 0, 0, 0, 0, 0, 0, 0, 0, 0, 0, 0, 0, 0, 0, 0, 0, 0, 0], [0, 0, 0, 0, 0, 0, 0, 0, 0, 0, 0, 0, 0, 0, 0, 0, 0, 0, 0, 0, 0, 0, 0, 0, 0, 0, 0, 0, 0, 0, 0, 0, 0, 0, 0, 0, 0, 0], [0, 0, 0, 0, 0, 0, 0, 0, 0, 0, 0, 0, 0, 0, 0, 0, 0, 0, 0, 0, 0, 0, 0, 0, 0, 0, 0, 0, 0, 0, 0, 0, 0, 0, 0, 0, 0, 0], [0, 0, 0, 0, 0, 0, 0, 0, 0, 0, 0, 0, 0, 0, 0, 0, 0, 0, 0, 0, 0, 0, 0, 0, 0, 0, 0, 0, 0, 0, 0, 0, 0, 0, 0, 0, 0, 0], [0, 0, 0, 0, 0, 0, 0, 0, 0, 0, 0, 0, 0, 0, 0, 0, 0, 0, 0, 0, 0, 0, 0, 0, 0, 0, 0, 0, 0, 0, 0, 0, 0, 0, 0, 0, 0, 0], [0, 0, 0, 0, 0, 0, 0, 0, 0, 0, 0, 0, 0, 0, 0, 0, 0, 0, 0, 0, 0, 0, 0, 0, 0, 0, 0, 0, 0, 0, 0, 0, 0, 0, 0, 0, 0, 0], [0, 0, 0, 0, 0, 0, 0, 0, 0, 0, 0, 0, 0, 0, 0, 0, 0, 0, 0, 0, 0, 0, 0, 0, 0, 0, 0, 0, 0, 0, 0, 0, 0, 0, 0, 0, 0, 0], [0, 0, 0, 0, 0, 0, 0, 0, 0, 0, 0, 0, 0, 0, 0, 0, 0, 0, 0, 0, 0, 0, 0, 0, 0, 0, 0, 0, 0, 0, 0, 0, 0, 0, 0, 0, 0, 0], [0, 0, 0, 0, 0, 0, 0, 0, 0, 0, 0, 0, 0, 0, 0, 0, 0, 0, 0, 0, 0, 0, 0, 0, 0, 0, 0, 0, 0, 0, 0, 0, 0, 0, 0, 0, 0, 0], [0, 0, 0, 0, 0, 0, 0, 0, 0, 0, 0, 0, 0, 0, 0, 0, 0, 0, 0, 0, 0, 0, 0, 0, 0, 0, 0, 0, 0, 0, 0, 0, 0, 0, 0, 0, 0, 0], [0, 0, 0, 0, 0, 0, 0, 0, 0, 0, 0, 0, 0, 0, 0, 0, 0, 0, 0, 0, 0, 0, 0, 0, 0, 0, 0, 0, 0, 0, 0, 0, 0, 0, 0, 0, 0, 0]]\n",
            "406\n"
          ]
        }
      ],
      "source": [
        "n = 28\n",
        "m = 38\n",
        "indices = [[17,16],[26,31],[19,12],[22,24],[17,28],[23,21],[27,32],[23,27],[23,33],[18,7],[4,20],[0,31],[25,33],[5,22]]\n",
        "\n",
        "\n",
        "matrix=[ [ 0 ]*m ] * n\n",
        "print(matrix)\n",
        "\n",
        "for val in indices :\n",
        "  row = 1 \n",
        "  if row == 1:\n",
        "    matrix[val[0]] = [x+1 for x in matrix[val[0]]]\n",
        "    row+=1\n",
        "  if row ==2:\n",
        "    for j in range(n):\n",
        "      matrix[j][val[1]] = matrix[j][val[1]]+1\n",
        "    \n",
        "odd_cnt = 0 \n",
        "\n",
        "for val in matrix:\n",
        "  for val1 in val : \n",
        "    if val1 % 2 != 0 : odd_cnt+=1\n",
        "\n",
        "print(odd_cnt)\n",
        "\n"
      ]
    },
    {
      "cell_type": "code",
      "execution_count": null,
      "metadata": {
        "colab": {
          "base_uri": "https://localhost:8080/",
          "height": 215
        },
        "id": "mc9vG5GiiKRb",
        "outputId": "644cff5b-ef12-4e71-f7c9-23cff3bb0cba",
        "vscode": {
          "languageId": "python"
        }
      },
      "outputs": [
        {
          "ename": "TypeError",
          "evalue": "ignored",
          "output_type": "error",
          "traceback": [
            "\u001b[0;31m---------------------------------------------------------------------------\u001b[0m",
            "\u001b[0;31mTypeError\u001b[0m                                 Traceback (most recent call last)",
            "\u001b[0;32m<ipython-input-60-505762f886e9>\u001b[0m in \u001b[0;36m<module>\u001b[0;34m()\u001b[0m\n\u001b[1;32m      3\u001b[0m \u001b[0ms\u001b[0m \u001b[0;34m=\u001b[0m \u001b[0;34m\"babad\"\u001b[0m\u001b[0;34m\u001b[0m\u001b[0;34m\u001b[0m\u001b[0m\n\u001b[1;32m      4\u001b[0m \u001b[0;34m\u001b[0m\u001b[0m\n\u001b[0;32m----> 5\u001b[0;31m \u001b[0ms_combo\u001b[0m \u001b[0;34m=\u001b[0m \u001b[0mitertools\u001b[0m\u001b[0;34m.\u001b[0m\u001b[0mcombinations\u001b[0m\u001b[0;34m(\u001b[0m\u001b[0ms\u001b[0m\u001b[0;34m)\u001b[0m\u001b[0;34m\u001b[0m\u001b[0;34m\u001b[0m\u001b[0m\n\u001b[0m\u001b[1;32m      6\u001b[0m \u001b[0mprint\u001b[0m\u001b[0;34m(\u001b[0m\u001b[0ms_combo\u001b[0m\u001b[0;34m)\u001b[0m\u001b[0;34m\u001b[0m\u001b[0;34m\u001b[0m\u001b[0m\n",
            "\u001b[0;31mTypeError\u001b[0m: combinations() missing required argument 'r' (pos 2)"
          ]
        }
      ],
      "source": [
        "import itertools\n",
        "\n",
        "s = \"babad\"\n",
        "\n",
        "s_combo = itertools.combinations(s)\n",
        "print(s_combo)"
      ]
    },
    {
      "cell_type": "code",
      "execution_count": null,
      "metadata": {
        "colab": {
          "base_uri": "https://localhost:8080/"
        },
        "id": "6DhxzMfYV1fx",
        "outputId": "c106c65e-2ecf-4946-c945-3ff609e510ba",
        "vscode": {
          "languageId": "python"
        }
      },
      "outputs": [
        {
          "name": "stdout",
          "output_type": "stream",
          "text": [
            "To be or not to be\n",
            "['to', 'be', 'or', 'not', 'to', 'be']\n",
            "[2, 3]\n",
            "To be or to be not\n"
          ]
        }
      ],
      "source": [
        "text = \"Leetcode is cool\"\n",
        "text = \"Keep calm and code on\"\n",
        "text = \"To be or not to be\"\n",
        "print(text)\n",
        "text_arr = text.lower().split(' ')\n",
        "print(text_arr)\n",
        "text_dict = {}\n",
        "for val in text_arr: \n",
        "  #text_dict[len(val)].append(val)\n",
        "  text_dict.setdefault(len(val),[]).append(val)\n",
        "\n",
        "print(sorted(text_dict))\n",
        "reordered_text = ''\n",
        "for val in sorted(text_dict):\n",
        "  for val1 in text_dict[val]:\n",
        "    if reordered_text != '' : reordered_text+=' '\n",
        "    reordered_text+=val1\n",
        "    # reordered_text+=' '\n",
        "# reordered_text = reordered_text.capitalize()\n",
        "print(reordered_text.capitalize())\n",
        "\n",
        "# text_arr.sort()\n",
        "# text_arr.reverse()\n",
        "# #reversed(text_arr)\n",
        "# print(text_arr)\n",
        "# # result_arr = []\n",
        "# # for val in text_arr: \n",
        "# To be or to be not\n",
        "# To be or to be not"
      ]
    },
    {
      "cell_type": "code",
      "execution_count": null,
      "metadata": {
        "colab": {
          "base_uri": "https://localhost:8080/"
        },
        "id": "KkND38UvbsPK",
        "outputId": "730b07ba-01d5-4237-c8c5-49c6b77b4381",
        "vscode": {
          "languageId": "python"
        }
      },
      "outputs": [
        {
          "name": "stdout",
          "output_type": "stream",
          "text": [
            "To be or to be not\n"
          ]
        }
      ],
      "source": [
        "words = text.lower().split(\" \")\n",
        "words.sort(key = lambda k: len(k))\n",
        "words[0] = words[0][0].upper() + words[0][1:]\n",
        "print(\" \".join(words))"
      ]
    },
    {
      "cell_type": "code",
      "execution_count": null,
      "metadata": {
        "colab": {
          "base_uri": "https://localhost:8080/",
          "height": 129
        },
        "id": "_5N7Z2v4pLZ-",
        "outputId": "2df42aef-d56d-47f4-a294-a9fcbbc9435c",
        "vscode": {
          "languageId": "python"
        }
      },
      "outputs": [
        {
          "ename": "SyntaxError",
          "evalue": "ignored",
          "output_type": "error",
          "traceback": [
            "\u001b[0;36m  File \u001b[0;32m\"<ipython-input-27-d2518ed817e2>\"\u001b[0;36m, line \u001b[0;32m7\u001b[0m\n\u001b[0;31m    candyType_distinct.add(val) for val in candyType\u001b[0m\n\u001b[0m                                  ^\u001b[0m\n\u001b[0;31mSyntaxError\u001b[0m\u001b[0;31m:\u001b[0m invalid syntax\n"
          ]
        }
      ],
      "source": [
        "import itertools\n",
        "candyType = [1,1,2,2,3,3]\n",
        "candyType = [6,6,6,6]\n",
        "candyType = [1,1,2,3]\n",
        "\n",
        "candyType_distinct = set()\n",
        "\n",
        "for val in candyType: \n",
        "  candyType_distinct.add(val)\n",
        "candy_can_have = len(candyType)//2\n",
        "\n",
        "if len(candyType_distinct)<candy_can_have:  print(len(candyType_distinct))\n",
        "else :   print(candy_can_have)\n",
        "\n",
        "# print(len(candyType_distinct))\n",
        "# print(list(itertools.combinations(candyType,2)))"
      ]
    },
    {
      "cell_type": "code",
      "execution_count": null,
      "metadata": {
        "colab": {
          "base_uri": "https://localhost:8080/"
        },
        "id": "bTnGoyKUsqny",
        "outputId": "f1e58732-336f-4e75-eb3f-21974395512a",
        "vscode": {
          "languageId": "python"
        }
      },
      "outputs": [
        {
          "name": "stdout",
          "output_type": "stream",
          "text": [
            "[1, 3, 12, 0, 0]\n"
          ]
        }
      ],
      "source": [
        "nums = [0,1,0,3,12]\n",
        "\n",
        "nums.sort(key = lambda val : val==0)\n",
        "# nums.reverse()\n",
        "print(nums)"
      ]
    },
    {
      "cell_type": "code",
      "execution_count": null,
      "metadata": {
        "colab": {
          "base_uri": "https://localhost:8080/"
        },
        "id": "iR8pmAApBh1a",
        "outputId": "1aa6b691-064f-43bc-cca4-cb9940ef655b",
        "vscode": {
          "languageId": "python"
        }
      },
      "outputs": [
        {
          "name": "stdout",
          "output_type": "stream",
          "text": [
            "[1, 0, 0, 3, 12]\n",
            "[1, 3, 0, 0, 12]\n",
            "[1, 3, 12, 0, 0]\n"
          ]
        }
      ],
      "source": [
        "nums = [0,1,0,3,12]\n",
        "pos = 0\n",
        "        \n",
        "for i in range(len(nums)):\n",
        "  el = nums[i]\n",
        "  if el != 0:\n",
        "    nums[pos], nums[i] = nums[i], nums[pos]\n",
        "    pos += 1\n",
        "    print(nums)"
      ]
    },
    {
      "cell_type": "code",
      "execution_count": null,
      "metadata": {
        "id": "q6XJhswhFSbs",
        "vscode": {
          "languageId": "python"
        }
      },
      "outputs": [],
      "source": [
        " for val in nums:\n",
        "          if val == 0 :\n",
        "            nums.append(0)\n",
        "            nums.pop(nums.index(val))\n",
        "        print(nums)"
      ]
    },
    {
      "cell_type": "code",
      "execution_count": null,
      "metadata": {
        "colab": {
          "base_uri": "https://localhost:8080/"
        },
        "id": "wSP9lsgJEz6e",
        "outputId": "30170401-2300-4bcd-f75b-3e36f20d8336",
        "vscode": {
          "languageId": "python"
        }
      },
      "outputs": [
        {
          "name": "stdout",
          "output_type": "stream",
          "text": [
            "[3, 1, 2, 4]\n",
            "2\n",
            "here\n",
            "[1, 2, 4, 3]\n",
            "here\n",
            "[2, 4, 3, 1]\n",
            "[2, 4, 3, 1]\n"
          ]
        }
      ],
      "source": [
        "A = [3,1,2,4]\n",
        "# A = [0,1,2]\n",
        "\n",
        "#A.sort(key = lambda val: val%2 != 0)\n",
        "print(A)\n",
        "temp_arr = []\n",
        "odd_cnt = 0 \n",
        "for val in A: \n",
        "  if val%2!=0 : \n",
        "    odd_cnt+=1\n",
        "print(odd_cnt)\n",
        "\n",
        "while odd_cnt!=0:\n",
        "  for val in A:\n",
        "    if val%2!=0 :\n",
        "      print('here')\n",
        "      A.append(val)\n",
        "      A.pop(A.index(val))\n",
        "      print(A)\n",
        "      break\n",
        "  odd_cnt-=1\n",
        "\n",
        "# for val in A:\n",
        "#   print(val)\n",
        "#   if val%2!=0 :\n",
        "#     A.append(val)\n",
        "#     A.pop(A.index(val))\n",
        "#     print(A)\n",
        "    \n",
        "print(A)\n"
      ]
    },
    {
      "cell_type": "code",
      "execution_count": null,
      "metadata": {
        "colab": {
          "base_uri": "https://localhost:8080/"
        },
        "id": "mCeZIqeB1u05",
        "outputId": "60e84a66-04d4-4752-949e-caf94b9de2b5",
        "vscode": {
          "languageId": "python"
        }
      },
      "outputs": [
        {
          "name": "stdout",
          "output_type": "stream",
          "text": [
            "2\n",
            "3\n",
            "[1, 2, 3]\n",
            "1\n"
          ]
        }
      ],
      "source": [
        "nums = [3,2,1]\n",
        "# nums = [1,2]\n",
        "\n",
        "largest_order = [sorted(nums)[0]]\n",
        "for val in sorted(nums)[1:]:\n",
        "  print(val)\n",
        "  if val>largest_order[-1]  : \n",
        "    #largest_order.insert(0,val)\n",
        "    largest_order.append(val)\n",
        "    if len(largest_order) == 3 : break\n",
        "print(largest_order)\n",
        "if len(largest_order)<3 : \n",
        "  print(largest_order[-1])\n",
        "  # return largest_order[-1]\n",
        "else: \n",
        "  print(largest_order[0])\n",
        "  # return largest_order[0]"
      ]
    },
    {
      "cell_type": "code",
      "execution_count": null,
      "metadata": {
        "id": "hB28xhrMx7N6",
        "vscode": {
          "languageId": "python"
        }
      },
      "outputs": [],
      "source": [
        "import itertools\n",
        "nums = [4,3,2,7,8,2,3,1]\n",
        "nums.sort()\n",
        "result_arr =[]\n",
        "temp_val,i = 0,0\n",
        "entry_present = False\n",
        "# for val in sorted(nums):\n",
        "#   print(val)\n",
        "\n",
        "while i <= len(nums) : \n",
        "  print('first if')\n",
        "  print(i)\n",
        "  print(len(nums))\n",
        "  print(result_arr)\n",
        "  if i < len(nums):\n",
        "    temp_val = nums[i]\n",
        "    if temp_val+1 in nums : \n",
        "      print('present cond')\n",
        "      i = nums.index(temp_val+1)\n",
        "      # i+=1\n",
        "    else: \n",
        "      #print(temp_val+1)\n",
        "      while entry_present == False:\n",
        "        print('here')\n",
        "        if temp_val+1 not in nums :\n",
        "          result_arr.append(temp_val+1)\n",
        "          temp_val+=1\n",
        "        else: \n",
        "          print('here false')\n",
        "          entry_present = True\n",
        "          i = nums.index(temp_val+1)\n",
        "          #if entry_present == True : break\n",
        "\n",
        "        print(result_arr)\n",
        "    # break\n",
        "  else: \n",
        "    print('final else')\n",
        "\n",
        "  \n",
        "\n",
        "\n",
        "\n",
        "\n"
      ]
    },
    {
      "cell_type": "code",
      "execution_count": null,
      "metadata": {
        "id": "vTLj5QHYFbtT",
        "vscode": {
          "languageId": "python"
        }
      },
      "outputs": [],
      "source": [
        "nums = [4,3,2,7,8,2,3,1]\n",
        "\n",
        "result_arr =[]\n",
        "\n"
      ]
    },
    {
      "cell_type": "code",
      "execution_count": null,
      "metadata": {
        "colab": {
          "base_uri": "https://localhost:8080/"
        },
        "id": "ZjkS6BBsuTp3",
        "outputId": "2d47ad0b-39ab-41fa-a4a1-d0cb73e2e3b1",
        "vscode": {
          "languageId": "python"
        }
      },
      "outputs": [
        {
          "name": "stdout",
          "output_type": "stream",
          "text": [
            "1\n"
          ]
        }
      ],
      "source": [
        "import itertools\n",
        "\n",
        "tiles = \"AAB\"\n",
        "tiles = \"AAABBC\"\n",
        "tiles = \"V\"\n",
        "\n",
        "result_arr =[]\n",
        "\n",
        "result_arr = list(itertools.permutations(tiles,3))\n",
        "\n",
        "for i in range(1,len(tiles)+1): \n",
        "  result_arr += list(itertools.permutations(tiles,i))\n",
        "\n",
        "print(len(set(result_arr)))"
      ]
    },
    {
      "cell_type": "code",
      "execution_count": null,
      "metadata": {
        "colab": {
          "base_uri": "https://localhost:8080/"
        },
        "id": "sPUga_AO2ddP",
        "outputId": "5ce9ba1a-e74b-4098-bd1a-0f43c7778136",
        "vscode": {
          "languageId": "python"
        }
      },
      "outputs": [
        {
          "name": "stdout",
          "output_type": "stream",
          "text": [
            "similar\n",
            "[3]\n"
          ]
        }
      ],
      "source": [
        "nums = [1,2,2,4]\n",
        "nums = [3,2,2]\n",
        "nums = [2,3,2]\n",
        "nums = [3,2,3,4,6,5]\n",
        "nums.sort()\n",
        "return_arr =[]\n",
        "for i in range(1,len(nums)) : \n",
        "  temp_val = nums[i] - nums[i-1]\n",
        "  if temp_val == 0 : \n",
        "    print('similar')\n",
        "    return_arr.append(nums[i])\n",
        "    if nums[i] == len(nums) : \n",
        "      if nums[i]-1 not in nums: return_arr.append(nums[i]-1)\n",
        "      elif nums[i]+1 not in nums: return_arr.append(nums[i]+1)\n",
        "    else: \n",
        "      if nums[i]-1 not in nums: return_arr.append(nums[i]-1)\n",
        "      elif nums[i]+1 not in nums: return_arr.append(nums[i]+1)\n",
        "\n",
        "print(return_arr)"
      ]
    },
    {
      "cell_type": "code",
      "execution_count": null,
      "metadata": {
        "colab": {
          "base_uri": "https://localhost:8080/"
        },
        "id": "4-_cE-FHFvbQ",
        "outputId": "233ac8c2-286a-4d32-8268-1fbc02f8c053",
        "vscode": {
          "languageId": "python"
        }
      },
      "outputs": [
        {
          "name": "stdout",
          "output_type": "stream",
          "text": [
            "{2, 3}\n",
            "[1]\n",
            "2\n",
            "[2, 1]\n"
          ]
        }
      ],
      "source": [
        "nums = [1,2,2,4]\n",
        "nums = [3,2,2]\n",
        "nums = [2,3,2]\n",
        "# nums = [3,2,3,4,6,5]\n",
        "\n",
        "y = set(nums)\n",
        "print(y)\n",
        "result_arr = []\n",
        "result_arr = list(set(map(lambda x: x*(x not in y) , range(len(nums)+1))))[1:]\n",
        "print(result_arr)\n",
        "for val in nums: \n",
        "  if nums.count(val) > 1 : \n",
        "    print(val)\n",
        "    result_arr.insert(0,val)\n",
        "    break\n",
        "print(result_arr)"
      ]
    },
    {
      "cell_type": "code",
      "execution_count": null,
      "metadata": {
        "colab": {
          "base_uri": "https://localhost:8080/"
        },
        "id": "SGh96mvNEjx9",
        "outputId": "039194df-9d39-4b5d-ab95-94d7eb63ab62",
        "vscode": {
          "languageId": "python"
        }
      },
      "outputs": [
        {
          "name": "stdout",
          "output_type": "stream",
          "text": [
            "[0]\n"
          ]
        }
      ],
      "source": [
        "nums = [9,6,4,2,3,5,7,0,1]\n",
        "nums = [0,1]\n",
        "nums = [1]\n",
        "\n",
        "result_arr = []\n",
        "result_arr = list(set(map(lambda x: x*(x not in nums) , range(0,len(nums)+1))))\n",
        "\n",
        "print(result_arr)"
      ]
    },
    {
      "cell_type": "code",
      "execution_count": null,
      "metadata": {
        "colab": {
          "base_uri": "https://localhost:8080/"
        },
        "id": "7Zm5URJELcfX",
        "outputId": "db04295f-1669-46d5-8af8-b28ca77d7cf7",
        "vscode": {
          "languageId": "python"
        }
      },
      "outputs": [
        {
          "name": "stdout",
          "output_type": "stream",
          "text": [
            "0\n"
          ]
        }
      ],
      "source": [
        "print(0*(0 not in nums))"
      ]
    },
    {
      "cell_type": "code",
      "execution_count": null,
      "metadata": {
        "colab": {
          "base_uri": "https://localhost:8080/"
        },
        "id": "tkLK6HhfMxiN",
        "outputId": "bd95c148-12af-4f59-889f-b12082eaebae",
        "vscode": {
          "languageId": "python"
        }
      },
      "outputs": [
        {
          "name": "stdout",
          "output_type": "stream",
          "text": [
            "8\n"
          ]
        }
      ],
      "source": [
        "nums = [1]\n",
        "nums = [9,6,4,2,3,5,7,0,1]\n",
        "\n",
        "\n",
        "for val in range(len(nums)+1):\n",
        "  if val not in nums : \n",
        "    print(val)\n"
      ]
    },
    {
      "cell_type": "code",
      "execution_count": null,
      "metadata": {
        "id": "8WX5ocPJNhEc",
        "vscode": {
          "languageId": "python"
        }
      },
      "outputs": [],
      "source": [
        "\n",
        "\n",
        "expected = len(nums)*(len(nums)+1)/2\n",
        "actual= sum(nums)\n",
        "return int(expected - actual)"
      ]
    },
    {
      "cell_type": "code",
      "execution_count": null,
      "metadata": {
        "id": "OwcudRY3OKyi",
        "vscode": {
          "languageId": "python"
        }
      },
      "outputs": [],
      "source": [
        "#https://leetcode.com/problems/average-of-levels-in-binary-tree/\n",
        "\n",
        "\n",
        "\n",
        "from collections import defaultdict\n",
        "\n",
        "class Solution:\n",
        "    def averageOfLevels(self, root):\n",
        "        if root is None:\n",
        "            return []\n",
        "        levels = defaultdict(list)\n",
        "        queue = [(root, 1)]\n",
        "        level = 0\n",
        "        while queue:\n",
        "            node, level = queue.pop(0)\n",
        "            levels[level].append(node.val)\n",
        "            if node.left is not None:\n",
        "                queue.append((node.left, level + 1))\n",
        "            if node.right is not None:\n",
        "                queue.append((node.right, level + 1))\n",
        "        return [sum(levels[i]) / len(levels[i]) for i in range(1, level + 1)]"
      ]
    },
    {
      "cell_type": "code",
      "execution_count": null,
      "metadata": {
        "colab": {
          "base_uri": "https://localhost:8080/"
        },
        "id": "xn4RJSl7OQVN",
        "outputId": "54c0bd51-f614-4d9a-eee0-95a09fc366ae",
        "vscode": {
          "languageId": "python"
        }
      },
      "outputs": [
        {
          "name": "stdout",
          "output_type": "stream",
          "text": [
            "[('a', 'a', 'a', 'a', 'a'), ('a', 'a', 'a', 'a', 'e'), ('a', 'a', 'a', 'a', 'i'), ('a', 'a', 'a', 'a', 'o'), ('a', 'a', 'a', 'a', 'u'), ('a', 'a', 'a', 'e', 'a'), ('a', 'a', 'a', 'e', 'e'), ('a', 'a', 'a', 'e', 'i'), ('a', 'a', 'a', 'e', 'o'), ('a', 'a', 'a', 'e', 'u'), ('a', 'a', 'a', 'i', 'a'), ('a', 'a', 'a', 'i', 'e'), ('a', 'a', 'a', 'i', 'i'), ('a', 'a', 'a', 'i', 'o'), ('a', 'a', 'a', 'i', 'u'), ('a', 'a', 'a', 'o', 'a'), ('a', 'a', 'a', 'o', 'e'), ('a', 'a', 'a', 'o', 'i'), ('a', 'a', 'a', 'o', 'o'), ('a', 'a', 'a', 'o', 'u'), ('a', 'a', 'a', 'u', 'a'), ('a', 'a', 'a', 'u', 'e'), ('a', 'a', 'a', 'u', 'i'), ('a', 'a', 'a', 'u', 'o'), ('a', 'a', 'a', 'u', 'u'), ('a', 'a', 'e', 'a', 'a'), ('a', 'a', 'e', 'a', 'e'), ('a', 'a', 'e', 'a', 'i'), ('a', 'a', 'e', 'a', 'o'), ('a', 'a', 'e', 'a', 'u'), ('a', 'a', 'e', 'e', 'a'), ('a', 'a', 'e', 'e', 'e'), ('a', 'a', 'e', 'e', 'i'), ('a', 'a', 'e', 'e', 'o'), ('a', 'a', 'e', 'e', 'u'), ('a', 'a', 'e', 'i', 'a'), ('a', 'a', 'e', 'i', 'e'), ('a', 'a', 'e', 'i', 'i'), ('a', 'a', 'e', 'i', 'o'), ('a', 'a', 'e', 'i', 'u'), ('a', 'a', 'e', 'o', 'a'), ('a', 'a', 'e', 'o', 'e'), ('a', 'a', 'e', 'o', 'i'), ('a', 'a', 'e', 'o', 'o'), ('a', 'a', 'e', 'o', 'u'), ('a', 'a', 'e', 'u', 'a'), ('a', 'a', 'e', 'u', 'e'), ('a', 'a', 'e', 'u', 'i'), ('a', 'a', 'e', 'u', 'o'), ('a', 'a', 'e', 'u', 'u'), ('a', 'a', 'i', 'a', 'a'), ('a', 'a', 'i', 'a', 'e'), ('a', 'a', 'i', 'a', 'i'), ('a', 'a', 'i', 'a', 'o'), ('a', 'a', 'i', 'a', 'u'), ('a', 'a', 'i', 'e', 'a'), ('a', 'a', 'i', 'e', 'e'), ('a', 'a', 'i', 'e', 'i'), ('a', 'a', 'i', 'e', 'o'), ('a', 'a', 'i', 'e', 'u'), ('a', 'a', 'i', 'i', 'a'), ('a', 'a', 'i', 'i', 'e'), ('a', 'a', 'i', 'i', 'i'), ('a', 'a', 'i', 'i', 'o'), ('a', 'a', 'i', 'i', 'u'), ('a', 'a', 'i', 'o', 'a'), ('a', 'a', 'i', 'o', 'e'), ('a', 'a', 'i', 'o', 'i'), ('a', 'a', 'i', 'o', 'o'), ('a', 'a', 'i', 'o', 'u'), ('a', 'a', 'i', 'u', 'a'), ('a', 'a', 'i', 'u', 'e'), ('a', 'a', 'i', 'u', 'i'), ('a', 'a', 'i', 'u', 'o'), ('a', 'a', 'i', 'u', 'u'), ('a', 'a', 'o', 'a', 'a'), ('a', 'a', 'o', 'a', 'e'), ('a', 'a', 'o', 'a', 'i'), ('a', 'a', 'o', 'a', 'o'), ('a', 'a', 'o', 'a', 'u'), ('a', 'a', 'o', 'e', 'a'), ('a', 'a', 'o', 'e', 'e'), ('a', 'a', 'o', 'e', 'i'), ('a', 'a', 'o', 'e', 'o'), ('a', 'a', 'o', 'e', 'u'), ('a', 'a', 'o', 'i', 'a'), ('a', 'a', 'o', 'i', 'e'), ('a', 'a', 'o', 'i', 'i'), ('a', 'a', 'o', 'i', 'o'), ('a', 'a', 'o', 'i', 'u'), ('a', 'a', 'o', 'o', 'a'), ('a', 'a', 'o', 'o', 'e'), ('a', 'a', 'o', 'o', 'i'), ('a', 'a', 'o', 'o', 'o'), ('a', 'a', 'o', 'o', 'u'), ('a', 'a', 'o', 'u', 'a'), ('a', 'a', 'o', 'u', 'e'), ('a', 'a', 'o', 'u', 'i'), ('a', 'a', 'o', 'u', 'o'), ('a', 'a', 'o', 'u', 'u'), ('a', 'a', 'u', 'a', 'a'), ('a', 'a', 'u', 'a', 'e'), ('a', 'a', 'u', 'a', 'i'), ('a', 'a', 'u', 'a', 'o'), ('a', 'a', 'u', 'a', 'u'), ('a', 'a', 'u', 'e', 'a'), ('a', 'a', 'u', 'e', 'e'), ('a', 'a', 'u', 'e', 'i'), ('a', 'a', 'u', 'e', 'o'), ('a', 'a', 'u', 'e', 'u'), ('a', 'a', 'u', 'i', 'a'), ('a', 'a', 'u', 'i', 'e'), ('a', 'a', 'u', 'i', 'i'), ('a', 'a', 'u', 'i', 'o'), ('a', 'a', 'u', 'i', 'u'), ('a', 'a', 'u', 'o', 'a'), ('a', 'a', 'u', 'o', 'e'), ('a', 'a', 'u', 'o', 'i'), ('a', 'a', 'u', 'o', 'o'), ('a', 'a', 'u', 'o', 'u'), ('a', 'a', 'u', 'u', 'a'), ('a', 'a', 'u', 'u', 'e'), ('a', 'a', 'u', 'u', 'i'), ('a', 'a', 'u', 'u', 'o'), ('a', 'a', 'u', 'u', 'u'), ('a', 'e', 'a', 'a', 'a'), ('a', 'e', 'a', 'a', 'e'), ('a', 'e', 'a', 'a', 'i'), ('a', 'e', 'a', 'a', 'o'), ('a', 'e', 'a', 'a', 'u'), ('a', 'e', 'a', 'e', 'a'), ('a', 'e', 'a', 'e', 'e'), ('a', 'e', 'a', 'e', 'i'), ('a', 'e', 'a', 'e', 'o'), ('a', 'e', 'a', 'e', 'u'), ('a', 'e', 'a', 'i', 'a'), ('a', 'e', 'a', 'i', 'e'), ('a', 'e', 'a', 'i', 'i'), ('a', 'e', 'a', 'i', 'o'), ('a', 'e', 'a', 'i', 'u'), ('a', 'e', 'a', 'o', 'a'), ('a', 'e', 'a', 'o', 'e'), ('a', 'e', 'a', 'o', 'i'), ('a', 'e', 'a', 'o', 'o'), ('a', 'e', 'a', 'o', 'u'), ('a', 'e', 'a', 'u', 'a'), ('a', 'e', 'a', 'u', 'e'), ('a', 'e', 'a', 'u', 'i'), ('a', 'e', 'a', 'u', 'o'), ('a', 'e', 'a', 'u', 'u'), ('a', 'e', 'e', 'a', 'a'), ('a', 'e', 'e', 'a', 'e'), ('a', 'e', 'e', 'a', 'i'), ('a', 'e', 'e', 'a', 'o'), ('a', 'e', 'e', 'a', 'u'), ('a', 'e', 'e', 'e', 'a'), ('a', 'e', 'e', 'e', 'e'), ('a', 'e', 'e', 'e', 'i'), ('a', 'e', 'e', 'e', 'o'), ('a', 'e', 'e', 'e', 'u'), ('a', 'e', 'e', 'i', 'a'), ('a', 'e', 'e', 'i', 'e'), ('a', 'e', 'e', 'i', 'i'), ('a', 'e', 'e', 'i', 'o'), ('a', 'e', 'e', 'i', 'u'), ('a', 'e', 'e', 'o', 'a'), ('a', 'e', 'e', 'o', 'e'), ('a', 'e', 'e', 'o', 'i'), ('a', 'e', 'e', 'o', 'o'), ('a', 'e', 'e', 'o', 'u'), ('a', 'e', 'e', 'u', 'a'), ('a', 'e', 'e', 'u', 'e'), ('a', 'e', 'e', 'u', 'i'), ('a', 'e', 'e', 'u', 'o'), ('a', 'e', 'e', 'u', 'u'), ('a', 'e', 'i', 'a', 'a'), ('a', 'e', 'i', 'a', 'e'), ('a', 'e', 'i', 'a', 'i'), ('a', 'e', 'i', 'a', 'o'), ('a', 'e', 'i', 'a', 'u'), ('a', 'e', 'i', 'e', 'a'), ('a', 'e', 'i', 'e', 'e'), ('a', 'e', 'i', 'e', 'i'), ('a', 'e', 'i', 'e', 'o'), ('a', 'e', 'i', 'e', 'u'), ('a', 'e', 'i', 'i', 'a'), ('a', 'e', 'i', 'i', 'e'), ('a', 'e', 'i', 'i', 'i'), ('a', 'e', 'i', 'i', 'o'), ('a', 'e', 'i', 'i', 'u'), ('a', 'e', 'i', 'o', 'a'), ('a', 'e', 'i', 'o', 'e'), ('a', 'e', 'i', 'o', 'i'), ('a', 'e', 'i', 'o', 'o'), ('a', 'e', 'i', 'o', 'u'), ('a', 'e', 'i', 'u', 'a'), ('a', 'e', 'i', 'u', 'e'), ('a', 'e', 'i', 'u', 'i'), ('a', 'e', 'i', 'u', 'o'), ('a', 'e', 'i', 'u', 'u'), ('a', 'e', 'o', 'a', 'a'), ('a', 'e', 'o', 'a', 'e'), ('a', 'e', 'o', 'a', 'i'), ('a', 'e', 'o', 'a', 'o'), ('a', 'e', 'o', 'a', 'u'), ('a', 'e', 'o', 'e', 'a'), ('a', 'e', 'o', 'e', 'e'), ('a', 'e', 'o', 'e', 'i'), ('a', 'e', 'o', 'e', 'o'), ('a', 'e', 'o', 'e', 'u'), ('a', 'e', 'o', 'i', 'a'), ('a', 'e', 'o', 'i', 'e'), ('a', 'e', 'o', 'i', 'i'), ('a', 'e', 'o', 'i', 'o'), ('a', 'e', 'o', 'i', 'u'), ('a', 'e', 'o', 'o', 'a'), ('a', 'e', 'o', 'o', 'e'), ('a', 'e', 'o', 'o', 'i'), ('a', 'e', 'o', 'o', 'o'), ('a', 'e', 'o', 'o', 'u'), ('a', 'e', 'o', 'u', 'a'), ('a', 'e', 'o', 'u', 'e'), ('a', 'e', 'o', 'u', 'i'), ('a', 'e', 'o', 'u', 'o'), ('a', 'e', 'o', 'u', 'u'), ('a', 'e', 'u', 'a', 'a'), ('a', 'e', 'u', 'a', 'e'), ('a', 'e', 'u', 'a', 'i'), ('a', 'e', 'u', 'a', 'o'), ('a', 'e', 'u', 'a', 'u'), ('a', 'e', 'u', 'e', 'a'), ('a', 'e', 'u', 'e', 'e'), ('a', 'e', 'u', 'e', 'i'), ('a', 'e', 'u', 'e', 'o'), ('a', 'e', 'u', 'e', 'u'), ('a', 'e', 'u', 'i', 'a'), ('a', 'e', 'u', 'i', 'e'), ('a', 'e', 'u', 'i', 'i'), ('a', 'e', 'u', 'i', 'o'), ('a', 'e', 'u', 'i', 'u'), ('a', 'e', 'u', 'o', 'a'), ('a', 'e', 'u', 'o', 'e'), ('a', 'e', 'u', 'o', 'i'), ('a', 'e', 'u', 'o', 'o'), ('a', 'e', 'u', 'o', 'u'), ('a', 'e', 'u', 'u', 'a'), ('a', 'e', 'u', 'u', 'e'), ('a', 'e', 'u', 'u', 'i'), ('a', 'e', 'u', 'u', 'o'), ('a', 'e', 'u', 'u', 'u'), ('a', 'i', 'a', 'a', 'a'), ('a', 'i', 'a', 'a', 'e'), ('a', 'i', 'a', 'a', 'i'), ('a', 'i', 'a', 'a', 'o'), ('a', 'i', 'a', 'a', 'u'), ('a', 'i', 'a', 'e', 'a'), ('a', 'i', 'a', 'e', 'e'), ('a', 'i', 'a', 'e', 'i'), ('a', 'i', 'a', 'e', 'o'), ('a', 'i', 'a', 'e', 'u'), ('a', 'i', 'a', 'i', 'a'), ('a', 'i', 'a', 'i', 'e'), ('a', 'i', 'a', 'i', 'i'), ('a', 'i', 'a', 'i', 'o'), ('a', 'i', 'a', 'i', 'u'), ('a', 'i', 'a', 'o', 'a'), ('a', 'i', 'a', 'o', 'e'), ('a', 'i', 'a', 'o', 'i'), ('a', 'i', 'a', 'o', 'o'), ('a', 'i', 'a', 'o', 'u'), ('a', 'i', 'a', 'u', 'a'), ('a', 'i', 'a', 'u', 'e'), ('a', 'i', 'a', 'u', 'i'), ('a', 'i', 'a', 'u', 'o'), ('a', 'i', 'a', 'u', 'u'), ('a', 'i', 'e', 'a', 'a'), ('a', 'i', 'e', 'a', 'e'), ('a', 'i', 'e', 'a', 'i'), ('a', 'i', 'e', 'a', 'o'), ('a', 'i', 'e', 'a', 'u'), ('a', 'i', 'e', 'e', 'a'), ('a', 'i', 'e', 'e', 'e'), ('a', 'i', 'e', 'e', 'i'), ('a', 'i', 'e', 'e', 'o'), ('a', 'i', 'e', 'e', 'u'), ('a', 'i', 'e', 'i', 'a'), ('a', 'i', 'e', 'i', 'e'), ('a', 'i', 'e', 'i', 'i'), ('a', 'i', 'e', 'i', 'o'), ('a', 'i', 'e', 'i', 'u'), ('a', 'i', 'e', 'o', 'a'), ('a', 'i', 'e', 'o', 'e'), ('a', 'i', 'e', 'o', 'i'), ('a', 'i', 'e', 'o', 'o'), ('a', 'i', 'e', 'o', 'u'), ('a', 'i', 'e', 'u', 'a'), ('a', 'i', 'e', 'u', 'e'), ('a', 'i', 'e', 'u', 'i'), ('a', 'i', 'e', 'u', 'o'), ('a', 'i', 'e', 'u', 'u'), ('a', 'i', 'i', 'a', 'a'), ('a', 'i', 'i', 'a', 'e'), ('a', 'i', 'i', 'a', 'i'), ('a', 'i', 'i', 'a', 'o'), ('a', 'i', 'i', 'a', 'u'), ('a', 'i', 'i', 'e', 'a'), ('a', 'i', 'i', 'e', 'e'), ('a', 'i', 'i', 'e', 'i'), ('a', 'i', 'i', 'e', 'o'), ('a', 'i', 'i', 'e', 'u'), ('a', 'i', 'i', 'i', 'a'), ('a', 'i', 'i', 'i', 'e'), ('a', 'i', 'i', 'i', 'i'), ('a', 'i', 'i', 'i', 'o'), ('a', 'i', 'i', 'i', 'u'), ('a', 'i', 'i', 'o', 'a'), ('a', 'i', 'i', 'o', 'e'), ('a', 'i', 'i', 'o', 'i'), ('a', 'i', 'i', 'o', 'o'), ('a', 'i', 'i', 'o', 'u'), ('a', 'i', 'i', 'u', 'a'), ('a', 'i', 'i', 'u', 'e'), ('a', 'i', 'i', 'u', 'i'), ('a', 'i', 'i', 'u', 'o'), ('a', 'i', 'i', 'u', 'u'), ('a', 'i', 'o', 'a', 'a'), ('a', 'i', 'o', 'a', 'e'), ('a', 'i', 'o', 'a', 'i'), ('a', 'i', 'o', 'a', 'o'), ('a', 'i', 'o', 'a', 'u'), ('a', 'i', 'o', 'e', 'a'), ('a', 'i', 'o', 'e', 'e'), ('a', 'i', 'o', 'e', 'i'), ('a', 'i', 'o', 'e', 'o'), ('a', 'i', 'o', 'e', 'u'), ('a', 'i', 'o', 'i', 'a'), ('a', 'i', 'o', 'i', 'e'), ('a', 'i', 'o', 'i', 'i'), ('a', 'i', 'o', 'i', 'o'), ('a', 'i', 'o', 'i', 'u'), ('a', 'i', 'o', 'o', 'a'), ('a', 'i', 'o', 'o', 'e'), ('a', 'i', 'o', 'o', 'i'), ('a', 'i', 'o', 'o', 'o'), ('a', 'i', 'o', 'o', 'u'), ('a', 'i', 'o', 'u', 'a'), ('a', 'i', 'o', 'u', 'e'), ('a', 'i', 'o', 'u', 'i'), ('a', 'i', 'o', 'u', 'o'), ('a', 'i', 'o', 'u', 'u'), ('a', 'i', 'u', 'a', 'a'), ('a', 'i', 'u', 'a', 'e'), ('a', 'i', 'u', 'a', 'i'), ('a', 'i', 'u', 'a', 'o'), ('a', 'i', 'u', 'a', 'u'), ('a', 'i', 'u', 'e', 'a'), ('a', 'i', 'u', 'e', 'e'), ('a', 'i', 'u', 'e', 'i'), ('a', 'i', 'u', 'e', 'o'), ('a', 'i', 'u', 'e', 'u'), ('a', 'i', 'u', 'i', 'a'), ('a', 'i', 'u', 'i', 'e'), ('a', 'i', 'u', 'i', 'i'), ('a', 'i', 'u', 'i', 'o'), ('a', 'i', 'u', 'i', 'u'), ('a', 'i', 'u', 'o', 'a'), ('a', 'i', 'u', 'o', 'e'), ('a', 'i', 'u', 'o', 'i'), ('a', 'i', 'u', 'o', 'o'), ('a', 'i', 'u', 'o', 'u'), ('a', 'i', 'u', 'u', 'a'), ('a', 'i', 'u', 'u', 'e'), ('a', 'i', 'u', 'u', 'i'), ('a', 'i', 'u', 'u', 'o'), ('a', 'i', 'u', 'u', 'u'), ('a', 'o', 'a', 'a', 'a'), ('a', 'o', 'a', 'a', 'e'), ('a', 'o', 'a', 'a', 'i'), ('a', 'o', 'a', 'a', 'o'), ('a', 'o', 'a', 'a', 'u'), ('a', 'o', 'a', 'e', 'a'), ('a', 'o', 'a', 'e', 'e'), ('a', 'o', 'a', 'e', 'i'), ('a', 'o', 'a', 'e', 'o'), ('a', 'o', 'a', 'e', 'u'), ('a', 'o', 'a', 'i', 'a'), ('a', 'o', 'a', 'i', 'e'), ('a', 'o', 'a', 'i', 'i'), ('a', 'o', 'a', 'i', 'o'), ('a', 'o', 'a', 'i', 'u'), ('a', 'o', 'a', 'o', 'a'), ('a', 'o', 'a', 'o', 'e'), ('a', 'o', 'a', 'o', 'i'), ('a', 'o', 'a', 'o', 'o'), ('a', 'o', 'a', 'o', 'u'), ('a', 'o', 'a', 'u', 'a'), ('a', 'o', 'a', 'u', 'e'), ('a', 'o', 'a', 'u', 'i'), ('a', 'o', 'a', 'u', 'o'), ('a', 'o', 'a', 'u', 'u'), ('a', 'o', 'e', 'a', 'a'), ('a', 'o', 'e', 'a', 'e'), ('a', 'o', 'e', 'a', 'i'), ('a', 'o', 'e', 'a', 'o'), ('a', 'o', 'e', 'a', 'u'), ('a', 'o', 'e', 'e', 'a'), ('a', 'o', 'e', 'e', 'e'), ('a', 'o', 'e', 'e', 'i'), ('a', 'o', 'e', 'e', 'o'), ('a', 'o', 'e', 'e', 'u'), ('a', 'o', 'e', 'i', 'a'), ('a', 'o', 'e', 'i', 'e'), ('a', 'o', 'e', 'i', 'i'), ('a', 'o', 'e', 'i', 'o'), ('a', 'o', 'e', 'i', 'u'), ('a', 'o', 'e', 'o', 'a'), ('a', 'o', 'e', 'o', 'e'), ('a', 'o', 'e', 'o', 'i'), ('a', 'o', 'e', 'o', 'o'), ('a', 'o', 'e', 'o', 'u'), ('a', 'o', 'e', 'u', 'a'), ('a', 'o', 'e', 'u', 'e'), ('a', 'o', 'e', 'u', 'i'), ('a', 'o', 'e', 'u', 'o'), ('a', 'o', 'e', 'u', 'u'), ('a', 'o', 'i', 'a', 'a'), ('a', 'o', 'i', 'a', 'e'), ('a', 'o', 'i', 'a', 'i'), ('a', 'o', 'i', 'a', 'o'), ('a', 'o', 'i', 'a', 'u'), ('a', 'o', 'i', 'e', 'a'), ('a', 'o', 'i', 'e', 'e'), ('a', 'o', 'i', 'e', 'i'), ('a', 'o', 'i', 'e', 'o'), ('a', 'o', 'i', 'e', 'u'), ('a', 'o', 'i', 'i', 'a'), ('a', 'o', 'i', 'i', 'e'), ('a', 'o', 'i', 'i', 'i'), ('a', 'o', 'i', 'i', 'o'), ('a', 'o', 'i', 'i', 'u'), ('a', 'o', 'i', 'o', 'a'), ('a', 'o', 'i', 'o', 'e'), ('a', 'o', 'i', 'o', 'i'), ('a', 'o', 'i', 'o', 'o'), ('a', 'o', 'i', 'o', 'u'), ('a', 'o', 'i', 'u', 'a'), ('a', 'o', 'i', 'u', 'e'), ('a', 'o', 'i', 'u', 'i'), ('a', 'o', 'i', 'u', 'o'), ('a', 'o', 'i', 'u', 'u'), ('a', 'o', 'o', 'a', 'a'), ('a', 'o', 'o', 'a', 'e'), ('a', 'o', 'o', 'a', 'i'), ('a', 'o', 'o', 'a', 'o'), ('a', 'o', 'o', 'a', 'u'), ('a', 'o', 'o', 'e', 'a'), ('a', 'o', 'o', 'e', 'e'), ('a', 'o', 'o', 'e', 'i'), ('a', 'o', 'o', 'e', 'o'), ('a', 'o', 'o', 'e', 'u'), ('a', 'o', 'o', 'i', 'a'), ('a', 'o', 'o', 'i', 'e'), ('a', 'o', 'o', 'i', 'i'), ('a', 'o', 'o', 'i', 'o'), ('a', 'o', 'o', 'i', 'u'), ('a', 'o', 'o', 'o', 'a'), ('a', 'o', 'o', 'o', 'e'), ('a', 'o', 'o', 'o', 'i'), ('a', 'o', 'o', 'o', 'o'), ('a', 'o', 'o', 'o', 'u'), ('a', 'o', 'o', 'u', 'a'), ('a', 'o', 'o', 'u', 'e'), ('a', 'o', 'o', 'u', 'i'), ('a', 'o', 'o', 'u', 'o'), ('a', 'o', 'o', 'u', 'u'), ('a', 'o', 'u', 'a', 'a'), ('a', 'o', 'u', 'a', 'e'), ('a', 'o', 'u', 'a', 'i'), ('a', 'o', 'u', 'a', 'o'), ('a', 'o', 'u', 'a', 'u'), ('a', 'o', 'u', 'e', 'a'), ('a', 'o', 'u', 'e', 'e'), ('a', 'o', 'u', 'e', 'i'), ('a', 'o', 'u', 'e', 'o'), ('a', 'o', 'u', 'e', 'u'), ('a', 'o', 'u', 'i', 'a'), ('a', 'o', 'u', 'i', 'e'), ('a', 'o', 'u', 'i', 'i'), ('a', 'o', 'u', 'i', 'o'), ('a', 'o', 'u', 'i', 'u'), ('a', 'o', 'u', 'o', 'a'), ('a', 'o', 'u', 'o', 'e'), ('a', 'o', 'u', 'o', 'i'), ('a', 'o', 'u', 'o', 'o'), ('a', 'o', 'u', 'o', 'u'), ('a', 'o', 'u', 'u', 'a'), ('a', 'o', 'u', 'u', 'e'), ('a', 'o', 'u', 'u', 'i'), ('a', 'o', 'u', 'u', 'o'), ('a', 'o', 'u', 'u', 'u'), ('a', 'u', 'a', 'a', 'a'), ('a', 'u', 'a', 'a', 'e'), ('a', 'u', 'a', 'a', 'i'), ('a', 'u', 'a', 'a', 'o'), ('a', 'u', 'a', 'a', 'u'), ('a', 'u', 'a', 'e', 'a'), ('a', 'u', 'a', 'e', 'e'), ('a', 'u', 'a', 'e', 'i'), ('a', 'u', 'a', 'e', 'o'), ('a', 'u', 'a', 'e', 'u'), ('a', 'u', 'a', 'i', 'a'), ('a', 'u', 'a', 'i', 'e'), ('a', 'u', 'a', 'i', 'i'), ('a', 'u', 'a', 'i', 'o'), ('a', 'u', 'a', 'i', 'u'), ('a', 'u', 'a', 'o', 'a'), ('a', 'u', 'a', 'o', 'e'), ('a', 'u', 'a', 'o', 'i'), ('a', 'u', 'a', 'o', 'o'), ('a', 'u', 'a', 'o', 'u'), ('a', 'u', 'a', 'u', 'a'), ('a', 'u', 'a', 'u', 'e'), ('a', 'u', 'a', 'u', 'i'), ('a', 'u', 'a', 'u', 'o'), ('a', 'u', 'a', 'u', 'u'), ('a', 'u', 'e', 'a', 'a'), ('a', 'u', 'e', 'a', 'e'), ('a', 'u', 'e', 'a', 'i'), ('a', 'u', 'e', 'a', 'o'), ('a', 'u', 'e', 'a', 'u'), ('a', 'u', 'e', 'e', 'a'), ('a', 'u', 'e', 'e', 'e'), ('a', 'u', 'e', 'e', 'i'), ('a', 'u', 'e', 'e', 'o'), ('a', 'u', 'e', 'e', 'u'), ('a', 'u', 'e', 'i', 'a'), ('a', 'u', 'e', 'i', 'e'), ('a', 'u', 'e', 'i', 'i'), ('a', 'u', 'e', 'i', 'o'), ('a', 'u', 'e', 'i', 'u'), ('a', 'u', 'e', 'o', 'a'), ('a', 'u', 'e', 'o', 'e'), ('a', 'u', 'e', 'o', 'i'), ('a', 'u', 'e', 'o', 'o'), ('a', 'u', 'e', 'o', 'u'), ('a', 'u', 'e', 'u', 'a'), ('a', 'u', 'e', 'u', 'e'), ('a', 'u', 'e', 'u', 'i'), ('a', 'u', 'e', 'u', 'o'), ('a', 'u', 'e', 'u', 'u'), ('a', 'u', 'i', 'a', 'a'), ('a', 'u', 'i', 'a', 'e'), ('a', 'u', 'i', 'a', 'i'), ('a', 'u', 'i', 'a', 'o'), ('a', 'u', 'i', 'a', 'u'), ('a', 'u', 'i', 'e', 'a'), ('a', 'u', 'i', 'e', 'e'), ('a', 'u', 'i', 'e', 'i'), ('a', 'u', 'i', 'e', 'o'), ('a', 'u', 'i', 'e', 'u'), ('a', 'u', 'i', 'i', 'a'), ('a', 'u', 'i', 'i', 'e'), ('a', 'u', 'i', 'i', 'i'), ('a', 'u', 'i', 'i', 'o'), ('a', 'u', 'i', 'i', 'u'), ('a', 'u', 'i', 'o', 'a'), ('a', 'u', 'i', 'o', 'e'), ('a', 'u', 'i', 'o', 'i'), ('a', 'u', 'i', 'o', 'o'), ('a', 'u', 'i', 'o', 'u'), ('a', 'u', 'i', 'u', 'a'), ('a', 'u', 'i', 'u', 'e'), ('a', 'u', 'i', 'u', 'i'), ('a', 'u', 'i', 'u', 'o'), ('a', 'u', 'i', 'u', 'u'), ('a', 'u', 'o', 'a', 'a'), ('a', 'u', 'o', 'a', 'e'), ('a', 'u', 'o', 'a', 'i'), ('a', 'u', 'o', 'a', 'o'), ('a', 'u', 'o', 'a', 'u'), ('a', 'u', 'o', 'e', 'a'), ('a', 'u', 'o', 'e', 'e'), ('a', 'u', 'o', 'e', 'i'), ('a', 'u', 'o', 'e', 'o'), ('a', 'u', 'o', 'e', 'u'), ('a', 'u', 'o', 'i', 'a'), ('a', 'u', 'o', 'i', 'e'), ('a', 'u', 'o', 'i', 'i'), ('a', 'u', 'o', 'i', 'o'), ('a', 'u', 'o', 'i', 'u'), ('a', 'u', 'o', 'o', 'a'), ('a', 'u', 'o', 'o', 'e'), ('a', 'u', 'o', 'o', 'i'), ('a', 'u', 'o', 'o', 'o'), ('a', 'u', 'o', 'o', 'u'), ('a', 'u', 'o', 'u', 'a'), ('a', 'u', 'o', 'u', 'e'), ('a', 'u', 'o', 'u', 'i'), ('a', 'u', 'o', 'u', 'o'), ('a', 'u', 'o', 'u', 'u'), ('a', 'u', 'u', 'a', 'a'), ('a', 'u', 'u', 'a', 'e'), ('a', 'u', 'u', 'a', 'i'), ('a', 'u', 'u', 'a', 'o'), ('a', 'u', 'u', 'a', 'u'), ('a', 'u', 'u', 'e', 'a'), ('a', 'u', 'u', 'e', 'e'), ('a', 'u', 'u', 'e', 'i'), ('a', 'u', 'u', 'e', 'o'), ('a', 'u', 'u', 'e', 'u'), ('a', 'u', 'u', 'i', 'a'), ('a', 'u', 'u', 'i', 'e'), ('a', 'u', 'u', 'i', 'i'), ('a', 'u', 'u', 'i', 'o'), ('a', 'u', 'u', 'i', 'u'), ('a', 'u', 'u', 'o', 'a'), ('a', 'u', 'u', 'o', 'e'), ('a', 'u', 'u', 'o', 'i'), ('a', 'u', 'u', 'o', 'o'), ('a', 'u', 'u', 'o', 'u'), ('a', 'u', 'u', 'u', 'a'), ('a', 'u', 'u', 'u', 'e'), ('a', 'u', 'u', 'u', 'i'), ('a', 'u', 'u', 'u', 'o'), ('a', 'u', 'u', 'u', 'u'), ('e', 'a', 'a', 'a', 'a'), ('e', 'a', 'a', 'a', 'e'), ('e', 'a', 'a', 'a', 'i'), ('e', 'a', 'a', 'a', 'o'), ('e', 'a', 'a', 'a', 'u'), ('e', 'a', 'a', 'e', 'a'), ('e', 'a', 'a', 'e', 'e'), ('e', 'a', 'a', 'e', 'i'), ('e', 'a', 'a', 'e', 'o'), ('e', 'a', 'a', 'e', 'u'), ('e', 'a', 'a', 'i', 'a'), ('e', 'a', 'a', 'i', 'e'), ('e', 'a', 'a', 'i', 'i'), ('e', 'a', 'a', 'i', 'o'), ('e', 'a', 'a', 'i', 'u'), ('e', 'a', 'a', 'o', 'a'), ('e', 'a', 'a', 'o', 'e'), ('e', 'a', 'a', 'o', 'i'), ('e', 'a', 'a', 'o', 'o'), ('e', 'a', 'a', 'o', 'u'), ('e', 'a', 'a', 'u', 'a'), ('e', 'a', 'a', 'u', 'e'), ('e', 'a', 'a', 'u', 'i'), ('e', 'a', 'a', 'u', 'o'), ('e', 'a', 'a', 'u', 'u'), ('e', 'a', 'e', 'a', 'a'), ('e', 'a', 'e', 'a', 'e'), ('e', 'a', 'e', 'a', 'i'), ('e', 'a', 'e', 'a', 'o'), ('e', 'a', 'e', 'a', 'u'), ('e', 'a', 'e', 'e', 'a'), ('e', 'a', 'e', 'e', 'e'), ('e', 'a', 'e', 'e', 'i'), ('e', 'a', 'e', 'e', 'o'), ('e', 'a', 'e', 'e', 'u'), ('e', 'a', 'e', 'i', 'a'), ('e', 'a', 'e', 'i', 'e'), ('e', 'a', 'e', 'i', 'i'), ('e', 'a', 'e', 'i', 'o'), ('e', 'a', 'e', 'i', 'u'), ('e', 'a', 'e', 'o', 'a'), ('e', 'a', 'e', 'o', 'e'), ('e', 'a', 'e', 'o', 'i'), ('e', 'a', 'e', 'o', 'o'), ('e', 'a', 'e', 'o', 'u'), ('e', 'a', 'e', 'u', 'a'), ('e', 'a', 'e', 'u', 'e'), ('e', 'a', 'e', 'u', 'i'), ('e', 'a', 'e', 'u', 'o'), ('e', 'a', 'e', 'u', 'u'), ('e', 'a', 'i', 'a', 'a'), ('e', 'a', 'i', 'a', 'e'), ('e', 'a', 'i', 'a', 'i'), ('e', 'a', 'i', 'a', 'o'), ('e', 'a', 'i', 'a', 'u'), ('e', 'a', 'i', 'e', 'a'), ('e', 'a', 'i', 'e', 'e'), ('e', 'a', 'i', 'e', 'i'), ('e', 'a', 'i', 'e', 'o'), ('e', 'a', 'i', 'e', 'u'), ('e', 'a', 'i', 'i', 'a'), ('e', 'a', 'i', 'i', 'e'), ('e', 'a', 'i', 'i', 'i'), ('e', 'a', 'i', 'i', 'o'), ('e', 'a', 'i', 'i', 'u'), ('e', 'a', 'i', 'o', 'a'), ('e', 'a', 'i', 'o', 'e'), ('e', 'a', 'i', 'o', 'i'), ('e', 'a', 'i', 'o', 'o'), ('e', 'a', 'i', 'o', 'u'), ('e', 'a', 'i', 'u', 'a'), ('e', 'a', 'i', 'u', 'e'), ('e', 'a', 'i', 'u', 'i'), ('e', 'a', 'i', 'u', 'o'), ('e', 'a', 'i', 'u', 'u'), ('e', 'a', 'o', 'a', 'a'), ('e', 'a', 'o', 'a', 'e'), ('e', 'a', 'o', 'a', 'i'), ('e', 'a', 'o', 'a', 'o'), ('e', 'a', 'o', 'a', 'u'), ('e', 'a', 'o', 'e', 'a'), ('e', 'a', 'o', 'e', 'e'), ('e', 'a', 'o', 'e', 'i'), ('e', 'a', 'o', 'e', 'o'), ('e', 'a', 'o', 'e', 'u'), ('e', 'a', 'o', 'i', 'a'), ('e', 'a', 'o', 'i', 'e'), ('e', 'a', 'o', 'i', 'i'), ('e', 'a', 'o', 'i', 'o'), ('e', 'a', 'o', 'i', 'u'), ('e', 'a', 'o', 'o', 'a'), ('e', 'a', 'o', 'o', 'e'), ('e', 'a', 'o', 'o', 'i'), ('e', 'a', 'o', 'o', 'o'), ('e', 'a', 'o', 'o', 'u'), ('e', 'a', 'o', 'u', 'a'), ('e', 'a', 'o', 'u', 'e'), ('e', 'a', 'o', 'u', 'i'), ('e', 'a', 'o', 'u', 'o'), ('e', 'a', 'o', 'u', 'u'), ('e', 'a', 'u', 'a', 'a'), ('e', 'a', 'u', 'a', 'e'), ('e', 'a', 'u', 'a', 'i'), ('e', 'a', 'u', 'a', 'o'), ('e', 'a', 'u', 'a', 'u'), ('e', 'a', 'u', 'e', 'a'), ('e', 'a', 'u', 'e', 'e'), ('e', 'a', 'u', 'e', 'i'), ('e', 'a', 'u', 'e', 'o'), ('e', 'a', 'u', 'e', 'u'), ('e', 'a', 'u', 'i', 'a'), ('e', 'a', 'u', 'i', 'e'), ('e', 'a', 'u', 'i', 'i'), ('e', 'a', 'u', 'i', 'o'), ('e', 'a', 'u', 'i', 'u'), ('e', 'a', 'u', 'o', 'a'), ('e', 'a', 'u', 'o', 'e'), ('e', 'a', 'u', 'o', 'i'), ('e', 'a', 'u', 'o', 'o'), ('e', 'a', 'u', 'o', 'u'), ('e', 'a', 'u', 'u', 'a'), ('e', 'a', 'u', 'u', 'e'), ('e', 'a', 'u', 'u', 'i'), ('e', 'a', 'u', 'u', 'o'), ('e', 'a', 'u', 'u', 'u'), ('e', 'e', 'a', 'a', 'a'), ('e', 'e', 'a', 'a', 'e'), ('e', 'e', 'a', 'a', 'i'), ('e', 'e', 'a', 'a', 'o'), ('e', 'e', 'a', 'a', 'u'), ('e', 'e', 'a', 'e', 'a'), ('e', 'e', 'a', 'e', 'e'), ('e', 'e', 'a', 'e', 'i'), ('e', 'e', 'a', 'e', 'o'), ('e', 'e', 'a', 'e', 'u'), ('e', 'e', 'a', 'i', 'a'), ('e', 'e', 'a', 'i', 'e'), ('e', 'e', 'a', 'i', 'i'), ('e', 'e', 'a', 'i', 'o'), ('e', 'e', 'a', 'i', 'u'), ('e', 'e', 'a', 'o', 'a'), ('e', 'e', 'a', 'o', 'e'), ('e', 'e', 'a', 'o', 'i'), ('e', 'e', 'a', 'o', 'o'), ('e', 'e', 'a', 'o', 'u'), ('e', 'e', 'a', 'u', 'a'), ('e', 'e', 'a', 'u', 'e'), ('e', 'e', 'a', 'u', 'i'), ('e', 'e', 'a', 'u', 'o'), ('e', 'e', 'a', 'u', 'u'), ('e', 'e', 'e', 'a', 'a'), ('e', 'e', 'e', 'a', 'e'), ('e', 'e', 'e', 'a', 'i'), ('e', 'e', 'e', 'a', 'o'), ('e', 'e', 'e', 'a', 'u'), ('e', 'e', 'e', 'e', 'a'), ('e', 'e', 'e', 'e', 'e'), ('e', 'e', 'e', 'e', 'i'), ('e', 'e', 'e', 'e', 'o'), ('e', 'e', 'e', 'e', 'u'), ('e', 'e', 'e', 'i', 'a'), ('e', 'e', 'e', 'i', 'e'), ('e', 'e', 'e', 'i', 'i'), ('e', 'e', 'e', 'i', 'o'), ('e', 'e', 'e', 'i', 'u'), ('e', 'e', 'e', 'o', 'a'), ('e', 'e', 'e', 'o', 'e'), ('e', 'e', 'e', 'o', 'i'), ('e', 'e', 'e', 'o', 'o'), ('e', 'e', 'e', 'o', 'u'), ('e', 'e', 'e', 'u', 'a'), ('e', 'e', 'e', 'u', 'e'), ('e', 'e', 'e', 'u', 'i'), ('e', 'e', 'e', 'u', 'o'), ('e', 'e', 'e', 'u', 'u'), ('e', 'e', 'i', 'a', 'a'), ('e', 'e', 'i', 'a', 'e'), ('e', 'e', 'i', 'a', 'i'), ('e', 'e', 'i', 'a', 'o'), ('e', 'e', 'i', 'a', 'u'), ('e', 'e', 'i', 'e', 'a'), ('e', 'e', 'i', 'e', 'e'), ('e', 'e', 'i', 'e', 'i'), ('e', 'e', 'i', 'e', 'o'), ('e', 'e', 'i', 'e', 'u'), ('e', 'e', 'i', 'i', 'a'), ('e', 'e', 'i', 'i', 'e'), ('e', 'e', 'i', 'i', 'i'), ('e', 'e', 'i', 'i', 'o'), ('e', 'e', 'i', 'i', 'u'), ('e', 'e', 'i', 'o', 'a'), ('e', 'e', 'i', 'o', 'e'), ('e', 'e', 'i', 'o', 'i'), ('e', 'e', 'i', 'o', 'o'), ('e', 'e', 'i', 'o', 'u'), ('e', 'e', 'i', 'u', 'a'), ('e', 'e', 'i', 'u', 'e'), ('e', 'e', 'i', 'u', 'i'), ('e', 'e', 'i', 'u', 'o'), ('e', 'e', 'i', 'u', 'u'), ('e', 'e', 'o', 'a', 'a'), ('e', 'e', 'o', 'a', 'e'), ('e', 'e', 'o', 'a', 'i'), ('e', 'e', 'o', 'a', 'o'), ('e', 'e', 'o', 'a', 'u'), ('e', 'e', 'o', 'e', 'a'), ('e', 'e', 'o', 'e', 'e'), ('e', 'e', 'o', 'e', 'i'), ('e', 'e', 'o', 'e', 'o'), ('e', 'e', 'o', 'e', 'u'), ('e', 'e', 'o', 'i', 'a'), ('e', 'e', 'o', 'i', 'e'), ('e', 'e', 'o', 'i', 'i'), ('e', 'e', 'o', 'i', 'o'), ('e', 'e', 'o', 'i', 'u'), ('e', 'e', 'o', 'o', 'a'), ('e', 'e', 'o', 'o', 'e'), ('e', 'e', 'o', 'o', 'i'), ('e', 'e', 'o', 'o', 'o'), ('e', 'e', 'o', 'o', 'u'), ('e', 'e', 'o', 'u', 'a'), ('e', 'e', 'o', 'u', 'e'), ('e', 'e', 'o', 'u', 'i'), ('e', 'e', 'o', 'u', 'o'), ('e', 'e', 'o', 'u', 'u'), ('e', 'e', 'u', 'a', 'a'), ('e', 'e', 'u', 'a', 'e'), ('e', 'e', 'u', 'a', 'i'), ('e', 'e', 'u', 'a', 'o'), ('e', 'e', 'u', 'a', 'u'), ('e', 'e', 'u', 'e', 'a'), ('e', 'e', 'u', 'e', 'e'), ('e', 'e', 'u', 'e', 'i'), ('e', 'e', 'u', 'e', 'o'), ('e', 'e', 'u', 'e', 'u'), ('e', 'e', 'u', 'i', 'a'), ('e', 'e', 'u', 'i', 'e'), ('e', 'e', 'u', 'i', 'i'), ('e', 'e', 'u', 'i', 'o'), ('e', 'e', 'u', 'i', 'u'), ('e', 'e', 'u', 'o', 'a'), ('e', 'e', 'u', 'o', 'e'), ('e', 'e', 'u', 'o', 'i'), ('e', 'e', 'u', 'o', 'o'), ('e', 'e', 'u', 'o', 'u'), ('e', 'e', 'u', 'u', 'a'), ('e', 'e', 'u', 'u', 'e'), ('e', 'e', 'u', 'u', 'i'), ('e', 'e', 'u', 'u', 'o'), ('e', 'e', 'u', 'u', 'u'), ('e', 'i', 'a', 'a', 'a'), ('e', 'i', 'a', 'a', 'e'), ('e', 'i', 'a', 'a', 'i'), ('e', 'i', 'a', 'a', 'o'), ('e', 'i', 'a', 'a', 'u'), ('e', 'i', 'a', 'e', 'a'), ('e', 'i', 'a', 'e', 'e'), ('e', 'i', 'a', 'e', 'i'), ('e', 'i', 'a', 'e', 'o'), ('e', 'i', 'a', 'e', 'u'), ('e', 'i', 'a', 'i', 'a'), ('e', 'i', 'a', 'i', 'e'), ('e', 'i', 'a', 'i', 'i'), ('e', 'i', 'a', 'i', 'o'), ('e', 'i', 'a', 'i', 'u'), ('e', 'i', 'a', 'o', 'a'), ('e', 'i', 'a', 'o', 'e'), ('e', 'i', 'a', 'o', 'i'), ('e', 'i', 'a', 'o', 'o'), ('e', 'i', 'a', 'o', 'u'), ('e', 'i', 'a', 'u', 'a'), ('e', 'i', 'a', 'u', 'e'), ('e', 'i', 'a', 'u', 'i'), ('e', 'i', 'a', 'u', 'o'), ('e', 'i', 'a', 'u', 'u'), ('e', 'i', 'e', 'a', 'a'), ('e', 'i', 'e', 'a', 'e'), ('e', 'i', 'e', 'a', 'i'), ('e', 'i', 'e', 'a', 'o'), ('e', 'i', 'e', 'a', 'u'), ('e', 'i', 'e', 'e', 'a'), ('e', 'i', 'e', 'e', 'e'), ('e', 'i', 'e', 'e', 'i'), ('e', 'i', 'e', 'e', 'o'), ('e', 'i', 'e', 'e', 'u'), ('e', 'i', 'e', 'i', 'a'), ('e', 'i', 'e', 'i', 'e'), ('e', 'i', 'e', 'i', 'i'), ('e', 'i', 'e', 'i', 'o'), ('e', 'i', 'e', 'i', 'u'), ('e', 'i', 'e', 'o', 'a'), ('e', 'i', 'e', 'o', 'e'), ('e', 'i', 'e', 'o', 'i'), ('e', 'i', 'e', 'o', 'o'), ('e', 'i', 'e', 'o', 'u'), ('e', 'i', 'e', 'u', 'a'), ('e', 'i', 'e', 'u', 'e'), ('e', 'i', 'e', 'u', 'i'), ('e', 'i', 'e', 'u', 'o'), ('e', 'i', 'e', 'u', 'u'), ('e', 'i', 'i', 'a', 'a'), ('e', 'i', 'i', 'a', 'e'), ('e', 'i', 'i', 'a', 'i'), ('e', 'i', 'i', 'a', 'o'), ('e', 'i', 'i', 'a', 'u'), ('e', 'i', 'i', 'e', 'a'), ('e', 'i', 'i', 'e', 'e'), ('e', 'i', 'i', 'e', 'i'), ('e', 'i', 'i', 'e', 'o'), ('e', 'i', 'i', 'e', 'u'), ('e', 'i', 'i', 'i', 'a'), ('e', 'i', 'i', 'i', 'e'), ('e', 'i', 'i', 'i', 'i'), ('e', 'i', 'i', 'i', 'o'), ('e', 'i', 'i', 'i', 'u'), ('e', 'i', 'i', 'o', 'a'), ('e', 'i', 'i', 'o', 'e'), ('e', 'i', 'i', 'o', 'i'), ('e', 'i', 'i', 'o', 'o'), ('e', 'i', 'i', 'o', 'u'), ('e', 'i', 'i', 'u', 'a'), ('e', 'i', 'i', 'u', 'e'), ('e', 'i', 'i', 'u', 'i'), ('e', 'i', 'i', 'u', 'o'), ('e', 'i', 'i', 'u', 'u'), ('e', 'i', 'o', 'a', 'a'), ('e', 'i', 'o', 'a', 'e'), ('e', 'i', 'o', 'a', 'i'), ('e', 'i', 'o', 'a', 'o'), ('e', 'i', 'o', 'a', 'u'), ('e', 'i', 'o', 'e', 'a'), ('e', 'i', 'o', 'e', 'e'), ('e', 'i', 'o', 'e', 'i'), ('e', 'i', 'o', 'e', 'o'), ('e', 'i', 'o', 'e', 'u'), ('e', 'i', 'o', 'i', 'a'), ('e', 'i', 'o', 'i', 'e'), ('e', 'i', 'o', 'i', 'i'), ('e', 'i', 'o', 'i', 'o'), ('e', 'i', 'o', 'i', 'u'), ('e', 'i', 'o', 'o', 'a'), ('e', 'i', 'o', 'o', 'e'), ('e', 'i', 'o', 'o', 'i'), ('e', 'i', 'o', 'o', 'o'), ('e', 'i', 'o', 'o', 'u'), ('e', 'i', 'o', 'u', 'a'), ('e', 'i', 'o', 'u', 'e'), ('e', 'i', 'o', 'u', 'i'), ('e', 'i', 'o', 'u', 'o'), ('e', 'i', 'o', 'u', 'u'), ('e', 'i', 'u', 'a', 'a'), ('e', 'i', 'u', 'a', 'e'), ('e', 'i', 'u', 'a', 'i'), ('e', 'i', 'u', 'a', 'o'), ('e', 'i', 'u', 'a', 'u'), ('e', 'i', 'u', 'e', 'a'), ('e', 'i', 'u', 'e', 'e'), ('e', 'i', 'u', 'e', 'i'), ('e', 'i', 'u', 'e', 'o'), ('e', 'i', 'u', 'e', 'u'), ('e', 'i', 'u', 'i', 'a'), ('e', 'i', 'u', 'i', 'e'), ('e', 'i', 'u', 'i', 'i'), ('e', 'i', 'u', 'i', 'o'), ('e', 'i', 'u', 'i', 'u'), ('e', 'i', 'u', 'o', 'a'), ('e', 'i', 'u', 'o', 'e'), ('e', 'i', 'u', 'o', 'i'), ('e', 'i', 'u', 'o', 'o'), ('e', 'i', 'u', 'o', 'u'), ('e', 'i', 'u', 'u', 'a'), ('e', 'i', 'u', 'u', 'e'), ('e', 'i', 'u', 'u', 'i'), ('e', 'i', 'u', 'u', 'o'), ('e', 'i', 'u', 'u', 'u'), ('e', 'o', 'a', 'a', 'a'), ('e', 'o', 'a', 'a', 'e'), ('e', 'o', 'a', 'a', 'i'), ('e', 'o', 'a', 'a', 'o'), ('e', 'o', 'a', 'a', 'u'), ('e', 'o', 'a', 'e', 'a'), ('e', 'o', 'a', 'e', 'e'), ('e', 'o', 'a', 'e', 'i'), ('e', 'o', 'a', 'e', 'o'), ('e', 'o', 'a', 'e', 'u'), ('e', 'o', 'a', 'i', 'a'), ('e', 'o', 'a', 'i', 'e'), ('e', 'o', 'a', 'i', 'i'), ('e', 'o', 'a', 'i', 'o'), ('e', 'o', 'a', 'i', 'u'), ('e', 'o', 'a', 'o', 'a'), ('e', 'o', 'a', 'o', 'e'), ('e', 'o', 'a', 'o', 'i'), ('e', 'o', 'a', 'o', 'o'), ('e', 'o', 'a', 'o', 'u'), ('e', 'o', 'a', 'u', 'a'), ('e', 'o', 'a', 'u', 'e'), ('e', 'o', 'a', 'u', 'i'), ('e', 'o', 'a', 'u', 'o'), ('e', 'o', 'a', 'u', 'u'), ('e', 'o', 'e', 'a', 'a'), ('e', 'o', 'e', 'a', 'e'), ('e', 'o', 'e', 'a', 'i'), ('e', 'o', 'e', 'a', 'o'), ('e', 'o', 'e', 'a', 'u'), ('e', 'o', 'e', 'e', 'a'), ('e', 'o', 'e', 'e', 'e'), ('e', 'o', 'e', 'e', 'i'), ('e', 'o', 'e', 'e', 'o'), ('e', 'o', 'e', 'e', 'u'), ('e', 'o', 'e', 'i', 'a'), ('e', 'o', 'e', 'i', 'e'), ('e', 'o', 'e', 'i', 'i'), ('e', 'o', 'e', 'i', 'o'), ('e', 'o', 'e', 'i', 'u'), ('e', 'o', 'e', 'o', 'a'), ('e', 'o', 'e', 'o', 'e'), ('e', 'o', 'e', 'o', 'i'), ('e', 'o', 'e', 'o', 'o'), ('e', 'o', 'e', 'o', 'u'), ('e', 'o', 'e', 'u', 'a'), ('e', 'o', 'e', 'u', 'e'), ('e', 'o', 'e', 'u', 'i'), ('e', 'o', 'e', 'u', 'o'), ('e', 'o', 'e', 'u', 'u'), ('e', 'o', 'i', 'a', 'a'), ('e', 'o', 'i', 'a', 'e'), ('e', 'o', 'i', 'a', 'i'), ('e', 'o', 'i', 'a', 'o'), ('e', 'o', 'i', 'a', 'u'), ('e', 'o', 'i', 'e', 'a'), ('e', 'o', 'i', 'e', 'e'), ('e', 'o', 'i', 'e', 'i'), ('e', 'o', 'i', 'e', 'o'), ('e', 'o', 'i', 'e', 'u'), ('e', 'o', 'i', 'i', 'a'), ('e', 'o', 'i', 'i', 'e'), ('e', 'o', 'i', 'i', 'i'), ('e', 'o', 'i', 'i', 'o'), ('e', 'o', 'i', 'i', 'u'), ('e', 'o', 'i', 'o', 'a'), ('e', 'o', 'i', 'o', 'e'), ('e', 'o', 'i', 'o', 'i'), ('e', 'o', 'i', 'o', 'o'), ('e', 'o', 'i', 'o', 'u'), ('e', 'o', 'i', 'u', 'a'), ('e', 'o', 'i', 'u', 'e'), ('e', 'o', 'i', 'u', 'i'), ('e', 'o', 'i', 'u', 'o'), ('e', 'o', 'i', 'u', 'u'), ('e', 'o', 'o', 'a', 'a'), ('e', 'o', 'o', 'a', 'e'), ('e', 'o', 'o', 'a', 'i'), ('e', 'o', 'o', 'a', 'o'), ('e', 'o', 'o', 'a', 'u'), ('e', 'o', 'o', 'e', 'a'), ('e', 'o', 'o', 'e', 'e'), ('e', 'o', 'o', 'e', 'i'), ('e', 'o', 'o', 'e', 'o'), ('e', 'o', 'o', 'e', 'u'), ('e', 'o', 'o', 'i', 'a'), ('e', 'o', 'o', 'i', 'e'), ('e', 'o', 'o', 'i', 'i'), ('e', 'o', 'o', 'i', 'o'), ('e', 'o', 'o', 'i', 'u'), ('e', 'o', 'o', 'o', 'a'), ('e', 'o', 'o', 'o', 'e'), ('e', 'o', 'o', 'o', 'i'), ('e', 'o', 'o', 'o', 'o'), ('e', 'o', 'o', 'o', 'u'), ('e', 'o', 'o', 'u', 'a'), ('e', 'o', 'o', 'u', 'e'), ('e', 'o', 'o', 'u', 'i'), ('e', 'o', 'o', 'u', 'o'), ('e', 'o', 'o', 'u', 'u'), ('e', 'o', 'u', 'a', 'a'), ('e', 'o', 'u', 'a', 'e'), ('e', 'o', 'u', 'a', 'i'), ('e', 'o', 'u', 'a', 'o'), ('e', 'o', 'u', 'a', 'u'), ('e', 'o', 'u', 'e', 'a'), ('e', 'o', 'u', 'e', 'e'), ('e', 'o', 'u', 'e', 'i'), ('e', 'o', 'u', 'e', 'o'), ('e', 'o', 'u', 'e', 'u'), ('e', 'o', 'u', 'i', 'a'), ('e', 'o', 'u', 'i', 'e'), ('e', 'o', 'u', 'i', 'i'), ('e', 'o', 'u', 'i', 'o'), ('e', 'o', 'u', 'i', 'u'), ('e', 'o', 'u', 'o', 'a'), ('e', 'o', 'u', 'o', 'e'), ('e', 'o', 'u', 'o', 'i'), ('e', 'o', 'u', 'o', 'o'), ('e', 'o', 'u', 'o', 'u'), ('e', 'o', 'u', 'u', 'a'), ('e', 'o', 'u', 'u', 'e'), ('e', 'o', 'u', 'u', 'i'), ('e', 'o', 'u', 'u', 'o'), ('e', 'o', 'u', 'u', 'u'), ('e', 'u', 'a', 'a', 'a'), ('e', 'u', 'a', 'a', 'e'), ('e', 'u', 'a', 'a', 'i'), ('e', 'u', 'a', 'a', 'o'), ('e', 'u', 'a', 'a', 'u'), ('e', 'u', 'a', 'e', 'a'), ('e', 'u', 'a', 'e', 'e'), ('e', 'u', 'a', 'e', 'i'), ('e', 'u', 'a', 'e', 'o'), ('e', 'u', 'a', 'e', 'u'), ('e', 'u', 'a', 'i', 'a'), ('e', 'u', 'a', 'i', 'e'), ('e', 'u', 'a', 'i', 'i'), ('e', 'u', 'a', 'i', 'o'), ('e', 'u', 'a', 'i', 'u'), ('e', 'u', 'a', 'o', 'a'), ('e', 'u', 'a', 'o', 'e'), ('e', 'u', 'a', 'o', 'i'), ('e', 'u', 'a', 'o', 'o'), ('e', 'u', 'a', 'o', 'u'), ('e', 'u', 'a', 'u', 'a'), ('e', 'u', 'a', 'u', 'e'), ('e', 'u', 'a', 'u', 'i'), ('e', 'u', 'a', 'u', 'o'), ('e', 'u', 'a', 'u', 'u'), ('e', 'u', 'e', 'a', 'a'), ('e', 'u', 'e', 'a', 'e'), ('e', 'u', 'e', 'a', 'i'), ('e', 'u', 'e', 'a', 'o'), ('e', 'u', 'e', 'a', 'u'), ('e', 'u', 'e', 'e', 'a'), ('e', 'u', 'e', 'e', 'e'), ('e', 'u', 'e', 'e', 'i'), ('e', 'u', 'e', 'e', 'o'), ('e', 'u', 'e', 'e', 'u'), ('e', 'u', 'e', 'i', 'a'), ('e', 'u', 'e', 'i', 'e'), ('e', 'u', 'e', 'i', 'i'), ('e', 'u', 'e', 'i', 'o'), ('e', 'u', 'e', 'i', 'u'), ('e', 'u', 'e', 'o', 'a'), ('e', 'u', 'e', 'o', 'e'), ('e', 'u', 'e', 'o', 'i'), ('e', 'u', 'e', 'o', 'o'), ('e', 'u', 'e', 'o', 'u'), ('e', 'u', 'e', 'u', 'a'), ('e', 'u', 'e', 'u', 'e'), ('e', 'u', 'e', 'u', 'i'), ('e', 'u', 'e', 'u', 'o'), ('e', 'u', 'e', 'u', 'u'), ('e', 'u', 'i', 'a', 'a'), ('e', 'u', 'i', 'a', 'e'), ('e', 'u', 'i', 'a', 'i'), ('e', 'u', 'i', 'a', 'o'), ('e', 'u', 'i', 'a', 'u'), ('e', 'u', 'i', 'e', 'a'), ('e', 'u', 'i', 'e', 'e'), ('e', 'u', 'i', 'e', 'i'), ('e', 'u', 'i', 'e', 'o'), ('e', 'u', 'i', 'e', 'u'), ('e', 'u', 'i', 'i', 'a'), ('e', 'u', 'i', 'i', 'e'), ('e', 'u', 'i', 'i', 'i'), ('e', 'u', 'i', 'i', 'o'), ('e', 'u', 'i', 'i', 'u'), ('e', 'u', 'i', 'o', 'a'), ('e', 'u', 'i', 'o', 'e'), ('e', 'u', 'i', 'o', 'i'), ('e', 'u', 'i', 'o', 'o'), ('e', 'u', 'i', 'o', 'u'), ('e', 'u', 'i', 'u', 'a'), ('e', 'u', 'i', 'u', 'e'), ('e', 'u', 'i', 'u', 'i'), ('e', 'u', 'i', 'u', 'o'), ('e', 'u', 'i', 'u', 'u'), ('e', 'u', 'o', 'a', 'a'), ('e', 'u', 'o', 'a', 'e'), ('e', 'u', 'o', 'a', 'i'), ('e', 'u', 'o', 'a', 'o'), ('e', 'u', 'o', 'a', 'u'), ('e', 'u', 'o', 'e', 'a'), ('e', 'u', 'o', 'e', 'e'), ('e', 'u', 'o', 'e', 'i'), ('e', 'u', 'o', 'e', 'o'), ('e', 'u', 'o', 'e', 'u'), ('e', 'u', 'o', 'i', 'a'), ('e', 'u', 'o', 'i', 'e'), ('e', 'u', 'o', 'i', 'i'), ('e', 'u', 'o', 'i', 'o'), ('e', 'u', 'o', 'i', 'u'), ('e', 'u', 'o', 'o', 'a'), ('e', 'u', 'o', 'o', 'e'), ('e', 'u', 'o', 'o', 'i'), ('e', 'u', 'o', 'o', 'o'), ('e', 'u', 'o', 'o', 'u'), ('e', 'u', 'o', 'u', 'a'), ('e', 'u', 'o', 'u', 'e'), ('e', 'u', 'o', 'u', 'i'), ('e', 'u', 'o', 'u', 'o'), ('e', 'u', 'o', 'u', 'u'), ('e', 'u', 'u', 'a', 'a'), ('e', 'u', 'u', 'a', 'e'), ('e', 'u', 'u', 'a', 'i'), ('e', 'u', 'u', 'a', 'o'), ('e', 'u', 'u', 'a', 'u'), ('e', 'u', 'u', 'e', 'a'), ('e', 'u', 'u', 'e', 'e'), ('e', 'u', 'u', 'e', 'i'), ('e', 'u', 'u', 'e', 'o'), ('e', 'u', 'u', 'e', 'u'), ('e', 'u', 'u', 'i', 'a'), ('e', 'u', 'u', 'i', 'e'), ('e', 'u', 'u', 'i', 'i'), ('e', 'u', 'u', 'i', 'o'), ('e', 'u', 'u', 'i', 'u'), ('e', 'u', 'u', 'o', 'a'), ('e', 'u', 'u', 'o', 'e'), ('e', 'u', 'u', 'o', 'i'), ('e', 'u', 'u', 'o', 'o'), ('e', 'u', 'u', 'o', 'u'), ('e', 'u', 'u', 'u', 'a'), ('e', 'u', 'u', 'u', 'e'), ('e', 'u', 'u', 'u', 'i'), ('e', 'u', 'u', 'u', 'o'), ('e', 'u', 'u', 'u', 'u'), ('i', 'a', 'a', 'a', 'a'), ('i', 'a', 'a', 'a', 'e'), ('i', 'a', 'a', 'a', 'i'), ('i', 'a', 'a', 'a', 'o'), ('i', 'a', 'a', 'a', 'u'), ('i', 'a', 'a', 'e', 'a'), ('i', 'a', 'a', 'e', 'e'), ('i', 'a', 'a', 'e', 'i'), ('i', 'a', 'a', 'e', 'o'), ('i', 'a', 'a', 'e', 'u'), ('i', 'a', 'a', 'i', 'a'), ('i', 'a', 'a', 'i', 'e'), ('i', 'a', 'a', 'i', 'i'), ('i', 'a', 'a', 'i', 'o'), ('i', 'a', 'a', 'i', 'u'), ('i', 'a', 'a', 'o', 'a'), ('i', 'a', 'a', 'o', 'e'), ('i', 'a', 'a', 'o', 'i'), ('i', 'a', 'a', 'o', 'o'), ('i', 'a', 'a', 'o', 'u'), ('i', 'a', 'a', 'u', 'a'), ('i', 'a', 'a', 'u', 'e'), ('i', 'a', 'a', 'u', 'i'), ('i', 'a', 'a', 'u', 'o'), ('i', 'a', 'a', 'u', 'u'), ('i', 'a', 'e', 'a', 'a'), ('i', 'a', 'e', 'a', 'e'), ('i', 'a', 'e', 'a', 'i'), ('i', 'a', 'e', 'a', 'o'), ('i', 'a', 'e', 'a', 'u'), ('i', 'a', 'e', 'e', 'a'), ('i', 'a', 'e', 'e', 'e'), ('i', 'a', 'e', 'e', 'i'), ('i', 'a', 'e', 'e', 'o'), ('i', 'a', 'e', 'e', 'u'), ('i', 'a', 'e', 'i', 'a'), ('i', 'a', 'e', 'i', 'e'), ('i', 'a', 'e', 'i', 'i'), ('i', 'a', 'e', 'i', 'o'), ('i', 'a', 'e', 'i', 'u'), ('i', 'a', 'e', 'o', 'a'), ('i', 'a', 'e', 'o', 'e'), ('i', 'a', 'e', 'o', 'i'), ('i', 'a', 'e', 'o', 'o'), ('i', 'a', 'e', 'o', 'u'), ('i', 'a', 'e', 'u', 'a'), ('i', 'a', 'e', 'u', 'e'), ('i', 'a', 'e', 'u', 'i'), ('i', 'a', 'e', 'u', 'o'), ('i', 'a', 'e', 'u', 'u'), ('i', 'a', 'i', 'a', 'a'), ('i', 'a', 'i', 'a', 'e'), ('i', 'a', 'i', 'a', 'i'), ('i', 'a', 'i', 'a', 'o'), ('i', 'a', 'i', 'a', 'u'), ('i', 'a', 'i', 'e', 'a'), ('i', 'a', 'i', 'e', 'e'), ('i', 'a', 'i', 'e', 'i'), ('i', 'a', 'i', 'e', 'o'), ('i', 'a', 'i', 'e', 'u'), ('i', 'a', 'i', 'i', 'a'), ('i', 'a', 'i', 'i', 'e'), ('i', 'a', 'i', 'i', 'i'), ('i', 'a', 'i', 'i', 'o'), ('i', 'a', 'i', 'i', 'u'), ('i', 'a', 'i', 'o', 'a'), ('i', 'a', 'i', 'o', 'e'), ('i', 'a', 'i', 'o', 'i'), ('i', 'a', 'i', 'o', 'o'), ('i', 'a', 'i', 'o', 'u'), ('i', 'a', 'i', 'u', 'a'), ('i', 'a', 'i', 'u', 'e'), ('i', 'a', 'i', 'u', 'i'), ('i', 'a', 'i', 'u', 'o'), ('i', 'a', 'i', 'u', 'u'), ('i', 'a', 'o', 'a', 'a'), ('i', 'a', 'o', 'a', 'e'), ('i', 'a', 'o', 'a', 'i'), ('i', 'a', 'o', 'a', 'o'), ('i', 'a', 'o', 'a', 'u'), ('i', 'a', 'o', 'e', 'a'), ('i', 'a', 'o', 'e', 'e'), ('i', 'a', 'o', 'e', 'i'), ('i', 'a', 'o', 'e', 'o'), ('i', 'a', 'o', 'e', 'u'), ('i', 'a', 'o', 'i', 'a'), ('i', 'a', 'o', 'i', 'e'), ('i', 'a', 'o', 'i', 'i'), ('i', 'a', 'o', 'i', 'o'), ('i', 'a', 'o', 'i', 'u'), ('i', 'a', 'o', 'o', 'a'), ('i', 'a', 'o', 'o', 'e'), ('i', 'a', 'o', 'o', 'i'), ('i', 'a', 'o', 'o', 'o'), ('i', 'a', 'o', 'o', 'u'), ('i', 'a', 'o', 'u', 'a'), ('i', 'a', 'o', 'u', 'e'), ('i', 'a', 'o', 'u', 'i'), ('i', 'a', 'o', 'u', 'o'), ('i', 'a', 'o', 'u', 'u'), ('i', 'a', 'u', 'a', 'a'), ('i', 'a', 'u', 'a', 'e'), ('i', 'a', 'u', 'a', 'i'), ('i', 'a', 'u', 'a', 'o'), ('i', 'a', 'u', 'a', 'u'), ('i', 'a', 'u', 'e', 'a'), ('i', 'a', 'u', 'e', 'e'), ('i', 'a', 'u', 'e', 'i'), ('i', 'a', 'u', 'e', 'o'), ('i', 'a', 'u', 'e', 'u'), ('i', 'a', 'u', 'i', 'a'), ('i', 'a', 'u', 'i', 'e'), ('i', 'a', 'u', 'i', 'i'), ('i', 'a', 'u', 'i', 'o'), ('i', 'a', 'u', 'i', 'u'), ('i', 'a', 'u', 'o', 'a'), ('i', 'a', 'u', 'o', 'e'), ('i', 'a', 'u', 'o', 'i'), ('i', 'a', 'u', 'o', 'o'), ('i', 'a', 'u', 'o', 'u'), ('i', 'a', 'u', 'u', 'a'), ('i', 'a', 'u', 'u', 'e'), ('i', 'a', 'u', 'u', 'i'), ('i', 'a', 'u', 'u', 'o'), ('i', 'a', 'u', 'u', 'u'), ('i', 'e', 'a', 'a', 'a'), ('i', 'e', 'a', 'a', 'e'), ('i', 'e', 'a', 'a', 'i'), ('i', 'e', 'a', 'a', 'o'), ('i', 'e', 'a', 'a', 'u'), ('i', 'e', 'a', 'e', 'a'), ('i', 'e', 'a', 'e', 'e'), ('i', 'e', 'a', 'e', 'i'), ('i', 'e', 'a', 'e', 'o'), ('i', 'e', 'a', 'e', 'u'), ('i', 'e', 'a', 'i', 'a'), ('i', 'e', 'a', 'i', 'e'), ('i', 'e', 'a', 'i', 'i'), ('i', 'e', 'a', 'i', 'o'), ('i', 'e', 'a', 'i', 'u'), ('i', 'e', 'a', 'o', 'a'), ('i', 'e', 'a', 'o', 'e'), ('i', 'e', 'a', 'o', 'i'), ('i', 'e', 'a', 'o', 'o'), ('i', 'e', 'a', 'o', 'u'), ('i', 'e', 'a', 'u', 'a'), ('i', 'e', 'a', 'u', 'e'), ('i', 'e', 'a', 'u', 'i'), ('i', 'e', 'a', 'u', 'o'), ('i', 'e', 'a', 'u', 'u'), ('i', 'e', 'e', 'a', 'a'), ('i', 'e', 'e', 'a', 'e'), ('i', 'e', 'e', 'a', 'i'), ('i', 'e', 'e', 'a', 'o'), ('i', 'e', 'e', 'a', 'u'), ('i', 'e', 'e', 'e', 'a'), ('i', 'e', 'e', 'e', 'e'), ('i', 'e', 'e', 'e', 'i'), ('i', 'e', 'e', 'e', 'o'), ('i', 'e', 'e', 'e', 'u'), ('i', 'e', 'e', 'i', 'a'), ('i', 'e', 'e', 'i', 'e'), ('i', 'e', 'e', 'i', 'i'), ('i', 'e', 'e', 'i', 'o'), ('i', 'e', 'e', 'i', 'u'), ('i', 'e', 'e', 'o', 'a'), ('i', 'e', 'e', 'o', 'e'), ('i', 'e', 'e', 'o', 'i'), ('i', 'e', 'e', 'o', 'o'), ('i', 'e', 'e', 'o', 'u'), ('i', 'e', 'e', 'u', 'a'), ('i', 'e', 'e', 'u', 'e'), ('i', 'e', 'e', 'u', 'i'), ('i', 'e', 'e', 'u', 'o'), ('i', 'e', 'e', 'u', 'u'), ('i', 'e', 'i', 'a', 'a'), ('i', 'e', 'i', 'a', 'e'), ('i', 'e', 'i', 'a', 'i'), ('i', 'e', 'i', 'a', 'o'), ('i', 'e', 'i', 'a', 'u'), ('i', 'e', 'i', 'e', 'a'), ('i', 'e', 'i', 'e', 'e'), ('i', 'e', 'i', 'e', 'i'), ('i', 'e', 'i', 'e', 'o'), ('i', 'e', 'i', 'e', 'u'), ('i', 'e', 'i', 'i', 'a'), ('i', 'e', 'i', 'i', 'e'), ('i', 'e', 'i', 'i', 'i'), ('i', 'e', 'i', 'i', 'o'), ('i', 'e', 'i', 'i', 'u'), ('i', 'e', 'i', 'o', 'a'), ('i', 'e', 'i', 'o', 'e'), ('i', 'e', 'i', 'o', 'i'), ('i', 'e', 'i', 'o', 'o'), ('i', 'e', 'i', 'o', 'u'), ('i', 'e', 'i', 'u', 'a'), ('i', 'e', 'i', 'u', 'e'), ('i', 'e', 'i', 'u', 'i'), ('i', 'e', 'i', 'u', 'o'), ('i', 'e', 'i', 'u', 'u'), ('i', 'e', 'o', 'a', 'a'), ('i', 'e', 'o', 'a', 'e'), ('i', 'e', 'o', 'a', 'i'), ('i', 'e', 'o', 'a', 'o'), ('i', 'e', 'o', 'a', 'u'), ('i', 'e', 'o', 'e', 'a'), ('i', 'e', 'o', 'e', 'e'), ('i', 'e', 'o', 'e', 'i'), ('i', 'e', 'o', 'e', 'o'), ('i', 'e', 'o', 'e', 'u'), ('i', 'e', 'o', 'i', 'a'), ('i', 'e', 'o', 'i', 'e'), ('i', 'e', 'o', 'i', 'i'), ('i', 'e', 'o', 'i', 'o'), ('i', 'e', 'o', 'i', 'u'), ('i', 'e', 'o', 'o', 'a'), ('i', 'e', 'o', 'o', 'e'), ('i', 'e', 'o', 'o', 'i'), ('i', 'e', 'o', 'o', 'o'), ('i', 'e', 'o', 'o', 'u'), ('i', 'e', 'o', 'u', 'a'), ('i', 'e', 'o', 'u', 'e'), ('i', 'e', 'o', 'u', 'i'), ('i', 'e', 'o', 'u', 'o'), ('i', 'e', 'o', 'u', 'u'), ('i', 'e', 'u', 'a', 'a'), ('i', 'e', 'u', 'a', 'e'), ('i', 'e', 'u', 'a', 'i'), ('i', 'e', 'u', 'a', 'o'), ('i', 'e', 'u', 'a', 'u'), ('i', 'e', 'u', 'e', 'a'), ('i', 'e', 'u', 'e', 'e'), ('i', 'e', 'u', 'e', 'i'), ('i', 'e', 'u', 'e', 'o'), ('i', 'e', 'u', 'e', 'u'), ('i', 'e', 'u', 'i', 'a'), ('i', 'e', 'u', 'i', 'e'), ('i', 'e', 'u', 'i', 'i'), ('i', 'e', 'u', 'i', 'o'), ('i', 'e', 'u', 'i', 'u'), ('i', 'e', 'u', 'o', 'a'), ('i', 'e', 'u', 'o', 'e'), ('i', 'e', 'u', 'o', 'i'), ('i', 'e', 'u', 'o', 'o'), ('i', 'e', 'u', 'o', 'u'), ('i', 'e', 'u', 'u', 'a'), ('i', 'e', 'u', 'u', 'e'), ('i', 'e', 'u', 'u', 'i'), ('i', 'e', 'u', 'u', 'o'), ('i', 'e', 'u', 'u', 'u'), ('i', 'i', 'a', 'a', 'a'), ('i', 'i', 'a', 'a', 'e'), ('i', 'i', 'a', 'a', 'i'), ('i', 'i', 'a', 'a', 'o'), ('i', 'i', 'a', 'a', 'u'), ('i', 'i', 'a', 'e', 'a'), ('i', 'i', 'a', 'e', 'e'), ('i', 'i', 'a', 'e', 'i'), ('i', 'i', 'a', 'e', 'o'), ('i', 'i', 'a', 'e', 'u'), ('i', 'i', 'a', 'i', 'a'), ('i', 'i', 'a', 'i', 'e'), ('i', 'i', 'a', 'i', 'i'), ('i', 'i', 'a', 'i', 'o'), ('i', 'i', 'a', 'i', 'u'), ('i', 'i', 'a', 'o', 'a'), ('i', 'i', 'a', 'o', 'e'), ('i', 'i', 'a', 'o', 'i'), ('i', 'i', 'a', 'o', 'o'), ('i', 'i', 'a', 'o', 'u'), ('i', 'i', 'a', 'u', 'a'), ('i', 'i', 'a', 'u', 'e'), ('i', 'i', 'a', 'u', 'i'), ('i', 'i', 'a', 'u', 'o'), ('i', 'i', 'a', 'u', 'u'), ('i', 'i', 'e', 'a', 'a'), ('i', 'i', 'e', 'a', 'e'), ('i', 'i', 'e', 'a', 'i'), ('i', 'i', 'e', 'a', 'o'), ('i', 'i', 'e', 'a', 'u'), ('i', 'i', 'e', 'e', 'a'), ('i', 'i', 'e', 'e', 'e'), ('i', 'i', 'e', 'e', 'i'), ('i', 'i', 'e', 'e', 'o'), ('i', 'i', 'e', 'e', 'u'), ('i', 'i', 'e', 'i', 'a'), ('i', 'i', 'e', 'i', 'e'), ('i', 'i', 'e', 'i', 'i'), ('i', 'i', 'e', 'i', 'o'), ('i', 'i', 'e', 'i', 'u'), ('i', 'i', 'e', 'o', 'a'), ('i', 'i', 'e', 'o', 'e'), ('i', 'i', 'e', 'o', 'i'), ('i', 'i', 'e', 'o', 'o'), ('i', 'i', 'e', 'o', 'u'), ('i', 'i', 'e', 'u', 'a'), ('i', 'i', 'e', 'u', 'e'), ('i', 'i', 'e', 'u', 'i'), ('i', 'i', 'e', 'u', 'o'), ('i', 'i', 'e', 'u', 'u'), ('i', 'i', 'i', 'a', 'a'), ('i', 'i', 'i', 'a', 'e'), ('i', 'i', 'i', 'a', 'i'), ('i', 'i', 'i', 'a', 'o'), ('i', 'i', 'i', 'a', 'u'), ('i', 'i', 'i', 'e', 'a'), ('i', 'i', 'i', 'e', 'e'), ('i', 'i', 'i', 'e', 'i'), ('i', 'i', 'i', 'e', 'o'), ('i', 'i', 'i', 'e', 'u'), ('i', 'i', 'i', 'i', 'a'), ('i', 'i', 'i', 'i', 'e'), ('i', 'i', 'i', 'i', 'i'), ('i', 'i', 'i', 'i', 'o'), ('i', 'i', 'i', 'i', 'u'), ('i', 'i', 'i', 'o', 'a'), ('i', 'i', 'i', 'o', 'e'), ('i', 'i', 'i', 'o', 'i'), ('i', 'i', 'i', 'o', 'o'), ('i', 'i', 'i', 'o', 'u'), ('i', 'i', 'i', 'u', 'a'), ('i', 'i', 'i', 'u', 'e'), ('i', 'i', 'i', 'u', 'i'), ('i', 'i', 'i', 'u', 'o'), ('i', 'i', 'i', 'u', 'u'), ('i', 'i', 'o', 'a', 'a'), ('i', 'i', 'o', 'a', 'e'), ('i', 'i', 'o', 'a', 'i'), ('i', 'i', 'o', 'a', 'o'), ('i', 'i', 'o', 'a', 'u'), ('i', 'i', 'o', 'e', 'a'), ('i', 'i', 'o', 'e', 'e'), ('i', 'i', 'o', 'e', 'i'), ('i', 'i', 'o', 'e', 'o'), ('i', 'i', 'o', 'e', 'u'), ('i', 'i', 'o', 'i', 'a'), ('i', 'i', 'o', 'i', 'e'), ('i', 'i', 'o', 'i', 'i'), ('i', 'i', 'o', 'i', 'o'), ('i', 'i', 'o', 'i', 'u'), ('i', 'i', 'o', 'o', 'a'), ('i', 'i', 'o', 'o', 'e'), ('i', 'i', 'o', 'o', 'i'), ('i', 'i', 'o', 'o', 'o'), ('i', 'i', 'o', 'o', 'u'), ('i', 'i', 'o', 'u', 'a'), ('i', 'i', 'o', 'u', 'e'), ('i', 'i', 'o', 'u', 'i'), ('i', 'i', 'o', 'u', 'o'), ('i', 'i', 'o', 'u', 'u'), ('i', 'i', 'u', 'a', 'a'), ('i', 'i', 'u', 'a', 'e'), ('i', 'i', 'u', 'a', 'i'), ('i', 'i', 'u', 'a', 'o'), ('i', 'i', 'u', 'a', 'u'), ('i', 'i', 'u', 'e', 'a'), ('i', 'i', 'u', 'e', 'e'), ('i', 'i', 'u', 'e', 'i'), ('i', 'i', 'u', 'e', 'o'), ('i', 'i', 'u', 'e', 'u'), ('i', 'i', 'u', 'i', 'a'), ('i', 'i', 'u', 'i', 'e'), ('i', 'i', 'u', 'i', 'i'), ('i', 'i', 'u', 'i', 'o'), ('i', 'i', 'u', 'i', 'u'), ('i', 'i', 'u', 'o', 'a'), ('i', 'i', 'u', 'o', 'e'), ('i', 'i', 'u', 'o', 'i'), ('i', 'i', 'u', 'o', 'o'), ('i', 'i', 'u', 'o', 'u'), ('i', 'i', 'u', 'u', 'a'), ('i', 'i', 'u', 'u', 'e'), ('i', 'i', 'u', 'u', 'i'), ('i', 'i', 'u', 'u', 'o'), ('i', 'i', 'u', 'u', 'u'), ('i', 'o', 'a', 'a', 'a'), ('i', 'o', 'a', 'a', 'e'), ('i', 'o', 'a', 'a', 'i'), ('i', 'o', 'a', 'a', 'o'), ('i', 'o', 'a', 'a', 'u'), ('i', 'o', 'a', 'e', 'a'), ('i', 'o', 'a', 'e', 'e'), ('i', 'o', 'a', 'e', 'i'), ('i', 'o', 'a', 'e', 'o'), ('i', 'o', 'a', 'e', 'u'), ('i', 'o', 'a', 'i', 'a'), ('i', 'o', 'a', 'i', 'e'), ('i', 'o', 'a', 'i', 'i'), ('i', 'o', 'a', 'i', 'o'), ('i', 'o', 'a', 'i', 'u'), ('i', 'o', 'a', 'o', 'a'), ('i', 'o', 'a', 'o', 'e'), ('i', 'o', 'a', 'o', 'i'), ('i', 'o', 'a', 'o', 'o'), ('i', 'o', 'a', 'o', 'u'), ('i', 'o', 'a', 'u', 'a'), ('i', 'o', 'a', 'u', 'e'), ('i', 'o', 'a', 'u', 'i'), ('i', 'o', 'a', 'u', 'o'), ('i', 'o', 'a', 'u', 'u'), ('i', 'o', 'e', 'a', 'a'), ('i', 'o', 'e', 'a', 'e'), ('i', 'o', 'e', 'a', 'i'), ('i', 'o', 'e', 'a', 'o'), ('i', 'o', 'e', 'a', 'u'), ('i', 'o', 'e', 'e', 'a'), ('i', 'o', 'e', 'e', 'e'), ('i', 'o', 'e', 'e', 'i'), ('i', 'o', 'e', 'e', 'o'), ('i', 'o', 'e', 'e', 'u'), ('i', 'o', 'e', 'i', 'a'), ('i', 'o', 'e', 'i', 'e'), ('i', 'o', 'e', 'i', 'i'), ('i', 'o', 'e', 'i', 'o'), ('i', 'o', 'e', 'i', 'u'), ('i', 'o', 'e', 'o', 'a'), ('i', 'o', 'e', 'o', 'e'), ('i', 'o', 'e', 'o', 'i'), ('i', 'o', 'e', 'o', 'o'), ('i', 'o', 'e', 'o', 'u'), ('i', 'o', 'e', 'u', 'a'), ('i', 'o', 'e', 'u', 'e'), ('i', 'o', 'e', 'u', 'i'), ('i', 'o', 'e', 'u', 'o'), ('i', 'o', 'e', 'u', 'u'), ('i', 'o', 'i', 'a', 'a'), ('i', 'o', 'i', 'a', 'e'), ('i', 'o', 'i', 'a', 'i'), ('i', 'o', 'i', 'a', 'o'), ('i', 'o', 'i', 'a', 'u'), ('i', 'o', 'i', 'e', 'a'), ('i', 'o', 'i', 'e', 'e'), ('i', 'o', 'i', 'e', 'i'), ('i', 'o', 'i', 'e', 'o'), ('i', 'o', 'i', 'e', 'u'), ('i', 'o', 'i', 'i', 'a'), ('i', 'o', 'i', 'i', 'e'), ('i', 'o', 'i', 'i', 'i'), ('i', 'o', 'i', 'i', 'o'), ('i', 'o', 'i', 'i', 'u'), ('i', 'o', 'i', 'o', 'a'), ('i', 'o', 'i', 'o', 'e'), ('i', 'o', 'i', 'o', 'i'), ('i', 'o', 'i', 'o', 'o'), ('i', 'o', 'i', 'o', 'u'), ('i', 'o', 'i', 'u', 'a'), ('i', 'o', 'i', 'u', 'e'), ('i', 'o', 'i', 'u', 'i'), ('i', 'o', 'i', 'u', 'o'), ('i', 'o', 'i', 'u', 'u'), ('i', 'o', 'o', 'a', 'a'), ('i', 'o', 'o', 'a', 'e'), ('i', 'o', 'o', 'a', 'i'), ('i', 'o', 'o', 'a', 'o'), ('i', 'o', 'o', 'a', 'u'), ('i', 'o', 'o', 'e', 'a'), ('i', 'o', 'o', 'e', 'e'), ('i', 'o', 'o', 'e', 'i'), ('i', 'o', 'o', 'e', 'o'), ('i', 'o', 'o', 'e', 'u'), ('i', 'o', 'o', 'i', 'a'), ('i', 'o', 'o', 'i', 'e'), ('i', 'o', 'o', 'i', 'i'), ('i', 'o', 'o', 'i', 'o'), ('i', 'o', 'o', 'i', 'u'), ('i', 'o', 'o', 'o', 'a'), ('i', 'o', 'o', 'o', 'e'), ('i', 'o', 'o', 'o', 'i'), ('i', 'o', 'o', 'o', 'o'), ('i', 'o', 'o', 'o', 'u'), ('i', 'o', 'o', 'u', 'a'), ('i', 'o', 'o', 'u', 'e'), ('i', 'o', 'o', 'u', 'i'), ('i', 'o', 'o', 'u', 'o'), ('i', 'o', 'o', 'u', 'u'), ('i', 'o', 'u', 'a', 'a'), ('i', 'o', 'u', 'a', 'e'), ('i', 'o', 'u', 'a', 'i'), ('i', 'o', 'u', 'a', 'o'), ('i', 'o', 'u', 'a', 'u'), ('i', 'o', 'u', 'e', 'a'), ('i', 'o', 'u', 'e', 'e'), ('i', 'o', 'u', 'e', 'i'), ('i', 'o', 'u', 'e', 'o'), ('i', 'o', 'u', 'e', 'u'), ('i', 'o', 'u', 'i', 'a'), ('i', 'o', 'u', 'i', 'e'), ('i', 'o', 'u', 'i', 'i'), ('i', 'o', 'u', 'i', 'o'), ('i', 'o', 'u', 'i', 'u'), ('i', 'o', 'u', 'o', 'a'), ('i', 'o', 'u', 'o', 'e'), ('i', 'o', 'u', 'o', 'i'), ('i', 'o', 'u', 'o', 'o'), ('i', 'o', 'u', 'o', 'u'), ('i', 'o', 'u', 'u', 'a'), ('i', 'o', 'u', 'u', 'e'), ('i', 'o', 'u', 'u', 'i'), ('i', 'o', 'u', 'u', 'o'), ('i', 'o', 'u', 'u', 'u'), ('i', 'u', 'a', 'a', 'a'), ('i', 'u', 'a', 'a', 'e'), ('i', 'u', 'a', 'a', 'i'), ('i', 'u', 'a', 'a', 'o'), ('i', 'u', 'a', 'a', 'u'), ('i', 'u', 'a', 'e', 'a'), ('i', 'u', 'a', 'e', 'e'), ('i', 'u', 'a', 'e', 'i'), ('i', 'u', 'a', 'e', 'o'), ('i', 'u', 'a', 'e', 'u'), ('i', 'u', 'a', 'i', 'a'), ('i', 'u', 'a', 'i', 'e'), ('i', 'u', 'a', 'i', 'i'), ('i', 'u', 'a', 'i', 'o'), ('i', 'u', 'a', 'i', 'u'), ('i', 'u', 'a', 'o', 'a'), ('i', 'u', 'a', 'o', 'e'), ('i', 'u', 'a', 'o', 'i'), ('i', 'u', 'a', 'o', 'o'), ('i', 'u', 'a', 'o', 'u'), ('i', 'u', 'a', 'u', 'a'), ('i', 'u', 'a', 'u', 'e'), ('i', 'u', 'a', 'u', 'i'), ('i', 'u', 'a', 'u', 'o'), ('i', 'u', 'a', 'u', 'u'), ('i', 'u', 'e', 'a', 'a'), ('i', 'u', 'e', 'a', 'e'), ('i', 'u', 'e', 'a', 'i'), ('i', 'u', 'e', 'a', 'o'), ('i', 'u', 'e', 'a', 'u'), ('i', 'u', 'e', 'e', 'a'), ('i', 'u', 'e', 'e', 'e'), ('i', 'u', 'e', 'e', 'i'), ('i', 'u', 'e', 'e', 'o'), ('i', 'u', 'e', 'e', 'u'), ('i', 'u', 'e', 'i', 'a'), ('i', 'u', 'e', 'i', 'e'), ('i', 'u', 'e', 'i', 'i'), ('i', 'u', 'e', 'i', 'o'), ('i', 'u', 'e', 'i', 'u'), ('i', 'u', 'e', 'o', 'a'), ('i', 'u', 'e', 'o', 'e'), ('i', 'u', 'e', 'o', 'i'), ('i', 'u', 'e', 'o', 'o'), ('i', 'u', 'e', 'o', 'u'), ('i', 'u', 'e', 'u', 'a'), ('i', 'u', 'e', 'u', 'e'), ('i', 'u', 'e', 'u', 'i'), ('i', 'u', 'e', 'u', 'o'), ('i', 'u', 'e', 'u', 'u'), ('i', 'u', 'i', 'a', 'a'), ('i', 'u', 'i', 'a', 'e'), ('i', 'u', 'i', 'a', 'i'), ('i', 'u', 'i', 'a', 'o'), ('i', 'u', 'i', 'a', 'u'), ('i', 'u', 'i', 'e', 'a'), ('i', 'u', 'i', 'e', 'e'), ('i', 'u', 'i', 'e', 'i'), ('i', 'u', 'i', 'e', 'o'), ('i', 'u', 'i', 'e', 'u'), ('i', 'u', 'i', 'i', 'a'), ('i', 'u', 'i', 'i', 'e'), ('i', 'u', 'i', 'i', 'i'), ('i', 'u', 'i', 'i', 'o'), ('i', 'u', 'i', 'i', 'u'), ('i', 'u', 'i', 'o', 'a'), ('i', 'u', 'i', 'o', 'e'), ('i', 'u', 'i', 'o', 'i'), ('i', 'u', 'i', 'o', 'o'), ('i', 'u', 'i', 'o', 'u'), ('i', 'u', 'i', 'u', 'a'), ('i', 'u', 'i', 'u', 'e'), ('i', 'u', 'i', 'u', 'i'), ('i', 'u', 'i', 'u', 'o'), ('i', 'u', 'i', 'u', 'u'), ('i', 'u', 'o', 'a', 'a'), ('i', 'u', 'o', 'a', 'e'), ('i', 'u', 'o', 'a', 'i'), ('i', 'u', 'o', 'a', 'o'), ('i', 'u', 'o', 'a', 'u'), ('i', 'u', 'o', 'e', 'a'), ('i', 'u', 'o', 'e', 'e'), ('i', 'u', 'o', 'e', 'i'), ('i', 'u', 'o', 'e', 'o'), ('i', 'u', 'o', 'e', 'u'), ('i', 'u', 'o', 'i', 'a'), ('i', 'u', 'o', 'i', 'e'), ('i', 'u', 'o', 'i', 'i'), ('i', 'u', 'o', 'i', 'o'), ('i', 'u', 'o', 'i', 'u'), ('i', 'u', 'o', 'o', 'a'), ('i', 'u', 'o', 'o', 'e'), ('i', 'u', 'o', 'o', 'i'), ('i', 'u', 'o', 'o', 'o'), ('i', 'u', 'o', 'o', 'u'), ('i', 'u', 'o', 'u', 'a'), ('i', 'u', 'o', 'u', 'e'), ('i', 'u', 'o', 'u', 'i'), ('i', 'u', 'o', 'u', 'o'), ('i', 'u', 'o', 'u', 'u'), ('i', 'u', 'u', 'a', 'a'), ('i', 'u', 'u', 'a', 'e'), ('i', 'u', 'u', 'a', 'i'), ('i', 'u', 'u', 'a', 'o'), ('i', 'u', 'u', 'a', 'u'), ('i', 'u', 'u', 'e', 'a'), ('i', 'u', 'u', 'e', 'e'), ('i', 'u', 'u', 'e', 'i'), ('i', 'u', 'u', 'e', 'o'), ('i', 'u', 'u', 'e', 'u'), ('i', 'u', 'u', 'i', 'a'), ('i', 'u', 'u', 'i', 'e'), ('i', 'u', 'u', 'i', 'i'), ('i', 'u', 'u', 'i', 'o'), ('i', 'u', 'u', 'i', 'u'), ('i', 'u', 'u', 'o', 'a'), ('i', 'u', 'u', 'o', 'e'), ('i', 'u', 'u', 'o', 'i'), ('i', 'u', 'u', 'o', 'o'), ('i', 'u', 'u', 'o', 'u'), ('i', 'u', 'u', 'u', 'a'), ('i', 'u', 'u', 'u', 'e'), ('i', 'u', 'u', 'u', 'i'), ('i', 'u', 'u', 'u', 'o'), ('i', 'u', 'u', 'u', 'u'), ('o', 'a', 'a', 'a', 'a'), ('o', 'a', 'a', 'a', 'e'), ('o', 'a', 'a', 'a', 'i'), ('o', 'a', 'a', 'a', 'o'), ('o', 'a', 'a', 'a', 'u'), ('o', 'a', 'a', 'e', 'a'), ('o', 'a', 'a', 'e', 'e'), ('o', 'a', 'a', 'e', 'i'), ('o', 'a', 'a', 'e', 'o'), ('o', 'a', 'a', 'e', 'u'), ('o', 'a', 'a', 'i', 'a'), ('o', 'a', 'a', 'i', 'e'), ('o', 'a', 'a', 'i', 'i'), ('o', 'a', 'a', 'i', 'o'), ('o', 'a', 'a', 'i', 'u'), ('o', 'a', 'a', 'o', 'a'), ('o', 'a', 'a', 'o', 'e'), ('o', 'a', 'a', 'o', 'i'), ('o', 'a', 'a', 'o', 'o'), ('o', 'a', 'a', 'o', 'u'), ('o', 'a', 'a', 'u', 'a'), ('o', 'a', 'a', 'u', 'e'), ('o', 'a', 'a', 'u', 'i'), ('o', 'a', 'a', 'u', 'o'), ('o', 'a', 'a', 'u', 'u'), ('o', 'a', 'e', 'a', 'a'), ('o', 'a', 'e', 'a', 'e'), ('o', 'a', 'e', 'a', 'i'), ('o', 'a', 'e', 'a', 'o'), ('o', 'a', 'e', 'a', 'u'), ('o', 'a', 'e', 'e', 'a'), ('o', 'a', 'e', 'e', 'e'), ('o', 'a', 'e', 'e', 'i'), ('o', 'a', 'e', 'e', 'o'), ('o', 'a', 'e', 'e', 'u'), ('o', 'a', 'e', 'i', 'a'), ('o', 'a', 'e', 'i', 'e'), ('o', 'a', 'e', 'i', 'i'), ('o', 'a', 'e', 'i', 'o'), ('o', 'a', 'e', 'i', 'u'), ('o', 'a', 'e', 'o', 'a'), ('o', 'a', 'e', 'o', 'e'), ('o', 'a', 'e', 'o', 'i'), ('o', 'a', 'e', 'o', 'o'), ('o', 'a', 'e', 'o', 'u'), ('o', 'a', 'e', 'u', 'a'), ('o', 'a', 'e', 'u', 'e'), ('o', 'a', 'e', 'u', 'i'), ('o', 'a', 'e', 'u', 'o'), ('o', 'a', 'e', 'u', 'u'), ('o', 'a', 'i', 'a', 'a'), ('o', 'a', 'i', 'a', 'e'), ('o', 'a', 'i', 'a', 'i'), ('o', 'a', 'i', 'a', 'o'), ('o', 'a', 'i', 'a', 'u'), ('o', 'a', 'i', 'e', 'a'), ('o', 'a', 'i', 'e', 'e'), ('o', 'a', 'i', 'e', 'i'), ('o', 'a', 'i', 'e', 'o'), ('o', 'a', 'i', 'e', 'u'), ('o', 'a', 'i', 'i', 'a'), ('o', 'a', 'i', 'i', 'e'), ('o', 'a', 'i', 'i', 'i'), ('o', 'a', 'i', 'i', 'o'), ('o', 'a', 'i', 'i', 'u'), ('o', 'a', 'i', 'o', 'a'), ('o', 'a', 'i', 'o', 'e'), ('o', 'a', 'i', 'o', 'i'), ('o', 'a', 'i', 'o', 'o'), ('o', 'a', 'i', 'o', 'u'), ('o', 'a', 'i', 'u', 'a'), ('o', 'a', 'i', 'u', 'e'), ('o', 'a', 'i', 'u', 'i'), ('o', 'a', 'i', 'u', 'o'), ('o', 'a', 'i', 'u', 'u'), ('o', 'a', 'o', 'a', 'a'), ('o', 'a', 'o', 'a', 'e'), ('o', 'a', 'o', 'a', 'i'), ('o', 'a', 'o', 'a', 'o'), ('o', 'a', 'o', 'a', 'u'), ('o', 'a', 'o', 'e', 'a'), ('o', 'a', 'o', 'e', 'e'), ('o', 'a', 'o', 'e', 'i'), ('o', 'a', 'o', 'e', 'o'), ('o', 'a', 'o', 'e', 'u'), ('o', 'a', 'o', 'i', 'a'), ('o', 'a', 'o', 'i', 'e'), ('o', 'a', 'o', 'i', 'i'), ('o', 'a', 'o', 'i', 'o'), ('o', 'a', 'o', 'i', 'u'), ('o', 'a', 'o', 'o', 'a'), ('o', 'a', 'o', 'o', 'e'), ('o', 'a', 'o', 'o', 'i'), ('o', 'a', 'o', 'o', 'o'), ('o', 'a', 'o', 'o', 'u'), ('o', 'a', 'o', 'u', 'a'), ('o', 'a', 'o', 'u', 'e'), ('o', 'a', 'o', 'u', 'i'), ('o', 'a', 'o', 'u', 'o'), ('o', 'a', 'o', 'u', 'u'), ('o', 'a', 'u', 'a', 'a'), ('o', 'a', 'u', 'a', 'e'), ('o', 'a', 'u', 'a', 'i'), ('o', 'a', 'u', 'a', 'o'), ('o', 'a', 'u', 'a', 'u'), ('o', 'a', 'u', 'e', 'a'), ('o', 'a', 'u', 'e', 'e'), ('o', 'a', 'u', 'e', 'i'), ('o', 'a', 'u', 'e', 'o'), ('o', 'a', 'u', 'e', 'u'), ('o', 'a', 'u', 'i', 'a'), ('o', 'a', 'u', 'i', 'e'), ('o', 'a', 'u', 'i', 'i'), ('o', 'a', 'u', 'i', 'o'), ('o', 'a', 'u', 'i', 'u'), ('o', 'a', 'u', 'o', 'a'), ('o', 'a', 'u', 'o', 'e'), ('o', 'a', 'u', 'o', 'i'), ('o', 'a', 'u', 'o', 'o'), ('o', 'a', 'u', 'o', 'u'), ('o', 'a', 'u', 'u', 'a'), ('o', 'a', 'u', 'u', 'e'), ('o', 'a', 'u', 'u', 'i'), ('o', 'a', 'u', 'u', 'o'), ('o', 'a', 'u', 'u', 'u'), ('o', 'e', 'a', 'a', 'a'), ('o', 'e', 'a', 'a', 'e'), ('o', 'e', 'a', 'a', 'i'), ('o', 'e', 'a', 'a', 'o'), ('o', 'e', 'a', 'a', 'u'), ('o', 'e', 'a', 'e', 'a'), ('o', 'e', 'a', 'e', 'e'), ('o', 'e', 'a', 'e', 'i'), ('o', 'e', 'a', 'e', 'o'), ('o', 'e', 'a', 'e', 'u'), ('o', 'e', 'a', 'i', 'a'), ('o', 'e', 'a', 'i', 'e'), ('o', 'e', 'a', 'i', 'i'), ('o', 'e', 'a', 'i', 'o'), ('o', 'e', 'a', 'i', 'u'), ('o', 'e', 'a', 'o', 'a'), ('o', 'e', 'a', 'o', 'e'), ('o', 'e', 'a', 'o', 'i'), ('o', 'e', 'a', 'o', 'o'), ('o', 'e', 'a', 'o', 'u'), ('o', 'e', 'a', 'u', 'a'), ('o', 'e', 'a', 'u', 'e'), ('o', 'e', 'a', 'u', 'i'), ('o', 'e', 'a', 'u', 'o'), ('o', 'e', 'a', 'u', 'u'), ('o', 'e', 'e', 'a', 'a'), ('o', 'e', 'e', 'a', 'e'), ('o', 'e', 'e', 'a', 'i'), ('o', 'e', 'e', 'a', 'o'), ('o', 'e', 'e', 'a', 'u'), ('o', 'e', 'e', 'e', 'a'), ('o', 'e', 'e', 'e', 'e'), ('o', 'e', 'e', 'e', 'i'), ('o', 'e', 'e', 'e', 'o'), ('o', 'e', 'e', 'e', 'u'), ('o', 'e', 'e', 'i', 'a'), ('o', 'e', 'e', 'i', 'e'), ('o', 'e', 'e', 'i', 'i'), ('o', 'e', 'e', 'i', 'o'), ('o', 'e', 'e', 'i', 'u'), ('o', 'e', 'e', 'o', 'a'), ('o', 'e', 'e', 'o', 'e'), ('o', 'e', 'e', 'o', 'i'), ('o', 'e', 'e', 'o', 'o'), ('o', 'e', 'e', 'o', 'u'), ('o', 'e', 'e', 'u', 'a'), ('o', 'e', 'e', 'u', 'e'), ('o', 'e', 'e', 'u', 'i'), ('o', 'e', 'e', 'u', 'o'), ('o', 'e', 'e', 'u', 'u'), ('o', 'e', 'i', 'a', 'a'), ('o', 'e', 'i', 'a', 'e'), ('o', 'e', 'i', 'a', 'i'), ('o', 'e', 'i', 'a', 'o'), ('o', 'e', 'i', 'a', 'u'), ('o', 'e', 'i', 'e', 'a'), ('o', 'e', 'i', 'e', 'e'), ('o', 'e', 'i', 'e', 'i'), ('o', 'e', 'i', 'e', 'o'), ('o', 'e', 'i', 'e', 'u'), ('o', 'e', 'i', 'i', 'a'), ('o', 'e', 'i', 'i', 'e'), ('o', 'e', 'i', 'i', 'i'), ('o', 'e', 'i', 'i', 'o'), ('o', 'e', 'i', 'i', 'u'), ('o', 'e', 'i', 'o', 'a'), ('o', 'e', 'i', 'o', 'e'), ('o', 'e', 'i', 'o', 'i'), ('o', 'e', 'i', 'o', 'o'), ('o', 'e', 'i', 'o', 'u'), ('o', 'e', 'i', 'u', 'a'), ('o', 'e', 'i', 'u', 'e'), ('o', 'e', 'i', 'u', 'i'), ('o', 'e', 'i', 'u', 'o'), ('o', 'e', 'i', 'u', 'u'), ('o', 'e', 'o', 'a', 'a'), ('o', 'e', 'o', 'a', 'e'), ('o', 'e', 'o', 'a', 'i'), ('o', 'e', 'o', 'a', 'o'), ('o', 'e', 'o', 'a', 'u'), ('o', 'e', 'o', 'e', 'a'), ('o', 'e', 'o', 'e', 'e'), ('o', 'e', 'o', 'e', 'i'), ('o', 'e', 'o', 'e', 'o'), ('o', 'e', 'o', 'e', 'u'), ('o', 'e', 'o', 'i', 'a'), ('o', 'e', 'o', 'i', 'e'), ('o', 'e', 'o', 'i', 'i'), ('o', 'e', 'o', 'i', 'o'), ('o', 'e', 'o', 'i', 'u'), ('o', 'e', 'o', 'o', 'a'), ('o', 'e', 'o', 'o', 'e'), ('o', 'e', 'o', 'o', 'i'), ('o', 'e', 'o', 'o', 'o'), ('o', 'e', 'o', 'o', 'u'), ('o', 'e', 'o', 'u', 'a'), ('o', 'e', 'o', 'u', 'e'), ('o', 'e', 'o', 'u', 'i'), ('o', 'e', 'o', 'u', 'o'), ('o', 'e', 'o', 'u', 'u'), ('o', 'e', 'u', 'a', 'a'), ('o', 'e', 'u', 'a', 'e'), ('o', 'e', 'u', 'a', 'i'), ('o', 'e', 'u', 'a', 'o'), ('o', 'e', 'u', 'a', 'u'), ('o', 'e', 'u', 'e', 'a'), ('o', 'e', 'u', 'e', 'e'), ('o', 'e', 'u', 'e', 'i'), ('o', 'e', 'u', 'e', 'o'), ('o', 'e', 'u', 'e', 'u'), ('o', 'e', 'u', 'i', 'a'), ('o', 'e', 'u', 'i', 'e'), ('o', 'e', 'u', 'i', 'i'), ('o', 'e', 'u', 'i', 'o'), ('o', 'e', 'u', 'i', 'u'), ('o', 'e', 'u', 'o', 'a'), ('o', 'e', 'u', 'o', 'e'), ('o', 'e', 'u', 'o', 'i'), ('o', 'e', 'u', 'o', 'o'), ('o', 'e', 'u', 'o', 'u'), ('o', 'e', 'u', 'u', 'a'), ('o', 'e', 'u', 'u', 'e'), ('o', 'e', 'u', 'u', 'i'), ('o', 'e', 'u', 'u', 'o'), ('o', 'e', 'u', 'u', 'u'), ('o', 'i', 'a', 'a', 'a'), ('o', 'i', 'a', 'a', 'e'), ('o', 'i', 'a', 'a', 'i'), ('o', 'i', 'a', 'a', 'o'), ('o', 'i', 'a', 'a', 'u'), ('o', 'i', 'a', 'e', 'a'), ('o', 'i', 'a', 'e', 'e'), ('o', 'i', 'a', 'e', 'i'), ('o', 'i', 'a', 'e', 'o'), ('o', 'i', 'a', 'e', 'u'), ('o', 'i', 'a', 'i', 'a'), ('o', 'i', 'a', 'i', 'e'), ('o', 'i', 'a', 'i', 'i'), ('o', 'i', 'a', 'i', 'o'), ('o', 'i', 'a', 'i', 'u'), ('o', 'i', 'a', 'o', 'a'), ('o', 'i', 'a', 'o', 'e'), ('o', 'i', 'a', 'o', 'i'), ('o', 'i', 'a', 'o', 'o'), ('o', 'i', 'a', 'o', 'u'), ('o', 'i', 'a', 'u', 'a'), ('o', 'i', 'a', 'u', 'e'), ('o', 'i', 'a', 'u', 'i'), ('o', 'i', 'a', 'u', 'o'), ('o', 'i', 'a', 'u', 'u'), ('o', 'i', 'e', 'a', 'a'), ('o', 'i', 'e', 'a', 'e'), ('o', 'i', 'e', 'a', 'i'), ('o', 'i', 'e', 'a', 'o'), ('o', 'i', 'e', 'a', 'u'), ('o', 'i', 'e', 'e', 'a'), ('o', 'i', 'e', 'e', 'e'), ('o', 'i', 'e', 'e', 'i'), ('o', 'i', 'e', 'e', 'o'), ('o', 'i', 'e', 'e', 'u'), ('o', 'i', 'e', 'i', 'a'), ('o', 'i', 'e', 'i', 'e'), ('o', 'i', 'e', 'i', 'i'), ('o', 'i', 'e', 'i', 'o'), ('o', 'i', 'e', 'i', 'u'), ('o', 'i', 'e', 'o', 'a'), ('o', 'i', 'e', 'o', 'e'), ('o', 'i', 'e', 'o', 'i'), ('o', 'i', 'e', 'o', 'o'), ('o', 'i', 'e', 'o', 'u'), ('o', 'i', 'e', 'u', 'a'), ('o', 'i', 'e', 'u', 'e'), ('o', 'i', 'e', 'u', 'i'), ('o', 'i', 'e', 'u', 'o'), ('o', 'i', 'e', 'u', 'u'), ('o', 'i', 'i', 'a', 'a'), ('o', 'i', 'i', 'a', 'e'), ('o', 'i', 'i', 'a', 'i'), ('o', 'i', 'i', 'a', 'o'), ('o', 'i', 'i', 'a', 'u'), ('o', 'i', 'i', 'e', 'a'), ('o', 'i', 'i', 'e', 'e'), ('o', 'i', 'i', 'e', 'i'), ('o', 'i', 'i', 'e', 'o'), ('o', 'i', 'i', 'e', 'u'), ('o', 'i', 'i', 'i', 'a'), ('o', 'i', 'i', 'i', 'e'), ('o', 'i', 'i', 'i', 'i'), ('o', 'i', 'i', 'i', 'o'), ('o', 'i', 'i', 'i', 'u'), ('o', 'i', 'i', 'o', 'a'), ('o', 'i', 'i', 'o', 'e'), ('o', 'i', 'i', 'o', 'i'), ('o', 'i', 'i', 'o', 'o'), ('o', 'i', 'i', 'o', 'u'), ('o', 'i', 'i', 'u', 'a'), ('o', 'i', 'i', 'u', 'e'), ('o', 'i', 'i', 'u', 'i'), ('o', 'i', 'i', 'u', 'o'), ('o', 'i', 'i', 'u', 'u'), ('o', 'i', 'o', 'a', 'a'), ('o', 'i', 'o', 'a', 'e'), ('o', 'i', 'o', 'a', 'i'), ('o', 'i', 'o', 'a', 'o'), ('o', 'i', 'o', 'a', 'u'), ('o', 'i', 'o', 'e', 'a'), ('o', 'i', 'o', 'e', 'e'), ('o', 'i', 'o', 'e', 'i'), ('o', 'i', 'o', 'e', 'o'), ('o', 'i', 'o', 'e', 'u'), ('o', 'i', 'o', 'i', 'a'), ('o', 'i', 'o', 'i', 'e'), ('o', 'i', 'o', 'i', 'i'), ('o', 'i', 'o', 'i', 'o'), ('o', 'i', 'o', 'i', 'u'), ('o', 'i', 'o', 'o', 'a'), ('o', 'i', 'o', 'o', 'e'), ('o', 'i', 'o', 'o', 'i'), ('o', 'i', 'o', 'o', 'o'), ('o', 'i', 'o', 'o', 'u'), ('o', 'i', 'o', 'u', 'a'), ('o', 'i', 'o', 'u', 'e'), ('o', 'i', 'o', 'u', 'i'), ('o', 'i', 'o', 'u', 'o'), ('o', 'i', 'o', 'u', 'u'), ('o', 'i', 'u', 'a', 'a'), ('o', 'i', 'u', 'a', 'e'), ('o', 'i', 'u', 'a', 'i'), ('o', 'i', 'u', 'a', 'o'), ('o', 'i', 'u', 'a', 'u'), ('o', 'i', 'u', 'e', 'a'), ('o', 'i', 'u', 'e', 'e'), ('o', 'i', 'u', 'e', 'i'), ('o', 'i', 'u', 'e', 'o'), ('o', 'i', 'u', 'e', 'u'), ('o', 'i', 'u', 'i', 'a'), ('o', 'i', 'u', 'i', 'e'), ('o', 'i', 'u', 'i', 'i'), ('o', 'i', 'u', 'i', 'o'), ('o', 'i', 'u', 'i', 'u'), ('o', 'i', 'u', 'o', 'a'), ('o', 'i', 'u', 'o', 'e'), ('o', 'i', 'u', 'o', 'i'), ('o', 'i', 'u', 'o', 'o'), ('o', 'i', 'u', 'o', 'u'), ('o', 'i', 'u', 'u', 'a'), ('o', 'i', 'u', 'u', 'e'), ('o', 'i', 'u', 'u', 'i'), ('o', 'i', 'u', 'u', 'o'), ('o', 'i', 'u', 'u', 'u'), ('o', 'o', 'a', 'a', 'a'), ('o', 'o', 'a', 'a', 'e'), ('o', 'o', 'a', 'a', 'i'), ('o', 'o', 'a', 'a', 'o'), ('o', 'o', 'a', 'a', 'u'), ('o', 'o', 'a', 'e', 'a'), ('o', 'o', 'a', 'e', 'e'), ('o', 'o', 'a', 'e', 'i'), ('o', 'o', 'a', 'e', 'o'), ('o', 'o', 'a', 'e', 'u'), ('o', 'o', 'a', 'i', 'a'), ('o', 'o', 'a', 'i', 'e'), ('o', 'o', 'a', 'i', 'i'), ('o', 'o', 'a', 'i', 'o'), ('o', 'o', 'a', 'i', 'u'), ('o', 'o', 'a', 'o', 'a'), ('o', 'o', 'a', 'o', 'e'), ('o', 'o', 'a', 'o', 'i'), ('o', 'o', 'a', 'o', 'o'), ('o', 'o', 'a', 'o', 'u'), ('o', 'o', 'a', 'u', 'a'), ('o', 'o', 'a', 'u', 'e'), ('o', 'o', 'a', 'u', 'i'), ('o', 'o', 'a', 'u', 'o'), ('o', 'o', 'a', 'u', 'u'), ('o', 'o', 'e', 'a', 'a'), ('o', 'o', 'e', 'a', 'e'), ('o', 'o', 'e', 'a', 'i'), ('o', 'o', 'e', 'a', 'o'), ('o', 'o', 'e', 'a', 'u'), ('o', 'o', 'e', 'e', 'a'), ('o', 'o', 'e', 'e', 'e'), ('o', 'o', 'e', 'e', 'i'), ('o', 'o', 'e', 'e', 'o'), ('o', 'o', 'e', 'e', 'u'), ('o', 'o', 'e', 'i', 'a'), ('o', 'o', 'e', 'i', 'e'), ('o', 'o', 'e', 'i', 'i'), ('o', 'o', 'e', 'i', 'o'), ('o', 'o', 'e', 'i', 'u'), ('o', 'o', 'e', 'o', 'a'), ('o', 'o', 'e', 'o', 'e'), ('o', 'o', 'e', 'o', 'i'), ('o', 'o', 'e', 'o', 'o'), ('o', 'o', 'e', 'o', 'u'), ('o', 'o', 'e', 'u', 'a'), ('o', 'o', 'e', 'u', 'e'), ('o', 'o', 'e', 'u', 'i'), ('o', 'o', 'e', 'u', 'o'), ('o', 'o', 'e', 'u', 'u'), ('o', 'o', 'i', 'a', 'a'), ('o', 'o', 'i', 'a', 'e'), ('o', 'o', 'i', 'a', 'i'), ('o', 'o', 'i', 'a', 'o'), ('o', 'o', 'i', 'a', 'u'), ('o', 'o', 'i', 'e', 'a'), ('o', 'o', 'i', 'e', 'e'), ('o', 'o', 'i', 'e', 'i'), ('o', 'o', 'i', 'e', 'o'), ('o', 'o', 'i', 'e', 'u'), ('o', 'o', 'i', 'i', 'a'), ('o', 'o', 'i', 'i', 'e'), ('o', 'o', 'i', 'i', 'i'), ('o', 'o', 'i', 'i', 'o'), ('o', 'o', 'i', 'i', 'u'), ('o', 'o', 'i', 'o', 'a'), ('o', 'o', 'i', 'o', 'e'), ('o', 'o', 'i', 'o', 'i'), ('o', 'o', 'i', 'o', 'o'), ('o', 'o', 'i', 'o', 'u'), ('o', 'o', 'i', 'u', 'a'), ('o', 'o', 'i', 'u', 'e'), ('o', 'o', 'i', 'u', 'i'), ('o', 'o', 'i', 'u', 'o'), ('o', 'o', 'i', 'u', 'u'), ('o', 'o', 'o', 'a', 'a'), ('o', 'o', 'o', 'a', 'e'), ('o', 'o', 'o', 'a', 'i'), ('o', 'o', 'o', 'a', 'o'), ('o', 'o', 'o', 'a', 'u'), ('o', 'o', 'o', 'e', 'a'), ('o', 'o', 'o', 'e', 'e'), ('o', 'o', 'o', 'e', 'i'), ('o', 'o', 'o', 'e', 'o'), ('o', 'o', 'o', 'e', 'u'), ('o', 'o', 'o', 'i', 'a'), ('o', 'o', 'o', 'i', 'e'), ('o', 'o', 'o', 'i', 'i'), ('o', 'o', 'o', 'i', 'o'), ('o', 'o', 'o', 'i', 'u'), ('o', 'o', 'o', 'o', 'a'), ('o', 'o', 'o', 'o', 'e'), ('o', 'o', 'o', 'o', 'i'), ('o', 'o', 'o', 'o', 'o'), ('o', 'o', 'o', 'o', 'u'), ('o', 'o', 'o', 'u', 'a'), ('o', 'o', 'o', 'u', 'e'), ('o', 'o', 'o', 'u', 'i'), ('o', 'o', 'o', 'u', 'o'), ('o', 'o', 'o', 'u', 'u'), ('o', 'o', 'u', 'a', 'a'), ('o', 'o', 'u', 'a', 'e'), ('o', 'o', 'u', 'a', 'i'), ('o', 'o', 'u', 'a', 'o'), ('o', 'o', 'u', 'a', 'u'), ('o', 'o', 'u', 'e', 'a'), ('o', 'o', 'u', 'e', 'e'), ('o', 'o', 'u', 'e', 'i'), ('o', 'o', 'u', 'e', 'o'), ('o', 'o', 'u', 'e', 'u'), ('o', 'o', 'u', 'i', 'a'), ('o', 'o', 'u', 'i', 'e'), ('o', 'o', 'u', 'i', 'i'), ('o', 'o', 'u', 'i', 'o'), ('o', 'o', 'u', 'i', 'u'), ('o', 'o', 'u', 'o', 'a'), ('o', 'o', 'u', 'o', 'e'), ('o', 'o', 'u', 'o', 'i'), ('o', 'o', 'u', 'o', 'o'), ('o', 'o', 'u', 'o', 'u'), ('o', 'o', 'u', 'u', 'a'), ('o', 'o', 'u', 'u', 'e'), ('o', 'o', 'u', 'u', 'i'), ('o', 'o', 'u', 'u', 'o'), ('o', 'o', 'u', 'u', 'u'), ('o', 'u', 'a', 'a', 'a'), ('o', 'u', 'a', 'a', 'e'), ('o', 'u', 'a', 'a', 'i'), ('o', 'u', 'a', 'a', 'o'), ('o', 'u', 'a', 'a', 'u'), ('o', 'u', 'a', 'e', 'a'), ('o', 'u', 'a', 'e', 'e'), ('o', 'u', 'a', 'e', 'i'), ('o', 'u', 'a', 'e', 'o'), ('o', 'u', 'a', 'e', 'u'), ('o', 'u', 'a', 'i', 'a'), ('o', 'u', 'a', 'i', 'e'), ('o', 'u', 'a', 'i', 'i'), ('o', 'u', 'a', 'i', 'o'), ('o', 'u', 'a', 'i', 'u'), ('o', 'u', 'a', 'o', 'a'), ('o', 'u', 'a', 'o', 'e'), ('o', 'u', 'a', 'o', 'i'), ('o', 'u', 'a', 'o', 'o'), ('o', 'u', 'a', 'o', 'u'), ('o', 'u', 'a', 'u', 'a'), ('o', 'u', 'a', 'u', 'e'), ('o', 'u', 'a', 'u', 'i'), ('o', 'u', 'a', 'u', 'o'), ('o', 'u', 'a', 'u', 'u'), ('o', 'u', 'e', 'a', 'a'), ('o', 'u', 'e', 'a', 'e'), ('o', 'u', 'e', 'a', 'i'), ('o', 'u', 'e', 'a', 'o'), ('o', 'u', 'e', 'a', 'u'), ('o', 'u', 'e', 'e', 'a'), ('o', 'u', 'e', 'e', 'e'), ('o', 'u', 'e', 'e', 'i'), ('o', 'u', 'e', 'e', 'o'), ('o', 'u', 'e', 'e', 'u'), ('o', 'u', 'e', 'i', 'a'), ('o', 'u', 'e', 'i', 'e'), ('o', 'u', 'e', 'i', 'i'), ('o', 'u', 'e', 'i', 'o'), ('o', 'u', 'e', 'i', 'u'), ('o', 'u', 'e', 'o', 'a'), ('o', 'u', 'e', 'o', 'e'), ('o', 'u', 'e', 'o', 'i'), ('o', 'u', 'e', 'o', 'o'), ('o', 'u', 'e', 'o', 'u'), ('o', 'u', 'e', 'u', 'a'), ('o', 'u', 'e', 'u', 'e'), ('o', 'u', 'e', 'u', 'i'), ('o', 'u', 'e', 'u', 'o'), ('o', 'u', 'e', 'u', 'u'), ('o', 'u', 'i', 'a', 'a'), ('o', 'u', 'i', 'a', 'e'), ('o', 'u', 'i', 'a', 'i'), ('o', 'u', 'i', 'a', 'o'), ('o', 'u', 'i', 'a', 'u'), ('o', 'u', 'i', 'e', 'a'), ('o', 'u', 'i', 'e', 'e'), ('o', 'u', 'i', 'e', 'i'), ('o', 'u', 'i', 'e', 'o'), ('o', 'u', 'i', 'e', 'u'), ('o', 'u', 'i', 'i', 'a'), ('o', 'u', 'i', 'i', 'e'), ('o', 'u', 'i', 'i', 'i'), ('o', 'u', 'i', 'i', 'o'), ('o', 'u', 'i', 'i', 'u'), ('o', 'u', 'i', 'o', 'a'), ('o', 'u', 'i', 'o', 'e'), ('o', 'u', 'i', 'o', 'i'), ('o', 'u', 'i', 'o', 'o'), ('o', 'u', 'i', 'o', 'u'), ('o', 'u', 'i', 'u', 'a'), ('o', 'u', 'i', 'u', 'e'), ('o', 'u', 'i', 'u', 'i'), ('o', 'u', 'i', 'u', 'o'), ('o', 'u', 'i', 'u', 'u'), ('o', 'u', 'o', 'a', 'a'), ('o', 'u', 'o', 'a', 'e'), ('o', 'u', 'o', 'a', 'i'), ('o', 'u', 'o', 'a', 'o'), ('o', 'u', 'o', 'a', 'u'), ('o', 'u', 'o', 'e', 'a'), ('o', 'u', 'o', 'e', 'e'), ('o', 'u', 'o', 'e', 'i'), ('o', 'u', 'o', 'e', 'o'), ('o', 'u', 'o', 'e', 'u'), ('o', 'u', 'o', 'i', 'a'), ('o', 'u', 'o', 'i', 'e'), ('o', 'u', 'o', 'i', 'i'), ('o', 'u', 'o', 'i', 'o'), ('o', 'u', 'o', 'i', 'u'), ('o', 'u', 'o', 'o', 'a'), ('o', 'u', 'o', 'o', 'e'), ('o', 'u', 'o', 'o', 'i'), ('o', 'u', 'o', 'o', 'o'), ('o', 'u', 'o', 'o', 'u'), ('o', 'u', 'o', 'u', 'a'), ('o', 'u', 'o', 'u', 'e'), ('o', 'u', 'o', 'u', 'i'), ('o', 'u', 'o', 'u', 'o'), ('o', 'u', 'o', 'u', 'u'), ('o', 'u', 'u', 'a', 'a'), ('o', 'u', 'u', 'a', 'e'), ('o', 'u', 'u', 'a', 'i'), ('o', 'u', 'u', 'a', 'o'), ('o', 'u', 'u', 'a', 'u'), ('o', 'u', 'u', 'e', 'a'), ('o', 'u', 'u', 'e', 'e'), ('o', 'u', 'u', 'e', 'i'), ('o', 'u', 'u', 'e', 'o'), ('o', 'u', 'u', 'e', 'u'), ('o', 'u', 'u', 'i', 'a'), ('o', 'u', 'u', 'i', 'e'), ('o', 'u', 'u', 'i', 'i'), ('o', 'u', 'u', 'i', 'o'), ('o', 'u', 'u', 'i', 'u'), ('o', 'u', 'u', 'o', 'a'), ('o', 'u', 'u', 'o', 'e'), ('o', 'u', 'u', 'o', 'i'), ('o', 'u', 'u', 'o', 'o'), ('o', 'u', 'u', 'o', 'u'), ('o', 'u', 'u', 'u', 'a'), ('o', 'u', 'u', 'u', 'e'), ('o', 'u', 'u', 'u', 'i'), ('o', 'u', 'u', 'u', 'o'), ('o', 'u', 'u', 'u', 'u'), ('u', 'a', 'a', 'a', 'a'), ('u', 'a', 'a', 'a', 'e'), ('u', 'a', 'a', 'a', 'i'), ('u', 'a', 'a', 'a', 'o'), ('u', 'a', 'a', 'a', 'u'), ('u', 'a', 'a', 'e', 'a'), ('u', 'a', 'a', 'e', 'e'), ('u', 'a', 'a', 'e', 'i'), ('u', 'a', 'a', 'e', 'o'), ('u', 'a', 'a', 'e', 'u'), ('u', 'a', 'a', 'i', 'a'), ('u', 'a', 'a', 'i', 'e'), ('u', 'a', 'a', 'i', 'i'), ('u', 'a', 'a', 'i', 'o'), ('u', 'a', 'a', 'i', 'u'), ('u', 'a', 'a', 'o', 'a'), ('u', 'a', 'a', 'o', 'e'), ('u', 'a', 'a', 'o', 'i'), ('u', 'a', 'a', 'o', 'o'), ('u', 'a', 'a', 'o', 'u'), ('u', 'a', 'a', 'u', 'a'), ('u', 'a', 'a', 'u', 'e'), ('u', 'a', 'a', 'u', 'i'), ('u', 'a', 'a', 'u', 'o'), ('u', 'a', 'a', 'u', 'u'), ('u', 'a', 'e', 'a', 'a'), ('u', 'a', 'e', 'a', 'e'), ('u', 'a', 'e', 'a', 'i'), ('u', 'a', 'e', 'a', 'o'), ('u', 'a', 'e', 'a', 'u'), ('u', 'a', 'e', 'e', 'a'), ('u', 'a', 'e', 'e', 'e'), ('u', 'a', 'e', 'e', 'i'), ('u', 'a', 'e', 'e', 'o'), ('u', 'a', 'e', 'e', 'u'), ('u', 'a', 'e', 'i', 'a'), ('u', 'a', 'e', 'i', 'e'), ('u', 'a', 'e', 'i', 'i'), ('u', 'a', 'e', 'i', 'o'), ('u', 'a', 'e', 'i', 'u'), ('u', 'a', 'e', 'o', 'a'), ('u', 'a', 'e', 'o', 'e'), ('u', 'a', 'e', 'o', 'i'), ('u', 'a', 'e', 'o', 'o'), ('u', 'a', 'e', 'o', 'u'), ('u', 'a', 'e', 'u', 'a'), ('u', 'a', 'e', 'u', 'e'), ('u', 'a', 'e', 'u', 'i'), ('u', 'a', 'e', 'u', 'o'), ('u', 'a', 'e', 'u', 'u'), ('u', 'a', 'i', 'a', 'a'), ('u', 'a', 'i', 'a', 'e'), ('u', 'a', 'i', 'a', 'i'), ('u', 'a', 'i', 'a', 'o'), ('u', 'a', 'i', 'a', 'u'), ('u', 'a', 'i', 'e', 'a'), ('u', 'a', 'i', 'e', 'e'), ('u', 'a', 'i', 'e', 'i'), ('u', 'a', 'i', 'e', 'o'), ('u', 'a', 'i', 'e', 'u'), ('u', 'a', 'i', 'i', 'a'), ('u', 'a', 'i', 'i', 'e'), ('u', 'a', 'i', 'i', 'i'), ('u', 'a', 'i', 'i', 'o'), ('u', 'a', 'i', 'i', 'u'), ('u', 'a', 'i', 'o', 'a'), ('u', 'a', 'i', 'o', 'e'), ('u', 'a', 'i', 'o', 'i'), ('u', 'a', 'i', 'o', 'o'), ('u', 'a', 'i', 'o', 'u'), ('u', 'a', 'i', 'u', 'a'), ('u', 'a', 'i', 'u', 'e'), ('u', 'a', 'i', 'u', 'i'), ('u', 'a', 'i', 'u', 'o'), ('u', 'a', 'i', 'u', 'u'), ('u', 'a', 'o', 'a', 'a'), ('u', 'a', 'o', 'a', 'e'), ('u', 'a', 'o', 'a', 'i'), ('u', 'a', 'o', 'a', 'o'), ('u', 'a', 'o', 'a', 'u'), ('u', 'a', 'o', 'e', 'a'), ('u', 'a', 'o', 'e', 'e'), ('u', 'a', 'o', 'e', 'i'), ('u', 'a', 'o', 'e', 'o'), ('u', 'a', 'o', 'e', 'u'), ('u', 'a', 'o', 'i', 'a'), ('u', 'a', 'o', 'i', 'e'), ('u', 'a', 'o', 'i', 'i'), ('u', 'a', 'o', 'i', 'o'), ('u', 'a', 'o', 'i', 'u'), ('u', 'a', 'o', 'o', 'a'), ('u', 'a', 'o', 'o', 'e'), ('u', 'a', 'o', 'o', 'i'), ('u', 'a', 'o', 'o', 'o'), ('u', 'a', 'o', 'o', 'u'), ('u', 'a', 'o', 'u', 'a'), ('u', 'a', 'o', 'u', 'e'), ('u', 'a', 'o', 'u', 'i'), ('u', 'a', 'o', 'u', 'o'), ('u', 'a', 'o', 'u', 'u'), ('u', 'a', 'u', 'a', 'a'), ('u', 'a', 'u', 'a', 'e'), ('u', 'a', 'u', 'a', 'i'), ('u', 'a', 'u', 'a', 'o'), ('u', 'a', 'u', 'a', 'u'), ('u', 'a', 'u', 'e', 'a'), ('u', 'a', 'u', 'e', 'e'), ('u', 'a', 'u', 'e', 'i'), ('u', 'a', 'u', 'e', 'o'), ('u', 'a', 'u', 'e', 'u'), ('u', 'a', 'u', 'i', 'a'), ('u', 'a', 'u', 'i', 'e'), ('u', 'a', 'u', 'i', 'i'), ('u', 'a', 'u', 'i', 'o'), ('u', 'a', 'u', 'i', 'u'), ('u', 'a', 'u', 'o', 'a'), ('u', 'a', 'u', 'o', 'e'), ('u', 'a', 'u', 'o', 'i'), ('u', 'a', 'u', 'o', 'o'), ('u', 'a', 'u', 'o', 'u'), ('u', 'a', 'u', 'u', 'a'), ('u', 'a', 'u', 'u', 'e'), ('u', 'a', 'u', 'u', 'i'), ('u', 'a', 'u', 'u', 'o'), ('u', 'a', 'u', 'u', 'u'), ('u', 'e', 'a', 'a', 'a'), ('u', 'e', 'a', 'a', 'e'), ('u', 'e', 'a', 'a', 'i'), ('u', 'e', 'a', 'a', 'o'), ('u', 'e', 'a', 'a', 'u'), ('u', 'e', 'a', 'e', 'a'), ('u', 'e', 'a', 'e', 'e'), ('u', 'e', 'a', 'e', 'i'), ('u', 'e', 'a', 'e', 'o'), ('u', 'e', 'a', 'e', 'u'), ('u', 'e', 'a', 'i', 'a'), ('u', 'e', 'a', 'i', 'e'), ('u', 'e', 'a', 'i', 'i'), ('u', 'e', 'a', 'i', 'o'), ('u', 'e', 'a', 'i', 'u'), ('u', 'e', 'a', 'o', 'a'), ('u', 'e', 'a', 'o', 'e'), ('u', 'e', 'a', 'o', 'i'), ('u', 'e', 'a', 'o', 'o'), ('u', 'e', 'a', 'o', 'u'), ('u', 'e', 'a', 'u', 'a'), ('u', 'e', 'a', 'u', 'e'), ('u', 'e', 'a', 'u', 'i'), ('u', 'e', 'a', 'u', 'o'), ('u', 'e', 'a', 'u', 'u'), ('u', 'e', 'e', 'a', 'a'), ('u', 'e', 'e', 'a', 'e'), ('u', 'e', 'e', 'a', 'i'), ('u', 'e', 'e', 'a', 'o'), ('u', 'e', 'e', 'a', 'u'), ('u', 'e', 'e', 'e', 'a'), ('u', 'e', 'e', 'e', 'e'), ('u', 'e', 'e', 'e', 'i'), ('u', 'e', 'e', 'e', 'o'), ('u', 'e', 'e', 'e', 'u'), ('u', 'e', 'e', 'i', 'a'), ('u', 'e', 'e', 'i', 'e'), ('u', 'e', 'e', 'i', 'i'), ('u', 'e', 'e', 'i', 'o'), ('u', 'e', 'e', 'i', 'u'), ('u', 'e', 'e', 'o', 'a'), ('u', 'e', 'e', 'o', 'e'), ('u', 'e', 'e', 'o', 'i'), ('u', 'e', 'e', 'o', 'o'), ('u', 'e', 'e', 'o', 'u'), ('u', 'e', 'e', 'u', 'a'), ('u', 'e', 'e', 'u', 'e'), ('u', 'e', 'e', 'u', 'i'), ('u', 'e', 'e', 'u', 'o'), ('u', 'e', 'e', 'u', 'u'), ('u', 'e', 'i', 'a', 'a'), ('u', 'e', 'i', 'a', 'e'), ('u', 'e', 'i', 'a', 'i'), ('u', 'e', 'i', 'a', 'o'), ('u', 'e', 'i', 'a', 'u'), ('u', 'e', 'i', 'e', 'a'), ('u', 'e', 'i', 'e', 'e'), ('u', 'e', 'i', 'e', 'i'), ('u', 'e', 'i', 'e', 'o'), ('u', 'e', 'i', 'e', 'u'), ('u', 'e', 'i', 'i', 'a'), ('u', 'e', 'i', 'i', 'e'), ('u', 'e', 'i', 'i', 'i'), ('u', 'e', 'i', 'i', 'o'), ('u', 'e', 'i', 'i', 'u'), ('u', 'e', 'i', 'o', 'a'), ('u', 'e', 'i', 'o', 'e'), ('u', 'e', 'i', 'o', 'i'), ('u', 'e', 'i', 'o', 'o'), ('u', 'e', 'i', 'o', 'u'), ('u', 'e', 'i', 'u', 'a'), ('u', 'e', 'i', 'u', 'e'), ('u', 'e', 'i', 'u', 'i'), ('u', 'e', 'i', 'u', 'o'), ('u', 'e', 'i', 'u', 'u'), ('u', 'e', 'o', 'a', 'a'), ('u', 'e', 'o', 'a', 'e'), ('u', 'e', 'o', 'a', 'i'), ('u', 'e', 'o', 'a', 'o'), ('u', 'e', 'o', 'a', 'u'), ('u', 'e', 'o', 'e', 'a'), ('u', 'e', 'o', 'e', 'e'), ('u', 'e', 'o', 'e', 'i'), ('u', 'e', 'o', 'e', 'o'), ('u', 'e', 'o', 'e', 'u'), ('u', 'e', 'o', 'i', 'a'), ('u', 'e', 'o', 'i', 'e'), ('u', 'e', 'o', 'i', 'i'), ('u', 'e', 'o', 'i', 'o'), ('u', 'e', 'o', 'i', 'u'), ('u', 'e', 'o', 'o', 'a'), ('u', 'e', 'o', 'o', 'e'), ('u', 'e', 'o', 'o', 'i'), ('u', 'e', 'o', 'o', 'o'), ('u', 'e', 'o', 'o', 'u'), ('u', 'e', 'o', 'u', 'a'), ('u', 'e', 'o', 'u', 'e'), ('u', 'e', 'o', 'u', 'i'), ('u', 'e', 'o', 'u', 'o'), ('u', 'e', 'o', 'u', 'u'), ('u', 'e', 'u', 'a', 'a'), ('u', 'e', 'u', 'a', 'e'), ('u', 'e', 'u', 'a', 'i'), ('u', 'e', 'u', 'a', 'o'), ('u', 'e', 'u', 'a', 'u'), ('u', 'e', 'u', 'e', 'a'), ('u', 'e', 'u', 'e', 'e'), ('u', 'e', 'u', 'e', 'i'), ('u', 'e', 'u', 'e', 'o'), ('u', 'e', 'u', 'e', 'u'), ('u', 'e', 'u', 'i', 'a'), ('u', 'e', 'u', 'i', 'e'), ('u', 'e', 'u', 'i', 'i'), ('u', 'e', 'u', 'i', 'o'), ('u', 'e', 'u', 'i', 'u'), ('u', 'e', 'u', 'o', 'a'), ('u', 'e', 'u', 'o', 'e'), ('u', 'e', 'u', 'o', 'i'), ('u', 'e', 'u', 'o', 'o'), ('u', 'e', 'u', 'o', 'u'), ('u', 'e', 'u', 'u', 'a'), ('u', 'e', 'u', 'u', 'e'), ('u', 'e', 'u', 'u', 'i'), ('u', 'e', 'u', 'u', 'o'), ('u', 'e', 'u', 'u', 'u'), ('u', 'i', 'a', 'a', 'a'), ('u', 'i', 'a', 'a', 'e'), ('u', 'i', 'a', 'a', 'i'), ('u', 'i', 'a', 'a', 'o'), ('u', 'i', 'a', 'a', 'u'), ('u', 'i', 'a', 'e', 'a'), ('u', 'i', 'a', 'e', 'e'), ('u', 'i', 'a', 'e', 'i'), ('u', 'i', 'a', 'e', 'o'), ('u', 'i', 'a', 'e', 'u'), ('u', 'i', 'a', 'i', 'a'), ('u', 'i', 'a', 'i', 'e'), ('u', 'i', 'a', 'i', 'i'), ('u', 'i', 'a', 'i', 'o'), ('u', 'i', 'a', 'i', 'u'), ('u', 'i', 'a', 'o', 'a'), ('u', 'i', 'a', 'o', 'e'), ('u', 'i', 'a', 'o', 'i'), ('u', 'i', 'a', 'o', 'o'), ('u', 'i', 'a', 'o', 'u'), ('u', 'i', 'a', 'u', 'a'), ('u', 'i', 'a', 'u', 'e'), ('u', 'i', 'a', 'u', 'i'), ('u', 'i', 'a', 'u', 'o'), ('u', 'i', 'a', 'u', 'u'), ('u', 'i', 'e', 'a', 'a'), ('u', 'i', 'e', 'a', 'e'), ('u', 'i', 'e', 'a', 'i'), ('u', 'i', 'e', 'a', 'o'), ('u', 'i', 'e', 'a', 'u'), ('u', 'i', 'e', 'e', 'a'), ('u', 'i', 'e', 'e', 'e'), ('u', 'i', 'e', 'e', 'i'), ('u', 'i', 'e', 'e', 'o'), ('u', 'i', 'e', 'e', 'u'), ('u', 'i', 'e', 'i', 'a'), ('u', 'i', 'e', 'i', 'e'), ('u', 'i', 'e', 'i', 'i'), ('u', 'i', 'e', 'i', 'o'), ('u', 'i', 'e', 'i', 'u'), ('u', 'i', 'e', 'o', 'a'), ('u', 'i', 'e', 'o', 'e'), ('u', 'i', 'e', 'o', 'i'), ('u', 'i', 'e', 'o', 'o'), ('u', 'i', 'e', 'o', 'u'), ('u', 'i', 'e', 'u', 'a'), ('u', 'i', 'e', 'u', 'e'), ('u', 'i', 'e', 'u', 'i'), ('u', 'i', 'e', 'u', 'o'), ('u', 'i', 'e', 'u', 'u'), ('u', 'i', 'i', 'a', 'a'), ('u', 'i', 'i', 'a', 'e'), ('u', 'i', 'i', 'a', 'i'), ('u', 'i', 'i', 'a', 'o'), ('u', 'i', 'i', 'a', 'u'), ('u', 'i', 'i', 'e', 'a'), ('u', 'i', 'i', 'e', 'e'), ('u', 'i', 'i', 'e', 'i'), ('u', 'i', 'i', 'e', 'o'), ('u', 'i', 'i', 'e', 'u'), ('u', 'i', 'i', 'i', 'a'), ('u', 'i', 'i', 'i', 'e'), ('u', 'i', 'i', 'i', 'i'), ('u', 'i', 'i', 'i', 'o'), ('u', 'i', 'i', 'i', 'u'), ('u', 'i', 'i', 'o', 'a'), ('u', 'i', 'i', 'o', 'e'), ('u', 'i', 'i', 'o', 'i'), ('u', 'i', 'i', 'o', 'o'), ('u', 'i', 'i', 'o', 'u'), ('u', 'i', 'i', 'u', 'a'), ('u', 'i', 'i', 'u', 'e'), ('u', 'i', 'i', 'u', 'i'), ('u', 'i', 'i', 'u', 'o'), ('u', 'i', 'i', 'u', 'u'), ('u', 'i', 'o', 'a', 'a'), ('u', 'i', 'o', 'a', 'e'), ('u', 'i', 'o', 'a', 'i'), ('u', 'i', 'o', 'a', 'o'), ('u', 'i', 'o', 'a', 'u'), ('u', 'i', 'o', 'e', 'a'), ('u', 'i', 'o', 'e', 'e'), ('u', 'i', 'o', 'e', 'i'), ('u', 'i', 'o', 'e', 'o'), ('u', 'i', 'o', 'e', 'u'), ('u', 'i', 'o', 'i', 'a'), ('u', 'i', 'o', 'i', 'e'), ('u', 'i', 'o', 'i', 'i'), ('u', 'i', 'o', 'i', 'o'), ('u', 'i', 'o', 'i', 'u'), ('u', 'i', 'o', 'o', 'a'), ('u', 'i', 'o', 'o', 'e'), ('u', 'i', 'o', 'o', 'i'), ('u', 'i', 'o', 'o', 'o'), ('u', 'i', 'o', 'o', 'u'), ('u', 'i', 'o', 'u', 'a'), ('u', 'i', 'o', 'u', 'e'), ('u', 'i', 'o', 'u', 'i'), ('u', 'i', 'o', 'u', 'o'), ('u', 'i', 'o', 'u', 'u'), ('u', 'i', 'u', 'a', 'a'), ('u', 'i', 'u', 'a', 'e'), ('u', 'i', 'u', 'a', 'i'), ('u', 'i', 'u', 'a', 'o'), ('u', 'i', 'u', 'a', 'u'), ('u', 'i', 'u', 'e', 'a'), ('u', 'i', 'u', 'e', 'e'), ('u', 'i', 'u', 'e', 'i'), ('u', 'i', 'u', 'e', 'o'), ('u', 'i', 'u', 'e', 'u'), ('u', 'i', 'u', 'i', 'a'), ('u', 'i', 'u', 'i', 'e'), ('u', 'i', 'u', 'i', 'i'), ('u', 'i', 'u', 'i', 'o'), ('u', 'i', 'u', 'i', 'u'), ('u', 'i', 'u', 'o', 'a'), ('u', 'i', 'u', 'o', 'e'), ('u', 'i', 'u', 'o', 'i'), ('u', 'i', 'u', 'o', 'o'), ('u', 'i', 'u', 'o', 'u'), ('u', 'i', 'u', 'u', 'a'), ('u', 'i', 'u', 'u', 'e'), ('u', 'i', 'u', 'u', 'i'), ('u', 'i', 'u', 'u', 'o'), ('u', 'i', 'u', 'u', 'u'), ('u', 'o', 'a', 'a', 'a'), ('u', 'o', 'a', 'a', 'e'), ('u', 'o', 'a', 'a', 'i'), ('u', 'o', 'a', 'a', 'o'), ('u', 'o', 'a', 'a', 'u'), ('u', 'o', 'a', 'e', 'a'), ('u', 'o', 'a', 'e', 'e'), ('u', 'o', 'a', 'e', 'i'), ('u', 'o', 'a', 'e', 'o'), ('u', 'o', 'a', 'e', 'u'), ('u', 'o', 'a', 'i', 'a'), ('u', 'o', 'a', 'i', 'e'), ('u', 'o', 'a', 'i', 'i'), ('u', 'o', 'a', 'i', 'o'), ('u', 'o', 'a', 'i', 'u'), ('u', 'o', 'a', 'o', 'a'), ('u', 'o', 'a', 'o', 'e'), ('u', 'o', 'a', 'o', 'i'), ('u', 'o', 'a', 'o', 'o'), ('u', 'o', 'a', 'o', 'u'), ('u', 'o', 'a', 'u', 'a'), ('u', 'o', 'a', 'u', 'e'), ('u', 'o', 'a', 'u', 'i'), ('u', 'o', 'a', 'u', 'o'), ('u', 'o', 'a', 'u', 'u'), ('u', 'o', 'e', 'a', 'a'), ('u', 'o', 'e', 'a', 'e'), ('u', 'o', 'e', 'a', 'i'), ('u', 'o', 'e', 'a', 'o'), ('u', 'o', 'e', 'a', 'u'), ('u', 'o', 'e', 'e', 'a'), ('u', 'o', 'e', 'e', 'e'), ('u', 'o', 'e', 'e', 'i'), ('u', 'o', 'e', 'e', 'o'), ('u', 'o', 'e', 'e', 'u'), ('u', 'o', 'e', 'i', 'a'), ('u', 'o', 'e', 'i', 'e'), ('u', 'o', 'e', 'i', 'i'), ('u', 'o', 'e', 'i', 'o'), ('u', 'o', 'e', 'i', 'u'), ('u', 'o', 'e', 'o', 'a'), ('u', 'o', 'e', 'o', 'e'), ('u', 'o', 'e', 'o', 'i'), ('u', 'o', 'e', 'o', 'o'), ('u', 'o', 'e', 'o', 'u'), ('u', 'o', 'e', 'u', 'a'), ('u', 'o', 'e', 'u', 'e'), ('u', 'o', 'e', 'u', 'i'), ('u', 'o', 'e', 'u', 'o'), ('u', 'o', 'e', 'u', 'u'), ('u', 'o', 'i', 'a', 'a'), ('u', 'o', 'i', 'a', 'e'), ('u', 'o', 'i', 'a', 'i'), ('u', 'o', 'i', 'a', 'o'), ('u', 'o', 'i', 'a', 'u'), ('u', 'o', 'i', 'e', 'a'), ('u', 'o', 'i', 'e', 'e'), ('u', 'o', 'i', 'e', 'i'), ('u', 'o', 'i', 'e', 'o'), ('u', 'o', 'i', 'e', 'u'), ('u', 'o', 'i', 'i', 'a'), ('u', 'o', 'i', 'i', 'e'), ('u', 'o', 'i', 'i', 'i'), ('u', 'o', 'i', 'i', 'o'), ('u', 'o', 'i', 'i', 'u'), ('u', 'o', 'i', 'o', 'a'), ('u', 'o', 'i', 'o', 'e'), ('u', 'o', 'i', 'o', 'i'), ('u', 'o', 'i', 'o', 'o'), ('u', 'o', 'i', 'o', 'u'), ('u', 'o', 'i', 'u', 'a'), ('u', 'o', 'i', 'u', 'e'), ('u', 'o', 'i', 'u', 'i'), ('u', 'o', 'i', 'u', 'o'), ('u', 'o', 'i', 'u', 'u'), ('u', 'o', 'o', 'a', 'a'), ('u', 'o', 'o', 'a', 'e'), ('u', 'o', 'o', 'a', 'i'), ('u', 'o', 'o', 'a', 'o'), ('u', 'o', 'o', 'a', 'u'), ('u', 'o', 'o', 'e', 'a'), ('u', 'o', 'o', 'e', 'e'), ('u', 'o', 'o', 'e', 'i'), ('u', 'o', 'o', 'e', 'o'), ('u', 'o', 'o', 'e', 'u'), ('u', 'o', 'o', 'i', 'a'), ('u', 'o', 'o', 'i', 'e'), ('u', 'o', 'o', 'i', 'i'), ('u', 'o', 'o', 'i', 'o'), ('u', 'o', 'o', 'i', 'u'), ('u', 'o', 'o', 'o', 'a'), ('u', 'o', 'o', 'o', 'e'), ('u', 'o', 'o', 'o', 'i'), ('u', 'o', 'o', 'o', 'o'), ('u', 'o', 'o', 'o', 'u'), ('u', 'o', 'o', 'u', 'a'), ('u', 'o', 'o', 'u', 'e'), ('u', 'o', 'o', 'u', 'i'), ('u', 'o', 'o', 'u', 'o'), ('u', 'o', 'o', 'u', 'u'), ('u', 'o', 'u', 'a', 'a'), ('u', 'o', 'u', 'a', 'e'), ('u', 'o', 'u', 'a', 'i'), ('u', 'o', 'u', 'a', 'o'), ('u', 'o', 'u', 'a', 'u'), ('u', 'o', 'u', 'e', 'a'), ('u', 'o', 'u', 'e', 'e'), ('u', 'o', 'u', 'e', 'i'), ('u', 'o', 'u', 'e', 'o'), ('u', 'o', 'u', 'e', 'u'), ('u', 'o', 'u', 'i', 'a'), ('u', 'o', 'u', 'i', 'e'), ('u', 'o', 'u', 'i', 'i'), ('u', 'o', 'u', 'i', 'o'), ('u', 'o', 'u', 'i', 'u'), ('u', 'o', 'u', 'o', 'a'), ('u', 'o', 'u', 'o', 'e'), ('u', 'o', 'u', 'o', 'i'), ('u', 'o', 'u', 'o', 'o'), ('u', 'o', 'u', 'o', 'u'), ('u', 'o', 'u', 'u', 'a'), ('u', 'o', 'u', 'u', 'e'), ('u', 'o', 'u', 'u', 'i'), ('u', 'o', 'u', 'u', 'o'), ('u', 'o', 'u', 'u', 'u'), ('u', 'u', 'a', 'a', 'a'), ('u', 'u', 'a', 'a', 'e'), ('u', 'u', 'a', 'a', 'i'), ('u', 'u', 'a', 'a', 'o'), ('u', 'u', 'a', 'a', 'u'), ('u', 'u', 'a', 'e', 'a'), ('u', 'u', 'a', 'e', 'e'), ('u', 'u', 'a', 'e', 'i'), ('u', 'u', 'a', 'e', 'o'), ('u', 'u', 'a', 'e', 'u'), ('u', 'u', 'a', 'i', 'a'), ('u', 'u', 'a', 'i', 'e'), ('u', 'u', 'a', 'i', 'i'), ('u', 'u', 'a', 'i', 'o'), ('u', 'u', 'a', 'i', 'u'), ('u', 'u', 'a', 'o', 'a'), ('u', 'u', 'a', 'o', 'e'), ('u', 'u', 'a', 'o', 'i'), ('u', 'u', 'a', 'o', 'o'), ('u', 'u', 'a', 'o', 'u'), ('u', 'u', 'a', 'u', 'a'), ('u', 'u', 'a', 'u', 'e'), ('u', 'u', 'a', 'u', 'i'), ('u', 'u', 'a', 'u', 'o'), ('u', 'u', 'a', 'u', 'u'), ('u', 'u', 'e', 'a', 'a'), ('u', 'u', 'e', 'a', 'e'), ('u', 'u', 'e', 'a', 'i'), ('u', 'u', 'e', 'a', 'o'), ('u', 'u', 'e', 'a', 'u'), ('u', 'u', 'e', 'e', 'a'), ('u', 'u', 'e', 'e', 'e'), ('u', 'u', 'e', 'e', 'i'), ('u', 'u', 'e', 'e', 'o'), ('u', 'u', 'e', 'e', 'u'), ('u', 'u', 'e', 'i', 'a'), ('u', 'u', 'e', 'i', 'e'), ('u', 'u', 'e', 'i', 'i'), ('u', 'u', 'e', 'i', 'o'), ('u', 'u', 'e', 'i', 'u'), ('u', 'u', 'e', 'o', 'a'), ('u', 'u', 'e', 'o', 'e'), ('u', 'u', 'e', 'o', 'i'), ('u', 'u', 'e', 'o', 'o'), ('u', 'u', 'e', 'o', 'u'), ('u', 'u', 'e', 'u', 'a'), ('u', 'u', 'e', 'u', 'e'), ('u', 'u', 'e', 'u', 'i'), ('u', 'u', 'e', 'u', 'o'), ('u', 'u', 'e', 'u', 'u'), ('u', 'u', 'i', 'a', 'a'), ('u', 'u', 'i', 'a', 'e'), ('u', 'u', 'i', 'a', 'i'), ('u', 'u', 'i', 'a', 'o'), ('u', 'u', 'i', 'a', 'u'), ('u', 'u', 'i', 'e', 'a'), ('u', 'u', 'i', 'e', 'e'), ('u', 'u', 'i', 'e', 'i'), ('u', 'u', 'i', 'e', 'o'), ('u', 'u', 'i', 'e', 'u'), ('u', 'u', 'i', 'i', 'a'), ('u', 'u', 'i', 'i', 'e'), ('u', 'u', 'i', 'i', 'i'), ('u', 'u', 'i', 'i', 'o'), ('u', 'u', 'i', 'i', 'u'), ('u', 'u', 'i', 'o', 'a'), ('u', 'u', 'i', 'o', 'e'), ('u', 'u', 'i', 'o', 'i'), ('u', 'u', 'i', 'o', 'o'), ('u', 'u', 'i', 'o', 'u'), ('u', 'u', 'i', 'u', 'a'), ('u', 'u', 'i', 'u', 'e'), ('u', 'u', 'i', 'u', 'i'), ('u', 'u', 'i', 'u', 'o'), ('u', 'u', 'i', 'u', 'u'), ('u', 'u', 'o', 'a', 'a'), ('u', 'u', 'o', 'a', 'e'), ('u', 'u', 'o', 'a', 'i'), ('u', 'u', 'o', 'a', 'o'), ('u', 'u', 'o', 'a', 'u'), ('u', 'u', 'o', 'e', 'a'), ('u', 'u', 'o', 'e', 'e'), ('u', 'u', 'o', 'e', 'i'), ('u', 'u', 'o', 'e', 'o'), ('u', 'u', 'o', 'e', 'u'), ('u', 'u', 'o', 'i', 'a'), ('u', 'u', 'o', 'i', 'e'), ('u', 'u', 'o', 'i', 'i'), ('u', 'u', 'o', 'i', 'o'), ('u', 'u', 'o', 'i', 'u'), ('u', 'u', 'o', 'o', 'a'), ('u', 'u', 'o', 'o', 'e'), ('u', 'u', 'o', 'o', 'i'), ('u', 'u', 'o', 'o', 'o'), ('u', 'u', 'o', 'o', 'u'), ('u', 'u', 'o', 'u', 'a'), ('u', 'u', 'o', 'u', 'e'), ('u', 'u', 'o', 'u', 'i'), ('u', 'u', 'o', 'u', 'o'), ('u', 'u', 'o', 'u', 'u'), ('u', 'u', 'u', 'a', 'a'), ('u', 'u', 'u', 'a', 'e'), ('u', 'u', 'u', 'a', 'i'), ('u', 'u', 'u', 'a', 'o'), ('u', 'u', 'u', 'a', 'u'), ('u', 'u', 'u', 'e', 'a'), ('u', 'u', 'u', 'e', 'e'), ('u', 'u', 'u', 'e', 'i'), ('u', 'u', 'u', 'e', 'o'), ('u', 'u', 'u', 'e', 'u'), ('u', 'u', 'u', 'i', 'a'), ('u', 'u', 'u', 'i', 'e'), ('u', 'u', 'u', 'i', 'i'), ('u', 'u', 'u', 'i', 'o'), ('u', 'u', 'u', 'i', 'u'), ('u', 'u', 'u', 'o', 'a'), ('u', 'u', 'u', 'o', 'e'), ('u', 'u', 'u', 'o', 'i'), ('u', 'u', 'u', 'o', 'o'), ('u', 'u', 'u', 'o', 'u'), ('u', 'u', 'u', 'u', 'a'), ('u', 'u', 'u', 'u', 'e'), ('u', 'u', 'u', 'u', 'i'), ('u', 'u', 'u', 'u', 'o'), ('u', 'u', 'u', 'u', 'u')]\n",
            "3125\n",
            "('e', 'a', 'a', 'a', 'a')\n",
            "('e', 'a', 'a', 'a', 'i')\n",
            "('e', 'a', 'a', 'a', 'u')\n",
            "('e', 'a', 'a', 'e', 'e')\n",
            "('e', 'a', 'a', 'e', 'o')\n",
            "('e', 'a', 'a', 'i', 'a')\n",
            "('e', 'a', 'a', 'i', 'i')\n",
            "('e', 'a', 'a', 'i', 'u')\n",
            "('e', 'a', 'a', 'o', 'e')\n",
            "('e', 'a', 'a', 'o', 'o')\n",
            "('e', 'a', 'a', 'u', 'a')\n",
            "('e', 'a', 'a', 'u', 'i')\n",
            "('e', 'a', 'a', 'u', 'u')\n",
            "('e', 'a', 'e', 'a', 'e')\n",
            "('e', 'a', 'e', 'a', 'o')\n",
            "('e', 'a', 'e', 'e', 'a')\n",
            "('e', 'a', 'e', 'e', 'i')\n",
            "('e', 'a', 'e', 'e', 'u')\n",
            "('e', 'a', 'e', 'i', 'e')\n",
            "('e', 'a', 'e', 'i', 'o')\n",
            "('e', 'a', 'e', 'o', 'a')\n",
            "('e', 'a', 'e', 'o', 'i')\n",
            "('e', 'a', 'e', 'o', 'u')\n",
            "('e', 'a', 'e', 'u', 'e')\n",
            "('e', 'a', 'e', 'u', 'o')\n",
            "('e', 'a', 'i', 'a', 'a')\n",
            "('e', 'a', 'i', 'a', 'i')\n",
            "('e', 'a', 'i', 'a', 'u')\n",
            "('e', 'a', 'i', 'e', 'e')\n",
            "('e', 'a', 'i', 'e', 'o')\n",
            "('e', 'a', 'i', 'i', 'a')\n",
            "('e', 'a', 'i', 'i', 'i')\n",
            "('e', 'a', 'i', 'i', 'u')\n",
            "('e', 'a', 'i', 'o', 'e')\n",
            "('e', 'a', 'i', 'o', 'o')\n",
            "('e', 'a', 'i', 'u', 'a')\n",
            "('e', 'a', 'i', 'u', 'i')\n",
            "('e', 'a', 'i', 'u', 'u')\n",
            "('e', 'a', 'o', 'a', 'e')\n",
            "('e', 'a', 'o', 'a', 'o')\n",
            "('e', 'a', 'o', 'e', 'a')\n",
            "('e', 'a', 'o', 'e', 'i')\n",
            "('e', 'a', 'o', 'e', 'u')\n",
            "('e', 'a', 'o', 'i', 'e')\n",
            "('e', 'a', 'o', 'i', 'o')\n",
            "('e', 'a', 'o', 'o', 'a')\n",
            "('e', 'a', 'o', 'o', 'i')\n",
            "('e', 'a', 'o', 'o', 'u')\n",
            "('e', 'a', 'o', 'u', 'e')\n",
            "('e', 'a', 'o', 'u', 'o')\n",
            "('e', 'a', 'u', 'a', 'a')\n",
            "('e', 'a', 'u', 'a', 'i')\n",
            "('e', 'a', 'u', 'a', 'u')\n",
            "('e', 'a', 'u', 'e', 'e')\n",
            "('e', 'a', 'u', 'e', 'o')\n",
            "('e', 'a', 'u', 'i', 'a')\n",
            "('e', 'a', 'u', 'i', 'i')\n",
            "('e', 'a', 'u', 'i', 'u')\n",
            "('e', 'a', 'u', 'o', 'e')\n",
            "('e', 'a', 'u', 'o', 'o')\n",
            "('e', 'a', 'u', 'u', 'a')\n",
            "('e', 'a', 'u', 'u', 'i')\n",
            "('e', 'a', 'u', 'u', 'u')\n",
            "('i', 'a', 'a', 'a', 'a')\n",
            "('i', 'a', 'a', 'a', 'i')\n",
            "('i', 'a', 'a', 'a', 'u')\n",
            "('i', 'a', 'a', 'e', 'e')\n",
            "('i', 'a', 'a', 'e', 'o')\n",
            "('i', 'a', 'a', 'i', 'a')\n",
            "('i', 'a', 'a', 'i', 'i')\n",
            "('i', 'a', 'a', 'i', 'u')\n",
            "('i', 'a', 'a', 'o', 'e')\n",
            "('i', 'a', 'a', 'o', 'o')\n",
            "('i', 'a', 'a', 'u', 'a')\n",
            "('i', 'a', 'a', 'u', 'i')\n",
            "('i', 'a', 'a', 'u', 'u')\n",
            "('i', 'a', 'e', 'a', 'e')\n",
            "('i', 'a', 'e', 'a', 'o')\n",
            "('i', 'a', 'e', 'e', 'a')\n",
            "('i', 'a', 'e', 'e', 'i')\n",
            "('i', 'a', 'e', 'e', 'u')\n",
            "('i', 'a', 'e', 'i', 'e')\n",
            "('i', 'a', 'e', 'i', 'o')\n",
            "('i', 'a', 'e', 'o', 'a')\n",
            "('i', 'a', 'e', 'o', 'i')\n",
            "('i', 'a', 'e', 'o', 'u')\n",
            "('i', 'a', 'e', 'u', 'e')\n",
            "('i', 'a', 'e', 'u', 'o')\n",
            "('i', 'a', 'i', 'a', 'a')\n",
            "('i', 'a', 'i', 'a', 'i')\n",
            "('i', 'a', 'i', 'a', 'u')\n",
            "('i', 'a', 'i', 'e', 'e')\n",
            "('i', 'a', 'i', 'e', 'o')\n",
            "('i', 'a', 'i', 'i', 'a')\n",
            "('i', 'a', 'i', 'i', 'i')\n",
            "('i', 'a', 'i', 'i', 'u')\n",
            "('i', 'a', 'i', 'o', 'e')\n",
            "('i', 'a', 'i', 'o', 'o')\n",
            "('i', 'a', 'i', 'u', 'a')\n",
            "('i', 'a', 'i', 'u', 'i')\n",
            "('i', 'a', 'i', 'u', 'u')\n",
            "('i', 'a', 'o', 'a', 'e')\n",
            "('i', 'a', 'o', 'a', 'o')\n",
            "('i', 'a', 'o', 'e', 'a')\n",
            "('i', 'a', 'o', 'e', 'i')\n",
            "('i', 'a', 'o', 'e', 'u')\n",
            "('i', 'a', 'o', 'i', 'e')\n",
            "('i', 'a', 'o', 'i', 'o')\n",
            "('i', 'a', 'o', 'o', 'a')\n",
            "('i', 'a', 'o', 'o', 'i')\n",
            "('i', 'a', 'o', 'o', 'u')\n",
            "('i', 'a', 'o', 'u', 'e')\n",
            "('i', 'a', 'o', 'u', 'o')\n",
            "('i', 'a', 'u', 'a', 'a')\n",
            "('i', 'a', 'u', 'a', 'i')\n",
            "('i', 'a', 'u', 'a', 'u')\n",
            "('i', 'a', 'u', 'e', 'e')\n",
            "('i', 'a', 'u', 'e', 'o')\n",
            "('i', 'a', 'u', 'i', 'a')\n",
            "('i', 'a', 'u', 'i', 'i')\n",
            "('i', 'a', 'u', 'i', 'u')\n",
            "('i', 'a', 'u', 'o', 'e')\n",
            "('i', 'a', 'u', 'o', 'o')\n",
            "('i', 'a', 'u', 'u', 'a')\n",
            "('i', 'a', 'u', 'u', 'i')\n",
            "('i', 'a', 'u', 'u', 'u')\n",
            "('i', 'e', 'a', 'a', 'e')\n",
            "('i', 'e', 'a', 'a', 'o')\n",
            "('i', 'e', 'a', 'e', 'a')\n",
            "('i', 'e', 'a', 'e', 'i')\n",
            "('i', 'e', 'a', 'e', 'u')\n",
            "('i', 'e', 'a', 'i', 'e')\n",
            "('i', 'e', 'a', 'i', 'o')\n",
            "('i', 'e', 'a', 'o', 'a')\n",
            "('i', 'e', 'a', 'o', 'i')\n",
            "('i', 'e', 'a', 'o', 'u')\n",
            "('i', 'e', 'a', 'u', 'e')\n",
            "('i', 'e', 'a', 'u', 'o')\n",
            "('i', 'e', 'e', 'a', 'a')\n",
            "('i', 'e', 'e', 'a', 'i')\n",
            "('i', 'e', 'e', 'a', 'u')\n",
            "('i', 'e', 'e', 'e', 'e')\n",
            "('i', 'e', 'e', 'e', 'o')\n",
            "('i', 'e', 'e', 'i', 'a')\n",
            "('i', 'e', 'e', 'i', 'i')\n",
            "('i', 'e', 'e', 'i', 'u')\n",
            "('i', 'e', 'e', 'o', 'e')\n",
            "('i', 'e', 'e', 'o', 'o')\n",
            "('i', 'e', 'e', 'u', 'a')\n",
            "('i', 'e', 'e', 'u', 'i')\n",
            "('i', 'e', 'e', 'u', 'u')\n",
            "('i', 'e', 'i', 'a', 'e')\n",
            "('i', 'e', 'i', 'a', 'o')\n",
            "('i', 'e', 'i', 'e', 'a')\n",
            "('i', 'e', 'i', 'e', 'i')\n",
            "('i', 'e', 'i', 'e', 'u')\n",
            "('i', 'e', 'i', 'i', 'e')\n",
            "('i', 'e', 'i', 'i', 'o')\n",
            "('i', 'e', 'i', 'o', 'a')\n",
            "('i', 'e', 'i', 'o', 'i')\n",
            "('i', 'e', 'i', 'o', 'u')\n",
            "('i', 'e', 'i', 'u', 'e')\n",
            "('i', 'e', 'i', 'u', 'o')\n",
            "('i', 'e', 'o', 'a', 'a')\n",
            "('i', 'e', 'o', 'a', 'i')\n",
            "('i', 'e', 'o', 'a', 'u')\n",
            "('i', 'e', 'o', 'e', 'e')\n",
            "('i', 'e', 'o', 'e', 'o')\n",
            "('i', 'e', 'o', 'i', 'a')\n",
            "('i', 'e', 'o', 'i', 'i')\n",
            "('i', 'e', 'o', 'i', 'u')\n",
            "('i', 'e', 'o', 'o', 'e')\n",
            "('i', 'e', 'o', 'o', 'o')\n",
            "('i', 'e', 'o', 'u', 'a')\n",
            "('i', 'e', 'o', 'u', 'i')\n",
            "('i', 'e', 'o', 'u', 'u')\n",
            "('i', 'e', 'u', 'a', 'e')\n",
            "('i', 'e', 'u', 'a', 'o')\n",
            "('i', 'e', 'u', 'e', 'a')\n",
            "('i', 'e', 'u', 'e', 'i')\n",
            "('i', 'e', 'u', 'e', 'u')\n",
            "('i', 'e', 'u', 'i', 'e')\n",
            "('i', 'e', 'u', 'i', 'o')\n",
            "('i', 'e', 'u', 'o', 'a')\n",
            "('i', 'e', 'u', 'o', 'i')\n",
            "('i', 'e', 'u', 'o', 'u')\n",
            "('i', 'e', 'u', 'u', 'e')\n",
            "('i', 'e', 'u', 'u', 'o')\n",
            "('o', 'a', 'a', 'a', 'a')\n",
            "('o', 'a', 'a', 'a', 'i')\n",
            "('o', 'a', 'a', 'a', 'u')\n",
            "('o', 'a', 'a', 'e', 'e')\n",
            "('o', 'a', 'a', 'e', 'o')\n",
            "('o', 'a', 'a', 'i', 'a')\n",
            "('o', 'a', 'a', 'i', 'i')\n",
            "('o', 'a', 'a', 'i', 'u')\n",
            "('o', 'a', 'a', 'o', 'e')\n",
            "('o', 'a', 'a', 'o', 'o')\n",
            "('o', 'a', 'a', 'u', 'a')\n",
            "('o', 'a', 'a', 'u', 'i')\n",
            "('o', 'a', 'a', 'u', 'u')\n",
            "('o', 'a', 'e', 'a', 'e')\n",
            "('o', 'a', 'e', 'a', 'o')\n",
            "('o', 'a', 'e', 'e', 'a')\n",
            "('o', 'a', 'e', 'e', 'i')\n",
            "('o', 'a', 'e', 'e', 'u')\n",
            "('o', 'a', 'e', 'i', 'e')\n",
            "('o', 'a', 'e', 'i', 'o')\n",
            "('o', 'a', 'e', 'o', 'a')\n",
            "('o', 'a', 'e', 'o', 'i')\n",
            "('o', 'a', 'e', 'o', 'u')\n",
            "('o', 'a', 'e', 'u', 'e')\n",
            "('o', 'a', 'e', 'u', 'o')\n",
            "('o', 'a', 'i', 'a', 'a')\n",
            "('o', 'a', 'i', 'a', 'i')\n",
            "('o', 'a', 'i', 'a', 'u')\n",
            "('o', 'a', 'i', 'e', 'e')\n",
            "('o', 'a', 'i', 'e', 'o')\n",
            "('o', 'a', 'i', 'i', 'a')\n",
            "('o', 'a', 'i', 'i', 'i')\n",
            "('o', 'a', 'i', 'i', 'u')\n",
            "('o', 'a', 'i', 'o', 'e')\n",
            "('o', 'a', 'i', 'o', 'o')\n",
            "('o', 'a', 'i', 'u', 'a')\n",
            "('o', 'a', 'i', 'u', 'i')\n",
            "('o', 'a', 'i', 'u', 'u')\n",
            "('o', 'a', 'o', 'a', 'e')\n",
            "('o', 'a', 'o', 'a', 'o')\n",
            "('o', 'a', 'o', 'e', 'a')\n",
            "('o', 'a', 'o', 'e', 'i')\n",
            "('o', 'a', 'o', 'e', 'u')\n",
            "('o', 'a', 'o', 'i', 'e')\n",
            "('o', 'a', 'o', 'i', 'o')\n",
            "('o', 'a', 'o', 'o', 'a')\n",
            "('o', 'a', 'o', 'o', 'i')\n",
            "('o', 'a', 'o', 'o', 'u')\n",
            "('o', 'a', 'o', 'u', 'e')\n",
            "('o', 'a', 'o', 'u', 'o')\n",
            "('o', 'a', 'u', 'a', 'a')\n",
            "('o', 'a', 'u', 'a', 'i')\n",
            "('o', 'a', 'u', 'a', 'u')\n",
            "('o', 'a', 'u', 'e', 'e')\n",
            "('o', 'a', 'u', 'e', 'o')\n",
            "('o', 'a', 'u', 'i', 'a')\n",
            "('o', 'a', 'u', 'i', 'i')\n",
            "('o', 'a', 'u', 'i', 'u')\n",
            "('o', 'a', 'u', 'o', 'e')\n",
            "('o', 'a', 'u', 'o', 'o')\n",
            "('o', 'a', 'u', 'u', 'a')\n",
            "('o', 'a', 'u', 'u', 'i')\n",
            "('o', 'a', 'u', 'u', 'u')\n",
            "('o', 'e', 'a', 'a', 'e')\n",
            "('o', 'e', 'a', 'a', 'o')\n",
            "('o', 'e', 'a', 'e', 'a')\n",
            "('o', 'e', 'a', 'e', 'i')\n",
            "('o', 'e', 'a', 'e', 'u')\n",
            "('o', 'e', 'a', 'i', 'e')\n",
            "('o', 'e', 'a', 'i', 'o')\n",
            "('o', 'e', 'a', 'o', 'a')\n",
            "('o', 'e', 'a', 'o', 'i')\n",
            "('o', 'e', 'a', 'o', 'u')\n",
            "('o', 'e', 'a', 'u', 'e')\n",
            "('o', 'e', 'a', 'u', 'o')\n",
            "('o', 'e', 'e', 'a', 'a')\n",
            "('o', 'e', 'e', 'a', 'i')\n",
            "('o', 'e', 'e', 'a', 'u')\n",
            "('o', 'e', 'e', 'e', 'e')\n",
            "('o', 'e', 'e', 'e', 'o')\n",
            "('o', 'e', 'e', 'i', 'a')\n",
            "('o', 'e', 'e', 'i', 'i')\n",
            "('o', 'e', 'e', 'i', 'u')\n",
            "('o', 'e', 'e', 'o', 'e')\n",
            "('o', 'e', 'e', 'o', 'o')\n",
            "('o', 'e', 'e', 'u', 'a')\n",
            "('o', 'e', 'e', 'u', 'i')\n",
            "('o', 'e', 'e', 'u', 'u')\n",
            "('o', 'e', 'i', 'a', 'e')\n",
            "('o', 'e', 'i', 'a', 'o')\n",
            "('o', 'e', 'i', 'e', 'a')\n",
            "('o', 'e', 'i', 'e', 'i')\n",
            "('o', 'e', 'i', 'e', 'u')\n",
            "('o', 'e', 'i', 'i', 'e')\n",
            "('o', 'e', 'i', 'i', 'o')\n",
            "('o', 'e', 'i', 'o', 'a')\n",
            "('o', 'e', 'i', 'o', 'i')\n",
            "('o', 'e', 'i', 'o', 'u')\n",
            "('o', 'e', 'i', 'u', 'e')\n",
            "('o', 'e', 'i', 'u', 'o')\n",
            "('o', 'e', 'o', 'a', 'a')\n",
            "('o', 'e', 'o', 'a', 'i')\n",
            "('o', 'e', 'o', 'a', 'u')\n",
            "('o', 'e', 'o', 'e', 'e')\n",
            "('o', 'e', 'o', 'e', 'o')\n",
            "('o', 'e', 'o', 'i', 'a')\n",
            "('o', 'e', 'o', 'i', 'i')\n",
            "('o', 'e', 'o', 'i', 'u')\n",
            "('o', 'e', 'o', 'o', 'e')\n",
            "('o', 'e', 'o', 'o', 'o')\n",
            "('o', 'e', 'o', 'u', 'a')\n",
            "('o', 'e', 'o', 'u', 'i')\n",
            "('o', 'e', 'o', 'u', 'u')\n",
            "('o', 'e', 'u', 'a', 'e')\n",
            "('o', 'e', 'u', 'a', 'o')\n",
            "('o', 'e', 'u', 'e', 'a')\n",
            "('o', 'e', 'u', 'e', 'i')\n",
            "('o', 'e', 'u', 'e', 'u')\n",
            "('o', 'e', 'u', 'i', 'e')\n",
            "('o', 'e', 'u', 'i', 'o')\n",
            "('o', 'e', 'u', 'o', 'a')\n",
            "('o', 'e', 'u', 'o', 'i')\n",
            "('o', 'e', 'u', 'o', 'u')\n",
            "('o', 'e', 'u', 'u', 'e')\n",
            "('o', 'e', 'u', 'u', 'o')\n",
            "('o', 'i', 'a', 'a', 'a')\n",
            "('o', 'i', 'a', 'a', 'i')\n",
            "('o', 'i', 'a', 'a', 'u')\n",
            "('o', 'i', 'a', 'e', 'e')\n",
            "('o', 'i', 'a', 'e', 'o')\n",
            "('o', 'i', 'a', 'i', 'a')\n",
            "('o', 'i', 'a', 'i', 'i')\n",
            "('o', 'i', 'a', 'i', 'u')\n",
            "('o', 'i', 'a', 'o', 'e')\n",
            "('o', 'i', 'a', 'o', 'o')\n",
            "('o', 'i', 'a', 'u', 'a')\n",
            "('o', 'i', 'a', 'u', 'i')\n",
            "('o', 'i', 'a', 'u', 'u')\n",
            "('o', 'i', 'e', 'a', 'e')\n",
            "('o', 'i', 'e', 'a', 'o')\n",
            "('o', 'i', 'e', 'e', 'a')\n",
            "('o', 'i', 'e', 'e', 'i')\n",
            "('o', 'i', 'e', 'e', 'u')\n",
            "('o', 'i', 'e', 'i', 'e')\n",
            "('o', 'i', 'e', 'i', 'o')\n",
            "('o', 'i', 'e', 'o', 'a')\n",
            "('o', 'i', 'e', 'o', 'i')\n",
            "('o', 'i', 'e', 'o', 'u')\n",
            "('o', 'i', 'e', 'u', 'e')\n",
            "('o', 'i', 'e', 'u', 'o')\n",
            "('o', 'i', 'i', 'a', 'a')\n",
            "('o', 'i', 'i', 'a', 'i')\n",
            "('o', 'i', 'i', 'a', 'u')\n",
            "('o', 'i', 'i', 'e', 'e')\n",
            "('o', 'i', 'i', 'e', 'o')\n",
            "('o', 'i', 'i', 'i', 'a')\n",
            "('o', 'i', 'i', 'i', 'i')\n",
            "('o', 'i', 'i', 'i', 'u')\n",
            "('o', 'i', 'i', 'o', 'e')\n",
            "('o', 'i', 'i', 'o', 'o')\n",
            "('o', 'i', 'i', 'u', 'a')\n",
            "('o', 'i', 'i', 'u', 'i')\n",
            "('o', 'i', 'i', 'u', 'u')\n",
            "('o', 'i', 'o', 'a', 'e')\n",
            "('o', 'i', 'o', 'a', 'o')\n",
            "('o', 'i', 'o', 'e', 'a')\n",
            "('o', 'i', 'o', 'e', 'i')\n",
            "('o', 'i', 'o', 'e', 'u')\n",
            "('o', 'i', 'o', 'i', 'e')\n",
            "('o', 'i', 'o', 'i', 'o')\n",
            "('o', 'i', 'o', 'o', 'a')\n",
            "('o', 'i', 'o', 'o', 'i')\n",
            "('o', 'i', 'o', 'o', 'u')\n",
            "('o', 'i', 'o', 'u', 'e')\n",
            "('o', 'i', 'o', 'u', 'o')\n",
            "('o', 'i', 'u', 'a', 'a')\n",
            "('o', 'i', 'u', 'a', 'i')\n",
            "('o', 'i', 'u', 'a', 'u')\n",
            "('o', 'i', 'u', 'e', 'e')\n",
            "('o', 'i', 'u', 'e', 'o')\n",
            "('o', 'i', 'u', 'i', 'a')\n",
            "('o', 'i', 'u', 'i', 'i')\n",
            "('o', 'i', 'u', 'i', 'u')\n",
            "('o', 'i', 'u', 'o', 'e')\n",
            "('o', 'i', 'u', 'o', 'o')\n",
            "('o', 'i', 'u', 'u', 'a')\n",
            "('o', 'i', 'u', 'u', 'i')\n",
            "('o', 'i', 'u', 'u', 'u')\n",
            "('u', 'a', 'a', 'a', 'a')\n",
            "('u', 'a', 'a', 'a', 'i')\n",
            "('u', 'a', 'a', 'a', 'u')\n",
            "('u', 'a', 'a', 'e', 'e')\n",
            "('u', 'a', 'a', 'e', 'o')\n",
            "('u', 'a', 'a', 'i', 'a')\n",
            "('u', 'a', 'a', 'i', 'i')\n",
            "('u', 'a', 'a', 'i', 'u')\n",
            "('u', 'a', 'a', 'o', 'e')\n",
            "('u', 'a', 'a', 'o', 'o')\n",
            "('u', 'a', 'a', 'u', 'a')\n",
            "('u', 'a', 'a', 'u', 'i')\n",
            "('u', 'a', 'a', 'u', 'u')\n",
            "('u', 'a', 'e', 'a', 'e')\n",
            "('u', 'a', 'e', 'a', 'o')\n",
            "('u', 'a', 'e', 'e', 'a')\n",
            "('u', 'a', 'e', 'e', 'i')\n",
            "('u', 'a', 'e', 'e', 'u')\n",
            "('u', 'a', 'e', 'i', 'e')\n",
            "('u', 'a', 'e', 'i', 'o')\n",
            "('u', 'a', 'e', 'o', 'a')\n",
            "('u', 'a', 'e', 'o', 'i')\n",
            "('u', 'a', 'e', 'o', 'u')\n",
            "('u', 'a', 'e', 'u', 'e')\n",
            "('u', 'a', 'e', 'u', 'o')\n",
            "('u', 'a', 'i', 'a', 'a')\n",
            "('u', 'a', 'i', 'a', 'i')\n",
            "('u', 'a', 'i', 'a', 'u')\n",
            "('u', 'a', 'i', 'e', 'e')\n",
            "('u', 'a', 'i', 'e', 'o')\n",
            "('u', 'a', 'i', 'i', 'a')\n",
            "('u', 'a', 'i', 'i', 'i')\n",
            "('u', 'a', 'i', 'i', 'u')\n",
            "('u', 'a', 'i', 'o', 'e')\n",
            "('u', 'a', 'i', 'o', 'o')\n",
            "('u', 'a', 'i', 'u', 'a')\n",
            "('u', 'a', 'i', 'u', 'i')\n",
            "('u', 'a', 'i', 'u', 'u')\n",
            "('u', 'a', 'o', 'a', 'e')\n",
            "('u', 'a', 'o', 'a', 'o')\n",
            "('u', 'a', 'o', 'e', 'a')\n",
            "('u', 'a', 'o', 'e', 'i')\n",
            "('u', 'a', 'o', 'e', 'u')\n",
            "('u', 'a', 'o', 'i', 'e')\n",
            "('u', 'a', 'o', 'i', 'o')\n",
            "('u', 'a', 'o', 'o', 'a')\n",
            "('u', 'a', 'o', 'o', 'i')\n",
            "('u', 'a', 'o', 'o', 'u')\n",
            "('u', 'a', 'o', 'u', 'e')\n",
            "('u', 'a', 'o', 'u', 'o')\n",
            "('u', 'a', 'u', 'a', 'a')\n",
            "('u', 'a', 'u', 'a', 'i')\n",
            "('u', 'a', 'u', 'a', 'u')\n",
            "('u', 'a', 'u', 'e', 'e')\n",
            "('u', 'a', 'u', 'e', 'o')\n",
            "('u', 'a', 'u', 'i', 'a')\n",
            "('u', 'a', 'u', 'i', 'i')\n",
            "('u', 'a', 'u', 'i', 'u')\n",
            "('u', 'a', 'u', 'o', 'e')\n",
            "('u', 'a', 'u', 'o', 'o')\n",
            "('u', 'a', 'u', 'u', 'a')\n",
            "('u', 'a', 'u', 'u', 'i')\n",
            "('u', 'a', 'u', 'u', 'u')\n",
            "('u', 'e', 'a', 'a', 'e')\n",
            "('u', 'e', 'a', 'a', 'o')\n",
            "('u', 'e', 'a', 'e', 'a')\n",
            "('u', 'e', 'a', 'e', 'i')\n",
            "('u', 'e', 'a', 'e', 'u')\n",
            "('u', 'e', 'a', 'i', 'e')\n",
            "('u', 'e', 'a', 'i', 'o')\n",
            "('u', 'e', 'a', 'o', 'a')\n",
            "('u', 'e', 'a', 'o', 'i')\n",
            "('u', 'e', 'a', 'o', 'u')\n",
            "('u', 'e', 'a', 'u', 'e')\n",
            "('u', 'e', 'a', 'u', 'o')\n",
            "('u', 'e', 'e', 'a', 'a')\n",
            "('u', 'e', 'e', 'a', 'i')\n",
            "('u', 'e', 'e', 'a', 'u')\n",
            "('u', 'e', 'e', 'e', 'e')\n",
            "('u', 'e', 'e', 'e', 'o')\n",
            "('u', 'e', 'e', 'i', 'a')\n",
            "('u', 'e', 'e', 'i', 'i')\n",
            "('u', 'e', 'e', 'i', 'u')\n",
            "('u', 'e', 'e', 'o', 'e')\n",
            "('u', 'e', 'e', 'o', 'o')\n",
            "('u', 'e', 'e', 'u', 'a')\n",
            "('u', 'e', 'e', 'u', 'i')\n",
            "('u', 'e', 'e', 'u', 'u')\n",
            "('u', 'e', 'i', 'a', 'e')\n",
            "('u', 'e', 'i', 'a', 'o')\n",
            "('u', 'e', 'i', 'e', 'a')\n",
            "('u', 'e', 'i', 'e', 'i')\n",
            "('u', 'e', 'i', 'e', 'u')\n",
            "('u', 'e', 'i', 'i', 'e')\n",
            "('u', 'e', 'i', 'i', 'o')\n",
            "('u', 'e', 'i', 'o', 'a')\n",
            "('u', 'e', 'i', 'o', 'i')\n",
            "('u', 'e', 'i', 'o', 'u')\n",
            "('u', 'e', 'i', 'u', 'e')\n",
            "('u', 'e', 'i', 'u', 'o')\n",
            "('u', 'e', 'o', 'a', 'a')\n",
            "('u', 'e', 'o', 'a', 'i')\n",
            "('u', 'e', 'o', 'a', 'u')\n",
            "('u', 'e', 'o', 'e', 'e')\n",
            "('u', 'e', 'o', 'e', 'o')\n",
            "('u', 'e', 'o', 'i', 'a')\n",
            "('u', 'e', 'o', 'i', 'i')\n",
            "('u', 'e', 'o', 'i', 'u')\n",
            "('u', 'e', 'o', 'o', 'e')\n",
            "('u', 'e', 'o', 'o', 'o')\n",
            "('u', 'e', 'o', 'u', 'a')\n",
            "('u', 'e', 'o', 'u', 'i')\n",
            "('u', 'e', 'o', 'u', 'u')\n",
            "('u', 'e', 'u', 'a', 'e')\n",
            "('u', 'e', 'u', 'a', 'o')\n",
            "('u', 'e', 'u', 'e', 'a')\n",
            "('u', 'e', 'u', 'e', 'i')\n",
            "('u', 'e', 'u', 'e', 'u')\n",
            "('u', 'e', 'u', 'i', 'e')\n",
            "('u', 'e', 'u', 'i', 'o')\n",
            "('u', 'e', 'u', 'o', 'a')\n",
            "('u', 'e', 'u', 'o', 'i')\n",
            "('u', 'e', 'u', 'o', 'u')\n",
            "('u', 'e', 'u', 'u', 'e')\n",
            "('u', 'e', 'u', 'u', 'o')\n",
            "('u', 'i', 'a', 'a', 'a')\n",
            "('u', 'i', 'a', 'a', 'i')\n",
            "('u', 'i', 'a', 'a', 'u')\n",
            "('u', 'i', 'a', 'e', 'e')\n",
            "('u', 'i', 'a', 'e', 'o')\n",
            "('u', 'i', 'a', 'i', 'a')\n",
            "('u', 'i', 'a', 'i', 'i')\n",
            "('u', 'i', 'a', 'i', 'u')\n",
            "('u', 'i', 'a', 'o', 'e')\n",
            "('u', 'i', 'a', 'o', 'o')\n",
            "('u', 'i', 'a', 'u', 'a')\n",
            "('u', 'i', 'a', 'u', 'i')\n",
            "('u', 'i', 'a', 'u', 'u')\n",
            "('u', 'i', 'e', 'a', 'e')\n",
            "('u', 'i', 'e', 'a', 'o')\n",
            "('u', 'i', 'e', 'e', 'a')\n",
            "('u', 'i', 'e', 'e', 'i')\n",
            "('u', 'i', 'e', 'e', 'u')\n",
            "('u', 'i', 'e', 'i', 'e')\n",
            "('u', 'i', 'e', 'i', 'o')\n",
            "('u', 'i', 'e', 'o', 'a')\n",
            "('u', 'i', 'e', 'o', 'i')\n",
            "('u', 'i', 'e', 'o', 'u')\n",
            "('u', 'i', 'e', 'u', 'e')\n",
            "('u', 'i', 'e', 'u', 'o')\n",
            "('u', 'i', 'i', 'a', 'a')\n",
            "('u', 'i', 'i', 'a', 'i')\n",
            "('u', 'i', 'i', 'a', 'u')\n",
            "('u', 'i', 'i', 'e', 'e')\n",
            "('u', 'i', 'i', 'e', 'o')\n",
            "('u', 'i', 'i', 'i', 'a')\n",
            "('u', 'i', 'i', 'i', 'i')\n",
            "('u', 'i', 'i', 'i', 'u')\n",
            "('u', 'i', 'i', 'o', 'e')\n",
            "('u', 'i', 'i', 'o', 'o')\n",
            "('u', 'i', 'i', 'u', 'a')\n",
            "('u', 'i', 'i', 'u', 'i')\n",
            "('u', 'i', 'i', 'u', 'u')\n",
            "('u', 'i', 'o', 'a', 'e')\n",
            "('u', 'i', 'o', 'a', 'o')\n",
            "('u', 'i', 'o', 'e', 'a')\n",
            "('u', 'i', 'o', 'e', 'i')\n",
            "('u', 'i', 'o', 'e', 'u')\n",
            "('u', 'i', 'o', 'i', 'e')\n",
            "('u', 'i', 'o', 'i', 'o')\n",
            "('u', 'i', 'o', 'o', 'a')\n",
            "('u', 'i', 'o', 'o', 'i')\n",
            "('u', 'i', 'o', 'o', 'u')\n",
            "('u', 'i', 'o', 'u', 'e')\n",
            "('u', 'i', 'o', 'u', 'o')\n",
            "('u', 'i', 'u', 'a', 'a')\n",
            "('u', 'i', 'u', 'a', 'i')\n",
            "('u', 'i', 'u', 'a', 'u')\n",
            "('u', 'i', 'u', 'e', 'e')\n",
            "('u', 'i', 'u', 'e', 'o')\n",
            "('u', 'i', 'u', 'i', 'a')\n",
            "('u', 'i', 'u', 'i', 'i')\n",
            "('u', 'i', 'u', 'i', 'u')\n",
            "('u', 'i', 'u', 'o', 'e')\n",
            "('u', 'i', 'u', 'o', 'o')\n",
            "('u', 'i', 'u', 'u', 'a')\n",
            "('u', 'i', 'u', 'u', 'i')\n",
            "('u', 'i', 'u', 'u', 'u')\n",
            "('u', 'o', 'a', 'a', 'e')\n",
            "('u', 'o', 'a', 'a', 'o')\n",
            "('u', 'o', 'a', 'e', 'a')\n",
            "('u', 'o', 'a', 'e', 'i')\n",
            "('u', 'o', 'a', 'e', 'u')\n",
            "('u', 'o', 'a', 'i', 'e')\n",
            "('u', 'o', 'a', 'i', 'o')\n",
            "('u', 'o', 'a', 'o', 'a')\n",
            "('u', 'o', 'a', 'o', 'i')\n",
            "('u', 'o', 'a', 'o', 'u')\n",
            "('u', 'o', 'a', 'u', 'e')\n",
            "('u', 'o', 'a', 'u', 'o')\n",
            "('u', 'o', 'e', 'a', 'a')\n",
            "('u', 'o', 'e', 'a', 'i')\n",
            "('u', 'o', 'e', 'a', 'u')\n",
            "('u', 'o', 'e', 'e', 'e')\n",
            "('u', 'o', 'e', 'e', 'o')\n",
            "('u', 'o', 'e', 'i', 'a')\n",
            "('u', 'o', 'e', 'i', 'i')\n",
            "('u', 'o', 'e', 'i', 'u')\n",
            "('u', 'o', 'e', 'o', 'e')\n",
            "('u', 'o', 'e', 'o', 'o')\n",
            "('u', 'o', 'e', 'u', 'a')\n",
            "('u', 'o', 'e', 'u', 'i')\n",
            "('u', 'o', 'e', 'u', 'u')\n",
            "('u', 'o', 'i', 'a', 'e')\n",
            "('u', 'o', 'i', 'a', 'o')\n",
            "('u', 'o', 'i', 'e', 'a')\n",
            "('u', 'o', 'i', 'e', 'i')\n",
            "('u', 'o', 'i', 'e', 'u')\n",
            "('u', 'o', 'i', 'i', 'e')\n",
            "('u', 'o', 'i', 'i', 'o')\n",
            "('u', 'o', 'i', 'o', 'a')\n",
            "('u', 'o', 'i', 'o', 'i')\n",
            "('u', 'o', 'i', 'o', 'u')\n",
            "('u', 'o', 'i', 'u', 'e')\n",
            "('u', 'o', 'i', 'u', 'o')\n",
            "('u', 'o', 'o', 'a', 'a')\n",
            "('u', 'o', 'o', 'a', 'i')\n",
            "('u', 'o', 'o', 'a', 'u')\n",
            "('u', 'o', 'o', 'e', 'e')\n",
            "('u', 'o', 'o', 'e', 'o')\n",
            "('u', 'o', 'o', 'i', 'a')\n",
            "('u', 'o', 'o', 'i', 'i')\n",
            "('u', 'o', 'o', 'i', 'u')\n",
            "('u', 'o', 'o', 'o', 'e')\n",
            "('u', 'o', 'o', 'o', 'o')\n",
            "('u', 'o', 'o', 'u', 'a')\n",
            "('u', 'o', 'o', 'u', 'i')\n",
            "('u', 'o', 'o', 'u', 'u')\n",
            "('u', 'o', 'u', 'a', 'e')\n",
            "('u', 'o', 'u', 'a', 'o')\n",
            "('u', 'o', 'u', 'e', 'a')\n",
            "('u', 'o', 'u', 'e', 'i')\n",
            "('u', 'o', 'u', 'e', 'u')\n",
            "('u', 'o', 'u', 'i', 'e')\n",
            "('u', 'o', 'u', 'i', 'o')\n",
            "('u', 'o', 'u', 'o', 'a')\n",
            "('u', 'o', 'u', 'o', 'i')\n",
            "('u', 'o', 'u', 'o', 'u')\n",
            "('u', 'o', 'u', 'u', 'e')\n",
            "('u', 'o', 'u', 'u', 'o')\n",
            "('e', 'a', 'a', 'a', 'e')\n",
            "('e', 'a', 'a', 'e', 'a')\n",
            "('e', 'a', 'a', 'e', 'u')\n",
            "('e', 'a', 'a', 'i', 'o')\n",
            "('e', 'a', 'a', 'o', 'i')\n",
            "('e', 'a', 'a', 'u', 'e')\n",
            "('e', 'a', 'e', 'a', 'a')\n",
            "('e', 'a', 'e', 'a', 'u')\n",
            "('e', 'a', 'e', 'e', 'o')\n",
            "('e', 'a', 'e', 'i', 'i')\n",
            "('e', 'a', 'e', 'o', 'e')\n",
            "('e', 'a', 'e', 'u', 'a')\n",
            "('e', 'a', 'e', 'u', 'u')\n",
            "('e', 'a', 'i', 'a', 'o')\n",
            "('e', 'a', 'i', 'e', 'i')\n",
            "('e', 'a', 'i', 'i', 'e')\n",
            "('e', 'a', 'i', 'o', 'a')\n",
            "('e', 'a', 'i', 'o', 'u')\n",
            "('e', 'a', 'i', 'u', 'o')\n",
            "('e', 'a', 'o', 'a', 'i')\n",
            "('e', 'a', 'o', 'e', 'e')\n",
            "('e', 'a', 'o', 'i', 'a')\n",
            "('e', 'a', 'o', 'i', 'u')\n",
            "('e', 'a', 'o', 'o', 'o')\n",
            "('e', 'a', 'o', 'u', 'i')\n",
            "('e', 'a', 'u', 'a', 'e')\n",
            "('e', 'a', 'u', 'e', 'a')\n",
            "('e', 'a', 'u', 'e', 'u')\n",
            "('e', 'a', 'u', 'i', 'o')\n",
            "('e', 'a', 'u', 'o', 'i')\n",
            "('e', 'a', 'u', 'u', 'e')\n",
            "('i', 'a', 'a', 'a', 'e')\n",
            "('i', 'a', 'a', 'e', 'a')\n",
            "('i', 'a', 'a', 'e', 'u')\n",
            "('i', 'a', 'a', 'i', 'o')\n",
            "('i', 'a', 'a', 'o', 'i')\n",
            "('i', 'a', 'a', 'u', 'e')\n",
            "('i', 'a', 'e', 'a', 'a')\n",
            "('i', 'a', 'e', 'a', 'u')\n",
            "('i', 'a', 'e', 'e', 'o')\n",
            "('i', 'a', 'e', 'i', 'i')\n",
            "('i', 'a', 'e', 'o', 'e')\n",
            "('i', 'a', 'e', 'u', 'a')\n",
            "('i', 'a', 'e', 'u', 'u')\n",
            "('i', 'a', 'i', 'a', 'o')\n",
            "('i', 'a', 'i', 'e', 'i')\n",
            "('i', 'a', 'i', 'i', 'e')\n",
            "('i', 'a', 'i', 'o', 'a')\n",
            "('i', 'a', 'i', 'o', 'u')\n",
            "('i', 'a', 'i', 'u', 'o')\n",
            "('i', 'a', 'o', 'a', 'i')\n",
            "('i', 'a', 'o', 'e', 'e')\n",
            "('i', 'a', 'o', 'i', 'a')\n",
            "('i', 'a', 'o', 'i', 'u')\n",
            "('i', 'a', 'o', 'o', 'o')\n",
            "('i', 'a', 'o', 'u', 'i')\n",
            "('i', 'a', 'u', 'a', 'e')\n",
            "('i', 'a', 'u', 'e', 'a')\n",
            "('i', 'a', 'u', 'e', 'u')\n",
            "('i', 'a', 'u', 'i', 'o')\n",
            "('i', 'a', 'u', 'o', 'i')\n",
            "('i', 'a', 'u', 'u', 'e')\n",
            "('i', 'e', 'a', 'a', 'a')\n",
            "('i', 'e', 'a', 'a', 'u')\n",
            "('i', 'e', 'a', 'e', 'o')\n",
            "('i', 'e', 'a', 'i', 'i')\n",
            "('i', 'e', 'a', 'o', 'e')\n",
            "('i', 'e', 'a', 'u', 'a')\n",
            "('i', 'e', 'a', 'u', 'u')\n",
            "('i', 'e', 'e', 'a', 'o')\n",
            "('i', 'e', 'e', 'e', 'i')\n",
            "('i', 'e', 'e', 'i', 'e')\n",
            "('i', 'e', 'e', 'o', 'a')\n",
            "('i', 'e', 'e', 'o', 'u')\n",
            "('i', 'e', 'e', 'u', 'o')\n",
            "('i', 'e', 'i', 'a', 'i')\n",
            "('i', 'e', 'i', 'e', 'e')\n",
            "('i', 'e', 'i', 'i', 'a')\n",
            "('i', 'e', 'i', 'i', 'u')\n",
            "('i', 'e', 'i', 'o', 'o')\n",
            "('i', 'e', 'i', 'u', 'i')\n",
            "('i', 'e', 'o', 'a', 'e')\n",
            "('i', 'e', 'o', 'e', 'a')\n",
            "('i', 'e', 'o', 'e', 'u')\n",
            "('i', 'e', 'o', 'i', 'o')\n",
            "('i', 'e', 'o', 'o', 'i')\n",
            "('i', 'e', 'o', 'u', 'e')\n",
            "('i', 'e', 'u', 'a', 'a')\n",
            "('i', 'e', 'u', 'a', 'u')\n",
            "('i', 'e', 'u', 'e', 'o')\n",
            "('i', 'e', 'u', 'i', 'i')\n",
            "('i', 'e', 'u', 'o', 'e')\n",
            "('i', 'e', 'u', 'u', 'a')\n",
            "('i', 'e', 'u', 'u', 'u')\n",
            "('o', 'a', 'a', 'a', 'e')\n",
            "('o', 'a', 'a', 'e', 'a')\n",
            "('o', 'a', 'a', 'e', 'u')\n",
            "('o', 'a', 'a', 'i', 'o')\n",
            "('o', 'a', 'a', 'o', 'i')\n",
            "('o', 'a', 'a', 'u', 'e')\n",
            "('o', 'a', 'e', 'a', 'a')\n",
            "('o', 'a', 'e', 'a', 'u')\n",
            "('o', 'a', 'e', 'e', 'o')\n",
            "('o', 'a', 'e', 'i', 'i')\n",
            "('o', 'a', 'e', 'o', 'e')\n",
            "('o', 'a', 'e', 'u', 'a')\n",
            "('o', 'a', 'e', 'u', 'u')\n",
            "('o', 'a', 'i', 'a', 'o')\n",
            "('o', 'a', 'i', 'e', 'i')\n",
            "('o', 'a', 'i', 'i', 'e')\n",
            "('o', 'a', 'i', 'o', 'a')\n",
            "('o', 'a', 'i', 'o', 'u')\n",
            "('o', 'a', 'i', 'u', 'o')\n",
            "('o', 'a', 'o', 'a', 'i')\n",
            "('o', 'a', 'o', 'e', 'e')\n",
            "('o', 'a', 'o', 'i', 'a')\n",
            "('o', 'a', 'o', 'i', 'u')\n",
            "('o', 'a', 'o', 'o', 'o')\n",
            "('o', 'a', 'o', 'u', 'i')\n",
            "('o', 'a', 'u', 'a', 'e')\n",
            "('o', 'a', 'u', 'e', 'a')\n",
            "('o', 'a', 'u', 'e', 'u')\n",
            "('o', 'a', 'u', 'i', 'o')\n",
            "('o', 'a', 'u', 'o', 'i')\n",
            "('o', 'a', 'u', 'u', 'e')\n",
            "('o', 'e', 'a', 'a', 'a')\n",
            "('o', 'e', 'a', 'a', 'u')\n",
            "('o', 'e', 'a', 'e', 'o')\n",
            "('o', 'e', 'a', 'i', 'i')\n",
            "('o', 'e', 'a', 'o', 'e')\n",
            "('o', 'e', 'a', 'u', 'a')\n",
            "('o', 'e', 'a', 'u', 'u')\n",
            "('o', 'e', 'e', 'a', 'o')\n",
            "('o', 'e', 'e', 'e', 'i')\n",
            "('o', 'e', 'e', 'i', 'e')\n",
            "('o', 'e', 'e', 'o', 'a')\n",
            "('o', 'e', 'e', 'o', 'u')\n",
            "('o', 'e', 'e', 'u', 'o')\n",
            "('o', 'e', 'i', 'a', 'i')\n",
            "('o', 'e', 'i', 'e', 'e')\n",
            "('o', 'e', 'i', 'i', 'a')\n",
            "('o', 'e', 'i', 'i', 'u')\n",
            "('o', 'e', 'i', 'o', 'o')\n",
            "('o', 'e', 'i', 'u', 'i')\n",
            "('o', 'e', 'o', 'a', 'e')\n",
            "('o', 'e', 'o', 'e', 'a')\n",
            "('o', 'e', 'o', 'e', 'u')\n",
            "('o', 'e', 'o', 'i', 'o')\n",
            "('o', 'e', 'o', 'o', 'i')\n",
            "('o', 'e', 'o', 'u', 'e')\n",
            "('o', 'e', 'u', 'a', 'a')\n",
            "('o', 'e', 'u', 'a', 'u')\n",
            "('o', 'e', 'u', 'e', 'o')\n",
            "('o', 'e', 'u', 'i', 'i')\n",
            "('o', 'e', 'u', 'o', 'e')\n",
            "('o', 'e', 'u', 'u', 'a')\n",
            "('o', 'e', 'u', 'u', 'u')\n",
            "('o', 'i', 'a', 'a', 'o')\n",
            "('o', 'i', 'a', 'e', 'i')\n",
            "('o', 'i', 'a', 'i', 'e')\n",
            "('o', 'i', 'a', 'o', 'a')\n",
            "('o', 'i', 'a', 'o', 'u')\n",
            "('o', 'i', 'a', 'u', 'o')\n",
            "('o', 'i', 'e', 'a', 'i')\n",
            "('o', 'i', 'e', 'e', 'e')\n",
            "('o', 'i', 'e', 'i', 'a')\n",
            "('o', 'i', 'e', 'i', 'u')\n",
            "('o', 'i', 'e', 'o', 'o')\n",
            "('o', 'i', 'e', 'u', 'i')\n",
            "('o', 'i', 'i', 'a', 'e')\n",
            "('o', 'i', 'i', 'e', 'a')\n",
            "('o', 'i', 'i', 'e', 'u')\n",
            "('o', 'i', 'i', 'i', 'o')\n",
            "('o', 'i', 'i', 'o', 'i')\n",
            "('o', 'i', 'i', 'u', 'e')\n",
            "('o', 'i', 'o', 'a', 'a')\n",
            "('o', 'i', 'o', 'a', 'u')\n",
            "('o', 'i', 'o', 'e', 'o')\n",
            "('o', 'i', 'o', 'i', 'i')\n",
            "('o', 'i', 'o', 'o', 'e')\n",
            "('o', 'i', 'o', 'u', 'a')\n",
            "('o', 'i', 'o', 'u', 'u')\n",
            "('o', 'i', 'u', 'a', 'o')\n",
            "('o', 'i', 'u', 'e', 'i')\n",
            "('o', 'i', 'u', 'i', 'e')\n",
            "('o', 'i', 'u', 'o', 'a')\n",
            "('o', 'i', 'u', 'o', 'u')\n",
            "('o', 'i', 'u', 'u', 'o')\n",
            "('u', 'a', 'a', 'a', 'e')\n",
            "('u', 'a', 'a', 'e', 'a')\n",
            "('u', 'a', 'a', 'e', 'u')\n",
            "('u', 'a', 'a', 'i', 'o')\n",
            "('u', 'a', 'a', 'o', 'i')\n",
            "('u', 'a', 'a', 'u', 'e')\n",
            "('u', 'a', 'e', 'a', 'a')\n",
            "('u', 'a', 'e', 'a', 'u')\n",
            "('u', 'a', 'e', 'e', 'o')\n",
            "('u', 'a', 'e', 'i', 'i')\n",
            "('u', 'a', 'e', 'o', 'e')\n",
            "('u', 'a', 'e', 'u', 'a')\n",
            "('u', 'a', 'e', 'u', 'u')\n",
            "('u', 'a', 'i', 'a', 'o')\n",
            "('u', 'a', 'i', 'e', 'i')\n",
            "('u', 'a', 'i', 'i', 'e')\n",
            "('u', 'a', 'i', 'o', 'a')\n",
            "('u', 'a', 'i', 'o', 'u')\n",
            "('u', 'a', 'i', 'u', 'o')\n",
            "('u', 'a', 'o', 'a', 'i')\n",
            "('u', 'a', 'o', 'e', 'e')\n",
            "('u', 'a', 'o', 'i', 'a')\n",
            "('u', 'a', 'o', 'i', 'u')\n",
            "('u', 'a', 'o', 'o', 'o')\n",
            "('u', 'a', 'o', 'u', 'i')\n",
            "('u', 'a', 'u', 'a', 'e')\n",
            "('u', 'a', 'u', 'e', 'a')\n",
            "('u', 'a', 'u', 'e', 'u')\n",
            "('u', 'a', 'u', 'i', 'o')\n",
            "('u', 'a', 'u', 'o', 'i')\n",
            "('u', 'a', 'u', 'u', 'e')\n",
            "('u', 'e', 'a', 'a', 'a')\n",
            "('u', 'e', 'a', 'a', 'u')\n",
            "('u', 'e', 'a', 'e', 'o')\n",
            "('u', 'e', 'a', 'i', 'i')\n",
            "('u', 'e', 'a', 'o', 'e')\n",
            "('u', 'e', 'a', 'u', 'a')\n",
            "('u', 'e', 'a', 'u', 'u')\n",
            "('u', 'e', 'e', 'a', 'o')\n",
            "('u', 'e', 'e', 'e', 'i')\n",
            "('u', 'e', 'e', 'i', 'e')\n",
            "('u', 'e', 'e', 'o', 'a')\n",
            "('u', 'e', 'e', 'o', 'u')\n",
            "('u', 'e', 'e', 'u', 'o')\n",
            "('u', 'e', 'i', 'a', 'i')\n",
            "('u', 'e', 'i', 'e', 'e')\n",
            "('u', 'e', 'i', 'i', 'a')\n",
            "('u', 'e', 'i', 'i', 'u')\n",
            "('u', 'e', 'i', 'o', 'o')\n",
            "('u', 'e', 'i', 'u', 'i')\n",
            "('u', 'e', 'o', 'a', 'e')\n",
            "('u', 'e', 'o', 'e', 'a')\n",
            "('u', 'e', 'o', 'e', 'u')\n",
            "('u', 'e', 'o', 'i', 'o')\n",
            "('u', 'e', 'o', 'o', 'i')\n",
            "('u', 'e', 'o', 'u', 'e')\n",
            "('u', 'e', 'u', 'a', 'a')\n",
            "('u', 'e', 'u', 'a', 'u')\n",
            "('u', 'e', 'u', 'e', 'o')\n",
            "('u', 'e', 'u', 'i', 'i')\n",
            "('u', 'e', 'u', 'o', 'e')\n",
            "('u', 'e', 'u', 'u', 'a')\n",
            "('u', 'e', 'u', 'u', 'u')\n",
            "('u', 'i', 'a', 'a', 'o')\n",
            "('u', 'i', 'a', 'e', 'i')\n",
            "('u', 'i', 'a', 'i', 'e')\n",
            "('u', 'i', 'a', 'o', 'a')\n",
            "('u', 'i', 'a', 'o', 'u')\n",
            "('u', 'i', 'a', 'u', 'o')\n",
            "('u', 'i', 'e', 'a', 'i')\n",
            "('u', 'i', 'e', 'e', 'e')\n",
            "('u', 'i', 'e', 'i', 'a')\n",
            "('u', 'i', 'e', 'i', 'u')\n",
            "('u', 'i', 'e', 'o', 'o')\n",
            "('u', 'i', 'e', 'u', 'i')\n",
            "('u', 'i', 'i', 'a', 'e')\n",
            "('u', 'i', 'i', 'e', 'a')\n",
            "('u', 'i', 'i', 'e', 'u')\n",
            "('u', 'i', 'i', 'i', 'o')\n",
            "('u', 'i', 'i', 'o', 'i')\n",
            "('u', 'i', 'i', 'u', 'e')\n",
            "('u', 'i', 'o', 'a', 'a')\n",
            "('u', 'i', 'o', 'a', 'u')\n",
            "('u', 'i', 'o', 'e', 'o')\n",
            "('u', 'i', 'o', 'i', 'i')\n",
            "('u', 'i', 'o', 'o', 'e')\n",
            "('u', 'i', 'o', 'u', 'a')\n",
            "('u', 'i', 'o', 'u', 'u')\n",
            "('u', 'i', 'u', 'a', 'o')\n",
            "('u', 'i', 'u', 'e', 'i')\n",
            "('u', 'i', 'u', 'i', 'e')\n",
            "('u', 'i', 'u', 'o', 'a')\n",
            "('u', 'i', 'u', 'o', 'u')\n",
            "('u', 'i', 'u', 'u', 'o')\n",
            "('u', 'o', 'a', 'a', 'i')\n",
            "('u', 'o', 'a', 'e', 'e')\n",
            "('u', 'o', 'a', 'i', 'a')\n",
            "('u', 'o', 'a', 'i', 'u')\n",
            "('u', 'o', 'a', 'o', 'o')\n",
            "('u', 'o', 'a', 'u', 'i')\n",
            "('u', 'o', 'e', 'a', 'e')\n",
            "('u', 'o', 'e', 'e', 'a')\n",
            "('u', 'o', 'e', 'e', 'u')\n",
            "('u', 'o', 'e', 'i', 'o')\n",
            "('u', 'o', 'e', 'o', 'i')\n",
            "('u', 'o', 'e', 'u', 'e')\n",
            "('u', 'o', 'i', 'a', 'a')\n",
            "('u', 'o', 'i', 'a', 'u')\n",
            "('u', 'o', 'i', 'e', 'o')\n",
            "('u', 'o', 'i', 'i', 'i')\n",
            "('u', 'o', 'i', 'o', 'e')\n",
            "('u', 'o', 'i', 'u', 'a')\n",
            "('u', 'o', 'i', 'u', 'u')\n",
            "('u', 'o', 'o', 'a', 'o')\n",
            "('u', 'o', 'o', 'e', 'i')\n",
            "('u', 'o', 'o', 'i', 'e')\n",
            "('u', 'o', 'o', 'o', 'a')\n",
            "('u', 'o', 'o', 'o', 'u')\n",
            "('u', 'o', 'o', 'u', 'o')\n",
            "('u', 'o', 'u', 'a', 'i')\n",
            "('u', 'o', 'u', 'e', 'e')\n",
            "('u', 'o', 'u', 'i', 'a')\n",
            "('u', 'o', 'u', 'i', 'u')\n",
            "('u', 'o', 'u', 'o', 'o')\n",
            "('u', 'o', 'u', 'u', 'i')\n",
            "('e', 'a', 'a', 'a', 'o')\n",
            "('e', 'a', 'a', 'i', 'e')\n",
            "('e', 'a', 'a', 'o', 'u')\n",
            "('e', 'a', 'e', 'a', 'i')\n",
            "('e', 'a', 'e', 'i', 'a')\n",
            "('e', 'a', 'e', 'o', 'o')\n",
            "('e', 'a', 'i', 'a', 'e')\n",
            "('e', 'a', 'i', 'e', 'u')\n",
            "('e', 'a', 'i', 'o', 'i')\n",
            "('e', 'a', 'o', 'a', 'a')\n",
            "('e', 'a', 'o', 'e', 'o')\n",
            "('e', 'a', 'o', 'o', 'e')\n",
            "('e', 'a', 'o', 'u', 'u')\n",
            "('e', 'a', 'u', 'e', 'i')\n",
            "('e', 'a', 'u', 'o', 'a')\n",
            "('e', 'a', 'u', 'u', 'o')\n",
            "('i', 'a', 'a', 'a', 'o')\n",
            "('i', 'a', 'a', 'i', 'e')\n",
            "('i', 'a', 'a', 'o', 'u')\n",
            "('i', 'a', 'e', 'a', 'i')\n",
            "('i', 'a', 'e', 'i', 'a')\n",
            "('i', 'a', 'e', 'o', 'o')\n",
            "('i', 'a', 'i', 'a', 'e')\n",
            "('i', 'a', 'i', 'e', 'u')\n",
            "('i', 'a', 'i', 'o', 'i')\n",
            "('i', 'a', 'o', 'a', 'a')\n",
            "('i', 'a', 'o', 'e', 'o')\n",
            "('i', 'a', 'o', 'o', 'e')\n",
            "('i', 'a', 'o', 'u', 'u')\n",
            "('i', 'a', 'u', 'e', 'i')\n",
            "('i', 'a', 'u', 'o', 'a')\n",
            "('i', 'a', 'u', 'u', 'o')\n",
            "('i', 'e', 'a', 'e', 'e')\n",
            "('i', 'e', 'a', 'i', 'u')\n",
            "('i', 'e', 'a', 'u', 'i')\n",
            "('i', 'e', 'e', 'e', 'a')\n",
            "('i', 'e', 'e', 'i', 'o')\n",
            "('i', 'e', 'e', 'u', 'e')\n",
            "('i', 'e', 'i', 'a', 'u')\n",
            "('i', 'e', 'i', 'i', 'i')\n",
            "('i', 'e', 'i', 'u', 'a')\n",
            "('i', 'e', 'o', 'a', 'o')\n",
            "('i', 'e', 'o', 'i', 'e')\n",
            "('i', 'e', 'o', 'o', 'u')\n",
            "('i', 'e', 'u', 'a', 'i')\n",
            "('i', 'e', 'u', 'i', 'a')\n",
            "('i', 'e', 'u', 'o', 'o')\n",
            "('o', 'a', 'a', 'a', 'o')\n",
            "('o', 'a', 'a', 'i', 'e')\n",
            "('o', 'a', 'a', 'o', 'u')\n",
            "('o', 'a', 'e', 'a', 'i')\n",
            "('o', 'a', 'e', 'i', 'a')\n",
            "('o', 'a', 'e', 'o', 'o')\n",
            "('o', 'a', 'i', 'a', 'e')\n",
            "('o', 'a', 'i', 'e', 'u')\n",
            "('o', 'a', 'i', 'o', 'i')\n",
            "('o', 'a', 'o', 'a', 'a')\n",
            "('o', 'a', 'o', 'e', 'o')\n",
            "('o', 'a', 'o', 'o', 'e')\n",
            "('o', 'a', 'o', 'u', 'u')\n",
            "('o', 'a', 'u', 'e', 'i')\n",
            "('o', 'a', 'u', 'o', 'a')\n",
            "('o', 'a', 'u', 'u', 'o')\n",
            "('o', 'e', 'a', 'e', 'e')\n",
            "('o', 'e', 'a', 'i', 'u')\n",
            "('o', 'e', 'a', 'u', 'i')\n",
            "('o', 'e', 'e', 'e', 'a')\n",
            "('o', 'e', 'e', 'i', 'o')\n",
            "('o', 'e', 'e', 'u', 'e')\n",
            "('o', 'e', 'i', 'a', 'u')\n",
            "('o', 'e', 'i', 'i', 'i')\n",
            "('o', 'e', 'i', 'u', 'a')\n",
            "('o', 'e', 'o', 'a', 'o')\n",
            "('o', 'e', 'o', 'i', 'e')\n",
            "('o', 'e', 'o', 'o', 'u')\n",
            "('o', 'e', 'u', 'a', 'i')\n",
            "('o', 'e', 'u', 'i', 'a')\n",
            "('o', 'e', 'u', 'o', 'o')\n",
            "('o', 'i', 'a', 'a', 'e')\n",
            "('o', 'i', 'a', 'e', 'u')\n",
            "('o', 'i', 'a', 'o', 'i')\n",
            "('o', 'i', 'e', 'a', 'a')\n",
            "('o', 'i', 'e', 'e', 'o')\n",
            "('o', 'i', 'e', 'o', 'e')\n",
            "('o', 'i', 'e', 'u', 'u')\n",
            "('o', 'i', 'i', 'e', 'i')\n",
            "('o', 'i', 'i', 'o', 'a')\n",
            "('o', 'i', 'i', 'u', 'o')\n",
            "('o', 'i', 'o', 'e', 'e')\n",
            "('o', 'i', 'o', 'i', 'u')\n",
            "('o', 'i', 'o', 'u', 'i')\n",
            "('o', 'i', 'u', 'e', 'a')\n",
            "('o', 'i', 'u', 'i', 'o')\n",
            "('o', 'i', 'u', 'u', 'e')\n",
            "('u', 'a', 'a', 'a', 'o')\n",
            "('u', 'a', 'a', 'i', 'e')\n",
            "('u', 'a', 'a', 'o', 'u')\n",
            "('u', 'a', 'e', 'a', 'i')\n",
            "('u', 'a', 'e', 'i', 'a')\n",
            "('u', 'a', 'e', 'o', 'o')\n",
            "('u', 'a', 'i', 'a', 'e')\n",
            "('u', 'a', 'i', 'e', 'u')\n",
            "('u', 'a', 'i', 'o', 'i')\n",
            "('u', 'a', 'o', 'a', 'a')\n",
            "('u', 'a', 'o', 'e', 'o')\n",
            "('u', 'a', 'o', 'o', 'e')\n",
            "('u', 'a', 'o', 'u', 'u')\n",
            "('u', 'a', 'u', 'e', 'i')\n",
            "('u', 'a', 'u', 'o', 'a')\n",
            "('u', 'a', 'u', 'u', 'o')\n",
            "('u', 'e', 'a', 'e', 'e')\n",
            "('u', 'e', 'a', 'i', 'u')\n",
            "('u', 'e', 'a', 'u', 'i')\n",
            "('u', 'e', 'e', 'e', 'a')\n",
            "('u', 'e', 'e', 'i', 'o')\n",
            "('u', 'e', 'e', 'u', 'e')\n",
            "('u', 'e', 'i', 'a', 'u')\n",
            "('u', 'e', 'i', 'i', 'i')\n",
            "('u', 'e', 'i', 'u', 'a')\n",
            "('u', 'e', 'o', 'a', 'o')\n",
            "('u', 'e', 'o', 'i', 'e')\n",
            "('u', 'e', 'o', 'o', 'u')\n",
            "('u', 'e', 'u', 'a', 'i')\n",
            "('u', 'e', 'u', 'i', 'a')\n",
            "('u', 'e', 'u', 'o', 'o')\n",
            "('u', 'i', 'a', 'a', 'e')\n",
            "('u', 'i', 'a', 'e', 'u')\n",
            "('u', 'i', 'a', 'o', 'i')\n",
            "('u', 'i', 'e', 'a', 'a')\n",
            "('u', 'i', 'e', 'e', 'o')\n",
            "('u', 'i', 'e', 'o', 'e')\n",
            "('u', 'i', 'e', 'u', 'u')\n",
            "('u', 'i', 'i', 'e', 'i')\n",
            "('u', 'i', 'i', 'o', 'a')\n",
            "('u', 'i', 'i', 'u', 'o')\n",
            "('u', 'i', 'o', 'e', 'e')\n",
            "('u', 'i', 'o', 'i', 'u')\n",
            "('u', 'i', 'o', 'u', 'i')\n",
            "('u', 'i', 'u', 'e', 'a')\n",
            "('u', 'i', 'u', 'i', 'o')\n",
            "('u', 'i', 'u', 'u', 'e')\n",
            "('u', 'o', 'a', 'a', 'u')\n",
            "('u', 'o', 'a', 'i', 'i')\n",
            "('u', 'o', 'a', 'u', 'a')\n",
            "('u', 'o', 'e', 'a', 'o')\n",
            "('u', 'o', 'e', 'i', 'e')\n",
            "('u', 'o', 'e', 'o', 'u')\n",
            "('u', 'o', 'i', 'a', 'i')\n",
            "('u', 'o', 'i', 'i', 'a')\n",
            "('u', 'o', 'i', 'o', 'o')\n",
            "('u', 'o', 'o', 'a', 'e')\n",
            "('u', 'o', 'o', 'e', 'u')\n",
            "('u', 'o', 'o', 'o', 'i')\n",
            "('u', 'o', 'u', 'a', 'a')\n",
            "('u', 'o', 'u', 'e', 'o')\n",
            "('u', 'o', 'u', 'o', 'e')\n",
            "('u', 'o', 'u', 'u', 'u')\n",
            "('e', 'a', 'a', 'e', 'i')\n",
            "('e', 'a', 'a', 'u', 'o')\n",
            "('e', 'a', 'e', 'i', 'u')\n",
            "('e', 'a', 'i', 'e', 'a')\n",
            "('e', 'a', 'i', 'u', 'e')\n",
            "('e', 'a', 'o', 'i', 'i')\n",
            "('e', 'a', 'u', 'a', 'o')\n",
            "('e', 'a', 'u', 'o', 'u')\n",
            "('i', 'a', 'a', 'e', 'i')\n",
            "('i', 'a', 'a', 'u', 'o')\n",
            "('i', 'a', 'e', 'i', 'u')\n",
            "('i', 'a', 'i', 'e', 'a')\n",
            "('i', 'a', 'i', 'u', 'e')\n",
            "('i', 'a', 'o', 'i', 'i')\n",
            "('i', 'a', 'u', 'a', 'o')\n",
            "('i', 'a', 'u', 'o', 'u')\n",
            "('i', 'e', 'a', 'i', 'a')\n",
            "('i', 'e', 'e', 'a', 'e')\n",
            "('i', 'e', 'e', 'o', 'i')\n",
            "('i', 'e', 'i', 'e', 'o')\n",
            "('i', 'e', 'i', 'u', 'u')\n",
            "('i', 'e', 'o', 'o', 'a')\n",
            "('i', 'e', 'u', 'e', 'e')\n",
            "('i', 'e', 'u', 'u', 'i')\n",
            "('o', 'a', 'a', 'e', 'i')\n",
            "('o', 'a', 'a', 'u', 'o')\n",
            "('o', 'a', 'e', 'i', 'u')\n",
            "('o', 'a', 'i', 'e', 'a')\n",
            "('o', 'a', 'i', 'u', 'e')\n",
            "('o', 'a', 'o', 'i', 'i')\n",
            "('o', 'a', 'u', 'a', 'o')\n",
            "('o', 'a', 'u', 'o', 'u')\n",
            "('o', 'e', 'a', 'i', 'a')\n",
            "('o', 'e', 'e', 'a', 'e')\n",
            "('o', 'e', 'e', 'o', 'i')\n",
            "('o', 'e', 'i', 'e', 'o')\n",
            "('o', 'e', 'i', 'u', 'u')\n",
            "('o', 'e', 'o', 'o', 'a')\n",
            "('o', 'e', 'u', 'e', 'e')\n",
            "('o', 'e', 'u', 'u', 'i')\n",
            "('o', 'i', 'a', 'i', 'o')\n",
            "('o', 'i', 'e', 'a', 'u')\n",
            "('o', 'i', 'e', 'u', 'a')\n",
            "('o', 'i', 'i', 'i', 'e')\n",
            "('o', 'i', 'o', 'a', 'i')\n",
            "('o', 'i', 'o', 'o', 'o')\n",
            "('o', 'i', 'u', 'e', 'u')\n",
            "('u', 'a', 'a', 'e', 'i')\n",
            "('u', 'a', 'a', 'u', 'o')\n",
            "('u', 'a', 'e', 'i', 'u')\n",
            "('u', 'a', 'i', 'e', 'a')\n",
            "('u', 'a', 'i', 'u', 'e')\n",
            "('u', 'a', 'o', 'i', 'i')\n",
            "('u', 'a', 'u', 'a', 'o')\n",
            "('u', 'a', 'u', 'o', 'u')\n",
            "('u', 'e', 'a', 'i', 'a')\n",
            "('u', 'e', 'e', 'a', 'e')\n",
            "('u', 'e', 'e', 'o', 'i')\n",
            "('u', 'e', 'i', 'e', 'o')\n",
            "('u', 'e', 'i', 'u', 'u')\n",
            "('u', 'e', 'o', 'o', 'a')\n",
            "('u', 'e', 'u', 'e', 'e')\n",
            "('u', 'e', 'u', 'u', 'i')\n",
            "('u', 'i', 'a', 'i', 'o')\n",
            "('u', 'i', 'e', 'a', 'u')\n",
            "('u', 'i', 'e', 'u', 'a')\n",
            "('u', 'i', 'i', 'i', 'e')\n",
            "('u', 'i', 'o', 'a', 'i')\n",
            "('u', 'i', 'o', 'o', 'o')\n",
            "('u', 'i', 'u', 'e', 'u')\n",
            "('u', 'o', 'a', 'a', 'a')\n",
            "('u', 'o', 'a', 'o', 'e')\n",
            "('u', 'o', 'e', 'e', 'i')\n",
            "('u', 'o', 'e', 'u', 'o')\n",
            "('u', 'o', 'i', 'i', 'u')\n",
            "('u', 'o', 'o', 'e', 'a')\n",
            "('u', 'o', 'o', 'u', 'e')\n",
            "('u', 'o', 'u', 'i', 'i')\n",
            "('e', 'a', 'a', 'o', 'a')\n",
            "('e', 'a', 'e', 'u', 'i')\n",
            "('e', 'a', 'o', 'a', 'u')\n",
            "('e', 'a', 'u', 'i', 'e')\n",
            "('i', 'a', 'a', 'o', 'a')\n",
            "('i', 'a', 'e', 'u', 'i')\n",
            "('i', 'a', 'o', 'a', 'u')\n",
            "('i', 'a', 'u', 'i', 'e')\n",
            "('i', 'e', 'a', 'o', 'o')\n",
            "('i', 'e', 'i', 'a', 'a')\n",
            "('i', 'e', 'o', 'e', 'i')\n",
            "('i', 'e', 'u', 'i', 'u')\n",
            "('o', 'a', 'a', 'o', 'a')\n",
            "('o', 'a', 'e', 'u', 'i')\n",
            "('o', 'a', 'o', 'a', 'u')\n",
            "('o', 'a', 'u', 'i', 'e')\n",
            "('o', 'e', 'a', 'o', 'o')\n",
            "('o', 'e', 'i', 'a', 'a')\n",
            "('o', 'e', 'o', 'e', 'i')\n",
            "('o', 'e', 'u', 'i', 'u')\n",
            "('o', 'i', 'a', 'u', 'e')\n",
            "('o', 'i', 'i', 'a', 'o')\n",
            "('o', 'i', 'o', 'i', 'a')\n",
            "('o', 'i', 'u', 'o', 'i')\n",
            "('u', 'a', 'a', 'o', 'a')\n",
            "('u', 'a', 'e', 'u', 'i')\n",
            "('u', 'a', 'o', 'a', 'u')\n",
            "('u', 'a', 'u', 'i', 'e')\n",
            "('u', 'e', 'a', 'o', 'o')\n",
            "('u', 'e', 'i', 'a', 'a')\n",
            "('u', 'e', 'o', 'e', 'i')\n",
            "('u', 'e', 'u', 'i', 'u')\n",
            "('u', 'i', 'a', 'u', 'e')\n",
            "('u', 'i', 'i', 'a', 'o')\n",
            "('u', 'i', 'o', 'i', 'a')\n",
            "('u', 'i', 'u', 'o', 'i')\n",
            "('u', 'o', 'a', 'u', 'u')\n",
            "('u', 'o', 'i', 'e', 'e')\n",
            "('u', 'o', 'o', 'i', 'o')\n",
            "('u', 'o', 'u', 'u', 'a')\n",
            "('e', 'a', 'e', 'e', 'e')\n",
            "('e', 'a', 'o', 'u', 'a')\n",
            "('i', 'a', 'e', 'e', 'e')\n",
            "('i', 'a', 'o', 'u', 'a')\n",
            "('i', 'e', 'e', 'e', 'u')\n",
            "('i', 'e', 'o', 'u', 'o')\n",
            "('o', 'a', 'e', 'e', 'e')\n",
            "('o', 'a', 'o', 'u', 'a')\n",
            "('o', 'e', 'e', 'e', 'u')\n",
            "('o', 'e', 'o', 'u', 'o')\n",
            "('o', 'i', 'e', 'i', 'i')\n",
            "('o', 'i', 'u', 'a', 'e')\n",
            "('u', 'a', 'e', 'e', 'e')\n",
            "('u', 'a', 'o', 'u', 'a')\n",
            "('u', 'e', 'e', 'e', 'u')\n",
            "('u', 'e', 'o', 'u', 'o')\n",
            "('u', 'i', 'e', 'i', 'i')\n",
            "('u', 'i', 'u', 'a', 'e')\n",
            "('u', 'o', 'e', 'o', 'a')\n",
            "('u', 'o', 'u', 'a', 'u')\n",
            "('e', 'a', 'i', 'i', 'o')\n",
            "('i', 'a', 'i', 'i', 'o')\n",
            "('i', 'e', 'i', 'o', 'e')\n",
            "('o', 'a', 'i', 'i', 'o')\n",
            "('o', 'e', 'i', 'o', 'e')\n",
            "('o', 'i', 'i', 'o', 'u')\n",
            "('u', 'a', 'i', 'i', 'o')\n",
            "('u', 'e', 'i', 'o', 'e')\n",
            "('u', 'i', 'i', 'o', 'u')\n",
            "('u', 'o', 'i', 'u', 'i')\n",
            "('i', 'e', 'a', 'a', 'i')\n",
            "('o', 'e', 'a', 'a', 'i')\n",
            "('u', 'e', 'a', 'a', 'i')\n",
            "('u', 'o', 'a', 'e', 'o')\n",
            "('o', 'i', 'a', 'e', 'a')\n",
            "('u', 'i', 'a', 'e', 'a')\n",
            "[('a', 'a', 'a', 'a', 'a'), ('a', 'a', 'a', 'a', 'e'), ('a', 'a', 'a', 'a', 'i'), ('a', 'a', 'a', 'a', 'o'), ('a', 'a', 'a', 'a', 'u'), ('a', 'a', 'a', 'e', 'a'), ('a', 'a', 'a', 'e', 'e'), ('a', 'a', 'a', 'e', 'i'), ('a', 'a', 'a', 'e', 'o'), ('a', 'a', 'a', 'e', 'u'), ('a', 'a', 'a', 'i', 'a'), ('a', 'a', 'a', 'i', 'e'), ('a', 'a', 'a', 'i', 'i'), ('a', 'a', 'a', 'i', 'o'), ('a', 'a', 'a', 'i', 'u'), ('a', 'a', 'a', 'o', 'a'), ('a', 'a', 'a', 'o', 'e'), ('a', 'a', 'a', 'o', 'i'), ('a', 'a', 'a', 'o', 'o'), ('a', 'a', 'a', 'o', 'u'), ('a', 'a', 'a', 'u', 'a'), ('a', 'a', 'a', 'u', 'e'), ('a', 'a', 'a', 'u', 'i'), ('a', 'a', 'a', 'u', 'o'), ('a', 'a', 'a', 'u', 'u'), ('a', 'a', 'e', 'a', 'a'), ('a', 'a', 'e', 'a', 'e'), ('a', 'a', 'e', 'a', 'i'), ('a', 'a', 'e', 'a', 'o'), ('a', 'a', 'e', 'a', 'u'), ('a', 'a', 'e', 'e', 'a'), ('a', 'a', 'e', 'e', 'e'), ('a', 'a', 'e', 'e', 'i'), ('a', 'a', 'e', 'e', 'o'), ('a', 'a', 'e', 'e', 'u'), ('a', 'a', 'e', 'i', 'a'), ('a', 'a', 'e', 'i', 'e'), ('a', 'a', 'e', 'i', 'i'), ('a', 'a', 'e', 'i', 'o'), ('a', 'a', 'e', 'i', 'u'), ('a', 'a', 'e', 'o', 'a'), ('a', 'a', 'e', 'o', 'e'), ('a', 'a', 'e', 'o', 'i'), ('a', 'a', 'e', 'o', 'o'), ('a', 'a', 'e', 'o', 'u'), ('a', 'a', 'e', 'u', 'a'), ('a', 'a', 'e', 'u', 'e'), ('a', 'a', 'e', 'u', 'i'), ('a', 'a', 'e', 'u', 'o'), ('a', 'a', 'e', 'u', 'u'), ('a', 'a', 'i', 'a', 'a'), ('a', 'a', 'i', 'a', 'e'), ('a', 'a', 'i', 'a', 'i'), ('a', 'a', 'i', 'a', 'o'), ('a', 'a', 'i', 'a', 'u'), ('a', 'a', 'i', 'e', 'a'), ('a', 'a', 'i', 'e', 'e'), ('a', 'a', 'i', 'e', 'i'), ('a', 'a', 'i', 'e', 'o'), ('a', 'a', 'i', 'e', 'u'), ('a', 'a', 'i', 'i', 'a'), ('a', 'a', 'i', 'i', 'e'), ('a', 'a', 'i', 'i', 'i'), ('a', 'a', 'i', 'i', 'o'), ('a', 'a', 'i', 'i', 'u'), ('a', 'a', 'i', 'o', 'a'), ('a', 'a', 'i', 'o', 'e'), ('a', 'a', 'i', 'o', 'i'), ('a', 'a', 'i', 'o', 'o'), ('a', 'a', 'i', 'o', 'u'), ('a', 'a', 'i', 'u', 'a'), ('a', 'a', 'i', 'u', 'e'), ('a', 'a', 'i', 'u', 'i'), ('a', 'a', 'i', 'u', 'o'), ('a', 'a', 'i', 'u', 'u'), ('a', 'a', 'o', 'a', 'a'), ('a', 'a', 'o', 'a', 'e'), ('a', 'a', 'o', 'a', 'i'), ('a', 'a', 'o', 'a', 'o'), ('a', 'a', 'o', 'a', 'u'), ('a', 'a', 'o', 'e', 'a'), ('a', 'a', 'o', 'e', 'e'), ('a', 'a', 'o', 'e', 'i'), ('a', 'a', 'o', 'e', 'o'), ('a', 'a', 'o', 'e', 'u'), ('a', 'a', 'o', 'i', 'a'), ('a', 'a', 'o', 'i', 'e'), ('a', 'a', 'o', 'i', 'i'), ('a', 'a', 'o', 'i', 'o'), ('a', 'a', 'o', 'i', 'u'), ('a', 'a', 'o', 'o', 'a'), ('a', 'a', 'o', 'o', 'e'), ('a', 'a', 'o', 'o', 'i'), ('a', 'a', 'o', 'o', 'o'), ('a', 'a', 'o', 'o', 'u'), ('a', 'a', 'o', 'u', 'a'), ('a', 'a', 'o', 'u', 'e'), ('a', 'a', 'o', 'u', 'i'), ('a', 'a', 'o', 'u', 'o'), ('a', 'a', 'o', 'u', 'u'), ('a', 'a', 'u', 'a', 'a'), ('a', 'a', 'u', 'a', 'e'), ('a', 'a', 'u', 'a', 'i'), ('a', 'a', 'u', 'a', 'o'), ('a', 'a', 'u', 'a', 'u'), ('a', 'a', 'u', 'e', 'a'), ('a', 'a', 'u', 'e', 'e'), ('a', 'a', 'u', 'e', 'i'), ('a', 'a', 'u', 'e', 'o'), ('a', 'a', 'u', 'e', 'u'), ('a', 'a', 'u', 'i', 'a'), ('a', 'a', 'u', 'i', 'e'), ('a', 'a', 'u', 'i', 'i'), ('a', 'a', 'u', 'i', 'o'), ('a', 'a', 'u', 'i', 'u'), ('a', 'a', 'u', 'o', 'a'), ('a', 'a', 'u', 'o', 'e'), ('a', 'a', 'u', 'o', 'i'), ('a', 'a', 'u', 'o', 'o'), ('a', 'a', 'u', 'o', 'u'), ('a', 'a', 'u', 'u', 'a'), ('a', 'a', 'u', 'u', 'e'), ('a', 'a', 'u', 'u', 'i'), ('a', 'a', 'u', 'u', 'o'), ('a', 'a', 'u', 'u', 'u'), ('a', 'e', 'a', 'a', 'a'), ('a', 'e', 'a', 'a', 'e'), ('a', 'e', 'a', 'a', 'i'), ('a', 'e', 'a', 'a', 'o'), ('a', 'e', 'a', 'a', 'u'), ('a', 'e', 'a', 'e', 'a'), ('a', 'e', 'a', 'e', 'e'), ('a', 'e', 'a', 'e', 'i'), ('a', 'e', 'a', 'e', 'o'), ('a', 'e', 'a', 'e', 'u'), ('a', 'e', 'a', 'i', 'a'), ('a', 'e', 'a', 'i', 'e'), ('a', 'e', 'a', 'i', 'i'), ('a', 'e', 'a', 'i', 'o'), ('a', 'e', 'a', 'i', 'u'), ('a', 'e', 'a', 'o', 'a'), ('a', 'e', 'a', 'o', 'e'), ('a', 'e', 'a', 'o', 'i'), ('a', 'e', 'a', 'o', 'o'), ('a', 'e', 'a', 'o', 'u'), ('a', 'e', 'a', 'u', 'a'), ('a', 'e', 'a', 'u', 'e'), ('a', 'e', 'a', 'u', 'i'), ('a', 'e', 'a', 'u', 'o'), ('a', 'e', 'a', 'u', 'u'), ('a', 'e', 'e', 'a', 'a'), ('a', 'e', 'e', 'a', 'e'), ('a', 'e', 'e', 'a', 'i'), ('a', 'e', 'e', 'a', 'o'), ('a', 'e', 'e', 'a', 'u'), ('a', 'e', 'e', 'e', 'a'), ('a', 'e', 'e', 'e', 'e'), ('a', 'e', 'e', 'e', 'i'), ('a', 'e', 'e', 'e', 'o'), ('a', 'e', 'e', 'e', 'u'), ('a', 'e', 'e', 'i', 'a'), ('a', 'e', 'e', 'i', 'e'), ('a', 'e', 'e', 'i', 'i'), ('a', 'e', 'e', 'i', 'o'), ('a', 'e', 'e', 'i', 'u'), ('a', 'e', 'e', 'o', 'a'), ('a', 'e', 'e', 'o', 'e'), ('a', 'e', 'e', 'o', 'i'), ('a', 'e', 'e', 'o', 'o'), ('a', 'e', 'e', 'o', 'u'), ('a', 'e', 'e', 'u', 'a'), ('a', 'e', 'e', 'u', 'e'), ('a', 'e', 'e', 'u', 'i'), ('a', 'e', 'e', 'u', 'o'), ('a', 'e', 'e', 'u', 'u'), ('a', 'e', 'i', 'a', 'a'), ('a', 'e', 'i', 'a', 'e'), ('a', 'e', 'i', 'a', 'i'), ('a', 'e', 'i', 'a', 'o'), ('a', 'e', 'i', 'a', 'u'), ('a', 'e', 'i', 'e', 'a'), ('a', 'e', 'i', 'e', 'e'), ('a', 'e', 'i', 'e', 'i'), ('a', 'e', 'i', 'e', 'o'), ('a', 'e', 'i', 'e', 'u'), ('a', 'e', 'i', 'i', 'a'), ('a', 'e', 'i', 'i', 'e'), ('a', 'e', 'i', 'i', 'i'), ('a', 'e', 'i', 'i', 'o'), ('a', 'e', 'i', 'i', 'u'), ('a', 'e', 'i', 'o', 'a'), ('a', 'e', 'i', 'o', 'e'), ('a', 'e', 'i', 'o', 'i'), ('a', 'e', 'i', 'o', 'o'), ('a', 'e', 'i', 'o', 'u'), ('a', 'e', 'i', 'u', 'a'), ('a', 'e', 'i', 'u', 'e'), ('a', 'e', 'i', 'u', 'i'), ('a', 'e', 'i', 'u', 'o'), ('a', 'e', 'i', 'u', 'u'), ('a', 'e', 'o', 'a', 'a'), ('a', 'e', 'o', 'a', 'e'), ('a', 'e', 'o', 'a', 'i'), ('a', 'e', 'o', 'a', 'o'), ('a', 'e', 'o', 'a', 'u'), ('a', 'e', 'o', 'e', 'a'), ('a', 'e', 'o', 'e', 'e'), ('a', 'e', 'o', 'e', 'i'), ('a', 'e', 'o', 'e', 'o'), ('a', 'e', 'o', 'e', 'u'), ('a', 'e', 'o', 'i', 'a'), ('a', 'e', 'o', 'i', 'e'), ('a', 'e', 'o', 'i', 'i'), ('a', 'e', 'o', 'i', 'o'), ('a', 'e', 'o', 'i', 'u'), ('a', 'e', 'o', 'o', 'a'), ('a', 'e', 'o', 'o', 'e'), ('a', 'e', 'o', 'o', 'i'), ('a', 'e', 'o', 'o', 'o'), ('a', 'e', 'o', 'o', 'u'), ('a', 'e', 'o', 'u', 'a'), ('a', 'e', 'o', 'u', 'e'), ('a', 'e', 'o', 'u', 'i'), ('a', 'e', 'o', 'u', 'o'), ('a', 'e', 'o', 'u', 'u'), ('a', 'e', 'u', 'a', 'a'), ('a', 'e', 'u', 'a', 'e'), ('a', 'e', 'u', 'a', 'i'), ('a', 'e', 'u', 'a', 'o'), ('a', 'e', 'u', 'a', 'u'), ('a', 'e', 'u', 'e', 'a'), ('a', 'e', 'u', 'e', 'e'), ('a', 'e', 'u', 'e', 'i'), ('a', 'e', 'u', 'e', 'o'), ('a', 'e', 'u', 'e', 'u'), ('a', 'e', 'u', 'i', 'a'), ('a', 'e', 'u', 'i', 'e'), ('a', 'e', 'u', 'i', 'i'), ('a', 'e', 'u', 'i', 'o'), ('a', 'e', 'u', 'i', 'u'), ('a', 'e', 'u', 'o', 'a'), ('a', 'e', 'u', 'o', 'e'), ('a', 'e', 'u', 'o', 'i'), ('a', 'e', 'u', 'o', 'o'), ('a', 'e', 'u', 'o', 'u'), ('a', 'e', 'u', 'u', 'a'), ('a', 'e', 'u', 'u', 'e'), ('a', 'e', 'u', 'u', 'i'), ('a', 'e', 'u', 'u', 'o'), ('a', 'e', 'u', 'u', 'u'), ('a', 'i', 'a', 'a', 'a'), ('a', 'i', 'a', 'a', 'e'), ('a', 'i', 'a', 'a', 'i'), ('a', 'i', 'a', 'a', 'o'), ('a', 'i', 'a', 'a', 'u'), ('a', 'i', 'a', 'e', 'a'), ('a', 'i', 'a', 'e', 'e'), ('a', 'i', 'a', 'e', 'i'), ('a', 'i', 'a', 'e', 'o'), ('a', 'i', 'a', 'e', 'u'), ('a', 'i', 'a', 'i', 'a'), ('a', 'i', 'a', 'i', 'e'), ('a', 'i', 'a', 'i', 'i'), ('a', 'i', 'a', 'i', 'o'), ('a', 'i', 'a', 'i', 'u'), ('a', 'i', 'a', 'o', 'a'), ('a', 'i', 'a', 'o', 'e'), ('a', 'i', 'a', 'o', 'i'), ('a', 'i', 'a', 'o', 'o'), ('a', 'i', 'a', 'o', 'u'), ('a', 'i', 'a', 'u', 'a'), ('a', 'i', 'a', 'u', 'e'), ('a', 'i', 'a', 'u', 'i'), ('a', 'i', 'a', 'u', 'o'), ('a', 'i', 'a', 'u', 'u'), ('a', 'i', 'e', 'a', 'a'), ('a', 'i', 'e', 'a', 'e'), ('a', 'i', 'e', 'a', 'i'), ('a', 'i', 'e', 'a', 'o'), ('a', 'i', 'e', 'a', 'u'), ('a', 'i', 'e', 'e', 'a'), ('a', 'i', 'e', 'e', 'e'), ('a', 'i', 'e', 'e', 'i'), ('a', 'i', 'e', 'e', 'o'), ('a', 'i', 'e', 'e', 'u'), ('a', 'i', 'e', 'i', 'a'), ('a', 'i', 'e', 'i', 'e'), ('a', 'i', 'e', 'i', 'i'), ('a', 'i', 'e', 'i', 'o'), ('a', 'i', 'e', 'i', 'u'), ('a', 'i', 'e', 'o', 'a'), ('a', 'i', 'e', 'o', 'e'), ('a', 'i', 'e', 'o', 'i'), ('a', 'i', 'e', 'o', 'o'), ('a', 'i', 'e', 'o', 'u'), ('a', 'i', 'e', 'u', 'a'), ('a', 'i', 'e', 'u', 'e'), ('a', 'i', 'e', 'u', 'i'), ('a', 'i', 'e', 'u', 'o'), ('a', 'i', 'e', 'u', 'u'), ('a', 'i', 'i', 'a', 'a'), ('a', 'i', 'i', 'a', 'e'), ('a', 'i', 'i', 'a', 'i'), ('a', 'i', 'i', 'a', 'o'), ('a', 'i', 'i', 'a', 'u'), ('a', 'i', 'i', 'e', 'a'), ('a', 'i', 'i', 'e', 'e'), ('a', 'i', 'i', 'e', 'i'), ('a', 'i', 'i', 'e', 'o'), ('a', 'i', 'i', 'e', 'u'), ('a', 'i', 'i', 'i', 'a'), ('a', 'i', 'i', 'i', 'e'), ('a', 'i', 'i', 'i', 'i'), ('a', 'i', 'i', 'i', 'o'), ('a', 'i', 'i', 'i', 'u'), ('a', 'i', 'i', 'o', 'a'), ('a', 'i', 'i', 'o', 'e'), ('a', 'i', 'i', 'o', 'i'), ('a', 'i', 'i', 'o', 'o'), ('a', 'i', 'i', 'o', 'u'), ('a', 'i', 'i', 'u', 'a'), ('a', 'i', 'i', 'u', 'e'), ('a', 'i', 'i', 'u', 'i'), ('a', 'i', 'i', 'u', 'o'), ('a', 'i', 'i', 'u', 'u'), ('a', 'i', 'o', 'a', 'a'), ('a', 'i', 'o', 'a', 'e'), ('a', 'i', 'o', 'a', 'i'), ('a', 'i', 'o', 'a', 'o'), ('a', 'i', 'o', 'a', 'u'), ('a', 'i', 'o', 'e', 'a'), ('a', 'i', 'o', 'e', 'e'), ('a', 'i', 'o', 'e', 'i'), ('a', 'i', 'o', 'e', 'o'), ('a', 'i', 'o', 'e', 'u'), ('a', 'i', 'o', 'i', 'a'), ('a', 'i', 'o', 'i', 'e'), ('a', 'i', 'o', 'i', 'i'), ('a', 'i', 'o', 'i', 'o'), ('a', 'i', 'o', 'i', 'u'), ('a', 'i', 'o', 'o', 'a'), ('a', 'i', 'o', 'o', 'e'), ('a', 'i', 'o', 'o', 'i'), ('a', 'i', 'o', 'o', 'o'), ('a', 'i', 'o', 'o', 'u'), ('a', 'i', 'o', 'u', 'a'), ('a', 'i', 'o', 'u', 'e'), ('a', 'i', 'o', 'u', 'i'), ('a', 'i', 'o', 'u', 'o'), ('a', 'i', 'o', 'u', 'u'), ('a', 'i', 'u', 'a', 'a'), ('a', 'i', 'u', 'a', 'e'), ('a', 'i', 'u', 'a', 'i'), ('a', 'i', 'u', 'a', 'o'), ('a', 'i', 'u', 'a', 'u'), ('a', 'i', 'u', 'e', 'a'), ('a', 'i', 'u', 'e', 'e'), ('a', 'i', 'u', 'e', 'i'), ('a', 'i', 'u', 'e', 'o'), ('a', 'i', 'u', 'e', 'u'), ('a', 'i', 'u', 'i', 'a'), ('a', 'i', 'u', 'i', 'e'), ('a', 'i', 'u', 'i', 'i'), ('a', 'i', 'u', 'i', 'o'), ('a', 'i', 'u', 'i', 'u'), ('a', 'i', 'u', 'o', 'a'), ('a', 'i', 'u', 'o', 'e'), ('a', 'i', 'u', 'o', 'i'), ('a', 'i', 'u', 'o', 'o'), ('a', 'i', 'u', 'o', 'u'), ('a', 'i', 'u', 'u', 'a'), ('a', 'i', 'u', 'u', 'e'), ('a', 'i', 'u', 'u', 'i'), ('a', 'i', 'u', 'u', 'o'), ('a', 'i', 'u', 'u', 'u'), ('a', 'o', 'a', 'a', 'a'), ('a', 'o', 'a', 'a', 'e'), ('a', 'o', 'a', 'a', 'i'), ('a', 'o', 'a', 'a', 'o'), ('a', 'o', 'a', 'a', 'u'), ('a', 'o', 'a', 'e', 'a'), ('a', 'o', 'a', 'e', 'e'), ('a', 'o', 'a', 'e', 'i'), ('a', 'o', 'a', 'e', 'o'), ('a', 'o', 'a', 'e', 'u'), ('a', 'o', 'a', 'i', 'a'), ('a', 'o', 'a', 'i', 'e'), ('a', 'o', 'a', 'i', 'i'), ('a', 'o', 'a', 'i', 'o'), ('a', 'o', 'a', 'i', 'u'), ('a', 'o', 'a', 'o', 'a'), ('a', 'o', 'a', 'o', 'e'), ('a', 'o', 'a', 'o', 'i'), ('a', 'o', 'a', 'o', 'o'), ('a', 'o', 'a', 'o', 'u'), ('a', 'o', 'a', 'u', 'a'), ('a', 'o', 'a', 'u', 'e'), ('a', 'o', 'a', 'u', 'i'), ('a', 'o', 'a', 'u', 'o'), ('a', 'o', 'a', 'u', 'u'), ('a', 'o', 'e', 'a', 'a'), ('a', 'o', 'e', 'a', 'e'), ('a', 'o', 'e', 'a', 'i'), ('a', 'o', 'e', 'a', 'o'), ('a', 'o', 'e', 'a', 'u'), ('a', 'o', 'e', 'e', 'a'), ('a', 'o', 'e', 'e', 'e'), ('a', 'o', 'e', 'e', 'i'), ('a', 'o', 'e', 'e', 'o'), ('a', 'o', 'e', 'e', 'u'), ('a', 'o', 'e', 'i', 'a'), ('a', 'o', 'e', 'i', 'e'), ('a', 'o', 'e', 'i', 'i'), ('a', 'o', 'e', 'i', 'o'), ('a', 'o', 'e', 'i', 'u'), ('a', 'o', 'e', 'o', 'a'), ('a', 'o', 'e', 'o', 'e'), ('a', 'o', 'e', 'o', 'i'), ('a', 'o', 'e', 'o', 'o'), ('a', 'o', 'e', 'o', 'u'), ('a', 'o', 'e', 'u', 'a'), ('a', 'o', 'e', 'u', 'e'), ('a', 'o', 'e', 'u', 'i'), ('a', 'o', 'e', 'u', 'o'), ('a', 'o', 'e', 'u', 'u'), ('a', 'o', 'i', 'a', 'a'), ('a', 'o', 'i', 'a', 'e'), ('a', 'o', 'i', 'a', 'i'), ('a', 'o', 'i', 'a', 'o'), ('a', 'o', 'i', 'a', 'u'), ('a', 'o', 'i', 'e', 'a'), ('a', 'o', 'i', 'e', 'e'), ('a', 'o', 'i', 'e', 'i'), ('a', 'o', 'i', 'e', 'o'), ('a', 'o', 'i', 'e', 'u'), ('a', 'o', 'i', 'i', 'a'), ('a', 'o', 'i', 'i', 'e'), ('a', 'o', 'i', 'i', 'i'), ('a', 'o', 'i', 'i', 'o'), ('a', 'o', 'i', 'i', 'u'), ('a', 'o', 'i', 'o', 'a'), ('a', 'o', 'i', 'o', 'e'), ('a', 'o', 'i', 'o', 'i'), ('a', 'o', 'i', 'o', 'o'), ('a', 'o', 'i', 'o', 'u'), ('a', 'o', 'i', 'u', 'a'), ('a', 'o', 'i', 'u', 'e'), ('a', 'o', 'i', 'u', 'i'), ('a', 'o', 'i', 'u', 'o'), ('a', 'o', 'i', 'u', 'u'), ('a', 'o', 'o', 'a', 'a'), ('a', 'o', 'o', 'a', 'e'), ('a', 'o', 'o', 'a', 'i'), ('a', 'o', 'o', 'a', 'o'), ('a', 'o', 'o', 'a', 'u'), ('a', 'o', 'o', 'e', 'a'), ('a', 'o', 'o', 'e', 'e'), ('a', 'o', 'o', 'e', 'i'), ('a', 'o', 'o', 'e', 'o'), ('a', 'o', 'o', 'e', 'u'), ('a', 'o', 'o', 'i', 'a'), ('a', 'o', 'o', 'i', 'e'), ('a', 'o', 'o', 'i', 'i'), ('a', 'o', 'o', 'i', 'o'), ('a', 'o', 'o', 'i', 'u'), ('a', 'o', 'o', 'o', 'a'), ('a', 'o', 'o', 'o', 'e'), ('a', 'o', 'o', 'o', 'i'), ('a', 'o', 'o', 'o', 'o'), ('a', 'o', 'o', 'o', 'u'), ('a', 'o', 'o', 'u', 'a'), ('a', 'o', 'o', 'u', 'e'), ('a', 'o', 'o', 'u', 'i'), ('a', 'o', 'o', 'u', 'o'), ('a', 'o', 'o', 'u', 'u'), ('a', 'o', 'u', 'a', 'a'), ('a', 'o', 'u', 'a', 'e'), ('a', 'o', 'u', 'a', 'i'), ('a', 'o', 'u', 'a', 'o'), ('a', 'o', 'u', 'a', 'u'), ('a', 'o', 'u', 'e', 'a'), ('a', 'o', 'u', 'e', 'e'), ('a', 'o', 'u', 'e', 'i'), ('a', 'o', 'u', 'e', 'o'), ('a', 'o', 'u', 'e', 'u'), ('a', 'o', 'u', 'i', 'a'), ('a', 'o', 'u', 'i', 'e'), ('a', 'o', 'u', 'i', 'i'), ('a', 'o', 'u', 'i', 'o'), ('a', 'o', 'u', 'i', 'u'), ('a', 'o', 'u', 'o', 'a'), ('a', 'o', 'u', 'o', 'e'), ('a', 'o', 'u', 'o', 'i'), ('a', 'o', 'u', 'o', 'o'), ('a', 'o', 'u', 'o', 'u'), ('a', 'o', 'u', 'u', 'a'), ('a', 'o', 'u', 'u', 'e'), ('a', 'o', 'u', 'u', 'i'), ('a', 'o', 'u', 'u', 'o'), ('a', 'o', 'u', 'u', 'u'), ('a', 'u', 'a', 'a', 'a'), ('a', 'u', 'a', 'a', 'e'), ('a', 'u', 'a', 'a', 'i'), ('a', 'u', 'a', 'a', 'o'), ('a', 'u', 'a', 'a', 'u'), ('a', 'u', 'a', 'e', 'a'), ('a', 'u', 'a', 'e', 'e'), ('a', 'u', 'a', 'e', 'i'), ('a', 'u', 'a', 'e', 'o'), ('a', 'u', 'a', 'e', 'u'), ('a', 'u', 'a', 'i', 'a'), ('a', 'u', 'a', 'i', 'e'), ('a', 'u', 'a', 'i', 'i'), ('a', 'u', 'a', 'i', 'o'), ('a', 'u', 'a', 'i', 'u'), ('a', 'u', 'a', 'o', 'a'), ('a', 'u', 'a', 'o', 'e'), ('a', 'u', 'a', 'o', 'i'), ('a', 'u', 'a', 'o', 'o'), ('a', 'u', 'a', 'o', 'u'), ('a', 'u', 'a', 'u', 'a'), ('a', 'u', 'a', 'u', 'e'), ('a', 'u', 'a', 'u', 'i'), ('a', 'u', 'a', 'u', 'o'), ('a', 'u', 'a', 'u', 'u'), ('a', 'u', 'e', 'a', 'a'), ('a', 'u', 'e', 'a', 'e'), ('a', 'u', 'e', 'a', 'i'), ('a', 'u', 'e', 'a', 'o'), ('a', 'u', 'e', 'a', 'u'), ('a', 'u', 'e', 'e', 'a'), ('a', 'u', 'e', 'e', 'e'), ('a', 'u', 'e', 'e', 'i'), ('a', 'u', 'e', 'e', 'o'), ('a', 'u', 'e', 'e', 'u'), ('a', 'u', 'e', 'i', 'a'), ('a', 'u', 'e', 'i', 'e'), ('a', 'u', 'e', 'i', 'i'), ('a', 'u', 'e', 'i', 'o'), ('a', 'u', 'e', 'i', 'u'), ('a', 'u', 'e', 'o', 'a'), ('a', 'u', 'e', 'o', 'e'), ('a', 'u', 'e', 'o', 'i'), ('a', 'u', 'e', 'o', 'o'), ('a', 'u', 'e', 'o', 'u'), ('a', 'u', 'e', 'u', 'a'), ('a', 'u', 'e', 'u', 'e'), ('a', 'u', 'e', 'u', 'i'), ('a', 'u', 'e', 'u', 'o'), ('a', 'u', 'e', 'u', 'u'), ('a', 'u', 'i', 'a', 'a'), ('a', 'u', 'i', 'a', 'e'), ('a', 'u', 'i', 'a', 'i'), ('a', 'u', 'i', 'a', 'o'), ('a', 'u', 'i', 'a', 'u'), ('a', 'u', 'i', 'e', 'a'), ('a', 'u', 'i', 'e', 'e'), ('a', 'u', 'i', 'e', 'i'), ('a', 'u', 'i', 'e', 'o'), ('a', 'u', 'i', 'e', 'u'), ('a', 'u', 'i', 'i', 'a'), ('a', 'u', 'i', 'i', 'e'), ('a', 'u', 'i', 'i', 'i'), ('a', 'u', 'i', 'i', 'o'), ('a', 'u', 'i', 'i', 'u'), ('a', 'u', 'i', 'o', 'a'), ('a', 'u', 'i', 'o', 'e'), ('a', 'u', 'i', 'o', 'i'), ('a', 'u', 'i', 'o', 'o'), ('a', 'u', 'i', 'o', 'u'), ('a', 'u', 'i', 'u', 'a'), ('a', 'u', 'i', 'u', 'e'), ('a', 'u', 'i', 'u', 'i'), ('a', 'u', 'i', 'u', 'o'), ('a', 'u', 'i', 'u', 'u'), ('a', 'u', 'o', 'a', 'a'), ('a', 'u', 'o', 'a', 'e'), ('a', 'u', 'o', 'a', 'i'), ('a', 'u', 'o', 'a', 'o'), ('a', 'u', 'o', 'a', 'u'), ('a', 'u', 'o', 'e', 'a'), ('a', 'u', 'o', 'e', 'e'), ('a', 'u', 'o', 'e', 'i'), ('a', 'u', 'o', 'e', 'o'), ('a', 'u', 'o', 'e', 'u'), ('a', 'u', 'o', 'i', 'a'), ('a', 'u', 'o', 'i', 'e'), ('a', 'u', 'o', 'i', 'i'), ('a', 'u', 'o', 'i', 'o'), ('a', 'u', 'o', 'i', 'u'), ('a', 'u', 'o', 'o', 'a'), ('a', 'u', 'o', 'o', 'e'), ('a', 'u', 'o', 'o', 'i'), ('a', 'u', 'o', 'o', 'o'), ('a', 'u', 'o', 'o', 'u'), ('a', 'u', 'o', 'u', 'a'), ('a', 'u', 'o', 'u', 'e'), ('a', 'u', 'o', 'u', 'i'), ('a', 'u', 'o', 'u', 'o'), ('a', 'u', 'o', 'u', 'u'), ('a', 'u', 'u', 'a', 'a'), ('a', 'u', 'u', 'a', 'e'), ('a', 'u', 'u', 'a', 'i'), ('a', 'u', 'u', 'a', 'o'), ('a', 'u', 'u', 'a', 'u'), ('a', 'u', 'u', 'e', 'a'), ('a', 'u', 'u', 'e', 'e'), ('a', 'u', 'u', 'e', 'i'), ('a', 'u', 'u', 'e', 'o'), ('a', 'u', 'u', 'e', 'u'), ('a', 'u', 'u', 'i', 'a'), ('a', 'u', 'u', 'i', 'e'), ('a', 'u', 'u', 'i', 'i'), ('a', 'u', 'u', 'i', 'o'), ('a', 'u', 'u', 'i', 'u'), ('a', 'u', 'u', 'o', 'a'), ('a', 'u', 'u', 'o', 'e'), ('a', 'u', 'u', 'o', 'i'), ('a', 'u', 'u', 'o', 'o'), ('a', 'u', 'u', 'o', 'u'), ('a', 'u', 'u', 'u', 'a'), ('a', 'u', 'u', 'u', 'e'), ('a', 'u', 'u', 'u', 'i'), ('a', 'u', 'u', 'u', 'o'), ('a', 'u', 'u', 'u', 'u'), ('e', 'e', 'a', 'a', 'a'), ('e', 'e', 'a', 'a', 'e'), ('e', 'e', 'a', 'a', 'i'), ('e', 'e', 'a', 'a', 'o'), ('e', 'e', 'a', 'a', 'u'), ('e', 'e', 'a', 'e', 'a'), ('e', 'e', 'a', 'e', 'e'), ('e', 'e', 'a', 'e', 'i'), ('e', 'e', 'a', 'e', 'o'), ('e', 'e', 'a', 'e', 'u'), ('e', 'e', 'a', 'i', 'a'), ('e', 'e', 'a', 'i', 'e'), ('e', 'e', 'a', 'i', 'i'), ('e', 'e', 'a', 'i', 'o'), ('e', 'e', 'a', 'i', 'u'), ('e', 'e', 'a', 'o', 'a'), ('e', 'e', 'a', 'o', 'e'), ('e', 'e', 'a', 'o', 'i'), ('e', 'e', 'a', 'o', 'o'), ('e', 'e', 'a', 'o', 'u'), ('e', 'e', 'a', 'u', 'a'), ('e', 'e', 'a', 'u', 'e'), ('e', 'e', 'a', 'u', 'i'), ('e', 'e', 'a', 'u', 'o'), ('e', 'e', 'a', 'u', 'u'), ('e', 'e', 'e', 'a', 'a'), ('e', 'e', 'e', 'a', 'e'), ('e', 'e', 'e', 'a', 'i'), ('e', 'e', 'e', 'a', 'o'), ('e', 'e', 'e', 'a', 'u'), ('e', 'e', 'e', 'e', 'a'), ('e', 'e', 'e', 'e', 'e'), ('e', 'e', 'e', 'e', 'i'), ('e', 'e', 'e', 'e', 'o'), ('e', 'e', 'e', 'e', 'u'), ('e', 'e', 'e', 'i', 'a'), ('e', 'e', 'e', 'i', 'e'), ('e', 'e', 'e', 'i', 'i'), ('e', 'e', 'e', 'i', 'o'), ('e', 'e', 'e', 'i', 'u'), ('e', 'e', 'e', 'o', 'a'), ('e', 'e', 'e', 'o', 'e'), ('e', 'e', 'e', 'o', 'i'), ('e', 'e', 'e', 'o', 'o'), ('e', 'e', 'e', 'o', 'u'), ('e', 'e', 'e', 'u', 'a'), ('e', 'e', 'e', 'u', 'e'), ('e', 'e', 'e', 'u', 'i'), ('e', 'e', 'e', 'u', 'o'), ('e', 'e', 'e', 'u', 'u'), ('e', 'e', 'i', 'a', 'a'), ('e', 'e', 'i', 'a', 'e'), ('e', 'e', 'i', 'a', 'i'), ('e', 'e', 'i', 'a', 'o'), ('e', 'e', 'i', 'a', 'u'), ('e', 'e', 'i', 'e', 'a'), ('e', 'e', 'i', 'e', 'e'), ('e', 'e', 'i', 'e', 'i'), ('e', 'e', 'i', 'e', 'o'), ('e', 'e', 'i', 'e', 'u'), ('e', 'e', 'i', 'i', 'a'), ('e', 'e', 'i', 'i', 'e'), ('e', 'e', 'i', 'i', 'i'), ('e', 'e', 'i', 'i', 'o'), ('e', 'e', 'i', 'i', 'u'), ('e', 'e', 'i', 'o', 'a'), ('e', 'e', 'i', 'o', 'e'), ('e', 'e', 'i', 'o', 'i'), ('e', 'e', 'i', 'o', 'o'), ('e', 'e', 'i', 'o', 'u'), ('e', 'e', 'i', 'u', 'a'), ('e', 'e', 'i', 'u', 'e'), ('e', 'e', 'i', 'u', 'i'), ('e', 'e', 'i', 'u', 'o'), ('e', 'e', 'i', 'u', 'u'), ('e', 'e', 'o', 'a', 'a'), ('e', 'e', 'o', 'a', 'e'), ('e', 'e', 'o', 'a', 'i'), ('e', 'e', 'o', 'a', 'o'), ('e', 'e', 'o', 'a', 'u'), ('e', 'e', 'o', 'e', 'a'), ('e', 'e', 'o', 'e', 'e'), ('e', 'e', 'o', 'e', 'i'), ('e', 'e', 'o', 'e', 'o'), ('e', 'e', 'o', 'e', 'u'), ('e', 'e', 'o', 'i', 'a'), ('e', 'e', 'o', 'i', 'e'), ('e', 'e', 'o', 'i', 'i'), ('e', 'e', 'o', 'i', 'o'), ('e', 'e', 'o', 'i', 'u'), ('e', 'e', 'o', 'o', 'a'), ('e', 'e', 'o', 'o', 'e'), ('e', 'e', 'o', 'o', 'i'), ('e', 'e', 'o', 'o', 'o'), ('e', 'e', 'o', 'o', 'u'), ('e', 'e', 'o', 'u', 'a'), ('e', 'e', 'o', 'u', 'e'), ('e', 'e', 'o', 'u', 'i'), ('e', 'e', 'o', 'u', 'o'), ('e', 'e', 'o', 'u', 'u'), ('e', 'e', 'u', 'a', 'a'), ('e', 'e', 'u', 'a', 'e'), ('e', 'e', 'u', 'a', 'i'), ('e', 'e', 'u', 'a', 'o'), ('e', 'e', 'u', 'a', 'u'), ('e', 'e', 'u', 'e', 'a'), ('e', 'e', 'u', 'e', 'e'), ('e', 'e', 'u', 'e', 'i'), ('e', 'e', 'u', 'e', 'o'), ('e', 'e', 'u', 'e', 'u'), ('e', 'e', 'u', 'i', 'a'), ('e', 'e', 'u', 'i', 'e'), ('e', 'e', 'u', 'i', 'i'), ('e', 'e', 'u', 'i', 'o'), ('e', 'e', 'u', 'i', 'u'), ('e', 'e', 'u', 'o', 'a'), ('e', 'e', 'u', 'o', 'e'), ('e', 'e', 'u', 'o', 'i'), ('e', 'e', 'u', 'o', 'o'), ('e', 'e', 'u', 'o', 'u'), ('e', 'e', 'u', 'u', 'a'), ('e', 'e', 'u', 'u', 'e'), ('e', 'e', 'u', 'u', 'i'), ('e', 'e', 'u', 'u', 'o'), ('e', 'e', 'u', 'u', 'u'), ('e', 'i', 'a', 'a', 'a'), ('e', 'i', 'a', 'a', 'e'), ('e', 'i', 'a', 'a', 'i'), ('e', 'i', 'a', 'a', 'o'), ('e', 'i', 'a', 'a', 'u'), ('e', 'i', 'a', 'e', 'a'), ('e', 'i', 'a', 'e', 'e'), ('e', 'i', 'a', 'e', 'i'), ('e', 'i', 'a', 'e', 'o'), ('e', 'i', 'a', 'e', 'u'), ('e', 'i', 'a', 'i', 'a'), ('e', 'i', 'a', 'i', 'e'), ('e', 'i', 'a', 'i', 'i'), ('e', 'i', 'a', 'i', 'o'), ('e', 'i', 'a', 'i', 'u'), ('e', 'i', 'a', 'o', 'a'), ('e', 'i', 'a', 'o', 'e'), ('e', 'i', 'a', 'o', 'i'), ('e', 'i', 'a', 'o', 'o'), ('e', 'i', 'a', 'o', 'u'), ('e', 'i', 'a', 'u', 'a'), ('e', 'i', 'a', 'u', 'e'), ('e', 'i', 'a', 'u', 'i'), ('e', 'i', 'a', 'u', 'o'), ('e', 'i', 'a', 'u', 'u'), ('e', 'i', 'e', 'a', 'a'), ('e', 'i', 'e', 'a', 'e'), ('e', 'i', 'e', 'a', 'i'), ('e', 'i', 'e', 'a', 'o'), ('e', 'i', 'e', 'a', 'u'), ('e', 'i', 'e', 'e', 'a'), ('e', 'i', 'e', 'e', 'e'), ('e', 'i', 'e', 'e', 'i'), ('e', 'i', 'e', 'e', 'o'), ('e', 'i', 'e', 'e', 'u'), ('e', 'i', 'e', 'i', 'a'), ('e', 'i', 'e', 'i', 'e'), ('e', 'i', 'e', 'i', 'i'), ('e', 'i', 'e', 'i', 'o'), ('e', 'i', 'e', 'i', 'u'), ('e', 'i', 'e', 'o', 'a'), ('e', 'i', 'e', 'o', 'e'), ('e', 'i', 'e', 'o', 'i'), ('e', 'i', 'e', 'o', 'o'), ('e', 'i', 'e', 'o', 'u'), ('e', 'i', 'e', 'u', 'a'), ('e', 'i', 'e', 'u', 'e'), ('e', 'i', 'e', 'u', 'i'), ('e', 'i', 'e', 'u', 'o'), ('e', 'i', 'e', 'u', 'u'), ('e', 'i', 'i', 'a', 'a'), ('e', 'i', 'i', 'a', 'e'), ('e', 'i', 'i', 'a', 'i'), ('e', 'i', 'i', 'a', 'o'), ('e', 'i', 'i', 'a', 'u'), ('e', 'i', 'i', 'e', 'a'), ('e', 'i', 'i', 'e', 'e'), ('e', 'i', 'i', 'e', 'i'), ('e', 'i', 'i', 'e', 'o'), ('e', 'i', 'i', 'e', 'u'), ('e', 'i', 'i', 'i', 'a'), ('e', 'i', 'i', 'i', 'e'), ('e', 'i', 'i', 'i', 'i'), ('e', 'i', 'i', 'i', 'o'), ('e', 'i', 'i', 'i', 'u'), ('e', 'i', 'i', 'o', 'a'), ('e', 'i', 'i', 'o', 'e'), ('e', 'i', 'i', 'o', 'i'), ('e', 'i', 'i', 'o', 'o'), ('e', 'i', 'i', 'o', 'u'), ('e', 'i', 'i', 'u', 'a'), ('e', 'i', 'i', 'u', 'e'), ('e', 'i', 'i', 'u', 'i'), ('e', 'i', 'i', 'u', 'o'), ('e', 'i', 'i', 'u', 'u'), ('e', 'i', 'o', 'a', 'a'), ('e', 'i', 'o', 'a', 'e'), ('e', 'i', 'o', 'a', 'i'), ('e', 'i', 'o', 'a', 'o'), ('e', 'i', 'o', 'a', 'u'), ('e', 'i', 'o', 'e', 'a'), ('e', 'i', 'o', 'e', 'e'), ('e', 'i', 'o', 'e', 'i'), ('e', 'i', 'o', 'e', 'o'), ('e', 'i', 'o', 'e', 'u'), ('e', 'i', 'o', 'i', 'a'), ('e', 'i', 'o', 'i', 'e'), ('e', 'i', 'o', 'i', 'i'), ('e', 'i', 'o', 'i', 'o'), ('e', 'i', 'o', 'i', 'u'), ('e', 'i', 'o', 'o', 'a'), ('e', 'i', 'o', 'o', 'e'), ('e', 'i', 'o', 'o', 'i'), ('e', 'i', 'o', 'o', 'o'), ('e', 'i', 'o', 'o', 'u'), ('e', 'i', 'o', 'u', 'a'), ('e', 'i', 'o', 'u', 'e'), ('e', 'i', 'o', 'u', 'i'), ('e', 'i', 'o', 'u', 'o'), ('e', 'i', 'o', 'u', 'u'), ('e', 'i', 'u', 'a', 'a'), ('e', 'i', 'u', 'a', 'e'), ('e', 'i', 'u', 'a', 'i'), ('e', 'i', 'u', 'a', 'o'), ('e', 'i', 'u', 'a', 'u'), ('e', 'i', 'u', 'e', 'a'), ('e', 'i', 'u', 'e', 'e'), ('e', 'i', 'u', 'e', 'i'), ('e', 'i', 'u', 'e', 'o'), ('e', 'i', 'u', 'e', 'u'), ('e', 'i', 'u', 'i', 'a'), ('e', 'i', 'u', 'i', 'e'), ('e', 'i', 'u', 'i', 'i'), ('e', 'i', 'u', 'i', 'o'), ('e', 'i', 'u', 'i', 'u'), ('e', 'i', 'u', 'o', 'a'), ('e', 'i', 'u', 'o', 'e'), ('e', 'i', 'u', 'o', 'i'), ('e', 'i', 'u', 'o', 'o'), ('e', 'i', 'u', 'o', 'u'), ('e', 'i', 'u', 'u', 'a'), ('e', 'i', 'u', 'u', 'e'), ('e', 'i', 'u', 'u', 'i'), ('e', 'i', 'u', 'u', 'o'), ('e', 'i', 'u', 'u', 'u'), ('e', 'o', 'a', 'a', 'a'), ('e', 'o', 'a', 'a', 'e'), ('e', 'o', 'a', 'a', 'i'), ('e', 'o', 'a', 'a', 'o'), ('e', 'o', 'a', 'a', 'u'), ('e', 'o', 'a', 'e', 'a'), ('e', 'o', 'a', 'e', 'e'), ('e', 'o', 'a', 'e', 'i'), ('e', 'o', 'a', 'e', 'o'), ('e', 'o', 'a', 'e', 'u'), ('e', 'o', 'a', 'i', 'a'), ('e', 'o', 'a', 'i', 'e'), ('e', 'o', 'a', 'i', 'i'), ('e', 'o', 'a', 'i', 'o'), ('e', 'o', 'a', 'i', 'u'), ('e', 'o', 'a', 'o', 'a'), ('e', 'o', 'a', 'o', 'e'), ('e', 'o', 'a', 'o', 'i'), ('e', 'o', 'a', 'o', 'o'), ('e', 'o', 'a', 'o', 'u'), ('e', 'o', 'a', 'u', 'a'), ('e', 'o', 'a', 'u', 'e'), ('e', 'o', 'a', 'u', 'i'), ('e', 'o', 'a', 'u', 'o'), ('e', 'o', 'a', 'u', 'u'), ('e', 'o', 'e', 'a', 'a'), ('e', 'o', 'e', 'a', 'e'), ('e', 'o', 'e', 'a', 'i'), ('e', 'o', 'e', 'a', 'o'), ('e', 'o', 'e', 'a', 'u'), ('e', 'o', 'e', 'e', 'a'), ('e', 'o', 'e', 'e', 'e'), ('e', 'o', 'e', 'e', 'i'), ('e', 'o', 'e', 'e', 'o'), ('e', 'o', 'e', 'e', 'u'), ('e', 'o', 'e', 'i', 'a'), ('e', 'o', 'e', 'i', 'e'), ('e', 'o', 'e', 'i', 'i'), ('e', 'o', 'e', 'i', 'o'), ('e', 'o', 'e', 'i', 'u'), ('e', 'o', 'e', 'o', 'a'), ('e', 'o', 'e', 'o', 'e'), ('e', 'o', 'e', 'o', 'i'), ('e', 'o', 'e', 'o', 'o'), ('e', 'o', 'e', 'o', 'u'), ('e', 'o', 'e', 'u', 'a'), ('e', 'o', 'e', 'u', 'e'), ('e', 'o', 'e', 'u', 'i'), ('e', 'o', 'e', 'u', 'o'), ('e', 'o', 'e', 'u', 'u'), ('e', 'o', 'i', 'a', 'a'), ('e', 'o', 'i', 'a', 'e'), ('e', 'o', 'i', 'a', 'i'), ('e', 'o', 'i', 'a', 'o'), ('e', 'o', 'i', 'a', 'u'), ('e', 'o', 'i', 'e', 'a'), ('e', 'o', 'i', 'e', 'e'), ('e', 'o', 'i', 'e', 'i'), ('e', 'o', 'i', 'e', 'o'), ('e', 'o', 'i', 'e', 'u'), ('e', 'o', 'i', 'i', 'a'), ('e', 'o', 'i', 'i', 'e'), ('e', 'o', 'i', 'i', 'i'), ('e', 'o', 'i', 'i', 'o'), ('e', 'o', 'i', 'i', 'u'), ('e', 'o', 'i', 'o', 'a'), ('e', 'o', 'i', 'o', 'e'), ('e', 'o', 'i', 'o', 'i'), ('e', 'o', 'i', 'o', 'o'), ('e', 'o', 'i', 'o', 'u'), ('e', 'o', 'i', 'u', 'a'), ('e', 'o', 'i', 'u', 'e'), ('e', 'o', 'i', 'u', 'i'), ('e', 'o', 'i', 'u', 'o'), ('e', 'o', 'i', 'u', 'u'), ('e', 'o', 'o', 'a', 'a'), ('e', 'o', 'o', 'a', 'e'), ('e', 'o', 'o', 'a', 'i'), ('e', 'o', 'o', 'a', 'o'), ('e', 'o', 'o', 'a', 'u'), ('e', 'o', 'o', 'e', 'a'), ('e', 'o', 'o', 'e', 'e'), ('e', 'o', 'o', 'e', 'i'), ('e', 'o', 'o', 'e', 'o'), ('e', 'o', 'o', 'e', 'u'), ('e', 'o', 'o', 'i', 'a'), ('e', 'o', 'o', 'i', 'e'), ('e', 'o', 'o', 'i', 'i'), ('e', 'o', 'o', 'i', 'o'), ('e', 'o', 'o', 'i', 'u'), ('e', 'o', 'o', 'o', 'a'), ('e', 'o', 'o', 'o', 'e'), ('e', 'o', 'o', 'o', 'i'), ('e', 'o', 'o', 'o', 'o'), ('e', 'o', 'o', 'o', 'u'), ('e', 'o', 'o', 'u', 'a'), ('e', 'o', 'o', 'u', 'e'), ('e', 'o', 'o', 'u', 'i'), ('e', 'o', 'o', 'u', 'o'), ('e', 'o', 'o', 'u', 'u'), ('e', 'o', 'u', 'a', 'a'), ('e', 'o', 'u', 'a', 'e'), ('e', 'o', 'u', 'a', 'i'), ('e', 'o', 'u', 'a', 'o'), ('e', 'o', 'u', 'a', 'u'), ('e', 'o', 'u', 'e', 'a'), ('e', 'o', 'u', 'e', 'e'), ('e', 'o', 'u', 'e', 'i'), ('e', 'o', 'u', 'e', 'o'), ('e', 'o', 'u', 'e', 'u'), ('e', 'o', 'u', 'i', 'a'), ('e', 'o', 'u', 'i', 'e'), ('e', 'o', 'u', 'i', 'i'), ('e', 'o', 'u', 'i', 'o'), ('e', 'o', 'u', 'i', 'u'), ('e', 'o', 'u', 'o', 'a'), ('e', 'o', 'u', 'o', 'e'), ('e', 'o', 'u', 'o', 'i'), ('e', 'o', 'u', 'o', 'o'), ('e', 'o', 'u', 'o', 'u'), ('e', 'o', 'u', 'u', 'a'), ('e', 'o', 'u', 'u', 'e'), ('e', 'o', 'u', 'u', 'i'), ('e', 'o', 'u', 'u', 'o'), ('e', 'o', 'u', 'u', 'u'), ('e', 'u', 'a', 'a', 'a'), ('e', 'u', 'a', 'a', 'e'), ('e', 'u', 'a', 'a', 'i'), ('e', 'u', 'a', 'a', 'o'), ('e', 'u', 'a', 'a', 'u'), ('e', 'u', 'a', 'e', 'a'), ('e', 'u', 'a', 'e', 'e'), ('e', 'u', 'a', 'e', 'i'), ('e', 'u', 'a', 'e', 'o'), ('e', 'u', 'a', 'e', 'u'), ('e', 'u', 'a', 'i', 'a'), ('e', 'u', 'a', 'i', 'e'), ('e', 'u', 'a', 'i', 'i'), ('e', 'u', 'a', 'i', 'o'), ('e', 'u', 'a', 'i', 'u'), ('e', 'u', 'a', 'o', 'a'), ('e', 'u', 'a', 'o', 'e'), ('e', 'u', 'a', 'o', 'i'), ('e', 'u', 'a', 'o', 'o'), ('e', 'u', 'a', 'o', 'u'), ('e', 'u', 'a', 'u', 'a'), ('e', 'u', 'a', 'u', 'e'), ('e', 'u', 'a', 'u', 'i'), ('e', 'u', 'a', 'u', 'o'), ('e', 'u', 'a', 'u', 'u'), ('e', 'u', 'e', 'a', 'a'), ('e', 'u', 'e', 'a', 'e'), ('e', 'u', 'e', 'a', 'i'), ('e', 'u', 'e', 'a', 'o'), ('e', 'u', 'e', 'a', 'u'), ('e', 'u', 'e', 'e', 'a'), ('e', 'u', 'e', 'e', 'e'), ('e', 'u', 'e', 'e', 'i'), ('e', 'u', 'e', 'e', 'o'), ('e', 'u', 'e', 'e', 'u'), ('e', 'u', 'e', 'i', 'a'), ('e', 'u', 'e', 'i', 'e'), ('e', 'u', 'e', 'i', 'i'), ('e', 'u', 'e', 'i', 'o'), ('e', 'u', 'e', 'i', 'u'), ('e', 'u', 'e', 'o', 'a'), ('e', 'u', 'e', 'o', 'e'), ('e', 'u', 'e', 'o', 'i'), ('e', 'u', 'e', 'o', 'o'), ('e', 'u', 'e', 'o', 'u'), ('e', 'u', 'e', 'u', 'a'), ('e', 'u', 'e', 'u', 'e'), ('e', 'u', 'e', 'u', 'i'), ('e', 'u', 'e', 'u', 'o'), ('e', 'u', 'e', 'u', 'u'), ('e', 'u', 'i', 'a', 'a'), ('e', 'u', 'i', 'a', 'e'), ('e', 'u', 'i', 'a', 'i'), ('e', 'u', 'i', 'a', 'o'), ('e', 'u', 'i', 'a', 'u'), ('e', 'u', 'i', 'e', 'a'), ('e', 'u', 'i', 'e', 'e'), ('e', 'u', 'i', 'e', 'i'), ('e', 'u', 'i', 'e', 'o'), ('e', 'u', 'i', 'e', 'u'), ('e', 'u', 'i', 'i', 'a'), ('e', 'u', 'i', 'i', 'e'), ('e', 'u', 'i', 'i', 'i'), ('e', 'u', 'i', 'i', 'o'), ('e', 'u', 'i', 'i', 'u'), ('e', 'u', 'i', 'o', 'a'), ('e', 'u', 'i', 'o', 'e'), ('e', 'u', 'i', 'o', 'i'), ('e', 'u', 'i', 'o', 'o'), ('e', 'u', 'i', 'o', 'u'), ('e', 'u', 'i', 'u', 'a'), ('e', 'u', 'i', 'u', 'e'), ('e', 'u', 'i', 'u', 'i'), ('e', 'u', 'i', 'u', 'o'), ('e', 'u', 'i', 'u', 'u'), ('e', 'u', 'o', 'a', 'a'), ('e', 'u', 'o', 'a', 'e'), ('e', 'u', 'o', 'a', 'i'), ('e', 'u', 'o', 'a', 'o'), ('e', 'u', 'o', 'a', 'u'), ('e', 'u', 'o', 'e', 'a'), ('e', 'u', 'o', 'e', 'e'), ('e', 'u', 'o', 'e', 'i'), ('e', 'u', 'o', 'e', 'o'), ('e', 'u', 'o', 'e', 'u'), ('e', 'u', 'o', 'i', 'a'), ('e', 'u', 'o', 'i', 'e'), ('e', 'u', 'o', 'i', 'i'), ('e', 'u', 'o', 'i', 'o'), ('e', 'u', 'o', 'i', 'u'), ('e', 'u', 'o', 'o', 'a'), ('e', 'u', 'o', 'o', 'e'), ('e', 'u', 'o', 'o', 'i'), ('e', 'u', 'o', 'o', 'o'), ('e', 'u', 'o', 'o', 'u'), ('e', 'u', 'o', 'u', 'a'), ('e', 'u', 'o', 'u', 'e'), ('e', 'u', 'o', 'u', 'i'), ('e', 'u', 'o', 'u', 'o'), ('e', 'u', 'o', 'u', 'u'), ('e', 'u', 'u', 'a', 'a'), ('e', 'u', 'u', 'a', 'e'), ('e', 'u', 'u', 'a', 'i'), ('e', 'u', 'u', 'a', 'o'), ('e', 'u', 'u', 'a', 'u'), ('e', 'u', 'u', 'e', 'a'), ('e', 'u', 'u', 'e', 'e'), ('e', 'u', 'u', 'e', 'i'), ('e', 'u', 'u', 'e', 'o'), ('e', 'u', 'u', 'e', 'u'), ('e', 'u', 'u', 'i', 'a'), ('e', 'u', 'u', 'i', 'e'), ('e', 'u', 'u', 'i', 'i'), ('e', 'u', 'u', 'i', 'o'), ('e', 'u', 'u', 'i', 'u'), ('e', 'u', 'u', 'o', 'a'), ('e', 'u', 'u', 'o', 'e'), ('e', 'u', 'u', 'o', 'i'), ('e', 'u', 'u', 'o', 'o'), ('e', 'u', 'u', 'o', 'u'), ('e', 'u', 'u', 'u', 'a'), ('e', 'u', 'u', 'u', 'e'), ('e', 'u', 'u', 'u', 'i'), ('e', 'u', 'u', 'u', 'o'), ('e', 'u', 'u', 'u', 'u'), ('i', 'i', 'a', 'a', 'a'), ('i', 'i', 'a', 'a', 'e'), ('i', 'i', 'a', 'a', 'i'), ('i', 'i', 'a', 'a', 'o'), ('i', 'i', 'a', 'a', 'u'), ('i', 'i', 'a', 'e', 'a'), ('i', 'i', 'a', 'e', 'e'), ('i', 'i', 'a', 'e', 'i'), ('i', 'i', 'a', 'e', 'o'), ('i', 'i', 'a', 'e', 'u'), ('i', 'i', 'a', 'i', 'a'), ('i', 'i', 'a', 'i', 'e'), ('i', 'i', 'a', 'i', 'i'), ('i', 'i', 'a', 'i', 'o'), ('i', 'i', 'a', 'i', 'u'), ('i', 'i', 'a', 'o', 'a'), ('i', 'i', 'a', 'o', 'e'), ('i', 'i', 'a', 'o', 'i'), ('i', 'i', 'a', 'o', 'o'), ('i', 'i', 'a', 'o', 'u'), ('i', 'i', 'a', 'u', 'a'), ('i', 'i', 'a', 'u', 'e'), ('i', 'i', 'a', 'u', 'i'), ('i', 'i', 'a', 'u', 'o'), ('i', 'i', 'a', 'u', 'u'), ('i', 'i', 'e', 'a', 'a'), ('i', 'i', 'e', 'a', 'e'), ('i', 'i', 'e', 'a', 'i'), ('i', 'i', 'e', 'a', 'o'), ('i', 'i', 'e', 'a', 'u'), ('i', 'i', 'e', 'e', 'a'), ('i', 'i', 'e', 'e', 'e'), ('i', 'i', 'e', 'e', 'i'), ('i', 'i', 'e', 'e', 'o'), ('i', 'i', 'e', 'e', 'u'), ('i', 'i', 'e', 'i', 'a'), ('i', 'i', 'e', 'i', 'e'), ('i', 'i', 'e', 'i', 'i'), ('i', 'i', 'e', 'i', 'o'), ('i', 'i', 'e', 'i', 'u'), ('i', 'i', 'e', 'o', 'a'), ('i', 'i', 'e', 'o', 'e'), ('i', 'i', 'e', 'o', 'i'), ('i', 'i', 'e', 'o', 'o'), ('i', 'i', 'e', 'o', 'u'), ('i', 'i', 'e', 'u', 'a'), ('i', 'i', 'e', 'u', 'e'), ('i', 'i', 'e', 'u', 'i'), ('i', 'i', 'e', 'u', 'o'), ('i', 'i', 'e', 'u', 'u'), ('i', 'i', 'i', 'a', 'a'), ('i', 'i', 'i', 'a', 'e'), ('i', 'i', 'i', 'a', 'i'), ('i', 'i', 'i', 'a', 'o'), ('i', 'i', 'i', 'a', 'u'), ('i', 'i', 'i', 'e', 'a'), ('i', 'i', 'i', 'e', 'e'), ('i', 'i', 'i', 'e', 'i'), ('i', 'i', 'i', 'e', 'o'), ('i', 'i', 'i', 'e', 'u'), ('i', 'i', 'i', 'i', 'a'), ('i', 'i', 'i', 'i', 'e'), ('i', 'i', 'i', 'i', 'i'), ('i', 'i', 'i', 'i', 'o'), ('i', 'i', 'i', 'i', 'u'), ('i', 'i', 'i', 'o', 'a'), ('i', 'i', 'i', 'o', 'e'), ('i', 'i', 'i', 'o', 'i'), ('i', 'i', 'i', 'o', 'o'), ('i', 'i', 'i', 'o', 'u'), ('i', 'i', 'i', 'u', 'a'), ('i', 'i', 'i', 'u', 'e'), ('i', 'i', 'i', 'u', 'i'), ('i', 'i', 'i', 'u', 'o'), ('i', 'i', 'i', 'u', 'u'), ('i', 'i', 'o', 'a', 'a'), ('i', 'i', 'o', 'a', 'e'), ('i', 'i', 'o', 'a', 'i'), ('i', 'i', 'o', 'a', 'o'), ('i', 'i', 'o', 'a', 'u'), ('i', 'i', 'o', 'e', 'a'), ('i', 'i', 'o', 'e', 'e'), ('i', 'i', 'o', 'e', 'i'), ('i', 'i', 'o', 'e', 'o'), ('i', 'i', 'o', 'e', 'u'), ('i', 'i', 'o', 'i', 'a'), ('i', 'i', 'o', 'i', 'e'), ('i', 'i', 'o', 'i', 'i'), ('i', 'i', 'o', 'i', 'o'), ('i', 'i', 'o', 'i', 'u'), ('i', 'i', 'o', 'o', 'a'), ('i', 'i', 'o', 'o', 'e'), ('i', 'i', 'o', 'o', 'i'), ('i', 'i', 'o', 'o', 'o'), ('i', 'i', 'o', 'o', 'u'), ('i', 'i', 'o', 'u', 'a'), ('i', 'i', 'o', 'u', 'e'), ('i', 'i', 'o', 'u', 'i'), ('i', 'i', 'o', 'u', 'o'), ('i', 'i', 'o', 'u', 'u'), ('i', 'i', 'u', 'a', 'a'), ('i', 'i', 'u', 'a', 'e'), ('i', 'i', 'u', 'a', 'i'), ('i', 'i', 'u', 'a', 'o'), ('i', 'i', 'u', 'a', 'u'), ('i', 'i', 'u', 'e', 'a'), ('i', 'i', 'u', 'e', 'e'), ('i', 'i', 'u', 'e', 'i'), ('i', 'i', 'u', 'e', 'o'), ('i', 'i', 'u', 'e', 'u'), ('i', 'i', 'u', 'i', 'a'), ('i', 'i', 'u', 'i', 'e'), ('i', 'i', 'u', 'i', 'i'), ('i', 'i', 'u', 'i', 'o'), ('i', 'i', 'u', 'i', 'u'), ('i', 'i', 'u', 'o', 'a'), ('i', 'i', 'u', 'o', 'e'), ('i', 'i', 'u', 'o', 'i'), ('i', 'i', 'u', 'o', 'o'), ('i', 'i', 'u', 'o', 'u'), ('i', 'i', 'u', 'u', 'a'), ('i', 'i', 'u', 'u', 'e'), ('i', 'i', 'u', 'u', 'i'), ('i', 'i', 'u', 'u', 'o'), ('i', 'i', 'u', 'u', 'u'), ('i', 'o', 'a', 'a', 'a'), ('i', 'o', 'a', 'a', 'e'), ('i', 'o', 'a', 'a', 'i'), ('i', 'o', 'a', 'a', 'o'), ('i', 'o', 'a', 'a', 'u'), ('i', 'o', 'a', 'e', 'a'), ('i', 'o', 'a', 'e', 'e'), ('i', 'o', 'a', 'e', 'i'), ('i', 'o', 'a', 'e', 'o'), ('i', 'o', 'a', 'e', 'u'), ('i', 'o', 'a', 'i', 'a'), ('i', 'o', 'a', 'i', 'e'), ('i', 'o', 'a', 'i', 'i'), ('i', 'o', 'a', 'i', 'o'), ('i', 'o', 'a', 'i', 'u'), ('i', 'o', 'a', 'o', 'a'), ('i', 'o', 'a', 'o', 'e'), ('i', 'o', 'a', 'o', 'i'), ('i', 'o', 'a', 'o', 'o'), ('i', 'o', 'a', 'o', 'u'), ('i', 'o', 'a', 'u', 'a'), ('i', 'o', 'a', 'u', 'e'), ('i', 'o', 'a', 'u', 'i'), ('i', 'o', 'a', 'u', 'o'), ('i', 'o', 'a', 'u', 'u'), ('i', 'o', 'e', 'a', 'a'), ('i', 'o', 'e', 'a', 'e'), ('i', 'o', 'e', 'a', 'i'), ('i', 'o', 'e', 'a', 'o'), ('i', 'o', 'e', 'a', 'u'), ('i', 'o', 'e', 'e', 'a'), ('i', 'o', 'e', 'e', 'e'), ('i', 'o', 'e', 'e', 'i'), ('i', 'o', 'e', 'e', 'o'), ('i', 'o', 'e', 'e', 'u'), ('i', 'o', 'e', 'i', 'a'), ('i', 'o', 'e', 'i', 'e'), ('i', 'o', 'e', 'i', 'i'), ('i', 'o', 'e', 'i', 'o'), ('i', 'o', 'e', 'i', 'u'), ('i', 'o', 'e', 'o', 'a'), ('i', 'o', 'e', 'o', 'e'), ('i', 'o', 'e', 'o', 'i'), ('i', 'o', 'e', 'o', 'o'), ('i', 'o', 'e', 'o', 'u'), ('i', 'o', 'e', 'u', 'a'), ('i', 'o', 'e', 'u', 'e'), ('i', 'o', 'e', 'u', 'i'), ('i', 'o', 'e', 'u', 'o'), ('i', 'o', 'e', 'u', 'u'), ('i', 'o', 'i', 'a', 'a'), ('i', 'o', 'i', 'a', 'e'), ('i', 'o', 'i', 'a', 'i'), ('i', 'o', 'i', 'a', 'o'), ('i', 'o', 'i', 'a', 'u'), ('i', 'o', 'i', 'e', 'a'), ('i', 'o', 'i', 'e', 'e'), ('i', 'o', 'i', 'e', 'i'), ('i', 'o', 'i', 'e', 'o'), ('i', 'o', 'i', 'e', 'u'), ('i', 'o', 'i', 'i', 'a'), ('i', 'o', 'i', 'i', 'e'), ('i', 'o', 'i', 'i', 'i'), ('i', 'o', 'i', 'i', 'o'), ('i', 'o', 'i', 'i', 'u'), ('i', 'o', 'i', 'o', 'a'), ('i', 'o', 'i', 'o', 'e'), ('i', 'o', 'i', 'o', 'i'), ('i', 'o', 'i', 'o', 'o'), ('i', 'o', 'i', 'o', 'u'), ('i', 'o', 'i', 'u', 'a'), ('i', 'o', 'i', 'u', 'e'), ('i', 'o', 'i', 'u', 'i'), ('i', 'o', 'i', 'u', 'o'), ('i', 'o', 'i', 'u', 'u'), ('i', 'o', 'o', 'a', 'a'), ('i', 'o', 'o', 'a', 'e'), ('i', 'o', 'o', 'a', 'i'), ('i', 'o', 'o', 'a', 'o'), ('i', 'o', 'o', 'a', 'u'), ('i', 'o', 'o', 'e', 'a'), ('i', 'o', 'o', 'e', 'e'), ('i', 'o', 'o', 'e', 'i'), ('i', 'o', 'o', 'e', 'o'), ('i', 'o', 'o', 'e', 'u'), ('i', 'o', 'o', 'i', 'a'), ('i', 'o', 'o', 'i', 'e'), ('i', 'o', 'o', 'i', 'i'), ('i', 'o', 'o', 'i', 'o'), ('i', 'o', 'o', 'i', 'u'), ('i', 'o', 'o', 'o', 'a'), ('i', 'o', 'o', 'o', 'e'), ('i', 'o', 'o', 'o', 'i'), ('i', 'o', 'o', 'o', 'o'), ('i', 'o', 'o', 'o', 'u'), ('i', 'o', 'o', 'u', 'a'), ('i', 'o', 'o', 'u', 'e'), ('i', 'o', 'o', 'u', 'i'), ('i', 'o', 'o', 'u', 'o'), ('i', 'o', 'o', 'u', 'u'), ('i', 'o', 'u', 'a', 'a'), ('i', 'o', 'u', 'a', 'e'), ('i', 'o', 'u', 'a', 'i'), ('i', 'o', 'u', 'a', 'o'), ('i', 'o', 'u', 'a', 'u'), ('i', 'o', 'u', 'e', 'a'), ('i', 'o', 'u', 'e', 'e'), ('i', 'o', 'u', 'e', 'i'), ('i', 'o', 'u', 'e', 'o'), ('i', 'o', 'u', 'e', 'u'), ('i', 'o', 'u', 'i', 'a'), ('i', 'o', 'u', 'i', 'e'), ('i', 'o', 'u', 'i', 'i'), ('i', 'o', 'u', 'i', 'o'), ('i', 'o', 'u', 'i', 'u'), ('i', 'o', 'u', 'o', 'a'), ('i', 'o', 'u', 'o', 'e'), ('i', 'o', 'u', 'o', 'i'), ('i', 'o', 'u', 'o', 'o'), ('i', 'o', 'u', 'o', 'u'), ('i', 'o', 'u', 'u', 'a'), ('i', 'o', 'u', 'u', 'e'), ('i', 'o', 'u', 'u', 'i'), ('i', 'o', 'u', 'u', 'o'), ('i', 'o', 'u', 'u', 'u'), ('i', 'u', 'a', 'a', 'a'), ('i', 'u', 'a', 'a', 'e'), ('i', 'u', 'a', 'a', 'i'), ('i', 'u', 'a', 'a', 'o'), ('i', 'u', 'a', 'a', 'u'), ('i', 'u', 'a', 'e', 'a'), ('i', 'u', 'a', 'e', 'e'), ('i', 'u', 'a', 'e', 'i'), ('i', 'u', 'a', 'e', 'o'), ('i', 'u', 'a', 'e', 'u'), ('i', 'u', 'a', 'i', 'a'), ('i', 'u', 'a', 'i', 'e'), ('i', 'u', 'a', 'i', 'i'), ('i', 'u', 'a', 'i', 'o'), ('i', 'u', 'a', 'i', 'u'), ('i', 'u', 'a', 'o', 'a'), ('i', 'u', 'a', 'o', 'e'), ('i', 'u', 'a', 'o', 'i'), ('i', 'u', 'a', 'o', 'o'), ('i', 'u', 'a', 'o', 'u'), ('i', 'u', 'a', 'u', 'a'), ('i', 'u', 'a', 'u', 'e'), ('i', 'u', 'a', 'u', 'i'), ('i', 'u', 'a', 'u', 'o'), ('i', 'u', 'a', 'u', 'u'), ('i', 'u', 'e', 'a', 'a'), ('i', 'u', 'e', 'a', 'e'), ('i', 'u', 'e', 'a', 'i'), ('i', 'u', 'e', 'a', 'o'), ('i', 'u', 'e', 'a', 'u'), ('i', 'u', 'e', 'e', 'a'), ('i', 'u', 'e', 'e', 'e'), ('i', 'u', 'e', 'e', 'i'), ('i', 'u', 'e', 'e', 'o'), ('i', 'u', 'e', 'e', 'u'), ('i', 'u', 'e', 'i', 'a'), ('i', 'u', 'e', 'i', 'e'), ('i', 'u', 'e', 'i', 'i'), ('i', 'u', 'e', 'i', 'o'), ('i', 'u', 'e', 'i', 'u'), ('i', 'u', 'e', 'o', 'a'), ('i', 'u', 'e', 'o', 'e'), ('i', 'u', 'e', 'o', 'i'), ('i', 'u', 'e', 'o', 'o'), ('i', 'u', 'e', 'o', 'u'), ('i', 'u', 'e', 'u', 'a'), ('i', 'u', 'e', 'u', 'e'), ('i', 'u', 'e', 'u', 'i'), ('i', 'u', 'e', 'u', 'o'), ('i', 'u', 'e', 'u', 'u'), ('i', 'u', 'i', 'a', 'a'), ('i', 'u', 'i', 'a', 'e'), ('i', 'u', 'i', 'a', 'i'), ('i', 'u', 'i', 'a', 'o'), ('i', 'u', 'i', 'a', 'u'), ('i', 'u', 'i', 'e', 'a'), ('i', 'u', 'i', 'e', 'e'), ('i', 'u', 'i', 'e', 'i'), ('i', 'u', 'i', 'e', 'o'), ('i', 'u', 'i', 'e', 'u'), ('i', 'u', 'i', 'i', 'a'), ('i', 'u', 'i', 'i', 'e'), ('i', 'u', 'i', 'i', 'i'), ('i', 'u', 'i', 'i', 'o'), ('i', 'u', 'i', 'i', 'u'), ('i', 'u', 'i', 'o', 'a'), ('i', 'u', 'i', 'o', 'e'), ('i', 'u', 'i', 'o', 'i'), ('i', 'u', 'i', 'o', 'o'), ('i', 'u', 'i', 'o', 'u'), ('i', 'u', 'i', 'u', 'a'), ('i', 'u', 'i', 'u', 'e'), ('i', 'u', 'i', 'u', 'i'), ('i', 'u', 'i', 'u', 'o'), ('i', 'u', 'i', 'u', 'u'), ('i', 'u', 'o', 'a', 'a'), ('i', 'u', 'o', 'a', 'e'), ('i', 'u', 'o', 'a', 'i'), ('i', 'u', 'o', 'a', 'o'), ('i', 'u', 'o', 'a', 'u'), ('i', 'u', 'o', 'e', 'a'), ('i', 'u', 'o', 'e', 'e'), ('i', 'u', 'o', 'e', 'i'), ('i', 'u', 'o', 'e', 'o'), ('i', 'u', 'o', 'e', 'u'), ('i', 'u', 'o', 'i', 'a'), ('i', 'u', 'o', 'i', 'e'), ('i', 'u', 'o', 'i', 'i'), ('i', 'u', 'o', 'i', 'o'), ('i', 'u', 'o', 'i', 'u'), ('i', 'u', 'o', 'o', 'a'), ('i', 'u', 'o', 'o', 'e'), ('i', 'u', 'o', 'o', 'i'), ('i', 'u', 'o', 'o', 'o'), ('i', 'u', 'o', 'o', 'u'), ('i', 'u', 'o', 'u', 'a'), ('i', 'u', 'o', 'u', 'e'), ('i', 'u', 'o', 'u', 'i'), ('i', 'u', 'o', 'u', 'o'), ('i', 'u', 'o', 'u', 'u'), ('i', 'u', 'u', 'a', 'a'), ('i', 'u', 'u', 'a', 'e'), ('i', 'u', 'u', 'a', 'i'), ('i', 'u', 'u', 'a', 'o'), ('i', 'u', 'u', 'a', 'u'), ('i', 'u', 'u', 'e', 'a'), ('i', 'u', 'u', 'e', 'e'), ('i', 'u', 'u', 'e', 'i'), ('i', 'u', 'u', 'e', 'o'), ('i', 'u', 'u', 'e', 'u'), ('i', 'u', 'u', 'i', 'a'), ('i', 'u', 'u', 'i', 'e'), ('i', 'u', 'u', 'i', 'i'), ('i', 'u', 'u', 'i', 'o'), ('i', 'u', 'u', 'i', 'u'), ('i', 'u', 'u', 'o', 'a'), ('i', 'u', 'u', 'o', 'e'), ('i', 'u', 'u', 'o', 'i'), ('i', 'u', 'u', 'o', 'o'), ('i', 'u', 'u', 'o', 'u'), ('i', 'u', 'u', 'u', 'a'), ('i', 'u', 'u', 'u', 'e'), ('i', 'u', 'u', 'u', 'i'), ('i', 'u', 'u', 'u', 'o'), ('i', 'u', 'u', 'u', 'u'), ('o', 'o', 'a', 'a', 'a'), ('o', 'o', 'a', 'a', 'e'), ('o', 'o', 'a', 'a', 'i'), ('o', 'o', 'a', 'a', 'o'), ('o', 'o', 'a', 'a', 'u'), ('o', 'o', 'a', 'e', 'a'), ('o', 'o', 'a', 'e', 'e'), ('o', 'o', 'a', 'e', 'i'), ('o', 'o', 'a', 'e', 'o'), ('o', 'o', 'a', 'e', 'u'), ('o', 'o', 'a', 'i', 'a'), ('o', 'o', 'a', 'i', 'e'), ('o', 'o', 'a', 'i', 'i'), ('o', 'o', 'a', 'i', 'o'), ('o', 'o', 'a', 'i', 'u'), ('o', 'o', 'a', 'o', 'a'), ('o', 'o', 'a', 'o', 'e'), ('o', 'o', 'a', 'o', 'i'), ('o', 'o', 'a', 'o', 'o'), ('o', 'o', 'a', 'o', 'u'), ('o', 'o', 'a', 'u', 'a'), ('o', 'o', 'a', 'u', 'e'), ('o', 'o', 'a', 'u', 'i'), ('o', 'o', 'a', 'u', 'o'), ('o', 'o', 'a', 'u', 'u'), ('o', 'o', 'e', 'a', 'a'), ('o', 'o', 'e', 'a', 'e'), ('o', 'o', 'e', 'a', 'i'), ('o', 'o', 'e', 'a', 'o'), ('o', 'o', 'e', 'a', 'u'), ('o', 'o', 'e', 'e', 'a'), ('o', 'o', 'e', 'e', 'e'), ('o', 'o', 'e', 'e', 'i'), ('o', 'o', 'e', 'e', 'o'), ('o', 'o', 'e', 'e', 'u'), ('o', 'o', 'e', 'i', 'a'), ('o', 'o', 'e', 'i', 'e'), ('o', 'o', 'e', 'i', 'i'), ('o', 'o', 'e', 'i', 'o'), ('o', 'o', 'e', 'i', 'u'), ('o', 'o', 'e', 'o', 'a'), ('o', 'o', 'e', 'o', 'e'), ('o', 'o', 'e', 'o', 'i'), ('o', 'o', 'e', 'o', 'o'), ('o', 'o', 'e', 'o', 'u'), ('o', 'o', 'e', 'u', 'a'), ('o', 'o', 'e', 'u', 'e'), ('o', 'o', 'e', 'u', 'i'), ('o', 'o', 'e', 'u', 'o'), ('o', 'o', 'e', 'u', 'u'), ('o', 'o', 'i', 'a', 'a'), ('o', 'o', 'i', 'a', 'e'), ('o', 'o', 'i', 'a', 'i'), ('o', 'o', 'i', 'a', 'o'), ('o', 'o', 'i', 'a', 'u'), ('o', 'o', 'i', 'e', 'a'), ('o', 'o', 'i', 'e', 'e'), ('o', 'o', 'i', 'e', 'i'), ('o', 'o', 'i', 'e', 'o'), ('o', 'o', 'i', 'e', 'u'), ('o', 'o', 'i', 'i', 'a'), ('o', 'o', 'i', 'i', 'e'), ('o', 'o', 'i', 'i', 'i'), ('o', 'o', 'i', 'i', 'o'), ('o', 'o', 'i', 'i', 'u'), ('o', 'o', 'i', 'o', 'a'), ('o', 'o', 'i', 'o', 'e'), ('o', 'o', 'i', 'o', 'i'), ('o', 'o', 'i', 'o', 'o'), ('o', 'o', 'i', 'o', 'u'), ('o', 'o', 'i', 'u', 'a'), ('o', 'o', 'i', 'u', 'e'), ('o', 'o', 'i', 'u', 'i'), ('o', 'o', 'i', 'u', 'o'), ('o', 'o', 'i', 'u', 'u'), ('o', 'o', 'o', 'a', 'a'), ('o', 'o', 'o', 'a', 'e'), ('o', 'o', 'o', 'a', 'i'), ('o', 'o', 'o', 'a', 'o'), ('o', 'o', 'o', 'a', 'u'), ('o', 'o', 'o', 'e', 'a'), ('o', 'o', 'o', 'e', 'e'), ('o', 'o', 'o', 'e', 'i'), ('o', 'o', 'o', 'e', 'o'), ('o', 'o', 'o', 'e', 'u'), ('o', 'o', 'o', 'i', 'a'), ('o', 'o', 'o', 'i', 'e'), ('o', 'o', 'o', 'i', 'i'), ('o', 'o', 'o', 'i', 'o'), ('o', 'o', 'o', 'i', 'u'), ('o', 'o', 'o', 'o', 'a'), ('o', 'o', 'o', 'o', 'e'), ('o', 'o', 'o', 'o', 'i'), ('o', 'o', 'o', 'o', 'o'), ('o', 'o', 'o', 'o', 'u'), ('o', 'o', 'o', 'u', 'a'), ('o', 'o', 'o', 'u', 'e'), ('o', 'o', 'o', 'u', 'i'), ('o', 'o', 'o', 'u', 'o'), ('o', 'o', 'o', 'u', 'u'), ('o', 'o', 'u', 'a', 'a'), ('o', 'o', 'u', 'a', 'e'), ('o', 'o', 'u', 'a', 'i'), ('o', 'o', 'u', 'a', 'o'), ('o', 'o', 'u', 'a', 'u'), ('o', 'o', 'u', 'e', 'a'), ('o', 'o', 'u', 'e', 'e'), ('o', 'o', 'u', 'e', 'i'), ('o', 'o', 'u', 'e', 'o'), ('o', 'o', 'u', 'e', 'u'), ('o', 'o', 'u', 'i', 'a'), ('o', 'o', 'u', 'i', 'e'), ('o', 'o', 'u', 'i', 'i'), ('o', 'o', 'u', 'i', 'o'), ('o', 'o', 'u', 'i', 'u'), ('o', 'o', 'u', 'o', 'a'), ('o', 'o', 'u', 'o', 'e'), ('o', 'o', 'u', 'o', 'i'), ('o', 'o', 'u', 'o', 'o'), ('o', 'o', 'u', 'o', 'u'), ('o', 'o', 'u', 'u', 'a'), ('o', 'o', 'u', 'u', 'e'), ('o', 'o', 'u', 'u', 'i'), ('o', 'o', 'u', 'u', 'o'), ('o', 'o', 'u', 'u', 'u'), ('o', 'u', 'a', 'a', 'a'), ('o', 'u', 'a', 'a', 'e'), ('o', 'u', 'a', 'a', 'i'), ('o', 'u', 'a', 'a', 'o'), ('o', 'u', 'a', 'a', 'u'), ('o', 'u', 'a', 'e', 'a'), ('o', 'u', 'a', 'e', 'e'), ('o', 'u', 'a', 'e', 'i'), ('o', 'u', 'a', 'e', 'o'), ('o', 'u', 'a', 'e', 'u'), ('o', 'u', 'a', 'i', 'a'), ('o', 'u', 'a', 'i', 'e'), ('o', 'u', 'a', 'i', 'i'), ('o', 'u', 'a', 'i', 'o'), ('o', 'u', 'a', 'i', 'u'), ('o', 'u', 'a', 'o', 'a'), ('o', 'u', 'a', 'o', 'e'), ('o', 'u', 'a', 'o', 'i'), ('o', 'u', 'a', 'o', 'o'), ('o', 'u', 'a', 'o', 'u'), ('o', 'u', 'a', 'u', 'a'), ('o', 'u', 'a', 'u', 'e'), ('o', 'u', 'a', 'u', 'i'), ('o', 'u', 'a', 'u', 'o'), ('o', 'u', 'a', 'u', 'u'), ('o', 'u', 'e', 'a', 'a'), ('o', 'u', 'e', 'a', 'e'), ('o', 'u', 'e', 'a', 'i'), ('o', 'u', 'e', 'a', 'o'), ('o', 'u', 'e', 'a', 'u'), ('o', 'u', 'e', 'e', 'a'), ('o', 'u', 'e', 'e', 'e'), ('o', 'u', 'e', 'e', 'i'), ('o', 'u', 'e', 'e', 'o'), ('o', 'u', 'e', 'e', 'u'), ('o', 'u', 'e', 'i', 'a'), ('o', 'u', 'e', 'i', 'e'), ('o', 'u', 'e', 'i', 'i'), ('o', 'u', 'e', 'i', 'o'), ('o', 'u', 'e', 'i', 'u'), ('o', 'u', 'e', 'o', 'a'), ('o', 'u', 'e', 'o', 'e'), ('o', 'u', 'e', 'o', 'i'), ('o', 'u', 'e', 'o', 'o'), ('o', 'u', 'e', 'o', 'u'), ('o', 'u', 'e', 'u', 'a'), ('o', 'u', 'e', 'u', 'e'), ('o', 'u', 'e', 'u', 'i'), ('o', 'u', 'e', 'u', 'o'), ('o', 'u', 'e', 'u', 'u'), ('o', 'u', 'i', 'a', 'a'), ('o', 'u', 'i', 'a', 'e'), ('o', 'u', 'i', 'a', 'i'), ('o', 'u', 'i', 'a', 'o'), ('o', 'u', 'i', 'a', 'u'), ('o', 'u', 'i', 'e', 'a'), ('o', 'u', 'i', 'e', 'e'), ('o', 'u', 'i', 'e', 'i'), ('o', 'u', 'i', 'e', 'o'), ('o', 'u', 'i', 'e', 'u'), ('o', 'u', 'i', 'i', 'a'), ('o', 'u', 'i', 'i', 'e'), ('o', 'u', 'i', 'i', 'i'), ('o', 'u', 'i', 'i', 'o'), ('o', 'u', 'i', 'i', 'u'), ('o', 'u', 'i', 'o', 'a'), ('o', 'u', 'i', 'o', 'e'), ('o', 'u', 'i', 'o', 'i'), ('o', 'u', 'i', 'o', 'o'), ('o', 'u', 'i', 'o', 'u'), ('o', 'u', 'i', 'u', 'a'), ('o', 'u', 'i', 'u', 'e'), ('o', 'u', 'i', 'u', 'i'), ('o', 'u', 'i', 'u', 'o'), ('o', 'u', 'i', 'u', 'u'), ('o', 'u', 'o', 'a', 'a'), ('o', 'u', 'o', 'a', 'e'), ('o', 'u', 'o', 'a', 'i'), ('o', 'u', 'o', 'a', 'o'), ('o', 'u', 'o', 'a', 'u'), ('o', 'u', 'o', 'e', 'a'), ('o', 'u', 'o', 'e', 'e'), ('o', 'u', 'o', 'e', 'i'), ('o', 'u', 'o', 'e', 'o'), ('o', 'u', 'o', 'e', 'u'), ('o', 'u', 'o', 'i', 'a'), ('o', 'u', 'o', 'i', 'e'), ('o', 'u', 'o', 'i', 'i'), ('o', 'u', 'o', 'i', 'o'), ('o', 'u', 'o', 'i', 'u'), ('o', 'u', 'o', 'o', 'a'), ('o', 'u', 'o', 'o', 'e'), ('o', 'u', 'o', 'o', 'i'), ('o', 'u', 'o', 'o', 'o'), ('o', 'u', 'o', 'o', 'u'), ('o', 'u', 'o', 'u', 'a'), ('o', 'u', 'o', 'u', 'e'), ('o', 'u', 'o', 'u', 'i'), ('o', 'u', 'o', 'u', 'o'), ('o', 'u', 'o', 'u', 'u'), ('o', 'u', 'u', 'a', 'a'), ('o', 'u', 'u', 'a', 'e'), ('o', 'u', 'u', 'a', 'i'), ('o', 'u', 'u', 'a', 'o'), ('o', 'u', 'u', 'a', 'u'), ('o', 'u', 'u', 'e', 'a'), ('o', 'u', 'u', 'e', 'e'), ('o', 'u', 'u', 'e', 'i'), ('o', 'u', 'u', 'e', 'o'), ('o', 'u', 'u', 'e', 'u'), ('o', 'u', 'u', 'i', 'a'), ('o', 'u', 'u', 'i', 'e'), ('o', 'u', 'u', 'i', 'i'), ('o', 'u', 'u', 'i', 'o'), ('o', 'u', 'u', 'i', 'u'), ('o', 'u', 'u', 'o', 'a'), ('o', 'u', 'u', 'o', 'e'), ('o', 'u', 'u', 'o', 'i'), ('o', 'u', 'u', 'o', 'o'), ('o', 'u', 'u', 'o', 'u'), ('o', 'u', 'u', 'u', 'a'), ('o', 'u', 'u', 'u', 'e'), ('o', 'u', 'u', 'u', 'i'), ('o', 'u', 'u', 'u', 'o'), ('o', 'u', 'u', 'u', 'u'), ('u', 'u', 'a', 'a', 'a'), ('u', 'u', 'a', 'a', 'e'), ('u', 'u', 'a', 'a', 'i'), ('u', 'u', 'a', 'a', 'o'), ('u', 'u', 'a', 'a', 'u'), ('u', 'u', 'a', 'e', 'a'), ('u', 'u', 'a', 'e', 'e'), ('u', 'u', 'a', 'e', 'i'), ('u', 'u', 'a', 'e', 'o'), ('u', 'u', 'a', 'e', 'u'), ('u', 'u', 'a', 'i', 'a'), ('u', 'u', 'a', 'i', 'e'), ('u', 'u', 'a', 'i', 'i'), ('u', 'u', 'a', 'i', 'o'), ('u', 'u', 'a', 'i', 'u'), ('u', 'u', 'a', 'o', 'a'), ('u', 'u', 'a', 'o', 'e'), ('u', 'u', 'a', 'o', 'i'), ('u', 'u', 'a', 'o', 'o'), ('u', 'u', 'a', 'o', 'u'), ('u', 'u', 'a', 'u', 'a'), ('u', 'u', 'a', 'u', 'e'), ('u', 'u', 'a', 'u', 'i'), ('u', 'u', 'a', 'u', 'o'), ('u', 'u', 'a', 'u', 'u'), ('u', 'u', 'e', 'a', 'a'), ('u', 'u', 'e', 'a', 'e'), ('u', 'u', 'e', 'a', 'i'), ('u', 'u', 'e', 'a', 'o'), ('u', 'u', 'e', 'a', 'u'), ('u', 'u', 'e', 'e', 'a'), ('u', 'u', 'e', 'e', 'e'), ('u', 'u', 'e', 'e', 'i'), ('u', 'u', 'e', 'e', 'o'), ('u', 'u', 'e', 'e', 'u'), ('u', 'u', 'e', 'i', 'a'), ('u', 'u', 'e', 'i', 'e'), ('u', 'u', 'e', 'i', 'i'), ('u', 'u', 'e', 'i', 'o'), ('u', 'u', 'e', 'i', 'u'), ('u', 'u', 'e', 'o', 'a'), ('u', 'u', 'e', 'o', 'e'), ('u', 'u', 'e', 'o', 'i'), ('u', 'u', 'e', 'o', 'o'), ('u', 'u', 'e', 'o', 'u'), ('u', 'u', 'e', 'u', 'a'), ('u', 'u', 'e', 'u', 'e'), ('u', 'u', 'e', 'u', 'i'), ('u', 'u', 'e', 'u', 'o'), ('u', 'u', 'e', 'u', 'u'), ('u', 'u', 'i', 'a', 'a'), ('u', 'u', 'i', 'a', 'e'), ('u', 'u', 'i', 'a', 'i'), ('u', 'u', 'i', 'a', 'o'), ('u', 'u', 'i', 'a', 'u'), ('u', 'u', 'i', 'e', 'a'), ('u', 'u', 'i', 'e', 'e'), ('u', 'u', 'i', 'e', 'i'), ('u', 'u', 'i', 'e', 'o'), ('u', 'u', 'i', 'e', 'u'), ('u', 'u', 'i', 'i', 'a'), ('u', 'u', 'i', 'i', 'e'), ('u', 'u', 'i', 'i', 'i'), ('u', 'u', 'i', 'i', 'o'), ('u', 'u', 'i', 'i', 'u'), ('u', 'u', 'i', 'o', 'a'), ('u', 'u', 'i', 'o', 'e'), ('u', 'u', 'i', 'o', 'i'), ('u', 'u', 'i', 'o', 'o'), ('u', 'u', 'i', 'o', 'u'), ('u', 'u', 'i', 'u', 'a'), ('u', 'u', 'i', 'u', 'e'), ('u', 'u', 'i', 'u', 'i'), ('u', 'u', 'i', 'u', 'o'), ('u', 'u', 'i', 'u', 'u'), ('u', 'u', 'o', 'a', 'a'), ('u', 'u', 'o', 'a', 'e'), ('u', 'u', 'o', 'a', 'i'), ('u', 'u', 'o', 'a', 'o'), ('u', 'u', 'o', 'a', 'u'), ('u', 'u', 'o', 'e', 'a'), ('u', 'u', 'o', 'e', 'e'), ('u', 'u', 'o', 'e', 'i'), ('u', 'u', 'o', 'e', 'o'), ('u', 'u', 'o', 'e', 'u'), ('u', 'u', 'o', 'i', 'a'), ('u', 'u', 'o', 'i', 'e'), ('u', 'u', 'o', 'i', 'i'), ('u', 'u', 'o', 'i', 'o'), ('u', 'u', 'o', 'i', 'u'), ('u', 'u', 'o', 'o', 'a'), ('u', 'u', 'o', 'o', 'e'), ('u', 'u', 'o', 'o', 'i'), ('u', 'u', 'o', 'o', 'o'), ('u', 'u', 'o', 'o', 'u'), ('u', 'u', 'o', 'u', 'a'), ('u', 'u', 'o', 'u', 'e'), ('u', 'u', 'o', 'u', 'i'), ('u', 'u', 'o', 'u', 'o'), ('u', 'u', 'o', 'u', 'u'), ('u', 'u', 'u', 'a', 'a'), ('u', 'u', 'u', 'a', 'e'), ('u', 'u', 'u', 'a', 'i'), ('u', 'u', 'u', 'a', 'o'), ('u', 'u', 'u', 'a', 'u'), ('u', 'u', 'u', 'e', 'a'), ('u', 'u', 'u', 'e', 'e'), ('u', 'u', 'u', 'e', 'i'), ('u', 'u', 'u', 'e', 'o'), ('u', 'u', 'u', 'e', 'u'), ('u', 'u', 'u', 'i', 'a'), ('u', 'u', 'u', 'i', 'e'), ('u', 'u', 'u', 'i', 'i'), ('u', 'u', 'u', 'i', 'o'), ('u', 'u', 'u', 'i', 'u'), ('u', 'u', 'u', 'o', 'a'), ('u', 'u', 'u', 'o', 'e'), ('u', 'u', 'u', 'o', 'i'), ('u', 'u', 'u', 'o', 'o'), ('u', 'u', 'u', 'o', 'u'), ('u', 'u', 'u', 'u', 'a'), ('u', 'u', 'u', 'u', 'e'), ('u', 'u', 'u', 'u', 'i'), ('u', 'u', 'u', 'u', 'o'), ('u', 'u', 'u', 'u', 'u')]\n",
            "1875\n"
          ]
        }
      ],
      "source": [
        "# https://leetcode.com/problems/count-sorted-vowel-strings/\n",
        "\n",
        "import itertools\n",
        "\n",
        "n = 5\n",
        "vowels = 'aeiou'\n",
        "result_arr = list(itertools.product(vowels, repeat=n))\n",
        "\n",
        "print(result_arr)\n",
        "print(len(result_arr))\n",
        "\n",
        "# for val in result_arr: \n",
        "#   if vowels.index(val[0]) > vowels.index(val[1]) : \n",
        "#     print(val)\n",
        "#     result_arr.remove(val)\n",
        "\n",
        "i = 0 \n",
        "while i <= len(result_arr):\n",
        "  for val in result_arr: \n",
        "    if vowels.index(val[0]) > vowels.index(val[1]) : \n",
        "      print(val)\n",
        "      result_arr.remove(val)\n",
        "  i+=1\n",
        "\n",
        "\n",
        "print(result_arr)\n",
        "print(len(result_arr))"
      ]
    },
    {
      "cell_type": "code",
      "execution_count": null,
      "metadata": {
        "colab": {
          "base_uri": "https://localhost:8080/"
        },
        "id": "ro28W139nr6b",
        "outputId": "b258b8fe-6ef6-44f2-86cd-2cce597b4110",
        "vscode": {
          "languageId": "python"
        }
      },
      "outputs": [
        {
          "name": "stdout",
          "output_type": "stream",
          "text": [
            "here\n",
            "here\n",
            "here\n",
            "55\n",
            "here\n",
            "here\n",
            "4\n",
            "5\n",
            "[4, 5, 6]\n"
          ]
        }
      ],
      "source": [
        "\n",
        "arr = [3,7,5,55,56,22,4,5,6]\n",
        "# arr.sort()\n",
        "temp_arr = []\n",
        "\n",
        "result_arr = []\n",
        "\n",
        "for i in range(1,len(arr)):\n",
        "  #print(arr[i])\n",
        "  if arr[i-1]+1==arr[i] : \n",
        "    print(arr[i-1])\n",
        "    if arr[i-1] not in temp_arr: temp_arr.append(arr[i-1])\n",
        "    if arr[i] not in temp_arr: temp_arr.append(arr[i])\n",
        "  else:   \n",
        "    print('here')\n",
        "    if len(temp_arr) < 3 : \n",
        "      temp_arr = []\n",
        "    elif len(temp_arr) == 3 :\n",
        "      result_arr.append(temp_arr)\n",
        "      temp_arr = []\n",
        "\n",
        "print(temp_arr)\n"
      ]
    },
    {
      "cell_type": "code",
      "execution_count": null,
      "metadata": {
        "id": "28JIz6tUq74i",
        "vscode": {
          "languageId": "python"
        }
      },
      "outputs": [],
      "source": [
        "Input:ARP\n",
        "Out: ARP\n",
        "APR\n",
        "PAR\n",
        "PRA\n",
        "RAP\n",
        "RPA\n"
      ]
    },
    {
      "cell_type": "code",
      "execution_count": null,
      "metadata": {
        "colab": {
          "base_uri": "https://localhost:8080/"
        },
        "id": "qgY2fSHRq__Q",
        "outputId": "baeb86a4-daa3-4a4c-9701-4c79a198a086",
        "vscode": {
          "languageId": "python"
        }
      },
      "outputs": [
        {
          "name": "stdout",
          "output_type": "stream",
          "text": [
            "['A', 'R', 'P']\n"
          ]
        }
      ],
      "source": [
        "input = 'ARP'\n",
        "\n",
        "input_arr = list(map(str,input))\n",
        "print(input_arr)\n",
        "\n",
        "temp_str = ''\n",
        "\n",
        "for val in input_arr: \n",
        "  temp_str+\n"
      ]
    },
    {
      "cell_type": "code",
      "execution_count": null,
      "metadata": {
        "colab": {
          "base_uri": "https://localhost:8080/",
          "height": 214
        },
        "id": "HzVKz9q7s75b",
        "outputId": "3f0b137f-a225-40c0-d6e3-e23df4c32766",
        "vscode": {
          "languageId": "python"
        }
      },
      "outputs": [
        {
          "name": "stdout",
          "output_type": "stream",
          "text": [
            "['5', '3', '2', '3', '5']\n"
          ]
        },
        {
          "ename": "IndexError",
          "evalue": "ignored",
          "output_type": "error",
          "traceback": [
            "\u001b[0;31m---------------------------------------------------------------------------\u001b[0m",
            "\u001b[0;31mIndexError\u001b[0m                                Traceback (most recent call last)",
            "\u001b[0;32m<ipython-input-17-9e22d86e8299>\u001b[0m in \u001b[0;36m<module>\u001b[0;34m()\u001b[0m\n\u001b[1;32m      5\u001b[0m \u001b[0;34m\u001b[0m\u001b[0m\n\u001b[1;32m      6\u001b[0m \u001b[0;32mfor\u001b[0m \u001b[0mi\u001b[0m \u001b[0;32min\u001b[0m \u001b[0mrange\u001b[0m\u001b[0;34m(\u001b[0m\u001b[0mlen\u001b[0m\u001b[0;34m(\u001b[0m\u001b[0minput1_str\u001b[0m\u001b[0;34m)\u001b[0m\u001b[0;34m+\u001b[0m\u001b[0;36m1\u001b[0m\u001b[0;34m,\u001b[0m\u001b[0;36m0\u001b[0m\u001b[0;34m,\u001b[0m\u001b[0;34m-\u001b[0m\u001b[0;36m1\u001b[0m\u001b[0;34m)\u001b[0m\u001b[0;34m:\u001b[0m\u001b[0;34m\u001b[0m\u001b[0;34m\u001b[0m\u001b[0m\n\u001b[0;32m----> 7\u001b[0;31m   \u001b[0mprint\u001b[0m\u001b[0;34m(\u001b[0m\u001b[0minput1_str\u001b[0m\u001b[0;34m[\u001b[0m\u001b[0mi\u001b[0m\u001b[0;34m]\u001b[0m\u001b[0;34m)\u001b[0m\u001b[0;34m\u001b[0m\u001b[0;34m\u001b[0m\u001b[0m\n\u001b[0m",
            "\u001b[0;31mIndexError\u001b[0m: list index out of range"
          ]
        }
      ],
      "source": [
        "input1 = 53235\n",
        "\n",
        "input1_str = list(map(str,str(input1)))\n",
        "print(input1_str)\n",
        "\n",
        "# for i in range(len(input1_str)+1,0,-1):\n",
        "#   print(input1_str[i])\n",
        "temp_str = ''\n",
        "\n",
        "for val in input1_str:\n",
        "  temp_str[0] = val\n",
        "\n",
        "def NavigateTo(**Kargs)\n",
        "\n",
        "  for val in kargs : \n",
        "    temp_webele = //a[contains(text(),'val')]\n",
        "    "
      ]
    },
    {
      "cell_type": "code",
      "execution_count": null,
      "metadata": {
        "id": "oZmYkrc-cxQL",
        "vscode": {
          "languageId": "python"
        }
      },
      "outputs": [],
      "source": [
        "import itertools\n",
        "\n",
        "n = 33\n",
        "vowels = 'aeiou'\n",
        "result_arr = list(itertools.product(vowels, repeat=n))\n",
        "print(result_arr)\n",
        "print(len(result_arr))"
      ]
    },
    {
      "cell_type": "code",
      "execution_count": null,
      "metadata": {
        "colab": {
          "base_uri": "https://localhost:8080/"
        },
        "id": "fN3X_uk7PQPM",
        "outputId": "17223d44-b7a1-4d07-a65a-3f4b1e23597e",
        "vscode": {
          "languageId": "python"
        }
      },
      "outputs": [
        {
          "name": "stdout",
          "output_type": "stream",
          "text": [
            "[{'a': 0, 'e': 0, 'i': 0, 'o': 0, 'u': 0}, {'a': 0, 'e': 0, 'i': 0, 'o': 0, 'u': 0}, {'a': 0, 'e': 0, 'i': 0, 'o': 0, 'u': 0}, {'a': 0, 'e': 0, 'i': 0, 'o': 0, 'u': 0}, {'a': 0, 'e': 0, 'i': 0, 'o': 0, 'u': 0}, {'a': 0, 'e': 0, 'i': 0, 'o': 0, 'u': 0}]\n",
            "[{'a': 0, 'e': 0, 'i': 0, 'o': 0, 'u': 0}, {'a': 1, 'e': 1, 'i': 1, 'o': 1, 'u': 1}, {'a': 0, 'e': 0, 'i': 0, 'o': 0, 'u': 0}, {'a': 0, 'e': 0, 'i': 0, 'o': 0, 'u': 0}, {'a': 0, 'e': 0, 'i': 0, 'o': 0, 'u': 0}, {'a': 0, 'e': 0, 'i': 0, 'o': 0, 'u': 0}]\n",
            "[{'a': 0, 'e': 0, 'i': 0, 'o': 0, 'u': 0}, {'a': 1, 'e': 1, 'i': 1, 'o': 1, 'u': 1}, {'a': 1, 'e': 2, 'i': 3, 'o': 4, 'u': 5}, {'a': 1, 'e': 3, 'i': 6, 'o': 10, 'u': 15}, {'a': 1, 'e': 4, 'i': 10, 'o': 20, 'u': 35}, {'a': 1, 'e': 5, 'i': 15, 'o': 35, 'u': 70}]\n",
            "126\n"
          ]
        }
      ],
      "source": [
        "n = 5\n",
        "# Basic Values of DP\n",
        "dp = [{'a': 0, 'e': 0, 'i': 0, 'o': 0, 'u': 0} for x in range(n+1)]\n",
        "print(dp)\n",
        "dp[1]['a'] = 1 #a\n",
        "dp[1]['e'] = 1 #e\n",
        "dp[1]['i'] = 1 #i\n",
        "dp[1]['o'] = 1 #o\n",
        "dp[1]['u'] = 1 #u\n",
        "\n",
        "print(dp)\n",
        "\n",
        "# Update DP\n",
        "for i in range(2, n+1):\n",
        "\t\tdp[i]['a'] = dp[i-1]['a']\n",
        "\t\tdp[i]['e'] = dp[i-1]['a'] + dp[i-1]['e']\n",
        "\t\tdp[i]['i'] = dp[i-1]['a'] + dp[i-1]['e'] + dp[i-1]['i']\n",
        "\t\tdp[i]['o'] = dp[i-1]['a'] + dp[i-1]['e'] + dp[i-1]['i'] + dp[i-1]['o']\n",
        "\t\tdp[i]['u'] = dp[i-1]['a'] + dp[i-1]['e'] + dp[i-1]['i'] + dp[i-1]['o'] + dp[i-1]['u']\n",
        "\n",
        "print(dp)\n",
        "print(sum(dp[n].values()))\n",
        "\n",
        "\n",
        "# return sum(dp[n].values())"
      ]
    },
    {
      "cell_type": "code",
      "execution_count": null,
      "metadata": {
        "colab": {
          "base_uri": "https://localhost:8080/"
        },
        "id": "X-eJJtp4iPEu",
        "outputId": "adcf7883-d376-4299-fd9f-e0f11e683254",
        "vscode": {
          "languageId": "python"
        }
      },
      "outputs": [
        {
          "name": "stdout",
          "output_type": "stream",
          "text": [
            "[[3, 2], [-2, 2]]\n",
            "[-2, 2]\n",
            "5\n"
          ]
        }
      ],
      "source": [
        "# https://leetcode.com/problems/minimum-time-visiting-all-points/\n",
        "\n",
        "points = [[1,1],[3,4],[-1,0]]\n",
        "points = [[3,2],[-2,2]]\n",
        "# points.sort()\n",
        "print(points)\n",
        "first_val = points[0]\n",
        "total_distance = 0\n",
        "for val in points[1:]:\n",
        "  print(val)\n",
        "  bigger_distance = lambda first_val,val : max([abs(first_val[0]-val[0]),abs(first_val[1]-val[1])])\n",
        "  total_distance+=bigger_distance(first_val,val)\n",
        "  first_val = val\n",
        "print(total_distance)\n"
      ]
    },
    {
      "cell_type": "code",
      "execution_count": null,
      "metadata": {
        "colab": {
          "base_uri": "https://localhost:8080/"
        },
        "id": "A686YZ02_s5A",
        "outputId": "98741660-e4d0-4d00-eee1-ae1447b3eb69",
        "vscode": {
          "languageId": "python"
        }
      },
      "outputs": [
        {
          "name": "stdout",
          "output_type": "stream",
          "text": [
            "(()())(())\n",
            "(\n",
            "(\n",
            ")\n",
            "(\n",
            ")\n",
            ")\n",
            "(\n",
            "(\n",
            ")\n",
            ")\n"
          ]
        }
      ],
      "source": [
        "s =\"(()())(())\"\n",
        "print(s)\n",
        "\n",
        "for val in s : \n",
        "  print(val)\n",
        "  \n"
      ]
    },
    {
      "cell_type": "code",
      "execution_count": null,
      "metadata": {
        "colab": {
          "base_uri": "https://localhost:8080/"
        },
        "id": "Q76L6Ro6Nvqf",
        "outputId": "0ddf82df-d604-421a-9677-5de50929bf10",
        "vscode": {
          "languageId": "python"
        }
      },
      "outputs": [
        {
          "name": "stdout",
          "output_type": "stream",
          "text": [
            "9669\n",
            "['9', '6', '6', '9']\n",
            "9969\n"
          ]
        }
      ],
      "source": [
        "num = 9669\n",
        "\n",
        "num_str = list(map(str,str(num)))\n",
        "print(num)\n",
        "print(num_str)\n",
        "result_str = ''\n",
        "turn_flag = True\n",
        "for val in num_str : \n",
        "  if val == '6' and turn_flag == True: \n",
        "    result_str+='9'\n",
        "    turn_flag = False\n",
        "  else: result_str+=val\n",
        "print(result_str)"
      ]
    },
    {
      "cell_type": "code",
      "execution_count": null,
      "metadata": {
        "colab": {
          "base_uri": "https://localhost:8080/"
        },
        "id": "NNE5r94FuGzV",
        "outputId": "068bdc08-2236-4930-ee51-3cd2614ed844",
        "vscode": {
          "languageId": "python"
        }
      },
      "outputs": [
        {
          "name": "stdout",
          "output_type": "stream",
          "text": [
            "mississippi\n",
            "mis*is*p*.\n"
          ]
        }
      ],
      "source": [
        "s = \"mississippi\"\n",
        "p = \"mis*is*p*.\"\n",
        "\n",
        "print(s)\n",
        "print(p)\n",
        "\n"
      ]
    },
    {
      "cell_type": "code",
      "execution_count": null,
      "metadata": {
        "colab": {
          "base_uri": "https://localhost:8080/"
        },
        "id": "QtRHOOLXEtU4",
        "outputId": "734f99bf-0dc8-4ce1-ae6c-aa1afa0e124b",
        "vscode": {
          "languageId": "python"
        }
      },
      "outputs": [
        {
          "name": "stdout",
          "output_type": "stream",
          "text": [
            "[[1, 1, 1, 1], [1, 1, 1, 1], [1, 1, 1, 1], [1, 1, 1, 1]]\n"
          ]
        }
      ],
      "source": [
        "mat = [[1,1,1,1],\n",
        "              [1,1,1,1],\n",
        "              [1,1,1,1],\n",
        "              [1,1,1,1]]\n",
        "\n",
        "print(mat) "
      ]
    },
    {
      "cell_type": "code",
      "execution_count": null,
      "metadata": {
        "colab": {
          "base_uri": "https://localhost:8080/"
        },
        "id": "CrtUHBaEAwTH",
        "outputId": "fb9ca24d-5165-4d1f-9575-869f98077cc8",
        "vscode": {
          "languageId": "python"
        }
      },
      "outputs": [
        {
          "name": "stdout",
          "output_type": "stream",
          "text": [
            "cbbd\n",
            "['c', 'b', 'b', 'd']\n",
            "c\n",
            "cb\n",
            "cbb\n",
            "cbbd\n",
            "c\n"
          ]
        }
      ],
      "source": [
        "#https://leetcode.com/problems/longest-palindromic-substring/\n",
        "\n",
        "s = \"babad\"\n",
        "s = \"cbbd\"\n",
        "\n",
        "print(s)\n",
        "\n",
        "s_arr = list(map(str,s))\n",
        "print(s_arr)\n",
        "s_pal = ''\n",
        "\n",
        "s_pal_largest = ''\n",
        "\n",
        "for val in s_arr: \n",
        "  s_pal+=val\n",
        "  print(s_pal)\n",
        "  if s_pal == s_pal[::-1] : \n",
        "    if len(s_pal) > len(s_pal_largest) : s_pal_largest = s_pal\n",
        "  # else: \n",
        "  #   s_pal=s_pal[1:]\n",
        "    # if s_pal == s_pal[::-1] : \n",
        "    #   if len(s_pal) > len(s_pal_largest) : s_pal_largest = s_pal\n",
        "\n",
        "print(s_pal_largest)\n"
      ]
    },
    {
      "cell_type": "code",
      "execution_count": null,
      "metadata": {
        "colab": {
          "base_uri": "https://localhost:8080/"
        },
        "id": "yGd2cdZHsUS6",
        "outputId": "73c3674c-5640-45db-b560-498c6f07fcad",
        "vscode": {
          "languageId": "python"
        }
      },
      "outputs": [
        {
          "name": "stdout",
          "output_type": "stream",
          "text": [
            "bcd\n"
          ]
        }
      ],
      "source": [
        "s = 'abcd'\n",
        "s = s[1:]\n",
        "print(s)"
      ]
    },
    {
      "cell_type": "code",
      "execution_count": null,
      "metadata": {
        "colab": {
          "base_uri": "https://localhost:8080/",
          "height": 128
        },
        "id": "790ltf9gySRS",
        "outputId": "134abb90-405f-4c56-dc2c-93dc2a89f41a",
        "vscode": {
          "languageId": "python"
        }
      },
      "outputs": [
        {
          "ename": "IndentationError",
          "evalue": "ignored",
          "output_type": "error",
          "traceback": [
            "\u001b[0;36m  File \u001b[0;32m\"<ipython-input-20-af7d8173321a>\"\u001b[0;36m, line \u001b[0;32m10\u001b[0m\n\u001b[0;31m    print(j)\u001b[0m\n\u001b[0m            ^\u001b[0m\n\u001b[0;31mIndentationError\u001b[0m\u001b[0;31m:\u001b[0m unindent does not match any outer indentation level\n"
          ]
        }
      ],
      "source": [
        "\n",
        "\n",
        "\n",
        "temp = ''\n",
        "maxp = ''\n",
        "\n",
        "for i in range(len(s)):\n",
        "\n",
        "\ttemp += s[i]\n",
        "\n",
        "\tfor j in range(len(temp)):\n",
        "   \n",
        "   print(j)\n",
        "\t if temp[j] == s[i] and s[j:i+1] == s[j:i+1][::-1] and len(s[j:i+1]) > len(maxp):\n",
        "\t\tmaxp = s[j:i+1]\n",
        "\t\tbreak\n",
        "\n",
        "print(maxp) "
      ]
    },
    {
      "cell_type": "code",
      "execution_count": null,
      "metadata": {
        "colab": {
          "base_uri": "https://localhost:8080/"
        },
        "id": "o1QMmz3O0G_X",
        "outputId": "75703bb2-bd06-4e28-a389-d84b7a364f6e",
        "vscode": {
          "languageId": "python"
        }
      },
      "outputs": [
        {
          "name": "stdout",
          "output_type": "stream",
          "text": [
            "cbbd\n",
            "bb\n"
          ]
        }
      ],
      "source": [
        "s = \"cbbd\"\n",
        "\n",
        "print(s)\n",
        "\n",
        "temp = ''\n",
        "maxp = ''\n",
        "\n",
        "for i in range(len(s)):\n",
        "  temp+=s[i]\n",
        "  #print(temp)\n",
        "  for j in range(len(temp)):\n",
        "    #print(temp[j])\n",
        "    #print(s[j:i+1])\n",
        "    if temp[j]==s[i] and s[j:i+1] == s[j:i+1][::-1] and len(s[j:i+1]) > len(maxp):\n",
        "      maxp = s[j:i+1]\n",
        "\n",
        "print(maxp)"
      ]
    },
    {
      "cell_type": "code",
      "execution_count": null,
      "metadata": {
        "id": "ErKAueS05tI4",
        "vscode": {
          "languageId": "python"
        }
      },
      "outputs": [],
      "source": [
        "s = \"PAYPALISHIRING\"\n",
        "numRows = 3\n",
        "\n"
      ]
    },
    {
      "cell_type": "code",
      "execution_count": null,
      "metadata": {
        "id": "VsBCfNW05CCA",
        "vscode": {
          "languageId": "python"
        }
      },
      "outputs": [],
      "source": [
        "#url : https://leetcode.com/problems/longest-substring-without-repeating-characters/\n",
        "\n",
        "s = \"abcabcbb\"\n",
        "\n",
        "\n",
        "\n"
      ]
    },
    {
      "cell_type": "code",
      "execution_count": null,
      "metadata": {
        "colab": {
          "base_uri": "https://localhost:8080/"
        },
        "id": "UIkhPue9_Cnh",
        "outputId": "af49da50-bb6a-432f-e5e9-43bd0139d08e",
        "vscode": {
          "languageId": "python"
        }
      },
      "outputs": [
        {
          "name": "stdout",
          "output_type": "stream",
          "text": [
            "True\n"
          ]
        }
      ],
      "source": [
        "# https://leetcode.com/problems/contains-duplicate/\n",
        "\n",
        "\n",
        "nums = [1,2,3,1]\n",
        "\n",
        "unique_len = len(set(nums))\n",
        "\n",
        "if unique_len == len(nums):\n",
        "  print('False')\n",
        "else:\n",
        "  print('True')"
      ]
    },
    {
      "cell_type": "code",
      "execution_count": null,
      "metadata": {
        "id": "xMexkapvAI3S",
        "vscode": {
          "languageId": "python"
        }
      },
      "outputs": [],
      "source": [
        "# https://leetcode.com/problems/contains-duplicate-iii/\n",
        "\n"
      ]
    },
    {
      "cell_type": "code",
      "execution_count": null,
      "metadata": {
        "colab": {
          "base_uri": "https://localhost:8080/"
        },
        "id": "Sx4QRjEuVnP4",
        "outputId": "ccdd00a6-2076-483b-f5c2-685dc78bde48",
        "vscode": {
          "languageId": "python"
        }
      },
      "outputs": [
        {
          "name": "stdout",
          "output_type": "stream",
          "text": [
            "False\n"
          ]
        }
      ],
      "source": [
        "val = True and False\n",
        "print(val)"
      ]
    },
    {
      "cell_type": "code",
      "execution_count": null,
      "metadata": {
        "colab": {
          "base_uri": "https://localhost:8080/"
        },
        "id": "LWXfHGaHV5aF",
        "outputId": "5ca734a4-882d-407d-d644-cdc543cbcda6",
        "vscode": {
          "languageId": "python"
        }
      },
      "outputs": [
        {
          "data": {
            "text/plain": [
              "{'a': 1, 'b': 1}"
            ]
          },
          "execution_count": 2,
          "metadata": {},
          "output_type": "execute_result"
        }
      ],
      "source": [
        "dict(**{'a': 1}, **{'b': 1})"
      ]
    },
    {
      "cell_type": "code",
      "execution_count": null,
      "metadata": {
        "colab": {
          "base_uri": "https://localhost:8080/"
        },
        "id": "CDqzhyZ0V-SC",
        "outputId": "e7d90511-f247-43e3-ada6-44389be2216d",
        "vscode": {
          "languageId": "python"
        }
      },
      "outputs": [
        {
          "data": {
            "text/plain": [
              "{'a': 1, 'b': 1}"
            ]
          },
          "execution_count": 3,
          "metadata": {},
          "output_type": "execute_result"
        }
      ],
      "source": [
        "dict({'a': 1}, **{'b': 1})"
      ]
    },
    {
      "cell_type": "code",
      "execution_count": null,
      "metadata": {
        "colab": {
          "base_uri": "https://localhost:8080/",
          "height": 165
        },
        "id": "UMreB69OWCbM",
        "outputId": "7fd707e2-d5d8-4953-bf17-c3f3f677f7a1",
        "vscode": {
          "languageId": "python"
        }
      },
      "outputs": [
        {
          "ename": "TypeError",
          "evalue": "ignored",
          "output_type": "error",
          "traceback": [
            "\u001b[0;31m---------------------------------------------------------------------------\u001b[0m",
            "\u001b[0;31mTypeError\u001b[0m                                 Traceback (most recent call last)",
            "\u001b[0;32m<ipython-input-4-7ebcf5c0c2ae>\u001b[0m in \u001b[0;36m<module>\u001b[0;34m()\u001b[0m\n\u001b[0;32m----> 1\u001b[0;31m \u001b[0;34m{\u001b[0m\u001b[0;34m'a'\u001b[0m\u001b[0;34m:\u001b[0m \u001b[0;36m1\u001b[0m\u001b[0;34m}\u001b[0m \u001b[0;34m+\u001b[0m \u001b[0;34m{\u001b[0m\u001b[0;34m'b'\u001b[0m\u001b[0;34m:\u001b[0m \u001b[0;36m1\u001b[0m\u001b[0;34m}\u001b[0m\u001b[0;34m\u001b[0m\u001b[0;34m\u001b[0m\u001b[0m\n\u001b[0m",
            "\u001b[0;31mTypeError\u001b[0m: unsupported operand type(s) for +: 'dict' and 'dict'"
          ]
        }
      ],
      "source": [
        "{'a': 1} + {'b': 1}"
      ]
    },
    {
      "cell_type": "code",
      "execution_count": null,
      "metadata": {
        "colab": {
          "base_uri": "https://localhost:8080/",
          "height": 165
        },
        "id": "iM8fiAjtWGBk",
        "outputId": "4e543b0e-32b1-406d-a256-667c127e67fd",
        "vscode": {
          "languageId": "python"
        }
      },
      "outputs": [
        {
          "ename": "TypeError",
          "evalue": "ignored",
          "output_type": "error",
          "traceback": [
            "\u001b[0;31m---------------------------------------------------------------------------\u001b[0m",
            "\u001b[0;31mTypeError\u001b[0m                                 Traceback (most recent call last)",
            "\u001b[0;32m<ipython-input-5-8d59ae8efad2>\u001b[0m in \u001b[0;36m<module>\u001b[0;34m()\u001b[0m\n\u001b[0;32m----> 1\u001b[0;31m \u001b[0;34m{\u001b[0m\u001b[0;34m'a'\u001b[0m\u001b[0;34m:\u001b[0m \u001b[0;36m1\u001b[0m\u001b[0;34m}\u001b[0m \u001b[0;34m|\u001b[0m \u001b[0;34m{\u001b[0m\u001b[0;34m'b'\u001b[0m\u001b[0;34m:\u001b[0m \u001b[0;36m1\u001b[0m\u001b[0;34m}\u001b[0m\u001b[0;34m\u001b[0m\u001b[0;34m\u001b[0m\u001b[0m\n\u001b[0m",
            "\u001b[0;31mTypeError\u001b[0m: unsupported operand type(s) for |: 'dict' and 'dict'"
          ]
        }
      ],
      "source": [
        "{'a': 1} | {'b': 1}"
      ]
    },
    {
      "cell_type": "code",
      "execution_count": null,
      "metadata": {
        "colab": {
          "base_uri": "https://localhost:8080/",
          "height": 165
        },
        "id": "pgRXsZB-WPT_",
        "outputId": "00e5414c-c282-4e5c-a5aa-785bedf5a12e",
        "vscode": {
          "languageId": "python"
        }
      },
      "outputs": [
        {
          "ename": "NameError",
          "evalue": "ignored",
          "output_type": "error",
          "traceback": [
            "\u001b[0;31m---------------------------------------------------------------------------\u001b[0m",
            "\u001b[0;31mNameError\u001b[0m                                 Traceback (most recent call last)",
            "\u001b[0;32m<ipython-input-6-a15459cb706a>\u001b[0m in \u001b[0;36m<module>\u001b[0;34m()\u001b[0m\n\u001b[0;32m----> 1\u001b[0;31m \u001b[0mjoin\u001b[0m\u001b[0;34m(\u001b[0m\u001b[0;34m[\u001b[0m\u001b[0;34m'alex'\u001b[0m\u001b[0;34m,\u001b[0m \u001b[0;34m'mike'\u001b[0m\u001b[0;34m,\u001b[0m \u001b[0;34m'nina'\u001b[0m\u001b[0;34m]\u001b[0m\u001b[0;34m,\u001b[0m \u001b[0;34m', '\u001b[0m\u001b[0;34m)\u001b[0m\u001b[0;34m\u001b[0m\u001b[0;34m\u001b[0m\u001b[0m\n\u001b[0m",
            "\u001b[0;31mNameError\u001b[0m: name 'join' is not defined"
          ]
        }
      ],
      "source": [
        "join(['alex', 'mike', 'nina'], ', ')"
      ]
    },
    {
      "cell_type": "code",
      "execution_count": null,
      "metadata": {
        "colab": {
          "base_uri": "https://localhost:8080/",
          "height": 165
        },
        "id": "SRLo5gAPWSyc",
        "outputId": "db531ac1-69be-46f5-937e-13349eee0ff0",
        "vscode": {
          "languageId": "python"
        }
      },
      "outputs": [
        {
          "ename": "AttributeError",
          "evalue": "ignored",
          "output_type": "error",
          "traceback": [
            "\u001b[0;31m---------------------------------------------------------------------------\u001b[0m",
            "\u001b[0;31mAttributeError\u001b[0m                            Traceback (most recent call last)",
            "\u001b[0;32m<ipython-input-7-7f22c37eeada>\u001b[0m in \u001b[0;36m<module>\u001b[0;34m()\u001b[0m\n\u001b[0;32m----> 1\u001b[0;31m \u001b[0;34m[\u001b[0m\u001b[0;34m'alex'\u001b[0m\u001b[0;34m,\u001b[0m \u001b[0;34m'mike'\u001b[0m\u001b[0;34m,\u001b[0m \u001b[0;34m'nina'\u001b[0m\u001b[0;34m]\u001b[0m\u001b[0;34m.\u001b[0m\u001b[0mjoin\u001b[0m\u001b[0;34m(\u001b[0m\u001b[0;34m', '\u001b[0m\u001b[0;34m)\u001b[0m\u001b[0;34m\u001b[0m\u001b[0;34m\u001b[0m\u001b[0m\n\u001b[0m",
            "\u001b[0;31mAttributeError\u001b[0m: 'list' object has no attribute 'join'"
          ]
        }
      ],
      "source": [
        "['alex', 'mike', 'nina'].join(', ')"
      ]
    },
    {
      "cell_type": "code",
      "execution_count": null,
      "metadata": {
        "colab": {
          "base_uri": "https://localhost:8080/",
          "height": 35
        },
        "id": "r2W_wUPUWTx-",
        "outputId": "407e823d-ec62-46d5-ee5f-bac5b4a77ad1",
        "vscode": {
          "languageId": "python"
        }
      },
      "outputs": [
        {
          "data": {
            "application/vnd.google.colaboratory.intrinsic+json": {
              "type": "string"
            },
            "text/plain": [
              "'alex, mike, nina'"
            ]
          },
          "execution_count": 8,
          "metadata": {},
          "output_type": "execute_result"
        }
      ],
      "source": [
        "', '.join(['alex', 'mike', 'nina'])"
      ]
    },
    {
      "cell_type": "code",
      "execution_count": null,
      "metadata": {
        "colab": {
          "base_uri": "https://localhost:8080/"
        },
        "id": "skSa9lDEWhKO",
        "outputId": "f8915433-2aee-4548-9396-ca9fb5e61737",
        "vscode": {
          "languageId": "python"
        }
      },
      "outputs": [
        {
          "name": "stdout",
          "output_type": "stream",
          "text": [
            "16\n"
          ]
        }
      ],
      "source": [
        "x = 4\n",
        "y = 2\n",
        "\n",
        "print(x**y)"
      ]
    },
    {
      "cell_type": "code",
      "execution_count": null,
      "metadata": {
        "colab": {
          "background_save": true
        },
        "id": "nJkhInrcWwrq",
        "outputId": "60a9f97c-8314-483f-8da1-f3c7ffcbe960",
        "vscode": {
          "languageId": "python"
        }
      },
      "outputs": [
        {
          "ename": "TypeError",
          "evalue": "ignored",
          "output_type": "error",
          "traceback": [
            "\u001b[0;31m---------------------------------------------------------------------------\u001b[0m",
            "\u001b[0;31mTypeError\u001b[0m                                 Traceback (most recent call last)",
            "\u001b[0;32m<ipython-input-11-12f965020ab4>\u001b[0m in \u001b[0;36m<module>\u001b[0;34m()\u001b[0m\n\u001b[1;32m      1\u001b[0m \u001b[0;31m####a == ? (Python 3)\u001b[0m\u001b[0;34m\u001b[0m\u001b[0;34m\u001b[0m\u001b[0;34m\u001b[0m\u001b[0m\n\u001b[1;32m      2\u001b[0m \u001b[0;34m\u001b[0m\u001b[0m\n\u001b[0;32m----> 3\u001b[0;31m \u001b[0ma\u001b[0m \u001b[0;34m=\u001b[0m \u001b[0;34m{\u001b[0m\u001b[0;36m1\u001b[0m\u001b[0;34m:\u001b[0m\u001b[0;36m2\u001b[0m\u001b[0;34m,\u001b[0m\u001b[0;36m2\u001b[0m\u001b[0;34m:\u001b[0m\u001b[0;36m3\u001b[0m\u001b[0;34m,\u001b[0m\u001b[0;36m3\u001b[0m\u001b[0;34m:\u001b[0m\u001b[0;36m4\u001b[0m\u001b[0;34m}\u001b[0m\u001b[0;34m<\u001b[0m\u001b[0;34m{\u001b[0m\u001b[0;36m2\u001b[0m\u001b[0;34m:\u001b[0m\u001b[0;36m5\u001b[0m\u001b[0;34m,\u001b[0m\u001b[0;36m3\u001b[0m\u001b[0;34m:\u001b[0m\u001b[0;36m6\u001b[0m\u001b[0;34m,\u001b[0m\u001b[0;36m4\u001b[0m\u001b[0;34m:\u001b[0m\u001b[0;36m7\u001b[0m\u001b[0;34m,\u001b[0m\u001b[0;36m5\u001b[0m\u001b[0;34m:\u001b[0m\u001b[0;36m8\u001b[0m\u001b[0;34m}\u001b[0m\u001b[0;34m\u001b[0m\u001b[0;34m\u001b[0m\u001b[0m\n\u001b[0m",
            "\u001b[0;31mTypeError\u001b[0m: '<' not supported between instances of 'dict' and 'dict'"
          ]
        }
      ],
      "source": [
        "a == ? (Python 3)\n",
        "\n",
        "a = {1:2,2:3,3:4}<{2:5,3:6,4:7,5:8}"
      ]
    },
    {
      "cell_type": "code",
      "execution_count": null,
      "metadata": {
        "id": "wvKp9h0mBNKa",
        "vscode": {
          "languageId": "python"
        }
      },
      "outputs": [],
      "source": []
    },
    {
      "cell_type": "code",
      "execution_count": null,
      "metadata": {
        "colab": {
          "base_uri": "https://localhost:8080/"
        },
        "id": "8xEUyU3aebJt",
        "outputId": "906dfe8e-0c52-4ce8-af0d-152c7b2fcd69",
        "vscode": {
          "languageId": "python"
        }
      },
      "outputs": [
        {
          "name": "stdout",
          "output_type": "stream",
          "text": [
            "[1, 5]\n",
            "[10, 4]\n",
            "[4, 3]\n",
            "0\n"
          ]
        }
      ],
      "source": [
        "properties = [[1,5],[10,4],[4,3]]\n",
        "#properties = [[5,5],[6,3],[3,6]]\n",
        "#properties = [[2,2],[3,3]]\n",
        "\n",
        "prev_val = None\n",
        "weak_count = 0\n",
        "for val in properties:\n",
        "  print(val)\n",
        "  if prev_val == None: prev_val = val\n",
        "  else: \n",
        "    if val[0] > prev_val[0] and val[1] > prev_val[1]: \n",
        "      weak_count += 1 \n",
        "      prev_val = val\n",
        "print(weak_count)\n",
        "\n",
        "# attack_list, defence_list = [],[]\n",
        "\n",
        "# for val in properties:\n",
        "#   attack_list.append(val[0])\n",
        "#   defence_list.append(val[1])\n",
        "\n",
        "# print(attack_list)\n",
        "# print(defence_list)\n"
      ]
    },
    {
      "cell_type": "code",
      "execution_count": null,
      "metadata": {
        "id": "BO5pSWocFVuB",
        "vscode": {
          "languageId": "python"
        }
      },
      "outputs": [],
      "source": [
        "properties = [[1,5],[10,4],[4,3]]\n",
        "\n"
      ]
    },
    {
      "cell_type": "code",
      "execution_count": null,
      "metadata": {
        "id": "e1QD_egv1ze-",
        "vscode": {
          "languageId": "python"
        }
      },
      "outputs": [],
      "source": []
    },
    {
      "cell_type": "code",
      "execution_count": null,
      "metadata": {
        "id": "uo3rtfxp10s1",
        "vscode": {
          "languageId": "python"
        }
      },
      "outputs": [],
      "source": []
    },
    {
      "cell_type": "code",
      "execution_count": null,
      "metadata": {
        "colab": {
          "base_uri": "https://localhost:8080/"
        },
        "id": "3BRFhUpT10Yk",
        "outputId": "16ac338c-0394-407d-87d2-1bd7ff4928c5",
        "vscode": {
          "languageId": "python"
        }
      },
      "outputs": [
        {
          "name": "stdout",
          "output_type": "stream",
          "text": [
            "['samsung,', 'samsung,']\n",
            "['samsung,', 'samsung,', 'OEM Samsung Washing Machine Pulsator Washplate Cap Shipped With WA48J7700AW, WA48J7700AW/A2, WA48J7700AW/AA']\n",
            "['samsung,', 'samsung,', 'OEM Samsung Washing Machine Pulsator Washplate Cap Shipped With WA48J7700AW, WA48J7700AW/A2, WA48J7700AW/AA']\n",
            "['samsung,', 'samsung,', 'OEM Samsung Washing Machine Pulsator Washplate Cap Shipped With WA48J7700AW, WA48J7700AW/A2, WA48J7700AW/AA', 'OEM Samsung Chrome Washing Machine Washplate Pulsator Cap Shipped With WA52M7750AV, WA52M7750AV/A4, WA52M7750AW, WA52M7750AW/A4']\n",
            "['samsung,', 'samsung,', 'OEM Samsung Washing Machine Pulsator Washplate Cap Shipped With WA48J7700AW, WA48J7700AW/A2, WA48J7700AW/AA', 'OEM Samsung Chrome Washing Machine Washplate Pulsator Cap Shipped With WA52M7750AV, WA52M7750AV/A4, WA52M7750AW, WA52M7750AW/A4']\n",
            "['samsung,', 'samsung,', 'OEM Samsung Washing Machine Pulsator Washplate Cap Shipped With WA48J7700AW, WA48J7700AW/A2, WA48J7700AW/AA', 'OEM Samsung Chrome Washing Machine Washplate Pulsator Cap Shipped With WA52M7750AV, WA52M7750AV/A4, WA52M7750AW, WA52M7750AW/A4', 'SAMSUNG Washing Machine Spring Hanger, DC61-01257M']\n",
            "['samsung,', 'samsung,', 'OEM Samsung Washing Machine Pulsator Washplate Cap Shipped With WA48J7700AW, WA48J7700AW/A2, WA48J7700AW/AA', 'OEM Samsung Chrome Washing Machine Washplate Pulsator Cap Shipped With WA52M7750AV, WA52M7750AV/A4, WA52M7750AW, WA52M7750AW/A4', 'SAMSUNG Washing Machine Spring Hanger, DC61-01257M']\n",
            "['samsung,', 'samsung,', 'OEM Samsung Washing Machine Pulsator Washplate Cap Shipped With WA48J7700AW, WA48J7700AW/A2, WA48J7700AW/AA', 'OEM Samsung Chrome Washing Machine Washplate Pulsator Cap Shipped With WA52M7750AV, WA52M7750AV/A4, WA52M7750AW, WA52M7750AW/A4', 'SAMSUNG Washing Machine Spring Hanger, DC61-01257M', 'Samsung DC97-17022B Assy Detergent']\n",
            "['samsung,', 'samsung,', 'OEM Samsung Washing Machine Pulsator Washplate Cap Shipped With WA48J7700AW, WA48J7700AW/A2, WA48J7700AW/AA', 'OEM Samsung Chrome Washing Machine Washplate Pulsator Cap Shipped With WA52M7750AV, WA52M7750AV/A4, WA52M7750AW, WA52M7750AW/A4', 'SAMSUNG Washing Machine Spring Hanger, DC61-01257M', 'Samsung DC97-17022B Assy Detergent']\n",
            "['samsung,', 'samsung,', 'OEM Samsung Washing Machine Pulsator Washplate Cap Shipped With WA48J7700AW, WA48J7700AW/A2, WA48J7700AW/AA', 'OEM Samsung Chrome Washing Machine Washplate Pulsator Cap Shipped With WA52M7750AV, WA52M7750AV/A4, WA52M7750AW, WA52M7750AW/A4', 'SAMSUNG Washing Machine Spring Hanger, DC61-01257M', 'Samsung DC97-17022B Assy Detergent', 'Samsung DC66-00470A DAMPER SHOCK']\n",
            "['samsung,', 'samsung,', 'OEM Samsung Washing Machine Pulsator Washplate Cap Shipped With WA48J7700AW, WA48J7700AW/A2, WA48J7700AW/AA', 'OEM Samsung Chrome Washing Machine Washplate Pulsator Cap Shipped With WA52M7750AV, WA52M7750AV/A4, WA52M7750AW, WA52M7750AW/A4', 'SAMSUNG Washing Machine Spring Hanger, DC61-01257M', 'Samsung DC97-17022B Assy Detergent', 'Samsung DC66-00470A DAMPER SHOCK']\n",
            "['samsung,', 'samsung,', 'OEM Samsung Washing Machine Pulsator Washplate Cap Shipped With WA48J7700AW, WA48J7700AW/A2, WA48J7700AW/AA', 'OEM Samsung Chrome Washing Machine Washplate Pulsator Cap Shipped With WA52M7750AV, WA52M7750AV/A4, WA52M7750AW, WA52M7750AW/A4', 'SAMSUNG Washing Machine Spring Hanger, DC61-01257M', 'Samsung DC97-17022B Assy Detergent', 'Samsung DC66-00470A DAMPER SHOCK', 'DC64-00519D Samsung Washing Machine Door Lock Washer Dryer Dishwashe -MP#GH4498 349Y49HBRG9109150']\n",
            "['samsung,', 'samsung,', 'OEM Samsung Washing Machine Pulsator Washplate Cap Shipped With WA48J7700AW, WA48J7700AW/A2, WA48J7700AW/AA', 'OEM Samsung Chrome Washing Machine Washplate Pulsator Cap Shipped With WA52M7750AV, WA52M7750AV/A4, WA52M7750AW, WA52M7750AW/A4', 'SAMSUNG Washing Machine Spring Hanger, DC61-01257M', 'Samsung DC97-17022B Assy Detergent', 'Samsung DC66-00470A DAMPER SHOCK', 'DC64-00519D Samsung Washing Machine Door Lock Washer Dryer Dishwashe -MP#GH4498 349Y49HBRG9109150']\n",
            "['samsung,', 'samsung,', 'OEM Samsung Washing Machine Pulsator Washplate Cap Shipped With WA48J7700AW, WA48J7700AW/A2, WA48J7700AW/AA', 'OEM Samsung Chrome Washing Machine Washplate Pulsator Cap Shipped With WA52M7750AV, WA52M7750AV/A4, WA52M7750AW, WA52M7750AW/A4', 'SAMSUNG Washing Machine Spring Hanger, DC61-01257M', 'Samsung DC97-17022B Assy Detergent', 'Samsung DC66-00470A DAMPER SHOCK', 'DC64-00519D Samsung Washing Machine Door Lock Washer Dryer Dishwashe -MP#GH4498 349Y49HBRG9109150', 'Samsung DC97-16991A Assembly Filter']\n",
            "['samsung,', 'samsung,', 'OEM Samsung Washing Machine Pulsator Washplate Cap Shipped With WA48J7700AW, WA48J7700AW/A2, WA48J7700AW/AA', 'OEM Samsung Chrome Washing Machine Washplate Pulsator Cap Shipped With WA52M7750AV, WA52M7750AV/A4, WA52M7750AW, WA52M7750AW/A4', 'SAMSUNG Washing Machine Spring Hanger, DC61-01257M', 'Samsung DC97-17022B Assy Detergent', 'Samsung DC66-00470A DAMPER SHOCK', 'DC64-00519D Samsung Washing Machine Door Lock Washer Dryer Dishwashe -MP#GH4498 349Y49HBRG9109150', 'Samsung DC97-16991A Assembly Filter']\n"
          ]
        }
      ],
      "source": [
        "var = \"samsung,'OEM Samsung Washing Machine Pulsator Washplate Cap Shipped With WA48J7700AW, WA48J7700AW/A2, WA48J7700AW/AA',20916,samsung,'OEM Samsung Chrome Washing Machine Washplate Pulsator Cap Shipped With WA52M7750AV, WA52M7750AV/A4, WA52M7750AW, WA52M7750AW/A4',91995,samsung, 'SAMSUNG Washing Machine Spring Hanger, DC61-01257M', 22970,samsung,'Samsung DC97-17022B Assy Detergent',32959,samsung,'Samsung DC66-00470A DAMPER SHOCK',29981,samsung,'DC64-00519D Samsung Washing Machine Door Lock Washer Dryer Dishwashe -MP#GH4498 349Y49HBRG9109150',52000,samsung,'Samsung DC97-16991A Assembly Filter',13000\"\n",
        "\n",
        "a1 = var.split(\",'\")\n",
        "#print(a1)\n",
        "\n",
        "a2 = []  #collection [[a1]]\n",
        "a3 = [] #samsung,'Samsung DC97-16991A Assembly Filter',13000\n",
        "for val in a1:\n",
        "  #print(val)\n",
        "  if a1.index(val) == 0 : a3.append(val)\n",
        "  if a1.index(val) % 2 == 0 and a1.index(val) != 0 : \n",
        "    #print(val) \n",
        "    val = val.replace(',',' ')\n",
        "    #print(val)\n",
        "    a4 = val.split(\" \")\n",
        "    a4.remove(\"\")\n",
        "    #print(a4)\n",
        "    if len(a3) == 2: \n",
        "      a3.append(a4[1])\n",
        "      a2.extend(a3)\n",
        "      a3 = []\n",
        "      a3.append(a4[2])\n",
        "    #print(a4)\n",
        "  else:\n",
        "    a3.append(val)\n",
        "  print(a3)\n",
        "\n",
        "#print(a3)\n",
        "#print(a2)\n",
        "\n",
        " \n"
      ]
    },
    {
      "cell_type": "code",
      "execution_count": null,
      "metadata": {
        "colab": {
          "base_uri": "https://localhost:8080/"
        },
        "id": "ev7THMj7FprC",
        "outputId": "ff97a9da-7f42-40d5-f6d9-3366447bd7b6",
        "vscode": {
          "languageId": "python"
        }
      },
      "outputs": [
        {
          "name": "stdout",
          "output_type": "stream",
          "text": [
            "['samsung', 'Samsung DC97-16991A Assembly Filter', '13000']\n",
            "['samsung', 'OEM Samsung Washing Machine Pulsator Washplate Cap Shipped With WA48J7700AW, WA48J7700AW/A2, WA48J7700AW/AA', '20916']\n",
            "['samsung', 'SAMSUNG Washing Machine Spring Hanger, DC61-01257M', ' 22970']\n",
            "['samsung', 'Samsung DC66-00470A DAMPER SHOCK', '29981']\n",
            "['samsung', 'Samsung DC97-17022B Assy Detergent', '32959']\n",
            "['samsung', 'DC64-00519D Samsung Washing Machine Door Lock Washer Dryer Dishwashe -MP#GH4498 349Y49HBRG9109150', '52000']\n",
            "['samsung', 'OEM Samsung Chrome Washing Machine Washplate Pulsator Cap Shipped With WA52M7750AV, WA52M7750AV/A4, WA52M7750AW, WA52M7750AW/A4', '91995']\n"
          ]
        }
      ],
      "source": [
        "var = \"samsung,'OEM Samsung Washing Machine Pulsator Washplate Cap Shipped With WA48J7700AW, WA48J7700AW/A2, WA48J7700AW/AA',20916,samsung,'OEM Samsung Chrome Washing Machine Washplate Pulsator Cap Shipped With WA52M7750AV, WA52M7750AV/A4, WA52M7750AW, WA52M7750AW/A4',91995,samsung,'SAMSUNG Washing Machine Spring Hanger, DC61-01257M', 22970,samsung,'Samsung DC97-17022B Assy Detergent',32959,samsung,'Samsung DC66-00470A DAMPER SHOCK',29981,samsung,'DC64-00519D Samsung Washing Machine Door Lock Washer Dryer Dishwashe -MP#GH4498 349Y49HBRG9109150',52000,samsung,'Samsung DC97-16991A Assembly Filter',13000\"\n",
        "\n",
        "a1 = var.split(\",'\")\n",
        "#print(a1)\n",
        "\n",
        "a2 = []\n",
        "a3 = []\n",
        "for val in a1:\n",
        "  if a1.index(val) == 0 : a3.append(val)\n",
        "  #if val == a1[-1]  :  a3.append(val)\n",
        "  if \"',\" in val :\n",
        "    val = val.split(\"',\")\n",
        "    #print(val)\n",
        "    if len(a3) !=3 : \n",
        "      a3.append(val[0])\n",
        "      #print(a3)\n",
        "      if ',' in val[1]:\n",
        "        a4 = val[1].split(',')\n",
        "        #print(a4)\n",
        "        a3.append(a4[0])\n",
        "        a2.append(a3)\n",
        "        a3 = []\n",
        "        a3.append(a4[1])\n",
        "      else:\n",
        "        #print(val[1])\n",
        "        a3.append(val[1])\n",
        "        a2.append(a3)\n",
        "        a3 = []\n",
        "\n",
        "    \n",
        "    #print(val)\n",
        "\n",
        "a5 = {}\n",
        "for val in a2: \n",
        "  #print(val)\n",
        "  #a5.append(int(val[2]))\n",
        "  a5[a2.index(val)] = int(val[2])\n",
        "\n",
        "a5 = sorted(a5.items(), key=lambda kv: kv[1])\n",
        "#print(dict(a5))\n",
        "a6 = dict(a5).keys()\n",
        "#print(a6)\n",
        "\n",
        "for val in a6:\n",
        "  print(a2[val])\n",
        "\n",
        "\n"
      ]
    },
    {
      "cell_type": "code",
      "execution_count": null,
      "metadata": {
        "colab": {
          "base_uri": "https://localhost:8080/"
        },
        "id": "1E2aMfle1eP7",
        "outputId": "a58db0ea-a6b4-4307-de1d-e6370013ad8f",
        "vscode": {
          "languageId": "python"
        }
      },
      "outputs": [
        {
          "name": "stdout",
          "output_type": "stream",
          "text": [
            "0 0 3 2 1\n",
            "00321\n"
          ]
        }
      ],
      "source": [
        "s = ['1', '2', '3', '0', '0']\n",
        "\n",
        "s.reverse()\n",
        "print(*s)\n",
        "\n",
        "a1 = ''\n",
        "print(a1.join(s))"
      ]
    },
    {
      "cell_type": "code",
      "execution_count": null,
      "metadata": {
        "colab": {
          "base_uri": "https://localhost:8080/"
        },
        "id": "KkotgTPyW5dh",
        "outputId": "37f260d9-5b4c-4a5a-e5bf-22392c7ed772",
        "vscode": {
          "languageId": "python"
        }
      },
      "outputs": [
        {
          "name": "stdout",
          "output_type": "stream",
          "text": [
            "[17, 19, 23, 29, 31, 37, 41, 43, 47, 53, 59, 61, 67, 71, 73, 79, 83, 89]\n"
          ]
        }
      ],
      "source": [
        "# primes_list = int[(j for j in range(2,i)) for i in range(1,10) if i>1]\n",
        "\n",
        "# print(primes_list)\n",
        "\n",
        "primes_list = set()\n",
        "for i in range(17,97):\n",
        "  if i > 1:\n",
        "    for j in range(2,i):\n",
        "      if (i % j) == 0:\n",
        "        break\n",
        "    else: \n",
        "      primes_list.add(j+1)\n",
        "          #primes_list.append(j)\n",
        "      \n",
        "print(sorted(primes_list))"
      ]
    },
    {
      "cell_type": "code",
      "execution_count": null,
      "metadata": {
        "id": "Lh5zGnFzX4HE",
        "vscode": {
          "languageId": "python"
        }
      },
      "outputs": [],
      "source": [
        "# https://www.youtube.com/watch?v=3Q_oYDQ2whs&t=592s\n",
        "\n",
        "[['9:00', '10:30'], ['12:00', '13:00’], ['16:00', '18:00']]\n",
        "\n",
        "['9:00', '20:00']\n",
        "\n",
        "[['10:00', '11:30'], ['12:Bo’, 14:30], ['14:30', '15:00'], ['16:00', '17:00']]\n",
        "['10:00','18:30] 1\n",
        "\n",
        "30\n",
        "\n",
        "Sample output: [['11:30', '12:00'], ['15:00', '16:00’], ['18:00', '18:30']]"
      ]
    },
    {
      "cell_type": "code",
      "execution_count": 56,
      "metadata": {
        "colab": {
          "base_uri": "https://localhost:8080/"
        },
        "id": "aja0oDg5VlHY",
        "outputId": "1c4cd46e-5ec0-457f-d5e2-20d245e639bd",
        "vscode": {
          "languageId": "python"
        }
      },
      "outputs": [
        {
          "name": "stdout",
          "output_type": "stream",
          "text": [
            "P   I   N\n",
            "A L S I G\n",
            "YA  HR \n",
            "P   I  \n"
          ]
        }
      ],
      "source": [
        "# -*- coding: utf-8 -*-\n",
        "\"\"\"\n",
        "Created on Sat Oct  8 15:02:26 2022\n",
        "\n",
        "@author: souvik.dey\n",
        "\"\"\"\n",
        "\n",
        "# https://leetcode.com/problems/zigzag-conversion/\n",
        "# ---- Work In Progress -----\n",
        "\n",
        "\n",
        "s = 'PAYPALISHIRING'\n",
        "numRows = 4\n",
        "split_cnt = numRows//2\n",
        "numRows_init = numRows\n",
        "\n",
        "s = list(s)\n",
        "#print(s)\n",
        "\n",
        "def zigzag_conversion(s, numRows): \n",
        "  if numRows == 1:\n",
        "    #return s\n",
        "    print(s)\n",
        "\n",
        "  else:\n",
        "    direction = 'down'\n",
        "    arr=['' for x in range(numRows)]\n",
        "    # print(arr)\n",
        "    count = 0\n",
        "    #for val in s:\n",
        "    while count < len(s):\n",
        "      #print(val)\n",
        "      if direction == 'down':\n",
        "        # print('-----------down-----------')\n",
        "        for i in range(numRows):\n",
        "          if count == len(s): break\n",
        "          if arr[i] != '':\n",
        "              arr[i] += ' '+s[count]\n",
        "          else: \n",
        "              arr[i] += s[count]\n",
        "          count += 1\n",
        "          # print(i)\n",
        "        direction = 'diagonal'\n",
        "        numRows -= 1\n",
        "      if direction == 'diagonal':\n",
        "        # print('-----------diagonal-----------')\n",
        "        # print(numRows)\n",
        "        for i in range(numRows_init):\n",
        "          if count == len(s): break\n",
        "          if i != numRows-1:\n",
        "            arr[i] += ' '\n",
        "          else:\n",
        "            arr[i] += s[count]\n",
        "            count += 1\n",
        "        if numRows > split_cnt:\n",
        "          # print('---remains')\n",
        "          direction = 'diagonal'\n",
        "          numRows -= 1\n",
        "        else: \n",
        "          # print('---updated')\n",
        "          direction = 'down'\n",
        "          numRows = numRows_init\n",
        "\n",
        "    for i in range(numRows_init):\n",
        "      print(arr[i], end = \"\\n\")\n",
        "    #print(arr)\n",
        "\n",
        "\n",
        "zigzag_conversion(s, numRows)\n"
      ]
    },
    {
      "cell_type": "code",
      "execution_count": 50,
      "metadata": {
        "colab": {
          "base_uri": "https://localhost:8080/"
        },
        "id": "x9UttcXT7klc",
        "outputId": "391d3633-0681-4b53-9260-8c0d2c439831",
        "vscode": {
          "languageId": "python"
        }
      },
      "outputs": [
        {
          "name": "stdout",
          "output_type": "stream",
          "text": [
            "[0, 1, 2, 3]\n"
          ]
        }
      ],
      "source": [
        "print([x for x in range(numRows)])\n",
        "  "
      ]
    },
    {
      "cell_type": "code",
      "execution_count": null,
      "metadata": {
        "id": "SNWpSw99fBLU",
        "vscode": {
          "languageId": "python"
        }
      },
      "outputs": [],
      "source": [
        "class Solution(object):\n",
        "    def convert(self, s, numRows):\n",
        "        if numRows == 1 or numRows >= len(s):\n",
        "            return s\n",
        "        # This is a vague sentence for python beginers\n",
        "        L = [''] * numRows\n",
        "        # it can be replaced by the following:\n",
        "        # L = []\n",
        "        # for i in range(0, numRows):\n",
        "        #     L.append('')\n",
        "        # so if numRows = 3, L = ['', '', '']\n",
        "        index, step = 0, 1\n",
        "\n",
        "        for x in s:\n",
        "            L[index] += x\n",
        "            # start #\n",
        "            if index == 0:\n",
        "                step = 1\n",
        "            elif index == numRows -1:\n",
        "                step = -1\n",
        "            #1 end  #\n",
        "            # I like to explain the part above\n",
        "            # take the str \"PAYPALISHIRING\" for example:\n",
        "            # We start with variable index with the value 0, step with the value 1\n",
        "            # Each row added with the next char\n",
        "            # If we reach the bottommost row, we need to turn to the next above row, so we change the step value to -1\n",
        "            # we keep the step value until we reach topmost row. DON'T CHANGE IT!\n",
        "            # Again, if we reach the topmost row, we need to reset the step value to 1\n",
        "            # What we need to remember is:\n",
        "            # the zigzag pattern is just a pictorial image for us to have a better understanding\n",
        "            # What the trick of algorithm is actually add the next char of the given string to different rows.\n",
        "            # Don't really think how to move the cursor in the matrix.\n",
        "            # It's really misleading way you think of this. Even it works, it's not efficient.\n",
        "            index += step\n",
        "\n",
        "        return ''.join(L)"
      ]
    },
    {
      "cell_type": "code",
      "execution_count": null,
      "metadata": {
        "id": "_4jRNOl7hicL",
        "vscode": {
          "languageId": "python"
        }
      },
      "outputs": [],
      "source": [
        "# https://leetcode.com/problems/3sum-closest/\n",
        "\n"
      ]
    },
    {
      "cell_type": "code",
      "execution_count": null,
      "metadata": {
        "vscode": {
          "languageId": "python"
        }
      },
      "outputs": [],
      "source": [
        "# initial commit of the branch \n"
      ]
    }
  ],
  "metadata": {
    "colab": {
      "collapsed_sections": [],
      "include_colab_link": true,
      "provenance": []
    },
    "kernelspec": {
      "display_name": "Python 3",
      "name": "python3"
    }
  },
  "nbformat": 4,
  "nbformat_minor": 0
}
