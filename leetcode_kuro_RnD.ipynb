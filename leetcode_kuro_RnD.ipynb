{
  "nbformat": 4,
  "nbformat_minor": 0,
  "metadata": {
    "colab": {
      "name": "leetcode-kuro-RnD.ipynb",
      "provenance": [],
      "collapsed_sections": [],
      "authorship_tag": "ABX9TyNqeIv8uh0Qu7GNCYSNDVs5",
      "include_colab_link": true
    },
    "kernelspec": {
      "name": "python3",
      "display_name": "Python 3"
    }
  },
  "cells": [
    {
      "cell_type": "markdown",
      "metadata": {
        "id": "view-in-github",
        "colab_type": "text"
      },
      "source": [
        "<a href=\"https://colab.research.google.com/github/SouvikDcoder/Leetcode-Solutions/blob/main/leetcode_kuro_RnD.ipynb\" target=\"_parent\"><img src=\"https://colab.research.google.com/assets/colab-badge.svg\" alt=\"Open In Colab\"/></a>"
      ]
    },
    {
      "cell_type": "code",
      "metadata": {
        "colab": {
          "base_uri": "https://localhost:8080/"
        },
        "id": "aHf-peBvEVYn",
        "outputId": "3b5c8281-7ce0-4896-fef1-4a93589ce1fa"
      },
      "source": [
        "#nums = [-2,1,-3,4,-1,2,1,-5,4]\n",
        "nums = [-2,1]\n",
        "print(nums)\n",
        "print(sum(nums))\n",
        "all_sum = sum(nums)\n",
        "sum_val = 0\n",
        "new_nums_1 = []\n",
        "sum_list = []\n",
        "if sum(nums)<0:\n",
        "  print('less')\n",
        "  for i in range(0,len(nums)):\n",
        "      sum_val += nums[i]\n",
        "      new_nums_1.append(nums[i])\n",
        "      print(new_nums_1)\n",
        "      print(sum_val)\n",
        "      if sum_val<all_sum :\n",
        "          sum_list.append(sum_val)\n",
        "          print(sum_list)\n",
        "          continue\n",
        "      elif sum_val<max(nums):\n",
        "          sum_val = 0\n",
        "          new_nums_1 = []\n",
        "      else :\n",
        "          sum_val = 0\n",
        "          new_nums_1 = []"
      ],
      "execution_count": null,
      "outputs": [
        {
          "output_type": "stream",
          "text": [
            "[-2, 1]\n",
            "-1\n",
            "less\n",
            "[-2]\n",
            "-2\n",
            "[-2]\n",
            "[-2, 1]\n",
            "-1\n"
          ],
          "name": "stdout"
        }
      ]
    },
    {
      "cell_type": "code",
      "metadata": {
        "colab": {
          "base_uri": "https://localhost:8080/"
        },
        "id": "2M9CNizFIPcn",
        "outputId": "451339fc-843b-4fda-c690-33e4034d37bb"
      },
      "source": [
        "#nums = [-2,1,-3,4,-1,2,1,-5,4]\n",
        "nums = [-2,1]\n",
        "print(nums)\n",
        "print(sum(nums))\n",
        "all_sum = sum(nums)\n",
        "sum_val = 0\n",
        "new_nums_temp = []\n",
        "sum_list = []\n",
        "for i in range(0,len(nums)):\n",
        "  #print(nums[i])\n",
        "  sum_val+=nums[i]\n",
        "  new_nums_temp.append(nums[i])\n",
        "  if sum(nums)>0:\n",
        "    if sum_val>sum(nums):\n",
        "      print(new_nums_temp)\n",
        "      print(sum(new_nums_temp))\n",
        "      sum_list.append(sum(new_nums_temp))\n",
        "      continue\n",
        "    else:\n",
        "      sum_val = 0\n",
        "      new_nums_temp = []\n",
        "  elif sum(nums)<0:\n",
        "    print(\"Less than 0 condition\")\n",
        "    if sum_val<sum(nums):\n",
        "      print(new_nums_temp)\n",
        "      print(sum(new_nums_temp))\n",
        "      sum_list.append(sum(new_nums_temp))\n",
        "      continue\n",
        "    else:\n",
        "      sum_val = 0\n",
        "      new_nums_temp = []\n",
        "\n",
        "print(sum_list)"
      ],
      "execution_count": null,
      "outputs": [
        {
          "output_type": "stream",
          "text": [
            "[-2, 1]\n",
            "-1\n",
            "Less than 0 condition\n",
            "[-2]\n",
            "-2\n",
            "Less than 0 condition\n",
            "[-2]\n"
          ],
          "name": "stdout"
        }
      ]
    },
    {
      "cell_type": "code",
      "metadata": {
        "id": "45UOu-M2DTPT"
      },
      "source": [
        "nums = [0,1,0,3,12]\n",
        "print(nums)\n",
        "zero_cnt = nums.count(0)\n",
        "while(zero_cnt>0):\n",
        "  print(\"While loop\")\n",
        "  for val in nums:\n",
        "    while (val==0):\n",
        "      for i in range(1,len(nums)):\n",
        "        val1 = nums[i-1]\n",
        "        nums[i-1]=nums[i]\n",
        "        nums[i]=val1\n",
        "      print(nums)\n",
        "  zero_cnt-=1"
      ],
      "execution_count": null,
      "outputs": []
    },
    {
      "cell_type": "code",
      "metadata": {
        "colab": {
          "base_uri": "https://localhost:8080/"
        },
        "id": "yYv5TBxXHTZy",
        "outputId": "94d21430-c4d8-4864-ca2d-5b182f98aaec"
      },
      "source": [
        "nums = [0,1,0,3,12]\n",
        "print(nums)\n",
        "for val in nums:\n",
        "  if val == 0 :\n",
        "    nums.append(0)\n",
        "    nums.pop(nums.index(val))\n",
        "print(nums)"
      ],
      "execution_count": null,
      "outputs": [
        {
          "output_type": "stream",
          "text": [
            "[0, 1, 0, 3, 12]\n",
            "[1, 3, 12, 0, 0]\n"
          ],
          "name": "stdout"
        }
      ]
    },
    {
      "cell_type": "code",
      "metadata": {
        "id": "cVjCyewcKEKO"
      },
      "source": [
        "#prices = [7,6,4,3,1]\n",
        "prices = [7,1,5,3,6,4]\n",
        "total_profit = 0\n",
        "print(prices)\n",
        "min_index_prices = prices.index(min(prices))\n",
        "print(min_index_prices)\n",
        "print(prices[min_index_prices:])\n",
        "min2 = prices.index(min(prices[min_index_prices+1:]))\n",
        "print(min2)\n",
        "for i in range(min_index_prices,min2-1):\n",
        "  print(prices[i])\n",
        "  total_profit+=prices[i+1] - prices[i]\n",
        "\n",
        "print(total_profit)\n",
        "# for i in range(prices[min_index_prices:]):\n",
        "#   min_price="
      ],
      "execution_count": null,
      "outputs": []
    },
    {
      "cell_type": "code",
      "metadata": {
        "colab": {
          "base_uri": "https://localhost:8080/"
        },
        "id": "WZsi-ESGpPUE",
        "outputId": "ce06f9b5-14a5-4971-cc81-c771ef6f8bbf"
      },
      "source": [
        "prices = [7,1,5,3,6,4]\n",
        "print(prices)\n",
        "min_index_prices = prices.index(min(prices))\n",
        "if min_index_prices<len(prices):\n",
        "  print(\"There is a chance of profit\")\n",
        "  for i in range (min_index_prices,len(prices)-1):\n",
        "    print(prices[i])\n",
        "    "
      ],
      "execution_count": null,
      "outputs": [
        {
          "output_type": "stream",
          "text": [
            "[7, 1, 5, 3, 6, 4]\n",
            "There is a chance of profit\n",
            "1\n",
            "5\n",
            "3\n",
            "6\n",
            "4\n"
          ],
          "name": "stdout"
        }
      ]
    },
    {
      "cell_type": "code",
      "metadata": {
        "colab": {
          "base_uri": "https://localhost:8080/"
        },
        "id": "tP9IRaqbv4v4",
        "outputId": "a2dac122-b950-462a-cff3-865dd1228b4f"
      },
      "source": [
        "nums= [1,2,3,4,5,6,7]\n",
        "#nums = [-1,-100,3,99]\n",
        "print(nums)\n",
        "k = 3\n",
        "print(nums[:k])\n",
        "# for i in range(0,k+1):\n",
        "#   nums.append(nums[i])\n",
        "#   #nums.pop(nums.index(nums[i]))\n",
        "for val in nums[:k+1]:\n",
        "  nums.append(val)\n",
        "  nums.pop(nums.index(val))\n",
        "\n",
        "print(nums)\n"
      ],
      "execution_count": null,
      "outputs": [
        {
          "output_type": "stream",
          "text": [
            "[1, 2, 3, 4, 5, 6, 7]\n",
            "[1, 2, 3]\n",
            "[5, 6, 7, 1, 2, 3, 4]\n"
          ],
          "name": "stdout"
        }
      ]
    },
    {
      "cell_type": "code",
      "metadata": {
        "colab": {
          "base_uri": "https://localhost:8080/"
        },
        "id": "n7yLi8hby0vG",
        "outputId": "5c3290f9-8c93-4da1-8ed2-4f33dc83edb2"
      },
      "source": [
        "nums = [1,1,1,3,3,4,3,2,4,2]\n",
        "print(nums)\n",
        "for i in range(0,len(nums)):\n",
        "  print(nums[i:])\n",
        "  if nums[i] in nums[i:]:\n",
        "    print(\"Value is there\")\n",
        "    #return True\n",
        "  else:\n",
        "    print(\"Value is not there\")\n",
        "    #return False"
      ],
      "execution_count": null,
      "outputs": [
        {
          "output_type": "stream",
          "text": [
            "[1, 1, 1, 3, 3, 4, 3, 2, 4, 2]\n",
            "[1, 1, 1, 3, 3, 4, 3, 2, 4, 2]\n",
            "Value is there\n",
            "[1, 1, 3, 3, 4, 3, 2, 4, 2]\n",
            "Value is there\n",
            "[1, 3, 3, 4, 3, 2, 4, 2]\n",
            "Value is there\n",
            "[3, 3, 4, 3, 2, 4, 2]\n",
            "Value is there\n",
            "[3, 4, 3, 2, 4, 2]\n",
            "Value is there\n",
            "[4, 3, 2, 4, 2]\n",
            "Value is there\n",
            "[3, 2, 4, 2]\n",
            "Value is there\n",
            "[2, 4, 2]\n",
            "Value is there\n",
            "[4, 2]\n",
            "Value is there\n",
            "[2]\n",
            "Value is there\n"
          ],
          "name": "stdout"
        }
      ]
    },
    {
      "cell_type": "code",
      "metadata": {
        "colab": {
          "base_uri": "https://localhost:8080/"
        },
        "id": "vt1MTw8u07of",
        "outputId": "1c0afe7b-5dd6-445f-c736-a75b26f4a764"
      },
      "source": [
        "nums = [2,14,18,22,22]\n",
        "print(nums)\n",
        "for i in range(0,len(nums)):\n",
        "  print(nums[i+1:])\n",
        "  if nums[i] in nums[i+1:]:\n",
        "    print(\"Value is there\")\n",
        "    #return True\n",
        "  else:\n",
        "    print(\"Value is not there\")\n",
        "    #return False"
      ],
      "execution_count": null,
      "outputs": [
        {
          "output_type": "stream",
          "text": [
            "[2, 14, 18, 22, 22]\n",
            "[14, 18, 22, 22]\n",
            "Value is not there\n",
            "[18, 22, 22]\n",
            "Value is not there\n",
            "[22, 22]\n",
            "Value is not there\n",
            "[22]\n",
            "Value is there\n",
            "[]\n",
            "Value is not there\n"
          ],
          "name": "stdout"
        }
      ]
    },
    {
      "cell_type": "code",
      "metadata": {
        "colab": {
          "base_uri": "https://localhost:8080/"
        },
        "id": "9aCeJEILqpN9",
        "outputId": "c481bfaf-7fb1-4936-87ff-2740d3e91c68"
      },
      "source": [
        "strs = [\"eat\",\"tea\",\"tan\",\"ate\",\"nat\",\"bat\"]\n",
        "print(strs)\n",
        "final_ana_arr = []\n",
        "temp_ana_arr = []\n",
        "for i in range(len(strs)) :\n",
        "  #print(\"*********************\")\n",
        "  # if temp_ana_arr != []:\n",
        "  #   final_ana_arr.append(temp_ana_arr)\n",
        "  #   temp_ana_arr=[]\n",
        "  for val in strs[i+1:]:\n",
        "    #print(val)\n",
        "    if strs[i] not in temp_ana_arr:\n",
        "      temp_ana_arr.append(strs[i])\n",
        "    if strs[i]!=val and sorted(val)==sorted(strs[i]):\n",
        "      #print(\"anagram\")\n",
        "      if val not in temp_ana_arr:\n",
        "        temp_ana_arr.append(val)\n",
        "      # if strs[i] not in temp_ana_arr:\n",
        "      #   temp_ana_arr.append(strs[i])\n",
        "      # elif val not in temp_ana_arr:\n",
        "      #     temp_ana_arr.append(val)\n",
        "    else:\n",
        "      continue\n",
        "      print(\"*********************\")\n",
        "      print(\"not anagram\")\n",
        "      final_ana_arr.append(temp_ana_arr)\n",
        "      temp_ana_arr=[]\n",
        "\n",
        "print(temp_ana_arr)\n",
        "print(final_ana_arr)\n",
        "\n",
        "  # if strs[i][::-1] in  strs[i+1:]:\n",
        "  #   temp_ana_arr.append(strs[i])\n",
        "  #   temp_ana_arr.append(strs[i][::-1])\n",
        "  # else:\n",
        "  #   if temp_ana_arr!=[]:\n",
        "  #     final_ana_arr.append(temp_ana_arr)\n",
        "  #     temp_ana_arr = []\n",
        "\n",
        "#print(final_ana_arr)"
      ],
      "execution_count": null,
      "outputs": [
        {
          "output_type": "stream",
          "text": [
            "['eat', 'tea', 'tan', 'ate', 'nat', 'bat']\n",
            "['eat', 'tea', 'ate', 'tan', 'nat']\n",
            "[]\n"
          ],
          "name": "stdout"
        }
      ]
    },
    {
      "cell_type": "code",
      "metadata": {
        "id": "U8FLwp9_pnm2"
      },
      "source": [
        "strs = [\"eat\",\"tea\",\"tan\",\"ate\",\"nat\",\"bat\"]\n",
        "print(strs)\n",
        "final_ana_arr = []\n",
        "temp_ana_arr = []\n",
        "for i in range(len(strs)) :\n",
        "  #print(\"*********************\")\n",
        "  # if temp_ana_arr != []:\n",
        "  #   final_ana_arr.append(temp_ana_arr)\n",
        "  #   temp_ana_arr=[]\n",
        "  for val in strs[i+1:]:\n",
        "    #print(val)\n",
        "    if strs[i] not in temp_ana_arr:\n",
        "      temp_ana_arr.append(strs[i])\n",
        "    if strs[i]!=val and sorted(val)==sorted(strs[i]):\n",
        "      #print(\"anagram\")\n",
        "      if val not in temp_ana_arr:\n",
        "        temp_ana_arr.append(val)\n",
        "      # if strs[i] not in temp_ana_arr:\n",
        "      #   temp_ana_arr.append(strs[i])\n",
        "      # elif val not in temp_ana_arr:\n",
        "      #     temp_ana_arr.append(val)\n",
        "    else:\n",
        "      continue\n",
        "      print(\"*********************\")\n",
        "      print(\"not anagram\")\n",
        "      final_ana_arr.append(temp_ana_arr)\n",
        "      temp_ana_arr=[]\n",
        "\n",
        "print(temp_ana_arr)\n",
        "print(final_ana_arr)\n",
        "\n",
        "  # if strs[i][::-1] in  strs[i+1:]:\n",
        "  #   temp_ana_arr.append(strs[i])\n",
        "  #   temp_ana_arr.append(strs[i][::-1])\n",
        "  # else:\n",
        "  #   if temp_ana_arr!=[]:\n",
        "  #     final_ana_arr.append(temp_ana_arr)\n",
        "  #     temp_ana_arr = []\n",
        "\n",
        "#print(final_ana_arr)"
      ],
      "execution_count": null,
      "outputs": []
    },
    {
      "cell_type": "code",
      "metadata": {
        "colab": {
          "base_uri": "https://localhost:8080/"
        },
        "id": "Tjf2p9pIrXTS",
        "outputId": "0ce49007-6d47-4a41-8a6e-0b595fc17f66"
      },
      "source": [
        "strs = [\"eat\",\"tea\",\"tan\",\"ate\",\"nat\",\"bat\"]\n",
        "print(strs[1:])"
      ],
      "execution_count": null,
      "outputs": [
        {
          "output_type": "stream",
          "text": [
            "['tea', 'tan', 'ate', 'nat', 'bat']\n"
          ],
          "name": "stdout"
        }
      ]
    },
    {
      "cell_type": "code",
      "metadata": {
        "colab": {
          "base_uri": "https://localhost:8080/"
        },
        "id": "_jxI7Esitai2",
        "outputId": "c2b83e35-e1f7-4722-b1e0-54d65c125407"
      },
      "source": [
        "strs = [\"eat\",\"tea\",\"tan\",\"ate\",\"nat\",\"bat\"]\n",
        "print(strs)\n",
        "final_ana_arr = []\n",
        "temp_ana_arr = []\n",
        "for word_1 in strs: \n",
        "    for word_2 in strs: \n",
        "        if word_1 != word_2 and (sorted(word_1)==sorted(word_2)):\n",
        "            temp_ana_arr.append(word_1)\n",
        "        else:\n",
        "            temp_ana_arr.append(word_1)\n",
        "            final_ana_arr.append(temp_ana_arr)\n",
        "            temp_ana_arr=[]\n",
        "print(final_ana_arr)"
      ],
      "execution_count": null,
      "outputs": [
        {
          "output_type": "stream",
          "text": [
            "['eat', 'tea', 'tan', 'ate', 'nat', 'bat']\n",
            "[['eat'], ['eat', 'eat'], ['eat', 'eat'], ['eat'], ['tea', 'tea'], ['tea'], ['tea', 'tea'], ['tea'], ['tan'], ['tan'], ['tan'], ['tan'], ['tan', 'tan'], ['ate', 'ate', 'ate'], ['ate'], ['ate'], ['ate'], ['nat'], ['nat'], ['nat', 'nat'], ['nat'], ['nat'], ['bat'], ['bat'], ['bat'], ['bat'], ['bat'], ['bat']]\n"
          ],
          "name": "stdout"
        }
      ]
    },
    {
      "cell_type": "code",
      "metadata": {
        "colab": {
          "base_uri": "https://localhost:8080/"
        },
        "id": "HaQalQnGptEq",
        "outputId": "97033857-40d1-4372-83eb-7a34f3734f06"
      },
      "source": [
        "strs = [\"eat\",\"tea\",\"tan\",\"ate\",\"nat\",\"bat\"]\n",
        "print(strs)\n",
        "final_ana_arr = []\n",
        "temp_ana_arr = []\n",
        "checked_vals = []\n",
        "for i in range(len(strs)) :\n",
        "  #print(\"*********************\")\n",
        "  # if temp_ana_arr != []:\n",
        "  #   final_ana_arr.append(temp_ana_arr)\n",
        "  #   temp_ana_arr=[]\n",
        "  # print(strs[i+1:])\n",
        "  # print(temp_ana_arr)\n",
        "  # print(final_ana_arr)\n",
        "  if strs[i] not in checked_vals:\n",
        "    print(strs[i])\n",
        "    for val in strs[i+1:]:\n",
        "      #print(val)\n",
        "      if strs[i] not in temp_ana_arr:\n",
        "        temp_ana_arr.append(strs[i])\n",
        "      if strs[i]!=val and sorted(val)==sorted(strs[i]):\n",
        "        #print(\"anagram\")\n",
        "        if val not in temp_ana_arr:\n",
        "          temp_ana_arr.append(val)\n",
        "        # if strs[i] not in temp_ana_arr:\n",
        "        #   temp_ana_arr.append(strs[i])\n",
        "        # elif val not in temp_ana_arr:\n",
        "        #     temp_ana_arr.append(val)\n",
        "      else:\n",
        "        \n",
        "        continue\n",
        "        print(\"*********************\")\n",
        "        print(\"not anagram\")\n",
        "        final_ana_arr.append(temp_ana_arr)\n",
        "        temp_ana_arr=[]\n",
        "    final_ana_arr.append(temp_ana_arr)\n",
        "    checked_vals = temp_ana_arr\n",
        "    temp_ana_arr=[]\n",
        "  \n",
        "\n",
        "  print(\"*********************\")\n",
        "  print(temp_ana_arr)\n",
        "  print(final_ana_arr)\n",
        "  print(checked_vals)\n",
        "\n",
        "def check_if_element_present(self,val1,temp_ana_arr):\n",
        "  if val1 in temp_ana_arr:\n",
        "    return True\n",
        "  else:\n",
        "    return False\n",
        "\n"
      ],
      "execution_count": null,
      "outputs": [
        {
          "output_type": "stream",
          "text": [
            "['eat', 'tea', 'tan', 'ate', 'nat', 'bat']\n",
            "eat\n",
            "*********************\n",
            "[]\n",
            "[['eat', 'tea', 'ate']]\n",
            "['eat', 'tea', 'ate']\n",
            "*********************\n",
            "[]\n",
            "[['eat', 'tea', 'ate']]\n",
            "['eat', 'tea', 'ate']\n",
            "tan\n",
            "*********************\n",
            "[]\n",
            "[['eat', 'tea', 'ate'], ['tan', 'nat']]\n",
            "['tan', 'nat']\n",
            "ate\n",
            "*********************\n",
            "[]\n",
            "[['eat', 'tea', 'ate'], ['tan', 'nat'], ['ate']]\n",
            "['ate']\n",
            "nat\n",
            "*********************\n",
            "[]\n",
            "[['eat', 'tea', 'ate'], ['tan', 'nat'], ['ate'], ['nat']]\n",
            "['nat']\n",
            "bat\n",
            "*********************\n",
            "[]\n",
            "[['eat', 'tea', 'ate'], ['tan', 'nat'], ['ate'], ['nat'], []]\n",
            "[]\n"
          ],
          "name": "stdout"
        }
      ]
    },
    {
      "cell_type": "code",
      "metadata": {
        "colab": {
          "base_uri": "https://localhost:8080/"
        },
        "id": "bqhFqKlocERR",
        "outputId": "45a8f99e-d2f3-447f-9a7a-b557c498bf3d"
      },
      "source": [
        "#strs=[\"\",\"\"]\n",
        "#strs=[\"\"]\n",
        "strs = [\"eat\",\"tea\",\"tan\",\"ate\",\"nat\",\"bat\"]\n",
        "print(strs)\n",
        "final_ana_arr = []\n",
        "temp_ana_arr = []\n",
        "checked_vals = []\n",
        "for i in range(len(strs)) :\n",
        "  print(\"*******\")\n",
        "  if strs[i] not in checked_vals:\n",
        "    temp_ana_arr.append(strs[i])\n",
        "    checked_vals.append(strs[i])\n",
        "    for val in strs[i+1:]:\n",
        "      if strs[i]==val:\n",
        "        print(val)\n",
        "        print(\"anagram\")\n",
        "        temp_ana_arr.append(val)\n",
        "        checked_vals.append(val)\n",
        "      elif strs[i]!=val and sorted(val)==sorted(strs[i]):\n",
        "        print(val)\n",
        "        print(\"anagram\")\n",
        "        temp_ana_arr.append(val)\n",
        "        checked_vals.append(val)\n",
        "      else:\n",
        "        print(\"not anagram\")\n",
        "    if temp_ana_arr!=[]:\n",
        "      final_ana_arr.append(temp_ana_arr)\n",
        "      temp_ana_arr=[]\n",
        "    print(temp_ana_arr)\n",
        "    print(checked_vals)\n",
        "    print(final_ana_arr)"
      ],
      "execution_count": null,
      "outputs": [
        {
          "output_type": "stream",
          "text": [
            "['eat', 'tea', 'tan', 'ate', 'nat', 'bat']\n",
            "*******\n",
            "tea\n",
            "anagram\n",
            "not anagram\n",
            "ate\n",
            "anagram\n",
            "not anagram\n",
            "not anagram\n",
            "[]\n",
            "['eat', 'tea', 'ate']\n",
            "[['eat', 'tea', 'ate']]\n",
            "*******\n",
            "*******\n",
            "not anagram\n",
            "nat\n",
            "anagram\n",
            "not anagram\n",
            "[]\n",
            "['eat', 'tea', 'ate', 'tan', 'nat']\n",
            "[['eat', 'tea', 'ate'], ['tan', 'nat']]\n",
            "*******\n",
            "*******\n",
            "*******\n",
            "[]\n",
            "['eat', 'tea', 'ate', 'tan', 'nat', 'bat']\n",
            "[['eat', 'tea', 'ate'], ['tan', 'nat'], ['bat']]\n"
          ],
          "name": "stdout"
        }
      ]
    },
    {
      "cell_type": "code",
      "metadata": {
        "colab": {
          "base_uri": "https://localhost:8080/",
          "height": 249
        },
        "id": "cm1UeUeRkzDs",
        "outputId": "1b860d09-c8f7-4350-c9f2-e893cd24958e"
      },
      "source": [
        "#nums = [1,1,1,3,3,4,3,2,4,2]\n",
        "nums=[3,3]\n",
        "print(nums)\n",
        "duplicate_present = False\n",
        "#return True for i in nums if nums[i]>1\n",
        "\n",
        "for i in nums:\n",
        "  if nums[i]>1:\n",
        "    duplicate_present = True\n",
        "  else:\n",
        "    continue\n",
        "    duplicate_present = False\n",
        "\n",
        "\n",
        "print(duplicate_present)\n"
      ],
      "execution_count": null,
      "outputs": [
        {
          "output_type": "stream",
          "text": [
            "[3, 3]\n"
          ],
          "name": "stdout"
        },
        {
          "output_type": "error",
          "ename": "IndexError",
          "evalue": "ignored",
          "traceback": [
            "\u001b[0;31m---------------------------------------------------------------------------\u001b[0m",
            "\u001b[0;31mIndexError\u001b[0m                                Traceback (most recent call last)",
            "\u001b[0;32m<ipython-input-16-f97f9eaf011f>\u001b[0m in \u001b[0;36m<module>\u001b[0;34m()\u001b[0m\n\u001b[1;32m      6\u001b[0m \u001b[0;34m\u001b[0m\u001b[0m\n\u001b[1;32m      7\u001b[0m \u001b[0;32mfor\u001b[0m \u001b[0mi\u001b[0m \u001b[0;32min\u001b[0m \u001b[0mnums\u001b[0m\u001b[0;34m:\u001b[0m\u001b[0;34m\u001b[0m\u001b[0;34m\u001b[0m\u001b[0m\n\u001b[0;32m----> 8\u001b[0;31m   \u001b[0;32mif\u001b[0m \u001b[0mnums\u001b[0m\u001b[0;34m[\u001b[0m\u001b[0mi\u001b[0m\u001b[0;34m]\u001b[0m\u001b[0;34m>\u001b[0m\u001b[0;36m1\u001b[0m\u001b[0;34m:\u001b[0m\u001b[0;34m\u001b[0m\u001b[0;34m\u001b[0m\u001b[0m\n\u001b[0m\u001b[1;32m      9\u001b[0m     \u001b[0mduplicate_present\u001b[0m \u001b[0;34m=\u001b[0m \u001b[0;32mTrue\u001b[0m\u001b[0;34m\u001b[0m\u001b[0;34m\u001b[0m\u001b[0m\n\u001b[1;32m     10\u001b[0m   \u001b[0;32melse\u001b[0m\u001b[0;34m:\u001b[0m\u001b[0;34m\u001b[0m\u001b[0;34m\u001b[0m\u001b[0m\n",
            "\u001b[0;31mIndexError\u001b[0m: list index out of range"
          ]
        }
      ]
    },
    {
      "cell_type": "code",
      "metadata": {
        "colab": {
          "base_uri": "https://localhost:8080/"
        },
        "id": "009m7CyZoTdj",
        "outputId": "c9a9d7d4-67aa-44bb-e552-44aff6ef1ac9"
      },
      "source": [
        "#nums = [1,1,1,3,3,4,3,2,4,2]\n",
        "nums = [3,3]\n",
        "nums.sort()\n",
        "print(nums)\n",
        "duplicate_present = False\n",
        "for i in range(len(nums)-1):\n",
        "  if nums[i]==nums[i+1]:\n",
        "    duplicate_present = True\n",
        "  else:\n",
        "    continue\n",
        "\n",
        "print(duplicate_present)"
      ],
      "execution_count": null,
      "outputs": [
        {
          "output_type": "stream",
          "text": [
            "[3, 3]\n",
            "True\n"
          ],
          "name": "stdout"
        }
      ]
    },
    {
      "cell_type": "code",
      "metadata": {
        "colab": {
          "base_uri": "https://localhost:8080/"
        },
        "id": "Mi4HOxHHpbYY",
        "outputId": "b0f769c7-053e-4ba2-94fb-9cd8b9cf08d6"
      },
      "source": [
        "nums=[4,1,2,1,2]\n",
        "nums.sort()\n",
        "print(nums)\n",
        "dupli_arr = []\n",
        "for i in range(len(nums)-1):\n",
        "  if nums[i]!=nums[i+1]:\n",
        "    dupli_arr.append(nums[i+1])\n",
        "    #duplicate_present = True\n",
        "  else:\n",
        "    continue \n",
        "\n",
        "print(dupli_arr)"
      ],
      "execution_count": null,
      "outputs": [
        {
          "output_type": "stream",
          "text": [
            "[1, 1, 2, 2, 4]\n",
            "[2, 4]\n"
          ],
          "name": "stdout"
        }
      ]
    },
    {
      "cell_type": "code",
      "metadata": {
        "colab": {
          "base_uri": "https://localhost:8080/"
        },
        "id": "rcjYPxYqIZ33",
        "outputId": "da463264-234a-4b1f-be8d-d8ee815bf035"
      },
      "source": [
        "#nums= [3,2,1,7,6,9,8]\r\n",
        "nums =  [2,2,3,1]\r\n",
        "nums.sort()\r\n",
        "max_val = max(nums)\r\n",
        "print(max_val)\r\n",
        "print(nums)\r\n",
        "third_val = False\r\n",
        "max_cnt = 1\r\n",
        "while(third_val == False):\r\n",
        "  print(\"While 1\")\r\n",
        "  if max_cnt<3:\r\n",
        "    print(\"if 1\")\r\n",
        "    if nums.count(max(nums))>1:\r\n",
        "      while(nums.count(max(nums))>1):\r\n",
        "        print(\"While 2\")\r\n",
        "        print(max(nums))\r\n",
        "        nums.remove(max(nums))\r\n",
        "    else: \r\n",
        "      nums.remove(max(nums))\r\n",
        "    max_cnt+=1\r\n",
        "  elif max_cnt>2:\r\n",
        "    third_val = True\r\n",
        "    #return max(nums)\r\n",
        "print(max(nums))"
      ],
      "execution_count": null,
      "outputs": [
        {
          "output_type": "stream",
          "text": [
            "3\n",
            "[1, 2, 2, 3]\n",
            "While 1\n",
            "if 1\n",
            "While 1\n",
            "if 1\n",
            "While 2\n",
            "2\n",
            "While 1\n",
            "2\n"
          ],
          "name": "stdout"
        }
      ]
    },
    {
      "cell_type": "code",
      "metadata": {
        "colab": {
          "base_uri": "https://localhost:8080/"
        },
        "id": "CbYMUIbU93o7",
        "outputId": "8f9c67f8-d094-47e2-b950-573e587f9be6"
      },
      "source": [
        "#nums= [1,2]\r\n",
        "#nums= [3,2,1,7,6,9,8]\r\n",
        "nums =  [2,2,3,1]\r\n",
        "#nums = [1, 1, 1]\r\n",
        "nums.sort()\r\n",
        "max_val = max(nums)\r\n",
        "print(max_val)\r\n",
        "print(nums)\r\n",
        "third_val = False\r\n",
        "max_cnt = 1\r\n",
        "prev_max = 0\r\n",
        "discarded_max = []\r\n",
        "while(third_val == False):\r\n",
        "  print(\"While 1\")\r\n",
        "  print(nums)\r\n",
        "  if max_cnt<3:\r\n",
        "    print(\"if 1\")\r\n",
        "    if nums.count(max(nums))>1:\r\n",
        "      # for i in range(nums.count(max(nums))):\r\n",
        "      #   discarded_max.append(max(nums))\r\n",
        "      #   nums.remove(max(nums))\r\n",
        "      while(nums.count(max(nums))>1):\r\n",
        "        print(\"While 2\")\r\n",
        "        print(nums)\r\n",
        "        print(max(nums))\r\n",
        "        #prev_max = max(nums)\r\n",
        "        discarded_max.append(max(nums))\r\n",
        "        nums.remove(max(nums))\r\n",
        "\r\n",
        "    else: \r\n",
        "      print(\"2 condition\")\r\n",
        "      #prev_max = max(nums)\r\n",
        "      discarded_max.append(max(nums))\r\n",
        "      nums.remove(max(nums))\r\n",
        "    max_cnt+=1\r\n",
        "  elif max_cnt>2:\r\n",
        "    third_val = True\r\n",
        "    #return max(nums)\r\n",
        "if nums==[]:\r\n",
        "  print(max(discarded_max))\r\n",
        "else:\r\n",
        "  print(max(nums))\r\n",
        "#print(max(nums))"
      ],
      "execution_count": null,
      "outputs": [
        {
          "output_type": "stream",
          "text": [
            "3\n",
            "[1, 2, 2, 3]\n",
            "While 1\n",
            "[1, 2, 2, 3]\n",
            "if 1\n",
            "2 condition\n",
            "While 1\n",
            "[1, 2, 2]\n",
            "if 1\n",
            "While 2\n",
            "[1, 2, 2]\n",
            "2\n",
            "While 1\n",
            "[1, 2]\n",
            "2\n"
          ],
          "name": "stdout"
        }
      ]
    },
    {
      "cell_type": "code",
      "metadata": {
        "colab": {
          "base_uri": "https://localhost:8080/",
          "height": 300
        },
        "id": "NNjz6M4YGobF",
        "outputId": "028098d5-38d4-4c27-ab56-31ade2821829"
      },
      "source": [
        "#nums= [1,2]\r\n",
        "#nums= [3,2,1,7,6,9,8]\r\n",
        "#nums =  [2,2,3,1]\r\n",
        "nums = [1,1,1]\r\n",
        "nums.sort()\r\n",
        "nums.reverse()\r\n",
        "print(nums)\r\n",
        "unique_nums = set()\r\n",
        "for val in nums:\r\n",
        "  unique_nums.add(val)\r\n",
        "print(unique_nums)\r\n",
        "third_val = False\r\n",
        "max_cnt = 1\r\n",
        "discarded_max = []\r\n",
        "while(third_val == False):\r\n",
        "  print(\"While 1\")\r\n",
        "  if max_cnt<3:\r\n",
        "    discarded_max.append(max(unique_nums))\r\n",
        "    unique_nums.discard(max(unique_nums))\r\n",
        "    max_cnt+=1\r\n",
        "  else: \r\n",
        "    third_val = True\r\n",
        "print(discarded_max)\r\n",
        "print(unique_nums)\r\n",
        "if unique_nums==set():\r\n",
        "  print(max(discarded_max))\r\n",
        "else:\r\n",
        "  print(max(unique_nums))"
      ],
      "execution_count": null,
      "outputs": [
        {
          "output_type": "stream",
          "text": [
            "[1, 1, 1]\n",
            "{1}\n",
            "While 1\n",
            "While 1\n"
          ],
          "name": "stdout"
        },
        {
          "output_type": "error",
          "ename": "ValueError",
          "evalue": "ignored",
          "traceback": [
            "\u001b[0;31m---------------------------------------------------------------------------\u001b[0m",
            "\u001b[0;31mValueError\u001b[0m                                Traceback (most recent call last)",
            "\u001b[0;32m<ipython-input-1-02cf3c6fd6a0>\u001b[0m in \u001b[0;36m<module>\u001b[0;34m()\u001b[0m\n\u001b[1;32m     16\u001b[0m   \u001b[0mprint\u001b[0m\u001b[0;34m(\u001b[0m\u001b[0;34m\"While 1\"\u001b[0m\u001b[0;34m)\u001b[0m\u001b[0;34m\u001b[0m\u001b[0;34m\u001b[0m\u001b[0m\n\u001b[1;32m     17\u001b[0m   \u001b[0;32mif\u001b[0m \u001b[0mmax_cnt\u001b[0m\u001b[0;34m<\u001b[0m\u001b[0;36m3\u001b[0m\u001b[0;34m:\u001b[0m\u001b[0;34m\u001b[0m\u001b[0;34m\u001b[0m\u001b[0m\n\u001b[0;32m---> 18\u001b[0;31m     \u001b[0mdiscarded_max\u001b[0m\u001b[0;34m.\u001b[0m\u001b[0mappend\u001b[0m\u001b[0;34m(\u001b[0m\u001b[0mmax\u001b[0m\u001b[0;34m(\u001b[0m\u001b[0munique_nums\u001b[0m\u001b[0;34m)\u001b[0m\u001b[0;34m)\u001b[0m\u001b[0;34m\u001b[0m\u001b[0;34m\u001b[0m\u001b[0m\n\u001b[0m\u001b[1;32m     19\u001b[0m     \u001b[0munique_nums\u001b[0m\u001b[0;34m.\u001b[0m\u001b[0mdiscard\u001b[0m\u001b[0;34m(\u001b[0m\u001b[0mmax\u001b[0m\u001b[0;34m(\u001b[0m\u001b[0munique_nums\u001b[0m\u001b[0;34m)\u001b[0m\u001b[0;34m)\u001b[0m\u001b[0;34m\u001b[0m\u001b[0;34m\u001b[0m\u001b[0m\n\u001b[1;32m     20\u001b[0m     \u001b[0mmax_cnt\u001b[0m\u001b[0;34m+=\u001b[0m\u001b[0;36m1\u001b[0m\u001b[0;34m\u001b[0m\u001b[0;34m\u001b[0m\u001b[0m\n",
            "\u001b[0;31mValueError\u001b[0m: max() arg is an empty sequence"
          ]
        }
      ]
    },
    {
      "cell_type": "code",
      "metadata": {
        "colab": {
          "base_uri": "https://localhost:8080/"
        },
        "id": "1TpdYk5Y7KCI",
        "outputId": "e9248dd4-602b-4c5d-9eef-1a15db525060"
      },
      "source": [
        "#nums = [1,1,1]\n",
        "nums= [3,2,1,7,6,9,8]\n",
        "nums.sort()\n",
        "nums.reverse()\n",
        "print(nums)\n",
        "third_val = False\n",
        "for i in range(len(nums)):\n",
        "  print(nums[i:])\n",
        "  print(max(nums[i:]))\n",
        "  "
      ],
      "execution_count": null,
      "outputs": [
        {
          "output_type": "stream",
          "text": [
            "[9, 8, 7, 6, 3, 2, 1]\n",
            "[9, 8, 7, 6, 3, 2, 1]\n",
            "9\n",
            "[8, 7, 6, 3, 2, 1]\n",
            "8\n",
            "[7, 6, 3, 2, 1]\n",
            "7\n",
            "[6, 3, 2, 1]\n",
            "6\n",
            "[3, 2, 1]\n",
            "3\n",
            "[2, 1]\n",
            "2\n",
            "[1]\n",
            "1\n"
          ],
          "name": "stdout"
        }
      ]
    },
    {
      "cell_type": "code",
      "metadata": {
        "colab": {
          "base_uri": "https://localhost:8080/"
        },
        "id": "JXgWqDlhDwU-",
        "outputId": "9868f8a0-4c79-41ef-9053-ce75a721208f"
      },
      "source": [
        "nums= [9, 8, 7, 6, 3, 2, 1]\r\n",
        "nums.sort()\r\n",
        "nums.append(17)\r\n",
        "print(nums)"
      ],
      "execution_count": null,
      "outputs": [
        {
          "output_type": "stream",
          "text": [
            "[1, 2, 3, 6, 7, 8, 9, 17]\n"
          ],
          "name": "stdout"
        }
      ]
    },
    {
      "cell_type": "code",
      "metadata": {
        "id": "5b6urj5y733Y"
      },
      "source": [
        ""
      ],
      "execution_count": null,
      "outputs": []
    },
    {
      "cell_type": "code",
      "metadata": {
        "colab": {
          "base_uri": "https://localhost:8080/"
        },
        "id": "JTXK-wpO74a4",
        "outputId": "7f145785-f530-4b8b-9374-32057093a0c2"
      },
      "source": [
        "#strs=[\"\",\"\"]\n",
        "#strs=[\"\"]\n",
        "strs = [\"eat\",\"tea\",\"tan\",\"ate\",\"nat\",\"bat\"]\n",
        "print(strs)\n",
        "final_ana_arr = []\n",
        "temp_ana_arr = []\n",
        "checked_vals = []\n",
        "for i in range(len(strs)) :\n",
        "  print(\"*******\")\n",
        "  if strs[i] not in checked_vals:\n",
        "    temp_ana_arr.append(strs[i])\n",
        "    checked_vals.append(strs[i])\n",
        "    for val in strs[i+1:]:\n",
        "      if strs[i]==val:\n",
        "        print(val)\n",
        "        print(\"anagram\")\n",
        "        temp_ana_arr.append(val)\n",
        "        checked_vals.append(val)\n",
        "      elif strs[i]!=val and sorted(val)==sorted(strs[i]):\n",
        "        print(val)\n",
        "        print(\"anagram\")\n",
        "        temp_ana_arr.append(val)\n",
        "        checked_vals.append(val)\n",
        "      else:\n",
        "        print(\"not anagram\")\n",
        "    if temp_ana_arr!=[]:\n",
        "      final_ana_arr.append(temp_ana_arr)\n",
        "      temp_ana_arr=[]\n",
        "    print(temp_ana_arr)\n",
        "    print(checked_vals)\n",
        "    print(final_ana_arr)"
      ],
      "execution_count": null,
      "outputs": [
        {
          "output_type": "stream",
          "text": [
            "['eat', 'tea', 'tan', 'ate', 'nat', 'bat']\n",
            "*******\n",
            "tea\n",
            "anagram\n",
            "not anagram\n",
            "ate\n",
            "anagram\n",
            "not anagram\n",
            "not anagram\n",
            "[]\n",
            "['eat', 'tea', 'ate']\n",
            "[['eat', 'tea', 'ate']]\n",
            "*******\n",
            "*******\n",
            "not anagram\n",
            "nat\n",
            "anagram\n",
            "not anagram\n",
            "[]\n",
            "['eat', 'tea', 'ate', 'tan', 'nat']\n",
            "[['eat', 'tea', 'ate'], ['tan', 'nat']]\n",
            "*******\n",
            "*******\n",
            "*******\n",
            "[]\n",
            "['eat', 'tea', 'ate', 'tan', 'nat', 'bat']\n",
            "[['eat', 'tea', 'ate'], ['tan', 'nat'], ['bat']]\n"
          ],
          "name": "stdout"
        }
      ]
    },
    {
      "cell_type": "code",
      "metadata": {
        "id": "gcFApKqM7_qs"
      },
      "source": [
        "strs = [\"eat\",\"tea\",\"tan\",\"ate\",\"nat\",\"bat\"]\n",
        "print(strs)\n",
        "final_ana_arr = []\n",
        "temp_ana_arr = []\n",
        "checked_vals = []\n",
        "check_val = strs[0]\n",
        "for i in range(1,len(strs)):\n",
        "  if check_val != strs[i] or sorted(check_val)==sorted(strs[i]):\n",
        "    temp_ana_arr.append(check_val)\n",
        "  if "
      ],
      "execution_count": null,
      "outputs": []
    },
    {
      "cell_type": "code",
      "metadata": {
        "colab": {
          "base_uri": "https://localhost:8080/"
        },
        "id": "SJ0Yq8k49ARY",
        "outputId": "2be1ec67-9c2c-461f-e9b5-9f517339a665"
      },
      "source": [
        "strs = [\"eat\",\"tea\",\"tan\",\"ate\",\"nat\",\"bat\"]\n",
        "print(strs)\n",
        "final_ana_arr = []\n",
        "temp_ana_arr = []\n",
        "checked_vals = []\n",
        "for i in range(len(strs)):\n",
        "  check_val = strs[i]\n",
        "  if check_val not in final_ana_arr: temp_ana_arr.append(check_val)\n",
        "  for val in strs[i+1:]:\n",
        "    print(val)\n",
        "    if check_val != val or sorted(check_val)==sorted(val):\n",
        "      if val not in final_ana_arr: temp_ana_arr.append(val)\n",
        "  if temp_ana_arr!=[]:\n",
        "    final_ana_arr.append(temp_ana_arr)\n",
        "    temp_ana_arr = []\n",
        "print(final_ana_arr)"
      ],
      "execution_count": null,
      "outputs": [
        {
          "output_type": "stream",
          "text": [
            "['eat', 'tea', 'tan', 'ate', 'nat', 'bat']\n",
            "tea\n",
            "tan\n",
            "ate\n",
            "nat\n",
            "bat\n",
            "tan\n",
            "ate\n",
            "nat\n",
            "bat\n",
            "ate\n",
            "nat\n",
            "bat\n",
            "nat\n",
            "bat\n",
            "bat\n",
            "[['eat', 'tea', 'tan', 'ate', 'nat', 'bat'], ['tea', 'tan', 'ate', 'nat', 'bat'], ['tan', 'ate', 'nat', 'bat'], ['ate', 'nat', 'bat'], ['nat', 'bat'], ['bat']]\n"
          ],
          "name": "stdout"
        }
      ]
    },
    {
      "cell_type": "code",
      "metadata": {
        "colab": {
          "base_uri": "https://localhost:8080/"
        },
        "id": "aFzCqOaNA55b",
        "outputId": "e82d92e1-f1b6-4f5d-8541-37ded4b3ed37"
      },
      "source": [
        "nums = [4,1,2,1,2]\n",
        "print(nums)\n",
        "nums.sort()\n",
        "print(nums)\n",
        "for val in nums:\n",
        "  if nums.count(val) > 1:\n",
        "    return val\n",
        "  else:\n",
        "    continue"
      ],
      "execution_count": null,
      "outputs": [
        {
          "output_type": "stream",
          "text": [
            "[4, 1, 2, 1, 2]\n",
            "[1, 1, 2, 2, 4]\n"
          ],
          "name": "stdout"
        }
      ]
    },
    {
      "cell_type": "code",
      "metadata": {
        "colab": {
          "base_uri": "https://localhost:8080/"
        },
        "id": "YxcAlL4nDLbu",
        "outputId": "b682ecb3-28f7-4c6d-f970-29cb5f687b29"
      },
      "source": [
        "nums1 = [1,2,2,1]\n",
        "nums2 = [2,2]\n",
        "print(nums1)\n",
        "print(nums2)\n"
      ],
      "execution_count": null,
      "outputs": [
        {
          "output_type": "stream",
          "text": [
            "[1, 2, 2, 1]\n",
            "[2, 2]\n"
          ],
          "name": "stdout"
        }
      ]
    },
    {
      "cell_type": "code",
      "metadata": {
        "colab": {
          "base_uri": "https://localhost:8080/"
        },
        "id": "RZhT3mv9RY_z",
        "outputId": "56c97af2-6824-49e2-ec52-a12d6d9163c3"
      },
      "source": [
        "strs = [\"eat\",\"tea\",\"tan\",\"ate\",\"nat\",\"bat\"]\n",
        "#strs = [\"\",\"\"]\n",
        "print(strs)\n",
        "final_ana_arr = []\n",
        "temp_ana_arr = []\n",
        "checked_vals = set()\n",
        "for i in range(len(strs)):\n",
        "  check_val = strs[i]\n",
        "  print(check_val)\n",
        "  # if check_val in checked_vals:\n",
        "  #   #continue\n",
        "  #   print('inside cond')\n",
        "  # else:\n",
        "  for val in strs[i+1:]:\n",
        "      #print(val)\n",
        "      if check_val != val and sorted(check_val)==sorted(val):\n",
        "        if check_val not in temp_ana_arr and check_val not in checked_vals : temp_ana_arr.append(check_val)\n",
        "        temp_ana_arr.append(val)\n",
        "        checked_vals.add(check_val)\n",
        "        checked_vals.add(val)\n",
        "      elif check_val == val:\n",
        "        if check_val not in temp_ana_arr and check_val not in checked_vals : temp_ana_arr.append(check_val)\n",
        "        if val not in temp_ana_arr and val not in checked_vals : temp_ana_arr.append(val)\n",
        "        checked_vals.add(check_val)\n",
        "        checked_vals.add(val)\n",
        "  if temp_ana_arr !=[]:\n",
        "      final_ana_arr.append(temp_ana_arr)\n",
        "      temp_ana_arr = []\n",
        "  elif   check_val not in checked_vals:\n",
        "      temp_ana_arr.append(check_val)\n",
        "      checked_vals.add(check_val)\n",
        "      final_ana_arr.append(temp_ana_arr)\n",
        "      temp_ana_arr = []\n",
        "\n",
        "  print(temp_ana_arr)\n",
        "  print(final_ana_arr)\n",
        "  print(checked_vals)\n",
        "\n",
        "print(final_ana_arr)"
      ],
      "execution_count": null,
      "outputs": [
        {
          "output_type": "stream",
          "text": [
            "['eat', 'tea', 'tan', 'ate', 'nat', 'bat']\n",
            "eat\n",
            "[]\n",
            "[['eat', 'tea', 'ate']]\n",
            "{'eat', 'tea', 'ate'}\n",
            "tea\n",
            "[]\n",
            "[['eat', 'tea', 'ate'], ['ate']]\n",
            "{'eat', 'tea', 'ate'}\n",
            "tan\n",
            "[]\n",
            "[['eat', 'tea', 'ate'], ['ate'], ['tan', 'nat']]\n",
            "{'ate', 'tan', 'nat', 'tea', 'eat'}\n",
            "ate\n",
            "[]\n",
            "[['eat', 'tea', 'ate'], ['ate'], ['tan', 'nat']]\n",
            "{'ate', 'tan', 'nat', 'tea', 'eat'}\n",
            "nat\n",
            "[]\n",
            "[['eat', 'tea', 'ate'], ['ate'], ['tan', 'nat']]\n",
            "{'ate', 'tan', 'nat', 'tea', 'eat'}\n",
            "bat\n",
            "[]\n",
            "[['eat', 'tea', 'ate'], ['ate'], ['tan', 'nat'], ['bat']]\n",
            "{'bat', 'ate', 'tan', 'nat', 'tea', 'eat'}\n",
            "[['eat', 'tea', 'ate'], ['ate'], ['tan', 'nat'], ['bat']]\n"
          ],
          "name": "stdout"
        }
      ]
    },
    {
      "cell_type": "code",
      "metadata": {
        "id": "uTFAZvWWZp_2"
      },
      "source": [
        "  # print(strs)\n",
        "  #       final_ana_arr = []\n",
        "  #       temp_ana_arr = []\n",
        "  #       checked_vals = set()\n",
        "  #       for i in range(len(strs)):\n",
        "  #         check_val = strs[i]\n",
        "  #         print(check_val)\n",
        "  #         if check_val in checked_vals:\n",
        "  #           continue\n",
        "  #         else:\n",
        "  #           for val in strs[i+1:]:\n",
        "  #             #print(val)\n",
        "  #             if check_val != val and sorted(check_val)==sorted(val):\n",
        "  #               if check_val not in temp_ana_arr and check_val not in checked_vals : temp_ana_arr.append(check_val)\n",
        "  #               temp_ana_arr.append(val)\n",
        "  #               checked_vals.add(check_val)\n",
        "  #               checked_vals.add(val)\n",
        "  #           if temp_ana_arr !=[]:\n",
        "  #             final_ana_arr.append(temp_ana_arr)\n",
        "  #             temp_ana_arr = []\n",
        "  #           elif   check_val not in checked_vals:\n",
        "  #             temp_ana_arr.append(check_val)\n",
        "  #             checked_vals.add(check_val)\n",
        "  #             final_ana_arr.append(temp_ana_arr)\n",
        "  #             temp_ana_arr = []\n",
        "\n",
        "  #           print(temp_ana_arr)\n",
        "  #           print(final_ana_arr)\n",
        "  #           print(checked_vals)\n",
        "\n",
        "  #       print(final_ana_arr)\n",
        "  #       return final_ana_arr\n",
        "        \n",
        "        "
      ],
      "execution_count": null,
      "outputs": []
    },
    {
      "cell_type": "code",
      "metadata": {
        "colab": {
          "base_uri": "https://localhost:8080/"
        },
        "id": "g61NvXauGnni",
        "outputId": "09abbd51-64d8-4ed1-f2a0-0d0129391759"
      },
      "source": [
        "#\r\n",
        "# https://leetcode.com/problems/two-sum/\r\n",
        "#\r\n",
        "\r\n",
        "nums = [2,7,11,15]\r\n",
        "target = 9\r\n",
        "index_arr = []\r\n",
        "for i in range (len(nums)):\r\n",
        "  val1 = target - nums[i]\r\n",
        "  if val1 in nums[i+1:] :  \r\n",
        "    index_arr.append(i)\r\n",
        "    index_arr.append(nums.index(val1))\r\n",
        "\r\n",
        "print(index_arr)"
      ],
      "execution_count": null,
      "outputs": [
        {
          "output_type": "stream",
          "text": [
            "[0, 1]\n"
          ],
          "name": "stdout"
        }
      ]
    },
    {
      "cell_type": "code",
      "metadata": {
        "colab": {
          "base_uri": "https://localhost:8080/"
        },
        "id": "ZFH9FK0PL5zE",
        "outputId": "a6ade716-8b89-4802-ebf5-dd2a68e9204f"
      },
      "source": [
        "# nums1 = [1,2]\r\n",
        "# nums2 = [3,4]\r\n",
        "# nums1 = [0,0]\r\n",
        "# nums2 = [0,0]\r\n",
        "# nums1 = []\r\n",
        "# nums2 = [1]\r\n",
        "# nums1 = [2]\r\n",
        "# nums2 = []\r\n",
        "nums1 = [1,3]\r\n",
        "nums2 = [2]\r\n",
        "\r\n",
        "\r\n",
        "unified_nums = []\r\n",
        "unified_nums.extend(nums1)\r\n",
        "unified_nums.extend(nums2)\r\n",
        "unified_nums.sort()\r\n",
        "print(unified_nums)\r\n",
        "median_index = int(len(unified_nums)/2)\r\n",
        "print(median_index)\r\n",
        "if median_index > 1 or len(unified_nums) > 1:\r\n",
        "  if len(unified_nums) % 2 == 0 : \r\n",
        "    print('odd')\r\n",
        "    val1 = unified_nums[median_index-1]\r\n",
        "    val2 = unified_nums[median_index]\r\n",
        "    median_val = (val1+val2)/2\r\n",
        "  else: \r\n",
        "    print('even')\r\n",
        "    val1 = unified_nums[median_index]\r\n",
        "    median_val = val1\r\n",
        "else:\r\n",
        "  val1 = unified_nums[median_index-1]\r\n",
        "  median_val = val1\r\n",
        "\r\n",
        "print(median_val)\r\n",
        "print('{0:.5f}'.format(median_val))"
      ],
      "execution_count": null,
      "outputs": [
        {
          "output_type": "stream",
          "text": [
            "[1, 2, 3]\n",
            "1\n",
            "even\n",
            "2\n",
            "2.00000\n"
          ],
          "name": "stdout"
        }
      ]
    },
    {
      "cell_type": "code",
      "metadata": {
        "colab": {
          "base_uri": "https://localhost:8080/"
        },
        "id": "2hQ3Q_bvuN4i",
        "outputId": "c7e69787-fd11-427a-8b2e-1b91afd660b0"
      },
      "source": [
        "l1 = [2,4,3]\r\n",
        "l2 = [5,6,4]\r\n",
        "l1.reverse()\r\n",
        "l2.reverse()\r\n",
        "str_l1 = ''\r\n",
        "str_l2 = ''\r\n",
        "result_arr = []\r\n",
        "for val in l1:\r\n",
        "  str_l1+=str(val)\r\n",
        "for val in l2:\r\n",
        "  str_l2+=str(val)\r\n",
        "\r\n",
        "str_sum = int(str_l1)+int(str_l2)\r\n",
        "\r\n",
        "for val in str(str_sum):\r\n",
        "  result_arr.insert(0,int(val))\r\n",
        "\r\n",
        "print(result_arr)\r\n"
      ],
      "execution_count": null,
      "outputs": [
        {
          "output_type": "stream",
          "text": [
            "[7, 0, 8]\n"
          ],
          "name": "stdout"
        }
      ]
    },
    {
      "cell_type": "code",
      "metadata": {
        "id": "0mUt_Mwiwe9C"
      },
      "source": [
        "TypeError: 'ListNode' object is not iterable\r\n",
        "    list(l1).reverse()\r\n",
        "Line 8 in addTwoNumbers (Solution.py)\r\n",
        "    ret = Solution().addTwoNumbers(param_1, param_2)\r\n",
        "Line 48 in _driver (Solution.py)\r\n",
        "    _driver()\r\n",
        "Line 59 in <module> (Solution.py)"
      ],
      "execution_count": null,
      "outputs": []
    },
    {
      "cell_type": "code",
      "metadata": {
        "id": "-i8DksFJ63K8"
      },
      "source": [
        "# import re\r\n",
        "# verbose_item_pattern = re.compile(r\"\"\"\r\n",
        "#     $            # end of line boundary\r\n",
        "#     \\s{1,2}      # 1-or-2 whitespace character, including the newline\r\n",
        "#     I            # a capital I\r\n",
        "#     [tT][eE][mM] # one character from each of the three sets this allows for unknown case\r\n",
        "#     \\s+          # 1-or-more whitespaces INCLUDING newline\r\n",
        "#     \\d{1,2}      # 1-or-2 digits\r\n",
        "#     [.]?         # 0-or-1 literal .\r\n",
        "#     \\(?          # 0-or-1 literal open paren\r\n",
        "#     [a-e]?       # 0-or-1 letter in the range a-e\r\n",
        "#     \\)?          # 0-or-1 closing paren\r\n",
        "#     .*           # any number of unknown characters so we can have words and punctuation\r\n",
        "#     [^0-9]       # anything but [0-9]\r\n",
        "#     $            # end of line boundary\r\n",
        "#     \"\"\", re.VERBOSE|re.MULTILINE)\r\n",
        "\r\n",
        "# x = verbose_item_pattern.search(\"\"\"\r\n",
        "#  Item 1.0(a) foo bar\r\n",
        "# \"\"\")\r\n",
        "\r\n",
        "# print(x)"
      ],
      "execution_count": null,
      "outputs": []
    },
    {
      "cell_type": "code",
      "metadata": {
        "colab": {
          "base_uri": "https://localhost:8080/"
        },
        "id": "OMGDW9AkwgZo",
        "outputId": "451ea87f-13f6-439b-ce1d-5aca38288807"
      },
      "source": [
        "#\r\n",
        "# https://leetcode.com/problems/regular-expression-matching/\r\n",
        "#\r\n",
        "\r\n",
        "s = \"mississippi\"\r\n",
        "p = \"mis*is*p*.\"\r\n",
        "import re\r\n",
        "# s = 'aa'\r\n",
        "# p = 'a*'\r\n",
        "\r\n",
        "print(s)\r\n",
        "print(p)\r\n",
        "\r\n",
        "# validator_status = re.compile(p)\r\n",
        "# print(validator_status)\r\n",
        "# validator_status_result = validator_status.search(s)\r\n",
        "# print(validator_status_result)\r\n",
        "\r\n",
        "if '*' not in p and '.' not in p :\r\n",
        "  if s == p : print(\"true\")\r\n",
        "  else : print('False')\r\n",
        "else:\r\n",
        "  j = 0\r\n",
        "  for i in range(len(p)-1):\r\n",
        "    print(p[i])\r\n",
        "    print(p[i+1])\r\n",
        "    #j = i\r\n",
        "    if (p[i]!='*' or p[i]!='.') and (p[i+1]!='*' or p[i+1]!='.') :\r\n",
        "      print(\"only symbol\")\r\n",
        "      if p[i] == s[j] : print(\"True\")\r\n",
        "      else : print(\"False\")\r\n",
        "    else:\r\n",
        "    #elif (p[i]!='*' or p[i]!='.') and (p[i+1]=='*' or p[i+1]=='.'):\r\n",
        "      print(\"First Char and second symbol\")\r\n",
        "      temp_flag = True\r\n",
        "      while(temp_flag):\r\n",
        "        if p[i] == s[j] : \r\n",
        "          print(\"True\")\r\n",
        "          j+=1\r\n",
        "        else:\r\n",
        "          temp_flag = False\r\n",
        "\r\n",
        "      \r\n",
        "        \r\n",
        "\r\n"
      ],
      "execution_count": null,
      "outputs": [
        {
          "output_type": "stream",
          "text": [
            "mississippi\n",
            "mis*is*p*.\n",
            "m\n",
            "i\n",
            "only symbol\n",
            "True\n",
            "i\n",
            "s\n",
            "only symbol\n",
            "False\n",
            "s\n",
            "*\n",
            "only symbol\n",
            "False\n",
            "*\n",
            "i\n",
            "only symbol\n",
            "False\n",
            "i\n",
            "s\n",
            "only symbol\n",
            "False\n",
            "s\n",
            "*\n",
            "only symbol\n",
            "False\n",
            "*\n",
            "p\n",
            "only symbol\n",
            "False\n",
            "p\n",
            "*\n",
            "only symbol\n",
            "False\n",
            "*\n",
            ".\n",
            "only symbol\n",
            "False\n"
          ],
          "name": "stdout"
        }
      ]
    },
    {
      "cell_type": "code",
      "metadata": {
        "colab": {
          "base_uri": "https://localhost:8080/"
        },
        "id": "g1jZ4AqoSM3D",
        "outputId": "c9d92c75-5383-4b91-8f06-f0948e8d5415"
      },
      "source": [
        "#s = \"pwwkew\"\r\n",
        "#s = \"bbbbb\"\r\n",
        "#s = \"abcabcbb\"\r\n",
        "#s = \"\"\r\n",
        "s = \"aab\"\r\n",
        "print(s)\r\n",
        "longtest_substr = ''\r\n",
        "substr_arr = []\r\n",
        "for i in range(len(s)):\r\n",
        "  print(s[:i])\r\n",
        "  print(s[i:1:])\r\n",
        "  if s[i] not in longtest_substr : longtest_substr+=s[i]\r\n",
        "  elif s[i] in longtest_substr and s[i] not in s[i:0:] : longtest_substr+=s[i]\r\n",
        "  else : \r\n",
        "    substr_arr.append(longtest_substr)\r\n",
        "    longtest_substr = ''\r\n",
        "if longtest_substr!='' and longtest_substr not in substr_arr : substr_arr.append(longtest_substr)\r\n",
        "print(longtest_substr)\r\n",
        "print(substr_arr)\r\n",
        "substr_arr.sort()\r\n",
        "print(substr_arr)\r\n",
        "if substr_arr == []:\r\n",
        "  print(0)\r\n",
        "else:\r\n",
        "  print(len(substr_arr[0]))"
      ],
      "execution_count": null,
      "outputs": [
        {
          "output_type": "stream",
          "text": [
            "aab\n",
            "\n",
            "a\n",
            "a\n",
            "\n",
            "aa\n",
            "\n",
            "aab\n",
            "['aab']\n",
            "['aab']\n",
            "3\n"
          ],
          "name": "stdout"
        }
      ]
    },
    {
      "cell_type": "code",
      "metadata": {
        "id": "9--1zsc1pstj"
      },
      "source": [
        "s = \"aab\"\r\n",
        "print(s)\r\n",
        "longtest_substr = ''\r\n",
        "substr_arr = []\r\n"
      ],
      "execution_count": null,
      "outputs": []
    },
    {
      "cell_type": "code",
      "metadata": {
        "colab": {
          "base_uri": "https://localhost:8080/"
        },
        "id": "S7Fj8riaqzn4",
        "outputId": "18e19927-e7b7-445d-830f-fa61167db6fa"
      },
      "source": [
        " s = \"([)]\"\r\n",
        " print(s)\r\n",
        " open_b ='({['\r\n",
        " close_b = ')}]'\r\n",
        " return_flag = False\r\n",
        " for i in range(len(s)):\r\n",
        "   if s[i] in open_b: \r\n",
        "     index_val = open_b.index(s[i])\r\n",
        "     if close_b[index_val] in s[i+1:]:\r\n",
        "       "
      ],
      "execution_count": null,
      "outputs": [
        {
          "output_type": "stream",
          "text": [
            "([)]\n"
          ],
          "name": "stdout"
        }
      ]
    },
    {
      "cell_type": "code",
      "metadata": {
        "colab": {
          "base_uri": "https://localhost:8080/"
        },
        "id": "E0CNf_W4s_2i",
        "outputId": "ce8a9626-92c7-48ad-eea6-d2d1446ab7fa"
      },
      "source": [
        "s = \"([)]\"\r\n",
        "s = \"()[]{}\"\r\n",
        "s = \"{[]}\"\r\n",
        "print(s)\r\n",
        "close_b = ')}]'\r\n",
        "rev_order = ''\r\n",
        "mid_index = 0\r\n",
        "#  for val in s: \r\n",
        "#    if val == '(': rev_order=')'+rev_order\r\n",
        "#    elif val == '{': rev_order='}'+rev_order\r\n",
        "#    elif val == '[': rev_order=']'+rev_order\r\n",
        "#    elif val in close_b : print(\"Wrong pattern\")\r\n",
        "#    mid_index = s.index(val)\r\n",
        "for i in range(len(s)):\r\n",
        "  if s[i]=='(':     \r\n",
        "    if s[i+1]!=')': rev_order=')'+rev_order\r\n",
        "  elif s[i]=='{':     \r\n",
        "    if s[i+1]!='}': rev_order='}'+rev_order\r\n",
        "  elif s[i]=='[':     \r\n",
        "    if s[i+1]!=']': rev_order=']'+rev_order\r\n",
        "\r\n",
        "print(rev_order)\r\n",
        "print(\"8888\")\r\n",
        "print(s[mid_index:])\r\n",
        "if rev_order != '' :\r\n",
        "  if rev_order == s[mid_index:]:\r\n",
        "    print(\"Correct\")\r\n",
        "  else:\r\n",
        "    print(\"Wrong\")\r\n",
        "else:\r\n",
        "  print(\"Correct\")\r\n",
        "\r\n"
      ],
      "execution_count": null,
      "outputs": [
        {
          "output_type": "stream",
          "text": [
            "{[]}\n",
            "}\n",
            "8888\n",
            "{[]}\n",
            "Wrong\n"
          ],
          "name": "stdout"
        }
      ]
    },
    {
      "cell_type": "code",
      "metadata": {
        "id": "yg_5FI94wPw-"
      },
      "source": [
        "s = ')'\r\n",
        "s.insert(0,']')\r\n",
        "print(s)"
      ],
      "execution_count": null,
      "outputs": []
    },
    {
      "cell_type": "code",
      "metadata": {
        "colab": {
          "base_uri": "https://localhost:8080/"
        },
        "id": "k1EPh8oNBp1g",
        "outputId": "020b0f17-30cf-476c-d26d-a7d8a942665f"
      },
      "source": [
        "s = \"([)]\"\r\n",
        "s = \"()[]{}\"\r\n",
        "s = \"{[]}\"\r\n",
        "brackets = ['()', '{}', '[]'] \r\n",
        "#print(x in s for x in brackets)\r\n",
        "while any(x in s for x in brackets):\r\n",
        "  #print(x)\r\n",
        "  for br in brackets:\r\n",
        "    s = s.replace(br,'')\r\n",
        "print(s)\r\n",
        "if s == '' : print(\"Balanced\")\r\n",
        "else: print(\"Unbalanced\")\r\n"
      ],
      "execution_count": null,
      "outputs": [
        {
          "output_type": "stream",
          "text": [
            "\n",
            "Balanced\n"
          ],
          "name": "stdout"
        }
      ]
    },
    {
      "cell_type": "code",
      "metadata": {
        "colab": {
          "base_uri": "https://localhost:8080/"
        },
        "id": "nmL3S_vnEpa4",
        "outputId": "da9ccc57-c146-4851-9a00-bae09f2bf1d1"
      },
      "source": [
        "l1 = [1,2,4]\r\n",
        "l2 = [1,3,4]\r\n",
        "merged_l3 = []\r\n",
        "merged_l3.extend(l1)\r\n",
        "merged_l3.extend(l2)\r\n",
        "print(sorted(merged_l3))"
      ],
      "execution_count": null,
      "outputs": [
        {
          "output_type": "stream",
          "text": [
            "[1, 1, 2, 3, 4, 4]\n"
          ],
          "name": "stdout"
        }
      ]
    },
    {
      "cell_type": "code",
      "metadata": {
        "id": "Hu_M7eQ8KrWQ"
      },
      "source": [
        "n = 3 \r\n"
      ],
      "execution_count": null,
      "outputs": []
    },
    {
      "cell_type": "markdown",
      "metadata": {
        "id": "dhlFZ5FxEpSZ"
      },
      "source": [
        ""
      ]
    },
    {
      "cell_type": "code",
      "metadata": {
        "colab": {
          "base_uri": "https://localhost:8080/"
        },
        "id": "O_n-RXEJ3U7W",
        "outputId": "ded67eda-5d0c-4cd7-81f9-f2cb67b6db31"
      },
      "source": [
        "haystack = \"hello\"\r\n",
        "needle = \"ll\"\r\n",
        "\r\n",
        "haystack = \"aaaaa\"\r\n",
        "needle = \"bba\"\r\n",
        "\r\n",
        "haystack = \"\"\r\n",
        "needle = \"\"\r\n",
        "\r\n",
        "\r\n",
        "try : \r\n",
        "  val = haystack.index(needle)\r\n",
        "  print(val)\r\n",
        "except:\r\n",
        "  val = -1\r\n",
        "\r\n",
        "print(val)"
      ],
      "execution_count": null,
      "outputs": [
        {
          "output_type": "stream",
          "text": [
            "0\n",
            "0\n"
          ],
          "name": "stdout"
        }
      ]
    },
    {
      "cell_type": "markdown",
      "metadata": {
        "id": "S49C3blk3ttq"
      },
      "source": [
        ""
      ]
    },
    {
      "cell_type": "code",
      "metadata": {
        "colab": {
          "base_uri": "https://localhost:8080/"
        },
        "id": "uKY3GUb13raL",
        "outputId": "5a1ae5a9-2c4b-41ee-a5de-25588c1bc786"
      },
      "source": [
        "#\r\n",
        "# https://leetcode.com/problems/longest-valid-parentheses/\r\n",
        "#\r\n",
        "\r\n",
        "\r\n",
        "s = \")()())\"\r\n",
        "print(s)\r\n"
      ],
      "execution_count": null,
      "outputs": [
        {
          "output_type": "stream",
          "text": [
            ")()())\n"
          ],
          "name": "stdout"
        }
      ]
    },
    {
      "cell_type": "code",
      "metadata": {
        "colab": {
          "base_uri": "https://localhost:8080/"
        },
        "id": "sFwHXEsitrnt",
        "outputId": "2ec073d1-09cb-477f-a74f-f6d73ebc7ff4"
      },
      "source": [
        "s = \"aacecaaa\"\r\n",
        "print(s)\r\n"
      ],
      "execution_count": null,
      "outputs": [
        {
          "output_type": "stream",
          "text": [
            "aacecaaa\n"
          ],
          "name": "stdout"
        }
      ]
    },
    {
      "cell_type": "code",
      "metadata": {
        "colab": {
          "base_uri": "https://localhost:8080/"
        },
        "id": "MdWPvfJavRa-",
        "outputId": "895e5bba-d922-4bae-eb91-a4b778a75792"
      },
      "source": [
        "#\r\n",
        "# https://leetcode.com/problems/combination-sum/\r\n",
        "#\r\n",
        "\r\n",
        "candidates = [2,3,5]\r\n",
        "target = 8\r\n",
        "\r\n",
        "candidates = [2]\r\n",
        "target = 1\r\n",
        "\r\n",
        "candidates = [1]\r\n",
        "target = 1\r\n",
        "\r\n",
        "candidates = [2,7,6,3,5,1]\r\n",
        "target = 9\r\n",
        "\r\n",
        "temp_combo = []\r\n",
        "total_combo = []\r\n",
        "candidates.sort()\r\n",
        "\r\n",
        "print(target/candidates[0])\r\n",
        "print(candidates)\r\n",
        "\r\n",
        "for i in range(len(candidates)):\r\n",
        "  print(candidates[:i+1])\r\n",
        "  for j in range(len(candidates[:i+1])):\r\n",
        "    #print(candidates[:i+1][j])\r\n",
        "    if target%candidates[:i+1][j] == 0 :\r\n",
        "      var1 = int(target/candidates[:i+1][j])\r\n",
        "      for temp_var1 in range(var1):\r\n",
        "        temp_combo.append(candidates[:i+1][j])\r\n",
        "      if temp_combo not in total_combo : total_combo.append(temp_combo)\r\n",
        "      temp_combo = []\r\n",
        "  if sum(candidates[:i+1]) < target : \r\n",
        "    val1 = target - sum(candidates[:i+1])\r\n",
        "    print(val1)\r\n",
        "    for val2 in candidates[:i+1]:\r\n",
        "      temp_combo.append(val2)\r\n",
        "    \r\n",
        "    for val3 in candidates[:i+1]:\r\n",
        "      if val1%val3 == 0 :\r\n",
        "        val4 = int(val1/val3)\r\n",
        "        for val5 in range(val4):\r\n",
        "          temp_combo.append(val3)\r\n",
        "      if temp_combo not in total_combo : total_combo.append(temp_combo)\r\n",
        "      temp_combo = []\r\n",
        "\r\n",
        "# for i in range(len(candidates)):\r\n",
        "#   print(candidates[i])\r\n",
        "#   if target%candidates[i] == 0 : \r\n",
        "#     var1 = int(target/candidates[i])\r\n",
        "#     for temp_var1 in range(var1):\r\n",
        "#       temp_combo.append(candidates[i])\r\n",
        "#     if temp_combo != []:\r\n",
        "#       total_combo.append(temp_combo)\r\n",
        "#       temp_combo = []\r\n",
        "#   if i != len(candidates)-1 : \r\n",
        "#       print('here')\r\n",
        "#       val1 = target - (candidates[i]+candidates[i+1])\r\n",
        "#       print(val1)\r\n",
        "#       if val1 in candidates: \r\n",
        "#         temp_combo.append(candidates[i])\r\n",
        "#         temp_combo.append(candidates[i+1])\r\n",
        "#         temp_combo.append(val1)\r\n",
        "#         total_combo.append(temp_combo)\r\n",
        "#         temp_combo = []\r\n",
        "#   #else: \r\n",
        "#   val = target - candidates[i]\r\n",
        "#   print(val)\r\n",
        "#   if val in candidates[i+1:] : \r\n",
        "#     temp_combo.append(candidates[i])\r\n",
        "#     temp_combo.append(val)\r\n",
        "#     total_combo.append(temp_combo)\r\n",
        "#     temp_combo = []\r\n",
        "    \r\n",
        "\r\n",
        "\r\n",
        "print(temp_combo)\r\n",
        "print(total_combo)"
      ],
      "execution_count": null,
      "outputs": [
        {
          "output_type": "stream",
          "text": [
            "9.0\n",
            "[1, 2, 3, 5, 6, 7]\n",
            "[1]\n",
            "8\n",
            "[1, 2]\n",
            "6\n",
            "[1, 2, 3]\n",
            "3\n",
            "[1, 2, 3, 5]\n",
            "[1, 2, 3, 5, 6]\n",
            "[1, 2, 3, 5, 6, 7]\n",
            "[]\n",
            "[[1, 1, 1, 1, 1, 1, 1, 1, 1], [1, 2, 1, 1, 1, 1, 1, 1], [2, 2, 2], [3, 3, 3], [1, 2, 3, 1, 1, 1], [], [3]]\n"
          ],
          "name": "stdout"
        }
      ]
    },
    {
      "cell_type": "markdown",
      "metadata": {
        "id": "2zZIB_q61o-_"
      },
      "source": [
        "[[1,1,1,1,1,1,1,1,1],[1,1,1,1,1,1,1,2],[1,1,1,1,1,1,3],[1,1,1,1,1,2,2],[1,1,1,1,2,3],[1,1,1,1,5],[1,1,1,2,2,2],[1,1,1,3,3],[1,1,1,6],[1,1,2,2,3],[1,1,2,5],[1,1,7],[1,2,2,2,2],[1,2,3,3],[1,2,6],[1,3,5],[2,2,2,3],[2,2,5],[2,7],[3,3,3],[3,6]]"
      ]
    },
    {
      "cell_type": "code",
      "metadata": {
        "colab": {
          "base_uri": "https://localhost:8080/"
        },
        "id": "uQzN3GNlBo2Q",
        "outputId": "8f19f3a7-7256-466a-ab49-106f0d03d2b9"
      },
      "source": [
        "candidates = [2,7,6,3,5,1]\r\n",
        "target = 9\r\n",
        "\r\n",
        "temp_combo = []\r\n",
        "total_combo = []\r\n",
        "temp_rem_Arr = []\r\n",
        "candidates.sort()\r\n",
        "\r\n",
        "print(candidates)\r\n",
        "\r\n",
        "for i in range(len(candidates)):\r\n",
        "  print(candidates[i])\r\n",
        "  if target%candidates[i] == 0 : \r\n",
        "    print('divisible')\r\n",
        "    print(int(target/candidates[i]))\r\n",
        "    for j in range(int(target/candidates[i])):\r\n",
        "      temp_combo.append(candidates[i])\r\n",
        "    if temp_combo!=[]and temp_combo not in total_combo : total_combo.append(temp_combo)\r\n",
        "    temp_combo = []\r\n",
        "\r\n",
        "  # [1, 2, 3, 5, 6, 7]\r\n",
        "  else :\r\n",
        "    var1 =  int(target/candidates[i])\r\n",
        "    print(var1)\r\n",
        "    remainder = target - var1*candidates[i]\r\n",
        "    print(remainder)\r\n",
        "    if remainder in candidates:\r\n",
        "      temp_combo.append(remainder)\r\n",
        "    for var2 in range(var1):\r\n",
        "      temp_combo.append(candidates[i]) \r\n",
        "    if temp_combo!=[]and temp_combo not in total_combo : total_combo.append(temp_combo)\r\n",
        "    temp_combo = []\r\n",
        "\r\n",
        "\r\n",
        "print(temp_combo)\r\n",
        "print(total_combo)"
      ],
      "execution_count": null,
      "outputs": [
        {
          "output_type": "stream",
          "text": [
            "[1, 2, 3, 5, 6, 7]\n",
            "1\n",
            "divisible\n",
            "9\n",
            "2\n",
            "4\n",
            "1\n",
            "3\n",
            "divisible\n",
            "3\n",
            "5\n",
            "1\n",
            "4\n",
            "6\n",
            "1\n",
            "3\n",
            "7\n",
            "1\n",
            "2\n",
            "[]\n",
            "[[1, 1, 1, 1, 1, 1, 1, 1, 1], [1, 2, 2, 2, 2], [3, 3, 3], [5], [3, 6], [2, 7]]\n"
          ],
          "name": "stdout"
        }
      ]
    },
    {
      "cell_type": "code",
      "metadata": {
        "colab": {
          "base_uri": "https://localhost:8080/"
        },
        "id": "ZzOuFP6Irw9N",
        "outputId": "67eb64ba-8da4-4bbc-fa4b-f4ce97c31a3d"
      },
      "source": [
        "from itertools import chain, combinations\n",
        "def all_subsets(ss):\n",
        "    return chain(*map(lambda x: combinations(ss, x), range(0, len(ss)+1)))\n",
        "\n",
        "stuff = '()'\n",
        "print(len(stuff))\n",
        "\n",
        "for subset in all_subsets(stuff):\n",
        "    print(subset)"
      ],
      "execution_count": null,
      "outputs": [
        {
          "output_type": "stream",
          "text": [
            "2\n",
            "()\n",
            "('(',)\n",
            "(')',)\n",
            "('(', ')')\n"
          ],
          "name": "stdout"
        }
      ]
    },
    {
      "cell_type": "code",
      "metadata": {
        "colab": {
          "base_uri": "https://localhost:8080/"
        },
        "id": "Y2QJdulCyvat",
        "outputId": "0d192dcb-db32-4e50-f734-f75b53d822ba"
      },
      "source": [
        "x = -121\n",
        "print(str(x)[::-1])\n",
        "rev_x = str(x)[::-1]\n",
        "if str(x) == str(rev_x):\n",
        "  print(\"True\")\n",
        "else:\n",
        "  print(\"False\")"
      ],
      "execution_count": null,
      "outputs": [
        {
          "output_type": "stream",
          "text": [
            "121-\n",
            "False\n"
          ],
          "name": "stdout"
        }
      ]
    },
    {
      "cell_type": "code",
      "metadata": {
        "colab": {
          "base_uri": "https://localhost:8080/"
        },
        "id": "sCB216fo01xI",
        "outputId": "2a87d603-8d90-42f2-811d-4e1815013406"
      },
      "source": [
        "address = \"255.100.50.0\"\n",
        "print(address.replace(\".\",\"[.]\"))\n",
        "\n",
        "print(address)\n",
        "\n",
        "str1 = \" this is good\"\n",
        "str1.replace('this', 'that')\n",
        "print(str1)"
      ],
      "execution_count": null,
      "outputs": [
        {
          "output_type": "stream",
          "text": [
            "255[.]100[.]50[.]0\n",
            "255.100.50.0\n",
            " this is good\n"
          ],
          "name": "stdout"
        }
      ]
    },
    {
      "cell_type": "code",
      "metadata": {
        "colab": {
          "base_uri": "https://localhost:8080/",
          "height": 283
        },
        "id": "IZv166Vh4oJh",
        "outputId": "19241332-2b70-413c-93af-59fb66c5fa1d"
      },
      "source": [
        "height = [1,8,6,2,5,4,8,3,7]\n",
        "print(height)\n",
        "max_area_arr =[]\n",
        "\n",
        "max_index = height.index(max(height))\n",
        "print(max_index)\n",
        "\n",
        "print(height[max_index+1:])\n",
        "sub_arr = height[max_index+1:]\n",
        "print(list(sub_arr).index((height[max_index+1])))\n",
        "\n",
        "\n",
        "\n",
        "# sub_max_index = height[max_index+1:].index(max(height[max_index+1]))\n",
        "# print(sub_max_index)\n",
        "\n",
        "# for val in height[max_index+1]:\n",
        "#   if val<\n",
        "\n",
        "# for i in range(len(height)):\n",
        "#   temp_arr = []\n",
        "#   for val in height[i+1:]:\n",
        "#     temp_arr.append(val*height[i])\n",
        "#   max_area_arr.append(max(temp_arr))\n",
        "\n",
        "\n",
        "\n",
        "\n",
        "\n",
        "  # for j in range(len(height)):\n",
        "  #   val = height[i]*height[j]\n",
        "  #   print(val)\n",
        "  #   if val not in max_area_arr : max_area_arr.append(val)\n",
        "\n",
        "  # print(temp_arr)\n",
        "  # print(max_area_arr)\n",
        "  # print(max(max_area_arr))\n"
      ],
      "execution_count": null,
      "outputs": [
        {
          "output_type": "stream",
          "text": [
            "[1, 8, 6, 2, 5, 4, 8, 3, 7]\n",
            "1\n",
            "[6, 2, 5, 4, 8, 3, 7]\n"
          ],
          "name": "stdout"
        },
        {
          "output_type": "error",
          "ename": "TypeError",
          "evalue": "ignored",
          "traceback": [
            "\u001b[0;31m---------------------------------------------------------------------------\u001b[0m",
            "\u001b[0;31mTypeError\u001b[0m                                 Traceback (most recent call last)",
            "\u001b[0;32m<ipython-input-3-b247d0c211a9>\u001b[0m in \u001b[0;36m<module>\u001b[0;34m()\u001b[0m\n\u001b[1;32m      8\u001b[0m \u001b[0mprint\u001b[0m\u001b[0;34m(\u001b[0m\u001b[0mheight\u001b[0m\u001b[0;34m[\u001b[0m\u001b[0mmax_index\u001b[0m\u001b[0;34m+\u001b[0m\u001b[0;36m1\u001b[0m\u001b[0;34m:\u001b[0m\u001b[0;34m]\u001b[0m\u001b[0;34m)\u001b[0m\u001b[0;34m\u001b[0m\u001b[0;34m\u001b[0m\u001b[0m\n\u001b[1;32m      9\u001b[0m \u001b[0msub_arr\u001b[0m \u001b[0;34m=\u001b[0m \u001b[0mheight\u001b[0m\u001b[0;34m[\u001b[0m\u001b[0mmax_index\u001b[0m\u001b[0;34m+\u001b[0m\u001b[0;36m1\u001b[0m\u001b[0;34m:\u001b[0m\u001b[0;34m]\u001b[0m\u001b[0;34m\u001b[0m\u001b[0;34m\u001b[0m\u001b[0m\n\u001b[0;32m---> 10\u001b[0;31m \u001b[0mprint\u001b[0m\u001b[0;34m(\u001b[0m\u001b[0mlist\u001b[0m\u001b[0;34m(\u001b[0m\u001b[0msub_arr\u001b[0m\u001b[0;34m)\u001b[0m\u001b[0;34m.\u001b[0m\u001b[0mindex\u001b[0m\u001b[0;34m(\u001b[0m\u001b[0mmax\u001b[0m\u001b[0;34m(\u001b[0m\u001b[0mheight\u001b[0m\u001b[0;34m[\u001b[0m\u001b[0mmax_index\u001b[0m\u001b[0;34m+\u001b[0m\u001b[0;36m1\u001b[0m\u001b[0;34m]\u001b[0m\u001b[0;34m)\u001b[0m\u001b[0;34m)\u001b[0m\u001b[0;34m)\u001b[0m\u001b[0;34m\u001b[0m\u001b[0;34m\u001b[0m\u001b[0m\n\u001b[0m\u001b[1;32m     11\u001b[0m \u001b[0;34m\u001b[0m\u001b[0m\n\u001b[1;32m     12\u001b[0m \u001b[0;34m\u001b[0m\u001b[0m\n",
            "\u001b[0;31mTypeError\u001b[0m: 'int' object is not iterable"
          ]
        }
      ]
    },
    {
      "cell_type": "code",
      "metadata": {
        "colab": {
          "base_uri": "https://localhost:8080/"
        },
        "id": "WXu6KlJp8yPz",
        "outputId": "e95af034-7bcd-440e-f729-0fa34d66b45b"
      },
      "source": [
        "arr = [1,4,2,5,3,4,7]\r\n",
        "print(arr)\r\n",
        "odd_sum = 0\r\n",
        "len_arr = len(arr)\r\n",
        "len_arr_arr = list(range(1,len_arr+1,2))\r\n",
        "print(len_arr_arr)\r\n",
        "# odd_sum+=sum(arr)\r\n",
        "print(odd_sum)\r\n",
        "odd_flag = False\r\n",
        "if len_arr > 2 : odd_cnt = 3\r\n",
        "start_index = 0 \r\n",
        "\r\n",
        "for (i,val) in enumerate(len_arr_arr): \r\n",
        "  odd_cnt = val \r\n",
        "  start_index = 0\r\n",
        "  while odd_cnt <= len_arr : \r\n",
        "    #print('here - while loop')\r\n",
        "    print(arr[start_index:odd_cnt])\r\n",
        "    odd_sum+=sum(arr[start_index:odd_cnt])\r\n",
        "    odd_cnt+=1\r\n",
        "    start_index+=1\r\n",
        "    #print(odd_sum)\r\n",
        "    print(odd_cnt)\r\n",
        "print(odd_sum)\r\n",
        "\r\n",
        "# while odd_flag!=True:\r\n",
        "#   print('here 1')\r\n",
        "#   if odd_cnt<=len_arr: \r\n",
        "#     print('here')\r\n",
        "#     odd_sum+=sum(arr[start_index:odd_cnt])\r\n",
        "#     start_index+=1\r\n",
        "#     odd_cnt+=2\r\n",
        "#   if odd_cnt == len_arr : \r\n",
        "#     start_index = 0\r\n",
        "#     odd_cnt = 5\r\n",
        "#     odd_flag = True\r\n",
        "\r\n",
        "\r\n",
        "# print(odd_sum)"
      ],
      "execution_count": null,
      "outputs": [
        {
          "output_type": "stream",
          "text": [
            "[1, 4, 2, 5, 3, 4, 7]\n",
            "[1, 3, 5, 7]\n",
            "0\n",
            "[1]\n",
            "2\n",
            "[4]\n",
            "3\n",
            "[2]\n",
            "4\n",
            "[5]\n",
            "5\n",
            "[3]\n",
            "6\n",
            "[4]\n",
            "7\n",
            "[7]\n",
            "8\n",
            "[1, 4, 2]\n",
            "4\n",
            "[4, 2, 5]\n",
            "5\n",
            "[2, 5, 3]\n",
            "6\n",
            "[5, 3, 4]\n",
            "7\n",
            "[3, 4, 7]\n",
            "8\n",
            "[1, 4, 2, 5, 3]\n",
            "6\n",
            "[4, 2, 5, 3, 4]\n",
            "7\n",
            "[2, 5, 3, 4, 7]\n",
            "8\n",
            "[1, 4, 2, 5, 3, 4, 7]\n",
            "8\n",
            "160\n"
          ],
          "name": "stdout"
        }
      ]
    },
    {
      "cell_type": "code",
      "metadata": {
        "colab": {
          "base_uri": "https://localhost:8080/"
        },
        "id": "5J2lnPny-1h8",
        "outputId": "1e64e3b3-f402-4114-9adc-91beafe52700"
      },
      "source": [
        "arr = [1,4,2,5,3]\r\n",
        "print(arr[0:3])"
      ],
      "execution_count": null,
      "outputs": [
        {
          "output_type": "stream",
          "text": [
            "[1, 4, 2]\n"
          ],
          "name": "stdout"
        }
      ]
    },
    {
      "cell_type": "code",
      "metadata": {
        "colab": {
          "base_uri": "https://localhost:8080/"
        },
        "id": "PhDlRP3Vapb3",
        "outputId": "9998d912-f55d-44d6-a3ba-9fe87312ba71"
      },
      "source": [
        "candies = [2,3,5,1,3]\r\n",
        "extraCandies = 3\r\n",
        "result_arr = []\r\n",
        "max_candies = max(candies)\r\n",
        "\r\n",
        "for (i,val) in enumerate(candies):\r\n",
        "  if max_candies-val <= extraCandies : result_arr.append(True)\r\n",
        "  else: result_arr.append(False)\r\n",
        "\r\n",
        "print(result_arr)"
      ],
      "execution_count": null,
      "outputs": [
        {
          "output_type": "stream",
          "text": [
            "[True, True, True, False, True]\n"
          ],
          "name": "stdout"
        }
      ]
    },
    {
      "cell_type": "code",
      "metadata": {
        "colab": {
          "base_uri": "https://localhost:8080/"
        },
        "id": "I_QXQ1WYhrQj",
        "outputId": "113880b3-7d14-4524-a908-b795a82f440b"
      },
      "source": [
        "nums = [1,2,3,4,4,3,2,1]\r\n",
        "n = 4\r\n",
        "print(nums[:n])\r\n",
        "print(nums[n:])\r\n",
        "new_nums = []\r\n",
        "for i in range(n):\r\n",
        "  new_nums.append(nums[:n][i])\r\n",
        "  new_nums.append(nums[n:][i])\r\n",
        "\r\n",
        "print(new_nums)"
      ],
      "execution_count": null,
      "outputs": [
        {
          "output_type": "stream",
          "text": [
            "[1, 2, 3, 4]\n",
            "[4, 3, 2, 1]\n",
            "[1, 4, 2, 3, 3, 2, 4, 1]\n"
          ],
          "name": "stdout"
        }
      ]
    },
    {
      "cell_type": "code",
      "metadata": {
        "colab": {
          "base_uri": "https://localhost:8080/"
        },
        "id": "qGUD2MAtm46o",
        "outputId": "ca139fc1-1b74-4050-9519-26a186d592ce"
      },
      "source": [
        "accounts = [[1,5],[7,3],[3,5]]\r\n",
        "sum_accounts = []\r\n",
        "for val in accounts:\r\n",
        "  sum_accounts.append(sum(val))\r\n",
        "\r\n",
        "print(sum_accounts)\r\n",
        "print(max(sum_accounts))"
      ],
      "execution_count": null,
      "outputs": [
        {
          "output_type": "stream",
          "text": [
            "[6, 10, 8]\n",
            "10\n"
          ],
          "name": "stdout"
        }
      ]
    },
    {
      "cell_type": "code",
      "metadata": {
        "id": "OabIUojIu8f9"
      },
      "source": [
        "nums = [2,4,3,3,5,4,9,6]\r\n",
        "k = 4\r\n",
        "\r\n",
        "# permutations = list((nums[j:][0:k] for j in range(len(nums) - k + 1)))\r\n",
        "# print(permutations)\r\n",
        "\r\n",
        "#https://leetcode.com/problems/find-the-most-competitive-subsequence/\r\n",
        "\r\n",
        "print(nums[:])\r\n",
        "\r\n",
        "base = []   \r\n",
        "lists = [base] \r\n",
        "for i in range(len(nums)): \r\n",
        "    orig = lists[:] \r\n",
        "    #print(orig)\r\n",
        "    new = nums[i] \r\n",
        "    #print(new)\r\n",
        "    for j in range(len(lists)): \r\n",
        "        lists[j] = lists[j] + [new] \r\n",
        "        #print(lists[j])\r\n",
        "    lists = orig + lists \r\n",
        "    #print(lists)\r\n",
        "\r\n",
        "print(lists)\r\n",
        "lists_n = []\r\n",
        "for val in lists:\r\n",
        "  #print(len(val))\r\n",
        "  if len(val) == k : \r\n",
        "    # print(len(val))\r\n",
        "    # print(val)\r\n",
        "    lists_n+=[val]\r\n",
        "print(lists_n)\r\n",
        "\r\n",
        "temp_arr = []\r\n",
        "for val in lists_n:\r\n",
        "  #print(val[:3])\r\n",
        "  for val2 in lists_n:\r\n",
        "    #print(val[:3][:] in val2[:])\r\n",
        "    print(val[:3][:])\r\n",
        "    print(val2[:])\r\n",
        "    if val[:3] in val2: temp_arr.append(val2)\r\n",
        "    print(temp_arr)\r\n"
      ],
      "execution_count": null,
      "outputs": []
    },
    {
      "cell_type": "code",
      "metadata": {
        "colab": {
          "base_uri": "https://localhost:8080/",
          "height": 35
        },
        "id": "BaV2QLHrmxNH",
        "outputId": "2dbd9ff0-4037-467d-b0c2-a1d38ef81872"
      },
      "source": [
        "%pwd"
      ],
      "execution_count": 21,
      "outputs": [
        {
          "output_type": "execute_result",
          "data": {
            "application/vnd.google.colaboratory.intrinsic+json": {
              "type": "string"
            },
            "text/plain": [
              "'/content'"
            ]
          },
          "metadata": {
            "tags": []
          },
          "execution_count": 21
        }
      ]
    },
    {
      "cell_type": "code",
      "metadata": {
        "id": "nAc1uQfom1O-"
      },
      "source": [
        ""
      ],
      "execution_count": null,
      "outputs": []
    }
  ]
}