{
  "nbformat": 4,
  "nbformat_minor": 0,
  "metadata": {
    "colab": {
      "name": "leetcode-kuro-RnD.ipynb",
      "provenance": [],
      "collapsed_sections": [],
      "include_colab_link": true
    },
    "kernelspec": {
      "name": "python3",
      "display_name": "Python 3"
    }
  },
  "cells": [
    {
      "cell_type": "markdown",
      "metadata": {
        "id": "view-in-github",
        "colab_type": "text"
      },
      "source": [
        "<a href=\"https://colab.research.google.com/github/SouvikDcoder/Leetcode-Solutions/blob/main/leetcode_kuro_RnD.ipynb\" target=\"_parent\"><img src=\"https://colab.research.google.com/assets/colab-badge.svg\" alt=\"Open In Colab\"/></a>"
      ]
    },
    {
      "cell_type": "code",
      "metadata": {
        "colab": {
          "base_uri": "https://localhost:8080/"
        },
        "id": "aHf-peBvEVYn",
        "outputId": "3b5c8281-7ce0-4896-fef1-4a93589ce1fa"
      },
      "source": [
        "#nums = [-2,1,-3,4,-1,2,1,-5,4]\n",
        "nums = [-2,1]\n",
        "print(nums)\n",
        "print(sum(nums))\n",
        "all_sum = sum(nums)\n",
        "sum_val = 0\n",
        "new_nums_1 = []\n",
        "sum_list = []\n",
        "if sum(nums)<0:\n",
        "  print('less')\n",
        "  for i in range(0,len(nums)):\n",
        "      sum_val += nums[i]\n",
        "      new_nums_1.append(nums[i])\n",
        "      print(new_nums_1)\n",
        "      print(sum_val)\n",
        "      if sum_val<all_sum :\n",
        "          sum_list.append(sum_val)\n",
        "          print(sum_list)\n",
        "          continue\n",
        "      elif sum_val<max(nums):\n",
        "          sum_val = 0\n",
        "          new_nums_1 = []\n",
        "      else :\n",
        "          sum_val = 0\n",
        "          new_nums_1 = []"
      ],
      "execution_count": null,
      "outputs": [
        {
          "output_type": "stream",
          "text": [
            "[-2, 1]\n",
            "-1\n",
            "less\n",
            "[-2]\n",
            "-2\n",
            "[-2]\n",
            "[-2, 1]\n",
            "-1\n"
          ],
          "name": "stdout"
        }
      ]
    },
    {
      "cell_type": "code",
      "metadata": {
        "colab": {
          "base_uri": "https://localhost:8080/"
        },
        "id": "2M9CNizFIPcn",
        "outputId": "451339fc-843b-4fda-c690-33e4034d37bb"
      },
      "source": [
        "#nums = [-2,1,-3,4,-1,2,1,-5,4]\n",
        "nums = [-2,1]\n",
        "print(nums)\n",
        "print(sum(nums))\n",
        "all_sum = sum(nums)\n",
        "sum_val = 0\n",
        "new_nums_temp = []\n",
        "sum_list = []\n",
        "for i in range(0,len(nums)):\n",
        "  #print(nums[i])\n",
        "  sum_val+=nums[i]\n",
        "  new_nums_temp.append(nums[i])\n",
        "  if sum(nums)>0:\n",
        "    if sum_val>sum(nums):\n",
        "      print(new_nums_temp)\n",
        "      print(sum(new_nums_temp))\n",
        "      sum_list.append(sum(new_nums_temp))\n",
        "      continue\n",
        "    else:\n",
        "      sum_val = 0\n",
        "      new_nums_temp = []\n",
        "  elif sum(nums)<0:\n",
        "    print(\"Less than 0 condition\")\n",
        "    if sum_val<sum(nums):\n",
        "      print(new_nums_temp)\n",
        "      print(sum(new_nums_temp))\n",
        "      sum_list.append(sum(new_nums_temp))\n",
        "      continue\n",
        "    else:\n",
        "      sum_val = 0\n",
        "      new_nums_temp = []\n",
        "\n",
        "print(sum_list)"
      ],
      "execution_count": null,
      "outputs": [
        {
          "output_type": "stream",
          "text": [
            "[-2, 1]\n",
            "-1\n",
            "Less than 0 condition\n",
            "[-2]\n",
            "-2\n",
            "Less than 0 condition\n",
            "[-2]\n"
          ],
          "name": "stdout"
        }
      ]
    },
    {
      "cell_type": "code",
      "metadata": {
        "id": "45UOu-M2DTPT"
      },
      "source": [
        "nums = [0,1,0,3,12]\n",
        "print(nums)\n",
        "zero_cnt = nums.count(0)\n",
        "while(zero_cnt>0):\n",
        "  print(\"While loop\")\n",
        "  for val in nums:\n",
        "    while (val==0):\n",
        "      for i in range(1,len(nums)):\n",
        "        val1 = nums[i-1]\n",
        "        nums[i-1]=nums[i]\n",
        "        nums[i]=val1\n",
        "      print(nums)\n",
        "  zero_cnt-=1"
      ],
      "execution_count": null,
      "outputs": []
    },
    {
      "cell_type": "code",
      "metadata": {
        "colab": {
          "base_uri": "https://localhost:8080/"
        },
        "id": "yYv5TBxXHTZy",
        "outputId": "94d21430-c4d8-4864-ca2d-5b182f98aaec"
      },
      "source": [
        "nums = [0,1,0,3,12]\n",
        "print(nums)\n",
        "for val in nums:\n",
        "  if val == 0 :\n",
        "    nums.append(0)\n",
        "    nums.pop(nums.index(val))\n",
        "print(nums)"
      ],
      "execution_count": null,
      "outputs": [
        {
          "output_type": "stream",
          "text": [
            "[0, 1, 0, 3, 12]\n",
            "[1, 3, 12, 0, 0]\n"
          ],
          "name": "stdout"
        }
      ]
    },
    {
      "cell_type": "code",
      "metadata": {
        "id": "cVjCyewcKEKO"
      },
      "source": [
        "#prices = [7,6,4,3,1]\n",
        "prices = [7,1,5,3,6,4]\n",
        "total_profit = 0\n",
        "print(prices)\n",
        "min_index_prices = prices.index(min(prices))\n",
        "print(min_index_prices)\n",
        "print(prices[min_index_prices:])\n",
        "min2 = prices.index(min(prices[min_index_prices+1:]))\n",
        "print(min2)\n",
        "for i in range(min_index_prices,min2-1):\n",
        "  print(prices[i])\n",
        "  total_profit+=prices[i+1] - prices[i]\n",
        "\n",
        "print(total_profit)\n",
        "# for i in range(prices[min_index_prices:]):\n",
        "#   min_price="
      ],
      "execution_count": null,
      "outputs": []
    },
    {
      "cell_type": "code",
      "metadata": {
        "colab": {
          "base_uri": "https://localhost:8080/"
        },
        "id": "WZsi-ESGpPUE",
        "outputId": "ce06f9b5-14a5-4971-cc81-c771ef6f8bbf"
      },
      "source": [
        "prices = [7,1,5,3,6,4]\n",
        "print(prices)\n",
        "min_index_prices = prices.index(min(prices))\n",
        "if min_index_prices<len(prices):\n",
        "  print(\"There is a chance of profit\")\n",
        "  for i in range (min_index_prices,len(prices)-1):\n",
        "    print(prices[i])\n",
        "    "
      ],
      "execution_count": null,
      "outputs": [
        {
          "output_type": "stream",
          "text": [
            "[7, 1, 5, 3, 6, 4]\n",
            "There is a chance of profit\n",
            "1\n",
            "5\n",
            "3\n",
            "6\n",
            "4\n"
          ],
          "name": "stdout"
        }
      ]
    },
    {
      "cell_type": "code",
      "metadata": {
        "colab": {
          "base_uri": "https://localhost:8080/"
        },
        "id": "tP9IRaqbv4v4",
        "outputId": "a2dac122-b950-462a-cff3-865dd1228b4f"
      },
      "source": [
        "nums= [1,2,3,4,5,6,7]\n",
        "#nums = [-1,-100,3,99]\n",
        "print(nums)\n",
        "k = 3\n",
        "print(nums[:k])\n",
        "# for i in range(0,k+1):\n",
        "#   nums.append(nums[i])\n",
        "#   #nums.pop(nums.index(nums[i]))\n",
        "for val in nums[:k+1]:\n",
        "  nums.append(val)\n",
        "  nums.pop(nums.index(val))\n",
        "\n",
        "print(nums)\n"
      ],
      "execution_count": null,
      "outputs": [
        {
          "output_type": "stream",
          "text": [
            "[1, 2, 3, 4, 5, 6, 7]\n",
            "[1, 2, 3]\n",
            "[5, 6, 7, 1, 2, 3, 4]\n"
          ],
          "name": "stdout"
        }
      ]
    },
    {
      "cell_type": "code",
      "metadata": {
        "colab": {
          "base_uri": "https://localhost:8080/"
        },
        "id": "n7yLi8hby0vG",
        "outputId": "5c3290f9-8c93-4da1-8ed2-4f33dc83edb2"
      },
      "source": [
        "nums = [1,1,1,3,3,4,3,2,4,2]\n",
        "print(nums)\n",
        "for i in range(0,len(nums)):\n",
        "  print(nums[i:])\n",
        "  if nums[i] in nums[i:]:\n",
        "    print(\"Value is there\")\n",
        "    #return True\n",
        "  else:\n",
        "    print(\"Value is not there\")\n",
        "    #return False"
      ],
      "execution_count": null,
      "outputs": [
        {
          "output_type": "stream",
          "text": [
            "[1, 1, 1, 3, 3, 4, 3, 2, 4, 2]\n",
            "[1, 1, 1, 3, 3, 4, 3, 2, 4, 2]\n",
            "Value is there\n",
            "[1, 1, 3, 3, 4, 3, 2, 4, 2]\n",
            "Value is there\n",
            "[1, 3, 3, 4, 3, 2, 4, 2]\n",
            "Value is there\n",
            "[3, 3, 4, 3, 2, 4, 2]\n",
            "Value is there\n",
            "[3, 4, 3, 2, 4, 2]\n",
            "Value is there\n",
            "[4, 3, 2, 4, 2]\n",
            "Value is there\n",
            "[3, 2, 4, 2]\n",
            "Value is there\n",
            "[2, 4, 2]\n",
            "Value is there\n",
            "[4, 2]\n",
            "Value is there\n",
            "[2]\n",
            "Value is there\n"
          ],
          "name": "stdout"
        }
      ]
    },
    {
      "cell_type": "code",
      "metadata": {
        "colab": {
          "base_uri": "https://localhost:8080/"
        },
        "id": "vt1MTw8u07of",
        "outputId": "1c0afe7b-5dd6-445f-c736-a75b26f4a764"
      },
      "source": [
        "nums = [2,14,18,22,22]\n",
        "print(nums)\n",
        "for i in range(0,len(nums)):\n",
        "  print(nums[i+1:])\n",
        "  if nums[i] in nums[i+1:]:\n",
        "    print(\"Value is there\")\n",
        "    #return True\n",
        "  else:\n",
        "    print(\"Value is not there\")\n",
        "    #return False"
      ],
      "execution_count": null,
      "outputs": [
        {
          "output_type": "stream",
          "text": [
            "[2, 14, 18, 22, 22]\n",
            "[14, 18, 22, 22]\n",
            "Value is not there\n",
            "[18, 22, 22]\n",
            "Value is not there\n",
            "[22, 22]\n",
            "Value is not there\n",
            "[22]\n",
            "Value is there\n",
            "[]\n",
            "Value is not there\n"
          ],
          "name": "stdout"
        }
      ]
    },
    {
      "cell_type": "code",
      "metadata": {
        "colab": {
          "base_uri": "https://localhost:8080/"
        },
        "id": "9aCeJEILqpN9",
        "outputId": "c481bfaf-7fb1-4936-87ff-2740d3e91c68"
      },
      "source": [
        "strs = [\"eat\",\"tea\",\"tan\",\"ate\",\"nat\",\"bat\"]\n",
        "print(strs)\n",
        "final_ana_arr = []\n",
        "temp_ana_arr = []\n",
        "for i in range(len(strs)) :\n",
        "  #print(\"*********************\")\n",
        "  # if temp_ana_arr != []:\n",
        "  #   final_ana_arr.append(temp_ana_arr)\n",
        "  #   temp_ana_arr=[]\n",
        "  for val in strs[i+1:]:\n",
        "    #print(val)\n",
        "    if strs[i] not in temp_ana_arr:\n",
        "      temp_ana_arr.append(strs[i])\n",
        "    if strs[i]!=val and sorted(val)==sorted(strs[i]):\n",
        "      #print(\"anagram\")\n",
        "      if val not in temp_ana_arr:\n",
        "        temp_ana_arr.append(val)\n",
        "      # if strs[i] not in temp_ana_arr:\n",
        "      #   temp_ana_arr.append(strs[i])\n",
        "      # elif val not in temp_ana_arr:\n",
        "      #     temp_ana_arr.append(val)\n",
        "    else:\n",
        "      continue\n",
        "      print(\"*********************\")\n",
        "      print(\"not anagram\")\n",
        "      final_ana_arr.append(temp_ana_arr)\n",
        "      temp_ana_arr=[]\n",
        "\n",
        "print(temp_ana_arr)\n",
        "print(final_ana_arr)\n",
        "\n",
        "  # if strs[i][::-1] in  strs[i+1:]:\n",
        "  #   temp_ana_arr.append(strs[i])\n",
        "  #   temp_ana_arr.append(strs[i][::-1])\n",
        "  # else:\n",
        "  #   if temp_ana_arr!=[]:\n",
        "  #     final_ana_arr.append(temp_ana_arr)\n",
        "  #     temp_ana_arr = []\n",
        "\n",
        "#print(final_ana_arr)"
      ],
      "execution_count": null,
      "outputs": [
        {
          "output_type": "stream",
          "text": [
            "['eat', 'tea', 'tan', 'ate', 'nat', 'bat']\n",
            "['eat', 'tea', 'ate', 'tan', 'nat']\n",
            "[]\n"
          ],
          "name": "stdout"
        }
      ]
    },
    {
      "cell_type": "code",
      "metadata": {
        "id": "U8FLwp9_pnm2"
      },
      "source": [
        "strs = [\"eat\",\"tea\",\"tan\",\"ate\",\"nat\",\"bat\"]\n",
        "print(strs)\n",
        "final_ana_arr = []\n",
        "temp_ana_arr = []\n",
        "for i in range(len(strs)) :\n",
        "  #print(\"*********************\")\n",
        "  # if temp_ana_arr != []:\n",
        "  #   final_ana_arr.append(temp_ana_arr)\n",
        "  #   temp_ana_arr=[]\n",
        "  for val in strs[i+1:]:\n",
        "    #print(val)\n",
        "    if strs[i] not in temp_ana_arr:\n",
        "      temp_ana_arr.append(strs[i])\n",
        "    if strs[i]!=val and sorted(val)==sorted(strs[i]):\n",
        "      #print(\"anagram\")\n",
        "      if val not in temp_ana_arr:\n",
        "        temp_ana_arr.append(val)\n",
        "      # if strs[i] not in temp_ana_arr:\n",
        "      #   temp_ana_arr.append(strs[i])\n",
        "      # elif val not in temp_ana_arr:\n",
        "      #     temp_ana_arr.append(val)\n",
        "    else:\n",
        "      continue\n",
        "      print(\"*********************\")\n",
        "      print(\"not anagram\")\n",
        "      final_ana_arr.append(temp_ana_arr)\n",
        "      temp_ana_arr=[]\n",
        "\n",
        "print(temp_ana_arr)\n",
        "print(final_ana_arr)\n",
        "\n",
        "  # if strs[i][::-1] in  strs[i+1:]:\n",
        "  #   temp_ana_arr.append(strs[i])\n",
        "  #   temp_ana_arr.append(strs[i][::-1])\n",
        "  # else:\n",
        "  #   if temp_ana_arr!=[]:\n",
        "  #     final_ana_arr.append(temp_ana_arr)\n",
        "  #     temp_ana_arr = []\n",
        "\n",
        "#print(final_ana_arr)"
      ],
      "execution_count": null,
      "outputs": []
    },
    {
      "cell_type": "code",
      "metadata": {
        "colab": {
          "base_uri": "https://localhost:8080/"
        },
        "id": "Tjf2p9pIrXTS",
        "outputId": "0ce49007-6d47-4a41-8a6e-0b595fc17f66"
      },
      "source": [
        "strs = [\"eat\",\"tea\",\"tan\",\"ate\",\"nat\",\"bat\"]\n",
        "print(strs[1:])"
      ],
      "execution_count": null,
      "outputs": [
        {
          "output_type": "stream",
          "text": [
            "['tea', 'tan', 'ate', 'nat', 'bat']\n"
          ],
          "name": "stdout"
        }
      ]
    },
    {
      "cell_type": "code",
      "metadata": {
        "colab": {
          "base_uri": "https://localhost:8080/"
        },
        "id": "_jxI7Esitai2",
        "outputId": "c2b83e35-e1f7-4722-b1e0-54d65c125407"
      },
      "source": [
        "strs = [\"eat\",\"tea\",\"tan\",\"ate\",\"nat\",\"bat\"]\n",
        "print(strs)\n",
        "final_ana_arr = []\n",
        "temp_ana_arr = []\n",
        "for word_1 in strs: \n",
        "    for word_2 in strs: \n",
        "        if word_1 != word_2 and (sorted(word_1)==sorted(word_2)):\n",
        "            temp_ana_arr.append(word_1)\n",
        "        else:\n",
        "            temp_ana_arr.append(word_1)\n",
        "            final_ana_arr.append(temp_ana_arr)\n",
        "            temp_ana_arr=[]\n",
        "print(final_ana_arr)"
      ],
      "execution_count": null,
      "outputs": [
        {
          "output_type": "stream",
          "text": [
            "['eat', 'tea', 'tan', 'ate', 'nat', 'bat']\n",
            "[['eat'], ['eat', 'eat'], ['eat', 'eat'], ['eat'], ['tea', 'tea'], ['tea'], ['tea', 'tea'], ['tea'], ['tan'], ['tan'], ['tan'], ['tan'], ['tan', 'tan'], ['ate', 'ate', 'ate'], ['ate'], ['ate'], ['ate'], ['nat'], ['nat'], ['nat', 'nat'], ['nat'], ['nat'], ['bat'], ['bat'], ['bat'], ['bat'], ['bat'], ['bat']]\n"
          ],
          "name": "stdout"
        }
      ]
    },
    {
      "cell_type": "code",
      "metadata": {
        "colab": {
          "base_uri": "https://localhost:8080/"
        },
        "id": "HaQalQnGptEq",
        "outputId": "97033857-40d1-4372-83eb-7a34f3734f06"
      },
      "source": [
        "strs = [\"eat\",\"tea\",\"tan\",\"ate\",\"nat\",\"bat\"]\n",
        "print(strs)\n",
        "final_ana_arr = []\n",
        "temp_ana_arr = []\n",
        "checked_vals = []\n",
        "for i in range(len(strs)) :\n",
        "  #print(\"*********************\")\n",
        "  # if temp_ana_arr != []:\n",
        "  #   final_ana_arr.append(temp_ana_arr)\n",
        "  #   temp_ana_arr=[]\n",
        "  # print(strs[i+1:])\n",
        "  # print(temp_ana_arr)\n",
        "  # print(final_ana_arr)\n",
        "  if strs[i] not in checked_vals:\n",
        "    print(strs[i])\n",
        "    for val in strs[i+1:]:\n",
        "      #print(val)\n",
        "      if strs[i] not in temp_ana_arr:\n",
        "        temp_ana_arr.append(strs[i])\n",
        "      if strs[i]!=val and sorted(val)==sorted(strs[i]):\n",
        "        #print(\"anagram\")\n",
        "        if val not in temp_ana_arr:\n",
        "          temp_ana_arr.append(val)\n",
        "        # if strs[i] not in temp_ana_arr:\n",
        "        #   temp_ana_arr.append(strs[i])\n",
        "        # elif val not in temp_ana_arr:\n",
        "        #     temp_ana_arr.append(val)\n",
        "      else:\n",
        "        \n",
        "        continue\n",
        "        print(\"*********************\")\n",
        "        print(\"not anagram\")\n",
        "        final_ana_arr.append(temp_ana_arr)\n",
        "        temp_ana_arr=[]\n",
        "    final_ana_arr.append(temp_ana_arr)\n",
        "    checked_vals = temp_ana_arr\n",
        "    temp_ana_arr=[]\n",
        "  \n",
        "\n",
        "  print(\"*********************\")\n",
        "  print(temp_ana_arr)\n",
        "  print(final_ana_arr)\n",
        "  print(checked_vals)\n",
        "\n",
        "def check_if_element_present(self,val1,temp_ana_arr):\n",
        "  if val1 in temp_ana_arr:\n",
        "    return True\n",
        "  else:\n",
        "    return False\n",
        "\n"
      ],
      "execution_count": null,
      "outputs": [
        {
          "output_type": "stream",
          "text": [
            "['eat', 'tea', 'tan', 'ate', 'nat', 'bat']\n",
            "eat\n",
            "*********************\n",
            "[]\n",
            "[['eat', 'tea', 'ate']]\n",
            "['eat', 'tea', 'ate']\n",
            "*********************\n",
            "[]\n",
            "[['eat', 'tea', 'ate']]\n",
            "['eat', 'tea', 'ate']\n",
            "tan\n",
            "*********************\n",
            "[]\n",
            "[['eat', 'tea', 'ate'], ['tan', 'nat']]\n",
            "['tan', 'nat']\n",
            "ate\n",
            "*********************\n",
            "[]\n",
            "[['eat', 'tea', 'ate'], ['tan', 'nat'], ['ate']]\n",
            "['ate']\n",
            "nat\n",
            "*********************\n",
            "[]\n",
            "[['eat', 'tea', 'ate'], ['tan', 'nat'], ['ate'], ['nat']]\n",
            "['nat']\n",
            "bat\n",
            "*********************\n",
            "[]\n",
            "[['eat', 'tea', 'ate'], ['tan', 'nat'], ['ate'], ['nat'], []]\n",
            "[]\n"
          ],
          "name": "stdout"
        }
      ]
    },
    {
      "cell_type": "code",
      "metadata": {
        "colab": {
          "base_uri": "https://localhost:8080/"
        },
        "id": "bqhFqKlocERR",
        "outputId": "45a8f99e-d2f3-447f-9a7a-b557c498bf3d"
      },
      "source": [
        "#strs=[\"\",\"\"]\n",
        "#strs=[\"\"]\n",
        "strs = [\"eat\",\"tea\",\"tan\",\"ate\",\"nat\",\"bat\"]\n",
        "print(strs)\n",
        "final_ana_arr = []\n",
        "temp_ana_arr = []\n",
        "checked_vals = []\n",
        "for i in range(len(strs)) :\n",
        "  print(\"*******\")\n",
        "  if strs[i] not in checked_vals:\n",
        "    temp_ana_arr.append(strs[i])\n",
        "    checked_vals.append(strs[i])\n",
        "    for val in strs[i+1:]:\n",
        "      if strs[i]==val:\n",
        "        print(val)\n",
        "        print(\"anagram\")\n",
        "        temp_ana_arr.append(val)\n",
        "        checked_vals.append(val)\n",
        "      elif strs[i]!=val and sorted(val)==sorted(strs[i]):\n",
        "        print(val)\n",
        "        print(\"anagram\")\n",
        "        temp_ana_arr.append(val)\n",
        "        checked_vals.append(val)\n",
        "      else:\n",
        "        print(\"not anagram\")\n",
        "    if temp_ana_arr!=[]:\n",
        "      final_ana_arr.append(temp_ana_arr)\n",
        "      temp_ana_arr=[]\n",
        "    print(temp_ana_arr)\n",
        "    print(checked_vals)\n",
        "    print(final_ana_arr)"
      ],
      "execution_count": null,
      "outputs": [
        {
          "output_type": "stream",
          "text": [
            "['eat', 'tea', 'tan', 'ate', 'nat', 'bat']\n",
            "*******\n",
            "tea\n",
            "anagram\n",
            "not anagram\n",
            "ate\n",
            "anagram\n",
            "not anagram\n",
            "not anagram\n",
            "[]\n",
            "['eat', 'tea', 'ate']\n",
            "[['eat', 'tea', 'ate']]\n",
            "*******\n",
            "*******\n",
            "not anagram\n",
            "nat\n",
            "anagram\n",
            "not anagram\n",
            "[]\n",
            "['eat', 'tea', 'ate', 'tan', 'nat']\n",
            "[['eat', 'tea', 'ate'], ['tan', 'nat']]\n",
            "*******\n",
            "*******\n",
            "*******\n",
            "[]\n",
            "['eat', 'tea', 'ate', 'tan', 'nat', 'bat']\n",
            "[['eat', 'tea', 'ate'], ['tan', 'nat'], ['bat']]\n"
          ],
          "name": "stdout"
        }
      ]
    },
    {
      "cell_type": "code",
      "metadata": {
        "colab": {
          "base_uri": "https://localhost:8080/",
          "height": 249
        },
        "id": "cm1UeUeRkzDs",
        "outputId": "1b860d09-c8f7-4350-c9f2-e893cd24958e"
      },
      "source": [
        "#nums = [1,1,1,3,3,4,3,2,4,2]\n",
        "nums=[3,3]\n",
        "print(nums)\n",
        "duplicate_present = False\n",
        "#return True for i in nums if nums[i]>1\n",
        "\n",
        "for i in nums:\n",
        "  if nums[i]>1:\n",
        "    duplicate_present = True\n",
        "  else:\n",
        "    continue\n",
        "    duplicate_present = False\n",
        "\n",
        "\n",
        "print(duplicate_present)\n"
      ],
      "execution_count": null,
      "outputs": [
        {
          "output_type": "stream",
          "text": [
            "[3, 3]\n"
          ],
          "name": "stdout"
        },
        {
          "output_type": "error",
          "ename": "IndexError",
          "evalue": "ignored",
          "traceback": [
            "\u001b[0;31m---------------------------------------------------------------------------\u001b[0m",
            "\u001b[0;31mIndexError\u001b[0m                                Traceback (most recent call last)",
            "\u001b[0;32m<ipython-input-16-f97f9eaf011f>\u001b[0m in \u001b[0;36m<module>\u001b[0;34m()\u001b[0m\n\u001b[1;32m      6\u001b[0m \u001b[0;34m\u001b[0m\u001b[0m\n\u001b[1;32m      7\u001b[0m \u001b[0;32mfor\u001b[0m \u001b[0mi\u001b[0m \u001b[0;32min\u001b[0m \u001b[0mnums\u001b[0m\u001b[0;34m:\u001b[0m\u001b[0;34m\u001b[0m\u001b[0;34m\u001b[0m\u001b[0m\n\u001b[0;32m----> 8\u001b[0;31m   \u001b[0;32mif\u001b[0m \u001b[0mnums\u001b[0m\u001b[0;34m[\u001b[0m\u001b[0mi\u001b[0m\u001b[0;34m]\u001b[0m\u001b[0;34m>\u001b[0m\u001b[0;36m1\u001b[0m\u001b[0;34m:\u001b[0m\u001b[0;34m\u001b[0m\u001b[0;34m\u001b[0m\u001b[0m\n\u001b[0m\u001b[1;32m      9\u001b[0m     \u001b[0mduplicate_present\u001b[0m \u001b[0;34m=\u001b[0m \u001b[0;32mTrue\u001b[0m\u001b[0;34m\u001b[0m\u001b[0;34m\u001b[0m\u001b[0m\n\u001b[1;32m     10\u001b[0m   \u001b[0;32melse\u001b[0m\u001b[0;34m:\u001b[0m\u001b[0;34m\u001b[0m\u001b[0;34m\u001b[0m\u001b[0m\n",
            "\u001b[0;31mIndexError\u001b[0m: list index out of range"
          ]
        }
      ]
    },
    {
      "cell_type": "code",
      "metadata": {
        "colab": {
          "base_uri": "https://localhost:8080/"
        },
        "id": "009m7CyZoTdj",
        "outputId": "c9a9d7d4-67aa-44bb-e552-44aff6ef1ac9"
      },
      "source": [
        "#nums = [1,1,1,3,3,4,3,2,4,2]\n",
        "nums = [3,3]\n",
        "nums.sort()\n",
        "print(nums)\n",
        "duplicate_present = False\n",
        "for i in range(len(nums)-1):\n",
        "  if nums[i]==nums[i+1]:\n",
        "    duplicate_present = True\n",
        "  else:\n",
        "    continue\n",
        "\n",
        "print(duplicate_present)"
      ],
      "execution_count": null,
      "outputs": [
        {
          "output_type": "stream",
          "text": [
            "[3, 3]\n",
            "True\n"
          ],
          "name": "stdout"
        }
      ]
    },
    {
      "cell_type": "code",
      "metadata": {
        "colab": {
          "base_uri": "https://localhost:8080/"
        },
        "id": "Mi4HOxHHpbYY",
        "outputId": "b0f769c7-053e-4ba2-94fb-9cd8b9cf08d6"
      },
      "source": [
        "nums=[4,1,2,1,2]\n",
        "nums.sort()\n",
        "print(nums)\n",
        "dupli_arr = []\n",
        "for i in range(len(nums)-1):\n",
        "  if nums[i]!=nums[i+1]:\n",
        "    dupli_arr.append(nums[i+1])\n",
        "    #duplicate_present = True\n",
        "  else:\n",
        "    continue \n",
        "\n",
        "print(dupli_arr)"
      ],
      "execution_count": null,
      "outputs": [
        {
          "output_type": "stream",
          "text": [
            "[1, 1, 2, 2, 4]\n",
            "[2, 4]\n"
          ],
          "name": "stdout"
        }
      ]
    },
    {
      "cell_type": "code",
      "metadata": {
        "colab": {
          "base_uri": "https://localhost:8080/"
        },
        "id": "rcjYPxYqIZ33",
        "outputId": "da463264-234a-4b1f-be8d-d8ee815bf035"
      },
      "source": [
        "#nums= [3,2,1,7,6,9,8]\n",
        "nums =  [2,2,3,1]\n",
        "nums.sort()\n",
        "max_val = max(nums)\n",
        "print(max_val)\n",
        "print(nums)\n",
        "third_val = False\n",
        "max_cnt = 1\n",
        "while(third_val == False):\n",
        "  print(\"While 1\")\n",
        "  if max_cnt<3:\n",
        "    print(\"if 1\")\n",
        "    if nums.count(max(nums))>1:\n",
        "      while(nums.count(max(nums))>1):\n",
        "        print(\"While 2\")\n",
        "        print(max(nums))\n",
        "        nums.remove(max(nums))\n",
        "    else: \n",
        "      nums.remove(max(nums))\n",
        "    max_cnt+=1\n",
        "  elif max_cnt>2:\n",
        "    third_val = True\n",
        "    #return max(nums)\n",
        "print(max(nums))"
      ],
      "execution_count": null,
      "outputs": [
        {
          "output_type": "stream",
          "text": [
            "3\n",
            "[1, 2, 2, 3]\n",
            "While 1\n",
            "if 1\n",
            "While 1\n",
            "if 1\n",
            "While 2\n",
            "2\n",
            "While 1\n",
            "2\n"
          ],
          "name": "stdout"
        }
      ]
    },
    {
      "cell_type": "code",
      "metadata": {
        "colab": {
          "base_uri": "https://localhost:8080/"
        },
        "id": "CbYMUIbU93o7",
        "outputId": "8f9c67f8-d094-47e2-b950-573e587f9be6"
      },
      "source": [
        "#nums= [1,2]\n",
        "#nums= [3,2,1,7,6,9,8]\n",
        "nums =  [2,2,3,1]\n",
        "#nums = [1, 1, 1]\n",
        "nums.sort()\n",
        "max_val = max(nums)\n",
        "print(max_val)\n",
        "print(nums)\n",
        "third_val = False\n",
        "max_cnt = 1\n",
        "prev_max = 0\n",
        "discarded_max = []\n",
        "while(third_val == False):\n",
        "  print(\"While 1\")\n",
        "  print(nums)\n",
        "  if max_cnt<3:\n",
        "    print(\"if 1\")\n",
        "    if nums.count(max(nums))>1:\n",
        "      # for i in range(nums.count(max(nums))):\n",
        "      #   discarded_max.append(max(nums))\n",
        "      #   nums.remove(max(nums))\n",
        "      while(nums.count(max(nums))>1):\n",
        "        print(\"While 2\")\n",
        "        print(nums)\n",
        "        print(max(nums))\n",
        "        #prev_max = max(nums)\n",
        "        discarded_max.append(max(nums))\n",
        "        nums.remove(max(nums))\n",
        "\n",
        "    else: \n",
        "      print(\"2 condition\")\n",
        "      #prev_max = max(nums)\n",
        "      discarded_max.append(max(nums))\n",
        "      nums.remove(max(nums))\n",
        "    max_cnt+=1\n",
        "  elif max_cnt>2:\n",
        "    third_val = True\n",
        "    #return max(nums)\n",
        "if nums==[]:\n",
        "  print(max(discarded_max))\n",
        "else:\n",
        "  print(max(nums))\n",
        "#print(max(nums))"
      ],
      "execution_count": null,
      "outputs": [
        {
          "output_type": "stream",
          "text": [
            "3\n",
            "[1, 2, 2, 3]\n",
            "While 1\n",
            "[1, 2, 2, 3]\n",
            "if 1\n",
            "2 condition\n",
            "While 1\n",
            "[1, 2, 2]\n",
            "if 1\n",
            "While 2\n",
            "[1, 2, 2]\n",
            "2\n",
            "While 1\n",
            "[1, 2]\n",
            "2\n"
          ],
          "name": "stdout"
        }
      ]
    },
    {
      "cell_type": "code",
      "metadata": {
        "colab": {
          "base_uri": "https://localhost:8080/",
          "height": 300
        },
        "id": "NNjz6M4YGobF",
        "outputId": "028098d5-38d4-4c27-ab56-31ade2821829"
      },
      "source": [
        "#nums= [1,2]\n",
        "#nums= [3,2,1,7,6,9,8]\n",
        "#nums =  [2,2,3,1]\n",
        "nums = [1,1,1]\n",
        "nums.sort()\n",
        "nums.reverse()\n",
        "print(nums)\n",
        "unique_nums = set()\n",
        "for val in nums:\n",
        "  unique_nums.add(val)\n",
        "print(unique_nums)\n",
        "third_val = False\n",
        "max_cnt = 1\n",
        "discarded_max = []\n",
        "while(third_val == False):\n",
        "  print(\"While 1\")\n",
        "  if max_cnt<3:\n",
        "    discarded_max.append(max(unique_nums))\n",
        "    unique_nums.discard(max(unique_nums))\n",
        "    max_cnt+=1\n",
        "  else: \n",
        "    third_val = True\n",
        "print(discarded_max)\n",
        "print(unique_nums)\n",
        "if unique_nums==set():\n",
        "  print(max(discarded_max))\n",
        "else:\n",
        "  print(max(unique_nums))"
      ],
      "execution_count": null,
      "outputs": [
        {
          "output_type": "stream",
          "text": [
            "[1, 1, 1]\n",
            "{1}\n",
            "While 1\n",
            "While 1\n"
          ],
          "name": "stdout"
        },
        {
          "output_type": "error",
          "ename": "ValueError",
          "evalue": "ignored",
          "traceback": [
            "\u001b[0;31m---------------------------------------------------------------------------\u001b[0m",
            "\u001b[0;31mValueError\u001b[0m                                Traceback (most recent call last)",
            "\u001b[0;32m<ipython-input-1-02cf3c6fd6a0>\u001b[0m in \u001b[0;36m<module>\u001b[0;34m()\u001b[0m\n\u001b[1;32m     16\u001b[0m   \u001b[0mprint\u001b[0m\u001b[0;34m(\u001b[0m\u001b[0;34m\"While 1\"\u001b[0m\u001b[0;34m)\u001b[0m\u001b[0;34m\u001b[0m\u001b[0;34m\u001b[0m\u001b[0m\n\u001b[1;32m     17\u001b[0m   \u001b[0;32mif\u001b[0m \u001b[0mmax_cnt\u001b[0m\u001b[0;34m<\u001b[0m\u001b[0;36m3\u001b[0m\u001b[0;34m:\u001b[0m\u001b[0;34m\u001b[0m\u001b[0;34m\u001b[0m\u001b[0m\n\u001b[0;32m---> 18\u001b[0;31m     \u001b[0mdiscarded_max\u001b[0m\u001b[0;34m.\u001b[0m\u001b[0mappend\u001b[0m\u001b[0;34m(\u001b[0m\u001b[0mmax\u001b[0m\u001b[0;34m(\u001b[0m\u001b[0munique_nums\u001b[0m\u001b[0;34m)\u001b[0m\u001b[0;34m)\u001b[0m\u001b[0;34m\u001b[0m\u001b[0;34m\u001b[0m\u001b[0m\n\u001b[0m\u001b[1;32m     19\u001b[0m     \u001b[0munique_nums\u001b[0m\u001b[0;34m.\u001b[0m\u001b[0mdiscard\u001b[0m\u001b[0;34m(\u001b[0m\u001b[0mmax\u001b[0m\u001b[0;34m(\u001b[0m\u001b[0munique_nums\u001b[0m\u001b[0;34m)\u001b[0m\u001b[0;34m)\u001b[0m\u001b[0;34m\u001b[0m\u001b[0;34m\u001b[0m\u001b[0m\n\u001b[1;32m     20\u001b[0m     \u001b[0mmax_cnt\u001b[0m\u001b[0;34m+=\u001b[0m\u001b[0;36m1\u001b[0m\u001b[0;34m\u001b[0m\u001b[0;34m\u001b[0m\u001b[0m\n",
            "\u001b[0;31mValueError\u001b[0m: max() arg is an empty sequence"
          ]
        }
      ]
    },
    {
      "cell_type": "code",
      "metadata": {
        "colab": {
          "base_uri": "https://localhost:8080/"
        },
        "id": "1TpdYk5Y7KCI",
        "outputId": "e9248dd4-602b-4c5d-9eef-1a15db525060"
      },
      "source": [
        "#nums = [1,1,1]\n",
        "nums= [3,2,1,7,6,9,8]\n",
        "nums.sort()\n",
        "nums.reverse()\n",
        "print(nums)\n",
        "third_val = False\n",
        "for i in range(len(nums)):\n",
        "  print(nums[i:])\n",
        "  print(max(nums[i:]))\n",
        "  "
      ],
      "execution_count": null,
      "outputs": [
        {
          "output_type": "stream",
          "text": [
            "[9, 8, 7, 6, 3, 2, 1]\n",
            "[9, 8, 7, 6, 3, 2, 1]\n",
            "9\n",
            "[8, 7, 6, 3, 2, 1]\n",
            "8\n",
            "[7, 6, 3, 2, 1]\n",
            "7\n",
            "[6, 3, 2, 1]\n",
            "6\n",
            "[3, 2, 1]\n",
            "3\n",
            "[2, 1]\n",
            "2\n",
            "[1]\n",
            "1\n"
          ],
          "name": "stdout"
        }
      ]
    },
    {
      "cell_type": "code",
      "metadata": {
        "colab": {
          "base_uri": "https://localhost:8080/"
        },
        "id": "JXgWqDlhDwU-",
        "outputId": "9868f8a0-4c79-41ef-9053-ce75a721208f"
      },
      "source": [
        "nums= [9, 8, 7, 6, 3, 2, 1]\n",
        "nums.sort()\n",
        "nums.append(17)\n",
        "print(nums)"
      ],
      "execution_count": null,
      "outputs": [
        {
          "output_type": "stream",
          "text": [
            "[1, 2, 3, 6, 7, 8, 9, 17]\n"
          ],
          "name": "stdout"
        }
      ]
    },
    {
      "cell_type": "code",
      "metadata": {
        "id": "5b6urj5y733Y"
      },
      "source": [],
      "execution_count": null,
      "outputs": []
    },
    {
      "cell_type": "code",
      "metadata": {
        "colab": {
          "base_uri": "https://localhost:8080/"
        },
        "id": "JTXK-wpO74a4",
        "outputId": "7f145785-f530-4b8b-9374-32057093a0c2"
      },
      "source": [
        "#strs=[\"\",\"\"]\n",
        "#strs=[\"\"]\n",
        "strs = [\"eat\",\"tea\",\"tan\",\"ate\",\"nat\",\"bat\"]\n",
        "print(strs)\n",
        "final_ana_arr = []\n",
        "temp_ana_arr = []\n",
        "checked_vals = []\n",
        "for i in range(len(strs)) :\n",
        "  print(\"*******\")\n",
        "  if strs[i] not in checked_vals:\n",
        "    temp_ana_arr.append(strs[i])\n",
        "    checked_vals.append(strs[i])\n",
        "    for val in strs[i+1:]:\n",
        "      if strs[i]==val:\n",
        "        print(val)\n",
        "        print(\"anagram\")\n",
        "        temp_ana_arr.append(val)\n",
        "        checked_vals.append(val)\n",
        "      elif strs[i]!=val and sorted(val)==sorted(strs[i]):\n",
        "        print(val)\n",
        "        print(\"anagram\")\n",
        "        temp_ana_arr.append(val)\n",
        "        checked_vals.append(val)\n",
        "      else:\n",
        "        print(\"not anagram\")\n",
        "    if temp_ana_arr!=[]:\n",
        "      final_ana_arr.append(temp_ana_arr)\n",
        "      temp_ana_arr=[]\n",
        "    print(temp_ana_arr)\n",
        "    print(checked_vals)\n",
        "    print(final_ana_arr)"
      ],
      "execution_count": null,
      "outputs": [
        {
          "output_type": "stream",
          "text": [
            "['eat', 'tea', 'tan', 'ate', 'nat', 'bat']\n",
            "*******\n",
            "tea\n",
            "anagram\n",
            "not anagram\n",
            "ate\n",
            "anagram\n",
            "not anagram\n",
            "not anagram\n",
            "[]\n",
            "['eat', 'tea', 'ate']\n",
            "[['eat', 'tea', 'ate']]\n",
            "*******\n",
            "*******\n",
            "not anagram\n",
            "nat\n",
            "anagram\n",
            "not anagram\n",
            "[]\n",
            "['eat', 'tea', 'ate', 'tan', 'nat']\n",
            "[['eat', 'tea', 'ate'], ['tan', 'nat']]\n",
            "*******\n",
            "*******\n",
            "*******\n",
            "[]\n",
            "['eat', 'tea', 'ate', 'tan', 'nat', 'bat']\n",
            "[['eat', 'tea', 'ate'], ['tan', 'nat'], ['bat']]\n"
          ],
          "name": "stdout"
        }
      ]
    },
    {
      "cell_type": "code",
      "metadata": {
        "id": "gcFApKqM7_qs"
      },
      "source": [
        "strs = [\"eat\",\"tea\",\"tan\",\"ate\",\"nat\",\"bat\"]\n",
        "print(strs)\n",
        "final_ana_arr = []\n",
        "temp_ana_arr = []\n",
        "checked_vals = []\n",
        "check_val = strs[0]\n",
        "for i in range(1,len(strs)):\n",
        "  if check_val != strs[i] or sorted(check_val)==sorted(strs[i]):\n",
        "    temp_ana_arr.append(check_val)\n",
        "  if "
      ],
      "execution_count": null,
      "outputs": []
    },
    {
      "cell_type": "code",
      "metadata": {
        "colab": {
          "base_uri": "https://localhost:8080/"
        },
        "id": "SJ0Yq8k49ARY",
        "outputId": "2be1ec67-9c2c-461f-e9b5-9f517339a665"
      },
      "source": [
        "strs = [\"eat\",\"tea\",\"tan\",\"ate\",\"nat\",\"bat\"]\n",
        "print(strs)\n",
        "final_ana_arr = []\n",
        "temp_ana_arr = []\n",
        "checked_vals = []\n",
        "for i in range(len(strs)):\n",
        "  check_val = strs[i]\n",
        "  if check_val not in final_ana_arr: temp_ana_arr.append(check_val)\n",
        "  for val in strs[i+1:]:\n",
        "    print(val)\n",
        "    if check_val != val or sorted(check_val)==sorted(val):\n",
        "      if val not in final_ana_arr: temp_ana_arr.append(val)\n",
        "  if temp_ana_arr!=[]:\n",
        "    final_ana_arr.append(temp_ana_arr)\n",
        "    temp_ana_arr = []\n",
        "print(final_ana_arr)"
      ],
      "execution_count": null,
      "outputs": [
        {
          "output_type": "stream",
          "text": [
            "['eat', 'tea', 'tan', 'ate', 'nat', 'bat']\n",
            "tea\n",
            "tan\n",
            "ate\n",
            "nat\n",
            "bat\n",
            "tan\n",
            "ate\n",
            "nat\n",
            "bat\n",
            "ate\n",
            "nat\n",
            "bat\n",
            "nat\n",
            "bat\n",
            "bat\n",
            "[['eat', 'tea', 'tan', 'ate', 'nat', 'bat'], ['tea', 'tan', 'ate', 'nat', 'bat'], ['tan', 'ate', 'nat', 'bat'], ['ate', 'nat', 'bat'], ['nat', 'bat'], ['bat']]\n"
          ],
          "name": "stdout"
        }
      ]
    },
    {
      "cell_type": "code",
      "metadata": {
        "colab": {
          "base_uri": "https://localhost:8080/"
        },
        "id": "aFzCqOaNA55b",
        "outputId": "e82d92e1-f1b6-4f5d-8541-37ded4b3ed37"
      },
      "source": [
        "nums = [4,1,2,1,2]\n",
        "print(nums)\n",
        "nums.sort()\n",
        "print(nums)\n",
        "for val in nums:\n",
        "  if nums.count(val) > 1:\n",
        "    return val\n",
        "  else:\n",
        "    continue"
      ],
      "execution_count": null,
      "outputs": [
        {
          "output_type": "stream",
          "text": [
            "[4, 1, 2, 1, 2]\n",
            "[1, 1, 2, 2, 4]\n"
          ],
          "name": "stdout"
        }
      ]
    },
    {
      "cell_type": "code",
      "metadata": {
        "colab": {
          "base_uri": "https://localhost:8080/"
        },
        "id": "YxcAlL4nDLbu",
        "outputId": "b682ecb3-28f7-4c6d-f970-29cb5f687b29"
      },
      "source": [
        "nums1 = [1,2,2,1]\n",
        "nums2 = [2,2]\n",
        "print(nums1)\n",
        "print(nums2)\n"
      ],
      "execution_count": null,
      "outputs": [
        {
          "output_type": "stream",
          "text": [
            "[1, 2, 2, 1]\n",
            "[2, 2]\n"
          ],
          "name": "stdout"
        }
      ]
    },
    {
      "cell_type": "code",
      "metadata": {
        "colab": {
          "base_uri": "https://localhost:8080/"
        },
        "id": "RZhT3mv9RY_z",
        "outputId": "56c97af2-6824-49e2-ec52-a12d6d9163c3"
      },
      "source": [
        "strs = [\"eat\",\"tea\",\"tan\",\"ate\",\"nat\",\"bat\"]\n",
        "#strs = [\"\",\"\"]\n",
        "print(strs)\n",
        "final_ana_arr = []\n",
        "temp_ana_arr = []\n",
        "checked_vals = set()\n",
        "for i in range(len(strs)):\n",
        "  check_val = strs[i]\n",
        "  print(check_val)\n",
        "  # if check_val in checked_vals:\n",
        "  #   #continue\n",
        "  #   print('inside cond')\n",
        "  # else:\n",
        "  for val in strs[i+1:]:\n",
        "      #print(val)\n",
        "      if check_val != val and sorted(check_val)==sorted(val):\n",
        "        if check_val not in temp_ana_arr and check_val not in checked_vals : temp_ana_arr.append(check_val)\n",
        "        temp_ana_arr.append(val)\n",
        "        checked_vals.add(check_val)\n",
        "        checked_vals.add(val)\n",
        "      elif check_val == val:\n",
        "        if check_val not in temp_ana_arr and check_val not in checked_vals : temp_ana_arr.append(check_val)\n",
        "        if val not in temp_ana_arr and val not in checked_vals : temp_ana_arr.append(val)\n",
        "        checked_vals.add(check_val)\n",
        "        checked_vals.add(val)\n",
        "  if temp_ana_arr !=[]:\n",
        "      final_ana_arr.append(temp_ana_arr)\n",
        "      temp_ana_arr = []\n",
        "  elif   check_val not in checked_vals:\n",
        "      temp_ana_arr.append(check_val)\n",
        "      checked_vals.add(check_val)\n",
        "      final_ana_arr.append(temp_ana_arr)\n",
        "      temp_ana_arr = []\n",
        "\n",
        "  print(temp_ana_arr)\n",
        "  print(final_ana_arr)\n",
        "  print(checked_vals)\n",
        "\n",
        "print(final_ana_arr)"
      ],
      "execution_count": null,
      "outputs": [
        {
          "output_type": "stream",
          "text": [
            "['eat', 'tea', 'tan', 'ate', 'nat', 'bat']\n",
            "eat\n",
            "[]\n",
            "[['eat', 'tea', 'ate']]\n",
            "{'eat', 'tea', 'ate'}\n",
            "tea\n",
            "[]\n",
            "[['eat', 'tea', 'ate'], ['ate']]\n",
            "{'eat', 'tea', 'ate'}\n",
            "tan\n",
            "[]\n",
            "[['eat', 'tea', 'ate'], ['ate'], ['tan', 'nat']]\n",
            "{'ate', 'tan', 'nat', 'tea', 'eat'}\n",
            "ate\n",
            "[]\n",
            "[['eat', 'tea', 'ate'], ['ate'], ['tan', 'nat']]\n",
            "{'ate', 'tan', 'nat', 'tea', 'eat'}\n",
            "nat\n",
            "[]\n",
            "[['eat', 'tea', 'ate'], ['ate'], ['tan', 'nat']]\n",
            "{'ate', 'tan', 'nat', 'tea', 'eat'}\n",
            "bat\n",
            "[]\n",
            "[['eat', 'tea', 'ate'], ['ate'], ['tan', 'nat'], ['bat']]\n",
            "{'bat', 'ate', 'tan', 'nat', 'tea', 'eat'}\n",
            "[['eat', 'tea', 'ate'], ['ate'], ['tan', 'nat'], ['bat']]\n"
          ],
          "name": "stdout"
        }
      ]
    },
    {
      "cell_type": "code",
      "metadata": {
        "id": "uTFAZvWWZp_2"
      },
      "source": [
        "  # print(strs)\n",
        "  #       final_ana_arr = []\n",
        "  #       temp_ana_arr = []\n",
        "  #       checked_vals = set()\n",
        "  #       for i in range(len(strs)):\n",
        "  #         check_val = strs[i]\n",
        "  #         print(check_val)\n",
        "  #         if check_val in checked_vals:\n",
        "  #           continue\n",
        "  #         else:\n",
        "  #           for val in strs[i+1:]:\n",
        "  #             #print(val)\n",
        "  #             if check_val != val and sorted(check_val)==sorted(val):\n",
        "  #               if check_val not in temp_ana_arr and check_val not in checked_vals : temp_ana_arr.append(check_val)\n",
        "  #               temp_ana_arr.append(val)\n",
        "  #               checked_vals.add(check_val)\n",
        "  #               checked_vals.add(val)\n",
        "  #           if temp_ana_arr !=[]:\n",
        "  #             final_ana_arr.append(temp_ana_arr)\n",
        "  #             temp_ana_arr = []\n",
        "  #           elif   check_val not in checked_vals:\n",
        "  #             temp_ana_arr.append(check_val)\n",
        "  #             checked_vals.add(check_val)\n",
        "  #             final_ana_arr.append(temp_ana_arr)\n",
        "  #             temp_ana_arr = []\n",
        "\n",
        "  #           print(temp_ana_arr)\n",
        "  #           print(final_ana_arr)\n",
        "  #           print(checked_vals)\n",
        "\n",
        "  #       print(final_ana_arr)\n",
        "  #       return final_ana_arr\n",
        "        \n",
        "        "
      ],
      "execution_count": null,
      "outputs": []
    },
    {
      "cell_type": "code",
      "metadata": {
        "colab": {
          "base_uri": "https://localhost:8080/"
        },
        "id": "g61NvXauGnni",
        "outputId": "09abbd51-64d8-4ed1-f2a0-0d0129391759"
      },
      "source": [
        "#\n",
        "# https://leetcode.com/problems/two-sum/\n",
        "#\n",
        "\n",
        "nums = [2,7,11,15]\n",
        "target = 9\n",
        "index_arr = []\n",
        "for i in range (len(nums)):\n",
        "  val1 = target - nums[i]\n",
        "  if val1 in nums[i+1:] :  \n",
        "    index_arr.append(i)\n",
        "    index_arr.append(nums.index(val1))\n",
        "\n",
        "print(index_arr)"
      ],
      "execution_count": null,
      "outputs": [
        {
          "output_type": "stream",
          "text": [
            "[0, 1]\n"
          ],
          "name": "stdout"
        }
      ]
    },
    {
      "cell_type": "code",
      "metadata": {
        "colab": {
          "base_uri": "https://localhost:8080/"
        },
        "id": "ZFH9FK0PL5zE",
        "outputId": "a6ade716-8b89-4802-ebf5-dd2a68e9204f"
      },
      "source": [
        "# nums1 = [1,2]\n",
        "# nums2 = [3,4]\n",
        "# nums1 = [0,0]\n",
        "# nums2 = [0,0]\n",
        "# nums1 = []\n",
        "# nums2 = [1]\n",
        "# nums1 = [2]\n",
        "# nums2 = []\n",
        "nums1 = [1,3]\n",
        "nums2 = [2]\n",
        "\n",
        "\n",
        "unified_nums = []\n",
        "unified_nums.extend(nums1)\n",
        "unified_nums.extend(nums2)\n",
        "unified_nums.sort()\n",
        "print(unified_nums)\n",
        "median_index = int(len(unified_nums)/2)\n",
        "print(median_index)\n",
        "if median_index > 1 or len(unified_nums) > 1:\n",
        "  if len(unified_nums) % 2 == 0 : \n",
        "    print('odd')\n",
        "    val1 = unified_nums[median_index-1]\n",
        "    val2 = unified_nums[median_index]\n",
        "    median_val = (val1+val2)/2\n",
        "  else: \n",
        "    print('even')\n",
        "    val1 = unified_nums[median_index]\n",
        "    median_val = val1\n",
        "else:\n",
        "  val1 = unified_nums[median_index-1]\n",
        "  median_val = val1\n",
        "\n",
        "print(median_val)\n",
        "print('{0:.5f}'.format(median_val))"
      ],
      "execution_count": null,
      "outputs": [
        {
          "output_type": "stream",
          "text": [
            "[1, 2, 3]\n",
            "1\n",
            "even\n",
            "2\n",
            "2.00000\n"
          ],
          "name": "stdout"
        }
      ]
    },
    {
      "cell_type": "code",
      "metadata": {
        "colab": {
          "base_uri": "https://localhost:8080/"
        },
        "id": "2hQ3Q_bvuN4i",
        "outputId": "c7e69787-fd11-427a-8b2e-1b91afd660b0"
      },
      "source": [
        "l1 = [2,4,3]\n",
        "l2 = [5,6,4]\n",
        "l1.reverse()\n",
        "l2.reverse()\n",
        "str_l1 = ''\n",
        "str_l2 = ''\n",
        "result_arr = []\n",
        "for val in l1:\n",
        "  str_l1+=str(val)\n",
        "for val in l2:\n",
        "  str_l2+=str(val)\n",
        "\n",
        "str_sum = int(str_l1)+int(str_l2)\n",
        "\n",
        "for val in str(str_sum):\n",
        "  result_arr.insert(0,int(val))\n",
        "\n",
        "print(result_arr)\n"
      ],
      "execution_count": null,
      "outputs": [
        {
          "output_type": "stream",
          "text": [
            "[7, 0, 8]\n"
          ],
          "name": "stdout"
        }
      ]
    },
    {
      "cell_type": "code",
      "metadata": {
        "id": "0mUt_Mwiwe9C"
      },
      "source": [
        "TypeError: 'ListNode' object is not iterable\n",
        "    list(l1).reverse()\n",
        "Line 8 in addTwoNumbers (Solution.py)\n",
        "    ret = Solution().addTwoNumbers(param_1, param_2)\n",
        "Line 48 in _driver (Solution.py)\n",
        "    _driver()\n",
        "Line 59 in <module> (Solution.py)"
      ],
      "execution_count": null,
      "outputs": []
    },
    {
      "cell_type": "code",
      "metadata": {
        "id": "-i8DksFJ63K8"
      },
      "source": [
        "# import re\n",
        "# verbose_item_pattern = re.compile(r\"\"\"\n",
        "#     $            # end of line boundary\n",
        "#     \\s{1,2}      # 1-or-2 whitespace character, including the newline\n",
        "#     I            # a capital I\n",
        "#     [tT][eE][mM] # one character from each of the three sets this allows for unknown case\n",
        "#     \\s+          # 1-or-more whitespaces INCLUDING newline\n",
        "#     \\d{1,2}      # 1-or-2 digits\n",
        "#     [.]?         # 0-or-1 literal .\n",
        "#     \\(?          # 0-or-1 literal open paren\n",
        "#     [a-e]?       # 0-or-1 letter in the range a-e\n",
        "#     \\)?          # 0-or-1 closing paren\n",
        "#     .*           # any number of unknown characters so we can have words and punctuation\n",
        "#     [^0-9]       # anything but [0-9]\n",
        "#     $            # end of line boundary\n",
        "#     \"\"\", re.VERBOSE|re.MULTILINE)\n",
        "\n",
        "# x = verbose_item_pattern.search(\"\"\"\n",
        "#  Item 1.0(a) foo bar\n",
        "# \"\"\")\n",
        "\n",
        "# print(x)"
      ],
      "execution_count": null,
      "outputs": []
    },
    {
      "cell_type": "code",
      "metadata": {
        "colab": {
          "base_uri": "https://localhost:8080/"
        },
        "id": "OMGDW9AkwgZo",
        "outputId": "451ea87f-13f6-439b-ce1d-5aca38288807"
      },
      "source": [
        "#\n",
        "# https://leetcode.com/problems/regular-expression-matching/\n",
        "#\n",
        "\n",
        "s = \"mississippi\"\n",
        "p = \"mis*is*p*.\"\n",
        "import re\n",
        "# s = 'aa'\n",
        "# p = 'a*'\n",
        "\n",
        "print(s)\n",
        "print(p)\n",
        "\n",
        "# validator_status = re.compile(p)\n",
        "# print(validator_status)\n",
        "# validator_status_result = validator_status.search(s)\n",
        "# print(validator_status_result)\n",
        "\n",
        "if '*' not in p and '.' not in p :\n",
        "  if s == p : print(\"true\")\n",
        "  else : print('False')\n",
        "else:\n",
        "  j = 0\n",
        "  for i in range(len(p)-1):\n",
        "    print(p[i])\n",
        "    print(p[i+1])\n",
        "    #j = i\n",
        "    if (p[i]!='*' or p[i]!='.') and (p[i+1]!='*' or p[i+1]!='.') :\n",
        "      print(\"only symbol\")\n",
        "      if p[i] == s[j] : print(\"True\")\n",
        "      else : print(\"False\")\n",
        "    else:\n",
        "    #elif (p[i]!='*' or p[i]!='.') and (p[i+1]=='*' or p[i+1]=='.'):\n",
        "      print(\"First Char and second symbol\")\n",
        "      temp_flag = True\n",
        "      while(temp_flag):\n",
        "        if p[i] == s[j] : \n",
        "          print(\"True\")\n",
        "          j+=1\n",
        "        else:\n",
        "          temp_flag = False\n",
        "\n",
        "      \n",
        "        \n",
        "\n"
      ],
      "execution_count": null,
      "outputs": [
        {
          "output_type": "stream",
          "text": [
            "mississippi\n",
            "mis*is*p*.\n",
            "m\n",
            "i\n",
            "only symbol\n",
            "True\n",
            "i\n",
            "s\n",
            "only symbol\n",
            "False\n",
            "s\n",
            "*\n",
            "only symbol\n",
            "False\n",
            "*\n",
            "i\n",
            "only symbol\n",
            "False\n",
            "i\n",
            "s\n",
            "only symbol\n",
            "False\n",
            "s\n",
            "*\n",
            "only symbol\n",
            "False\n",
            "*\n",
            "p\n",
            "only symbol\n",
            "False\n",
            "p\n",
            "*\n",
            "only symbol\n",
            "False\n",
            "*\n",
            ".\n",
            "only symbol\n",
            "False\n"
          ],
          "name": "stdout"
        }
      ]
    },
    {
      "cell_type": "code",
      "metadata": {
        "colab": {
          "base_uri": "https://localhost:8080/"
        },
        "id": "g1jZ4AqoSM3D",
        "outputId": "c9d92c75-5383-4b91-8f06-f0948e8d5415"
      },
      "source": [
        "#s = \"pwwkew\"\n",
        "#s = \"bbbbb\"\n",
        "#s = \"abcabcbb\"\n",
        "#s = \"\"\n",
        "s = \"aab\"\n",
        "print(s)\n",
        "longtest_substr = ''\n",
        "substr_arr = []\n",
        "for i in range(len(s)):\n",
        "  print(s[:i])\n",
        "  print(s[i:1:])\n",
        "  if s[i] not in longtest_substr : longtest_substr+=s[i]\n",
        "  elif s[i] in longtest_substr and s[i] not in s[i:0:] : longtest_substr+=s[i]\n",
        "  else : \n",
        "    substr_arr.append(longtest_substr)\n",
        "    longtest_substr = ''\n",
        "if longtest_substr!='' and longtest_substr not in substr_arr : substr_arr.append(longtest_substr)\n",
        "print(longtest_substr)\n",
        "print(substr_arr)\n",
        "substr_arr.sort()\n",
        "print(substr_arr)\n",
        "if substr_arr == []:\n",
        "  print(0)\n",
        "else:\n",
        "  print(len(substr_arr[0]))"
      ],
      "execution_count": null,
      "outputs": [
        {
          "output_type": "stream",
          "text": [
            "aab\n",
            "\n",
            "a\n",
            "a\n",
            "\n",
            "aa\n",
            "\n",
            "aab\n",
            "['aab']\n",
            "['aab']\n",
            "3\n"
          ],
          "name": "stdout"
        }
      ]
    },
    {
      "cell_type": "code",
      "metadata": {
        "id": "9--1zsc1pstj"
      },
      "source": [
        "s = \"aab\"\n",
        "print(s)\n",
        "longtest_substr = ''\n",
        "substr_arr = []\n"
      ],
      "execution_count": null,
      "outputs": []
    },
    {
      "cell_type": "code",
      "metadata": {
        "colab": {
          "base_uri": "https://localhost:8080/"
        },
        "id": "S7Fj8riaqzn4",
        "outputId": "18e19927-e7b7-445d-830f-fa61167db6fa"
      },
      "source": [
        " s = \"([)]\"\n",
        " print(s)\n",
        " open_b ='({['\n",
        " close_b = ')}]'\n",
        " return_flag = False\n",
        " for i in range(len(s)):\n",
        "   if s[i] in open_b: \n",
        "     index_val = open_b.index(s[i])\n",
        "     if close_b[index_val] in s[i+1:]:\n",
        "       "
      ],
      "execution_count": null,
      "outputs": [
        {
          "output_type": "stream",
          "text": [
            "([)]\n"
          ],
          "name": "stdout"
        }
      ]
    },
    {
      "cell_type": "code",
      "metadata": {
        "colab": {
          "base_uri": "https://localhost:8080/"
        },
        "id": "E0CNf_W4s_2i",
        "outputId": "ce8a9626-92c7-48ad-eea6-d2d1446ab7fa"
      },
      "source": [
        "s = \"([)]\"\n",
        "s = \"()[]{}\"\n",
        "s = \"{[]}\"\n",
        "print(s)\n",
        "close_b = ')}]'\n",
        "rev_order = ''\n",
        "mid_index = 0\n",
        "#  for val in s: \n",
        "#    if val == '(': rev_order=')'+rev_order\n",
        "#    elif val == '{': rev_order='}'+rev_order\n",
        "#    elif val == '[': rev_order=']'+rev_order\n",
        "#    elif val in close_b : print(\"Wrong pattern\")\n",
        "#    mid_index = s.index(val)\n",
        "for i in range(len(s)):\n",
        "  if s[i]=='(':     \n",
        "    if s[i+1]!=')': rev_order=')'+rev_order\n",
        "  elif s[i]=='{':     \n",
        "    if s[i+1]!='}': rev_order='}'+rev_order\n",
        "  elif s[i]=='[':     \n",
        "    if s[i+1]!=']': rev_order=']'+rev_order\n",
        "\n",
        "print(rev_order)\n",
        "print(\"8888\")\n",
        "print(s[mid_index:])\n",
        "if rev_order != '' :\n",
        "  if rev_order == s[mid_index:]:\n",
        "    print(\"Correct\")\n",
        "  else:\n",
        "    print(\"Wrong\")\n",
        "else:\n",
        "  print(\"Correct\")\n",
        "\n"
      ],
      "execution_count": null,
      "outputs": [
        {
          "output_type": "stream",
          "text": [
            "{[]}\n",
            "}\n",
            "8888\n",
            "{[]}\n",
            "Wrong\n"
          ],
          "name": "stdout"
        }
      ]
    },
    {
      "cell_type": "code",
      "metadata": {
        "id": "yg_5FI94wPw-"
      },
      "source": [
        "s = ')'\n",
        "s.insert(0,']')\n",
        "print(s)"
      ],
      "execution_count": null,
      "outputs": []
    },
    {
      "cell_type": "code",
      "metadata": {
        "colab": {
          "base_uri": "https://localhost:8080/"
        },
        "id": "k1EPh8oNBp1g",
        "outputId": "020b0f17-30cf-476c-d26d-a7d8a942665f"
      },
      "source": [
        "s = \"([)]\"\n",
        "s = \"()[]{}\"\n",
        "s = \"{[]}\"\n",
        "brackets = ['()', '{}', '[]'] \n",
        "#print(x in s for x in brackets)\n",
        "while any(x in s for x in brackets):\n",
        "  #print(x)\n",
        "  for br in brackets:\n",
        "    s = s.replace(br,'')\n",
        "print(s)\n",
        "if s == '' : print(\"Balanced\")\n",
        "else: print(\"Unbalanced\")\n"
      ],
      "execution_count": null,
      "outputs": [
        {
          "output_type": "stream",
          "text": [
            "\n",
            "Balanced\n"
          ],
          "name": "stdout"
        }
      ]
    },
    {
      "cell_type": "code",
      "metadata": {
        "colab": {
          "base_uri": "https://localhost:8080/"
        },
        "id": "nmL3S_vnEpa4",
        "outputId": "da9ccc57-c146-4851-9a00-bae09f2bf1d1"
      },
      "source": [
        "l1 = [1,2,4]\n",
        "l2 = [1,3,4]\n",
        "merged_l3 = []\n",
        "merged_l3.extend(l1)\n",
        "merged_l3.extend(l2)\n",
        "print(sorted(merged_l3))"
      ],
      "execution_count": null,
      "outputs": [
        {
          "output_type": "stream",
          "text": [
            "[1, 1, 2, 3, 4, 4]\n"
          ],
          "name": "stdout"
        }
      ]
    },
    {
      "cell_type": "code",
      "metadata": {
        "id": "Hu_M7eQ8KrWQ"
      },
      "source": [
        "n = 3 \n"
      ],
      "execution_count": null,
      "outputs": []
    },
    {
      "cell_type": "markdown",
      "metadata": {
        "id": "dhlFZ5FxEpSZ"
      },
      "source": []
    },
    {
      "cell_type": "code",
      "metadata": {
        "colab": {
          "base_uri": "https://localhost:8080/"
        },
        "id": "O_n-RXEJ3U7W",
        "outputId": "ded67eda-5d0c-4cd7-81f9-f2cb67b6db31"
      },
      "source": [
        "haystack = \"hello\"\n",
        "needle = \"ll\"\n",
        "\n",
        "haystack = \"aaaaa\"\n",
        "needle = \"bba\"\n",
        "\n",
        "haystack = \"\"\n",
        "needle = \"\"\n",
        "\n",
        "\n",
        "try : \n",
        "  val = haystack.index(needle)\n",
        "  print(val)\n",
        "except:\n",
        "  val = -1\n",
        "\n",
        "print(val)"
      ],
      "execution_count": null,
      "outputs": [
        {
          "output_type": "stream",
          "text": [
            "0\n",
            "0\n"
          ],
          "name": "stdout"
        }
      ]
    },
    {
      "cell_type": "markdown",
      "metadata": {
        "id": "S49C3blk3ttq"
      },
      "source": []
    },
    {
      "cell_type": "code",
      "metadata": {
        "colab": {
          "base_uri": "https://localhost:8080/"
        },
        "id": "uKY3GUb13raL",
        "outputId": "5a1ae5a9-2c4b-41ee-a5de-25588c1bc786"
      },
      "source": [
        "#\n",
        "# https://leetcode.com/problems/longest-valid-parentheses/\n",
        "#\n",
        "\n",
        "\n",
        "s = \")()())\"\n",
        "print(s)\n"
      ],
      "execution_count": null,
      "outputs": [
        {
          "output_type": "stream",
          "text": [
            ")()())\n"
          ],
          "name": "stdout"
        }
      ]
    },
    {
      "cell_type": "code",
      "metadata": {
        "colab": {
          "base_uri": "https://localhost:8080/"
        },
        "id": "sFwHXEsitrnt",
        "outputId": "2ec073d1-09cb-477f-a74f-f6d73ebc7ff4"
      },
      "source": [
        "s = \"aacecaaa\"\n",
        "print(s)\n"
      ],
      "execution_count": null,
      "outputs": [
        {
          "output_type": "stream",
          "text": [
            "aacecaaa\n"
          ],
          "name": "stdout"
        }
      ]
    },
    {
      "cell_type": "code",
      "metadata": {
        "colab": {
          "base_uri": "https://localhost:8080/"
        },
        "id": "MdWPvfJavRa-",
        "outputId": "895e5bba-d922-4bae-eb91-a4b778a75792"
      },
      "source": [
        "#\n",
        "# https://leetcode.com/problems/combination-sum/\n",
        "#\n",
        "\n",
        "candidates = [2,3,5]\n",
        "target = 8\n",
        "\n",
        "candidates = [2]\n",
        "target = 1\n",
        "\n",
        "candidates = [1]\n",
        "target = 1\n",
        "\n",
        "candidates = [2,7,6,3,5,1]\n",
        "target = 9\n",
        "\n",
        "temp_combo = []\n",
        "total_combo = []\n",
        "candidates.sort()\n",
        "\n",
        "print(target/candidates[0])\n",
        "print(candidates)\n",
        "\n",
        "for i in range(len(candidates)):\n",
        "  print(candidates[:i+1])\n",
        "  for j in range(len(candidates[:i+1])):\n",
        "    #print(candidates[:i+1][j])\n",
        "    if target%candidates[:i+1][j] == 0 :\n",
        "      var1 = int(target/candidates[:i+1][j])\n",
        "      for temp_var1 in range(var1):\n",
        "        temp_combo.append(candidates[:i+1][j])\n",
        "      if temp_combo not in total_combo : total_combo.append(temp_combo)\n",
        "      temp_combo = []\n",
        "  if sum(candidates[:i+1]) < target : \n",
        "    val1 = target - sum(candidates[:i+1])\n",
        "    print(val1)\n",
        "    for val2 in candidates[:i+1]:\n",
        "      temp_combo.append(val2)\n",
        "    \n",
        "    for val3 in candidates[:i+1]:\n",
        "      if val1%val3 == 0 :\n",
        "        val4 = int(val1/val3)\n",
        "        for val5 in range(val4):\n",
        "          temp_combo.append(val3)\n",
        "      if temp_combo not in total_combo : total_combo.append(temp_combo)\n",
        "      temp_combo = []\n",
        "\n",
        "# for i in range(len(candidates)):\n",
        "#   print(candidates[i])\n",
        "#   if target%candidates[i] == 0 : \n",
        "#     var1 = int(target/candidates[i])\n",
        "#     for temp_var1 in range(var1):\n",
        "#       temp_combo.append(candidates[i])\n",
        "#     if temp_combo != []:\n",
        "#       total_combo.append(temp_combo)\n",
        "#       temp_combo = []\n",
        "#   if i != len(candidates)-1 : \n",
        "#       print('here')\n",
        "#       val1 = target - (candidates[i]+candidates[i+1])\n",
        "#       print(val1)\n",
        "#       if val1 in candidates: \n",
        "#         temp_combo.append(candidates[i])\n",
        "#         temp_combo.append(candidates[i+1])\n",
        "#         temp_combo.append(val1)\n",
        "#         total_combo.append(temp_combo)\n",
        "#         temp_combo = []\n",
        "#   #else: \n",
        "#   val = target - candidates[i]\n",
        "#   print(val)\n",
        "#   if val in candidates[i+1:] : \n",
        "#     temp_combo.append(candidates[i])\n",
        "#     temp_combo.append(val)\n",
        "#     total_combo.append(temp_combo)\n",
        "#     temp_combo = []\n",
        "    \n",
        "\n",
        "\n",
        "print(temp_combo)\n",
        "print(total_combo)"
      ],
      "execution_count": null,
      "outputs": [
        {
          "output_type": "stream",
          "text": [
            "9.0\n",
            "[1, 2, 3, 5, 6, 7]\n",
            "[1]\n",
            "8\n",
            "[1, 2]\n",
            "6\n",
            "[1, 2, 3]\n",
            "3\n",
            "[1, 2, 3, 5]\n",
            "[1, 2, 3, 5, 6]\n",
            "[1, 2, 3, 5, 6, 7]\n",
            "[]\n",
            "[[1, 1, 1, 1, 1, 1, 1, 1, 1], [1, 2, 1, 1, 1, 1, 1, 1], [2, 2, 2], [3, 3, 3], [1, 2, 3, 1, 1, 1], [], [3]]\n"
          ],
          "name": "stdout"
        }
      ]
    },
    {
      "cell_type": "markdown",
      "metadata": {
        "id": "2zZIB_q61o-_"
      },
      "source": [
        "[[1,1,1,1,1,1,1,1,1],[1,1,1,1,1,1,1,2],[1,1,1,1,1,1,3],[1,1,1,1,1,2,2],[1,1,1,1,2,3],[1,1,1,1,5],[1,1,1,2,2,2],[1,1,1,3,3],[1,1,1,6],[1,1,2,2,3],[1,1,2,5],[1,1,7],[1,2,2,2,2],[1,2,3,3],[1,2,6],[1,3,5],[2,2,2,3],[2,2,5],[2,7],[3,3,3],[3,6]]"
      ]
    },
    {
      "cell_type": "code",
      "metadata": {
        "colab": {
          "base_uri": "https://localhost:8080/"
        },
        "id": "uQzN3GNlBo2Q",
        "outputId": "8f19f3a7-7256-466a-ab49-106f0d03d2b9"
      },
      "source": [
        "candidates = [2,7,6,3,5,1]\n",
        "target = 9\n",
        "\n",
        "temp_combo = []\n",
        "total_combo = []\n",
        "temp_rem_Arr = []\n",
        "candidates.sort()\n",
        "\n",
        "print(candidates)\n",
        "\n",
        "for i in range(len(candidates)):\n",
        "  print(candidates[i])\n",
        "  if target%candidates[i] == 0 : \n",
        "    print('divisible')\n",
        "    print(int(target/candidates[i]))\n",
        "    for j in range(int(target/candidates[i])):\n",
        "      temp_combo.append(candidates[i])\n",
        "    if temp_combo!=[]and temp_combo not in total_combo : total_combo.append(temp_combo)\n",
        "    temp_combo = []\n",
        "\n",
        "  # [1, 2, 3, 5, 6, 7]\n",
        "  else :\n",
        "    var1 =  int(target/candidates[i])\n",
        "    print(var1)\n",
        "    remainder = target - var1*candidates[i]\n",
        "    print(remainder)\n",
        "    if remainder in candidates:\n",
        "      temp_combo.append(remainder)\n",
        "    for var2 in range(var1):\n",
        "      temp_combo.append(candidates[i]) \n",
        "    if temp_combo!=[]and temp_combo not in total_combo : total_combo.append(temp_combo)\n",
        "    temp_combo = []\n",
        "\n",
        "\n",
        "print(temp_combo)\n",
        "print(total_combo)"
      ],
      "execution_count": null,
      "outputs": [
        {
          "output_type": "stream",
          "text": [
            "[1, 2, 3, 5, 6, 7]\n",
            "1\n",
            "divisible\n",
            "9\n",
            "2\n",
            "4\n",
            "1\n",
            "3\n",
            "divisible\n",
            "3\n",
            "5\n",
            "1\n",
            "4\n",
            "6\n",
            "1\n",
            "3\n",
            "7\n",
            "1\n",
            "2\n",
            "[]\n",
            "[[1, 1, 1, 1, 1, 1, 1, 1, 1], [1, 2, 2, 2, 2], [3, 3, 3], [5], [3, 6], [2, 7]]\n"
          ],
          "name": "stdout"
        }
      ]
    },
    {
      "cell_type": "code",
      "metadata": {
        "colab": {
          "base_uri": "https://localhost:8080/"
        },
        "id": "ZzOuFP6Irw9N",
        "outputId": "67eb64ba-8da4-4bbc-fa4b-f4ce97c31a3d"
      },
      "source": [
        "from itertools import chain, combinations\n",
        "def all_subsets(ss):\n",
        "    return chain(*map(lambda x: combinations(ss, x), range(0, len(ss)+1)))\n",
        "\n",
        "stuff = '()'\n",
        "print(len(stuff))\n",
        "\n",
        "for subset in all_subsets(stuff):\n",
        "    print(subset)"
      ],
      "execution_count": null,
      "outputs": [
        {
          "output_type": "stream",
          "text": [
            "2\n",
            "()\n",
            "('(',)\n",
            "(')',)\n",
            "('(', ')')\n"
          ],
          "name": "stdout"
        }
      ]
    },
    {
      "cell_type": "code",
      "metadata": {
        "colab": {
          "base_uri": "https://localhost:8080/"
        },
        "id": "Y2QJdulCyvat",
        "outputId": "0d192dcb-db32-4e50-f734-f75b53d822ba"
      },
      "source": [
        "x = -121\n",
        "print(str(x)[::-1])\n",
        "rev_x = str(x)[::-1]\n",
        "if str(x) == str(rev_x):\n",
        "  print(\"True\")\n",
        "else:\n",
        "  print(\"False\")"
      ],
      "execution_count": null,
      "outputs": [
        {
          "output_type": "stream",
          "text": [
            "121-\n",
            "False\n"
          ],
          "name": "stdout"
        }
      ]
    },
    {
      "cell_type": "code",
      "metadata": {
        "colab": {
          "base_uri": "https://localhost:8080/"
        },
        "id": "sCB216fo01xI",
        "outputId": "2a87d603-8d90-42f2-811d-4e1815013406"
      },
      "source": [
        "address = \"255.100.50.0\"\n",
        "print(address.replace(\".\",\"[.]\"))\n",
        "\n",
        "print(address)\n",
        "\n",
        "str1 = \" this is good\"\n",
        "str1.replace('this', 'that')\n",
        "print(str1)"
      ],
      "execution_count": null,
      "outputs": [
        {
          "output_type": "stream",
          "text": [
            "255[.]100[.]50[.]0\n",
            "255.100.50.0\n",
            " this is good\n"
          ],
          "name": "stdout"
        }
      ]
    },
    {
      "cell_type": "code",
      "metadata": {
        "colab": {
          "base_uri": "https://localhost:8080/",
          "height": 283
        },
        "id": "IZv166Vh4oJh",
        "outputId": "19241332-2b70-413c-93af-59fb66c5fa1d"
      },
      "source": [
        "height = [1,8,6,2,5,4,8,3,7]\n",
        "print(height)\n",
        "max_area_arr =[]\n",
        "\n",
        "max_index = height.index(max(height))\n",
        "print(max_index)\n",
        "\n",
        "print(height[max_index+1:])\n",
        "sub_arr = height[max_index+1:]\n",
        "print(list(sub_arr).index((height[max_index+1])))\n",
        "\n",
        "\n",
        "\n",
        "# sub_max_index = height[max_index+1:].index(max(height[max_index+1]))\n",
        "# print(sub_max_index)\n",
        "\n",
        "# for val in height[max_index+1]:\n",
        "#   if val<\n",
        "\n",
        "# for i in range(len(height)):\n",
        "#   temp_arr = []\n",
        "#   for val in height[i+1:]:\n",
        "#     temp_arr.append(val*height[i])\n",
        "#   max_area_arr.append(max(temp_arr))\n",
        "\n",
        "\n",
        "\n",
        "\n",
        "\n",
        "  # for j in range(len(height)):\n",
        "  #   val = height[i]*height[j]\n",
        "  #   print(val)\n",
        "  #   if val not in max_area_arr : max_area_arr.append(val)\n",
        "\n",
        "  # print(temp_arr)\n",
        "  # print(max_area_arr)\n",
        "  # print(max(max_area_arr))\n"
      ],
      "execution_count": null,
      "outputs": [
        {
          "output_type": "stream",
          "text": [
            "[1, 8, 6, 2, 5, 4, 8, 3, 7]\n",
            "1\n",
            "[6, 2, 5, 4, 8, 3, 7]\n"
          ],
          "name": "stdout"
        },
        {
          "output_type": "error",
          "ename": "TypeError",
          "evalue": "ignored",
          "traceback": [
            "\u001b[0;31m---------------------------------------------------------------------------\u001b[0m",
            "\u001b[0;31mTypeError\u001b[0m                                 Traceback (most recent call last)",
            "\u001b[0;32m<ipython-input-3-b247d0c211a9>\u001b[0m in \u001b[0;36m<module>\u001b[0;34m()\u001b[0m\n\u001b[1;32m      8\u001b[0m \u001b[0mprint\u001b[0m\u001b[0;34m(\u001b[0m\u001b[0mheight\u001b[0m\u001b[0;34m[\u001b[0m\u001b[0mmax_index\u001b[0m\u001b[0;34m+\u001b[0m\u001b[0;36m1\u001b[0m\u001b[0;34m:\u001b[0m\u001b[0;34m]\u001b[0m\u001b[0;34m)\u001b[0m\u001b[0;34m\u001b[0m\u001b[0;34m\u001b[0m\u001b[0m\n\u001b[1;32m      9\u001b[0m \u001b[0msub_arr\u001b[0m \u001b[0;34m=\u001b[0m \u001b[0mheight\u001b[0m\u001b[0;34m[\u001b[0m\u001b[0mmax_index\u001b[0m\u001b[0;34m+\u001b[0m\u001b[0;36m1\u001b[0m\u001b[0;34m:\u001b[0m\u001b[0;34m]\u001b[0m\u001b[0;34m\u001b[0m\u001b[0;34m\u001b[0m\u001b[0m\n\u001b[0;32m---> 10\u001b[0;31m \u001b[0mprint\u001b[0m\u001b[0;34m(\u001b[0m\u001b[0mlist\u001b[0m\u001b[0;34m(\u001b[0m\u001b[0msub_arr\u001b[0m\u001b[0;34m)\u001b[0m\u001b[0;34m.\u001b[0m\u001b[0mindex\u001b[0m\u001b[0;34m(\u001b[0m\u001b[0mmax\u001b[0m\u001b[0;34m(\u001b[0m\u001b[0mheight\u001b[0m\u001b[0;34m[\u001b[0m\u001b[0mmax_index\u001b[0m\u001b[0;34m+\u001b[0m\u001b[0;36m1\u001b[0m\u001b[0;34m]\u001b[0m\u001b[0;34m)\u001b[0m\u001b[0;34m)\u001b[0m\u001b[0;34m)\u001b[0m\u001b[0;34m\u001b[0m\u001b[0;34m\u001b[0m\u001b[0m\n\u001b[0m\u001b[1;32m     11\u001b[0m \u001b[0;34m\u001b[0m\u001b[0m\n\u001b[1;32m     12\u001b[0m \u001b[0;34m\u001b[0m\u001b[0m\n",
            "\u001b[0;31mTypeError\u001b[0m: 'int' object is not iterable"
          ]
        }
      ]
    },
    {
      "cell_type": "code",
      "metadata": {
        "colab": {
          "base_uri": "https://localhost:8080/"
        },
        "id": "WXu6KlJp8yPz",
        "outputId": "e95af034-7bcd-440e-f729-0fa34d66b45b"
      },
      "source": [
        "arr = [1,4,2,5,3,4,7]\n",
        "print(arr)\n",
        "odd_sum = 0\n",
        "len_arr = len(arr)\n",
        "len_arr_arr = list(range(1,len_arr+1,2))\n",
        "print(len_arr_arr)\n",
        "# odd_sum+=sum(arr)\n",
        "print(odd_sum)\n",
        "odd_flag = False\n",
        "if len_arr > 2 : odd_cnt = 3\n",
        "start_index = 0 \n",
        "\n",
        "for (i,val) in enumerate(len_arr_arr): \n",
        "  odd_cnt = val \n",
        "  start_index = 0\n",
        "  while odd_cnt <= len_arr : \n",
        "    #print('here - while loop')\n",
        "    print(arr[start_index:odd_cnt])\n",
        "    odd_sum+=sum(arr[start_index:odd_cnt])\n",
        "    odd_cnt+=1\n",
        "    start_index+=1\n",
        "    #print(odd_sum)\n",
        "    print(odd_cnt)\n",
        "print(odd_sum)\n",
        "\n",
        "# while odd_flag!=True:\n",
        "#   print('here 1')\n",
        "#   if odd_cnt<=len_arr: \n",
        "#     print('here')\n",
        "#     odd_sum+=sum(arr[start_index:odd_cnt])\n",
        "#     start_index+=1\n",
        "#     odd_cnt+=2\n",
        "#   if odd_cnt == len_arr : \n",
        "#     start_index = 0\n",
        "#     odd_cnt = 5\n",
        "#     odd_flag = True\n",
        "\n",
        "\n",
        "# print(odd_sum)"
      ],
      "execution_count": null,
      "outputs": [
        {
          "output_type": "stream",
          "text": [
            "[1, 4, 2, 5, 3, 4, 7]\n",
            "[1, 3, 5, 7]\n",
            "0\n",
            "[1]\n",
            "2\n",
            "[4]\n",
            "3\n",
            "[2]\n",
            "4\n",
            "[5]\n",
            "5\n",
            "[3]\n",
            "6\n",
            "[4]\n",
            "7\n",
            "[7]\n",
            "8\n",
            "[1, 4, 2]\n",
            "4\n",
            "[4, 2, 5]\n",
            "5\n",
            "[2, 5, 3]\n",
            "6\n",
            "[5, 3, 4]\n",
            "7\n",
            "[3, 4, 7]\n",
            "8\n",
            "[1, 4, 2, 5, 3]\n",
            "6\n",
            "[4, 2, 5, 3, 4]\n",
            "7\n",
            "[2, 5, 3, 4, 7]\n",
            "8\n",
            "[1, 4, 2, 5, 3, 4, 7]\n",
            "8\n",
            "160\n"
          ],
          "name": "stdout"
        }
      ]
    },
    {
      "cell_type": "code",
      "metadata": {
        "colab": {
          "base_uri": "https://localhost:8080/"
        },
        "id": "5J2lnPny-1h8",
        "outputId": "1e64e3b3-f402-4114-9adc-91beafe52700"
      },
      "source": [
        "arr = [1,4,2,5,3]\n",
        "print(arr[0:3])"
      ],
      "execution_count": null,
      "outputs": [
        {
          "output_type": "stream",
          "text": [
            "[1, 4, 2]\n"
          ],
          "name": "stdout"
        }
      ]
    },
    {
      "cell_type": "code",
      "metadata": {
        "colab": {
          "base_uri": "https://localhost:8080/"
        },
        "id": "PhDlRP3Vapb3",
        "outputId": "9998d912-f55d-44d6-a3ba-9fe87312ba71"
      },
      "source": [
        "candies = [2,3,5,1,3]\n",
        "extraCandies = 3\n",
        "result_arr = []\n",
        "max_candies = max(candies)\n",
        "\n",
        "for (i,val) in enumerate(candies):\n",
        "  if max_candies-val <= extraCandies : result_arr.append(True)\n",
        "  else: result_arr.append(False)\n",
        "\n",
        "print(result_arr)"
      ],
      "execution_count": null,
      "outputs": [
        {
          "output_type": "stream",
          "text": [
            "[True, True, True, False, True]\n"
          ],
          "name": "stdout"
        }
      ]
    },
    {
      "cell_type": "code",
      "metadata": {
        "colab": {
          "base_uri": "https://localhost:8080/"
        },
        "id": "I_QXQ1WYhrQj",
        "outputId": "113880b3-7d14-4524-a908-b795a82f440b"
      },
      "source": [
        "nums = [1,2,3,4,4,3,2,1]\n",
        "n = 4\n",
        "print(nums[:n])\n",
        "print(nums[n:])\n",
        "new_nums = []\n",
        "for i in range(n):\n",
        "  new_nums.append(nums[:n][i])\n",
        "  new_nums.append(nums[n:][i])\n",
        "\n",
        "print(new_nums)"
      ],
      "execution_count": null,
      "outputs": [
        {
          "output_type": "stream",
          "text": [
            "[1, 2, 3, 4]\n",
            "[4, 3, 2, 1]\n",
            "[1, 4, 2, 3, 3, 2, 4, 1]\n"
          ],
          "name": "stdout"
        }
      ]
    },
    {
      "cell_type": "code",
      "metadata": {
        "colab": {
          "base_uri": "https://localhost:8080/"
        },
        "id": "qGUD2MAtm46o",
        "outputId": "ca139fc1-1b74-4050-9519-26a186d592ce"
      },
      "source": [
        "accounts = [[1,5],[7,3],[3,5]]\n",
        "sum_accounts = []\n",
        "for val in accounts:\n",
        "  sum_accounts.append(sum(val))\n",
        "\n",
        "print(sum_accounts)\n",
        "print(max(sum_accounts))"
      ],
      "execution_count": null,
      "outputs": [
        {
          "output_type": "stream",
          "text": [
            "[6, 10, 8]\n",
            "10\n"
          ],
          "name": "stdout"
        }
      ]
    },
    {
      "cell_type": "code",
      "metadata": {
        "id": "OabIUojIu8f9",
        "colab": {
          "base_uri": "https://localhost:8080/"
        },
        "outputId": "c5a7b75b-b036-4875-8dd3-f3027225af46"
      },
      "source": [
        "# nums = [2,4,3,3,5,4,9,6]\n",
        "# k = 4\n",
        "\n",
        "nums = [3,5,2,6]\n",
        "k = 2\n",
        "\n",
        "# permutations = list((nums[j:][0:k] for j in range(len(nums) - k + 1)))\n",
        "# print(permutations)\n",
        "\n",
        "#https://leetcode.com/problems/find-the-most-competitive-subsequence/\n",
        "\n",
        "print(nums[:])\n",
        "\n",
        "base = []   \n",
        "lists = [base] \n",
        "for i in range(len(nums)): \n",
        "    orig = lists[:] \n",
        "    #print(orig)\n",
        "    new = nums[i] \n",
        "    #print(new)\n",
        "    for j in range(len(lists)): \n",
        "        lists[j] = lists[j] + [new] \n",
        "        #print(lists[j])\n",
        "    lists = orig + lists \n",
        "    #print(lists)\n",
        "\n",
        "print(lists)\n",
        "lists_n = []\n",
        "for val in lists:\n",
        "  #print(len(val))\n",
        "  if len(val) == k : \n",
        "    # print(len(val))\n",
        "    # print(val)\n",
        "    lists_n+=[val]\n",
        "print(sorted(lists_n)[0])\n",
        "\n",
        "# temp_arr = []\n",
        "# for val in lists_n:\n",
        "#   #print(val[:3])\n",
        "#   for val2 in lists_n:\n",
        "#     #print(val[:3][:] in val2[:])\n",
        "#     print(val[:3][:])\n",
        "#     print(val2[:])\n",
        "#     if val[:3] in val2: temp_arr.append(val2)\n",
        "#     print(temp_arr)\n"
      ],
      "execution_count": null,
      "outputs": [
        {
          "output_type": "stream",
          "text": [
            "[3, 5, 2, 6]\n",
            "[[], [3], [5], [3, 5], [2], [3, 2], [5, 2], [3, 5, 2], [6], [3, 6], [5, 6], [3, 5, 6], [2, 6], [3, 2, 6], [5, 2, 6], [3, 5, 2, 6]]\n",
            "[2, 6]\n"
          ],
          "name": "stdout"
        }
      ]
    },
    {
      "cell_type": "code",
      "metadata": {
        "colab": {
          "base_uri": "https://localhost:8080/",
          "height": 35
        },
        "id": "BaV2QLHrmxNH",
        "outputId": "2dbd9ff0-4037-467d-b0c2-a1d38ef81872"
      },
      "source": [
        "%pwd"
      ],
      "execution_count": null,
      "outputs": [
        {
          "output_type": "execute_result",
          "data": {
            "application/vnd.google.colaboratory.intrinsic+json": {
              "type": "string"
            },
            "text/plain": [
              "'/content'"
            ]
          },
          "metadata": {
            "tags": []
          },
          "execution_count": 21
        }
      ]
    },
    {
      "cell_type": "code",
      "metadata": {
        "colab": {
          "base_uri": "https://localhost:8080/"
        },
        "id": "nAc1uQfom1O-",
        "outputId": "268873c5-9180-448e-b853-ff632a60a70e"
      },
      "source": [
        "cd .. "
      ],
      "execution_count": null,
      "outputs": [
        {
          "output_type": "stream",
          "text": [
            "/\n"
          ],
          "name": "stdout"
        }
      ]
    },
    {
      "cell_type": "code",
      "metadata": {
        "id": "8x05LB7nnyn4"
      },
      "source": [
        "from google.colab import drive\n",
        "drive.mount('/content/drive')"
      ],
      "execution_count": null,
      "outputs": []
    },
    {
      "cell_type": "code",
      "metadata": {
        "colab": {
          "base_uri": "https://localhost:8080/"
        },
        "id": "--QtRxgD1A9p",
        "outputId": "4f673812-b966-4637-c52d-3b64d89cf777"
      },
      "source": [
        "\n",
        "nums = [3,5,2,6]\n",
        "k = 2\n",
        "\n",
        "nums = [2,4,3,3,5,4,9,6]\n",
        "k = 4\n",
        "\n",
        "#https://leetcode.com/problems/find-the-most-competitive-subsequence/\n",
        "\n",
        "\n",
        "attempts = len(nums) - k\n",
        "stack = []\n",
        "for num in nums:\n",
        "    while stack and num < stack[-1] and attempts > 0:\n",
        "       stack.pop()\n",
        "       attempts -= 1\n",
        "    stack.append(num)\n",
        "        \n",
        "print(stack[:k])"
      ],
      "execution_count": null,
      "outputs": [
        {
          "output_type": "stream",
          "text": [
            "[2, 3, 3, 4]\n"
          ],
          "name": "stdout"
        }
      ]
    }
  ]
}